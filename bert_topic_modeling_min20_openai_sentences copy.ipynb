{
 "cells": [
  {
   "cell_type": "markdown",
   "id": "dd5231be",
   "metadata": {},
   "source": [
    "as per: https://colab.research.google.com/drive/1BoQ_vakEVtojsd2x_U6-_x52OOuqruj2?usp=sharing#scrollTo=w3WRXoRP2ej8\n"
   ]
  },
  {
   "cell_type": "code",
   "execution_count": 28,
   "id": "b9f62ac4",
   "metadata": {},
   "outputs": [],
   "source": [
    "import os\n",
    "import dotenv\n",
    "import openai\n",
    "import pandas as pd\n",
    "import numpy as np\n",
    "\n",
    "from typing import Text\n",
    "from bertopic import BERTopic\n",
    "from bertopic.backend import OpenAIBackend\n",
    "from nltk.tokenize import sent_tokenize, word_tokenize"
   ]
  },
  {
   "cell_type": "code",
   "execution_count": 29,
   "id": "22dcfa03",
   "metadata": {},
   "outputs": [],
   "source": [
    "MODEL_NAME = \"slop_min15_df1_openai_sentences.ipynb\""
   ]
  },
  {
   "cell_type": "code",
   "execution_count": 30,
   "id": "697ec514",
   "metadata": {},
   "outputs": [],
   "source": [
    "df = pd.read_feather(\"analysis.feather\")\n",
    "documents = df[\"text\"].tolist()"
   ]
  },
  {
   "cell_type": "code",
   "execution_count": 31,
   "id": "e6b0d58e",
   "metadata": {},
   "outputs": [],
   "source": [
    "# comment this out for document-level, leave it in for sentence level\n",
    "sentences = [sent_tokenize(x) for x in documents]\n",
    "documents = [sentence for doc in sentences for sentence in doc]\n",
    "len(documents)\n",
    "\n",
    "df = pd.DataFrame({\"text\": documents})"
   ]
  },
  {
   "cell_type": "code",
   "execution_count": 32,
   "id": "b60c56aa",
   "metadata": {},
   "outputs": [],
   "source": [
    "# use this for the base embeddings\n",
    "# from sentence_transformers import SentenceTransformer\n",
    "\n",
    "# embedding_model = SentenceTransformer(\"all-MiniLM-L6-v2\")\n",
    "# embeddings = embedding_model.encode(documents, show_progress_bar=True)"
   ]
  },
  {
   "cell_type": "code",
   "execution_count": 33,
   "id": "50c0febd",
   "metadata": {},
   "outputs": [
    {
     "data": {
      "text/plain": [
       "(1756, 3072)"
      ]
     },
     "execution_count": 33,
     "metadata": {},
     "output_type": "execute_result"
    }
   ],
   "source": [
    "# use this if you want openai embeddings (better performance)\n",
    "dotenv.load_dotenv()\n",
    "client = openai.OpenAI(api_key=os.environ[\"OPENAI_API_KEY\"])\n",
    "embedding_model = OpenAIBackend(client, \"text-embedding-3-large\")\n",
    "\n",
    "# careful !\n",
    "# no need to compute more than once here\n",
    "# df[\"embedding\"] = df[\"text\"].apply(\n",
    "#     lambda x: client.embeddings.create(model=\"text-embedding-3-large\", input=x)\n",
    "#     .data[0]\n",
    "#     .embedding\n",
    "# )\n",
    "# df.to_feather(\"analysis_with_embeddings_40_sentences.feather\")\n",
    "\n",
    "df = pd.read_feather(\"analysis_with_embeddings_40_sentences.feather\")\n",
    "\n",
    "embeddings = np.array(df[\"embedding\"].tolist())\n",
    "embeddings.shape"
   ]
  },
  {
   "cell_type": "code",
   "execution_count": 34,
   "id": "1ed3418e",
   "metadata": {},
   "outputs": [],
   "source": [
    "# import asyncio\n",
    "# import pandas as pd\n",
    "# from openai import AsyncOpenAI, OpenAIError\n",
    "# from tqdm.asyncio import tqdm_asyncio\n",
    "# import nest_asyncio\n",
    "\n",
    "# # Enable nested event loop support (for Jupyter etc.)\n",
    "# nest_asyncio.apply()\n",
    "\n",
    "# client = AsyncOpenAI()\n",
    "\n",
    "# # Settings\n",
    "# BATCH_SIZE = 10\n",
    "# MAX_RETRIES = 3\n",
    "# RETRY_BACKOFF = 2\n",
    "# CONCURRENCY_LIMIT = 5  # Maximum concurrent OpenAI requests\n",
    "\n",
    "# semaphore = asyncio.Semaphore(CONCURRENCY_LIMIT)\n",
    "\n",
    "# async def embed_batch(texts, attempt=1):\n",
    "#     async with semaphore:\n",
    "#         try:\n",
    "#             response = await client.embeddings.create(\n",
    "#                 model=\"text-embedding-3-large\",\n",
    "#                 input=texts\n",
    "#             )\n",
    "#             return [item.embedding for item in response.data]\n",
    "\n",
    "#         except OpenAIError as e:\n",
    "#             if attempt <= MAX_RETRIES:\n",
    "#                 wait = RETRY_BACKOFF ** attempt\n",
    "#                 print(f\"[Retrying in {wait}s] Error: {e}\")\n",
    "#                 await asyncio.sleep(wait)\n",
    "#                 return await embed_batch(texts, attempt + 1)\n",
    "#             else:\n",
    "#                 print(f\"[Failed after {MAX_RETRIES} attempts] {e}\")\n",
    "#                 return [None] * len(texts)\n",
    "\n",
    "# async def embed_all(texts):\n",
    "#     batches = [texts[i:i + BATCH_SIZE] for i in range(0, len(texts), BATCH_SIZE)]\n",
    "\n",
    "#     tasks = [embed_batch(batch) for batch in batches]\n",
    "#     results = []\n",
    "#     for coro in tqdm_asyncio.gather(*tasks, desc=\"Embedding\", total=len(batches)):\n",
    "#         batch_result = await coro\n",
    "#         results.extend(batch_result)\n",
    "#     return results\n",
    "\n",
    "# async def run_embedding(df):\n",
    "#     texts = df[\"text\"].tolist()\n",
    "#     embeddings = await embed_all(texts)\n",
    "#     df[\"embedding\"] = embeddings\n",
    "#     return df\n",
    "\n",
    "# # Run the whole thing\n",
    "# df = asyncio.run(run_embedding(df))"
   ]
  },
  {
   "cell_type": "code",
   "execution_count": 35,
   "id": "40ed4102",
   "metadata": {},
   "outputs": [
    {
     "name": "stdout",
     "output_type": "stream",
     "text": [
      "Failed embeddings: 0\n"
     ]
    }
   ],
   "source": [
    "num_failed = df[\"embedding\"].apply(lambda x: x is None).sum()\n",
    "print(f\"Failed embeddings: {num_failed}\")"
   ]
  },
  {
   "cell_type": "code",
   "execution_count": 36,
   "id": "413dacd9",
   "metadata": {},
   "outputs": [],
   "source": [
    "from umap import UMAP\n",
    "\n",
    "umap_model = UMAP(\n",
    "    n_neighbors=15, n_components=5, min_dist=0.0, metric=\"cosine\", random_state=42\n",
    ")"
   ]
  },
  {
   "cell_type": "code",
   "execution_count": 37,
   "id": "d9005d1f",
   "metadata": {},
   "outputs": [],
   "source": [
    "from hdbscan import HDBSCAN\n",
    "\n",
    "# A higher min_topic_size will generate fewer topics and a lower min_topic_size will generate more topics.\n",
    "\n",
    "hdbscan_model = HDBSCAN(\n",
    "    min_cluster_size=15,\n",
    "    metric=\"euclidean\",\n",
    "    cluster_selection_method=\"eom\",\n",
    "    prediction_data=True,\n",
    ")"
   ]
  },
  {
   "cell_type": "code",
   "execution_count": 38,
   "id": "43685c78",
   "metadata": {},
   "outputs": [],
   "source": [
    "from sklearn.feature_extraction.text import CountVectorizer\n",
    "\n",
    "vectorizer_model = CountVectorizer(stop_words=\"english\", min_df=1, ngram_range=(1, 2))"
   ]
  },
  {
   "cell_type": "code",
   "execution_count": 39,
   "id": "406202d2",
   "metadata": {},
   "outputs": [],
   "source": [
    "from bertopic.representation import (\n",
    "    KeyBERTInspired,\n",
    "    MaximalMarginalRelevance,\n",
    "    OpenAI,\n",
    "    PartOfSpeech,\n",
    ")\n",
    "\n",
    "# KeyBERT\n",
    "keybert_model = KeyBERTInspired()\n",
    "\n",
    "# Part-of-Speech\n",
    "pos_model = PartOfSpeech(\"en_core_web_sm\")\n",
    "\n",
    "# MMR\n",
    "mmr_model = MaximalMarginalRelevance(diversity=0.3)\n",
    "\n",
    "# GPT\n",
    "prompt = \"\"\"\n",
    "I have a topic that contains the following documents:\n",
    "[DOCUMENTS]\n",
    "\n",
    "The topic is described by the following keywords: [KEYWORDS]\n",
    "\n",
    "Based on the information above, extract a short but highly descriptive topic label of at most 5 words. Make sure it is in the following format:\n",
    "topic: <topic label>\n",
    "\"\"\"\n",
    "openai_model = OpenAI(\n",
    "    client=openai.OpenAI(api_key=os.environ[\"OPENAI_API_KEY\"]),\n",
    "    model=\"gpt-4.1-nano-2025-04-14\",\n",
    "    exponential_backoff=True,\n",
    "    chat=True,\n",
    "    prompt=prompt,\n",
    ")\n",
    "\n",
    "# also consider, in order of pricing (0.010 -> 2.0):\n",
    "# gpt-4.1-nano-2025-04-14\n",
    "# gpt-4o-mini-2024-07-18\n",
    "# o3-mini-2025-01-31\n",
    "# o1-mini-2024-09-12\n",
    "# gpt-4.1-2025-04-14\n",
    "# o3-2025-04-16\n",
    "\n",
    "# All representation models\n",
    "representation_model = {\n",
    "    \"KeyBERT\": keybert_model,\n",
    "    \"OpenAI\": openai_model,\n",
    "    \"MMR\": mmr_model,\n",
    "    \"POS\": pos_model,\n",
    "}"
   ]
  },
  {
   "cell_type": "code",
   "execution_count": 40,
   "id": "c7ac8113",
   "metadata": {},
   "outputs": [
    {
     "name": "stderr",
     "output_type": "stream",
     "text": [
      "2025-06-11 23:02:43,880 - BERTopic - Dimensionality - Fitting the dimensionality reduction algorithm\n",
      "2025-06-11 23:03:06,141 - BERTopic - Dimensionality - Completed ✓\n",
      "2025-06-11 23:03:06,144 - BERTopic - Cluster - Start clustering the reduced embeddings\n",
      "2025-06-11 23:03:06,231 - BERTopic - Cluster - Completed ✓\n",
      "2025-06-11 23:03:06,238 - BERTopic - Representation - Fine-tuning topics using representation models.\n",
      "100%|██████████| 19/19 [00:08<00:00,  2.13it/s]\n",
      "2025-06-11 23:03:46,457 - BERTopic - Representation - Completed ✓\n"
     ]
    }
   ],
   "source": [
    "from bertopic import BERTopic\n",
    "from huggingface_hub import DocumentQuestionAnsweringOutputElement\n",
    "from numpy import ndarray\n",
    "\n",
    "topic_model = BERTopic(\n",
    "    # Pipeline models\n",
    "    embedding_model=embedding_model,\n",
    "    umap_model=umap_model,\n",
    "    hdbscan_model=hdbscan_model,\n",
    "    vectorizer_model=vectorizer_model,\n",
    "    representation_model=representation_model,  # type: ignore\n",
    "    # Hyperparameters\n",
    "    top_n_words=10,\n",
    "    verbose=True,\n",
    ")\n",
    "\n",
    "topics, probs = topic_model.fit_transform(documents, embeddings)\n",
    "# topics, probs = topic_model.fit_transform(documents)"
   ]
  },
  {
   "cell_type": "code",
   "execution_count": 41,
   "id": "f32cd953",
   "metadata": {},
   "outputs": [],
   "source": [
    "topic_model.save(MODEL_NAME, serialization=\"safetensors\")"
   ]
  },
  {
   "cell_type": "code",
   "execution_count": 42,
   "id": "40d5abdb",
   "metadata": {},
   "outputs": [
    {
     "data": {
      "application/vnd.plotly.v1+json": {
       "config": {
        "plotlyServerURL": "https://plot.ly"
       },
       "data": [
        {
         "customdata": [
          [
           0,
           "ai | slop | content | generated | facebook",
           923
          ],
          [
           1,
           "parade | halloween | dublin | halloween parade | street",
           91
          ],
          [
           2,
           "activision | game | duty | ai | black",
           66
          ],
          [
           3,
           "cola | coca cola | coca | company | ad",
           60
          ],
          [
           4,
           "chocolate | willy | event | experience | chocolate experience",
           60
          ],
          [
           5,
           "scammers | highly | mistake | actually | highly embarrassed",
           44
          ],
          [
           6,
           "times | eurogamer net | eurogamer | net | news",
           43
          ],
          [
           7,
           "enix | square enix | square | kiryu | aggressive",
           38
          ],
          [
           8,
           "film | ai | poster | generated | ai generated",
           35
          ],
          [
           9,
           "2024 | november 2024 | november | january | august 2024",
           33
          ],
          [
           10,
           "foamstars | game | enix | square enix | square",
           31
          ],
          [
           11,
           "2025 retrieved | retrieved | 2025 | march 2025 | march",
           30
          ],
          [
           12,
           "ign | ign ign | wyp100 | ign com | wesley",
           21
          ],
          [
           13,
           "2024 retrieved | retrieved | 2024 | september 2024 | september",
           20
          ],
          [
           14,
           "2024 | november 2024 | november | 2025 | february 2025",
           20
          ],
          [
           15,
           "yes | definitely | really | appreciate | really passive",
           18
          ],
          [
           16,
           "advertisement | 404 media | 404 | media 404 | media",
           16
          ],
          [
           17,
           "block | birds | angry birds | angry | block quest",
           16
          ]
         ],
         "hovertemplate": "<b>Topic %{customdata[0]}</b><br>%{customdata[1]}<br>Size: %{customdata[2]}",
         "legendgroup": "",
         "marker": {
          "color": "#B0BEC5",
          "line": {
           "color": "DarkSlateGrey",
           "width": 2
          },
          "size": {
           "bdata": "mwNbAEIAPAA8ACwAKwAmACMAIQAfAB4AFQAUABQAEgAQABAA",
           "dtype": "i2"
          },
          "sizemode": "area",
          "sizeref": 0.576875,
          "symbol": "circle"
         },
         "mode": "markers",
         "name": "",
         "orientation": "v",
         "showlegend": false,
         "type": "scatter",
         "x": {
          "bdata": "tfKpQN6jMcB/YY9BkBO1QNywI8B5y0DBwPjmQIbciEHDJbJAcCQlP9pgjUFV8wm9IwrwQP5MQD7p0Y0+FD9CweNb4UBUsYtB",
          "dtype": "f4"
         },
         "xaxis": "x",
         "y": {
          "bdata": "z7oQQRERp0CsnbpBfxwLQc/arUDiVUhBHBZSQVcPtEHnkgxBS4nVQRuKuEElHNBBxItNQbPj0UF3m9JB98VJQUHgVEH5BrdB",
          "dtype": "f4"
         },
         "yaxis": "y"
        }
       ],
       "layout": {
        "annotations": [
         {
          "showarrow": false,
          "text": "D1",
          "x": -13.961459922790528,
          "y": 17.56677576303482,
          "yshift": 10
         },
         {
          "showarrow": false,
          "text": "D2",
          "x": 3.324768209457398,
          "xshift": 10,
          "y": 30.69584321975708
         }
        ],
        "height": 650,
        "hoverlabel": {
         "bgcolor": "white",
         "font": {
          "family": "Rockwell",
          "size": 16
         }
        },
        "legend": {
         "itemsizing": "constant",
         "tracegroupgap": 0
        },
        "margin": {
         "t": 60
        },
        "shapes": [
         {
          "line": {
           "color": "#CFD8DC",
           "width": 2
          },
          "type": "line",
          "x0": 3.324768209457398,
          "x1": 3.324768209457398,
          "y0": 4.437708306312561,
          "y1": 30.69584321975708
         },
         {
          "line": {
           "color": "#9E9E9E",
           "width": 2
          },
          "type": "line",
          "x0": -13.961459922790528,
          "x1": 20.610996341705324,
          "y0": 17.56677576303482,
          "y1": 17.56677576303482
         }
        ],
        "sliders": [
         {
          "active": 0,
          "pad": {
           "t": 50
          },
          "steps": [
           {
            "args": [
             {
              "marker.color": [
               [
                "red",
                "#B0BEC5",
                "#B0BEC5",
                "#B0BEC5",
                "#B0BEC5",
                "#B0BEC5",
                "#B0BEC5",
                "#B0BEC5",
                "#B0BEC5",
                "#B0BEC5",
                "#B0BEC5",
                "#B0BEC5",
                "#B0BEC5",
                "#B0BEC5",
                "#B0BEC5",
                "#B0BEC5",
                "#B0BEC5",
                "#B0BEC5"
               ]
              ]
             }
            ],
            "label": "Topic 0",
            "method": "update"
           },
           {
            "args": [
             {
              "marker.color": [
               [
                "#B0BEC5",
                "red",
                "#B0BEC5",
                "#B0BEC5",
                "#B0BEC5",
                "#B0BEC5",
                "#B0BEC5",
                "#B0BEC5",
                "#B0BEC5",
                "#B0BEC5",
                "#B0BEC5",
                "#B0BEC5",
                "#B0BEC5",
                "#B0BEC5",
                "#B0BEC5",
                "#B0BEC5",
                "#B0BEC5",
                "#B0BEC5"
               ]
              ]
             }
            ],
            "label": "Topic 1",
            "method": "update"
           },
           {
            "args": [
             {
              "marker.color": [
               [
                "#B0BEC5",
                "#B0BEC5",
                "red",
                "#B0BEC5",
                "#B0BEC5",
                "#B0BEC5",
                "#B0BEC5",
                "#B0BEC5",
                "#B0BEC5",
                "#B0BEC5",
                "#B0BEC5",
                "#B0BEC5",
                "#B0BEC5",
                "#B0BEC5",
                "#B0BEC5",
                "#B0BEC5",
                "#B0BEC5",
                "#B0BEC5"
               ]
              ]
             }
            ],
            "label": "Topic 2",
            "method": "update"
           },
           {
            "args": [
             {
              "marker.color": [
               [
                "#B0BEC5",
                "#B0BEC5",
                "#B0BEC5",
                "red",
                "#B0BEC5",
                "#B0BEC5",
                "#B0BEC5",
                "#B0BEC5",
                "#B0BEC5",
                "#B0BEC5",
                "#B0BEC5",
                "#B0BEC5",
                "#B0BEC5",
                "#B0BEC5",
                "#B0BEC5",
                "#B0BEC5",
                "#B0BEC5",
                "#B0BEC5"
               ]
              ]
             }
            ],
            "label": "Topic 3",
            "method": "update"
           },
           {
            "args": [
             {
              "marker.color": [
               [
                "#B0BEC5",
                "#B0BEC5",
                "#B0BEC5",
                "#B0BEC5",
                "red",
                "#B0BEC5",
                "#B0BEC5",
                "#B0BEC5",
                "#B0BEC5",
                "#B0BEC5",
                "#B0BEC5",
                "#B0BEC5",
                "#B0BEC5",
                "#B0BEC5",
                "#B0BEC5",
                "#B0BEC5",
                "#B0BEC5",
                "#B0BEC5"
               ]
              ]
             }
            ],
            "label": "Topic 4",
            "method": "update"
           },
           {
            "args": [
             {
              "marker.color": [
               [
                "#B0BEC5",
                "#B0BEC5",
                "#B0BEC5",
                "#B0BEC5",
                "#B0BEC5",
                "red",
                "#B0BEC5",
                "#B0BEC5",
                "#B0BEC5",
                "#B0BEC5",
                "#B0BEC5",
                "#B0BEC5",
                "#B0BEC5",
                "#B0BEC5",
                "#B0BEC5",
                "#B0BEC5",
                "#B0BEC5",
                "#B0BEC5"
               ]
              ]
             }
            ],
            "label": "Topic 5",
            "method": "update"
           },
           {
            "args": [
             {
              "marker.color": [
               [
                "#B0BEC5",
                "#B0BEC5",
                "#B0BEC5",
                "#B0BEC5",
                "#B0BEC5",
                "#B0BEC5",
                "red",
                "#B0BEC5",
                "#B0BEC5",
                "#B0BEC5",
                "#B0BEC5",
                "#B0BEC5",
                "#B0BEC5",
                "#B0BEC5",
                "#B0BEC5",
                "#B0BEC5",
                "#B0BEC5",
                "#B0BEC5"
               ]
              ]
             }
            ],
            "label": "Topic 6",
            "method": "update"
           },
           {
            "args": [
             {
              "marker.color": [
               [
                "#B0BEC5",
                "#B0BEC5",
                "#B0BEC5",
                "#B0BEC5",
                "#B0BEC5",
                "#B0BEC5",
                "#B0BEC5",
                "red",
                "#B0BEC5",
                "#B0BEC5",
                "#B0BEC5",
                "#B0BEC5",
                "#B0BEC5",
                "#B0BEC5",
                "#B0BEC5",
                "#B0BEC5",
                "#B0BEC5",
                "#B0BEC5"
               ]
              ]
             }
            ],
            "label": "Topic 7",
            "method": "update"
           },
           {
            "args": [
             {
              "marker.color": [
               [
                "#B0BEC5",
                "#B0BEC5",
                "#B0BEC5",
                "#B0BEC5",
                "#B0BEC5",
                "#B0BEC5",
                "#B0BEC5",
                "#B0BEC5",
                "red",
                "#B0BEC5",
                "#B0BEC5",
                "#B0BEC5",
                "#B0BEC5",
                "#B0BEC5",
                "#B0BEC5",
                "#B0BEC5",
                "#B0BEC5",
                "#B0BEC5"
               ]
              ]
             }
            ],
            "label": "Topic 8",
            "method": "update"
           },
           {
            "args": [
             {
              "marker.color": [
               [
                "#B0BEC5",
                "#B0BEC5",
                "#B0BEC5",
                "#B0BEC5",
                "#B0BEC5",
                "#B0BEC5",
                "#B0BEC5",
                "#B0BEC5",
                "#B0BEC5",
                "red",
                "#B0BEC5",
                "#B0BEC5",
                "#B0BEC5",
                "#B0BEC5",
                "#B0BEC5",
                "#B0BEC5",
                "#B0BEC5",
                "#B0BEC5"
               ]
              ]
             }
            ],
            "label": "Topic 9",
            "method": "update"
           },
           {
            "args": [
             {
              "marker.color": [
               [
                "#B0BEC5",
                "#B0BEC5",
                "#B0BEC5",
                "#B0BEC5",
                "#B0BEC5",
                "#B0BEC5",
                "#B0BEC5",
                "#B0BEC5",
                "#B0BEC5",
                "#B0BEC5",
                "red",
                "#B0BEC5",
                "#B0BEC5",
                "#B0BEC5",
                "#B0BEC5",
                "#B0BEC5",
                "#B0BEC5",
                "#B0BEC5"
               ]
              ]
             }
            ],
            "label": "Topic 10",
            "method": "update"
           },
           {
            "args": [
             {
              "marker.color": [
               [
                "#B0BEC5",
                "#B0BEC5",
                "#B0BEC5",
                "#B0BEC5",
                "#B0BEC5",
                "#B0BEC5",
                "#B0BEC5",
                "#B0BEC5",
                "#B0BEC5",
                "#B0BEC5",
                "#B0BEC5",
                "red",
                "#B0BEC5",
                "#B0BEC5",
                "#B0BEC5",
                "#B0BEC5",
                "#B0BEC5",
                "#B0BEC5"
               ]
              ]
             }
            ],
            "label": "Topic 11",
            "method": "update"
           },
           {
            "args": [
             {
              "marker.color": [
               [
                "#B0BEC5",
                "#B0BEC5",
                "#B0BEC5",
                "#B0BEC5",
                "#B0BEC5",
                "#B0BEC5",
                "#B0BEC5",
                "#B0BEC5",
                "#B0BEC5",
                "#B0BEC5",
                "#B0BEC5",
                "#B0BEC5",
                "red",
                "#B0BEC5",
                "#B0BEC5",
                "#B0BEC5",
                "#B0BEC5",
                "#B0BEC5"
               ]
              ]
             }
            ],
            "label": "Topic 12",
            "method": "update"
           },
           {
            "args": [
             {
              "marker.color": [
               [
                "#B0BEC5",
                "#B0BEC5",
                "#B0BEC5",
                "#B0BEC5",
                "#B0BEC5",
                "#B0BEC5",
                "#B0BEC5",
                "#B0BEC5",
                "#B0BEC5",
                "#B0BEC5",
                "#B0BEC5",
                "#B0BEC5",
                "#B0BEC5",
                "red",
                "#B0BEC5",
                "#B0BEC5",
                "#B0BEC5",
                "#B0BEC5"
               ]
              ]
             }
            ],
            "label": "Topic 13",
            "method": "update"
           },
           {
            "args": [
             {
              "marker.color": [
               [
                "#B0BEC5",
                "#B0BEC5",
                "#B0BEC5",
                "#B0BEC5",
                "#B0BEC5",
                "#B0BEC5",
                "#B0BEC5",
                "#B0BEC5",
                "#B0BEC5",
                "#B0BEC5",
                "#B0BEC5",
                "#B0BEC5",
                "#B0BEC5",
                "#B0BEC5",
                "red",
                "#B0BEC5",
                "#B0BEC5",
                "#B0BEC5"
               ]
              ]
             }
            ],
            "label": "Topic 14",
            "method": "update"
           },
           {
            "args": [
             {
              "marker.color": [
               [
                "#B0BEC5",
                "#B0BEC5",
                "#B0BEC5",
                "#B0BEC5",
                "#B0BEC5",
                "#B0BEC5",
                "#B0BEC5",
                "#B0BEC5",
                "#B0BEC5",
                "#B0BEC5",
                "#B0BEC5",
                "#B0BEC5",
                "#B0BEC5",
                "#B0BEC5",
                "#B0BEC5",
                "red",
                "#B0BEC5",
                "#B0BEC5"
               ]
              ]
             }
            ],
            "label": "Topic 15",
            "method": "update"
           },
           {
            "args": [
             {
              "marker.color": [
               [
                "#B0BEC5",
                "#B0BEC5",
                "#B0BEC5",
                "#B0BEC5",
                "#B0BEC5",
                "#B0BEC5",
                "#B0BEC5",
                "#B0BEC5",
                "#B0BEC5",
                "#B0BEC5",
                "#B0BEC5",
                "#B0BEC5",
                "#B0BEC5",
                "#B0BEC5",
                "#B0BEC5",
                "#B0BEC5",
                "red",
                "#B0BEC5"
               ]
              ]
             }
            ],
            "label": "Topic 16",
            "method": "update"
           },
           {
            "args": [
             {
              "marker.color": [
               [
                "#B0BEC5",
                "#B0BEC5",
                "#B0BEC5",
                "#B0BEC5",
                "#B0BEC5",
                "#B0BEC5",
                "#B0BEC5",
                "#B0BEC5",
                "#B0BEC5",
                "#B0BEC5",
                "#B0BEC5",
                "#B0BEC5",
                "#B0BEC5",
                "#B0BEC5",
                "#B0BEC5",
                "#B0BEC5",
                "#B0BEC5",
                "red"
               ]
              ]
             }
            ],
            "label": "Topic 17",
            "method": "update"
           }
          ]
         }
        ],
        "template": {
         "data": {
          "bar": [
           {
            "error_x": {
             "color": "rgb(36,36,36)"
            },
            "error_y": {
             "color": "rgb(36,36,36)"
            },
            "marker": {
             "line": {
              "color": "white",
              "width": 0.5
             },
             "pattern": {
              "fillmode": "overlay",
              "size": 10,
              "solidity": 0.2
             }
            },
            "type": "bar"
           }
          ],
          "barpolar": [
           {
            "marker": {
             "line": {
              "color": "white",
              "width": 0.5
             },
             "pattern": {
              "fillmode": "overlay",
              "size": 10,
              "solidity": 0.2
             }
            },
            "type": "barpolar"
           }
          ],
          "carpet": [
           {
            "aaxis": {
             "endlinecolor": "rgb(36,36,36)",
             "gridcolor": "white",
             "linecolor": "white",
             "minorgridcolor": "white",
             "startlinecolor": "rgb(36,36,36)"
            },
            "baxis": {
             "endlinecolor": "rgb(36,36,36)",
             "gridcolor": "white",
             "linecolor": "white",
             "minorgridcolor": "white",
             "startlinecolor": "rgb(36,36,36)"
            },
            "type": "carpet"
           }
          ],
          "choropleth": [
           {
            "colorbar": {
             "outlinewidth": 1,
             "tickcolor": "rgb(36,36,36)",
             "ticks": "outside"
            },
            "type": "choropleth"
           }
          ],
          "contour": [
           {
            "colorbar": {
             "outlinewidth": 1,
             "tickcolor": "rgb(36,36,36)",
             "ticks": "outside"
            },
            "colorscale": [
             [
              0,
              "#440154"
             ],
             [
              0.1111111111111111,
              "#482878"
             ],
             [
              0.2222222222222222,
              "#3e4989"
             ],
             [
              0.3333333333333333,
              "#31688e"
             ],
             [
              0.4444444444444444,
              "#26828e"
             ],
             [
              0.5555555555555556,
              "#1f9e89"
             ],
             [
              0.6666666666666666,
              "#35b779"
             ],
             [
              0.7777777777777778,
              "#6ece58"
             ],
             [
              0.8888888888888888,
              "#b5de2b"
             ],
             [
              1,
              "#fde725"
             ]
            ],
            "type": "contour"
           }
          ],
          "contourcarpet": [
           {
            "colorbar": {
             "outlinewidth": 1,
             "tickcolor": "rgb(36,36,36)",
             "ticks": "outside"
            },
            "type": "contourcarpet"
           }
          ],
          "heatmap": [
           {
            "colorbar": {
             "outlinewidth": 1,
             "tickcolor": "rgb(36,36,36)",
             "ticks": "outside"
            },
            "colorscale": [
             [
              0,
              "#440154"
             ],
             [
              0.1111111111111111,
              "#482878"
             ],
             [
              0.2222222222222222,
              "#3e4989"
             ],
             [
              0.3333333333333333,
              "#31688e"
             ],
             [
              0.4444444444444444,
              "#26828e"
             ],
             [
              0.5555555555555556,
              "#1f9e89"
             ],
             [
              0.6666666666666666,
              "#35b779"
             ],
             [
              0.7777777777777778,
              "#6ece58"
             ],
             [
              0.8888888888888888,
              "#b5de2b"
             ],
             [
              1,
              "#fde725"
             ]
            ],
            "type": "heatmap"
           }
          ],
          "histogram": [
           {
            "marker": {
             "line": {
              "color": "white",
              "width": 0.6
             }
            },
            "type": "histogram"
           }
          ],
          "histogram2d": [
           {
            "colorbar": {
             "outlinewidth": 1,
             "tickcolor": "rgb(36,36,36)",
             "ticks": "outside"
            },
            "colorscale": [
             [
              0,
              "#440154"
             ],
             [
              0.1111111111111111,
              "#482878"
             ],
             [
              0.2222222222222222,
              "#3e4989"
             ],
             [
              0.3333333333333333,
              "#31688e"
             ],
             [
              0.4444444444444444,
              "#26828e"
             ],
             [
              0.5555555555555556,
              "#1f9e89"
             ],
             [
              0.6666666666666666,
              "#35b779"
             ],
             [
              0.7777777777777778,
              "#6ece58"
             ],
             [
              0.8888888888888888,
              "#b5de2b"
             ],
             [
              1,
              "#fde725"
             ]
            ],
            "type": "histogram2d"
           }
          ],
          "histogram2dcontour": [
           {
            "colorbar": {
             "outlinewidth": 1,
             "tickcolor": "rgb(36,36,36)",
             "ticks": "outside"
            },
            "colorscale": [
             [
              0,
              "#440154"
             ],
             [
              0.1111111111111111,
              "#482878"
             ],
             [
              0.2222222222222222,
              "#3e4989"
             ],
             [
              0.3333333333333333,
              "#31688e"
             ],
             [
              0.4444444444444444,
              "#26828e"
             ],
             [
              0.5555555555555556,
              "#1f9e89"
             ],
             [
              0.6666666666666666,
              "#35b779"
             ],
             [
              0.7777777777777778,
              "#6ece58"
             ],
             [
              0.8888888888888888,
              "#b5de2b"
             ],
             [
              1,
              "#fde725"
             ]
            ],
            "type": "histogram2dcontour"
           }
          ],
          "mesh3d": [
           {
            "colorbar": {
             "outlinewidth": 1,
             "tickcolor": "rgb(36,36,36)",
             "ticks": "outside"
            },
            "type": "mesh3d"
           }
          ],
          "parcoords": [
           {
            "line": {
             "colorbar": {
              "outlinewidth": 1,
              "tickcolor": "rgb(36,36,36)",
              "ticks": "outside"
             }
            },
            "type": "parcoords"
           }
          ],
          "pie": [
           {
            "automargin": true,
            "type": "pie"
           }
          ],
          "scatter": [
           {
            "fillpattern": {
             "fillmode": "overlay",
             "size": 10,
             "solidity": 0.2
            },
            "type": "scatter"
           }
          ],
          "scatter3d": [
           {
            "line": {
             "colorbar": {
              "outlinewidth": 1,
              "tickcolor": "rgb(36,36,36)",
              "ticks": "outside"
             }
            },
            "marker": {
             "colorbar": {
              "outlinewidth": 1,
              "tickcolor": "rgb(36,36,36)",
              "ticks": "outside"
             }
            },
            "type": "scatter3d"
           }
          ],
          "scattercarpet": [
           {
            "marker": {
             "colorbar": {
              "outlinewidth": 1,
              "tickcolor": "rgb(36,36,36)",
              "ticks": "outside"
             }
            },
            "type": "scattercarpet"
           }
          ],
          "scattergeo": [
           {
            "marker": {
             "colorbar": {
              "outlinewidth": 1,
              "tickcolor": "rgb(36,36,36)",
              "ticks": "outside"
             }
            },
            "type": "scattergeo"
           }
          ],
          "scattergl": [
           {
            "marker": {
             "colorbar": {
              "outlinewidth": 1,
              "tickcolor": "rgb(36,36,36)",
              "ticks": "outside"
             }
            },
            "type": "scattergl"
           }
          ],
          "scattermap": [
           {
            "marker": {
             "colorbar": {
              "outlinewidth": 1,
              "tickcolor": "rgb(36,36,36)",
              "ticks": "outside"
             }
            },
            "type": "scattermap"
           }
          ],
          "scattermapbox": [
           {
            "marker": {
             "colorbar": {
              "outlinewidth": 1,
              "tickcolor": "rgb(36,36,36)",
              "ticks": "outside"
             }
            },
            "type": "scattermapbox"
           }
          ],
          "scatterpolar": [
           {
            "marker": {
             "colorbar": {
              "outlinewidth": 1,
              "tickcolor": "rgb(36,36,36)",
              "ticks": "outside"
             }
            },
            "type": "scatterpolar"
           }
          ],
          "scatterpolargl": [
           {
            "marker": {
             "colorbar": {
              "outlinewidth": 1,
              "tickcolor": "rgb(36,36,36)",
              "ticks": "outside"
             }
            },
            "type": "scatterpolargl"
           }
          ],
          "scatterternary": [
           {
            "marker": {
             "colorbar": {
              "outlinewidth": 1,
              "tickcolor": "rgb(36,36,36)",
              "ticks": "outside"
             }
            },
            "type": "scatterternary"
           }
          ],
          "surface": [
           {
            "colorbar": {
             "outlinewidth": 1,
             "tickcolor": "rgb(36,36,36)",
             "ticks": "outside"
            },
            "colorscale": [
             [
              0,
              "#440154"
             ],
             [
              0.1111111111111111,
              "#482878"
             ],
             [
              0.2222222222222222,
              "#3e4989"
             ],
             [
              0.3333333333333333,
              "#31688e"
             ],
             [
              0.4444444444444444,
              "#26828e"
             ],
             [
              0.5555555555555556,
              "#1f9e89"
             ],
             [
              0.6666666666666666,
              "#35b779"
             ],
             [
              0.7777777777777778,
              "#6ece58"
             ],
             [
              0.8888888888888888,
              "#b5de2b"
             ],
             [
              1,
              "#fde725"
             ]
            ],
            "type": "surface"
           }
          ],
          "table": [
           {
            "cells": {
             "fill": {
              "color": "rgb(237,237,237)"
             },
             "line": {
              "color": "white"
             }
            },
            "header": {
             "fill": {
              "color": "rgb(217,217,217)"
             },
             "line": {
              "color": "white"
             }
            },
            "type": "table"
           }
          ]
         },
         "layout": {
          "annotationdefaults": {
           "arrowhead": 0,
           "arrowwidth": 1
          },
          "autotypenumbers": "strict",
          "coloraxis": {
           "colorbar": {
            "outlinewidth": 1,
            "tickcolor": "rgb(36,36,36)",
            "ticks": "outside"
           }
          },
          "colorscale": {
           "diverging": [
            [
             0,
             "rgb(103,0,31)"
            ],
            [
             0.1,
             "rgb(178,24,43)"
            ],
            [
             0.2,
             "rgb(214,96,77)"
            ],
            [
             0.3,
             "rgb(244,165,130)"
            ],
            [
             0.4,
             "rgb(253,219,199)"
            ],
            [
             0.5,
             "rgb(247,247,247)"
            ],
            [
             0.6,
             "rgb(209,229,240)"
            ],
            [
             0.7,
             "rgb(146,197,222)"
            ],
            [
             0.8,
             "rgb(67,147,195)"
            ],
            [
             0.9,
             "rgb(33,102,172)"
            ],
            [
             1,
             "rgb(5,48,97)"
            ]
           ],
           "sequential": [
            [
             0,
             "#440154"
            ],
            [
             0.1111111111111111,
             "#482878"
            ],
            [
             0.2222222222222222,
             "#3e4989"
            ],
            [
             0.3333333333333333,
             "#31688e"
            ],
            [
             0.4444444444444444,
             "#26828e"
            ],
            [
             0.5555555555555556,
             "#1f9e89"
            ],
            [
             0.6666666666666666,
             "#35b779"
            ],
            [
             0.7777777777777778,
             "#6ece58"
            ],
            [
             0.8888888888888888,
             "#b5de2b"
            ],
            [
             1,
             "#fde725"
            ]
           ],
           "sequentialminus": [
            [
             0,
             "#440154"
            ],
            [
             0.1111111111111111,
             "#482878"
            ],
            [
             0.2222222222222222,
             "#3e4989"
            ],
            [
             0.3333333333333333,
             "#31688e"
            ],
            [
             0.4444444444444444,
             "#26828e"
            ],
            [
             0.5555555555555556,
             "#1f9e89"
            ],
            [
             0.6666666666666666,
             "#35b779"
            ],
            [
             0.7777777777777778,
             "#6ece58"
            ],
            [
             0.8888888888888888,
             "#b5de2b"
            ],
            [
             1,
             "#fde725"
            ]
           ]
          },
          "colorway": [
           "#1F77B4",
           "#FF7F0E",
           "#2CA02C",
           "#D62728",
           "#9467BD",
           "#8C564B",
           "#E377C2",
           "#7F7F7F",
           "#BCBD22",
           "#17BECF"
          ],
          "font": {
           "color": "rgb(36,36,36)"
          },
          "geo": {
           "bgcolor": "white",
           "lakecolor": "white",
           "landcolor": "white",
           "showlakes": true,
           "showland": true,
           "subunitcolor": "white"
          },
          "hoverlabel": {
           "align": "left"
          },
          "hovermode": "closest",
          "mapbox": {
           "style": "light"
          },
          "paper_bgcolor": "white",
          "plot_bgcolor": "white",
          "polar": {
           "angularaxis": {
            "gridcolor": "rgb(232,232,232)",
            "linecolor": "rgb(36,36,36)",
            "showgrid": false,
            "showline": true,
            "ticks": "outside"
           },
           "bgcolor": "white",
           "radialaxis": {
            "gridcolor": "rgb(232,232,232)",
            "linecolor": "rgb(36,36,36)",
            "showgrid": false,
            "showline": true,
            "ticks": "outside"
           }
          },
          "scene": {
           "xaxis": {
            "backgroundcolor": "white",
            "gridcolor": "rgb(232,232,232)",
            "gridwidth": 2,
            "linecolor": "rgb(36,36,36)",
            "showbackground": true,
            "showgrid": false,
            "showline": true,
            "ticks": "outside",
            "zeroline": false,
            "zerolinecolor": "rgb(36,36,36)"
           },
           "yaxis": {
            "backgroundcolor": "white",
            "gridcolor": "rgb(232,232,232)",
            "gridwidth": 2,
            "linecolor": "rgb(36,36,36)",
            "showbackground": true,
            "showgrid": false,
            "showline": true,
            "ticks": "outside",
            "zeroline": false,
            "zerolinecolor": "rgb(36,36,36)"
           },
           "zaxis": {
            "backgroundcolor": "white",
            "gridcolor": "rgb(232,232,232)",
            "gridwidth": 2,
            "linecolor": "rgb(36,36,36)",
            "showbackground": true,
            "showgrid": false,
            "showline": true,
            "ticks": "outside",
            "zeroline": false,
            "zerolinecolor": "rgb(36,36,36)"
           }
          },
          "shapedefaults": {
           "fillcolor": "black",
           "line": {
            "width": 0
           },
           "opacity": 0.3
          },
          "ternary": {
           "aaxis": {
            "gridcolor": "rgb(232,232,232)",
            "linecolor": "rgb(36,36,36)",
            "showgrid": false,
            "showline": true,
            "ticks": "outside"
           },
           "baxis": {
            "gridcolor": "rgb(232,232,232)",
            "linecolor": "rgb(36,36,36)",
            "showgrid": false,
            "showline": true,
            "ticks": "outside"
           },
           "bgcolor": "white",
           "caxis": {
            "gridcolor": "rgb(232,232,232)",
            "linecolor": "rgb(36,36,36)",
            "showgrid": false,
            "showline": true,
            "ticks": "outside"
           }
          },
          "title": {
           "x": 0.05
          },
          "xaxis": {
           "automargin": true,
           "gridcolor": "rgb(232,232,232)",
           "linecolor": "rgb(36,36,36)",
           "showgrid": false,
           "showline": true,
           "ticks": "outside",
           "title": {
            "standoff": 15
           },
           "zeroline": false,
           "zerolinecolor": "rgb(36,36,36)"
          },
          "yaxis": {
           "automargin": true,
           "gridcolor": "rgb(232,232,232)",
           "linecolor": "rgb(36,36,36)",
           "showgrid": false,
           "showline": true,
           "ticks": "outside",
           "title": {
            "standoff": 15
           },
           "zeroline": false,
           "zerolinecolor": "rgb(36,36,36)"
          }
         }
        },
        "title": {
         "font": {
          "color": "Black",
          "size": 22
         },
         "text": "<b>Intertopic Distance Map</b>",
         "x": 0.5,
         "xanchor": "center",
         "y": 0.95,
         "yanchor": "top"
        },
        "width": 650,
        "xaxis": {
         "anchor": "y",
         "domain": [
          0,
          1
         ],
         "range": [
          -13.961459922790528,
          20.610996341705324
         ],
         "title": {
          "text": ""
         },
         "visible": false
        },
        "yaxis": {
         "anchor": "x",
         "domain": [
          0,
          1
         ],
         "range": [
          4.437708306312561,
          30.69584321975708
         ],
         "title": {
          "text": ""
         },
         "visible": false
        }
       }
      }
     },
     "metadata": {},
     "output_type": "display_data"
    }
   ],
   "source": [
    "topic_model.visualize_topics(custom_labels=True)"
   ]
  },
  {
   "cell_type": "code",
   "execution_count": 43,
   "id": "e2d6856f",
   "metadata": {},
   "outputs": [
    {
     "data": {
      "text/html": [
       "<div>\n",
       "<style scoped>\n",
       "    .dataframe tbody tr th:only-of-type {\n",
       "        vertical-align: middle;\n",
       "    }\n",
       "\n",
       "    .dataframe tbody tr th {\n",
       "        vertical-align: top;\n",
       "    }\n",
       "\n",
       "    .dataframe thead th {\n",
       "        text-align: right;\n",
       "    }\n",
       "</style>\n",
       "<table border=\"1\" class=\"dataframe\">\n",
       "  <thead>\n",
       "    <tr style=\"text-align: right;\">\n",
       "      <th></th>\n",
       "      <th>Topic</th>\n",
       "      <th>Count</th>\n",
       "      <th>Name</th>\n",
       "      <th>CustomName</th>\n",
       "      <th>Representation</th>\n",
       "      <th>KeyBERT</th>\n",
       "      <th>OpenAI</th>\n",
       "      <th>MMR</th>\n",
       "      <th>POS</th>\n",
       "      <th>Representative_Docs</th>\n",
       "    </tr>\n",
       "  </thead>\n",
       "  <tbody>\n",
       "    <tr>\n",
       "      <th>0</th>\n",
       "      <td>-1</td>\n",
       "      <td>191</td>\n",
       "      <td>-1_voice_ai_spotify_wrapped</td>\n",
       "      <td>Outlier Topic</td>\n",
       "      <td>[voice, ai, spotify, wrapped, game, using, use...</td>\n",
       "      <td>[ai generated, using ai, generative ai, spotif...</td>\n",
       "      <td>[AI Impact on Voice Actors]</td>\n",
       "      <td>[voice, spotify, actors, studios, noa, voice a...</td>\n",
       "      <td>[voice, game, users, company, event, actors, s...</td>\n",
       "      <td>[Similarly, Spotify’s new Wrapped AI podcast f...</td>\n",
       "    </tr>\n",
       "    <tr>\n",
       "      <th>1</th>\n",
       "      <td>0</td>\n",
       "      <td>923</td>\n",
       "      <td>0_ai_slop_content_generated</td>\n",
       "      <td>AI-Generated Content and Slop</td>\n",
       "      <td>[ai, slop, content, generated, facebook, image...</td>\n",
       "      <td>[slop, ai slop, ai generated, generative ai, s...</td>\n",
       "      <td>[AI-Generated Content and Slop]</td>\n",
       "      <td>[generated, facebook, ai generated, ai slop, t...</td>\n",
       "      <td>[slop, content, images, people, media, social,...</td>\n",
       "      <td>[- \"AI slop\" images are all over Facebook., Wh...</td>\n",
       "    </tr>\n",
       "    <tr>\n",
       "      <th>2</th>\n",
       "      <td>1</td>\n",
       "      <td>91</td>\n",
       "      <td>1_parade_halloween_dublin_halloween parade</td>\n",
       "      <td>Dublin Halloween Parade Hoax</td>\n",
       "      <td>[parade, halloween, dublin, halloween parade, ...</td>\n",
       "      <td>[halloween parade, parade dublin, dublin hallo...</td>\n",
       "      <td>[Dublin Halloween Parade Hoax]</td>\n",
       "      <td>[parade, halloween parade, connell street, mys...</td>\n",
       "      <td>[parade, halloween, street, website, people, c...</td>\n",
       "      <td>[People waiting for a halloween parade., “All ...</td>\n",
       "    </tr>\n",
       "    <tr>\n",
       "      <th>3</th>\n",
       "      <td>2</td>\n",
       "      <td>66</td>\n",
       "      <td>2_activision_game_duty_ai</td>\n",
       "      <td>Activision AI-Generated Game Content</td>\n",
       "      <td>[activision, game, duty, ai, black, black ops,...</td>\n",
       "      <td>[activision ai, activision, activision sold, g...</td>\n",
       "      <td>[Activision AI-Generated Game Content]</td>\n",
       "      <td>[activision, black ops, steam, generative ai, ...</td>\n",
       "      <td>[game, black, loading, generative, steam, bund...</td>\n",
       "      <td>[Activision states on the game's product page ...</td>\n",
       "    </tr>\n",
       "    <tr>\n",
       "      <th>4</th>\n",
       "      <td>3</td>\n",
       "      <td>60</td>\n",
       "      <td>3_cola_coca cola_coca_company</td>\n",
       "      <td>Coca-Cola's AI Holiday Campaign</td>\n",
       "      <td>[cola, coca cola, coca, company, ad, holidays,...</td>\n",
       "      <td>[coca cola, cola company, coke, christmas ad, ...</td>\n",
       "      <td>[Coca-Cola's AI Holiday Campaign]</td>\n",
       "      <td>[coca cola, backlash, commercials, brand, holi...</td>\n",
       "      <td>[cola, company, ad, holidays, holiday, commerc...</td>\n",
       "      <td>[Coca-Cola will always remain dedicated to cre...</td>\n",
       "    </tr>\n",
       "    <tr>\n",
       "      <th>5</th>\n",
       "      <td>4</td>\n",
       "      <td>60</td>\n",
       "      <td>4_chocolate_willy_event_experience</td>\n",
       "      <td>Willy's Chocolate Experience Fail</td>\n",
       "      <td>[chocolate, willy, event, experience, chocolat...</td>\n",
       "      <td>[wonka chocolate, willy chocolate, wonka event...</td>\n",
       "      <td>[Willy's Chocolate Experience Fail]</td>\n",
       "      <td>[chocolate experience, willy chocolate, wonka,...</td>\n",
       "      <td>[chocolate, event, experience, children, wareh...</td>\n",
       "      <td>[Note that it’s named after “Willy” but not “W...</td>\n",
       "    </tr>\n",
       "    <tr>\n",
       "      <th>6</th>\n",
       "      <td>5</td>\n",
       "      <td>44</td>\n",
       "      <td>5_scammers_highly_mistake_actually</td>\n",
       "      <td>Event Cancellation and Apologies</td>\n",
       "      <td>[scammers, highly, mistake, actually, highly e...</td>\n",
       "      <td>[really sorry, highly embarrassed, mistake sca...</td>\n",
       "      <td>[Event Cancellation and Apologies]</td>\n",
       "      <td>[scammers, highly embarrassed, tickets, actual...</td>\n",
       "      <td>[scammers, mistake, embarrassed, tickets, scam...</td>\n",
       "      <td>[And you guys should not say that we are the s...</td>\n",
       "    </tr>\n",
       "    <tr>\n",
       "      <th>7</th>\n",
       "      <td>6</td>\n",
       "      <td>43</td>\n",
       "      <td>6_times_eurogamer net_eurogamer_net</td>\n",
       "      <td>Prominent News Media Outlets</td>\n",
       "      <td>[times, eurogamer net, eurogamer, net, news, y...</td>\n",
       "      <td>[york times, times reporter, washington post, ...</td>\n",
       "      <td>[Prominent News Media Outlets]</td>\n",
       "      <td>[eurogamer net, eurogamer, york times, net gam...</td>\n",
       "      <td>[news, reporter, sports, coverage, editor, yea...</td>\n",
       "      <td>[The New York Times., The New York Times., The...</td>\n",
       "    </tr>\n",
       "    <tr>\n",
       "      <th>8</th>\n",
       "      <td>7</td>\n",
       "      <td>38</td>\n",
       "      <td>7_enix_square enix_square_kiryu</td>\n",
       "      <td>Square Enix's AI and Tech Strategy</td>\n",
       "      <td>[enix, square enix, square, kiryu, aggressive,...</td>\n",
       "      <td>[square enix, enix president, enix intends, en...</td>\n",
       "      <td>[Square Enix's AI and Tech Strategy]</td>\n",
       "      <td>[enix, square enix, aggressive, applying ai, d...</td>\n",
       "      <td>[aggressive, blockchain, letter, year, develop...</td>\n",
       "      <td>[The inclusion of AI in Foamstars is perhaps u...</td>\n",
       "    </tr>\n",
       "    <tr>\n",
       "      <th>9</th>\n",
       "      <td>8</td>\n",
       "      <td>35</td>\n",
       "      <td>8_film_ai_poster_generated</td>\n",
       "      <td>Paramount's AI-Generated Film Content</td>\n",
       "      <td>[film, ai, poster, generated, ai generated, pa...</td>\n",
       "      <td>[promoting film, paramount pictures, used ai, ...</td>\n",
       "      <td>[Paramount's AI-Generated Film Content]</td>\n",
       "      <td>[paramount, civil war, novocaine, a24, posters...</td>\n",
       "      <td>[film, poster, men, posters, voice, quality, n...</td>\n",
       "      <td>[[21]\\nIn March 2025, Paramount Pictures was c...</td>\n",
       "    </tr>\n",
       "    <tr>\n",
       "      <th>10</th>\n",
       "      <td>9</td>\n",
       "      <td>33</td>\n",
       "      <td>9_2024_november 2024_november_january</td>\n",
       "      <td>2024 Tech and Media Coverage</td>\n",
       "      <td>[2024, november 2024, november, january, augus...</td>\n",
       "      <td>[2024 koebler, 2024 warzel, october 2024, augu...</td>\n",
       "      <td>[2024 Tech and Media Coverage]</td>\n",
       "      <td>[november 2024, august 2024, october 2024, 202...</td>\n",
       "      <td>[, , , , , , , , , ]</td>\n",
       "      <td>[- ^ Warzel, Charlie (10 October 2024)., - ^ W...</td>\n",
       "    </tr>\n",
       "    <tr>\n",
       "      <th>11</th>\n",
       "      <td>10</td>\n",
       "      <td>31</td>\n",
       "      <td>10_foamstars_game_enix_square enix</td>\n",
       "      <td>AI Use in Foamstars Development</td>\n",
       "      <td>[foamstars, game, enix, square enix, square, a...</td>\n",
       "      <td>[foamstars game, game art, foamstars producer,...</td>\n",
       "      <td>[AI Use in Foamstars Development]</td>\n",
       "      <td>[foamstars, enix, square enix, album covers, v...</td>\n",
       "      <td>[game, art, core, album, team, producer, upcom...</td>\n",
       "      <td>[In an interview with VGC, Kosuke Okatani, pro...</td>\n",
       "    </tr>\n",
       "    <tr>\n",
       "      <th>12</th>\n",
       "      <td>11</td>\n",
       "      <td>30</td>\n",
       "      <td>11_2025 retrieved_retrieved_2025_march 2025</td>\n",
       "      <td>2025 Document Retrieval Dates</td>\n",
       "      <td>[2025 retrieved, retrieved, 2025, march 2025, ...</td>\n",
       "      <td>[retrieved 2025, retrieved 24, 2025 retrieved,...</td>\n",
       "      <td>[2025 Document Retrieval Dates]</td>\n",
       "      <td>[2025 retrieved, march 2025, retrieved 24, ret...</td>\n",
       "      <td>[, , , , , , , , , ]</td>\n",
       "      <td>[Retrieved 24 March 2025., Retrieved 24 March ...</td>\n",
       "    </tr>\n",
       "    <tr>\n",
       "      <th>13</th>\n",
       "      <td>12</td>\n",
       "      <td>21</td>\n",
       "      <td>12_ign_ign ign_wyp100_ign com</td>\n",
       "      <td>IGN Editorial Contacts and Activision Commentary</td>\n",
       "      <td>[ign, ign ign, wyp100, ign com, wesley, com, t...</td>\n",
       "      <td>[ign ign, ign com, ign asked, newstips ign, we...</td>\n",
       "      <td>[IGN Editorial Contacts and Activision Comment...</td>\n",
       "      <td>[ign ign, wyp100 reach, wesley wesley_yinpoole...</td>\n",
       "      <td>[news, comment, writer, email, , , , , , ]</td>\n",
       "      <td>[IGN., You can reach Wesley at wesley_yinpoole...</td>\n",
       "    </tr>\n",
       "    <tr>\n",
       "      <th>14</th>\n",
       "      <td>13</td>\n",
       "      <td>20</td>\n",
       "      <td>13_2024 retrieved_retrieved_2024_september 2024</td>\n",
       "      <td>2024 Document Retrieval Timeline</td>\n",
       "      <td>[2024 retrieved, retrieved, 2024, september 20...</td>\n",
       "      <td>[retrieved 29, 2024 retrieved, september 2024,...</td>\n",
       "      <td>[2024 Document Retrieval Timeline]</td>\n",
       "      <td>[2024 retrieved, september 2024, november 2024...</td>\n",
       "      <td>[topics, , , , , , , , , ]</td>\n",
       "      <td>[Retrieved 29 September 2024., Retrieved 29 Se...</td>\n",
       "    </tr>\n",
       "    <tr>\n",
       "      <th>15</th>\n",
       "      <td>14</td>\n",
       "      <td>20</td>\n",
       "      <td>14_2024_november 2024_november_2025</td>\n",
       "      <td>2024 Fans Unwrapping Reaction</td>\n",
       "      <td>[2024, november 2024, november, 2025, february...</td>\n",
       "      <td>[november 2024, 2024 november, april 2024, jul...</td>\n",
       "      <td>[2024 Fans Unwrapping Reaction]</td>\n",
       "      <td>[november 2024, february 2025, 2024 fans, fans...</td>\n",
       "      <td>[unwrapped, underwhelming, little, fans, , , ,...</td>\n",
       "      <td>[1 November 2024., 1 November 2024., 2 Novembe...</td>\n",
       "    </tr>\n",
       "    <tr>\n",
       "      <th>16</th>\n",
       "      <td>15</td>\n",
       "      <td>18</td>\n",
       "      <td>15_yes_definitely_really_appreciate</td>\n",
       "      <td>Misjudgments and Humanization</td>\n",
       "      <td>[yes, definitely, really, appreciate, really p...</td>\n",
       "      <td>[exactly yes, yes, true yes, definitely yes, y...</td>\n",
       "      <td>[Misjudgments and Humanization]</td>\n",
       "      <td>[gotten wrong, yikes thank, passive income, ye...</td>\n",
       "      <td>[passive income, passive, people, income, wron...</td>\n",
       "      <td>[OK. Is there anything else you think people h...</td>\n",
       "    </tr>\n",
       "    <tr>\n",
       "      <th>17</th>\n",
       "      <td>16</td>\n",
       "      <td>16</td>\n",
       "      <td>16_advertisement_404 media_404_media 404</td>\n",
       "      <td>404 Media Advertising and Storytelling</td>\n",
       "      <td>[advertisement, 404 media, 404, media 404, med...</td>\n",
       "      <td>[404 media, media 404, middle 404, 404, advert...</td>\n",
       "      <td>[404 Media Advertising and Storytelling]</td>\n",
       "      <td>[media 404, advertisement advertisement, artic...</td>\n",
       "      <td>[story, possible story, original post, exchang...</td>\n",
       "      <td>[404 Media., 404 Media., Buried in the middle ...</td>\n",
       "    </tr>\n",
       "    <tr>\n",
       "      <th>18</th>\n",
       "      <td>17</td>\n",
       "      <td>16</td>\n",
       "      <td>17_block_birds_angry birds_angry</td>\n",
       "      <td>Angry Birds Block Puzzle Launch</td>\n",
       "      <td>[block, birds, angry birds, angry, block quest...</td>\n",
       "      <td>[angry birds, rovio entertainment, ios rovio, ...</td>\n",
       "      <td>[Angry Birds Block Puzzle Launch]</td>\n",
       "      <td>[angry birds, birds block, game, quest soft, r...</td>\n",
       "      <td>[block, game, title, puzzle, latest, franchise...</td>\n",
       "      <td>[- Angry Birds Block Quest is a block puzzle g...</td>\n",
       "    </tr>\n",
       "  </tbody>\n",
       "</table>\n",
       "</div>"
      ],
      "text/plain": [
       "    Topic  Count                                             Name  \\\n",
       "0      -1    191                      -1_voice_ai_spotify_wrapped   \n",
       "1       0    923                      0_ai_slop_content_generated   \n",
       "2       1     91       1_parade_halloween_dublin_halloween parade   \n",
       "3       2     66                        2_activision_game_duty_ai   \n",
       "4       3     60                    3_cola_coca cola_coca_company   \n",
       "5       4     60               4_chocolate_willy_event_experience   \n",
       "6       5     44               5_scammers_highly_mistake_actually   \n",
       "7       6     43              6_times_eurogamer net_eurogamer_net   \n",
       "8       7     38                  7_enix_square enix_square_kiryu   \n",
       "9       8     35                       8_film_ai_poster_generated   \n",
       "10      9     33            9_2024_november 2024_november_january   \n",
       "11     10     31               10_foamstars_game_enix_square enix   \n",
       "12     11     30      11_2025 retrieved_retrieved_2025_march 2025   \n",
       "13     12     21                    12_ign_ign ign_wyp100_ign com   \n",
       "14     13     20  13_2024 retrieved_retrieved_2024_september 2024   \n",
       "15     14     20              14_2024_november 2024_november_2025   \n",
       "16     15     18              15_yes_definitely_really_appreciate   \n",
       "17     16     16         16_advertisement_404 media_404_media 404   \n",
       "18     17     16                 17_block_birds_angry birds_angry   \n",
       "\n",
       "                                          CustomName  \\\n",
       "0                                      Outlier Topic   \n",
       "1                      AI-Generated Content and Slop   \n",
       "2                       Dublin Halloween Parade Hoax   \n",
       "3               Activision AI-Generated Game Content   \n",
       "4                    Coca-Cola's AI Holiday Campaign   \n",
       "5                  Willy's Chocolate Experience Fail   \n",
       "6                   Event Cancellation and Apologies   \n",
       "7                       Prominent News Media Outlets   \n",
       "8                 Square Enix's AI and Tech Strategy   \n",
       "9              Paramount's AI-Generated Film Content   \n",
       "10                      2024 Tech and Media Coverage   \n",
       "11                   AI Use in Foamstars Development   \n",
       "12                     2025 Document Retrieval Dates   \n",
       "13  IGN Editorial Contacts and Activision Commentary   \n",
       "14                  2024 Document Retrieval Timeline   \n",
       "15                     2024 Fans Unwrapping Reaction   \n",
       "16                     Misjudgments and Humanization   \n",
       "17            404 Media Advertising and Storytelling   \n",
       "18                   Angry Birds Block Puzzle Launch   \n",
       "\n",
       "                                       Representation  \\\n",
       "0   [voice, ai, spotify, wrapped, game, using, use...   \n",
       "1   [ai, slop, content, generated, facebook, image...   \n",
       "2   [parade, halloween, dublin, halloween parade, ...   \n",
       "3   [activision, game, duty, ai, black, black ops,...   \n",
       "4   [cola, coca cola, coca, company, ad, holidays,...   \n",
       "5   [chocolate, willy, event, experience, chocolat...   \n",
       "6   [scammers, highly, mistake, actually, highly e...   \n",
       "7   [times, eurogamer net, eurogamer, net, news, y...   \n",
       "8   [enix, square enix, square, kiryu, aggressive,...   \n",
       "9   [film, ai, poster, generated, ai generated, pa...   \n",
       "10  [2024, november 2024, november, january, augus...   \n",
       "11  [foamstars, game, enix, square enix, square, a...   \n",
       "12  [2025 retrieved, retrieved, 2025, march 2025, ...   \n",
       "13  [ign, ign ign, wyp100, ign com, wesley, com, t...   \n",
       "14  [2024 retrieved, retrieved, 2024, september 20...   \n",
       "15  [2024, november 2024, november, 2025, february...   \n",
       "16  [yes, definitely, really, appreciate, really p...   \n",
       "17  [advertisement, 404 media, 404, media 404, med...   \n",
       "18  [block, birds, angry birds, angry, block quest...   \n",
       "\n",
       "                                              KeyBERT  \\\n",
       "0   [ai generated, using ai, generative ai, spotif...   \n",
       "1   [slop, ai slop, ai generated, generative ai, s...   \n",
       "2   [halloween parade, parade dublin, dublin hallo...   \n",
       "3   [activision ai, activision, activision sold, g...   \n",
       "4   [coca cola, cola company, coke, christmas ad, ...   \n",
       "5   [wonka chocolate, willy chocolate, wonka event...   \n",
       "6   [really sorry, highly embarrassed, mistake sca...   \n",
       "7   [york times, times reporter, washington post, ...   \n",
       "8   [square enix, enix president, enix intends, en...   \n",
       "9   [promoting film, paramount pictures, used ai, ...   \n",
       "10  [2024 koebler, 2024 warzel, october 2024, augu...   \n",
       "11  [foamstars game, game art, foamstars producer,...   \n",
       "12  [retrieved 2025, retrieved 24, 2025 retrieved,...   \n",
       "13  [ign ign, ign com, ign asked, newstips ign, we...   \n",
       "14  [retrieved 29, 2024 retrieved, september 2024,...   \n",
       "15  [november 2024, 2024 november, april 2024, jul...   \n",
       "16  [exactly yes, yes, true yes, definitely yes, y...   \n",
       "17  [404 media, media 404, middle 404, 404, advert...   \n",
       "18  [angry birds, rovio entertainment, ios rovio, ...   \n",
       "\n",
       "                                               OpenAI  \\\n",
       "0                         [AI Impact on Voice Actors]   \n",
       "1                     [AI-Generated Content and Slop]   \n",
       "2                      [Dublin Halloween Parade Hoax]   \n",
       "3              [Activision AI-Generated Game Content]   \n",
       "4                   [Coca-Cola's AI Holiday Campaign]   \n",
       "5                 [Willy's Chocolate Experience Fail]   \n",
       "6                  [Event Cancellation and Apologies]   \n",
       "7                      [Prominent News Media Outlets]   \n",
       "8                [Square Enix's AI and Tech Strategy]   \n",
       "9             [Paramount's AI-Generated Film Content]   \n",
       "10                     [2024 Tech and Media Coverage]   \n",
       "11                  [AI Use in Foamstars Development]   \n",
       "12                    [2025 Document Retrieval Dates]   \n",
       "13  [IGN Editorial Contacts and Activision Comment...   \n",
       "14                 [2024 Document Retrieval Timeline]   \n",
       "15                    [2024 Fans Unwrapping Reaction]   \n",
       "16                    [Misjudgments and Humanization]   \n",
       "17           [404 Media Advertising and Storytelling]   \n",
       "18                  [Angry Birds Block Puzzle Launch]   \n",
       "\n",
       "                                                  MMR  \\\n",
       "0   [voice, spotify, actors, studios, noa, voice a...   \n",
       "1   [generated, facebook, ai generated, ai slop, t...   \n",
       "2   [parade, halloween parade, connell street, mys...   \n",
       "3   [activision, black ops, steam, generative ai, ...   \n",
       "4   [coca cola, backlash, commercials, brand, holi...   \n",
       "5   [chocolate experience, willy chocolate, wonka,...   \n",
       "6   [scammers, highly embarrassed, tickets, actual...   \n",
       "7   [eurogamer net, eurogamer, york times, net gam...   \n",
       "8   [enix, square enix, aggressive, applying ai, d...   \n",
       "9   [paramount, civil war, novocaine, a24, posters...   \n",
       "10  [november 2024, august 2024, october 2024, 202...   \n",
       "11  [foamstars, enix, square enix, album covers, v...   \n",
       "12  [2025 retrieved, march 2025, retrieved 24, ret...   \n",
       "13  [ign ign, wyp100 reach, wesley wesley_yinpoole...   \n",
       "14  [2024 retrieved, september 2024, november 2024...   \n",
       "15  [november 2024, february 2025, 2024 fans, fans...   \n",
       "16  [gotten wrong, yikes thank, passive income, ye...   \n",
       "17  [media 404, advertisement advertisement, artic...   \n",
       "18  [angry birds, birds block, game, quest soft, r...   \n",
       "\n",
       "                                                  POS  \\\n",
       "0   [voice, game, users, company, event, actors, s...   \n",
       "1   [slop, content, images, people, media, social,...   \n",
       "2   [parade, halloween, street, website, people, c...   \n",
       "3   [game, black, loading, generative, steam, bund...   \n",
       "4   [cola, company, ad, holidays, holiday, commerc...   \n",
       "5   [chocolate, event, experience, children, wareh...   \n",
       "6   [scammers, mistake, embarrassed, tickets, scam...   \n",
       "7   [news, reporter, sports, coverage, editor, yea...   \n",
       "8   [aggressive, blockchain, letter, year, develop...   \n",
       "9   [film, poster, men, posters, voice, quality, n...   \n",
       "10                               [, , , , , , , , , ]   \n",
       "11  [game, art, core, album, team, producer, upcom...   \n",
       "12                               [, , , , , , , , , ]   \n",
       "13         [news, comment, writer, email, , , , , , ]   \n",
       "14                         [topics, , , , , , , , , ]   \n",
       "15  [unwrapped, underwhelming, little, fans, , , ,...   \n",
       "16  [passive income, passive, people, income, wron...   \n",
       "17  [story, possible story, original post, exchang...   \n",
       "18  [block, game, title, puzzle, latest, franchise...   \n",
       "\n",
       "                                  Representative_Docs  \n",
       "0   [Similarly, Spotify’s new Wrapped AI podcast f...  \n",
       "1   [- \"AI slop\" images are all over Facebook., Wh...  \n",
       "2   [People waiting for a halloween parade., “All ...  \n",
       "3   [Activision states on the game's product page ...  \n",
       "4   [Coca-Cola will always remain dedicated to cre...  \n",
       "5   [Note that it’s named after “Willy” but not “W...  \n",
       "6   [And you guys should not say that we are the s...  \n",
       "7   [The New York Times., The New York Times., The...  \n",
       "8   [The inclusion of AI in Foamstars is perhaps u...  \n",
       "9   [[21]\\nIn March 2025, Paramount Pictures was c...  \n",
       "10  [- ^ Warzel, Charlie (10 October 2024)., - ^ W...  \n",
       "11  [In an interview with VGC, Kosuke Okatani, pro...  \n",
       "12  [Retrieved 24 March 2025., Retrieved 24 March ...  \n",
       "13  [IGN., You can reach Wesley at wesley_yinpoole...  \n",
       "14  [Retrieved 29 September 2024., Retrieved 29 Se...  \n",
       "15  [1 November 2024., 1 November 2024., 2 Novembe...  \n",
       "16  [OK. Is there anything else you think people h...  \n",
       "17  [404 Media., 404 Media., Buried in the middle ...  \n",
       "18  [- Angry Birds Block Quest is a block puzzle g...  "
      ]
     },
     "execution_count": 43,
     "metadata": {},
     "output_type": "execute_result"
    }
   ],
   "source": [
    "chatgpt_topic_labels = {\n",
    "    topic: \" | \".join(list(zip(*values))[0])\n",
    "    for topic, values in topic_model.topic_aspects_[\"OpenAI\"].items()\n",
    "}\n",
    "chatgpt_topic_labels[-1] = \"Outlier Topic\"\n",
    "topic_model.set_topic_labels(chatgpt_topic_labels)\n",
    "\n",
    "topic_model.get_topic_info()"
   ]
  },
  {
   "cell_type": "code",
   "execution_count": 44,
   "id": "5b02925d",
   "metadata": {},
   "outputs": [
    {
     "data": {
      "text/plain": [
       "['Outlier Topic',\n",
       " 'AI-Generated Content and Slop',\n",
       " 'Dublin Halloween Parade Hoax',\n",
       " 'Activision AI-Generated Game Content',\n",
       " \"Coca-Cola's AI Holiday Campaign\",\n",
       " \"Willy's Chocolate Experience Fail\",\n",
       " 'Event Cancellation and Apologies',\n",
       " 'Prominent News Media Outlets',\n",
       " \"Square Enix's AI and Tech Strategy\",\n",
       " \"Paramount's AI-Generated Film Content\",\n",
       " '2024 Tech and Media Coverage',\n",
       " 'AI Use in Foamstars Development',\n",
       " '2025 Document Retrieval Dates',\n",
       " 'IGN Editorial Contacts and Activision Commentary',\n",
       " '2024 Document Retrieval Timeline',\n",
       " '2024 Fans Unwrapping Reaction',\n",
       " 'Misjudgments and Humanization',\n",
       " '404 Media Advertising and Storytelling',\n",
       " 'Angry Birds Block Puzzle Launch']"
      ]
     },
     "execution_count": 44,
     "metadata": {},
     "output_type": "execute_result"
    }
   ],
   "source": [
    "topic_model.get_topic_info()[\"CustomName\"].tolist()"
   ]
  },
  {
   "cell_type": "code",
   "execution_count": 45,
   "id": "82405937",
   "metadata": {},
   "outputs": [
    {
     "data": {
      "application/vnd.plotly.v1+json": {
       "config": {
        "plotlyServerURL": "https://plot.ly"
       },
       "data": [
        {
         "hoverinfo": "text",
         "marker": {
          "color": "rgb(61,153,112)"
         },
         "mode": "lines",
         "type": "scatter",
         "x": {
          "bdata": "AAAAAAAAAAA0g6M0AqzgPzSDozQCrOA/AAAAAAAAAAA=",
          "dtype": "f8"
         },
         "xaxis": "x",
         "y": {
          "bdata": "AAAAAAAALsAAAAAAAAAuwAAAAAAAADnAAAAAAAAAOcA=",
          "dtype": "f8"
         },
         "yaxis": "y"
        },
        {
         "hoverinfo": "text",
         "marker": {
          "color": "rgb(61,153,112)"
         },
         "mode": "lines",
         "type": "scatter",
         "x": {
          "bdata": "NIOjNAKs4D+lDeDb4bjnP6UN4NvhuOc/AAAAAAAAAAA=",
          "dtype": "f8"
         },
         "xaxis": "x",
         "y": {
          "bdata": "AAAAAAAANMAAAAAAAAA0wAAAAAAAgEHAAAAAAACAQcA=",
          "dtype": "f8"
         },
         "yaxis": "y"
        },
        {
         "hoverinfo": "text",
         "marker": {
          "color": "rgb(61,153,112)"
         },
         "mode": "lines",
         "type": "scatter",
         "x": {
          "bdata": "AAAAAAAAAABNnU43/z7tP02dTjf/Pu0/pQ3g2+G45z8=",
          "dtype": "f8"
         },
         "xaxis": "x",
         "y": {
          "bdata": "AAAAAAAAFMAAAAAAAAAUwAAAAAAAgDvAAAAAAACAO8A=",
          "dtype": "f8"
         },
         "yaxis": "y"
        },
        {
         "hoverinfo": "text",
         "marker": {
          "color": "rgb(255,65,54)"
         },
         "mode": "lines",
         "type": "scatter",
         "x": {
          "bdata": "AAAAAAAAAAB+MhVC/8ntP34yFUL/ye0/AAAAAAAAAAA=",
          "dtype": "f8"
         },
         "xaxis": "x",
         "y": {
          "bdata": "AAAAAACAS8AAAAAAAIBLwAAAAAAAQFDAAAAAAABAUMA=",
          "dtype": "f8"
         },
         "yaxis": "y"
        },
        {
         "hoverinfo": "text",
         "marker": {
          "color": "rgb(255,65,54)"
         },
         "mode": "lines",
         "type": "scatter",
         "x": {
          "bdata": "fjIVQv/J7T+2DimQ4hnuP7YOKZDiGe4/AAAAAAAAAAA=",
          "dtype": "f8"
         },
         "xaxis": "x",
         "y": {
          "bdata": "AAAAAAAATsAAAAAAAABOwAAAAAAAwFLAAAAAAADAUsA=",
          "dtype": "f8"
         },
         "yaxis": "y"
        },
        {
         "hoverinfo": "text",
         "marker": {
          "color": "rgb(255,65,54)"
         },
         "mode": "lines",
         "type": "scatter",
         "x": {
          "bdata": "AAAAAAAAAADX7hrIGp3vP9fuGsgane8/tg4pkOIZ7j8=",
          "dtype": "f8"
         },
         "xaxis": "x",
         "y": {
          "bdata": "AAAAAACARsAAAAAAAIBGwAAAAAAA4FDAAAAAAADgUMA=",
          "dtype": "f8"
         },
         "yaxis": "y"
        },
        {
         "hoverinfo": "text",
         "marker": {
          "color": "rgb(35,205,205)"
         },
         "mode": "lines",
         "type": "scatter",
         "x": {
          "bdata": "AAAAAAAAAABtiMNNDuTuP22Iw00O5O4/AAAAAAAAAAA=",
          "dtype": "f8"
         },
         "xaxis": "x",
         "y": {
          "bdata": "AAAAAABAVcAAAAAAAEBVwAAAAAAAwFfAAAAAAADAV8A=",
          "dtype": "f8"
         },
         "yaxis": "y"
        },
        {
         "hoverinfo": "text",
         "marker": {
          "color": "rgb(133,20,75)"
         },
         "mode": "lines",
         "type": "scatter",
         "x": {
          "bdata": "AAAAAAAAAADpzMC/7uvvP+nMwL/u6+8/AAAAAAAAAAA=",
          "dtype": "f8"
         },
         "xaxis": "x",
         "y": {
          "bdata": "AAAAAABAWsAAAAAAAEBawAAAAAAAwFzAAAAAAADAXMA=",
          "dtype": "f8"
         },
         "yaxis": "y"
        },
        {
         "hoverinfo": "text",
         "marker": {
          "color": "rgb(0,116,217)"
         },
         "mode": "lines",
         "type": "scatter",
         "x": {
          "bdata": "bYjDTQ7k7j9N0MSrhTfwP03QxKuFN/A/6czAv+7r7z8=",
          "dtype": "f8"
         },
         "xaxis": "x",
         "y": {
          "bdata": "AAAAAACAVsAAAAAAAIBWwAAAAAAAgFvAAAAAAACAW8A=",
          "dtype": "f8"
         },
         "yaxis": "y"
        },
        {
         "hoverinfo": "text",
         "marker": {
          "color": "rgb(0,116,217)"
         },
         "mode": "lines",
         "type": "scatter",
         "x": {
          "bdata": "1+4ayBqd7z+PdhHocLLwP492EehwsvA/TdDEq4U38D8=",
          "dtype": "f8"
         },
         "xaxis": "x",
         "y": {
          "bdata": "AAAAAAAgTMAAAAAAACBMwAAAAAAAAFnAAAAAAAAAWcA=",
          "dtype": "f8"
         },
         "yaxis": "y"
        },
        {
         "hoverinfo": "text",
         "marker": {
          "color": "rgb(255,220,0)"
         },
         "mode": "lines",
         "type": "scatter",
         "x": {
          "bdata": "AAAAAAAAAADwV/9o7DXpP/BX/2jsNek/AAAAAAAAAAA=",
          "dtype": "f8"
         },
         "xaxis": "x",
         "y": {
          "bdata": "AAAAAADgYMAAAAAAAOBgwAAAAAAAIGLAAAAAAAAgYsA=",
          "dtype": "f8"
         },
         "yaxis": "y"
        },
        {
         "hoverinfo": "text",
         "marker": {
          "color": "rgb(255,220,0)"
         },
         "mode": "lines",
         "type": "scatter",
         "x": {
          "bdata": "8Ff/aOw16T+bYpllfC7sP5timWV8Luw/AAAAAAAAAAA=",
          "dtype": "f8"
         },
         "xaxis": "x",
         "y": {
          "bdata": "AAAAAACAYcAAAAAAAIBhwAAAAAAAYGPAAAAAAABgY8A=",
          "dtype": "f8"
         },
         "yaxis": "y"
        },
        {
         "hoverinfo": "text",
         "marker": {
          "color": "rgb(255,220,0)"
         },
         "mode": "lines",
         "type": "scatter",
         "x": {
          "bdata": "AAAAAAAAAACMpSBRv7XtP4ylIFG/te0/m2KZZXwu7D8=",
          "dtype": "f8"
         },
         "xaxis": "x",
         "y": {
          "bdata": "AAAAAABAX8AAAAAAAEBfwAAAAAAAcGLAAAAAAABwYsA=",
          "dtype": "f8"
         },
         "yaxis": "y"
        },
        {
         "hoverinfo": "text",
         "marker": {
          "color": "rgb(40,35,35)"
         },
         "mode": "lines",
         "type": "scatter",
         "x": {
          "bdata": "AAAAAAAAAADg20J75FnqP+DbQnvkWeo/AAAAAAAAAAA=",
          "dtype": "f8"
         },
         "xaxis": "x",
         "y": {
          "bdata": "AAAAAACgZMAAAAAAAKBkwAAAAAAA4GXAAAAAAADgZcA=",
          "dtype": "f8"
         },
         "yaxis": "y"
        },
        {
         "hoverinfo": "text",
         "marker": {
          "color": "rgb(0,116,217)"
         },
         "mode": "lines",
         "type": "scatter",
         "x": {
          "bdata": "jKUgUb+17T8h309JqpvwPyHfT0mqm/A/4NtCe+RZ6j8=",
          "dtype": "f8"
         },
         "xaxis": "x",
         "y": {
          "bdata": "AAAAAAAIYcAAAAAAAAhhwAAAAAAAQGXAAAAAAABAZcA=",
          "dtype": "f8"
         },
         "yaxis": "y"
        },
        {
         "hoverinfo": "text",
         "marker": {
          "color": "rgb(0,116,217)"
         },
         "mode": "lines",
         "type": "scatter",
         "x": {
          "bdata": "j3YR6HCy8D/NXjIAt27yP81eMgC3bvI/Id9PSaqb8D8=",
          "dtype": "f8"
         },
         "xaxis": "x",
         "y": {
          "bdata": "AAAAAACIU8AAAAAAAIhTwAAAAAAAJGPAAAAAAAAkY8A=",
          "dtype": "f8"
         },
         "yaxis": "y"
        },
        {
         "hoverinfo": "text",
         "marker": {
          "color": "rgb(0,116,217)"
         },
         "mode": "lines",
         "type": "scatter",
         "x": {
          "bdata": "TZ1ON/8+7T/VCIzczTL3P9UIjNzNMvc/zV4yALdu8j8=",
          "dtype": "f8"
         },
         "xaxis": "x",
         "y": {
          "bdata": "AAAAAABAMMAAAAAAAEAwwAAAAAAA6FzAAAAAAADoXMA=",
          "dtype": "f8"
         },
         "yaxis": "y"
        }
       ],
       "layout": {
        "autosize": false,
        "height": 470,
        "hoverlabel": {
         "bgcolor": "white",
         "font": {
          "family": "Rockwell",
          "size": 16
         }
        },
        "hovermode": "closest",
        "plot_bgcolor": "#ECEFF1",
        "showlegend": false,
        "template": {
         "data": {
          "bar": [
           {
            "error_x": {
             "color": "#2a3f5f"
            },
            "error_y": {
             "color": "#2a3f5f"
            },
            "marker": {
             "line": {
              "color": "white",
              "width": 0.5
             },
             "pattern": {
              "fillmode": "overlay",
              "size": 10,
              "solidity": 0.2
             }
            },
            "type": "bar"
           }
          ],
          "barpolar": [
           {
            "marker": {
             "line": {
              "color": "white",
              "width": 0.5
             },
             "pattern": {
              "fillmode": "overlay",
              "size": 10,
              "solidity": 0.2
             }
            },
            "type": "barpolar"
           }
          ],
          "carpet": [
           {
            "aaxis": {
             "endlinecolor": "#2a3f5f",
             "gridcolor": "#C8D4E3",
             "linecolor": "#C8D4E3",
             "minorgridcolor": "#C8D4E3",
             "startlinecolor": "#2a3f5f"
            },
            "baxis": {
             "endlinecolor": "#2a3f5f",
             "gridcolor": "#C8D4E3",
             "linecolor": "#C8D4E3",
             "minorgridcolor": "#C8D4E3",
             "startlinecolor": "#2a3f5f"
            },
            "type": "carpet"
           }
          ],
          "choropleth": [
           {
            "colorbar": {
             "outlinewidth": 0,
             "ticks": ""
            },
            "type": "choropleth"
           }
          ],
          "contour": [
           {
            "colorbar": {
             "outlinewidth": 0,
             "ticks": ""
            },
            "colorscale": [
             [
              0,
              "#0d0887"
             ],
             [
              0.1111111111111111,
              "#46039f"
             ],
             [
              0.2222222222222222,
              "#7201a8"
             ],
             [
              0.3333333333333333,
              "#9c179e"
             ],
             [
              0.4444444444444444,
              "#bd3786"
             ],
             [
              0.5555555555555556,
              "#d8576b"
             ],
             [
              0.6666666666666666,
              "#ed7953"
             ],
             [
              0.7777777777777778,
              "#fb9f3a"
             ],
             [
              0.8888888888888888,
              "#fdca26"
             ],
             [
              1,
              "#f0f921"
             ]
            ],
            "type": "contour"
           }
          ],
          "contourcarpet": [
           {
            "colorbar": {
             "outlinewidth": 0,
             "ticks": ""
            },
            "type": "contourcarpet"
           }
          ],
          "heatmap": [
           {
            "colorbar": {
             "outlinewidth": 0,
             "ticks": ""
            },
            "colorscale": [
             [
              0,
              "#0d0887"
             ],
             [
              0.1111111111111111,
              "#46039f"
             ],
             [
              0.2222222222222222,
              "#7201a8"
             ],
             [
              0.3333333333333333,
              "#9c179e"
             ],
             [
              0.4444444444444444,
              "#bd3786"
             ],
             [
              0.5555555555555556,
              "#d8576b"
             ],
             [
              0.6666666666666666,
              "#ed7953"
             ],
             [
              0.7777777777777778,
              "#fb9f3a"
             ],
             [
              0.8888888888888888,
              "#fdca26"
             ],
             [
              1,
              "#f0f921"
             ]
            ],
            "type": "heatmap"
           }
          ],
          "histogram": [
           {
            "marker": {
             "pattern": {
              "fillmode": "overlay",
              "size": 10,
              "solidity": 0.2
             }
            },
            "type": "histogram"
           }
          ],
          "histogram2d": [
           {
            "colorbar": {
             "outlinewidth": 0,
             "ticks": ""
            },
            "colorscale": [
             [
              0,
              "#0d0887"
             ],
             [
              0.1111111111111111,
              "#46039f"
             ],
             [
              0.2222222222222222,
              "#7201a8"
             ],
             [
              0.3333333333333333,
              "#9c179e"
             ],
             [
              0.4444444444444444,
              "#bd3786"
             ],
             [
              0.5555555555555556,
              "#d8576b"
             ],
             [
              0.6666666666666666,
              "#ed7953"
             ],
             [
              0.7777777777777778,
              "#fb9f3a"
             ],
             [
              0.8888888888888888,
              "#fdca26"
             ],
             [
              1,
              "#f0f921"
             ]
            ],
            "type": "histogram2d"
           }
          ],
          "histogram2dcontour": [
           {
            "colorbar": {
             "outlinewidth": 0,
             "ticks": ""
            },
            "colorscale": [
             [
              0,
              "#0d0887"
             ],
             [
              0.1111111111111111,
              "#46039f"
             ],
             [
              0.2222222222222222,
              "#7201a8"
             ],
             [
              0.3333333333333333,
              "#9c179e"
             ],
             [
              0.4444444444444444,
              "#bd3786"
             ],
             [
              0.5555555555555556,
              "#d8576b"
             ],
             [
              0.6666666666666666,
              "#ed7953"
             ],
             [
              0.7777777777777778,
              "#fb9f3a"
             ],
             [
              0.8888888888888888,
              "#fdca26"
             ],
             [
              1,
              "#f0f921"
             ]
            ],
            "type": "histogram2dcontour"
           }
          ],
          "mesh3d": [
           {
            "colorbar": {
             "outlinewidth": 0,
             "ticks": ""
            },
            "type": "mesh3d"
           }
          ],
          "parcoords": [
           {
            "line": {
             "colorbar": {
              "outlinewidth": 0,
              "ticks": ""
             }
            },
            "type": "parcoords"
           }
          ],
          "pie": [
           {
            "automargin": true,
            "type": "pie"
           }
          ],
          "scatter": [
           {
            "fillpattern": {
             "fillmode": "overlay",
             "size": 10,
             "solidity": 0.2
            },
            "type": "scatter"
           }
          ],
          "scatter3d": [
           {
            "line": {
             "colorbar": {
              "outlinewidth": 0,
              "ticks": ""
             }
            },
            "marker": {
             "colorbar": {
              "outlinewidth": 0,
              "ticks": ""
             }
            },
            "type": "scatter3d"
           }
          ],
          "scattercarpet": [
           {
            "marker": {
             "colorbar": {
              "outlinewidth": 0,
              "ticks": ""
             }
            },
            "type": "scattercarpet"
           }
          ],
          "scattergeo": [
           {
            "marker": {
             "colorbar": {
              "outlinewidth": 0,
              "ticks": ""
             }
            },
            "type": "scattergeo"
           }
          ],
          "scattergl": [
           {
            "marker": {
             "colorbar": {
              "outlinewidth": 0,
              "ticks": ""
             }
            },
            "type": "scattergl"
           }
          ],
          "scattermap": [
           {
            "marker": {
             "colorbar": {
              "outlinewidth": 0,
              "ticks": ""
             }
            },
            "type": "scattermap"
           }
          ],
          "scattermapbox": [
           {
            "marker": {
             "colorbar": {
              "outlinewidth": 0,
              "ticks": ""
             }
            },
            "type": "scattermapbox"
           }
          ],
          "scatterpolar": [
           {
            "marker": {
             "colorbar": {
              "outlinewidth": 0,
              "ticks": ""
             }
            },
            "type": "scatterpolar"
           }
          ],
          "scatterpolargl": [
           {
            "marker": {
             "colorbar": {
              "outlinewidth": 0,
              "ticks": ""
             }
            },
            "type": "scatterpolargl"
           }
          ],
          "scatterternary": [
           {
            "marker": {
             "colorbar": {
              "outlinewidth": 0,
              "ticks": ""
             }
            },
            "type": "scatterternary"
           }
          ],
          "surface": [
           {
            "colorbar": {
             "outlinewidth": 0,
             "ticks": ""
            },
            "colorscale": [
             [
              0,
              "#0d0887"
             ],
             [
              0.1111111111111111,
              "#46039f"
             ],
             [
              0.2222222222222222,
              "#7201a8"
             ],
             [
              0.3333333333333333,
              "#9c179e"
             ],
             [
              0.4444444444444444,
              "#bd3786"
             ],
             [
              0.5555555555555556,
              "#d8576b"
             ],
             [
              0.6666666666666666,
              "#ed7953"
             ],
             [
              0.7777777777777778,
              "#fb9f3a"
             ],
             [
              0.8888888888888888,
              "#fdca26"
             ],
             [
              1,
              "#f0f921"
             ]
            ],
            "type": "surface"
           }
          ],
          "table": [
           {
            "cells": {
             "fill": {
              "color": "#EBF0F8"
             },
             "line": {
              "color": "white"
             }
            },
            "header": {
             "fill": {
              "color": "#C8D4E3"
             },
             "line": {
              "color": "white"
             }
            },
            "type": "table"
           }
          ]
         },
         "layout": {
          "annotationdefaults": {
           "arrowcolor": "#2a3f5f",
           "arrowhead": 0,
           "arrowwidth": 1
          },
          "autotypenumbers": "strict",
          "coloraxis": {
           "colorbar": {
            "outlinewidth": 0,
            "ticks": ""
           }
          },
          "colorscale": {
           "diverging": [
            [
             0,
             "#8e0152"
            ],
            [
             0.1,
             "#c51b7d"
            ],
            [
             0.2,
             "#de77ae"
            ],
            [
             0.3,
             "#f1b6da"
            ],
            [
             0.4,
             "#fde0ef"
            ],
            [
             0.5,
             "#f7f7f7"
            ],
            [
             0.6,
             "#e6f5d0"
            ],
            [
             0.7,
             "#b8e186"
            ],
            [
             0.8,
             "#7fbc41"
            ],
            [
             0.9,
             "#4d9221"
            ],
            [
             1,
             "#276419"
            ]
           ],
           "sequential": [
            [
             0,
             "#0d0887"
            ],
            [
             0.1111111111111111,
             "#46039f"
            ],
            [
             0.2222222222222222,
             "#7201a8"
            ],
            [
             0.3333333333333333,
             "#9c179e"
            ],
            [
             0.4444444444444444,
             "#bd3786"
            ],
            [
             0.5555555555555556,
             "#d8576b"
            ],
            [
             0.6666666666666666,
             "#ed7953"
            ],
            [
             0.7777777777777778,
             "#fb9f3a"
            ],
            [
             0.8888888888888888,
             "#fdca26"
            ],
            [
             1,
             "#f0f921"
            ]
           ],
           "sequentialminus": [
            [
             0,
             "#0d0887"
            ],
            [
             0.1111111111111111,
             "#46039f"
            ],
            [
             0.2222222222222222,
             "#7201a8"
            ],
            [
             0.3333333333333333,
             "#9c179e"
            ],
            [
             0.4444444444444444,
             "#bd3786"
            ],
            [
             0.5555555555555556,
             "#d8576b"
            ],
            [
             0.6666666666666666,
             "#ed7953"
            ],
            [
             0.7777777777777778,
             "#fb9f3a"
            ],
            [
             0.8888888888888888,
             "#fdca26"
            ],
            [
             1,
             "#f0f921"
            ]
           ]
          },
          "colorway": [
           "#636efa",
           "#EF553B",
           "#00cc96",
           "#ab63fa",
           "#FFA15A",
           "#19d3f3",
           "#FF6692",
           "#B6E880",
           "#FF97FF",
           "#FECB52"
          ],
          "font": {
           "color": "#2a3f5f"
          },
          "geo": {
           "bgcolor": "white",
           "lakecolor": "white",
           "landcolor": "white",
           "showlakes": true,
           "showland": true,
           "subunitcolor": "#C8D4E3"
          },
          "hoverlabel": {
           "align": "left"
          },
          "hovermode": "closest",
          "mapbox": {
           "style": "light"
          },
          "paper_bgcolor": "white",
          "plot_bgcolor": "white",
          "polar": {
           "angularaxis": {
            "gridcolor": "#EBF0F8",
            "linecolor": "#EBF0F8",
            "ticks": ""
           },
           "bgcolor": "white",
           "radialaxis": {
            "gridcolor": "#EBF0F8",
            "linecolor": "#EBF0F8",
            "ticks": ""
           }
          },
          "scene": {
           "xaxis": {
            "backgroundcolor": "white",
            "gridcolor": "#DFE8F3",
            "gridwidth": 2,
            "linecolor": "#EBF0F8",
            "showbackground": true,
            "ticks": "",
            "zerolinecolor": "#EBF0F8"
           },
           "yaxis": {
            "backgroundcolor": "white",
            "gridcolor": "#DFE8F3",
            "gridwidth": 2,
            "linecolor": "#EBF0F8",
            "showbackground": true,
            "ticks": "",
            "zerolinecolor": "#EBF0F8"
           },
           "zaxis": {
            "backgroundcolor": "white",
            "gridcolor": "#DFE8F3",
            "gridwidth": 2,
            "linecolor": "#EBF0F8",
            "showbackground": true,
            "ticks": "",
            "zerolinecolor": "#EBF0F8"
           }
          },
          "shapedefaults": {
           "line": {
            "color": "#2a3f5f"
           }
          },
          "ternary": {
           "aaxis": {
            "gridcolor": "#DFE8F3",
            "linecolor": "#A2B1C6",
            "ticks": ""
           },
           "baxis": {
            "gridcolor": "#DFE8F3",
            "linecolor": "#A2B1C6",
            "ticks": ""
           },
           "bgcolor": "white",
           "caxis": {
            "gridcolor": "#DFE8F3",
            "linecolor": "#A2B1C6",
            "ticks": ""
           }
          },
          "title": {
           "x": 0.05
          },
          "xaxis": {
           "automargin": true,
           "gridcolor": "#EBF0F8",
           "linecolor": "#EBF0F8",
           "ticks": "",
           "title": {
            "standoff": 15
           },
           "zerolinecolor": "#EBF0F8",
           "zerolinewidth": 2
          },
          "yaxis": {
           "automargin": true,
           "gridcolor": "#EBF0F8",
           "linecolor": "#EBF0F8",
           "ticks": "",
           "title": {
            "standoff": 15
           },
           "zerolinecolor": "#EBF0F8",
           "zerolinewidth": 2
          }
         }
        },
        "title": {
         "font": {
          "color": "Black",
          "size": 22
         },
         "text": "<b>Hierarchical Clustering</b>",
         "x": 0.5,
         "xanchor": "center",
         "yanchor": "top"
        },
        "width": 1000,
        "xaxis": {
         "mirror": "allticks",
         "rangemode": "tozero",
         "showgrid": false,
         "showline": true,
         "showticklabels": true,
         "ticks": "outside",
         "type": "linear",
         "zeroline": false
        },
        "yaxis": {
         "mirror": "allticks",
         "range": [
          -180,
          0
         ],
         "rangemode": "tozero",
         "showgrid": false,
         "showline": true,
         "showticklabels": true,
         "tickmode": "array",
         "ticks": "outside",
         "ticktext": [
          "2025 Document Retrieval Dates",
          "2024 Fans Unwrapping Reaction",
          "2024 Tech and Media Coverage",
          "2024 Document Retrieval Timeline",
          "Misjudgments and Humanization",
          "Dublin Halloween Parade Hoax",
          "Event Cancellation and Apologies",
          "Willy's Chocolate Experience Fail",
          "IGN Editorial Contacts and Activision Commentary",
          "Prominent News Media Outlets",
          "Angry Birds Block Puzzle Launch",
          "404 Media Advertising and Storytelling",
          "Coca-Cola's AI Holiday Campaign",
          "Activision AI-Generated Game Content",
          "AI-Generated Content and Slop",
          "Paramount's AI-Generated Film Content",
          "AI Use in Foamstars Development",
          "Square Enix's AI and Tech Strategy"
         ],
         "tickvals": [
          -5,
          -15,
          -25,
          -35,
          -45,
          -55,
          -65,
          -75,
          -85,
          -95,
          -105,
          -115,
          -125,
          -135,
          -145,
          -155,
          -165,
          -175
         ],
         "type": "linear",
         "zeroline": false
        }
       }
      }
     },
     "metadata": {},
     "output_type": "display_data"
    }
   ],
   "source": [
    "topic_model.visualize_hierarchy(custom_labels=True)"
   ]
  },
  {
   "cell_type": "code",
   "execution_count": 46,
   "id": "031eb2bd",
   "metadata": {},
   "outputs": [
    {
     "data": {
      "application/vnd.plotly.v1+json": {
       "config": {
        "plotlyServerURL": "https://plot.ly"
       },
       "data": [
        {
         "coloraxis": "coloraxis",
         "hovertemplate": "x: %{x}<br>y: %{y}<br>Similarity Score: %{z}<extra></extra>",
         "name": "0",
         "type": "heatmap",
         "x": [
          "0_ai_slop_content",
          "1_parade_halloween_dublin",
          "2_activision_game_duty",
          "3_cola_coca cola_coca",
          "4_chocolate_willy_event",
          "5_scammers_highly_mistake",
          "6_times_eurogamer net_eurog...",
          "7_enix_square enix_square",
          "8_film_ai_poster",
          "9_2024_november 2024_november",
          "10_foamstars_game_enix",
          "11_2025 retrieved_retrieved...",
          "12_ign_ign ign_wyp100",
          "13_2024 retrieved_retrieved...",
          "14_2024_november 2024_novem...",
          "15_yes_definitely_really",
          "16_advertisement_404 media_...",
          "17_block_birds_angry birds"
         ],
         "xaxis": "x",
         "y": [
          "0_ai_slop_content",
          "1_parade_halloween_dublin",
          "2_activision_game_duty",
          "3_cola_coca cola_coca",
          "4_chocolate_willy_event",
          "5_scammers_highly_mistake",
          "6_times_eurogamer net_eurog...",
          "7_enix_square enix_square",
          "8_film_ai_poster",
          "9_2024_november 2024_november",
          "10_foamstars_game_enix",
          "11_2025 retrieved_retrieved...",
          "12_ign_ign ign_wyp100",
          "13_2024 retrieved_retrieved...",
          "14_2024_november 2024_novem...",
          "15_yes_definitely_really",
          "16_advertisement_404 media_...",
          "17_block_birds_angry birds"
         ],
         "yaxis": "y",
         "z": {
          "bdata": "AQAAAAAA8D+z2yFRPkTaP+ZyFw6BzuM/ICwXVtVo4z+oRNSoQG7gPzdVMmB9Gd0/JV2O0b503z+ShJfGp4fgP+XrnLR9K+c/y5TYMzKQ3D/G68cYMM/gP+XLUl6rqNE/5IdCT3532z+ag2bupBXRP66zf/AVwcY/qZCDqUJi2z/dTcg2g5XhP2SULpDEHtQ/s9shUT5E2j/4///////vPxBSXbqC/dM/8fThQhk31z8vTXK3eJjhP5TFXw82/N0/eYXRb/Ip1T89I42CsoDJP+6ntWnf+NY/gODcQEOJ2D/TWcFFR+fPPxVSIss/xc8/8mvY7DAMzT+mRWc/107RP3PMomXwU8w/XbJxyTSr0T++HvwHLNfVP2sY/XFa7ck/5nIXDoHO4z8QUl26gv3TPwEAAAAAAPA/BU5ayTd/4T+N4jcFplLZPx5nnpTOQtQ/fW5aYWi91z8gNAzHAOThP+GlbONtH+Q/lMqLkRJB2D+op9ZD83HmPx4KoW09ZtA/idRuIfty3T/aEvcQ4ZDPP+0Cj7GSn8I/wlL2YWNp0D9ejiqPXMTZP5rTnDsUp90/ICwXVtVo4z/x9OFCGTfXPwVOWsk3f+E/+///////7z8PzKCSMIvgPxkRPIZFydM/EQjUyREv1T98rrhNLLbdP91A6HB9weM/kE6QXAyo1j9WqwojJ0zePyeqz1Q+Bso/j02yw9+G0j9U7dkzU+LIPy3PNObXfcM/VgLpKhq/zz9vAcaaBM7bP2iMHgFG/dA/qETUqEBu4D8vTXK3eJjhP43iNwWmUtk/D8ygkjCL4D8CAAAAAADwP36g2VKawN4/VQm7cQar1j9FovAs5ZHQP8iRsecYn+A/sthoz4YF2T+/+2lpbiDWP/+y+B3IIMw/wbUIaEgy0z9Wg/+didnLPwX90szBZsk/aj3k61h31j+SXOaF0+7ZPyilRQzapcw/N1UyYH0Z3T+UxV8PNvzdPx5nnpTOQtQ/GRE8hkXJ0z9+oNlSmsDeP/X//////+8/VUqzuTe/1D+uEGQ06pbRP4cr7UVaBdc/50V+Gw171T8R6FeQ1EDSP+ujPaT998o/NINB589t1D/Pp1b+vCDMP5HeVBGplcM/J+4Q1E434D9cvXuJq9DbP8HdM7Ea0Mg/JV2O0b503z95hdFv8inVP31uWmFovdc/EQjUyREv1T9VCbtxBqvWP1VKs7k3v9Q/+///////7z/tG8J1NE3VP0Hfm1U24tk/NOt7qYUj4T/bvsnNZ1PVP57tpAg1rdU/QAvAl9Mg5D8ctHjslJXWP0x13po/RM0/nLCo5B2A2j/LtU69dO7iP3q1yW3bpNQ/koSXxqeH4D89I42CsoDJPyA0DMcA5OE/fK64TSy23T9FovAs5ZHQP64QZDTqltE/7RvCdTRN1T8EAAAAAADwPycEt/AF2ts/Rss7dSNB2T+GAWrXAZblP1lifPBI/cs/G2Or7lAl2j8qLGYmVefKP7oBojUkZMo/cmEmxrcTzT+jq48bO9zXP69ck89l2dc/5euctH0r5z/up7Vp3/jWP+GlbONtH+Q/3UDocH3B4z/IkbHnGJ/gP4cr7UVaBdc/Qd+bVTbi2T8nBLfwBdrbP/z//////+8/GAFL/iaq2z8Fa7DZbLLgP6zLvM4yPdA/IfzMlgZN1z/ZB/MiZqDPPwh0bqyUfcY/Aei7OJNI1D8XGKrY6WXdP2y1Zi/ctNI/y5TYMzKQ3D+A4NxAQ4nYP5TKi5ESQdg/kE6QXAyo1j+y2GjPhgXZP+dFfhsNe9U/NOt7qYUj4T9Gyzt1I0HZPxgBS/4mqts//P//////7z97uy4JyJHVPwaIuUg5AeM/ovs9cQsk3D+p/XhJ+zzkP7r9dGgpr+M/EZfoEOUY1D9Cdlhx/8XdP0XV0tKk6tQ/xuvHGDDP4D/TWcFFR+fPP6in1kPzceY/VqsKIydM3j+/+2lpbiDWPxHoV5DUQNI/277JzWdT1T+GAWrXAZblPwVrsNlssuA/e7suCciR1T/////////vP3bAR/Lrqss/oBOg91+/2T+WTbpjDt7JP7HDtkVXC7s/ki38UlJh0D9MHLP8XV7XP+xtQDJwN9s/5ctSXquo0T8VUiLLP8XPPx4KoW09ZtA/J6rPVD4Gyj//svgdyCDMP+ujPaT998o/nu2kCDWt1T9ZYnzwSP3LP6zLvM4yPdA/Boi5SDkB4z92wEfy66rLP/3//////+8/fHMGH3uj0D8O6LGDA03sPzydvQar8uI/tiSWCphpzD9TFy1DR33VPxaE4irzXsc/5IdCT3532z/ya9jsMAzNP4nUbiH7ct0/j02yw9+G0j/BtQhoSDLTPzSDQefPbdQ/QAvAl9Mg5D8bY6vuUCXaPyH8zJYGTdc/ovs9cQsk3D+gE6D3X7/ZP3xzBh97o9A/BAAAAAAA8D+nPbl46pjQP5YIdB8PH8U/qjD3u/Ch2D/wVWVw2vjhP+hoq1rQTNY/moNm7qQV0T+mRWc/107RP9oS9xDhkM8/VO3ZM1PiyD9Wg/+didnLP8+nVv68IMw/HLR47JSV1j8qLGYmVefKP9kH8yJmoM8/qf14Sfs85D+WTbpjDt7JPw7osYMDTew/pz25eOqY0D/////////vPwRdwXeZEOQ/BkwomsT6yj+jlEpUSQvWP2d53dF7FMk/rrN/8BXBxj9zzKJl8FPMP+0Cj7GSn8I/Lc805td9wz8F/dLMwWbJP5HeVBGplcM/THXemj9EzT+6AaI1JGTKPwh0bqyUfcY/uv10aCmv4z+xw7ZFVwu7PzydvQar8uI/lgh0Hw8fxT8EXcF3mRDkP/v//////+8/2uuZ1b5nxz9G0w+AwQzQPzZuzX/UcMQ/qZCDqUJi2z9dsnHJNKvRP8JS9mFjadA/VgLpKhq/zz9qPeTrWHfWPyfuENRON+A/nLCo5B2A2j9yYSbGtxPNPwHouziTSNQ/EZfoEOUY1D+SLfxSUmHQP7YklgqYacw/qjD3u/Ch2D8GTCiaxPrKP9rrmdW+Z8c/+v//////7z+QwaGlK4jdP0YDBuU2Kck/3U3INoOV4T++HvwHLNfVP16OKo9cxNk/bwHGmgTO2z+SXOaF0+7ZP1y9e4mr0Ns/y7VOvXTu4j+jq48bO9zXPxcYqtjpZd0/QnZYcf/F3T9MHLP8XV7XP1MXLUNHfdU/8FVlcNr44T+jlEpUSQvWP0bTD4DBDNA/kMGhpSuI3T8GAAAAAADwP9xHgsNV09Q/ZJQukMQe1D9rGP1xWu3JP5rTnDsUp90/aIweAUb90D8opUUM2qXMP8HdM7Ea0Mg/erXJbduk1D+vXJPPZdnXP2y1Zi/ctNI/RdXS0qTq1D/sbUAycDfbPxaE4irzXsc/6GirWtBM1j9ned3RexTJPzZuzX/UcMQ/RgMG5TYpyT/cR4LDVdPUP/r//////+8/",
          "dtype": "f8",
          "shape": "18, 18"
         }
        }
       ],
       "layout": {
        "coloraxis": {
         "colorbar": {
          "title": {
           "text": "Similarity Score"
          }
         },
         "colorscale": [
          [
           0,
           "rgb(247,252,240)"
          ],
          [
           0.125,
           "rgb(224,243,219)"
          ],
          [
           0.25,
           "rgb(204,235,197)"
          ],
          [
           0.375,
           "rgb(168,221,181)"
          ],
          [
           0.5,
           "rgb(123,204,196)"
          ],
          [
           0.625,
           "rgb(78,179,211)"
          ],
          [
           0.75,
           "rgb(43,140,190)"
          ],
          [
           0.875,
           "rgb(8,104,172)"
          ],
          [
           1,
           "rgb(8,64,129)"
          ]
         ]
        },
        "height": 800,
        "hoverlabel": {
         "bgcolor": "white",
         "font": {
          "family": "Rockwell",
          "size": 16
         }
        },
        "legend": {
         "title": {
          "text": "Trend"
         }
        },
        "margin": {
         "t": 60
        },
        "showlegend": true,
        "template": {
         "data": {
          "bar": [
           {
            "error_x": {
             "color": "#2a3f5f"
            },
            "error_y": {
             "color": "#2a3f5f"
            },
            "marker": {
             "line": {
              "color": "#E5ECF6",
              "width": 0.5
             },
             "pattern": {
              "fillmode": "overlay",
              "size": 10,
              "solidity": 0.2
             }
            },
            "type": "bar"
           }
          ],
          "barpolar": [
           {
            "marker": {
             "line": {
              "color": "#E5ECF6",
              "width": 0.5
             },
             "pattern": {
              "fillmode": "overlay",
              "size": 10,
              "solidity": 0.2
             }
            },
            "type": "barpolar"
           }
          ],
          "carpet": [
           {
            "aaxis": {
             "endlinecolor": "#2a3f5f",
             "gridcolor": "white",
             "linecolor": "white",
             "minorgridcolor": "white",
             "startlinecolor": "#2a3f5f"
            },
            "baxis": {
             "endlinecolor": "#2a3f5f",
             "gridcolor": "white",
             "linecolor": "white",
             "minorgridcolor": "white",
             "startlinecolor": "#2a3f5f"
            },
            "type": "carpet"
           }
          ],
          "choropleth": [
           {
            "colorbar": {
             "outlinewidth": 0,
             "ticks": ""
            },
            "type": "choropleth"
           }
          ],
          "contour": [
           {
            "colorbar": {
             "outlinewidth": 0,
             "ticks": ""
            },
            "colorscale": [
             [
              0,
              "#0d0887"
             ],
             [
              0.1111111111111111,
              "#46039f"
             ],
             [
              0.2222222222222222,
              "#7201a8"
             ],
             [
              0.3333333333333333,
              "#9c179e"
             ],
             [
              0.4444444444444444,
              "#bd3786"
             ],
             [
              0.5555555555555556,
              "#d8576b"
             ],
             [
              0.6666666666666666,
              "#ed7953"
             ],
             [
              0.7777777777777778,
              "#fb9f3a"
             ],
             [
              0.8888888888888888,
              "#fdca26"
             ],
             [
              1,
              "#f0f921"
             ]
            ],
            "type": "contour"
           }
          ],
          "contourcarpet": [
           {
            "colorbar": {
             "outlinewidth": 0,
             "ticks": ""
            },
            "type": "contourcarpet"
           }
          ],
          "heatmap": [
           {
            "colorbar": {
             "outlinewidth": 0,
             "ticks": ""
            },
            "colorscale": [
             [
              0,
              "#0d0887"
             ],
             [
              0.1111111111111111,
              "#46039f"
             ],
             [
              0.2222222222222222,
              "#7201a8"
             ],
             [
              0.3333333333333333,
              "#9c179e"
             ],
             [
              0.4444444444444444,
              "#bd3786"
             ],
             [
              0.5555555555555556,
              "#d8576b"
             ],
             [
              0.6666666666666666,
              "#ed7953"
             ],
             [
              0.7777777777777778,
              "#fb9f3a"
             ],
             [
              0.8888888888888888,
              "#fdca26"
             ],
             [
              1,
              "#f0f921"
             ]
            ],
            "type": "heatmap"
           }
          ],
          "histogram": [
           {
            "marker": {
             "pattern": {
              "fillmode": "overlay",
              "size": 10,
              "solidity": 0.2
             }
            },
            "type": "histogram"
           }
          ],
          "histogram2d": [
           {
            "colorbar": {
             "outlinewidth": 0,
             "ticks": ""
            },
            "colorscale": [
             [
              0,
              "#0d0887"
             ],
             [
              0.1111111111111111,
              "#46039f"
             ],
             [
              0.2222222222222222,
              "#7201a8"
             ],
             [
              0.3333333333333333,
              "#9c179e"
             ],
             [
              0.4444444444444444,
              "#bd3786"
             ],
             [
              0.5555555555555556,
              "#d8576b"
             ],
             [
              0.6666666666666666,
              "#ed7953"
             ],
             [
              0.7777777777777778,
              "#fb9f3a"
             ],
             [
              0.8888888888888888,
              "#fdca26"
             ],
             [
              1,
              "#f0f921"
             ]
            ],
            "type": "histogram2d"
           }
          ],
          "histogram2dcontour": [
           {
            "colorbar": {
             "outlinewidth": 0,
             "ticks": ""
            },
            "colorscale": [
             [
              0,
              "#0d0887"
             ],
             [
              0.1111111111111111,
              "#46039f"
             ],
             [
              0.2222222222222222,
              "#7201a8"
             ],
             [
              0.3333333333333333,
              "#9c179e"
             ],
             [
              0.4444444444444444,
              "#bd3786"
             ],
             [
              0.5555555555555556,
              "#d8576b"
             ],
             [
              0.6666666666666666,
              "#ed7953"
             ],
             [
              0.7777777777777778,
              "#fb9f3a"
             ],
             [
              0.8888888888888888,
              "#fdca26"
             ],
             [
              1,
              "#f0f921"
             ]
            ],
            "type": "histogram2dcontour"
           }
          ],
          "mesh3d": [
           {
            "colorbar": {
             "outlinewidth": 0,
             "ticks": ""
            },
            "type": "mesh3d"
           }
          ],
          "parcoords": [
           {
            "line": {
             "colorbar": {
              "outlinewidth": 0,
              "ticks": ""
             }
            },
            "type": "parcoords"
           }
          ],
          "pie": [
           {
            "automargin": true,
            "type": "pie"
           }
          ],
          "scatter": [
           {
            "fillpattern": {
             "fillmode": "overlay",
             "size": 10,
             "solidity": 0.2
            },
            "type": "scatter"
           }
          ],
          "scatter3d": [
           {
            "line": {
             "colorbar": {
              "outlinewidth": 0,
              "ticks": ""
             }
            },
            "marker": {
             "colorbar": {
              "outlinewidth": 0,
              "ticks": ""
             }
            },
            "type": "scatter3d"
           }
          ],
          "scattercarpet": [
           {
            "marker": {
             "colorbar": {
              "outlinewidth": 0,
              "ticks": ""
             }
            },
            "type": "scattercarpet"
           }
          ],
          "scattergeo": [
           {
            "marker": {
             "colorbar": {
              "outlinewidth": 0,
              "ticks": ""
             }
            },
            "type": "scattergeo"
           }
          ],
          "scattergl": [
           {
            "marker": {
             "colorbar": {
              "outlinewidth": 0,
              "ticks": ""
             }
            },
            "type": "scattergl"
           }
          ],
          "scattermap": [
           {
            "marker": {
             "colorbar": {
              "outlinewidth": 0,
              "ticks": ""
             }
            },
            "type": "scattermap"
           }
          ],
          "scattermapbox": [
           {
            "marker": {
             "colorbar": {
              "outlinewidth": 0,
              "ticks": ""
             }
            },
            "type": "scattermapbox"
           }
          ],
          "scatterpolar": [
           {
            "marker": {
             "colorbar": {
              "outlinewidth": 0,
              "ticks": ""
             }
            },
            "type": "scatterpolar"
           }
          ],
          "scatterpolargl": [
           {
            "marker": {
             "colorbar": {
              "outlinewidth": 0,
              "ticks": ""
             }
            },
            "type": "scatterpolargl"
           }
          ],
          "scatterternary": [
           {
            "marker": {
             "colorbar": {
              "outlinewidth": 0,
              "ticks": ""
             }
            },
            "type": "scatterternary"
           }
          ],
          "surface": [
           {
            "colorbar": {
             "outlinewidth": 0,
             "ticks": ""
            },
            "colorscale": [
             [
              0,
              "#0d0887"
             ],
             [
              0.1111111111111111,
              "#46039f"
             ],
             [
              0.2222222222222222,
              "#7201a8"
             ],
             [
              0.3333333333333333,
              "#9c179e"
             ],
             [
              0.4444444444444444,
              "#bd3786"
             ],
             [
              0.5555555555555556,
              "#d8576b"
             ],
             [
              0.6666666666666666,
              "#ed7953"
             ],
             [
              0.7777777777777778,
              "#fb9f3a"
             ],
             [
              0.8888888888888888,
              "#fdca26"
             ],
             [
              1,
              "#f0f921"
             ]
            ],
            "type": "surface"
           }
          ],
          "table": [
           {
            "cells": {
             "fill": {
              "color": "#EBF0F8"
             },
             "line": {
              "color": "white"
             }
            },
            "header": {
             "fill": {
              "color": "#C8D4E3"
             },
             "line": {
              "color": "white"
             }
            },
            "type": "table"
           }
          ]
         },
         "layout": {
          "annotationdefaults": {
           "arrowcolor": "#2a3f5f",
           "arrowhead": 0,
           "arrowwidth": 1
          },
          "autotypenumbers": "strict",
          "coloraxis": {
           "colorbar": {
            "outlinewidth": 0,
            "ticks": ""
           }
          },
          "colorscale": {
           "diverging": [
            [
             0,
             "#8e0152"
            ],
            [
             0.1,
             "#c51b7d"
            ],
            [
             0.2,
             "#de77ae"
            ],
            [
             0.3,
             "#f1b6da"
            ],
            [
             0.4,
             "#fde0ef"
            ],
            [
             0.5,
             "#f7f7f7"
            ],
            [
             0.6,
             "#e6f5d0"
            ],
            [
             0.7,
             "#b8e186"
            ],
            [
             0.8,
             "#7fbc41"
            ],
            [
             0.9,
             "#4d9221"
            ],
            [
             1,
             "#276419"
            ]
           ],
           "sequential": [
            [
             0,
             "#0d0887"
            ],
            [
             0.1111111111111111,
             "#46039f"
            ],
            [
             0.2222222222222222,
             "#7201a8"
            ],
            [
             0.3333333333333333,
             "#9c179e"
            ],
            [
             0.4444444444444444,
             "#bd3786"
            ],
            [
             0.5555555555555556,
             "#d8576b"
            ],
            [
             0.6666666666666666,
             "#ed7953"
            ],
            [
             0.7777777777777778,
             "#fb9f3a"
            ],
            [
             0.8888888888888888,
             "#fdca26"
            ],
            [
             1,
             "#f0f921"
            ]
           ],
           "sequentialminus": [
            [
             0,
             "#0d0887"
            ],
            [
             0.1111111111111111,
             "#46039f"
            ],
            [
             0.2222222222222222,
             "#7201a8"
            ],
            [
             0.3333333333333333,
             "#9c179e"
            ],
            [
             0.4444444444444444,
             "#bd3786"
            ],
            [
             0.5555555555555556,
             "#d8576b"
            ],
            [
             0.6666666666666666,
             "#ed7953"
            ],
            [
             0.7777777777777778,
             "#fb9f3a"
            ],
            [
             0.8888888888888888,
             "#fdca26"
            ],
            [
             1,
             "#f0f921"
            ]
           ]
          },
          "colorway": [
           "#636efa",
           "#EF553B",
           "#00cc96",
           "#ab63fa",
           "#FFA15A",
           "#19d3f3",
           "#FF6692",
           "#B6E880",
           "#FF97FF",
           "#FECB52"
          ],
          "font": {
           "color": "#2a3f5f"
          },
          "geo": {
           "bgcolor": "white",
           "lakecolor": "white",
           "landcolor": "#E5ECF6",
           "showlakes": true,
           "showland": true,
           "subunitcolor": "white"
          },
          "hoverlabel": {
           "align": "left"
          },
          "hovermode": "closest",
          "mapbox": {
           "style": "light"
          },
          "paper_bgcolor": "white",
          "plot_bgcolor": "#E5ECF6",
          "polar": {
           "angularaxis": {
            "gridcolor": "white",
            "linecolor": "white",
            "ticks": ""
           },
           "bgcolor": "#E5ECF6",
           "radialaxis": {
            "gridcolor": "white",
            "linecolor": "white",
            "ticks": ""
           }
          },
          "scene": {
           "xaxis": {
            "backgroundcolor": "#E5ECF6",
            "gridcolor": "white",
            "gridwidth": 2,
            "linecolor": "white",
            "showbackground": true,
            "ticks": "",
            "zerolinecolor": "white"
           },
           "yaxis": {
            "backgroundcolor": "#E5ECF6",
            "gridcolor": "white",
            "gridwidth": 2,
            "linecolor": "white",
            "showbackground": true,
            "ticks": "",
            "zerolinecolor": "white"
           },
           "zaxis": {
            "backgroundcolor": "#E5ECF6",
            "gridcolor": "white",
            "gridwidth": 2,
            "linecolor": "white",
            "showbackground": true,
            "ticks": "",
            "zerolinecolor": "white"
           }
          },
          "shapedefaults": {
           "line": {
            "color": "#2a3f5f"
           }
          },
          "ternary": {
           "aaxis": {
            "gridcolor": "white",
            "linecolor": "white",
            "ticks": ""
           },
           "baxis": {
            "gridcolor": "white",
            "linecolor": "white",
            "ticks": ""
           },
           "bgcolor": "#E5ECF6",
           "caxis": {
            "gridcolor": "white",
            "linecolor": "white",
            "ticks": ""
           }
          },
          "title": {
           "x": 0.05
          },
          "xaxis": {
           "automargin": true,
           "gridcolor": "white",
           "linecolor": "white",
           "ticks": "",
           "title": {
            "standoff": 15
           },
           "zerolinecolor": "white",
           "zerolinewidth": 2
          },
          "yaxis": {
           "automargin": true,
           "gridcolor": "white",
           "linecolor": "white",
           "ticks": "",
           "title": {
            "standoff": 15
           },
           "zerolinecolor": "white",
           "zerolinewidth": 2
          }
         }
        },
        "title": {
         "font": {
          "color": "Black",
          "size": 22
         },
         "text": "<b>Similarity Matrix</b>",
         "x": 0.55,
         "xanchor": "center",
         "y": 0.95,
         "yanchor": "top"
        },
        "width": 800,
        "xaxis": {
         "anchor": "y",
         "constrain": "domain",
         "domain": [
          0,
          1
         ],
         "scaleanchor": "y"
        },
        "yaxis": {
         "anchor": "x",
         "autorange": "reversed",
         "constrain": "domain",
         "domain": [
          0,
          1
         ]
        }
       }
      }
     },
     "metadata": {},
     "output_type": "display_data"
    }
   ],
   "source": [
    "topic_model.visualize_heatmap()"
   ]
  },
  {
   "cell_type": "code",
   "execution_count": 47,
   "id": "103fd534",
   "metadata": {},
   "outputs": [
    {
     "data": {
      "text/plain": [
       "[('ai', 0.02266886745875234),\n",
       " ('slop', 0.01856637863911902),\n",
       " ('content', 0.013904396855922901),\n",
       " ('generated', 0.012426233049074795),\n",
       " ('facebook', 0.010393436838820361),\n",
       " ('images', 0.010167166818381961),\n",
       " ('ai generated', 0.009838463272417282),\n",
       " ('ai slop', 0.009216027165670937),\n",
       " ('trump', 0.00911492515010106),\n",
       " ('like', 0.008468276306572606)]"
      ]
     },
     "execution_count": 47,
     "metadata": {},
     "output_type": "execute_result"
    }
   ],
   "source": [
    "similar_topics, similarity = topic_model.find_topics(\"slop\", top_n=5)\n",
    "topic_model.get_topic(similar_topics[0])"
   ]
  },
  {
   "cell_type": "code",
   "execution_count": 48,
   "id": "1db7f285",
   "metadata": {},
   "outputs": [
    {
     "name": "stderr",
     "output_type": "stream",
     "text": [
      "  0%|          | 0/2 [00:00<?, ?it/s]"
     ]
    },
    {
     "name": "stderr",
     "output_type": "stream",
     "text": [
      "100%|██████████| 2/2 [00:00<00:00,  9.51it/s]\n"
     ]
    }
   ],
   "source": [
    "# `topic_distr` contains the distribution of topics in each document\n",
    "topic_distr, _ = topic_model.approximate_distribution(documents, window=8, stride=4)"
   ]
  },
  {
   "cell_type": "code",
   "execution_count": 49,
   "id": "09a9869b",
   "metadata": {},
   "outputs": [
    {
     "data": {
      "application/vnd.plotly.v1+json": {
       "config": {
        "plotlyServerURL": "https://plot.ly"
       },
       "data": [
        {
         "hoverinfo": "text",
         "hovertext": [
          "There’s currently no code for that.",
          "For shame.",
          "Great job, guys.",
          "But the future is not without hope.",
          "Spotify Wrapped was famously created by an intern.",
          "This interview has been edited for length and clarity.",
          "doom?",
          "Embark Studios, the developer of smash hit shooter The Finals, was criticised for using AI voiceovers by myriad actors and even other developers, for example.",
          "Equally baffling is that it was all waved through by the event organizers.",
          "The Witcher voice actor Doug Cockle also told IGN that AI was \"inevitable\" but \"dangerous\", sharing in Luke's assessment that chatbots and similar uses are \"effectively robbing [voice actors] of income\".",
          "Of course, Spotify and Coca-Cola aren’t alone in receiving criticism for outsourcing creativity to algorithms.",
          "studios to produce the ads: Secret Level, Silverside AI and the Wild Card.",
          "Giving Up Sex: The writer Melissa Febos has a taste for extremes.",
          "There’s currently no code for that.",
          "\"I was duped,” Bertie told BBC News NI.",
          "Midjourney and Stable Diffusion, another popular AI generation tool, are being sued by artists claiming the tools infringe on artists’ rights because the data the tools are trained on is taken from artists without their consent.",
          "This article was featured in One Great Story, New York’s reading recommendation newsletter.",
          "Paul Eiding, the voice actor behind Colonel Campbell in the Metal Gear Solid series, also condemned its use.",
          "You have a Funny tone of voice.",
          "This is why I am here to clarify things.",
          "It contains what looks like six fingers with no thumb on-screen, suggesting up to seven digits on this hand.",
          "I asked them if they had a vacuum cleaner and they said, ‘Yeah, we haven’t really got there yet, so just improvise,’” per the Independent.",
          "Listen to more stories on the Noa app.",
          "There hasn’t been much promotion regarding the game and the team has only shared a brief description without any additional information.",
          "In the longer term, we hope to leverage those technologies to create new forms of content for consumers, as we believe that technological innovation represents business opportunities.\"",
          "The game failed, with Keywords citing to investors that AI was “unable to replace talent.”\nWesley is the UK News Editor for IGN.",
          "Reddit users accused Wrapped 2024 of being ‘AI-generated slop’ – pointing to the made-up genres, such as “Pink Pilates Princess Strut Pop”, as generative AI giveaways.",
          "Would you be comfortable telling me about the reports that you’re based in Pakistan?",
          "Others, however, believe the bottom left 'finger' is simply flesh falling off the little finger above it, although there are irregularities with the present boxes and ribbons in the bottom right, too.",
          "“There was lots of shouting and groups of people getting very, very irate.”\nThe Scottish police told The New York Times that officers were called to the scene after the event was canceled.",
          "Will any of these Guitar Hero, Crash Bandicoot or Call of Duty smartphone games ever see the light of day?",
          "Tickets cost up to $44 per person.",
          "One squirrel-like character appears to be missing half a face.",
          "His name is not known, so we call him 'The Unknown'.",
          "proceeding in those trials.",
          "Explore Our Style Coverage\nFashion, trends, love and more.",
          "Generative AI often struggles with hands, adding extra fingers where they shouldn't be.",
          "There is a role for technology to play in this space.",
          "Glasgow, Scotland.",
          "As to whether this decision was driven by cost-cutting, or simple experimentation with new technology - remains to be seen.",
          "even for?",
          "“At the end of my monologue, I was supposed to suck up the unknown man with a vacuum cleaner.",
          "\"In this instance, we experimented with Midjourney using simple prompts to produce abstract images.",
          "Children cried.",
          "That remains to be seen.",
          "In the aftermath, parents sounded off on social media.",
          "People will blame the country if I say I'm from Dubai, then whenever you write an article, if you say that a guy from Pakistan, a guy from India, guy from Ireland, a guy from the UAE, it actually hurts some of the citizens of that country.",
          "Scolded for a Sip of Water: Online grandstanding, intergenerational head-butting and a lost job, all thanks to one poorly timed water break during a hot yoga class.",
          "For instance, Keywords Studios attempted to create an experimental game internally using entirely AI.",
          "Updated at 9:43 a.m.",
          "Also, follow us on Google News, Instagram, and Twitter for quick updates",
          "\"However, we did want to experiment with AI as well.",
          "For more Mobile Gaming news and updates, join our WhatsApp group, Telegram Group, or Discord server.",
          "Video game voice actors have also called out AI-generated explicit Skyrim mods, and Assassin's Creed Syndicate voice actress Victoria Atkin called AI-generated mods the “invisible enemy we're fighting right now” after discovering her voice was used by cloning software.",
          "“I looked at the website and I thought it was legit.",
          "A Basketball Star Is Born: Paige Bueckers became a college sensation for her skill and her style.",
          "The Jeweler to the Stars: Jessica McCormack, the London jeweler with a knack for injecting cool-girl energy into top-dollar pieces, has opened a shop in Manhattan.",
          "We do not accept any responsibility or liability for the accuracy, content, images, videos, licenses, completeness, legality, or reliability of the information contained in this article.",
          "Kate Knibbs: Well, how are you doing?",
          "Everest Sherpa: Kami Rita Sherpa scaled Mount Everest for the 31st time, breaking his own record.",
          "Subscribe\nGyan Abhishek is standing in front of a giant touch screen, like Jim Cramer on Mad Money or an ESPN talking head analyzing a football play.",
          "(It’s unclear who called them.)",
          "Understanding Rosie O’Donnell: She’s moved to Ireland.",
          "It's going really well.",
          "is always good at creating fantastical, hyper-realistic stories, and that’s where the whole imagination went into next level,” he added in a follow-up story about the consumer reaction.",
          "to make this?\"",
          "(At least, I think that’s his name and where he lives.)",
          "The company recently announced Muse, a model for visualizing gameplay built on data captured from people playing Ninja Theory’s 2020 PvP game Bleeding Edge.",
          "We wrote a lot of events this year, on the 17th of March, St. Patrick’s Day—and they were ranked.",
          "Bleak as all get out.",
          "If you can build it, Ken Fulk wants to design it.",
          "Clicking on some of the adverts will take you through to a mocked up mobile store page organised by marketing service Geeklab, and then onto a survey that reveals \"this isn't a real game, but could be some day!\"",
          "The Finals, a free-to-play multiplayer shooter, was criticized by voice actors for its use of text-to-speech programs to generate voices.",
          "What’s next?",
          "“I want to make it clear that anyone who was hired externally or offered their help, are not affiliated with the me or the company, any use of faces can cause serious harm to those who did not have any involvement in the making of this event,” they add.",
          "Don't just believe it.",
          "These end-of-year recaps are often considered a masterclass in personalised marketing and have helped the streaming company build brand loyalty and inspired other companies outside of the music sector to launch their own data-driven roundups.",
          "They were just as gobsmacked as everyone else.",
          "Now She’s Embracing Her Mother—and Her Biological Father\nAll the Cast Members That Might Leave SNL This Fall\nThe Link Between Ted Bundy, Charles Manson, and Gary Ridgway\nSherri Papini, Accused of Faking Her Own Kidnapping, Finally Tells Her Side of the Story\nRo Khanna Really Believes “Blue MAGA” Can Save the Dems—and Steve Bannon Loves It\nThe 42 Best Romantic Comedies of All Time\nWhat Scarlett Johansson Wants\nFrom the Archive: How Trump Turned Palm Beach’s Exclusivity Against It—With a Barrage of Lawsuits",
          "Nazir Ali: Ask anything.",
          "More Great Stories From Vanity Fair\nThe Unsinkable Kathy Bates\nFrom RFK Jr. to Patrick Schwarzenegger, a Brief Guide to the Kennedy Family\nWhy Is Trump Pardoning this Reality TV Couple Convicted of Fraud?",
          "Some reported having traveled multiple hours and want their train fares covered.",
          "Several video game voice actors have also rallied against AI, including Grand Theft Auto 5 voice actor Ned Luke who called out a chatbot which used his voice.",
          "Production company House of Illuminati has issued a statement on Facebook apologizing for the event and attempting to explain how it came to pass.",
          "Similarly, Spotify’s new Wrapped AI podcast feature, where AI podcast ‘hosts’ outline and comment on users’ stats, left listeners cold.",
          "Many Spotify users eagerly await the annual review of their listening habits shown in Spotify Wrapped.",
          "Market research questions then include queries asking users what made them click on the advert and what gameplay features they expected the game to include, based on the fake advert.",
          "“Although there’s some skepticism and acceptance, reluctance to accept these types of ads by consumers, I think that the benefits sort of outweigh that, and I believe that companies are going to continue using it over time.”",
          "\"In the longer term, we hope to leverage those technologies to create new forms of content for consumers, as we believe that technological innovation represents business opportunities. \"",
          "Nevertheless, the professionals persisted, even against their better judgment.",
          "Similarly, Spotify’s new Wrapped AI podcast feature, where AI podcast ‘hosts’ outline and comment on users’ stats, left listeners cold.",
          "Dr. Anstead likened the episode to another internet trend, the flash mob.",
          "He told The Independent: “It was funny.",
          "Her new book, “The Dry Season,” chronicles a bold experiment in her search for self-knowledge.",
          "The game failed, with Keywords citing to investors that AI was “unable to replace talent.”\nVideo game console makers Microsoft and Sony are all-in on AI.",
          "The statement, written in the first person, is not signed; it does not explain how the writer is affiliated with House of Illuminati.",
          "Are you familiar with St. Patrick’s Day?",
          "” He points to a giant house that looks like a mushroom: “People find things like this very attractive.",
          "They should go through some of the processes—they can contact me, contact our team.",
          "Earlier this month, SAG-AFTRA signed a deal with Replica Studios, an AI voice software company, that would allow performers to license their voice exclusively with the company for use in video game projects.",
          "Silverside AI’s AI Developer Chris Barber wrote in a reply on X that each of the AI studios created a different version of the advertisement, with the viral one not belonging to Silverside AI.",
          "These end-of-year recaps are often considered a masterclass in personalised marketing and have helped the streaming company build brand loyalty and inspired other companies outside of the music sector to launch their own data-driven roundups.",
          "[45][46] It was eventually discontinued and removed from the Play Store.",
          "Just cross check!",
          "“People use the sharing and organizational capacities facilitated by the internet to arrange to meet at a single place or time for some kind of coordinated activity,” he said.",
          "Many Spotify users eagerly await the annual review of their listening habits shown in Spotify Wrapped.",
          "Despite the controversy, the company said that it was “successful” and that the technology would be an addition to its “tool kit” for the future.",
          "But their efforts are doomed, futile.",
          "Wrapped 2024’s end-of-year offering may have been as entertaining as receiving a lump of coal for Christmas, but if Spotify can learn from its misstep, it may prove the greatest gift yet.",
          "As users pointed out, low-effort content like this shows a clear lack of respect for the audience.",
          "despite any ruffled feathers.",
          "What Won’t This Decorator Do?",
          "You then take the prompts to the image-generation programs Leonardo.ai and Midjourney.",
          "Xbox has partnered with Inworld AI to develop tools for developers to generate AI NPCs, quests, and stories.",
          "It encourages you to accept.",
          "If you have any complaints or copyright issues related to this article, kindly contact the author above.",
          "Once the website was alerted that the parade was not going ahead, the owner said the article was removed immediately.",
          "Farewell to the Ghosts of Dior Past: Assessing Maria Grazia Chiuri’s likely final collection — and how she changed Dior.",
          "Feedback in the comments is rightfully resistant to the content, highlighting:\n\"Imagine how many up and coming voice actors would've literally jumped at the chance to narrate this video for free.\"",
          "Embark told IGN that \"making games without actors isn't an end goal\" and claimed it uses a mix of both recorded audio voices and audio generated via AI text to speech tools for its games, however.",
          "Being ‘Natty’?",
          "Well, if you can believe it, the patrons were less than pleased.",
          "Explore Our Style Coverage\nFashion, trends, love and more.",
          "In addition to the St. Patrick's Day websites, what are some of the other websites you’re running?",
          "However, it shows no sign of abating.",
          "For instance, Keywords Studios attempted to create an experimental game internally using entirely AI.",
          "“There was maybe 20 chairs, a couple of tables and a half-inflated bouncy castle,” said Sinclair, who traveled over two hours to bring his three kids to the event.",
          "Sign up for The Decision, a newsletter featuring our 2024 election coverage.",
          "Earlier this year, EA boss Andrew Wilson told the investment community that “more than 50% of our development processes will be positively impacted by the advances in generative AI.” Wilson, who oversees EA Sports FC, The Sims, and BioWare games, added that AI will make game development “more efficient”, revealing that the EA Sports FC developers can now make stadiums in six weeks rather than six months.",
          "He'll talk about The Witcher all day.",
          "Most recently, Ned Luke, the voice actor behind Michael De Santa in Grand Theft Auto 5, called out a web3 company for using his voice as the basis of an unofficial AI chatbot.",
          "features until problems can be ironed out.",
          "Not only double, but triple check it.",
          "Shakespeare could never.",
          "We should double check it.",
          "Vanity Fair has reached out for comment, but no, not yet.",
          "Do not self-reference.",
          "Produced by ElevenLabs and News Over Audio (Noa) using AI narration.",
          "Read the rest of the series.",
          "Listen to me.",
          "Mariska Hargitay Was “Living a Lie” for 30 Years.",
          "Parents called the police.",
          "“It did turn quite scary at one point, because people were angry,” he said.",
          "Bertie Brosnan is a social media content creator and filmmaker who went to livestream the event.",
          "Spotify wasn’t the only brand to face backlash from fans due to uses of AI.",
          "Listen to more stories on the Noa app.",
          "Most recently, ID@Xbox was criticised for using AI art in its Christmas message, as reported by Pure Xbox.",
          "The owner of the website, Nazir Ali, said on Friday morning that he had not intended to dupe anybody, claiming the whole thing was a mistake.",
          ": Homes, hotels, restaurants, stores, books, candles, caviar sets.",
          "NOTE: This content is not written by or endorsed by \"WTEN\", its advertisers, or Nexstar Media Inc.",
          "Sign up here to get it nightly.",
          "Listen to more stories on the Noa app.",
          "Produced by ElevenLabs and News Over Audio (Noa) using AI narration.",
          "“Regarding a personal matter, there will be no wedding, and no wedding was funded by the ticket sales,\" it reads.",
          "What made Spotify Wrapped genius wasn’t its super-specific genres but its ability to encourage connection and reflection among users.",
          "Ballpark?",
          "We are always exploring new ways to connect with consumers and experiment with different approaches.",
          "The Traitors is also filmed in Scotland.",
          "We spoke to him about what is next for the mountain.",
          "You have a Creative writing style.",
          "Reddit users accused Wrapped 2024 of being ‘AI-generated slop’ – pointing to the made-up genres, such as “Pink Pilates Princess Strut Pop”, as generative AI giveaways.",
          "Note the earring that is only on one ear and seems slightly deformed.",
          "Produced by ElevenLabs and News Over Audio (Noa) using AI narration.",
          "And the whole thing blew up on social media.",
          "Connell said that the crowd became increasingly agitated as the event wore on.",
          "Midjourney is one of several AI companies mentioned in an ongoing lawsuit that lists thousands of artists who have allegedly had their artwork scraped to train AI tools.",
          "Looking to counter chatbots like the Grand Theft Auto one, Cissy Jones, a voice actor known for her roles in Disney's Owl House, Destiny 2: The Witch Queen, Shin Megami Tensei 5, and more, has started a company called Morpheme.ai to let voice actors embrace AI in their own way and gain control of their own voices going forward.",
          "“Some of the events cited around the world were real, and it is the conjunction of the real and fake which makes the hoax convincing.”\nWhen he realized the mistake, Mr. Ali said, he removed the event from the website.",
          ": The fitness influencer Kenny Boulet, who asks gymgoers if their muscles are natural or not, wants people to be more honest about steroids.",
          "And actually, I want to tell you one more thing.",
          "Tickets were marketed through Facebook advertisements showing AI-generated imagery, with no genuine photographs of the venue.",
          "WIRED spoke with Ali via Google Meet to get his side of the story.",
          "These adverts also include new smartphone games in other Activision franchises such as Call of Duty and Crash Bandicoot that also don't exist (yet) either.",
          "They should ask us questions.",
          "Loading screens depicted hands with extra digits, a tell-tale sign of work produced by algorithms built on stealing other artists’ work, but not knowing how to count.",
          "Look of the Week: Dandy attire for a night at the opera.",
          "No event was reported as bogus, or AI-generated, or anything like that.",
          "Microsoft, for example, is reportedly making an Xbox AI chatbot to automate support tasks such as game refunds, deal with broken consoles and subscription issues, and answer questions about error codes.",
          "House of Illuminati has released the following statement: “Unfortunately, last minute we were let down in many areas of our event and tried our best to continue on and push through and now realise we probably should have cancelled first thing this morning instead.” Hindsight is 20/20.",
          "A set of sexy vampire calling cards raised red flags again in early November, with fans pointing at different parts of the art that looked oddly rendered.",
          "Now she’s joining the W.N.B.A.’s growing constellation of stars.",
          "[47][48] Several low-quality AI-generated images were used as interstitial title cards, with one image featuring a skeleton with inaccurate bone structure and poorly-generated fingers that appear disconnected from its hands.",
          "The video drew criticism from many creatives who argued that it was distasteful for the company to use AI technology to create the video instead of the work of artists.",
          "The developer further reiterated it was experimenting with the technology.",
          "Coincidence or omen?",
          "Forbes reported that the video was created by three AI studios — Secret Level, Silverside AI and Wild Card — using four different generative AI models.",
          "She’s befriended a Menendez brother, and she’s making documentaries.",
          "The Witcher voice actor Doug Cockle has also expressed caution and frustration at the growing presence of AI within the video game industry, calling it \"inevitable\" but \"dangerous.\"",
          "\"For instance, non-player characters in games could interact with players based on their actions, making it feel more personal,” Qizilbash said.",
          "He added that as the technology improves, he believes more people will become receptive to it.",
          "But the full story is more complex.",
          null
         ],
         "marker": {
          "color": "#CFD8DC",
          "opacity": 0.5,
          "size": 5
         },
         "mode": "markers+text",
         "name": "other",
         "showlegend": false,
         "type": "scattergl",
         "x": {
          "bdata": "OSXGvzuEyb/077O/MCofwNCqacCXO6S/evlqv7nE9b3ufBO91g2jvccsZsAazbK/yZffvFKUwr+J8xy/3E9sv0+6qD6m8rm9fDM5wNIk17/lZYK/IwYWP9HKwL8+oJbA910hwJEZtr9ADW/At9rKv5hKhb+ITqk9R+tHvgGmkL6s5oi/vRHBvrn2EMAFrK47lb+KvxIRIcDzrNM9euRqwKWvz7/lcx4/lumuvzDlCT3QMhHA/GvavT7tyr/3FwK+bjy0v0kPej/EK5U+NRt8wPaJTj8/tqO9IDOAv43VBL0iISi92g43wF7Zo78owpK/pVxVPtJwub4LIQ0+y/GxvzKZy8CgSM2/lLjKvuijtL+bW6O/BTBJwJAltb6/Aky+dHP3vWnapL82zQ2/WWb0v9UGa8DWLhW+O/noPH+Svb+1fb09jrlevvdouL0PDeO+PU5twOF/asB/5FC+pIBswH6pIMCDBBzAQzBswGXqEr/j2VA+DsTSvbEQvb8yN+y+iFGjvxhCnL4o7Ne/e7WxvWets79rHWvAUnyawK1w9r9ytSO/ZU5rwEr3aMCyJR/ABHxrwArzYMDwZhLA1aaqvgflrr8q7Jy/FLq8v9w/M8CR01K/9JSsO8E6YMA4Cwi+ylK1wP2/pj5w74o86vqIwI/2HsC7jbS/VUG/PlaZpz6LXOe/8UpUvVuVr73HQ37AvBP1v2jh0r9ZWfS/GWZVPnVu/L+3jcO/fkzDv9Yhw7//yks98QGpveGM3D0uiZK+0sppwGkkwL+UqXS/g31pv8LqZb4jyjPAsuGdPi/Vv7/TiMO/d9gdv5cOasDq8Lo9tmwiwCjuZj2KkZ6/leE4wECSb8BNXYe/tO3CvxTPML6OUEQ+J71tv5B9tL3PVGe/iaSzwJTDC8Cm7My9itOBv806Rb4Fe8y/JheCv1Y/ZjyT3wS+sE6gv1/a2b56gYa/LkTQvIkljr9Ay1/AGtVpwOaEhL/m5qe/EZSmPXntqL04D/q/8TJxwDYiBsCRjK6/",
          "dtype": "f4"
         },
         "y": {
          "bdata": "/bWuQMm7m0BpnaFASjyyQKjcCEBd/sJAZVHBQKG3NUEY5W9AsCM2QSasIUAjlyJBJAnYQM2ir0AzCXVAm9EuQcuM20BjGzZBPdDEQMlFmkCvMBlB6sGDQDW3zEAAmuc/JRExQXMNKUHpsg5ANBSNQEbRGEGB7mxAIrYZQWm0i0DdaRhBQROJQKnrt0DuIdZAIBIYQd2bMEHOlXNAfGa4QFKxrECn0INA4/Y0Qb9yf0CaN7VAXhR9QA5qjEDXVH1AeVApQZnNlUBPP99AEgm+QIbp40C8TTZBJplvQFTa00DLSdJAoEX9QJ0bpkDF6MFAU/ThQO35hEAqJdJAnDWiQIjeyUBktK5Avl+JQJbEKUHFP1FAelp2QNKAwECteBlBZYc1QflNvkD4IYdAktq1QJuxCkBTy3pAyD/VQC47jEC3vNVA9KBXQAkeNkFYe4ZA3W4NQCknCkClmBlBTDW/QAk1MUEx9bFANEcNQPf2V0AOEoNAB3raQFxeKUExVYdA7s1QQBIlvkBQkrpA6ic2QSZlIkGohgpAZobTPwqrtkAJ31dAjK8KQET3u0Cq7LFA7QALQJWpdkDo0a9A6o+/QL7WNUEloChBI8XfQByH/EAa4nFAoeHVQPsadkDYszVBgYPyQCkbe0DeStZAbP35QBXCskAeaClBQiCEQLFB3kAQYS9BNpQ1QXIlNkGTWMtAORi2QNven0BfcbZAc57hQFrhtkBBLM5A+tnNQH6Zy0Ajc9NA5417QIuFeUBMzVZAM0UXQJBSzUCRvCZB3xZ1QLkuxEB07vxA+HPfQApszUD8ms1A5lSGQL9oCUC0BIlASNAwQQKrcECWvL9AcXTFQO0+D0BCmBhBM3PNQI5MfkAH+nRAMC0vQb8jNkFuG3NAyB77QPo/xkBoqpRAh552QL+yGUHURLhAgkAZQfps1kAapFZAkbAoQVeHg0DbmxlByFvTQAIdGEE2snFAWVq8QP7rwUAEaSNBRS7SQLcJNkGjLS9B1AjCQGU0ykDwcctA",
          "dtype": "f4"
         }
        },
        {
         "hoverinfo": "text",
         "hovertext": [
          "The headlines, like the AI-generated Swifties for Trump images, come with the watermark “sponsored by the John Milton Freedom Foundation”.",
          "Elsewhere on the web though, slop is spreading.",
          "Instead, this kind of content has become important for platforms.",
          "And perhaps that a more optimistic perspective can be drawn by analogy to what economists call the “environmental Kuznets curve,” which suggests that, as nations develop, they tend to first pollute a lot more and then, over time, as they grow richer, they ultimately pollute less.",
          "“And that was kind of a starting point.”\n“A.I.",
          "When I spoke with him, “God Lovers” had been placed under some kind of restrictions and wasn’t earning him money.",
          "That these tools should end up as the medium of choice for Trump’s political movement makes sense, too.",
          "Online, first responders are pleading with residents, asking for their help to combat the flood of lies and conspiracy theories.",
          "\"The MAGA Aesthetic Is AI Slop\".",
          "Trump posted a screenshot of @amuse’s tweet on Truth Social.",
          "Then you go to your faculty and you say, ‘Look, I’m a genius, and I deserve this position as a full professor.’” In other words, like Facebook slop, the content of the content isn’t really as important as its presence — or, more accurately, its measurability.",
          "But just as we've learned to dodge the nuisances of junk mail and spam, a new threat has emerged — one that has the potential to undermine all our hard work: AI slop.",
          "The same goes for journalists, election workers, scientists, doctors, and first responders.",
          "Another AI content creator, a French financial auditor named Charles who makes bizarre pictorial stories about cats for TikTok, told me he always makes his content “a bit WTF” as “a way to make the content more viral, or at least to maximize the chances of it becoming viral.” Or as Stevo put it, “You add some exaggeration to make it engagementing.”\nStevo, who insisted he doesn’t “use bots” to juice his follower numbers or “pay for engagement,” shared a screenshot that showed a $500 “bonus earnings” payout for activity from mid-May to mid-June this year.",
          "None capture the awkward banality of the candidate’s actual campaign stop.",
          "And while slop is one option, it is still an open question of whether it will catch on with a mainstream audience, or end up in the slang dustbin with cheugy, bae and skibidi.",
          "How entrepreneurs can spot AI slop\nIdentifying AI slop is the first step in protecting your brand.",
          "“Every image is AI generated along with all the gibberish text it try’s to create.",
          "Why Brands Are Embracing 'Italian Brainrot' to Go Viral on TikTok and Win Over Gen Z\nNews provided by\nApr 15, 2025, 2:30 AM ET\nHuman Centric Group decodes the viral Italian Brainrot trend and explains why it’s more than just a meme for brands chasing Gen Z.",
          "Billions of dollars are flowing among the many companies on either side of this dynamic, and the question for any would-be AI hustler is how to get in the middle, find an angle, and take a cut.",
          "- Vague Product Descriptions: In e-commerce, product descriptions that are unclear or incorrect—sometimes even including disclaimers about AI use—can seriously hurt conversions.",
          "Supported by\nFirst Came ‘Spam.’ Now, With A.I., We’ve Got ‘Slop’\nA new term has emerged to describe dubious A.I.-generated material.",
          "The change was a reaction to Microsoft having incorporated A.I.",
          "[7]\nThe British computer programmer Simon Willison is credited with being an early champion of the term \"slop\" in the mainstream,[1][7] having used it on his personal blog in May 2024.",
          "There’s a Stephen (and often a “Jacob”) behind all of this slop: an actual person uploading, say, identical Viking “novels” with seemingly AI-generated covers, all called Wrath of the Northmen: A Gripping Viking Tale of Revenge and Honor (that one has been published variously by authors named Sula Urbant, Sula Urbanz, and Sula Urbanr).",
          "The account posts misleading, pro-Trump headlines such as claiming Harris turned hundreds of thousands of children over to human traffickers as “border czar”.",
          "I am the owner of a SEO agency.",
          "Consumers are becoming increasingly intolerant of AI-generated missteps, even from their favourite brands.",
          "The organization’s board includes its chair, Brad Merritt, who is touted as an experienced Republican organizer with claims to have raised $300m for various non-profits; its director, Shiree Sanchez, who served as assistant director of the Republican party of Texas between 1985 and 1986; and Mark Karaffa, a retired healthcare industry executive.",
          "So we took help from AI, we took help from ChatGPT, but we optimized that ourselves.",
          "A New Super-Group of Creative Talent: The Independents has acquired more than a dozen companies in the last two years.",
          "It’s a huge topic, but only for one day.",
          "Most people aren’t interested in whether the latest cutting-edge systems have been deployed if the result is clumsy, generic and flat.",
          "He summarized a typical example: “Usually, it begins with the phrase ‘In the year 2250-something’ and then it goes on to say the Earth’s environment is in collapse and there are only three scientists who can save us.",
          "In addition to his blog, he claims to have worked with James O’Keefe, the former CEO of the rightwing organization Project Veritas, who was known for hidden camera stings until he was ousted last year over allegations of misplaced funds.",
          "On the subway, ads for the secondhand-furniture website Kaiyo feature images with oddly levitating pedestrians and signs written in the dream glyphs typical of image generators’ attempts at text.",
          "That it can create adequate texts and images is an astonishing leap forward in machine learning, but the texts and images are still only adequate, “good enough” and cheap enough for people to thumb past on their phones.",
          "That’s slop.",
          "A specific segment of the people who have seen and understand that it is AI-generated simply do not care that it is not real and that it did not happen.",
          "And so if one account of this experience is that we are drowning in A.I.",
          "art generators in 2022.",
          "Last week, Google announced an ambitious plan to add AI-made answers to the top of some search results, with US-based users the first to experience a full rollout of the “AI Overviews” feature.",
          "On the other hand, making librarians buy into the entire catalog means that a customer looking for a book about how to diet for a healthier liver might end up borrowing Fatty Liver Diet Cookbook: 2000 Days of Simple and Flavorful Recipes for a Revitalized Liver.",
          "“I’m seeing little evidence yet that users are actively demanding such content in their feeds.”\nIn March, Facebook users began to notice a flood of images featuring Jesus Christ mixed with a crustacean rising from the sea.",
          "That’s brand distinctiveness in action.”\nThe formula is simple but powerful:\nTrend + Brand Distinctiveness = Memorable Impact\nThe article urges marketers to ask themselves:\n• Do we know our brand well enough to play with chaos?",
          "Eventually, on February 20, he made the decision to close submissions temporarily.",
          "Demand more from your AI tools, ensure they enhance rather than detract from your brand's message, and keep your content authentic.",
          "“I ain’t got time.",
          "The images are created, copied, shared, and embedded into websites; they are indexed into search engines.",
          "Generative AI is one of the hottest topics within the video game and entertainment industries, which have both suffered massive layoffs in recent years.",
          "“The persons did all that copy-paste and didn’t even care to remove” the telltale phrase, Cabanac said.",
          "[7]\nThe term gained increased popularity in the second quarter of 2024 in part because of Google's use of its Gemini AI model to generate responses to search queries,[7] and was widely criticized in media headlines during the fourth quarter of 2024.",
          "- Slop is often scam-adjacent, but the accounts posting it may not directly be the ones doing the scams, so they don't get banned.",
          "summary but a whole stack of “sponsored” results as well.",
          "This article previously stated that Bradley Boone is the assistant fire chief in Pensacola, Florida.",
          "Clarkesworld had become one of the first victims of AI slop.",
          "And so it begins – the absolute dumbing down and worsening of everything from media to film to advertising to politics to the written word at the dead hands of AI, stoked by venture capitalists' rabid faith that it will be some sort of productivity silver bullet.",
          "“The Indian audience is very emotional.",
          "The term has sprung up in 4chan, Hacker News and YouTube comments, where anonymous posters sometimes project their proficiency in complex subject matter by using in-group language.",
          "When you look through the reams of slop across the internet, AI seems less like a terrifying apocalyptic machine-god, ready to drag us into a new era of tech, and more like the apotheosis of the smartphone age — the perfect internet marketer’s tool, precision-built to serve the disposable, lowest-common-denominator demands of the infinite scroll.",
          "The pandemic saw Americans, distrustful of authority, trying to discredit effective vaccines, spreading conspiracy theories, and attacking public-health officials.",
          "Remember that time Microsoft listed the Ottawa Food Bank on an AI-generated “Here’s what you shoudn’t miss!” travel guide?",
          "Given its outlandish nature and tenuous relationship with reality, you might think this so-called “AI slop” would quickly disappear.",
          "Meta is penny-pinching and focusing on the newest shiny thing (AI tools, Instagram, the metaverse) and cares less and less about Facebook, this theory goes.",
          "It’s helpful to think of these photos and illustrations not as nefarious deepfakes or even hyper-persuasive propaganda, but as digital chum—Shrimp Jesus on the campaign trail.",
          "Public libraries primarily use two companies to manage and lend ebooks: Hoopla and OverDrive, the latter of which people may know from its borrowing app, Libby.",
          "In a world saturated with AI-generated content, distinguishing valuable information from slop is not just a skill — it's a competitive edge.",
          "This month, KoBold Metals announced the largest discovery of new copper deposits in a decade — a green-energy gold mine, so to speak, delivered with the help of its own proprietary A.I., which integrated information about subatomic particles detected underground with century-old mining reports and radar imagery to make predictions about where minerals critical for the green transition might be found.",
          "The posts would be laughable if they weren’t taken by many people as gospel.",
          "Outsourcing designwork to generative-AI apps may be an effective cost-cutting and productivity measure for some businesses, but in practice it just off-loads work elsewhere.",
          "The @amuse account has considerable reach itself, with about 390,000 followers on X and dozens of daily posts.",
          "(In a sense, so does Spotify, though we call those payments “royalties.”)\nTake, as a case study in the slop economy, Facebook.",
          "The book was authored by Magda Tangy, who has no online footprint, and who has an AI-generated profile picture on Amazon, where her books are also for sale.",
          "“It’s like a virus.”\nAI-generated papers, Cabanac argued, are often used to pad an academic’s résumé with more publications and citations: “You buy a paper on a topic of your choice, and you buy a set of 500 citations.",
          "He said he spends about six hours a day administering his Facebook pages, but he works at the mercy of the website’s opaque moderation and decision-making processes.",
          "The only way librarians can limit what Hoopla books their customers can borrow is by setting a limit on the price of books.",
          "The world feels dark; for many people, it’s tempting to meet that with a retreat into the delusion that they’ve got everything figured out, that the powers that be have conspired against them directly.",
          "We know that the original source of these things was side-hustle scams,” Clarke told me.",
          "For instance, AI can be used to automate repetitive, low-value tasks, freeing up time for teams to focus on high-value, strategic initiatives.",
          "But it’s also, it seems, what we want.",
          "These examples aren’t anomalies and they speak to a larger issue: a fundamental misunderstanding of how to use AI.",
          "Launched last year, the Texas-based non-profit organization frames itself as a press freedom group with the goal of “empowering independent journalists” and “fortifying the bedrock of democracy”.",
          "The initial excitement over AI-generated content has faded, replaced by a demand for authenticity and real value.",
          "(April 2025) |\nIn August 2024, The Atlantic noted that AI slop was becoming associated with the political right in the United States, who were using it for shitposting and engagement farming on social media, with the technology offering \"cheap, fast, on-demand fodder for content\".",
          "Inside the AI ‘gold rush’\nThere is also a growing industry of people teaching others how to make money using cheap AI content.",
          "But many people “are using the LLMs to produce more, which lowers the quality of the science that is published and made.” Even innocuous misuse has a cascading effect on the entire scientific enterprise, as retracted papers cast doubt on other papers that cite them.",
          "Occasionally, a piece of slop is so useless that it goes viral in its own right, like the careers advice article that earnestly explains the punchline to a decades-old newspaper comic: “they pay me in woims”.",
          "Do not explain what you are doing.”\nThere are also hundreds of thousands of videos across the internet giving detailed instructions similar to the ones Stephen gave me.",
          "material seemingly came about in reaction to the release of A.I.",
          "But legions of fans — many on the right — can’t seem to resist what he presents as hidden truths.",
          "He agreed to show me his methods, for a price.",
          "The goal is to use automation to post as much as possible, sometimes hundreds of times a day.",
          "- Users actually enjoy this content — you see plenty of people in the comments who are probably duped and think it's a real image, or maybe just an interesting artistic rendition.",
          "Stalin's Image: A new statue of Joseph Stalin in a Moscow metro station reflects Russia’s efforts to rehabilitate the memory of a bloody ruler.",
          "The other important participants in the slop economy, besides the sloppers and the influencers and the platforms, are all of us.",
          "What is A.I.",
          "There’s Trump, face contorted in the appearance of deep concentration, tilting a fry basket to the heavens; Trump hanging two-thirds of the way out a drive-through window, waving like a beleaguered Norman Rockwell character; Trump, mouth agape, appearing to yell into the middle distance of a fast-food parking lot.",
          "[30][31] The listing went viral on TikTok and Instagram.",
          "[10][11][12]\nThe journalist Jason Koebler speculated that the bizarre nature of some of the content may be due to the creators using Hindi, Urdu, and Vietnamese prompts (languages which are underrepresented in the model's training data), or using erratic speech-to-text methods to translate their intentions into English.",
          "Elon Musk, who owns X, claimed—without evidence—that FEMA was “actively blocking shipments and seizing goods and services locally and locking them away to state they are their own.",
          "This has all been building for more than a decade.",
          "into its search results on Bing, and it had some immediate missteps, leading Google to declare it would roll back some of its A.I.",
          "“While the precise meaning of ‘They Pay Me in Woims’ remains ambiguous, various interpretations have emerged, ranging from a playful comment on work-life balance to a deeper exploration of our perceived reality,” the slop begins.",
          "Our business model is Google Ads.",
          "Our models of ice-sheet melt and rainforest degradation are much sharper now, too.",
          "Since the generative AI boom began, a class of SEO entrepreneurs has started pumping out AI-generated content on websites and across social platforms, in efforts to make money off online advertising and affiliate marketing.",
          "But so far, the most viral AI images have been obviously fake and downright strange.",
          "But the most convincing examples of potential AI slop arrived in early December.",
          "Slop is the most appropriate word for what it produces because, as disgusting and unappetizing as it may seem, we still eat it.",
          "Facebook has gone through so many different flavors of spammy/scammy engagement bait, from Minions memes to videos from magicians to actually dangerous fake news and extremist groups.",
          "It's the filler content produced by AI tools that prioritize speed and quantity over substance and quality.",
          "But the misinformation crisis is not always what we think it is.",
          "Platforms have created incentive programs for content that goes viral, and a whole ecosystem of content creators has arisen using generative AI to exploit these programs.",
          "So there was a human editor?",
          "He wasn’t sure what the problem was, but it wasn’t that the images were fake.",
          "Ryanair’s version hit 150,000 views, and Samsung Belgium's remix trended hard in early April.",
          "Submissions were increasing rapidly, but “there was something off about them,” he told me recently.",
          "So is a low-price digital book that seems like the one you were looking for, but not quite.",
          "The key is to apply the right models to the right use cases.",
          "'s 'Slop' Era Last?\".",
          "What has changed is the level of work and investment involved.",
          "Like any good AI slop, the op illustrated a fantasy—in this case, that Trump, a man who has long lived in a gilded penthouse, is a working-class man.",
          "In the nearly two years since, a rising tide of slop has begun to swamp most of what we think of as the internet, overrunning the biggest platforms with cheap fakes and drivel, seeming to crowd out human creativity and intentionality with weird AI crap.",
          "When in 2021 DeepMind revealed that it had effectively solved the protein-folding problem, making the three-dimensional structure of biological building blocks for the first time easily predictable for researchers, the breakthrough made global news, even if the headlines flew over the heads of most readers, who might not have known how significant a roadblock that has been in biomedical research.",
          "- Search Engine Confusion: Poorly generated search suggestions, such as Google's infamous recommendation of non-toxic glue for pizza cheese, highlight how AI's lack of context can lead to bizarre and off-putting user experiences.",
          "- ^ \"Gullible Trump Cronies Losing Their Minds Over Fake AI Slop on Twitter\".",
          "But the article warns: virality is not strategy.",
          "Is this a completely AI-generated object, a self-published pamphlet, or a book from a publishing house that recently slashed its marketing and editing budgets?",
          "“I think this is a great example of an unobtrusive word right now, because it is a word we’re all familiar with,” Mr. Aleksic said.",
          "Derek Sullivan, a cataloguer at a public-library system in Pennsylvania, told me that AI-generated books had begun to cross his desk regularly.",
          "Searching “as of my knowledge cutoff” or “as an AI language model” in Google Books turns up hundreds of AI-generated “books” with titles like Hollywood’s 100 Leading Actors and Summary If the Woman in Me: A Guide to Britney Spears Memoir.",
          "The public is more concerned with the outcome than the process.",
          "Once the article was posted the owner said it went \"viral\" on TikTok and Instagram despite the website not sharing it on their own social platforms.",
          "Then it describes them in great detail, each one with its own paragraph.",
          "If brands want to reap the full benefit of AI, they should also take a closer look at their data.",
          "This is the most widespread use yet found for generative-AI apps: creating stuff that can take up space and be counted.",
          "Today the same millennial might read about that trillion-dollar A.I.",
          "This is only the beginning\nWe are only at the dawn of mainstream AI-generated content culture.",
          "These “Shrimp Jesus” posts garnered hundreds of thousands of interactions and tens of millions of views.",
          "There’s more work for us readers and watchers and content consumers as well.",
          "If just a handful of users land on the site, reshare the meme or click through the adverts hosted, the cost of its creation pays off.",
          "The real cost of AI slop\nAI slop comes in many forms, all of which can undermine your efforts to build a strong, authentic brand:\n- Weak Brand Communications: Imagine your customers encountering repetitive, robotic responses from your chatbot — like Air Canada's widely criticized AI mishaps.",
          "Now free or easily affordable tools have flooded the market.",
          "With a track record of working with leading brands like Carlsberg, Remarkable, and Tecnam Aircraft, he helps companies unlock data-driven insights for strategic growth.",
          "They must have earned $100 from just this one photo.",
          "- Inaccurate News: AI-generated news articles often miss critical nuances, leading to misinformation and damaging your credibility.",
          "Because there’s money in it, of course.",
          "- Highlight Creativity: Make sure your content showcases human creativity and originality.",
          "Tackling spam in inboxes required an enormous cross-industry effort and led to a fundamental change in the nature of email.",
          "Overview is being presented as a definitive answer, rather than as a place to start an internet user’s research into a given subject.",
          "Other weird AI trends soon emerged, including African women building fruit sculptures and young children showing off elaborate birthday cakes with the caption: “This is my first cake”.",
          "Opinions expressed by Entrepreneur contributors are their own.",
          "Here is Amy Kremer, a National Committeewoman for the Republican National Convention and cofounder of Women for Trump, saying that she knows the image is fake but simply does not care:",
          "— are laughing at Meta's poor content moderation.",
          "For entrepreneurs, this isn't just a nuisance; it's a potential threat to your brand's integrity and your ability to stand out in a crowded market.",
          "As with the Facebook AI-slop farms, social media shock jocks churning out obviously fake, low-quality images don’t care whether they’re riling up real people, boring them, or creating fodder for bots and other spammers.",
          "Smart brands recognize this not just as entertainment, but as a ritual of participation.",
          "It’s easy to learn, almost zero cost, and can be done any time at home with just a phone.",
          "Hillary Clinton was not recently seen walking around Chicago in a MAGA hat.",
          "Some have identified Simon Willison, a developer, as an early adopter of the term — but Mr. Willison, who has pushed for the phrase’s adoption, said it was in use long before he found it.",
          "This was proto-slop, for a simpler, more analog time.",
          "[4]\nIt has been variously defined as \"digital clutter\", \"filler content produced by AI tools that prioritize speed and quantity over substance and quality\",[6] and \"shoddy or unwanted AI content in social media, art, books and, increasingly, in search results\".",
          "In one podcast, a spammer showed off his earnings tab.",
          "The images of Trump’s McDonald’s stunt—in which he jiggled the fryer and handed burgers out of a window yesterday—are uncanny.",
          "Think AI-generated characters with names like Tralalero Tralala (a shark in sneakers) or Špijuniro Golubiro (a spy pigeon), yelling nonsense in robotic Italian while bouncing across chaotic, low-fi visuals.",
          "“They got 700 likes within 2-4 hours.",
          "These days the general public would be well advised to assume an air of skepticism toward ... well, anything really.",
          "\"I believe that generative AI has the potential not only to reshape what we create, but also to fundamentally change the processes by which we create, including programming.\"",
          "Overview” — a chunk of text at the top of a results page that uses Gemini to form its best guess at what the user is looking for.",
          "Matt Navara, a social media consultant, says the novelty of these posts has quickly worn thin for many of Facebook’s billions of users.",
          "\"Facebook's Twisted Incentives Created Its AI Slop Era\".",
          "Misinformation is too technical, too freighted, and, after almost a decade of Trump, too political.",
          "Futurism.",
          "By leveraging AI in this way, businesses can enhance productivity, without delegating their most important tasks to tech that isn’t suited to the task.",
          "Other influencers, such as the Trump sycophant Laura Loomer, have urged their followers to disrupt the disaster agency’s efforts to help hurricane victims.",
          "were running short of projected profits by a margin of at least several hundred billion dollars annually.",
          "The best explanation is that the Facebook pages posting these are making bait for scam targets, helping scammers identify gullible people in the comments who they can extract money from.",
          "“I’m leaving it because it is emblematic of the trauma and pain people are living through right now.”\nKremer wasn’t alone.",
          "- ^ a b \"How Long Will A.I.",
          "When generative AI meets profiteers and platforms\nThe short explanation for the prevalence of these baffling videos and images is that savvy creators on social media platforms have worked out how to use generative AI tools to earn a quick buck.",
          "Even in a decade marred by online grifters, shameless politicians, and an alternative right-wing-media complex pushing anti-science fringe theories, the events of the past few weeks stand out for their depravity and nihilism.",
          "Trump was really at that Buck’s County McDonald’s, debasing himself for swing-state votes in the same way that candidates have for generations (see: Rick Perry eating a corn dog in 2011).",
          "A representative for Meta didn't reply to questions about why they don't simply ban AI slop.",
          "They post dozens of images every day, sometimes every hour, and make a living from the engagement.",
          "Creators and platforms are making money\nYou may wonder why such repetitive, unimaginative content can go viral on TikTok.",
          "It's spam-adjacent stuff — if not outright spam.",
          "De Nittis notes that brands leveraging this meme-based chaos aren’t doing it for laughs — they’re using it to inject themselves into the fast-moving, low-effort humor loops Gen Z thrives on.",
          "About Human Centric Group\nHuman Centric Group is a boutique branding agency based in London, working with global leaders like Danone, Ikea, PepsiCo, and Carlsberg.",
          "Google Ads and affiliate marketing.",
          "There are YouTube channels dedicated to getting people’s AI slop machine up and running, dozens of guides on Fiverr and Gumroad, and Telegram channels full of simple English prompts that will help the AI image generator create a viral picture.",
          "The same political concerns about the ownership and control of A.I.",
          "What began as riffs on already viral images have evolved into bizarre, sui generis dreamscapes through which inexplicable and unrelated themes and topics emerge: multiheaded, enormously breasted “farmer girls”; stewardesses wading in muddy rivers; amputee beggars carrying signs reading TODAY IS MY BIRTHDAY.",
          "The vague similarities among the pages suggest the AI slop is being posted by a network of shady actors based in countries outside the US.",
          "But not all the accounts are spamming.",
          "This is what Jason Koebler from 404 Media speculates.",
          "But with the dominant search engines having made A.I.",
          "We pour everything into building something unique, something that truly resonates with our customers.",
          "- Facebook worries that banning this kind of AI content will set a bad precedent because it wants to encourage people to make stuff with its own Llama 3 tools.",
          "This approach not only makes your brand more relatable but also strengthens your connection with your audience.",
          "\"Disgusting application of AI.\"",
          "You know, it skips a major plot element, and the final scene is a celebration out of the ending of Star Wars.” Clarke said he had received “dozens of this story in various incarnations.”\nThese are prime examples of what is now known as slop: a term of art, akin to spam, for low-rent, scammy garbage generated by artificial intelligence and increasingly prevalent across the internet — and beyond.",
          "You cannot rank through AI content alone.",
          "- ^ \"Slop is the new name for unwanted AI-generated content\".",
          "This man, who held the nuclear codes just 1,369 days ago, is now wearing an apron and doling out fast food.",
          "[14] In August 2024, the American politician Donald Trump posted a series of AI-generated images on his social media platform, Truth Social, that portrayed fans of the singer Taylor Swift in \"Swifties for Trump\" T-shirts, as well as a photo of the singer herself appearing to endorse Trump's 2024 presidential campaign.",
          "But on some level you probably do.",
          "Common themes involve old people holding a birthday cake asking you to wish them a happy birthday; babies doing things babies shouldn't do; snakes eating buses, bikes, or other vehicles overloaded with hundreds of babies or some other cargo; soldiers with prosthetic legs; women with missing limbs and huge busts; and Jesus.",
          "Like, we’ve had a lot of words spread from a bunch of coding nerds, right?",
          "It makes content creation more accessible – and also opens the floodgates to mass production on social media.",
          "AI-generated books have become a problem too.",
          "[26] The Italian brainrot AI trend was widely adopted by advertisers to adjust well to younger audiences.",
          "Related: How to Spark Some Spontaneity in Your Hybrid Work Environment\nMoving forward with the entrepreneurial edge\nAs AI technology evolves, so do the challenges it presents.",
          "AI slop\n\"AI slop\", often simply \"slop\", is a term for low-quality media, including writing and images, made using generative artificial intelligence technology, characterized by an inherent lack of effort, logic, or purpose.",
          "For a while now, it has been common for entrepreneurs to outsource the actual production of content: “I have two people in the Philippines who post for me,” one American Facebook-page operator told The New York Times Magazine in 2016.",
          "They're surreal and sometimes grotesque.",
          "Its banner picture is currently an AI-generated photo of Trump surrounded by women in “Swifties” shirts.",
          "[10]\nSpeaking to New York magazine, a Kenyan creator of slop images described giving ChatGPT prompts such as \"WRITE ME 10 PROMPT picture OF JESUS WHICH WILLING BRING HIGH ENGAGEMENT ON FACEBOOK [sic]\", and then feeding those created prompts into a text-to-image AI service such as Midjourney.",
          "Though the image was clearly fake and quickly debunked, some politicians remained defiant.",
          "Would you be comfortable telling me how long you’ve had this Halloween website?",
          "An effective strategy mentioned by one creator is a kind of platform arbitrage involving popular videos from Douyin, the counterpart of TikTok in mainland China.",
          "Here’s how it works:\n“First, a spammer makes a free Vercel account.",
          "“No free information.” For a total of $105, I enrolled in a crash course in becoming a slopper.",
          "“Most of the time, when we see the deployment of new technologies, you see the creation of a bunch of new jobs that never existed before,” DeStefano said, addressing the focus on how AI is affecting the job market.",
          "And what is the Trump campaign producing if not fantastical propaganda intended to conjure a false image of Joe Biden’s America as a dark, dangerous place on the verge of destruction, besieged by immigrants, and savable only by one heroic man?",
          "We are expecting Google will derank.",
          "Maybe, and most straightforwardly of all, many simply vie for direct payments from platforms for AI-generated text, images, and videos: Facebook, TikTok, and Twitter all offer bonus payments for “engaging” content.",
          "This is the exact same type of AI-generated slop that has gone viral time and time again over the last year on Facebook and other platforms and that I have written about numerous times.",
          "“If you need my information pay me,” he wrote.",
          "By prioritizing quality, leveraging custom AI models and staying true to your brand's voice, you can rise above the slop and continue to deliver value that resonates with your audience.",
          "What we’re witnessing online during and in the aftermath of these hurricanes is a group of people desperate to protect the dark, fictitious world they’ve built.",
          "This collides with a swath of people who would rather live in an alternate reality built on distrust and grievance than change their fundamental beliefs about the world.",
          "“I think having a name for this is really important, because it gives people a concise way to talk about the problem,” says the developer Simon Willison, one of the early proponents of the term “slop”.",
          "TikTok, Facebook and other social media platforms are being flooded with uncanny and bizarre content generated with artificial intelligence (AI), from fake videos of the US government capturing vampires to images of shrimp Jesus.",
          "Here's How to Tell Hype From Real Innovation.",
          "The @amuse account has numerous connections with Muse.",
          "Despite clunky AI dubbing and error-riddled subtitles, many of these videos garner hundreds of thousands or even millions of views.",
          "\"AI in the Creative Industries: Strikes, Debates and Implications\".",
          "If businesses can learn from their peers’ mistakes and apply AI in the right way, they’ll have an opportunity to enhance their offering, rather than become an example of bad use cases.",
          "Free software for creating images and videos has led to a surge in slop, driven by scammers, spammers and the occasional genuine user seeking to go viral.",
          "He cited the budgetary advantages of the project along with the speed at which the work could be created.",
          "Hence the term slop, which conjures images of heaps of unappetizing food being shoveled into troughs for livestock.",
          "is designing new proteins, rapidly accelerating drug discovery and speeding up clinical trials testing new medicines and therapies.",
          "Others are “as an AI language model,” “as of my knowledge cutoff,” and “I cannot fulfill that request,” phrases that ChatGPT and other chatbots use frequently.",
          "In many ways, political slop is a logical end point for these image generators, which seem most useful for people trying to make a quick buck.",
          "Still, the glut of AI-created political imagery is a pollutant in a broader online information ecosystem.",
          "These pages make money through Facebook’s Performance bonus program, which, per the social network’s description, “gives creators the opportunity to earn money” based on “the amount of reach, reactions, shares and comments” on their posts.",
          "[31] One analyst characterized the website, which appeared to use AI-generated staff pictures, as likely using artificial intelligence \"to create content quickly and cheaply where opportunities are found\".",
          "It's loud, messy, and wildly popular — exactly the kind of content that sticks with Gen Z.",
          "Its early use has been noted among 4chan, Hacker News, and YouTube commentators as a form of in-group slang.",
          "There are images and videos of Harris and Trump holding hands on a beach and Harris wearing a crown that reads Inflation Queen.",
          "For me, it’s the amber glow of the fry machine gently illuminating the exhausted 45th president of the United States of America.",
          "!” The clip, which was eventually removed but had been viewed 662,000 times as of yesterday evening, turned out to be from a video of a CGI tornado that was originally published months ago.",
          "There’s no definitive way to tell how much slop has already been produced in the few short years generative-AI apps have been widely available, but there are ways to get a glimpse.",
          "“We know bad actors adapt their tactics to evade our rules, so we are always working to improve our detection and enforcement.”\nAccording to the people making the slop, the money is life-changing.",
          "I didn’t generate them.”\nDisinformation researchers have long warned that generative AI has the ability to lower the bar for creating misleading content and threaten information around elections.",
          "It’s what’s right there in the trough.",
          "We hire some of the content creators, and one is from Pakistan, and others are from some other countries.",
          "Photography, illustration, and graphic design previously required skill or, at the very least, time to create something interesting enough to attract attention, which, online, can be converted into real money.",
          "In the worst version of the slop future, your overwhelmed and underfunded local library is half-filled with these unchecked, unreviewed, unedited AI-generated artifacts, dispensing hallucinated facts and inhuman advice and distinguishable from their human-authored competition only through ceaseless effort.",
          "MAGA influencers may be shitposting AI photos for fun, but they’re also engagement farming, especially on X, where premium subscribers can opt in to the platform’s revenue-sharing program.",
          "Even in describing regular old pollution, this framework has its shortcomings, especially because it treats as automatic eventual progress that has always required tooth-and-nail fights against some very stubborn bad actors.",
          "Your insights and expertise differentiate your brand from the competition.",
          "It is, in effect, a slop subsidy.",
          "The sloppers gather on message boards and chat apps and social media to swap tips and tricks.",
          "\"'Side job, self-employed, high-paid': behind the AI slop flooding TikTok and Facebook\".",
          "Meta explicitly allows AI-generated images and the only metrics it cares about are the ones that improve its bottom line.",
          "the way that “spam” became the term for unwanted emails, “slop” is going in the dictionary as the term for unwanted AI generated content\nUpdate: that account has been deleted so the Tweet is a 404 now—the tweet quote tweeted this one by @allgarbled.",
          "AI Slop is Everywhere We Look — Here's How Businesses Can Avoid the AI Slop Cycle AI slop is the latest iteration of digital clutter.",
          "They’re not just jumping on trends — they’re showing they’re in on the joke.”\nAccording to research by GWI, 76% of Gen Z uses TikTok to watch funny videos, and Lifewire reports 57% prefer short videos for product research.",
          "“You search for something and you get back what you need in order to think — and it actually encourages you to think,” Mr. Hammond said.",
          "The rise of AI has coincided with global unemployment trends and the growth of the gig economy in the post-pandemic era.",
          "Presidential campaigning has long offered an unreal portrait of American life—it’s just been made more peculiar by the presence of Trump.",
          "“The crucial question is: What $1 trillion problem will A.I.",
          "But even this horror story is a kind of wishful thinking: Recent research suggests that as long as an LLM’s training corpus contains at least 10 percent non-synthetic — that is, human — output, it can continue producing slop forever.",
          "If it were all just a slightly more efficient form of spam, distracting and deceiving Facebook-addled grandparents, that would be one thing.",
          "They are precisely what the company wants: highly engaging content.",
          "For brands with answers, the payoff can be immense.",
          "An account that’s consistently posting can get invited into Facebook’s Creator Bonus Program and start making money from viral content.",
          "Yet these are anodyne compared with much of the material created and shared by far-right influencers and shitposters.",
          "Related: These Days, Everything Is 'Powered By AI.'",
          "It’s very real and scary how much they have taken control to stop people helping.” That post has been viewed more than 40 million times.",
          "The more posts, the greater the returns.",
          "But it is not easy to rank on Google’s first page, and our site was ranked on the first page.",
          "For the majority of these pages, there is no obvious scam at play, no ads or external links — no business model at all, just eerily contextless pages publishing demented nonsense into a void.",
          "“Ryanair succeeds not because they post Brainrot content,” De Nittis writes, “but because their version is still very Ryanair — cheap, cheeky, and chaotic.",
          "\"I believe that generative AI has the potential not only to reshape what we create, but also to fundamentally change the processes by which we create, including programming.\"",
          "Initially, platforms like ChatGPT and Google Gemini were celebrated for their efficiency.",
          "slop”: often uncanny, frequently misleading material, now flooding web browsers and social-media platforms like spam in old inboxes.",
          "The X account is connected to a Substack posting the same articles that Muse publishes on his LinkedIn page, which also has the username “amuse”, reflecting his first initial and last name.",
          "The robotic voice, familiar to anyone who frequents YouTube Shorts, Instagram Reels, or TikTok, is generally associated with low-effort, mass-produced AI content.",
          "when it is used correctly, thought that slop could become the go-to term for the lesser forms of machine-generated content.",
          "Siding with History’s Villains: Darryl Cooper is no scholar.",
          "The more unique the thing you show the audience, the more engagement.”",
          "Futurism.",
          "These creators often manage several or even dozens of accounts, targeting viewers in different countries in a strategy known as an “account matrix”.",
          "This slop is sloppy enough that it can sometimes be very funny — and there's even an X account, Insane Facebook AI Slop, dedicated to cataloging it.",
          "And this is because of all the misinformation provided by the journalists.",
          "Angry, embittered citizens have been harassing government officials in North Carolina, as well as FEMA employees.",
          "This is the Shrimp Jesus kind of slop: bizarre, obviously fake, and sometimes vaguely unsettling in a trypophobia-triggering way.",
          "You may not know exactly what “slop” means in relation to artificial intelligence.",
          "404 Media, which has been diligently covering this, has described how these images are part of an AI-fueled \"zombie internet\" full of bots talking to bots.",
          "He’s flicking through a Facebook feed of viral, AI-generated images.",
          "Using automation in the wrong places has the power to turn your most loyal fans into vocal critics.",
          "A woman bicycling with a basket full of babies and burritos.",
          "Generative AI thus far has drawn criticism from players and creators due to a mix of ethical issues, rights issues, and AI’s struggles to produce content audiences actually enjoy.",
          "Peer away from those chatbots and you can see a very different story, with different robot protagonists: machine-learning tools trained much more narrowly and focused less on producing a conversational, natural-language interface than on processing data dumps much more efficiently than human minds ever could.",
          "Google is just a search engine, and any person can post anything on it.",
          "“Y’all, I don’t know where this photo came from and honestly, it doesn’t matter,” Amy Kremer, who represents Georgia on the Republican National Committee, wrote after sharing the fake image.",
          "Prominent accounts including Musk have shared and replied to @amuse’s posts, which recently have included AI depictions of Trump fighting Darth Vader and sexualized imagery of Harris.",
          "\"Where Facebook's AI Slop Comes From\".",
          "Low quality books that appear to be AI generated are making their way into public libraries via their digital catalogs, forcing librarians who are already understaffed to either sort through a functionally infinite number of books to determine what is written by humans and what is generated by AI, or to spend taxpayer dollars to provide patrons with information they don’t realize is AI-generated.",
          "- Misinformation: Fact-checking is more important than ever.",
          "One video posted by TikTok user @amoamimandy.1a featuring the Tralalero shark has already passed 7 million views.",
          "But like spam, its overall effect is negative: the lost time and effort of users who now have to wade through slop to find the content they’re actually seeking far outweighs the profit to the slop creator.",
          "Experiences like this — staring at a collection of books written by AI with computer-generated author photos and dozens of reviews written and posted by bots — have become for many people evidence for the “dead-internet theory,” the only slightly tongue-in-cheek idea, inspired by the increasing amount of fake, suspicious, and just plain weird content, that humans are a tiny minority online and the bulk of the internet is made by and for AI bots, creating bot content for bot followers, who comment and argue with other bots.",
          "We have other articles, we have other websites.",
          "Clarkesworld was, luckily, only temporarily disabled by the slop deluge; over the course of March 2023, with the help of volunteers, Clarke built a “very rudimentary spam filter,” and by the end of the month the magazine was able to reopen submissions.",
          "Just like spam, almost no one wants to view slop, but the economics of the internet lead to its creation anyway.",
          "Muse’s book on how to secure startup funding, which includes examples of him asking ChatGPT to pretend it’s Musk and offer business advice, lists that same Substack account as its publisher.",
          "If you’ve spent any time on Facebook recently you’ve seen the river of AI slop.",
          "As Hurricane Milton churned across the Gulf of Mexico last night, I saw an onslaught of outright conspiracy theorizing and utter nonsense racking up millions of views across the internet.",
          "You can easily write a whole website with AI.",
          "An Armed and Legged Fish: How Steve, a French cartoon with a catchy theme song, became a TikTok star.",
          "Entrepreneur.",
          "Xiaonan also hosts an exclusive chatting group where, for a fee, he reveals his most effective AI prompts, video headlines and hashtags tailored for different platforms including YouTube and Instagram.",
          "In fact, he is based in Pensacola, North Carolina.",
          "\"AI-Generated Slop Is Already In Your Public Library\".",
          "Image-generated slop has also blossomed on Facebook, as images of Jesus Christ with prawns for limbs, children in plastic bottle-cars, fake dream homes and improbably old women claiming to have baked their 122nd birthday cake garner thousands of shares.",
          "AI technology has been seeping into game development to mixed reception.",
          "But MAGA world has always trafficked in slop.",
          "In the hands of influencers, they are fired at our timelines in a scattershot approach to attract a morsel of attention.",
          "Slop is the new name for unwanted AI-generated content\n8th May 2024\nI saw this tweet yesterday from @deepfates, and I am very on board with this:\nWatching in real time as “slop” becomes a term of art.",
          "Kristian Hammond, the director of Northwestern University’s Center for Advancing Safety of Machine Intelligence, noted a problem in the current model: the information from A.I.",
          "It is very personal, and it depends on the traffic.",
          "“As the difference between human and synthetic content gets blurred, people want to know where the boundary lies,” he wrote.",
          "- Cluttered Social Media Feeds: Social platforms should be a place for meaningful engagement, but AI slop often fills them with irrelevant, unengaging posts that fail to connect with your audience.",
          "For example, generative AI cannot replace genuine human creativity – it is merely a mulch of previous human ideas.",
          "Subscribe\nBy now, if you have spent any amount of time reading about the devastation wrought by Hurricane Helene, it is likely that you have seen the AI-generated image above.",
          "And while the internet was never perfectly trustworthy, one epoch-defining breakthrough of Google was that it got us pretty close.",
          "Basically, they don't give a shit anymore.",
          "Social media platforms will soon respond.",
          "keep it detailed.”\nThe creators of these kinds of seminars, equipped with the “sell shovels in a gold rush” playbook, often have a more reliable income than the sloppers themselves.",
          "The threat of slop fatigue\nAs consumers and business owners alike, we're all experiencing slop fatigue.",
          "[33] The site's owner said that \"We asked ChatGPT to write the article for us, but it wasn't ChatGPT by itself.\"",
          "As Xiaonan told us, many of the people taking his AI tutorial – entitled “Side job, self-employed, high-paid” – are housewives, unemployed people and college students.",
          "- Develop Custom AI Models: Creating AI models tailored to your specific needs and brand voice ensures that the content generated aligns with your standards.",
          "Some researchers, especially those for whom English is not a first language, use ChatGPT and other AI programs to help with translation and editing.",
          "[5] Early uses of the term \"slop\" as a descriptor for low-grade AI material apparently came in reaction to the release of AI image generators in 2022.",
          "These jobs are different, but the thing they share is that they all must attend to and describe the world as it is.",
          "may not be what boosters call “scaling,” especially given the possibility that new training runs deliver some very expensive diminishing returns.",
          "In his own way, Trump has shown us all the limits of artificial intelligence.",
          "“I think I might actually have been quite late to the party!” he said in an email.",
          "There have long been fears that AI image tools could be used to create highly convincing “deepfakes” and images or videos that could help spread disinformation or influence elections.",
          "Slop, at least in the fast-moving world of online message boards, is a broad term that has developed some traction in reference to shoddy or unwanted A.I.",
          "As Xiaonan says, his method is to use AI to “earn from productivity gap” – that is, by producing far more content than people who don’t use AI .",
          "On the text of the post, which was labeled “satire”, was a watermark that stated it was “sponsored by the John Milton Freedom Foundation”.",
          "- Lack of Coherence: Content that jumps from one idea to another without a clear flow is often a product of AI slop.",
          "• Can we insert our product without feeling forced?",
          "Something strange was happening at Clarkesworld, the magazine Clarke had founded in 2006 and built into a pillar of the world of speculative fiction.",
          "If AI slop can teach us something about a man like Trump, it seems that the opposite is also true.",
          "tools, and how they might be turned toward harmful or exploitative ends, remain somewhat systematically unaddressed.",
          "Rather than pointing users toward links, the service attempts to solve a query directly with an “A.I.",
          "As adoption becomes more widespread, we’re likely to see brands churn out more AI slop.",
          "- Use Interactive Elements: Incorporate visuals, videos and interactive media to create engaging and dynamic content that holds your audience's attention.",
          "\"Our intentions are very pure, we tried our best to give authentic content.",
          "In August, I wrote that AI slop is now the aesthetic of the far-right and MAGA coalition, in part because it allows hyper-partisans to illustrate the fictional universe they’ve been peddling and living in for the past decade-plus.",
          "expenditure, more than the United States spends annually on its military, and think: What exactly is that money going toward?",
          "“The post you are seeing now is of a poor man that is being used to generate revenue,” he says in Hindi, pointing with his pen to an image of a skeletal elderly man hunched over being eaten by hundreds of bugs.",
          "The foundation’s stated goal is to raise $2m from major donors to award $100,000 grants to a list of “fellows” made up of rightwing media influencers.",
          "This adds depth and makes your brand memorable.",
          "The organization believes that this money would allow these already established influencers to “increase their reach by more than 10x in less than a year”, according to its investor prospectus.",
          "AI was involved 10 percent or 20 percent.",
          "But the slop tide threatens some of the key functions of the web, clogging search results with nonsense, overwhelming small institutions like Clarkesworld, and generally polluting the already fragile information ecosystem of the internet.",
          "But you can also get bad advice about A.D.H.D., about chemotherapy, about Ozempic — some potentially delicate subjects.",
          "Now they can illustrate it.",
          "I think don’t publish slop is a useful baseline.",
          "One of his methods is to focus on what he calls “smoking guns” — phrases that show unambiguously the use of an AI text generator like ChatGPT.",
          "David Wallace-Wells\nRemember the season of A.I.",
          "Spam is annoying, but ultimately easy to ignore—that is, until it collides with the negative incentives of social-media platforms, where it’s used by political shitposters and hucksters.",
          "Years deep into national hysteria over the threat of internet misinformation pushed on us by bad actors, we’ve sleepwalked into a new internet in which meaningless, nonfactual slop is casually mass-produced and force-fed to us by A.I.",
          "Using instructions and tools he bought online, 404 Media’s Jason Koebler set up his own AI slop shop.",
          "So it is easy for us to generate revenue for that one day—then we don't have to put in effort throughout the year.",
          "Muse, who is described in the prospectus as a “serial entrepreneur”, also blogs about how to make money from generative AI.",
          "\"How Businesses Can Avoid AI Slop\".",
          "“This is important for the younger Gen Z and Gen Alpha audiences, who are the first generations that grew up digitally and are looking for personalization across everything, as well as looking for experiences to have more meaning.\"",
          "Afterward, the incident went viral as an example of AI slop seeping into the real world.",
          "On the list was a picture of a train made of leaves.",
          "“What it’s becoming, in this integration with language models, is something that does not encourage you to think.",
          "The images originated from the conservative Twitter account @amuse, which posted numerous AI slop images leading up to the 2024 United States elections that were shared by other high-profile figures within the American Republican Party, such as Elon Musk, who has publicly endorsed the utilization of generative AI, furthering this association.",
          "Your email inbox is full of spam.",
          "The fake advert - which has been dubbed \"AI slop\" for its use of poorly-generated imagery - is one of several tests currently being run across the publisher's social media profiles.",
          "[16][3] Some, like Amy Kremer, shared the image on social media even while acknowledging that it was not genuine.",
          "“Slop” is what you get when you shove artificial intelligence-generated material up on the web for anyone to view.",
          "Authenticity is now a competitive advantage.",
          "“If it creates so much fear that my staff doesn’t want to go out in the field, then we’re not going to be in a position where we can help people,” she said in a news conference on Tuesday.",
          "Such was the case last week, when Republican politicians shared an AI-generated viral image of a little girl holding a puppy while supposedly fleeing Helene.",
          "The problem has begun to worry the social media industry’s main revenue source: the advertising agencies who pay to place ads next to content.",
          "\"Hurricane Helene and the 'Fuck It' Era of AI-Generated Slop\".",
          "One increasingly intuitive answer is “garbage.” The neuroscientist Erik Hoel has called it “A.I.",
          "He pauses on another image of a man being eaten by bugs.",
          "It will include links as well, but users who want to limit the response to just a selection of links to other websites will be able to find them – by clicking through to “web” on the search engine, demoted to sit beside “images” and “maps” on the list of options.",
          "But as they've become more mainstream, they've also started churning out vast amounts of subpar content — clogging blogs, social media and search results with noise instead of value.",
          "Slop is everywhere on the internet, but its purest version exists on Facebook.",
          "Worse, they may not want to stop all grist-mill.",
          "For these entrepreneurs, AI is the secret sauce not only for creating viral content but also for circulating already-viral videos across different countries and platforms.",
          "This makes them dangerous to people who cannot abide by the agonizing constraints of reality, as well as those who have financial and political interests in keeping up the charade.",
          "“We encourage creators to use AI tools to produce high-quality content that meets all our Community Standards, and we take action against those who attempt to drive traffic using inauthentic engagement whether they use AI or not,” a Meta spokesperson told 404 Media.",
          "The MAGA movement has spent nine years building a coalition of conspiratorial hyper-partisans dedicated to creating a fictional information universe to cocoon themselves in.",
          "Many earlier digital technologies have also made it easier to participate in creative activities, such as how smartphones made photography ubiquitous.",
          "“This is a matter of survival.”\nThe result of this fearmongering is what you might expect.",
          "For entrepreneurs, this shift is crucial.",
          "The shadows of the McDonald’s kitchen, the interplay between the sheen of the stainless steel and the cast of the nugget-warming lights, give the very real photos a distinct Midjourney aesthetic.",
          "These include people like the former CBS journalist turned far-right star Lara Logan, who was cut from Newsmax in recent years for going on a QAnon-inspired rant that claimed world leaders drink children’s blood, as well as the author of an anti-trans children’s book.",
          "(For instance, earlier today, Trump posted an AI-generated picture of himself as a buff Pittsburgh Steelers lineman.)",
          "\"However, the introduction of ChatGPT, which allows anyone to easily produce writing or translations or to engage in text-based dialogue, sparked the rapid spread of generative AIs.",
          "The group’s day-to-day operations appear to revolve around sharing engagement bait on X and seeking millions from donors for a “fellowship program” chaired by a high school sophomore that would award $100,000 to Twitter personalities such as Glenn Greenwald, Andy Ngo and Lara Logan, according to a review of the group’s tax records, investor documents and social media output.",
          "\"Drowning in Slop\".",
          "But as Michael Caulfield, an information researcher at the University of Washington, has argued, “The primary use of ‘misinformation’ is not to change the beliefs of other people at all.",
          "Beneath the strange and alienating flood of machine-generated content slop, behind the nonhuman fable of dead-internet theory, is something resolutely, distinctly human: a thriving, global gray-market economy of spammers and entrepreneurs, searching out and selling get-rich-quick schemes and arbitrage opportunities, supercharged by generative AI.",
          "Brands that only copy trends risk becoming forgettable.",
          "The glare of the potato-warming apparatus casts a shadow on the left side of Donald Trump’s face as he works at a McDonald’s in Bucks County, Pennsylvania.",
          "You can do your own versions of these experiments at home.",
          "What is 'AI Slop'?",
          "\"Artificial intelligence (AI) and its potential implications had for some time largely been subjects of academic debate,\" he wrote.",
          "solve?”\nA decade ago, venture capital provided Americans the “millennial lifestyle subsidy”: investors keeping the price of Uber and DoorDash and dozens of other services artificially low for years.",
          "model into its U.S.-based search results.",
          "Your customers are becoming more discerning, and they're quick to tune out content that doesn't meet their expectations.",
          "Using AI the right way\nBut using AI is not a mistake in itself, the problem is how brands choose to harness it.",
          "It’s the matter of weeding out the good from the bad, in the name of intellectual hygiene.",
          "I want to ask about the AI of it all—\nI’ll explain it to you.",
          "How much money do you make off SEO?",
          "“And as you know, with traffic from the USA your CPM [cost per 1,000 views, an ad-revenue metric] will be very high.",
          "One of the things I love about this is that it’s helpful for defining my own position on AI ethics.",
          "AI slop is the latest iteration of digital clutter.",
          "“If I want to go very realistic, maybe it’s difficult, but if I want to go hyper-realistic and fantastical, A.I.",
          "“We had reached the point where we were on track to receive as many generated submissions as legitimate ones,” Clarke told me.",
          "Facebook’s most recent report from its Transparency Center reveals that two of the top five most widely viewed images on the network in the three months to September were AI-generated – viewed 38.6m and 35.8m times respectively.",
          "There’s the homeless vet with the badly worded sign, cops carrying massive bibles, and—of course—Shrimp Jesus.",
          "His process for creating posts, he told me, is pretty simple and AI intensive: “I use ChatGPT to ask for the best images that can generate a lot of popularity and engagement on Facebook,” focusing on topics like the Bible, God, the U.S. Army, wildlife, and Manchester United.",
          "Unfortunately I do not have enough information to summarize further within the provided guidelines.",
          "As one dispirited meteorologist wrote on X this week, “Murdering meteorologists won’t stop hurricanes.” She followed with: “I can’t believe I just had to type that.”\nWhat is clear is that a new framework is needed to describe this fracturing.",
          "(At some crucial points, A.I.",
          "According to an analysis by the Institute for Strategic Dialogue, an extremism-research group, “Falsehoods around hurricane response have spawned credible threats and incitement to violence directed at the federal government,” including “calls to send militias to face down FEMA.” The study also found that 30 percent of the X posts analyzed by ISD “contained overt antisemitic hate, including abuse directed at public officials such as the Mayor of Asheville, North Carolina; the FEMA Director of Public Affairs; and the Secretary of the Department of Homeland Security.” The posts received a collective 17.1 million views as of October 7.",
          "Slop requires human intervention or it wouldn’t exist.",
          "Now, your web browser has its own affliction: slop.",
          "AI-generated content has become the latest trend for earning side income.",
          "But that dip has since recovered, and in the first three weeks of the overviews, overall search traffic to more than 2,000 major websites in the U.S. actually went up, according to Chartbeat.",
          "This piece is part of a series on the great internet letdown.",
          "Though he first noticed the problem thanks to a recipe book by a nonexistent author that featured “a meal plan that told you to eat straight marinara sauce for lunch,” the slop books he sees often cover highly consequential subjects like living with fibromyalgia or raising children with ADHD.",
          "“If the field can’t find a way to address this situation, things will begin to break.”\nThe information superhighway”: That’s what the internet was supposed to be.",
          "I ain’t got time to chase down every Facebook rumor … We’ve been through enough.”\nIt is difficult to capture the nihilism of the current moment.",
          "He ignored a question about the minimum wage.",
          "How do you make money?",
          "Some posts will only generate a few cents while others may pull in hundreds of dollars.",
          "I attach my name and stake my credibility on the things that I publish.",
          "And so it makes sense that campaigns—not just Trump’s—tend to traffic in it.",
          "“They are getting so many likes,” he says.",
          "Willison pointed to an AI-generated Microsoft Travel article that listed the “Ottawa food bank” as a must-see attraction in the Canadian capital as a perfect example of the problem.",
          "This creates a preview link, which can then be pushed to their phone (it has to be a separate device), then shared to their own personal Facebook page as a ‘test.’\nFrom there, the link can be grabbed and shared to a page as a normal post, even though it is not a published ad, meaning that, to do this trick, you do not actually have to spend any money.",
          "Donald Trump—or at least whoever controls his social-media accounts—posted the AI-generated photo of Harris with the hammer and sickle, as well as a series of fake images depicting Taylor Swift dressed as Uncle Sam and young women marching in Swifties for Trump shirts.",
          "In the lead-up to the candidate’s fast-food stop, various news outlets, fans, and even T-shirt sellers used generative-AI tools to mock up what the visit might look like.",
          "Posts questioning its authenticity were widely shared on X.",
          "On one hand, Hoopla’s gigantic catalog, which includes ebooks, audio books, and movies, is a selling point because it gives librarians access to more for cheaper price.",
          "They are also — for now, at least — much more reliable and productive.",
          "What is a Trump rally but a teleprompter reading of stump-speech slop, interspersed with inexplicable lorem ipsum about Hannibal Lecter and wind turbines spun up by the unknowable language model in Trump’s own head?",
          "There are plenty of mocking or degrading images of Harris and other female Democratic politicians, such as Alexandria Ocasio-Cortez.",
          "This is clarifying, insofar that it demonstrates that Trump’s primary output is always a kind of slop.",
          "Rather than peck out a few sentences complaining about Biden’s age or ridiculing Harris’s economic policies, far-right posters can illustrate their attacks and garner more attention.",
          "Scroll, laugh, forget, repeat.",
          "One pro-Trump, Elon-Musk-fanboy account recently shared a suggestive image depicting a scantily clad Harris surrounded by multiple clones of Donald Trump; it’s been viewed 1.6 million times.",
          "How many other websites do you have?",
          "Will you change how you use AI going forward?",
          "Tim DeStefano, a research professor at Georgetown University McDonough School of Business, told NBC News that using AI technology means a significant drop in the price of creating commercials.",
          "One Texas-based account that posts anti-vaccine content lists itself as a “JMFF” fellow in their bio, but none of the others advertise any connection.",
          "- \"AI slop\" images are all over Facebook.",
          "\"Not even Amazon is safe from the rise of AI 'slop'\".",
          "A year ago, as normies were only just toying around with chatbots, there were already dozens of drugs developed in part by A.I.",
          "This ecosystem is not new.",
          "Although no one ideology has a monopoly on AI art, the high-resolution, low-budget look of generative-AI images appears to be fusing with the meme-loving aesthetic of the MAGA movement.",
          "As he revealed in a live-streaming tutorial with more than 1,000 viewers, Xiaonan earned more than US$5,500 from TikTok in July alone.",
          "- There's even an X account dedicated to posting the most ridiculous stuff.",
          "The most recent tax records for the Freedom Foundation place it in the category of non-profits whose gross receipts, or total funds received from all sources, range from $0 to $50,000 – far below the millions it is seeking.",
          "Right-wing influencers have been vocal about these bonuses, which are handed out based on how many times a creator’s content is seen in a given month.",
          "Now the reckoning is happening on very different terms.",
          "[1][4][5] Coined in the 2020s, the term has a pejorative connotation akin to \"spam\".",
          "“Replacing low-wage jobs with tremendously costly technology is basically the polar opposite of the prior technology transitions I’ve witnessed,” he noted.",
          "- Misleading Information: Sloppy AI-generated snippets in search results can mislead your customers, making it harder for them to find accurate information.",
          "The more people sharing posts and engaging with them, the better off Meta is.",
          "By Johnny Hughes Edited by Micah Zimmerman\nKey Takeaways\n- Entrepreneurs face a growing challenge with AI-generated \"slop\" content that dilutes online quality and disrupts engagement.",
          "“People waving a bunch of money on YouTube or TikTok videos and saying, ‘Oh, you can make money with ChatGPT by doing this.’” Clarke could even trace spikes in submissions to specific videos: It’s not some burgeoning artificial super-intelligence or even a particularly sophisticated crew of scammers that has waylaid Clarkesworld; rather, it’s the audiences of influencers like Hanna Getachew, an accountant and technology-procurement manager who runs an Amharic-language YouTube account dedicated to “teaching side hustles and online jobs” — and who recently posted a video called “Get Paid With Clarkes World Magazine.” (Clarkesworld pays 12 cents per word for submissions of 1,000 to 22,000 words.",
          "Now, With A.I., We've Got 'Slop'\".",
          "Muse’s experience in digital media appears to be far more extensive than the non-profit’s other members.",
          "They’re slop as well.",
          "Slop is the ideal name for this anti-pattern.",
          "Xiaonan also reveals tricks for standing out in the platforms’ recommendation game and avoiding platform regulations.",
          "(In reality, FEMA offers $750 as immediate “Serious Needs Assistance” to help people get basic supplies such as food and water.)",
          "In the hands of Trump, they create small news cycles and narratives to be debunked.",
          "I’m a big proponent of LLMs as tools for personal productivity, and as software platforms for building interesting applications that can interact with human language.",
          "The approach resembles the workflow of content farms, which rely on fully AI-driven production - from script to video to narration - typically for the sole purpose of engagement farming.",
          "Nor does it explain what is really happening, which is nothing less than a cultural assault on any person or institution that operates in reality.",
          "Pure engagement bait.",
          "To take just one example: if you search “pet dance motorcycle” on TikTok, you will find hundreds of AI-generated videos of animals doing the “motorbike dance”, all animated using the same AI template.",
          "[1][4]\nOn social media\n[edit]AI image and video slop proliferated on social media in part because it was revenue-generating for its creators on Facebook and TikTok, with the issue affecting Facebook most notably.",
          "Jesus' head on a fried chicken.",
          "Regardless, AI has proved a controversial topic within video games and other creative industries.",
          "The result is a conglomerate that has never before existed in fashion.",
          "“Speed is I would say five times, right?",
          "Then the images become something else.",
          "Google suggesting that you could add nontoxic glue to make cheese stick to a pizza?",
          "Okay, AI was involved.",
          "“WRITE ME 10 PROMPT picture OF JESUS WHICH WILLING BRING HIGH ENGAGEMENT ON FACEBOOK,” read the ChatGPT prompt in one screenshot he shared with me.",
          "So you too should create a page like this, upload photos and make money through Performance bonus.”\nHe scrolls through the page, titled “Anita Kumari,” which has 112,000 followers and almost exclusively posts images of emaciated, AI-generated people, natural disasters, and starving children.",
          "Slop, the OUP writes, is “art, writing, or other content generated using artificial intelligence, shared and distributed online in an indiscriminate or intrusive way, characterised as being of low quality, inauthentic, or inaccurate”.",
          "In service of that mission, they meme, pander, email, and text, frequently in cringeworthy fashion.",
          "Slop isn’t necessarily a commentary on quality so much as on how it is meant to be consumed: fleetingly, and with little or no thought beyond the initial limbic-system response.",
          "I propose “slom”.",
          "Among them: Infowars’ Alex Jones, who claimed that Hurricanes Milton and Helene were “weather weapons” unleashed on the East Coast by the U.S. government, and “truth seeker” accounts on X that posted photos of condensation trails in the sky to baselessly allege that the government was “spraying Florida ahead of Hurricane Milton” in order to ensure maximum rainfall, “just like they did over Asheville!”\nAs Milton made landfall, causing a series of tornados, a verified account on X reposted a TikTok video of a massive funnel cloud with the caption “WHAT IS HAPPENING TO FLORIDA?",
          "I’ll show you how to create images with the help of AI.”\nHe taps over to a Facebook page called “Dream Home,” which has 113,000 followers and consists of AI generated homes that look like roosters, giraffes, horses, and hummingbirds, poor Black children, and wood carvings.",
          "Meta's previous commitments to working with researchers and academics have fizzled away, and the scrutiny over content moderation (helped by Elon Musk lowering the bar to the basement) has shifted.",
          "“More than cost, it’s the speed,” Thakar told Ad Age.",
          "Why slop?",
          "We will soon face a situation in which content is effectively infinite, but human attention is still limited.",
          "After months of retweeting conservative media influencers and echoing Elon Musk’s claims that freedom of speech is under attack from leftwing forces, one of the organization’s messages found its way to Trump and then his millions of supporters.",
          "There is a fear that as slop takes over, the large language models, or LLMs, that train on internet text will “collapse” into ineffectiveness — garbage in, garbage out.",
          "We just do work for three or four months, and then we'll get the revenue.",
          "- Combine AI with Human Touch: AI can be a powerful tool, but it's essential to have human editors refine and enhance the content to maintain quality and authenticity.",
          "- Invest in Originality: Set aside time to craft original content that reflects your unique perspective.",
          "It’s possible that, later on, AI-art tools will train on these distorted depictions, creating warped, digitally inbred representations of historical figures.",
          "The AI images produced on Stevo’s pages — rococo pictures of Jesus; muscular police officers standing on the beach holding large Bibles; grotesquely armored gargantuan helicopters — are neither scams nor enticements nor even, as far as Facebook is concerned, junk.",
          "“‘Ignore that email, it’s spam,’ and ‘Ignore that article, it’s slop,’ are both useful lessons.”\nBenjamin Hoffman is a senior editor who writes, assigns and edits stories primarily on the intersection between sports, lifestyle and culture.",
          "A niche non-profit’s AI slop makes its way to Trump\nDuring the spike in AI images on X, the conservative @amuse account posted the images of AI-generated Swift fans to more than 300,000 followers.",
          "(Minimum wage in Kenya ranges from about $120 to $270 a month.)",
          "Not unlike the fast food that Trump was hawking, slop is sometimes delicious, but it is never nutrient dense.",
          "Instead, the vast majority of misinformation is offered as a service for people to maintain their beliefs in face of overwhelming evidence to the contrary.” This distinction is important, in part because it assigns agency to those who consume and share obviously fake information.",
          "(He called this “A.I.’s $600 billion question” and warned of “investment incineration.”) In a similarly bearish Goldman Sachs report, the firm’s head of global equity research estimated that the cost of A.I.",
          "Perhaps it’s because my feeds have been simultaneously clogged with election-season garbage and AI-generated slop, but the McDonald’s photoshoot struck me as a moment of strange synthesis, where reality and tech-enabled fiction felt somehow mashed together by the internet’s cultural particle accelerator.",
          "The rise of slop has, appropriately, the shape of a good science-fiction yarn: a mysterious wave of noise emerging from nowhere, an alien invasion of semi-coherent computers babbling in humanlike voices from some vast electronic beyond.",
          "That information was readily available elsewhere on the internet but seems to have been missed by many people who saw or were told about the A.I.-generated content, which was also shared across social media by local people and businesses, The Irish Times reported.",
          "Just as it seems obvious that Trump’s devoted followers—an extremely online group that has so fully embraced conspiracy theorizing and election denial that some of its members stormed the Capitol building—would delight in the bespoke memes and crude depictions of AI art.",
          "Trump also posted (and later deleted) on Truth Social that FEMA money was given to undocumented migrants, which is untrue.",
          "- ^ \"Why Brands Are Embracing 'Italian Brainrot' to Go Viral on TikTok and Win Over Gen Z\".",
          "Americans are divided not just by political beliefs but by whether they believe in a shared reality—or desire one at all.",
          "The brands that prioritize genuine, high-quality content will not only survive in this new landscape but thrive.",
          "Mindlessly generated information chokes our information pathways, forcing consumers to do the work of discarding it.",
          "But when you’ve got an automated post-creating machine, who needs two people in the Philippines?",
          "Humans are involved in the website’s search engine optimization efforts to ensure it ranks highly on sites like Google, he said, but much of the information is produced by A.I.",
          "Voilà: slop.",
          "- Facebook does ban this stuff, but only at an account level when the account posting it engages in obvious spam tactics.",
          "Another niche is about SEO, and how you can be an SEO expert, but I’m not going to reveal those.",
          "In one sense, these attacks—and their increased desperation—make sense.",
          "Then the person logs into their Facebook page and upgrades their account to an ad account, which is an instant process.",
          "[4]\nIn politics\n[edit]The examples and perspective in this section deal primarily with the United States and do not represent a worldwide view of the subject.",
          "I’m Running Out of Ways to Explain How Bad This Is\nWhat’s happening in America today is something darker than a misinformation crisis.",
          "has cut decision time to one minute from 10.)",
          "- Repetitive Ideas: Redundant phrases and unoriginal concepts make content feel stale and unengaging.",
          "This is how entrepreneurs will not only survive but thrive in this new digital landscape.",
          "Rather than deal with the realities of a warming planet hurling once-in-a-generation storms at them every few weeks, they’d rather malign and threaten meteorologists, who, in their minds, are “nothing but a trained subversive liar programmed to spew stupid shit to support the global warming bullshit,” as one X user put it.",
          "For that matter, given the sophistication of the AI, why would the Filipinos need an American?",
          "On X, one post that included a fake image in which Harris is implied to be a sex worker has been viewed more than 3.5 million times; on Facebook, that same post has been shared more than 87,000 times.",
          "The latest wave of AI behind the 'zombie internet'\".",
          "In fact, our research suggests this kind of low-quality AI-generated content is becoming a lucrative venture for the people who make it, the platforms that host it, and even a growing industry of middlemen teaching others how to get in on the AI gold rush.",
          "On a website like Facebook, the more strikingly weird an image is, the more likely it is to attract attention and engagement; the more attention and engagement, the more Facebook’s sorting mechanisms will promote and recirculate the image.",
          "This incentivizes individuals from developing countries to create images that appeal to audiences in the United States which attract higher advertising rates.",
          "Not only does the copy on the website reek of generative AI, all the images have quite obviously been spurted out following a lazy prompt.",
          "The team behind it, according to its own documents, consists of five people based in the Dallas-Fort Worth area with varying degrees of experience in Republican politics.",
          "These pictures immediately reminded me of the viral, glossy AI-generated images of Trump being arrested and thrown in jail that started circulating in the spring of 2023.",
          "infrastructure build-out over the next several years would reach $1 trillion.",
          "A Warship Capsizes: North Korea’s leader, Kim Jong-un, watched the country’s newest 5,000-ton destroyer capsize during its launch in an embarrassing military failure.",
          "But before that, AI-generated content will continue to grow wildly – at least for a while.",
          "On the first night of the DNC, MAGA influencers such as Catturd2 and Jack Posobiec supplemented their rage tweets about Democrats with stylized AI images of Tim Walz and Joe Biden looking enraged.",
          "Similarly, those sharing the lies are happy to admit that they do not care whether what they’re pushing is real or not.",
          "What is clear from comments such as Kremer’s is that she is not a dupe; although she may come off as deeply incurious and shameless, she is publicly admitting to being an active participant in the far right’s world-building project, where feel is always greater than real.",
          "content in social media, art, books and, increasingly, in search results.",
          "The very existence of so much quickly produced fake imagery adds a layer of unreality to the internet.",
          "Elon Musk riding a UFO, “Shrimp Jesus” and tiny children baking impossibly perfect birthday cakes.",
          "Your letterbox is full of junk mail.",
          "“It’s a word that feels like it’s naturally applicable to this situation.",
          "Sometimes, of course, you can get reliable information too; maybe even most of the time.",
          "I’m hoping ‘slop’ has the same impact – it can make it clear to people that generating and publishing unreviewed AI-generated content is bad behaviour.”\nSlop is most obviously harmful when it is just plain wrong.",
          "For slop, the future is less rosy: the world’s largest companies have gone from gamekeeper to poacher.",
          "Both were laughably egregious at the time, but also fostered fears that other less obvious examples might also have been AI-generated.",
          "These products are less eerie, which means they have generated little existential angst.",
          "Influencers have been hawking platform-dependent “internet marketing” schemes for decades.",
          "Trump distanced himself from the images in an interview with Fox Business on Wednesday, saying: “I don’t know anything about them other than someone else generated them.",
          "It is most prevalent on platforms such as Facebook, where click farmers and spammers create elaborate networks to flood pages and groups with cheap, fake images of starving children and Shrimp Jesus in the hopes of going viral, getting likes, and picking up “creator bonuses” for online engagement.",
          "For platforms, the challenge will be balancing the engagement these AI-driven trends bring with the need to maintain trust and authenticity.",
          "Dubbed “AI slop”, there is no hiding from the manipulated images and videos, with their prominence even leading to the Oxford University Press (OUP) naming “slop” as a contender for its word of the year.",
          "They also apply complex, largely undocumented, AI systems to try to detect spam directly, in a constant cat-and-mouse game with the spammers themselves.",
          "\"I'M RUNNING OUT OF WAYS TO EXPLAIN HOW BAD THIS IS\".",
          "When Thomas Crooks tried to assassinate Donald Trump, for instance, X’s A.I.",
          "In response, Furukawa said generative AI can be used “in creative ways,” but said its use “also raise issues with intellectual property rights.”\nGenerative AI thus far has drawn criticism from players and creators due to a mix of ethical issues, rights issues, and AI’s struggles to produce content audiences actually enjoy.",
          "Content that seems plausible but inaccurate can harm your brand's reputation.",
          "Known for blending deep market insight with human-first storytelling, HCG helps companies create strategies that resonate across cultures and platforms.",
          "But on the other hand, the information didn’t just come from one source; it was disseminated across a network of influencers and presumably shared further among people who knew and trusted each other.”\n“Not everything on the site was fake,” he added.",
          "It's embarrassing to Facebook that people on X — X!!!",
          "“Before the term ‘spam’ entered general use it wasn’t necessarily clear to everyone that unwanted marketing messages were a bad way to behave.",
          "Jason Koebler, co-founder of 404 Media, an independent tech-news collective that acts as the publication of record for the world of slop, watched dozens of Hindi-language slop seminars on YouTube, many of them offering example prompts: “american soldier veteran holding cardboard sign that says ‘today’s my birthday, please like’ injured in battle veteran war american flag,” “A old American women is making forest lion out of cauliflower and her neighbors looking at it.",
          "Here's what to watch out for:\n- Generic Phrasing: AI often relies on repetitive, uninspired language that lacks the creativity needed to engage.",
          "And that is a huge benefit.",
          "The goal is to get up as many posts in a day across as many accounts as possible.",
          "Discussing the fake site, Marty Meany wrote on the tech website Goosed.ie: \"The website likely uses AI to create content quickly and cheaply where opportunities are found.",
          "Other platforms such as Spotify and YouTube, which police intellectual property rights more aggressively than TikTok, invest considerable resources to identify and remove AI-generated content.",
          "“I have other pages which have over 100,000 followers which use AI images,” he said.",
          "Slop, as it relates to AI, is loosely defined as spammy, cheap blocks of text, video, or images, quickly generated by computer programs for mass distribution.",
          "The rise of slop, he says, has turned the social network into a space where “a mix of bots, humans and accounts that were once humans but aren’t any more mix together to form a disastrous website where there is little social connection at all.”\nNick Clegg, the president of global affairs at Facebook’s parent company, Meta, wrote in February that the social network is training its systems to identify AI-made content.",
          "\"How did Donald Trump end up posting Taylor Swift deepfakes?\".",
          "Actually scrubbing the slop would be even better.",
          "Both companies have a variety of payment options for libraries, but generally libraries get access to the companies’ catalog of books and pay for customers to be able to borrow that book, with different books having different licenses and prices.",
          "Therefore, it’s less in your face.”\n@etymologynerd More great discussion of this in Alan Metcalf's book \"Predicting New Words\" #etymology #linguistics #language #memehistory #rizz #skibidi ♬ original sound - etymologynerd\nThe use of slop as a descriptor for low-grade A.I.",
          "Although many of these influencers already have sizable followings, AI-image generators offer an inveterate poster the thing they need most: cheap, fast, on-demand fodder for content.",
          "The simplest, most straightforward option is to be a “slopper”: someone who generates content at scale using AI and manipulates or leverages a platform to make money from it.",
          "AI slop has clogged the internet with synthetic ephemera, but it has also given a name to the human-made attentional grist that’s all around us—the slop that exists in real life, in meatspace.",
          "From their weird narrative instincts and inert prose, Clarke realized the stories came straight from ChatGPT.",
          "Jason Koebler of the tech news site 404 Media believes the trend represents what he calls the “zombie internet”.",
          "Trump proffering Dollar Menu items isn’t AI, but it is still slop in all the ways that matter: a hastily staged depiction of a fairly stupid, though entertaining fantasy, meant to delight, troll, and, most important, emphasize a false impression of the candidate.",
          "Not all promotional content is spam, and not all AI-generated content is slop.",
          "\"Why doesn't Facebook just ban AI slop like Shrimp Jesus?\".",
          "Adam Aleksic, a linguist and content creator who uses the handle etymologynerd on social media, believes that slop — which he said has yet to cross over to a broader audience — shows promise.",
          "I’m happy to use LLMs for all sorts of purposes, but I’m not going to use them to produce slop.",
          "Within the ad manager, they upload an image that has been modified to look like a Facebook gallery post (there are tools for this), and then they delete the headline and description that is autogenerated by Facebook to make it look like the ad is just an image and not a link.",
          "Like that type of slop, A.I.-assisted search comes together quickly, but not necessarily in a way that critical thinkers can stomach.",
          "And that, I think, is dangerous.”\nFor a problem to be targeted, giving it a name can prove helpful.",
          "- ^ a b c d e \"First Came 'Spam.'",
          "AI remains a hot-button topic in creative industries, emerging as a major point of contention in last year's Hollywood writers' and actors' strikes and in the current video game actor strike.",
          "About The Author\nFrancesco De Nittis is manager at Human Centric Group.",
          "Then the person goes through the process of buying and setting up an ad on Facebook that links to the Vercel mirror of the page they want to link to.",
          "You may also wonder why some platforms don’t ban AI accounts for polluting the platform’s content stream.",
          "De Nittis’ article, published today on Human Centric Group’s website, breaks down how brands like Ryanair and Samsung are jumping on the trend and seeing six-figure engagement spikes — all while barely lifting a production finger.",
          "This entire Vercel step exists to avoid Facebook’s automated spam detection, because it ultimately masks the link of the website that is being linked to.",
          "The number is much larger today, whether you choose to be impressed by the reported performance of ChatGPT on the LSAT or frustrated that Claude cannot solve logic problems intuitive to a kindergartner (or even reliably tell you whether 9.11 is greater than 9.9, as a Windows 95 calculator could).",
          "AI models make it trivial to automatically generate vast quantities of text or images, providing an answer to any imaginable search query, uploading endless shareable landscapes and inspirational stories, and creating an army of supportive comments.",
          "And then — they’ve solved it!",
          "Here's how to avoid it as a business owner.",
          "But not all A.I.s are large language models like ChatGPT, Gemini or Claude, each of which were trained on gobsmackingly large quantities of text to better simulate interaction with humans and bring them closer to approximations of humanlike thinking, at least in theory.",
          "Related: How to Escape Entrepreneurial Burnout When You Can't Just Quit\nStrategies to combat AI slop\nTo safeguard your brand and ensure your content stands out, consider these strategies:\n- Humanize Your Content: Infuse your content with personal stories, real-life examples and a touch of emotion.",
          "Elsewhere, Microsoft now offers generative AI tools to its studios, but the industry as a whole appears sceptical of the technology.",
          "In some, Trump’s clothing is too garish; in others, he’s toting a comically large amount of food.",
          "But nonsynthetic slop is everywhere too.",
          "20th International Symposium of Communication in the Millennium: 193–199 – via ResearchGate.",
          "Facebook now pays you $100 for 1,000 likes … you must be wondering where you can get these images from.",
          "Then, they generate a preview for their ad.",
          "Here are a few of my theories:\n- These images don't technically violate any rules — no nudity or other forbidden imagery.",
          "Businesses should be checking their data is accurately labelled and properly secured, ensuring sensitive data is only accessible to those who need it.",
          "But as people become accustomed to A.I.’s increasing role in how the internet works, Mr. Willison, who identified himself as an optimist for A.I.",
          "And those posts in your Facebook feed that seemingly came from nowhere?",
          "Something very disheartening is happening with this particular image, however.",
          "Terms proposed included \"AI garbage\", \"AI pollution\", and \"AI-generated dross\".",
          "As two catastrophic storms upended American cities, a patchwork network of influencers and fake-news peddlers have done their best to sow distrust, stoke resentment, and interfere with relief efforts.",
          "A new investigation from 404 Media dug into the origins of Facebook’s AI slop era and uncovered an ecosystem of YouTube videos, Telegram channels, and reel-filled Google drives.",
          "But early on in the search results, you’ll find some seemingly AI-generated guides as well — for example, Forager’s Harvest 101: A Comprehensive Guide to Identifying, Preserving, and Preparing Wild Edible Plants, Mushrooms, Berries, and Fruits, by “Diane Wells.” Elan Trybuch, the secretary of the New York Mycological Society, recently wrote a blog post warning mushroom foragers about these dangerously inadequate guides: It’s possible that Forager’s Harvest 101 is fully accurate and safe to use, but it’s almost certainly unreviewed and unchecked and “written” by an AI that, as Trybuch described the technology, “does not know the subtle differences between a mushroom that is poisonous … vs one that is not.”\nIt’s not particularly easy to tell the difference between the AI-generated guides and those written by experts.",
          "But with the right approach, you can turn these challenges into opportunities.",
          "The company even has its own global head of generative AI.",
          "The MAGA Aesthetic Is AI Slop\nFar-right influencers are flooding social media with a new kind of junk.",
          "Running @amuse appears to be Alexander Muse, listed as a consultant in the investor prospectus of the Milton Foundation, who also writes a rightwing commentary Substack that includes posts exploring election conspiracy theories.",
          "Old memes depicted “God Emperor” Trump.",
          "simonwillison.net.",
          "Stevo, as he introduced himself to me over WhatsApp, is the moderator of five YouTube channels and “about 170 Facebook pages” that deal heavily in AI-generated images, the largest of which has 4 million followers.",
          "Farhad Divecha, the managing director of UK-based digital marketing agency AccuraCast, says he is now encountering cases where users are mistakenly flagging ads as AI-made slop when they are not.",
          "This year, AI took a turn in the spotlight.",
          "A spokesperson for deepfake detection company Reality Defender said that according to their platform, the headshot is 85 percent likely to be AI-generated.",
          "The answer, at least in part, is a guy in Kenya named Stephen Mwangi.",
          "They’ve been getting bigger,” Catturd2 posted this March, while praising Musk.",
          "The future portended by the past two years is one in which we all become cataloguers, Neil Clarkes sorting through the noise for a little bit of signal.",
          "Everyone who idly scrolls through Facebook or TikTok or Twitter on their phone, who puts Spotify on autoplay, or who buys the cheapest recipe book on Amazon is creating the demand.",
          "We can also read that geologists advise eating at least one rock a day, that Elmer’s glue should be added to pizza sauce for thickening and that it’s completely chill to run with scissors.",
          "They sell lesson plans and memberships to private Discord and Telegram chat rooms and act as middlemen who help set up U.S.-based accounts for international sloppers.",
          "[54]\nSee also\n[edit]- AI boom – Ongoing period of rapid progress in AI\n- Content farm – Organizations that mass produce content\n- Dead Internet theory – Conspiracy theory on online bot activity\n- Elsagate – Controversy concerning a genre of YouTube videos\n- Enshittification – Systematic decline in online platform quality\n- Hallucination (artificial intelligence) – Erroneous material generated by AI\n- Italian brainrot – Series of 2025 Internet memes\n- Low culture – Term for forms of popular culture with mass appeal\nReferences\n[edit]- ^ a b c d Hern, Alex; Milmo, Dan (19 May 2024).",
          "Creators posting AI content may not be the kind of people we expect.",
          "The term became more prevalent last month when Google incorporated its Gemini A.I.",
          "“Usually, coolness is a factor that helps it spread, but not necessarily.",
          "At least in the fever swamps of social media, AI art is becoming MAGA-coded.",
          "Kiryu began by talking about how AI and its \"potential implications\" have long been the subject of \"academic debate.\"",
          "Legendary filmmaker Tim Burton called AI generated art \"very disturbing\" in September 2023 while Wizards of the Coast was forced to issue a correction in January 2024 after claiming it didn't use AI for some Magic: The Gathering artwork when it actually did.",
          "#HolidayFactz.”\nMany artists and creative professionals have pushed back against the use of AI in creative works, arguing that the technology may be used to replace human workers and that many AI models were trained on artists’ work without proper compensation or credit.",
          "News organizations have worried about shrinking online audiences as people rely more on A.I.-generated answers and data from Chartbeat, a company that researches internet traffic, indicates that there was an immediate drop in referrals from Google Discover to websites in the first days of A.I.",
          "Are you concerned that Google will downrank you now?",
          "Look at the word ‘spam.’ Usually, the word is created because there is a particular group with shared interests, with a shared need to invent words.”\nIn the short term, the effect of A.I.",
          "A few years later, A.I.",
          "When Donald Trump shared a slew of AI-generated images this week that falsely depicted Taylor Swift and her fans endorsing his campaign for president, the former US president was amplifying the work of a murky non-profit with aspirations to bankroll rightwing media influencers and a history of spreading misinformation.",
          "Han Song's Strange Prescience: In his stories, the author explores the disorientation accompanying China’s modernization, sometimes writing of unthinkable things that later came true.",
          "Instead, it functions mostly to create the appearance of human-made content, benefit from advertising revenue and steer search engine attention towards other sites.",
          "Big webmail providers like Gmail aggressively monitor their own platforms to crack down on spammers and are increasingly suspicious of emails arriving from untrusted email servers.",
          "The digital media provider Hoopla, which supplies libraries with ebooks and downloadable content, has generative AI books with fictional authors and dubious quality, which cost libraries money when checked out by unsuspecting patrons.",
          "We try our best to give people authentic content.",
          "After Musk’s xAI company released its largely unregulated Grok image generator last week, there has been a surge of AI content that has included depictions of Trump, Kamala Harris and other political figures.",
          "Computers, at least for now, cannot quite capture the crushing surreality and maddening absurdity of modern electoral politics.",
          "For now, little (if any) of what’s being generated is convincing enough to fool voters, and most of it is being used to confirm the priors of true believers.",
          "Actually, there are few others about animals.",
          "As it happens, A.I.",
          "Or they may build a website filled with articles generated by an LLM, festoon them with advertisements, and try to get them highly ranked on Google News.",
          "\"However, the introduction of ChatGPT, which allows anyone to easily produce writing or translations or to engage in text-based dialogue, sparked the rapid spread of generative AIs.",
          "Slop started seeping into Neil Clarke’s life in late 2022.",
          "FEMA Administrator Deanne Criswell said that the volume of misinformation could hamper relief efforts.",
          "I imagine some combination of all these things may be true to some degree.",
          "Much of the conversation around generative AI tools focuses on how they enable ordinary people to “create”.",
          "Clarke doesn’t like to describe how the filter works for fear of giving too much away to the spammers, but “it’s holding things at bay,” he said.",
          "Redditor Shaun_LaDee highlighted three images included in paid bundles that have irregularities that could suggest the use of generative AI.",
          "Taylor Swift fans are not endorsing Donald Trump en masse.",
          "In recent weeks, far-right corners of social media have been clogged with such depictions, created with generative-AI tools.",
          "“The most amazing thing is that all the traffic is from abroad, mainly the US,” he says.",
          "One of the most famous of these images is “Shrimp Jesus,” a statuelike Jesus figure bobbing just underwater, his limbs and torso made entirely of the bristling chitinous bodies of shrimp.",
          "This isn’t to say that AI should automatically be removed from the creative sphere.",
          "- AI Art Mishaps: Distorted images and unnatural features in AI-generated visuals are telltale signs of low-quality output.",
          "What are Trump’s tweets and Truth Social shitposts if not slop morsels, hurled into the internet’s ether for the rest of us to react to?",
          "investments might be three times as large as expected returns, while another analyst, in several assessments published by Sequoia Capital, calculated that investments in A.I.",
          "The McDonald’s photo op was barely real: The restaurant was closed to the public during Trump’s visit.",
          "Hoel, the neuroscientist, has called for “the equivalent of a Clean Air Act: a Clean Internet Act,” including the unscrubbable watermarking of anything produced by A.I.",
          "The images are often sort of eerily exploitative.",
          "You will be shocked to know that we ranked our site in three months on the Google first page.",
          "Italian Brainrot hits the sweet spot: it’s fast, memeable, and demands zero cognitive load.",
          "“On the face of it, it seems strange that people would believe it,” said Nick Anstead, an associate professor in the Department of Media and Communications at the London School of Economics and Political Science.",
          "They can be harsh, they can be rude.",
          "\"The Slop Candidate\".",
          "It exists to automate the creation and distribution of AI-generated images on Facebook.",
          "And it’s only getting easier to do this: Last week, X incorporated the newest iteration of the generative-AI engine Grok, which operates with fewer guardrails than some competing models and has already conjured up untold illustrations of celebrities and politicians in compromising situations.",
          "More recent articles\n- Large Language Models can run tools in your terminal with LLM 0.26 - 27th May 2025\n- Highlights from the Claude 4 system prompt - 25th May 2025\n- Live blog: Claude 4 launch at Code with Claude - 22nd May 2025",
          "So much of the conversation around misinformation suggests that its primary job is to persuade.",
          "“Gen Z loves content that feels spontaneous, surreal, and made for instant consumption.",
          "As long as users are scrolling through videos, they are getting exposed to the ads that are the platforms’ primary source of income.",
          "“People don’t even make this much money in a month,” the interview said.",
          "Google says the AI overviews have strong safety guardrails.",
          "Where not long ago we used to find the very best results for Google searches, we can now find instead potentially plagiarized and often inaccurate paragraph summaries of answers to our queries — including, reportedly, that only 17 American presidents were white, that Barack Obama is a Muslim and that Andrew Johnson, who became president in 1865 and died in 1875, earned 13 college degrees between 1947 and 2012.",
          "(This after he falsely claimed that Harris had posted an image that had been “A.I.’d”—a tidy bit of projection.)",
          "Scrolling through these platforms, watching them fill with false information, harebrained theories, and doctored images—all while panicked residents boarded up their houses, struggled to evacuate, and prayed that their worldly possessions wouldn’t be obliterated overnight—offered a portrait of American discourse almost too bleak to reckon with head-on.",
          "This kind of slop can erode trust and drive customers away.",
          "Making AI-generated content is more pleasant work than driving passengers or delivering food, according to a creator who is also a stay-at-home mother.",
          "Many of those “pet dance motorcycle” videos, for example, have been viewed tens of millions of times.",
          "Unlike a chatbot, the slop isn’t interactive, and is rarely intended to actually answer readers’ questions or serve their needs.",
          "as we know it.",
          "AI is a double-edged sword\nIn the rush to embrace AI, brands risk leaving their critical-thinking skills behind.",
          "But the idea that AI has quietly crowded out humans is not exactly right.",
          "[7]\nJonathan Gilmore, a philosophy professor at the City University of New York, describes the \"incredibly banal, realistic style\" of AI slop as being \"very easy to process\".",
          "You can spot them right away, as they bear the technology’s distinct image style: not-quite-but-almost photorealistic, frequently outrageous, not so dissimilar from a tabloid illustration.",
          "But I’m increasingly of the opinion that sharing unreviewed content that has been artificially generated with other people is rude.",
          "For example, a library can use Hoopla but make it so their customers can only borrow books that cost the library $5 per use.",
          "On the other, the supply: the astonishingly adequate, inexhaustible output of generative-AI apps like ChatGPT, Midjourney, or Microsoft’s Image Creator, heavily subsidized by investors and provided to consumers at low or no cost.",
          "Creators often mute the original video and add AI-generated narration, translating the content into various languages, including French, Spanish, Portuguese, Indonesian and Swedish.",
          "[13]\nAI slop is frequently used in political campaigns in an attempt at gaining attention through content farming.",
          "These tend to be posted on Facebook pages with generic-sounding names and captions that don't necessarily reflect the photo, like \"why don't photos like this ever trend,\" or \"beautiful cabin crew,\" or \"Scarlett Johansson\" for an image of Jesus built into the hood of a car.",
          "[34]\nIn books\n[edit]Online booksellers and library vendors now have many titles that are written by AI and are not curated into collections by librarians.",
          "“We have seen instances where people have commented that an advert was AI-generated rubbish when it was not,” he says, adding that it could become a problem for the social media industry if consumers “start to feel they are being served rubbish all the time”.",
          "is generating an awful lot of genuine pollution, too — both Google and Microsoft, which each pledged in 2019 to reach zero emissions by 2030, have instead expanded their carbon footprints by nearly 50 percent in the interim.",
          "[15]\nIn the aftermath of Hurricane Helene in the United States, members of the Republican Party circulated an AI-generated image of a young girl holding a puppy in a flood, and used it as evidence of the failure of President Joe Biden to respond to the disaster.",
          "It is not clear that the foundation has any money to give and if all the media influencers listed as its 2024 fellowship class know about the organization.",
          "He is an expert market researcher and branding consultant.",
          "We were 80 percent involved.",
          "a priority, it appears that vast quantities of information generated by machines, rather than largely curated by humans, will be served up as a daily part of life on the internet for the foreseeable future.",
          "Another possibility is that posting these images is a good tactic to build up a large page audience, which can be lucrative.",
          "Generative AI is one of the hottest topics within the video game and entertainment industries, which have both suffered massive layoffs in recent years.",
          "Sometimes they would arrive with the original prompt included, which was often as simple as “Write a 1,000-word science-fiction story.”\nIt was relatively easy to identify an AI-generated submission, but that required reading thousands (a “wall of noise”) and manually sorting them.",
          "Perfect example of slop.",
          "The Milton Freedom Foundation is one of many small groups flooding social media with so-called AI slop.",
          "“What we always see with any slang is that it starts in a niche community and then spreads from there,” Mr. Aleksic said.",
          "As entrepreneurs, our brands are our lifeblood.",
          "is being drowned out by it, too.",
          "Others expressed similar concerns: \"This is such slop bro.",
          "Personal AI ethics remains a complicated set of decisions.",
          "ET on October 11, 2024\nThe truth is, it’s getting harder to describe the extent to which a meaningful percentage of Americans have dissociated from reality.",
          "You and I, like voters everywhere, must wade through this layer of junk, wearily separating out what’s patently fake, what’s real, and what exists in the murky middle.",
          "With Hoopla, librarians have to opt into Hoopla’s entire catalog, then pay for whatever their customers choose to borrow from that catalog.",
          "This AI slop doesn’t just exist in a vacuum of a particular social network: It leaves an ecological footprint of sorts on the web.",
          "- So why isn't Facebook cracking down?",
          "- ^ \"The deluge of bonkers AI art is literally surreal\".",
          "We make websites and we rank them on Google.",
          "AI image generators like OpenAI's DALL-E do not handle words well, and one picture promises \"enchering entertainment, catgacating, live performmances, cartchy tuns, exarserdray lollipops, a pasadise of sweet teats,\" whatever any of that means.",
          "A creator will take one of these videos, add AI-generated translation, and post the result on TikTok.",
          "Getachew claims viewers can “earn between $250 and $2,460.”)\nThe economics involved are simple.",
          "\"Artificial intelligence (AI) and its potential implications had for some time largely been subjects of academic debate,\" he said of AI development in 2023.",
          "Update 9th May: Joseph Thacker asked what a good name would be for the equivalent subset of spam—spam that was generated with AI tools.",
          "But generative AI takes this a step further, as it can generate tailored images or videos from a simple text prompt.",
          "If you are a weatherperson, you’re a target.",
          "There’s also additional concern that widespread adoption of AI could exacerbate the ongoing video game labor crisis, as it could put humans out of work.",
          "So you've only been in operation for three months?",
          "Answering questions via Google now requires contending with AI-authored “Overview” modules at the top of some search pages, which offer incorrect summaries — “None of Africa’s 54 recognized countries start with the letter ‘K,’” one Overview claimed — just often enough to render them untrustworthy.",
          "• Does the trend reinforce or contradict our positioning?",
          "It's baffling that so many people fell for it hook, line, and sinker.",
          "To them, the image captures a vibe that is useful to them politically.",
          "If the AI slop isn't suggesting you get together in real life and overthrow the government, hey, Facebook has seen way worse.",
          "It’s still the first place most of us go to answer questions, to find out what’s happening, and to learn new things.",
          "In Pensacola, North Carolina, Assistant Fire Chief Bradley Boone vented his frustrations on Facebook: “I’m trying to rescue my community,” he said in a livestream.",
          "Guillaume Cabanac, a professor of computer science at Université Toulouse III–Paul Sabatier, has spent the past several years attempting to ferret out instances of fraud, plagiarism, and the use of computer-generated text in major scientific journals.",
          "\"AI slop: what Labour, Spotify and Coca-Cola can teach us in 2025\".",
          "The emotions that it evokes are love, happiness, and the memory of a special day filled with promises.” Hundreds of verified accounts swarmed in the replies to praise the missing image: “This picture exudes pure love and joy, a magical moment indeed!,” “This photo truly encapsulates the beauty and magic of true love,” “Such a beautiful moment captured in time, filled with love and joy.”\nCabanac believes “LLMs can be a magnificent tool, a very effective tool” for scientists if properly acknowledged.",
          "The production time would have taken, traditionally, much longer.",
          "Take Xiaonan, a social media entrepreneur we interviewed who runs six different TikTok accounts, each with more than 100,000 followers.",
          "Successful AI models run on high-quality, well-governed data, so getting this in order should be top of the agenda for 2025.",
          "It has already helped drive down the cost and drive up the performance of next-gen batteries and solar photovoltaic cells, whose performance can also be improved, even after the panels have been manufactured and installed on your roof, by as much as 25 percent.",
          "TikTok’s community guidelines do ban “inaccurate, misleading, or false content that may cause significant harm”, but AI-generated content – at least for now – does not qualify as causing “significant harm”.",
          "Indeed, I feel comfortable saying it’s AI-generated only because a watermark on Diane’s author photo credits it to the AI that powers the fake-portrait website ThisPersonDoesNotExist.com.",
          "He now works with two partners selling classes and tutorials on making AI-generated videos and other types of spam for profit.",
          "What once took expert labor is now spam, powered by tools trained on the output of real artists and photographers.",
          "“We didn’t start by saying: ‘OK, we need to do this with AI,’” he said.",
          "Xiaonan says he established his “AI side job” after being laid off by an internet company.",
          "One more thing I want to add is that people should not consider Google as the standard.",
          "It is a strategy designed to silence voices of reason, because those voices threaten to expose the cracks in their current worldview.",
          "- Facebook did make a warning label to note that an image may have been made with AI.",
          "The spammer had earned $431 from the image’s engagement.",
          "Since the arrival of widespread consumer-grade generative AI, these tasks have become progressively more difficult.",
          "Then they connect Vercel to the WordPress website using a specific WordPress plugin that effectively sets up a redirect between Vercel and the WordPress site.",
          "This process can then be repeated over and over again to effectively rick people into clicking on photo albums that are not actually photo albums.",
          "On one end, the demand: the effectively infinite, indiscriminate appetite for content of websites like Facebook and TikTok, which need enticements for users and real estate for advertisers.",
          "\"Why the internet is filling up with nonsense 'AI slop'\".",
          "“We’ve added this after hearing from some that there are times when they’d prefer to just see links to webpages in their search results,” wrote Danny Sullivan, the company’s search liaison.",
          "“Some of us also do Uber driving or street vending,” one creator told us.",
          "In June, researchers published a study that concluded that one-tenth of the academic papers they examined “were processed with LLMs,” calling into question not just those individual papers but whole networks of citation and reference on which scientific knowledge relies.",
          "FewFeed has recently created a feature that allows you to directly create these fake photo album-type images.”\nProfiting from AI slop is a technical process and Meta’s content moderation teams can’t keep up with the flood.",
          "On Facebook, enigmatic pages post disturbing images of maimed children and alien Jesuses; on Twitter, bots cluster by the thousands, chipperly and supportively tweeting incoherent banalities at one another; on Spotify, networks of eerily similar and wholly imaginary country and electronic artists glut playlists with bizarre and lifeless songs; on Kindle, shoddy books with stilted, error-ridden titles (The Spellbound Quest: Students Perilous Journey to Correct Their Mistake) are advertised on idle lock screens with blandly uncanny illustrations.",
          "sputtered out a whole string of cartoonishly false trending topics, including that it was Kamala Harris who had been shot.",
          "- Generic Blog Content: Blogs filled with repetitive, unoriginal ideas don't just bore readers—they also undermine your authority and thought leadership.",
          "“pollution,” another perspective is that plenty of good news from A.I.",
          "One of these is “regenerate response,” which appears at the end of ChatGPT’s answers.",
          "Fifteen years ago, Wired magazine heralded the “good-enough revolution” in low-cost technology: “Cheap, fast, simple tools are suddenly everywhere … We now favor flexibility over high fidelity, convenience over features, quick and dirty over slow and polished.” Generative AI as a technology exists in this lineage.",
          "For more on the issue, check out IGN's full AI Week coverage from last year, including a report about how it's become the new battleground in the animation industry.",
          "The John Milton Freedom Foundation did not respond to a request for comment to a set of questions about its operations and fellowship program.",
          "Now the company’s chief executive acknowledges that hallucinations are “inherent” to the technology it has celebrated as a kind of successor for ranked-order search results, which are now often found far below not just the A.I.",
          "People in places like Pakistan, India, Vietnam, Thailand, and Indonesia use tools like Microsoft’s AI Image Creator to churn out content.",
          "\"Spam, junk ... slop?",
          "The answer lies in the platform’s own advice to aspiring creators: if you want your videos to be promoted, you should “continuously share fresh and diverse content” that “doesn’t require a big production budget”.",
          "The thing is, we are the content creators.",
          "The photos aren’t terribly far off (a few of them accurately placed Trump in an apron), but all of them seem to be trying too hard.",
          "This year’s backlashes highlights a key risk for businesses adopting AI in 2025.",
          "But slop has a way of leaking out.",
          "In this case, the image is being used to further the idea that Joe Biden, Kamala Harris, and FEMA have messed up the hurricane response, leading to little girls suffering in a flood with their puppies.",
          "Muse’s daughter, described as a 10th grade honor student on the non-profit’s site, serves as the Milton Foundation’s “fellowship chair”.",
          "Even the stuff that passes through is a burden; unrefined, unedited slop is by definition more work to read, watch, interpret, and understand.",
          "“Do not comply with FEMA,” she posted on X.",
          "If you look on Amazon, you’ll turn up some obviously legitimate books.",
          "Some creators 404 Media uncovered were running multiple Facebook accounts and used automated tools to fill the feeds with spammy engagement-bait images.",
          "A prominent example came when amateur mushroom pickers were recently warned to avoid foraging books sold on Amazon that appeared to have been written by chatbots and contained dangerous advice for anyone hoping to discern a lethal fungus from an edible one.",
          "As one Chinese social media influencer told us:\nChina’s short video market is nearing saturation, which means you need to seek data traffic [viewers] on overseas platforms.",
          "Media Enquiries\nHUMAN CENTRIC GROUP LTD\n+44 20 3693 4480\nemail us here\nVisit us on social media:\nLinkedIn\nInstagram\nTikTok\nItalian Brainrot Animals\nLegal Disclaimer:\nEIN Presswire provides this news content \"as is\" without warranty of any kind.",
          "The global AI-generated content factory\nOur observations indicate many of these creators are from non-Western countries, such as India, Vietnam and China.",
          "And while it’s hard to regard the internet we have now as a wholly beneficent advance in collective wisdom — the commercial opportunities afforded by connecting billions of people sit uncomfortably with the civic aspirations of some of the web’s pioneers — it’s hard to deny that an information superhighway, with some tolls and billboards and potholes, is more or less what we’ve got.",
          "“The proliferation of low-quality or spammy AI content risks cluttering feeds and diminishing overall user satisfaction,” he says.",
          "So, what is Italian Brainrot?",
          "On The Colbert Report, back in 2005, Stephen Colbert coined the word truthiness, which he defined as “the belief in what you feel to be true rather than what the facts will support.” This reality-fracturing is the result of an information ecosystem that is dominated by platforms that offer financial and attentional incentives to lie and enrage, and to turn every tragedy and large event into a shameless content-creation opportunity.",
          "Some of the lies and obfuscation are politically motivated, such as the claim that FEMA is offering only $750 in total to hurricane victims who have lost their home.",
          "- Europe probes Microsoft's €15M stake in AI upstart Mistral\n- Google wants regulators to take Microsoft down a notch before it stifles AI\n- OpenAI claims New York Times paid someone to 'hack' ChatGPT\n- US military pulls the trigger, uses AI to target air strikes\nThe House of Illuminati went cap in hand on Facebook, saying: \"Today has been a very stressful and frustrating day for many and for that we are truly sorry.",
          "I own five websites.",
          "Machine learning may help make our electricity grid as much as 40 percent more efficient at delivering power as it is today, when many of its routing decisions are made by individual humans on the basis of experience and intuition.",
          "Right-wing artists including Ben Garrison and Jon McNaughton have long illustrated Trump in an absurd light—hulking and hypermasculine or holding a lantern on a boat, like George Washington crossing the Delaware.",
          "Jason Koebler, a technology reporter who has spent the past year investigating Facebook’s AI-slop economy, has described the deluge of artificial imagery as part of a “zombie internet” and “the end of a shared reality,” where “a mix of bots, humans, and accounts that were once humans but aren’t anymore interact to form a disastrous website where there is little social connection at all.”\nWhat’s going on across the MAGA internet isn’t exactly the same as Facebook’s spam situation, although the vibe is similar.",
          "Trump himself has been the subject of generative-AI art and has shared depictions of himself going back to March 2023.",
          "Only prescreened customers were allowed in the drive-through, and those customers were not able to place orders—they just took whatever Trump handed to them.",
          "The main characteristic of slop is that there is an endless supply of it.",
          "[8]\nOrigin of the term\n[edit]As early large language models (LLMs) and image diffusion models accelerated the creation of high-volume but low-quality written content and images, discussion commenced among journalists and on social platforms for the appropriate term for the influx of material.",
          "Which all suggests that the answer to the many problems of generative A.I.",
          "After seeing photos like this, they Like, Comment and share them.",
          "Not too long ago, I speculated about why Meta hadn't cracked down, but considering nothing has seemed to change, I find myself wondering yet again …\nWhy doesn't Facebook just ban this slop?",
          "overviews.",
          "But in turning away, they exacerbate a crisis that has characterized the Trump era, one that will reverberate to Election Day and beyond.",
          "It’s nice to think that if you could simply turn off your phone and computer, you could avoid all these ugly creations.",
          "The cost of slop to libraries is serious, Sullivan said, “not just the cost of the books” but the cost of labor: It takes cataloguers longer to do their jobs when they’re wading through “an outpouring of valueless product.” Human artists, writers, journalists, musicians, and even TikTokers have more work to do too, competing not just with other humans but with the passable products of automated systems.",
          "In January, Chris Mohney, a writer and an editor, spotted a tweet that appeared to be an AI-generated description of an image with no image attached: “The photo captures a couple exchanging vows at sunset.",
          "For those without, chasing trends can quickly backfire.",
          "Why is Facebook full of this stuff?",
          "But this is more than just a misinformation crisis.",
          "Several of the images Trump posted on his Truth Social platform, which showed digitally rendered young women in “Swifties for Trump” T-shirts, were the products of the John Milton Freedom Foundation.",
          "So even with fewer views, the income you generate will be higher.",
          "On Amazon, a quick search found a listing for some (presumably real) underwear with the description “As of My Knowledge Cutoff in Early 2023, Providing Specific Purchasing Options for ‘Women’s Stylish Sexy Casual Independence Day Printed Panties’ Would Be My Capabilities As I Cannot Browse or Access Live Data From the Internet, Including Current Inventory From or Private Sellers.”\nTwitter — Elon Musk’s X — may be the most fruitful platform for this kind of search thanks to its sub-competent moderation services.",
          "Some accounts post dozens of videos like this every day.",
          "- Entrepreneurs can stay ahead by blending human creativity with AI efficiency, ensuring content remains original, valuable and impactful.",
          "- Facebook doesn't like the AI slop but has bigger things to worry about.",
          "(I had also recently asked a vice president of product at Meta about why they don't just ban this slop, and he sort of changed the subject; it seemed like maybe he wasn't sure what I was talking about.)",
          "One more thing is that we posted around 1,400 articles.",
          "To watch as real information is overwhelmed by crank theories and public servants battle death threats is to confront two alarming facts: first, that a durable ecosystem exists to ensconce citizens in an alternate reality, and second, that the people consuming and amplifying those lies are not helpless dupes but willing participants.",
          "He’s often dressed up as a gun-toting cowboy or in World War II fatigues, storming a beach.",
          "Donald Trump, J. D. Vance, and Fox News have all repeated that lie.",
          "AI slop isn’t, by nature, political.",
          "pollution,” and the physicist Anthony Aguirre “something like noise” and “A.I.-generated dross.” More recently, it has inspired a more memorable neologistic term of revulsion, “A.I.",
          "The John Milton Freedom Foundation, named after the 17th-century British poet and essayist, has a small online footprint: a website, an investor prospectus and an X account with fewer than 500 followers.",
          "These are just three examples of bizarre AI-generated imagery that has taken over the internet in the past year.",
          "Cabanac has found almost 100 cases of obviously AI-generated scientific papers, which he called “only the tiny tip of the iceberg.” A recent study by the librarian Andrew Gray used words that appear disproportionately often in text generated by ChatGPT — among them commendable, intricate, and meticulously — to estimate that 60,000 scholarly papers were at least partially generated by AI in 2023.",
          "“Society needs concise ways to talk about modern A.I.",
          "If sloppers are the manufacturing sector of the slop economy, these gurus, vouchers, and toolmakers represent the service sector.",
          "Last week, Robyn Speer, the creator of WordFreq, a database that tracks word frequency online, announced that she would no longer be updating it owing to the torrent of slop.",
          "Paul Maker is chief technology officer at Aiimi.",
          "Why mess with content people like?",
          "We asked ChatGPT to write the article for us, but it wasn’t ChatGPT by itself.",
          "But images of all these things exist.",
          "Posts questioning its authenticity were widely shared on X.",
          "It's the content produced by AI tools that prioritize speed and quantity over substance and quality.",
          "“Italian Brainrot is ridiculous — and that’s the point,” says De Nittis.",
          "Still, “it’s clear that business as usual won’t be sustainable,” he wrote in a blog post describing the problem.",
          "Could you explain more about your business model.",
          "The slop makes everyone money.",
          "The GOP is becoming the party of AI slop.",
          "- Combatting AI slop is crucial for entrepreneurs to maintain brand authenticity, customer trust and meaningful engagement.",
          "Worse than the havoc it wreaks on the internet, slop easily escapes the confines of the computer and enters off-screen systems in exasperating, troubling, and dangerous ways.",
          "Sloppers may try to sell their content directly to people on a major marketplace — by, say, automating the production of recipe books to sell to unsuspecting (and maybe undiscriminating) customers on Amazon.",
          "It wasn’t that long ago, in the spring of last year, that the new chatbots were trailed by various “godfathers” of the technology, warning of existential risk; by researchers suggesting a 10 percent chance of human extinction at the hands of robots; by executives speculating about future investment rounds tabulated in the trillions.",
          "Then they make a WordPress account and spam page, download a snippet of code from GitHub that has been written by other spammers, modify it (there are guides for this on GumRoad and Fiverr; I bought guides on both), and install it on their Vercel deployment.",
          "- Facebook has stopped trying.",
          "On Facebook, a 130,000-member group of Vietnamese sloppers called “Twitter Academy — Make Money on X” discusses methods of prompting ChatGPT to write X threads: “You are a Twitter influencer with a large following.",
          "Since the beginning of this year, obviously AI-generated images from anonymously administered pages have become inescapable.",
          "It was even on the first position of the first page.",
          "It is engagement for engagement’s sake.",
          "Campaigns are nothing if not aggressive, often-desperate content farms hoping to get attention.",
          "Has this made you reconsider the ways that you operate?",
          "While only one of the fellows listed on the foundation’s site mentions the organization on their X profiles and none follow its account, the @amuse account has a prominent link to the group’s community page and the foundation often engages with its posts.",
          "“I don’t think anyone has reliable information about post-2021 language usage by humans,” Speer wrote.",
          "This has been going on for quite a few months now.",
          "“Payout was huge.",
          "Like all spam circles, there’s a whole other economy filled with folks who will sell you the tools and knowledge you need to get started.",
          "Facebook doesn’t reveal how it calculates the value of the bonuses, and only creators in certain countries — the U.S., the U.K., and India among them — are eligible for the bonus program, which helps explain why, several times during our interview, Stephen insisted he was actually a British cybersecurity student named Jacob.",
          "Attempting to read news online is now fraught with the possibility that you’re consuming unedited AI-generated tattle: CNET, BuzzFeed, USA Today, and Sports Illustrated have published stilted and often incorrect AI-generated articles or used phony images and biographies for “authors.”\nImagine you are going foraging and want to download to your Kindle a guide to distinguish between edible and toxic mushrooms.",
          "Forager’s Harvest 101 has an intelligibly (if cheaply) designed cover and legible (if smooth and voiceless) prose as well as an author biography featuring a photo of a smiling middle-aged woman.",
          "on search engines and the internet in general may be less extreme than some would fear.",
          "Kamala Harris did not give a speech at the Democratic National Convention to a sea of communists while standing in front of the hammer and sickle.",
          "It is not easy to post 1,400 articles in three months and to make them rank in Google.",
          "The journalist Parker Molloy compiled screenshots of people “acknowledging that this image is AI but still insisting that it’s real on some deeper level”—proof, Molloy noted, that we’re “living in the post-reality.” The technology writer Jason Koebler argued that we’ve entered the “‘Fuck It’ Era” of AI slop and political messaging, with AI-generated images being used to convey whatever partisan message suits the moment, regardless of truth.",
          "And there are reasons to suspect that “hallucination” may be an unsolvable problem for generative A.I.",
          "It stands to reason that a politician who, for many years, has spun an unending series of lies into a patchwork alternate reality would gravitate toward a technology that allows one to, with a brief prompt, rewrite history so that it flatters him.",
          "Across Facebook, X, Instagram and TikTok, surreal AI images have been plaguing news feeds, typically accompanied by nonsensical captions in broken English.",
          "A key difference is that with OverDrive, librarians can pick and choose which books in OverDrive’s catalog they want to give their customers the option of borrowing.",
          "But what feels novel in the aftermath of this month’s hurricanes is how the people doing the lying aren’t even trying to hide the provenance of their bullshit.",
          "Where were these images coming from?",
          "But if it’s mindlessly generated and thrust upon someone who didn’t ask for it, slop is the perfect term for it.",
          "Clarke compared the problem to turning off the spam filter and trying to read your email: “Okay, now multiply that by ten because that’s the ratio that we were getting.” Within weeks, the problem became unmanageable.",
          "[9] However, he has said it was in use long before he began pushing for the term.",
          "In a note from Barclays, one analyst warned that today’s A.I.",
          "This is all \"AI slop,\" a new term describing the sudden flood of garbage AI-generated content, from e-books to viral photos.",
          "However, he says, the rise of ChatGPT and similar generative AI programs have the \"potential not only to reshape what we create, but also to fundamentally change the processes by which we create, including programming.\""
         ],
         "marker": {
          "opacity": 0.5,
          "size": 5
         },
         "mode": "markers+text",
         "name": "AI-Generated Content and Slop",
         "text": [
          "",
          "",
          "",
          "",
          "",
          "",
          "",
          "",
          "",
          "",
          "",
          "",
          "",
          "",
          "",
          "",
          "",
          "",
          "",
          "",
          "",
          "",
          "",
          "",
          "",
          "",
          "",
          "",
          "",
          "",
          "",
          "",
          "",
          "",
          "",
          "",
          "",
          "",
          "",
          "",
          "",
          "",
          "",
          "",
          "",
          "",
          "",
          "",
          "",
          "",
          "",
          "",
          "",
          "",
          "",
          "",
          "",
          "",
          "",
          "",
          "",
          "",
          "",
          "",
          "",
          "",
          "",
          "",
          "",
          "",
          "",
          "",
          "",
          "",
          "",
          "",
          "",
          "",
          "",
          "",
          "",
          "",
          "",
          "",
          "",
          "",
          "",
          "",
          "",
          "",
          "",
          "",
          "",
          "",
          "",
          "",
          "",
          "",
          "",
          "",
          "",
          "",
          "",
          "",
          "",
          "",
          "",
          "",
          "",
          "",
          "",
          "",
          "",
          "",
          "",
          "",
          "",
          "",
          "",
          "",
          "",
          "",
          "",
          "",
          "",
          "",
          "",
          "",
          "",
          "",
          "",
          "",
          "",
          "",
          "",
          "",
          "",
          "",
          "",
          "",
          "",
          "",
          "",
          "",
          "",
          "",
          "",
          "",
          "",
          "",
          "",
          "",
          "",
          "",
          "",
          "",
          "",
          "",
          "",
          "",
          "",
          "",
          "",
          "",
          "",
          "",
          "",
          "",
          "",
          "",
          "",
          "",
          "",
          "",
          "",
          "",
          "",
          "",
          "",
          "",
          "",
          "",
          "",
          "",
          "",
          "",
          "",
          "",
          "",
          "",
          "",
          "",
          "",
          "",
          "",
          "",
          "",
          "",
          "",
          "",
          "",
          "",
          "",
          "",
          "",
          "",
          "",
          "",
          "",
          "",
          "",
          "",
          "",
          "",
          "",
          "",
          "",
          "",
          "",
          "",
          "",
          "",
          "",
          "",
          "",
          "",
          "",
          "",
          "",
          "",
          "",
          "",
          "",
          "",
          "",
          "",
          "",
          "",
          "",
          "",
          "",
          "",
          "",
          "",
          "",
          "",
          "",
          "",
          "",
          "",
          "",
          "",
          "",
          "",
          "",
          "",
          "",
          "",
          "",
          "",
          "",
          "",
          "",
          "",
          "",
          "",
          "",
          "",
          "",
          "",
          "",
          "",
          "",
          "",
          "",
          "",
          "",
          "",
          "",
          "",
          "",
          "",
          "",
          "",
          "",
          "",
          "",
          "",
          "",
          "",
          "",
          "",
          "",
          "",
          "",
          "",
          "",
          "",
          "",
          "",
          "",
          "",
          "",
          "",
          "",
          "",
          "",
          "",
          "",
          "",
          "",
          "",
          "",
          "",
          "",
          "",
          "",
          "",
          "",
          "",
          "",
          "",
          "",
          "",
          "",
          "",
          "",
          "",
          "",
          "",
          "",
          "",
          "",
          "",
          "",
          "",
          "",
          "",
          "",
          "",
          "",
          "",
          "",
          "",
          "",
          "",
          "",
          "",
          "",
          "",
          "",
          "",
          "",
          "",
          "",
          "",
          "",
          "",
          "",
          "",
          "",
          "",
          "",
          "",
          "",
          "",
          "",
          "",
          "",
          "",
          "",
          "",
          "",
          "",
          "",
          "",
          "",
          "",
          "",
          "",
          "",
          "",
          "",
          "",
          "",
          "",
          "",
          "",
          "",
          "",
          "",
          "",
          "",
          "",
          "",
          "",
          "",
          "",
          "",
          "",
          "",
          "",
          "",
          "",
          "",
          "",
          "",
          "",
          "",
          "",
          "",
          "",
          "",
          "",
          "",
          "",
          "",
          "",
          "",
          "",
          "",
          "",
          "",
          "",
          "",
          "",
          "",
          "",
          "",
          "",
          "",
          "",
          "",
          "",
          "",
          "",
          "",
          "",
          "",
          "",
          "",
          "",
          "",
          "",
          "",
          "",
          "",
          "",
          "",
          "",
          "",
          "",
          "",
          "",
          "",
          "",
          "",
          "",
          "",
          "",
          "",
          "",
          "",
          "",
          "",
          "",
          "",
          "",
          "",
          "",
          "",
          "",
          "",
          "",
          "",
          "",
          "",
          "",
          "",
          "",
          "",
          "",
          "",
          "",
          "",
          "",
          "",
          "",
          "",
          "",
          "",
          "",
          "",
          "",
          "",
          "",
          "",
          "",
          "",
          "",
          "",
          "",
          "",
          "",
          "",
          "",
          "",
          "",
          "",
          "",
          "",
          "",
          "",
          "",
          "",
          "",
          "",
          "",
          "",
          "",
          "",
          "",
          "",
          "",
          "",
          "",
          "",
          "",
          "",
          "",
          "",
          "",
          "",
          "",
          "",
          "",
          "",
          "",
          "",
          "",
          "",
          "",
          "",
          "",
          "",
          "",
          "",
          "",
          "",
          "",
          "",
          "",
          "",
          "",
          "",
          "",
          "",
          "",
          "",
          "",
          "",
          "",
          "",
          "",
          "",
          "",
          "",
          "",
          "",
          "",
          "",
          "",
          "",
          "",
          "",
          "",
          "",
          "",
          "",
          "",
          "",
          "",
          "",
          "",
          "",
          "",
          "",
          "",
          "",
          "",
          "",
          "",
          "",
          "",
          "",
          "",
          "",
          "",
          "",
          "",
          "",
          "",
          "",
          "",
          "",
          "",
          "",
          "",
          "",
          "",
          "",
          "",
          "",
          "",
          "",
          "",
          "",
          "",
          "",
          "",
          "",
          "",
          "",
          "",
          "",
          "",
          "",
          "",
          "",
          "",
          "",
          "",
          "",
          "",
          "",
          "",
          "",
          "",
          "",
          "",
          "",
          "",
          "",
          "",
          "",
          "",
          "",
          "",
          "",
          "",
          "",
          "",
          "",
          "",
          "",
          "",
          "",
          "",
          "",
          "",
          "",
          "",
          "",
          "",
          "",
          "",
          "",
          "",
          "",
          "",
          "",
          "",
          "",
          "",
          "",
          "",
          "",
          "",
          "",
          "",
          "",
          "",
          "",
          "",
          "",
          "",
          "",
          "",
          "",
          "",
          "",
          "",
          "",
          "",
          "",
          "",
          "",
          "",
          "",
          "",
          "",
          "",
          "",
          "",
          "",
          "",
          "",
          "",
          "",
          "",
          "",
          "",
          "",
          "",
          "",
          "",
          "",
          "",
          "",
          "",
          "",
          "",
          "",
          "",
          "",
          "",
          "",
          "",
          "",
          "",
          "",
          "",
          "",
          "",
          "",
          "",
          "",
          "",
          "",
          "",
          "",
          "",
          "",
          "",
          "",
          "",
          "",
          "",
          "",
          "",
          "",
          "",
          "",
          "",
          "",
          "",
          "",
          "",
          "",
          "",
          "",
          "",
          "",
          "",
          "",
          "",
          "",
          "",
          "",
          "",
          "",
          "",
          "",
          "",
          "",
          "",
          "",
          "",
          "",
          "",
          "",
          "",
          "",
          "",
          "",
          "",
          "",
          "",
          "",
          "",
          "",
          "",
          "",
          "",
          "",
          "",
          "",
          "",
          "",
          "",
          "",
          "",
          "",
          "",
          "",
          "",
          "",
          "",
          "",
          "",
          "",
          "",
          "",
          "",
          "",
          "",
          "",
          "",
          "",
          "",
          "",
          "",
          "",
          "",
          "",
          "",
          "",
          "",
          "",
          "",
          "",
          "",
          "",
          "",
          "",
          "",
          "",
          "",
          "",
          "",
          "",
          "",
          "",
          "",
          "",
          "",
          "",
          "",
          "",
          "",
          "",
          "",
          "",
          "",
          "",
          "",
          "",
          "",
          "",
          "",
          "",
          "",
          "",
          "",
          "",
          "",
          "",
          "",
          "",
          "",
          "",
          "",
          "",
          "",
          "",
          "",
          "",
          "",
          "",
          "",
          "",
          "",
          "",
          "",
          "",
          "",
          "",
          "",
          "",
          "",
          "",
          "",
          "",
          "",
          "",
          "",
          "",
          "",
          "",
          "",
          "",
          "",
          "",
          "",
          "",
          "",
          "",
          "",
          "",
          "",
          "",
          "",
          "",
          "",
          "",
          "",
          "",
          "",
          "",
          "",
          "",
          "",
          ""
         ],
         "textfont": {
          "size": 12
         },
         "type": "scattergl",
         "x": {
          "bdata": "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",
          "dtype": "f4"
         },
         "y": {
          "bdata": "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",
          "dtype": "f4"
         }
        },
        {
         "hoverinfo": "text",
         "hovertext": [
          "Please be advised that contrary to information being circulated online, no Halloween parade is scheduled to take place in Dublin City Centre this evening or tonight.",
          "Gardaí (Irish police) then released a statement saying that no Halloween parade was scheduled and asked those who turned out to \"disperse safely\".",
          "(Dublin has hosted Halloween parades in past years, but not in 2024.)",
          "However, smaller text interspersed throughout the lengthy post said \"Dublin Halloween Parade is cancelled!\"",
          "“After all, not one official confirmed the event was happening.",
          "\"An Garda Síochána advises that members of the public always verify any information online regarding upcoming events from trusted and reputable sources.",
          "She added: “Everyone is trying to have a fun and safe Halloween.",
          "The nonexistent parade in Dublin was said to be put on by Macnas, an Irish theater group that has previously staged parades and held one this year in Galway — but not Dublin.",
          "But no one reported that this one wasn’t going to happen.",
          "All those gathered on O’Connell Street in expectation of such a parade are asked to disperse safely.",
          "Set up a bowling alley in your backyard or living room for hours of fun.” The site also has itself as being for sale.",
          "It took about an hour from the start time for people\n“The Gardaí were trying to clear the street.",
          "A spokesperson said: “Please be advised that contrary to information being circulated online, no Halloween parade is scheduled to take place in Dublin city centre this evening or tonight.",
          "Supported by\nAll Trick, No Treat: Dublin Crowds Turn Up for Halloween Parade That Wasn’t\nThe scariest thing this Halloween?",
          "It was the first Halloween Parade after a four year hiatus over lockdown - but there were no plans for one in 2024.",
          "In the past the site had removed non-existent events when contacted by their venues, but in the case of the Dublin parade the site owner said that \"no one reported that this one wasn't going to happen\".",
          "We hired some content writers online, and they helped us out on all the Halloween events throughout the world: in the USA, in UK, and most importantly, Ireland.",
          "\"Dublin: Halloween parade listing 'mistake' says website owner\".",
          "A Police Scotland spokesperson confirmed that officers attended and \"advice was given.\"",
          "The owner said the website is based in Pakistan and the issue occurred when a writer using a listing of a previous parade was \"unaware\" that it was not taking place this year.",
          "The site curates Halloween events spanning the globe.",
          "Chaos in Dublin as thousands turn up for AI ‘hoax’ Halloween parade that didn’t exist\nThousands of Dubliners patiently waited for a Halloween parade that would never come\nThousands of people lined the streets of Dublin eagerly anticipating a Halloween Parade through the city centre - but it never arrived.",
          "The My Spirit Halloween website falsely advertised the Macnas Halloween Parade would take place from 7pm to 9pm, with interest in it seeing the news ranking on Google.",
          "But they waited and waited (and waited), and a realization settled in: The parade hadn’t arrived.",
          "The post promised “spectacular floats to thrilling street performances” and described the route in detail.",
          "“All those gathered on O’Connell Street in expectation of such a parade are asked to disperse safely.”\nOne attendee said on X: “People waiting for a Halloween parade.",
          "[29]\nIn October 2024, thousands of people were reported to have assembled for a non-existent Halloween parade in Dublin as a result of a listing on an aggregation listings website, MySpiritHalloween.com, which used AI-generated content.",
          "[32] While a similar parade had been held in Galway, and Dublin had hosted parades in prior years, there was no parade in Dublin in 2024.",
          "No Gardaí around, no official announcement, people waiting on the wrong side of the road...Someone did pull a big hoax.”\nAnother replied: “The real lesson to be learned here is that a lot of people would clearly attend a Halloween parade and Dublin City Council should organise one next year.”\nSinn Fein councillor Janice Boylan said described the situation as “really sad”.",
          "\"All those gathered on O’Connell Street in expectation of such a parade are asked to disperse safely.\"",
          "'No criminal offences'\nA Garda spokesperson said the event will not be investigated as \"no criminal offences were disclosed\".",
          "However, the disruptions were brief, with social media posts from Luas showing that the stoppages were resolved in less than an hour.",
          "The website, he said, compiled information from about 1,400 Halloween events from all over the world.",
          "#Dublin\nNo Gardai around, no official announcement, people waiting on the wrong side of the road...",
          "It turns out you can’t arrest someone for providing a shamefully underwhelming event.",
          "Hundreds of Dubliners made their way to the city center on Thursday night, excited for a Halloween parade to take place on a mild October evening as they lined up along O’Connell Street, a major thoroughfare.",
          "There was no parade.",
          "The culprit seems to be the website MySpiritHalloween.com, which contains a glut of Halloween event listings, costume tips and game ideas.",
          "The parade never came—but the spectacle of throngs of people milling around for nothing became an event unto itself.",
          "The site lists Halloween events in multiple places, including in Britain, Ireland and the United States.",
          "In one city, it was the power of a phony online event listing.",
          "They’d gathered after a website called MySpiritHalloween.com published an AI-generated article promoting the festivities.",
          "Someone did pull a big #hoax #Prank pic.twitter.com/zTQUShZrya\n— Artur Martins (@arturmartins) October 31, 2024\nAnother X user, @liam_b02, shared a clip of the crowds on O'Connell Street taken from a passing bus:\nO’Connell street filled with people waiting for a fake parade #dublin pic.twitter.com/ROteZMGeUp\n— liam (@liam_B02) October 31, 2024\nMeanwhile, the Luas was disrupted due to the unexpected gathering, with Red Line services not running from from Smithfield to The Point and Green Line services not running between St. Stephen's Green and Dominick.",
          "— Luas (@Luas) October 31, 2024\nOn Thursday evening, a Google search of \"Dublin Halloween parade\" returned a top result for a website called MySpiritHalloween.com.",
          "\"The Guy Behind the Fake AI Halloween Parade Listing Says You've Got It All Wrong\".",
          "Award-winning performing arts group Macnas have been holding an annual Halloween Parade in Dublin since 2013, with last year’s parade seeing witches, zombie dancers and wolves shuffling down Capel Street.",
          "“We were very embarrassed.”\nBut for many people on Thursday, the rectification came too late, as they stood in Central Dublin eagerly awaiting people in costumes but seeing only buses and cars drive by instead.",
          "\"Public information on major events including traffic management, transport and public safety advice is often available on the Garda website, Dublin City Council website and from other relevant stakeholders,\" they added.",
          "He said: \"No one in Ireland informed us that this parade was not going to happen.",
          "The parade never even existed.",
          "\"Chaos in Dublin as thousands turn up for AI 'hoax' Halloween parade that didn't exist\".",
          "How were so many people duped into lining up for a treat they didn’t get, a parade that never was?",
          "To get the most out of the experience, arriving early to secure a good viewing spot is recommended, as the parade attracts large crowds and popular sections fill up quickly.\"",
          "Indeed, the \"About Us\" section on MySpiritHalloween.com shows what appear to be AI-generated photos of the site's \"Halloween writers.\"",
          "“Clearly, this crowd in Dublin was not a flash mob, but it did have many of the same attributes in terms of how it was created.”\nOnly this time, the mob showed up and nothing was there.",
          "The website includes listings of Halloween events in Ireland and other countries.",
          "MySpiritHalloween.com updated their page to say that the parade had been \"canceled\" when they became aware of the issue.",
          "He said it quickly dawned on him “because parades usually have barricades, security, police and some sort of organisation” and he could see no evidence of that, just “vast amounts of people”.",
          "X user @arturmartins shared this photo which illustrated the size of the crowd.",
          "- ^ a b \"All Trick, No Treat: Dublin Crowds Turn Up for Halloween Parade That Wasn't\".",
          "pic.twitter.com/KmVPFKEZbP\n— An Garda Síochána (@GardaTraffic) October 31, 2024\nSeveral social media posts on Thursday evening posted about the crowds gathering on Dublin's O'Connell Street waiting for a Halloween parade that would never come.",
          "Full Red and Green Line Line services have resumed with delays while we regulate service.",
          "People waiting for a halloween parade.",
          "So many people had gathered for the nonexistent spectacle that the local police announced on social media around 8 p.m., an hour after the parade was supposed to begin, that no event was planned and asked the crowds to “disperse safely.”\nIt seemed like the ultimate trick.",
          "When Mr Brosnan arrived, he realised quickly that the parade was not happening.",
          "It was also the festival of Divali last night so a lot of people were out on the street as well.”\nThe situation forced The Gardaí to put out a message for those waiting on O’Connell Street to “disperse safely”.",
          "Website owner says Dublin Halloween parade listing a 'mistake'\n- Published\nThe owner of a Pakistan-based website which shared details of a non-existent Halloween parade in Dublin says it was \"a mistake, it was not a joke, it was not a scam\".",
          "'Intentions are very pure'\nThe public showed up due to a post which first appeared on a website called 'myspirithalloween.com'.",
          "\"Please be advised that contrary to information being circulated online, no Halloween parade is scheduled to take place in Dublin City Centre this evening or tonight,\" the Irish police force said.",
          "This Halloween, crowds lined the streets in central Dublin and waited for a parade to begin.",
          "Peter Farrelly shot video from his window of the crowds gathering at O’Connell Street leaving space along the road for the fake Halloween Parade.",
          "It’s a terrible pity.”\nThe My Spirit Halloween listing appeared to have been taken down on Friday morning.",
          "That included a parade in Dublin, with a precise location and start time.",
          "MySpiritHalloween.com owner Nazir Ali is one of them.",
          "While there was no Halloween parade on Dublin's O'Connell Street, locals and visitors alike were spoiled for choice for Halloween happenings with several events organized by Dublin City Council.",
          "They thanked us for listing events about St Patrick's Day.",
          "A post, dated October 30, on the site said in part: \"The Dublin Halloween Parade follows a well-planned route that ensures maximum visibility and excitement.",
          "It typically starts at Parnell Square, proceeds down O’Connell Street, and concludes at Temple Bar.",
          "I know an awful lot of people turned up.",
          "Ireland's police force An Garda Síochána was forced to issue a statement on Thursday night, October 31 - Halloween - as crowds of people gathered on Dublin's O'Connell Street.",
          "The decked-out Dubliners had been tricked by a listing on a AI-generated website based in Pakistan that announced the spooky festival before news of it quickly spread online.",
          "But when thousands appeared to turn up to line the route from Parnell Street to Christchurch Cathedral, it slowly became clear to those waiting that there was no event.",
          "The parade was never coming.",
          "It was “not on purpose.”\nMr. Ali, who owns at least five other websites, declined to say where he was based, but said that MySpiritHalloween.com used artificial intelligence to generate its content.",
          "On Thursday, hundreds of people gathered on O'Connell Street in Dublin city centre for the parade but no police or stewards were present.",
          "Having a parade to go to sounded really good.",
          "\"The parade usually begins in the late afternoon, with festivities continuing into the evening.",
          "It did not take long for fun to be made of the hoax, including at Dublin Airport, which posted a picture on X of an empty terminal with the caption “our Halloween parade in full flow.”\nBesides listing parades, MySpiritHalloween.com offers tips for enjoying the holiday, including: “Use mini pumpkins as bowling balls and empty cans decorated with Halloween themes as pins.",
          "\"All trick no treat - \"Hoax\" Halloween parade draws big crowds to Dublin's O'Connell St\".",
          "Unfortunately for Dubliners, Dublin was picked this year.\"",
          "Thankfully, it was determined that the police were not needed."
         ],
         "marker": {
          "opacity": 0.5,
          "size": 5
         },
         "mode": "markers+text",
         "name": "Dublin Halloween Parade Hoax",
         "text": [
          "",
          "",
          "",
          "",
          "",
          "",
          "",
          "",
          "",
          "",
          "",
          "",
          "",
          "",
          "",
          "",
          "",
          "",
          "",
          "",
          "",
          "",
          "",
          "",
          "",
          "",
          "",
          "",
          "",
          "",
          "",
          "",
          "",
          "",
          "",
          "",
          "",
          "",
          "",
          "",
          "",
          "",
          "",
          "",
          "",
          "",
          "",
          "",
          "",
          "",
          "",
          "",
          "",
          "",
          "",
          "",
          "",
          "",
          "",
          "",
          "",
          "",
          "",
          "",
          "",
          "",
          "",
          "",
          "",
          "",
          "",
          "",
          "",
          "",
          "",
          "",
          "",
          "",
          "",
          "",
          "",
          "",
          "",
          "",
          "",
          "",
          "",
          "",
          "",
          "",
          ""
         ],
         "textfont": {
          "size": 12
         },
         "type": "scattergl",
         "x": {
          "bdata": "b1W1vlcswr32wNq+LR8Iv1NI2b0F7BS+Ckwfv62Yvb57Pwm+ZdeAvR80c7/EqsO9Hcm2vuPg/L5M7NW+qIQ8v37Jlb+1GUC/15hmPIBIU79fKY6/1I2ivqnEVr+rgO+9q1KhvmQK473Gn06/+T3Gvnsdjr6WA/C9ZkPwvG7HV76ZRIi/pfVSvr9AaL2dDNW++scpvt83gL/mi769hFqNv+i9NL+U3ne/Jgqevse7CL9AI1e/KZffvirdm779OS++Jwudvh8apL1CcO2++xfhvdQVh77aTH2/aFbJvuP1i79PTlu/4n7OvVKdkL41kfS+o/Oqvgc1LL7qyau+UifVvTAS771FR9i9Tw5Zv+Pfar+GBLK+S9q5vg56q77vz3C/eTmyvogzf7/IOd2+4XGev7I9yb4JZZ6+4tsEvvBsCL7gAT2/LUgvvsGe1b0djn+/edg4vhEu+7060Im+yHgbv+fC7b7sDfq+2njnOw==",
          "dtype": "f4"
         },
         "y": {
          "bdata": "/eItQAjON0BGIzNAwM05QCr5VEDhZTVABrlAQLbZNECWylZAKrswQJTzUUApijdAXH0wQLfNOED1jjRAZGFmQIpQU0ARIVFAwltVQIL/bUA8zE5AIgJCQEE7VUBdeUdAkeosQDOLN0C/w1JA9xw0QIdmREC24zJAwUNLQMiKPUB2EU9Avr04QL6MVECfgi5A3T1AQKYGV0ABT0pAVzFPQLkxV0BPk1hATi1CQHIvPUBCbFZATnkwQO3AS0Bp8jRAtf9OQArYRUAcR0lA5WNQQGn/LEB/XltAYRFLQKRhT0Brq19ALLhLQCm9REAG6DpA3b0zQCTCPkAxVy9AQ4pNQFOqSECWezRAynxqQNj0WkCmJy5AgRszQEySQkBpQFxADbgtQE+iYECz1C5AiG5VQAkbLUCt3CxAma9PQM43M0CJ91JAxBpFQFENR0Ch82JACKI5QJYyOECKxi9A4+U+QJ9yOkBL7jdAuOhUQA==",
          "dtype": "f4"
         }
        },
        {
         "hoverinfo": "text",
         "hovertext": [
          "A report by Wired claimed an entire paid cosmetic was made with help from AI in 2023's Modern Warfare, after the publisher had greenlit the tools for help with making concept art and marketing materials.",
          "At the centre of the backlash is a loading screen image of Zombie Santa, aka 'Necroclaus,' which some have said shows the undead Father Christmas with six fingers.",
          "“A lot of 2D artists were laid off,” one anonymous Activision artist told the site.",
          "Following the release of the Season 1 Reloaded update, fans noticed a number of telltale signs in Black Ops 6 loading screens, calling cards, and art used to explain how Zombies community events work.",
          "The cosmetic in question was not named, but was linked to the Yokai’s Wrath bundle released in December 2023.",
          "“A lot of 2D artists were laid off,” one anonymous Activision artist told the site.",
          "- Fans are alleging that the game includes a significant amount of generative AI content.",
          "The store did not disclose any use of generative AI for this bundle.",
          "- ^ \"Call Of Duty Discloses AI Slop After Months Of Players Complaining\".",
          "If and when they do, however, here's hoping Activision hires some actual humans to work on their artwork.",
          "Activision reportedly sold an “AI-generated cosmetic” for Call of Duty: Modern Warfare 3 in late 2023.",
          "Now Activision is owned by Microsoft, which touted the largest launch ever for Black Ops 6 last fall thanks in part to Game Pass, and has itself been moving full-steam ahead with trying to incorporate generative AI into game development.",
          "[35]\nIn video games\n[edit]The 2024 video game Call of Duty: Black Ops 6 includes assets generated by artificial intelligence.",
          "This bundle was sold for 1,500 COD Points, the premium virtual currency sold for real-world money that generates hundreds of millions of dollars for Activision each year.",
          "And as others have pointed out, Steam operator Valve now has AI disclosure rules that call on publishers and developers to describe how they use AI in the development and execution of their games.",
          "Activision recently added a warning label to the Steam page for Call of Duty: Black Ops 6 confirming the game \"uses generative AI tools to help develop some in-game assets\", after players spotted various in-game examples - including a zombie Santa Claus with six fingers.",
          "Activision is embroiled in a backlash over Call of Duty Black Ops 6 in-game art that some fans have accused of being \"AI slop.\"",
          "But so far, Black Ops 6 has proven generative-AI tools and the current level of quality control around them often can’t even get simple static images on loading screens right.",
          "In a report from Wired on the impact of generative AI on the video game development industry and concern among many within it about the threat to their livelihoods, it is alleged that Activision “made an AI-generated cosmetic available for purchase on the Call of Duty: Modern Warfare 3 store.”\nThe cosmetic in question is not named in the article, but it is linked to: the Yokai’s Wrath bundle released in December 2023.",
          "The report alleged that 2D artists’ jobs are being replaced by AI at the company.",
          "[36] The previous entry in the Call of Duty franchise was also accused of selling AI-generated cosmetics.",
          "Now Activision has admitted to using AI-generated assets in the hit multiplayer shooter on its Steam page.",
          "As part of this, Valve has told developers it will include their disclosures on the Steam store page of their game, “so customers can also understand how the game uses AI.” Currently, Call of Duty’s Steam page has no such disclosure.",
          "“Remaining concept artists were then forced to use AI to aid in their work.” Activision employees were allegedly “made” to sign up for AI training, with its use promoted throughout the business.",
          "Since the game's initial release, many players had accused Treyarch and Raven Software of using AI to create in-game assets, including loading screens, emblems, and calling cards.",
          "The Black Ops 6 slop controversy began last October, a week before the game released, with allegations spreading on YouTube of certain prestige emblems looking AI-generated.",
          "The appearance of the Zombie Santa was even worse in the context of Zombies mode’s voice actors being replaced amid a SAG-AFTRA strike for greater AI protections in game acting.",
          "The developers describe how their game uses AI generated content like this: “Our team uses generative AI tools to help develop some in game assets,” reads the disclosure on Valve’s storefront, recently spotted by CharlieIntel.",
          "[44] It was heavily criticized by players, who called it shovelware and disapproved of Rovio's use of AI images.",
          "Call of Duty: Black Ops 6 players have been accusing various loading screens and calling cards from the game of being AI-generated since it came out last fall, but it was only ever based on vibes and the occasional very convincing piece of seemingly obvious AI slop.",
          "The bundle contained a number of virtual items, including an Operator skin, a weapon blueprint, a calling card, a weapon sticker, and a loading screen, all below.",
          "\"Call of Duty Fans Give Black Ops 6's Zombie Santa Loading Screen the Finger Amid 'AI Slop' Backlash\".",
          "Wired pointed out that Microsoft, which owns Activision Blizzard after its $69 billion acquisition of the company last year, cut 1,900 staff from its gaming business just months after Activision sold this skin.",
          "The game featured AI-generated images for loading screens and backgrounds.",
          "This bundle cost 1,500 COD Points, the premium virtual currency sold for real-world money that generates hundreds of millions of dollars for Activision each year.",
          "1,500 COD Points is approximately valued at $15.",
          "The report alleged that 2D artists’ jobs were being replaced by AI at the company.",
          "While it doesn’t elaborate any further on which assets are made with AI and how, the confession has reaffirmed what some fans had been claiming for months.",
          "\"Activision Reportedly Sold an AI-Generated Call of Duty: Modern Warfare 3 Cosmetic\".",
          "Fans are now calling on Activision to disclose the use of generative AI for art that is included in bundles that are sold.",
          "The release of the Zombie Santa image sparked a closer look at other images in Black Ops 6, which some in the Call of Duty community have now called into question.",
          "In July, Wired reported that Activision sold an “AI-generated cosmetic” for Call of Duty: Modern Warfare 3 last year.",
          "Activision’s new disclosure comes after previous reports that developers within the company were encouraged to experiment with new AI tools in their work.",
          "Activision \"AI slop\" Guitar Hero advert is market research for a fake game that doesn't exist and maybe never will\nCall of Duty and Crash Bandicoot titles also touted.",
          "That same year, then CEO Bobby Kotick praised the work being done at OpenAI and other companies, suggesting the technology would be as transformative as the original Macintosh computer.",
          "Activision's social media post advertising a new entry in the Guitar Hero series is market research for a game that doesn't exist, and is not meant to be an actual announcement, Eurogamer understands.",
          "“Remaining concept artists were then forced to use AI to aid in their work.” Activision employees were allegedly “made” to sign up for AI training, with its use promoted throughout the business.",
          "Activision states on the game's product page on Steam that \"Our team uses generative AI tools to help develop some in game assets.",
          "It’s worth pointing out that Wired did not specify which part of this bundle was AI-generated, or indeed whether all of it was.",
          "Despite the backlash, the game has a mostly positive rating on Steam and is in the top 20 of most played games on the platform.",
          "Fortunately, a new SteamDB tag lets players filters games that us generative-AI out of their store searches.",
          "Wired pointed out that Microsoft, which owns Activision Blizzard after its $69 billion acquisition of the company last year, cut 1,900 staff from its gaming business just months after Activision sold this skin.",
          "Activision posts on Instagram and Facebook have similarly advertised \"Call of Duty: Zombie Defender\", \"Call of Duty: Sniper\" and \"Crash Bandicoot: Brawl\".",
          "One loading screen included a black glove with six fingers holding billiard balls.",
          "Another image of a gloved hand was used to show off a new Zombies community event.",
          "1,500 COD Points is approximately valued at $15.",
          "[25] The intention of the posts was later stated to act as a survey for interest in possible titles by the company.",
          "[23][24]\nIn the same month, Activision posted various advertisements and posters for fake video games such as \"Guitar Hero Mobile\", \"Crash Bandicoot: Brawl\", and \"Call of Duty: Zombie Defender\" that were all made using generative AI on platforms such as Facebook and Instagram, which many labelled as AI slop.",
          "A particular example was a loading screen for the zombies game mode that depicted \"Necroclaus\", a zombified Santa Claus with six fingers on one hand, an image which also had other irregularities.",
          "Artwork for the latter game, hosted on Facebook, again shows obvious use of AI image generation.",
          "Fans are expressing dissatisfaction, claiming that the game is using a lot of generative AI content for its cover art and game assets, labeling it as another generic puzzle game.",
          "\"Activision accused of \"AI slop\" yet again, this time for new Guitar Hero\".",
          "[37]\nIn February 2025, Activision disclosed Black Ops 6's usage of generative artificial intelligence to comply with Valve's policies on AI-generated or assisted products on Steam.",
          "The store did not disclose any use of generative AI for this bundle.",
          "The second was a zombie Santa holding up hand that had six fingers.",
          "\"Activision \"AI slop\" Guitar Hero advert is market research for a fake game that doesn't exist and maybe never will\"."
         ],
         "marker": {
          "opacity": 0.5,
          "size": 5
         },
         "mode": "markers+text",
         "name": "Activision AI-Generated Game Content",
         "text": [
          "",
          "",
          "",
          "",
          "",
          "",
          "",
          "",
          "",
          "",
          "",
          "",
          "",
          "",
          "",
          "",
          "",
          "",
          "",
          "",
          "",
          "",
          "",
          "",
          "",
          "",
          "",
          "",
          "",
          "",
          "",
          "",
          "",
          "",
          "",
          "",
          "",
          "",
          "",
          "",
          "",
          "",
          "",
          "",
          "",
          "",
          "",
          "",
          "",
          "",
          "",
          "",
          "",
          "",
          "",
          "",
          "",
          "",
          "",
          "",
          "",
          "",
          "",
          "",
          "",
          ""
         ],
         "textfont": {
          "size": 12
         },
         "type": "scattergl",
         "x": {
          "bdata": "Aa8Dvx6oXb/LfCS/Q55Ivw34/74SHCe/h9V8vySvgb/IeSS/7hUvvwU/Br8ALBy/ezovvwiAvb4b7Ha/zzJAvx8HPr89gUy/4q8Wv6V5L7+xkwS/KOpUv9hPbr87My2/SKlEv9KePL/6iVm/IGR9v54WVL8Dnz2/7ZbBvjJxPr+7pAm/wkaGv4Sdv77UrLq+2ucvv179Zr9d1gq/77xCvxf1Xb+FcQu/nHFCv8NmS779GCm/i5dHvotEKr/MV3G/V1uDv00pVb9W+XW/ElUPvyxdO746IXy/49dkv3Bdu75ppXG+Aw5bvsyfcr+ed4W/l9x1v2bzjb7QZjm/G02Bv4sxcb+G+Eu+",
          "dtype": "f4"
         },
         "y": {
          "bdata": "XGImQe/SG0H8hClBWAUfQYjkJEFXbylBJkUnQW/BIkFE7h9B7a0pQWU5JUGaCSVBm4IjQailJEGj6CZBdpkgQR0kIUG+hCFBO0MlQcU4KkH7/yRBHtEmQWmjJkGgGylBimYhQYROIEHCIxxBqGEnQdLtJEE4ASBBY7QkQRqtHkErIyZBYIInQTCnJEF9nCRB2RAqQYMlJ0HHsCVBaf8lQfIBHEE6XiVBrsInQQ7HGUGUZSdBOLcZQYSuKUGsHydBnVUiQXwPJEE47iZBNWQmQQr4GUF7vhlB7H0bQbmxJEGO5xlB3AsaQQhkGkGlKSdBZtQlQZjyGkF7nCNBolAiQYtnGkGw1hlB",
          "dtype": "f4"
         }
        },
        {
         "hoverinfo": "text",
         "hovertext": [
          "Toys “R” Us received criticism in June for a commercial created with OpenAI’s tool Sora that portrayed a boy walking through a toy aisle with wonderment until he was joined by the company’s mascot, Geoffrey the Giraffe.",
          "Neeraj Arora, the chair of marketing research and education at the University of Wisconsin-Madison, said the reason why the company faced backlash for this specific advertisement, and not for “Masterpiece” last year, could be because many consumers recognize Christmas as an integral part of the company’s brand, and AI technology acts as a disruption.",
          "Not only were the ethics of the endeavour questioned, the advert’s quality was pulled apart and branded ‘soulless’ and ‘devoid of any actual creativity’.",
          "Over 14 years ago, people were recreating the Coca Cola Christmas ad in GTA San Andreas and it still came off as more authentic than this tripe.",
          "“We keep our roots in our heritage and what Coke is all about as a brand, but then connect the dots with the future and technology,” Mr. Thakar told Ad Age.",
          "But, most importantly: \"Coca Cola is banned from Ba Sing Se.\"",
          "So that is a huge benefit.”\nCoca-Cola has responded to the backlash yet, but it might lose some soda drinkers to Pepsi in the meantime.",
          "The company's European CMO, Javier Meza, explained the decision in an interview with Marketing Week, saying Coca-Cola wanted to bring this year's holiday commercial to \"today's times.\"",
          "\"Coca-Cola's Holiday Ads Trade the 'Real Thing' for Generative A.I.\"",
          "But, instead of reviving the holiday magic of the original commercial, the AI advert sparked backlash online.",
          "Coca-Cola is facing backlash online over an artificial intelligence-made Christmas promotional video that users are calling “soulless” and “devoid of any actual creativity.”\nThe AI-made video features everything from big red Coca-Cola trucks driving through snowy streets to people smiling in scarves and knitted hats holding Coca-Cola bottles.",
          "The company's latest take on that ad, however, isn't inspiring the Christmas spirit in a lot of fans.",
          "But Coca-Cola, which is a major force in advertising, appears to be pushing headlong into A.I.",
          "[20] In response to the negative feedback, the company defended their decision to use generative artificial intelligence stating that \"Coca-Cola will always remain dedicated to creating the highest level of work at the intersection of human creativity and technology\".",
          "Why holiday events?",
          "In a statement, a Coca-Cola spokesperson said, \"The Coca-Cola Company has celebrated a long history of capturing the magic of the holidays in content, film, events and retail activations for decades around the globe.",
          "In March 2023, Coca-Cola collaborated with OpenAI to release one of its first AI-generated commercials, called “Masterpiece,” which showed paintings and sculptures in an art museum come to life and pass around a bottle of Coca-Cola.",
          "The three commercials, which pay tribute to the company’s beloved “Holidays Are Coming” campaign from 1995, feature cherry-red Coca-Cola trucks driving through sleepy towns on snowy roads at night.",
          "The reaction online has been overwhelmingly negative, with comments on the YouTube video and across social media calling it \"slop,\" \"embarrassing,\" and \"creepy.\"",
          "One of the season’s stalwarts, however, is feeling a little less cozy for some people: Coca-Cola, known for its nostalgia-filled holiday commercials, is facing backlash for creating this year’s ads with generative artificial intelligence.",
          "In fact, the reception is so harsh that it's actually pretty difficult to find any positive sentiment.",
          "Coca-Cola had a similar misfire with its AI-generated Christmas ad, which paid homage to its 1995 “Holidays are coming” commercial.",
          "Or, as one commenter put it: \"This is as heartwarming as an aluminum tree.\"",
          "Supported by\nCoca-Cola’s Holiday Ads Trade the ‘Real Thing’ for Generative A.I.",
          "When it comes to famous Christmas commercials, there aren't too many that are more iconic and nostalgic than Coca-Cola's 1995 \"Holidays Are Coming\" spot.",
          "“Coca-Cola just put out an ad and ruined Christmas,” Dylan Pearce, one of the campaign’s many critics, said on TikTok, adding, “To put out slop like this just ruins the Christmas spirit.”\n“This is legit heartbreaking,” another user, De’Vion Hinton, posted on X.",
          "Coca-Cola will always remain dedicated to creating the highest level of work at the intersection of human creativity and technology.\"",
          "Pratik Thakar, a vice president of Coca-Cola and the company’s global head of generative A.I., discussed the project in a recent interview with Ad Age, which previewed a screening of one of the spots at its Emerging Tech Summit last week.",
          "- ^ \"Coca-Cola causes controversy with AI-generated ad\".",
          "“Coca Cola has been the gold standard in branding and advertising for decades.”\nAlex Hirsch, an animator and the creator of the Disney series “Gravity Falls,” expressed a sentiment that other creative professionals have shared online, noting that the brand’s signature red represented the “blood of out-of-work artists.”\nThe company, however, is sticking by the ads.",
          "Last year, the company released a limited edition drink, Coca-Cola Y3000, that boasted on the can’s label: “Co-Created with AI.”\n“We hope that Coca-Cola will still be as relevant and refreshing in the year 3000 as it is today,” the company said in a statement at the time.",
          "https://t.co/3BmQWBP3uF pic.twitter.com/rXZ81kkEhN\n— 𝔑𝔞𝔱𝔥𝔞𝔫 (@TheNathanNS) November 15, 2024\n\"Coca Cola decided to have its polar bears take a giant AI shit under the Christmas Tree,\" wrote @joerussotweets on X/Twitter.",
          "The ad, which was created in collaboration with three AI studios, features AI-generated animals and red Coca-Cola lorries.",
          "Toys “R” Us provoked controversy with an AI-generated ad in April last year.",
          "\"Coca-Cola's New AI-Generated Holiday Ad Slammed as 'Soulless' and 'Embarrassing': 'This Is Such Slop'\".",
          "The company’s nostalgia-filled commercials are a holiday tradition, but this year’s ads are facing backlash for dipping into the uncanny valley.",
          "But if something feels a little off, it's because it was Coca-Cola's first ad to be fully generated by artificial intelligence.",
          "If a billion dollar company like coca cola cant pay real artists, actors, directors, etc to promote their product what precedent does this set for the rest of the market?,\" wrote one person on the YouTube video.",
          "is actually a much better tool.”\nCoca-Cola worked with three A.I.",
          "“This year, we crafted films through a collaboration of human storytellers and the power of generative A.I.”\n“Coca-Cola will always remain dedicated to creating the highest level of work at the intersection of human creativity and technology,” the statement added.",
          "“’Tis the season,” a jingle chirps, “it’s always the real thing.” The tag line, pushing Coke’s “real thing” slogan, is juxtaposed with a disclaimer: “Created by Real Magic AI.”\nThe internet pile-on arrived swiftly as consumers decried the commercials as uncanny valleyesque perversions of the company’s classic ads.",
          "With temperatures dropping, nights growing longer and decorations starting to appear in store windows, the holidays are on their way.",
          "Alex Hirsch, the creator of the Disney series “Gravity Falls,” commented on an X post that showed the new commercial, which has amassed over 56 million views, “FUN FACT: @CocaCola is ‘red’ because it’s made from the blood of out-of-work artists!",
          "\"Over 14 years ago, people were recreating the Coca Cola Christmas ad in GTA San Andreas and it still came off as more authentic than this tripe,\" wrote one X/Twitter user.",
          "The ads depict squirrels and rabbits peeking out to watch the passing caravans and a man being handed an ice-cold bottle of cola by Santa Claus.",
          "“The Coca-Cola Company has celebrated a long history of capturing the magic of the holidays in content, film, events and retail activations for decades around the globe,” a spokesman for the company said in a statement provided to The New York Times.",
          "Coca-Cola is not the first legacy brand to draw backlash for using generative A.I.",
          "These videos were immediately met with negative reception from both casual viewers and artists;[19] the animator Alex Hirsch, the creator of Gravity Falls, criticized the company's decision not to employ human artists to create the commercial.",
          "This isn’t the first time that Coca-Cola has used AI technology in its marketing strategies and programs.",
          "[17][18]\nIn advertising\n[edit]In November 2024, Coca-Cola used artificial intelligence to create three commercials as part of their annual holiday campaign.",
          "The company also announced in a news release that month that it would be partnering with artists to create artwork using Coca-Cola’s creative archives and AI technology.",
          "But Jason Zada, founder of one of the three AI studios Coca-Cola worked with to create the ad, touted the efficiency of using the technology to craft the spot.",
          "This year, we crafted films through a collaboration of human storytellers and the power of generative AI.",
          "“But then you throw AI into the mix that is not a fit, that is not a fit with holiday timing, but also, to some degree, also Coke, what the brand means to people.”\nToys R Us faced similar backlash online over the summer for an AI-made commercial that depicted the company’s late founder in a bike shop alongside the brand mascot.",
          "“The brief was, we want to bring Holidays Are Coming into the present and then we explored AI as a solution to that.”\nIt's safe to say that a lot of people on the internet would've preferred Coca-Cola modernizing the ad in another way, however.",
          "“Your holidays are a time of connection, time of community, time to connect with family, and that’s sort of a big part of what the holidays are about,” Arora said.",
          "The video was meant to pay homage to the company’s 1995 commercial “Holidays Are Coming,” which featured similar imagery, but with human actors and real trucks.",
          "You can watch the 16-second spot here, which in some ways is largely similar to the original, from the soundtracks to that big, lit-up truck.",
          "“So we challenged ourselves to explore the concept of what a Coke from the future might taste like.”\nAlex Vadukul is a features writer for the Styles section of The Times, specializing in stories about New York City.",
          "\"It’s actually soooo concerning that a brand as big as Coca Cola is doing this,\" added another X/Twitter user."
         ],
         "marker": {
          "opacity": 0.5,
          "size": 5
         },
         "mode": "markers+text",
         "name": "Coca-Cola's AI Holiday Campaign",
         "text": [
          "",
          "",
          "",
          "",
          "",
          "",
          "",
          "",
          "",
          "",
          "",
          "",
          "",
          "",
          "",
          "",
          "",
          "",
          "",
          "",
          "",
          "",
          "",
          "",
          "",
          "",
          "",
          "",
          "",
          "",
          "",
          "",
          "",
          "",
          "",
          "",
          "",
          "",
          "",
          "",
          "",
          "",
          "",
          "",
          "",
          "",
          "",
          "",
          "",
          "",
          "",
          "",
          "",
          "",
          "",
          "",
          "",
          "",
          "",
          ""
         ],
         "textfont": {
          "size": 12
         },
         "type": "scattergl",
         "x": {
          "bdata": "FnlQwCJrTsBoVVfACctRwA/aXsDbflTAdYlUwNA0SsBRilbAbjhOwAUJVsCXL0/AIbNiwGOXX8AXdDrAqdlJwDJ8YcAJUEnAeYBcwBqUUcBbg1nANKlTwFDCUMC7dFjAkPdIwBg+VcB5CmLA4NpiwAvMXcCFVFbAs/5fwF6fWMAWOWHAJNZPwMWTVcCs2U3ASXldwAGJVsDcvWTA4JdiwJDHVMBC7z/AjGJZwNLHUsCpd03A4rhKwDF0X8DIT1zA24tiwMwXWsB4pWHAAbhkwCcpY8Cyz0/AwW5WwJlXQcBEz0vAn11KwOahXsAmLFXA",
          "dtype": "f4"
         },
         "y": {
          "bdata": "P1RUQBeBUUCsUWRAWMBLQPgDREB+YlFA3gZUQF1jQ0C/7UtAAstVQL4yU0AEJVFAeHBAQDgJRkBM6j5APpNCQDiYREAsZURAhyRvQMenUECj23BAZY9OQFIRWUBAV0lAC1JDQGXUVEA02EVA9dlBQNkgRkB79lBA1+FCQAvbSkAwPEVAd+lZQDOtUUBZhVFAJWxGQJRcU0BGkz1AbxBEQGs7U0CRIkBAcnRYQMnlUUAHvUVAHN9DQHPrQUADbWpAKHo9QL8OSEAE2UNABwRGQEHsRkCefFRAym9LQDLUQED7fkdA9qtKQJKmQ0AmmlJA",
          "dtype": "f4"
         }
        },
        {
         "hoverinfo": "text",
         "hovertext": [
          "Put on by London-based event company House of Illuminati, Willy’s Chocolate Experience was intended to be an immersive, magical activity for children and their families.",
          "A world of pure imagination it most certainly was not.",
          "What did the organizers of the event have to say for it?",
          "This article is more than 1 year old\nWilly Wonka event leaves bitter taste with artificially sweetened promises\nCharlie and the AI factory flop compared to 'meth lab'\nIn the most flagrant case of false advertising since The NeverEnding Story, cops were called to a Wonka-themed \"Willy's Chocolate Experience\" in Glasgow, Scotland, because promotional material was made entirely from AI-generated slop.",
          "The event promised attendees a paradise of sweet treats, chocolate fountains, live performances by Oompa Loompas, an appearance by Wonka himself, and “a celebration of chocolate in all its delightful forms.” There would be an Enchanted Garden, Twilight Tunnel, and Imagination Lab that, the event’s website ensured, would captivate and enchant anyone ages three and above.",
          "Have Roald Dahl’s estate or Warner Bros. released a statement about the event yet?",
          "Actually, on second thought: The Experience may have had more in common with The White Lotus, because certainly many dreams died in that warehouse.",
          "\"In some ways, it was a world of imagination, like imagine that there is a whole chocolate factory here,\" he quipped.",
          "The stinger is that the event run by The House of Illuminati cost £35 ($44) a ticket.",
          "If you stop and think about it, Willy Wonka’s chocolate factory is an absolutely terrifying place.",
          "Where did this all go down?",
          "Families that turned up early immediately complained, with one parent calling it an \"absolute shambles of an event,\" which caused the company to cancel it midway through the opening day on February 24.",
          "We were just handed an Amazon box that probably arrived that morning.” Nothing worse than a shake-and-go wig.",
          "Update: March, 1st, 3:00 p.m ET: Things have gotten even wilder in the world of Willy's Chocolate Experience.",
          "“It was just strange, and they were really cheaply made.",
          "“Has anyone else been getting FB ads for ‘Willy’s Chocolate Experience?’” wrote Reddit user, @Prestigious_Try4610, clearly onto the scam.",
          "Despite the hype, the advertisements for Willy’s Chocolate Experience failed to include any actual pictures of the event, instead relying on illustrated images—which one shrewd Reddit user noticed.",
          "According to Sinclair, the children were given “two jelly beans each” and then a “half cup of lemonade.” To make matters worse, Sinclair said there wasn’t even any chocolate.",
          "Wonka is rolling over in his grave.",
          "Well, they didn’t lie about that: Willy’s Chocolate Experience was certainly unique.",
          "“But I’d signed the contract, and part of me didn’t want to disappoint the kids going to this.” Similarly, Connell felt bad for the children subjected to Willy’s Chocolate Experience.",
          "All that considered, it’s not terribly surprising that a recent event billed as “Willy’s Chocolate Experience” went terribly, terribly awry.",
          "What did the performers have to say about the event?",
          "First of all: What was the experience supposed to be?",
          "So, what was Willy’s Chocolate Experience, and how did everything go so wrong, so quickly?",
          "Can you explain what happened?",
          "Any chocolate?",
          "Were there any sweet treats?",
          "\"Willy Wonka event leaves bitter taste with artificially sweetened promises\".",
          "The costumes were similarly subpar.",
          "[27]\nIn event listings\n[edit]Fantastical promotional graphics for the 2024 Willy's Chocolate Experience event, characterized as \"AI-generated slop\",[28] misled audiences into attending an event that was held in a lightly decorated warehouse.",
          "“It was very disappointing to see how many people turned up at this event and found basically me dressed up as Willy Wonka in a half-abandoned warehouse,” he said.",
          "\"INDULGE IN A CHOCOLATE FANTASY LIKE NEVER BEFORE – CAPTURE THE ENCHANTMENT™\" the website drools.",
          "\"Unfortunately last minute we were let down in many areas of our event and tried our best to continue on and push through and now realise we probably should have cancelled first thing this morning instead.",
          "a place full of bad things!!!",
          "What they found when they arrived was a scene straight out of the Saw franchise.",
          "It was almost like they were secondhand.” Jenny Fogarty, who also played an Oompah Loompa, told The Scotsman that “the wigs were very cheap.",
          "Per Connell, he was hired a few days before the event, then was handed an “AI-generated gibberish” script and told he could “do whatever you want.” Kirsty Paterson, an aspiring actor/fire dancer/yoga instructor who portrayed an Oompah Loompa that went viral, told Vulture she took the job because it offered £500 for two days of work.",
          "What happened at the event?",
          "Book your adventure now and embark on a journey filled with wondrous creations and enchanting surprises at every turn!\"",
          "“When I got the script the night before I was like, Oh, this is not…” Upright Citizens Brigade should have sent a cease and desist letter right then and there.",
          "In an interview with The New York Times, attendee Stuart Sinclair described the venue.",
          "The event had no affiliation with Roald Dahl’s estate or Warner Bros.",
          "“I was like, I don’t know if I actually want to do this,” said Paterson, per Vulture, when she arrived for the gig the next day.",
          "‘The Unknown’ is an evil chocolate maker who lives in the walls,’” said Connell.",
          "Last weekend, families traveled from all over the UK for what they believed would be an immersive experience in keeping with Roald Dahl’s beloved children’s book, Charlie and the Chocolate Factory, the source material for the 1971 film Willy Wonka and the Chocolate Factory and the 2023 prequel Wonka, starring Timothée Chalamet as the eccentric chocolatier.",
          "Not 1 single picture giving people an idea of what they are shelling out money for and yet people are buying up tickets.”\n“Indulge in a Chocolate fantasy like never before,” read the website.",
          "\"Sold a dream and delivered a nightmare,\" wrote one.",
          "\"\"Willy's Chocolate Experience\" Nightmare: What Went Wrong?\".",
          "Held at the Box Hub, a warehouse event space in Glasgow, Willy’s Chocolate Experience contained some shoddily thrown together Wonka–esque decorations, a handful of circular tables and folding chairs, some AI-printed images to decorate the walls, a smoke machine, and a sparkly rainbow for children to walk under.",
          "And what did the venue look like?",
          "Note that it’s named after “Willy” but not “Wonka.”\nClearly, Willy’s Chocolate Experience made Fyre Festival look like a stay at the White Lotus.",
          "“They were so inappropriate for what it was,” said Paterson.",
          "A lunatic millionaire lures a group of children and their unwitting parents to his massive estate, where they are expected try his non-FDA approved concoctions—and, one by one, are horribly disfigured in the process.",
          "\"Dive into the whimsical of [sic] Willy's Chocolate Experience!, a place where chocolate dreams become reality.",
          "The true grimness of the situation is effectively captured in this footage, Gizmodo compiled a side-by-side comparison of AI mulch and the reality here, while an actor hired to play \"Wonka\" shared his harrowing tale with The Independent.",
          "But instead of a technicolor dreamworld of candy and chocolate inspired by the 2023 Hollywood reboot of Roald Dahl's story, children were left crying because the whole thing was a handful of sad props in a desolate warehouse with an \"Oompa Loompa\" who looked like \"she's running a literal meth lab and is seriously questioning the life choices up until this point.\"",
          "Paul Connell, a stand-up comedian who was hired to play Willy himself, took to social media to explain how he got caught up in the whole mess.",
          "But when she arrived to the dress rehearsal and saw the script, she too had misgivings.",
          "However, later attendees were not informed of the stunt's doom, and people kept trying to file through the doors to endless disappointment (sung to the tune of \"Pure Imagination,\" no doubt), but were turned away."
         ],
         "marker": {
          "opacity": 0.5,
          "size": 5
         },
         "mode": "markers+text",
         "name": "Willy's Chocolate Experience Fail",
         "text": [
          "",
          "",
          "",
          "",
          "",
          "",
          "",
          "",
          "",
          "",
          "",
          "",
          "",
          "",
          "",
          "",
          "",
          "",
          "",
          "",
          "",
          "",
          "",
          "",
          "",
          "",
          "",
          "",
          "",
          "",
          "",
          "",
          "",
          "",
          "",
          "",
          "",
          "",
          "",
          "",
          "",
          "",
          "",
          "",
          "",
          "",
          "",
          "",
          "",
          "",
          "",
          "",
          "",
          "",
          "",
          "",
          "",
          "",
          "",
          ""
         ],
         "textfont": {
          "size": 12
         },
         "type": "scattergl",
         "x": {
          "bdata": "YqgpPzPrCT+bzFQ9mkUoPwxbIT+7nxw/BMgaP0kLCT8LkZW+3gofP3sk6D0ktKK92sw1PyDhQT+UqTU/V/0xP1P/Mj8zTBU/47ghP2ZmMz/gJRE/WxArP4+PtT0g4Mw+xeApP+Cj8T0m8zk/kAURP4ptID/i1jU/ZQ0uP0gk4z5GTSc/pQTZvuV15T4U5xc/X9c0P/LNKD+LCaw9l+AeP+SUKT8yhl8+z9wgP18NLT93sPw+orklP4m/Hz98jx4/4/4jP9WQJz+aYwI+4MAxPw+hKz87WSQ/GxAmP6nmJz8ryRk/ltwZP/87LT8J1cs+",
          "dtype": "f4"
         },
         "y": {
          "bdata": "2IqQQHGulECWtYVA06SPQJmykEAhkJFAaFGNQLUYlUDucolAMVSSQPzsh0DOsIFAMNCEQFbGkUAqqYRAjAKRQPZwkEAmSY5A3mmQQLZAkEB3KIlAf6aPQGXShUB0cYxAyl2QQNxHiEATXpFAeb6QQITXjkCAQIRAfvSPQOZ6hUCZO5RAsD6CQMnHlkDxeI1A5oaFQOh0hUD30oVAqKiVQPs/hEB9LoVAFZiQQGPFhEDdQJNA9tyPQMaPk0DmtY1AMvKQQI39kECJW4dAxkGRQNo4hEAR0JBA/R+TQENgjECghI5AR22HQJqIhEBucYVA",
          "dtype": "f4"
         }
        },
        {
         "hoverinfo": "text",
         "hovertext": [
          "“The error propagates, right?” he said.",
          "We are highly depressed that everyone is reporting against us.",
          "The statement also refers, puzzlingly, to a marriage ceremony that has been either canceled or postponed as a result of the event’s failure.",
          "And we apologize to our Irish brothers.",
          "I am actually good, but we are highly embarrassed.",
          "“Everyone is blaming us,” he said.",
          "They're calling us scammers, saying that we scammed.",
          "But we are not wrong, and we are not scammers.",
          "So your name is Nazir Ali, but when you say “we”—\nWe are not going to give you any personal information that might be harmful for us.",
          "If we wanted to scam people, we can easily do so by selling fake tickets.",
          "But the mystery writer does apologize and take full responsibility for the event.",
          "\"It was a genuine mistake and we're accepting it, we're not running from it,\" he added.",
          "We never had this type of issue before.",
          "No worries, as we will be updating this space as and when any new info arrives.",
          "We apologise for any inconvenience caused.",
          "This is not a scam.",
          "It is our mistake.",
          "We even wrote this has been canceled, but it was too late.",
          "“It was not a joke, not a scam,” he said.",
          "\"This is a difficult time for me, and I ask for your understanding and privacy.”\nThe writer of the statement goes on to promise that they will rectify the situation by refunding patrons, then asks for “a bit of time to process everything that has happened.” It’s signed, simply, “Sincerely”—which does not rule out the possibility that it was written by The Unknown.",
          "We are highly disappointed, highly embarrassed, and honestly, we are feeling bad.",
          "That would be very simple, but we didn't even mention the ticket thing.",
          "\"If they told us before the evening we would have removed it.\"",
          "This was just a mistake.",
          "The website's owner told BBC News NI: \"We are highly embarrassed and ashamed and we are really sorry about it, that because of us people wasted their time and money.\"",
          "Everyone is writing about us, and they are telling us that we are scammers.",
          "And you guys should not say that we are the scammers, unless you actually know it, unless you ask us.",
          "He insists it’s all just a big misunderstanding.",
          "This shows that this is a mistake.",
          "People even congratulated us.",
          "— both the positives and the negatives,” he said.",
          "This was not on purpose!",
          "It is unclear when the cancellation message was added to the post.",
          "\"We fully apologise for what has happened and will be giving full refunds to each and every person that purchased tickets.\"",
          "Then we would be scammers, but we don’t do it, because it is illegal and prohibited.",
          "But we never mentioned any tickets on the website.",
          "As soon as we knew, we changed it.",
          "If there are any mistakes, for example you see an event and it was moved—there were some events in Dubai, but hotel management texted us and said that the event was not listed, so we removed it immediately.",
          "But I don't want to actually reveal their nationalities.",
          "But right now the guys are very depressed.",
          "We own this mistake.",
          "They don't actually know what our intentions are, but they are showing that our intentions are wrong.",
          "We are still smiling now.",
          "We don't actually want to mislead any of our Irish brothers."
         ],
         "marker": {
          "opacity": 0.5,
          "size": 5
         },
         "mode": "markers+text",
         "name": "Event Cancellation and Apologies",
         "text": [
          "",
          "",
          "",
          "",
          "",
          "",
          "",
          "",
          "",
          "",
          "",
          "",
          "",
          "",
          "",
          "",
          "",
          "",
          "",
          "",
          "",
          "",
          "",
          "",
          "",
          "",
          "",
          "",
          "",
          "",
          "",
          "",
          "",
          "",
          "",
          "",
          "",
          "",
          "",
          "",
          "",
          "",
          "",
          ""
         ],
         "textfont": {
          "size": 12
         },
         "type": "scattergl",
         "x": {
          "bdata": "rwejv4ZFmr8CCvK+W/WPv0TPnL/HNpy/FRGJvx+Qib+fabm/XyeBv026L7+o15O/umxhv8yhcL+m5nS/I2SHv8qylb/2ige/lCeHv6pdHb/6zpO/I8NOv3nTSL9/IJ2/g4NTv4U+i7/hH5G/dhGfv3Wanb+5jpK/Yyadv63aj78IUwS/SjMev0wVh7+4Z0a/X49hv1SiTb/Xp8C/qZ2hv5Q7lb/yR6W/dj+Sv7cFqL8=",
          "dtype": "f4"
         },
         "y": {
          "bdata": "6QCSQGEqlUBPO4FAUIGKQF+ylUAxFZNAlueYQKIVmUDXnoxAoYuXQJxOhkBvqY9A9kWJQCGFhkDn0IZA33SZQGcfjUBoa4BAgpeYQBOyh0A2z5FAmf6MQLY5gUDMfY5A0wd/QKlfmEBVOJtACq6PQA5MkED3E5dA9x6TQKbnjEATln1AYneFQGJ1mUCkl4tA5NqEQEWtdkBmwo1AoQeWQDHGjUBJtJFAHyuYQDWpjUA=",
          "dtype": "f4"
         }
        },
        {
         "hoverinfo": "text",
         "hovertext": [
          "AV Club.",
          "The Independent.",
          "GamingonPhone.",
          "The Verge.",
          "The New York Times.",
          "TweakTown.",
          "The New York Times.",
          "The New York Times.",
          "Vanity Fair.",
          "The Telegraph.",
          "The Atlantic.",
          "Kotaku.",
          "IrishCentral.com.",
          "Wired.",
          "mxdwn Games.",
          "Around the World With The Times\nOur reporters across the globe take you into the field.",
          "ISSN 1059-1028.",
          "The Guardian.",
          "Eurogamer.net.",
          "Eurogamer.net.",
          "The Guardian.",
          "Yahoo News.",
          "Raconteur.",
          "Intelligencer.",
          "Shadow Magazine.",
          "Gizmodo.",
          "BBC News.",
          "The New York Times.",
          "Eurogamer.net.",
          "The Atlantic.",
          "The Conversation.",
          "MobileSyrup.",
          "Heise Online (in German).",
          "The Atlantic.",
          "Business Insider.",
          "Eurogamer.net.",
          "Washington Post.",
          "News 10 ABC.",
          "Creative Bloq.",
          "NBC News.",
          "Victor Mather, who has been a reporter and editor at The Times for 25 years, covers sports and breaking news.",
          "Claire Moses is a Times reporter in London, focused on coverage of breaking and trending news.",
          "The Register."
         ],
         "marker": {
          "opacity": 0.5,
          "size": 5
         },
         "mode": "markers+text",
         "name": "Prominent News Media Outlets",
         "text": [
          "",
          "",
          "",
          "",
          "",
          "",
          "",
          "",
          "",
          "",
          "",
          "",
          "",
          "",
          "",
          "",
          "",
          "",
          "",
          "",
          "",
          "",
          "",
          "",
          "",
          "",
          "",
          "",
          "",
          "",
          "",
          "",
          "",
          "",
          "",
          "",
          "",
          "",
          "",
          "",
          "",
          "",
          ""
         ],
         "textfont": {
          "size": 12
         },
         "type": "scattergl",
         "x": {
          "bdata": "HnNyPyOfLT9P6IQ/OF15Pz6wCj/vtIc/gqMQP7o9Cz/mH8I+oO06PyMBHD9li4w/aGTZPvtHbD9dII8/+v0KP04/ET/CTj4/aCmRP/2ukj9oqD4/D+AeP0OcHj+Suzc/YgkVPxLCgj+78yc/VugMP0t/kD8rqR4/ki9BPy9Dez86z4I/Fp4bP+KMNj8mpZE/G1cMP4A38j6V8IA/axYgP0lZ4D5l2O8+FR1bPw==",
          "dtype": "f4"
         },
         "y": {
          "bdata": "8IDfQKuL1kClWOJAixHgQM3h2kAaTuFAiXfaQKrc2kAKCN5ADpfYQPOf2EC/kuJAa7XSQELW4UAXIONAJ+7aQFbB2UCdhddABBrjQFJq40CuAthAmujYQA+y10DyQ9lA8kjZQPQA4UCq3ddAMW7aQDgM40BTTNhAms7WQC8D4EBZBOBADHjYQEZX20BtLONAhQvbQN/y20CbcOBA+pjYQBFB30DhnuBAQmvbQA==",
          "dtype": "f4"
         }
        },
        {
         "hoverinfo": "text",
         "hovertext": [
          "\"Square Enix intends to be \"aggressive in applying AI\", says CEO\".",
          "Microsoft Gaming CEO Phil Spencer even claimed similar technology would aid in game preservation by making it easier to emulate classics on modern hardware.",
          "Square Enix has a big year ahead of it, as fans will soon be able to enjoy Final Fantasy VII Rebirth, Final Fantasy XVI's second DLC, Final Fantasy 14: Dawntrail, Foamstars, SaGa: Emerald Beyond, and Visions of Mana.",
          "\"In the short term, our goal will be to enhance our development productivity and achieve greater sophistication in our marketing efforts,\" Kiryu continuted.",
          "There is also a desire to put plans in place to ensure for easier and greater collaboration between the development and publishing teams at Square Enix in hopes this will make its \"customers even happier than ever before.\"",
          "You can read the full New Year's Letter from Takashi Kiryu here.",
          "But while Square Enix may be keen, there are many out there that are still sceptical about AI and its implications across the industry.",
          "[39][40][41] Previously, on January 1, 2024, Square Enix president Takashi Kiryu stated in a new year letter that the company will be \"aggressive in applying AI and other cutting-edge technologies to both [their] content development and [their] publishing functions\".",
          "Details of the company's Web3 experience Symbiogenesis were revealed last year and Final Fantasy 7 trading card NFTs were released, but news of both has since gone quiet.",
          "Perhaps it's telling that Kiryu only briefly mentioned blockchain technology in this year's letter.",
          "\"Last year we redefined our overarching mission and goals for these three fields.",
          "In turn, Kiryu and Square Enix plan to be, as previously mentioned, \"aggressive in applying AI and other cutting-edge technologies to both our content development and our publishing functions.\"",
          "\"In the short term, our goal will be to enhance our development productivity and achieve greater sophistication in our marketing efforts.",
          "While they don't have dates, Dragon Quest III HD-2D Remake, Dragon Quest XII, and Kingdom Hearts 4 are also on the way in 2024 or beyond.",
          "These New Year's Letters have become a staple of New Year's Day recently, and previous ones have discussed the desire to explore NFTs, blockchain games, the metaverse, and more.",
          "CEO Takashi Kiryu has shared his annual new year letter, setting the tone for the company in 2024.",
          "This news comes weeks after the company's CEO Takashi Kiryu said Square Enix will be \"aggressive in applying AI\" in his annual new year letter.",
          "The team hopes this will allow them to not only gives them the chance to \"maximize our sales of new titles, but also to deliver our rich back catalog to more customers and in turn to expand the fan base for our Group’s intellectual properties (IPs).\"",
          "Meanwhile, head of PlayStation Productions and head of product at PlayStation Studios Asad Qizilbash weighed in on AI to say its use in video games is important to Gen Z and Gen Alpha gamers who seek \"personalization across everything.\"",
          "In the longer term, we hope to leverage those technologies to create new forms of content for consumers, as we believe that technological innovation represents business opportunities,” the letter read.",
          "The inclusion of AI in Foamstars is perhaps unsurprising given Square Enix president Takashi Kiryu said in January 2024 that the company will be \"aggressive in applying AI and other cutting-edge technologies to both our content development and our publishing functions.\"",
          "\"Square Enix President States the Company Will Be 'Aggressive in Applying AI'\".",
          "The 2023 new year letter was written by then-CEO Yosuke Matsuda, which doubled down on blockchain technology and NFTs.",
          "We are currently working to modify our organisational structure and optimise our resource allocations to support these efforts.\"",
          "Square Enix will be \"aggressive in applying AI\" and other \"cutting-edge technologies\" to its development and publishing functions.",
          "Earlier this month, Nintendo president Shuntaro Furukawa was asked about the company’s initiatives involving AI.",
          "As for Blockchain, Kiryu added that Blockchain entertainment/Web 3.0, AI, and the Cloud are three of Square Enix's main \"focus investment fields,\" and that it is \"currently working to modify our organizational structure and optimize our resource allocations to support these efforts.\"",
          "Square Enix intends to be \"aggressive in applying AI\", says CEO\n\"We hope to leverage those technologies to create new forms of content for consumers.\"",
          "“In the short term, our goal will be to enhance our development productivity and achieve greater sophistication in our marketing efforts.",
          "\"In terms of new business domains, we previously identified three focus investment fields, namely blockchain entertainment/Web 3.0, AI, and the cloud,\" he said.",
          "Later in the letter Kiryu outlined the company's plans for 2024.",
          "The use of AI is certainly growing in the games industry, so Square Enix is not alone in its plans.",
          "\"We also intend to be aggressive in applying AI and other cutting-edge technologies to both our content development and our publishing functions,\" he said.",
          "\"Blockchain has been an object of exhilaration and a source of turmoil, but with that in the rearview mirror, we hope that blockchain games will transition to a new stage of growth in 2023,\" said Matsuda, acknowledging the \"sombre string of news stories with blockchain connections\" in 2022.",
          "Square Enix president Takashi Kiryu has penned a New Year's Letter that outlines some of his vision for the company, and it reveals it plans to \"be aggressive in applying AI and other cutting-edge technologies to both our content development and our publishing functions.\"",
          "The outline also includes a short mention of blockchain technology.",
          "On the publishing front, Kiryu reveals the company wants to \"enable greater global collaboration and to promote the shift to digital.\"",
          "“However, we did want to experiment with AI as well.”\nEarlier this year, Square Enix president Takashi Kiryu said in his New Year’s Day letter that Square Enix intends to be “aggressive” in its use of AI in development and publishing."
         ],
         "marker": {
          "opacity": 0.5,
          "size": 5
         },
         "mode": "markers+text",
         "name": "Square Enix's AI and Tech Strategy",
         "text": [
          "",
          "",
          "",
          "",
          "",
          "",
          "",
          "",
          "",
          "",
          "",
          "",
          "",
          "",
          "",
          "",
          "",
          "",
          "",
          "",
          "",
          "",
          "",
          "",
          "",
          "",
          "",
          "",
          "",
          "",
          "",
          "",
          "",
          "",
          "",
          "",
          "",
          ""
         ],
         "textfont": {
          "size": 12
         },
         "type": "scattergl",
         "x": {
          "bdata": "G5gHwJBKAcDmTAvAbMskwAPxD8CZNxbAml8GwFhSDcDmdgrAG40VwIqiJ8C7jRDA7KslwGc6CsBlLBXAOGwXwDEmCsDo2BvAECAAwHiAIMAcWPy/S+gHwJ2RE8DMSijAreYKwKD1B8CY0wzAv6EMwEQ7JsAxHBrARp0WwGEGB8AeLhjAlr4UwA7hDsBBVhfAzzIXwE7yBcA=",
          "dtype": "f4"
         },
         "y": {
          "bdata": "tUIxQYLyL0E4tzNBnOExQTEkMkFq5zRBVAMxQRv3MkHIQDRBVZs1QRHNMUFsNDJBvboxQZkNM0G7SjVBQmM0QRcoMkG/vTFBN4svQZoCMUEfWjJBgnQxQR5GNUHQozFBVH8xQcl7MUFInTNBnBQxQZLDMUFgWTJBQss0QVgwMUGIyDBB3y81QY5vM0EKIjVBYr0yQbIRMUE=",
          "dtype": "f4"
         }
        },
        {
         "hoverinfo": "text",
         "hovertext": [
          "One poster appears to depict a group of soldiers in a tank-like raft preparing to fire on a large swan, an image which does not resemble the events of the film.",
          "- ^ \"Late Night with the Devil: The Horror Film with Horrifying Implications\".",
          "[49]\nSome streaming services such as Amazon Prime Video have used AI to generate posters and thumbnail images in a manner that can be described as slop.",
          "- ^ \"'Murderesses': MagentaTV entfernt Serie mit KI-Synchronisation\".",
          "Here’s a taste of the AI-generated script: “I had to say, ‘There is a man who lives here.",
          "- ^ \"Paramount skips voice actors, opting for shockingly bad AI slop in 'Novocaine' film promo\".",
          "Hipster movie production company A24, meanwhile, was called out for using AI to create promotional posters for Alex Garland’s dystopian film Civil War.",
          "[22] The ad uses a robotic AI voice in a style similar to low-quality AI spam videos produced by content farms.",
          "In a recent Instagram post, users sighted a reel promoting the film that blatantly utilizes AI scripting and narration - a content style that's lazy enough from spam accounts and content farms, let alone a major film production company.",
          "A24 received similar backlash for releasing a series of AI-generated posters for the 2024 film Civil War.",
          "One synopsis briefly listed on the site for the film Dog Day Afternoon read: \"A man takes hostages at a bank in Brooklyn.",
          "A low-quality AI poster was used for the 1922 film Nosferatu, depicting Count Orlok in a way that does not resemble his look in the film.",
          "The film Late Night with the Devil was notable for its use of AI, which some criticized as being AI slop.",
          "The script itself feels stilted and detached, raising the obvious question: why wouldn't Paramount just hire a voice actor?",
          "[51][52] Additionally, some viewers have noticed that many plot descriptions appear to be generated by AI, which some people have characterized as slop.",
          "- ^ \"The mystery of Amazon Freevee's A.I.-generated 12 Angry Men poster\".",
          "Paramount Pictures appears to be experimenting with cheap AI-generated content based on its promotion for the film Novocaine, an action-thriller starring Jack Quaid set to release on Friday.",
          "While budgets for film and marketing campaigns are complex, it is difficult to justify a corporation of this scale opting for AI-generated narration over human talent.",
          "Nonetheless, if major studios are willing to push out content at the expense of quality and creativity - it raises the question of how much further they'd be willing to go.",
          "In the most recent season of True Detective, a heavy-metal poster in the background of one scene was obviously and cheaply AI-generated.",
          "\"[53]\nIn one case Deutsche Telekom removed a series from their media offer after viewers complained about the bad quality and monotonous German voice dubbing (translated from original Polish) and it was found out that it was done via AI.",
          "(The showrunner insisted the poster was diegetically AI-generated.)",
          "[21]\nIn March 2025, Paramount Pictures was criticized for using AI scripting and narration in an Instagram video promoting the film Novocaine.",
          "The irony is that AI-generated marketing is a terrible strategy for a film release.",
          "\"A24's lacklustre Civil War ads are the latest example of AI-generated slop\".",
          "- ^ \"Amazon Mocked for Slapping AI-Generated Poster on Beloved 1922 Film \"Nosferatu\"\".",
          "This week, the Labour Party has faced criticism for its TikTok video featuring AI-generated animals.",
          "It drains any creative spark, making the movie feel cheap and uninspired.",
          "In film and television\n[edit]Some films have received backlash for including AI-generated content.",
          "- ^ \"Shudder Just Quietly Released the Most Controversial Thriller of the Year\".",
          "\"Surely they could’ve afforded to hire actors/designers/editors/etc.",
          "- ^ \"Amazon's Prime Video Appears to Have Left AI Slop in the Public Description of an Oscar-Winning Al Pacino Film\".",
          "[50] A thumbnail image for 12 Angry Men on Amazon Freevee used AI to depict 19 men with smudged faces, none of whom appeared to bear any similarities to the characters in the film.",
          "The most jarring aspect of this promotion is the voiceover.",
          "For context, Paramount Global is a company valued at $13.6 billion."
         ],
         "marker": {
          "opacity": 0.5,
          "size": 5
         },
         "mode": "markers+text",
         "name": "Paramount's AI-Generated Film Content",
         "text": [
          "",
          "",
          "",
          "",
          "",
          "",
          "",
          "",
          "",
          "",
          "",
          "",
          "",
          "",
          "",
          "",
          "",
          "",
          "",
          "",
          "",
          "",
          "",
          "",
          "",
          "",
          "",
          "",
          "",
          "",
          "",
          "",
          "",
          "",
          ""
         ],
         "textfont": {
          "size": 12
         },
         "type": "scattergl",
         "x": {
          "bdata": "FDKEwOeDhMCYLIfAGmKGwK/PgMCbJoHAcuKDwDN+gMAdyoHAMqSDwAbWhsCrrIXAgHuCwAKoecCwPYjARNmFwIe0gcDnk33Amdh8wOvrhcCqTIfArEOFwNm6gcA+eIHAlkmDwCvMhcBZuF3AVyB+wKWxhcA3NIXA20ZvwEQrhsC8c4XALV56wNV3gMA=",
          "dtype": "f4"
         },
         "y": {
          "bdata": "tqyPQKbVjkAMaJFArmCQQPZim0A1gpJAjTyPQMS6m0CLwpJAeWuQQI7+j0BQzI5Ax3WSQOxQk0CUTpJAQ46PQC33kkDwKpVAWsyZQIsWj0AoFpFAhpWPQFJYk0AvypJATVmQQPPEj0D3M2xA53GSQJDTkUA7Po5Ar8OTQCICkEDrX49ANLqUQBEulkA=",
          "dtype": "f4"
         }
        },
        {
         "hoverinfo": "text",
         "hovertext": [
          "- ^ Knibbs, Kate.",
          "- ^ Vadukul, Alex (20 November 2024).",
          "- ^ Warzel, Charlie (21 August 2024).",
          "- ^ Yin-Poole, Wesley (24 July 2024).",
          "- ^ O'Shea, Kerry (31 October 2024).",
          "- ^ Phillips, Tom (3 March 2025).",
          "- ^ Stedman, Alex (16 November 2024).",
          "- ^ Maker, Paul (9 January 2025).",
          "- ^ Bankhurst, Adam (1 January 2024).",
          "- ^ a b Koebler, Jason (6 August 2024).",
          "- ^ John, Daniel (12 June 2024).",
          "- ^ a b Field, Matthew (1 January 2025).",
          "- ^ Murphy, Chris (29 February 2024).",
          "- ^ Warzel, Charlie (21 October 2024).",
          "- ^ Yin-Poole, Wesley (9 December 2024).",
          "- ^ Maiberg, Emanuel (4 February 2025).",
          "- ^ Davis, Barney (1 November 2024).",
          "- ^ Phillips, Tom (4 March 2025).",
          "- ^ Tang, Jiaru; Wikström, Patrik (19 September 2024).",
          "- ^ Warzel, Charlie (10 October 2024).",
          "- ^ Kalita, Parash Jyoti (1 November 2024).",
          "- ^ Nightingale, Ed Nightingale (Deputy News) (2 January 2024).",
          "- ^ Koebler, Jason (8 October 2024).",
          "- ^ Hughes, Johnny (3 September 2024).",
          "- ^ Fleck, Holly (2 November 2024).",
          "- ^ a b c d e Read, Max (25 September 2024).",
          "- ^ Gault, Matthew (7 August 2024).",
          "- ^ Hüsmen, Arife (November 2024).",
          "- ^ Notopoulos, Katie.",
          "- ^ Parrish, Ash (16 January 2024).",
          "- ^ Currie, Richard (28 February 2024).",
          "- ^ Shankar, Bradly (18 April 2024).",
          "- ^ Robins-Early, Nick (26 August 2024)."
         ],
         "marker": {
          "opacity": 0.5,
          "size": 5
         },
         "mode": "markers+text",
         "name": "2024 Tech and Media Coverage",
         "text": [
          "",
          "",
          "",
          "",
          "",
          "",
          "",
          "",
          "",
          "",
          "",
          "",
          "",
          "",
          "",
          "",
          "",
          "",
          "",
          "",
          "",
          "",
          "",
          "",
          "",
          "",
          "",
          "",
          "",
          "",
          "",
          "",
          ""
         ],
         "textfont": {
          "size": 12
         },
         "type": "scattergl",
         "x": {
          "bdata": "FGEKQHx4D0Di2gpAN+oHQFfqFEDewhJAWk8TQDc/FkADsRRAhPcKQH8QE0DcFxRAWEgUQMXvC0BPIwtAoc8LQBRbFEDh5hBA0QwQQKBaDkBTVBBAwyMTQAMXC0AGlhNA/l0UQOZdFEDNWhJAoPIPQLjBCEBNGRVAF+oSQIzVE0BxfBNA",
          "dtype": "f4"
         },
         "y": {
          "bdata": "2hgLQTa3CkEcPwtB+HsLQaIWCUFamQlB84sJQa6YCEF/GQlBMC4LQeGwCUE3PglBPzkJQbsTC0Ew2gpBsBELQYdaCUH/jQlB5GgKQYVyCkF5dwpBKYQJQaEtC0GfcwlBulwJQZ49CUFNtglBxNYKQTyVC0HeDAlBUZEJQTZ3CUE9ZQlB",
          "dtype": "f4"
         }
        },
        {
         "hoverinfo": "text",
         "hovertext": [
          "Square Enix confirmed the use of AI, but defended the decision, saying that they wanted to \"experiment\" with artificial intelligence technologies and claiming that the generated assets make up \"about 0.01% or even less\" of game content.",
          "Everything else was created entirely by our development team.”\nMost Popular\n- Apple is reportedly going to rename all of its operating systems\n- Tested: Nvidia’s GeForce Now just breathed new life into my Steam Deck\n- The plan for nationwide fiber internet might be upended for Starlink\n- US will ban foreign officials to punish countries for social media rules\n- A Kaiser Permanente systems outage had pharmacies relying on pen and paper",
          "Everything else was created entirely by our development team.\"",
          "For more on Foamstars, our Ed has laid out everything you need to know about its season pass and arrival on PlayStation Plus here.",
          "In Foamstars, Square Enix’s forthcoming Splatoon-esque multiplayer game, some of the art you’ll see will be AI-generated.",
          "Square Enix \"dabbled\" with AI technology for Foamstars\nAw, suds!",
          "\"We experimented with Midjourney using simple prompts to produce abstract images,\" Square Enix said.",
          "“All of the core elements in Foamstars — the core gameplay, and the things that make the game enjoyable — those are all made by hand,” Okatani told VGC.",
          "\"[38]\nFoamstars, a multiplayer third-person shooter released by Square Enix in 2024, features in-game music with cover art that was generated using Midjourney.",
          "Speaking to VGC, Foamstars producer Kosuke Okatani confirmed the game — which launches into PlayStation Plus on February 6 — uses AI-generated art for certain assets, but claimed most of the game is made by actual developers.",
          "A Square Enix PR representative further elaborated on Foamstars’ use of AI to VGC: “In this instance, we experimented with Midjourney using simple prompts to produce abstract images.",
          "In a separate statement, Square Enix said AI was used in the \"creation of the in-game album covers for the music featured in the Foamstars soundtrack\".",
          "\"Square Enix says it used AI art in upcoming Foamstars game\".",
          "The PlayStation exclusive, Splatoon-like shooter Foamstars uses artificial intelligence (AI) generated art, developer Square Enix has revealed.",
          "\"All of the core elements in Foamstars - the core gameplay, and the things that make the game enjoyable - those are all made by hand,\" Okatani said.",
          "Everything else was created entirely by our development team,\" it said.",
          "Speaking with VGC, Foamstars producer Kosuke Okatani said the team had \"dabbled\" with AI program Midjourney - a known AI tool that converts text into art - but the majority of the game has been crafted by hand.",
          "Square Enix says it used AI art in upcoming Foamstars game\nFoamstars producer Kosuke Okatani says the AI-generated art accounts for ‘0.01 percent’ of the game’s art.",
          "In terms of the content in the game, this makes up about 0.01% or even less, but we have dabbled in it by creating these icons in the game.\"",
          "We loved what was created and used them as the final album covers players will see in the game.",
          "Square Enix's upcoming team shooter Foamstars will have a small amount of AI art, the developer has said.",
          "\"All of the core elements in Foamstars — the core gameplay, and the things that make the game enjoyable — those are all made by hand,\" he said.",
          "In an interview with VGC, Kosuke Okatani, producer on Foamstars, said that the development team used AI generation tool Midjourney to create in-game art for album covers for the game’s soundtracks but explained that the majority of the game was still made by humans.",
          "According to the developer, the total AI generated work in Foamstars makes up \"about 0.01 percent or even less\" of the game, with Okatani stating Square Enix wanted to \"experiment\" with the technology for its upcoming release.",
          "While Foamstars’ use of AI is centered on images and not voices, Square Enix’s use of Midjourney to generate the images introduces thorny questions regarding copyright infringement.",
          "- ^ \"Square Enix \"dabbled\" with AI technology for Foamstars\".",
          "We loved what was created and used them as the final album covers players will see in the game.",
          "\"We loved what was created and used them as the final album covers players will see in the game.",
          "- ^ \"PlayStation Exclusive Foamstars Has AI-Generated Art, Square Enix Confirms\".",
          "Square Enix used controversial AI tool Midjourney, which turns text prompts into visual art, to create in-game album covers for music tracks.",
          "This only makes up around 0.01% of the game, or even less, Okatani claimed."
         ],
         "marker": {
          "opacity": 0.5,
          "size": 5
         },
         "mode": "markers+text",
         "name": "AI Use in Foamstars Development",
         "text": [
          "",
          "",
          "",
          "",
          "",
          "",
          "",
          "",
          "",
          "",
          "",
          "",
          "",
          "",
          "",
          "",
          "",
          "",
          "",
          "",
          "",
          "",
          "",
          "",
          "",
          "",
          "",
          "",
          "",
          "",
          ""
         ],
         "textfont": {
          "size": 12
         },
         "type": "scattergl",
         "x": {
          "bdata": "GeS5v4i7pL8pn5+/y6TAvxzgwL9JGMy/mjivv1Z0t79HhcC/xxC+v+ZSsr9cybi/VBLEv0fcwb9zbLy/41Wmv4p2ur9ZmLy/7vW6v93Rmr+UNMK/4Y26v52Zt7/Il8K/WXe7v7dzxb90yZe/pSybv2Vswb8zi62//e28vw==",
          "dtype": "f4"
         },
         "y": {
          "bdata": "XygyQRQJMEF6ty9B5V0zQQkJM0FlxTNBT6I0Qdk/MkFNbjNBcTwyQezRNEFz+zJB8IYzQQgfM0FunzJBHsUvQfsaM0HX6zJBQqoyQdgDMkFORDNBeFcyQW70MkFJ7jJBAMAzQXwmM0Fk8jFBlkIyQYwmM0F9ZDRBt4syQQ==",
          "dtype": "f4"
         }
        },
        {
         "hoverinfo": "text",
         "hovertext": [
          "Retrieved 9 May 2025.",
          "Retrieved 5 January 2025.",
          "Retrieved 24 March 2025.",
          "Retrieved 6 February 2025.",
          "Retrieved 24 April 2025.",
          "Retrieved 5 January 2025.",
          "Retrieved 23 March 2025.",
          "Retrieved 31 March 2025.",
          "Retrieved 24 March 2025.",
          "Retrieved 24 March 2025.",
          "Retrieved 24 March 2025.",
          "Retrieved 24 March 2025.",
          "Retrieved 27 March 2025.",
          "Retrieved 9 May 2025.",
          "Retrieved 24 March 2025.",
          "Retrieved 25 April 2025.",
          "Retrieved 3 January 2025.",
          "Retrieved 26 February 2025.",
          "Retrieved 24 March 2025.",
          "Retrieved 31 March 2025.",
          "Retrieved 31 March 2025.",
          "Retrieved 26 February 2025.",
          "Retrieved 26 February 2025.",
          "Retrieved 23 March 2025.",
          "Retrieved 24 March 2025.",
          "Retrieved 5 January 2025.",
          "Retrieved 9 May 2025.",
          "Retrieved 24 April 2025.",
          "Retrieved 27 March 2025.",
          "Retrieved 24 March 2025."
         ],
         "marker": {
          "opacity": 0.5,
          "size": 5
         },
         "mode": "markers+text",
         "name": "2025 Document Retrieval Dates",
         "text": [
          "",
          "",
          "",
          "",
          "",
          "",
          "",
          "",
          "",
          "",
          "",
          "",
          "",
          "",
          "",
          "",
          "",
          "",
          "",
          "",
          "",
          "",
          "",
          "",
          "",
          "",
          "",
          "",
          "",
          ""
         ],
         "textfont": {
          "size": 12
         },
         "type": "scattergl",
         "x": {
          "bdata": "zWSNQesEjUEtLpFByr6MQcgvkEFPB41BujCRQZ1LkUEuRJFBjDCRQccwkUHVLpFBBhyRQfFljUHPOpFBrDGQQWMRjUHjzoxBqUqRQQE/kUHNWJFBws+MQTa7jEHTJ5FBZTORQVUDjUF6ZY1B6/6PQYINkUGBMJFB",
          "dtype": "f4"
         },
         "y": {
          "bdata": "Aj8VQIi6F0CDePU/6oL/PyLTAEAnoxdAJX/1P2EY8j9Q5vQ/PHX1P+Vl9D8VgfU/WTz1PzEuFUDrzPU/7AcBQO5ZF0BpGP4/g433P94C8z95WvE/p9j9PzaE/z/WAfY/OnX1P3DDF0C+PBVAQlgCQKn/9D8Vc/U/",
          "dtype": "f4"
         }
        },
        {
         "hoverinfo": "text",
         "hovertext": [
          "You can reach Wesley at wesley_yinpoole@ign.com or confidentially at wyp100@proton.me.",
          "You can reach Wesley at wesley_yinpoole@ign.com or confidentially at wyp100@proton.me.",
          "Find him on Twitter at @wyp100.",
          "Please send an email to newstips@ign.com.",
          "IGN.",
          "Alex Stedman is a Senior News Editor with IGN, overseeing entertainment reporting.",
          "IGN.",
          "IGN has asked Activision for comment.",
          "IGN.",
          "Find him on Twitter at @wyp100.",
          "Wesley is the UK News Editor for IGN.",
          "IGN.",
          "IGN.",
          "Inverse.",
          "You can follow him on Twitter @AdamBankhurst and on Twitch.",
          "@deepfates\nis now @_deepfates.",
          "Ryan Dinsdale is an IGN freelance reporter.",
          "Adam Bankhurst is a news writer for IGN.",
          "VF investigates.",
          "IGN has asked Activision for comment.",
          "When she's not writing or editing, you can find her reading fantasy novels or playing Dungeons & Dragons."
         ],
         "marker": {
          "opacity": 0.5,
          "size": 5
         },
         "mode": "markers+text",
         "name": "IGN Editorial Contacts and Activision Commentary",
         "text": [
          "",
          "",
          "",
          "",
          "",
          "",
          "",
          "",
          "",
          "",
          "",
          "",
          "",
          "",
          "",
          "",
          "",
          "",
          "",
          "",
          ""
         ],
         "textfont": {
          "size": 12
         },
         "type": "scattergl",
         "x": {
          "bdata": "XJ3lPmNo1T72leE+qRetPmTJDj5AOvM+FnsLPj1pBT54Vgk+sN7mPjWZ7j7oRww+piUIPgGPBD5le/I+0InoPpo26D7QJ/Q+v/UrPmhdDT6iDe0+",
          "dtype": "f4"
         },
         "y": {
          "bdata": "Ao/+QAFt/kAfLP9AzG/7QFxb9UCv+P1AZX31QGAS9UCaRvVAocr+QHOt/kBIW/VAYQL2QB1a9UBlIv5AJPD+QJqI/UA2VP5APHnqQBxx9UD+9P1A",
          "dtype": "f4"
         }
        },
        {
         "hoverinfo": "text",
         "hovertext": [
          "Related topics\n- Published1 November 2024",
          "Retrieved 28 September 2024.",
          "Retrieved 29 September 2024.",
          "Retrieved 15 October 2024.",
          "Retrieved 28 September 2024.",
          "Retrieved 28 September 2024.",
          "Retrieved 15 October 2024.",
          "Retrieved 4 October 2024.",
          "Retrieved 29 September 2024.",
          "Retrieved 4 November 2024.",
          "Retrieved 3 November 2024.",
          "Retrieved 1 November 2024.",
          "Retrieved 14 November 2024.",
          "Retrieved 29 September 2024.",
          "Retrieved 29 September 2024.",
          "Retrieved 4 November 2024.",
          "Retrieved 29 September 2024.",
          "Retrieved 4 October 2024.",
          "Retrieved 1 November 2024.",
          "Retrieved 6 October 2024."
         ],
         "marker": {
          "opacity": 0.5,
          "size": 5
         },
         "mode": "markers+text",
         "name": "2024 Document Retrieval Timeline",
         "text": [
          "",
          "",
          "",
          "",
          "",
          "",
          "",
          "",
          "",
          "",
          "",
          "",
          "",
          "",
          "",
          "",
          "",
          "",
          "",
          ""
         ],
         "textfont": {
          "size": 12
         },
         "type": "scattergl",
         "x": {
          "bdata": "zb8/QbAm9kA4JvZARjc/QSUn9kBzJvZA9nA/QTlbP0EJJvZAOb8/Qd/HP0Gtpj9BOY1AQRMm9kCPJvZAdL8/QWMm9kAyiD9BLbE/Qd6DP0E=",
          "dtype": "f4"
         },
         "y": {
          "bdata": "eZV6QBId/78fHP+/uRV9QMcf/79JHP+/bS58QLx4fEBMG/+/6sV6QP+mekBFLHtAd5Z3QHUb/79GHf+/8cJ6QLgc/7/pwXtAVPx6QEHWe0A=",
          "dtype": "f4"
         }
        },
        {
         "hoverinfo": "text",
         "hovertext": [
          "1 November 2024.",
          "20 November 2024.",
          "4 February 2025.",
          "2 November 2024.",
          "19 April 2024.",
          "10 March 2025.",
          "25 February 2025.",
          "16 January 2024.",
          "7 January 2025.",
          "19 February 2025.",
          "24 July 2024.",
          "16 January 2024.",
          "But, in 2024, what fans unwrapped was a little underwhelming.",
          "1 November 2024.",
          "11 June 2024.",
          "18 November 2024.",
          "4 October 2024.",
          "But, in 2024, what fans unwrapped was a little underwhelming.",
          "15 April 2025.",
          "30 June 2024."
         ],
         "marker": {
          "opacity": 0.5,
          "size": 5
         },
         "mode": "markers+text",
         "name": "2024 Fans Unwrapping Reaction",
         "text": [
          "",
          "",
          "",
          "",
          "",
          "",
          "",
          "",
          "",
          "",
          "",
          "",
          "",
          "",
          "",
          "",
          "",
          "",
          "",
          ""
         ],
         "textfont": {
          "size": 12
         },
         "type": "scattergl",
         "x": {
          "bdata": "8PXOQLynzUDfdNJA4g7OQLEozUDNpdJAMirSQPFczUAkaNFA15HSQHoazUDadM1AR7rKQDJvzkCvls1AAATNQEFGzUAeq8tAPmrSQNbjzEA=",
          "dtype": "f4"
         },
         "y": {
          "bdata": "UYs6QDroPEBTyjRAniU8QAvYPUDZcDRAuVM1QB9nPUD3wzZADJQ0QBfMPUAcQD1AbE5BQKKEO0B1Bz1AQdk9QPGEPUC0cT9AztE0QBpfPkA=",
          "dtype": "f4"
         }
        },
        {
         "hoverinfo": "text",
         "hovertext": [
          "Don’t worry.",
          "I just want to say that people should not judge so soon.",
          "Exactly, yes, we humanized it.",
          "It’s not really passive income, either.",
          "Definitely.",
          "That’s it.",
          "Yikes.",
          "Yes.",
          "Is that true?",
          "No, there is nothing.",
          "Not really, no.",
          "Yes.",
          "OK. Is there anything else you think people have gotten wrong about you?",
          "Thank you.",
          "Well, I’m glad you didn’t do that.",
          "I appreciate that.",
          "Is there anything you could try to do to prevent that?",
          "Definitely."
         ],
         "marker": {
          "opacity": 0.5,
          "size": 5
         },
         "mode": "markers+text",
         "name": "Misjudgments and Humanization",
         "text": [
          "",
          "",
          "",
          "",
          "",
          "",
          "",
          "",
          "",
          "",
          "",
          "",
          "",
          "",
          "",
          "",
          "",
          ""
         ],
         "textfont": {
          "size": 12
         },
         "type": "scattergl",
         "x": {
          "bdata": "Rp+2v5+W+r/6xXPAIZO5v3b2zb9y3Lu/CfbUv7Wczb8yOdC/FIbHv9pRw79vqc6/JlbWvxQ7xL9bRaW/x0rDvzrSyr+FLc2/",
          "dtype": "f4"
         },
         "y": {
          "bdata": "ilOuQIfAsEA8BLVAJ1akQJ6Io0C+kLFArLSfQGtypEAlm6tA78qtQAzapkAivKNA+6qnQFdgpECJPaZAirKlQLZgrkAtWqRA",
          "dtype": "f4"
         }
        },
        {
         "hoverinfo": "text",
         "hovertext": [
          "Advertisement",
          "404 Media.",
          "Have a tip for us?",
          "in its ads.",
          "®",
          "Want to discuss a possible story?",
          "The original post continues below.",
          "The full article is available here.",
          "404 Media.",
          "Advertisement",
          "404 Media.",
          "Let us know in the comments below!",
          "Buried in the middle of the 404 Media story is a telling exchange.",
          ".",
          "Advertisement",
          "Advertisement"
         ],
         "marker": {
          "opacity": 0.5,
          "size": 5
         },
         "mode": "markers+text",
         "name": "404 Media Advertising and Storytelling",
         "text": [
          "",
          "",
          "",
          "",
          "",
          "",
          "",
          "",
          "",
          "",
          "",
          "",
          "",
          "",
          "",
          ""
         ],
         "textfont": {
          "size": 12
         },
         "type": "scattergl",
         "x": {
          "bdata": "Txixv/t4x7/Rco2/2Yewv6c+sL8z+pS/WP64v0Kfyr8Sd8e/pOuyvyK9yL/V75O/h0/Hv3KNp78257C/Qduwvw==",
          "dtype": "f4"
         },
         "y": {
          "bdata": "AbzfQKBp5kDYG9FAVZbfQEfZ30Cuh81A35TVQAau0UBWWOZANS/gQBf85kDQ2tBAynPmQIWM3kDHyt9A4KnfQA==",
          "dtype": "f4"
         }
        },
        {
         "hoverinfo": "text",
         "hovertext": [
          "The game is now available for Android as a soft launch in the US for Android.",
          "Read other related articles:\n- Girls’ Frontline to suspend service in China, servers to shut down on December 31, 2024\n- The King of Fighters ALLSTAR has shut down on October 30, 2024\n- Pokémon Masters EX is set to shutdown in Vietnam on November 27, 2024\n- Pokémon UNITE ACL 2025 India League: Teams, Format, Prize pool, and more\n- Miraibo GO Abyssal Souls Season this October 2024 brings new gameplay elements\nWhat are your thoughts as Angry Birds Block Quest has recently soft-launched in the US?",
          "- ^ \"Angry Birds Block Quest Soft Launches on Android, Sparking Debate Over Generative AI Content -\".",
          "- There is currently no information about its release in other regions or for iOS.",
          "- ^ \"Angry Birds Block Quest - Soft launch for Android in the US\".",
          "Rovio Entertainment Corporation has indicated that they may release periodic updates for the game to add new features, and content, and fix bugs and other technical issues.",
          "Rovio Entertainment Corporation has announced the launch of their latest casual puzzle title, Angry Birds Block Quest, which has now soft-launched for Android in the US.",
          "- Angry Birds Block Quest is a block puzzle game and the newest entry in the Angry Birds franchise.",
          "Perfect your block placement skills in Angry Birds Block Quest\nAngry Birds Block Quest is a block puzzle title and the latest addition to the Angry Birds franchise.",
          "\"Angry Birds Block Quest: Rovio's latest title in the franchise has soft-launched for Android in the US\".",
          "If you are residing in America, you can access the game via your respective Google Play Stores.",
          "Please keep in mind that the game may not function properly if you don’t have the latest version installed.",
          "The game being a block puzzle title, incorporates the old-school brick game gameplay with your favorite Angry Birds.",
          "In this game, you will navigate your way through innovative levels while enjoying satisfying mechanics with classic Angry Birds characters.",
          "[42][43]\nIn 2024, Rovio Entertainment released a demo of a mobile game called Angry Birds: Block Quest on Android.",
          "However, the devs have yet to specify any information regarding the game’s global or iOS release."
         ],
         "marker": {
          "opacity": 0.5,
          "size": 5
         },
         "mode": "markers+text",
         "name": "Angry Birds Block Puzzle Launch",
         "text": [
          "",
          "",
          "",
          "",
          "",
          "",
          "",
          "",
          "",
          "",
          "",
          "",
          "",
          "",
          "",
          ""
         ],
         "textfont": {
          "size": 12
         },
         "type": "scattergl",
         "x": {
          "bdata": "D6ybwA3HnMAxLZzAgP2XwEXpm8A8ypvAQXScwKjfnMDttZvAdvGbwG6DmsADbJrAXKKcwEU8nMCINpzADKOYwA==",
          "dtype": "f4"
         },
         "y": {
          "bdata": "gj3IP1h1wz94tMU/1IvbP9GRxz9+S8c/I8XEP7KTwj/YbMc/aNrGP5fHzD+zEM0/cVnDP144xT8DRsc/SaHYPw==",
          "dtype": "f4"
         }
        }
       ],
       "layout": {
        "annotations": [
         {
          "showarrow": false,
          "text": "D1",
          "x": -10.090208768844604,
          "y": 5.405471989512444,
          "yshift": 10
         },
         {
          "showarrow": false,
          "text": "D2",
          "x": 5.40170247554779,
          "xshift": 10,
          "y": 13.103074836730958
         }
        ],
        "height": 750,
        "shapes": [
         {
          "line": {
           "color": "#CFD8DC",
           "width": 2
          },
          "type": "line",
          "x0": 5.40170247554779,
          "x1": 5.40170247554779,
          "y0": -2.29213085770607,
          "y1": 13.103074836730958
         },
         {
          "line": {
           "color": "#9E9E9E",
           "width": 2
          },
          "type": "line",
          "x0": -10.090208768844604,
          "x1": 20.893613719940184,
          "y0": 5.405471989512444,
          "y1": 5.405471989512444
         }
        ],
        "template": {
         "data": {
          "bar": [
           {
            "error_x": {
             "color": "rgb(36,36,36)"
            },
            "error_y": {
             "color": "rgb(36,36,36)"
            },
            "marker": {
             "line": {
              "color": "white",
              "width": 0.5
             },
             "pattern": {
              "fillmode": "overlay",
              "size": 10,
              "solidity": 0.2
             }
            },
            "type": "bar"
           }
          ],
          "barpolar": [
           {
            "marker": {
             "line": {
              "color": "white",
              "width": 0.5
             },
             "pattern": {
              "fillmode": "overlay",
              "size": 10,
              "solidity": 0.2
             }
            },
            "type": "barpolar"
           }
          ],
          "carpet": [
           {
            "aaxis": {
             "endlinecolor": "rgb(36,36,36)",
             "gridcolor": "white",
             "linecolor": "white",
             "minorgridcolor": "white",
             "startlinecolor": "rgb(36,36,36)"
            },
            "baxis": {
             "endlinecolor": "rgb(36,36,36)",
             "gridcolor": "white",
             "linecolor": "white",
             "minorgridcolor": "white",
             "startlinecolor": "rgb(36,36,36)"
            },
            "type": "carpet"
           }
          ],
          "choropleth": [
           {
            "colorbar": {
             "outlinewidth": 1,
             "tickcolor": "rgb(36,36,36)",
             "ticks": "outside"
            },
            "type": "choropleth"
           }
          ],
          "contour": [
           {
            "colorbar": {
             "outlinewidth": 1,
             "tickcolor": "rgb(36,36,36)",
             "ticks": "outside"
            },
            "colorscale": [
             [
              0,
              "#440154"
             ],
             [
              0.1111111111111111,
              "#482878"
             ],
             [
              0.2222222222222222,
              "#3e4989"
             ],
             [
              0.3333333333333333,
              "#31688e"
             ],
             [
              0.4444444444444444,
              "#26828e"
             ],
             [
              0.5555555555555556,
              "#1f9e89"
             ],
             [
              0.6666666666666666,
              "#35b779"
             ],
             [
              0.7777777777777778,
              "#6ece58"
             ],
             [
              0.8888888888888888,
              "#b5de2b"
             ],
             [
              1,
              "#fde725"
             ]
            ],
            "type": "contour"
           }
          ],
          "contourcarpet": [
           {
            "colorbar": {
             "outlinewidth": 1,
             "tickcolor": "rgb(36,36,36)",
             "ticks": "outside"
            },
            "type": "contourcarpet"
           }
          ],
          "heatmap": [
           {
            "colorbar": {
             "outlinewidth": 1,
             "tickcolor": "rgb(36,36,36)",
             "ticks": "outside"
            },
            "colorscale": [
             [
              0,
              "#440154"
             ],
             [
              0.1111111111111111,
              "#482878"
             ],
             [
              0.2222222222222222,
              "#3e4989"
             ],
             [
              0.3333333333333333,
              "#31688e"
             ],
             [
              0.4444444444444444,
              "#26828e"
             ],
             [
              0.5555555555555556,
              "#1f9e89"
             ],
             [
              0.6666666666666666,
              "#35b779"
             ],
             [
              0.7777777777777778,
              "#6ece58"
             ],
             [
              0.8888888888888888,
              "#b5de2b"
             ],
             [
              1,
              "#fde725"
             ]
            ],
            "type": "heatmap"
           }
          ],
          "histogram": [
           {
            "marker": {
             "line": {
              "color": "white",
              "width": 0.6
             }
            },
            "type": "histogram"
           }
          ],
          "histogram2d": [
           {
            "colorbar": {
             "outlinewidth": 1,
             "tickcolor": "rgb(36,36,36)",
             "ticks": "outside"
            },
            "colorscale": [
             [
              0,
              "#440154"
             ],
             [
              0.1111111111111111,
              "#482878"
             ],
             [
              0.2222222222222222,
              "#3e4989"
             ],
             [
              0.3333333333333333,
              "#31688e"
             ],
             [
              0.4444444444444444,
              "#26828e"
             ],
             [
              0.5555555555555556,
              "#1f9e89"
             ],
             [
              0.6666666666666666,
              "#35b779"
             ],
             [
              0.7777777777777778,
              "#6ece58"
             ],
             [
              0.8888888888888888,
              "#b5de2b"
             ],
             [
              1,
              "#fde725"
             ]
            ],
            "type": "histogram2d"
           }
          ],
          "histogram2dcontour": [
           {
            "colorbar": {
             "outlinewidth": 1,
             "tickcolor": "rgb(36,36,36)",
             "ticks": "outside"
            },
            "colorscale": [
             [
              0,
              "#440154"
             ],
             [
              0.1111111111111111,
              "#482878"
             ],
             [
              0.2222222222222222,
              "#3e4989"
             ],
             [
              0.3333333333333333,
              "#31688e"
             ],
             [
              0.4444444444444444,
              "#26828e"
             ],
             [
              0.5555555555555556,
              "#1f9e89"
             ],
             [
              0.6666666666666666,
              "#35b779"
             ],
             [
              0.7777777777777778,
              "#6ece58"
             ],
             [
              0.8888888888888888,
              "#b5de2b"
             ],
             [
              1,
              "#fde725"
             ]
            ],
            "type": "histogram2dcontour"
           }
          ],
          "mesh3d": [
           {
            "colorbar": {
             "outlinewidth": 1,
             "tickcolor": "rgb(36,36,36)",
             "ticks": "outside"
            },
            "type": "mesh3d"
           }
          ],
          "parcoords": [
           {
            "line": {
             "colorbar": {
              "outlinewidth": 1,
              "tickcolor": "rgb(36,36,36)",
              "ticks": "outside"
             }
            },
            "type": "parcoords"
           }
          ],
          "pie": [
           {
            "automargin": true,
            "type": "pie"
           }
          ],
          "scatter": [
           {
            "fillpattern": {
             "fillmode": "overlay",
             "size": 10,
             "solidity": 0.2
            },
            "type": "scatter"
           }
          ],
          "scatter3d": [
           {
            "line": {
             "colorbar": {
              "outlinewidth": 1,
              "tickcolor": "rgb(36,36,36)",
              "ticks": "outside"
             }
            },
            "marker": {
             "colorbar": {
              "outlinewidth": 1,
              "tickcolor": "rgb(36,36,36)",
              "ticks": "outside"
             }
            },
            "type": "scatter3d"
           }
          ],
          "scattercarpet": [
           {
            "marker": {
             "colorbar": {
              "outlinewidth": 1,
              "tickcolor": "rgb(36,36,36)",
              "ticks": "outside"
             }
            },
            "type": "scattercarpet"
           }
          ],
          "scattergeo": [
           {
            "marker": {
             "colorbar": {
              "outlinewidth": 1,
              "tickcolor": "rgb(36,36,36)",
              "ticks": "outside"
             }
            },
            "type": "scattergeo"
           }
          ],
          "scattergl": [
           {
            "marker": {
             "colorbar": {
              "outlinewidth": 1,
              "tickcolor": "rgb(36,36,36)",
              "ticks": "outside"
             }
            },
            "type": "scattergl"
           }
          ],
          "scattermap": [
           {
            "marker": {
             "colorbar": {
              "outlinewidth": 1,
              "tickcolor": "rgb(36,36,36)",
              "ticks": "outside"
             }
            },
            "type": "scattermap"
           }
          ],
          "scattermapbox": [
           {
            "marker": {
             "colorbar": {
              "outlinewidth": 1,
              "tickcolor": "rgb(36,36,36)",
              "ticks": "outside"
             }
            },
            "type": "scattermapbox"
           }
          ],
          "scatterpolar": [
           {
            "marker": {
             "colorbar": {
              "outlinewidth": 1,
              "tickcolor": "rgb(36,36,36)",
              "ticks": "outside"
             }
            },
            "type": "scatterpolar"
           }
          ],
          "scatterpolargl": [
           {
            "marker": {
             "colorbar": {
              "outlinewidth": 1,
              "tickcolor": "rgb(36,36,36)",
              "ticks": "outside"
             }
            },
            "type": "scatterpolargl"
           }
          ],
          "scatterternary": [
           {
            "marker": {
             "colorbar": {
              "outlinewidth": 1,
              "tickcolor": "rgb(36,36,36)",
              "ticks": "outside"
             }
            },
            "type": "scatterternary"
           }
          ],
          "surface": [
           {
            "colorbar": {
             "outlinewidth": 1,
             "tickcolor": "rgb(36,36,36)",
             "ticks": "outside"
            },
            "colorscale": [
             [
              0,
              "#440154"
             ],
             [
              0.1111111111111111,
              "#482878"
             ],
             [
              0.2222222222222222,
              "#3e4989"
             ],
             [
              0.3333333333333333,
              "#31688e"
             ],
             [
              0.4444444444444444,
              "#26828e"
             ],
             [
              0.5555555555555556,
              "#1f9e89"
             ],
             [
              0.6666666666666666,
              "#35b779"
             ],
             [
              0.7777777777777778,
              "#6ece58"
             ],
             [
              0.8888888888888888,
              "#b5de2b"
             ],
             [
              1,
              "#fde725"
             ]
            ],
            "type": "surface"
           }
          ],
          "table": [
           {
            "cells": {
             "fill": {
              "color": "rgb(237,237,237)"
             },
             "line": {
              "color": "white"
             }
            },
            "header": {
             "fill": {
              "color": "rgb(217,217,217)"
             },
             "line": {
              "color": "white"
             }
            },
            "type": "table"
           }
          ]
         },
         "layout": {
          "annotationdefaults": {
           "arrowhead": 0,
           "arrowwidth": 1
          },
          "autotypenumbers": "strict",
          "coloraxis": {
           "colorbar": {
            "outlinewidth": 1,
            "tickcolor": "rgb(36,36,36)",
            "ticks": "outside"
           }
          },
          "colorscale": {
           "diverging": [
            [
             0,
             "rgb(103,0,31)"
            ],
            [
             0.1,
             "rgb(178,24,43)"
            ],
            [
             0.2,
             "rgb(214,96,77)"
            ],
            [
             0.3,
             "rgb(244,165,130)"
            ],
            [
             0.4,
             "rgb(253,219,199)"
            ],
            [
             0.5,
             "rgb(247,247,247)"
            ],
            [
             0.6,
             "rgb(209,229,240)"
            ],
            [
             0.7,
             "rgb(146,197,222)"
            ],
            [
             0.8,
             "rgb(67,147,195)"
            ],
            [
             0.9,
             "rgb(33,102,172)"
            ],
            [
             1,
             "rgb(5,48,97)"
            ]
           ],
           "sequential": [
            [
             0,
             "#440154"
            ],
            [
             0.1111111111111111,
             "#482878"
            ],
            [
             0.2222222222222222,
             "#3e4989"
            ],
            [
             0.3333333333333333,
             "#31688e"
            ],
            [
             0.4444444444444444,
             "#26828e"
            ],
            [
             0.5555555555555556,
             "#1f9e89"
            ],
            [
             0.6666666666666666,
             "#35b779"
            ],
            [
             0.7777777777777778,
             "#6ece58"
            ],
            [
             0.8888888888888888,
             "#b5de2b"
            ],
            [
             1,
             "#fde725"
            ]
           ],
           "sequentialminus": [
            [
             0,
             "#440154"
            ],
            [
             0.1111111111111111,
             "#482878"
            ],
            [
             0.2222222222222222,
             "#3e4989"
            ],
            [
             0.3333333333333333,
             "#31688e"
            ],
            [
             0.4444444444444444,
             "#26828e"
            ],
            [
             0.5555555555555556,
             "#1f9e89"
            ],
            [
             0.6666666666666666,
             "#35b779"
            ],
            [
             0.7777777777777778,
             "#6ece58"
            ],
            [
             0.8888888888888888,
             "#b5de2b"
            ],
            [
             1,
             "#fde725"
            ]
           ]
          },
          "colorway": [
           "#1F77B4",
           "#FF7F0E",
           "#2CA02C",
           "#D62728",
           "#9467BD",
           "#8C564B",
           "#E377C2",
           "#7F7F7F",
           "#BCBD22",
           "#17BECF"
          ],
          "font": {
           "color": "rgb(36,36,36)"
          },
          "geo": {
           "bgcolor": "white",
           "lakecolor": "white",
           "landcolor": "white",
           "showlakes": true,
           "showland": true,
           "subunitcolor": "white"
          },
          "hoverlabel": {
           "align": "left"
          },
          "hovermode": "closest",
          "mapbox": {
           "style": "light"
          },
          "paper_bgcolor": "white",
          "plot_bgcolor": "white",
          "polar": {
           "angularaxis": {
            "gridcolor": "rgb(232,232,232)",
            "linecolor": "rgb(36,36,36)",
            "showgrid": false,
            "showline": true,
            "ticks": "outside"
           },
           "bgcolor": "white",
           "radialaxis": {
            "gridcolor": "rgb(232,232,232)",
            "linecolor": "rgb(36,36,36)",
            "showgrid": false,
            "showline": true,
            "ticks": "outside"
           }
          },
          "scene": {
           "xaxis": {
            "backgroundcolor": "white",
            "gridcolor": "rgb(232,232,232)",
            "gridwidth": 2,
            "linecolor": "rgb(36,36,36)",
            "showbackground": true,
            "showgrid": false,
            "showline": true,
            "ticks": "outside",
            "zeroline": false,
            "zerolinecolor": "rgb(36,36,36)"
           },
           "yaxis": {
            "backgroundcolor": "white",
            "gridcolor": "rgb(232,232,232)",
            "gridwidth": 2,
            "linecolor": "rgb(36,36,36)",
            "showbackground": true,
            "showgrid": false,
            "showline": true,
            "ticks": "outside",
            "zeroline": false,
            "zerolinecolor": "rgb(36,36,36)"
           },
           "zaxis": {
            "backgroundcolor": "white",
            "gridcolor": "rgb(232,232,232)",
            "gridwidth": 2,
            "linecolor": "rgb(36,36,36)",
            "showbackground": true,
            "showgrid": false,
            "showline": true,
            "ticks": "outside",
            "zeroline": false,
            "zerolinecolor": "rgb(36,36,36)"
           }
          },
          "shapedefaults": {
           "fillcolor": "black",
           "line": {
            "width": 0
           },
           "opacity": 0.3
          },
          "ternary": {
           "aaxis": {
            "gridcolor": "rgb(232,232,232)",
            "linecolor": "rgb(36,36,36)",
            "showgrid": false,
            "showline": true,
            "ticks": "outside"
           },
           "baxis": {
            "gridcolor": "rgb(232,232,232)",
            "linecolor": "rgb(36,36,36)",
            "showgrid": false,
            "showline": true,
            "ticks": "outside"
           },
           "bgcolor": "white",
           "caxis": {
            "gridcolor": "rgb(232,232,232)",
            "linecolor": "rgb(36,36,36)",
            "showgrid": false,
            "showline": true,
            "ticks": "outside"
           }
          },
          "title": {
           "x": 0.05
          },
          "xaxis": {
           "automargin": true,
           "gridcolor": "rgb(232,232,232)",
           "linecolor": "rgb(36,36,36)",
           "showgrid": false,
           "showline": true,
           "ticks": "outside",
           "title": {
            "standoff": 15
           },
           "zeroline": false,
           "zerolinecolor": "rgb(36,36,36)"
          },
          "yaxis": {
           "automargin": true,
           "gridcolor": "rgb(232,232,232)",
           "linecolor": "rgb(36,36,36)",
           "showgrid": false,
           "showline": true,
           "ticks": "outside",
           "title": {
            "standoff": 15
           },
           "zeroline": false,
           "zerolinecolor": "rgb(36,36,36)"
          }
         }
        },
        "title": {
         "font": {
          "color": "Black",
          "size": 22
         },
         "text": "<b>Documents and Topics</b>",
         "x": 0.5,
         "xanchor": "center",
         "yanchor": "top"
        },
        "width": 1200,
        "xaxis": {
         "visible": false
        },
        "yaxis": {
         "visible": false
        }
       }
      }
     },
     "metadata": {},
     "output_type": "display_data"
    }
   ],
   "source": [
    "reduced_embeddings = UMAP(\n",
    "    n_neighbors=10, n_components=2, min_dist=0.0, metric=\"cosine\"\n",
    ").fit_transform(embeddings)\n",
    "topic_model.visualize_documents(\n",
    "    documents,\n",
    "    reduced_embeddings=reduced_embeddings,\n",
    "    custom_labels=True,\n",
    "    hide_annotations=True,\n",
    ")"
   ]
  },
  {
   "cell_type": "code",
   "execution_count": 50,
   "id": "1c174d3e",
   "metadata": {},
   "outputs": [
    {
     "data": {
      "text/plain": [
       "(1756, 3072)"
      ]
     },
     "execution_count": 50,
     "metadata": {},
     "output_type": "execute_result"
    }
   ],
   "source": [
    "embeddings.shape"
   ]
  },
  {
   "cell_type": "code",
   "execution_count": null,
   "id": "80649e99",
   "metadata": {},
   "outputs": [],
   "source": []
  }
 ],
 "metadata": {
  "kernelspec": {
   "display_name": ".venv",
   "language": "python",
   "name": "python3"
  },
  "language_info": {
   "codemirror_mode": {
    "name": "ipython",
    "version": 3
   },
   "file_extension": ".py",
   "mimetype": "text/x-python",
   "name": "python",
   "nbconvert_exporter": "python",
   "pygments_lexer": "ipython3",
   "version": "3.10.12"
  }
 },
 "nbformat": 4,
 "nbformat_minor": 5
}
