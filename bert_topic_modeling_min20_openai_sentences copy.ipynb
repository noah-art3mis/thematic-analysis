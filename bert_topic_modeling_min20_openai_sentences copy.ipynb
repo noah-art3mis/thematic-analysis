{
 "cells": [
  {
   "cell_type": "markdown",
   "id": "dd5231be",
   "metadata": {},
   "source": [
    "as per: https://colab.research.google.com/drive/1BoQ_vakEVtojsd2x_U6-_x52OOuqruj2?usp=sharing#scrollTo=w3WRXoRP2ej8\n"
   ]
  },
  {
   "cell_type": "code",
   "execution_count": 1,
   "id": "b9f62ac4",
   "metadata": {},
   "outputs": [
    {
     "name": "stderr",
     "output_type": "stream",
     "text": [
      "/home/noah-art3mis/lis/thematic-analysis/.venv/lib/python3.10/site-packages/tqdm/auto.py:21: TqdmWarning: IProgress not found. Please update jupyter and ipywidgets. See https://ipywidgets.readthedocs.io/en/stable/user_install.html\n",
      "  from .autonotebook import tqdm as notebook_tqdm\n"
     ]
    }
   ],
   "source": [
    "import os\n",
    "import dotenv\n",
    "import openai\n",
    "import pandas as pd\n",
    "import numpy as np\n",
    "\n",
    "from typing import Text\n",
    "from bertopic import BERTopic\n",
    "from bertopic.backend import OpenAIBackend\n",
    "from nltk.tokenize import sent_tokenize, word_tokenize"
   ]
  },
  {
   "cell_type": "code",
   "execution_count": 2,
   "id": "22dcfa03",
   "metadata": {},
   "outputs": [],
   "source": [
    "MODEL_NAME = \"slop_min40_openai_sentences.ipynb\""
   ]
  },
  {
   "cell_type": "code",
   "execution_count": 3,
   "id": "697ec514",
   "metadata": {},
   "outputs": [],
   "source": [
    "df = pd.read_feather(\"analysis.feather\")\n",
    "documents = df[\"text\"].tolist()"
   ]
  },
  {
   "cell_type": "code",
   "execution_count": 4,
   "id": "e6b0d58e",
   "metadata": {},
   "outputs": [],
   "source": [
    "# comment this out for document-level, leave it in for sentence level\n",
    "sentences = [sent_tokenize(x) for x in documents]\n",
    "documents = [sentence for doc in sentences for sentence in doc]\n",
    "len(documents)\n",
    "\n",
    "df = pd.DataFrame({\"text\": documents})"
   ]
  },
  {
   "cell_type": "code",
   "execution_count": 5,
   "id": "b60c56aa",
   "metadata": {},
   "outputs": [],
   "source": [
    "# use this for the base embeddings\n",
    "# from sentence_transformers import SentenceTransformer\n",
    "\n",
    "# embedding_model = SentenceTransformer(\"all-MiniLM-L6-v2\")\n",
    "# embeddings = embedding_model.encode(documents, show_progress_bar=True)"
   ]
  },
  {
   "cell_type": "code",
   "execution_count": 6,
   "id": "50c0febd",
   "metadata": {},
   "outputs": [
    {
     "data": {
      "text/plain": [
       "(1756, 3072)"
      ]
     },
     "execution_count": 6,
     "metadata": {},
     "output_type": "execute_result"
    }
   ],
   "source": [
    "# use this if you want openai embeddings (better performance)\n",
    "dotenv.load_dotenv()\n",
    "client = openai.OpenAI(api_key=os.environ[\"OPENAI_API_KEY\"])\n",
    "embedding_model = OpenAIBackend(client, \"text-embedding-3-large\")\n",
    "\n",
    "# careful !\n",
    "# no need to compute more than once here\n",
    "# df[\"embedding\"] = df[\"text\"].apply(\n",
    "#     lambda x: client.embeddings.create(model=\"text-embedding-3-large\", input=x)\n",
    "#     .data[0]\n",
    "#     .embedding\n",
    "# )\n",
    "# df.to_feather(\"analysis_with_embeddings_40_sentences.feather\")\n",
    "\n",
    "df = pd.read_feather(\"analysis_with_embeddings_40_sentences.feather\")\n",
    "\n",
    "embeddings = np.array(df[\"embedding\"].tolist())\n",
    "embeddings.shape"
   ]
  },
  {
   "cell_type": "code",
   "execution_count": 7,
   "id": "1ed3418e",
   "metadata": {},
   "outputs": [],
   "source": [
    "# import asyncio\n",
    "# import pandas as pd\n",
    "# from openai import AsyncOpenAI, OpenAIError\n",
    "# from tqdm.asyncio import tqdm_asyncio\n",
    "# import nest_asyncio\n",
    "\n",
    "# # Enable nested event loop support (for Jupyter etc.)\n",
    "# nest_asyncio.apply()\n",
    "\n",
    "# client = AsyncOpenAI()\n",
    "\n",
    "# # Settings\n",
    "# BATCH_SIZE = 10\n",
    "# MAX_RETRIES = 3\n",
    "# RETRY_BACKOFF = 2\n",
    "# CONCURRENCY_LIMIT = 5  # Maximum concurrent OpenAI requests\n",
    "\n",
    "# semaphore = asyncio.Semaphore(CONCURRENCY_LIMIT)\n",
    "\n",
    "# async def embed_batch(texts, attempt=1):\n",
    "#     async with semaphore:\n",
    "#         try:\n",
    "#             response = await client.embeddings.create(\n",
    "#                 model=\"text-embedding-3-large\",\n",
    "#                 input=texts\n",
    "#             )\n",
    "#             return [item.embedding for item in response.data]\n",
    "\n",
    "#         except OpenAIError as e:\n",
    "#             if attempt <= MAX_RETRIES:\n",
    "#                 wait = RETRY_BACKOFF ** attempt\n",
    "#                 print(f\"[Retrying in {wait}s] Error: {e}\")\n",
    "#                 await asyncio.sleep(wait)\n",
    "#                 return await embed_batch(texts, attempt + 1)\n",
    "#             else:\n",
    "#                 print(f\"[Failed after {MAX_RETRIES} attempts] {e}\")\n",
    "#                 return [None] * len(texts)\n",
    "\n",
    "# async def embed_all(texts):\n",
    "#     batches = [texts[i:i + BATCH_SIZE] for i in range(0, len(texts), BATCH_SIZE)]\n",
    "\n",
    "#     tasks = [embed_batch(batch) for batch in batches]\n",
    "#     results = []\n",
    "#     for coro in tqdm_asyncio.gather(*tasks, desc=\"Embedding\", total=len(batches)):\n",
    "#         batch_result = await coro\n",
    "#         results.extend(batch_result)\n",
    "#     return results\n",
    "\n",
    "# async def run_embedding(df):\n",
    "#     texts = df[\"text\"].tolist()\n",
    "#     embeddings = await embed_all(texts)\n",
    "#     df[\"embedding\"] = embeddings\n",
    "#     return df\n",
    "\n",
    "# # Run the whole thing\n",
    "# df = asyncio.run(run_embedding(df))"
   ]
  },
  {
   "cell_type": "code",
   "execution_count": 8,
   "id": "40ed4102",
   "metadata": {},
   "outputs": [
    {
     "name": "stdout",
     "output_type": "stream",
     "text": [
      "Failed embeddings: 0\n"
     ]
    }
   ],
   "source": [
    "num_failed = df[\"embedding\"].apply(lambda x: x is None).sum()\n",
    "print(f\"Failed embeddings: {num_failed}\")"
   ]
  },
  {
   "cell_type": "code",
   "execution_count": 9,
   "id": "413dacd9",
   "metadata": {},
   "outputs": [],
   "source": [
    "from umap import UMAP\n",
    "\n",
    "umap_model = UMAP(\n",
    "    n_neighbors=15, n_components=5, min_dist=0.0, metric=\"cosine\", random_state=42\n",
    ")"
   ]
  },
  {
   "cell_type": "code",
   "execution_count": 10,
   "id": "d9005d1f",
   "metadata": {},
   "outputs": [],
   "source": [
    "from hdbscan import HDBSCAN\n",
    "\n",
    "# A higher min_topic_size will generate fewer topics and a lower min_topic_size will generate more topics.\n",
    "\n",
    "hdbscan_model = HDBSCAN(\n",
    "    min_cluster_size=10,\n",
    "    metric=\"euclidean\",\n",
    "    cluster_selection_method=\"eom\",\n",
    "    prediction_data=True,\n",
    ")"
   ]
  },
  {
   "cell_type": "code",
   "execution_count": 11,
   "id": "43685c78",
   "metadata": {},
   "outputs": [],
   "source": [
    "from sklearn.feature_extraction.text import CountVectorizer\n",
    "\n",
    "vectorizer_model = CountVectorizer(stop_words=\"english\", min_df=2, ngram_range=(1, 2))"
   ]
  },
  {
   "cell_type": "code",
   "execution_count": 12,
   "id": "406202d2",
   "metadata": {},
   "outputs": [],
   "source": [
    "from bertopic.representation import (\n",
    "    KeyBERTInspired,\n",
    "    MaximalMarginalRelevance,\n",
    "    OpenAI,\n",
    "    PartOfSpeech,\n",
    ")\n",
    "\n",
    "# KeyBERT\n",
    "keybert_model = KeyBERTInspired()\n",
    "\n",
    "# Part-of-Speech\n",
    "pos_model = PartOfSpeech(\"en_core_web_sm\")\n",
    "\n",
    "# MMR\n",
    "mmr_model = MaximalMarginalRelevance(diversity=0.3)\n",
    "\n",
    "# GPT\n",
    "prompt = \"\"\"\n",
    "I have a topic that contains the following documents:\n",
    "[DOCUMENTS]\n",
    "\n",
    "The topic is described by the following keywords: [KEYWORDS]\n",
    "\n",
    "Based on the information above, extract a short but highly descriptive topic label of at most 5 words. Make sure it is in the following format:\n",
    "topic: <topic label>\n",
    "\"\"\"\n",
    "openai_model = OpenAI(\n",
    "    client=openai.OpenAI(api_key=os.environ[\"OPENAI_API_KEY\"]),\n",
    "    model=\"gpt-4.1-nano-2025-04-14\",\n",
    "    exponential_backoff=True,\n",
    "    chat=True,\n",
    "    prompt=prompt,\n",
    ")\n",
    "\n",
    "# also consider, in order of pricing (0.010 -> 2.0):\n",
    "# gpt-4.1-nano-2025-04-14\n",
    "# gpt-4o-mini-2024-07-18\n",
    "# o3-mini-2025-01-31\n",
    "# o1-mini-2024-09-12\n",
    "# gpt-4.1-2025-04-14\n",
    "# o3-2025-04-16\n",
    "\n",
    "# All representation models\n",
    "representation_model = {\n",
    "    \"KeyBERT\": keybert_model,\n",
    "    \"OpenAI\": openai_model,\n",
    "    \"MMR\": mmr_model,\n",
    "    \"POS\": pos_model,\n",
    "}"
   ]
  },
  {
   "cell_type": "code",
   "execution_count": 13,
   "id": "c7ac8113",
   "metadata": {},
   "outputs": [
    {
     "name": "stderr",
     "output_type": "stream",
     "text": [
      "2025-06-11 22:55:07,875 - BERTopic - Dimensionality - Fitting the dimensionality reduction algorithm\n",
      "2025-06-11 22:55:46,146 - BERTopic - Dimensionality - Completed ✓\n",
      "2025-06-11 22:55:46,149 - BERTopic - Cluster - Start clustering the reduced embeddings\n",
      "2025-06-11 22:55:46,250 - BERTopic - Cluster - Completed ✓\n",
      "2025-06-11 22:55:46,258 - BERTopic - Representation - Fine-tuning topics using representation models.\n",
      "100%|██████████| 40/40 [00:20<00:00,  1.98it/s]\n",
      "2025-06-11 22:57:05,468 - BERTopic - Representation - Completed ✓\n"
     ]
    }
   ],
   "source": [
    "from bertopic import BERTopic\n",
    "from huggingface_hub import DocumentQuestionAnsweringOutputElement\n",
    "from numpy import ndarray\n",
    "\n",
    "topic_model = BERTopic(\n",
    "    # Pipeline models\n",
    "    embedding_model=embedding_model,\n",
    "    umap_model=umap_model,\n",
    "    hdbscan_model=hdbscan_model,\n",
    "    vectorizer_model=vectorizer_model,\n",
    "    representation_model=representation_model,  # type: ignore\n",
    "    # Hyperparameters\n",
    "    top_n_words=10,\n",
    "    verbose=True,\n",
    ")\n",
    "\n",
    "topics, probs = topic_model.fit_transform(documents, embeddings)\n",
    "# topics, probs = topic_model.fit_transform(documents)"
   ]
  },
  {
   "cell_type": "code",
   "execution_count": 14,
   "id": "f32cd953",
   "metadata": {},
   "outputs": [],
   "source": [
    "topic_model.save(MODEL_NAME, serialization=\"safetensors\")"
   ]
  },
  {
   "cell_type": "code",
   "execution_count": 15,
   "id": "40d5abdb",
   "metadata": {},
   "outputs": [
    {
     "data": {
      "application/vnd.plotly.v1+json": {
       "config": {
        "plotlyServerURL": "https://plot.ly"
       },
       "data": [
        {
         "customdata": [
          [
           0,
           "facebook | images | content | ai | money",
           179
          ],
          [
           1,
           "activision | game | black | steam | sold",
           75
          ],
          [
           2,
           "cola | coca | coca cola | company | ad",
           63
          ],
          [
           3,
           "event | experience | children | factory | imagination",
           61
          ],
          [
           4,
           "misinformation | fema | reality | people | theories",
           61
          ],
          [
           5,
           "parade | dublin | halloween | halloween parade | street",
           60
          ],
          [
           6,
           "google | search | results | websites | engine",
           47
          ],
          [
           7,
           "times | net | eurogamer | york times | news",
           43
          ],
          [
           8,
           "kiryu | enix | square enix | square | letter",
           40
          ],
          [
           9,
           "scammers | mistake | highly | actually | scam",
           40
          ],
          [
           10,
           "trump | harris | donald | donald trump | posted",
           35
          ],
          [
           11,
           "brand | entrepreneurs | content | authenticity | brands",
           35
          ],
          [
           12,
           "film | poster | amazon | generated | ai generated",
           34
          ],
          [
           13,
           "2024 | november 2024 | november | august 2024 | january",
           33
          ],
          [
           14,
           "foamstars | square enix | enix | square | game",
           33
          ],
          [
           15,
           "books | catalog | book | ai generated | generated",
           28
          ],
          [
           16,
           "debate | academic | ai potential | implications | potential",
           28
          ],
          [
           17,
           "trump | food | fast | man | candidate",
           28
          ],
          [
           18,
           "advertisement | 404 media | 404 | app | noa",
           24
          ],
          [
           19,
           "foundation | muse | organization | freedom | account",
           23
          ],
          [
           20,
           "ign | wesley | news editor | editor ign | com",
           22
          ],
          [
           21,
           "slop | slop slop | sector | perfect example | appropriate",
           21
          ],
          [
           22,
           "myspirithalloween | myspirithalloween com | halloween | com | website",
           20
          ],
          [
           23,
           "retrieved | 2024 | september 2024 | september | november 2024",
           20
          ],
          [
           24,
           "code | currently | really | kate | gotten",
           20
          ],
          [
           25,
           "2024 | november 2024 | november | 2025 | february 2025",
           20
          ],
          [
           26,
           "creative | issues | generative ai | generative | video game",
           19
          ],
          [
           27,
           "slop | term | unwanted | generated content | unwanted ai",
           19
          ],
          [
           28,
           "2025 retrieved | march 2025 | march | retrieved | 2025",
           19
          ],
          [
           29,
           "angry | quest | title | puzzle | rovio",
           17
          ],
          [
           30,
           "chatgpt | language | like chatgpt | text | large",
           16
          ],
          [
           31,
           "style | explore | fashion | coverage | love",
           16
          ],
          [
           32,
           "gen | brainrot | italian brainrot | italian | brands",
           14
          ],
          [
           33,
           "willison | early | term | mr | word",
           14
          ],
          [
           34,
           "clarke | submissions | clarkesworld | sorting | fiction",
           13
          ],
          [
           35,
           "businesses | data | right | brands | apply",
           13
          ],
          [
           36,
           "spotify | users | podcast | end | cold",
           13
          ],
          [
           37,
           "voice | voice actor | actor | actors | voice actors",
           12
          ],
          [
           38,
           "2025 retrieved | retrieved | 2025 | january 2025 | february 2025",
           11
          ]
         ],
         "hovertemplate": "<b>Topic %{customdata[0]}</b><br>%{customdata[1]}<br>Size: %{customdata[2]}",
         "legendgroup": "",
         "marker": {
          "color": "#B0BEC5",
          "line": {
           "color": "DarkSlateGrey",
           "width": 2
          },
          "size": {
           "bdata": "swBLAD8APQA9ADwALwArACgAKAAjACMAIgAhACEAHAAcABwAGAAXABYAFQAUABQAFAAUABMAEwATABEAEAAQAA4ADgANAA0ADQAMAAsA",
           "dtype": "i2"
          },
          "sizemode": "area",
          "sizeref": 0.111875,
          "symbol": "circle"
         },
         "mode": "markers",
         "name": "",
         "orientation": "v",
         "showlegend": false,
         "type": "scatter",
         "x": {
          "bdata": "daLivG1vJ0Gny5o/cYKLQV8vgL++NYlBh6ZnPtZfrUHRuyJBC9Ccv/D19b4sphbAixaMP84+Q0FUzCFBy9DsPlKR7T3bBky/HiGuQabBdD6IMLNBh80wwZ4FikE9KkRBFWOwQaBkQEExKtk9U3k0wUveR0Gq0i1BcHsvP8GcrkEvQkc+EzIzwXAggT8LEBXAmsKQP0mjKEFBJEtB",
          "dtype": "f4"
         },
         "xaxis": "x",
         "y": {
          "bdata": "3uFjQUu3UMHZnYBBE0WhwF/RWEGYEZjAQmRsQfqcPEHDYlXBLShVQbmLXkER/e5AvaR9QbZql0B1UlbBj0RkQd7TCMCp5VtBLR8+QctgZUEzQEhBBIfRQUhRm8BqtJVAMKNCQaoanUAyeQnA7VzTQbsgjUDTVErB8VxrQV0WP0G0vV9BS7nSQWOCaEH2/+9AjQmCQVeDT8F6X4ZA",
          "dtype": "f4"
         },
         "yaxis": "y"
        }
       ],
       "layout": {
        "annotations": [
         {
          "showarrow": false,
          "text": "D1",
          "x": -12.97156319618225,
          "y": 7.489514613151551,
          "yshift": 10
         },
         {
          "showarrow": false,
          "text": "D2",
          "x": 6.39346911907196,
          "xshift": 10,
          "y": 30.383430004119873
         }
        ],
        "height": 650,
        "hoverlabel": {
         "bgcolor": "white",
         "font": {
          "family": "Rockwell",
          "size": 16
         }
        },
        "legend": {
         "itemsizing": "constant",
         "tracegroupgap": 0
        },
        "margin": {
         "t": 60
        },
        "shapes": [
         {
          "line": {
           "color": "#CFD8DC",
           "width": 2
          },
          "type": "line",
          "x0": 6.39346911907196,
          "x1": 6.39346911907196,
          "y0": -15.404400777816772,
          "y1": 30.383430004119873
         },
         {
          "line": {
           "color": "#9E9E9E",
           "width": 2
          },
          "type": "line",
          "x0": -12.97156319618225,
          "x1": 25.75850143432617,
          "y0": 7.489514613151551,
          "y1": 7.489514613151551
         }
        ],
        "sliders": [
         {
          "active": 0,
          "pad": {
           "t": 50
          },
          "steps": [
           {
            "args": [
             {
              "marker.color": [
               [
                "red",
                "#B0BEC5",
                "#B0BEC5",
                "#B0BEC5",
                "#B0BEC5",
                "#B0BEC5",
                "#B0BEC5",
                "#B0BEC5",
                "#B0BEC5",
                "#B0BEC5",
                "#B0BEC5",
                "#B0BEC5",
                "#B0BEC5",
                "#B0BEC5",
                "#B0BEC5",
                "#B0BEC5",
                "#B0BEC5",
                "#B0BEC5",
                "#B0BEC5",
                "#B0BEC5",
                "#B0BEC5",
                "#B0BEC5",
                "#B0BEC5",
                "#B0BEC5",
                "#B0BEC5",
                "#B0BEC5",
                "#B0BEC5",
                "#B0BEC5",
                "#B0BEC5",
                "#B0BEC5",
                "#B0BEC5",
                "#B0BEC5",
                "#B0BEC5",
                "#B0BEC5",
                "#B0BEC5",
                "#B0BEC5",
                "#B0BEC5",
                "#B0BEC5",
                "#B0BEC5"
               ]
              ]
             }
            ],
            "label": "Topic 0",
            "method": "update"
           },
           {
            "args": [
             {
              "marker.color": [
               [
                "#B0BEC5",
                "red",
                "#B0BEC5",
                "#B0BEC5",
                "#B0BEC5",
                "#B0BEC5",
                "#B0BEC5",
                "#B0BEC5",
                "#B0BEC5",
                "#B0BEC5",
                "#B0BEC5",
                "#B0BEC5",
                "#B0BEC5",
                "#B0BEC5",
                "#B0BEC5",
                "#B0BEC5",
                "#B0BEC5",
                "#B0BEC5",
                "#B0BEC5",
                "#B0BEC5",
                "#B0BEC5",
                "#B0BEC5",
                "#B0BEC5",
                "#B0BEC5",
                "#B0BEC5",
                "#B0BEC5",
                "#B0BEC5",
                "#B0BEC5",
                "#B0BEC5",
                "#B0BEC5",
                "#B0BEC5",
                "#B0BEC5",
                "#B0BEC5",
                "#B0BEC5",
                "#B0BEC5",
                "#B0BEC5",
                "#B0BEC5",
                "#B0BEC5",
                "#B0BEC5"
               ]
              ]
             }
            ],
            "label": "Topic 1",
            "method": "update"
           },
           {
            "args": [
             {
              "marker.color": [
               [
                "#B0BEC5",
                "#B0BEC5",
                "red",
                "#B0BEC5",
                "#B0BEC5",
                "#B0BEC5",
                "#B0BEC5",
                "#B0BEC5",
                "#B0BEC5",
                "#B0BEC5",
                "#B0BEC5",
                "#B0BEC5",
                "#B0BEC5",
                "#B0BEC5",
                "#B0BEC5",
                "#B0BEC5",
                "#B0BEC5",
                "#B0BEC5",
                "#B0BEC5",
                "#B0BEC5",
                "#B0BEC5",
                "#B0BEC5",
                "#B0BEC5",
                "#B0BEC5",
                "#B0BEC5",
                "#B0BEC5",
                "#B0BEC5",
                "#B0BEC5",
                "#B0BEC5",
                "#B0BEC5",
                "#B0BEC5",
                "#B0BEC5",
                "#B0BEC5",
                "#B0BEC5",
                "#B0BEC5",
                "#B0BEC5",
                "#B0BEC5",
                "#B0BEC5",
                "#B0BEC5"
               ]
              ]
             }
            ],
            "label": "Topic 2",
            "method": "update"
           },
           {
            "args": [
             {
              "marker.color": [
               [
                "#B0BEC5",
                "#B0BEC5",
                "#B0BEC5",
                "red",
                "#B0BEC5",
                "#B0BEC5",
                "#B0BEC5",
                "#B0BEC5",
                "#B0BEC5",
                "#B0BEC5",
                "#B0BEC5",
                "#B0BEC5",
                "#B0BEC5",
                "#B0BEC5",
                "#B0BEC5",
                "#B0BEC5",
                "#B0BEC5",
                "#B0BEC5",
                "#B0BEC5",
                "#B0BEC5",
                "#B0BEC5",
                "#B0BEC5",
                "#B0BEC5",
                "#B0BEC5",
                "#B0BEC5",
                "#B0BEC5",
                "#B0BEC5",
                "#B0BEC5",
                "#B0BEC5",
                "#B0BEC5",
                "#B0BEC5",
                "#B0BEC5",
                "#B0BEC5",
                "#B0BEC5",
                "#B0BEC5",
                "#B0BEC5",
                "#B0BEC5",
                "#B0BEC5",
                "#B0BEC5"
               ]
              ]
             }
            ],
            "label": "Topic 3",
            "method": "update"
           },
           {
            "args": [
             {
              "marker.color": [
               [
                "#B0BEC5",
                "#B0BEC5",
                "#B0BEC5",
                "#B0BEC5",
                "red",
                "#B0BEC5",
                "#B0BEC5",
                "#B0BEC5",
                "#B0BEC5",
                "#B0BEC5",
                "#B0BEC5",
                "#B0BEC5",
                "#B0BEC5",
                "#B0BEC5",
                "#B0BEC5",
                "#B0BEC5",
                "#B0BEC5",
                "#B0BEC5",
                "#B0BEC5",
                "#B0BEC5",
                "#B0BEC5",
                "#B0BEC5",
                "#B0BEC5",
                "#B0BEC5",
                "#B0BEC5",
                "#B0BEC5",
                "#B0BEC5",
                "#B0BEC5",
                "#B0BEC5",
                "#B0BEC5",
                "#B0BEC5",
                "#B0BEC5",
                "#B0BEC5",
                "#B0BEC5",
                "#B0BEC5",
                "#B0BEC5",
                "#B0BEC5",
                "#B0BEC5",
                "#B0BEC5"
               ]
              ]
             }
            ],
            "label": "Topic 4",
            "method": "update"
           },
           {
            "args": [
             {
              "marker.color": [
               [
                "#B0BEC5",
                "#B0BEC5",
                "#B0BEC5",
                "#B0BEC5",
                "#B0BEC5",
                "red",
                "#B0BEC5",
                "#B0BEC5",
                "#B0BEC5",
                "#B0BEC5",
                "#B0BEC5",
                "#B0BEC5",
                "#B0BEC5",
                "#B0BEC5",
                "#B0BEC5",
                "#B0BEC5",
                "#B0BEC5",
                "#B0BEC5",
                "#B0BEC5",
                "#B0BEC5",
                "#B0BEC5",
                "#B0BEC5",
                "#B0BEC5",
                "#B0BEC5",
                "#B0BEC5",
                "#B0BEC5",
                "#B0BEC5",
                "#B0BEC5",
                "#B0BEC5",
                "#B0BEC5",
                "#B0BEC5",
                "#B0BEC5",
                "#B0BEC5",
                "#B0BEC5",
                "#B0BEC5",
                "#B0BEC5",
                "#B0BEC5",
                "#B0BEC5",
                "#B0BEC5"
               ]
              ]
             }
            ],
            "label": "Topic 5",
            "method": "update"
           },
           {
            "args": [
             {
              "marker.color": [
               [
                "#B0BEC5",
                "#B0BEC5",
                "#B0BEC5",
                "#B0BEC5",
                "#B0BEC5",
                "#B0BEC5",
                "red",
                "#B0BEC5",
                "#B0BEC5",
                "#B0BEC5",
                "#B0BEC5",
                "#B0BEC5",
                "#B0BEC5",
                "#B0BEC5",
                "#B0BEC5",
                "#B0BEC5",
                "#B0BEC5",
                "#B0BEC5",
                "#B0BEC5",
                "#B0BEC5",
                "#B0BEC5",
                "#B0BEC5",
                "#B0BEC5",
                "#B0BEC5",
                "#B0BEC5",
                "#B0BEC5",
                "#B0BEC5",
                "#B0BEC5",
                "#B0BEC5",
                "#B0BEC5",
                "#B0BEC5",
                "#B0BEC5",
                "#B0BEC5",
                "#B0BEC5",
                "#B0BEC5",
                "#B0BEC5",
                "#B0BEC5",
                "#B0BEC5",
                "#B0BEC5"
               ]
              ]
             }
            ],
            "label": "Topic 6",
            "method": "update"
           },
           {
            "args": [
             {
              "marker.color": [
               [
                "#B0BEC5",
                "#B0BEC5",
                "#B0BEC5",
                "#B0BEC5",
                "#B0BEC5",
                "#B0BEC5",
                "#B0BEC5",
                "red",
                "#B0BEC5",
                "#B0BEC5",
                "#B0BEC5",
                "#B0BEC5",
                "#B0BEC5",
                "#B0BEC5",
                "#B0BEC5",
                "#B0BEC5",
                "#B0BEC5",
                "#B0BEC5",
                "#B0BEC5",
                "#B0BEC5",
                "#B0BEC5",
                "#B0BEC5",
                "#B0BEC5",
                "#B0BEC5",
                "#B0BEC5",
                "#B0BEC5",
                "#B0BEC5",
                "#B0BEC5",
                "#B0BEC5",
                "#B0BEC5",
                "#B0BEC5",
                "#B0BEC5",
                "#B0BEC5",
                "#B0BEC5",
                "#B0BEC5",
                "#B0BEC5",
                "#B0BEC5",
                "#B0BEC5",
                "#B0BEC5"
               ]
              ]
             }
            ],
            "label": "Topic 7",
            "method": "update"
           },
           {
            "args": [
             {
              "marker.color": [
               [
                "#B0BEC5",
                "#B0BEC5",
                "#B0BEC5",
                "#B0BEC5",
                "#B0BEC5",
                "#B0BEC5",
                "#B0BEC5",
                "#B0BEC5",
                "red",
                "#B0BEC5",
                "#B0BEC5",
                "#B0BEC5",
                "#B0BEC5",
                "#B0BEC5",
                "#B0BEC5",
                "#B0BEC5",
                "#B0BEC5",
                "#B0BEC5",
                "#B0BEC5",
                "#B0BEC5",
                "#B0BEC5",
                "#B0BEC5",
                "#B0BEC5",
                "#B0BEC5",
                "#B0BEC5",
                "#B0BEC5",
                "#B0BEC5",
                "#B0BEC5",
                "#B0BEC5",
                "#B0BEC5",
                "#B0BEC5",
                "#B0BEC5",
                "#B0BEC5",
                "#B0BEC5",
                "#B0BEC5",
                "#B0BEC5",
                "#B0BEC5",
                "#B0BEC5",
                "#B0BEC5"
               ]
              ]
             }
            ],
            "label": "Topic 8",
            "method": "update"
           },
           {
            "args": [
             {
              "marker.color": [
               [
                "#B0BEC5",
                "#B0BEC5",
                "#B0BEC5",
                "#B0BEC5",
                "#B0BEC5",
                "#B0BEC5",
                "#B0BEC5",
                "#B0BEC5",
                "#B0BEC5",
                "red",
                "#B0BEC5",
                "#B0BEC5",
                "#B0BEC5",
                "#B0BEC5",
                "#B0BEC5",
                "#B0BEC5",
                "#B0BEC5",
                "#B0BEC5",
                "#B0BEC5",
                "#B0BEC5",
                "#B0BEC5",
                "#B0BEC5",
                "#B0BEC5",
                "#B0BEC5",
                "#B0BEC5",
                "#B0BEC5",
                "#B0BEC5",
                "#B0BEC5",
                "#B0BEC5",
                "#B0BEC5",
                "#B0BEC5",
                "#B0BEC5",
                "#B0BEC5",
                "#B0BEC5",
                "#B0BEC5",
                "#B0BEC5",
                "#B0BEC5",
                "#B0BEC5",
                "#B0BEC5"
               ]
              ]
             }
            ],
            "label": "Topic 9",
            "method": "update"
           },
           {
            "args": [
             {
              "marker.color": [
               [
                "#B0BEC5",
                "#B0BEC5",
                "#B0BEC5",
                "#B0BEC5",
                "#B0BEC5",
                "#B0BEC5",
                "#B0BEC5",
                "#B0BEC5",
                "#B0BEC5",
                "#B0BEC5",
                "red",
                "#B0BEC5",
                "#B0BEC5",
                "#B0BEC5",
                "#B0BEC5",
                "#B0BEC5",
                "#B0BEC5",
                "#B0BEC5",
                "#B0BEC5",
                "#B0BEC5",
                "#B0BEC5",
                "#B0BEC5",
                "#B0BEC5",
                "#B0BEC5",
                "#B0BEC5",
                "#B0BEC5",
                "#B0BEC5",
                "#B0BEC5",
                "#B0BEC5",
                "#B0BEC5",
                "#B0BEC5",
                "#B0BEC5",
                "#B0BEC5",
                "#B0BEC5",
                "#B0BEC5",
                "#B0BEC5",
                "#B0BEC5",
                "#B0BEC5",
                "#B0BEC5"
               ]
              ]
             }
            ],
            "label": "Topic 10",
            "method": "update"
           },
           {
            "args": [
             {
              "marker.color": [
               [
                "#B0BEC5",
                "#B0BEC5",
                "#B0BEC5",
                "#B0BEC5",
                "#B0BEC5",
                "#B0BEC5",
                "#B0BEC5",
                "#B0BEC5",
                "#B0BEC5",
                "#B0BEC5",
                "#B0BEC5",
                "red",
                "#B0BEC5",
                "#B0BEC5",
                "#B0BEC5",
                "#B0BEC5",
                "#B0BEC5",
                "#B0BEC5",
                "#B0BEC5",
                "#B0BEC5",
                "#B0BEC5",
                "#B0BEC5",
                "#B0BEC5",
                "#B0BEC5",
                "#B0BEC5",
                "#B0BEC5",
                "#B0BEC5",
                "#B0BEC5",
                "#B0BEC5",
                "#B0BEC5",
                "#B0BEC5",
                "#B0BEC5",
                "#B0BEC5",
                "#B0BEC5",
                "#B0BEC5",
                "#B0BEC5",
                "#B0BEC5",
                "#B0BEC5",
                "#B0BEC5"
               ]
              ]
             }
            ],
            "label": "Topic 11",
            "method": "update"
           },
           {
            "args": [
             {
              "marker.color": [
               [
                "#B0BEC5",
                "#B0BEC5",
                "#B0BEC5",
                "#B0BEC5",
                "#B0BEC5",
                "#B0BEC5",
                "#B0BEC5",
                "#B0BEC5",
                "#B0BEC5",
                "#B0BEC5",
                "#B0BEC5",
                "#B0BEC5",
                "red",
                "#B0BEC5",
                "#B0BEC5",
                "#B0BEC5",
                "#B0BEC5",
                "#B0BEC5",
                "#B0BEC5",
                "#B0BEC5",
                "#B0BEC5",
                "#B0BEC5",
                "#B0BEC5",
                "#B0BEC5",
                "#B0BEC5",
                "#B0BEC5",
                "#B0BEC5",
                "#B0BEC5",
                "#B0BEC5",
                "#B0BEC5",
                "#B0BEC5",
                "#B0BEC5",
                "#B0BEC5",
                "#B0BEC5",
                "#B0BEC5",
                "#B0BEC5",
                "#B0BEC5",
                "#B0BEC5",
                "#B0BEC5"
               ]
              ]
             }
            ],
            "label": "Topic 12",
            "method": "update"
           },
           {
            "args": [
             {
              "marker.color": [
               [
                "#B0BEC5",
                "#B0BEC5",
                "#B0BEC5",
                "#B0BEC5",
                "#B0BEC5",
                "#B0BEC5",
                "#B0BEC5",
                "#B0BEC5",
                "#B0BEC5",
                "#B0BEC5",
                "#B0BEC5",
                "#B0BEC5",
                "#B0BEC5",
                "red",
                "#B0BEC5",
                "#B0BEC5",
                "#B0BEC5",
                "#B0BEC5",
                "#B0BEC5",
                "#B0BEC5",
                "#B0BEC5",
                "#B0BEC5",
                "#B0BEC5",
                "#B0BEC5",
                "#B0BEC5",
                "#B0BEC5",
                "#B0BEC5",
                "#B0BEC5",
                "#B0BEC5",
                "#B0BEC5",
                "#B0BEC5",
                "#B0BEC5",
                "#B0BEC5",
                "#B0BEC5",
                "#B0BEC5",
                "#B0BEC5",
                "#B0BEC5",
                "#B0BEC5",
                "#B0BEC5"
               ]
              ]
             }
            ],
            "label": "Topic 13",
            "method": "update"
           },
           {
            "args": [
             {
              "marker.color": [
               [
                "#B0BEC5",
                "#B0BEC5",
                "#B0BEC5",
                "#B0BEC5",
                "#B0BEC5",
                "#B0BEC5",
                "#B0BEC5",
                "#B0BEC5",
                "#B0BEC5",
                "#B0BEC5",
                "#B0BEC5",
                "#B0BEC5",
                "#B0BEC5",
                "#B0BEC5",
                "red",
                "#B0BEC5",
                "#B0BEC5",
                "#B0BEC5",
                "#B0BEC5",
                "#B0BEC5",
                "#B0BEC5",
                "#B0BEC5",
                "#B0BEC5",
                "#B0BEC5",
                "#B0BEC5",
                "#B0BEC5",
                "#B0BEC5",
                "#B0BEC5",
                "#B0BEC5",
                "#B0BEC5",
                "#B0BEC5",
                "#B0BEC5",
                "#B0BEC5",
                "#B0BEC5",
                "#B0BEC5",
                "#B0BEC5",
                "#B0BEC5",
                "#B0BEC5",
                "#B0BEC5"
               ]
              ]
             }
            ],
            "label": "Topic 14",
            "method": "update"
           },
           {
            "args": [
             {
              "marker.color": [
               [
                "#B0BEC5",
                "#B0BEC5",
                "#B0BEC5",
                "#B0BEC5",
                "#B0BEC5",
                "#B0BEC5",
                "#B0BEC5",
                "#B0BEC5",
                "#B0BEC5",
                "#B0BEC5",
                "#B0BEC5",
                "#B0BEC5",
                "#B0BEC5",
                "#B0BEC5",
                "#B0BEC5",
                "red",
                "#B0BEC5",
                "#B0BEC5",
                "#B0BEC5",
                "#B0BEC5",
                "#B0BEC5",
                "#B0BEC5",
                "#B0BEC5",
                "#B0BEC5",
                "#B0BEC5",
                "#B0BEC5",
                "#B0BEC5",
                "#B0BEC5",
                "#B0BEC5",
                "#B0BEC5",
                "#B0BEC5",
                "#B0BEC5",
                "#B0BEC5",
                "#B0BEC5",
                "#B0BEC5",
                "#B0BEC5",
                "#B0BEC5",
                "#B0BEC5",
                "#B0BEC5"
               ]
              ]
             }
            ],
            "label": "Topic 15",
            "method": "update"
           },
           {
            "args": [
             {
              "marker.color": [
               [
                "#B0BEC5",
                "#B0BEC5",
                "#B0BEC5",
                "#B0BEC5",
                "#B0BEC5",
                "#B0BEC5",
                "#B0BEC5",
                "#B0BEC5",
                "#B0BEC5",
                "#B0BEC5",
                "#B0BEC5",
                "#B0BEC5",
                "#B0BEC5",
                "#B0BEC5",
                "#B0BEC5",
                "#B0BEC5",
                "red",
                "#B0BEC5",
                "#B0BEC5",
                "#B0BEC5",
                "#B0BEC5",
                "#B0BEC5",
                "#B0BEC5",
                "#B0BEC5",
                "#B0BEC5",
                "#B0BEC5",
                "#B0BEC5",
                "#B0BEC5",
                "#B0BEC5",
                "#B0BEC5",
                "#B0BEC5",
                "#B0BEC5",
                "#B0BEC5",
                "#B0BEC5",
                "#B0BEC5",
                "#B0BEC5",
                "#B0BEC5",
                "#B0BEC5",
                "#B0BEC5"
               ]
              ]
             }
            ],
            "label": "Topic 16",
            "method": "update"
           },
           {
            "args": [
             {
              "marker.color": [
               [
                "#B0BEC5",
                "#B0BEC5",
                "#B0BEC5",
                "#B0BEC5",
                "#B0BEC5",
                "#B0BEC5",
                "#B0BEC5",
                "#B0BEC5",
                "#B0BEC5",
                "#B0BEC5",
                "#B0BEC5",
                "#B0BEC5",
                "#B0BEC5",
                "#B0BEC5",
                "#B0BEC5",
                "#B0BEC5",
                "#B0BEC5",
                "red",
                "#B0BEC5",
                "#B0BEC5",
                "#B0BEC5",
                "#B0BEC5",
                "#B0BEC5",
                "#B0BEC5",
                "#B0BEC5",
                "#B0BEC5",
                "#B0BEC5",
                "#B0BEC5",
                "#B0BEC5",
                "#B0BEC5",
                "#B0BEC5",
                "#B0BEC5",
                "#B0BEC5",
                "#B0BEC5",
                "#B0BEC5",
                "#B0BEC5",
                "#B0BEC5",
                "#B0BEC5",
                "#B0BEC5"
               ]
              ]
             }
            ],
            "label": "Topic 17",
            "method": "update"
           },
           {
            "args": [
             {
              "marker.color": [
               [
                "#B0BEC5",
                "#B0BEC5",
                "#B0BEC5",
                "#B0BEC5",
                "#B0BEC5",
                "#B0BEC5",
                "#B0BEC5",
                "#B0BEC5",
                "#B0BEC5",
                "#B0BEC5",
                "#B0BEC5",
                "#B0BEC5",
                "#B0BEC5",
                "#B0BEC5",
                "#B0BEC5",
                "#B0BEC5",
                "#B0BEC5",
                "#B0BEC5",
                "red",
                "#B0BEC5",
                "#B0BEC5",
                "#B0BEC5",
                "#B0BEC5",
                "#B0BEC5",
                "#B0BEC5",
                "#B0BEC5",
                "#B0BEC5",
                "#B0BEC5",
                "#B0BEC5",
                "#B0BEC5",
                "#B0BEC5",
                "#B0BEC5",
                "#B0BEC5",
                "#B0BEC5",
                "#B0BEC5",
                "#B0BEC5",
                "#B0BEC5",
                "#B0BEC5",
                "#B0BEC5"
               ]
              ]
             }
            ],
            "label": "Topic 18",
            "method": "update"
           },
           {
            "args": [
             {
              "marker.color": [
               [
                "#B0BEC5",
                "#B0BEC5",
                "#B0BEC5",
                "#B0BEC5",
                "#B0BEC5",
                "#B0BEC5",
                "#B0BEC5",
                "#B0BEC5",
                "#B0BEC5",
                "#B0BEC5",
                "#B0BEC5",
                "#B0BEC5",
                "#B0BEC5",
                "#B0BEC5",
                "#B0BEC5",
                "#B0BEC5",
                "#B0BEC5",
                "#B0BEC5",
                "#B0BEC5",
                "red",
                "#B0BEC5",
                "#B0BEC5",
                "#B0BEC5",
                "#B0BEC5",
                "#B0BEC5",
                "#B0BEC5",
                "#B0BEC5",
                "#B0BEC5",
                "#B0BEC5",
                "#B0BEC5",
                "#B0BEC5",
                "#B0BEC5",
                "#B0BEC5",
                "#B0BEC5",
                "#B0BEC5",
                "#B0BEC5",
                "#B0BEC5",
                "#B0BEC5",
                "#B0BEC5"
               ]
              ]
             }
            ],
            "label": "Topic 19",
            "method": "update"
           },
           {
            "args": [
             {
              "marker.color": [
               [
                "#B0BEC5",
                "#B0BEC5",
                "#B0BEC5",
                "#B0BEC5",
                "#B0BEC5",
                "#B0BEC5",
                "#B0BEC5",
                "#B0BEC5",
                "#B0BEC5",
                "#B0BEC5",
                "#B0BEC5",
                "#B0BEC5",
                "#B0BEC5",
                "#B0BEC5",
                "#B0BEC5",
                "#B0BEC5",
                "#B0BEC5",
                "#B0BEC5",
                "#B0BEC5",
                "#B0BEC5",
                "red",
                "#B0BEC5",
                "#B0BEC5",
                "#B0BEC5",
                "#B0BEC5",
                "#B0BEC5",
                "#B0BEC5",
                "#B0BEC5",
                "#B0BEC5",
                "#B0BEC5",
                "#B0BEC5",
                "#B0BEC5",
                "#B0BEC5",
                "#B0BEC5",
                "#B0BEC5",
                "#B0BEC5",
                "#B0BEC5",
                "#B0BEC5",
                "#B0BEC5"
               ]
              ]
             }
            ],
            "label": "Topic 20",
            "method": "update"
           },
           {
            "args": [
             {
              "marker.color": [
               [
                "#B0BEC5",
                "#B0BEC5",
                "#B0BEC5",
                "#B0BEC5",
                "#B0BEC5",
                "#B0BEC5",
                "#B0BEC5",
                "#B0BEC5",
                "#B0BEC5",
                "#B0BEC5",
                "#B0BEC5",
                "#B0BEC5",
                "#B0BEC5",
                "#B0BEC5",
                "#B0BEC5",
                "#B0BEC5",
                "#B0BEC5",
                "#B0BEC5",
                "#B0BEC5",
                "#B0BEC5",
                "#B0BEC5",
                "red",
                "#B0BEC5",
                "#B0BEC5",
                "#B0BEC5",
                "#B0BEC5",
                "#B0BEC5",
                "#B0BEC5",
                "#B0BEC5",
                "#B0BEC5",
                "#B0BEC5",
                "#B0BEC5",
                "#B0BEC5",
                "#B0BEC5",
                "#B0BEC5",
                "#B0BEC5",
                "#B0BEC5",
                "#B0BEC5",
                "#B0BEC5"
               ]
              ]
             }
            ],
            "label": "Topic 21",
            "method": "update"
           },
           {
            "args": [
             {
              "marker.color": [
               [
                "#B0BEC5",
                "#B0BEC5",
                "#B0BEC5",
                "#B0BEC5",
                "#B0BEC5",
                "#B0BEC5",
                "#B0BEC5",
                "#B0BEC5",
                "#B0BEC5",
                "#B0BEC5",
                "#B0BEC5",
                "#B0BEC5",
                "#B0BEC5",
                "#B0BEC5",
                "#B0BEC5",
                "#B0BEC5",
                "#B0BEC5",
                "#B0BEC5",
                "#B0BEC5",
                "#B0BEC5",
                "#B0BEC5",
                "#B0BEC5",
                "red",
                "#B0BEC5",
                "#B0BEC5",
                "#B0BEC5",
                "#B0BEC5",
                "#B0BEC5",
                "#B0BEC5",
                "#B0BEC5",
                "#B0BEC5",
                "#B0BEC5",
                "#B0BEC5",
                "#B0BEC5",
                "#B0BEC5",
                "#B0BEC5",
                "#B0BEC5",
                "#B0BEC5",
                "#B0BEC5"
               ]
              ]
             }
            ],
            "label": "Topic 22",
            "method": "update"
           },
           {
            "args": [
             {
              "marker.color": [
               [
                "#B0BEC5",
                "#B0BEC5",
                "#B0BEC5",
                "#B0BEC5",
                "#B0BEC5",
                "#B0BEC5",
                "#B0BEC5",
                "#B0BEC5",
                "#B0BEC5",
                "#B0BEC5",
                "#B0BEC5",
                "#B0BEC5",
                "#B0BEC5",
                "#B0BEC5",
                "#B0BEC5",
                "#B0BEC5",
                "#B0BEC5",
                "#B0BEC5",
                "#B0BEC5",
                "#B0BEC5",
                "#B0BEC5",
                "#B0BEC5",
                "#B0BEC5",
                "red",
                "#B0BEC5",
                "#B0BEC5",
                "#B0BEC5",
                "#B0BEC5",
                "#B0BEC5",
                "#B0BEC5",
                "#B0BEC5",
                "#B0BEC5",
                "#B0BEC5",
                "#B0BEC5",
                "#B0BEC5",
                "#B0BEC5",
                "#B0BEC5",
                "#B0BEC5",
                "#B0BEC5"
               ]
              ]
             }
            ],
            "label": "Topic 23",
            "method": "update"
           },
           {
            "args": [
             {
              "marker.color": [
               [
                "#B0BEC5",
                "#B0BEC5",
                "#B0BEC5",
                "#B0BEC5",
                "#B0BEC5",
                "#B0BEC5",
                "#B0BEC5",
                "#B0BEC5",
                "#B0BEC5",
                "#B0BEC5",
                "#B0BEC5",
                "#B0BEC5",
                "#B0BEC5",
                "#B0BEC5",
                "#B0BEC5",
                "#B0BEC5",
                "#B0BEC5",
                "#B0BEC5",
                "#B0BEC5",
                "#B0BEC5",
                "#B0BEC5",
                "#B0BEC5",
                "#B0BEC5",
                "#B0BEC5",
                "red",
                "#B0BEC5",
                "#B0BEC5",
                "#B0BEC5",
                "#B0BEC5",
                "#B0BEC5",
                "#B0BEC5",
                "#B0BEC5",
                "#B0BEC5",
                "#B0BEC5",
                "#B0BEC5",
                "#B0BEC5",
                "#B0BEC5",
                "#B0BEC5",
                "#B0BEC5"
               ]
              ]
             }
            ],
            "label": "Topic 24",
            "method": "update"
           },
           {
            "args": [
             {
              "marker.color": [
               [
                "#B0BEC5",
                "#B0BEC5",
                "#B0BEC5",
                "#B0BEC5",
                "#B0BEC5",
                "#B0BEC5",
                "#B0BEC5",
                "#B0BEC5",
                "#B0BEC5",
                "#B0BEC5",
                "#B0BEC5",
                "#B0BEC5",
                "#B0BEC5",
                "#B0BEC5",
                "#B0BEC5",
                "#B0BEC5",
                "#B0BEC5",
                "#B0BEC5",
                "#B0BEC5",
                "#B0BEC5",
                "#B0BEC5",
                "#B0BEC5",
                "#B0BEC5",
                "#B0BEC5",
                "#B0BEC5",
                "red",
                "#B0BEC5",
                "#B0BEC5",
                "#B0BEC5",
                "#B0BEC5",
                "#B0BEC5",
                "#B0BEC5",
                "#B0BEC5",
                "#B0BEC5",
                "#B0BEC5",
                "#B0BEC5",
                "#B0BEC5",
                "#B0BEC5",
                "#B0BEC5"
               ]
              ]
             }
            ],
            "label": "Topic 25",
            "method": "update"
           },
           {
            "args": [
             {
              "marker.color": [
               [
                "#B0BEC5",
                "#B0BEC5",
                "#B0BEC5",
                "#B0BEC5",
                "#B0BEC5",
                "#B0BEC5",
                "#B0BEC5",
                "#B0BEC5",
                "#B0BEC5",
                "#B0BEC5",
                "#B0BEC5",
                "#B0BEC5",
                "#B0BEC5",
                "#B0BEC5",
                "#B0BEC5",
                "#B0BEC5",
                "#B0BEC5",
                "#B0BEC5",
                "#B0BEC5",
                "#B0BEC5",
                "#B0BEC5",
                "#B0BEC5",
                "#B0BEC5",
                "#B0BEC5",
                "#B0BEC5",
                "#B0BEC5",
                "red",
                "#B0BEC5",
                "#B0BEC5",
                "#B0BEC5",
                "#B0BEC5",
                "#B0BEC5",
                "#B0BEC5",
                "#B0BEC5",
                "#B0BEC5",
                "#B0BEC5",
                "#B0BEC5",
                "#B0BEC5",
                "#B0BEC5"
               ]
              ]
             }
            ],
            "label": "Topic 26",
            "method": "update"
           },
           {
            "args": [
             {
              "marker.color": [
               [
                "#B0BEC5",
                "#B0BEC5",
                "#B0BEC5",
                "#B0BEC5",
                "#B0BEC5",
                "#B0BEC5",
                "#B0BEC5",
                "#B0BEC5",
                "#B0BEC5",
                "#B0BEC5",
                "#B0BEC5",
                "#B0BEC5",
                "#B0BEC5",
                "#B0BEC5",
                "#B0BEC5",
                "#B0BEC5",
                "#B0BEC5",
                "#B0BEC5",
                "#B0BEC5",
                "#B0BEC5",
                "#B0BEC5",
                "#B0BEC5",
                "#B0BEC5",
                "#B0BEC5",
                "#B0BEC5",
                "#B0BEC5",
                "#B0BEC5",
                "red",
                "#B0BEC5",
                "#B0BEC5",
                "#B0BEC5",
                "#B0BEC5",
                "#B0BEC5",
                "#B0BEC5",
                "#B0BEC5",
                "#B0BEC5",
                "#B0BEC5",
                "#B0BEC5",
                "#B0BEC5"
               ]
              ]
             }
            ],
            "label": "Topic 27",
            "method": "update"
           },
           {
            "args": [
             {
              "marker.color": [
               [
                "#B0BEC5",
                "#B0BEC5",
                "#B0BEC5",
                "#B0BEC5",
                "#B0BEC5",
                "#B0BEC5",
                "#B0BEC5",
                "#B0BEC5",
                "#B0BEC5",
                "#B0BEC5",
                "#B0BEC5",
                "#B0BEC5",
                "#B0BEC5",
                "#B0BEC5",
                "#B0BEC5",
                "#B0BEC5",
                "#B0BEC5",
                "#B0BEC5",
                "#B0BEC5",
                "#B0BEC5",
                "#B0BEC5",
                "#B0BEC5",
                "#B0BEC5",
                "#B0BEC5",
                "#B0BEC5",
                "#B0BEC5",
                "#B0BEC5",
                "#B0BEC5",
                "red",
                "#B0BEC5",
                "#B0BEC5",
                "#B0BEC5",
                "#B0BEC5",
                "#B0BEC5",
                "#B0BEC5",
                "#B0BEC5",
                "#B0BEC5",
                "#B0BEC5",
                "#B0BEC5"
               ]
              ]
             }
            ],
            "label": "Topic 28",
            "method": "update"
           },
           {
            "args": [
             {
              "marker.color": [
               [
                "#B0BEC5",
                "#B0BEC5",
                "#B0BEC5",
                "#B0BEC5",
                "#B0BEC5",
                "#B0BEC5",
                "#B0BEC5",
                "#B0BEC5",
                "#B0BEC5",
                "#B0BEC5",
                "#B0BEC5",
                "#B0BEC5",
                "#B0BEC5",
                "#B0BEC5",
                "#B0BEC5",
                "#B0BEC5",
                "#B0BEC5",
                "#B0BEC5",
                "#B0BEC5",
                "#B0BEC5",
                "#B0BEC5",
                "#B0BEC5",
                "#B0BEC5",
                "#B0BEC5",
                "#B0BEC5",
                "#B0BEC5",
                "#B0BEC5",
                "#B0BEC5",
                "#B0BEC5",
                "red",
                "#B0BEC5",
                "#B0BEC5",
                "#B0BEC5",
                "#B0BEC5",
                "#B0BEC5",
                "#B0BEC5",
                "#B0BEC5",
                "#B0BEC5",
                "#B0BEC5"
               ]
              ]
             }
            ],
            "label": "Topic 29",
            "method": "update"
           },
           {
            "args": [
             {
              "marker.color": [
               [
                "#B0BEC5",
                "#B0BEC5",
                "#B0BEC5",
                "#B0BEC5",
                "#B0BEC5",
                "#B0BEC5",
                "#B0BEC5",
                "#B0BEC5",
                "#B0BEC5",
                "#B0BEC5",
                "#B0BEC5",
                "#B0BEC5",
                "#B0BEC5",
                "#B0BEC5",
                "#B0BEC5",
                "#B0BEC5",
                "#B0BEC5",
                "#B0BEC5",
                "#B0BEC5",
                "#B0BEC5",
                "#B0BEC5",
                "#B0BEC5",
                "#B0BEC5",
                "#B0BEC5",
                "#B0BEC5",
                "#B0BEC5",
                "#B0BEC5",
                "#B0BEC5",
                "#B0BEC5",
                "#B0BEC5",
                "red",
                "#B0BEC5",
                "#B0BEC5",
                "#B0BEC5",
                "#B0BEC5",
                "#B0BEC5",
                "#B0BEC5",
                "#B0BEC5",
                "#B0BEC5"
               ]
              ]
             }
            ],
            "label": "Topic 30",
            "method": "update"
           },
           {
            "args": [
             {
              "marker.color": [
               [
                "#B0BEC5",
                "#B0BEC5",
                "#B0BEC5",
                "#B0BEC5",
                "#B0BEC5",
                "#B0BEC5",
                "#B0BEC5",
                "#B0BEC5",
                "#B0BEC5",
                "#B0BEC5",
                "#B0BEC5",
                "#B0BEC5",
                "#B0BEC5",
                "#B0BEC5",
                "#B0BEC5",
                "#B0BEC5",
                "#B0BEC5",
                "#B0BEC5",
                "#B0BEC5",
                "#B0BEC5",
                "#B0BEC5",
                "#B0BEC5",
                "#B0BEC5",
                "#B0BEC5",
                "#B0BEC5",
                "#B0BEC5",
                "#B0BEC5",
                "#B0BEC5",
                "#B0BEC5",
                "#B0BEC5",
                "#B0BEC5",
                "red",
                "#B0BEC5",
                "#B0BEC5",
                "#B0BEC5",
                "#B0BEC5",
                "#B0BEC5",
                "#B0BEC5",
                "#B0BEC5"
               ]
              ]
             }
            ],
            "label": "Topic 31",
            "method": "update"
           },
           {
            "args": [
             {
              "marker.color": [
               [
                "#B0BEC5",
                "#B0BEC5",
                "#B0BEC5",
                "#B0BEC5",
                "#B0BEC5",
                "#B0BEC5",
                "#B0BEC5",
                "#B0BEC5",
                "#B0BEC5",
                "#B0BEC5",
                "#B0BEC5",
                "#B0BEC5",
                "#B0BEC5",
                "#B0BEC5",
                "#B0BEC5",
                "#B0BEC5",
                "#B0BEC5",
                "#B0BEC5",
                "#B0BEC5",
                "#B0BEC5",
                "#B0BEC5",
                "#B0BEC5",
                "#B0BEC5",
                "#B0BEC5",
                "#B0BEC5",
                "#B0BEC5",
                "#B0BEC5",
                "#B0BEC5",
                "#B0BEC5",
                "#B0BEC5",
                "#B0BEC5",
                "#B0BEC5",
                "red",
                "#B0BEC5",
                "#B0BEC5",
                "#B0BEC5",
                "#B0BEC5",
                "#B0BEC5",
                "#B0BEC5"
               ]
              ]
             }
            ],
            "label": "Topic 32",
            "method": "update"
           },
           {
            "args": [
             {
              "marker.color": [
               [
                "#B0BEC5",
                "#B0BEC5",
                "#B0BEC5",
                "#B0BEC5",
                "#B0BEC5",
                "#B0BEC5",
                "#B0BEC5",
                "#B0BEC5",
                "#B0BEC5",
                "#B0BEC5",
                "#B0BEC5",
                "#B0BEC5",
                "#B0BEC5",
                "#B0BEC5",
                "#B0BEC5",
                "#B0BEC5",
                "#B0BEC5",
                "#B0BEC5",
                "#B0BEC5",
                "#B0BEC5",
                "#B0BEC5",
                "#B0BEC5",
                "#B0BEC5",
                "#B0BEC5",
                "#B0BEC5",
                "#B0BEC5",
                "#B0BEC5",
                "#B0BEC5",
                "#B0BEC5",
                "#B0BEC5",
                "#B0BEC5",
                "#B0BEC5",
                "#B0BEC5",
                "red",
                "#B0BEC5",
                "#B0BEC5",
                "#B0BEC5",
                "#B0BEC5",
                "#B0BEC5"
               ]
              ]
             }
            ],
            "label": "Topic 33",
            "method": "update"
           },
           {
            "args": [
             {
              "marker.color": [
               [
                "#B0BEC5",
                "#B0BEC5",
                "#B0BEC5",
                "#B0BEC5",
                "#B0BEC5",
                "#B0BEC5",
                "#B0BEC5",
                "#B0BEC5",
                "#B0BEC5",
                "#B0BEC5",
                "#B0BEC5",
                "#B0BEC5",
                "#B0BEC5",
                "#B0BEC5",
                "#B0BEC5",
                "#B0BEC5",
                "#B0BEC5",
                "#B0BEC5",
                "#B0BEC5",
                "#B0BEC5",
                "#B0BEC5",
                "#B0BEC5",
                "#B0BEC5",
                "#B0BEC5",
                "#B0BEC5",
                "#B0BEC5",
                "#B0BEC5",
                "#B0BEC5",
                "#B0BEC5",
                "#B0BEC5",
                "#B0BEC5",
                "#B0BEC5",
                "#B0BEC5",
                "#B0BEC5",
                "red",
                "#B0BEC5",
                "#B0BEC5",
                "#B0BEC5",
                "#B0BEC5"
               ]
              ]
             }
            ],
            "label": "Topic 34",
            "method": "update"
           },
           {
            "args": [
             {
              "marker.color": [
               [
                "#B0BEC5",
                "#B0BEC5",
                "#B0BEC5",
                "#B0BEC5",
                "#B0BEC5",
                "#B0BEC5",
                "#B0BEC5",
                "#B0BEC5",
                "#B0BEC5",
                "#B0BEC5",
                "#B0BEC5",
                "#B0BEC5",
                "#B0BEC5",
                "#B0BEC5",
                "#B0BEC5",
                "#B0BEC5",
                "#B0BEC5",
                "#B0BEC5",
                "#B0BEC5",
                "#B0BEC5",
                "#B0BEC5",
                "#B0BEC5",
                "#B0BEC5",
                "#B0BEC5",
                "#B0BEC5",
                "#B0BEC5",
                "#B0BEC5",
                "#B0BEC5",
                "#B0BEC5",
                "#B0BEC5",
                "#B0BEC5",
                "#B0BEC5",
                "#B0BEC5",
                "#B0BEC5",
                "#B0BEC5",
                "red",
                "#B0BEC5",
                "#B0BEC5",
                "#B0BEC5"
               ]
              ]
             }
            ],
            "label": "Topic 35",
            "method": "update"
           },
           {
            "args": [
             {
              "marker.color": [
               [
                "#B0BEC5",
                "#B0BEC5",
                "#B0BEC5",
                "#B0BEC5",
                "#B0BEC5",
                "#B0BEC5",
                "#B0BEC5",
                "#B0BEC5",
                "#B0BEC5",
                "#B0BEC5",
                "#B0BEC5",
                "#B0BEC5",
                "#B0BEC5",
                "#B0BEC5",
                "#B0BEC5",
                "#B0BEC5",
                "#B0BEC5",
                "#B0BEC5",
                "#B0BEC5",
                "#B0BEC5",
                "#B0BEC5",
                "#B0BEC5",
                "#B0BEC5",
                "#B0BEC5",
                "#B0BEC5",
                "#B0BEC5",
                "#B0BEC5",
                "#B0BEC5",
                "#B0BEC5",
                "#B0BEC5",
                "#B0BEC5",
                "#B0BEC5",
                "#B0BEC5",
                "#B0BEC5",
                "#B0BEC5",
                "#B0BEC5",
                "red",
                "#B0BEC5",
                "#B0BEC5"
               ]
              ]
             }
            ],
            "label": "Topic 36",
            "method": "update"
           },
           {
            "args": [
             {
              "marker.color": [
               [
                "#B0BEC5",
                "#B0BEC5",
                "#B0BEC5",
                "#B0BEC5",
                "#B0BEC5",
                "#B0BEC5",
                "#B0BEC5",
                "#B0BEC5",
                "#B0BEC5",
                "#B0BEC5",
                "#B0BEC5",
                "#B0BEC5",
                "#B0BEC5",
                "#B0BEC5",
                "#B0BEC5",
                "#B0BEC5",
                "#B0BEC5",
                "#B0BEC5",
                "#B0BEC5",
                "#B0BEC5",
                "#B0BEC5",
                "#B0BEC5",
                "#B0BEC5",
                "#B0BEC5",
                "#B0BEC5",
                "#B0BEC5",
                "#B0BEC5",
                "#B0BEC5",
                "#B0BEC5",
                "#B0BEC5",
                "#B0BEC5",
                "#B0BEC5",
                "#B0BEC5",
                "#B0BEC5",
                "#B0BEC5",
                "#B0BEC5",
                "#B0BEC5",
                "red",
                "#B0BEC5"
               ]
              ]
             }
            ],
            "label": "Topic 37",
            "method": "update"
           },
           {
            "args": [
             {
              "marker.color": [
               [
                "#B0BEC5",
                "#B0BEC5",
                "#B0BEC5",
                "#B0BEC5",
                "#B0BEC5",
                "#B0BEC5",
                "#B0BEC5",
                "#B0BEC5",
                "#B0BEC5",
                "#B0BEC5",
                "#B0BEC5",
                "#B0BEC5",
                "#B0BEC5",
                "#B0BEC5",
                "#B0BEC5",
                "#B0BEC5",
                "#B0BEC5",
                "#B0BEC5",
                "#B0BEC5",
                "#B0BEC5",
                "#B0BEC5",
                "#B0BEC5",
                "#B0BEC5",
                "#B0BEC5",
                "#B0BEC5",
                "#B0BEC5",
                "#B0BEC5",
                "#B0BEC5",
                "#B0BEC5",
                "#B0BEC5",
                "#B0BEC5",
                "#B0BEC5",
                "#B0BEC5",
                "#B0BEC5",
                "#B0BEC5",
                "#B0BEC5",
                "#B0BEC5",
                "#B0BEC5",
                "red"
               ]
              ]
             }
            ],
            "label": "Topic 38",
            "method": "update"
           }
          ]
         }
        ],
        "template": {
         "data": {
          "bar": [
           {
            "error_x": {
             "color": "rgb(36,36,36)"
            },
            "error_y": {
             "color": "rgb(36,36,36)"
            },
            "marker": {
             "line": {
              "color": "white",
              "width": 0.5
             },
             "pattern": {
              "fillmode": "overlay",
              "size": 10,
              "solidity": 0.2
             }
            },
            "type": "bar"
           }
          ],
          "barpolar": [
           {
            "marker": {
             "line": {
              "color": "white",
              "width": 0.5
             },
             "pattern": {
              "fillmode": "overlay",
              "size": 10,
              "solidity": 0.2
             }
            },
            "type": "barpolar"
           }
          ],
          "carpet": [
           {
            "aaxis": {
             "endlinecolor": "rgb(36,36,36)",
             "gridcolor": "white",
             "linecolor": "white",
             "minorgridcolor": "white",
             "startlinecolor": "rgb(36,36,36)"
            },
            "baxis": {
             "endlinecolor": "rgb(36,36,36)",
             "gridcolor": "white",
             "linecolor": "white",
             "minorgridcolor": "white",
             "startlinecolor": "rgb(36,36,36)"
            },
            "type": "carpet"
           }
          ],
          "choropleth": [
           {
            "colorbar": {
             "outlinewidth": 1,
             "tickcolor": "rgb(36,36,36)",
             "ticks": "outside"
            },
            "type": "choropleth"
           }
          ],
          "contour": [
           {
            "colorbar": {
             "outlinewidth": 1,
             "tickcolor": "rgb(36,36,36)",
             "ticks": "outside"
            },
            "colorscale": [
             [
              0,
              "#440154"
             ],
             [
              0.1111111111111111,
              "#482878"
             ],
             [
              0.2222222222222222,
              "#3e4989"
             ],
             [
              0.3333333333333333,
              "#31688e"
             ],
             [
              0.4444444444444444,
              "#26828e"
             ],
             [
              0.5555555555555556,
              "#1f9e89"
             ],
             [
              0.6666666666666666,
              "#35b779"
             ],
             [
              0.7777777777777778,
              "#6ece58"
             ],
             [
              0.8888888888888888,
              "#b5de2b"
             ],
             [
              1,
              "#fde725"
             ]
            ],
            "type": "contour"
           }
          ],
          "contourcarpet": [
           {
            "colorbar": {
             "outlinewidth": 1,
             "tickcolor": "rgb(36,36,36)",
             "ticks": "outside"
            },
            "type": "contourcarpet"
           }
          ],
          "heatmap": [
           {
            "colorbar": {
             "outlinewidth": 1,
             "tickcolor": "rgb(36,36,36)",
             "ticks": "outside"
            },
            "colorscale": [
             [
              0,
              "#440154"
             ],
             [
              0.1111111111111111,
              "#482878"
             ],
             [
              0.2222222222222222,
              "#3e4989"
             ],
             [
              0.3333333333333333,
              "#31688e"
             ],
             [
              0.4444444444444444,
              "#26828e"
             ],
             [
              0.5555555555555556,
              "#1f9e89"
             ],
             [
              0.6666666666666666,
              "#35b779"
             ],
             [
              0.7777777777777778,
              "#6ece58"
             ],
             [
              0.8888888888888888,
              "#b5de2b"
             ],
             [
              1,
              "#fde725"
             ]
            ],
            "type": "heatmap"
           }
          ],
          "histogram": [
           {
            "marker": {
             "line": {
              "color": "white",
              "width": 0.6
             }
            },
            "type": "histogram"
           }
          ],
          "histogram2d": [
           {
            "colorbar": {
             "outlinewidth": 1,
             "tickcolor": "rgb(36,36,36)",
             "ticks": "outside"
            },
            "colorscale": [
             [
              0,
              "#440154"
             ],
             [
              0.1111111111111111,
              "#482878"
             ],
             [
              0.2222222222222222,
              "#3e4989"
             ],
             [
              0.3333333333333333,
              "#31688e"
             ],
             [
              0.4444444444444444,
              "#26828e"
             ],
             [
              0.5555555555555556,
              "#1f9e89"
             ],
             [
              0.6666666666666666,
              "#35b779"
             ],
             [
              0.7777777777777778,
              "#6ece58"
             ],
             [
              0.8888888888888888,
              "#b5de2b"
             ],
             [
              1,
              "#fde725"
             ]
            ],
            "type": "histogram2d"
           }
          ],
          "histogram2dcontour": [
           {
            "colorbar": {
             "outlinewidth": 1,
             "tickcolor": "rgb(36,36,36)",
             "ticks": "outside"
            },
            "colorscale": [
             [
              0,
              "#440154"
             ],
             [
              0.1111111111111111,
              "#482878"
             ],
             [
              0.2222222222222222,
              "#3e4989"
             ],
             [
              0.3333333333333333,
              "#31688e"
             ],
             [
              0.4444444444444444,
              "#26828e"
             ],
             [
              0.5555555555555556,
              "#1f9e89"
             ],
             [
              0.6666666666666666,
              "#35b779"
             ],
             [
              0.7777777777777778,
              "#6ece58"
             ],
             [
              0.8888888888888888,
              "#b5de2b"
             ],
             [
              1,
              "#fde725"
             ]
            ],
            "type": "histogram2dcontour"
           }
          ],
          "mesh3d": [
           {
            "colorbar": {
             "outlinewidth": 1,
             "tickcolor": "rgb(36,36,36)",
             "ticks": "outside"
            },
            "type": "mesh3d"
           }
          ],
          "parcoords": [
           {
            "line": {
             "colorbar": {
              "outlinewidth": 1,
              "tickcolor": "rgb(36,36,36)",
              "ticks": "outside"
             }
            },
            "type": "parcoords"
           }
          ],
          "pie": [
           {
            "automargin": true,
            "type": "pie"
           }
          ],
          "scatter": [
           {
            "fillpattern": {
             "fillmode": "overlay",
             "size": 10,
             "solidity": 0.2
            },
            "type": "scatter"
           }
          ],
          "scatter3d": [
           {
            "line": {
             "colorbar": {
              "outlinewidth": 1,
              "tickcolor": "rgb(36,36,36)",
              "ticks": "outside"
             }
            },
            "marker": {
             "colorbar": {
              "outlinewidth": 1,
              "tickcolor": "rgb(36,36,36)",
              "ticks": "outside"
             }
            },
            "type": "scatter3d"
           }
          ],
          "scattercarpet": [
           {
            "marker": {
             "colorbar": {
              "outlinewidth": 1,
              "tickcolor": "rgb(36,36,36)",
              "ticks": "outside"
             }
            },
            "type": "scattercarpet"
           }
          ],
          "scattergeo": [
           {
            "marker": {
             "colorbar": {
              "outlinewidth": 1,
              "tickcolor": "rgb(36,36,36)",
              "ticks": "outside"
             }
            },
            "type": "scattergeo"
           }
          ],
          "scattergl": [
           {
            "marker": {
             "colorbar": {
              "outlinewidth": 1,
              "tickcolor": "rgb(36,36,36)",
              "ticks": "outside"
             }
            },
            "type": "scattergl"
           }
          ],
          "scattermap": [
           {
            "marker": {
             "colorbar": {
              "outlinewidth": 1,
              "tickcolor": "rgb(36,36,36)",
              "ticks": "outside"
             }
            },
            "type": "scattermap"
           }
          ],
          "scattermapbox": [
           {
            "marker": {
             "colorbar": {
              "outlinewidth": 1,
              "tickcolor": "rgb(36,36,36)",
              "ticks": "outside"
             }
            },
            "type": "scattermapbox"
           }
          ],
          "scatterpolar": [
           {
            "marker": {
             "colorbar": {
              "outlinewidth": 1,
              "tickcolor": "rgb(36,36,36)",
              "ticks": "outside"
             }
            },
            "type": "scatterpolar"
           }
          ],
          "scatterpolargl": [
           {
            "marker": {
             "colorbar": {
              "outlinewidth": 1,
              "tickcolor": "rgb(36,36,36)",
              "ticks": "outside"
             }
            },
            "type": "scatterpolargl"
           }
          ],
          "scatterternary": [
           {
            "marker": {
             "colorbar": {
              "outlinewidth": 1,
              "tickcolor": "rgb(36,36,36)",
              "ticks": "outside"
             }
            },
            "type": "scatterternary"
           }
          ],
          "surface": [
           {
            "colorbar": {
             "outlinewidth": 1,
             "tickcolor": "rgb(36,36,36)",
             "ticks": "outside"
            },
            "colorscale": [
             [
              0,
              "#440154"
             ],
             [
              0.1111111111111111,
              "#482878"
             ],
             [
              0.2222222222222222,
              "#3e4989"
             ],
             [
              0.3333333333333333,
              "#31688e"
             ],
             [
              0.4444444444444444,
              "#26828e"
             ],
             [
              0.5555555555555556,
              "#1f9e89"
             ],
             [
              0.6666666666666666,
              "#35b779"
             ],
             [
              0.7777777777777778,
              "#6ece58"
             ],
             [
              0.8888888888888888,
              "#b5de2b"
             ],
             [
              1,
              "#fde725"
             ]
            ],
            "type": "surface"
           }
          ],
          "table": [
           {
            "cells": {
             "fill": {
              "color": "rgb(237,237,237)"
             },
             "line": {
              "color": "white"
             }
            },
            "header": {
             "fill": {
              "color": "rgb(217,217,217)"
             },
             "line": {
              "color": "white"
             }
            },
            "type": "table"
           }
          ]
         },
         "layout": {
          "annotationdefaults": {
           "arrowhead": 0,
           "arrowwidth": 1
          },
          "autotypenumbers": "strict",
          "coloraxis": {
           "colorbar": {
            "outlinewidth": 1,
            "tickcolor": "rgb(36,36,36)",
            "ticks": "outside"
           }
          },
          "colorscale": {
           "diverging": [
            [
             0,
             "rgb(103,0,31)"
            ],
            [
             0.1,
             "rgb(178,24,43)"
            ],
            [
             0.2,
             "rgb(214,96,77)"
            ],
            [
             0.3,
             "rgb(244,165,130)"
            ],
            [
             0.4,
             "rgb(253,219,199)"
            ],
            [
             0.5,
             "rgb(247,247,247)"
            ],
            [
             0.6,
             "rgb(209,229,240)"
            ],
            [
             0.7,
             "rgb(146,197,222)"
            ],
            [
             0.8,
             "rgb(67,147,195)"
            ],
            [
             0.9,
             "rgb(33,102,172)"
            ],
            [
             1,
             "rgb(5,48,97)"
            ]
           ],
           "sequential": [
            [
             0,
             "#440154"
            ],
            [
             0.1111111111111111,
             "#482878"
            ],
            [
             0.2222222222222222,
             "#3e4989"
            ],
            [
             0.3333333333333333,
             "#31688e"
            ],
            [
             0.4444444444444444,
             "#26828e"
            ],
            [
             0.5555555555555556,
             "#1f9e89"
            ],
            [
             0.6666666666666666,
             "#35b779"
            ],
            [
             0.7777777777777778,
             "#6ece58"
            ],
            [
             0.8888888888888888,
             "#b5de2b"
            ],
            [
             1,
             "#fde725"
            ]
           ],
           "sequentialminus": [
            [
             0,
             "#440154"
            ],
            [
             0.1111111111111111,
             "#482878"
            ],
            [
             0.2222222222222222,
             "#3e4989"
            ],
            [
             0.3333333333333333,
             "#31688e"
            ],
            [
             0.4444444444444444,
             "#26828e"
            ],
            [
             0.5555555555555556,
             "#1f9e89"
            ],
            [
             0.6666666666666666,
             "#35b779"
            ],
            [
             0.7777777777777778,
             "#6ece58"
            ],
            [
             0.8888888888888888,
             "#b5de2b"
            ],
            [
             1,
             "#fde725"
            ]
           ]
          },
          "colorway": [
           "#1F77B4",
           "#FF7F0E",
           "#2CA02C",
           "#D62728",
           "#9467BD",
           "#8C564B",
           "#E377C2",
           "#7F7F7F",
           "#BCBD22",
           "#17BECF"
          ],
          "font": {
           "color": "rgb(36,36,36)"
          },
          "geo": {
           "bgcolor": "white",
           "lakecolor": "white",
           "landcolor": "white",
           "showlakes": true,
           "showland": true,
           "subunitcolor": "white"
          },
          "hoverlabel": {
           "align": "left"
          },
          "hovermode": "closest",
          "mapbox": {
           "style": "light"
          },
          "paper_bgcolor": "white",
          "plot_bgcolor": "white",
          "polar": {
           "angularaxis": {
            "gridcolor": "rgb(232,232,232)",
            "linecolor": "rgb(36,36,36)",
            "showgrid": false,
            "showline": true,
            "ticks": "outside"
           },
           "bgcolor": "white",
           "radialaxis": {
            "gridcolor": "rgb(232,232,232)",
            "linecolor": "rgb(36,36,36)",
            "showgrid": false,
            "showline": true,
            "ticks": "outside"
           }
          },
          "scene": {
           "xaxis": {
            "backgroundcolor": "white",
            "gridcolor": "rgb(232,232,232)",
            "gridwidth": 2,
            "linecolor": "rgb(36,36,36)",
            "showbackground": true,
            "showgrid": false,
            "showline": true,
            "ticks": "outside",
            "zeroline": false,
            "zerolinecolor": "rgb(36,36,36)"
           },
           "yaxis": {
            "backgroundcolor": "white",
            "gridcolor": "rgb(232,232,232)",
            "gridwidth": 2,
            "linecolor": "rgb(36,36,36)",
            "showbackground": true,
            "showgrid": false,
            "showline": true,
            "ticks": "outside",
            "zeroline": false,
            "zerolinecolor": "rgb(36,36,36)"
           },
           "zaxis": {
            "backgroundcolor": "white",
            "gridcolor": "rgb(232,232,232)",
            "gridwidth": 2,
            "linecolor": "rgb(36,36,36)",
            "showbackground": true,
            "showgrid": false,
            "showline": true,
            "ticks": "outside",
            "zeroline": false,
            "zerolinecolor": "rgb(36,36,36)"
           }
          },
          "shapedefaults": {
           "fillcolor": "black",
           "line": {
            "width": 0
           },
           "opacity": 0.3
          },
          "ternary": {
           "aaxis": {
            "gridcolor": "rgb(232,232,232)",
            "linecolor": "rgb(36,36,36)",
            "showgrid": false,
            "showline": true,
            "ticks": "outside"
           },
           "baxis": {
            "gridcolor": "rgb(232,232,232)",
            "linecolor": "rgb(36,36,36)",
            "showgrid": false,
            "showline": true,
            "ticks": "outside"
           },
           "bgcolor": "white",
           "caxis": {
            "gridcolor": "rgb(232,232,232)",
            "linecolor": "rgb(36,36,36)",
            "showgrid": false,
            "showline": true,
            "ticks": "outside"
           }
          },
          "title": {
           "x": 0.05
          },
          "xaxis": {
           "automargin": true,
           "gridcolor": "rgb(232,232,232)",
           "linecolor": "rgb(36,36,36)",
           "showgrid": false,
           "showline": true,
           "ticks": "outside",
           "title": {
            "standoff": 15
           },
           "zeroline": false,
           "zerolinecolor": "rgb(36,36,36)"
          },
          "yaxis": {
           "automargin": true,
           "gridcolor": "rgb(232,232,232)",
           "linecolor": "rgb(36,36,36)",
           "showgrid": false,
           "showline": true,
           "ticks": "outside",
           "title": {
            "standoff": 15
           },
           "zeroline": false,
           "zerolinecolor": "rgb(36,36,36)"
          }
         }
        },
        "title": {
         "font": {
          "color": "Black",
          "size": 22
         },
         "text": "<b>Intertopic Distance Map</b>",
         "x": 0.5,
         "xanchor": "center",
         "y": 0.95,
         "yanchor": "top"
        },
        "width": 650,
        "xaxis": {
         "anchor": "y",
         "domain": [
          0,
          1
         ],
         "range": [
          -12.97156319618225,
          25.75850143432617
         ],
         "title": {
          "text": ""
         },
         "visible": false
        },
        "yaxis": {
         "anchor": "x",
         "domain": [
          0,
          1
         ],
         "range": [
          -15.404400777816772,
          30.383430004119873
         ],
         "title": {
          "text": ""
         },
         "visible": false
        }
       }
      }
     },
     "metadata": {},
     "output_type": "display_data"
    }
   ],
   "source": [
    "topic_model.visualize_topics(custom_labels=True)"
   ]
  },
  {
   "cell_type": "code",
   "execution_count": 16,
   "id": "e2d6856f",
   "metadata": {},
   "outputs": [
    {
     "data": {
      "text/html": [
       "<div>\n",
       "<style scoped>\n",
       "    .dataframe tbody tr th:only-of-type {\n",
       "        vertical-align: middle;\n",
       "    }\n",
       "\n",
       "    .dataframe tbody tr th {\n",
       "        vertical-align: top;\n",
       "    }\n",
       "\n",
       "    .dataframe thead th {\n",
       "        text-align: right;\n",
       "    }\n",
       "</style>\n",
       "<table border=\"1\" class=\"dataframe\">\n",
       "  <thead>\n",
       "    <tr style=\"text-align: right;\">\n",
       "      <th></th>\n",
       "      <th>Topic</th>\n",
       "      <th>Count</th>\n",
       "      <th>Name</th>\n",
       "      <th>CustomName</th>\n",
       "      <th>Representation</th>\n",
       "      <th>KeyBERT</th>\n",
       "      <th>OpenAI</th>\n",
       "      <th>MMR</th>\n",
       "      <th>POS</th>\n",
       "      <th>Representative_Docs</th>\n",
       "    </tr>\n",
       "  </thead>\n",
       "  <tbody>\n",
       "    <tr>\n",
       "      <th>0</th>\n",
       "      <td>-1</td>\n",
       "      <td>467</td>\n",
       "      <td>-1_slop_ai_internet_content</td>\n",
       "      <td>Outlier Topic</td>\n",
       "      <td>[slop, ai, internet, content, ai slop, people,...</td>\n",
       "      <td>[ai generated, generative ai, ai tools, social...</td>\n",
       "      <td>[AI-Generated Content and Misinformation]</td>\n",
       "      <td>[slop, content, spam, generated, social media,...</td>\n",
       "      <td>[slop, internet, content, people, spam, image,...</td>\n",
       "      <td>[That information was readily available elsewh...</td>\n",
       "    </tr>\n",
       "    <tr>\n",
       "      <th>1</th>\n",
       "      <td>0</td>\n",
       "      <td>179</td>\n",
       "      <td>0_facebook_images_content_ai</td>\n",
       "      <td>AI-Generated Content Monetization</td>\n",
       "      <td>[facebook, images, content, ai, money, creator...</td>\n",
       "      <td>[social media, tiktok, content creators, ai ge...</td>\n",
       "      <td>[AI-Generated Content Monetization]</td>\n",
       "      <td>[facebook, images, creators, platforms, ai gen...</td>\n",
       "      <td>[images, content, money, creators, platforms, ...</td>\n",
       "      <td>[These pages make money through Facebook’s Per...</td>\n",
       "    </tr>\n",
       "    <tr>\n",
       "      <th>2</th>\n",
       "      <td>1</td>\n",
       "      <td>75</td>\n",
       "      <td>1_activision_game_black_steam</td>\n",
       "      <td>Activision's Use of Generative AI in Gaming</td>\n",
       "      <td>[activision, game, black, steam, sold, assets,...</td>\n",
       "      <td>[activision, microsoft, video games, ai genera...</td>\n",
       "      <td>[Activision's Use of Generative AI in Gaming]</td>\n",
       "      <td>[activision, steam, assets, generative ai, zom...</td>\n",
       "      <td>[game, black, steam, assets, zombie, generativ...</td>\n",
       "      <td>[Activision is embroiled in a backlash over Ca...</td>\n",
       "    </tr>\n",
       "    <tr>\n",
       "      <th>3</th>\n",
       "      <td>2</td>\n",
       "      <td>63</td>\n",
       "      <td>2_cola_coca_coca cola_company</td>\n",
       "      <td>Coca-Cola Christmas AI Controversy</td>\n",
       "      <td>[cola, coca, coca cola, company, ad, holiday, ...</td>\n",
       "      <td>[coca cola, coca, commercials, company said, a...</td>\n",
       "      <td>[Coca-Cola Christmas AI Controversy]</td>\n",
       "      <td>[coca cola, company, christmas, commercials, b...</td>\n",
       "      <td>[cola, company, ad, holiday, commercial, comme...</td>\n",
       "      <td>[- ^ \"Coca-Cola causes controversy with AI-gen...</td>\n",
       "    </tr>\n",
       "    <tr>\n",
       "      <th>4</th>\n",
       "      <td>3</td>\n",
       "      <td>61</td>\n",
       "      <td>3_event_experience_children_factory</td>\n",
       "      <td>Controversial Willy's Chocolate Event</td>\n",
       "      <td>[event, experience, children, factory, imagina...</td>\n",
       "      <td>[charlie, house illuminati, venue, generated g...</td>\n",
       "      <td>[Controversial Willy's Chocolate Event]</td>\n",
       "      <td>[experience, imagination, arrived, connell, tr...</td>\n",
       "      <td>[event, experience, children, factory, imagina...</td>\n",
       "      <td>[Put on by London-based event company House of...</td>\n",
       "    </tr>\n",
       "    <tr>\n",
       "      <th>5</th>\n",
       "      <td>4</td>\n",
       "      <td>61</td>\n",
       "      <td>4_misinformation_fema_reality_people</td>\n",
       "      <td>Misinformation and Conspiracy During Hurricanes</td>\n",
       "      <td>[misinformation, fema, reality, people, theori...</td>\n",
       "      <td>[misinformation, conspiracy theories, fema, cr...</td>\n",
       "      <td>[Misinformation and Conspiracy During Hurricanes]</td>\n",
       "      <td>[misinformation, fema, reality, theories, hurr...</td>\n",
       "      <td>[misinformation, reality, people, theories, hu...</td>\n",
       "      <td>[FEMA Administrator Deanne Criswell said that ...</td>\n",
       "    </tr>\n",
       "    <tr>\n",
       "      <th>6</th>\n",
       "      <td>5</td>\n",
       "      <td>60</td>\n",
       "      <td>5_parade_dublin_halloween_halloween parade</td>\n",
       "      <td>Dublin Halloween Parade Hoax</td>\n",
       "      <td>[parade, dublin, halloween, halloween parade, ...</td>\n",
       "      <td>[dublin halloween, halloween parade, parade du...</td>\n",
       "      <td>[Dublin Halloween Parade Hoax]</td>\n",
       "      <td>[dublin, halloween, halloween parade, parade d...</td>\n",
       "      <td>[parade, halloween, street, city, people, even...</td>\n",
       "      <td>[Chaos in Dublin as thousands turn up for AI ‘...</td>\n",
       "    </tr>\n",
       "    <tr>\n",
       "      <th>7</th>\n",
       "      <td>6</td>\n",
       "      <td>47</td>\n",
       "      <td>6_google_search_results_websites</td>\n",
       "      <td>Google Search AI Integration</td>\n",
       "      <td>[google, search, results, websites, engine, se...</td>\n",
       "      <td>[results google, search engines, google, searc...</td>\n",
       "      <td>[Google Search AI Integration]</td>\n",
       "      <td>[google, websites, engine, search results, ans...</td>\n",
       "      <td>[search, results, websites, engine, links, pag...</td>\n",
       "      <td>[into its search results on Bing, and it had s...</td>\n",
       "    </tr>\n",
       "    <tr>\n",
       "      <th>8</th>\n",
       "      <td>7</td>\n",
       "      <td>43</td>\n",
       "      <td>7_times_net_eurogamer_york times</td>\n",
       "      <td>Prominent News and Media Outlets</td>\n",
       "      <td>[times, net, eurogamer, york times, news, atla...</td>\n",
       "      <td>[york times, new york, nbc news, eurogamer, ne...</td>\n",
       "      <td>[Prominent News and Media Outlets]</td>\n",
       "      <td>[eurogamer, york times, news, reporter, verge,...</td>\n",
       "      <td>[news, reporter, globe, field, sports, coverag...</td>\n",
       "      <td>[The New York Times., The New York Times., The...</td>\n",
       "    </tr>\n",
       "    <tr>\n",
       "      <th>9</th>\n",
       "      <td>8</td>\n",
       "      <td>40</td>\n",
       "      <td>8_kiryu_enix_square enix_square</td>\n",
       "      <td>Square Enix's AI Innovation Strategy</td>\n",
       "      <td>[kiryu, enix, square enix, square, letter, agg...</td>\n",
       "      <td>[square enix, enix president, applying ai, eni...</td>\n",
       "      <td>[Square Enix's AI Innovation Strategy]</td>\n",
       "      <td>[enix, square enix, applying ai, aggressive ap...</td>\n",
       "      <td>[letter, aggressive, new, technologies, develo...</td>\n",
       "      <td>[In turn, Kiryu and Square Enix plan to be, as...</td>\n",
       "    </tr>\n",
       "    <tr>\n",
       "      <th>10</th>\n",
       "      <td>9</td>\n",
       "      <td>40</td>\n",
       "      <td>9_scammers_mistake_highly_actually</td>\n",
       "      <td>Event Cancellation and Refund Controversy</td>\n",
       "      <td>[scammers, mistake, highly, actually, scam, ev...</td>\n",
       "      <td>[scammers, scam, unfortunately, canceled, canc...</td>\n",
       "      <td>[Event Cancellation and Refund Controversy]</td>\n",
       "      <td>[scammers, mistake, tried best, highly embarra...</td>\n",
       "      <td>[scammers, mistake, scam, event, statement, mi...</td>\n",
       "      <td>[\"This is a difficult time for me, and I ask f...</td>\n",
       "    </tr>\n",
       "    <tr>\n",
       "      <th>11</th>\n",
       "      <td>10</td>\n",
       "      <td>35</td>\n",
       "      <td>10_trump_harris_donald_donald trump</td>\n",
       "      <td>AI-Generated Political Fan Imagery</td>\n",
       "      <td>[trump, harris, donald, donald trump, posted, ...</td>\n",
       "      <td>[swifties trump, trump posted, way trump, trum...</td>\n",
       "      <td>[AI-Generated Political Fan Imagery]</td>\n",
       "      <td>[trump, donald trump, trump posted, elon musk,...</td>\n",
       "      <td>[images, women, image, photo, depictions, soci...</td>\n",
       "      <td>[[14] In August 2024, the American politician ...</td>\n",
       "    </tr>\n",
       "    <tr>\n",
       "      <th>12</th>\n",
       "      <td>11</td>\n",
       "      <td>35</td>\n",
       "      <td>11_brand_entrepreneurs_content_authenticity</td>\n",
       "      <td>Balancing AI and Human Content</td>\n",
       "      <td>[brand, entrepreneurs, content, authenticity, ...</td>\n",
       "      <td>[creativity ai, engagement ai, quality content...</td>\n",
       "      <td>[Balancing AI and Human Content]</td>\n",
       "      <td>[brand, entrepreneurs, content, authenticity, ...</td>\n",
       "      <td>[brand, entrepreneurs, content, authenticity, ...</td>\n",
       "      <td>[As entrepreneurs, our brands are our lifebloo...</td>\n",
       "    </tr>\n",
       "    <tr>\n",
       "      <th>13</th>\n",
       "      <td>12</td>\n",
       "      <td>34</td>\n",
       "      <td>12_film_poster_amazon_generated</td>\n",
       "      <td>AI-Generated Film Promotion Controversies</td>\n",
       "      <td>[film, poster, amazon, generated, ai generated...</td>\n",
       "      <td>[posters, poster, criticized ai, used ai, film...</td>\n",
       "      <td>[AI-Generated Film Promotion Controversies]</td>\n",
       "      <td>[film, amazon, generated, posters, narration, ...</td>\n",
       "      <td>[film, poster, posters, narration, voice, qual...</td>\n",
       "      <td>[- ^ \"Amazon Mocked for Slapping AI-Generated ...</td>\n",
       "    </tr>\n",
       "    <tr>\n",
       "      <th>14</th>\n",
       "      <td>13</td>\n",
       "      <td>33</td>\n",
       "      <td>13_2024_november 2024_november_august 2024</td>\n",
       "      <td>2024 November News and Events</td>\n",
       "      <td>[2024, november 2024, november, august 2024, j...</td>\n",
       "      <td>[november 2024, october 2024, august 2024, sep...</td>\n",
       "      <td>[2024 November News and Events]</td>\n",
       "      <td>[november 2024, august 2024, october 2024, jan...</td>\n",
       "      <td>[, , , , , , , , , ]</td>\n",
       "      <td>[- ^ Hüsmen, Arife (November 2024)., - ^ Kalit...</td>\n",
       "    </tr>\n",
       "    <tr>\n",
       "      <th>15</th>\n",
       "      <td>14</td>\n",
       "      <td>33</td>\n",
       "      <td>14_foamstars_square enix_enix_square</td>\n",
       "      <td>Square Enix AI Game Art</td>\n",
       "      <td>[foamstars, square enix, enix, square, game, a...</td>\n",
       "      <td>[square enix, foamstars, used ai, game art, sa...</td>\n",
       "      <td>[Square Enix AI Game Art]</td>\n",
       "      <td>[foamstars, square enix, enix, midjourney, alb...</td>\n",
       "      <td>[game, art, album, covers, team, upcoming, dev...</td>\n",
       "      <td>[- ^ \"PlayStation Exclusive Foamstars Has AI-G...</td>\n",
       "    </tr>\n",
       "    <tr>\n",
       "      <th>16</th>\n",
       "      <td>15</td>\n",
       "      <td>28</td>\n",
       "      <td>15_books_catalog_book_ai generated</td>\n",
       "      <td>AI-Generated Books in Libraries</td>\n",
       "      <td>[books, catalog, book, ai generated, generated...</td>\n",
       "      <td>[ai generated, books, hundreds ai, written ai,...</td>\n",
       "      <td>[AI-Generated Books in Libraries]</td>\n",
       "      <td>[books, ai generated, mushroom, guides, publis...</td>\n",
       "      <td>[books, catalog, book, customers, cost, mushro...</td>\n",
       "      <td>[Both companies have a variety of payment opti...</td>\n",
       "    </tr>\n",
       "    <tr>\n",
       "      <th>17</th>\n",
       "      <td>16</td>\n",
       "      <td>28</td>\n",
       "      <td>16_debate_academic_ai potential_implications</td>\n",
       "      <td>AI Debate and Implications</td>\n",
       "      <td>[debate, academic, ai potential, implications,...</td>\n",
       "      <td>[intelligence ai, artificial intelligence, ai ...</td>\n",
       "      <td>[AI Debate and Implications]</td>\n",
       "      <td>[debate, ai potential, implications, 10 percen...</td>\n",
       "      <td>[debate, academic, implications, potential, pe...</td>\n",
       "      <td>[Kiryu began by talking about how AI and its \"...</td>\n",
       "    </tr>\n",
       "    <tr>\n",
       "      <th>18</th>\n",
       "      <td>17</td>\n",
       "      <td>28</td>\n",
       "      <td>17_trump_food_fast_man</td>\n",
       "      <td>Trump Fast Food AIMockery</td>\n",
       "      <td>[trump, food, fast, man, candidate, slop, wind...</td>\n",
       "      <td>[slop trump, way trump, trump, fake ai, slop, ...</td>\n",
       "      <td>[Trump Fast Food AIMockery]</td>\n",
       "      <td>[trump, food, candidate, window, ai slop, warm...</td>\n",
       "      <td>[food, fast, man, candidate, slop, window, vis...</td>\n",
       "      <td>[Like any good AI slop, the op illustrated a f...</td>\n",
       "    </tr>\n",
       "    <tr>\n",
       "      <th>19</th>\n",
       "      <td>18</td>\n",
       "      <td>24</td>\n",
       "      <td>18_advertisement_404 media_404_app</td>\n",
       "      <td>Noa App Media and Stories</td>\n",
       "      <td>[advertisement, 404 media, 404, app, noa, stor...</td>\n",
       "      <td>[404 media, noa, stories, media, 404, story, r...</td>\n",
       "      <td>[Noa App Media and Stories]</td>\n",
       "      <td>[advertisement, 404 media, noa, stories, media...</td>\n",
       "      <td>[stories, story, article, tip, copyright, rest...</td>\n",
       "      <td>[Listen to more stories on the Noa app., Liste...</td>\n",
       "    </tr>\n",
       "    <tr>\n",
       "      <th>20</th>\n",
       "      <td>19</td>\n",
       "      <td>23</td>\n",
       "      <td>19_foundation_muse_organization_freedom</td>\n",
       "      <td>John Milton Freedom Foundation Activities</td>\n",
       "      <td>[foundation, muse, organization, freedom, acco...</td>\n",
       "      <td>[freedom foundation, milton freedom, milton, j...</td>\n",
       "      <td>[John Milton Freedom Foundation Activities]</td>\n",
       "      <td>[organization, freedom foundation, milton free...</td>\n",
       "      <td>[foundation, organization, freedom, account, n...</td>\n",
       "      <td>[On the text of the post, which was labeled “s...</td>\n",
       "    </tr>\n",
       "    <tr>\n",
       "      <th>21</th>\n",
       "      <td>20</td>\n",
       "      <td>22</td>\n",
       "      <td>20_ign_wesley_news editor_editor ign</td>\n",
       "      <td>IGN News and Editing</td>\n",
       "      <td>[ign, wesley, news editor, editor ign, com, tw...</td>\n",
       "      <td>[ign, activision, editor ign, news, ll, twitte...</td>\n",
       "      <td>[IGN News and Editing]</td>\n",
       "      <td>[news editor, twitter, asked, wesley uk, deepf...</td>\n",
       "      <td>[comment, news, reporting, novels, reporter, w...</td>\n",
       "      <td>[IGN., IGN., IGN.]</td>\n",
       "    </tr>\n",
       "    <tr>\n",
       "      <th>22</th>\n",
       "      <td>21</td>\n",
       "      <td>21</td>\n",
       "      <td>21_slop_slop slop_sector_perfect example</td>\n",
       "      <td>Discourse on \"Slop\" and Economy</td>\n",
       "      <td>[slop, slop slop, sector, perfect example, app...</td>\n",
       "      <td>[term slop, slop, slop term, slop slop, slop m...</td>\n",
       "      <td>[Discourse on \"Slop\" and Economy]</td>\n",
       "      <td>[slop, slop slop, sector, perfect example, slo...</td>\n",
       "      <td>[slop, sector, supply, subsidy, appropriate, c...</td>\n",
       "      <td>[That’s slop., Why slop?, Voilà: slop.]</td>\n",
       "    </tr>\n",
       "    <tr>\n",
       "      <th>23</th>\n",
       "      <td>22</td>\n",
       "      <td>20</td>\n",
       "      <td>22_myspirithalloween_myspirithalloween com_hal...</td>\n",
       "      <td>AI-Generated Halloween Event Misinformation</td>\n",
       "      <td>[myspirithalloween, myspirithalloween com, hal...</td>\n",
       "      <td>[halloween website, myspirithalloween, myspiri...</td>\n",
       "      <td>[AI-Generated Halloween Event Misinformation]</td>\n",
       "      <td>[myspirithalloween, myspirithalloween com, hal...</td>\n",
       "      <td>[website, listing, events, listings, parade, s...</td>\n",
       "      <td>[Indeed, the \"About Us\" section on MySpiritHal...</td>\n",
       "    </tr>\n",
       "    <tr>\n",
       "      <th>24</th>\n",
       "      <td>23</td>\n",
       "      <td>20</td>\n",
       "      <td>23_retrieved_2024_september 2024_september</td>\n",
       "      <td>Document Retrieval Dates 2024</td>\n",
       "      <td>[retrieved, 2024, september 2024, september, n...</td>\n",
       "      <td>[september 2024, retrieved, october 2024, nove...</td>\n",
       "      <td>[Document Retrieval Dates 2024]</td>\n",
       "      <td>[retrieved, 2024, september 2024, september, n...</td>\n",
       "      <td>[topics, , , , , , , , , ]</td>\n",
       "      <td>[Retrieved 29 September 2024., Retrieved 29 Se...</td>\n",
       "    </tr>\n",
       "    <tr>\n",
       "      <th>25</th>\n",
       "      <td>24</td>\n",
       "      <td>20</td>\n",
       "      <td>24_code_currently_really_kate</td>\n",
       "      <td>Personal Interactions and Clarifications</td>\n",
       "      <td>[code, currently, really, kate, gotten, ok, kn...</td>\n",
       "      <td>[currently, code, really, ok, doing, wrong, , ...</td>\n",
       "      <td>[Personal Interactions and Clarifications]</td>\n",
       "      <td>[really, kate, gotten, knibbs, guys, income, g...</td>\n",
       "      <td>[code, guys, income, job, wrong, true, people,...</td>\n",
       "      <td>[OK. Is there anything else you think people h...</td>\n",
       "    </tr>\n",
       "    <tr>\n",
       "      <th>26</th>\n",
       "      <td>25</td>\n",
       "      <td>20</td>\n",
       "      <td>25_2024_november 2024_november_2025</td>\n",
       "      <td>2024 November Event Timeline</td>\n",
       "      <td>[2024, november 2024, november, 2025, february...</td>\n",
       "      <td>[november 2024, april 2024, january 2024, july...</td>\n",
       "      <td>[2024 November Event Timeline]</td>\n",
       "      <td>[november 2024, february 2025, underwhelming, ...</td>\n",
       "      <td>[underwhelming, little, fans, , , , , , , ]</td>\n",
       "      <td>[2 November 2024., 1 November 2024., 1 Novembe...</td>\n",
       "    </tr>\n",
       "    <tr>\n",
       "      <th>27</th>\n",
       "      <td>26</td>\n",
       "      <td>19</td>\n",
       "      <td>26_creative_issues_generative ai_generative</td>\n",
       "      <td>Generative AI in Entertainment</td>\n",
       "      <td>[creative, issues, generative ai, generative, ...</td>\n",
       "      <td>[generative ai, ai struggles, ai used, ign ai,...</td>\n",
       "      <td>[Generative AI in Entertainment]</td>\n",
       "      <td>[generative ai, video game, produce content, r...</td>\n",
       "      <td>[creative, issues, generative, rights, video, ...</td>\n",
       "      <td>[Generative AI is one of the hottest topics wi...</td>\n",
       "    </tr>\n",
       "    <tr>\n",
       "      <th>28</th>\n",
       "      <td>27</td>\n",
       "      <td>19</td>\n",
       "      <td>27_slop_term_unwanted_generated content</td>\n",
       "      <td>AI-Generated Low-Quality Content</td>\n",
       "      <td>[slop, term, unwanted, generated content, unwa...</td>\n",
       "      <td>[slop ai, slop term, slop isn, slop, spam slop...</td>\n",
       "      <td>[AI-Generated Low-Quality Content]</td>\n",
       "      <td>[unwanted ai, slop new, slop term, spam, conte...</td>\n",
       "      <td>[slop, term, unwanted, tweet, artificial intel...</td>\n",
       "      <td>[- ^ \"Slop is the new name for unwanted AI-gen...</td>\n",
       "    </tr>\n",
       "    <tr>\n",
       "      <th>29</th>\n",
       "      <td>28</td>\n",
       "      <td>19</td>\n",
       "      <td>28_2025 retrieved_march 2025_march_retrieved</td>\n",
       "      <td>March 2025 Retrieval Dates</td>\n",
       "      <td>[2025 retrieved, march 2025, march, retrieved,...</td>\n",
       "      <td>[2025 retrieved, march 2025, retrieved, april ...</td>\n",
       "      <td>[March 2025 Retrieval Dates]</td>\n",
       "      <td>[2025 retrieved, march 2025, march, retrieved,...</td>\n",
       "      <td>[, , , , , , , , , ]</td>\n",
       "      <td>[Retrieved 24 March 2025., Retrieved 24 March ...</td>\n",
       "    </tr>\n",
       "    <tr>\n",
       "      <th>30</th>\n",
       "      <td>29</td>\n",
       "      <td>17</td>\n",
       "      <td>29_angry_quest_title_puzzle</td>\n",
       "      <td>Angry Birds Puzzle Game Launch</td>\n",
       "      <td>[angry, quest, title, puzzle, rovio, game, lat...</td>\n",
       "      <td>[rovio, puzzle game, puzzle, launched, launche...</td>\n",
       "      <td>[Angry Birds Puzzle Game Launch]</td>\n",
       "      <td>[angry, quest, rovio, franchise, gameplay, lau...</td>\n",
       "      <td>[title, puzzle, game, latest, franchise, launc...</td>\n",
       "      <td>[Rovio Entertainment Corporation has announced...</td>\n",
       "    </tr>\n",
       "    <tr>\n",
       "      <th>31</th>\n",
       "      <td>30</td>\n",
       "      <td>16</td>\n",
       "      <td>30_chatgpt_language_like chatgpt_text</td>\n",
       "      <td>Evolution of Generative Language Models</td>\n",
       "      <td>[chatgpt, language, like chatgpt, text, large,...</td>\n",
       "      <td>[like chatgpt, chatgpt write, use chatgpt, cha...</td>\n",
       "      <td>[Evolution of Generative Language Models]</td>\n",
       "      <td>[like chatgpt, dialogue, chatgpt write, phrase...</td>\n",
       "      <td>[language, text, large, rapid, dialogue, phras...</td>\n",
       "      <td>[\"However, the introduction of ChatGPT, which ...</td>\n",
       "    </tr>\n",
       "    <tr>\n",
       "      <th>32</th>\n",
       "      <td>31</td>\n",
       "      <td>16</td>\n",
       "      <td>31_style_explore_fashion_coverage</td>\n",
       "      <td>Celebrity, Politics, and Culture</td>\n",
       "      <td>[style, explore, fashion, coverage, love, tren...</td>\n",
       "      <td>[fashion, vanity fair, trends, style, stories,...</td>\n",
       "      <td>[Celebrity, Politics, and Culture]</td>\n",
       "      <td>[explore, fashion, father, steve, johansson, s...</td>\n",
       "      <td>[style, love, trends, stores, collection, sets...</td>\n",
       "      <td>[Explore Our Style Coverage\\nFashion, trends, ...</td>\n",
       "    </tr>\n",
       "    <tr>\n",
       "      <th>33</th>\n",
       "      <td>32</td>\n",
       "      <td>14</td>\n",
       "      <td>32_gen_brainrot_italian brainrot_italian</td>\n",
       "      <td>Italian Brainrot Viral Branding</td>\n",
       "      <td>[gen, brainrot, italian brainrot, italian, bra...</td>\n",
       "      <td>[italian brainrot, brainrot, italian, viral ti...</td>\n",
       "      <td>[Italian Brainrot Viral Branding]</td>\n",
       "      <td>[italian brainrot, ryanair, human centric, cen...</td>\n",
       "      <td>[brainrot, brands, trend, meme, viral, audienc...</td>\n",
       "      <td>[So, what is Italian Brainrot?, Why Brands Are...</td>\n",
       "    </tr>\n",
       "    <tr>\n",
       "      <th>34</th>\n",
       "      <td>33</td>\n",
       "      <td>14</td>\n",
       "      <td>33_willison_early_term_mr</td>\n",
       "      <td>Origin and Adoption of \"Slop\"</td>\n",
       "      <td>[willison, early, term, mr, word, said use, te...</td>\n",
       "      <td>[term slop, slop descriptor, slop, slop slop, ...</td>\n",
       "      <td>[Origin and Adoption of \"Slop\"]</td>\n",
       "      <td>[willison, word, said use, term slop, develope...</td>\n",
       "      <td>[early, term, word, mainstream, words, great, ...</td>\n",
       "      <td>[[7]\\nThe British computer programmer Simon Wi...</td>\n",
       "    </tr>\n",
       "    <tr>\n",
       "      <th>35</th>\n",
       "      <td>34</td>\n",
       "      <td>13</td>\n",
       "      <td>34_clarke_submissions_clarkesworld_sorting</td>\n",
       "      <td>Clarkesworld Submission Spam Crisis</td>\n",
       "      <td>[clarke, submissions, clarkesworld, sorting, f...</td>\n",
       "      <td>[clarkesworld, clarke, clarkes, submissions, s...</td>\n",
       "      <td>[Clarkesworld Submission Spam Crisis]</td>\n",
       "      <td>[clarke, submissions, clarkesworld, slop delug...</td>\n",
       "      <td>[submissions, fiction, noise, magazine, origin...</td>\n",
       "      <td>[“We had reached the point where we were on tr...</td>\n",
       "    </tr>\n",
       "    <tr>\n",
       "      <th>36</th>\n",
       "      <td>35</td>\n",
       "      <td>13</td>\n",
       "      <td>35_businesses_data_right_brands</td>\n",
       "      <td>Effective AI Implementation in Business</td>\n",
       "      <td>[businesses, data, right, brands, apply, tasks...</td>\n",
       "      <td>[using ai, embrace ai, ai technology, ai model...</td>\n",
       "      <td>[Effective AI Implementation in Business]</td>\n",
       "      <td>[businesses, brands, using ai, initiatives, en...</td>\n",
       "      <td>[businesses, data, right, brands, tasks, risk,...</td>\n",
       "      <td>[Businesses should be checking their data is a...</td>\n",
       "    </tr>\n",
       "    <tr>\n",
       "      <th>37</th>\n",
       "      <td>36</td>\n",
       "      <td>13</td>\n",
       "      <td>36_spotify_users_podcast_end</td>\n",
       "      <td>Spotify Wrapped and AI Podcast Feedback</td>\n",
       "      <td>[spotify, users, podcast, end, cold, data driv...</td>\n",
       "      <td>[spotify, spotify coca, podcast, streaming, ai...</td>\n",
       "      <td>[Spotify Wrapped and AI Podcast Feedback]</td>\n",
       "      <td>[spotify, podcast, data driven, review, reddit...</td>\n",
       "      <td>[users, podcast, end, hosts, review, outline, ...</td>\n",
       "      <td>[Many Spotify users eagerly await the annual r...</td>\n",
       "    </tr>\n",
       "    <tr>\n",
       "      <th>38</th>\n",
       "      <td>37</td>\n",
       "      <td>12</td>\n",
       "      <td>37_voice_voice actor_actor_actors</td>\n",
       "      <td>Voice Acting and AI Concerns</td>\n",
       "      <td>[voice, voice actor, actor, actors, voice acto...</td>\n",
       "      <td>[voice actor, voice actors, ai voice, voice, u...</td>\n",
       "      <td>[Voice Acting and AI Concerns]</td>\n",
       "      <td>[voice actor, voice actors, video game, voices...</td>\n",
       "      <td>[voice, actor, actors, voices, video, software...</td>\n",
       "      <td>[Video game voice actors have also called out ...</td>\n",
       "    </tr>\n",
       "    <tr>\n",
       "      <th>39</th>\n",
       "      <td>38</td>\n",
       "      <td>11</td>\n",
       "      <td>38_2025 retrieved_retrieved_2025_january 2025</td>\n",
       "      <td>2025 Retrieval Dates</td>\n",
       "      <td>[2025 retrieved, retrieved, 2025, january 2025...</td>\n",
       "      <td>[2025 retrieved, february 2025, january 2025, ...</td>\n",
       "      <td>[2025 Retrieval Dates]</td>\n",
       "      <td>[2025 retrieved, retrieved, 2025, january 2025...</td>\n",
       "      <td>[, , , , , , , , , ]</td>\n",
       "      <td>[Retrieved 26 February 2025., Retrieved 26 Feb...</td>\n",
       "    </tr>\n",
       "  </tbody>\n",
       "</table>\n",
       "</div>"
      ],
      "text/plain": [
       "    Topic  Count                                               Name  \\\n",
       "0      -1    467                        -1_slop_ai_internet_content   \n",
       "1       0    179                       0_facebook_images_content_ai   \n",
       "2       1     75                      1_activision_game_black_steam   \n",
       "3       2     63                      2_cola_coca_coca cola_company   \n",
       "4       3     61                3_event_experience_children_factory   \n",
       "5       4     61               4_misinformation_fema_reality_people   \n",
       "6       5     60         5_parade_dublin_halloween_halloween parade   \n",
       "7       6     47                   6_google_search_results_websites   \n",
       "8       7     43                   7_times_net_eurogamer_york times   \n",
       "9       8     40                    8_kiryu_enix_square enix_square   \n",
       "10      9     40                 9_scammers_mistake_highly_actually   \n",
       "11     10     35                10_trump_harris_donald_donald trump   \n",
       "12     11     35        11_brand_entrepreneurs_content_authenticity   \n",
       "13     12     34                    12_film_poster_amazon_generated   \n",
       "14     13     33         13_2024_november 2024_november_august 2024   \n",
       "15     14     33               14_foamstars_square enix_enix_square   \n",
       "16     15     28                 15_books_catalog_book_ai generated   \n",
       "17     16     28       16_debate_academic_ai potential_implications   \n",
       "18     17     28                             17_trump_food_fast_man   \n",
       "19     18     24                 18_advertisement_404 media_404_app   \n",
       "20     19     23            19_foundation_muse_organization_freedom   \n",
       "21     20     22               20_ign_wesley_news editor_editor ign   \n",
       "22     21     21           21_slop_slop slop_sector_perfect example   \n",
       "23     22     20  22_myspirithalloween_myspirithalloween com_hal...   \n",
       "24     23     20         23_retrieved_2024_september 2024_september   \n",
       "25     24     20                      24_code_currently_really_kate   \n",
       "26     25     20                25_2024_november 2024_november_2025   \n",
       "27     26     19        26_creative_issues_generative ai_generative   \n",
       "28     27     19            27_slop_term_unwanted_generated content   \n",
       "29     28     19       28_2025 retrieved_march 2025_march_retrieved   \n",
       "30     29     17                        29_angry_quest_title_puzzle   \n",
       "31     30     16              30_chatgpt_language_like chatgpt_text   \n",
       "32     31     16                  31_style_explore_fashion_coverage   \n",
       "33     32     14           32_gen_brainrot_italian brainrot_italian   \n",
       "34     33     14                          33_willison_early_term_mr   \n",
       "35     34     13         34_clarke_submissions_clarkesworld_sorting   \n",
       "36     35     13                    35_businesses_data_right_brands   \n",
       "37     36     13                       36_spotify_users_podcast_end   \n",
       "38     37     12                  37_voice_voice actor_actor_actors   \n",
       "39     38     11      38_2025 retrieved_retrieved_2025_january 2025   \n",
       "\n",
       "                                         CustomName  \\\n",
       "0                                     Outlier Topic   \n",
       "1                 AI-Generated Content Monetization   \n",
       "2       Activision's Use of Generative AI in Gaming   \n",
       "3                Coca-Cola Christmas AI Controversy   \n",
       "4             Controversial Willy's Chocolate Event   \n",
       "5   Misinformation and Conspiracy During Hurricanes   \n",
       "6                      Dublin Halloween Parade Hoax   \n",
       "7                      Google Search AI Integration   \n",
       "8                  Prominent News and Media Outlets   \n",
       "9              Square Enix's AI Innovation Strategy   \n",
       "10        Event Cancellation and Refund Controversy   \n",
       "11               AI-Generated Political Fan Imagery   \n",
       "12                   Balancing AI and Human Content   \n",
       "13        AI-Generated Film Promotion Controversies   \n",
       "14                    2024 November News and Events   \n",
       "15                          Square Enix AI Game Art   \n",
       "16                  AI-Generated Books in Libraries   \n",
       "17                       AI Debate and Implications   \n",
       "18                        Trump Fast Food AIMockery   \n",
       "19                        Noa App Media and Stories   \n",
       "20        John Milton Freedom Foundation Activities   \n",
       "21                             IGN News and Editing   \n",
       "22                  Discourse on \"Slop\" and Economy   \n",
       "23      AI-Generated Halloween Event Misinformation   \n",
       "24                    Document Retrieval Dates 2024   \n",
       "25         Personal Interactions and Clarifications   \n",
       "26                     2024 November Event Timeline   \n",
       "27                   Generative AI in Entertainment   \n",
       "28                 AI-Generated Low-Quality Content   \n",
       "29                       March 2025 Retrieval Dates   \n",
       "30                   Angry Birds Puzzle Game Launch   \n",
       "31          Evolution of Generative Language Models   \n",
       "32                 Celebrity, Politics, and Culture   \n",
       "33                  Italian Brainrot Viral Branding   \n",
       "34                    Origin and Adoption of \"Slop\"   \n",
       "35              Clarkesworld Submission Spam Crisis   \n",
       "36          Effective AI Implementation in Business   \n",
       "37          Spotify Wrapped and AI Podcast Feedback   \n",
       "38                     Voice Acting and AI Concerns   \n",
       "39                             2025 Retrieval Dates   \n",
       "\n",
       "                                       Representation  \\\n",
       "0   [slop, ai, internet, content, ai slop, people,...   \n",
       "1   [facebook, images, content, ai, money, creator...   \n",
       "2   [activision, game, black, steam, sold, assets,...   \n",
       "3   [cola, coca, coca cola, company, ad, holiday, ...   \n",
       "4   [event, experience, children, factory, imagina...   \n",
       "5   [misinformation, fema, reality, people, theori...   \n",
       "6   [parade, dublin, halloween, halloween parade, ...   \n",
       "7   [google, search, results, websites, engine, se...   \n",
       "8   [times, net, eurogamer, york times, news, atla...   \n",
       "9   [kiryu, enix, square enix, square, letter, agg...   \n",
       "10  [scammers, mistake, highly, actually, scam, ev...   \n",
       "11  [trump, harris, donald, donald trump, posted, ...   \n",
       "12  [brand, entrepreneurs, content, authenticity, ...   \n",
       "13  [film, poster, amazon, generated, ai generated...   \n",
       "14  [2024, november 2024, november, august 2024, j...   \n",
       "15  [foamstars, square enix, enix, square, game, a...   \n",
       "16  [books, catalog, book, ai generated, generated...   \n",
       "17  [debate, academic, ai potential, implications,...   \n",
       "18  [trump, food, fast, man, candidate, slop, wind...   \n",
       "19  [advertisement, 404 media, 404, app, noa, stor...   \n",
       "20  [foundation, muse, organization, freedom, acco...   \n",
       "21  [ign, wesley, news editor, editor ign, com, tw...   \n",
       "22  [slop, slop slop, sector, perfect example, app...   \n",
       "23  [myspirithalloween, myspirithalloween com, hal...   \n",
       "24  [retrieved, 2024, september 2024, september, n...   \n",
       "25  [code, currently, really, kate, gotten, ok, kn...   \n",
       "26  [2024, november 2024, november, 2025, february...   \n",
       "27  [creative, issues, generative ai, generative, ...   \n",
       "28  [slop, term, unwanted, generated content, unwa...   \n",
       "29  [2025 retrieved, march 2025, march, retrieved,...   \n",
       "30  [angry, quest, title, puzzle, rovio, game, lat...   \n",
       "31  [chatgpt, language, like chatgpt, text, large,...   \n",
       "32  [style, explore, fashion, coverage, love, tren...   \n",
       "33  [gen, brainrot, italian brainrot, italian, bra...   \n",
       "34  [willison, early, term, mr, word, said use, te...   \n",
       "35  [clarke, submissions, clarkesworld, sorting, f...   \n",
       "36  [businesses, data, right, brands, apply, tasks...   \n",
       "37  [spotify, users, podcast, end, cold, data driv...   \n",
       "38  [voice, voice actor, actor, actors, voice acto...   \n",
       "39  [2025 retrieved, retrieved, 2025, january 2025...   \n",
       "\n",
       "                                              KeyBERT  \\\n",
       "0   [ai generated, generative ai, ai tools, social...   \n",
       "1   [social media, tiktok, content creators, ai ge...   \n",
       "2   [activision, microsoft, video games, ai genera...   \n",
       "3   [coca cola, coca, commercials, company said, a...   \n",
       "4   [charlie, house illuminati, venue, generated g...   \n",
       "5   [misinformation, conspiracy theories, fema, cr...   \n",
       "6   [dublin halloween, halloween parade, parade du...   \n",
       "7   [results google, search engines, google, searc...   \n",
       "8   [york times, new york, nbc news, eurogamer, ne...   \n",
       "9   [square enix, enix president, applying ai, eni...   \n",
       "10  [scammers, scam, unfortunately, canceled, canc...   \n",
       "11  [swifties trump, trump posted, way trump, trum...   \n",
       "12  [creativity ai, engagement ai, quality content...   \n",
       "13  [posters, poster, criticized ai, used ai, film...   \n",
       "14  [november 2024, october 2024, august 2024, sep...   \n",
       "15  [square enix, foamstars, used ai, game art, sa...   \n",
       "16  [ai generated, books, hundreds ai, written ai,...   \n",
       "17  [intelligence ai, artificial intelligence, ai ...   \n",
       "18  [slop trump, way trump, trump, fake ai, slop, ...   \n",
       "19  [404 media, noa, stories, media, 404, story, r...   \n",
       "20  [freedom foundation, milton freedom, milton, j...   \n",
       "21  [ign, activision, editor ign, news, ll, twitte...   \n",
       "22  [term slop, slop, slop term, slop slop, slop m...   \n",
       "23  [halloween website, myspirithalloween, myspiri...   \n",
       "24  [september 2024, retrieved, october 2024, nove...   \n",
       "25  [currently, code, really, ok, doing, wrong, , ...   \n",
       "26  [november 2024, april 2024, january 2024, july...   \n",
       "27  [generative ai, ai struggles, ai used, ign ai,...   \n",
       "28  [slop ai, slop term, slop isn, slop, spam slop...   \n",
       "29  [2025 retrieved, march 2025, retrieved, april ...   \n",
       "30  [rovio, puzzle game, puzzle, launched, launche...   \n",
       "31  [like chatgpt, chatgpt write, use chatgpt, cha...   \n",
       "32  [fashion, vanity fair, trends, style, stories,...   \n",
       "33  [italian brainrot, brainrot, italian, viral ti...   \n",
       "34  [term slop, slop descriptor, slop, slop slop, ...   \n",
       "35  [clarkesworld, clarke, clarkes, submissions, s...   \n",
       "36  [using ai, embrace ai, ai technology, ai model...   \n",
       "37  [spotify, spotify coca, podcast, streaming, ai...   \n",
       "38  [voice actor, voice actors, ai voice, voice, u...   \n",
       "39  [2025 retrieved, february 2025, january 2025, ...   \n",
       "\n",
       "                                               OpenAI  \\\n",
       "0           [AI-Generated Content and Misinformation]   \n",
       "1                 [AI-Generated Content Monetization]   \n",
       "2       [Activision's Use of Generative AI in Gaming]   \n",
       "3                [Coca-Cola Christmas AI Controversy]   \n",
       "4             [Controversial Willy's Chocolate Event]   \n",
       "5   [Misinformation and Conspiracy During Hurricanes]   \n",
       "6                      [Dublin Halloween Parade Hoax]   \n",
       "7                      [Google Search AI Integration]   \n",
       "8                  [Prominent News and Media Outlets]   \n",
       "9              [Square Enix's AI Innovation Strategy]   \n",
       "10        [Event Cancellation and Refund Controversy]   \n",
       "11               [AI-Generated Political Fan Imagery]   \n",
       "12                   [Balancing AI and Human Content]   \n",
       "13        [AI-Generated Film Promotion Controversies]   \n",
       "14                    [2024 November News and Events]   \n",
       "15                          [Square Enix AI Game Art]   \n",
       "16                  [AI-Generated Books in Libraries]   \n",
       "17                       [AI Debate and Implications]   \n",
       "18                        [Trump Fast Food AIMockery]   \n",
       "19                        [Noa App Media and Stories]   \n",
       "20        [John Milton Freedom Foundation Activities]   \n",
       "21                             [IGN News and Editing]   \n",
       "22                  [Discourse on \"Slop\" and Economy]   \n",
       "23      [AI-Generated Halloween Event Misinformation]   \n",
       "24                    [Document Retrieval Dates 2024]   \n",
       "25         [Personal Interactions and Clarifications]   \n",
       "26                     [2024 November Event Timeline]   \n",
       "27                   [Generative AI in Entertainment]   \n",
       "28                 [AI-Generated Low-Quality Content]   \n",
       "29                       [March 2025 Retrieval Dates]   \n",
       "30                   [Angry Birds Puzzle Game Launch]   \n",
       "31          [Evolution of Generative Language Models]   \n",
       "32                 [Celebrity, Politics, and Culture]   \n",
       "33                  [Italian Brainrot Viral Branding]   \n",
       "34                    [Origin and Adoption of \"Slop\"]   \n",
       "35              [Clarkesworld Submission Spam Crisis]   \n",
       "36          [Effective AI Implementation in Business]   \n",
       "37          [Spotify Wrapped and AI Podcast Feedback]   \n",
       "38                     [Voice Acting and AI Concerns]   \n",
       "39                             [2025 Retrieval Dates]   \n",
       "\n",
       "                                                  MMR  \\\n",
       "0   [slop, content, spam, generated, social media,...   \n",
       "1   [facebook, images, creators, platforms, ai gen...   \n",
       "2   [activision, steam, assets, generative ai, zom...   \n",
       "3   [coca cola, company, christmas, commercials, b...   \n",
       "4   [experience, imagination, arrived, connell, tr...   \n",
       "5   [misinformation, fema, reality, theories, hurr...   \n",
       "6   [dublin, halloween, halloween parade, parade d...   \n",
       "7   [google, websites, engine, search results, ans...   \n",
       "8   [eurogamer, york times, news, reporter, verge,...   \n",
       "9   [enix, square enix, applying ai, aggressive ap...   \n",
       "10  [scammers, mistake, tried best, highly embarra...   \n",
       "11  [trump, donald trump, trump posted, elon musk,...   \n",
       "12  [brand, entrepreneurs, content, authenticity, ...   \n",
       "13  [film, amazon, generated, posters, narration, ...   \n",
       "14  [november 2024, august 2024, october 2024, jan...   \n",
       "15  [foamstars, square enix, enix, midjourney, alb...   \n",
       "16  [books, ai generated, mushroom, guides, publis...   \n",
       "17  [debate, ai potential, implications, 10 percen...   \n",
       "18  [trump, food, candidate, window, ai slop, warm...   \n",
       "19  [advertisement, 404 media, noa, stories, media...   \n",
       "20  [organization, freedom foundation, milton free...   \n",
       "21  [news editor, twitter, asked, wesley uk, deepf...   \n",
       "22  [slop, slop slop, sector, perfect example, slo...   \n",
       "23  [myspirithalloween, myspirithalloween com, hal...   \n",
       "24  [retrieved, 2024, september 2024, september, n...   \n",
       "25  [really, kate, gotten, knibbs, guys, income, g...   \n",
       "26  [november 2024, february 2025, underwhelming, ...   \n",
       "27  [generative ai, video game, produce content, r...   \n",
       "28  [unwanted ai, slop new, slop term, spam, conte...   \n",
       "29  [2025 retrieved, march 2025, march, retrieved,...   \n",
       "30  [angry, quest, rovio, franchise, gameplay, lau...   \n",
       "31  [like chatgpt, dialogue, chatgpt write, phrase...   \n",
       "32  [explore, fashion, father, steve, johansson, s...   \n",
       "33  [italian brainrot, ryanair, human centric, cen...   \n",
       "34  [willison, word, said use, term slop, develope...   \n",
       "35  [clarke, submissions, clarkesworld, slop delug...   \n",
       "36  [businesses, brands, using ai, initiatives, en...   \n",
       "37  [spotify, podcast, data driven, review, reddit...   \n",
       "38  [voice actor, voice actors, video game, voices...   \n",
       "39  [2025 retrieved, retrieved, 2025, january 2025...   \n",
       "\n",
       "                                                  POS  \\\n",
       "0   [slop, internet, content, people, spam, image,...   \n",
       "1   [images, content, money, creators, platforms, ...   \n",
       "2   [game, black, steam, assets, zombie, generativ...   \n",
       "3   [cola, company, ad, holiday, commercial, comme...   \n",
       "4   [event, experience, children, factory, imagina...   \n",
       "5   [misinformation, reality, people, theories, hu...   \n",
       "6   [parade, halloween, street, city, people, even...   \n",
       "7   [search, results, websites, engine, links, pag...   \n",
       "8   [news, reporter, globe, field, sports, coverag...   \n",
       "9   [letter, aggressive, new, technologies, develo...   \n",
       "10  [scammers, mistake, scam, event, statement, mi...   \n",
       "11  [images, women, image, photo, depictions, soci...   \n",
       "12  [brand, entrepreneurs, content, authenticity, ...   \n",
       "13  [film, poster, posters, narration, voice, qual...   \n",
       "14                               [, , , , , , , , , ]   \n",
       "15  [game, art, album, covers, team, upcoming, dev...   \n",
       "16  [books, catalog, book, customers, cost, mushro...   \n",
       "17  [debate, academic, implications, potential, pe...   \n",
       "18  [food, fast, man, candidate, slop, window, vis...   \n",
       "19  [stories, story, article, tip, copyright, rest...   \n",
       "20  [foundation, organization, freedom, account, n...   \n",
       "21  [comment, news, reporting, novels, reporter, w...   \n",
       "22  [slop, sector, supply, subsidy, appropriate, c...   \n",
       "23  [website, listing, events, listings, parade, s...   \n",
       "24                         [topics, , , , , , , , , ]   \n",
       "25  [code, guys, income, job, wrong, true, people,...   \n",
       "26        [underwhelming, little, fans, , , , , , , ]   \n",
       "27  [creative, issues, generative, rights, video, ...   \n",
       "28  [slop, term, unwanted, tweet, artificial intel...   \n",
       "29                               [, , , , , , , , , ]   \n",
       "30  [title, puzzle, game, latest, franchise, launc...   \n",
       "31  [language, text, large, rapid, dialogue, phras...   \n",
       "32  [style, love, trends, stores, collection, sets...   \n",
       "33  [brainrot, brands, trend, meme, viral, audienc...   \n",
       "34  [early, term, word, mainstream, words, great, ...   \n",
       "35  [submissions, fiction, noise, magazine, origin...   \n",
       "36  [businesses, data, right, brands, tasks, risk,...   \n",
       "37  [users, podcast, end, hosts, review, outline, ...   \n",
       "38  [voice, actor, actors, voices, video, software...   \n",
       "39                               [, , , , , , , , , ]   \n",
       "\n",
       "                                  Representative_Docs  \n",
       "0   [That information was readily available elsewh...  \n",
       "1   [These pages make money through Facebook’s Per...  \n",
       "2   [Activision is embroiled in a backlash over Ca...  \n",
       "3   [- ^ \"Coca-Cola causes controversy with AI-gen...  \n",
       "4   [Put on by London-based event company House of...  \n",
       "5   [FEMA Administrator Deanne Criswell said that ...  \n",
       "6   [Chaos in Dublin as thousands turn up for AI ‘...  \n",
       "7   [into its search results on Bing, and it had s...  \n",
       "8   [The New York Times., The New York Times., The...  \n",
       "9   [In turn, Kiryu and Square Enix plan to be, as...  \n",
       "10  [\"This is a difficult time for me, and I ask f...  \n",
       "11  [[14] In August 2024, the American politician ...  \n",
       "12  [As entrepreneurs, our brands are our lifebloo...  \n",
       "13  [- ^ \"Amazon Mocked for Slapping AI-Generated ...  \n",
       "14  [- ^ Hüsmen, Arife (November 2024)., - ^ Kalit...  \n",
       "15  [- ^ \"PlayStation Exclusive Foamstars Has AI-G...  \n",
       "16  [Both companies have a variety of payment opti...  \n",
       "17  [Kiryu began by talking about how AI and its \"...  \n",
       "18  [Like any good AI slop, the op illustrated a f...  \n",
       "19  [Listen to more stories on the Noa app., Liste...  \n",
       "20  [On the text of the post, which was labeled “s...  \n",
       "21                                 [IGN., IGN., IGN.]  \n",
       "22            [That’s slop., Why slop?, Voilà: slop.]  \n",
       "23  [Indeed, the \"About Us\" section on MySpiritHal...  \n",
       "24  [Retrieved 29 September 2024., Retrieved 29 Se...  \n",
       "25  [OK. Is there anything else you think people h...  \n",
       "26  [2 November 2024., 1 November 2024., 1 Novembe...  \n",
       "27  [Generative AI is one of the hottest topics wi...  \n",
       "28  [- ^ \"Slop is the new name for unwanted AI-gen...  \n",
       "29  [Retrieved 24 March 2025., Retrieved 24 March ...  \n",
       "30  [Rovio Entertainment Corporation has announced...  \n",
       "31  [\"However, the introduction of ChatGPT, which ...  \n",
       "32  [Explore Our Style Coverage\\nFashion, trends, ...  \n",
       "33  [So, what is Italian Brainrot?, Why Brands Are...  \n",
       "34  [[7]\\nThe British computer programmer Simon Wi...  \n",
       "35  [“We had reached the point where we were on tr...  \n",
       "36  [Businesses should be checking their data is a...  \n",
       "37  [Many Spotify users eagerly await the annual r...  \n",
       "38  [Video game voice actors have also called out ...  \n",
       "39  [Retrieved 26 February 2025., Retrieved 26 Feb...  "
      ]
     },
     "execution_count": 16,
     "metadata": {},
     "output_type": "execute_result"
    }
   ],
   "source": [
    "chatgpt_topic_labels = {\n",
    "    topic: \" | \".join(list(zip(*values))[0])\n",
    "    for topic, values in topic_model.topic_aspects_[\"OpenAI\"].items()\n",
    "}\n",
    "chatgpt_topic_labels[-1] = \"Outlier Topic\"\n",
    "topic_model.set_topic_labels(chatgpt_topic_labels)\n",
    "\n",
    "topic_model.get_topic_info()"
   ]
  },
  {
   "cell_type": "code",
   "execution_count": 17,
   "id": "5b02925d",
   "metadata": {},
   "outputs": [
    {
     "data": {
      "text/plain": [
       "['Outlier Topic',\n",
       " 'AI-Generated Content Monetization',\n",
       " \"Activision's Use of Generative AI in Gaming\",\n",
       " 'Coca-Cola Christmas AI Controversy',\n",
       " \"Controversial Willy's Chocolate Event\",\n",
       " 'Misinformation and Conspiracy During Hurricanes',\n",
       " 'Dublin Halloween Parade Hoax',\n",
       " 'Google Search AI Integration',\n",
       " 'Prominent News and Media Outlets',\n",
       " \"Square Enix's AI Innovation Strategy\",\n",
       " 'Event Cancellation and Refund Controversy',\n",
       " 'AI-Generated Political Fan Imagery',\n",
       " 'Balancing AI and Human Content',\n",
       " 'AI-Generated Film Promotion Controversies',\n",
       " '2024 November News and Events',\n",
       " 'Square Enix AI Game Art',\n",
       " 'AI-Generated Books in Libraries',\n",
       " 'AI Debate and Implications',\n",
       " 'Trump Fast Food AIMockery',\n",
       " 'Noa App Media and Stories',\n",
       " 'John Milton Freedom Foundation Activities',\n",
       " 'IGN News and Editing',\n",
       " 'Discourse on \"Slop\" and Economy',\n",
       " 'AI-Generated Halloween Event Misinformation',\n",
       " 'Document Retrieval Dates 2024',\n",
       " 'Personal Interactions and Clarifications',\n",
       " '2024 November Event Timeline',\n",
       " 'Generative AI in Entertainment',\n",
       " 'AI-Generated Low-Quality Content',\n",
       " 'March 2025 Retrieval Dates',\n",
       " 'Angry Birds Puzzle Game Launch',\n",
       " 'Evolution of Generative Language Models',\n",
       " 'Celebrity, Politics, and Culture',\n",
       " 'Italian Brainrot Viral Branding',\n",
       " 'Origin and Adoption of \"Slop\"',\n",
       " 'Clarkesworld Submission Spam Crisis',\n",
       " 'Effective AI Implementation in Business',\n",
       " 'Spotify Wrapped and AI Podcast Feedback',\n",
       " 'Voice Acting and AI Concerns',\n",
       " '2025 Retrieval Dates']"
      ]
     },
     "execution_count": 17,
     "metadata": {},
     "output_type": "execute_result"
    }
   ],
   "source": [
    "topic_model.get_topic_info()[\"CustomName\"].tolist()"
   ]
  },
  {
   "cell_type": "code",
   "execution_count": 18,
   "id": "82405937",
   "metadata": {},
   "outputs": [
    {
     "data": {
      "application/vnd.plotly.v1+json": {
       "config": {
        "plotlyServerURL": "https://plot.ly"
       },
       "data": [
        {
         "hoverinfo": "text",
         "marker": {
          "color": "rgb(61,153,112)"
         },
         "mode": "lines",
         "type": "scatter",
         "x": {
          "bdata": "AAAAAAAAAABkXubMtOfbP2Re5sy059s/AAAAAAAAAAA=",
          "dtype": "f8"
         },
         "xaxis": "x",
         "y": {
          "bdata": "AAAAAAAAFMAAAAAAAAAUwAAAAAAAAC7AAAAAAAAALsA=",
          "dtype": "f8"
         },
         "yaxis": "y"
        },
        {
         "hoverinfo": "text",
         "marker": {
          "color": "rgb(255,65,54)"
         },
         "mode": "lines",
         "type": "scatter",
         "x": {
          "bdata": "AAAAAAAAAADK+hcogMPSP8r6FyiAw9I/AAAAAAAAAAA=",
          "dtype": "f8"
         },
         "xaxis": "x",
         "y": {
          "bdata": "AAAAAAAAOcAAAAAAAAA5wAAAAAAAgEHAAAAAAACAQcA=",
          "dtype": "f8"
         },
         "yaxis": "y"
        },
        {
         "hoverinfo": "text",
         "marker": {
          "color": "rgb(255,65,54)"
         },
         "mode": "lines",
         "type": "scatter",
         "x": {
          "bdata": "yvoXKIDD0j/Pjm0Up4/jP8+ObRSnj+M/AAAAAAAAAAA=",
          "dtype": "f8"
         },
         "xaxis": "x",
         "y": {
          "bdata": "AAAAAAAAPsAAAAAAAAA+wAAAAAAAgEbAAAAAAACARsA=",
          "dtype": "f8"
         },
         "yaxis": "y"
        },
        {
         "hoverinfo": "text",
         "marker": {
          "color": "rgb(0,116,217)"
         },
         "mode": "lines",
         "type": "scatter",
         "x": {
          "bdata": "ZF7mzLTn2z/9nPoga3TxP/2c+iBrdPE/z45tFKeP4z8=",
          "dtype": "f8"
         },
         "xaxis": "x",
         "y": {
          "bdata": "AAAAAAAAJMAAAAAAAAAkwAAAAAAAwELAAAAAAADAQsA=",
          "dtype": "f8"
         },
         "yaxis": "y"
        },
        {
         "hoverinfo": "text",
         "marker": {
          "color": "rgb(35,205,205)"
         },
         "mode": "lines",
         "type": "scatter",
         "x": {
          "bdata": "AAAAAAAAAADG45iXvO7tP8bjmJe87u0/AAAAAAAAAAA=",
          "dtype": "f8"
         },
         "xaxis": "x",
         "y": {
          "bdata": "AAAAAACAS8AAAAAAAIBLwAAAAAAAQFDAAAAAAABAUMA=",
          "dtype": "f8"
         },
         "yaxis": "y"
        },
        {
         "hoverinfo": "text",
         "marker": {
          "color": "rgb(133,20,75)"
         },
         "mode": "lines",
         "type": "scatter",
         "x": {
          "bdata": "AAAAAAAAAABV9VDDea3uP1X1UMN5re4/AAAAAAAAAAA=",
          "dtype": "f8"
         },
         "xaxis": "x",
         "y": {
          "bdata": "AAAAAADAUsAAAAAAAMBSwAAAAAAAQFXAAAAAAABAVcA=",
          "dtype": "f8"
         },
         "yaxis": "y"
        },
        {
         "hoverinfo": "text",
         "marker": {
          "color": "rgb(133,20,75)"
         },
         "mode": "lines",
         "type": "scatter",
         "x": {
          "bdata": "AAAAAAAAAADo4EtdUHHvP+jgS11Qce8/AAAAAAAAAAA=",
          "dtype": "f8"
         },
         "xaxis": "x",
         "y": {
          "bdata": "AAAAAADAV8AAAAAAAMBXwAAAAAAAQFrAAAAAAABAWsA=",
          "dtype": "f8"
         },
         "yaxis": "y"
        },
        {
         "hoverinfo": "text",
         "marker": {
          "color": "rgb(133,20,75)"
         },
         "mode": "lines",
         "type": "scatter",
         "x": {
          "bdata": "VfVQw3mt7j8/hnPjsZrvPz+Gc+Oxmu8/6OBLXVBx7z8=",
          "dtype": "f8"
         },
         "xaxis": "x",
         "y": {
          "bdata": "AAAAAAAAVMAAAAAAAABUwAAAAAAAAFnAAAAAAAAAWcA=",
          "dtype": "f8"
         },
         "yaxis": "y"
        },
        {
         "hoverinfo": "text",
         "marker": {
          "color": "rgb(0,116,217)"
         },
         "mode": "lines",
         "type": "scatter",
         "x": {
          "bdata": "xuOYl7zu7T/4LCXrsHnwP/gsJeuwefA/P4Zz47Ga7z8=",
          "dtype": "f8"
         },
         "xaxis": "x",
         "y": {
          "bdata": "AAAAAAAATsAAAAAAAABOwAAAAAAAgFbAAAAAAACAVsA=",
          "dtype": "f8"
         },
         "yaxis": "y"
        },
        {
         "hoverinfo": "text",
         "marker": {
          "color": "rgb(255,220,0)"
         },
         "mode": "lines",
         "type": "scatter",
         "x": {
          "bdata": "AAAAAAAAAAAwWerMD6jpPzBZ6swPqOk/AAAAAAAAAAA=",
          "dtype": "f8"
         },
         "xaxis": "x",
         "y": {
          "bdata": "AAAAAADAXMAAAAAAAMBcwAAAAAAAQF/AAAAAAABAX8A=",
          "dtype": "f8"
         },
         "yaxis": "y"
        },
        {
         "hoverinfo": "text",
         "marker": {
          "color": "rgb(40,35,35)"
         },
         "mode": "lines",
         "type": "scatter",
         "x": {
          "bdata": "AAAAAAAAAACxahZjpKTsP7FqFmOkpOw/AAAAAAAAAAA=",
          "dtype": "f8"
         },
         "xaxis": "x",
         "y": {
          "bdata": "AAAAAAAgYsAAAAAAACBiwAAAAAAAYGPAAAAAAABgY8A=",
          "dtype": "f8"
         },
         "yaxis": "y"
        },
        {
         "hoverinfo": "text",
         "marker": {
          "color": "rgb(40,35,35)"
         },
         "mode": "lines",
         "type": "scatter",
         "x": {
          "bdata": "AAAAAAAAAADARgXlrhjuP8BGBeWuGO4/sWoWY6Sk7D8=",
          "dtype": "f8"
         },
         "xaxis": "x",
         "y": {
          "bdata": "AAAAAADgYMAAAAAAAOBgwAAAAAAAwGLAAAAAAADAYsA=",
          "dtype": "f8"
         },
         "yaxis": "y"
        },
        {
         "hoverinfo": "text",
         "marker": {
          "color": "rgb(40,35,35)"
         },
         "mode": "lines",
         "type": "scatter",
         "x": {
          "bdata": "AAAAAAAAAACeYCVPwVruP55gJU/BWu4/AAAAAAAAAAA=",
          "dtype": "f8"
         },
         "xaxis": "x",
         "y": {
          "bdata": "AAAAAACgZMAAAAAAAKBkwAAAAAAA4GXAAAAAAADgZcA=",
          "dtype": "f8"
         },
         "yaxis": "y"
        },
        {
         "hoverinfo": "text",
         "marker": {
          "color": "rgb(40,35,35)"
         },
         "mode": "lines",
         "type": "scatter",
         "x": {
          "bdata": "wEYF5a4Y7j+RD3rgz87uP5EPeuDPzu4/nmAlT8Fa7j8=",
          "dtype": "f8"
         },
         "xaxis": "x",
         "y": {
          "bdata": "AAAAAADQYcAAAAAAANBhwAAAAAAAQGXAAAAAAABAZcA=",
          "dtype": "f8"
         },
         "yaxis": "y"
        },
        {
         "hoverinfo": "text",
         "marker": {
          "color": "rgb(0,116,217)"
         },
         "mode": "lines",
         "type": "scatter",
         "x": {
          "bdata": "MFnqzA+o6T8N4IlaRbnwPw3giVpFufA/kQ964M/O7j8=",
          "dtype": "f8"
         },
         "xaxis": "x",
         "y": {
          "bdata": "AAAAAAAAXsAAAAAAAABewAAAAAAAiGPAAAAAAACIY8A=",
          "dtype": "f8"
         },
         "yaxis": "y"
        },
        {
         "hoverinfo": "text",
         "marker": {
          "color": "rgb(0,116,217)"
         },
         "mode": "lines",
         "type": "scatter",
         "x": {
          "bdata": "+Cwl67B58D8L3QJu3DnxPwvdAm7cOfE/DeCJWkW58D8=",
          "dtype": "f8"
         },
         "xaxis": "x",
         "y": {
          "bdata": "AAAAAADAUsAAAAAAAMBSwAAAAAAARGHAAAAAAABEYcA=",
          "dtype": "f8"
         },
         "yaxis": "y"
        },
        {
         "hoverinfo": "text",
         "marker": {
          "color": "rgb(61,153,112)"
         },
         "mode": "lines",
         "type": "scatter",
         "x": {
          "bdata": "AAAAAAAAAABMzGNO/7PlP0zMY07/s+U/AAAAAAAAAAA=",
          "dtype": "f8"
         },
         "xaxis": "x",
         "y": {
          "bdata": "AAAAAAAgZ8AAAAAAACBnwAAAAAAAYGjAAAAAAABgaMA=",
          "dtype": "f8"
         },
         "yaxis": "y"
        },
        {
         "hoverinfo": "text",
         "marker": {
          "color": "rgb(0,116,217)"
         },
         "mode": "lines",
         "type": "scatter",
         "x": {
          "bdata": "C90Cbtw58T992ntRul7yP33ae1G6XvI/TMxjTv+z5T8=",
          "dtype": "f8"
         },
         "xaxis": "x",
         "y": {
          "bdata": "AAAAAACkWsAAAAAAAKRawAAAAAAAwGfAAAAAAADAZ8A=",
          "dtype": "f8"
         },
         "yaxis": "y"
        },
        {
         "hoverinfo": "text",
         "marker": {
          "color": "rgb(255,65,54)"
         },
         "mode": "lines",
         "type": "scatter",
         "x": {
          "bdata": "AAAAAAAAAABpGrbmsTXmP2katuaxNeY/AAAAAAAAAAA=",
          "dtype": "f8"
         },
         "xaxis": "x",
         "y": {
          "bdata": "AAAAAADgasAAAAAAAOBqwAAAAAAAIGzAAAAAAAAgbMA=",
          "dtype": "f8"
         },
         "yaxis": "y"
        },
        {
         "hoverinfo": "text",
         "marker": {
          "color": "rgb(255,65,54)"
         },
         "mode": "lines",
         "type": "scatter",
         "x": {
          "bdata": "aRq25rE15j8b3e4mJ0XsPxvd7iYnRew/AAAAAAAAAAA=",
          "dtype": "f8"
         },
         "xaxis": "x",
         "y": {
          "bdata": "AAAAAACAa8AAAAAAAIBrwAAAAAAAYG3AAAAAAABgbcA=",
          "dtype": "f8"
         },
         "yaxis": "y"
        },
        {
         "hoverinfo": "text",
         "marker": {
          "color": "rgb(255,65,54)"
         },
         "mode": "lines",
         "type": "scatter",
         "x": {
          "bdata": "AAAAAAAAAADuPJVMBt3tP+48lUwG3e0/G93uJidF7D8=",
          "dtype": "f8"
         },
         "xaxis": "x",
         "y": {
          "bdata": "AAAAAACgacAAAAAAAKBpwAAAAAAAcGzAAAAAAABwbMA=",
          "dtype": "f8"
         },
         "yaxis": "y"
        },
        {
         "hoverinfo": "text",
         "marker": {
          "color": "rgb(35,205,205)"
         },
         "mode": "lines",
         "type": "scatter",
         "x": {
          "bdata": "AAAAAAAAAABaEmjMeyfpP1oSaMx7J+k/AAAAAAAAAAA=",
          "dtype": "f8"
         },
         "xaxis": "x",
         "y": {
          "bdata": "AAAAAADgb8AAAAAAAOBvwAAAAAAAkHDAAAAAAACQcMA=",
          "dtype": "f8"
         },
         "yaxis": "y"
        },
        {
         "hoverinfo": "text",
         "marker": {
          "color": "rgb(35,205,205)"
         },
         "mode": "lines",
         "type": "scatter",
         "x": {
          "bdata": "AAAAAAAAAABBld9lAoTrP0GV32UChOs/WhJozHsn6T8=",
          "dtype": "f8"
         },
         "xaxis": "x",
         "y": {
          "bdata": "AAAAAACgbsAAAAAAAKBuwAAAAAAAQHDAAAAAAABAcMA=",
          "dtype": "f8"
         },
         "yaxis": "y"
        },
        {
         "hoverinfo": "text",
         "marker": {
          "color": "rgb(0,116,217)"
         },
         "mode": "lines",
         "type": "scatter",
         "x": {
          "bdata": "7jyVTAbd7T+ZefmGlKLyP5l5+YaUovI/QZXfZQKE6z8=",
          "dtype": "f8"
         },
         "xaxis": "x",
         "y": {
          "bdata": "AAAAAAAIa8AAAAAAAAhrwAAAAAAAkG/AAAAAAACQb8A=",
          "dtype": "f8"
         },
         "yaxis": "y"
        },
        {
         "hoverinfo": "text",
         "marker": {
          "color": "rgb(0,116,217)"
         },
         "mode": "lines",
         "type": "scatter",
         "x": {
          "bdata": "fdp7Ubpe8j/MWrfLQfLyP8xat8tB8vI/mXn5hpSi8j8=",
          "dtype": "f8"
         },
         "xaxis": "x",
         "y": {
          "bdata": "AAAAAACJYsAAAAAAAIliwAAAAAAATG3AAAAAAABMbcA=",
          "dtype": "f8"
         },
         "yaxis": "y"
        },
        {
         "hoverinfo": "text",
         "marker": {
          "color": "rgb(61,153,112)"
         },
         "mode": "lines",
         "type": "scatter",
         "x": {
          "bdata": "AAAAAAAAAAAhfum2NYbqPyF+6bY1huo/AAAAAAAAAAA=",
          "dtype": "f8"
         },
         "xaxis": "x",
         "y": {
          "bdata": "AAAAAADQccAAAAAAANBxwAAAAAAAcHLAAAAAAABwcsA=",
          "dtype": "f8"
         },
         "yaxis": "y"
        },
        {
         "hoverinfo": "text",
         "marker": {
          "color": "rgb(61,153,112)"
         },
         "mode": "lines",
         "type": "scatter",
         "x": {
          "bdata": "AAAAAAAAAAAzN93vwoLuPzM33e/Cgu4/IX7ptjWG6j8=",
          "dtype": "f8"
         },
         "xaxis": "x",
         "y": {
          "bdata": "AAAAAAAwccAAAAAAADBxwAAAAAAAIHLAAAAAAAAgcsA=",
          "dtype": "f8"
         },
         "yaxis": "y"
        },
        {
         "hoverinfo": "text",
         "marker": {
          "color": "rgb(255,65,54)"
         },
         "mode": "lines",
         "type": "scatter",
         "x": {
          "bdata": "AAAAAAAAAAAGpV7PLkjqPwalXs8uSOo/AAAAAAAAAAA=",
          "dtype": "f8"
         },
         "xaxis": "x",
         "y": {
          "bdata": "AAAAAAAQc8AAAAAAABBzwAAAAAAAsHPAAAAAAACwc8A=",
          "dtype": "f8"
         },
         "yaxis": "y"
        },
        {
         "hoverinfo": "text",
         "marker": {
          "color": "rgb(255,65,54)"
         },
         "mode": "lines",
         "type": "scatter",
         "x": {
          "bdata": "AAAAAAAAAADQL94mcJnoP9Av3iZwmeg/AAAAAAAAAAA=",
          "dtype": "f8"
         },
         "xaxis": "x",
         "y": {
          "bdata": "AAAAAABQdMAAAAAAAFB0wAAAAAAA8HTAAAAAAADwdMA=",
          "dtype": "f8"
         },
         "yaxis": "y"
        },
        {
         "hoverinfo": "text",
         "marker": {
          "color": "rgb(255,65,54)"
         },
         "mode": "lines",
         "type": "scatter",
         "x": {
          "bdata": "0C/eJnCZ6D+U4+3v33HrP5Tj7e/fces/AAAAAAAAAAA=",
          "dtype": "f8"
         },
         "xaxis": "x",
         "y": {
          "bdata": "AAAAAACgdMAAAAAAAKB0wAAAAAAAkHXAAAAAAACQdcA=",
          "dtype": "f8"
         },
         "yaxis": "y"
        },
        {
         "hoverinfo": "text",
         "marker": {
          "color": "rgb(255,65,54)"
         },
         "mode": "lines",
         "type": "scatter",
         "x": {
          "bdata": "BqVezy5I6j+VEbSKFT3uP5URtIoVPe4/lOPt799x6z8=",
          "dtype": "f8"
         },
         "xaxis": "x",
         "y": {
          "bdata": "AAAAAABgc8AAAAAAAGBzwAAAAAAAGHXAAAAAAAAYdcA=",
          "dtype": "f8"
         },
         "yaxis": "y"
        },
        {
         "hoverinfo": "text",
         "marker": {
          "color": "rgb(255,65,54)"
         },
         "mode": "lines",
         "type": "scatter",
         "x": {
          "bdata": "AAAAAAAAAABRyuj6sRnsP1HK6PqxGew/AAAAAAAAAAA=",
          "dtype": "f8"
         },
         "xaxis": "x",
         "y": {
          "bdata": "AAAAAAAwdsAAAAAAADB2wAAAAAAA0HbAAAAAAADQdsA=",
          "dtype": "f8"
         },
         "yaxis": "y"
        },
        {
         "hoverinfo": "text",
         "marker": {
          "color": "rgb(255,65,54)"
         },
         "mode": "lines",
         "type": "scatter",
         "x": {
          "bdata": "lRG0ihU97j8A2xrYGsrvPwDbGtgayu8/Ucro+rEZ7D8=",
          "dtype": "f8"
         },
         "xaxis": "x",
         "y": {
          "bdata": "AAAAAAA8dMAAAAAAADx0wAAAAAAAgHbAAAAAAACAdsA=",
          "dtype": "f8"
         },
         "yaxis": "y"
        },
        {
         "hoverinfo": "text",
         "marker": {
          "color": "rgb(0,116,217)"
         },
         "mode": "lines",
         "type": "scatter",
         "x": {
          "bdata": "Mzfd78KC7j8ZpCRPSS7xPxmkJE9JLvE/ANsa2BrK7z8=",
          "dtype": "f8"
         },
         "xaxis": "x",
         "y": {
          "bdata": "AAAAAACoccAAAAAAAKhxwAAAAAAAXnXAAAAAAABedcA=",
          "dtype": "f8"
         },
         "yaxis": "y"
        },
        {
         "hoverinfo": "text",
         "marker": {
          "color": "rgb(35,205,205)"
         },
         "mode": "lines",
         "type": "scatter",
         "x": {
          "bdata": "AAAAAAAAAADgQy3MCnvlP+BDLcwKe+U/AAAAAAAAAAA=",
          "dtype": "f8"
         },
         "xaxis": "x",
         "y": {
          "bdata": "AAAAAABwd8AAAAAAAHB3wAAAAAAAEHjAAAAAAAAQeMA=",
          "dtype": "f8"
         },
         "yaxis": "y"
        },
        {
         "hoverinfo": "text",
         "marker": {
          "color": "rgb(0,116,217)"
         },
         "mode": "lines",
         "type": "scatter",
         "x": {
          "bdata": "GaQkT0ku8T9mU7eSJSPyP2ZTt5IlI/I/4EMtzAp75T8=",
          "dtype": "f8"
         },
         "xaxis": "x",
         "y": {
          "bdata": "AAAAAACDc8AAAAAAAINzwAAAAAAAwHfAAAAAAADAd8A=",
          "dtype": "f8"
         },
         "yaxis": "y"
        },
        {
         "hoverinfo": "text",
         "marker": {
          "color": "rgb(0,116,217)"
         },
         "mode": "lines",
         "type": "scatter",
         "x": {
          "bdata": "zFq3y0Hy8j/RlhiFkIbzP9GWGIWQhvM/ZlO3kiUj8j8=",
          "dtype": "f8"
         },
         "xaxis": "x",
         "y": {
          "bdata": "AAAAAIDqZ8AAAAAAgOpnwAAAAACAoXXAAAAAAIChdcA=",
          "dtype": "f8"
         },
         "yaxis": "y"
        },
        {
         "hoverinfo": "text",
         "marker": {
          "color": "rgb(0,116,217)"
         },
         "mode": "lines",
         "type": "scatter",
         "x": {
          "bdata": "/Zz6IGt08T8mD75CHR78PyYPvkIdHvw/0ZYYhZCG8z8=",
          "dtype": "f8"
         },
         "xaxis": "x",
         "y": {
          "bdata": "AAAAAADAN8AAAAAAAMA3wAAAAABgy3DAAAAAAGDLcMA=",
          "dtype": "f8"
         },
         "yaxis": "y"
        }
       ],
       "layout": {
        "autosize": false,
        "height": 785,
        "hoverlabel": {
         "bgcolor": "white",
         "font": {
          "family": "Rockwell",
          "size": 16
         }
        },
        "hovermode": "closest",
        "plot_bgcolor": "#ECEFF1",
        "showlegend": false,
        "template": {
         "data": {
          "bar": [
           {
            "error_x": {
             "color": "#2a3f5f"
            },
            "error_y": {
             "color": "#2a3f5f"
            },
            "marker": {
             "line": {
              "color": "white",
              "width": 0.5
             },
             "pattern": {
              "fillmode": "overlay",
              "size": 10,
              "solidity": 0.2
             }
            },
            "type": "bar"
           }
          ],
          "barpolar": [
           {
            "marker": {
             "line": {
              "color": "white",
              "width": 0.5
             },
             "pattern": {
              "fillmode": "overlay",
              "size": 10,
              "solidity": 0.2
             }
            },
            "type": "barpolar"
           }
          ],
          "carpet": [
           {
            "aaxis": {
             "endlinecolor": "#2a3f5f",
             "gridcolor": "#C8D4E3",
             "linecolor": "#C8D4E3",
             "minorgridcolor": "#C8D4E3",
             "startlinecolor": "#2a3f5f"
            },
            "baxis": {
             "endlinecolor": "#2a3f5f",
             "gridcolor": "#C8D4E3",
             "linecolor": "#C8D4E3",
             "minorgridcolor": "#C8D4E3",
             "startlinecolor": "#2a3f5f"
            },
            "type": "carpet"
           }
          ],
          "choropleth": [
           {
            "colorbar": {
             "outlinewidth": 0,
             "ticks": ""
            },
            "type": "choropleth"
           }
          ],
          "contour": [
           {
            "colorbar": {
             "outlinewidth": 0,
             "ticks": ""
            },
            "colorscale": [
             [
              0,
              "#0d0887"
             ],
             [
              0.1111111111111111,
              "#46039f"
             ],
             [
              0.2222222222222222,
              "#7201a8"
             ],
             [
              0.3333333333333333,
              "#9c179e"
             ],
             [
              0.4444444444444444,
              "#bd3786"
             ],
             [
              0.5555555555555556,
              "#d8576b"
             ],
             [
              0.6666666666666666,
              "#ed7953"
             ],
             [
              0.7777777777777778,
              "#fb9f3a"
             ],
             [
              0.8888888888888888,
              "#fdca26"
             ],
             [
              1,
              "#f0f921"
             ]
            ],
            "type": "contour"
           }
          ],
          "contourcarpet": [
           {
            "colorbar": {
             "outlinewidth": 0,
             "ticks": ""
            },
            "type": "contourcarpet"
           }
          ],
          "heatmap": [
           {
            "colorbar": {
             "outlinewidth": 0,
             "ticks": ""
            },
            "colorscale": [
             [
              0,
              "#0d0887"
             ],
             [
              0.1111111111111111,
              "#46039f"
             ],
             [
              0.2222222222222222,
              "#7201a8"
             ],
             [
              0.3333333333333333,
              "#9c179e"
             ],
             [
              0.4444444444444444,
              "#bd3786"
             ],
             [
              0.5555555555555556,
              "#d8576b"
             ],
             [
              0.6666666666666666,
              "#ed7953"
             ],
             [
              0.7777777777777778,
              "#fb9f3a"
             ],
             [
              0.8888888888888888,
              "#fdca26"
             ],
             [
              1,
              "#f0f921"
             ]
            ],
            "type": "heatmap"
           }
          ],
          "histogram": [
           {
            "marker": {
             "pattern": {
              "fillmode": "overlay",
              "size": 10,
              "solidity": 0.2
             }
            },
            "type": "histogram"
           }
          ],
          "histogram2d": [
           {
            "colorbar": {
             "outlinewidth": 0,
             "ticks": ""
            },
            "colorscale": [
             [
              0,
              "#0d0887"
             ],
             [
              0.1111111111111111,
              "#46039f"
             ],
             [
              0.2222222222222222,
              "#7201a8"
             ],
             [
              0.3333333333333333,
              "#9c179e"
             ],
             [
              0.4444444444444444,
              "#bd3786"
             ],
             [
              0.5555555555555556,
              "#d8576b"
             ],
             [
              0.6666666666666666,
              "#ed7953"
             ],
             [
              0.7777777777777778,
              "#fb9f3a"
             ],
             [
              0.8888888888888888,
              "#fdca26"
             ],
             [
              1,
              "#f0f921"
             ]
            ],
            "type": "histogram2d"
           }
          ],
          "histogram2dcontour": [
           {
            "colorbar": {
             "outlinewidth": 0,
             "ticks": ""
            },
            "colorscale": [
             [
              0,
              "#0d0887"
             ],
             [
              0.1111111111111111,
              "#46039f"
             ],
             [
              0.2222222222222222,
              "#7201a8"
             ],
             [
              0.3333333333333333,
              "#9c179e"
             ],
             [
              0.4444444444444444,
              "#bd3786"
             ],
             [
              0.5555555555555556,
              "#d8576b"
             ],
             [
              0.6666666666666666,
              "#ed7953"
             ],
             [
              0.7777777777777778,
              "#fb9f3a"
             ],
             [
              0.8888888888888888,
              "#fdca26"
             ],
             [
              1,
              "#f0f921"
             ]
            ],
            "type": "histogram2dcontour"
           }
          ],
          "mesh3d": [
           {
            "colorbar": {
             "outlinewidth": 0,
             "ticks": ""
            },
            "type": "mesh3d"
           }
          ],
          "parcoords": [
           {
            "line": {
             "colorbar": {
              "outlinewidth": 0,
              "ticks": ""
             }
            },
            "type": "parcoords"
           }
          ],
          "pie": [
           {
            "automargin": true,
            "type": "pie"
           }
          ],
          "scatter": [
           {
            "fillpattern": {
             "fillmode": "overlay",
             "size": 10,
             "solidity": 0.2
            },
            "type": "scatter"
           }
          ],
          "scatter3d": [
           {
            "line": {
             "colorbar": {
              "outlinewidth": 0,
              "ticks": ""
             }
            },
            "marker": {
             "colorbar": {
              "outlinewidth": 0,
              "ticks": ""
             }
            },
            "type": "scatter3d"
           }
          ],
          "scattercarpet": [
           {
            "marker": {
             "colorbar": {
              "outlinewidth": 0,
              "ticks": ""
             }
            },
            "type": "scattercarpet"
           }
          ],
          "scattergeo": [
           {
            "marker": {
             "colorbar": {
              "outlinewidth": 0,
              "ticks": ""
             }
            },
            "type": "scattergeo"
           }
          ],
          "scattergl": [
           {
            "marker": {
             "colorbar": {
              "outlinewidth": 0,
              "ticks": ""
             }
            },
            "type": "scattergl"
           }
          ],
          "scattermap": [
           {
            "marker": {
             "colorbar": {
              "outlinewidth": 0,
              "ticks": ""
             }
            },
            "type": "scattermap"
           }
          ],
          "scattermapbox": [
           {
            "marker": {
             "colorbar": {
              "outlinewidth": 0,
              "ticks": ""
             }
            },
            "type": "scattermapbox"
           }
          ],
          "scatterpolar": [
           {
            "marker": {
             "colorbar": {
              "outlinewidth": 0,
              "ticks": ""
             }
            },
            "type": "scatterpolar"
           }
          ],
          "scatterpolargl": [
           {
            "marker": {
             "colorbar": {
              "outlinewidth": 0,
              "ticks": ""
             }
            },
            "type": "scatterpolargl"
           }
          ],
          "scatterternary": [
           {
            "marker": {
             "colorbar": {
              "outlinewidth": 0,
              "ticks": ""
             }
            },
            "type": "scatterternary"
           }
          ],
          "surface": [
           {
            "colorbar": {
             "outlinewidth": 0,
             "ticks": ""
            },
            "colorscale": [
             [
              0,
              "#0d0887"
             ],
             [
              0.1111111111111111,
              "#46039f"
             ],
             [
              0.2222222222222222,
              "#7201a8"
             ],
             [
              0.3333333333333333,
              "#9c179e"
             ],
             [
              0.4444444444444444,
              "#bd3786"
             ],
             [
              0.5555555555555556,
              "#d8576b"
             ],
             [
              0.6666666666666666,
              "#ed7953"
             ],
             [
              0.7777777777777778,
              "#fb9f3a"
             ],
             [
              0.8888888888888888,
              "#fdca26"
             ],
             [
              1,
              "#f0f921"
             ]
            ],
            "type": "surface"
           }
          ],
          "table": [
           {
            "cells": {
             "fill": {
              "color": "#EBF0F8"
             },
             "line": {
              "color": "white"
             }
            },
            "header": {
             "fill": {
              "color": "#C8D4E3"
             },
             "line": {
              "color": "white"
             }
            },
            "type": "table"
           }
          ]
         },
         "layout": {
          "annotationdefaults": {
           "arrowcolor": "#2a3f5f",
           "arrowhead": 0,
           "arrowwidth": 1
          },
          "autotypenumbers": "strict",
          "coloraxis": {
           "colorbar": {
            "outlinewidth": 0,
            "ticks": ""
           }
          },
          "colorscale": {
           "diverging": [
            [
             0,
             "#8e0152"
            ],
            [
             0.1,
             "#c51b7d"
            ],
            [
             0.2,
             "#de77ae"
            ],
            [
             0.3,
             "#f1b6da"
            ],
            [
             0.4,
             "#fde0ef"
            ],
            [
             0.5,
             "#f7f7f7"
            ],
            [
             0.6,
             "#e6f5d0"
            ],
            [
             0.7,
             "#b8e186"
            ],
            [
             0.8,
             "#7fbc41"
            ],
            [
             0.9,
             "#4d9221"
            ],
            [
             1,
             "#276419"
            ]
           ],
           "sequential": [
            [
             0,
             "#0d0887"
            ],
            [
             0.1111111111111111,
             "#46039f"
            ],
            [
             0.2222222222222222,
             "#7201a8"
            ],
            [
             0.3333333333333333,
             "#9c179e"
            ],
            [
             0.4444444444444444,
             "#bd3786"
            ],
            [
             0.5555555555555556,
             "#d8576b"
            ],
            [
             0.6666666666666666,
             "#ed7953"
            ],
            [
             0.7777777777777778,
             "#fb9f3a"
            ],
            [
             0.8888888888888888,
             "#fdca26"
            ],
            [
             1,
             "#f0f921"
            ]
           ],
           "sequentialminus": [
            [
             0,
             "#0d0887"
            ],
            [
             0.1111111111111111,
             "#46039f"
            ],
            [
             0.2222222222222222,
             "#7201a8"
            ],
            [
             0.3333333333333333,
             "#9c179e"
            ],
            [
             0.4444444444444444,
             "#bd3786"
            ],
            [
             0.5555555555555556,
             "#d8576b"
            ],
            [
             0.6666666666666666,
             "#ed7953"
            ],
            [
             0.7777777777777778,
             "#fb9f3a"
            ],
            [
             0.8888888888888888,
             "#fdca26"
            ],
            [
             1,
             "#f0f921"
            ]
           ]
          },
          "colorway": [
           "#636efa",
           "#EF553B",
           "#00cc96",
           "#ab63fa",
           "#FFA15A",
           "#19d3f3",
           "#FF6692",
           "#B6E880",
           "#FF97FF",
           "#FECB52"
          ],
          "font": {
           "color": "#2a3f5f"
          },
          "geo": {
           "bgcolor": "white",
           "lakecolor": "white",
           "landcolor": "white",
           "showlakes": true,
           "showland": true,
           "subunitcolor": "#C8D4E3"
          },
          "hoverlabel": {
           "align": "left"
          },
          "hovermode": "closest",
          "mapbox": {
           "style": "light"
          },
          "paper_bgcolor": "white",
          "plot_bgcolor": "white",
          "polar": {
           "angularaxis": {
            "gridcolor": "#EBF0F8",
            "linecolor": "#EBF0F8",
            "ticks": ""
           },
           "bgcolor": "white",
           "radialaxis": {
            "gridcolor": "#EBF0F8",
            "linecolor": "#EBF0F8",
            "ticks": ""
           }
          },
          "scene": {
           "xaxis": {
            "backgroundcolor": "white",
            "gridcolor": "#DFE8F3",
            "gridwidth": 2,
            "linecolor": "#EBF0F8",
            "showbackground": true,
            "ticks": "",
            "zerolinecolor": "#EBF0F8"
           },
           "yaxis": {
            "backgroundcolor": "white",
            "gridcolor": "#DFE8F3",
            "gridwidth": 2,
            "linecolor": "#EBF0F8",
            "showbackground": true,
            "ticks": "",
            "zerolinecolor": "#EBF0F8"
           },
           "zaxis": {
            "backgroundcolor": "white",
            "gridcolor": "#DFE8F3",
            "gridwidth": 2,
            "linecolor": "#EBF0F8",
            "showbackground": true,
            "ticks": "",
            "zerolinecolor": "#EBF0F8"
           }
          },
          "shapedefaults": {
           "line": {
            "color": "#2a3f5f"
           }
          },
          "ternary": {
           "aaxis": {
            "gridcolor": "#DFE8F3",
            "linecolor": "#A2B1C6",
            "ticks": ""
           },
           "baxis": {
            "gridcolor": "#DFE8F3",
            "linecolor": "#A2B1C6",
            "ticks": ""
           },
           "bgcolor": "white",
           "caxis": {
            "gridcolor": "#DFE8F3",
            "linecolor": "#A2B1C6",
            "ticks": ""
           }
          },
          "title": {
           "x": 0.05
          },
          "xaxis": {
           "automargin": true,
           "gridcolor": "#EBF0F8",
           "linecolor": "#EBF0F8",
           "ticks": "",
           "title": {
            "standoff": 15
           },
           "zerolinecolor": "#EBF0F8",
           "zerolinewidth": 2
          },
          "yaxis": {
           "automargin": true,
           "gridcolor": "#EBF0F8",
           "linecolor": "#EBF0F8",
           "ticks": "",
           "title": {
            "standoff": 15
           },
           "zerolinecolor": "#EBF0F8",
           "zerolinewidth": 2
          }
         }
        },
        "title": {
         "font": {
          "color": "Black",
          "size": 22
         },
         "text": "<b>Hierarchical Clustering</b>",
         "x": 0.5,
         "xanchor": "center",
         "yanchor": "top"
        },
        "width": 1000,
        "xaxis": {
         "mirror": "allticks",
         "rangemode": "tozero",
         "showgrid": false,
         "showline": true,
         "showticklabels": true,
         "ticks": "outside",
         "type": "linear",
         "zeroline": false
        },
        "yaxis": {
         "mirror": "allticks",
         "range": [
          -390,
          0
         ],
         "rangemode": "tozero",
         "showgrid": false,
         "showline": true,
         "showticklabels": true,
         "tickmode": "array",
         "ticks": "outside",
         "ticktext": [
          "March 2025 Retrieval Dates",
          "2025 Retrieval Dates",
          "2024 November Event Timeline",
          "2024 November News and Events",
          "Document Retrieval Dates 2024",
          "IGN News and Editing",
          "Prominent News and Media Outlets",
          "Noa App Media and Stories",
          "Celebrity, Politics, and Culture",
          "Personal Interactions and Clarifications",
          "Angry Birds Puzzle Game Launch",
          "Event Cancellation and Refund Controversy",
          "Controversial Willy's Chocolate Event",
          "AI Debate and Implications",
          "AI-Generated Books in Libraries",
          "Google Search AI Integration",
          "Evolution of Generative Language Models",
          "Clarkesworld Submission Spam Crisis",
          "Dublin Halloween Parade Hoax",
          "AI-Generated Halloween Event Misinformation",
          "John Milton Freedom Foundation Activities",
          "AI-Generated Political Fan Imagery",
          "Trump Fast Food AIMockery",
          "Misinformation and Conspiracy During Hurricanes",
          "Origin and Adoption of \"Slop\"",
          "AI-Generated Low-Quality Content",
          "Discourse on \"Slop\" and Economy",
          "Italian Brainrot Viral Branding",
          "Balancing AI and Human Content",
          "Effective AI Implementation in Business",
          "Voice Acting and AI Concerns",
          "AI-Generated Film Promotion Controversies",
          "AI-Generated Content Monetization",
          "Activision's Use of Generative AI in Gaming",
          "Generative AI in Entertainment",
          "Coca-Cola Christmas AI Controversy",
          "Spotify Wrapped and AI Podcast Feedback",
          "Square Enix's AI Innovation Strategy",
          "Square Enix AI Game Art"
         ],
         "tickvals": [
          -5,
          -15,
          -25,
          -35,
          -45,
          -55,
          -65,
          -75,
          -85,
          -95,
          -105,
          -115,
          -125,
          -135,
          -145,
          -155,
          -165,
          -175,
          -185,
          -195,
          -205,
          -215,
          -225,
          -235,
          -245,
          -255,
          -265,
          -275,
          -285,
          -295,
          -305,
          -315,
          -325,
          -335,
          -345,
          -355,
          -365,
          -375,
          -385
         ],
         "type": "linear",
         "zeroline": false
        }
       }
      }
     },
     "metadata": {},
     "output_type": "display_data"
    }
   ],
   "source": [
    "topic_model.visualize_hierarchy(custom_labels=True)"
   ]
  },
  {
   "cell_type": "code",
   "execution_count": 19,
   "id": "031eb2bd",
   "metadata": {},
   "outputs": [
    {
     "data": {
      "application/vnd.plotly.v1+json": {
       "config": {
        "plotlyServerURL": "https://plot.ly"
       },
       "data": [
        {
         "coloraxis": "coloraxis",
         "hovertemplate": "x: %{x}<br>y: %{y}<br>Similarity Score: %{z}<extra></extra>",
         "name": "0",
         "type": "heatmap",
         "x": [
          "0_facebook_images_content",
          "1_activision_game_black",
          "2_cola_coca_coca cola",
          "3_event_experience_children",
          "4_misinformation_fema_reality",
          "5_parade_dublin_halloween",
          "6_google_search_results",
          "7_times_net_eurogamer",
          "8_kiryu_enix_square enix",
          "9_scammers_mistake_highly",
          "10_trump_harris_donald",
          "11_brand_entrepreneurs_cont...",
          "12_film_poster_amazon",
          "13_2024_november 2024_novem...",
          "14_foamstars_square enix_enix",
          "15_books_catalog_book",
          "16_debate_academic_ai poten...",
          "17_trump_food_fast",
          "18_advertisement_404 media_...",
          "19_foundation_muse_organiza...",
          "20_ign_wesley_news editor",
          "21_slop_slop slop_sector",
          "22_myspirithalloween_myspir...",
          "23_retrieved_2024_september...",
          "24_code_currently_really",
          "25_2024_november 2024_novem...",
          "26_creative_issues_generati...",
          "27_slop_term_unwanted",
          "28_2025 retrieved_march 202...",
          "29_angry_quest_title",
          "30_chatgpt_language_like ch...",
          "31_style_explore_fashion",
          "32_gen_brainrot_italian bra...",
          "33_willison_early_term",
          "34_clarke_submissions_clark...",
          "35_businesses_data_right",
          "36_spotify_users_podcast",
          "37_voice_voice actor_actor",
          "38_2025 retrieved_retrieved..."
         ],
         "xaxis": "x",
         "y": [
          "0_facebook_images_content",
          "1_activision_game_black",
          "2_cola_coca_coca cola",
          "3_event_experience_children",
          "4_misinformation_fema_reality",
          "5_parade_dublin_halloween",
          "6_google_search_results",
          "7_times_net_eurogamer",
          "8_kiryu_enix_square enix",
          "9_scammers_mistake_highly",
          "10_trump_harris_donald",
          "11_brand_entrepreneurs_cont...",
          "12_film_poster_amazon",
          "13_2024_november 2024_novem...",
          "14_foamstars_square enix_enix",
          "15_books_catalog_book",
          "16_debate_academic_ai poten...",
          "17_trump_food_fast",
          "18_advertisement_404 media_...",
          "19_foundation_muse_organiza...",
          "20_ign_wesley_news editor",
          "21_slop_slop slop_sector",
          "22_myspirithalloween_myspir...",
          "23_retrieved_2024_september...",
          "24_code_currently_really",
          "25_2024_november 2024_novem...",
          "26_creative_issues_generati...",
          "27_slop_term_unwanted",
          "28_2025 retrieved_march 202...",
          "29_angry_quest_title",
          "30_chatgpt_language_like ch...",
          "31_style_explore_fashion",
          "32_gen_brainrot_italian bra...",
          "33_willison_early_term",
          "34_clarke_submissions_clark...",
          "35_businesses_data_right",
          "36_spotify_users_podcast",
          "37_voice_voice actor_actor",
          "38_2025 retrieved_retrieved..."
         ],
         "yaxis": "y",
         "z": {
          "bdata": "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",
          "dtype": "f8",
          "shape": "39, 39"
         }
        }
       ],
       "layout": {
        "coloraxis": {
         "colorbar": {
          "title": {
           "text": "Similarity Score"
          }
         },
         "colorscale": [
          [
           0,
           "rgb(247,252,240)"
          ],
          [
           0.125,
           "rgb(224,243,219)"
          ],
          [
           0.25,
           "rgb(204,235,197)"
          ],
          [
           0.375,
           "rgb(168,221,181)"
          ],
          [
           0.5,
           "rgb(123,204,196)"
          ],
          [
           0.625,
           "rgb(78,179,211)"
          ],
          [
           0.75,
           "rgb(43,140,190)"
          ],
          [
           0.875,
           "rgb(8,104,172)"
          ],
          [
           1,
           "rgb(8,64,129)"
          ]
         ]
        },
        "height": 800,
        "hoverlabel": {
         "bgcolor": "white",
         "font": {
          "family": "Rockwell",
          "size": 16
         }
        },
        "legend": {
         "title": {
          "text": "Trend"
         }
        },
        "margin": {
         "t": 60
        },
        "showlegend": true,
        "template": {
         "data": {
          "bar": [
           {
            "error_x": {
             "color": "#2a3f5f"
            },
            "error_y": {
             "color": "#2a3f5f"
            },
            "marker": {
             "line": {
              "color": "#E5ECF6",
              "width": 0.5
             },
             "pattern": {
              "fillmode": "overlay",
              "size": 10,
              "solidity": 0.2
             }
            },
            "type": "bar"
           }
          ],
          "barpolar": [
           {
            "marker": {
             "line": {
              "color": "#E5ECF6",
              "width": 0.5
             },
             "pattern": {
              "fillmode": "overlay",
              "size": 10,
              "solidity": 0.2
             }
            },
            "type": "barpolar"
           }
          ],
          "carpet": [
           {
            "aaxis": {
             "endlinecolor": "#2a3f5f",
             "gridcolor": "white",
             "linecolor": "white",
             "minorgridcolor": "white",
             "startlinecolor": "#2a3f5f"
            },
            "baxis": {
             "endlinecolor": "#2a3f5f",
             "gridcolor": "white",
             "linecolor": "white",
             "minorgridcolor": "white",
             "startlinecolor": "#2a3f5f"
            },
            "type": "carpet"
           }
          ],
          "choropleth": [
           {
            "colorbar": {
             "outlinewidth": 0,
             "ticks": ""
            },
            "type": "choropleth"
           }
          ],
          "contour": [
           {
            "colorbar": {
             "outlinewidth": 0,
             "ticks": ""
            },
            "colorscale": [
             [
              0,
              "#0d0887"
             ],
             [
              0.1111111111111111,
              "#46039f"
             ],
             [
              0.2222222222222222,
              "#7201a8"
             ],
             [
              0.3333333333333333,
              "#9c179e"
             ],
             [
              0.4444444444444444,
              "#bd3786"
             ],
             [
              0.5555555555555556,
              "#d8576b"
             ],
             [
              0.6666666666666666,
              "#ed7953"
             ],
             [
              0.7777777777777778,
              "#fb9f3a"
             ],
             [
              0.8888888888888888,
              "#fdca26"
             ],
             [
              1,
              "#f0f921"
             ]
            ],
            "type": "contour"
           }
          ],
          "contourcarpet": [
           {
            "colorbar": {
             "outlinewidth": 0,
             "ticks": ""
            },
            "type": "contourcarpet"
           }
          ],
          "heatmap": [
           {
            "colorbar": {
             "outlinewidth": 0,
             "ticks": ""
            },
            "colorscale": [
             [
              0,
              "#0d0887"
             ],
             [
              0.1111111111111111,
              "#46039f"
             ],
             [
              0.2222222222222222,
              "#7201a8"
             ],
             [
              0.3333333333333333,
              "#9c179e"
             ],
             [
              0.4444444444444444,
              "#bd3786"
             ],
             [
              0.5555555555555556,
              "#d8576b"
             ],
             [
              0.6666666666666666,
              "#ed7953"
             ],
             [
              0.7777777777777778,
              "#fb9f3a"
             ],
             [
              0.8888888888888888,
              "#fdca26"
             ],
             [
              1,
              "#f0f921"
             ]
            ],
            "type": "heatmap"
           }
          ],
          "histogram": [
           {
            "marker": {
             "pattern": {
              "fillmode": "overlay",
              "size": 10,
              "solidity": 0.2
             }
            },
            "type": "histogram"
           }
          ],
          "histogram2d": [
           {
            "colorbar": {
             "outlinewidth": 0,
             "ticks": ""
            },
            "colorscale": [
             [
              0,
              "#0d0887"
             ],
             [
              0.1111111111111111,
              "#46039f"
             ],
             [
              0.2222222222222222,
              "#7201a8"
             ],
             [
              0.3333333333333333,
              "#9c179e"
             ],
             [
              0.4444444444444444,
              "#bd3786"
             ],
             [
              0.5555555555555556,
              "#d8576b"
             ],
             [
              0.6666666666666666,
              "#ed7953"
             ],
             [
              0.7777777777777778,
              "#fb9f3a"
             ],
             [
              0.8888888888888888,
              "#fdca26"
             ],
             [
              1,
              "#f0f921"
             ]
            ],
            "type": "histogram2d"
           }
          ],
          "histogram2dcontour": [
           {
            "colorbar": {
             "outlinewidth": 0,
             "ticks": ""
            },
            "colorscale": [
             [
              0,
              "#0d0887"
             ],
             [
              0.1111111111111111,
              "#46039f"
             ],
             [
              0.2222222222222222,
              "#7201a8"
             ],
             [
              0.3333333333333333,
              "#9c179e"
             ],
             [
              0.4444444444444444,
              "#bd3786"
             ],
             [
              0.5555555555555556,
              "#d8576b"
             ],
             [
              0.6666666666666666,
              "#ed7953"
             ],
             [
              0.7777777777777778,
              "#fb9f3a"
             ],
             [
              0.8888888888888888,
              "#fdca26"
             ],
             [
              1,
              "#f0f921"
             ]
            ],
            "type": "histogram2dcontour"
           }
          ],
          "mesh3d": [
           {
            "colorbar": {
             "outlinewidth": 0,
             "ticks": ""
            },
            "type": "mesh3d"
           }
          ],
          "parcoords": [
           {
            "line": {
             "colorbar": {
              "outlinewidth": 0,
              "ticks": ""
             }
            },
            "type": "parcoords"
           }
          ],
          "pie": [
           {
            "automargin": true,
            "type": "pie"
           }
          ],
          "scatter": [
           {
            "fillpattern": {
             "fillmode": "overlay",
             "size": 10,
             "solidity": 0.2
            },
            "type": "scatter"
           }
          ],
          "scatter3d": [
           {
            "line": {
             "colorbar": {
              "outlinewidth": 0,
              "ticks": ""
             }
            },
            "marker": {
             "colorbar": {
              "outlinewidth": 0,
              "ticks": ""
             }
            },
            "type": "scatter3d"
           }
          ],
          "scattercarpet": [
           {
            "marker": {
             "colorbar": {
              "outlinewidth": 0,
              "ticks": ""
             }
            },
            "type": "scattercarpet"
           }
          ],
          "scattergeo": [
           {
            "marker": {
             "colorbar": {
              "outlinewidth": 0,
              "ticks": ""
             }
            },
            "type": "scattergeo"
           }
          ],
          "scattergl": [
           {
            "marker": {
             "colorbar": {
              "outlinewidth": 0,
              "ticks": ""
             }
            },
            "type": "scattergl"
           }
          ],
          "scattermap": [
           {
            "marker": {
             "colorbar": {
              "outlinewidth": 0,
              "ticks": ""
             }
            },
            "type": "scattermap"
           }
          ],
          "scattermapbox": [
           {
            "marker": {
             "colorbar": {
              "outlinewidth": 0,
              "ticks": ""
             }
            },
            "type": "scattermapbox"
           }
          ],
          "scatterpolar": [
           {
            "marker": {
             "colorbar": {
              "outlinewidth": 0,
              "ticks": ""
             }
            },
            "type": "scatterpolar"
           }
          ],
          "scatterpolargl": [
           {
            "marker": {
             "colorbar": {
              "outlinewidth": 0,
              "ticks": ""
             }
            },
            "type": "scatterpolargl"
           }
          ],
          "scatterternary": [
           {
            "marker": {
             "colorbar": {
              "outlinewidth": 0,
              "ticks": ""
             }
            },
            "type": "scatterternary"
           }
          ],
          "surface": [
           {
            "colorbar": {
             "outlinewidth": 0,
             "ticks": ""
            },
            "colorscale": [
             [
              0,
              "#0d0887"
             ],
             [
              0.1111111111111111,
              "#46039f"
             ],
             [
              0.2222222222222222,
              "#7201a8"
             ],
             [
              0.3333333333333333,
              "#9c179e"
             ],
             [
              0.4444444444444444,
              "#bd3786"
             ],
             [
              0.5555555555555556,
              "#d8576b"
             ],
             [
              0.6666666666666666,
              "#ed7953"
             ],
             [
              0.7777777777777778,
              "#fb9f3a"
             ],
             [
              0.8888888888888888,
              "#fdca26"
             ],
             [
              1,
              "#f0f921"
             ]
            ],
            "type": "surface"
           }
          ],
          "table": [
           {
            "cells": {
             "fill": {
              "color": "#EBF0F8"
             },
             "line": {
              "color": "white"
             }
            },
            "header": {
             "fill": {
              "color": "#C8D4E3"
             },
             "line": {
              "color": "white"
             }
            },
            "type": "table"
           }
          ]
         },
         "layout": {
          "annotationdefaults": {
           "arrowcolor": "#2a3f5f",
           "arrowhead": 0,
           "arrowwidth": 1
          },
          "autotypenumbers": "strict",
          "coloraxis": {
           "colorbar": {
            "outlinewidth": 0,
            "ticks": ""
           }
          },
          "colorscale": {
           "diverging": [
            [
             0,
             "#8e0152"
            ],
            [
             0.1,
             "#c51b7d"
            ],
            [
             0.2,
             "#de77ae"
            ],
            [
             0.3,
             "#f1b6da"
            ],
            [
             0.4,
             "#fde0ef"
            ],
            [
             0.5,
             "#f7f7f7"
            ],
            [
             0.6,
             "#e6f5d0"
            ],
            [
             0.7,
             "#b8e186"
            ],
            [
             0.8,
             "#7fbc41"
            ],
            [
             0.9,
             "#4d9221"
            ],
            [
             1,
             "#276419"
            ]
           ],
           "sequential": [
            [
             0,
             "#0d0887"
            ],
            [
             0.1111111111111111,
             "#46039f"
            ],
            [
             0.2222222222222222,
             "#7201a8"
            ],
            [
             0.3333333333333333,
             "#9c179e"
            ],
            [
             0.4444444444444444,
             "#bd3786"
            ],
            [
             0.5555555555555556,
             "#d8576b"
            ],
            [
             0.6666666666666666,
             "#ed7953"
            ],
            [
             0.7777777777777778,
             "#fb9f3a"
            ],
            [
             0.8888888888888888,
             "#fdca26"
            ],
            [
             1,
             "#f0f921"
            ]
           ],
           "sequentialminus": [
            [
             0,
             "#0d0887"
            ],
            [
             0.1111111111111111,
             "#46039f"
            ],
            [
             0.2222222222222222,
             "#7201a8"
            ],
            [
             0.3333333333333333,
             "#9c179e"
            ],
            [
             0.4444444444444444,
             "#bd3786"
            ],
            [
             0.5555555555555556,
             "#d8576b"
            ],
            [
             0.6666666666666666,
             "#ed7953"
            ],
            [
             0.7777777777777778,
             "#fb9f3a"
            ],
            [
             0.8888888888888888,
             "#fdca26"
            ],
            [
             1,
             "#f0f921"
            ]
           ]
          },
          "colorway": [
           "#636efa",
           "#EF553B",
           "#00cc96",
           "#ab63fa",
           "#FFA15A",
           "#19d3f3",
           "#FF6692",
           "#B6E880",
           "#FF97FF",
           "#FECB52"
          ],
          "font": {
           "color": "#2a3f5f"
          },
          "geo": {
           "bgcolor": "white",
           "lakecolor": "white",
           "landcolor": "#E5ECF6",
           "showlakes": true,
           "showland": true,
           "subunitcolor": "white"
          },
          "hoverlabel": {
           "align": "left"
          },
          "hovermode": "closest",
          "mapbox": {
           "style": "light"
          },
          "paper_bgcolor": "white",
          "plot_bgcolor": "#E5ECF6",
          "polar": {
           "angularaxis": {
            "gridcolor": "white",
            "linecolor": "white",
            "ticks": ""
           },
           "bgcolor": "#E5ECF6",
           "radialaxis": {
            "gridcolor": "white",
            "linecolor": "white",
            "ticks": ""
           }
          },
          "scene": {
           "xaxis": {
            "backgroundcolor": "#E5ECF6",
            "gridcolor": "white",
            "gridwidth": 2,
            "linecolor": "white",
            "showbackground": true,
            "ticks": "",
            "zerolinecolor": "white"
           },
           "yaxis": {
            "backgroundcolor": "#E5ECF6",
            "gridcolor": "white",
            "gridwidth": 2,
            "linecolor": "white",
            "showbackground": true,
            "ticks": "",
            "zerolinecolor": "white"
           },
           "zaxis": {
            "backgroundcolor": "#E5ECF6",
            "gridcolor": "white",
            "gridwidth": 2,
            "linecolor": "white",
            "showbackground": true,
            "ticks": "",
            "zerolinecolor": "white"
           }
          },
          "shapedefaults": {
           "line": {
            "color": "#2a3f5f"
           }
          },
          "ternary": {
           "aaxis": {
            "gridcolor": "white",
            "linecolor": "white",
            "ticks": ""
           },
           "baxis": {
            "gridcolor": "white",
            "linecolor": "white",
            "ticks": ""
           },
           "bgcolor": "#E5ECF6",
           "caxis": {
            "gridcolor": "white",
            "linecolor": "white",
            "ticks": ""
           }
          },
          "title": {
           "x": 0.05
          },
          "xaxis": {
           "automargin": true,
           "gridcolor": "white",
           "linecolor": "white",
           "ticks": "",
           "title": {
            "standoff": 15
           },
           "zerolinecolor": "white",
           "zerolinewidth": 2
          },
          "yaxis": {
           "automargin": true,
           "gridcolor": "white",
           "linecolor": "white",
           "ticks": "",
           "title": {
            "standoff": 15
           },
           "zerolinecolor": "white",
           "zerolinewidth": 2
          }
         }
        },
        "title": {
         "font": {
          "color": "Black",
          "size": 22
         },
         "text": "<b>Similarity Matrix</b>",
         "x": 0.55,
         "xanchor": "center",
         "y": 0.95,
         "yanchor": "top"
        },
        "width": 800,
        "xaxis": {
         "anchor": "y",
         "constrain": "domain",
         "domain": [
          0,
          1
         ],
         "scaleanchor": "y"
        },
        "yaxis": {
         "anchor": "x",
         "autorange": "reversed",
         "constrain": "domain",
         "domain": [
          0,
          1
         ]
        }
       }
      }
     },
     "metadata": {},
     "output_type": "display_data"
    }
   ],
   "source": [
    "topic_model.visualize_heatmap()"
   ]
  },
  {
   "cell_type": "code",
   "execution_count": 26,
   "id": "103fd534",
   "metadata": {},
   "outputs": [
    {
     "data": {
      "text/plain": [
       "[('slop', 0.3351277303495191),\n",
       " ('slop slop', 0.2620204291913828),\n",
       " ('sector', 0.1375047811120037),\n",
       " ('perfect example', 0.07887701224512764),\n",
       " ('appropriate', 0.07887701224512764),\n",
       " ('requires', 0.07887701224512764),\n",
       " ('represent', 0.07887701224512764),\n",
       " ('concerns', 0.07887701224512764),\n",
       " ('disgusting', 0.07887701224512764),\n",
       " ('drowning', 0.07887701224512764)]"
      ]
     },
     "execution_count": 26,
     "metadata": {},
     "output_type": "execute_result"
    }
   ],
   "source": [
    "similar_topics, similarity = topic_model.find_topics(\"slop\", top_n=5)\n",
    "topic_model.get_topic(similar_topics[0])"
   ]
  },
  {
   "cell_type": "code",
   "execution_count": 22,
   "id": "1db7f285",
   "metadata": {},
   "outputs": [
    {
     "name": "stderr",
     "output_type": "stream",
     "text": [
      "100%|██████████| 2/2 [00:00<00:00, 10.84it/s]\n"
     ]
    }
   ],
   "source": [
    "# `topic_distr` contains the distribution of topics in each document\n",
    "topic_distr, _ = topic_model.approximate_distribution(documents, window=8, stride=4)"
   ]
  },
  {
   "cell_type": "code",
   "execution_count": 27,
   "id": "09a9869b",
   "metadata": {},
   "outputs": [
    {
     "data": {
      "application/vnd.plotly.v1+json": {
       "config": {
        "plotlyServerURL": "https://plot.ly"
       },
       "data": [
        {
         "hoverinfo": "text",
         "hovertext": [
          "Content that seems plausible but inaccurate can harm your brand's reputation.",
          "Tickets cost up to $44 per person.",
          "Posts questioning its authenticity were widely shared on X.",
          "has cut decision time to one minute from 10.)",
          "If it were all just a slightly more efficient form of spam, distracting and deceiving Facebook-addled grandparents, that would be one thing.",
          "Subscribe\nGyan Abhishek is standing in front of a giant touch screen, like Jim Cramer on Mad Money or an ESPN talking head analyzing a football play.",
          "Futurism.",
          "This is what Jason Koebler from 404 Media speculates.",
          "“If you need my information pay me,” he wrote.",
          "The emotions that it evokes are love, happiness, and the memory of a special day filled with promises.” Hundreds of verified accounts swarmed in the replies to praise the missing image: “This picture exudes pure love and joy, a magical moment indeed!,” “This photo truly encapsulates the beauty and magic of true love,” “Such a beautiful moment captured in time, filled with love and joy.”\nCabanac believes “LLMs can be a magnificent tool, a very effective tool” for scientists if properly acknowledged.",
          "Bertie Brosnan is a social media content creator and filmmaker who went to livestream the event.",
          "Update 9th May: Joseph Thacker asked what a good name would be for the equivalent subset of spam—spam that was generated with AI tools.",
          "Dubbed “AI slop”, there is no hiding from the manipulated images and videos, with their prominence even leading to the Oxford University Press (OUP) naming “slop” as a contender for its word of the year.",
          "Bleak as all get out.",
          "Thankfully, it was determined that the police were not needed.",
          "despite any ruffled feathers.",
          "The owner of the website, Nazir Ali, said on Friday morning that he had not intended to dupe anybody, claiming the whole thing was a mistake.",
          "Sign up for The Decision, a newsletter featuring our 2024 election coverage.",
          "Other platforms such as Spotify and YouTube, which police intellectual property rights more aggressively than TikTok, invest considerable resources to identify and remove AI-generated content.",
          "In the past the site had removed non-existent events when contacted by their venues, but in the case of the Dublin parade the site owner said that \"no one reported that this one wasn't going to happen\".",
          "Much of the conversation around generative AI tools focuses on how they enable ordinary people to “create”.",
          "These jobs are different, but the thing they share is that they all must attend to and describe the world as it is.",
          "For slop, the future is less rosy: the world’s largest companies have gone from gamekeeper to poacher.",
          "Here’s how it works:\n“First, a spammer makes a free Vercel account.",
          "This ecosystem is not new.",
          "The sloppers gather on message boards and chat apps and social media to swap tips and tricks.",
          "Willison pointed to an AI-generated Microsoft Travel article that listed the “Ottawa food bank” as a must-see attraction in the Canadian capital as a perfect example of the problem.",
          "Outsourcing designwork to generative-AI apps may be an effective cost-cutting and productivity measure for some businesses, but in practice it just off-loads work elsewhere.",
          "Nazir Ali: Ask anything.",
          "He cited the budgetary advantages of the project along with the speed at which the work could be created.",
          "The GOP is becoming the party of AI slop.",
          "Campaigns are nothing if not aggressive, often-desperate content farms hoping to get attention.",
          "For now, little (if any) of what’s being generated is convincing enough to fool voters, and most of it is being used to confirm the priors of true believers.",
          "When in 2021 DeepMind revealed that it had effectively solved the protein-folding problem, making the three-dimensional structure of biological building blocks for the first time easily predictable for researchers, the breakthrough made global news, even if the headlines flew over the heads of most readers, who might not have known how significant a roadblock that has been in biomedical research.",
          "A creator will take one of these videos, add AI-generated translation, and post the result on TikTok.",
          "- Invest in Originality: Set aside time to craft original content that reflects your unique perspective.",
          "Well, if you can believe it, the patrons were less than pleased.",
          "The developer further reiterated it was experimenting with the technology.",
          "(April 2025) |\nIn August 2024, The Atlantic noted that AI slop was becoming associated with the political right in the United States, who were using it for shitposting and engagement farming on social media, with the technology offering \"cheap, fast, on-demand fodder for content\".",
          "- Inaccurate News: AI-generated news articles often miss critical nuances, leading to misinformation and damaging your credibility.",
          "They are also — for now, at least — much more reliable and productive.",
          "“Speed is I would say five times, right?",
          "“The persons did all that copy-paste and didn’t even care to remove” the telltale phrase, Cabanac said.",
          "How do you make money?",
          "\"Hurricane Helene and the 'Fuck It' Era of AI-Generated Slop\".",
          "A New Super-Group of Creative Talent: The Independents has acquired more than a dozen companies in the last two years.",
          "In the hands of influencers, they are fired at our timelines in a scattershot approach to attract a morsel of attention.",
          "That remains to be seen.",
          "Children cried.",
          "Han Song's Strange Prescience: In his stories, the author explores the disorientation accompanying China’s modernization, sometimes writing of unthinkable things that later came true.",
          "In many ways, political slop is a logical end point for these image generators, which seem most useful for people trying to make a quick buck.",
          "Vanity Fair has reached out for comment, but no, not yet.",
          "\"I was duped,” Bertie told BBC News NI.",
          "Slop isn’t necessarily a commentary on quality so much as on how it is meant to be consumed: fleetingly, and with little or no thought beyond the initial limbic-system response.",
          "He ignored a question about the minimum wage.",
          "pollution,” and the physicist Anthony Aguirre “something like noise” and “A.I.-generated dross.” More recently, it has inspired a more memorable neologistic term of revulsion, “A.I.",
          "“I think I might actually have been quite late to the party!” he said in an email.",
          "But as people become accustomed to A.I.’s increasing role in how the internet works, Mr. Willison, who identified himself as an optimist for A.I.",
          "On the list was a picture of a train made of leaves.",
          "Connell said that the crowd became increasingly agitated as the event wore on.",
          "It's the content produced by AI tools that prioritize speed and quantity over substance and quality.",
          "This has all been building for more than a decade.",
          "On one end, the demand: the effectively infinite, indiscriminate appetite for content of websites like Facebook and TikTok, which need enticements for users and real estate for advertisers.",
          "Futurism.",
          "Last week, Robyn Speer, the creator of WordFreq, a database that tracks word frequency online, announced that she would no longer be updating it owing to the torrent of slop.",
          "It turns out you can’t arrest someone for providing a shamefully underwhelming event.",
          "Though the image was clearly fake and quickly debunked, some politicians remained defiant.",
          "\"The MAGA Aesthetic Is AI Slop\".",
          "Hoel, the neuroscientist, has called for “the equivalent of a Clean Air Act: a Clean Internet Act,” including the unscrubbable watermarking of anything produced by A.I.",
          "Despite the controversy, the company said that it was “successful” and that the technology would be an addition to its “tool kit” for the future.",
          "To them, the image captures a vibe that is useful to them politically.",
          "And that, I think, is dangerous.”\nFor a problem to be targeted, giving it a name can prove helpful.",
          "First of all: What was the experience supposed to be?",
          "He told The Independent: “It was funny.",
          "We are still smiling now.",
          "We wrote a lot of events this year, on the 17th of March, St. Patrick’s Day—and they were ranked.",
          "The MAGA movement has spent nine years building a coalition of conspiratorial hyper-partisans dedicated to creating a fictional information universe to cocoon themselves in.",
          "Guillaume Cabanac, a professor of computer science at Université Toulouse III–Paul Sabatier, has spent the past several years attempting to ferret out instances of fraud, plagiarism, and the use of computer-generated text in major scientific journals.",
          "But it’s also, it seems, what we want.",
          "“People use the sharing and organizational capacities facilitated by the internet to arrange to meet at a single place or time for some kind of coordinated activity,” he said.",
          "It's spam-adjacent stuff — if not outright spam.",
          "- There's even an X account dedicated to posting the most ridiculous stuff.",
          "In recent weeks, far-right corners of social media have been clogged with such depictions, created with generative-AI tools.",
          "Parents called the police.",
          "A specific segment of the people who have seen and understand that it is AI-generated simply do not care that it is not real and that it did not happen.",
          "Media Enquiries\nHUMAN CENTRIC GROUP LTD\n+44 20 3693 4480\nemail us here\nVisit us on social media:\nLinkedIn\nInstagram\nTikTok\nItalian Brainrot Animals\nLegal Disclaimer:\nEIN Presswire provides this news content \"as is\" without warranty of any kind.",
          "is designing new proteins, rapidly accelerating drug discovery and speeding up clinical trials testing new medicines and therapies.",
          "However, it shows no sign of abating.",
          "In June, researchers published a study that concluded that one-tenth of the academic papers they examined “were processed with LLMs,” calling into question not just those individual papers but whole networks of citation and reference on which scientific knowledge relies.",
          "Afterward, the incident went viral as an example of AI slop seeping into the real world.",
          "Scolded for a Sip of Water: Online grandstanding, intergenerational head-butting and a lost job, all thanks to one poorly timed water break during a hot yoga class.",
          "“pollution,” another perspective is that plenty of good news from A.I.",
          "Social media platforms will soon respond.",
          "Silverside AI’s AI Developer Chris Barber wrote in a reply on X that each of the AI studios created a different version of the advertisement, with the viral one not belonging to Silverside AI.",
          "Elsewhere on the web though, slop is spreading.",
          "Despite clunky AI dubbing and error-riddled subtitles, many of these videos garner hundreds of thousands or even millions of views.",
          "And so it makes sense that campaigns—not just Trump’s—tend to traffic in it.",
          "He’s often dressed up as a gun-toting cowboy or in World War II fatigues, storming a beach.",
          "The change was a reaction to Microsoft having incorporated A.I.",
          "keep it detailed.”\nThe creators of these kinds of seminars, equipped with the “sell shovels in a gold rush” playbook, often have a more reliable income than the sloppers themselves.",
          "Subscribe\nBy now, if you have spent any amount of time reading about the devastation wrought by Hurricane Helene, it is likely that you have seen the AI-generated image above.",
          "The public is more concerned with the outcome than the process.",
          "That it can create adequate texts and images is an astonishing leap forward in machine learning, but the texts and images are still only adequate, “good enough” and cheap enough for people to thumb past on their phones.",
          "- Lack of Coherence: Content that jumps from one idea to another without a clear flow is often a product of AI slop.",
          "Still, the glut of AI-created political imagery is a pollutant in a broader online information ecosystem.",
          "Do not self-reference.",
          "Then it describes them in great detail, each one with its own paragraph.",
          "Once the article was posted the owner said it went \"viral\" on TikTok and Instagram despite the website not sharing it on their own social platforms.",
          "Production company House of Illuminati has issued a statement on Facebook apologizing for the event and attempting to explain how it came to pass.",
          "Mindlessly generated information chokes our information pathways, forcing consumers to do the work of discarding it.",
          "There hasn’t been much promotion regarding the game and the team has only shared a brief description without any additional information.",
          "“Some of the events cited around the world were real, and it is the conjunction of the real and fake which makes the hoax convincing.”\nWhen he realized the mistake, Mr. Ali said, he removed the event from the website.",
          "For the majority of these pages, there is no obvious scam at play, no ads or external links — no business model at all, just eerily contextless pages publishing demented nonsense into a void.",
          "And while it’s hard to regard the internet we have now as a wholly beneficent advance in collective wisdom — the commercial opportunities afforded by connecting billions of people sit uncomfortably with the civic aspirations of some of the web’s pioneers — it’s hard to deny that an information superhighway, with some tolls and billboards and potholes, is more or less what we’ve got.",
          "Since the arrival of widespread consumer-grade generative AI, these tasks have become progressively more difficult.",
          "Will you change how you use AI going forward?",
          "The problem has begun to worry the social media industry’s main revenue source: the advertising agencies who pay to place ads next to content.",
          "AI slop has clogged the internet with synthetic ephemera, but it has also given a name to the human-made attentional grist that’s all around us—the slop that exists in real life, in meatspace.",
          "Your letterbox is full of junk mail.",
          "• Does the trend reinforce or contradict our positioning?",
          "It’s very real and scary how much they have taken control to stop people helping.” That post has been viewed more than 40 million times.",
          "“More than cost, it’s the speed,” Thakar told Ad Age.",
          "A set of sexy vampire calling cards raised red flags again in early November, with fans pointing at different parts of the art that looked oddly rendered.",
          "Farhad Divecha, the managing director of UK-based digital marketing agency AccuraCast, says he is now encountering cases where users are mistakenly flagging ads as AI-made slop when they are not.",
          "Remember that time Microsoft listed the Ottawa Food Bank on an AI-generated “Here’s what you shoudn’t miss!” travel guide?",
          "Stalin's Image: A new statue of Joseph Stalin in a Moscow metro station reflects Russia’s efforts to rehabilitate the memory of a bloody ruler.",
          "It has already helped drive down the cost and drive up the performance of next-gen batteries and solar photovoltaic cells, whose performance can also be improved, even after the panels have been manufactured and installed on your roof, by as much as 25 percent.",
          "They should go through some of the processes—they can contact me, contact our team.",
          "Earlier this year, EA boss Andrew Wilson told the investment community that “more than 50% of our development processes will be positively impacted by the advances in generative AI.” Wilson, who oversees EA Sports FC, The Sims, and BioWare games, added that AI will make game development “more efficient”, revealing that the EA Sports FC developers can now make stadiums in six weeks rather than six months.",
          "This piece is part of a series on the great internet letdown.",
          "But just as we've learned to dodge the nuisances of junk mail and spam, a new threat has emerged — one that has the potential to undermine all our hard work: AI slop.",
          "As to whether this decision was driven by cost-cutting, or simple experimentation with new technology - remains to be seen.",
          "You have a Creative writing style.",
          "The Traitors is also filmed in Scotland.",
          "Years deep into national hysteria over the threat of internet misinformation pushed on us by bad actors, we’ve sleepwalked into a new internet in which meaningless, nonfactual slop is casually mass-produced and force-fed to us by A.I.",
          "Jason Koebler of the tech news site 404 Media believes the trend represents what he calls the “zombie internet”.",
          "- ^ \"The deluge of bonkers AI art is literally surreal\".",
          "[8]\nOrigin of the term\n[edit]As early large language models (LLMs) and image diffusion models accelerated the creation of high-volume but low-quality written content and images, discussion commenced among journalists and on social platforms for the appropriate term for the influx of material.",
          "to make this?\"",
          "For instance, Keywords Studios attempted to create an experimental game internally using entirely AI.",
          "No event was reported as bogus, or AI-generated, or anything like that.",
          "- Repetitive Ideas: Redundant phrases and unoriginal concepts make content feel stale and unengaging.",
          "Has this made you reconsider the ways that you operate?",
          "is always good at creating fantastical, hyper-realistic stories, and that’s where the whole imagination went into next level,” he added in a follow-up story about the consumer reaction.",
          "a priority, it appears that vast quantities of information generated by machines, rather than largely curated by humans, will be served up as a daily part of life on the internet for the foreseeable future.",
          "They also apply complex, largely undocumented, AI systems to try to detect spam directly, in a constant cat-and-mouse game with the spammers themselves.",
          "Right-wing artists including Ben Garrison and Jon McNaughton have long illustrated Trump in an absurd light—hulking and hypermasculine or holding a lantern on a boat, like George Washington crossing the Delaware.",
          "In the aftermath, parents sounded off on social media.",
          "I just want to say that people should not judge so soon.",
          "Fifteen years ago, Wired magazine heralded the “good-enough revolution” in low-cost technology: “Cheap, fast, simple tools are suddenly everywhere … We now favor flexibility over high fidelity, convenience over features, quick and dirty over slow and polished.” Generative AI as a technology exists in this lineage.",
          "doom?",
          "And the whole thing blew up on social media.",
          "I imagine some combination of all these things may be true to some degree.",
          "It did not take long for fun to be made of the hoax, including at Dublin Airport, which posted a picture on X of an empty terminal with the caption “our Halloween parade in full flow.”\nBesides listing parades, MySpiritHalloween.com offers tips for enjoying the holiday, including: “Use mini pumpkins as bowling balls and empty cans decorated with Halloween themes as pins.",
          "Midjourney is one of several AI companies mentioned in an ongoing lawsuit that lists thousands of artists who have allegedly had their artwork scraped to train AI tools.",
          "And there are reasons to suspect that “hallucination” may be an unsolvable problem for generative A.I.",
          "[15]\nIn the aftermath of Hurricane Helene in the United States, members of the Republican Party circulated an AI-generated image of a young girl holding a puppy in a flood, and used it as evidence of the failure of President Joe Biden to respond to the disaster.",
          "- Cluttered Social Media Feeds: Social platforms should be a place for meaningful engagement, but AI slop often fills them with irrelevant, unengaging posts that fail to connect with your audience.",
          "This is the most widespread use yet found for generative-AI apps: creating stuff that can take up space and be counted.",
          "But on some level you probably do.",
          "But as they've become more mainstream, they've also started churning out vast amounts of subpar content — clogging blogs, social media and search results with noise instead of value.",
          "And perhaps that a more optimistic perspective can be drawn by analogy to what economists call the “environmental Kuznets curve,” which suggests that, as nations develop, they tend to first pollute a lot more and then, over time, as they grow richer, they ultimately pollute less.",
          "Tim DeStefano, a research professor at Georgetown University McDonough School of Business, told NBC News that using AI technology means a significant drop in the price of creating commercials.",
          "But the full story is more complex.",
          "WIRED spoke with Ali via Google Meet to get his side of the story.",
          "- Vague Product Descriptions: In e-commerce, product descriptions that are unclear or incorrect—sometimes even including disclaimers about AI use—can seriously hurt conversions.",
          "Free software for creating images and videos has led to a surge in slop, driven by scammers, spammers and the occasional genuine user seeking to go viral.",
          "People will blame the country if I say I'm from Dubai, then whenever you write an article, if you say that a guy from Pakistan, a guy from India, guy from Ireland, a guy from the UAE, it actually hurts some of the citizens of that country.",
          "In service of that mission, they meme, pander, email, and text, frequently in cringeworthy fashion.",
          "“It’s like a virus.”\nAI-generated papers, Cabanac argued, are often used to pad an academic’s résumé with more publications and citations: “You buy a paper on a topic of your choice, and you buy a set of 500 citations.",
          "“Society needs concise ways to talk about modern A.I.",
          "Tackling spam in inboxes required an enormous cross-industry effort and led to a fundamental change in the nature of email.",
          "Just cross check!",
          "It is engagement for engagement’s sake.",
          "There’s more work for us readers and watchers and content consumers as well.",
          "(In a sense, so does Spotify, though we call those payments “royalties.”)\nTake, as a case study in the slop economy, Facebook.",
          "[7]\nThe term gained increased popularity in the second quarter of 2024 in part because of Google's use of its Gemini AI model to generate responses to search queries,[7] and was widely criticized in media headlines during the fourth quarter of 2024.",
          "With a track record of working with leading brands like Carlsberg, Remarkable, and Tecnam Aircraft, he helps companies unlock data-driven insights for strategic growth.",
          "Creators often mute the original video and add AI-generated narration, translating the content into various languages, including French, Spanish, Portuguese, Indonesian and Swedish.",
          "But if it’s mindlessly generated and thrust upon someone who didn’t ask for it, slop is the perfect term for it.",
          "Don’t worry.",
          "In August, I wrote that AI slop is now the aesthetic of the far-right and MAGA coalition, in part because it allows hyper-partisans to illustrate the fictional universe they’ve been peddling and living in for the past decade-plus.",
          "“There was lots of shouting and groups of people getting very, very irate.”\nThe Scottish police told The New York Times that officers were called to the scene after the event was canceled.",
          "Here's how to avoid it as a business owner.",
          "I propose “slom”.",
          "Tickets were marketed through Facebook advertisements showing AI-generated imagery, with no genuine photographs of the venue.",
          "This interview has been edited for length and clarity.",
          "Related: These Days, Everything Is 'Powered By AI.'",
          "Now, With A.I., We've Got 'Slop'\".",
          "Worse than the havoc it wreaks on the internet, slop easily escapes the confines of the computer and enters off-screen systems in exasperating, troubling, and dangerous ways.",
          "Forbes reported that the video was created by three AI studios — Secret Level, Silverside AI and Wild Card — using four different generative AI models.",
          "Basically, they don't give a shit anymore.",
          "may not be what boosters call “scaling,” especially given the possibility that new training runs deliver some very expensive diminishing returns.",
          "Known for blending deep market insight with human-first storytelling, HCG helps companies create strategies that resonate across cultures and platforms.",
          "features until problems can be ironed out.",
          "But generative AI takes this a step further, as it can generate tailored images or videos from a simple text prompt.",
          "But the most convincing examples of potential AI slop arrived in early December.",
          "Many of those “pet dance motorcycle” videos, for example, have been viewed tens of millions of times.",
          "Within the ad manager, they upload an image that has been modified to look like a Facebook gallery post (there are tools for this), and then they delete the headline and description that is autogenerated by Facebook to make it look like the ad is just an image and not a link.",
          "The journalist Parker Molloy compiled screenshots of people “acknowledging that this image is AI but still insisting that it’s real on some deeper level”—proof, Molloy noted, that we’re “living in the post-reality.” The technology writer Jason Koebler argued that we’ve entered the “‘Fuck It’ Era” of AI slop and political messaging, with AI-generated images being used to convey whatever partisan message suits the moment, regardless of truth.",
          "The thing is, we are the content creators.",
          "Coincidence or omen?",
          "That these tools should end up as the medium of choice for Trump’s political movement makes sense, too.",
          "What Won’t This Decorator Do?",
          "Produced by ElevenLabs and News Over Audio (Noa) using AI narration.",
          "“I don’t think anyone has reliable information about post-2021 language usage by humans,” Speer wrote.",
          "Shakespeare could never.",
          "They sell lesson plans and memberships to private Discord and Telegram chat rooms and act as middlemen who help set up U.S.-based accounts for international sloppers.",
          "“They are getting so many likes,” he says.",
          "Posts questioning its authenticity were widely shared on X.",
          "Then they make a WordPress account and spam page, download a snippet of code from GitHub that has been written by other spammers, modify it (there are guides for this on GumRoad and Fiverr; I bought guides on both), and install it on their Vercel deployment.",
          "But many people “are using the LLMs to produce more, which lowers the quality of the science that is published and made.” Even innocuous misuse has a cascading effect on the entire scientific enterprise, as retracted papers cast doubt on other papers that cite them.",
          "And what is the Trump campaign producing if not fantastical propaganda intended to conjure a false image of Joe Biden’s America as a dark, dangerous place on the verge of destruction, besieged by immigrants, and savable only by one heroic man?",
          "“If I want to go very realistic, maybe it’s difficult, but if I want to go hyper-realistic and fantastical, A.I.",
          "Sign up here to get it nightly.",
          "On the other, the supply: the astonishingly adequate, inexhaustible output of generative-AI apps like ChatGPT, Midjourney, or Microsoft’s Image Creator, heavily subsidized by investors and provided to consumers at low or no cost.",
          "We do not accept any responsibility or liability for the accuracy, content, images, videos, licenses, completeness, legality, or reliability of the information contained in this article.",
          "\"Disgusting application of AI.\"",
          "Pure engagement bait.",
          "Feedback in the comments is rightfully resistant to the content, highlighting:\n\"Imagine how many up and coming voice actors would've literally jumped at the chance to narrate this video for free.\"",
          "(It’s unclear who called them.)",
          "AI image generators like OpenAI's DALL-E do not handle words well, and one picture promises \"enchering entertainment, catgacating, live performmances, cartchy tuns, exarserdray lollipops, a pasadise of sweet teats,\" whatever any of that means.",
          "The latest wave of AI behind the 'zombie internet'\".",
          "Google suggesting that you could add nontoxic glue to make cheese stick to a pizza?",
          "In the hands of Trump, they create small news cycles and narratives to be debunked.",
          "But not all the accounts are spamming.",
          "I asked them if they had a vacuum cleaner and they said, ‘Yeah, we haven’t really got there yet, so just improvise,’” per the Independent.",
          "“Usually, coolness is a factor that helps it spread, but not necessarily.",
          "• Can we insert our product without feeling forced?",
          "It's embarrassing to Facebook that people on X — X!!!",
          "The posts would be laughable if they weren’t taken by many people as gospel.",
          "The robotic voice, familiar to anyone who frequents YouTube Shorts, Instagram Reels, or TikTok, is generally associated with low-effort, mass-produced AI content.",
          "Worse, they may not want to stop all grist-mill.",
          "Then, they generate a preview for their ad.",
          "But the slop tide threatens some of the key functions of the web, clogging search results with nonsense, overwhelming small institutions like Clarkesworld, and generally polluting the already fragile information ecosystem of the internet.",
          "It’s a huge topic, but only for one day.",
          "It’s nice to think that if you could simply turn off your phone and computer, you could avoid all these ugly creations.",
          "\"I'M RUNNING OUT OF WAYS TO EXPLAIN HOW BAD THIS IS\".",
          "Then they connect Vercel to the WordPress website using a specific WordPress plugin that effectively sets up a redirect between Vercel and the WordPress site.",
          "Our models of ice-sheet melt and rainforest degradation are much sharper now, too.",
          "Instead, this kind of content has become important for platforms.",
          "is being drowned out by it, too.",
          "As soon as we knew, we changed it.",
          "About Human Centric Group\nHuman Centric Group is a boutique branding agency based in London, working with global leaders like Danone, Ikea, PepsiCo, and Carlsberg.",
          "But like spam, its overall effect is negative: the lost time and effort of users who now have to wade through slop to find the content they’re actually seeking far outweighs the profit to the slop creator.",
          "Terms proposed included \"AI garbage\", \"AI pollution\", and \"AI-generated dross\".",
          "As adoption becomes more widespread, we’re likely to see brands churn out more AI slop.",
          "He wasn’t sure what the problem was, but it wasn’t that the images were fake.",
          "Not only double, but triple check it.",
          "In one city, it was the power of a phony online event listing.",
          "Then the person goes through the process of buying and setting up an ad on Facebook that links to the Vercel mirror of the page they want to link to.",
          "When you look through the reams of slop across the internet, AI seems less like a terrifying apocalyptic machine-god, ready to drag us into a new era of tech, and more like the apotheosis of the smartphone age — the perfect internet marketer’s tool, precision-built to serve the disposable, lowest-common-denominator demands of the infinite scroll.",
          "even for?",
          "The company recently announced Muse, a model for visualizing gameplay built on data captured from people playing Ninja Theory’s 2020 PvP game Bleeding Edge.",
          "We were 80 percent involved.",
          "Like that type of slop, A.I.-assisted search comes together quickly, but not necessarily in a way that critical thinkers can stomach.",
          "And so if one account of this experience is that we are drowning in A.I.",
          "Also, follow us on Google News, Instagram, and Twitter for quick updates",
          "Most people aren’t interested in whether the latest cutting-edge systems have been deployed if the result is clumsy, generic and flat.",
          "Think AI-generated characters with names like Tralalero Tralala (a shark in sneakers) or Špijuniro Golubiro (a spy pigeon), yelling nonsense in robotic Italian while bouncing across chaotic, low-fi visuals.",
          "\"Our intentions are very pure, we tried our best to give authentic content.",
          "In the nearly two years since, a rising tide of slop has begun to swamp most of what we think of as the internet, overrunning the biggest platforms with cheap fakes and drivel, seeming to crowd out human creativity and intentionality with weird AI crap.",
          "And actually, I want to tell you one more thing.",
          "Then you go to your faculty and you say, ‘Look, I’m a genius, and I deserve this position as a full professor.’” In other words, like Facebook slop, the content of the content isn’t really as important as its presence — or, more accurately, its measurability.",
          "You and I, like voters everywhere, must wade through this layer of junk, wearily separating out what’s patently fake, what’s real, and what exists in the murky middle.",
          "They are precisely what the company wants: highly engaging content.",
          ": The fitness influencer Kenny Boulet, who asks gymgoers if their muscles are natural or not, wants people to be more honest about steroids.",
          "In January, Chris Mohney, a writer and an editor, spotted a tweet that appeared to be an AI-generated description of an image with no image attached: “The photo captures a couple exchanging vows at sunset.",
          "Now they can illustrate it.",
          "“Before the term ‘spam’ entered general use it wasn’t necessarily clear to everyone that unwanted marketing messages were a bad way to behave.",
          "This is why I am here to clarify things.",
          "Discussing the fake site, Marty Meany wrote on the tech website Goosed.ie: \"The website likely uses AI to create content quickly and cheaply where opportunities are found.",
          "proceeding in those trials.",
          "“No free information.” For a total of $105, I enrolled in a crash course in becoming a slopper.",
          "Which all suggests that the answer to the many problems of generative A.I.",
          "Look at the word ‘spam.’ Usually, the word is created because there is a particular group with shared interests, with a shared need to invent words.”\nIn the short term, the effect of A.I.",
          "“Although there’s some skepticism and acceptance, reluctance to accept these types of ads by consumers, I think that the benefits sort of outweigh that, and I believe that companies are going to continue using it over time.”",
          "They should ask us questions.",
          "That would be very simple, but we didn't even mention the ticket thing.",
          "I attach my name and stake my credibility on the things that I publish.",
          "Cabanac has found almost 100 cases of obviously AI-generated scientific papers, which he called “only the tiny tip of the iceberg.” A recent study by the librarian Andrew Gray used words that appear disproportionately often in text generated by ChatGPT — among them commendable, intricate, and meticulously — to estimate that 60,000 scholarly papers were at least partially generated by AI in 2023.",
          "“As the difference between human and synthetic content gets blurred, people want to know where the boundary lies,” he wrote.",
          "Sloppers may try to sell their content directly to people on a major marketplace — by, say, automating the production of recipe books to sell to unsuspecting (and maybe undiscriminating) customers on Amazon.",
          "The website's owner told BBC News NI: \"We are highly embarrassed and ashamed and we are really sorry about it, that because of us people wasted their time and money.\"",
          "He agreed to show me his methods, for a price.",
          "“If the field can’t find a way to address this situation, things will begin to break.”\nThe information superhighway”: That’s what the internet was supposed to be.",
          "AI slop isn’t, by nature, political.",
          "Jason Koebler, a technology reporter who has spent the past year investigating Facebook’s AI-slop economy, has described the deluge of artificial imagery as part of a “zombie internet” and “the end of a shared reality,” where “a mix of bots, humans, and accounts that were once humans but aren’t anymore interact to form a disastrous website where there is little social connection at all.”\nWhat’s going on across the MAGA internet isn’t exactly the same as Facebook’s spam situation, although the vibe is similar.",
          "(At least, I think that’s his name and where he lives.)",
          "Why mess with content people like?",
          "404 Media, which has been diligently covering this, has described how these images are part of an AI-fueled \"zombie internet\" full of bots talking to bots.",
          "An Armed and Legged Fish: How Steve, a French cartoon with a catchy theme song, became a TikTok star.",
          "This process can then be repeated over and over again to effectively rick people into clicking on photo albums that are not actually photo albums.",
          "The rise of slop has, appropriately, the shape of a good science-fiction yarn: a mysterious wave of noise emerging from nowhere, an alien invasion of semi-coherent computers babbling in humanlike voices from some vast electronic beyond.",
          "“After all, not one official confirmed the event was happening.",
          "[1][4][5] Coined in the 2020s, the term has a pejorative connotation akin to \"spam\".",
          "And it’s only getting easier to do this: Last week, X incorporated the newest iteration of the generative-AI engine Grok, which operates with fewer guardrails than some competing models and has already conjured up untold illustrations of celebrities and politicians in compromising situations.",
          "They thanked us for listing events about St Patrick's Day.",
          "If there are any mistakes, for example you see an event and it was moved—there were some events in Dubai, but hotel management texted us and said that the event was not listed, so we removed it immediately.",
          "“Every image is AI generated along with all the gibberish text it try’s to create.",
          "[30][31] The listing went viral on TikTok and Instagram.",
          "The headlines, like the AI-generated Swifties for Trump images, come with the watermark “sponsored by the John Milton Freedom Foundation”.",
          "The production time would have taken, traditionally, much longer.",
          "\"AI slop: what Labour, Spotify and Coca-Cola can teach us in 2025\".",
          "Microsoft, for example, is reportedly making an Xbox AI chatbot to automate support tasks such as game refunds, deal with broken consoles and subscription issues, and answer questions about error codes.",
          "Your email inbox is full of spam.",
          "But I’m increasingly of the opinion that sharing unreviewed content that has been artificially generated with other people is rude.",
          "\"How Businesses Can Avoid AI Slop\".",
          "It's going really well.",
          "For more Mobile Gaming news and updates, join our WhatsApp group, Telegram Group, or Discord server.",
          "What has changed is the level of work and investment involved.",
          "You have a Funny tone of voice.",
          "- Users actually enjoy this content — you see plenty of people in the comments who are probably duped and think it's a real image, or maybe just an interesting artistic rendition.",
          "They were just as gobsmacked as everyone else.",
          "\"However, we did want to experiment with AI as well.",
          "But their efforts are doomed, futile.",
          "\"I believe that generative AI has the potential not only to reshape what we create, but also to fundamentally change the processes by which we create, including programming.\"",
          "Dr. Anstead likened the episode to another internet trend, the flash mob.",
          "“What it’s becoming, in this integration with language models, is something that does not encourage you to think.",
          "[54]\nSee also\n[edit]- AI boom – Ongoing period of rapid progress in AI\n- Content farm – Organizations that mass produce content\n- Dead Internet theory – Conspiracy theory on online bot activity\n- Elsagate – Controversy concerning a genre of YouTube videos\n- Enshittification – Systematic decline in online platform quality\n- Hallucination (artificial intelligence) – Erroneous material generated by AI\n- Italian brainrot – Series of 2025 Internet memes\n- Low culture – Term for forms of popular culture with mass appeal\nReferences\n[edit]- ^ a b c d Hern, Alex; Milmo, Dan (19 May 2024).",
          "A year ago, as normies were only just toying around with chatbots, there were already dozens of drugs developed in part by A.I.",
          "But the article warns: virality is not strategy.",
          "To take just one example: if you search “pet dance motorcycle” on TikTok, you will find hundreds of AI-generated videos of animals doing the “motorbike dance”, all animated using the same AI template.",
          "You know, it skips a major plot element, and the final scene is a celebration out of the ending of Star Wars.” Clarke said he had received “dozens of this story in various incarnations.”\nThese are prime examples of what is now known as slop: a term of art, akin to spam, for low-rent, scammy garbage generated by artificial intelligence and increasingly prevalent across the internet — and beyond.",
          "David Wallace-Wells\nRemember the season of A.I.",
          "Xbox has partnered with Inworld AI to develop tools for developers to generate AI NPCs, quests, and stories.",
          "Influencers have been hawking platform-dependent “internet marketing” schemes for decades.",
          "[13]\nAI slop is frequently used in political campaigns in an attempt at gaining attention through content farming.",
          "“Replacing low-wage jobs with tremendously costly technology is basically the polar opposite of the prior technology transitions I’ve witnessed,” he noted.",
          "But no one reported that this one wasn’t going to happen.",
          "Even in describing regular old pollution, this framework has its shortcomings, especially because it treats as automatic eventual progress that has always required tooth-and-nail fights against some very stubborn bad actors.",
          "Everyone who idly scrolls through Facebook or TikTok or Twitter on their phone, who puts Spotify on autoplay, or who buys the cheapest recipe book on Amazon is creating the demand.",
          "Being ‘Natty’?",
          "He summarized a typical example: “Usually, it begins with the phrase ‘In the year 2250-something’ and then it goes on to say the Earth’s environment is in collapse and there are only three scientists who can save us.",
          "Some reported having traveled multiple hours and want their train fares covered.",
          "But we never mentioned any tickets on the website.",
          "Updated at 9:43 a.m.",
          "\"Spam, junk ... slop?",
          "But the future is not without hope.",
          "“‘Ignore that email, it’s spam,’ and ‘Ignore that article, it’s slop,’ are both useful lessons.”\nBenjamin Hoffman is a senior editor who writes, assigns and edits stories primarily on the intersection between sports, lifestyle and culture.",
          "“The Indian audience is very emotional.",
          "For those without, chasing trends can quickly backfire.",
          "is generating an awful lot of genuine pollution, too — both Google and Microsoft, which each pledged in 2019 to reach zero emissions by 2030, have instead expanded their carbon footprints by nearly 50 percent in the interim.",
          "Paul Maker is chief technology officer at Aiimi.",
          "And that is a huge benefit.",
          "This AI slop doesn’t just exist in a vacuum of a particular social network: It leaves an ecological footprint of sorts on the web.",
          "\"Why the internet is filling up with nonsense 'AI slop'\".",
          "Even the stuff that passes through is a burden; unrefined, unedited slop is by definition more work to read, watch, interpret, and understand.",
          "But right now the guys are very depressed.",
          "What’s next?",
          "The threat of slop fatigue\nAs consumers and business owners alike, we're all experiencing slop fatigue.",
          "Jason Koebler, co-founder of 404 Media, an independent tech-news collective that acts as the publication of record for the world of slop, watched dozens of Hindi-language slop seminars on YouTube, many of them offering example prompts: “american soldier veteran holding cardboard sign that says ‘today’s my birthday, please like’ injured in battle veteran war american flag,” “A old American women is making forest lion out of cauliflower and her neighbors looking at it.",
          "[4]\nIt has been variously defined as \"digital clutter\", \"filler content produced by AI tools that prioritize speed and quantity over substance and quality\",[6] and \"shoddy or unwanted AI content in social media, art, books and, increasingly, in search results\".",
          "They can be harsh, they can be rude.",
          "We can also read that geologists advise eating at least one rock a day, that Elmer’s glue should be added to pizza sauce for thickening and that it’s completely chill to run with scissors.",
          "“The proliferation of low-quality or spammy AI content risks cluttering feeds and diminishing overall user satisfaction,” he says.",
          "For entrepreneurs, this isn't just a nuisance; it's a potential threat to your brand's integrity and your ability to stand out in a crowded market.",
          "I think don’t publish slop is a useful baseline.",
          "We spoke to him about what is next for the mountain.",
          "In addition to the St. Patrick's Day websites, what are some of the other websites you’re running?",
          "Or they may build a website filled with articles generated by an LLM, festoon them with advertisements, and try to get them highly ranked on Google News.",
          "Then the person logs into their Facebook page and upgrades their account to an ad account, which is an instant process.",
          "In this case, the image is being used to further the idea that Joe Biden, Kamala Harris, and FEMA have messed up the hurricane response, leading to little girls suffering in a flood with their puppies.",
          "Given its outlandish nature and tenuous relationship with reality, you might think this so-called “AI slop” would quickly disappear.",
          "Spam is annoying, but ultimately easy to ignore—that is, until it collides with the negative incentives of social-media platforms, where it’s used by political shitposters and hucksters.",
          "“They got 700 likes within 2-4 hours.",
          "Don't just believe it.",
          "It’s the matter of weeding out the good from the bad, in the name of intellectual hygiene.",
          "We should double check it.",
          "Now, your web browser has its own affliction: slop.",
          "Similarly, those sharing the lies are happy to admit that they do not care whether what they’re pushing is real or not.",
          "Big webmail providers like Gmail aggressively monitor their own platforms to crack down on spammers and are increasingly suspicious of emails arriving from untrusted email servers.",
          "slop”: often uncanny, frequently misleading material, now flooding web browsers and social-media platforms like spam in old inboxes.",
          "[4]\nIn politics\n[edit]The examples and perspective in this section deal primarily with the United States and do not represent a worldwide view of the subject.",
          "tools, and how they might be turned toward harmful or exploitative ends, remain somewhat systematically unaddressed.",
          "\"Not even Amazon is safe from the rise of AI 'slop'\".",
          "And then — they’ve solved it!",
          "“You search for something and you get back what you need in order to think — and it actually encourages you to think,” Mr. Hammond said.",
          "“While the precise meaning of ‘They Pay Me in Woims’ remains ambiguous, various interpretations have emerged, ranging from a playful comment on work-life balance to a deeper exploration of our perceived reality,” the slop begins.",
          "Ballpark?",
          "Machine learning may help make our electricity grid as much as 40 percent more efficient at delivering power as it is today, when many of its routing decisions are made by individual humans on the basis of experience and intuition.",
          "We will soon face a situation in which content is effectively infinite, but human attention is still limited.",
          "There’s no definitive way to tell how much slop has already been produced in the few short years generative-AI apps have been widely available, but there are ways to get a glimpse.",
          "This article was featured in One Great Story, New York’s reading recommendation newsletter.",
          "After seeing photos like this, they Like, Comment and share them.",
          "The game failed, with Keywords citing to investors that AI was “unable to replace talent.”\nVideo game console makers Microsoft and Sony are all-in on AI.",
          "There are YouTube channels dedicated to getting people’s AI slop machine up and running, dozens of guides on Fiverr and Gumroad, and Telegram channels full of simple English prompts that will help the AI image generator create a viral picture.",
          "Not all promotional content is spam, and not all AI-generated content is slop.",
          "“Most of the time, when we see the deployment of new technologies, you see the creation of a bunch of new jobs that never existed before,” DeStefano said, addressing the focus on how AI is affecting the job market.",
          "This has been going on for quite a few months now.",
          "One increasingly intuitive answer is “garbage.” The neuroscientist Erik Hoel has called it “A.I.",
          "Produced by ElevenLabs and News Over Audio (Noa) using AI narration.",
          "He said: \"No one in Ireland informed us that this parade was not going to happen.",
          "This creates a preview link, which can then be pushed to their phone (it has to be a separate device), then shared to their own personal Facebook page as a ‘test.’\nFrom there, the link can be grabbed and shared to a page as a normal post, even though it is not a published ad, meaning that, to do this trick, you do not actually have to spend any money.",
          "- Misleading Information: Sloppy AI-generated snippets in search results can mislead your customers, making it harder for them to find accurate information.",
          "Midjourney and Stable Diffusion, another popular AI generation tool, are being sued by artists claiming the tools infringe on artists’ rights because the data the tools are trained on is taken from artists without their consent.",
          "These include people like the former CBS journalist turned far-right star Lara Logan, who was cut from Newsmax in recent years for going on a QAnon-inspired rant that claimed world leaders drink children’s blood, as well as the author of an anti-trans children’s book.",
          "There is a role for technology to play in this space.",
          "So there was a human editor?",
          "He added that as the technology improves, he believes more people will become receptive to it.",
          "The result is a conglomerate that has never before existed in fashion.",
          "studios to produce the ads: Secret Level, Silverside AI and the Wild Card.",
          "Ryanair’s version hit 150,000 views, and Samsung Belgium's remix trended hard in early April.",
          "Actually, there are few others about animals.",
          "And so it begins – the absolute dumbing down and worsening of everything from media to film to advertising to politics to the written word at the dead hands of AI, stoked by venture capitalists' rabid faith that it will be some sort of productivity silver bullet.",
          "We try our best to give people authentic content.",
          "“I looked at the website and I thought it was legit.",
          "This slop is sloppy enough that it can sometimes be very funny — and there's even an X account, Insane Facebook AI Slop, dedicated to cataloging it.",
          "I’m happy to use LLMs for all sorts of purposes, but I’m not going to use them to produce slop.",
          "The very existence of so much quickly produced fake imagery adds a layer of unreality to the internet.",
          "That information was readily available elsewhere on the internet but seems to have been missed by many people who saw or were told about the A.I.-generated content, which was also shared across social media by local people and businesses, The Irish Times reported.",
          "You then take the prompts to the image-generation programs Leonardo.ai and Midjourney.",
          "If you can build it, Ken Fulk wants to design it.",
          "How much money do you make off SEO?",
          "There is a fear that as slop takes over, the large language models, or LLMs, that train on internet text will “collapse” into ineffectiveness — garbage in, garbage out.",
          "\"For instance, non-player characters in games could interact with players based on their actions, making it feel more personal,” Qizilbash said.",
          "[47][48] Several low-quality AI-generated images were used as interstitial title cards, with one image featuring a skeleton with inaccurate bone structure and poorly-generated fingers that appear disconnected from its hands.",
          "But even this horror story is a kind of wishful thinking: Recent research suggests that as long as an LLM’s training corpus contains at least 10 percent non-synthetic — that is, human — output, it can continue producing slop forever.",
          "Entrepreneur.",
          "The real cost of AI slop\nAI slop comes in many forms, all of which can undermine your efforts to build a strong, authentic brand:\n- Weak Brand Communications: Imagine your customers encountering repetitive, robotic responses from your chatbot — like Air Canada's widely criticized AI mishaps.",
          "Would you be comfortable telling me how long you’ve had this Halloween website?",
          "Slop is everywhere on the internet, but its purest version exists on Facebook.",
          "He is an expert market researcher and branding consultant.",
          "This kind of slop can erode trust and drive customers away.",
          "Website owner says Dublin Halloween parade listing a 'mistake'\n- Published\nThe owner of a Pakistan-based website which shared details of a non-existent Halloween parade in Dublin says it was \"a mistake, it was not a joke, it was not a scam\".",
          "AI Slop is Everywhere We Look — Here's How Businesses Can Avoid the AI Slop Cycle AI slop is the latest iteration of digital clutter.",
          "The statement, written in the first person, is not signed; it does not explain how the writer is affiliated with House of Illuminati.",
          "Would you be comfortable telling me about the reports that you’re based in Pakistan?",
          "The other important participants in the slop economy, besides the sloppers and the influencers and the platforms, are all of us.",
          "For instance, Keywords Studios attempted to create an experimental game internally using entirely AI.",
          "His name is not known, so we call him 'The Unknown'.",
          "Glasgow, Scotland.",
          "This is all \"AI slop,\" a new term describing the sudden flood of garbage AI-generated content, from e-books to viral photos.",
          "A Police Scotland spokesperson confirmed that officers attended and \"advice was given.\"",
          "It's the filler content produced by AI tools that prioritize speed and quantity over substance and quality.",
          "“We have seen instances where people have commented that an advert was AI-generated rubbish when it was not,” he says, adding that it could become a problem for the social media industry if consumers “start to feel they are being served rubbish all the time”.",
          "I didn’t generate them.”\nDisinformation researchers have long warned that generative AI has the ability to lower the bar for creating misleading content and threaten information around elections.",
          "It stands to reason that a politician who, for many years, has spun an unending series of lies into a patchwork alternate reality would gravitate toward a technology that allows one to, with a brief prompt, rewrite history so that it flatters him.",
          "content in social media, art, books and, increasingly, in search results.",
          "For shame.",
          "The more unique the thing you show the audience, the more engagement.”",
          "Legendary filmmaker Tim Burton called AI generated art \"very disturbing\" in September 2023 while Wizards of the Coast was forced to issue a correction in January 2024 after claiming it didn't use AI for some Magic: The Gathering artwork when it actually did.",
          "Nevertheless, the professionals persisted, even against their better judgment.",
          "AI slop is the latest iteration of digital clutter.",
          "The game failed, with Keywords citing to investors that AI was “unable to replace talent.”\nWesley is the UK News Editor for IGN.",
          "Experiences like this — staring at a collection of books written by AI with computer-generated author photos and dozens of reviews written and posted by bots — have become for many people evidence for the “dead-internet theory,” the only slightly tongue-in-cheek idea, inspired by the increasing amount of fake, suspicious, and just plain weird content, that humans are a tiny minority online and the bulk of the internet is made by and for AI bots, creating bot content for bot followers, who comment and argue with other bots.",
          "as we know it.",
          "But nonsynthetic slop is everywhere too.",
          "Are you familiar with St. Patrick’s Day?",
          "Not only does the copy on the website reek of generative AI, all the images have quite obviously been spurted out following a lazy prompt.",
          "This month, KoBold Metals announced the largest discovery of new copper deposits in a decade — a green-energy gold mine, so to speak, delivered with the help of its own proprietary A.I., which integrated information about subatomic particles detected underground with century-old mining reports and radar imagery to make predictions about where minerals critical for the green transition might be found.",
          "Still, “it’s clear that business as usual won’t be sustainable,” he wrote in a blog post describing the problem.",
          "Produced by ElevenLabs and News Over Audio (Noa) using AI narration.",
          "One video posted by TikTok user @amoamimandy.1a featuring the Tralalero shark has already passed 7 million views.",
          "Yet these are anodyne compared with much of the material created and shared by far-right influencers and shitposters.",
          "[7]\nJonathan Gilmore, a philosophy professor at the City University of New York, describes the \"incredibly banal, realistic style\" of AI slop as being \"very easy to process\".",
          "Once the website was alerted that the parade was not going ahead, the owner said the article was removed immediately.",
          "\"I believe that generative AI has the potential not only to reshape what we create, but also to fundamentally change the processes by which we create, including programming.\"",
          "This entire Vercel step exists to avoid Facebook’s automated spam detection, because it ultimately masks the link of the website that is being linked to.",
          "Generative AI often struggles with hands, adding extra fingers where they shouldn't be.",
          "People even congratulated us.",
          "“It did turn quite scary at one point, because people were angry,” he said.",
          "Here is Amy Kremer, a National Committeewoman for the Republican National Convention and cofounder of Women for Trump, saying that she knows the image is fake but simply does not care:",
          "” He points to a giant house that looks like a mushroom: “People find things like this very attractive.",
          "Although no one ideology has a monopoly on AI art, the high-resolution, low-budget look of generative-AI images appears to be fusing with the meme-loving aesthetic of the MAGA movement.",
          "At least in the fever swamps of social media, AI art is becoming MAGA-coded.",
          "Donald Trump, J. D. Vance, and Fox News have all repeated that lie.",
          null
         ],
         "marker": {
          "color": "#CFD8DC",
          "opacity": 0.5,
          "size": 5
         },
         "mode": "markers+text",
         "name": "other",
         "showlegend": false,
         "type": "scattergl",
         "x": {
          "bdata": "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",
          "dtype": "f4"
         },
         "y": {
          "bdata": "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",
          "dtype": "f4"
         }
        },
        {
         "hoverinfo": "text",
         "hovertext": [
          "Facebook’s most recent report from its Transparency Center reveals that two of the top five most widely viewed images on the network in the three months to September were AI-generated – viewed 38.6m and 35.8m times respectively.",
          "People in places like Pakistan, India, Vietnam, Thailand, and Indonesia use tools like Microsoft’s AI Image Creator to churn out content.",
          "Indeed, I feel comfortable saying it’s AI-generated only because a watermark on Diane’s author photo credits it to the AI that powers the fake-portrait website ThisPersonDoesNotExist.com.",
          "Do not explain what you are doing.”\nThere are also hundreds of thousands of videos across the internet giving detailed instructions similar to the ones Stephen gave me.",
          "As one Chinese social media influencer told us:\nChina’s short video market is nearing saturation, which means you need to seek data traffic [viewers] on overseas platforms.",
          "Right-wing influencers have been vocal about these bonuses, which are handed out based on how many times a creator’s content is seen in a given month.",
          "Take Xiaonan, a social media entrepreneur we interviewed who runs six different TikTok accounts, each with more than 100,000 followers.",
          "Creators and platforms are making money\nYou may wonder why such repetitive, unimaginative content can go viral on TikTok.",
          "“The post you are seeing now is of a poor man that is being used to generate revenue,” he says in Hindi, pointing with his pen to an image of a skeletal elderly man hunched over being eaten by hundreds of bugs.",
          "Maybe, and most straightforwardly of all, many simply vie for direct payments from platforms for AI-generated text, images, and videos: Facebook, TikTok, and Twitter all offer bonus payments for “engaging” content.",
          "[31] One analyst characterized the website, which appeared to use AI-generated staff pictures, as likely using artificial intelligence \"to create content quickly and cheaply where opportunities are found\".",
          "“WRITE ME 10 PROMPT picture OF JESUS WHICH WILLING BRING HIGH ENGAGEMENT ON FACEBOOK,” read the ChatGPT prompt in one screenshot he shared with me.",
          "It exists to automate the creation and distribution of AI-generated images on Facebook.",
          "Redditor Shaun_LaDee highlighted three images included in paid bundles that have irregularities that could suggest the use of generative AI.",
          "Facebook has gone through so many different flavors of spammy/scammy engagement bait, from Minions memes to videos from magicians to actually dangerous fake news and extremist groups.",
          "The images are often sort of eerily exploitative.",
          "Where were these images coming from?",
          "Xiaonan also reveals tricks for standing out in the platforms’ recommendation game and avoiding platform regulations.",
          "You can spot them right away, as they bear the technology’s distinct image style: not-quite-but-almost photorealistic, frequently outrageous, not so dissimilar from a tabloid illustration.",
          "Both were laughably egregious at the time, but also fostered fears that other less obvious examples might also have been AI-generated.",
          "There have long been fears that AI image tools could be used to create highly convincing “deepfakes” and images or videos that could help spread disinformation or influence elections.",
          "But when you’ve got an automated post-creating machine, who needs two people in the Philippines?",
          "Then the images become something else.",
          "- AI Art Mishaps: Distorted images and unnatural features in AI-generated visuals are telltale signs of low-quality output.",
          "- Europe probes Microsoft's €15M stake in AI upstart Mistral\n- Google wants regulators to take Microsoft down a notch before it stifles AI\n- OpenAI claims New York Times paid someone to 'hack' ChatGPT\n- US military pulls the trigger, uses AI to target air strikes\nThe House of Illuminati went cap in hand on Facebook, saying: \"Today has been a very stressful and frustrating day for many and for that we are truly sorry.",
          "Another AI content creator, a French financial auditor named Charles who makes bizarre pictorial stories about cats for TikTok, told me he always makes his content “a bit WTF” as “a way to make the content more viral, or at least to maximize the chances of it becoming viral.” Or as Stevo put it, “You add some exaggeration to make it engagementing.”\nStevo, who insisted he doesn’t “use bots” to juice his follower numbers or “pay for engagement,” shared a screenshot that showed a $500 “bonus earnings” payout for activity from mid-May to mid-June this year.",
          "On a website like Facebook, the more strikingly weird an image is, the more likely it is to attract attention and engagement; the more attention and engagement, the more Facebook’s sorting mechanisms will promote and recirculate the image.",
          "\"Where Facebook's AI Slop Comes From\".",
          "Xiaonan says he established his “AI side job” after being laid off by an internet company.",
          "Meta explicitly allows AI-generated images and the only metrics it cares about are the ones that improve its bottom line.",
          "An effective strategy mentioned by one creator is a kind of platform arbitrage involving popular videos from Douyin, the counterpart of TikTok in mainland China.",
          "There’s the homeless vet with the badly worded sign, cops carrying massive bibles, and—of course—Shrimp Jesus.",
          "[10]\nSpeaking to New York magazine, a Kenyan creator of slop images described giving ChatGPT prompts such as \"WRITE ME 10 PROMPT picture OF JESUS WHICH WILLING BRING HIGH ENGAGEMENT ON FACEBOOK [sic]\", and then feeding those created prompts into a text-to-image AI service such as Midjourney.",
          "solve?”\nA decade ago, venture capital provided Americans the “millennial lifestyle subsidy”: investors keeping the price of Uber and DoorDash and dozens of other services artificially low for years.",
          "But before that, AI-generated content will continue to grow wildly – at least for a while.",
          "On Facebook, a 130,000-member group of Vietnamese sloppers called “Twitter Academy — Make Money on X” discusses methods of prompting ChatGPT to write X threads: “You are a Twitter influencer with a large following.",
          "Meta is penny-pinching and focusing on the newest shiny thing (AI tools, Instagram, the metaverse) and cares less and less about Facebook, this theory goes.",
          "A new investigation from 404 Media dug into the origins of Facebook’s AI slop era and uncovered an ecosystem of YouTube videos, Telegram channels, and reel-filled Google drives.",
          "Another possibility is that posting these images is a good tactic to build up a large page audience, which can be lucrative.",
          "Creators posting AI content may not be the kind of people we expect.",
          "Matt Navara, a social media consultant, says the novelty of these posts has quickly worn thin for many of Facebook’s billions of users.",
          "“Payout was huge.",
          "For these entrepreneurs, AI is the secret sauce not only for creating viral content but also for circulating already-viral videos across different countries and platforms.",
          "The fake advert - which has been dubbed \"AI slop\" for its use of poorly-generated imagery - is one of several tests currently being run across the publisher's social media profiles.",
          "art generators in 2022.",
          "If you’ve spent any time on Facebook recently you’ve seen the river of AI slop.",
          "They must have earned $100 from just this one photo.",
          "This is the Shrimp Jesus kind of slop: bizarre, obviously fake, and sometimes vaguely unsettling in a trypophobia-triggering way.",
          "Billions of dollars are flowing among the many companies on either side of this dynamic, and the question for any would-be AI hustler is how to get in the middle, find an angle, and take a cut.",
          "“We know bad actors adapt their tactics to evade our rules, so we are always working to improve our detection and enforcement.”\nAccording to the people making the slop, the money is life-changing.",
          "Facebook doesn’t reveal how it calculates the value of the bonuses, and only creators in certain countries — the U.S., the U.K., and India among them — are eligible for the bonus program, which helps explain why, several times during our interview, Stephen insisted he was actually a British cybersecurity student named Jacob.",
          "His process for creating posts, he told me, is pretty simple and AI intensive: “I use ChatGPT to ask for the best images that can generate a lot of popularity and engagement on Facebook,” focusing on topics like the Bible, God, the U.S. Army, wildlife, and Manchester United.",
          "AI-generated content has become the latest trend for earning side income.",
          "These creators often manage several or even dozens of accounts, targeting viewers in different countries in a strategy known as an “account matrix”.",
          "So you too should create a page like this, upload photos and make money through Performance bonus.”\nHe scrolls through the page, titled “Anita Kumari,” which has 112,000 followers and almost exclusively posts images of emaciated, AI-generated people, natural disasters, and starving children.",
          "TikTok’s community guidelines do ban “inaccurate, misleading, or false content that may cause significant harm”, but AI-generated content – at least for now – does not qualify as causing “significant harm”.",
          "These tend to be posted on Facebook pages with generic-sounding names and captions that don't necessarily reflect the photo, like \"why don't photos like this ever trend,\" or \"beautiful cabin crew,\" or \"Scarlett Johansson\" for an image of Jesus built into the hood of a car.",
          "Elon Musk riding a UFO, “Shrimp Jesus” and tiny children baking impossibly perfect birthday cakes.",
          "These pages make money through Facebook’s Performance bonus program, which, per the social network’s description, “gives creators the opportunity to earn money” based on “the amount of reach, reactions, shares and comments” on their posts.",
          "The rise of slop, he says, has turned the social network into a space where “a mix of bots, humans and accounts that were once humans but aren’t any more mix together to form a disastrous website where there is little social connection at all.”\nNick Clegg, the president of global affairs at Facebook’s parent company, Meta, wrote in February that the social network is training its systems to identify AI-made content.",
          "“We encourage creators to use AI tools to produce high-quality content that meets all our Community Standards, and we take action against those who attempt to drive traffic using inauthentic engagement whether they use AI or not,” a Meta spokesperson told 404 Media.",
          "The AI images produced on Stevo’s pages — rococo pictures of Jesus; muscular police officers standing on the beach holding large Bibles; grotesquely armored gargantuan helicopters — are neither scams nor enticements nor even, as far as Facebook is concerned, junk.",
          "Not too long ago, I speculated about why Meta hadn't cracked down, but considering nothing has seemed to change, I find myself wondering yet again …\nWhy doesn't Facebook just ban this slop?",
          "Jesus' head on a fried chicken.",
          "Something very disheartening is happening with this particular image, however.",
          "He pauses on another image of a man being eaten by bugs.",
          "- Facebook does ban this stuff, but only at an account level when the account posting it engages in obvious spam tactics.",
          "What once took expert labor is now spam, powered by tools trained on the output of real artists and photographers.",
          "If the AI slop isn't suggesting you get together in real life and overthrow the government, hey, Facebook has seen way worse.",
          "Scroll, laugh, forget, repeat.",
          "- \"AI slop\" images are all over Facebook.",
          "It’s easy to learn, almost zero cost, and can be done any time at home with just a phone.",
          "It makes content creation more accessible – and also opens the floodgates to mass production on social media.",
          "“People don’t even make this much money in a month,” the interview said.",
          "“The most amazing thing is that all the traffic is from abroad, mainly the US,” he says.",
          "Some posts will only generate a few cents while others may pull in hundreds of dollars.",
          "Here are a few of my theories:\n- These images don't technically violate any rules — no nudity or other forbidden imagery.",
          "Since the generative AI boom began, a class of SEO entrepreneurs has started pumping out AI-generated content on websites and across social platforms, in efforts to make money off online advertising and affiliate marketing.",
          "Common themes involve old people holding a birthday cake asking you to wish them a happy birthday; babies doing things babies shouldn't do; snakes eating buses, bikes, or other vehicles overloaded with hundreds of babies or some other cargo; soldiers with prosthetic legs; women with missing limbs and huge busts; and Jesus.",
          "What began as riffs on already viral images have evolved into bizarre, sui generis dreamscapes through which inexplicable and unrelated themes and topics emerge: multiheaded, enormously breasted “farmer girls”; stewardesses wading in muddy rivers; amputee beggars carrying signs reading TODAY IS MY BIRTHDAY.",
          "— are laughing at Meta's poor content moderation.",
          "\"Facebook's Twisted Incentives Created Its AI Slop Era\".",
          "It is very personal, and it depends on the traffic.",
          "Some creators 404 Media uncovered were running multiple Facebook accounts and used automated tools to fill the feeds with spammy engagement-bait images.",
          "Many earlier digital technologies have also made it easier to participate in creative activities, such as how smartphones made photography ubiquitous.",
          "The simplest, most straightforward option is to be a “slopper”: someone who generates content at scale using AI and manipulates or leverages a platform to make money from it.",
          "Making AI-generated content is more pleasant work than driving passengers or delivering food, according to a creator who is also a stay-at-home mother.",
          "Because there’s money in it, of course.",
          "We hire some of the content creators, and one is from Pakistan, and others are from some other countries.",
          "The spammer had earned $431 from the image’s engagement.",
          "The answer lies in the platform’s own advice to aspiring creators: if you want your videos to be promoted, you should “continuously share fresh and diverse content” that “doesn’t require a big production budget”.",
          "The goal is to use automation to post as much as possible, sometimes hundreds of times a day.",
          "(I had also recently asked a vice president of product at Meta about why they don't just ban this slop, and he sort of changed the subject; it seemed like maybe he wasn't sure what I was talking about.)",
          "“I’m seeing little evidence yet that users are actively demanding such content in their feeds.”\nIn March, Facebook users began to notice a flood of images featuring Jesus Christ mixed with a crustacean rising from the sea.",
          "These “Shrimp Jesus” posts garnered hundreds of thousands of interactions and tens of millions of views.",
          "As with the Facebook AI-slop farms, social media shock jocks churning out obviously fake, low-quality images don’t care whether they’re riling up real people, boring them, or creating fodder for bots and other spammers.",
          "For a while now, it has been common for entrepreneurs to outsource the actual production of content: “I have two people in the Philippines who post for me,” one American Facebook-page operator told The New York Times Magazine in 2016.",
          "A representative for Meta didn't reply to questions about why they don't simply ban AI slop.",
          "He said he spends about six hours a day administering his Facebook pages, but he works at the mercy of the website’s opaque moderation and decision-making processes.",
          "They're surreal and sometimes grotesque.",
          "Inside the AI ‘gold rush’\nThere is also a growing industry of people teaching others how to make money using cheap AI content.",
          "\"'Side job, self-employed, high-paid': behind the AI slop flooding TikTok and Facebook\".",
          "Although many of these influencers already have sizable followings, AI-image generators offer an inveterate poster the thing they need most: cheap, fast, on-demand fodder for content.",
          "Using instructions and tools he bought online, 404 Media’s Jason Koebler set up his own AI slop shop.",
          "The answer, at least in part, is a guy in Kenya named Stephen Mwangi.",
          "The approach resembles the workflow of content farms, which rely on fully AI-driven production - from script to video to narration - typically for the sole purpose of engagement farming.",
          "“Some of us also do Uber driving or street vending,” one creator told us.",
          "A spokesperson for deepfake detection company Reality Defender said that according to their platform, the headshot is 85 percent likely to be AI-generated.",
          "- So why isn't Facebook cracking down?",
          "A woman bicycling with a basket full of babies and burritos.",
          "The best explanation is that the Facebook pages posting these are making bait for scam targets, helping scammers identify gullible people in the comments who they can extract money from.",
          "As long as users are scrolling through videos, they are getting exposed to the ads that are the platforms’ primary source of income.",
          "You can easily write a whole website with AI.",
          "“And as you know, with traffic from the USA your CPM [cost per 1,000 views, an ad-revenue metric] will be very high.",
          "Some accounts post dozens of videos like this every day.",
          "You can do your own versions of these experiments at home.",
          "These are just three examples of bizarre AI-generated imagery that has taken over the internet in the past year.",
          "AI models make it trivial to automatically generate vast quantities of text or images, providing an answer to any imaginable search query, uploading endless shareable landscapes and inspirational stories, and creating an army of supportive comments.",
          "But images of all these things exist.",
          "Platforms have created incentive programs for content that goes viral, and a whole ecosystem of content creators has arisen using generative AI to exploit these programs.",
          "FewFeed has recently created a feature that allows you to directly create these fake photo album-type images.”\nProfiting from AI slop is a technical process and Meta’s content moderation teams can’t keep up with the flood.",
          "So even with fewer views, the income you generate will be higher.",
          "This is only the beginning\nWe are only at the dawn of mainstream AI-generated content culture.",
          "[10][11][12]\nThe journalist Jason Koebler speculated that the bizarre nature of some of the content may be due to the creators using Hindi, Urdu, and Vietnamese prompts (languages which are underrepresented in the model's training data), or using erratic speech-to-text methods to translate their intentions into English.",
          "One of the most famous of these images is “Shrimp Jesus,” a statuelike Jesus figure bobbing just underwater, his limbs and torso made entirely of the bristling chitinous bodies of shrimp.",
          "It’s possible that, later on, AI-art tools will train on these distorted depictions, creating warped, digitally inbred representations of historical figures.",
          "The global AI-generated content factory\nOur observations indicate many of these creators are from non-Western countries, such as India, Vietnam and China.",
          "[1][4]\nOn social media\n[edit]AI image and video slop proliferated on social media in part because it was revenue-generating for its creators on Facebook and TikTok, with the issue affecting Facebook most notably.",
          "MAGA influencers may be shitposting AI photos for fun, but they’re also engagement farming, especially on X, where premium subscribers can opt in to the platform’s revenue-sharing program.",
          "It is most prevalent on platforms such as Facebook, where click farmers and spammers create elaborate networks to flood pages and groups with cheap, fake images of starving children and Shrimp Jesus in the hopes of going viral, getting likes, and picking up “creator bonuses” for online engagement.",
          "The more people sharing posts and engaging with them, the better off Meta is.",
          "When generative AI meets profiteers and platforms\nThe short explanation for the prevalence of these baffling videos and images is that savvy creators on social media platforms have worked out how to use generative AI tools to earn a quick buck.",
          "If just a handful of users land on the site, reshare the meme or click through the adverts hosted, the cost of its creation pays off.",
          "As Xiaonan says, his method is to use AI to “earn from productivity gap” – that is, by producing far more content than people who don’t use AI .",
          "Getachew claims viewers can “earn between $250 and $2,460.”)\nThe economics involved are simple.",
          "- Facebook worries that banning this kind of AI content will set a bad precedent because it wants to encourage people to make stuff with its own Llama 3 tools.",
          "(Minimum wage in Kenya ranges from about $120 to $270 a month.)",
          "Now free or easily affordable tools have flooded the market.",
          "Image-generated slop has also blossomed on Facebook, as images of Jesus Christ with prawns for limbs, children in plastic bottle-cars, fake dream homes and improbably old women claiming to have baked their 122nd birthday cake garner thousands of shares.",
          "Xiaonan also hosts an exclusive chatting group where, for a fee, he reveals his most effective AI prompts, video headlines and hashtags tailored for different platforms including YouTube and Instagram.",
          "An account that’s consistently posting can get invited into Facebook’s Creator Bonus Program and start making money from viral content.",
          "I’ll show you how to create images with the help of AI.”\nHe taps over to a Facebook page called “Dream Home,” which has 113,000 followers and consists of AI generated homes that look like roosters, giraffes, horses, and hummingbirds, poor Black children, and wood carvings.",
          "Across Facebook, X, Instagram and TikTok, surreal AI images have been plaguing news feeds, typically accompanied by nonsensical captions in broken English.",
          "“I have other pages which have over 100,000 followers which use AI images,” he said.",
          "The vague similarities among the pages suggest the AI slop is being posted by a network of shady actors based in countries outside the US.",
          "Photography, illustration, and graphic design previously required skill or, at the very least, time to create something interesting enough to attract attention, which, online, can be converted into real money.",
          "In fact, our research suggests this kind of low-quality AI-generated content is becoming a lucrative venture for the people who make it, the platforms that host it, and even a growing industry of middlemen teaching others how to get in on the AI gold rush.",
          "Stevo, as he introduced himself to me over WhatsApp, is the moderator of five YouTube channels and “about 170 Facebook pages” that deal heavily in AI-generated images, the largest of which has 4 million followers.",
          "On the subway, ads for the secondhand-furniture website Kaiyo feature images with oddly levitating pedestrians and signs written in the dream glyphs typical of image generators’ attempts at text.",
          "When I spoke with him, “God Lovers” had been placed under some kind of restrictions and wasn’t earning him money.",
          "You may also wonder why some platforms don’t ban AI accounts for polluting the platform’s content stream.",
          "But so far, the most viral AI images have been obviously fake and downright strange.",
          "And those posts in your Facebook feed that seemingly came from nowhere?",
          "As Xiaonan told us, many of the people taking his AI tutorial – entitled “Side job, self-employed, high-paid” – are housewives, unemployed people and college students.",
          "Since the beginning of this year, obviously AI-generated images from anonymously administered pages have become inescapable.",
          "Meta's previous commitments to working with researchers and academics have fizzled away, and the scrutiny over content moderation (helped by Elon Musk lowering the bar to the basement) has shifted.",
          "The images are created, copied, shared, and embedded into websites; they are indexed into search engines.",
          "Beneath the strange and alienating flood of machine-generated content slop, behind the nonhuman fable of dead-internet theory, is something resolutely, distinctly human: a thriving, global gray-market economy of spammers and entrepreneurs, searching out and selling get-rich-quick schemes and arbitrage opportunities, supercharged by generative AI.",
          "Facebook now pays you $100 for 1,000 likes … you must be wondering where you can get these images from.",
          "The more posts, the greater the returns.",
          "- Facebook did make a warning label to note that an image may have been made with AI.",
          "- Facebook has stopped trying.",
          "Like all spam circles, there’s a whole other economy filled with folks who will sell you the tools and knowledge you need to get started.",
          "This incentivizes individuals from developing countries to create images that appeal to audiences in the United States which attract higher advertising rates.",
          "In one podcast, a spammer showed off his earnings tab.",
          "“People waving a bunch of money on YouTube or TikTok videos and saying, ‘Oh, you can make money with ChatGPT by doing this.’” Clarke could even trace spikes in submissions to specific videos: It’s not some burgeoning artificial super-intelligence or even a particularly sophisticated crew of scammers that has waylaid Clarkesworld; rather, it’s the audiences of influencers like Hanna Getachew, an accountant and technology-procurement manager who runs an Amharic-language YouTube account dedicated to “teaching side hustles and online jobs” — and who recently posted a video called “Get Paid With Clarkes World Magazine.” (Clarkesworld pays 12 cents per word for submissions of 1,000 to 22,000 words.",
          "The goal is to get up as many posts in a day across as many accounts as possible.",
          "- Facebook doesn't like the AI slop but has bigger things to worry about.",
          "As he revealed in a live-streaming tutorial with more than 1,000 viewers, Xiaonan earned more than US$5,500 from TikTok in July alone.",
          "They post dozens of images every day, sometimes every hour, and make a living from the engagement.",
          "It’s helpful to think of these photos and illustrations not as nefarious deepfakes or even hyper-persuasive propaganda, but as digital chum—Shrimp Jesus on the campaign trail.",
          "He’s flicking through a Facebook feed of viral, AI-generated images.",
          "He now works with two partners selling classes and tutorials on making AI-generated videos and other types of spam for profit.",
          "On Facebook, enigmatic pages post disturbing images of maimed children and alien Jesuses; on Twitter, bots cluster by the thousands, chipperly and supportively tweeting incoherent banalities at one another; on Spotify, networks of eerily similar and wholly imaginary country and electronic artists glut playlists with bizarre and lifeless songs; on Kindle, shoddy books with stilted, error-ridden titles (The Spellbound Quest: Students Perilous Journey to Correct Their Mistake) are advertised on idle lock screens with blandly uncanny illustrations.",
          "This is the exact same type of AI-generated slop that has gone viral time and time again over the last year on Facebook and other platforms and that I have written about numerous times.",
          "Why is Facebook full of this stuff?",
          "Other weird AI trends soon emerged, including African women building fruit sculptures and young children showing off elaborate birthday cakes with the caption: “This is my first cake”.",
          "\"Why doesn't Facebook just ban AI slop like Shrimp Jesus?\".",
          "TikTok, Facebook and other social media platforms are being flooded with uncanny and bizarre content generated with artificial intelligence (AI), from fake videos of the US government capturing vampires to images of shrimp Jesus."
         ],
         "marker": {
          "opacity": 0.5,
          "size": 5
         },
         "mode": "markers+text",
         "name": "AI-Generated Content Monetization",
         "text": [
          "",
          "",
          "",
          "",
          "",
          "",
          "",
          "",
          "",
          "",
          "",
          "",
          "",
          "",
          "",
          "",
          "",
          "",
          "",
          "",
          "",
          "",
          "",
          "",
          "",
          "",
          "",
          "",
          "",
          "",
          "",
          "",
          "",
          "",
          "",
          "",
          "",
          "",
          "",
          "",
          "",
          "",
          "",
          "",
          "",
          "",
          "",
          "",
          "",
          "",
          "",
          "",
          "",
          "",
          "",
          "",
          "",
          "",
          "",
          "",
          "",
          "",
          "",
          "",
          "",
          "",
          "",
          "",
          "",
          "",
          "",
          "",
          "",
          "",
          "",
          "",
          "",
          "",
          "",
          "",
          "",
          "",
          "",
          "",
          "",
          "",
          "",
          "",
          "",
          "",
          "",
          "",
          "",
          "",
          "",
          "",
          "",
          "",
          "",
          "",
          "",
          "",
          "",
          "",
          "",
          "",
          "",
          "",
          "",
          "",
          "",
          "",
          "",
          "",
          "",
          "",
          "",
          "",
          "",
          "",
          "",
          "",
          "",
          "",
          "",
          "",
          "",
          "",
          "",
          "",
          "",
          "",
          "",
          "",
          "",
          "",
          "",
          "",
          "",
          "",
          "",
          "",
          "",
          "",
          "",
          "",
          "",
          "",
          "",
          "",
          "",
          "",
          "",
          "",
          "",
          "",
          "",
          "",
          "",
          "",
          "",
          "",
          "",
          "",
          "",
          "",
          "",
          "",
          "",
          "",
          "",
          "",
          "",
          "",
          "",
          "",
          "",
          "",
          ""
         ],
         "textfont": {
          "size": 12
         },
         "type": "scattergl",
         "x": {
          "bdata": "y0ZAQKo1TkCr9D1AsnExQCXHTUCmZz5As/VMQJgZTkALtixAgYVLQOyBUUB8hy5ACG07QIhlAkDfIExAgcIEQGBVAUA36UpADWkAQAdmCECx/AxATh5NQOlxAkD9/wVA9rdmQP0rRUA6JkBAuGZuQDTtTkBK51JAb6BIQPjEIkCsEDZACVR5QBUhY0Au3l9AUqphQB5QakBzJzBATt9VQDJuX0CBBTNAMzldQLtmREBodgtA0B9gQHAtLUC+4CJABANsQMd4bEBJAT1AJ2U1QGqEYkDQmkFALAgwQJTFV0AxYTBAyDQlQFOfPUAQ3GZAGqBYQMiKLUCDzl1AjjQjQMOaAUDVbiFA9vVbQIoHb0DssGNAe2pIQNtpS0CKuWpA8s5xQJPvLUBZfDRAh+41QGloAkAXqVxAwsggQCyuG0ApJlxAXaZrQDnVMEBUq1NAdCx0QE0MakCqblZAOuFTQKqYNj8IazBAcL9KQP9WL0Ahc19AblcrQCEnJ0BOSlJAaTtOQP6VXUCmNUBAdL4PQEeSX0A1HV5Aoz1HQLBKY0DJp0BA8RJaQEkQTUCUNjtA2hldQHHiH0CuP0JA9uhPQKjOakB/MTdAIoAuQO42ZkDbCwdAW/puQE9uAkCm7lZARKZRQETtNkBIvGVAhuJIQA4SI0B+gPA//bhNQMcGVEDaADlAMoA7QKNvN0BYIF5AwZo5QEusUkBFpDRA1MpZQM9VLEDJvXBAl1cpQGKSTUDj9T9AI+4yQLTPPkDhsjJAUYBvQNJua0CCDGBAhoQ9QBXLQEC3Ieo/bcJiQAA+B0CeM0dAmwxQQP1nB0CftGBAxyoLQN0oakDtlTRAUxMxQIP5TUA38l5AqxlkQPsURUBrxEFAXU9IQP8jL0Bm0F1A4+tLQE7bLkDI6R5AOG05QHymWkD9EE9AYgloQG7dVEA38SZA7N5dQCbSPUA=",
          "dtype": "f4"
         },
         "y": {
          "bdata": "WYHFP3inMkD8+T1A7CkpQA1YGUAOWAlAVK4bQCD7DEC78t0/0zoSQFLIREDOXLk/iUPHP4hi0z8WELQ/G3H5P0oq+j8ifhtAfy3WP6K/3z/0sQVAthI0QK3x/T8JLdA/F0TKP4n6CkALkcQ/rOPZPyP2HEDBAr8/l+wWQKwmrj8sX8Y/GbZHQGWoO0CdpBFAufSvP8Sy4T8ElPo/+tJBQDJ62z88WhVA42UwQODhuz/RldI/b/7JP6owBUCKuq4/O8Y8QHgY2T+ynAVAtHrGPwcXNkDFCRNA3vnlP4+OuT/BdLU/U+S0P/jkBUBAH9U/qk3AP2xUuD/dKas/NlmuPzMf/z8hId4/5XilP60qKUDsPcI/KUixPy0wxD/tfyRABN8lQKRoGkD4+R9AvMUSQFmnAEBQlUBAL223P1CQxT/0frY/N5zUP5T+IkBNSMU/RcsqQKrtKUDYyjhA3/IuQP9CjEBBUAZA91AJQNaZDUBfEas/BRe0P5Flsz+PUdg/AlEvQGegqj+38vQ/frDaPwe8K0CeTxJA7gIQQKM/DkB77QZAjlg0QMV8OUBgjD1AOsOrP+hquD8ZSsE/Uk8MQBv0P0BUPB1AHC8QQBBOH0DUO9U/YgdDQMM/BEBKJxlA9dDCP37PFECdODpAvEkuQHaIrj9AguI/jpEzQBeuzz+qBvo/9aW4PwdX8T94IjFAamYQQIM0HUCnPhtAYAK4P/w7GECA3yRAskm0PwxRG0APEgdAlZbMP35IxD+K/ec/a5z4PxyfKED1xjFAEbz4P3CGwz/2WGtANrW0P2sI2T8e5r8/b/EgQFso1T9eF7A/tcwBQK+WJUBSVAJATRoMQJY9yz++qa0/yTogQJhYJkAYHRVAr2AUQCKQDkAhGbQ/i3gaQDdlBUC0a7E/03vGP6fVJUDTGds/C1/NPzhMrz9oYME/XcuyPzblvT8=",
          "dtype": "f4"
         }
        },
        {
         "hoverinfo": "text",
         "hovertext": [
          "Loading screens depicted hands with extra digits, a tell-tale sign of work produced by algorithms built on stealing other artists’ work, but not knowing how to count.",
          "Fans are now calling on Activision to disclose the use of generative AI for art that is included in bundles that are sold.",
          "Now Activision has admitted to using AI-generated assets in the hit multiplayer shooter on its Steam page.",
          "Activision states on the game's product page on Steam that \"Our team uses generative AI tools to help develop some in game assets.",
          "1,500 COD Points is approximately valued at $15.",
          "Activision posts on Instagram and Facebook have similarly advertised \"Call of Duty: Zombie Defender\", \"Call of Duty: Sniper\" and \"Crash Bandicoot: Brawl\".",
          "[23][24]\nIn the same month, Activision posted various advertisements and posters for fake video games such as \"Guitar Hero Mobile\", \"Crash Bandicoot: Brawl\", and \"Call of Duty: Zombie Defender\" that were all made using generative AI on platforms such as Facebook and Instagram, which many labelled as AI slop.",
          "“Remaining concept artists were then forced to use AI to aid in their work.” Activision employees were allegedly “made” to sign up for AI training, with its use promoted throughout the business.",
          "The report alleged that 2D artists’ jobs are being replaced by AI at the company.",
          "Fans are expressing dissatisfaction, claiming that the game is using a lot of generative AI content for its cover art and game assets, labeling it as another generic puzzle game.",
          "Note the earring that is only on one ear and seems slightly deformed.",
          "At the centre of the backlash is a loading screen image of Zombie Santa, aka 'Necroclaus,' which some have said shows the undead Father Christmas with six fingers.",
          "This bundle was sold for 1,500 COD Points, the premium virtual currency sold for real-world money that generates hundreds of millions of dollars for Activision each year.",
          "Now Activision is owned by Microsoft, which touted the largest launch ever for Black Ops 6 last fall thanks in part to Game Pass, and has itself been moving full-steam ahead with trying to incorporate generative AI into game development.",
          "Activision recently added a warning label to the Steam page for Call of Duty: Black Ops 6 confirming the game \"uses generative AI tools to help develop some in-game assets\", after players spotted various in-game examples - including a zombie Santa Claus with six fingers.",
          "- ^ \"Call Of Duty Discloses AI Slop After Months Of Players Complaining\".",
          "1,500 COD Points is approximately valued at $15.",
          "- Fans are alleging that the game includes a significant amount of generative AI content.",
          "Others, however, believe the bottom left 'finger' is simply flesh falling off the little finger above it, although there are irregularities with the present boxes and ribbons in the bottom right, too.",
          "A particular example was a loading screen for the zombies game mode that depicted \"Necroclaus\", a zombified Santa Claus with six fingers on one hand, an image which also had other irregularities.",
          "Since the game's initial release, many players had accused Treyarch and Raven Software of using AI to create in-game assets, including loading screens, emblems, and calling cards.",
          "[35]\nIn video games\n[edit]The 2024 video game Call of Duty: Black Ops 6 includes assets generated by artificial intelligence.",
          "Activision's social media post advertising a new entry in the Guitar Hero series is market research for a game that doesn't exist, and is not meant to be an actual announcement, Eurogamer understands.",
          "Call of Duty: Black Ops 6 players have been accusing various loading screens and calling cards from the game of being AI-generated since it came out last fall, but it was only ever based on vibes and the occasional very convincing piece of seemingly obvious AI slop.",
          "Clicking on some of the adverts will take you through to a mocked up mobile store page organised by marketing service Geeklab, and then onto a survey that reveals \"this isn't a real game, but could be some day!\"",
          "Activision reportedly sold an “AI-generated cosmetic” for Call of Duty: Modern Warfare 3 in late 2023.",
          "The Black Ops 6 slop controversy began last October, a week before the game released, with allegations spreading on YouTube of certain prestige emblems looking AI-generated.",
          "\"Activision Reportedly Sold an AI-Generated Call of Duty: Modern Warfare 3 Cosmetic\".",
          "Following the release of the Season 1 Reloaded update, fans noticed a number of telltale signs in Black Ops 6 loading screens, calling cards, and art used to explain how Zombies community events work.",
          "[44] It was heavily criticized by players, who called it shovelware and disapproved of Rovio's use of AI images.",
          "Activision is embroiled in a backlash over Call of Duty Black Ops 6 in-game art that some fans have accused of being \"AI slop.\"",
          "As part of this, Valve has told developers it will include their disclosures on the Steam store page of their game, “so customers can also understand how the game uses AI.” Currently, Call of Duty’s Steam page has no such disclosure.",
          "While it doesn’t elaborate any further on which assets are made with AI and how, the confession has reaffirmed what some fans had been claiming for months.",
          "But so far, Black Ops 6 has proven generative-AI tools and the current level of quality control around them often can’t even get simple static images on loading screens right.",
          "Activision \"AI slop\" Guitar Hero advert is market research for a fake game that doesn't exist and maybe never will\nCall of Duty and Crash Bandicoot titles also touted.",
          "Wired pointed out that Microsoft, which owns Activision Blizzard after its $69 billion acquisition of the company last year, cut 1,900 staff from its gaming business just months after Activision sold this skin.",
          "Wired pointed out that Microsoft, which owns Activision Blizzard after its $69 billion acquisition of the company last year, cut 1,900 staff from its gaming business just months after Activision sold this skin.",
          "That same year, then CEO Bobby Kotick praised the work being done at OpenAI and other companies, suggesting the technology would be as transformative as the original Macintosh computer.",
          "The report alleged that 2D artists’ jobs were being replaced by AI at the company.",
          "This bundle cost 1,500 COD Points, the premium virtual currency sold for real-world money that generates hundreds of millions of dollars for Activision each year.",
          "The bundle contained a number of virtual items, including an Operator skin, a weapon blueprint, a calling card, a weapon sticker, and a loading screen, all below.",
          "It contains what looks like six fingers with no thumb on-screen, suggesting up to seven digits on this hand.",
          "The second was a zombie Santa holding up hand that had six fingers.",
          "Fortunately, a new SteamDB tag lets players filters games that us generative-AI out of their store searches.",
          "[25] The intention of the posts was later stated to act as a survey for interest in possible titles by the company.",
          "These adverts also include new smartphone games in other Activision franchises such as Call of Duty and Crash Bandicoot that also don't exist (yet) either.",
          "And as others have pointed out, Steam operator Valve now has AI disclosure rules that call on publishers and developers to describe how they use AI in the development and execution of their games.",
          "Artwork for the latter game, hosted on Facebook, again shows obvious use of AI image generation.",
          "Activision’s new disclosure comes after previous reports that developers within the company were encouraged to experiment with new AI tools in their work.",
          "Will any of these Guitar Hero, Crash Bandicoot or Call of Duty smartphone games ever see the light of day?",
          "The appearance of the Zombie Santa was even worse in the context of Zombies mode’s voice actors being replaced amid a SAG-AFTRA strike for greater AI protections in game acting.",
          "“A lot of 2D artists were laid off,” one anonymous Activision artist told the site.",
          "The cosmetic in question was not named, but was linked to the Yokai’s Wrath bundle released in December 2023.",
          "The store did not disclose any use of generative AI for this bundle.",
          "\"Call of Duty Fans Give Black Ops 6's Zombie Santa Loading Screen the Finger Amid 'AI Slop' Backlash\".",
          "“Remaining concept artists were then forced to use AI to aid in their work.” Activision employees were allegedly “made” to sign up for AI training, with its use promoted throughout the business.",
          "The release of the Zombie Santa image sparked a closer look at other images in Black Ops 6, which some in the Call of Duty community have now called into question.",
          "\"Activision accused of \"AI slop\" yet again, this time for new Guitar Hero\".",
          "Market research questions then include queries asking users what made them click on the advert and what gameplay features they expected the game to include, based on the fake advert.",
          "The store did not disclose any use of generative AI for this bundle.",
          "The developers describe how their game uses AI generated content like this: “Our team uses generative AI tools to help develop some in game assets,” reads the disclosure on Valve’s storefront, recently spotted by CharlieIntel.",
          "In a report from Wired on the impact of generative AI on the video game development industry and concern among many within it about the threat to their livelihoods, it is alleged that Activision “made an AI-generated cosmetic available for purchase on the Call of Duty: Modern Warfare 3 store.”\nThe cosmetic in question is not named in the article, but it is linked to: the Yokai’s Wrath bundle released in December 2023.",
          "Another image of a gloved hand was used to show off a new Zombies community event.",
          "[36] The previous entry in the Call of Duty franchise was also accused of selling AI-generated cosmetics.",
          "It’s worth pointing out that Wired did not specify which part of this bundle was AI-generated, or indeed whether all of it was.",
          "In July, Wired reported that Activision sold an “AI-generated cosmetic” for Call of Duty: Modern Warfare 3 last year.",
          "“A lot of 2D artists were laid off,” one anonymous Activision artist told the site.",
          "[37]\nIn February 2025, Activision disclosed Black Ops 6's usage of generative artificial intelligence to comply with Valve's policies on AI-generated or assisted products on Steam.",
          "The game featured AI-generated images for loading screens and backgrounds.",
          "If and when they do, however, here's hoping Activision hires some actual humans to work on their artwork.",
          "Despite the backlash, the game has a mostly positive rating on Steam and is in the top 20 of most played games on the platform.",
          "One squirrel-like character appears to be missing half a face.",
          "A report by Wired claimed an entire paid cosmetic was made with help from AI in 2023's Modern Warfare, after the publisher had greenlit the tools for help with making concept art and marketing materials.",
          "One loading screen included a black glove with six fingers holding billiard balls.",
          "\"Activision \"AI slop\" Guitar Hero advert is market research for a fake game that doesn't exist and maybe never will\"."
         ],
         "marker": {
          "opacity": 0.5,
          "size": 5
         },
         "mode": "markers+text",
         "name": "Activision's Use of Generative AI in Gaming",
         "text": [
          "",
          "",
          "",
          "",
          "",
          "",
          "",
          "",
          "",
          "",
          "",
          "",
          "",
          "",
          "",
          "",
          "",
          "",
          "",
          "",
          "",
          "",
          "",
          "",
          "",
          "",
          "",
          "",
          "",
          "",
          "",
          "",
          "",
          "",
          "",
          "",
          "",
          "",
          "",
          "",
          "",
          "",
          "",
          "",
          "",
          "",
          "",
          "",
          "",
          "",
          "",
          "",
          "",
          "",
          "",
          "",
          "",
          "",
          "",
          "",
          "",
          "",
          "",
          "",
          "",
          "",
          "",
          "",
          "",
          "",
          "",
          "",
          "",
          "",
          ""
         ],
         "textfont": {
          "size": 12
         },
         "type": "scattergl",
         "x": {
          "bdata": "qW5Hv6CySL+9L0+/HtY7v/9ear8AFsG/sorBv6MAFr+6VBO/iotyv8k0Rb/QBWm/Hn9tv6E5Q7+8LG6/owaBv8RNar+MF06/euFHv4CnXr+weHG/x7tkv8apxL9F6Hq/Z9zEv/1UVb/qBXm/1w9av6opb79zyqG/x+OBvwftSL/LwUW/90xwv4UOxL82IDq/suI5v4PAKr9B9hK/Z2Rqv0hydL+Ug0u/xkhdv20SQr8mJcO/esnEv6zMPb9DHDe/Q+Evv4vKxr+WfW6/z+Yev/wSVr+E+S+/fsJ3v+Y9Gr8/9Wm/G6S1v3gLxb+Zfz+/eDZAv0M2T79lSl2/aH9gvwh6M7+5WE6/XXoWv6WTWL9eaz2/uQkgvym1mL89MEW/t1pSvyYzUL87wsO/",
          "dtype": "f4"
         },
         "y": {
          "bdata": "UWobQTE/KUEHGCpB2mYrQY0SJ0GxuiBBAtYgQUuKK0FprCtBA4EsQec5G0EI3x5B3c0mQcPEJ0HMASRBhKQjQVUSJ0EI8CxBTXgbQRmLHUGlDiRBl3gmQcWcIEFG/CJBMnsgQZ7iJ0H6ICRBfdMnQS9CIUFaPylBSj4kQYx/KkFNVixBn0slQcWgIEFDrihBd+0oQdgFKkETzitBFgUnQR9ZJkFz0RtBKpodQY7VKkHohiBBfqggQQIJK0HDry9B1aUqQbO+IEFpFB9BJeAqQbTcJ0E6uSZBaBAhQRkrK0E40x9BIVohQSRkIEEmESdBOT0sQQBJKEHraR5Bel8nQYObJkGr5idBG8kqQRHMJkHJQy5B/jgrQeNLKUHvCxtBBNonQU5eHEFGpiBB",
          "dtype": "f4"
         }
        },
        {
         "hoverinfo": "text",
         "hovertext": [
          "But Coca-Cola, which is a major force in advertising, appears to be pushing headlong into A.I.",
          "The reaction online has been overwhelmingly negative, with comments on the YouTube video and across social media calling it \"slop,\" \"embarrassing,\" and \"creepy.\"",
          "The company's latest take on that ad, however, isn't inspiring the Christmas spirit in a lot of fans.",
          "You can watch the 16-second spot here, which in some ways is largely similar to the original, from the soundtracks to that big, lit-up truck.",
          "With temperatures dropping, nights growing longer and decorations starting to appear in store windows, the holidays are on their way.",
          "Neeraj Arora, the chair of marketing research and education at the University of Wisconsin-Madison, said the reason why the company faced backlash for this specific advertisement, and not for “Masterpiece” last year, could be because many consumers recognize Christmas as an integral part of the company’s brand, and AI technology acts as a disruption.",
          "\"Coca-Cola's Holiday Ads Trade the 'Real Thing' for Generative A.I.\"",
          "\"Coca-Cola's New AI-Generated Holiday Ad Slammed as 'Soulless' and 'Embarrassing': 'This Is Such Slop'\".",
          "Over 14 years ago, people were recreating the Coca Cola Christmas ad in GTA San Andreas and it still came off as more authentic than this tripe.",
          "But if something feels a little off, it's because it was Coca-Cola's first ad to be fully generated by artificial intelligence.",
          "Toys “R” Us received criticism in June for a commercial created with OpenAI’s tool Sora that portrayed a boy walking through a toy aisle with wonderment until he was joined by the company’s mascot, Geoffrey the Giraffe.",
          "Supported by\nCoca-Cola’s Holiday Ads Trade the ‘Real Thing’ for Generative A.I.",
          "“The brief was, we want to bring Holidays Are Coming into the present and then we explored AI as a solution to that.”\nIt's safe to say that a lot of people on the internet would've preferred Coca-Cola modernizing the ad in another way, however.",
          "“Your holidays are a time of connection, time of community, time to connect with family, and that’s sort of a big part of what the holidays are about,” Arora said.",
          "“The Coca-Cola Company has celebrated a long history of capturing the magic of the holidays in content, film, events and retail activations for decades around the globe,” a spokesman for the company said in a statement provided to The New York Times.",
          "One of the season’s stalwarts, however, is feeling a little less cozy for some people: Coca-Cola, known for its nostalgia-filled holiday commercials, is facing backlash for creating this year’s ads with generative artificial intelligence.",
          "So that is a huge benefit.”\nCoca-Cola has responded to the backlash yet, but it might lose some soda drinkers to Pepsi in the meantime.",
          "In fact, the reception is so harsh that it's actually pretty difficult to find any positive sentiment.",
          "“So we challenged ourselves to explore the concept of what a Coke from the future might taste like.”\nAlex Vadukul is a features writer for the Styles section of The Times, specializing in stories about New York City.",
          "“’Tis the season,” a jingle chirps, “it’s always the real thing.” The tag line, pushing Coke’s “real thing” slogan, is juxtaposed with a disclaimer: “Created by Real Magic AI.”\nThe internet pile-on arrived swiftly as consumers decried the commercials as uncanny valleyesque perversions of the company’s classic ads.",
          "is actually a much better tool.”\nCoca-Cola worked with three A.I.",
          "“Coca-Cola just put out an ad and ruined Christmas,” Dylan Pearce, one of the campaign’s many critics, said on TikTok, adding, “To put out slop like this just ruins the Christmas spirit.”\n“This is legit heartbreaking,” another user, De’Vion Hinton, posted on X.",
          "Toys “R” Us provoked controversy with an AI-generated ad in April last year.",
          "The ads depict squirrels and rabbits peeking out to watch the passing caravans and a man being handed an ice-cold bottle of cola by Santa Claus.",
          "Coca-Cola is facing backlash online over an artificial intelligence-made Christmas promotional video that users are calling “soulless” and “devoid of any actual creativity.”\nThe AI-made video features everything from big red Coca-Cola trucks driving through snowy streets to people smiling in scarves and knitted hats holding Coca-Cola bottles.",
          "Coca-Cola had a similar misfire with its AI-generated Christmas ad, which paid homage to its 1995 “Holidays are coming” commercial.",
          "This isn’t the first time that Coca-Cola has used AI technology in its marketing strategies and programs.",
          "The company also announced in a news release that month that it would be partnering with artists to create artwork using Coca-Cola’s creative archives and AI technology.",
          "“This year, we crafted films through a collaboration of human storytellers and the power of generative A.I.”\n“Coca-Cola will always remain dedicated to creating the highest level of work at the intersection of human creativity and technology,” the statement added.",
          "Pratik Thakar, a vice president of Coca-Cola and the company’s global head of generative A.I., discussed the project in a recent interview with Ad Age, which previewed a screening of one of the spots at its Emerging Tech Summit last week.",
          "If a billion dollar company like coca cola cant pay real artists, actors, directors, etc to promote their product what precedent does this set for the rest of the market?,\" wrote one person on the YouTube video.",
          "Why holiday events?",
          "Not only were the ethics of the endeavour questioned, the advert’s quality was pulled apart and branded ‘soulless’ and ‘devoid of any actual creativity’.",
          "- ^ \"Coca-Cola causes controversy with AI-generated ad\".",
          "The company's European CMO, Javier Meza, explained the decision in an interview with Marketing Week, saying Coca-Cola wanted to bring this year's holiday commercial to \"today's times.\"",
          "Coca-Cola will always remain dedicated to creating the highest level of work at the intersection of human creativity and technology.\"",
          "https://t.co/3BmQWBP3uF pic.twitter.com/rXZ81kkEhN\n— 𝔑𝔞𝔱𝔥𝔞𝔫 (@TheNathanNS) November 15, 2024\n\"Coca Cola decided to have its polar bears take a giant AI shit under the Christmas Tree,\" wrote @joerussotweets on X/Twitter.",
          "Coca-Cola is not the first legacy brand to draw backlash for using generative A.I.",
          "Last year, the company released a limited edition drink, Coca-Cola Y3000, that boasted on the can’s label: “Co-Created with AI.”\n“We hope that Coca-Cola will still be as relevant and refreshing in the year 3000 as it is today,” the company said in a statement at the time.",
          "This year, we crafted films through a collaboration of human storytellers and the power of generative AI.",
          "The company’s nostalgia-filled commercials are a holiday tradition, but this year’s ads are facing backlash for dipping into the uncanny valley.",
          "[20] In response to the negative feedback, the company defended their decision to use generative artificial intelligence stating that \"Coca-Cola will always remain dedicated to creating the highest level of work at the intersection of human creativity and technology\".",
          "“We keep our roots in our heritage and what Coke is all about as a brand, but then connect the dots with the future and technology,” Mr. Thakar told Ad Age.",
          "But, instead of reviving the holiday magic of the original commercial, the AI advert sparked backlash online.",
          "The three commercials, which pay tribute to the company’s beloved “Holidays Are Coming” campaign from 1995, feature cherry-red Coca-Cola trucks driving through sleepy towns on snowy roads at night.",
          "“Coca Cola has been the gold standard in branding and advertising for decades.”\nAlex Hirsch, an animator and the creator of the Disney series “Gravity Falls,” expressed a sentiment that other creative professionals have shared online, noting that the brand’s signature red represented the “blood of out-of-work artists.”\nThe company, however, is sticking by the ads.",
          "Or, as one commenter put it: \"This is as heartwarming as an aluminum tree.\"",
          "In a statement, a Coca-Cola spokesperson said, \"The Coca-Cola Company has celebrated a long history of capturing the magic of the holidays in content, film, events and retail activations for decades around the globe.",
          "But, most importantly: \"Coca Cola is banned from Ba Sing Se.\"",
          "The ad, which was created in collaboration with three AI studios, features AI-generated animals and red Coca-Cola lorries.",
          "As users pointed out, low-effort content like this shows a clear lack of respect for the audience.",
          "\"It’s actually soooo concerning that a brand as big as Coca Cola is doing this,\" added another X/Twitter user.",
          "[17][18]\nIn advertising\n[edit]In November 2024, Coca-Cola used artificial intelligence to create three commercials as part of their annual holiday campaign.",
          "This week, the Labour Party has faced criticism for its TikTok video featuring AI-generated animals.",
          "The video drew criticism from many creatives who argued that it was distasteful for the company to use AI technology to create the video instead of the work of artists.",
          "Alex Hirsch, the creator of the Disney series “Gravity Falls,” commented on an X post that showed the new commercial, which has amassed over 56 million views, “FUN FACT: @CocaCola is ‘red’ because it’s made from the blood of out-of-work artists!",
          "“But then you throw AI into the mix that is not a fit, that is not a fit with holiday timing, but also, to some degree, also Coke, what the brand means to people.”\nToys R Us faced similar backlash online over the summer for an AI-made commercial that depicted the company’s late founder in a bike shop alongside the brand mascot.",
          "\"Over 14 years ago, people were recreating the Coca Cola Christmas ad in GTA San Andreas and it still came off as more authentic than this tripe,\" wrote one X/Twitter user.",
          "These videos were immediately met with negative reception from both casual viewers and artists;[19] the animator Alex Hirsch, the creator of Gravity Falls, criticized the company's decision not to employ human artists to create the commercial.",
          "In March 2023, Coca-Cola collaborated with OpenAI to release one of its first AI-generated commercials, called “Masterpiece,” which showed paintings and sculptures in an art museum come to life and pass around a bottle of Coca-Cola.",
          "When it comes to famous Christmas commercials, there aren't too many that are more iconic and nostalgic than Coca-Cola's 1995 \"Holidays Are Coming\" spot.",
          "The video was meant to pay homage to the company’s 1995 commercial “Holidays Are Coming,” which featured similar imagery, but with human actors and real trucks.",
          "But Jason Zada, founder of one of the three AI studios Coca-Cola worked with to create the ad, touted the efficiency of using the technology to craft the spot."
         ],
         "marker": {
          "opacity": 0.5,
          "size": 5
         },
         "mode": "markers+text",
         "name": "Coca-Cola Christmas AI Controversy",
         "text": [
          "",
          "",
          "",
          "",
          "",
          "",
          "",
          "",
          "",
          "",
          "",
          "",
          "",
          "",
          "",
          "",
          "",
          "",
          "",
          "",
          "",
          "",
          "",
          "",
          "",
          "",
          "",
          "",
          "",
          "",
          "",
          "",
          "",
          "",
          "",
          "",
          "",
          "",
          "",
          "",
          "",
          "",
          "",
          "",
          "",
          "",
          "",
          "",
          "",
          "",
          "",
          "",
          "",
          "",
          "",
          "",
          "",
          "",
          "",
          "",
          "",
          "",
          ""
         ],
         "textfont": {
          "size": 12
         },
         "type": "scattergl",
         "x": {
          "bdata": "Vh+wQG5Fn0D3DK5Azi6qQL/2pkCAhK1ArR6vQFW8q0AI/atA81ewQPierUCLOK5ACQ6uQNIUp0DxuahAxEuuQLW8qEDK5p1ASVGqQHSkrECU2K9AUaWrQJrmrUBOSKlAzFOsQF4drUAa1LFAodyuQI2erkBz0a1AvYSoQMaOpUAd+6FAwtKvQGQSqUBVKa5Ah1mvQNFzsEBrla5A1DOuQJ4SrEB5XK9A+iatQOFbrUCoJqlA9BqoQOV2qUCQnKhAo8yoQCm2rUAkj5pAKLuqQMkcr0AYEJ9A+K2eQHAYqEDhJq9ADfSqQAPtn0Dk6K5AsUmpQKfpqkDfja1A",
          "dtype": "f4"
         },
         "y": {
          "bdata": "l3nfQAEMzUDcQdNAAfPVQDaK3UDo6dJAk/rXQIu71UDbe9RAqTDbQCj10UApbtpAL5fXQBhI3kAr49tApaXWQCI42EAt0sxAqJjkQKNN1UC3tN5ALsLTQDii0UAq0ttA1A7VQCD91UDMLd1AgV7fQBvv30CSEuFAhyzXQGTP3kAtJs5AXRzZQKEI20B1juBAPJ7ZQBX02UAM4t9AtanfQP5600CaUt1AY8fiQKoU00BMo9pA2XbZQGh700B+ZdtA4KfYQP5U3kDeHclAjqXVQA4T3kCp2stAAAnMQN8L1kCO5tJA+TjUQI9xzUCGo99AWPXaQAiJ10CTLt5A",
          "dtype": "f4"
         }
        },
        {
         "hoverinfo": "text",
         "hovertext": [
          "And what did the venue look like?",
          "This article is more than 1 year old\nWilly Wonka event leaves bitter taste with artificially sweetened promises\nCharlie and the AI factory flop compared to 'meth lab'\nIn the most flagrant case of false advertising since The NeverEnding Story, cops were called to a Wonka-themed \"Willy's Chocolate Experience\" in Glasgow, Scotland, because promotional material was made entirely from AI-generated slop.",
          "Were there any sweet treats?",
          "\"INDULGE IN A CHOCOLATE FANTASY LIKE NEVER BEFORE – CAPTURE THE ENCHANTMENT™\" the website drools.",
          "A world of pure imagination it most certainly was not.",
          "The stinger is that the event run by The House of Illuminati cost £35 ($44) a ticket.",
          "In an interview with The New York Times, attendee Stuart Sinclair described the venue.",
          "All that considered, it’s not terribly surprising that a recent event billed as “Willy’s Chocolate Experience” went terribly, terribly awry.",
          "What happened at the event?",
          "\"\"Willy's Chocolate Experience\" Nightmare: What Went Wrong?\".",
          "“When I got the script the night before I was like, Oh, this is not…” Upright Citizens Brigade should have sent a cease and desist letter right then and there.",
          "Held at the Box Hub, a warehouse event space in Glasgow, Willy’s Chocolate Experience contained some shoddily thrown together Wonka–esque decorations, a handful of circular tables and folding chairs, some AI-printed images to decorate the walls, a smoke machine, and a sparkly rainbow for children to walk under.",
          "It was almost like they were secondhand.” Jenny Fogarty, who also played an Oompah Loompa, told The Scotsman that “the wigs were very cheap.",
          "What they found when they arrived was a scene straight out of the Saw franchise.",
          "The true grimness of the situation is effectively captured in this footage, Gizmodo compiled a side-by-side comparison of AI mulch and the reality here, while an actor hired to play \"Wonka\" shared his harrowing tale with The Independent.",
          "Well, they didn’t lie about that: Willy’s Chocolate Experience was certainly unique.",
          "a place full of bad things!!!",
          "Any chocolate?",
          "Not 1 single picture giving people an idea of what they are shelling out money for and yet people are buying up tickets.”\n“Indulge in a Chocolate fantasy like never before,” read the website.",
          "“Has anyone else been getting FB ads for ‘Willy’s Chocolate Experience?’” wrote Reddit user, @Prestigious_Try4610, clearly onto the scam.",
          "The costumes were similarly subpar.",
          "\"Sold a dream and delivered a nightmare,\" wrote one.",
          "\"Dive into the whimsical of [sic] Willy's Chocolate Experience!, a place where chocolate dreams become reality.",
          "But instead of a technicolor dreamworld of candy and chocolate inspired by the 2023 Hollywood reboot of Roald Dahl's story, children were left crying because the whole thing was a handful of sad props in a desolate warehouse with an \"Oompa Loompa\" who looked like \"she's running a literal meth lab and is seriously questioning the life choices up until this point.\"",
          "“They were so inappropriate for what it was,” said Paterson.",
          "Note that it’s named after “Willy” but not “Wonka.”\nClearly, Willy’s Chocolate Experience made Fyre Festival look like a stay at the White Lotus.",
          "Per Connell, he was hired a few days before the event, then was handed an “AI-generated gibberish” script and told he could “do whatever you want.” Kirsty Paterson, an aspiring actor/fire dancer/yoga instructor who portrayed an Oompah Loompa that went viral, told Vulture she took the job because it offered £500 for two days of work.",
          "“It was just strange, and they were really cheaply made.",
          "“It was very disappointing to see how many people turned up at this event and found basically me dressed up as Willy Wonka in a half-abandoned warehouse,” he said.",
          "“But I’d signed the contract, and part of me didn’t want to disappoint the kids going to this.” Similarly, Connell felt bad for the children subjected to Willy’s Chocolate Experience.",
          "If you stop and think about it, Willy Wonka’s chocolate factory is an absolutely terrifying place.",
          "What did the performers have to say about the event?",
          "Can you explain what happened?",
          "But when she arrived to the dress rehearsal and saw the script, she too had misgivings.",
          "Have Roald Dahl’s estate or Warner Bros. released a statement about the event yet?",
          "\"In some ways, it was a world of imagination, like imagine that there is a whole chocolate factory here,\" he quipped.",
          "According to Sinclair, the children were given “two jelly beans each” and then a “half cup of lemonade.” To make matters worse, Sinclair said there wasn’t even any chocolate.",
          "We were just handed an Amazon box that probably arrived that morning.” Nothing worse than a shake-and-go wig.",
          "Update: March, 1st, 3:00 p.m ET: Things have gotten even wilder in the world of Willy's Chocolate Experience.",
          "A lunatic millionaire lures a group of children and their unwitting parents to his massive estate, where they are expected try his non-FDA approved concoctions—and, one by one, are horribly disfigured in the process.",
          "Book your adventure now and embark on a journey filled with wondrous creations and enchanting surprises at every turn!\"",
          "What did the organizers of the event have to say for it?",
          "“I was like, I don’t know if I actually want to do this,” said Paterson, per Vulture, when she arrived for the gig the next day.",
          "“There was maybe 20 chairs, a couple of tables and a half-inflated bouncy castle,” said Sinclair, who traveled over two hours to bring his three kids to the event.",
          "Families that turned up early immediately complained, with one parent calling it an \"absolute shambles of an event,\" which caused the company to cancel it midway through the opening day on February 24.",
          "Wonka is rolling over in his grave.",
          "Last weekend, families traveled from all over the UK for what they believed would be an immersive experience in keeping with Roald Dahl’s beloved children’s book, Charlie and the Chocolate Factory, the source material for the 1971 film Willy Wonka and the Chocolate Factory and the 2023 prequel Wonka, starring Timothée Chalamet as the eccentric chocolatier.",
          "So, what was Willy’s Chocolate Experience, and how did everything go so wrong, so quickly?",
          "The event had no affiliation with Roald Dahl’s estate or Warner Bros.",
          "Paul Connell, a stand-up comedian who was hired to play Willy himself, took to social media to explain how he got caught up in the whole mess.",
          "Despite the hype, the advertisements for Willy’s Chocolate Experience failed to include any actual pictures of the event, instead relying on illustrated images—which one shrewd Reddit user noticed.",
          "However, later attendees were not informed of the stunt's doom, and people kept trying to file through the doors to endless disappointment (sung to the tune of \"Pure Imagination,\" no doubt), but were turned away.",
          "‘The Unknown’ is an evil chocolate maker who lives in the walls,’” said Connell.",
          "Actually, on second thought: The Experience may have had more in common with The White Lotus, because certainly many dreams died in that warehouse.",
          "The event promised attendees a paradise of sweet treats, chocolate fountains, live performances by Oompa Loompas, an appearance by Wonka himself, and “a celebration of chocolate in all its delightful forms.” There would be an Enchanted Garden, Twilight Tunnel, and Imagination Lab that, the event’s website ensured, would captivate and enchant anyone ages three and above.",
          "Where did this all go down?",
          "\"Willy Wonka event leaves bitter taste with artificially sweetened promises\".",
          "Equally baffling is that it was all waved through by the event organizers.",
          "Put on by London-based event company House of Illuminati, Willy’s Chocolate Experience was intended to be an immersive, magical activity for children and their families.",
          "“At the end of my monologue, I was supposed to suck up the unknown man with a vacuum cleaner.",
          "[27]\nIn event listings\n[edit]Fantastical promotional graphics for the 2024 Willy's Chocolate Experience event, characterized as \"AI-generated slop\",[28] misled audiences into attending an event that was held in a lightly decorated warehouse."
         ],
         "marker": {
          "opacity": 0.5,
          "size": 5
         },
         "mode": "markers+text",
         "name": "Controversial Willy's Chocolate Event",
         "text": [
          "",
          "",
          "",
          "",
          "",
          "",
          "",
          "",
          "",
          "",
          "",
          "",
          "",
          "",
          "",
          "",
          "",
          "",
          "",
          "",
          "",
          "",
          "",
          "",
          "",
          "",
          "",
          "",
          "",
          "",
          "",
          "",
          "",
          "",
          "",
          "",
          "",
          "",
          "",
          "",
          "",
          "",
          "",
          "",
          "",
          "",
          "",
          "",
          "",
          "",
          "",
          "",
          "",
          "",
          "",
          "",
          "",
          "",
          "",
          "",
          ""
         ],
         "textfont": {
          "size": 12
         },
         "type": "scattergl",
         "x": {
          "bdata": "p0YXv/5QCb8iPha/g6YMv+FQ577KKfS+Thgov4IjEL/peh+/rbILvypcBb57fBS/wHt5vix4BL/EFAe/EqIVv8ZNxr69Yum+qN8SvznqEb/Ck02+QxcIv1OS877EKvu+3s5svh0yGr/OhY6+lTxhvpq+Fb/Ka+m+TGbzvitTG79AFxu/EEcWvpGv+75X6c++niQSv0acTL7aeQG/lPEEv9n7FL8X6yS/PpAyvlJGMr/p+w2/olIDv4hNA7+FHg+/WuoCv4/uur67dA2/+3clvw39zL47lA6/c4cFvyM+Hb8L0g2/pHw/v2MPGr8242W+7rsBvw==",
          "dtype": "f4"
         },
         "y": {
          "bdata": "fpbDQJs43EDXEd1A2zTdQHYT3kAO3bVAXQvIQKAD2UDhxcBA2ezZQKok0kDe7tlA3LTWQEBP20DVH9tAg/LZQJwL30CazeBAIc/cQGkL20AZatVAqcbaQIfC3kAyc9tAc23TQBOd2UD4MNVAeozWQGP/zkB8XNVALA/eQEevwUAMsMJA0BjSQKWt30AFSN5AI8nZQL851kDBa9pAxKLcQBFq4EBgrLxAtt7SQKyHy0CV0rhAwmHeQOLP3UBUethA7UfeQNao00AzjttAtG3RQGb820A0j9lAyN/dQHuswUAAn9pA3yi5QMdK2kDzrtJA6dPbQA==",
          "dtype": "f4"
         }
        },
        {
         "hoverinfo": "text",
         "hovertext": [
          "As two catastrophic storms upended American cities, a patchwork network of influencers and fake-news peddlers have done their best to sow distrust, stoke resentment, and interfere with relief efforts.",
          "- Misinformation: Fact-checking is more important than ever.",
          "On The Colbert Report, back in 2005, Stephen Colbert coined the word truthiness, which he defined as “the belief in what you feel to be true rather than what the facts will support.” This reality-fracturing is the result of an information ecosystem that is dominated by platforms that offer financial and attentional incentives to lie and enrage, and to turn every tragedy and large event into a shameless content-creation opportunity.",
          "This article previously stated that Bradley Boone is the assistant fire chief in Pensacola, Florida.",
          "What is clear from comments such as Kremer’s is that she is not a dupe; although she may come off as deeply incurious and shameless, she is publicly admitting to being an active participant in the far right’s world-building project, where feel is always greater than real.",
          "Sometimes, of course, you can get reliable information too; maybe even most of the time.",
          "But on the other hand, the information didn’t just come from one source; it was disseminated across a network of influencers and presumably shared further among people who knew and trusted each other.”\n“Not everything on the site was fake,” he added.",
          "But as Michael Caulfield, an information researcher at the University of Washington, has argued, “The primary use of ‘misinformation’ is not to change the beliefs of other people at all.",
          "These days the general public would be well advised to assume an air of skepticism toward ... well, anything really.",
          "In one sense, these attacks—and their increased desperation—make sense.",
          "And this is because of all the misinformation provided by the journalists.",
          "But this is more than just a misinformation crisis.",
          "“I’m leaving it because it is emblematic of the trauma and pain people are living through right now.”\nKremer wasn’t alone.",
          "Now the reckoning is happening on very different terms.",
          "Even in a decade marred by online grifters, shameless politicians, and an alternative right-wing-media complex pushing anti-science fringe theories, the events of the past few weeks stand out for their depravity and nihilism.",
          "Angry, embittered citizens have been harassing government officials in North Carolina, as well as FEMA employees.",
          "Trump also posted (and later deleted) on Truth Social that FEMA money was given to undocumented migrants, which is untrue.",
          "“On the face of it, it seems strange that people would believe it,” said Nick Anstead, an associate professor in the Department of Media and Communications at the London School of Economics and Political Science.",
          "It is a strategy designed to silence voices of reason, because those voices threaten to expose the cracks in their current worldview.",
          "To watch as real information is overwhelmed by crank theories and public servants battle death threats is to confront two alarming facts: first, that a durable ecosystem exists to ensconce citizens in an alternate reality, and second, that the people consuming and amplifying those lies are not helpless dupes but willing participants.",
          "The pandemic saw Americans, distrustful of authority, trying to discredit effective vaccines, spreading conspiracy theories, and attacking public-health officials.",
          "I’m Running Out of Ways to Explain How Bad This Is\nWhat’s happening in America today is something darker than a misinformation crisis.",
          "Rather than deal with the realities of a warming planet hurling once-in-a-generation storms at them every few weeks, they’d rather malign and threaten meteorologists, who, in their minds, are “nothing but a trained subversive liar programmed to spew stupid shit to support the global warming bullshit,” as one X user put it.",
          "According to an analysis by the Institute for Strategic Dialogue, an extremism-research group, “Falsehoods around hurricane response have spawned credible threats and incitement to violence directed at the federal government,” including “calls to send militias to face down FEMA.” The study also found that 30 percent of the X posts analyzed by ISD “contained overt antisemitic hate, including abuse directed at public officials such as the Mayor of Asheville, North Carolina; the FEMA Director of Public Affairs; and the Secretary of the Department of Homeland Security.” The posts received a collective 17.1 million views as of October 7.",
          "ET on October 11, 2024\nThe truth is, it’s getting harder to describe the extent to which a meaningful percentage of Americans have dissociated from reality.",
          "In fact, he is based in Pensacola, North Carolina.",
          "Elon Musk, who owns X, claimed—without evidence—that FEMA was “actively blocking shipments and seizing goods and services locally and locking them away to state they are their own.",
          "But the misinformation crisis is not always what we think it is.",
          "What we’re witnessing online during and in the aftermath of these hurricanes is a group of people desperate to protect the dark, fictitious world they’ve built.",
          "“I ain’t got time.",
          "But what feels novel in the aftermath of this month’s hurricanes is how the people doing the lying aren’t even trying to hide the provenance of their bullshit.",
          "But in turning away, they exacerbate a crisis that has characterized the Trump era, one that will reverberate to Election Day and beyond.",
          "The world feels dark; for many people, it’s tempting to meet that with a retreat into the delusion that they’ve got everything figured out, that the powers that be have conspired against them directly.",
          "In Pensacola, North Carolina, Assistant Fire Chief Bradley Boone vented his frustrations on Facebook: “I’m trying to rescue my community,” he said in a livestream.",
          "“If it creates so much fear that my staff doesn’t want to go out in the field, then we’re not going to be in a position where we can help people,” she said in a news conference on Tuesday.",
          "Some of the lies and obfuscation are politically motivated, such as the claim that FEMA is offering only $750 in total to hurricane victims who have lost their home.",
          "Scrolling through these platforms, watching them fill with false information, harebrained theories, and doctored images—all while panicked residents boarded up their houses, struggled to evacuate, and prayed that their worldly possessions wouldn’t be obliterated overnight—offered a portrait of American discourse almost too bleak to reckon with head-on.",
          "It's baffling that so many people fell for it hook, line, and sinker.",
          "“Do not comply with FEMA,” she posted on X.",
          "If you are a weatherperson, you’re a target.",
          "Siding with History’s Villains: Darryl Cooper is no scholar.",
          "Misinformation is too technical, too freighted, and, after almost a decade of Trump, too political.",
          "As Hurricane Milton churned across the Gulf of Mexico last night, I saw an onslaught of outright conspiracy theorizing and utter nonsense racking up millions of views across the internet.",
          "The same goes for journalists, election workers, scientists, doctors, and first responders.",
          "(In reality, FEMA offers $750 as immediate “Serious Needs Assistance” to help people get basic supplies such as food and water.)",
          "FEMA Administrator Deanne Criswell said that the volume of misinformation could hamper relief efforts.",
          "A Warship Capsizes: North Korea’s leader, Kim Jong-un, watched the country’s newest 5,000-ton destroyer capsize during its launch in an embarrassing military failure.",
          "!” The clip, which was eventually removed but had been viewed 662,000 times as of yesterday evening, turned out to be from a video of a CGI tornado that was originally published months ago.",
          "Among them: Infowars’ Alex Jones, who claimed that Hurricanes Milton and Helene were “weather weapons” unleashed on the East Coast by the U.S. government, and “truth seeker” accounts on X that posted photos of condensation trails in the sky to baselessly allege that the government was “spraying Florida ahead of Hurricane Milton” in order to ensure maximum rainfall, “just like they did over Asheville!”\nAs Milton made landfall, causing a series of tornados, a verified account on X reposted a TikTok video of a massive funnel cloud with the caption “WHAT IS HAPPENING TO FLORIDA?",
          "This makes them dangerous to people who cannot abide by the agonizing constraints of reality, as well as those who have financial and political interests in keeping up the charade.",
          "Nor does it explain what is really happening, which is nothing less than a cultural assault on any person or institution that operates in reality.",
          "“This is a matter of survival.”\nThe result of this fearmongering is what you might expect.",
          "Instead, the vast majority of misinformation is offered as a service for people to maintain their beliefs in face of overwhelming evidence to the contrary.” This distinction is important, in part because it assigns agency to those who consume and share obviously fake information.",
          "Other influencers, such as the Trump sycophant Laura Loomer, have urged their followers to disrupt the disaster agency’s efforts to help hurricane victims.",
          "This collides with a swath of people who would rather live in an alternate reality built on distrust and grievance than change their fundamental beliefs about the world.",
          "So much of the conversation around misinformation suggests that its primary job is to persuade.",
          "I ain’t got time to chase down every Facebook rumor … We’ve been through enough.”\nIt is difficult to capture the nihilism of the current moment.",
          "Online, first responders are pleading with residents, asking for their help to combat the flood of lies and conspiracy theories.",
          "As one dispirited meteorologist wrote on X this week, “Murdering meteorologists won’t stop hurricanes.” She followed with: “I can’t believe I just had to type that.”\nWhat is clear is that a new framework is needed to describe this fracturing.",
          "But legions of fans — many on the right — can’t seem to resist what he presents as hidden truths.",
          "Americans are divided not just by political beliefs but by whether they believe in a shared reality—or desire one at all."
         ],
         "marker": {
          "opacity": 0.5,
          "size": 5
         },
         "mode": "markers+text",
         "name": "Misinformation and Conspiracy During Hurricanes",
         "text": [
          "",
          "",
          "",
          "",
          "",
          "",
          "",
          "",
          "",
          "",
          "",
          "",
          "",
          "",
          "",
          "",
          "",
          "",
          "",
          "",
          "",
          "",
          "",
          "",
          "",
          "",
          "",
          "",
          "",
          "",
          "",
          "",
          "",
          "",
          "",
          "",
          "",
          "",
          "",
          "",
          "",
          "",
          "",
          "",
          "",
          "",
          "",
          "",
          "",
          "",
          "",
          "",
          "",
          "",
          "",
          "",
          "",
          "",
          "",
          "",
          ""
         ],
         "textfont": {
          "size": 12
         },
         "type": "scattergl",
         "x": {
          "bdata": "QAH+PqFzXD9BBZc/041APqECaz/MI4U/8T6BP1PuaT9LL2E/uPqHPylbZT9p7Gc/qGQ1P+qPIED972E//ty7Prk9tz42C2k/HABcP3C3Yj8vLVQ/TBtnP4SzFj9/W8k+mkwEQSIsVD6EbcA+ZJBrP4uIHj+RnEZAVv8SPwAuiz/0nFk/CCeQPm04+T7NmsI+GW4kP8f2NL9OILU+askYP+j0bz/KPF8/3b8FP787gD8jaL4+GIjFPqb+AD9qhC0/XbPtPvO5ZT+YVFg/vA8vPwHfZT9Oh8o+3vZlP7PabD+5Q1w/UlPpPqHaHj8AQ3A/tW1xPw==",
          "dtype": "f4"
         },
         "y": {
          "bdata": "VakWQBN3QEBhLBZACckbQG1jFUCkIUJAEB9DQALaPkCt8SBAiC//P63JPkBdfztAGvkWQBcSWUCqeR1Ah+AUQFAoCkDNTj9AjLoeQLcNHUC46x9Ak1UrQLw2GUCX6xJA4+sEQaYYHEAQPg9ACiU+QE9uGEBDd5pANyUXQD/wB0B5wR5A0LUYQFGlFkAhMhBAf+wWQMEttkCPeRBArcAZQOdPF0BSuDpA3rcVQMCALECgtBBAKIIWQAVlBUC7KwxAyVwUQPZ5H0BGayJAGfASQLSBP0ArEBRAOf8dQBgFPkCnDB5ABasaQEwLGkCRKhlAUcAdQA==",
          "dtype": "f4"
         }
        },
        {
         "hoverinfo": "text",
         "hovertext": [
          "'No criminal offences'\nA Garda spokesperson said the event will not be investigated as \"no criminal offences were disclosed\".",
          "So many people had gathered for the nonexistent spectacle that the local police announced on social media around 8 p.m., an hour after the parade was supposed to begin, that no event was planned and asked the crowds to “disperse safely.”\nIt seemed like the ultimate trick.",
          "\"Public information on major events including traffic management, transport and public safety advice is often available on the Garda website, Dublin City Council website and from other relevant stakeholders,\" they added.",
          "But they waited and waited (and waited), and a realization settled in: The parade hadn’t arrived.",
          "People waiting for a halloween parade.",
          "When Mr Brosnan arrived, he realised quickly that the parade was not happening.",
          "It took about an hour from the start time for people\n“The Gardaí were trying to clear the street.",
          "Someone did pull a big #hoax #Prank pic.twitter.com/zTQUShZrya\n— Artur Martins (@arturmartins) October 31, 2024\nAnother X user, @liam_b02, shared a clip of the crowds on O'Connell Street taken from a passing bus:\nO’Connell street filled with people waiting for a fake parade #dublin pic.twitter.com/ROteZMGeUp\n— liam (@liam_B02) October 31, 2024\nMeanwhile, the Luas was disrupted due to the unexpected gathering, with Red Line services not running from from Smithfield to The Point and Green Line services not running between St. Stephen's Green and Dominick.",
          "#Dublin\nNo Gardai around, no official announcement, people waiting on the wrong side of the road...",
          "“Clearly, this crowd in Dublin was not a flash mob, but it did have many of the same attributes in terms of how it was created.”\nOnly this time, the mob showed up and nothing was there.",
          "[32] While a similar parade had been held in Galway, and Dublin had hosted parades in prior years, there was no parade in Dublin in 2024.",
          "There was no parade.",
          "However, the disruptions were brief, with social media posts from Luas showing that the stoppages were resolved in less than an hour.",
          "- ^ a b \"All Trick, No Treat: Dublin Crowds Turn Up for Halloween Parade That Wasn't\".",
          "That included a parade in Dublin, with a precise location and start time.",
          "He said it quickly dawned on him “because parades usually have barricades, security, police and some sort of organisation” and he could see no evidence of that, just “vast amounts of people”.",
          "Supported by\nAll Trick, No Treat: Dublin Crowds Turn Up for Halloween Parade That Wasn’t\nThe scariest thing this Halloween?",
          "Full Red and Green Line Line services have resumed with delays while we regulate service.",
          "All those gathered on O’Connell Street in expectation of such a parade are asked to disperse safely.",
          "To get the most out of the experience, arriving early to secure a good viewing spot is recommended, as the parade attracts large crowds and popular sections fill up quickly.\"",
          "Ireland's police force An Garda Síochána was forced to issue a statement on Thursday night, October 31 - Halloween - as crowds of people gathered on Dublin's O'Connell Street.",
          "\"An Garda Síochána advises that members of the public always verify any information online regarding upcoming events from trusted and reputable sources.",
          "Unfortunately for Dubliners, Dublin was picked this year.\"",
          "“All those gathered on O’Connell Street in expectation of such a parade are asked to disperse safely.”\nOne attendee said on X: “People waiting for a Halloween parade.",
          "This Halloween, crowds lined the streets in central Dublin and waited for a parade to begin.",
          "X user @arturmartins shared this photo which illustrated the size of the crowd.",
          "“We were very embarrassed.”\nBut for many people on Thursday, the rectification came too late, as they stood in Central Dublin eagerly awaiting people in costumes but seeing only buses and cars drive by instead.",
          "\"All those gathered on O’Connell Street in expectation of such a parade are asked to disperse safely.\"",
          "How were so many people duped into lining up for a treat they didn’t get, a parade that never was?",
          "A spokesperson said: “Please be advised that contrary to information being circulated online, no Halloween parade is scheduled to take place in Dublin city centre this evening or tonight.",
          "She added: “Everyone is trying to have a fun and safe Halloween.",
          "Peter Farrelly shot video from his window of the crowds gathering at O’Connell Street leaving space along the road for the fake Halloween Parade.",
          "Please be advised that contrary to information being circulated online, no Halloween parade is scheduled to take place in Dublin City Centre this evening or tonight.",
          "No Gardaí around, no official announcement, people waiting on the wrong side of the road...Someone did pull a big hoax.”\nAnother replied: “The real lesson to be learned here is that a lot of people would clearly attend a Halloween parade and Dublin City Council should organise one next year.”\nSinn Fein councillor Janice Boylan said described the situation as “really sad”.",
          "Award-winning performing arts group Macnas have been holding an annual Halloween Parade in Dublin since 2013, with last year’s parade seeing witches, zombie dancers and wolves shuffling down Capel Street.",
          "Gardaí (Irish police) then released a statement saying that no Halloween parade was scheduled and asked those who turned out to \"disperse safely\".",
          "A post, dated October 30, on the site said in part: \"The Dublin Halloween Parade follows a well-planned route that ensures maximum visibility and excitement.",
          "The nonexistent parade in Dublin was said to be put on by Macnas, an Irish theater group that has previously staged parades and held one this year in Galway — but not Dublin.",
          "While there was no Halloween parade on Dublin's O'Connell Street, locals and visitors alike were spoiled for choice for Halloween happenings with several events organized by Dublin City Council.",
          "\"Please be advised that contrary to information being circulated online, no Halloween parade is scheduled to take place in Dublin City Centre this evening or tonight,\" the Irish police force said.",
          "However, smaller text interspersed throughout the lengthy post said \"Dublin Halloween Parade is cancelled!\"",
          "\"The parade usually begins in the late afternoon, with festivities continuing into the evening.",
          "On Thursday, hundreds of people gathered on O'Connell Street in Dublin city centre for the parade but no police or stewards were present.",
          "— Luas (@Luas) October 31, 2024\nOn Thursday evening, a Google search of \"Dublin Halloween parade\" returned a top result for a website called MySpiritHalloween.com.",
          "Chaos in Dublin as thousands turn up for AI ‘hoax’ Halloween parade that didn’t exist\nThousands of Dubliners patiently waited for a Halloween parade that would never come\nThousands of people lined the streets of Dublin eagerly anticipating a Halloween Parade through the city centre - but it never arrived.",
          "It was the first Halloween Parade after a four year hiatus over lockdown - but there were no plans for one in 2024.",
          "I know an awful lot of people turned up.",
          "It was also the festival of Divali last night so a lot of people were out on the street as well.”\nThe situation forced The Gardaí to put out a message for those waiting on O’Connell Street to “disperse safely”.",
          "(Dublin has hosted Halloween parades in past years, but not in 2024.)",
          "The parade never came—but the spectacle of throngs of people milling around for nothing became an event unto itself.",
          "The post promised “spectacular floats to thrilling street performances” and described the route in detail.",
          "It typically starts at Parnell Square, proceeds down O’Connell Street, and concludes at Temple Bar.",
          "The parade was never coming.",
          "\"All trick no treat - \"Hoax\" Halloween parade draws big crowds to Dublin's O'Connell St\".",
          "\"Chaos in Dublin as thousands turn up for AI 'hoax' Halloween parade that didn't exist\".",
          "Having a parade to go to sounded really good.",
          "The parade never even existed.",
          "But when thousands appeared to turn up to line the route from Parnell Street to Christchurch Cathedral, it slowly became clear to those waiting that there was no event.",
          "Hundreds of Dubliners made their way to the city center on Thursday night, excited for a Halloween parade to take place on a mild October evening as they lined up along O’Connell Street, a major thoroughfare.",
          "pic.twitter.com/KmVPFKEZbP\n— An Garda Síochána (@GardaTraffic) October 31, 2024\nSeveral social media posts on Thursday evening posted about the crowds gathering on Dublin's O'Connell Street waiting for a Halloween parade that would never come."
         ],
         "marker": {
          "opacity": 0.5,
          "size": 5
         },
         "mode": "markers+text",
         "name": "Dublin Halloween Parade Hoax",
         "text": [
          "",
          "",
          "",
          "",
          "",
          "",
          "",
          "",
          "",
          "",
          "",
          "",
          "",
          "",
          "",
          "",
          "",
          "",
          "",
          "",
          "",
          "",
          "",
          "",
          "",
          "",
          "",
          "",
          "",
          "",
          "",
          "",
          "",
          "",
          "",
          "",
          "",
          "",
          "",
          "",
          "",
          "",
          "",
          "",
          "",
          "",
          "",
          "",
          "",
          "",
          "",
          "",
          "",
          "",
          "",
          "",
          "",
          "",
          "",
          ""
         ],
         "textfont": {
          "size": 12
         },
         "type": "scattergl",
         "x": {
          "bdata": "q2+pv/7mq7/J9Na/tQi4vysV6L+9M7C/UILUv20KyL91SM6/fXu3v2uR5L87s8K/ttfRv3uC2b+s0Om/n8Kqvy5l2r9qK86/k5Tcv46A8b9hddq/EgrXv8bI5L9aFt2/UVvpvxzowb8sorW/kV3gv03xp78wE+K/PPPJv+NJzb9eLuO/EQ+/v6Mb67+ystq/mM/ov2yA2r8J9+m/DNffv81J37+HVe+/g8bWvx/9wb+iZL+/5wrrv/Lqqr8Lj+G/zEPpv/tRt783Ue+/Mmfrv2Ekur9259e/4yC6v81327/U+r+/RPa3v1Hx6r+3G9i/",
          "dtype": "f4"
         },
         "y": {
          "bdata": "hV21QPzuskBOVLFAYTS0QCCuq0Ajw7ZA51eyQJOfq0DnP69AZIysQDjFqEANxLJACz+wQAKWp0Dem6tAZta3QIxqp0Cct7BAF7+wQDq0rkBlv69AT++xQNNmpkA5p7BAHFWsQKV5rkDSYq5ADjuxQD3ds0DnW6pAQ/akQMk0rUD2UKtAAXStQCI/qEDddrFAlzmqQKl0qUBwm6lAmmWtQGV+qEAh461A1qmvQLwupkDJ/qxAXtapQHYltEBvoLFAHLOoQEM3tEAlBK5AwXSrQIBttEATKahATHOpQP5uskCEALRAG32yQCfJq0DPeqxA",
          "dtype": "f4"
         }
        },
        {
         "hoverinfo": "text",
         "hovertext": [
          "Another niche is about SEO, and how you can be an SEO expert, but I’m not going to reveal those.",
          "I own five websites.",
          "So it is easy for us to generate revenue for that one day—then we don't have to put in effort throughout the year.",
          "I am the owner of a SEO agency.",
          "Unfortunately I do not have enough information to summarize further within the provided guidelines.",
          "It was even on the first position of the first page.",
          "Google is just a search engine, and any person can post anything on it.",
          "Our business model is Google Ads.",
          "And while the internet was never perfectly trustworthy, one epoch-defining breakthrough of Google was that it got us pretty close.",
          "We make websites and we rank them on Google.",
          "It will include links as well, but users who want to limit the response to just a selection of links to other websites will be able to find them – by clicking through to “web” on the search engine, demoted to sit beside “images” and “maps” on the list of options.",
          "But it is not easy to rank on Google’s first page, and our site was ranked on the first page.",
          "We are expecting Google will derank.",
          "summary but a whole stack of “sponsored” results as well.",
          "- Search Engine Confusion: Poorly generated search suggestions, such as Google's infamous recommendation of non-toxic glue for pizza cheese, highlight how AI's lack of context can lead to bizarre and off-putting user experiences.",
          "Google says the AI overviews have strong safety guardrails.",
          "These products are less eerie, which means they have generated little existential angst.",
          "But with the dominant search engines having made A.I.",
          "We have other articles, we have other websites.",
          "The term became more prevalent last month when Google incorporated its Gemini A.I.",
          "We just do work for three or four months, and then we'll get the revenue.",
          "Rather than pointing users toward links, the service attempts to solve a query directly with an “A.I.",
          "Instead, it functions mostly to create the appearance of human-made content, benefit from advertising revenue and steer search engine attention towards other sites.",
          "Humans are involved in the website’s search engine optimization efforts to ensure it ranks highly on sites like Google, he said, but much of the information is produced by A.I.",
          "News organizations have worried about shrinking online audiences as people rely more on A.I.-generated answers and data from Chartbeat, a company that researches internet traffic, indicates that there was an immediate drop in referrals from Google Discover to websites in the first days of A.I.",
          "Answering questions via Google now requires contending with AI-authored “Overview” modules at the top of some search pages, which offer incorrect summaries — “None of Africa’s 54 recognized countries start with the letter ‘K,’” one Overview claimed — just often enough to render them untrustworthy.",
          "Now the company’s chief executive acknowledges that hallucinations are “inherent” to the technology it has celebrated as a kind of successor for ranked-order search results, which are now often found far below not just the A.I.",
          "Are you concerned that Google will downrank you now?",
          "“We’ve added this after hearing from some that there are times when they’d prefer to just see links to webpages in their search results,” wrote Danny Sullivan, the company’s search liaison.",
          "But that dip has since recovered, and in the first three weeks of the overviews, overall search traffic to more than 2,000 major websites in the U.S. actually went up, according to Chartbeat.",
          "overviews.",
          "One more thing is that we posted around 1,400 articles.",
          "One more thing I want to add is that people should not consider Google as the standard.",
          "Could you explain more about your business model.",
          "into its search results on Bing, and it had some immediate missteps, leading Google to declare it would roll back some of its A.I.",
          "How many other websites do you have?",
          "You will be shocked to know that we ranked our site in three months on the Google first page.",
          "on search engines and the internet in general may be less extreme than some would fear.",
          "Where not long ago we used to find the very best results for Google searches, we can now find instead potentially plagiarized and often inaccurate paragraph summaries of answers to our queries — including, reportedly, that only 17 American presidents were white, that Barack Obama is a Muslim and that Andrew Johnson, who became president in 1865 and died in 1875, earned 13 college degrees between 1947 and 2012.",
          "It’s still the first place most of us go to answer questions, to find out what’s happening, and to learn new things.",
          "model into its U.S.-based search results.",
          "Last week, Google announced an ambitious plan to add AI-made answers to the top of some search results, with US-based users the first to experience a full rollout of the “AI Overviews” feature.",
          "Google Ads and affiliate marketing.",
          "So you've only been in operation for three months?",
          "Overview is being presented as a definitive answer, rather than as a place to start an internet user’s research into a given subject.",
          "Overview” — a chunk of text at the top of a results page that uses Gemini to form its best guess at what the user is looking for.",
          "It is not easy to post 1,400 articles in three months and to make them rank in Google."
         ],
         "marker": {
          "opacity": 0.5,
          "size": 5
         },
         "mode": "markers+text",
         "name": "Google Search AI Integration",
         "text": [
          "",
          "",
          "",
          "",
          "",
          "",
          "",
          "",
          "",
          "",
          "",
          "",
          "",
          "",
          "",
          "",
          "",
          "",
          "",
          "",
          "",
          "",
          "",
          "",
          "",
          "",
          "",
          "",
          "",
          "",
          "",
          "",
          "",
          "",
          "",
          "",
          "",
          "",
          "",
          "",
          "",
          "",
          "",
          "",
          "",
          "",
          ""
         ],
         "textfont": {
          "size": 12
         },
         "type": "scattergl",
         "x": {
          "bdata": "5skzQIqrE0DenR9A64AuQF32U0A2/EVAuhVVQNwzMkAbNmRA4h84QOhMX0B7qz1ApT9AQB/qW0CVGI5AyVJnQBxhaUCBuWdA2CISQGtDdkBxMx9A/thjQHPxUEAm8llAOaNgQGPEXUBnsnRACes9QGpBYEALsmFAxohZQJ3VH0AtAklA74EmQFMhZEDeiRBA+VE7QMRdZEB9+1lAyjtXQC6DX0CFW2FAFqQ2QLM9HUDpG1tAFilcQHLOOUA=",
          "dtype": "f4"
         },
         "y": {
          "bdata": "bHVPQP8td0DOLWtAzDdZQJlieUA+WW5AjUBrQNq+X0BAcmlA+65rQOs2bkDxm25A/6RwQKkcc0C3dEJALWR5QJx6UUBRDHlAEIF3QFIqbkBWJ2hAHZBvQA88TEB17GxAc3VqQPxEcUC1Z3pAzLRxQJw8bEBHQGpArst3QM7EdUB4fXZAsRZoQFFldUD783dAcCBvQJKcZ0DGJW1AzCBsQCJRcEAesnFAIpdVQAT4bECvs3NAv8l1QKF6bUA=",
          "dtype": "f4"
         }
        },
        {
         "hoverinfo": "text",
         "hovertext": [
          "TweakTown.",
          "Yahoo News.",
          "Eurogamer.net.",
          "The Verge.",
          "Shadow Magazine.",
          "Heise Online (in German).",
          "The Telegraph.",
          "Intelligencer.",
          "Gizmodo.",
          "The Guardian.",
          "mxdwn Games.",
          "GamingonPhone.",
          "The Atlantic.",
          "The Register.",
          "The New York Times.",
          "News 10 ABC.",
          "Wired.",
          "Business Insider.",
          "AV Club.",
          "Victor Mather, who has been a reporter and editor at The Times for 25 years, covers sports and breaking news.",
          "Eurogamer.net.",
          "IrishCentral.com.",
          "Kotaku.",
          "MobileSyrup.",
          "The Atlantic.",
          "Claire Moses is a Times reporter in London, focused on coverage of breaking and trending news.",
          "Vanity Fair.",
          "NBC News.",
          "Creative Bloq.",
          "Eurogamer.net.",
          "Eurogamer.net.",
          "The Independent.",
          "The Atlantic.",
          "The Conversation.",
          "The New York Times.",
          "BBC News.",
          "Raconteur.",
          "The New York Times.",
          "ISSN 1059-1028.",
          "The Guardian.",
          "Washington Post.",
          "Around the World With The Times\nOur reporters across the globe take you into the field.",
          "The New York Times."
         ],
         "marker": {
          "opacity": 0.5,
          "size": 5
         },
         "mode": "markers+text",
         "name": "Prominent News and Media Outlets",
         "text": [
          "",
          "",
          "",
          "",
          "",
          "",
          "",
          "",
          "",
          "",
          "",
          "",
          "",
          "",
          "",
          "",
          "",
          "",
          "",
          "",
          "",
          "",
          "",
          "",
          "",
          "",
          "",
          "",
          "",
          "",
          "",
          "",
          "",
          "",
          "",
          "",
          "",
          "",
          "",
          "",
          "",
          "",
          ""
         ],
         "textfont": {
          "size": 12
         },
         "type": "scattergl",
         "x": {
          "bdata": "TzkRQLHIBEA8jBJASGkPQNBR/j8TbRFAPasLQJo1DUBEfQ9AyP4NQKxaEUDHpg5AP0sEQNGxDUD8PQNAzv8EQPRRCkDdSwlAiK4NQIMBAUBxlhJA/bgBQAlzEkB9BRBAzIcFQJZQAUDEuds/TVMFQHeREEAFThJAd3wSQCLiC0CYwANAPFcOQFGmAUDM2AVA44wPQM5hA0CDgwJAFscPQJFX/z+hHgJApZsEQA==",
          "dtype": "f4"
         },
         "y": {
          "bdata": "XiQHQXvk/0CVQQhBEuwFQQ77/0BzLgZBd78AQeekAEF/QwZBVZABQRotCEFOpQdBqJUAQQxgAkGr2f9AJRr/QBypBUFLjQBBiDsFQYltAEHeWwhBiVb8QMdBCEEg2AZB2hEBQbkIAUEESQBBmTgAQSCPBUEkJwhBnkAIQfi1AEGGPgBBQGwBQWIEAEFiQABBvKP9QAOH/0BGCQBBJ90BQUaR/kCLyP9AwUQAQQ==",
          "dtype": "f4"
         }
        },
        {
         "hoverinfo": "text",
         "hovertext": [
          "These New Year's Letters have become a staple of New Year's Day recently, and previous ones have discussed the desire to explore NFTs, blockchain games, the metaverse, and more.",
          "\"Square Enix President States the Company Will Be 'Aggressive in Applying AI'\".",
          "Microsoft Gaming CEO Phil Spencer even claimed similar technology would aid in game preservation by making it easier to emulate classics on modern hardware.",
          "\"Square Enix intends to be \"aggressive in applying AI\", says CEO\".",
          "Meanwhile, head of PlayStation Productions and head of product at PlayStation Studios Asad Qizilbash weighed in on AI to say its use in video games is important to Gen Z and Gen Alpha gamers who seek \"personalization across everything.\"",
          "The team hopes this will allow them to not only gives them the chance to \"maximize our sales of new titles, but also to deliver our rich back catalog to more customers and in turn to expand the fan base for our Group’s intellectual properties (IPs).\"",
          "But while Square Enix may be keen, there are many out there that are still sceptical about AI and its implications across the industry.",
          "\"We also intend to be aggressive in applying AI and other cutting-edge technologies to both our content development and our publishing functions,\" he said.",
          "\"Blockchain has been an object of exhilaration and a source of turmoil, but with that in the rearview mirror, we hope that blockchain games will transition to a new stage of growth in 2023,\" said Matsuda, acknowledging the \"sombre string of news stories with blockchain connections\" in 2022.",
          "“In the short term, our goal will be to enhance our development productivity and achieve greater sophistication in our marketing efforts.",
          "Square Enix will be \"aggressive in applying AI\" and other \"cutting-edge technologies\" to its development and publishing functions.",
          "\"In the longer term, we hope to leverage those technologies to create new forms of content for consumers, as we believe that technological innovation represents business opportunities. \"",
          "This news comes weeks after the company's CEO Takashi Kiryu said Square Enix will be \"aggressive in applying AI\" in his annual new year letter.",
          "\"In the short term, our goal will be to enhance our development productivity and achieve greater sophistication in our marketing efforts,\" Kiryu continuted.",
          "In the longer term, we hope to leverage those technologies to create new forms of content for consumers, as we believe that technological innovation represents business opportunities,” the letter read.",
          "In the longer term, we hope to leverage those technologies to create new forms of content for consumers, as we believe that technological innovation represents business opportunities.\"",
          "Perhaps it's telling that Kiryu only briefly mentioned blockchain technology in this year's letter.",
          "Details of the company's Web3 experience Symbiogenesis were revealed last year and Final Fantasy 7 trading card NFTs were released, but news of both has since gone quiet.",
          "As for Blockchain, Kiryu added that Blockchain entertainment/Web 3.0, AI, and the Cloud are three of Square Enix's main \"focus investment fields,\" and that it is \"currently working to modify our organizational structure and optimize our resource allocations to support these efforts.\"",
          "There is also a desire to put plans in place to ensure for easier and greater collaboration between the development and publishing teams at Square Enix in hopes this will make its \"customers even happier than ever before.\"",
          "CEO Takashi Kiryu has shared his annual new year letter, setting the tone for the company in 2024.",
          "On the publishing front, Kiryu reveals the company wants to \"enable greater global collaboration and to promote the shift to digital.\"",
          "\"In terms of new business domains, we previously identified three focus investment fields, namely blockchain entertainment/Web 3.0, AI, and the cloud,\" he said.",
          "Square Enix has a big year ahead of it, as fans will soon be able to enjoy Final Fantasy VII Rebirth, Final Fantasy XVI's second DLC, Final Fantasy 14: Dawntrail, Foamstars, SaGa: Emerald Beyond, and Visions of Mana.",
          "We are currently working to modify our organisational structure and optimise our resource allocations to support these efforts.\"",
          "The outline also includes a short mention of blockchain technology.",
          "Later in the letter Kiryu outlined the company's plans for 2024.",
          "Square Enix intends to be \"aggressive in applying AI\", says CEO\n\"We hope to leverage those technologies to create new forms of content for consumers.\"",
          "“However, we did want to experiment with AI as well.”\nEarlier this year, Square Enix president Takashi Kiryu said in his New Year’s Day letter that Square Enix intends to be “aggressive” in its use of AI in development and publishing.",
          "[39][40][41] Previously, on January 1, 2024, Square Enix president Takashi Kiryu stated in a new year letter that the company will be \"aggressive in applying AI and other cutting-edge technologies to both [their] content development and [their] publishing functions\".",
          "The use of AI is certainly growing in the games industry, so Square Enix is not alone in its plans.",
          "The 2023 new year letter was written by then-CEO Yosuke Matsuda, which doubled down on blockchain technology and NFTs.",
          "You can read the full New Year's Letter from Takashi Kiryu here.",
          "While they don't have dates, Dragon Quest III HD-2D Remake, Dragon Quest XII, and Kingdom Hearts 4 are also on the way in 2024 or beyond.",
          "\"Last year we redefined our overarching mission and goals for these three fields.",
          "Square Enix president Takashi Kiryu has penned a New Year's Letter that outlines some of his vision for the company, and it reveals it plans to \"be aggressive in applying AI and other cutting-edge technologies to both our content development and our publishing functions.\"",
          "We are always exploring new ways to connect with consumers and experiment with different approaches.",
          "\"In the short term, our goal will be to enhance our development productivity and achieve greater sophistication in our marketing efforts.",
          "In turn, Kiryu and Square Enix plan to be, as previously mentioned, \"aggressive in applying AI and other cutting-edge technologies to both our content development and our publishing functions.\"",
          "Earlier this month, Nintendo president Shuntaro Furukawa was asked about the company’s initiatives involving AI."
         ],
         "marker": {
          "opacity": 0.5,
          "size": 5
         },
         "mode": "markers+text",
         "name": "Square Enix's AI Innovation Strategy",
         "text": [
          "",
          "",
          "",
          "",
          "",
          "",
          "",
          "",
          "",
          "",
          "",
          "",
          "",
          "",
          "",
          "",
          "",
          "",
          "",
          "",
          "",
          "",
          "",
          "",
          "",
          "",
          "",
          "",
          "",
          "",
          "",
          "",
          "",
          "",
          "",
          "",
          "",
          "",
          "",
          ""
         ],
         "textfont": {
          "size": 12
         },
         "type": "scattergl",
         "x": {
          "bdata": "wMvnPmhOiT4/RkQ+TVOAPiHu/z0B+Bo/cIN4Pr58/D5sjtY+TWotP5DarT7C6Ss/eselPnD0Gj96RCY/AUstPz426j6Eaq0+DIHjPijv0z7lztI+K7AGP0lk6T6t858+W3w0P1ap8T6Nhug+V/OdPo9Zhz4Ko60+Z+CMPmbU1z6aXu0+igCgPnSZKj+oIL0+To8wP6eBJj8PbcY+B5t5Pg==",
          "dtype": "f4"
         },
         "y": {
          "bdata": "DBlBQYQdPEFhADpBuoA7QaepOEFiPT5BIak7QaNfPUFRtkBBBNk+QdX+PEFZCT5B2oI9QUEgP0F0Hz5BkTQ+QS7fQEFLBj9BJSg/QcjMPUGYUkFB2L4+QYyMP0HHXD5B9s8+QcOBQEHXAkFBIFk8QQDeO0GCIT5B3BU8QVKZQEF6bEBBZn4+QYouP0HVnT5BWt09Qf3wPkFufT1BH6U7QQ==",
          "dtype": "f4"
         }
        },
        {
         "hoverinfo": "text",
         "hovertext": [
          "\"If they told us before the evening we would have removed it.\"",
          "We own this mistake.",
          "I am actually good, but we are highly embarrassed.",
          "We are highly depressed that everyone is reporting against us.",
          "But the mystery writer does apologize and take full responsibility for the event.",
          "No worries, as we will be updating this space as and when any new info arrives.",
          "But we are not wrong, and we are not scammers.",
          "Everyone is writing about us, and they are telling us that we are scammers.",
          "This was not on purpose!",
          "— both the positives and the negatives,” he said.",
          "They're calling us scammers, saying that we scammed.",
          "It is our mistake.",
          "The statement also refers, puzzlingly, to a marriage ceremony that has been either canceled or postponed as a result of the event’s failure.",
          "If we wanted to scam people, we can easily do so by selling fake tickets.",
          "This was just a mistake.",
          "And you guys should not say that we are the scammers, unless you actually know it, unless you ask us.",
          "This shows that this is a mistake.",
          "He insists it’s all just a big misunderstanding.",
          "House of Illuminati has released the following statement: “Unfortunately, last minute we were let down in many areas of our event and tried our best to continue on and push through and now realise we probably should have cancelled first thing this morning instead.” Hindsight is 20/20.",
          "We even wrote this has been canceled, but it was too late.",
          "We are highly disappointed, highly embarrassed, and honestly, we are feeling bad.",
          "\"It was a genuine mistake and we're accepting it, we're not running from it,\" he added.",
          "“Regarding a personal matter, there will be no wedding, and no wedding was funded by the ticket sales,\" it reads.",
          "It is unclear when the cancellation message was added to the post.",
          "“Everyone is blaming us,” he said.",
          "“It was not a joke, not a scam,” he said.",
          "\"We fully apologise for what has happened and will be giving full refunds to each and every person that purchased tickets.\"",
          "Then we would be scammers, but we don’t do it, because it is illegal and prohibited.",
          "“The error propagates, right?” he said.",
          "We apologise for any inconvenience caused.",
          "So your name is Nazir Ali, but when you say “we”—\nWe are not going to give you any personal information that might be harmful for us.",
          "We never had this type of issue before.",
          "“I want to make it clear that anyone who was hired externally or offered their help, are not affiliated with the me or the company, any use of faces can cause serious harm to those who did not have any involvement in the making of this event,” they add.",
          "We don't actually want to mislead any of our Irish brothers.",
          "This is not a scam.",
          "\"Unfortunately last minute we were let down in many areas of our event and tried our best to continue on and push through and now realise we probably should have cancelled first thing this morning instead.",
          "But I don't want to actually reveal their nationalities.",
          "\"This is a difficult time for me, and I ask for your understanding and privacy.”\nThe writer of the statement goes on to promise that they will rectify the situation by refunding patrons, then asks for “a bit of time to process everything that has happened.” It’s signed, simply, “Sincerely”—which does not rule out the possibility that it was written by The Unknown.",
          "And we apologize to our Irish brothers.",
          "They don't actually know what our intentions are, but they are showing that our intentions are wrong."
         ],
         "marker": {
          "opacity": 0.5,
          "size": 5
         },
         "mode": "markers+text",
         "name": "Event Cancellation and Refund Controversy",
         "text": [
          "",
          "",
          "",
          "",
          "",
          "",
          "",
          "",
          "",
          "",
          "",
          "",
          "",
          "",
          "",
          "",
          "",
          "",
          "",
          "",
          "",
          "",
          "",
          "",
          "",
          "",
          "",
          "",
          "",
          "",
          "",
          "",
          "",
          "",
          "",
          "",
          "",
          "",
          "",
          ""
         ],
         "textfont": {
          "size": 12
         },
         "type": "scattergl",
         "x": {
          "bdata": "FE4Fv26Juz2hs6w+iE+yPrWZir7vdY++yeLYPkAZ0T739Jw9JnKOPk/cyz4JHdM9eKkFvyIZsT6CBBc+HZgDP8gtTz6OdAk+Z0T+vn29CL9EDoY+IiXNPa1/yb4LDA2/WmmTPghm3z5My8m+1b3bPmc5Wj4UD2m+AHEBP+Wqn76LR72+6E+iPjqU6D5FDwW/HVQCPywWwb6b4XI9cT65Pg==",
          "dtype": "f4"
         },
         "y": {
          "bdata": "lNqmQDLuoUAQtaZAI1uiQJGZq0Dz/qZAKEqeQHGCn0BjdqJA/AOgQAwIn0Bqu6FAFaevQASNoEDpGaFAojOdQNpFn0Blx6FA/aixQFPHrkBoRKVAUJ2hQN24rEBRgK5AQgOhQMyankCk4qtA23aeQPAen0C5N6ZARUSUQESGqECWj6xA0j+XQGBBnkBGurFA93GTQDB+rUAJ+qFA4RKZQA==",
          "dtype": "f4"
         }
        },
        {
         "hoverinfo": "text",
         "hovertext": [
          "Hillary Clinton was not recently seen walking around Chicago in a MAGA hat.",
          "On X, one post that included a fake image in which Harris is implied to be a sex worker has been viewed more than 3.5 million times; on Facebook, that same post has been shared more than 87,000 times.",
          "When Donald Trump shared a slew of AI-generated images this week that falsely depicted Taylor Swift and her fans endorsing his campaign for president, the former US president was amplifying the work of a murky non-profit with aspirations to bankroll rightwing media influencers and a history of spreading misinformation.",
          "There are plenty of mocking or degrading images of Harris and other female Democratic politicians, such as Alexandria Ocasio-Cortez.",
          "A niche non-profit’s AI slop makes its way to Trump\nDuring the spike in AI images on X, the conservative @amuse account posted the images of AI-generated Swift fans to more than 300,000 followers.",
          "Such was the case last week, when Republican politicians shared an AI-generated viral image of a little girl holding a puppy while supposedly fleeing Helene.",
          "Taylor Swift fans are not endorsing Donald Trump en masse.",
          "The images originated from the conservative Twitter account @amuse, which posted numerous AI slop images leading up to the 2024 United States elections that were shared by other high-profile figures within the American Republican Party, such as Elon Musk, who has publicly endorsed the utilization of generative AI, furthering this association.",
          "These pictures immediately reminded me of the viral, glossy AI-generated images of Trump being arrested and thrown in jail that started circulating in the spring of 2023.",
          "Donald Trump—or at least whoever controls his social-media accounts—posted the AI-generated photo of Harris with the hammer and sickle, as well as a series of fake images depicting Taylor Swift dressed as Uncle Sam and young women marching in Swifties for Trump shirts.",
          "Trump posted a screenshot of @amuse’s tweet on Truth Social.",
          "Old memes depicted “God Emperor” Trump.",
          "Rather than peck out a few sentences complaining about Biden’s age or ridiculing Harris’s economic policies, far-right posters can illustrate their attacks and garner more attention.",
          "Trump himself has been the subject of generative-AI art and has shared depictions of himself going back to March 2023.",
          "The account posts misleading, pro-Trump headlines such as claiming Harris turned hundreds of thousands of children over to human traffickers as “border czar”.",
          "Kamala Harris did not give a speech at the Democratic National Convention to a sea of communists while standing in front of the hammer and sickle.",
          "Its banner picture is currently an AI-generated photo of Trump surrounded by women in “Swifties” shirts.",
          "(For instance, earlier today, Trump posted an AI-generated picture of himself as a buff Pittsburgh Steelers lineman.)",
          "Trump distanced himself from the images in an interview with Fox Business on Wednesday, saying: “I don’t know anything about them other than someone else generated them.",
          "After months of retweeting conservative media influencers and echoing Elon Musk’s claims that freedom of speech is under attack from leftwing forces, one of the organization’s messages found its way to Trump and then his millions of supporters.",
          "[14] In August 2024, the American politician Donald Trump posted a series of AI-generated images on his social media platform, Truth Social, that portrayed fans of the singer Taylor Swift in \"Swifties for Trump\" T-shirts, as well as a photo of the singer herself appearing to endorse Trump's 2024 presidential campaign.",
          "sputtered out a whole string of cartoonishly false trending topics, including that it was Kamala Harris who had been shot.",
          "They’ve been getting bigger,” Catturd2 posted this March, while praising Musk.",
          "There are images and videos of Harris and Trump holding hands on a beach and Harris wearing a crown that reads Inflation Queen.",
          "When Thomas Crooks tried to assassinate Donald Trump, for instance, X’s A.I.",
          "After Musk’s xAI company released its largely unregulated Grok image generator last week, there has been a surge of AI content that has included depictions of Trump, Kamala Harris and other political figures.",
          "On Amazon, a quick search found a listing for some (presumably real) underwear with the description “As of My Knowledge Cutoff in Early 2023, Providing Specific Purchasing Options for ‘Women’s Stylish Sexy Casual Independence Day Printed Panties’ Would Be My Capabilities As I Cannot Browse or Access Live Data From the Internet, Including Current Inventory From or Private Sellers.”\nTwitter — Elon Musk’s X — may be the most fruitful platform for this kind of search thanks to its sub-competent moderation services.",
          "(This after he falsely claimed that Harris had posted an image that had been “A.I.’d”—a tidy bit of projection.)",
          "One pro-Trump, Elon-Musk-fanboy account recently shared a suggestive image depicting a scantily clad Harris surrounded by multiple clones of Donald Trump; it’s been viewed 1.6 million times.",
          "[16][3] Some, like Amy Kremer, shared the image on social media even while acknowledging that it was not genuine.",
          "\"How did Donald Trump end up posting Taylor Swift deepfakes?\".",
          "Prominent accounts including Musk have shared and replied to @amuse’s posts, which recently have included AI depictions of Trump fighting Darth Vader and sexualized imagery of Harris.",
          "“Y’all, I don’t know where this photo came from and honestly, it doesn’t matter,” Amy Kremer, who represents Georgia on the Republican National Committee, wrote after sharing the fake image.",
          "Several of the images Trump posted on his Truth Social platform, which showed digitally rendered young women in “Swifties for Trump” T-shirts, were the products of the John Milton Freedom Foundation.",
          "On the first night of the DNC, MAGA influencers such as Catturd2 and Jack Posobiec supplemented their rage tweets about Democrats with stylized AI images of Tim Walz and Joe Biden looking enraged."
         ],
         "marker": {
          "opacity": 0.5,
          "size": 5
         },
         "mode": "markers+text",
         "name": "AI-Generated Political Fan Imagery",
         "text": [
          "",
          "",
          "",
          "",
          "",
          "",
          "",
          "",
          "",
          "",
          "",
          "",
          "",
          "",
          "",
          "",
          "",
          "",
          "",
          "",
          "",
          "",
          "",
          "",
          "",
          "",
          "",
          "",
          "",
          "",
          "",
          "",
          "",
          "",
          ""
         ],
         "textfont": {
          "size": 12
         },
         "type": "scattergl",
         "x": {
          "bdata": "+uRtP7NfoD+V5oY/9F2VP80mqj9t12o/gvGBP6vIqD9cF7E/Uu+FPxbyhD8Lm58/CUagP1Dsnj8Rjo8/TjmBP3jLgj/9MpI/RzF+PwWKkj8t3Yc/czOLP/1dmD94QpM/SRGmP9zQpj+6F7I/dVyOP+e/lj/21no/gBWGP1SVnT/s6nA/DEuBP0jPtz8=",
          "dtype": "f4"
         },
         "y": {
          "bdata": "yfaQP6M0iT/cZXQ/YPOKP9TAqj/lBuk/CGV5P8t0pj+mW64/wLCAP9eQeD82UKY/hOKUPxYXpj9uuIA/2XiNP4f5bj+nDJo/DoWPP9EXZz/Cunk/DuqNP51ngT+mSYk/KuSsP/68pD+DnYc/6gGWP3u8ij8pAuc/RKV5P09GiT9J7uE/M4hpP9dOuD8=",
          "dtype": "f4"
         }
        },
        {
         "hoverinfo": "text",
         "hovertext": [
          "- Combine AI with Human Touch: AI can be a powerful tool, but it's essential to have human editors refine and enhance the content to maintain quality and authenticity.",
          "That’s brand distinctiveness in action.”\nThe formula is simple but powerful:\nTrend + Brand Distinctiveness = Memorable Impact\nThe article urges marketers to ask themselves:\n• Do we know our brand well enough to play with chaos?",
          "Here's How to Tell Hype From Real Innovation.",
          "Your customers are becoming more discerning, and they're quick to tune out content that doesn't meet their expectations.",
          "By prioritizing quality, leveraging custom AI models and staying true to your brand's voice, you can rise above the slop and continue to deliver value that resonates with your audience.",
          "This approach not only makes your brand more relatable but also strengthens your connection with your audience.",
          "Here's what to watch out for:\n- Generic Phrasing: AI often relies on repetitive, uninspired language that lacks the creativity needed to engage.",
          "Smart brands recognize this not just as entertainment, but as a ritual of participation.",
          "Authenticity is now a competitive advantage.",
          "Related: How to Escape Entrepreneurial Burnout When You Can't Just Quit\nStrategies to combat AI slop\nTo safeguard your brand and ensure your content stands out, consider these strategies:\n- Humanize Your Content: Infuse your content with personal stories, real-life examples and a touch of emotion.",
          "Demand more from your AI tools, ensure they enhance rather than detract from your brand's message, and keep your content authentic.",
          "For brands with answers, the payoff can be immense.",
          "- Highlight Creativity: Make sure your content showcases human creativity and originality.",
          "By Johnny Hughes Edited by Micah Zimmerman\nKey Takeaways\n- Entrepreneurs face a growing challenge with AI-generated \"slop\" content that dilutes online quality and disrupts engagement.",
          "- Use Interactive Elements: Incorporate visuals, videos and interactive media to create engaging and dynamic content that holds your audience's attention.",
          "How entrepreneurs can spot AI slop\nIdentifying AI slop is the first step in protecting your brand.",
          "The brands that prioritize genuine, high-quality content will not only survive in this new landscape but thrive.",
          "Consumers are becoming increasingly intolerant of AI-generated missteps, even from their favourite brands.",
          "- Combatting AI slop is crucial for entrepreneurs to maintain brand authenticity, customer trust and meaningful engagement.",
          "Brands that only copy trends risk becoming forgettable.",
          "For entrepreneurs, this shift is crucial.",
          "- Develop Custom AI Models: Creating AI models tailored to your specific needs and brand voice ensures that the content generated aligns with your standards.",
          "We pour everything into building something unique, something that truly resonates with our customers.",
          "In a world saturated with AI-generated content, distinguishing valuable information from slop is not just a skill — it's a competitive edge.",
          "For platforms, the challenge will be balancing the engagement these AI-driven trends bring with the need to maintain trust and authenticity.",
          "Your insights and expertise differentiate your brand from the competition.",
          "Opinions expressed by Entrepreneur contributors are their own.",
          "Using automation in the wrong places has the power to turn your most loyal fans into vocal critics.",
          "The initial excitement over AI-generated content has faded, replaced by a demand for authenticity and real value.",
          "You cannot rank through AI content alone.",
          "- Entrepreneurs can stay ahead by blending human creativity with AI efficiency, ensuring content remains original, valuable and impactful.",
          "This adds depth and makes your brand memorable.",
          "As entrepreneurs, our brands are our lifeblood.",
          "This is how entrepreneurs will not only survive but thrive in this new digital landscape.",
          "- Generic Blog Content: Blogs filled with repetitive, unoriginal ideas don't just bore readers—they also undermine your authority and thought leadership."
         ],
         "marker": {
          "opacity": 0.5,
          "size": 5
         },
         "mode": "markers+text",
         "name": "Balancing AI and Human Content",
         "text": [
          "",
          "",
          "",
          "",
          "",
          "",
          "",
          "",
          "",
          "",
          "",
          "",
          "",
          "",
          "",
          "",
          "",
          "",
          "",
          "",
          "",
          "",
          "",
          "",
          "",
          "",
          "",
          "",
          "",
          "",
          "",
          "",
          "",
          "",
          ""
         ],
         "textfont": {
          "size": 12
         },
         "type": "scattergl",
         "x": {
          "bdata": "wP6TQF3yiUDRlJNA/iqRQOzlkkCBropAxgWQQPwBhkAZ0Y9AOwmTQOgCk0BdSZJAvv+LQEpWkkDA1ItA/tKVQCIOj0AwLpVAe1+UQBl5i0AQbpNAtriTQDI/i0Deo5JAEyCSQNwIjEA3TpJAqJ6WQLF4kEAnjJJArbCSQC+nikCLrJBADN2SQG3DjUA=",
          "dtype": "f4"
         },
         "y": {
          "bdata": "Gb1dPx+3oz4fSoA/m8+APwpHXz/Cy+I+0+CEPxqXgD7opTk/gTdxP71DXj9hVvM+DZ9IP7Oidj+4sUI/MD5/P4eqND9Hzoc/JeGDP1DZ0z7yUSU/i3JhP2o2Aj9m23o/Z21tP1JYyT49NBw/7E+HP8AfgD8rM2Q/3EJQP26fwj5Bews/we05P2kTdT8=",
          "dtype": "f4"
         }
        },
        {
         "hoverinfo": "text",
         "hovertext": [
          "Here’s a taste of the AI-generated script: “I had to say, ‘There is a man who lives here.",
          "(The showrunner insisted the poster was diegetically AI-generated.)",
          "[22] The ad uses a robotic AI voice in a style similar to low-quality AI spam videos produced by content farms.",
          "Nonetheless, if major studios are willing to push out content at the expense of quality and creativity - it raises the question of how much further they'd be willing to go.",
          "A24 received similar backlash for releasing a series of AI-generated posters for the 2024 film Civil War.",
          "It drains any creative spark, making the movie feel cheap and uninspired.",
          "- ^ \"Late Night with the Devil: The Horror Film with Horrifying Implications\".",
          "The irony is that AI-generated marketing is a terrible strategy for a film release.",
          "- ^ \"Amazon Mocked for Slapping AI-Generated Poster on Beloved 1922 Film \"Nosferatu\"\".",
          "One synopsis briefly listed on the site for the film Dog Day Afternoon read: \"A man takes hostages at a bank in Brooklyn.",
          "- ^ \"'Murderesses': MagentaTV entfernt Serie mit KI-Synchronisation\".",
          "One poster appears to depict a group of soldiers in a tank-like raft preparing to fire on a large swan, an image which does not resemble the events of the film.",
          "The film Late Night with the Devil was notable for its use of AI, which some criticized as being AI slop.",
          "Hipster movie production company A24, meanwhile, was called out for using AI to create promotional posters for Alex Garland’s dystopian film Civil War.",
          "- ^ \"Shudder Just Quietly Released the Most Controversial Thriller of the Year\".",
          "\"[53]\nIn one case Deutsche Telekom removed a series from their media offer after viewers complained about the bad quality and monotonous German voice dubbing (translated from original Polish) and it was found out that it was done via AI.",
          "[50] A thumbnail image for 12 Angry Men on Amazon Freevee used AI to depict 19 men with smudged faces, none of whom appeared to bear any similarities to the characters in the film.",
          "The most jarring aspect of this promotion is the voiceover.",
          "[49]\nSome streaming services such as Amazon Prime Video have used AI to generate posters and thumbnail images in a manner that can be described as slop.",
          "- ^ \"Paramount skips voice actors, opting for shockingly bad AI slop in 'Novocaine' film promo\".",
          "[51][52] Additionally, some viewers have noticed that many plot descriptions appear to be generated by AI, which some people have characterized as slop.",
          "\"Surely they could’ve afforded to hire actors/designers/editors/etc.",
          "A low-quality AI poster was used for the 1922 film Nosferatu, depicting Count Orlok in a way that does not resemble his look in the film.",
          "While budgets for film and marketing campaigns are complex, it is difficult to justify a corporation of this scale opting for AI-generated narration over human talent.",
          "\"A24's lacklustre Civil War ads are the latest example of AI-generated slop\".",
          "The script itself feels stilted and detached, raising the obvious question: why wouldn't Paramount just hire a voice actor?",
          "For context, Paramount Global is a company valued at $13.6 billion.",
          "- ^ \"Amazon's Prime Video Appears to Have Left AI Slop in the Public Description of an Oscar-Winning Al Pacino Film\".",
          "[21]\nIn March 2025, Paramount Pictures was criticized for using AI scripting and narration in an Instagram video promoting the film Novocaine.",
          "Paramount Pictures appears to be experimenting with cheap AI-generated content based on its promotion for the film Novocaine, an action-thriller starring Jack Quaid set to release on Friday.",
          "In the most recent season of True Detective, a heavy-metal poster in the background of one scene was obviously and cheaply AI-generated.",
          "- ^ \"The mystery of Amazon Freevee's A.I.-generated 12 Angry Men poster\".",
          "In a recent Instagram post, users sighted a reel promoting the film that blatantly utilizes AI scripting and narration - a content style that's lazy enough from spam accounts and content farms, let alone a major film production company.",
          "In film and television\n[edit]Some films have received backlash for including AI-generated content."
         ],
         "marker": {
          "opacity": 0.5,
          "size": 5
         },
         "mode": "markers+text",
         "name": "AI-Generated Film Promotion Controversies",
         "text": [
          "",
          "",
          "",
          "",
          "",
          "",
          "",
          "",
          "",
          "",
          "",
          "",
          "",
          "",
          "",
          "",
          "",
          "",
          "",
          "",
          "",
          "",
          "",
          "",
          "",
          "",
          "",
          "",
          "",
          "",
          "",
          "",
          "",
          ""
         ],
         "textfont": {
          "size": 12
         },
         "type": "scattergl",
         "x": {
          "bdata": "hoFmQOmBeEAomGxACJ6AQHr9f0COn4NAOih2QJlKf0BnqHlAWQp3QEJPc0CX33tA9xF/QLp8fkAfqnZAK25uQKwld0CdR3lAHj53QCOBfUBSwHJAUreDQADQeUB5iYFAIe+AQKrXgEBIB4BAGJV4QG6ZfkCFDn9AWmZ7QPevd0CWQn9Awz6BQA==",
          "dtype": "f4"
         },
         "y": {
          "bdata": "9Ji9QJjeykBIY75AqvK8QDFax0B168JAkLjKQDBNxEC8BspA5fjJQMrdy0DfpMhAQW3GQL6AyEB4iMxACyzKQFVcy0ACf8JAbZHKQCs0xUAmfctAXfG/QPpNykBnTL9AXXzFQGgEw0Dcw8NAeQLKQNCkxEBJ+MRA4MXJQMQfy0DljMRApf3DQA==",
          "dtype": "f4"
         }
        },
        {
         "hoverinfo": "text",
         "hovertext": [
          "- ^ Robins-Early, Nick (26 August 2024).",
          "- ^ Maiberg, Emanuel (4 February 2025).",
          "- ^ a b c d e Read, Max (25 September 2024).",
          "- ^ Tang, Jiaru; Wikström, Patrik (19 September 2024).",
          "- ^ O'Shea, Kerry (31 October 2024).",
          "- ^ Yin-Poole, Wesley (9 December 2024).",
          "- ^ Koebler, Jason (8 October 2024).",
          "- ^ Warzel, Charlie (10 October 2024).",
          "- ^ Kalita, Parash Jyoti (1 November 2024).",
          "- ^ Hughes, Johnny (3 September 2024).",
          "- ^ Yin-Poole, Wesley (24 July 2024).",
          "- ^ Vadukul, Alex (20 November 2024).",
          "- ^ Maker, Paul (9 January 2025).",
          "- ^ Currie, Richard (28 February 2024).",
          "- ^ Nightingale, Ed Nightingale (Deputy News) (2 January 2024).",
          "- ^ Warzel, Charlie (21 October 2024).",
          "- ^ Fleck, Holly (2 November 2024).",
          "- ^ Parrish, Ash (16 January 2024).",
          "- ^ Hüsmen, Arife (November 2024).",
          "- ^ Bankhurst, Adam (1 January 2024).",
          "- ^ Gault, Matthew (7 August 2024).",
          "- ^ Notopoulos, Katie.",
          "- ^ a b Koebler, Jason (6 August 2024).",
          "- ^ Davis, Barney (1 November 2024).",
          "- ^ Phillips, Tom (3 March 2025).",
          "- ^ Phillips, Tom (4 March 2025).",
          "- ^ Knibbs, Kate.",
          "- ^ a b Field, Matthew (1 January 2025).",
          "- ^ Murphy, Chris (29 February 2024).",
          "- ^ Shankar, Bradly (18 April 2024).",
          "- ^ Warzel, Charlie (21 August 2024).",
          "- ^ Stedman, Alex (16 November 2024).",
          "- ^ John, Daniel (12 June 2024)."
         ],
         "marker": {
          "opacity": 0.5,
          "size": 5
         },
         "mode": "markers+text",
         "name": "2024 November News and Events",
         "text": [
          "",
          "",
          "",
          "",
          "",
          "",
          "",
          "",
          "",
          "",
          "",
          "",
          "",
          "",
          "",
          "",
          "",
          "",
          "",
          "",
          "",
          "",
          "",
          "",
          "",
          "",
          "",
          "",
          "",
          "",
          "",
          "",
          ""
         ],
         "textfont": {
          "size": 12
         },
         "type": "scattergl",
         "x": {
          "bdata": "HtBcQMYxWEAEm1xABMFdQDSjXkCor1VA629XQFUZWUAsCF9AjzVdQJw+VUDqcFxAd6hbQO+vXEAtvFxAe8lYQKoEX0CjPF1AmsheQHzlXECvzVxA2j9WQNwwWED6Nl5AEiJZQDFnXEBFqFdAK91bQChiXUBilF5ADXlXQIa6XEA9m11A",
          "dtype": "f4"
         },
         "y": {
          "bdata": "fEMkQTpEJUGJUSRB4v0jQVnSI0FVCiVBIVIlQZAAJUEisiNBQzIkQQBmJUH+ZCRBIogkQbdUJEHhTyRBiywlQU7AI0G4MiRBVcUjQRs5JEG5QSRBV5MlQZ0vJUFH9yNBgz8lQQ2DJEHJLiVBPXUkQe8nJEHG2SNBjWUlQaQ+JEH5HiRB",
          "dtype": "f4"
         }
        },
        {
         "hoverinfo": "text",
         "hovertext": [
          "Square Enix \"dabbled\" with AI technology for Foamstars\nAw, suds!",
          "For more on Foamstars, our Ed has laid out everything you need to know about its season pass and arrival on PlayStation Plus here.",
          "Everything else was created entirely by our development team,\" it said.",
          "\"We loved what was created and used them as the final album covers players will see in the game.",
          "While Foamstars’ use of AI is centered on images and not voices, Square Enix’s use of Midjourney to generate the images introduces thorny questions regarding copyright infringement.",
          "In an interview with VGC, Kosuke Okatani, producer on Foamstars, said that the development team used AI generation tool Midjourney to create in-game art for album covers for the game’s soundtracks but explained that the majority of the game was still made by humans.",
          "\"[38]\nFoamstars, a multiplayer third-person shooter released by Square Enix in 2024, features in-game music with cover art that was generated using Midjourney.",
          "Everything else was created entirely by our development team.”\nMost Popular\n- Apple is reportedly going to rename all of its operating systems\n- Tested: Nvidia’s GeForce Now just breathed new life into my Steam Deck\n- The plan for nationwide fiber internet might be upended for Starlink\n- US will ban foreign officials to punish countries for social media rules\n- A Kaiser Permanente systems outage had pharmacies relying on pen and paper",
          "- ^ \"PlayStation Exclusive Foamstars Has AI-Generated Art, Square Enix Confirms\".",
          "Square Enix confirmed the use of AI, but defended the decision, saying that they wanted to \"experiment\" with artificial intelligence technologies and claiming that the generated assets make up \"about 0.01% or even less\" of game content.",
          "The PlayStation exclusive, Splatoon-like shooter Foamstars uses artificial intelligence (AI) generated art, developer Square Enix has revealed.",
          "Speaking to VGC, Foamstars producer Kosuke Okatani confirmed the game — which launches into PlayStation Plus on February 6 — uses AI-generated art for certain assets, but claimed most of the game is made by actual developers.",
          "According to the developer, the total AI generated work in Foamstars makes up \"about 0.01 percent or even less\" of the game, with Okatani stating Square Enix wanted to \"experiment\" with the technology for its upcoming release.",
          "In Foamstars, Square Enix’s forthcoming Splatoon-esque multiplayer game, some of the art you’ll see will be AI-generated.",
          "\"In this instance, we experimented with Midjourney using simple prompts to produce abstract images.",
          "A Square Enix PR representative further elaborated on Foamstars’ use of AI to VGC: “In this instance, we experimented with Midjourney using simple prompts to produce abstract images.",
          "We loved what was created and used them as the final album covers players will see in the game.",
          "We loved what was created and used them as the final album covers players will see in the game.",
          "In terms of the content in the game, this makes up about 0.01% or even less, but we have dabbled in it by creating these icons in the game.\"",
          "“All of the core elements in Foamstars — the core gameplay, and the things that make the game enjoyable — those are all made by hand,” Okatani told VGC.",
          "\"Square Enix says it used AI art in upcoming Foamstars game\".",
          "Square Enix says it used AI art in upcoming Foamstars game\nFoamstars producer Kosuke Okatani says the AI-generated art accounts for ‘0.01 percent’ of the game’s art.",
          "\"All of the core elements in Foamstars — the core gameplay, and the things that make the game enjoyable — those are all made by hand,\" he said.",
          "Square Enix's upcoming team shooter Foamstars will have a small amount of AI art, the developer has said.",
          "Square Enix used controversial AI tool Midjourney, which turns text prompts into visual art, to create in-game album covers for music tracks.",
          "\"All of the core elements in Foamstars - the core gameplay, and the things that make the game enjoyable - those are all made by hand,\" Okatani said.",
          "The inclusion of AI in Foamstars is perhaps unsurprising given Square Enix president Takashi Kiryu said in January 2024 that the company will be \"aggressive in applying AI and other cutting-edge technologies to both our content development and our publishing functions.\"",
          "Speaking with VGC, Foamstars producer Kosuke Okatani said the team had \"dabbled\" with AI program Midjourney - a known AI tool that converts text into art - but the majority of the game has been crafted by hand.",
          "\"We experimented with Midjourney using simple prompts to produce abstract images,\" Square Enix said.",
          "This only makes up around 0.01% of the game, or even less, Okatani claimed.",
          "- ^ \"Square Enix \"dabbled\" with AI technology for Foamstars\".",
          "Everything else was created entirely by our development team.\"",
          "In a separate statement, Square Enix said AI was used in the \"creation of the in-game album covers for the music featured in the Foamstars soundtrack\"."
         ],
         "marker": {
          "opacity": 0.5,
          "size": 5
         },
         "mode": "markers+text",
         "name": "Square Enix AI Game Art",
         "text": [
          "",
          "",
          "",
          "",
          "",
          "",
          "",
          "",
          "",
          "",
          "",
          "",
          "",
          "",
          "",
          "",
          "",
          "",
          "",
          "",
          "",
          "",
          "",
          "",
          "",
          "",
          "",
          "",
          "",
          "",
          "",
          "",
          ""
         ],
         "textfont": {
          "size": 12
         },
         "type": "scattergl",
         "x": {
          "bdata": "3oSMvl9Nur4uLha/LnAmvwjMnr5oW8m+6dfFvkU5HL8TfKK+f82tvjAoo76HBKq+ec6lviqHp74tR+q+Hk3Tvu0nKr8LHSu/1VL9vn8F3b7DAqu+u3CvvtL8775iFqe+IVnfvuQm6r55wfk9BfnGvlRc674w5/K+hvSevjl3FL+QR92+",
          "dtype": "f4"
         },
         "y": {
          "bdata": "SL85QdgPOkGFgTlBZHA2QeMFN0FSmThBBsE5QV09OUFu+DlBlzI4QbbVOUF2KzlBfXg5QeDZOUH2OTdBBwQ4QU/8NUGT4zVBLyQ5QSx6OkFX5zhB05Y4QQnNOUGPlzlByI03QVFFOkF3uDtB8xI5Qd2GN0GkODlBxUY5QdlNOUHnwzdB",
          "dtype": "f4"
         }
        },
        {
         "hoverinfo": "text",
         "hovertext": [
          "Is this a completely AI-generated object, a self-published pamphlet, or a book from a publishing house that recently slashed its marketing and editing budgets?",
          "There’s a Stephen (and often a “Jacob”) behind all of this slop: an actual person uploading, say, identical Viking “novels” with seemingly AI-generated covers, all called Wrath of the Northmen: A Gripping Viking Tale of Revenge and Honor (that one has been published variously by authors named Sula Urbant, Sula Urbanz, and Sula Urbanr).",
          "The cost of slop to libraries is serious, Sullivan said, “not just the cost of the books” but the cost of labor: It takes cataloguers longer to do their jobs when they’re wading through “an outpouring of valueless product.” Human artists, writers, journalists, musicians, and even TikTokers have more work to do too, competing not just with other humans but with the passable products of automated systems.",
          "The only way librarians can limit what Hoopla books their customers can borrow is by setting a limit on the price of books.",
          "Public libraries primarily use two companies to manage and lend ebooks: Hoopla and OverDrive, the latter of which people may know from its borrowing app, Libby.",
          "Attempting to read news online is now fraught with the possibility that you’re consuming unedited AI-generated tattle: CNET, BuzzFeed, USA Today, and Sports Illustrated have published stilted and often incorrect AI-generated articles or used phony images and biographies for “authors.”\nImagine you are going foraging and want to download to your Kindle a guide to distinguish between edible and toxic mushrooms.",
          "On one hand, Hoopla’s gigantic catalog, which includes ebooks, audio books, and movies, is a selling point because it gives librarians access to more for cheaper price.",
          "So is a low-price digital book that seems like the one you were looking for, but not quite.",
          "A prominent example came when amateur mushroom pickers were recently warned to avoid foraging books sold on Amazon that appeared to have been written by chatbots and contained dangerous advice for anyone hoping to discern a lethal fungus from an edible one.",
          "On the other hand, making librarians buy into the entire catalog means that a customer looking for a book about how to diet for a healthier liver might end up borrowing Fatty Liver Diet Cookbook: 2000 Days of Simple and Flavorful Recipes for a Revitalized Liver.",
          "A key difference is that with OverDrive, librarians can pick and choose which books in OverDrive’s catalog they want to give their customers the option of borrowing.",
          "For example, a library can use Hoopla but make it so their customers can only borrow books that cost the library $5 per use.",
          "With Hoopla, librarians have to opt into Hoopla’s entire catalog, then pay for whatever their customers choose to borrow from that catalog.",
          "Derek Sullivan, a cataloguer at a public-library system in Pennsylvania, told me that AI-generated books had begun to cross his desk regularly.",
          "In the worst version of the slop future, your overwhelmed and underfunded local library is half-filled with these unchecked, unreviewed, unedited AI-generated artifacts, dispensing hallucinated facts and inhuman advice and distinguishable from their human-authored competition only through ceaseless effort.",
          "[34]\nIn books\n[edit]Online booksellers and library vendors now have many titles that are written by AI and are not curated into collections by librarians.",
          "The book was authored by Magda Tangy, who has no online footprint, and who has an AI-generated profile picture on Amazon, where her books are also for sale.",
          "AI-generated books have become a problem too.",
          "But early on in the search results, you’ll find some seemingly AI-generated guides as well — for example, Forager’s Harvest 101: A Comprehensive Guide to Identifying, Preserving, and Preparing Wild Edible Plants, Mushrooms, Berries, and Fruits, by “Diane Wells.” Elan Trybuch, the secretary of the New York Mycological Society, recently wrote a blog post warning mushroom foragers about these dangerously inadequate guides: It’s possible that Forager’s Harvest 101 is fully accurate and safe to use, but it’s almost certainly unreviewed and unchecked and “written” by an AI that, as Trybuch described the technology, “does not know the subtle differences between a mushroom that is poisonous … vs one that is not.”\nIt’s not particularly easy to tell the difference between the AI-generated guides and those written by experts.",
          "Forager’s Harvest 101 has an intelligibly (if cheaply) designed cover and legible (if smooth and voiceless) prose as well as an author biography featuring a photo of a smiling middle-aged woman.",
          "If you look on Amazon, you’ll turn up some obviously legitimate books.",
          "Both companies have a variety of payment options for libraries, but generally libraries get access to the companies’ catalog of books and pay for customers to be able to borrow that book, with different books having different licenses and prices.",
          "Low quality books that appear to be AI generated are making their way into public libraries via their digital catalogs, forcing librarians who are already understaffed to either sort through a functionally infinite number of books to determine what is written by humans and what is generated by AI, or to spend taxpayer dollars to provide patrons with information they don’t realize is AI-generated.",
          "Though he first noticed the problem thanks to a recipe book by a nonexistent author that featured “a meal plan that told you to eat straight marinara sauce for lunch,” the slop books he sees often cover highly consequential subjects like living with fibromyalgia or raising children with ADHD.",
          "The digital media provider Hoopla, which supplies libraries with ebooks and downloadable content, has generative AI books with fictional authors and dubious quality, which cost libraries money when checked out by unsuspecting patrons.",
          "But you can also get bad advice about A.D.H.D., about chemotherapy, about Ozempic — some potentially delicate subjects.",
          "\"AI-Generated Slop Is Already In Your Public Library\".",
          "Searching “as of my knowledge cutoff” or “as an AI language model” in Google Books turns up hundreds of AI-generated “books” with titles like Hollywood’s 100 Leading Actors and Summary If the Woman in Me: A Guide to Britney Spears Memoir."
         ],
         "marker": {
          "opacity": 0.5,
          "size": 5
         },
         "mode": "markers+text",
         "name": "AI-Generated Books in Libraries",
         "text": [
          "",
          "",
          "",
          "",
          "",
          "",
          "",
          "",
          "",
          "",
          "",
          "",
          "",
          "",
          "",
          "",
          "",
          "",
          "",
          "",
          "",
          "",
          "",
          "",
          "",
          "",
          "",
          ""
         ],
         "textfont": {
          "size": 12
         },
         "type": "scattergl",
         "x": {
          "bdata": "bXyxQKjvsUDRB7FAKzu9QPqTvUAUfatAqdK9QDhPskDutq1AFt27QL7kvUD82r1AlN+9QLIZsUDOyK5ArcmwQCQ9sUBNUrFApOitQIhpr0AeyrBAoNi9QCTAsUCco6tAU761QKvLq0BOSq1AmL2pQA==",
          "dtype": "f4"
         },
         "y": {
          "bdata": "EylWQH8rVUBHW1RAquBhQAKHYkDwDVJAQsFiQHE5V0Bh405AIkZfQNfbYkAgxGJAW7diQEV4VEDdnFFA8y9VQMgOVkDyhlVAFdlQQE92UkCEZFVAMtxiQPq+VkBSx0NAoXNaQOwrSkA3rlFAZ1RdQA==",
          "dtype": "f4"
         }
        },
        {
         "hoverinfo": "text",
         "hovertext": [
          "As it happens, A.I.",
          "Okay, AI was involved.",
          "A few years later, A.I.",
          "(At some crucial points, A.I.",
          "In a note from Barclays, one analyst warned that today’s A.I.",
          "What is A.I.",
          "\"Artificial intelligence (AI) and its potential implications had for some time largely been subjects of academic debate,\" he wrote.",
          "- ^ a b \"How Long Will A.I.",
          "were running short of projected profits by a margin of at least several hundred billion dollars annually.",
          "This year, AI took a turn in the spotlight.",
          "Personal AI ethics remains a complicated set of decisions.",
          "I want to ask about the AI of it all—\nI’ll explain it to you.",
          "One of the things I love about this is that it’s helpful for defining my own position on AI ethics.",
          "It wasn’t that long ago, in the spring of last year, that the new chatbots were trailed by various “godfathers” of the technology, warning of existential risk; by researchers suggesting a 10 percent chance of human extinction at the hands of robots; by executives speculating about future investment rounds tabulated in the trillions.",
          "For that matter, given the sophistication of the AI, why would the Filipinos need an American?",
          "“And that was kind of a starting point.”\n“A.I.",
          "(He called this “A.I.’s $600 billion question” and warned of “investment incineration.”) In a similarly bearish Goldman Sachs report, the firm’s head of global equity research estimated that the cost of A.I.",
          "“The crucial question is: What $1 trillion problem will A.I.",
          "infrastructure build-out over the next several years would reach $1 trillion.",
          "expenditure, more than the United States spends annually on its military, and think: What exactly is that money going toward?",
          "AI was involved 10 percent or 20 percent.",
          "investments might be three times as large as expected returns, while another analyst, in several assessments published by Sequoia Capital, calculated that investments in A.I.",
          "material seemingly came about in reaction to the release of A.I.",
          "Kristian Hammond, the director of Northwestern University’s Center for Advancing Safety of Machine Intelligence, noted a problem in the current model: the information from A.I.",
          "Today the same millennial might read about that trillion-dollar A.I.",
          "The same political concerns about the ownership and control of A.I.",
          "Kiryu began by talking about how AI and its \"potential implications\" have long been the subject of \"academic debate.\"",
          "\"Artificial intelligence (AI) and its potential implications had for some time largely been subjects of academic debate,\" he said of AI development in 2023."
         ],
         "marker": {
          "opacity": 0.5,
          "size": 5
         },
         "mode": "markers+text",
         "name": "AI Debate and Implications",
         "text": [
          "",
          "",
          "",
          "",
          "",
          "",
          "",
          "",
          "",
          "",
          "",
          "",
          "",
          "",
          "",
          "",
          "",
          "",
          "",
          "",
          "",
          "",
          "",
          "",
          "",
          "",
          "",
          ""
         ],
         "textfont": {
          "size": 12
         },
         "type": "scattergl",
         "x": {
          "bdata": "p2JvQDWtcUAsCHNAQMFwQFWXhUDuDXNA3ayFQJq+ckC7O4VAYz2LQM6BhkD7e3FAzN2EQDTPikBhhXhACy90QJNPhUAWYYVAteuEQAlFhEBmIXBAb4qFQPt7b0A/MYVAUieFQHHMhEDcCIRAhw+GQA==",
          "dtype": "f4"
         },
         "y": {
          "bdata": "weWTQKSHk0A03pJATWqTQB6wikBm9JJAT6+MQMa4kkCpFYlAZDeXQHhGjUC/l5JAt4CNQKRIiEC/zI9AZdaSQA2pikAFaIpA61SJQPS7iEDh6JRAl8uJQBHaj0BuzopAydiJQB8VjEAaHY5Aai+NQA==",
          "dtype": "f4"
         }
        },
        {
         "hoverinfo": "text",
         "hovertext": [
          "Like any good AI slop, the op illustrated a fantasy—in this case, that Trump, a man who has long lived in a gilded penthouse, is a working-class man.",
          "In some, Trump’s clothing is too garish; in others, he’s toting a comically large amount of food.",
          "This man, who held the nuclear codes just 1,369 days ago, is now wearing an apron and doling out fast food.",
          "Trump proffering Dollar Menu items isn’t AI, but it is still slop in all the ways that matter: a hastily staged depiction of a fairly stupid, though entertaining fantasy, meant to delight, troll, and, most important, emphasize a false impression of the candidate.",
          "The images of Trump’s McDonald’s stunt—in which he jiggled the fryer and handed burgers out of a window yesterday—are uncanny.",
          "Perhaps it’s because my feeds have been simultaneously clogged with election-season garbage and AI-generated slop, but the McDonald’s photoshoot struck me as a moment of strange synthesis, where reality and tech-enabled fiction felt somehow mashed together by the internet’s cultural particle accelerator.",
          "The McDonald’s photo op was barely real: The restaurant was closed to the public during Trump’s visit.",
          "This is clarifying, insofar that it demonstrates that Trump’s primary output is always a kind of slop.",
          "Computers, at least for now, cannot quite capture the crushing surreality and maddening absurdity of modern electoral politics.",
          "Trump was really at that Buck’s County McDonald’s, debasing himself for swing-state votes in the same way that candidates have for generations (see: Rick Perry eating a corn dog in 2011).",
          "The photos aren’t terribly far off (a few of them accurately placed Trump in an apron), but all of them seem to be trying too hard.",
          "- ^ \"Gullible Trump Cronies Losing Their Minds Over Fake AI Slop on Twitter\".",
          "The MAGA Aesthetic Is AI Slop\nFar-right influencers are flooding social media with a new kind of junk.",
          "Only prescreened customers were allowed in the drive-through, and those customers were not able to place orders—they just took whatever Trump handed to them.",
          "But MAGA world has always trafficked in slop.",
          "There’s Trump, face contorted in the appearance of deep concentration, tilting a fry basket to the heavens; Trump hanging two-thirds of the way out a drive-through window, waving like a beleaguered Norman Rockwell character; Trump, mouth agape, appearing to yell into the middle distance of a fast-food parking lot.",
          "Presidential campaigning has long offered an unreal portrait of American life—it’s just been made more peculiar by the presence of Trump.",
          "What are Trump’s tweets and Truth Social shitposts if not slop morsels, hurled into the internet’s ether for the rest of us to react to?",
          "Not unlike the fast food that Trump was hawking, slop is sometimes delicious, but it is never nutrient dense.",
          "What is a Trump rally but a teleprompter reading of stump-speech slop, interspersed with inexplicable lorem ipsum about Hannibal Lecter and wind turbines spun up by the unknowable language model in Trump’s own head?",
          "If AI slop can teach us something about a man like Trump, it seems that the opposite is also true.",
          "The glare of the potato-warming apparatus casts a shadow on the left side of Donald Trump’s face as he works at a McDonald’s in Bucks County, Pennsylvania.",
          "Just as it seems obvious that Trump’s devoted followers—an extremely online group that has so fully embraced conspiracy theorizing and election denial that some of its members stormed the Capitol building—would delight in the bespoke memes and crude depictions of AI art.",
          "None capture the awkward banality of the candidate’s actual campaign stop.",
          "In his own way, Trump has shown us all the limits of artificial intelligence.",
          "For me, it’s the amber glow of the fry machine gently illuminating the exhausted 45th president of the United States of America.",
          "The shadows of the McDonald’s kitchen, the interplay between the sheen of the stainless steel and the cast of the nugget-warming lights, give the very real photos a distinct Midjourney aesthetic.",
          "In the lead-up to the candidate’s fast-food stop, various news outlets, fans, and even T-shirt sellers used generative-AI tools to mock up what the visit might look like."
         ],
         "marker": {
          "opacity": 0.5,
          "size": 5
         },
         "mode": "markers+text",
         "name": "Trump Fast Food AIMockery",
         "text": [
          "",
          "",
          "",
          "",
          "",
          "",
          "",
          "",
          "",
          "",
          "",
          "",
          "",
          "",
          "",
          "",
          "",
          "",
          "",
          "",
          "",
          "",
          "",
          "",
          "",
          "",
          "",
          ""
         ],
         "textfont": {
          "size": 12
         },
         "type": "scattergl",
         "x": {
          "bdata": "lpCMPzrfHT/DsAM/0k5LP/6IBz8neoo/T0cFP7NqTz9V7IY/JG8FP+6uKT87uqk/wr+yP9NeAz8mbJ0/XTQHP78lfT/eL0g/9vRBP/uzSj++35k/NhIFP+3Atj87z2Y/GbCXP2O4Az8TjQ4/LQaCPw==",
          "dtype": "f4"
         },
         "y": {
          "bdata": "KH3KP137sz+kprM/EVG/P7z4sz9iXM0/umSzP1PExT/8PNw/4S+zP1ZFuD9fccA/ZFLQP/KWsz8Pm9o/z+yzP0dD2z9BlMU/30y/P6Gxxj8Ckcc/SwC0PzZEyT8OPcs/XI7EP2/ysz/JYLc/8LDAPw==",
          "dtype": "f4"
         }
        },
        {
         "hoverinfo": "text",
         "hovertext": [
          "Want to discuss a possible story?",
          "404 Media.",
          "Advertisement",
          "Everest Sherpa: Kami Rita Sherpa scaled Mount Everest for the 31st time, breaking his own record.",
          "The full article is available here.",
          "404 Media.",
          "Buried in the middle of the 404 Media story is a telling exchange.",
          "Listen to more stories on the Noa app.",
          ".",
          "Have a tip for us?",
          "Let us know in the comments below!",
          "Listen to more stories on the Noa app.",
          "Read the rest of the series.",
          "It encourages you to accept.",
          "404 Media.",
          "The original post continues below.",
          "®",
          "If you have any complaints or copyright issues related to this article, kindly contact the author above.",
          "Listen to more stories on the Noa app.",
          "Advertisement",
          "Listen to me.",
          "in its ads.",
          "Advertisement",
          "Advertisement"
         ],
         "marker": {
          "opacity": 0.5,
          "size": 5
         },
         "mode": "markers+text",
         "name": "Noa App Media and Stories",
         "text": [
          "",
          "",
          "",
          "",
          "",
          "",
          "",
          "",
          "",
          "",
          "",
          "",
          "",
          "",
          "",
          "",
          "",
          "",
          "",
          "",
          "",
          "",
          "",
          ""
         ],
         "textfont": {
          "size": 12
         },
         "type": "scattergl",
         "x": {
          "bdata": "TUDXP2dWEUAT7A5AN0rDPyZW+D9rqxJACEIRQFaT9D9hvQtATlTWP//Y2z8SufI/Pk70PxfcF0BnGBFAClP4P5J+DkC3VQlAxC7xPxLKDkBUKfM/sOYPQDXxDkCE+A5A",
          "dtype": "f4"
         },
         "y": {
          "bdata": "NmbIQBxms0AP/7VAVEW/QLwExUAwFbNANb6zQAsjyUB7GbdA/SDIQHyjwkDuwMhAE2jGQNRgr0A707NAlVjCQLEqtkCC1tRAUVLIQG0StkCXwchAGlq1QIP1tUAa8LVA",
          "dtype": "f4"
         }
        },
        {
         "hoverinfo": "text",
         "hovertext": [
          "The foundation’s stated goal is to raise $2m from major donors to award $100,000 grants to a list of “fellows” made up of rightwing media influencers.",
          "One Texas-based account that posts anti-vaccine content lists itself as a “JMFF” fellow in their bio, but none of the others advertise any connection.",
          "The @amuse account has considerable reach itself, with about 390,000 followers on X and dozens of daily posts.",
          "The Milton Freedom Foundation is one of many small groups flooding social media with so-called AI slop.",
          "The most recent tax records for the Freedom Foundation place it in the category of non-profits whose gross receipts, or total funds received from all sources, range from $0 to $50,000 – far below the millions it is seeking.",
          "It is not clear that the foundation has any money to give and if all the media influencers listed as its 2024 fellowship class know about the organization.",
          "Muse’s daughter, described as a 10th grade honor student on the non-profit’s site, serves as the Milton Foundation’s “fellowship chair”.",
          "The team behind it, according to its own documents, consists of five people based in the Dallas-Fort Worth area with varying degrees of experience in Republican politics.",
          "In addition to his blog, he claims to have worked with James O’Keefe, the former CEO of the rightwing organization Project Veritas, who was known for hidden camera stings until he was ousted last year over allegations of misplaced funds.",
          "While only one of the fellows listed on the foundation’s site mentions the organization on their X profiles and none follow its account, the @amuse account has a prominent link to the group’s community page and the foundation often engages with its posts.",
          "The organization’s board includes its chair, Brad Merritt, who is touted as an experienced Republican organizer with claims to have raised $300m for various non-profits; its director, Shiree Sanchez, who served as assistant director of the Republican party of Texas between 1985 and 1986; and Mark Karaffa, a retired healthcare industry executive.",
          "Muse, who is described in the prospectus as a “serial entrepreneur”, also blogs about how to make money from generative AI.",
          "Launched last year, the Texas-based non-profit organization frames itself as a press freedom group with the goal of “empowering independent journalists” and “fortifying the bedrock of democracy”.",
          "Muse’s book on how to secure startup funding, which includes examples of him asking ChatGPT to pretend it’s Musk and offer business advice, lists that same Substack account as its publisher.",
          "Muse’s experience in digital media appears to be far more extensive than the non-profit’s other members.",
          "On the text of the post, which was labeled “satire”, was a watermark that stated it was “sponsored by the John Milton Freedom Foundation”.",
          "The group’s day-to-day operations appear to revolve around sharing engagement bait on X and seeking millions from donors for a “fellowship program” chaired by a high school sophomore that would award $100,000 to Twitter personalities such as Glenn Greenwald, Andy Ngo and Lara Logan, according to a review of the group’s tax records, investor documents and social media output.",
          "The @amuse account has numerous connections with Muse.",
          "The John Milton Freedom Foundation did not respond to a request for comment to a set of questions about its operations and fellowship program.",
          "Running @amuse appears to be Alexander Muse, listed as a consultant in the investor prospectus of the Milton Foundation, who also writes a rightwing commentary Substack that includes posts exploring election conspiracy theories.",
          "The organization believes that this money would allow these already established influencers to “increase their reach by more than 10x in less than a year”, according to its investor prospectus.",
          "The X account is connected to a Substack posting the same articles that Muse publishes on his LinkedIn page, which also has the username “amuse”, reflecting his first initial and last name.",
          "The John Milton Freedom Foundation, named after the 17th-century British poet and essayist, has a small online footprint: a website, an investor prospectus and an X account with fewer than 500 followers."
         ],
         "marker": {
          "opacity": 0.5,
          "size": 5
         },
         "mode": "markers+text",
         "name": "John Milton Freedom Foundation Activities",
         "text": [
          "",
          "",
          "",
          "",
          "",
          "",
          "",
          "",
          "",
          "",
          "",
          "",
          "",
          "",
          "",
          "",
          "",
          "",
          "",
          "",
          "",
          "",
          ""
         ],
         "textfont": {
          "size": 12
         },
         "type": "scattergl",
         "x": {
          "bdata": "cz+eP91tnT+TcbU//3KQP5o1mT+ZNp4/36GzP16Clj+pWps/JZSxP9jfmD/C57k/F0aXP/fHuT/+krk/TBKSPwLGmz/5E7Y/LUSYP0sGuT/uO6A/O4K5P8sVmD8=",
          "dtype": "f4"
         },
         "y": {
          "bdata": "W268PrWDvT47EYM+M7AFP9UkxT7F3rU+ch5IPvwi3D5JzwA/+jN2Pqgj0D5UTTo+MnDbPkz5RD73hjQ+8HkFPymYzj4ws2A+1tPbPj4hSD4d0sE+ZIJbPmeI1T4=",
          "dtype": "f4"
         }
        },
        {
         "hoverinfo": "text",
         "hovertext": [
          "You can reach Wesley at wesley_yinpoole@ign.com or confidentially at wyp100@proton.me.",
          "IGN.",
          "IGN.",
          "IGN has asked Activision for comment.",
          "@deepfates\nis now @_deepfates.",
          "Please send an email to newstips@ign.com.",
          "IGN has asked Activision for comment.",
          "Alex Stedman is a Senior News Editor with IGN, overseeing entertainment reporting.",
          "Adam Bankhurst is a news writer for IGN.",
          "Find him on Twitter at @wyp100.",
          "Find him on Twitter at @wyp100.",
          "He'll talk about The Witcher all day.",
          "VF investigates.",
          "Inverse.",
          "Wesley is the UK News Editor for IGN.",
          "When she's not writing or editing, you can find her reading fantasy novels or playing Dungeons & Dragons.",
          "IGN.",
          "You can follow him on Twitter @AdamBankhurst and on Twitch.",
          "You can reach Wesley at wesley_yinpoole@ign.com or confidentially at wyp100@proton.me.",
          "Ryan Dinsdale is an IGN freelance reporter.",
          "IGN.",
          "IGN."
         ],
         "marker": {
          "opacity": 0.5,
          "size": 5
         },
         "mode": "markers+text",
         "name": "IGN News and Editing",
         "text": [
          "",
          "",
          "",
          "",
          "",
          "",
          "",
          "",
          "",
          "",
          "",
          "",
          "",
          "",
          "",
          "",
          "",
          "",
          "",
          "",
          "",
          ""
         ],
         "textfont": {
          "size": 12
         },
         "type": "scattergl",
         "x": {
          "bdata": "z3erP93FmT+QVJk/4ryZPwRIrD9gyKY/0kiYP8Sdqj+Bwqo/iTSsP/kJrD8Q1J0/30yuP4KWmT/5gak/81KpP3brmT9s1K8/NvisPy7yqD9U+Zg/0JqZPw==",
          "dtype": "f4"
         },
         "y": {
          "bdata": "COcNQQYmCEExDwhB3TcIQboTDkHz+AtBruAHQcLEDUG02w1B3wAOQRTrDUGKxA9BA5oEQUoMCEF0pQ5B/oQNQegECEFRZw5BgxcOQS49DUEVCAhBVzEIQQ==",
          "dtype": "f4"
         }
        },
        {
         "hoverinfo": "text",
         "hovertext": [
          "\"The Slop Candidate\".",
          "Actually scrubbing the slop would be even better.",
          "If sloppers are the manufacturing sector of the slop economy, these gurus, vouchers, and toolmakers represent the service sector.",
          "The main characteristic of slop is that there is an endless supply of it.",
          "Voilà: slop.",
          "They’re slop as well.",
          "Slop requires human intervention or it wouldn’t exist.",
          "\"Drowning in Slop\".",
          "Others expressed similar concerns: \"This is such slop bro.",
          "Why slop?",
          "Hence the term slop, which conjures images of heaps of unappetizing food being shoveled into troughs for livestock.",
          "That’s slop.",
          "The slop makes everyone money.",
          "Slop is the ideal name for this anti-pattern.",
          "Perfect example of slop.",
          "It is, in effect, a slop subsidy.",
          "'s 'Slop' Era Last?\".",
          "Slop is the most appropriate word for what it produces because, as disgusting and unappetizing as it may seem, we still eat it.",
          "This was proto-slop, for a simpler, more analog time.",
          "It’s what’s right there in the trough.",
          "But slop has a way of leaking out."
         ],
         "marker": {
          "opacity": 0.5,
          "size": 5
         },
         "mode": "markers+text",
         "name": "Discourse on \"Slop\" and Economy",
         "text": [
          "",
          "",
          "",
          "",
          "",
          "",
          "",
          "",
          "",
          "",
          "",
          "",
          "",
          "",
          "",
          "",
          "",
          "",
          "",
          "",
          ""
         ],
         "textfont": {
          "size": 12
         },
         "type": "scattergl",
         "x": {
          "bdata": "bz27QGiruUCbMrJA/P24QO1nukBHUbpAKcmzQHHMuUBL57pAgm+4QJqbukCoVLpATfu0QG+EuUBnmLtAt5+4QMv0uUAZG7hAKxu6QEw+ukAOd7hA",
          "dtype": "f4"
         },
         "y": {
          "bdata": "qGsCQBOQ/T9Xses/+Hz3P9CZ+j/7L/s/rcQCQKaIAkAQWvs/EbT+P7rJ9z+ZwPs/nHrtP7lHAEDKfv4/PoTwP9USA0AFIvs/tEcBQAXk+T+WQ/g/",
          "dtype": "f4"
         }
        },
        {
         "hoverinfo": "text",
         "hovertext": [
          "[29]\nIn October 2024, thousands of people were reported to have assembled for a non-existent Halloween parade in Dublin as a result of a listing on an aggregation listings website, MySpiritHalloween.com, which used AI-generated content.",
          "The website includes listings of Halloween events in Ireland and other countries.",
          "They’d gathered after a website called MySpiritHalloween.com published an AI-generated article promoting the festivities.",
          "The culprit seems to be the website MySpiritHalloween.com, which contains a glut of Halloween event listings, costume tips and game ideas.",
          "The site lists Halloween events in multiple places, including in Britain, Ireland and the United States.",
          "The My Spirit Halloween website falsely advertised the Macnas Halloween Parade would take place from 7pm to 9pm, with interest in it seeing the news ranking on Google.",
          "We hired some content writers online, and they helped us out on all the Halloween events throughout the world: in the USA, in UK, and most importantly, Ireland.",
          "'Intentions are very pure'\nThe public showed up due to a post which first appeared on a website called 'myspirithalloween.com'.",
          "MySpiritHalloween.com updated their page to say that the parade had been \"canceled\" when they became aware of the issue.",
          "Set up a bowling alley in your backyard or living room for hours of fun.” The site also has itself as being for sale.",
          "The site curates Halloween events spanning the globe.",
          "It was “not on purpose.”\nMr. Ali, who owns at least five other websites, declined to say where he was based, but said that MySpiritHalloween.com used artificial intelligence to generate its content.",
          "Indeed, the \"About Us\" section on MySpiritHalloween.com shows what appear to be AI-generated photos of the site's \"Halloween writers.\"",
          "The website, he said, compiled information from about 1,400 Halloween events from all over the world.",
          "The owner said the website is based in Pakistan and the issue occurred when a writer using a listing of a previous parade was \"unaware\" that it was not taking place this year.",
          "MySpiritHalloween.com owner Nazir Ali is one of them.",
          "\"The Guy Behind the Fake AI Halloween Parade Listing Says You've Got It All Wrong\".",
          "It’s a terrible pity.”\nThe My Spirit Halloween listing appeared to have been taken down on Friday morning.",
          "\"Dublin: Halloween parade listing 'mistake' says website owner\".",
          "The decked-out Dubliners had been tricked by a listing on a AI-generated website based in Pakistan that announced the spooky festival before news of it quickly spread online."
         ],
         "marker": {
          "opacity": 0.5,
          "size": 5
         },
         "mode": "markers+text",
         "name": "AI-Generated Halloween Event Misinformation",
         "text": [
          "",
          "",
          "",
          "",
          "",
          "",
          "",
          "",
          "",
          "",
          "",
          "",
          "",
          "",
          "",
          "",
          "",
          "",
          "",
          ""
         ],
         "textfont": {
          "size": 12
         },
         "type": "scattergl",
         "x": {
          "bdata": "SMyVvwmqgb8f8Ie/AJ6Dv24Igb8cgpK/Xz5uv4D/hb9Hrnq/T62iv87Lgb8QMme/7kF/v/zchr+3PU6/0/htv531jb/maoK/3ruTv6Vel78=",
          "dtype": "f4"
         },
         "y": {
          "bdata": "MkqgQBSAl0BBlpxAUdOaQBKyl0Ao0J9AtFSVQJLWnUA4YKJAzhSfQHUxl0DYrJxA/2ebQL6JmEAzvaFAXdqbQAXvnkCENJ9A1A+gQPAQoUA=",
          "dtype": "f4"
         }
        },
        {
         "hoverinfo": "text",
         "hovertext": [
          "Retrieved 28 September 2024.",
          "Related topics\n- Published1 November 2024",
          "Retrieved 1 November 2024.",
          "Retrieved 29 September 2024.",
          "Retrieved 29 September 2024.",
          "Retrieved 29 September 2024.",
          "Retrieved 4 November 2024.",
          "Retrieved 4 October 2024.",
          "Retrieved 4 October 2024.",
          "Retrieved 28 September 2024.",
          "Retrieved 1 November 2024.",
          "Retrieved 3 November 2024.",
          "Retrieved 28 September 2024.",
          "Retrieved 4 November 2024.",
          "Retrieved 15 October 2024.",
          "Retrieved 29 September 2024.",
          "Retrieved 15 October 2024.",
          "Retrieved 29 September 2024.",
          "Retrieved 6 October 2024.",
          "Retrieved 14 November 2024."
         ],
         "marker": {
          "opacity": 0.5,
          "size": 5
         },
         "mode": "markers+text",
         "name": "Document Retrieval Dates 2024",
         "text": [
          "",
          "",
          "",
          "",
          "",
          "",
          "",
          "",
          "",
          "",
          "",
          "",
          "",
          "",
          "",
          "",
          "",
          "",
          "",
          ""
         ],
         "textfont": {
          "size": 12
         },
         "type": "scattergl",
         "x": {
          "bdata": "OYVOQY6eS0F7nUtBOIVOQT2FTkE5hU5Bqp9LQcpZS0EQeEtBVYVOQZ2dS0EfoUtBP4VOQTmbS0FQXEtBa4VOQXtKS0FxhU5BcHpLQVuhS0E=",
          "dtype": "f4"
         },
         "y": {
          "bdata": "zauivwjhAUGx2QFBhquiv4+ror+Oq6K/KNwBQXGPAUFIrgFBTKyiv5DZAUHo3AFBDKyiv/XWAUFrjwFBnayiv3R9AUGwrKK/g7ABQbvdAUE=",
          "dtype": "f4"
         }
        },
        {
         "hoverinfo": "text",
         "hovertext": [
          "There’s currently no code for that.",
          "OK. Is there anything else you think people have gotten wrong about you?",
          "Thank you.",
          "I appreciate that.",
          "Is that true?",
          "That’s it.",
          "Exactly, yes, we humanized it.",
          "Definitely.",
          "It’s not really passive income, either.",
          "Great job, guys.",
          "Yes.",
          "Yes.",
          "Kate Knibbs: Well, how are you doing?",
          "Yikes.",
          "No, there is nothing.",
          "Not really, no.",
          "Well, I’m glad you didn’t do that.",
          "Definitely.",
          "There’s currently no code for that.",
          "Is there anything you could try to do to prevent that?"
         ],
         "marker": {
          "opacity": 0.5,
          "size": 5
         },
         "mode": "markers+text",
         "name": "Personal Interactions and Clarifications",
         "text": [
          "",
          "",
          "",
          "",
          "",
          "",
          "",
          "",
          "",
          "",
          "",
          "",
          "",
          "",
          "",
          "",
          "",
          "",
          "",
          ""
         ],
         "textfont": {
          "size": 12
         },
         "type": "scattergl",
         "x": {
          "bdata": "HcCIP+UbYT8tLGw/XRpsP6YwiD/Udo0/ibpqQBCXcD8qhG0/oohDPzsRdj+IVnQ/EIA+P6KnUz8qlog/+uV+P0tYVD9MTnE//jaLP+2/jD8=",
          "dtype": "f4"
         },
         "y": {
          "bdata": "PXSxQMQ9pkBnJK1AiUCsQJ2zqkAH27BATp6SQGpCq0A8c6RAXfmrQD9Qq0BHj6tAFXuuQOa7qUApPq9AmAerQEGtrUBVW6tAcCmxQK1xr0A=",
          "dtype": "f4"
         }
        },
        {
         "hoverinfo": "text",
         "hovertext": [
          "7 January 2025.",
          "4 February 2025.",
          "2 November 2024.",
          "20 November 2024.",
          "1 November 2024.",
          "4 October 2024.",
          "19 February 2025.",
          "19 April 2024.",
          "25 February 2025.",
          "But, in 2024, what fans unwrapped was a little underwhelming.",
          "1 November 2024.",
          "11 June 2024.",
          "18 November 2024.",
          "24 July 2024.",
          "16 January 2024.",
          "15 April 2025.",
          "30 June 2024.",
          "But, in 2024, what fans unwrapped was a little underwhelming.",
          "10 March 2025.",
          "16 January 2024."
         ],
         "marker": {
          "opacity": 0.5,
          "size": 5
         },
         "mode": "markers+text",
         "name": "2024 November Event Timeline",
         "text": [
          "",
          "",
          "",
          "",
          "",
          "",
          "",
          "",
          "",
          "",
          "",
          "",
          "",
          "",
          "",
          "",
          "",
          "",
          "",
          ""
         ],
         "textfont": {
          "size": 12
         },
         "type": "scattergl",
         "x": {
          "bdata": "xboCQeLAAkF5cQRB+rQEQbKJBEFbcARB/scCQZSeBEH/yAJBqrEDQfKIBEGK4gRB/qoEQRP6BEFtnwRBR6QCQVi0BEEO1gNBlNYCQTaUBEE=",
          "dtype": "f4"
         },
         "y": {
          "bdata": "/2YBQbNtAUE8fARBGoUEQVqFBEFkngRBYnkBQUu8BEErfgFBc2gEQU2IBEG+BAVBesAEQfM2BUEXtQRBtUoBQeHhBEHifwRB3n4BQTqxBEE=",
          "dtype": "f4"
         }
        },
        {
         "hoverinfo": "text",
         "hovertext": [
          "This isn’t to say that AI should automatically be removed from the creative sphere.",
          "For more on the issue, check out IGN's full AI Week coverage from last year, including a report about how it's become the new battleground in the animation industry.",
          "The rise of AI has coincided with global unemployment trends and the growth of the gig economy in the post-pandemic era.",
          "\"AI in the Creative Industries: Strikes, Debates and Implications\".",
          "In response, Furukawa said generative AI can be used “in creative ways,” but said its use “also raise issues with intellectual property rights.”\nGenerative AI thus far has drawn criticism from players and creators due to a mix of ethical issues, rights issues, and AI’s struggles to produce content audiences actually enjoy.",
          "Regardless, AI has proved a controversial topic within video games and other creative industries.",
          "There’s also additional concern that widespread adoption of AI could exacerbate the ongoing video game labor crisis, as it could put humans out of work.",
          "Generative AI is one of the hottest topics within the video game and entertainment industries, which have both suffered massive layoffs in recent years.",
          "20th International Symposium of Communication in the Millennium: 193–199 – via ResearchGate.",
          "Elsewhere, Microsoft now offers generative AI tools to its studios, but the industry as a whole appears sceptical of the technology.",
          "But the idea that AI has quietly crowded out humans is not exactly right.",
          "For example, generative AI cannot replace genuine human creativity – it is merely a mulch of previous human ideas.",
          "#HolidayFactz.”\nMany artists and creative professionals have pushed back against the use of AI in creative works, arguing that the technology may be used to replace human workers and that many AI models were trained on artists’ work without proper compensation or credit.",
          "Generative AI is one of the hottest topics within the video game and entertainment industries, which have both suffered massive layoffs in recent years.",
          "Generative AI thus far has drawn criticism from players and creators due to a mix of ethical issues, rights issues, and AI’s struggles to produce content audiences actually enjoy.",
          "The company even has its own global head of generative AI.",
          "“We didn’t start by saying: ‘OK, we need to do this with AI,’” he said.",
          "AI technology has been seeping into game development to mixed reception.",
          "AI remains a hot-button topic in creative industries, emerging as a major point of contention in last year's Hollywood writers' and actors' strikes and in the current video game actor strike."
         ],
         "marker": {
          "opacity": 0.5,
          "size": 5
         },
         "mode": "markers+text",
         "name": "Generative AI in Entertainment",
         "text": [
          "",
          "",
          "",
          "",
          "",
          "",
          "",
          "",
          "",
          "",
          "",
          "",
          "",
          "",
          "",
          "",
          "",
          "",
          ""
         ],
         "textfont": {
          "size": 12
         },
         "type": "scattergl",
         "x": {
          "bdata": "NoeQQO0cj0DNvY5A7e2RQC9OlEDTVZJALbaRQMuKlUBWVZRAhueUQMv2jkAWWZJAt6WUQO5XlEBtqJRAo5eVQNqsf0DIGJJAPG6SQA==",
          "dtype": "f4"
         },
         "y": {
          "bdata": "uzWWQAc3mECGRpZA3xCYQLFglUCGNZdAnqWXQMgek0BA7plA1kOVQIyBlUBNu5FA1mSdQAmTk0A9V5RAfg6SQJtjkkA6oJhAbUaYQA==",
          "dtype": "f4"
         }
        },
        {
         "hoverinfo": "text",
         "hovertext": [
          "Slop, at least in the fast-moving world of online message boards, is a broad term that has developed some traction in reference to shoddy or unwanted A.I.",
          "Slop is the new name for unwanted AI-generated content\n8th May 2024\nI saw this tweet yesterday from @deepfates, and I am very on board with this:\nWatching in real time as “slop” becomes a term of art.",
          "the way that “spam” became the term for unwanted emails, “slop” is going in the dictionary as the term for unwanted AI generated content\nUpdate: that account has been deleted so the Tweet is a 404 now—the tweet quote tweeted this one by @allgarbled.",
          "- ^ \"Slop is the new name for unwanted AI-generated content\".",
          "Just like spam, almost no one wants to view slop, but the economics of the internet lead to its creation anyway.",
          "Slop, as it relates to AI, is loosely defined as spammy, cheap blocks of text, video, or images, quickly generated by computer programs for mass distribution.",
          "Unlike a chatbot, the slop isn’t interactive, and is rarely intended to actually answer readers’ questions or serve their needs.",
          "AI slop\n\"AI slop\", often simply \"slop\", is a term for low-quality media, including writing and images, made using generative artificial intelligence technology, characterized by an inherent lack of effort, logic, or purpose.",
          "Supported by\nFirst Came ‘Spam.’ Now, With A.I., We’ve Got ‘Slop’\nA new term has emerged to describe dubious A.I.-generated material.",
          "You may not know exactly what “slop” means in relation to artificial intelligence.",
          "when it is used correctly, thought that slop could become the go-to term for the lesser forms of machine-generated content.",
          "Occasionally, a piece of slop is so useless that it goes viral in its own right, like the careers advice article that earnestly explains the punchline to a decades-old newspaper comic: “they pay me in woims”.",
          "What is 'AI Slop'?",
          "Slop, the OUP writes, is “art, writing, or other content generated using artificial intelligence, shared and distributed online in an indiscriminate or intrusive way, characterised as being of low quality, inauthentic, or inaccurate”.",
          "[5] Early uses of the term \"slop\" as a descriptor for low-grade AI material apparently came in reaction to the release of AI image generators in 2022.",
          "- ^ a b c d e \"First Came 'Spam.'",
          "I’m hoping ‘slop’ has the same impact – it can make it clear to people that generating and publishing unreviewed AI-generated content is bad behaviour.”\nSlop is most obviously harmful when it is just plain wrong.",
          "- Slop is often scam-adjacent, but the accounts posting it may not directly be the ones doing the scams, so they don't get banned.",
          "“Slop” is what you get when you shove artificial intelligence-generated material up on the web for anyone to view."
         ],
         "marker": {
          "opacity": 0.5,
          "size": 5
         },
         "mode": "markers+text",
         "name": "AI-Generated Low-Quality Content",
         "text": [
          "",
          "",
          "",
          "",
          "",
          "",
          "",
          "",
          "",
          "",
          "",
          "",
          "",
          "",
          "",
          "",
          "",
          "",
          ""
         ],
         "textfont": {
          "size": 12
         },
         "type": "scattergl",
         "x": {
          "bdata": "PL2kQD3Wp0CvkKZARkukQEZlm0BpCqRA1LCmQA31n0CvXp1AhtijQHjRqEDl759AMtGhQDrzpEActp5ApS6dQHpnqkAaJ6NAF+uiQA==",
          "dtype": "f4"
         },
         "y": {
          "bdata": "HrgIQLTYEUDmqBBAFo4SQIyYBEDGmwdANc0JQDyKDkDmxxJALzAHQAgXDUCxhAtAotsCQEnJC0BgUxlAIkEFQIR1DECkqANAC04PQA==",
          "dtype": "f4"
         }
        },
        {
         "hoverinfo": "text",
         "hovertext": [
          "Retrieved 24 March 2025.",
          "Retrieved 31 March 2025.",
          "Retrieved 27 March 2025.",
          "Retrieved 24 March 2025.",
          "Retrieved 24 April 2025.",
          "Retrieved 24 March 2025.",
          "Retrieved 24 March 2025.",
          "Retrieved 23 March 2025.",
          "Retrieved 24 March 2025.",
          "Retrieved 24 March 2025.",
          "Retrieved 24 March 2025.",
          "Retrieved 24 March 2025.",
          "Retrieved 31 March 2025.",
          "Retrieved 23 March 2025.",
          "Retrieved 27 March 2025.",
          "Retrieved 31 March 2025.",
          "Retrieved 25 April 2025.",
          "Retrieved 24 April 2025.",
          "Retrieved 24 March 2025."
         ],
         "marker": {
          "opacity": 0.5,
          "size": 5
         },
         "mode": "markers+text",
         "name": "March 2025 Retrieval Dates",
         "text": [
          "",
          "",
          "",
          "",
          "",
          "",
          "",
          "",
          "",
          "",
          "",
          "",
          "",
          "",
          "",
          "",
          "",
          "",
          ""
         ],
         "textfont": {
          "size": 12
         },
         "type": "scattergl",
         "x": {
          "bdata": "3D2EQb0dhEHlQYRBzjmEQZb2hEGZLYRBsz6EQRgwhEHFaYRB3jGEQTo2hEGlN4RBVQ+EQbsxhEEeQoRByxyEQSAAhUFk8YRB3zaEQQ==",
          "dtype": "f4"
         },
         "y": {
          "bdata": "rgBGQWT9RUHSA0ZBju9FQRxQR0F73UVBqgZGQXznRUHaVkZBFOdFQRzxRUFb8kVBSbNFQSDnRUFdBUZB8/RFQWNSR0GcUUdBa/BFQQ==",
          "dtype": "f4"
         }
        },
        {
         "hoverinfo": "text",
         "hovertext": [
          "The game being a block puzzle title, incorporates the old-school brick game gameplay with your favorite Angry Birds.",
          "Rovio Entertainment Corporation has announced the launch of their latest casual puzzle title, Angry Birds Block Quest, which has now soft-launched for Android in the US.",
          "\"Angry Birds Block Quest: Rovio's latest title in the franchise has soft-launched for Android in the US\".",
          "- Angry Birds Block Quest is a block puzzle game and the newest entry in the Angry Birds franchise.",
          "The game is now available for Android as a soft launch in the US for Android.",
          "Perfect your block placement skills in Angry Birds Block Quest\nAngry Birds Block Quest is a block puzzle title and the latest addition to the Angry Birds franchise.",
          "If you are residing in America, you can access the game via your respective Google Play Stores.",
          "Please keep in mind that the game may not function properly if you don’t have the latest version installed.",
          "- ^ \"Angry Birds Block Quest Soft Launches on Android, Sparking Debate Over Generative AI Content -\".",
          "[45][46] It was eventually discontinued and removed from the Play Store.",
          "Rovio Entertainment Corporation has indicated that they may release periodic updates for the game to add new features, and content, and fix bugs and other technical issues.",
          "Read other related articles:\n- Girls’ Frontline to suspend service in China, servers to shut down on December 31, 2024\n- The King of Fighters ALLSTAR has shut down on October 30, 2024\n- Pokémon Masters EX is set to shutdown in Vietnam on November 27, 2024\n- Pokémon UNITE ACL 2025 India League: Teams, Format, Prize pool, and more\n- Miraibo GO Abyssal Souls Season this October 2024 brings new gameplay elements\nWhat are your thoughts as Angry Birds Block Quest has recently soft-launched in the US?",
          "- There is currently no information about its release in other regions or for iOS.",
          "[42][43]\nIn 2024, Rovio Entertainment released a demo of a mobile game called Angry Birds: Block Quest on Android.",
          "In this game, you will navigate your way through innovative levels while enjoying satisfying mechanics with classic Angry Birds characters.",
          "However, the devs have yet to specify any information regarding the game’s global or iOS release.",
          "- ^ \"Angry Birds Block Quest - Soft launch for Android in the US\"."
         ],
         "marker": {
          "opacity": 0.5,
          "size": 5
         },
         "mode": "markers+text",
         "name": "Angry Birds Puzzle Game Launch",
         "text": [
          "",
          "",
          "",
          "",
          "",
          "",
          "",
          "",
          "",
          "",
          "",
          "",
          "",
          "",
          "",
          "",
          ""
         ],
         "textfont": {
          "size": 12
         },
         "type": "scattergl",
         "x": {
          "bdata": "Xk8RwAloD8BhHQ/ARQIQwHuGDMAcDRDAZfkKwPFkC8DZSg7AhGLJv6ftDsAp3gzAQv4CwMgrDsAxBxHANmMCwEaVDcA=",
          "dtype": "f4"
         },
         "y": {
          "bdata": "cgAnQTTJJkF7tSZBg9ImQcJaJkEb1SZBc5gmQeIrJkECjSZByyEnQTSdJkGjKiZBJTolQQW+JkE90SZBryklQT1uJkE=",
          "dtype": "f4"
         }
        },
        {
         "hoverinfo": "text",
         "hovertext": [
          "But not all A.I.s are large language models like ChatGPT, Gemini or Claude, each of which were trained on gobsmackingly large quantities of text to better simulate interaction with humans and bring them closer to approximations of humanlike thinking, at least in theory.",
          "One of his methods is to focus on what he calls “smoking guns” — phrases that show unambiguously the use of an AI text generator like ChatGPT.",
          "However, he says, the rise of ChatGPT and similar generative AI programs have the \"potential not only to reshape what we create, but also to fundamentally change the processes by which we create, including programming.\"",
          "The number is much larger today, whether you choose to be impressed by the reported performance of ChatGPT on the LSAT or frustrated that Claude cannot solve logic problems intuitive to a kindergartner (or even reliably tell you whether 9.11 is greater than 9.9, as a Windows 95 calculator could).",
          "One of these is “regenerate response,” which appears at the end of ChatGPT’s answers.",
          "More recent articles\n- Large Language Models can run tools in your terminal with LLM 0.26 - 27th May 2025\n- Highlights from the Claude 4 system prompt - 25th May 2025\n- Live blog: Claude 4 launch at Code with Claude - 22nd May 2025",
          "Others are “as an AI language model,” “as of my knowledge cutoff,” and “I cannot fulfill that request,” phrases that ChatGPT and other chatbots use frequently.",
          "So we took help from AI, we took help from ChatGPT, but we optimized that ourselves.",
          "We asked ChatGPT to write the article for us, but it wasn’t ChatGPT by itself.",
          "Peer away from those chatbots and you can see a very different story, with different robot protagonists: machine-learning tools trained much more narrowly and focused less on producing a conversational, natural-language interface than on processing data dumps much more efficiently than human minds ever could.",
          "\"However, the introduction of ChatGPT, which allows anyone to easily produce writing or translations or to engage in text-based dialogue, sparked the rapid spread of generative AIs.",
          "[33] The site's owner said that \"We asked ChatGPT to write the article for us, but it wasn't ChatGPT by itself.\"",
          "Initially, platforms like ChatGPT and Google Gemini were celebrated for their efficiency.",
          "Some researchers, especially those for whom English is not a first language, use ChatGPT and other AI programs to help with translation and editing.",
          "I’m a big proponent of LLMs as tools for personal productivity, and as software platforms for building interesting applications that can interact with human language.",
          "\"However, the introduction of ChatGPT, which allows anyone to easily produce writing or translations or to engage in text-based dialogue, sparked the rapid spread of generative AIs."
         ],
         "marker": {
          "opacity": 0.5,
          "size": 5
         },
         "mode": "markers+text",
         "name": "Evolution of Generative Language Models",
         "text": [
          "",
          "",
          "",
          "",
          "",
          "",
          "",
          "",
          "",
          "",
          "",
          "",
          "",
          "",
          "",
          ""
         ],
         "textfont": {
          "size": 12
         },
         "type": "scattergl",
         "x": {
          "bdata": "JseYQCE7nECU45hAK+CZQEsImkB6fJxADQScQPzWlUD/OphAaDqWQMxMmEBMlJdAVX+XQP8hmED/zJtAkr6YQA==",
          "dtype": "f4"
         },
         "y": {
          "bdata": "q012QBUrckB5PHxANrR1QKvzdkCuyGlASVh1QNt4gEDut3pA0DF0QNGCeECFMHpARQB3QIGSekCMCGJAdYF4QA==",
          "dtype": "f4"
         }
        },
        {
         "hoverinfo": "text",
         "hovertext": [
          "Her new book, “The Dry Season,” chronicles a bold experiment in her search for self-knowledge.",
          "Understanding Rosie O’Donnell: She’s moved to Ireland.",
          "Giving Up Sex: The writer Melissa Febos has a taste for extremes.",
          "A Basketball Star Is Born: Paige Bueckers became a college sensation for her skill and her style.",
          "More Great Stories From Vanity Fair\nThe Unsinkable Kathy Bates\nFrom RFK Jr. to Patrick Schwarzenegger, a Brief Guide to the Kennedy Family\nWhy Is Trump Pardoning this Reality TV Couple Convicted of Fraud?",
          "Look of the Week: Dandy attire for a night at the opera.",
          ": Homes, hotels, restaurants, stores, books, candles, caviar sets.",
          "The Jeweler to the Stars: Jessica McCormack, the London jeweler with a knack for injecting cool-girl energy into top-dollar pieces, has opened a shop in Manhattan.",
          "She’s befriended a Menendez brother, and she’s making documentaries.",
          "Mariska Hargitay Was “Living a Lie” for 30 Years.",
          "Now she’s joining the W.N.B.A.’s growing constellation of stars.",
          "Farewell to the Ghosts of Dior Past: Assessing Maria Grazia Chiuri’s likely final collection — and how she changed Dior.",
          "Now She’s Embracing Her Mother—and Her Biological Father\nAll the Cast Members That Might Leave SNL This Fall\nThe Link Between Ted Bundy, Charles Manson, and Gary Ridgway\nSherri Papini, Accused of Faking Her Own Kidnapping, Finally Tells Her Side of the Story\nRo Khanna Really Believes “Blue MAGA” Can Save the Dems—and Steve Bannon Loves It\nThe 42 Best Romantic Comedies of All Time\nWhat Scarlett Johansson Wants\nFrom the Archive: How Trump Turned Palm Beach’s Exclusivity Against It—With a Barrage of Lawsuits",
          "Explore Our Style Coverage\nFashion, trends, love and more.",
          "NOTE: This content is not written by or endorsed by \"WTEN\", its advertisers, or Nexstar Media Inc.",
          "Explore Our Style Coverage\nFashion, trends, love and more."
         ],
         "marker": {
          "opacity": 0.5,
          "size": 5
         },
         "mode": "markers+text",
         "name": "Celebrity, Politics, and Culture",
         "text": [
          "",
          "",
          "",
          "",
          "",
          "",
          "",
          "",
          "",
          "",
          "",
          "",
          "",
          "",
          "",
          ""
         ],
         "textfont": {
          "size": 12
         },
         "type": "scattergl",
         "x": {
          "bdata": "2KnZPzTP1j+n2dY/zm3NP+xqzz8Fsdk/HGJTP3YnwT8lRs8/R2jPP3n1yj+4SdU/qxfOP18F2D/vBAtAlIjZPw==",
          "dtype": "f4"
         },
         "y": {
          "bdata": "LprvQO968EBES+9AHWLuQPHu8EBYU/FAaXjcQNPY60C2ke5A457uQAht7kDFte9AZT/uQKEi8ECTZdxA7GrwQA==",
          "dtype": "f4"
         }
        },
        {
         "hoverinfo": "text",
         "hovertext": [
          "“Gen Z loves content that feels spontaneous, surreal, and made for instant consumption.",
          "“Ryanair succeeds not because they post Brainrot content,” De Nittis writes, “but because their version is still very Ryanair — cheap, cheeky, and chaotic.",
          "They’re not just jumping on trends — they’re showing they’re in on the joke.”\nAccording to research by GWI, 76% of Gen Z uses TikTok to watch funny videos, and Lifewire reports 57% prefer short videos for product research.",
          "“This is important for the younger Gen Z and Gen Alpha audiences, who are the first generations that grew up digitally and are looking for personalization across everything, as well as looking for experiences to have more meaning.\"",
          "So, what is Italian Brainrot?",
          "It's loud, messy, and wildly popular — exactly the kind of content that sticks with Gen Z.",
          "- ^ \"Why Brands Are Embracing 'Italian Brainrot' to Go Viral on TikTok and Win Over Gen Z\".",
          "[26] The Italian brainrot AI trend was widely adopted by advertisers to adjust well to younger audiences.",
          "De Nittis’ article, published today on Human Centric Group’s website, breaks down how brands like Ryanair and Samsung are jumping on the trend and seeing six-figure engagement spikes — all while barely lifting a production finger.",
          "About The Author\nFrancesco De Nittis is manager at Human Centric Group.",
          "Italian Brainrot hits the sweet spot: it’s fast, memeable, and demands zero cognitive load.",
          "De Nittis notes that brands leveraging this meme-based chaos aren’t doing it for laughs — they’re using it to inject themselves into the fast-moving, low-effort humor loops Gen Z thrives on.",
          "“Italian Brainrot is ridiculous — and that’s the point,” says De Nittis.",
          "Why Brands Are Embracing 'Italian Brainrot' to Go Viral on TikTok and Win Over Gen Z\nNews provided by\nApr 15, 2025, 2:30 AM ET\nHuman Centric Group decodes the viral Italian Brainrot trend and explains why it’s more than just a meme for brands chasing Gen Z."
         ],
         "marker": {
          "opacity": 0.5,
          "size": 5
         },
         "mode": "markers+text",
         "name": "Italian Brainrot Viral Branding",
         "text": [
          "",
          "",
          "",
          "",
          "",
          "",
          "",
          "",
          "",
          "",
          "",
          "",
          "",
          ""
         ],
         "textfont": {
          "size": 12
         },
         "type": "scattergl",
         "x": {
          "bdata": "SPp5QLaBeUDg1HtA3l96QE7YeUB0OnpAQEZ8QAZQfEDdk3xAejGDQIrheUBDT35AwKV5QOyOfUA=",
          "dtype": "f4"
         },
         "y": {
          "bdata": "UdoJPvgDOL0VR3Q94SUCPt9XMb0+lgU+A3dDumv4XjkPiQu9gUxxveRZBL25ym89dHwSvfe7vTw=",
          "dtype": "f4"
         }
        },
        {
         "hoverinfo": "text",
         "hovertext": [
          "“What we always see with any slang is that it starts in a niche community and then spreads from there,” Mr. Aleksic said.",
          "The term has sprung up in 4chan, Hacker News and YouTube comments, where anonymous posters sometimes project their proficiency in complex subject matter by using in-group language.",
          "[7]\nThe British computer programmer Simon Willison is credited with being an early champion of the term \"slop\" in the mainstream,[1][7] having used it on his personal blog in May 2024.",
          "[9] However, he has said it was in use long before he began pushing for the term.",
          "Adam Aleksic, a linguist and content creator who uses the handle etymologynerd on social media, believes that slop — which he said has yet to cross over to a broader audience — shows promise.",
          "simonwillison.net.",
          "Therefore, it’s less in your face.”\n@etymologynerd More great discussion of this in Alan Metcalf's book \"Predicting New Words\" #etymology #linguistics #language #memehistory #rizz #skibidi ♬ original sound - etymologynerd\nThe use of slop as a descriptor for low-grade A.I.",
          "And while slop is one option, it is still an open question of whether it will catch on with a mainstream audience, or end up in the slang dustbin with cheugy, bae and skibidi.",
          "Some have identified Simon Willison, a developer, as an early adopter of the term — but Mr. Willison, who has pushed for the phrase’s adoption, said it was in use long before he found it.",
          "“I think having a name for this is really important, because it gives people a concise way to talk about the problem,” says the developer Simon Willison, one of the early proponents of the term “slop”.",
          "“It’s a word that feels like it’s naturally applicable to this situation.",
          "“I think this is a great example of an unobtrusive word right now, because it is a word we’re all familiar with,” Mr. Aleksic said.",
          "Its early use has been noted among 4chan, Hacker News, and YouTube commentators as a form of in-group slang.",
          "Like, we’ve had a lot of words spread from a bunch of coding nerds, right?"
         ],
         "marker": {
          "opacity": 0.5,
          "size": 5
         },
         "mode": "markers+text",
         "name": "Origin and Adoption of \"Slop\"",
         "text": [
          "",
          "",
          "",
          "",
          "",
          "",
          "",
          "",
          "",
          "",
          "",
          "",
          "",
          ""
         ],
         "textfont": {
          "size": 12
         },
         "type": "scattergl",
         "x": {
          "bdata": "ZjStQDEtr0CfC7FAzwywQNg4rEAhy7JAP2WqQGkXq0Ae2rFAaIiwQFYoqkC2gKtAMQKwQF4prUA=",
          "dtype": "f4"
         },
         "y": {
          "bdata": "U0kSQHiaGkAkNBVAsbIZQEqJFEBd2xpAsUoSQFcgDkDw6BlAB08WQFTYFEBqoBRAIXoaQBr6GEA=",
          "dtype": "f4"
         }
        },
        {
         "hoverinfo": "text",
         "hovertext": [
          "From their weird narrative instincts and inert prose, Clarke realized the stories came straight from ChatGPT.",
          "Something strange was happening at Clarkesworld, the magazine Clarke had founded in 2006 and built into a pillar of the world of speculative fiction.",
          "Clarke doesn’t like to describe how the filter works for fear of giving too much away to the spammers, but “it’s holding things at bay,” he said.",
          "Submissions were increasing rapidly, but “there was something off about them,” he told me recently.",
          "We know that the original source of these things was side-hustle scams,” Clarke told me.",
          "Clarkesworld was, luckily, only temporarily disabled by the slop deluge; over the course of March 2023, with the help of volunteers, Clarke built a “very rudimentary spam filter,” and by the end of the month the magazine was able to reopen submissions.",
          "Clarke compared the problem to turning off the spam filter and trying to read your email: “Okay, now multiply that by ten because that’s the ratio that we were getting.” Within weeks, the problem became unmanageable.",
          "“We had reached the point where we were on track to receive as many generated submissions as legitimate ones,” Clarke told me.",
          "Slop started seeping into Neil Clarke’s life in late 2022.",
          "Sometimes they would arrive with the original prompt included, which was often as simple as “Write a 1,000-word science-fiction story.”\nIt was relatively easy to identify an AI-generated submission, but that required reading thousands (a “wall of noise”) and manually sorting them.",
          "The future portended by the past two years is one in which we all become cataloguers, Neil Clarkes sorting through the noise for a little bit of signal.",
          "Clarkesworld had become one of the first victims of AI slop.",
          "Eventually, on February 20, he made the decision to close submissions temporarily."
         ],
         "marker": {
          "opacity": 0.5,
          "size": 5
         },
         "mode": "markers+text",
         "name": "Clarkesworld Submission Spam Crisis",
         "text": [
          "",
          "",
          "",
          "",
          "",
          "",
          "",
          "",
          "",
          "",
          "",
          "",
          ""
         ],
         "textfont": {
          "size": 12
         },
         "type": "scattergl",
         "x": {
          "bdata": "8FOeQNs3o0DUfKNAtZekQBlonkDMs6NAH+qjQCt2o0DLRqRAGHCgQNtSo0CeKKNA4aijQA==",
          "dtype": "f4"
         },
         "y": {
          "bdata": "1L5MQEHtPUDDaDlAJ4k5QIv8NUC39D1AdZw7QIc3PECLfzJABEdOQPlzPkBfrz1AXOo9QA==",
          "dtype": "f4"
         }
        },
        {
         "hoverinfo": "text",
         "hovertext": [
          "AI is a double-edged sword\nIn the rush to embrace AI, brands risk leaving their critical-thinking skills behind.",
          "Successful AI models run on high-quality, well-governed data, so getting this in order should be top of the agenda for 2025.",
          "For instance, AI can be used to automate repetitive, low-value tasks, freeing up time for teams to focus on high-value, strategic initiatives.",
          "This year’s backlashes highlights a key risk for businesses adopting AI in 2025.",
          "By leveraging AI in this way, businesses can enhance productivity, without delegating their most important tasks to tech that isn’t suited to the task.",
          "Businesses should be checking their data is accurately labelled and properly secured, ensuring sensitive data is only accessible to those who need it.",
          "Using AI the right way\nBut using AI is not a mistake in itself, the problem is how brands choose to harness it.",
          "But with the right approach, you can turn these challenges into opportunities.",
          "If brands want to reap the full benefit of AI, they should also take a closer look at their data.",
          "The key is to apply the right models to the right use cases.",
          "These examples aren’t anomalies and they speak to a larger issue: a fundamental misunderstanding of how to use AI.",
          "If businesses can learn from their peers’ mistakes and apply AI in the right way, they’ll have an opportunity to enhance their offering, rather than become an example of bad use cases.",
          "Related: How to Spark Some Spontaneity in Your Hybrid Work Environment\nMoving forward with the entrepreneurial edge\nAs AI technology evolves, so do the challenges it presents."
         ],
         "marker": {
          "opacity": 0.5,
          "size": 5
         },
         "mode": "markers+text",
         "name": "Effective AI Implementation in Business",
         "text": [
          "",
          "",
          "",
          "",
          "",
          "",
          "",
          "",
          "",
          "",
          "",
          "",
          ""
         ],
         "textfont": {
          "size": 12
         },
         "type": "scattergl",
         "x": {
          "bdata": "8emYQDQOm0CKT5tAnDKaQPyQnEDojJtAyyebQASZmUAlmZtAvZCbQLEpm0D6K5xAnLSXQA==",
          "dtype": "f4"
         },
         "y": {
          "bdata": "QsKBP5QiWz8VGWU/6nBrP+2QYT92Qlg/4qhdP1CCSD/BREk/NTxXPxuzZj+p9lU/qelbPw==",
          "dtype": "f4"
         }
        },
        {
         "hoverinfo": "text",
         "hovertext": [
          "Many Spotify users eagerly await the annual review of their listening habits shown in Spotify Wrapped.",
          "Wrapped 2024’s end-of-year offering may have been as entertaining as receiving a lump of coal for Christmas, but if Spotify can learn from its misstep, it may prove the greatest gift yet.",
          "These end-of-year recaps are often considered a masterclass in personalised marketing and have helped the streaming company build brand loyalty and inspired other companies outside of the music sector to launch their own data-driven roundups.",
          "Reddit users accused Wrapped 2024 of being ‘AI-generated slop’ – pointing to the made-up genres, such as “Pink Pilates Princess Strut Pop”, as generative AI giveaways.",
          "What made Spotify Wrapped genius wasn’t its super-specific genres but its ability to encourage connection and reflection among users.",
          "Of course, Spotify and Coca-Cola aren’t alone in receiving criticism for outsourcing creativity to algorithms.",
          "Spotify wasn’t the only brand to face backlash from fans due to uses of AI.",
          "These end-of-year recaps are often considered a masterclass in personalised marketing and have helped the streaming company build brand loyalty and inspired other companies outside of the music sector to launch their own data-driven roundups.",
          "Many Spotify users eagerly await the annual review of their listening habits shown in Spotify Wrapped.",
          "Spotify Wrapped was famously created by an intern.",
          "Similarly, Spotify’s new Wrapped AI podcast feature, where AI podcast ‘hosts’ outline and comment on users’ stats, left listeners cold.",
          "Similarly, Spotify’s new Wrapped AI podcast feature, where AI podcast ‘hosts’ outline and comment on users’ stats, left listeners cold.",
          "Reddit users accused Wrapped 2024 of being ‘AI-generated slop’ – pointing to the made-up genres, such as “Pink Pilates Princess Strut Pop”, as generative AI giveaways."
         ],
         "marker": {
          "opacity": 0.5,
          "size": 5
         },
         "mode": "markers+text",
         "name": "Spotify Wrapped and AI Podcast Feedback",
         "text": [
          "",
          "",
          "",
          "",
          "",
          "",
          "",
          "",
          "",
          "",
          "",
          "",
          ""
         ],
         "textfont": {
          "size": 12
         },
         "type": "scattergl",
         "x": {
          "bdata": "8wfNQOgezUAS9cxAdSfMQP0RzUCLBcRAxuXIQAnPzEAL0MxA87jNQHcQzECZKMxAwvvLQA==",
          "dtype": "f4"
         },
         "y": {
          "bdata": "rwDSQNjS0UCLJtJAtC/QQGQi0kC59dNAN/zRQJsl0kCYitJAGLfRQHFc0UDBXtFA1SfQQA==",
          "dtype": "f4"
         }
        },
        {
         "hoverinfo": "text",
         "hovertext": [
          "Video game voice actors have also called out AI-generated explicit Skyrim mods, and Assassin's Creed Syndicate voice actress Victoria Atkin called AI-generated mods the “invisible enemy we're fighting right now” after discovering her voice was used by cloning software.",
          "The Finals, a free-to-play multiplayer shooter, was criticized by voice actors for its use of text-to-speech programs to generate voices.",
          "Most recently, Ned Luke, the voice actor behind Michael De Santa in Grand Theft Auto 5, called out a web3 company for using his voice as the basis of an unofficial AI chatbot.",
          "Most recently, ID@Xbox was criticised for using AI art in its Christmas message, as reported by Pure Xbox.",
          "Earlier this month, SAG-AFTRA signed a deal with Replica Studios, an AI voice software company, that would allow performers to license their voice exclusively with the company for use in video game projects.",
          "Looking to counter chatbots like the Grand Theft Auto one, Cissy Jones, a voice actor known for her roles in Disney's Owl House, Destiny 2: The Witch Queen, Shin Megami Tensei 5, and more, has started a company called Morpheme.ai to let voice actors embrace AI in their own way and gain control of their own voices going forward.",
          "Embark told IGN that \"making games without actors isn't an end goal\" and claimed it uses a mix of both recorded audio voices and audio generated via AI text to speech tools for its games, however.",
          "The Witcher voice actor Doug Cockle has also expressed caution and frustration at the growing presence of AI within the video game industry, calling it \"inevitable\" but \"dangerous.\"",
          "Several video game voice actors have also rallied against AI, including Grand Theft Auto 5 voice actor Ned Luke who called out a chatbot which used his voice.",
          "Embark Studios, the developer of smash hit shooter The Finals, was criticised for using AI voiceovers by myriad actors and even other developers, for example.",
          "Paul Eiding, the voice actor behind Colonel Campbell in the Metal Gear Solid series, also condemned its use.",
          "The Witcher voice actor Doug Cockle also told IGN that AI was \"inevitable\" but \"dangerous\", sharing in Luke's assessment that chatbots and similar uses are \"effectively robbing [voice actors] of income\"."
         ],
         "marker": {
          "opacity": 0.5,
          "size": 5
         },
         "mode": "markers+text",
         "name": "Voice Acting and AI Concerns",
         "text": [
          "",
          "",
          "",
          "",
          "",
          "",
          "",
          "",
          "",
          "",
          "",
          ""
         ],
         "textfont": {
          "size": 12
         },
         "type": "scattergl",
         "x": {
          "bdata": "zTzEv7yKwr90dMS/JFzfvhQzxL9EqcO/3x3Bv22cw78W9MO/mA7CvxUHxL+Bx8O/",
          "dtype": "f4"
         },
         "y": {
          "bdata": "IkU4QeTZN0EPQDhBbmctQUZOOEHmPDhBMDM4QeY2OEErQThB4vo3QVU6OEE5OjhB",
          "dtype": "f4"
         }
        },
        {
         "hoverinfo": "text",
         "hovertext": [
          "Retrieved 26 February 2025.",
          "Retrieved 26 February 2025.",
          "Retrieved 9 May 2025.",
          "Retrieved 26 February 2025.",
          "Retrieved 5 January 2025.",
          "Retrieved 6 February 2025.",
          "Retrieved 5 January 2025.",
          "Retrieved 9 May 2025.",
          "Retrieved 3 January 2025.",
          "Retrieved 5 January 2025.",
          "Retrieved 9 May 2025."
         ],
         "marker": {
          "opacity": 0.5,
          "size": 5
         },
         "mode": "markers+text",
         "name": "2025 Retrieval Dates",
         "text": [
          "",
          "",
          "",
          "",
          "",
          "",
          "",
          "",
          "",
          "",
          ""
         ],
         "textfont": {
          "size": 12
         },
         "type": "scattergl",
         "x": {
          "bdata": "UmeJQf1piUGy5YdBtGeJQbdkiEEcb4lBoVyIQee9h0GOQIhBMV2IQbnDh0E=",
          "dtype": "f4"
         },
         "y": {
          "bdata": "XcpNQWXOTUFaMEtB9MpNQfLvS0GV1U1Bwd5LQQfkSkF5uEtBZN9LQefsSkE=",
          "dtype": "f4"
         }
        }
       ],
       "layout": {
        "annotations": [
         {
          "showarrow": false,
          "text": "D1",
          "x": -2.611039566993713,
          "y": 6.666405701637268,
          "yshift": 10
         },
         {
          "showarrow": false,
          "text": "D2",
          "x": 8.572550475597382,
          "xshift": 10,
          "y": 14.794340658187867
         }
        ],
        "height": 750,
        "shapes": [
         {
          "line": {
           "color": "#CFD8DC",
           "width": 2
          },
          "type": "line",
          "x0": 8.572550475597382,
          "x1": 8.572550475597382,
          "y0": -1.46152925491333,
          "y1": 14.794340658187867
         },
         {
          "line": {
           "color": "#9E9E9E",
           "width": 2
          },
          "type": "line",
          "x0": -2.611039566993713,
          "x1": 19.756140518188477,
          "y0": 6.666405701637268,
          "y1": 6.666405701637268
         }
        ],
        "template": {
         "data": {
          "bar": [
           {
            "error_x": {
             "color": "rgb(36,36,36)"
            },
            "error_y": {
             "color": "rgb(36,36,36)"
            },
            "marker": {
             "line": {
              "color": "white",
              "width": 0.5
             },
             "pattern": {
              "fillmode": "overlay",
              "size": 10,
              "solidity": 0.2
             }
            },
            "type": "bar"
           }
          ],
          "barpolar": [
           {
            "marker": {
             "line": {
              "color": "white",
              "width": 0.5
             },
             "pattern": {
              "fillmode": "overlay",
              "size": 10,
              "solidity": 0.2
             }
            },
            "type": "barpolar"
           }
          ],
          "carpet": [
           {
            "aaxis": {
             "endlinecolor": "rgb(36,36,36)",
             "gridcolor": "white",
             "linecolor": "white",
             "minorgridcolor": "white",
             "startlinecolor": "rgb(36,36,36)"
            },
            "baxis": {
             "endlinecolor": "rgb(36,36,36)",
             "gridcolor": "white",
             "linecolor": "white",
             "minorgridcolor": "white",
             "startlinecolor": "rgb(36,36,36)"
            },
            "type": "carpet"
           }
          ],
          "choropleth": [
           {
            "colorbar": {
             "outlinewidth": 1,
             "tickcolor": "rgb(36,36,36)",
             "ticks": "outside"
            },
            "type": "choropleth"
           }
          ],
          "contour": [
           {
            "colorbar": {
             "outlinewidth": 1,
             "tickcolor": "rgb(36,36,36)",
             "ticks": "outside"
            },
            "colorscale": [
             [
              0,
              "#440154"
             ],
             [
              0.1111111111111111,
              "#482878"
             ],
             [
              0.2222222222222222,
              "#3e4989"
             ],
             [
              0.3333333333333333,
              "#31688e"
             ],
             [
              0.4444444444444444,
              "#26828e"
             ],
             [
              0.5555555555555556,
              "#1f9e89"
             ],
             [
              0.6666666666666666,
              "#35b779"
             ],
             [
              0.7777777777777778,
              "#6ece58"
             ],
             [
              0.8888888888888888,
              "#b5de2b"
             ],
             [
              1,
              "#fde725"
             ]
            ],
            "type": "contour"
           }
          ],
          "contourcarpet": [
           {
            "colorbar": {
             "outlinewidth": 1,
             "tickcolor": "rgb(36,36,36)",
             "ticks": "outside"
            },
            "type": "contourcarpet"
           }
          ],
          "heatmap": [
           {
            "colorbar": {
             "outlinewidth": 1,
             "tickcolor": "rgb(36,36,36)",
             "ticks": "outside"
            },
            "colorscale": [
             [
              0,
              "#440154"
             ],
             [
              0.1111111111111111,
              "#482878"
             ],
             [
              0.2222222222222222,
              "#3e4989"
             ],
             [
              0.3333333333333333,
              "#31688e"
             ],
             [
              0.4444444444444444,
              "#26828e"
             ],
             [
              0.5555555555555556,
              "#1f9e89"
             ],
             [
              0.6666666666666666,
              "#35b779"
             ],
             [
              0.7777777777777778,
              "#6ece58"
             ],
             [
              0.8888888888888888,
              "#b5de2b"
             ],
             [
              1,
              "#fde725"
             ]
            ],
            "type": "heatmap"
           }
          ],
          "histogram": [
           {
            "marker": {
             "line": {
              "color": "white",
              "width": 0.6
             }
            },
            "type": "histogram"
           }
          ],
          "histogram2d": [
           {
            "colorbar": {
             "outlinewidth": 1,
             "tickcolor": "rgb(36,36,36)",
             "ticks": "outside"
            },
            "colorscale": [
             [
              0,
              "#440154"
             ],
             [
              0.1111111111111111,
              "#482878"
             ],
             [
              0.2222222222222222,
              "#3e4989"
             ],
             [
              0.3333333333333333,
              "#31688e"
             ],
             [
              0.4444444444444444,
              "#26828e"
             ],
             [
              0.5555555555555556,
              "#1f9e89"
             ],
             [
              0.6666666666666666,
              "#35b779"
             ],
             [
              0.7777777777777778,
              "#6ece58"
             ],
             [
              0.8888888888888888,
              "#b5de2b"
             ],
             [
              1,
              "#fde725"
             ]
            ],
            "type": "histogram2d"
           }
          ],
          "histogram2dcontour": [
           {
            "colorbar": {
             "outlinewidth": 1,
             "tickcolor": "rgb(36,36,36)",
             "ticks": "outside"
            },
            "colorscale": [
             [
              0,
              "#440154"
             ],
             [
              0.1111111111111111,
              "#482878"
             ],
             [
              0.2222222222222222,
              "#3e4989"
             ],
             [
              0.3333333333333333,
              "#31688e"
             ],
             [
              0.4444444444444444,
              "#26828e"
             ],
             [
              0.5555555555555556,
              "#1f9e89"
             ],
             [
              0.6666666666666666,
              "#35b779"
             ],
             [
              0.7777777777777778,
              "#6ece58"
             ],
             [
              0.8888888888888888,
              "#b5de2b"
             ],
             [
              1,
              "#fde725"
             ]
            ],
            "type": "histogram2dcontour"
           }
          ],
          "mesh3d": [
           {
            "colorbar": {
             "outlinewidth": 1,
             "tickcolor": "rgb(36,36,36)",
             "ticks": "outside"
            },
            "type": "mesh3d"
           }
          ],
          "parcoords": [
           {
            "line": {
             "colorbar": {
              "outlinewidth": 1,
              "tickcolor": "rgb(36,36,36)",
              "ticks": "outside"
             }
            },
            "type": "parcoords"
           }
          ],
          "pie": [
           {
            "automargin": true,
            "type": "pie"
           }
          ],
          "scatter": [
           {
            "fillpattern": {
             "fillmode": "overlay",
             "size": 10,
             "solidity": 0.2
            },
            "type": "scatter"
           }
          ],
          "scatter3d": [
           {
            "line": {
             "colorbar": {
              "outlinewidth": 1,
              "tickcolor": "rgb(36,36,36)",
              "ticks": "outside"
             }
            },
            "marker": {
             "colorbar": {
              "outlinewidth": 1,
              "tickcolor": "rgb(36,36,36)",
              "ticks": "outside"
             }
            },
            "type": "scatter3d"
           }
          ],
          "scattercarpet": [
           {
            "marker": {
             "colorbar": {
              "outlinewidth": 1,
              "tickcolor": "rgb(36,36,36)",
              "ticks": "outside"
             }
            },
            "type": "scattercarpet"
           }
          ],
          "scattergeo": [
           {
            "marker": {
             "colorbar": {
              "outlinewidth": 1,
              "tickcolor": "rgb(36,36,36)",
              "ticks": "outside"
             }
            },
            "type": "scattergeo"
           }
          ],
          "scattergl": [
           {
            "marker": {
             "colorbar": {
              "outlinewidth": 1,
              "tickcolor": "rgb(36,36,36)",
              "ticks": "outside"
             }
            },
            "type": "scattergl"
           }
          ],
          "scattermap": [
           {
            "marker": {
             "colorbar": {
              "outlinewidth": 1,
              "tickcolor": "rgb(36,36,36)",
              "ticks": "outside"
             }
            },
            "type": "scattermap"
           }
          ],
          "scattermapbox": [
           {
            "marker": {
             "colorbar": {
              "outlinewidth": 1,
              "tickcolor": "rgb(36,36,36)",
              "ticks": "outside"
             }
            },
            "type": "scattermapbox"
           }
          ],
          "scatterpolar": [
           {
            "marker": {
             "colorbar": {
              "outlinewidth": 1,
              "tickcolor": "rgb(36,36,36)",
              "ticks": "outside"
             }
            },
            "type": "scatterpolar"
           }
          ],
          "scatterpolargl": [
           {
            "marker": {
             "colorbar": {
              "outlinewidth": 1,
              "tickcolor": "rgb(36,36,36)",
              "ticks": "outside"
             }
            },
            "type": "scatterpolargl"
           }
          ],
          "scatterternary": [
           {
            "marker": {
             "colorbar": {
              "outlinewidth": 1,
              "tickcolor": "rgb(36,36,36)",
              "ticks": "outside"
             }
            },
            "type": "scatterternary"
           }
          ],
          "surface": [
           {
            "colorbar": {
             "outlinewidth": 1,
             "tickcolor": "rgb(36,36,36)",
             "ticks": "outside"
            },
            "colorscale": [
             [
              0,
              "#440154"
             ],
             [
              0.1111111111111111,
              "#482878"
             ],
             [
              0.2222222222222222,
              "#3e4989"
             ],
             [
              0.3333333333333333,
              "#31688e"
             ],
             [
              0.4444444444444444,
              "#26828e"
             ],
             [
              0.5555555555555556,
              "#1f9e89"
             ],
             [
              0.6666666666666666,
              "#35b779"
             ],
             [
              0.7777777777777778,
              "#6ece58"
             ],
             [
              0.8888888888888888,
              "#b5de2b"
             ],
             [
              1,
              "#fde725"
             ]
            ],
            "type": "surface"
           }
          ],
          "table": [
           {
            "cells": {
             "fill": {
              "color": "rgb(237,237,237)"
             },
             "line": {
              "color": "white"
             }
            },
            "header": {
             "fill": {
              "color": "rgb(217,217,217)"
             },
             "line": {
              "color": "white"
             }
            },
            "type": "table"
           }
          ]
         },
         "layout": {
          "annotationdefaults": {
           "arrowhead": 0,
           "arrowwidth": 1
          },
          "autotypenumbers": "strict",
          "coloraxis": {
           "colorbar": {
            "outlinewidth": 1,
            "tickcolor": "rgb(36,36,36)",
            "ticks": "outside"
           }
          },
          "colorscale": {
           "diverging": [
            [
             0,
             "rgb(103,0,31)"
            ],
            [
             0.1,
             "rgb(178,24,43)"
            ],
            [
             0.2,
             "rgb(214,96,77)"
            ],
            [
             0.3,
             "rgb(244,165,130)"
            ],
            [
             0.4,
             "rgb(253,219,199)"
            ],
            [
             0.5,
             "rgb(247,247,247)"
            ],
            [
             0.6,
             "rgb(209,229,240)"
            ],
            [
             0.7,
             "rgb(146,197,222)"
            ],
            [
             0.8,
             "rgb(67,147,195)"
            ],
            [
             0.9,
             "rgb(33,102,172)"
            ],
            [
             1,
             "rgb(5,48,97)"
            ]
           ],
           "sequential": [
            [
             0,
             "#440154"
            ],
            [
             0.1111111111111111,
             "#482878"
            ],
            [
             0.2222222222222222,
             "#3e4989"
            ],
            [
             0.3333333333333333,
             "#31688e"
            ],
            [
             0.4444444444444444,
             "#26828e"
            ],
            [
             0.5555555555555556,
             "#1f9e89"
            ],
            [
             0.6666666666666666,
             "#35b779"
            ],
            [
             0.7777777777777778,
             "#6ece58"
            ],
            [
             0.8888888888888888,
             "#b5de2b"
            ],
            [
             1,
             "#fde725"
            ]
           ],
           "sequentialminus": [
            [
             0,
             "#440154"
            ],
            [
             0.1111111111111111,
             "#482878"
            ],
            [
             0.2222222222222222,
             "#3e4989"
            ],
            [
             0.3333333333333333,
             "#31688e"
            ],
            [
             0.4444444444444444,
             "#26828e"
            ],
            [
             0.5555555555555556,
             "#1f9e89"
            ],
            [
             0.6666666666666666,
             "#35b779"
            ],
            [
             0.7777777777777778,
             "#6ece58"
            ],
            [
             0.8888888888888888,
             "#b5de2b"
            ],
            [
             1,
             "#fde725"
            ]
           ]
          },
          "colorway": [
           "#1F77B4",
           "#FF7F0E",
           "#2CA02C",
           "#D62728",
           "#9467BD",
           "#8C564B",
           "#E377C2",
           "#7F7F7F",
           "#BCBD22",
           "#17BECF"
          ],
          "font": {
           "color": "rgb(36,36,36)"
          },
          "geo": {
           "bgcolor": "white",
           "lakecolor": "white",
           "landcolor": "white",
           "showlakes": true,
           "showland": true,
           "subunitcolor": "white"
          },
          "hoverlabel": {
           "align": "left"
          },
          "hovermode": "closest",
          "mapbox": {
           "style": "light"
          },
          "paper_bgcolor": "white",
          "plot_bgcolor": "white",
          "polar": {
           "angularaxis": {
            "gridcolor": "rgb(232,232,232)",
            "linecolor": "rgb(36,36,36)",
            "showgrid": false,
            "showline": true,
            "ticks": "outside"
           },
           "bgcolor": "white",
           "radialaxis": {
            "gridcolor": "rgb(232,232,232)",
            "linecolor": "rgb(36,36,36)",
            "showgrid": false,
            "showline": true,
            "ticks": "outside"
           }
          },
          "scene": {
           "xaxis": {
            "backgroundcolor": "white",
            "gridcolor": "rgb(232,232,232)",
            "gridwidth": 2,
            "linecolor": "rgb(36,36,36)",
            "showbackground": true,
            "showgrid": false,
            "showline": true,
            "ticks": "outside",
            "zeroline": false,
            "zerolinecolor": "rgb(36,36,36)"
           },
           "yaxis": {
            "backgroundcolor": "white",
            "gridcolor": "rgb(232,232,232)",
            "gridwidth": 2,
            "linecolor": "rgb(36,36,36)",
            "showbackground": true,
            "showgrid": false,
            "showline": true,
            "ticks": "outside",
            "zeroline": false,
            "zerolinecolor": "rgb(36,36,36)"
           },
           "zaxis": {
            "backgroundcolor": "white",
            "gridcolor": "rgb(232,232,232)",
            "gridwidth": 2,
            "linecolor": "rgb(36,36,36)",
            "showbackground": true,
            "showgrid": false,
            "showline": true,
            "ticks": "outside",
            "zeroline": false,
            "zerolinecolor": "rgb(36,36,36)"
           }
          },
          "shapedefaults": {
           "fillcolor": "black",
           "line": {
            "width": 0
           },
           "opacity": 0.3
          },
          "ternary": {
           "aaxis": {
            "gridcolor": "rgb(232,232,232)",
            "linecolor": "rgb(36,36,36)",
            "showgrid": false,
            "showline": true,
            "ticks": "outside"
           },
           "baxis": {
            "gridcolor": "rgb(232,232,232)",
            "linecolor": "rgb(36,36,36)",
            "showgrid": false,
            "showline": true,
            "ticks": "outside"
           },
           "bgcolor": "white",
           "caxis": {
            "gridcolor": "rgb(232,232,232)",
            "linecolor": "rgb(36,36,36)",
            "showgrid": false,
            "showline": true,
            "ticks": "outside"
           }
          },
          "title": {
           "x": 0.05
          },
          "xaxis": {
           "automargin": true,
           "gridcolor": "rgb(232,232,232)",
           "linecolor": "rgb(36,36,36)",
           "showgrid": false,
           "showline": true,
           "ticks": "outside",
           "title": {
            "standoff": 15
           },
           "zeroline": false,
           "zerolinecolor": "rgb(36,36,36)"
          },
          "yaxis": {
           "automargin": true,
           "gridcolor": "rgb(232,232,232)",
           "linecolor": "rgb(36,36,36)",
           "showgrid": false,
           "showline": true,
           "ticks": "outside",
           "title": {
            "standoff": 15
           },
           "zeroline": false,
           "zerolinecolor": "rgb(36,36,36)"
          }
         }
        },
        "title": {
         "font": {
          "color": "Black",
          "size": 22
         },
         "text": "<b>Documents and Topics</b>",
         "x": 0.5,
         "xanchor": "center",
         "yanchor": "top"
        },
        "width": 1200,
        "xaxis": {
         "visible": false
        },
        "yaxis": {
         "visible": false
        }
       }
      }
     },
     "metadata": {},
     "output_type": "display_data"
    }
   ],
   "source": [
    "reduced_embeddings = UMAP(\n",
    "    n_neighbors=10, n_components=2, min_dist=0.0, metric=\"cosine\"\n",
    ").fit_transform(embeddings)\n",
    "topic_model.visualize_documents(\n",
    "    documents,\n",
    "    reduced_embeddings=reduced_embeddings,\n",
    "    custom_labels=True,\n",
    "    hide_annotations=True,\n",
    ")"
   ]
  },
  {
   "cell_type": "code",
   "execution_count": 24,
   "id": "1c174d3e",
   "metadata": {},
   "outputs": [
    {
     "data": {
      "text/plain": [
       "(1756, 3072)"
      ]
     },
     "execution_count": 24,
     "metadata": {},
     "output_type": "execute_result"
    }
   ],
   "source": [
    "embeddings.shape"
   ]
  },
  {
   "cell_type": "code",
   "execution_count": null,
   "id": "80649e99",
   "metadata": {},
   "outputs": [],
   "source": []
  }
 ],
 "metadata": {
  "kernelspec": {
   "display_name": ".venv",
   "language": "python",
   "name": "python3"
  },
  "language_info": {
   "codemirror_mode": {
    "name": "ipython",
    "version": 3
   },
   "file_extension": ".py",
   "mimetype": "text/x-python",
   "name": "python",
   "nbconvert_exporter": "python",
   "pygments_lexer": "ipython3",
   "version": "3.10.12"
  }
 },
 "nbformat": 4,
 "nbformat_minor": 5
}
