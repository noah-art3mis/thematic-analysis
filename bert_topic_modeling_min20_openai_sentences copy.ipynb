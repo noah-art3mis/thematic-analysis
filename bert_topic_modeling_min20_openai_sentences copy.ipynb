{
 "cells": [
  {
   "cell_type": "markdown",
   "id": "dd5231be",
   "metadata": {},
   "source": [
    "as per: https://colab.research.google.com/drive/1BoQ_vakEVtojsd2x_U6-_x52OOuqruj2?usp=sharing#scrollTo=w3WRXoRP2ej8\n"
   ]
  },
  {
   "cell_type": "code",
   "execution_count": 28,
   "id": "b9f62ac4",
   "metadata": {},
   "outputs": [],
   "source": [
    "import os\n",
    "import dotenv\n",
    "import openai\n",
    "import pandas as pd\n",
    "import numpy as np\n",
    "\n",
    "from typing import Text\n",
    "from bertopic import BERTopic\n",
    "from bertopic.backend import OpenAIBackend\n",
    "from nltk.tokenize import sent_tokenize, word_tokenize"
   ]
  },
  {
   "cell_type": "code",
   "execution_count": 29,
   "id": "22dcfa03",
   "metadata": {},
   "outputs": [],
   "source": [
    "MODEL_NAME = \"slop_min40_openai_sentences.ipynb\""
   ]
  },
  {
   "cell_type": "code",
   "execution_count": 30,
   "id": "697ec514",
   "metadata": {},
   "outputs": [],
   "source": [
    "df = pd.read_feather(\"analysis.feather\")\n",
    "documents = df[\"text\"].tolist()"
   ]
  },
  {
   "cell_type": "code",
   "execution_count": 31,
   "id": "e6b0d58e",
   "metadata": {},
   "outputs": [],
   "source": [
    "# comment this out for document-level, leave it in for sentence level\n",
    "sentences = [sent_tokenize(x) for x in documents]\n",
    "documents = [sentence for doc in sentences for sentence in doc]\n",
    "len(documents)\n",
    "\n",
    "df = pd.DataFrame({\"text\": documents})"
   ]
  },
  {
   "cell_type": "code",
   "execution_count": 32,
   "id": "b60c56aa",
   "metadata": {},
   "outputs": [],
   "source": [
    "# use this for the base embeddings\n",
    "# from sentence_transformers import SentenceTransformer\n",
    "\n",
    "# embedding_model = SentenceTransformer(\"all-MiniLM-L6-v2\")\n",
    "# embeddings = embedding_model.encode(documents, show_progress_bar=True)"
   ]
  },
  {
   "cell_type": "code",
   "execution_count": 33,
   "id": "50c0febd",
   "metadata": {},
   "outputs": [
    {
     "data": {
      "text/plain": [
       "(1756, 3072)"
      ]
     },
     "execution_count": 33,
     "metadata": {},
     "output_type": "execute_result"
    }
   ],
   "source": [
    "# use this if you want openai embeddings (better performance)\n",
    "dotenv.load_dotenv()\n",
    "client = openai.OpenAI(api_key=os.environ[\"OPENAI_API_KEY\"])\n",
    "embedding_model = OpenAIBackend(client, \"text-embedding-3-large\")\n",
    "\n",
    "# careful !\n",
    "# no need to compute more than once here\n",
    "# df[\"embedding\"] = df[\"text\"].apply(\n",
    "#     lambda x: client.embeddings.create(model=\"text-embedding-3-large\", input=x)\n",
    "#     .data[0]\n",
    "#     .embedding\n",
    "# )\n",
    "# df.to_feather(\"analysis_with_embeddings_40_sentences.feather\")\n",
    "\n",
    "df = pd.read_feather(\"analysis_with_embeddings_40_sentences.feather\")\n",
    "\n",
    "embeddings = np.array(df[\"embedding\"].tolist())\n",
    "embeddings.shape"
   ]
  },
  {
   "cell_type": "code",
   "execution_count": 34,
   "id": "1ed3418e",
   "metadata": {},
   "outputs": [],
   "source": [
    "# import asyncio\n",
    "# import pandas as pd\n",
    "# from openai import AsyncOpenAI, OpenAIError\n",
    "# from tqdm.asyncio import tqdm_asyncio\n",
    "# import nest_asyncio\n",
    "\n",
    "# # Enable nested event loop support (for Jupyter etc.)\n",
    "# nest_asyncio.apply()\n",
    "\n",
    "# client = AsyncOpenAI()\n",
    "\n",
    "# # Settings\n",
    "# BATCH_SIZE = 10\n",
    "# MAX_RETRIES = 3\n",
    "# RETRY_BACKOFF = 2\n",
    "# CONCURRENCY_LIMIT = 5  # Maximum concurrent OpenAI requests\n",
    "\n",
    "# semaphore = asyncio.Semaphore(CONCURRENCY_LIMIT)\n",
    "\n",
    "# async def embed_batch(texts, attempt=1):\n",
    "#     async with semaphore:\n",
    "#         try:\n",
    "#             response = await client.embeddings.create(\n",
    "#                 model=\"text-embedding-3-large\",\n",
    "#                 input=texts\n",
    "#             )\n",
    "#             return [item.embedding for item in response.data]\n",
    "\n",
    "#         except OpenAIError as e:\n",
    "#             if attempt <= MAX_RETRIES:\n",
    "#                 wait = RETRY_BACKOFF ** attempt\n",
    "#                 print(f\"[Retrying in {wait}s] Error: {e}\")\n",
    "#                 await asyncio.sleep(wait)\n",
    "#                 return await embed_batch(texts, attempt + 1)\n",
    "#             else:\n",
    "#                 print(f\"[Failed after {MAX_RETRIES} attempts] {e}\")\n",
    "#                 return [None] * len(texts)\n",
    "\n",
    "# async def embed_all(texts):\n",
    "#     batches = [texts[i:i + BATCH_SIZE] for i in range(0, len(texts), BATCH_SIZE)]\n",
    "\n",
    "#     tasks = [embed_batch(batch) for batch in batches]\n",
    "#     results = []\n",
    "#     for coro in tqdm_asyncio.gather(*tasks, desc=\"Embedding\", total=len(batches)):\n",
    "#         batch_result = await coro\n",
    "#         results.extend(batch_result)\n",
    "#     return results\n",
    "\n",
    "# async def run_embedding(df):\n",
    "#     texts = df[\"text\"].tolist()\n",
    "#     embeddings = await embed_all(texts)\n",
    "#     df[\"embedding\"] = embeddings\n",
    "#     return df\n",
    "\n",
    "# # Run the whole thing\n",
    "# df = asyncio.run(run_embedding(df))"
   ]
  },
  {
   "cell_type": "code",
   "execution_count": 35,
   "id": "40ed4102",
   "metadata": {},
   "outputs": [
    {
     "name": "stdout",
     "output_type": "stream",
     "text": [
      "Failed embeddings: 0\n"
     ]
    }
   ],
   "source": [
    "num_failed = df[\"embedding\"].apply(lambda x: x is None).sum()\n",
    "print(f\"Failed embeddings: {num_failed}\")"
   ]
  },
  {
   "cell_type": "code",
   "execution_count": 36,
   "id": "413dacd9",
   "metadata": {},
   "outputs": [],
   "source": [
    "from umap import UMAP\n",
    "\n",
    "umap_model = UMAP(\n",
    "    n_neighbors=15, n_components=5, min_dist=0.0, metric=\"cosine\", random_state=42\n",
    ")"
   ]
  },
  {
   "cell_type": "code",
   "execution_count": 37,
   "id": "d9005d1f",
   "metadata": {},
   "outputs": [],
   "source": [
    "from hdbscan import HDBSCAN\n",
    "\n",
    "# A higher min_topic_size will generate fewer topics and a lower min_topic_size will generate more topics.\n",
    "\n",
    "hdbscan_model = HDBSCAN(\n",
    "    min_cluster_size=20,\n",
    "    metric=\"euclidean\",\n",
    "    cluster_selection_method=\"eom\",\n",
    "    prediction_data=True,\n",
    ")"
   ]
  },
  {
   "cell_type": "code",
   "execution_count": 38,
   "id": "43685c78",
   "metadata": {},
   "outputs": [],
   "source": [
    "from sklearn.feature_extraction.text import CountVectorizer\n",
    "\n",
    "vectorizer_model = CountVectorizer(stop_words=\"english\", min_df=2, ngram_range=(1, 2))"
   ]
  },
  {
   "cell_type": "code",
   "execution_count": 39,
   "id": "406202d2",
   "metadata": {},
   "outputs": [],
   "source": [
    "from bertopic.representation import (\n",
    "    KeyBERTInspired,\n",
    "    MaximalMarginalRelevance,\n",
    "    OpenAI,\n",
    "    PartOfSpeech,\n",
    ")\n",
    "\n",
    "# KeyBERT\n",
    "keybert_model = KeyBERTInspired()\n",
    "\n",
    "# Part-of-Speech\n",
    "pos_model = PartOfSpeech(\"en_core_web_sm\")\n",
    "\n",
    "# MMR\n",
    "mmr_model = MaximalMarginalRelevance(diversity=0.3)\n",
    "\n",
    "# GPT\n",
    "prompt = \"\"\"\n",
    "I have a topic that contains the following documents:\n",
    "[DOCUMENTS]\n",
    "\n",
    "The topic is described by the following keywords: [KEYWORDS]\n",
    "\n",
    "Based on the information above, extract a short but highly descriptive topic label of at most 5 words. Make sure it is in the following format:\n",
    "topic: <topic label>\n",
    "\"\"\"\n",
    "openai_model = OpenAI(\n",
    "    client=openai.OpenAI(api_key=os.environ[\"OPENAI_API_KEY\"]),\n",
    "    model=\"gpt-4.1-nano-2025-04-14\",\n",
    "    exponential_backoff=True,\n",
    "    chat=True,\n",
    "    prompt=prompt,\n",
    ")\n",
    "\n",
    "# also consider, in order of pricing (0.010 -> 2.0):\n",
    "# gpt-4.1-nano-2025-04-14\n",
    "# gpt-4o-mini-2024-07-18\n",
    "# o3-mini-2025-01-31\n",
    "# o1-mini-2024-09-12\n",
    "# gpt-4.1-2025-04-14\n",
    "# o3-2025-04-16\n",
    "\n",
    "# All representation models\n",
    "representation_model = {\n",
    "    \"KeyBERT\": keybert_model,\n",
    "    \"OpenAI\": openai_model,\n",
    "    \"MMR\": mmr_model,\n",
    "    \"POS\": pos_model,\n",
    "}"
   ]
  },
  {
   "cell_type": "code",
   "execution_count": null,
   "id": "c7ac8113",
   "metadata": {},
   "outputs": [
    {
     "name": "stderr",
     "output_type": "stream",
     "text": [
      "2025-06-11 22:50:55,125 - BERTopic - Dimensionality - Fitting the dimensionality reduction algorithm\n",
      "2025-06-11 22:51:17,891 - BERTopic - Dimensionality - Completed ✓\n",
      "2025-06-11 22:51:17,894 - BERTopic - Cluster - Start clustering the reduced embeddings\n",
      "2025-06-11 22:51:18,029 - BERTopic - Cluster - Completed ✓\n",
      "2025-06-11 22:51:18,041 - BERTopic - Representation - Fine-tuning topics using representation models.\n",
      "100%|██████████| 10/10 [00:05<00:00,  1.87it/s]\n"
     ]
    }
   ],
   "source": [
    "from bertopic import BERTopic\n",
    "from huggingface_hub import DocumentQuestionAnsweringOutputElement\n",
    "from numpy import ndarray\n",
    "\n",
    "topic_model = BERTopic(\n",
    "    # Pipeline models\n",
    "    embedding_model=embedding_model,\n",
    "    umap_model=umap_model,\n",
    "    hdbscan_model=hdbscan_model,\n",
    "    vectorizer_model=vectorizer_model,\n",
    "    representation_model=representation_model,  # type: ignore\n",
    "    # Hyperparameters\n",
    "    top_n_words=10,\n",
    "    verbose=True,\n",
    ")\n",
    "\n",
    "topics, probs = topic_model.fit_transform(documents, embeddings)\n",
    "# topics, probs = topic_model.fit_transform(documents)"
   ]
  },
  {
   "cell_type": "code",
   "execution_count": null,
   "id": "f32cd953",
   "metadata": {},
   "outputs": [],
   "source": [
    "topic_model.save(MODEL_NAME, serialization=\"safetensors\")"
   ]
  },
  {
   "cell_type": "code",
   "execution_count": null,
   "id": "40d5abdb",
   "metadata": {},
   "outputs": [
    {
     "data": {
      "application/vnd.plotly.v1+json": {
       "config": {
        "plotlyServerURL": "https://plot.ly"
       },
       "data": [
        {
         "customdata": [
          [
           0,
           "facebook | ai | images | content | generative",
           273
          ],
          [
           1,
           "game | ai | square | activision | development",
           201
          ],
          [
           2,
           "trump | image | misinformation | images | account",
           188
          ],
          [
           3,
           "slop | term | spam | ai slop | ai",
           141
          ],
          [
           4,
           "brands | brand | content | ai | brainrot",
           93
          ],
          [
           5,
           "parade | dublin | street | connell | website",
           90
          ],
          [
           6,
           "ign | news | times | new york | york",
           69
          ],
          [
           7,
           "cola | coca | coca cola | company | ad",
           61
          ],
          [
           8,
           "experience | event | children | factory | imagination",
           55
          ],
          [
           9,
           "2025 | march 2025 | march | 2024 | 24",
           50
          ],
          [
           10,
           "google | search | results | engine | search results",
           36
          ],
          [
           11,
           "film | poster | ai | generated | amazon",
           34
          ],
          [
           12,
           "2024 | november 2024 | november | january | august 2024",
           33
          ],
          [
           13,
           "books | ai generated | catalog | generated | book",
           30
          ],
          [
           14,
           "mistake | guy | highly | actually | say",
           27
          ]
         ],
         "hovertemplate": "<b>Topic %{customdata[0]}</b><br>%{customdata[1]}<br>Size: %{customdata[2]}",
         "legendgroup": "",
         "marker": {
          "color": "#B0BEC5",
          "line": {
           "color": "DarkSlateGrey",
           "width": 2
          },
          "size": {
           "bdata": "EQHJALwAjQBdAFoARQA9ADcAMgAkACIAIQAeABsA",
           "dtype": "i2"
          },
          "sizemode": "area",
          "sizeref": 0.170625,
          "symbol": "circle"
         },
         "mode": "markers",
         "name": "",
         "orientation": "v",
         "showlegend": false,
         "type": "scatter",
         "x": {
          "bdata": "irYJQZnn90C0TRxBbKz4QDd0BUHZN41B3XY5wU740UBhG45BRsRAwRc1AUGV8NhAXh0+wSYHCUHuqyJB",
          "dtype": "f4"
         },
         "xaxis": "x",
         "y": {
          "bdata": "e/NBQU7OIUHheDVB2hg3Qc4tLUEhrjZAGZ32QJ7FJkHXkS9AtgLoQGFnQEF6sCxBP1HtQCCLOkFi4TRB",
          "dtype": "f4"
         },
         "yaxis": "y"
        }
       ],
       "layout": {
        "annotations": [
         {
          "showarrow": false,
          "text": "D1",
          "x": -13.85510606765747,
          "y": 8.136009949445725,
          "yshift": 10
         },
         {
          "showarrow": false,
          "text": "D2",
          "x": 3.2863839149475105,
          "xshift": 10,
          "y": 13.940234994888305
         }
        ],
        "height": 650,
        "hoverlabel": {
         "bgcolor": "white",
         "font": {
          "family": "Rockwell",
          "size": 16
         }
        },
        "legend": {
         "itemsizing": "constant",
         "tracegroupgap": 0
        },
        "margin": {
         "t": 60
        },
        "shapes": [
         {
          "line": {
           "color": "#CFD8DC",
           "width": 2
          },
          "type": "line",
          "x0": 3.2863839149475105,
          "x1": 3.2863839149475105,
          "y0": 2.3317849040031433,
          "y1": 13.940234994888305
         },
         {
          "line": {
           "color": "#9E9E9E",
           "width": 2
          },
          "type": "line",
          "x0": -13.85510606765747,
          "x1": 20.42787389755249,
          "y0": 8.136009949445725,
          "y1": 8.136009949445725
         }
        ],
        "sliders": [
         {
          "active": 0,
          "pad": {
           "t": 50
          },
          "steps": [
           {
            "args": [
             {
              "marker.color": [
               [
                "red",
                "#B0BEC5",
                "#B0BEC5",
                "#B0BEC5",
                "#B0BEC5",
                "#B0BEC5",
                "#B0BEC5",
                "#B0BEC5",
                "#B0BEC5",
                "#B0BEC5",
                "#B0BEC5",
                "#B0BEC5",
                "#B0BEC5",
                "#B0BEC5",
                "#B0BEC5"
               ]
              ]
             }
            ],
            "label": "Topic 0",
            "method": "update"
           },
           {
            "args": [
             {
              "marker.color": [
               [
                "#B0BEC5",
                "red",
                "#B0BEC5",
                "#B0BEC5",
                "#B0BEC5",
                "#B0BEC5",
                "#B0BEC5",
                "#B0BEC5",
                "#B0BEC5",
                "#B0BEC5",
                "#B0BEC5",
                "#B0BEC5",
                "#B0BEC5",
                "#B0BEC5",
                "#B0BEC5"
               ]
              ]
             }
            ],
            "label": "Topic 1",
            "method": "update"
           },
           {
            "args": [
             {
              "marker.color": [
               [
                "#B0BEC5",
                "#B0BEC5",
                "red",
                "#B0BEC5",
                "#B0BEC5",
                "#B0BEC5",
                "#B0BEC5",
                "#B0BEC5",
                "#B0BEC5",
                "#B0BEC5",
                "#B0BEC5",
                "#B0BEC5",
                "#B0BEC5",
                "#B0BEC5",
                "#B0BEC5"
               ]
              ]
             }
            ],
            "label": "Topic 2",
            "method": "update"
           },
           {
            "args": [
             {
              "marker.color": [
               [
                "#B0BEC5",
                "#B0BEC5",
                "#B0BEC5",
                "red",
                "#B0BEC5",
                "#B0BEC5",
                "#B0BEC5",
                "#B0BEC5",
                "#B0BEC5",
                "#B0BEC5",
                "#B0BEC5",
                "#B0BEC5",
                "#B0BEC5",
                "#B0BEC5",
                "#B0BEC5"
               ]
              ]
             }
            ],
            "label": "Topic 3",
            "method": "update"
           },
           {
            "args": [
             {
              "marker.color": [
               [
                "#B0BEC5",
                "#B0BEC5",
                "#B0BEC5",
                "#B0BEC5",
                "red",
                "#B0BEC5",
                "#B0BEC5",
                "#B0BEC5",
                "#B0BEC5",
                "#B0BEC5",
                "#B0BEC5",
                "#B0BEC5",
                "#B0BEC5",
                "#B0BEC5",
                "#B0BEC5"
               ]
              ]
             }
            ],
            "label": "Topic 4",
            "method": "update"
           },
           {
            "args": [
             {
              "marker.color": [
               [
                "#B0BEC5",
                "#B0BEC5",
                "#B0BEC5",
                "#B0BEC5",
                "#B0BEC5",
                "red",
                "#B0BEC5",
                "#B0BEC5",
                "#B0BEC5",
                "#B0BEC5",
                "#B0BEC5",
                "#B0BEC5",
                "#B0BEC5",
                "#B0BEC5",
                "#B0BEC5"
               ]
              ]
             }
            ],
            "label": "Topic 5",
            "method": "update"
           },
           {
            "args": [
             {
              "marker.color": [
               [
                "#B0BEC5",
                "#B0BEC5",
                "#B0BEC5",
                "#B0BEC5",
                "#B0BEC5",
                "#B0BEC5",
                "red",
                "#B0BEC5",
                "#B0BEC5",
                "#B0BEC5",
                "#B0BEC5",
                "#B0BEC5",
                "#B0BEC5",
                "#B0BEC5",
                "#B0BEC5"
               ]
              ]
             }
            ],
            "label": "Topic 6",
            "method": "update"
           },
           {
            "args": [
             {
              "marker.color": [
               [
                "#B0BEC5",
                "#B0BEC5",
                "#B0BEC5",
                "#B0BEC5",
                "#B0BEC5",
                "#B0BEC5",
                "#B0BEC5",
                "red",
                "#B0BEC5",
                "#B0BEC5",
                "#B0BEC5",
                "#B0BEC5",
                "#B0BEC5",
                "#B0BEC5",
                "#B0BEC5"
               ]
              ]
             }
            ],
            "label": "Topic 7",
            "method": "update"
           },
           {
            "args": [
             {
              "marker.color": [
               [
                "#B0BEC5",
                "#B0BEC5",
                "#B0BEC5",
                "#B0BEC5",
                "#B0BEC5",
                "#B0BEC5",
                "#B0BEC5",
                "#B0BEC5",
                "red",
                "#B0BEC5",
                "#B0BEC5",
                "#B0BEC5",
                "#B0BEC5",
                "#B0BEC5",
                "#B0BEC5"
               ]
              ]
             }
            ],
            "label": "Topic 8",
            "method": "update"
           },
           {
            "args": [
             {
              "marker.color": [
               [
                "#B0BEC5",
                "#B0BEC5",
                "#B0BEC5",
                "#B0BEC5",
                "#B0BEC5",
                "#B0BEC5",
                "#B0BEC5",
                "#B0BEC5",
                "#B0BEC5",
                "red",
                "#B0BEC5",
                "#B0BEC5",
                "#B0BEC5",
                "#B0BEC5",
                "#B0BEC5"
               ]
              ]
             }
            ],
            "label": "Topic 9",
            "method": "update"
           },
           {
            "args": [
             {
              "marker.color": [
               [
                "#B0BEC5",
                "#B0BEC5",
                "#B0BEC5",
                "#B0BEC5",
                "#B0BEC5",
                "#B0BEC5",
                "#B0BEC5",
                "#B0BEC5",
                "#B0BEC5",
                "#B0BEC5",
                "red",
                "#B0BEC5",
                "#B0BEC5",
                "#B0BEC5",
                "#B0BEC5"
               ]
              ]
             }
            ],
            "label": "Topic 10",
            "method": "update"
           },
           {
            "args": [
             {
              "marker.color": [
               [
                "#B0BEC5",
                "#B0BEC5",
                "#B0BEC5",
                "#B0BEC5",
                "#B0BEC5",
                "#B0BEC5",
                "#B0BEC5",
                "#B0BEC5",
                "#B0BEC5",
                "#B0BEC5",
                "#B0BEC5",
                "red",
                "#B0BEC5",
                "#B0BEC5",
                "#B0BEC5"
               ]
              ]
             }
            ],
            "label": "Topic 11",
            "method": "update"
           },
           {
            "args": [
             {
              "marker.color": [
               [
                "#B0BEC5",
                "#B0BEC5",
                "#B0BEC5",
                "#B0BEC5",
                "#B0BEC5",
                "#B0BEC5",
                "#B0BEC5",
                "#B0BEC5",
                "#B0BEC5",
                "#B0BEC5",
                "#B0BEC5",
                "#B0BEC5",
                "red",
                "#B0BEC5",
                "#B0BEC5"
               ]
              ]
             }
            ],
            "label": "Topic 12",
            "method": "update"
           },
           {
            "args": [
             {
              "marker.color": [
               [
                "#B0BEC5",
                "#B0BEC5",
                "#B0BEC5",
                "#B0BEC5",
                "#B0BEC5",
                "#B0BEC5",
                "#B0BEC5",
                "#B0BEC5",
                "#B0BEC5",
                "#B0BEC5",
                "#B0BEC5",
                "#B0BEC5",
                "#B0BEC5",
                "red",
                "#B0BEC5"
               ]
              ]
             }
            ],
            "label": "Topic 13",
            "method": "update"
           },
           {
            "args": [
             {
              "marker.color": [
               [
                "#B0BEC5",
                "#B0BEC5",
                "#B0BEC5",
                "#B0BEC5",
                "#B0BEC5",
                "#B0BEC5",
                "#B0BEC5",
                "#B0BEC5",
                "#B0BEC5",
                "#B0BEC5",
                "#B0BEC5",
                "#B0BEC5",
                "#B0BEC5",
                "#B0BEC5",
                "red"
               ]
              ]
             }
            ],
            "label": "Topic 14",
            "method": "update"
           }
          ]
         }
        ],
        "template": {
         "data": {
          "bar": [
           {
            "error_x": {
             "color": "rgb(36,36,36)"
            },
            "error_y": {
             "color": "rgb(36,36,36)"
            },
            "marker": {
             "line": {
              "color": "white",
              "width": 0.5
             },
             "pattern": {
              "fillmode": "overlay",
              "size": 10,
              "solidity": 0.2
             }
            },
            "type": "bar"
           }
          ],
          "barpolar": [
           {
            "marker": {
             "line": {
              "color": "white",
              "width": 0.5
             },
             "pattern": {
              "fillmode": "overlay",
              "size": 10,
              "solidity": 0.2
             }
            },
            "type": "barpolar"
           }
          ],
          "carpet": [
           {
            "aaxis": {
             "endlinecolor": "rgb(36,36,36)",
             "gridcolor": "white",
             "linecolor": "white",
             "minorgridcolor": "white",
             "startlinecolor": "rgb(36,36,36)"
            },
            "baxis": {
             "endlinecolor": "rgb(36,36,36)",
             "gridcolor": "white",
             "linecolor": "white",
             "minorgridcolor": "white",
             "startlinecolor": "rgb(36,36,36)"
            },
            "type": "carpet"
           }
          ],
          "choropleth": [
           {
            "colorbar": {
             "outlinewidth": 1,
             "tickcolor": "rgb(36,36,36)",
             "ticks": "outside"
            },
            "type": "choropleth"
           }
          ],
          "contour": [
           {
            "colorbar": {
             "outlinewidth": 1,
             "tickcolor": "rgb(36,36,36)",
             "ticks": "outside"
            },
            "colorscale": [
             [
              0,
              "#440154"
             ],
             [
              0.1111111111111111,
              "#482878"
             ],
             [
              0.2222222222222222,
              "#3e4989"
             ],
             [
              0.3333333333333333,
              "#31688e"
             ],
             [
              0.4444444444444444,
              "#26828e"
             ],
             [
              0.5555555555555556,
              "#1f9e89"
             ],
             [
              0.6666666666666666,
              "#35b779"
             ],
             [
              0.7777777777777778,
              "#6ece58"
             ],
             [
              0.8888888888888888,
              "#b5de2b"
             ],
             [
              1,
              "#fde725"
             ]
            ],
            "type": "contour"
           }
          ],
          "contourcarpet": [
           {
            "colorbar": {
             "outlinewidth": 1,
             "tickcolor": "rgb(36,36,36)",
             "ticks": "outside"
            },
            "type": "contourcarpet"
           }
          ],
          "heatmap": [
           {
            "colorbar": {
             "outlinewidth": 1,
             "tickcolor": "rgb(36,36,36)",
             "ticks": "outside"
            },
            "colorscale": [
             [
              0,
              "#440154"
             ],
             [
              0.1111111111111111,
              "#482878"
             ],
             [
              0.2222222222222222,
              "#3e4989"
             ],
             [
              0.3333333333333333,
              "#31688e"
             ],
             [
              0.4444444444444444,
              "#26828e"
             ],
             [
              0.5555555555555556,
              "#1f9e89"
             ],
             [
              0.6666666666666666,
              "#35b779"
             ],
             [
              0.7777777777777778,
              "#6ece58"
             ],
             [
              0.8888888888888888,
              "#b5de2b"
             ],
             [
              1,
              "#fde725"
             ]
            ],
            "type": "heatmap"
           }
          ],
          "histogram": [
           {
            "marker": {
             "line": {
              "color": "white",
              "width": 0.6
             }
            },
            "type": "histogram"
           }
          ],
          "histogram2d": [
           {
            "colorbar": {
             "outlinewidth": 1,
             "tickcolor": "rgb(36,36,36)",
             "ticks": "outside"
            },
            "colorscale": [
             [
              0,
              "#440154"
             ],
             [
              0.1111111111111111,
              "#482878"
             ],
             [
              0.2222222222222222,
              "#3e4989"
             ],
             [
              0.3333333333333333,
              "#31688e"
             ],
             [
              0.4444444444444444,
              "#26828e"
             ],
             [
              0.5555555555555556,
              "#1f9e89"
             ],
             [
              0.6666666666666666,
              "#35b779"
             ],
             [
              0.7777777777777778,
              "#6ece58"
             ],
             [
              0.8888888888888888,
              "#b5de2b"
             ],
             [
              1,
              "#fde725"
             ]
            ],
            "type": "histogram2d"
           }
          ],
          "histogram2dcontour": [
           {
            "colorbar": {
             "outlinewidth": 1,
             "tickcolor": "rgb(36,36,36)",
             "ticks": "outside"
            },
            "colorscale": [
             [
              0,
              "#440154"
             ],
             [
              0.1111111111111111,
              "#482878"
             ],
             [
              0.2222222222222222,
              "#3e4989"
             ],
             [
              0.3333333333333333,
              "#31688e"
             ],
             [
              0.4444444444444444,
              "#26828e"
             ],
             [
              0.5555555555555556,
              "#1f9e89"
             ],
             [
              0.6666666666666666,
              "#35b779"
             ],
             [
              0.7777777777777778,
              "#6ece58"
             ],
             [
              0.8888888888888888,
              "#b5de2b"
             ],
             [
              1,
              "#fde725"
             ]
            ],
            "type": "histogram2dcontour"
           }
          ],
          "mesh3d": [
           {
            "colorbar": {
             "outlinewidth": 1,
             "tickcolor": "rgb(36,36,36)",
             "ticks": "outside"
            },
            "type": "mesh3d"
           }
          ],
          "parcoords": [
           {
            "line": {
             "colorbar": {
              "outlinewidth": 1,
              "tickcolor": "rgb(36,36,36)",
              "ticks": "outside"
             }
            },
            "type": "parcoords"
           }
          ],
          "pie": [
           {
            "automargin": true,
            "type": "pie"
           }
          ],
          "scatter": [
           {
            "fillpattern": {
             "fillmode": "overlay",
             "size": 10,
             "solidity": 0.2
            },
            "type": "scatter"
           }
          ],
          "scatter3d": [
           {
            "line": {
             "colorbar": {
              "outlinewidth": 1,
              "tickcolor": "rgb(36,36,36)",
              "ticks": "outside"
             }
            },
            "marker": {
             "colorbar": {
              "outlinewidth": 1,
              "tickcolor": "rgb(36,36,36)",
              "ticks": "outside"
             }
            },
            "type": "scatter3d"
           }
          ],
          "scattercarpet": [
           {
            "marker": {
             "colorbar": {
              "outlinewidth": 1,
              "tickcolor": "rgb(36,36,36)",
              "ticks": "outside"
             }
            },
            "type": "scattercarpet"
           }
          ],
          "scattergeo": [
           {
            "marker": {
             "colorbar": {
              "outlinewidth": 1,
              "tickcolor": "rgb(36,36,36)",
              "ticks": "outside"
             }
            },
            "type": "scattergeo"
           }
          ],
          "scattergl": [
           {
            "marker": {
             "colorbar": {
              "outlinewidth": 1,
              "tickcolor": "rgb(36,36,36)",
              "ticks": "outside"
             }
            },
            "type": "scattergl"
           }
          ],
          "scattermap": [
           {
            "marker": {
             "colorbar": {
              "outlinewidth": 1,
              "tickcolor": "rgb(36,36,36)",
              "ticks": "outside"
             }
            },
            "type": "scattermap"
           }
          ],
          "scattermapbox": [
           {
            "marker": {
             "colorbar": {
              "outlinewidth": 1,
              "tickcolor": "rgb(36,36,36)",
              "ticks": "outside"
             }
            },
            "type": "scattermapbox"
           }
          ],
          "scatterpolar": [
           {
            "marker": {
             "colorbar": {
              "outlinewidth": 1,
              "tickcolor": "rgb(36,36,36)",
              "ticks": "outside"
             }
            },
            "type": "scatterpolar"
           }
          ],
          "scatterpolargl": [
           {
            "marker": {
             "colorbar": {
              "outlinewidth": 1,
              "tickcolor": "rgb(36,36,36)",
              "ticks": "outside"
             }
            },
            "type": "scatterpolargl"
           }
          ],
          "scatterternary": [
           {
            "marker": {
             "colorbar": {
              "outlinewidth": 1,
              "tickcolor": "rgb(36,36,36)",
              "ticks": "outside"
             }
            },
            "type": "scatterternary"
           }
          ],
          "surface": [
           {
            "colorbar": {
             "outlinewidth": 1,
             "tickcolor": "rgb(36,36,36)",
             "ticks": "outside"
            },
            "colorscale": [
             [
              0,
              "#440154"
             ],
             [
              0.1111111111111111,
              "#482878"
             ],
             [
              0.2222222222222222,
              "#3e4989"
             ],
             [
              0.3333333333333333,
              "#31688e"
             ],
             [
              0.4444444444444444,
              "#26828e"
             ],
             [
              0.5555555555555556,
              "#1f9e89"
             ],
             [
              0.6666666666666666,
              "#35b779"
             ],
             [
              0.7777777777777778,
              "#6ece58"
             ],
             [
              0.8888888888888888,
              "#b5de2b"
             ],
             [
              1,
              "#fde725"
             ]
            ],
            "type": "surface"
           }
          ],
          "table": [
           {
            "cells": {
             "fill": {
              "color": "rgb(237,237,237)"
             },
             "line": {
              "color": "white"
             }
            },
            "header": {
             "fill": {
              "color": "rgb(217,217,217)"
             },
             "line": {
              "color": "white"
             }
            },
            "type": "table"
           }
          ]
         },
         "layout": {
          "annotationdefaults": {
           "arrowhead": 0,
           "arrowwidth": 1
          },
          "autotypenumbers": "strict",
          "coloraxis": {
           "colorbar": {
            "outlinewidth": 1,
            "tickcolor": "rgb(36,36,36)",
            "ticks": "outside"
           }
          },
          "colorscale": {
           "diverging": [
            [
             0,
             "rgb(103,0,31)"
            ],
            [
             0.1,
             "rgb(178,24,43)"
            ],
            [
             0.2,
             "rgb(214,96,77)"
            ],
            [
             0.3,
             "rgb(244,165,130)"
            ],
            [
             0.4,
             "rgb(253,219,199)"
            ],
            [
             0.5,
             "rgb(247,247,247)"
            ],
            [
             0.6,
             "rgb(209,229,240)"
            ],
            [
             0.7,
             "rgb(146,197,222)"
            ],
            [
             0.8,
             "rgb(67,147,195)"
            ],
            [
             0.9,
             "rgb(33,102,172)"
            ],
            [
             1,
             "rgb(5,48,97)"
            ]
           ],
           "sequential": [
            [
             0,
             "#440154"
            ],
            [
             0.1111111111111111,
             "#482878"
            ],
            [
             0.2222222222222222,
             "#3e4989"
            ],
            [
             0.3333333333333333,
             "#31688e"
            ],
            [
             0.4444444444444444,
             "#26828e"
            ],
            [
             0.5555555555555556,
             "#1f9e89"
            ],
            [
             0.6666666666666666,
             "#35b779"
            ],
            [
             0.7777777777777778,
             "#6ece58"
            ],
            [
             0.8888888888888888,
             "#b5de2b"
            ],
            [
             1,
             "#fde725"
            ]
           ],
           "sequentialminus": [
            [
             0,
             "#440154"
            ],
            [
             0.1111111111111111,
             "#482878"
            ],
            [
             0.2222222222222222,
             "#3e4989"
            ],
            [
             0.3333333333333333,
             "#31688e"
            ],
            [
             0.4444444444444444,
             "#26828e"
            ],
            [
             0.5555555555555556,
             "#1f9e89"
            ],
            [
             0.6666666666666666,
             "#35b779"
            ],
            [
             0.7777777777777778,
             "#6ece58"
            ],
            [
             0.8888888888888888,
             "#b5de2b"
            ],
            [
             1,
             "#fde725"
            ]
           ]
          },
          "colorway": [
           "#1F77B4",
           "#FF7F0E",
           "#2CA02C",
           "#D62728",
           "#9467BD",
           "#8C564B",
           "#E377C2",
           "#7F7F7F",
           "#BCBD22",
           "#17BECF"
          ],
          "font": {
           "color": "rgb(36,36,36)"
          },
          "geo": {
           "bgcolor": "white",
           "lakecolor": "white",
           "landcolor": "white",
           "showlakes": true,
           "showland": true,
           "subunitcolor": "white"
          },
          "hoverlabel": {
           "align": "left"
          },
          "hovermode": "closest",
          "mapbox": {
           "style": "light"
          },
          "paper_bgcolor": "white",
          "plot_bgcolor": "white",
          "polar": {
           "angularaxis": {
            "gridcolor": "rgb(232,232,232)",
            "linecolor": "rgb(36,36,36)",
            "showgrid": false,
            "showline": true,
            "ticks": "outside"
           },
           "bgcolor": "white",
           "radialaxis": {
            "gridcolor": "rgb(232,232,232)",
            "linecolor": "rgb(36,36,36)",
            "showgrid": false,
            "showline": true,
            "ticks": "outside"
           }
          },
          "scene": {
           "xaxis": {
            "backgroundcolor": "white",
            "gridcolor": "rgb(232,232,232)",
            "gridwidth": 2,
            "linecolor": "rgb(36,36,36)",
            "showbackground": true,
            "showgrid": false,
            "showline": true,
            "ticks": "outside",
            "zeroline": false,
            "zerolinecolor": "rgb(36,36,36)"
           },
           "yaxis": {
            "backgroundcolor": "white",
            "gridcolor": "rgb(232,232,232)",
            "gridwidth": 2,
            "linecolor": "rgb(36,36,36)",
            "showbackground": true,
            "showgrid": false,
            "showline": true,
            "ticks": "outside",
            "zeroline": false,
            "zerolinecolor": "rgb(36,36,36)"
           },
           "zaxis": {
            "backgroundcolor": "white",
            "gridcolor": "rgb(232,232,232)",
            "gridwidth": 2,
            "linecolor": "rgb(36,36,36)",
            "showbackground": true,
            "showgrid": false,
            "showline": true,
            "ticks": "outside",
            "zeroline": false,
            "zerolinecolor": "rgb(36,36,36)"
           }
          },
          "shapedefaults": {
           "fillcolor": "black",
           "line": {
            "width": 0
           },
           "opacity": 0.3
          },
          "ternary": {
           "aaxis": {
            "gridcolor": "rgb(232,232,232)",
            "linecolor": "rgb(36,36,36)",
            "showgrid": false,
            "showline": true,
            "ticks": "outside"
           },
           "baxis": {
            "gridcolor": "rgb(232,232,232)",
            "linecolor": "rgb(36,36,36)",
            "showgrid": false,
            "showline": true,
            "ticks": "outside"
           },
           "bgcolor": "white",
           "caxis": {
            "gridcolor": "rgb(232,232,232)",
            "linecolor": "rgb(36,36,36)",
            "showgrid": false,
            "showline": true,
            "ticks": "outside"
           }
          },
          "title": {
           "x": 0.05
          },
          "xaxis": {
           "automargin": true,
           "gridcolor": "rgb(232,232,232)",
           "linecolor": "rgb(36,36,36)",
           "showgrid": false,
           "showline": true,
           "ticks": "outside",
           "title": {
            "standoff": 15
           },
           "zeroline": false,
           "zerolinecolor": "rgb(36,36,36)"
          },
          "yaxis": {
           "automargin": true,
           "gridcolor": "rgb(232,232,232)",
           "linecolor": "rgb(36,36,36)",
           "showgrid": false,
           "showline": true,
           "ticks": "outside",
           "title": {
            "standoff": 15
           },
           "zeroline": false,
           "zerolinecolor": "rgb(36,36,36)"
          }
         }
        },
        "title": {
         "font": {
          "color": "Black",
          "size": 22
         },
         "text": "<b>Intertopic Distance Map</b>",
         "x": 0.5,
         "xanchor": "center",
         "y": 0.95,
         "yanchor": "top"
        },
        "width": 650,
        "xaxis": {
         "anchor": "y",
         "domain": [
          0,
          1
         ],
         "range": [
          -13.85510606765747,
          20.42787389755249
         ],
         "title": {
          "text": ""
         },
         "visible": false
        },
        "yaxis": {
         "anchor": "x",
         "domain": [
          0,
          1
         ],
         "range": [
          2.3317849040031433,
          13.940234994888305
         ],
         "title": {
          "text": ""
         },
         "visible": false
        }
       }
      }
     },
     "metadata": {},
     "output_type": "display_data"
    }
   ],
   "source": [
    "topic_model.visualize_topics(custom_labels=True)"
   ]
  },
  {
   "cell_type": "code",
   "execution_count": null,
   "id": "e2d6856f",
   "metadata": {},
   "outputs": [
    {
     "data": {
      "text/html": [
       "<div>\n",
       "<style scoped>\n",
       "    .dataframe tbody tr th:only-of-type {\n",
       "        vertical-align: middle;\n",
       "    }\n",
       "\n",
       "    .dataframe tbody tr th {\n",
       "        vertical-align: top;\n",
       "    }\n",
       "\n",
       "    .dataframe thead th {\n",
       "        text-align: right;\n",
       "    }\n",
       "</style>\n",
       "<table border=\"1\" class=\"dataframe\">\n",
       "  <thead>\n",
       "    <tr style=\"text-align: right;\">\n",
       "      <th></th>\n",
       "      <th>Topic</th>\n",
       "      <th>Count</th>\n",
       "      <th>Name</th>\n",
       "      <th>CustomName</th>\n",
       "      <th>Representation</th>\n",
       "      <th>KeyBERT</th>\n",
       "      <th>OpenAI</th>\n",
       "      <th>MMR</th>\n",
       "      <th>POS</th>\n",
       "      <th>Representative_Docs</th>\n",
       "    </tr>\n",
       "  </thead>\n",
       "  <tbody>\n",
       "    <tr>\n",
       "      <th>0</th>\n",
       "      <td>-1</td>\n",
       "      <td>375</td>\n",
       "      <td>-1_ai_spotify_internet_content</td>\n",
       "      <td>Outlier Topic</td>\n",
       "      <td>[ai, spotify, internet, content, generated, we...</td>\n",
       "      <td>[ai generated, bots, social media, using ai, g...</td>\n",
       "      <td>[AI-Generated Content and Misinformation]</td>\n",
       "      <td>[spotify, content, generated, media, people, a...</td>\n",
       "      <td>[internet, content, website, event, media, peo...</td>\n",
       "      <td>[That information was readily available elsewh...</td>\n",
       "    </tr>\n",
       "    <tr>\n",
       "      <th>1</th>\n",
       "      <td>0</td>\n",
       "      <td>273</td>\n",
       "      <td>0_facebook_ai_images_content</td>\n",
       "      <td>AI-Generated Content on Social Media</td>\n",
       "      <td>[facebook, ai, images, content, generative, ge...</td>\n",
       "      <td>[generative ai, ai generated, social media, ti...</td>\n",
       "      <td>[AI-Generated Content on Social Media]</td>\n",
       "      <td>[facebook, images, generative ai, chatgpt, pla...</td>\n",
       "      <td>[images, content, generative, platforms, creat...</td>\n",
       "      <td>[TikTok, Facebook and other social media platf...</td>\n",
       "    </tr>\n",
       "    <tr>\n",
       "      <th>2</th>\n",
       "      <td>1</td>\n",
       "      <td>201</td>\n",
       "      <td>1_game_ai_square_activision</td>\n",
       "      <td>AI Usage in Gaming Development</td>\n",
       "      <td>[game, ai, square, activision, development, ne...</td>\n",
       "      <td>[generative ai, ai generated, use ai, generate...</td>\n",
       "      <td>[AI Usage in Gaming Development]</td>\n",
       "      <td>[game, activision, voice, kiryu, angry, genera...</td>\n",
       "      <td>[game, development, new, voice, company, games...</td>\n",
       "      <td>[Activision states on the game's product page ...</td>\n",
       "    </tr>\n",
       "    <tr>\n",
       "      <th>3</th>\n",
       "      <td>2</td>\n",
       "      <td>188</td>\n",
       "      <td>2_trump_image_misinformation_images</td>\n",
       "      <td>AI-Generated Political Misinformation</td>\n",
       "      <td>[trump, image, misinformation, images, account...</td>\n",
       "      <td>[trump, elon musk, followers, generated images...</td>\n",
       "      <td>[AI-Generated Political Misinformation]</td>\n",
       "      <td>[trump, image, misinformation, influencers, fa...</td>\n",
       "      <td>[image, misinformation, images, account, peopl...</td>\n",
       "      <td>[Donald Trump—or at least whoever controls his...</td>\n",
       "    </tr>\n",
       "    <tr>\n",
       "      <th>4</th>\n",
       "      <td>3</td>\n",
       "      <td>141</td>\n",
       "      <td>3_slop_term_spam_ai slop</td>\n",
       "      <td>AI-Generated Content and Spam</td>\n",
       "      <td>[slop, term, spam, ai slop, ai, internet, gene...</td>\n",
       "      <td>[slop isn, slop, slop ai, sloppers, ai slop, s...</td>\n",
       "      <td>[AI-Generated Content and Spam]</td>\n",
       "      <td>[slop, spam, internet, word, generated content...</td>\n",
       "      <td>[slop, term, spam, internet, content, word, ea...</td>\n",
       "      <td>[That’s slop., Why slop?, But nonsynthetic slo...</td>\n",
       "    </tr>\n",
       "    <tr>\n",
       "      <th>5</th>\n",
       "      <td>4</td>\n",
       "      <td>93</td>\n",
       "      <td>4_brands_brand_content_ai</td>\n",
       "      <td>Authentic Branding in Viral Trends</td>\n",
       "      <td>[brands, brand, content, ai, brainrot, human, ...</td>\n",
       "      <td>[italian brainrot, branding, brainrot, brands,...</td>\n",
       "      <td>[Authentic Branding in Viral Trends]</td>\n",
       "      <td>[brands, content, human, italian brainrot, ent...</td>\n",
       "      <td>[brands, brand, content, brainrot, human, entr...</td>\n",
       "      <td>[As entrepreneurs, our brands are our lifebloo...</td>\n",
       "    </tr>\n",
       "    <tr>\n",
       "      <th>6</th>\n",
       "      <td>5</td>\n",
       "      <td>90</td>\n",
       "      <td>5_parade_dublin_street_connell</td>\n",
       "      <td>Dublin Halloween Parade Events</td>\n",
       "      <td>[parade, dublin, street, connell, website, com...</td>\n",
       "      <td>[parade, dublin, myspirithalloween, crowd, mys...</td>\n",
       "      <td>[Dublin Halloween Parade Events]</td>\n",
       "      <td>[parade, dublin, street, connell, people, mysp...</td>\n",
       "      <td>[parade, street, website, people, city, listin...</td>\n",
       "      <td>[On Thursday, hundreds of people gathered on O...</td>\n",
       "    </tr>\n",
       "    <tr>\n",
       "      <th>7</th>\n",
       "      <td>6</td>\n",
       "      <td>69</td>\n",
       "      <td>6_ign_news_times_new york</td>\n",
       "      <td>Media and News Outlets</td>\n",
       "      <td>[ign, news, times, new york, york, net, euroga...</td>\n",
       "      <td>[ign, gaming, eurogamer, activision, gizmodo, ...</td>\n",
       "      <td>[Media and News Outlets]</td>\n",
       "      <td>[news, eurogamer, york times, reporter, atlant...</td>\n",
       "      <td>[news, reporter, editor, comment, updates, gro...</td>\n",
       "      <td>[IGN., IGN., IGN.]</td>\n",
       "    </tr>\n",
       "    <tr>\n",
       "      <th>8</th>\n",
       "      <td>7</td>\n",
       "      <td>61</td>\n",
       "      <td>7_cola_coca_coca cola_company</td>\n",
       "      <td>Coca-Cola AI Holiday Ads Backlash</td>\n",
       "      <td>[cola, coca, coca cola, company, ad, holiday, ...</td>\n",
       "      <td>[coca cola, coca, commercials, company said, a...</td>\n",
       "      <td>[Coca-Cola AI Holiday Ads Backlash]</td>\n",
       "      <td>[coca cola, company, christmas, commercials, b...</td>\n",
       "      <td>[cola, company, ad, holiday, commercial, comme...</td>\n",
       "      <td>[- ^ \"Coca-Cola causes controversy with AI-gen...</td>\n",
       "    </tr>\n",
       "    <tr>\n",
       "      <th>9</th>\n",
       "      <td>8</td>\n",
       "      <td>55</td>\n",
       "      <td>8_experience_event_children_factory</td>\n",
       "      <td>Disappointing Willy Wonka Event</td>\n",
       "      <td>[experience, event, children, factory, imagina...</td>\n",
       "      <td>[charlie, generated gibberish, gizmodo, magica...</td>\n",
       "      <td>[Disappointing Willy Wonka Event]</td>\n",
       "      <td>[experience, children, imagination, arrived, c...</td>\n",
       "      <td>[experience, event, children, factory, imagina...</td>\n",
       "      <td>[Held at the Box Hub, a warehouse event space ...</td>\n",
       "    </tr>\n",
       "    <tr>\n",
       "      <th>10</th>\n",
       "      <td>9</td>\n",
       "      <td>50</td>\n",
       "      <td>9_2025_march 2025_march_2024</td>\n",
       "      <td>2024-2025 Calendar Dates</td>\n",
       "      <td>[2025, march 2025, march, 2024, 24, september ...</td>\n",
       "      <td>[march 2025, april 2025, february 2025, januar...</td>\n",
       "      <td>[2024-2025 Calendar Dates]</td>\n",
       "      <td>[2025, march 2025, 2024, september 2024, novem...</td>\n",
       "      <td>[topics, , , , , , , , , ]</td>\n",
       "      <td>[Retrieved 24 March 2025., Retrieved 24 March ...</td>\n",
       "    </tr>\n",
       "    <tr>\n",
       "      <th>11</th>\n",
       "      <td>10</td>\n",
       "      <td>36</td>\n",
       "      <td>10_google_search_results_engine</td>\n",
       "      <td>AI Integration in Search Engines</td>\n",
       "      <td>[google, search, results, engine, search resul...</td>\n",
       "      <td>[results google, search engines, google, searc...</td>\n",
       "      <td>[AI Integration in Search Engines]</td>\n",
       "      <td>[google, search, engine, search results, websi...</td>\n",
       "      <td>[search, results, engine, links, page, website...</td>\n",
       "      <td>[into its search results on Bing, and it had s...</td>\n",
       "    </tr>\n",
       "    <tr>\n",
       "      <th>12</th>\n",
       "      <td>11</td>\n",
       "      <td>34</td>\n",
       "      <td>11_film_poster_ai_generated</td>\n",
       "      <td>AI-Generated Film Posters Controversy</td>\n",
       "      <td>[film, poster, ai, generated, amazon, ai gener...</td>\n",
       "      <td>[criticized ai, used ai, ai generated, using a...</td>\n",
       "      <td>[AI-Generated Film Posters Controversy]</td>\n",
       "      <td>[film, generated, amazon, ai generated, poster...</td>\n",
       "      <td>[film, poster, posters, voice, narration, qual...</td>\n",
       "      <td>[- ^ \"Amazon Mocked for Slapping AI-Generated ...</td>\n",
       "    </tr>\n",
       "    <tr>\n",
       "      <th>13</th>\n",
       "      <td>12</td>\n",
       "      <td>33</td>\n",
       "      <td>12_2024_november 2024_november_january</td>\n",
       "      <td>2024 Monthly Event Highlights</td>\n",
       "      <td>[2024, november 2024, november, january, augus...</td>\n",
       "      <td>[november 2024, october 2024, august 2024, sep...</td>\n",
       "      <td>[2024 Monthly Event Highlights]</td>\n",
       "      <td>[november 2024, august 2024, october 2024, cha...</td>\n",
       "      <td>[, , , , , , , , , ]</td>\n",
       "      <td>[- ^ Kalita, Parash Jyoti (1 November 2024)., ...</td>\n",
       "    </tr>\n",
       "    <tr>\n",
       "      <th>14</th>\n",
       "      <td>13</td>\n",
       "      <td>30</td>\n",
       "      <td>13_books_ai generated_catalog_generated</td>\n",
       "      <td>AI-Generated Books in Libraries</td>\n",
       "      <td>[books, ai generated, catalog, generated, book...</td>\n",
       "      <td>[ai generated, books, hundreds ai, written ai,...</td>\n",
       "      <td>[AI-Generated Books in Libraries]</td>\n",
       "      <td>[books, ai generated, mushroom, guides, publis...</td>\n",
       "      <td>[books, catalog, book, customers, cost, public...</td>\n",
       "      <td>[Both companies have a variety of payment opti...</td>\n",
       "    </tr>\n",
       "    <tr>\n",
       "      <th>15</th>\n",
       "      <td>14</td>\n",
       "      <td>27</td>\n",
       "      <td>14_mistake_guy_highly_actually</td>\n",
       "      <td>Personal Identity and Responsibility</td>\n",
       "      <td>[mistake, guy, highly, actually, say, highly e...</td>\n",
       "      <td>[highly embarrassed, embarrassed, honestly, co...</td>\n",
       "      <td>[Personal Identity and Responsibility]</td>\n",
       "      <td>[mistake, guy, highly embarrassed, nazir ali, ...</td>\n",
       "      <td>[mistake, guy, country, embarrassed, intention...</td>\n",
       "      <td>[We are highly disappointed, highly embarrasse...</td>\n",
       "    </tr>\n",
       "  </tbody>\n",
       "</table>\n",
       "</div>"
      ],
      "text/plain": [
       "    Topic  Count                                     Name  \\\n",
       "0      -1    375           -1_ai_spotify_internet_content   \n",
       "1       0    273             0_facebook_ai_images_content   \n",
       "2       1    201              1_game_ai_square_activision   \n",
       "3       2    188      2_trump_image_misinformation_images   \n",
       "4       3    141                 3_slop_term_spam_ai slop   \n",
       "5       4     93                4_brands_brand_content_ai   \n",
       "6       5     90           5_parade_dublin_street_connell   \n",
       "7       6     69                6_ign_news_times_new york   \n",
       "8       7     61            7_cola_coca_coca cola_company   \n",
       "9       8     55      8_experience_event_children_factory   \n",
       "10      9     50             9_2025_march 2025_march_2024   \n",
       "11     10     36          10_google_search_results_engine   \n",
       "12     11     34              11_film_poster_ai_generated   \n",
       "13     12     33   12_2024_november 2024_november_january   \n",
       "14     13     30  13_books_ai generated_catalog_generated   \n",
       "15     14     27           14_mistake_guy_highly_actually   \n",
       "\n",
       "                               CustomName  \\\n",
       "0                           Outlier Topic   \n",
       "1    AI-Generated Content on Social Media   \n",
       "2          AI Usage in Gaming Development   \n",
       "3   AI-Generated Political Misinformation   \n",
       "4           AI-Generated Content and Spam   \n",
       "5      Authentic Branding in Viral Trends   \n",
       "6          Dublin Halloween Parade Events   \n",
       "7                  Media and News Outlets   \n",
       "8       Coca-Cola AI Holiday Ads Backlash   \n",
       "9         Disappointing Willy Wonka Event   \n",
       "10               2024-2025 Calendar Dates   \n",
       "11       AI Integration in Search Engines   \n",
       "12  AI-Generated Film Posters Controversy   \n",
       "13          2024 Monthly Event Highlights   \n",
       "14        AI-Generated Books in Libraries   \n",
       "15   Personal Identity and Responsibility   \n",
       "\n",
       "                                       Representation  \\\n",
       "0   [ai, spotify, internet, content, generated, we...   \n",
       "1   [facebook, ai, images, content, generative, ge...   \n",
       "2   [game, ai, square, activision, development, ne...   \n",
       "3   [trump, image, misinformation, images, account...   \n",
       "4   [slop, term, spam, ai slop, ai, internet, gene...   \n",
       "5   [brands, brand, content, ai, brainrot, human, ...   \n",
       "6   [parade, dublin, street, connell, website, com...   \n",
       "7   [ign, news, times, new york, york, net, euroga...   \n",
       "8   [cola, coca, coca cola, company, ad, holiday, ...   \n",
       "9   [experience, event, children, factory, imagina...   \n",
       "10  [2025, march 2025, march, 2024, 24, september ...   \n",
       "11  [google, search, results, engine, search resul...   \n",
       "12  [film, poster, ai, generated, amazon, ai gener...   \n",
       "13  [2024, november 2024, november, january, augus...   \n",
       "14  [books, ai generated, catalog, generated, book...   \n",
       "15  [mistake, guy, highly, actually, say, highly e...   \n",
       "\n",
       "                                              KeyBERT  \\\n",
       "0   [ai generated, bots, social media, using ai, g...   \n",
       "1   [generative ai, ai generated, social media, ti...   \n",
       "2   [generative ai, ai generated, use ai, generate...   \n",
       "3   [trump, elon musk, followers, generated images...   \n",
       "4   [slop isn, slop, slop ai, sloppers, ai slop, s...   \n",
       "5   [italian brainrot, branding, brainrot, brands,...   \n",
       "6   [parade, dublin, myspirithalloween, crowd, mys...   \n",
       "7   [ign, gaming, eurogamer, activision, gizmodo, ...   \n",
       "8   [coca cola, coca, commercials, company said, a...   \n",
       "9   [charlie, generated gibberish, gizmodo, magica...   \n",
       "10  [march 2025, april 2025, february 2025, januar...   \n",
       "11  [results google, search engines, google, searc...   \n",
       "12  [criticized ai, used ai, ai generated, using a...   \n",
       "13  [november 2024, october 2024, august 2024, sep...   \n",
       "14  [ai generated, books, hundreds ai, written ai,...   \n",
       "15  [highly embarrassed, embarrassed, honestly, co...   \n",
       "\n",
       "                                       OpenAI  \\\n",
       "0   [AI-Generated Content and Misinformation]   \n",
       "1      [AI-Generated Content on Social Media]   \n",
       "2            [AI Usage in Gaming Development]   \n",
       "3     [AI-Generated Political Misinformation]   \n",
       "4             [AI-Generated Content and Spam]   \n",
       "5        [Authentic Branding in Viral Trends]   \n",
       "6            [Dublin Halloween Parade Events]   \n",
       "7                    [Media and News Outlets]   \n",
       "8         [Coca-Cola AI Holiday Ads Backlash]   \n",
       "9           [Disappointing Willy Wonka Event]   \n",
       "10                 [2024-2025 Calendar Dates]   \n",
       "11         [AI Integration in Search Engines]   \n",
       "12    [AI-Generated Film Posters Controversy]   \n",
       "13            [2024 Monthly Event Highlights]   \n",
       "14          [AI-Generated Books in Libraries]   \n",
       "15     [Personal Identity and Responsibility]   \n",
       "\n",
       "                                                  MMR  \\\n",
       "0   [spotify, content, generated, media, people, a...   \n",
       "1   [facebook, images, generative ai, chatgpt, pla...   \n",
       "2   [game, activision, voice, kiryu, angry, genera...   \n",
       "3   [trump, image, misinformation, influencers, fa...   \n",
       "4   [slop, spam, internet, word, generated content...   \n",
       "5   [brands, content, human, italian brainrot, ent...   \n",
       "6   [parade, dublin, street, connell, people, mysp...   \n",
       "7   [news, eurogamer, york times, reporter, atlant...   \n",
       "8   [coca cola, company, christmas, commercials, b...   \n",
       "9   [experience, children, imagination, arrived, c...   \n",
       "10  [2025, march 2025, 2024, september 2024, novem...   \n",
       "11  [google, search, engine, search results, websi...   \n",
       "12  [film, generated, amazon, ai generated, poster...   \n",
       "13  [november 2024, august 2024, october 2024, cha...   \n",
       "14  [books, ai generated, mushroom, guides, publis...   \n",
       "15  [mistake, guy, highly embarrassed, nazir ali, ...   \n",
       "\n",
       "                                                  POS  \\\n",
       "0   [internet, content, website, event, media, peo...   \n",
       "1   [images, content, generative, platforms, creat...   \n",
       "2   [game, development, new, voice, company, games...   \n",
       "3   [image, misinformation, images, account, peopl...   \n",
       "4   [slop, term, spam, internet, content, word, ea...   \n",
       "5   [brands, brand, content, brainrot, human, entr...   \n",
       "6   [parade, street, website, people, city, listin...   \n",
       "7   [news, reporter, editor, comment, updates, gro...   \n",
       "8   [cola, company, ad, holiday, commercial, comme...   \n",
       "9   [experience, event, children, factory, imagina...   \n",
       "10                         [topics, , , , , , , , , ]   \n",
       "11  [search, results, engine, links, page, website...   \n",
       "12  [film, poster, posters, voice, narration, qual...   \n",
       "13                               [, , , , , , , , , ]   \n",
       "14  [books, catalog, book, customers, cost, public...   \n",
       "15  [mistake, guy, country, embarrassed, intention...   \n",
       "\n",
       "                                  Representative_Docs  \n",
       "0   [That information was readily available elsewh...  \n",
       "1   [TikTok, Facebook and other social media platf...  \n",
       "2   [Activision states on the game's product page ...  \n",
       "3   [Donald Trump—or at least whoever controls his...  \n",
       "4   [That’s slop., Why slop?, But nonsynthetic slo...  \n",
       "5   [As entrepreneurs, our brands are our lifebloo...  \n",
       "6   [On Thursday, hundreds of people gathered on O...  \n",
       "7                                  [IGN., IGN., IGN.]  \n",
       "8   [- ^ \"Coca-Cola causes controversy with AI-gen...  \n",
       "9   [Held at the Box Hub, a warehouse event space ...  \n",
       "10  [Retrieved 24 March 2025., Retrieved 24 March ...  \n",
       "11  [into its search results on Bing, and it had s...  \n",
       "12  [- ^ \"Amazon Mocked for Slapping AI-Generated ...  \n",
       "13  [- ^ Kalita, Parash Jyoti (1 November 2024)., ...  \n",
       "14  [Both companies have a variety of payment opti...  \n",
       "15  [We are highly disappointed, highly embarrasse...  "
      ]
     },
     "execution_count": 16,
     "metadata": {},
     "output_type": "execute_result"
    }
   ],
   "source": [
    "chatgpt_topic_labels = {\n",
    "    topic: \" | \".join(list(zip(*values))[0])\n",
    "    for topic, values in topic_model.topic_aspects_[\"OpenAI\"].items()\n",
    "}\n",
    "chatgpt_topic_labels[-1] = \"Outlier Topic\"\n",
    "topic_model.set_topic_labels(chatgpt_topic_labels)\n",
    "\n",
    "topic_model.get_topic_info()"
   ]
  },
  {
   "cell_type": "code",
   "execution_count": null,
   "id": "5b02925d",
   "metadata": {},
   "outputs": [
    {
     "data": {
      "text/plain": [
       "['Outlier Topic',\n",
       " 'AI-Generated Content on Social Media',\n",
       " 'AI Usage in Gaming Development',\n",
       " 'AI-Generated Political Misinformation',\n",
       " 'AI-Generated Content and Spam',\n",
       " 'Authentic Branding in Viral Trends',\n",
       " 'Dublin Halloween Parade Events',\n",
       " 'Media and News Outlets',\n",
       " 'Coca-Cola AI Holiday Ads Backlash',\n",
       " 'Disappointing Willy Wonka Event',\n",
       " '2024-2025 Calendar Dates',\n",
       " 'AI Integration in Search Engines',\n",
       " 'AI-Generated Film Posters Controversy',\n",
       " '2024 Monthly Event Highlights',\n",
       " 'AI-Generated Books in Libraries',\n",
       " 'Personal Identity and Responsibility']"
      ]
     },
     "execution_count": 17,
     "metadata": {},
     "output_type": "execute_result"
    }
   ],
   "source": [
    "topic_model.get_topic_info()[\"CustomName\"].tolist()"
   ]
  },
  {
   "cell_type": "code",
   "execution_count": null,
   "id": "82405937",
   "metadata": {},
   "outputs": [
    {
     "data": {
      "application/vnd.plotly.v1+json": {
       "config": {
        "plotlyServerURL": "https://plot.ly"
       },
       "data": [
        {
         "hoverinfo": "text",
         "marker": {
          "color": "rgb(61,153,112)"
         },
         "mode": "lines",
         "type": "scatter",
         "x": {
          "bdata": "AAAAAAAAAADImx4TjUTbP8ibHhONRNs/AAAAAAAAAAA=",
          "dtype": "f8"
         },
         "xaxis": "x",
         "y": {
          "bdata": "AAAAAAAAFMAAAAAAAAAUwAAAAAAAAC7AAAAAAAAALsA=",
          "dtype": "f8"
         },
         "yaxis": "y"
        },
        {
         "hoverinfo": "text",
         "marker": {
          "color": "rgb(255,65,54)"
         },
         "mode": "lines",
         "type": "scatter",
         "x": {
          "bdata": "AAAAAAAAAAAivi1kHtzuPyK+LWQe3O4/AAAAAAAAAAA=",
          "dtype": "f8"
         },
         "xaxis": "x",
         "y": {
          "bdata": "AAAAAAAAOcAAAAAAAAA5wAAAAAAAgEHAAAAAAACAQcA=",
          "dtype": "f8"
         },
         "yaxis": "y"
        },
        {
         "hoverinfo": "text",
         "marker": {
          "color": "rgb(255,65,54)"
         },
         "mode": "lines",
         "type": "scatter",
         "x": {
          "bdata": "AAAAAAAAAABO9FZFFKzqP070VkUUrOo/AAAAAAAAAAA=",
          "dtype": "f8"
         },
         "xaxis": "x",
         "y": {
          "bdata": "AAAAAACARsAAAAAAAIBGwAAAAAAAgEvAAAAAAACAS8A=",
          "dtype": "f8"
         },
         "yaxis": "y"
        },
        {
         "hoverinfo": "text",
         "marker": {
          "color": "rgb(255,65,54)"
         },
         "mode": "lines",
         "type": "scatter",
         "x": {
          "bdata": "TvRWRRSs6j8uuG79IErtPy64bv0gSu0/AAAAAAAAAAA=",
          "dtype": "f8"
         },
         "xaxis": "x",
         "y": {
          "bdata": "AAAAAAAAScAAAAAAAABJwAAAAAAAQFDAAAAAAABAUMA=",
          "dtype": "f8"
         },
         "yaxis": "y"
        },
        {
         "hoverinfo": "text",
         "marker": {
          "color": "rgb(255,65,54)"
         },
         "mode": "lines",
         "type": "scatter",
         "x": {
          "bdata": "Ir4tZB7c7j89lRaddubvPz2VFp125u8/Lrhu/SBK7T8=",
          "dtype": "f8"
         },
         "xaxis": "x",
         "y": {
          "bdata": "AAAAAAAAPsAAAAAAAAA+wAAAAAAAwEzAAAAAAADATMA=",
          "dtype": "f8"
         },
         "yaxis": "y"
        },
        {
         "hoverinfo": "text",
         "marker": {
          "color": "rgb(35,205,205)"
         },
         "mode": "lines",
         "type": "scatter",
         "x": {
          "bdata": "AAAAAAAAAABP1UzBiZDqP0/VTMGJkOo/AAAAAAAAAAA=",
          "dtype": "f8"
         },
         "xaxis": "x",
         "y": {
          "bdata": "AAAAAADAUsAAAAAAAMBSwAAAAAAAQFXAAAAAAABAVcA=",
          "dtype": "f8"
         },
         "yaxis": "y"
        },
        {
         "hoverinfo": "text",
         "marker": {
          "color": "rgb(35,205,205)"
         },
         "mode": "lines",
         "type": "scatter",
         "x": {
          "bdata": "AAAAAAAAAAAoPEtE/37iPyg8S0T/fuI/AAAAAAAAAAA=",
          "dtype": "f8"
         },
         "xaxis": "x",
         "y": {
          "bdata": "AAAAAABAWsAAAAAAAEBawAAAAAAAwFzAAAAAAADAXMA=",
          "dtype": "f8"
         },
         "yaxis": "y"
        },
        {
         "hoverinfo": "text",
         "marker": {
          "color": "rgb(35,205,205)"
         },
         "mode": "lines",
         "type": "scatter",
         "x": {
          "bdata": "KDxLRP9+4j9nARd6ipLlP2cBF3qKkuU/AAAAAAAAAAA=",
          "dtype": "f8"
         },
         "xaxis": "x",
         "y": {
          "bdata": "AAAAAACAW8AAAAAAAIBbwAAAAAAAQF/AAAAAAABAX8A=",
          "dtype": "f8"
         },
         "yaxis": "y"
        },
        {
         "hoverinfo": "text",
         "marker": {
          "color": "rgb(35,205,205)"
         },
         "mode": "lines",
         "type": "scatter",
         "x": {
          "bdata": "ZwEXeoqS5T/o+VdKn5zoP+j5V0qfnOg/AAAAAAAAAAA=",
          "dtype": "f8"
         },
         "xaxis": "x",
         "y": {
          "bdata": "AAAAAABgXcAAAAAAAGBdwAAAAAAA4GDAAAAAAADgYMA=",
          "dtype": "f8"
         },
         "yaxis": "y"
        },
        {
         "hoverinfo": "text",
         "marker": {
          "color": "rgb(35,205,205)"
         },
         "mode": "lines",
         "type": "scatter",
         "x": {
          "bdata": "AAAAAAAAAAA3tspoRQvpPze2ymhFC+k/6PlXSp+c6D8=",
          "dtype": "f8"
         },
         "xaxis": "x",
         "y": {
          "bdata": "AAAAAADAV8AAAAAAAMBXwAAAAAAAkF/AAAAAAACQX8A=",
          "dtype": "f8"
         },
         "yaxis": "y"
        },
        {
         "hoverinfo": "text",
         "marker": {
          "color": "rgb(35,205,205)"
         },
         "mode": "lines",
         "type": "scatter",
         "x": {
          "bdata": "T9VMwYmQ6j/jt3oVjMvsP+O3ehWMy+w/N7bKaEUL6T8=",
          "dtype": "f8"
         },
         "xaxis": "x",
         "y": {
          "bdata": "AAAAAAAAVMAAAAAAAABUwAAAAAAAqFvAAAAAAACoW8A=",
          "dtype": "f8"
         },
         "yaxis": "y"
        },
        {
         "hoverinfo": "text",
         "marker": {
          "color": "rgb(35,205,205)"
         },
         "mode": "lines",
         "type": "scatter",
         "x": {
          "bdata": "47d6FYzL7D8odfC1U+/tPyh18LVT7+0/AAAAAAAAAAA=",
          "dtype": "f8"
         },
         "xaxis": "x",
         "y": {
          "bdata": "AAAAAADUV8AAAAAAANRXwAAAAAAAIGLAAAAAAAAgYsA=",
          "dtype": "f8"
         },
         "yaxis": "y"
        },
        {
         "hoverinfo": "text",
         "marker": {
          "color": "rgb(0,116,217)"
         },
         "mode": "lines",
         "type": "scatter",
         "x": {
          "bdata": "PZUWnXbm7z/yCvtthuDyP/IK+22G4PI/KHXwtVPv7T8=",
          "dtype": "f8"
         },
         "xaxis": "x",
         "y": {
          "bdata": "AAAAAADgRcAAAAAAAOBFwAAAAAAACl7AAAAAAAAKXsA=",
          "dtype": "f8"
         },
         "yaxis": "y"
        },
        {
         "hoverinfo": "text",
         "marker": {
          "color": "rgb(0,116,217)"
         },
         "mode": "lines",
         "type": "scatter",
         "x": {
          "bdata": "yJseE41E2z+z0Eh9ziD2P7PQSH3OIPY/8gr7bYbg8j8=",
          "dtype": "f8"
         },
         "xaxis": "x",
         "y": {
          "bdata": "AAAAAAAAJMAAAAAAAAAkwAAAAAAAfVTAAAAAAAB9VMA=",
          "dtype": "f8"
         },
         "yaxis": "y"
        }
       ],
       "layout": {
        "autosize": false,
        "height": 425,
        "hoverlabel": {
         "bgcolor": "white",
         "font": {
          "family": "Rockwell",
          "size": 16
         }
        },
        "hovermode": "closest",
        "plot_bgcolor": "#ECEFF1",
        "showlegend": false,
        "template": {
         "data": {
          "bar": [
           {
            "error_x": {
             "color": "#2a3f5f"
            },
            "error_y": {
             "color": "#2a3f5f"
            },
            "marker": {
             "line": {
              "color": "white",
              "width": 0.5
             },
             "pattern": {
              "fillmode": "overlay",
              "size": 10,
              "solidity": 0.2
             }
            },
            "type": "bar"
           }
          ],
          "barpolar": [
           {
            "marker": {
             "line": {
              "color": "white",
              "width": 0.5
             },
             "pattern": {
              "fillmode": "overlay",
              "size": 10,
              "solidity": 0.2
             }
            },
            "type": "barpolar"
           }
          ],
          "carpet": [
           {
            "aaxis": {
             "endlinecolor": "#2a3f5f",
             "gridcolor": "#C8D4E3",
             "linecolor": "#C8D4E3",
             "minorgridcolor": "#C8D4E3",
             "startlinecolor": "#2a3f5f"
            },
            "baxis": {
             "endlinecolor": "#2a3f5f",
             "gridcolor": "#C8D4E3",
             "linecolor": "#C8D4E3",
             "minorgridcolor": "#C8D4E3",
             "startlinecolor": "#2a3f5f"
            },
            "type": "carpet"
           }
          ],
          "choropleth": [
           {
            "colorbar": {
             "outlinewidth": 0,
             "ticks": ""
            },
            "type": "choropleth"
           }
          ],
          "contour": [
           {
            "colorbar": {
             "outlinewidth": 0,
             "ticks": ""
            },
            "colorscale": [
             [
              0,
              "#0d0887"
             ],
             [
              0.1111111111111111,
              "#46039f"
             ],
             [
              0.2222222222222222,
              "#7201a8"
             ],
             [
              0.3333333333333333,
              "#9c179e"
             ],
             [
              0.4444444444444444,
              "#bd3786"
             ],
             [
              0.5555555555555556,
              "#d8576b"
             ],
             [
              0.6666666666666666,
              "#ed7953"
             ],
             [
              0.7777777777777778,
              "#fb9f3a"
             ],
             [
              0.8888888888888888,
              "#fdca26"
             ],
             [
              1,
              "#f0f921"
             ]
            ],
            "type": "contour"
           }
          ],
          "contourcarpet": [
           {
            "colorbar": {
             "outlinewidth": 0,
             "ticks": ""
            },
            "type": "contourcarpet"
           }
          ],
          "heatmap": [
           {
            "colorbar": {
             "outlinewidth": 0,
             "ticks": ""
            },
            "colorscale": [
             [
              0,
              "#0d0887"
             ],
             [
              0.1111111111111111,
              "#46039f"
             ],
             [
              0.2222222222222222,
              "#7201a8"
             ],
             [
              0.3333333333333333,
              "#9c179e"
             ],
             [
              0.4444444444444444,
              "#bd3786"
             ],
             [
              0.5555555555555556,
              "#d8576b"
             ],
             [
              0.6666666666666666,
              "#ed7953"
             ],
             [
              0.7777777777777778,
              "#fb9f3a"
             ],
             [
              0.8888888888888888,
              "#fdca26"
             ],
             [
              1,
              "#f0f921"
             ]
            ],
            "type": "heatmap"
           }
          ],
          "histogram": [
           {
            "marker": {
             "pattern": {
              "fillmode": "overlay",
              "size": 10,
              "solidity": 0.2
             }
            },
            "type": "histogram"
           }
          ],
          "histogram2d": [
           {
            "colorbar": {
             "outlinewidth": 0,
             "ticks": ""
            },
            "colorscale": [
             [
              0,
              "#0d0887"
             ],
             [
              0.1111111111111111,
              "#46039f"
             ],
             [
              0.2222222222222222,
              "#7201a8"
             ],
             [
              0.3333333333333333,
              "#9c179e"
             ],
             [
              0.4444444444444444,
              "#bd3786"
             ],
             [
              0.5555555555555556,
              "#d8576b"
             ],
             [
              0.6666666666666666,
              "#ed7953"
             ],
             [
              0.7777777777777778,
              "#fb9f3a"
             ],
             [
              0.8888888888888888,
              "#fdca26"
             ],
             [
              1,
              "#f0f921"
             ]
            ],
            "type": "histogram2d"
           }
          ],
          "histogram2dcontour": [
           {
            "colorbar": {
             "outlinewidth": 0,
             "ticks": ""
            },
            "colorscale": [
             [
              0,
              "#0d0887"
             ],
             [
              0.1111111111111111,
              "#46039f"
             ],
             [
              0.2222222222222222,
              "#7201a8"
             ],
             [
              0.3333333333333333,
              "#9c179e"
             ],
             [
              0.4444444444444444,
              "#bd3786"
             ],
             [
              0.5555555555555556,
              "#d8576b"
             ],
             [
              0.6666666666666666,
              "#ed7953"
             ],
             [
              0.7777777777777778,
              "#fb9f3a"
             ],
             [
              0.8888888888888888,
              "#fdca26"
             ],
             [
              1,
              "#f0f921"
             ]
            ],
            "type": "histogram2dcontour"
           }
          ],
          "mesh3d": [
           {
            "colorbar": {
             "outlinewidth": 0,
             "ticks": ""
            },
            "type": "mesh3d"
           }
          ],
          "parcoords": [
           {
            "line": {
             "colorbar": {
              "outlinewidth": 0,
              "ticks": ""
             }
            },
            "type": "parcoords"
           }
          ],
          "pie": [
           {
            "automargin": true,
            "type": "pie"
           }
          ],
          "scatter": [
           {
            "fillpattern": {
             "fillmode": "overlay",
             "size": 10,
             "solidity": 0.2
            },
            "type": "scatter"
           }
          ],
          "scatter3d": [
           {
            "line": {
             "colorbar": {
              "outlinewidth": 0,
              "ticks": ""
             }
            },
            "marker": {
             "colorbar": {
              "outlinewidth": 0,
              "ticks": ""
             }
            },
            "type": "scatter3d"
           }
          ],
          "scattercarpet": [
           {
            "marker": {
             "colorbar": {
              "outlinewidth": 0,
              "ticks": ""
             }
            },
            "type": "scattercarpet"
           }
          ],
          "scattergeo": [
           {
            "marker": {
             "colorbar": {
              "outlinewidth": 0,
              "ticks": ""
             }
            },
            "type": "scattergeo"
           }
          ],
          "scattergl": [
           {
            "marker": {
             "colorbar": {
              "outlinewidth": 0,
              "ticks": ""
             }
            },
            "type": "scattergl"
           }
          ],
          "scattermap": [
           {
            "marker": {
             "colorbar": {
              "outlinewidth": 0,
              "ticks": ""
             }
            },
            "type": "scattermap"
           }
          ],
          "scattermapbox": [
           {
            "marker": {
             "colorbar": {
              "outlinewidth": 0,
              "ticks": ""
             }
            },
            "type": "scattermapbox"
           }
          ],
          "scatterpolar": [
           {
            "marker": {
             "colorbar": {
              "outlinewidth": 0,
              "ticks": ""
             }
            },
            "type": "scatterpolar"
           }
          ],
          "scatterpolargl": [
           {
            "marker": {
             "colorbar": {
              "outlinewidth": 0,
              "ticks": ""
             }
            },
            "type": "scatterpolargl"
           }
          ],
          "scatterternary": [
           {
            "marker": {
             "colorbar": {
              "outlinewidth": 0,
              "ticks": ""
             }
            },
            "type": "scatterternary"
           }
          ],
          "surface": [
           {
            "colorbar": {
             "outlinewidth": 0,
             "ticks": ""
            },
            "colorscale": [
             [
              0,
              "#0d0887"
             ],
             [
              0.1111111111111111,
              "#46039f"
             ],
             [
              0.2222222222222222,
              "#7201a8"
             ],
             [
              0.3333333333333333,
              "#9c179e"
             ],
             [
              0.4444444444444444,
              "#bd3786"
             ],
             [
              0.5555555555555556,
              "#d8576b"
             ],
             [
              0.6666666666666666,
              "#ed7953"
             ],
             [
              0.7777777777777778,
              "#fb9f3a"
             ],
             [
              0.8888888888888888,
              "#fdca26"
             ],
             [
              1,
              "#f0f921"
             ]
            ],
            "type": "surface"
           }
          ],
          "table": [
           {
            "cells": {
             "fill": {
              "color": "#EBF0F8"
             },
             "line": {
              "color": "white"
             }
            },
            "header": {
             "fill": {
              "color": "#C8D4E3"
             },
             "line": {
              "color": "white"
             }
            },
            "type": "table"
           }
          ]
         },
         "layout": {
          "annotationdefaults": {
           "arrowcolor": "#2a3f5f",
           "arrowhead": 0,
           "arrowwidth": 1
          },
          "autotypenumbers": "strict",
          "coloraxis": {
           "colorbar": {
            "outlinewidth": 0,
            "ticks": ""
           }
          },
          "colorscale": {
           "diverging": [
            [
             0,
             "#8e0152"
            ],
            [
             0.1,
             "#c51b7d"
            ],
            [
             0.2,
             "#de77ae"
            ],
            [
             0.3,
             "#f1b6da"
            ],
            [
             0.4,
             "#fde0ef"
            ],
            [
             0.5,
             "#f7f7f7"
            ],
            [
             0.6,
             "#e6f5d0"
            ],
            [
             0.7,
             "#b8e186"
            ],
            [
             0.8,
             "#7fbc41"
            ],
            [
             0.9,
             "#4d9221"
            ],
            [
             1,
             "#276419"
            ]
           ],
           "sequential": [
            [
             0,
             "#0d0887"
            ],
            [
             0.1111111111111111,
             "#46039f"
            ],
            [
             0.2222222222222222,
             "#7201a8"
            ],
            [
             0.3333333333333333,
             "#9c179e"
            ],
            [
             0.4444444444444444,
             "#bd3786"
            ],
            [
             0.5555555555555556,
             "#d8576b"
            ],
            [
             0.6666666666666666,
             "#ed7953"
            ],
            [
             0.7777777777777778,
             "#fb9f3a"
            ],
            [
             0.8888888888888888,
             "#fdca26"
            ],
            [
             1,
             "#f0f921"
            ]
           ],
           "sequentialminus": [
            [
             0,
             "#0d0887"
            ],
            [
             0.1111111111111111,
             "#46039f"
            ],
            [
             0.2222222222222222,
             "#7201a8"
            ],
            [
             0.3333333333333333,
             "#9c179e"
            ],
            [
             0.4444444444444444,
             "#bd3786"
            ],
            [
             0.5555555555555556,
             "#d8576b"
            ],
            [
             0.6666666666666666,
             "#ed7953"
            ],
            [
             0.7777777777777778,
             "#fb9f3a"
            ],
            [
             0.8888888888888888,
             "#fdca26"
            ],
            [
             1,
             "#f0f921"
            ]
           ]
          },
          "colorway": [
           "#636efa",
           "#EF553B",
           "#00cc96",
           "#ab63fa",
           "#FFA15A",
           "#19d3f3",
           "#FF6692",
           "#B6E880",
           "#FF97FF",
           "#FECB52"
          ],
          "font": {
           "color": "#2a3f5f"
          },
          "geo": {
           "bgcolor": "white",
           "lakecolor": "white",
           "landcolor": "white",
           "showlakes": true,
           "showland": true,
           "subunitcolor": "#C8D4E3"
          },
          "hoverlabel": {
           "align": "left"
          },
          "hovermode": "closest",
          "mapbox": {
           "style": "light"
          },
          "paper_bgcolor": "white",
          "plot_bgcolor": "white",
          "polar": {
           "angularaxis": {
            "gridcolor": "#EBF0F8",
            "linecolor": "#EBF0F8",
            "ticks": ""
           },
           "bgcolor": "white",
           "radialaxis": {
            "gridcolor": "#EBF0F8",
            "linecolor": "#EBF0F8",
            "ticks": ""
           }
          },
          "scene": {
           "xaxis": {
            "backgroundcolor": "white",
            "gridcolor": "#DFE8F3",
            "gridwidth": 2,
            "linecolor": "#EBF0F8",
            "showbackground": true,
            "ticks": "",
            "zerolinecolor": "#EBF0F8"
           },
           "yaxis": {
            "backgroundcolor": "white",
            "gridcolor": "#DFE8F3",
            "gridwidth": 2,
            "linecolor": "#EBF0F8",
            "showbackground": true,
            "ticks": "",
            "zerolinecolor": "#EBF0F8"
           },
           "zaxis": {
            "backgroundcolor": "white",
            "gridcolor": "#DFE8F3",
            "gridwidth": 2,
            "linecolor": "#EBF0F8",
            "showbackground": true,
            "ticks": "",
            "zerolinecolor": "#EBF0F8"
           }
          },
          "shapedefaults": {
           "line": {
            "color": "#2a3f5f"
           }
          },
          "ternary": {
           "aaxis": {
            "gridcolor": "#DFE8F3",
            "linecolor": "#A2B1C6",
            "ticks": ""
           },
           "baxis": {
            "gridcolor": "#DFE8F3",
            "linecolor": "#A2B1C6",
            "ticks": ""
           },
           "bgcolor": "white",
           "caxis": {
            "gridcolor": "#DFE8F3",
            "linecolor": "#A2B1C6",
            "ticks": ""
           }
          },
          "title": {
           "x": 0.05
          },
          "xaxis": {
           "automargin": true,
           "gridcolor": "#EBF0F8",
           "linecolor": "#EBF0F8",
           "ticks": "",
           "title": {
            "standoff": 15
           },
           "zerolinecolor": "#EBF0F8",
           "zerolinewidth": 2
          },
          "yaxis": {
           "automargin": true,
           "gridcolor": "#EBF0F8",
           "linecolor": "#EBF0F8",
           "ticks": "",
           "title": {
            "standoff": 15
           },
           "zerolinecolor": "#EBF0F8",
           "zerolinewidth": 2
          }
         }
        },
        "title": {
         "font": {
          "color": "Black",
          "size": 22
         },
         "text": "<b>Hierarchical Clustering</b>",
         "x": 0.5,
         "xanchor": "center",
         "yanchor": "top"
        },
        "width": 1000,
        "xaxis": {
         "mirror": "allticks",
         "rangemode": "tozero",
         "showgrid": false,
         "showline": true,
         "showticklabels": true,
         "ticks": "outside",
         "type": "linear",
         "zeroline": false
        },
        "yaxis": {
         "mirror": "allticks",
         "range": [
          -150,
          0
         ],
         "rangemode": "tozero",
         "showgrid": false,
         "showline": true,
         "showticklabels": true,
         "tickmode": "array",
         "ticks": "outside",
         "ticktext": [
          "2024-2025 Calendar Dates",
          "2024 Monthly Event Highlights",
          "Media and News Outlets",
          "AI Integration in Search Engines",
          "Disappointing Willy Wonka Event",
          "Dublin Halloween Parade Events",
          "Personal Identity and Responsibility",
          "AI-Generated Books in Libraries",
          "AI-Generated Film Posters Controversy",
          "AI Usage in Gaming Development",
          "AI-Generated Political Misinformation",
          "AI-Generated Content on Social Media",
          "AI-Generated Content and Spam",
          "Authentic Branding in Viral Trends",
          "Coca-Cola AI Holiday Ads Backlash"
         ],
         "tickvals": [
          -5,
          -15,
          -25,
          -35,
          -45,
          -55,
          -65,
          -75,
          -85,
          -95,
          -105,
          -115,
          -125,
          -135,
          -145
         ],
         "type": "linear",
         "zeroline": false
        }
       }
      }
     },
     "metadata": {},
     "output_type": "display_data"
    }
   ],
   "source": [
    "topic_model.visualize_hierarchy(custom_labels=True)"
   ]
  },
  {
   "cell_type": "code",
   "execution_count": null,
   "id": "031eb2bd",
   "metadata": {},
   "outputs": [
    {
     "data": {
      "application/vnd.plotly.v1+json": {
       "config": {
        "plotlyServerURL": "https://plot.ly"
       },
       "data": [
        {
         "coloraxis": "coloraxis",
         "hovertemplate": "x: %{x}<br>y: %{y}<br>Similarity Score: %{z}<extra></extra>",
         "name": "0",
         "type": "heatmap",
         "x": [
          "0_facebook_ai_images",
          "1_game_ai_square",
          "2_trump_image_misinformation",
          "3_slop_term_spam",
          "4_brands_brand_content",
          "5_parade_dublin_street",
          "6_ign_news_times",
          "7_cola_coca_coca cola",
          "8_experience_event_children",
          "9_2025_march 2025_march",
          "10_google_search_results",
          "11_film_poster_ai",
          "12_2024_november 2024_novem...",
          "13_books_ai generated_catalog",
          "14_mistake_guy_highly"
         ],
         "xaxis": "x",
         "y": [
          "0_facebook_ai_images",
          "1_game_ai_square",
          "2_trump_image_misinformation",
          "3_slop_term_spam",
          "4_brands_brand_content",
          "5_parade_dublin_street",
          "6_ign_news_times",
          "7_cola_coca_coca cola",
          "8_experience_event_children",
          "9_2025_march 2025_march",
          "10_google_search_results",
          "11_film_poster_ai",
          "12_2024_november 2024_novem...",
          "13_books_ai generated_catalog",
          "14_mistake_guy_highly"
         ],
         "yaxis": "y",
         "z": {
          "bdata": "9f//////7z/GCOdI3LjmP/Xyx2g4rec/nMhkvnRk5z/mkV+TBMroP0BBYr/sDtc/Xu8jXMtb3j96I0Bd81vjPxdT2pm39dw/7FCFj87lzj+/n1I/J3/lPy8320LIwOY/7lSVTkg82T9lJvdNucnkPyU/xUrD4dY/xgjnSNy45j/////////vPx2Mnw0BPOA/SRpog4A+4D96wGTmombiP9Iz7qzyIdQ/zBzrjwgy4D+/HDWi8BHjP9+1i4Ubvto/MaRvB9fg0T/Gd8bznaDeP+kcKj0C5eQ/4BP4I0aD3D8n8/NwjyjeP9dIezcaFtQ/9fLHaDit5z8djJ8NATzgP/T//////+8/V6sU6Ypt5D8gkrN4xRPjP5DF/okfKNw/bON8KIlv3j/CwzXNeVbfP4QpaDQi8d8/eCLmRd/qzj9a/B6axp3gP9m8xGxAdeI/w82r3vLD2z8oeMehkrzgP2NMpGp3Vtw/nMhkvnRk5z9JGmiDgD7gP1erFOmKbeQ/7P//////7z/AlVi5McnkP1F3dkbkStM/YlVTq4Vy2j/qvvQSZa/dP22Mebv8Hdw/T+ZnHvH6zj+UnQBjt1zhP+JHvS7itOI/qhqldYLr1z/jDep1soPjP1ROLoRLldc/5pFfkwTK6D96wGTmombiPyCSs3jFE+M/wJVYuTHJ5D8FAAAAAADwP6BrQaNEgNI/MLjQrP4L2z+y//LrjVbjP263ac+lYdo/5JlnMJyMyj/6osh4bOviP3rA6H5hSuM/mAVaYTET1T9EXGnbV93hP1UoBiOQy9U/QEFiv+wO1z/SM+6s8iHUP5DF/okfKNw/UXd2RuRK0z+ga0GjRIDSP+3//////+8/0aS/hV971T/YIF/qklTXP1oOYyxvDeE/tyRlhEsg0T+upJPLKKrUP3/S8021rdY/Dw+TfoWW2D/fVoZ79VHRP1LUtC4etdk/Xu8jXMtb3j/MHOuPCDLgP2zjfCiJb94/YlVTq4Vy2j8wuNCs/gvbP9Gkv4Vfe9U/+///////7z8V0im8E3bWP/qGEr65Qtg/YAa/2QXJ1j+V53YZ27jaP9jvbjg4nts/DMfhiGq44T9IF8me1eXXP1DJev78Fdk/eiNAXfNb4z+/HDWi8BHjP8LDNc15Vt8/6r70EmWv3T+y//LrjVbjP9ggX+qSVNc/FdIpvBN21j/9///////vP4GUYTaPv+A/pwEATxRRyj/B0IeTTgHbP7e1G0JUwuM/f9c/s4KK1j/Mf0Ge9U/XP20h20GEKdI/F1Pambf13D/ftYuFG77aP4QpaDQi8d8/bYx5u/wd3D9ut2nPpWHaP1oOYyxvDeE/+oYSvrlC2D+BlGE2j7/gPwQAAAAAAPA/ptWKTtgYzT/qGU7oC6HUP8MjYmUZzuA/Wif1UJtb2T+ch4Q/SIDZPy36eF9AqNk/7FCFj87lzj8xpG8H1+DRP3gi5kXf6s4/T+ZnHvH6zj/kmWcwnIzKP7ckZYRLINE/YAa/2QXJ1j+nAQBPFFHKP6bVik7YGM0/BgAAAAAA8D+VWhIVMwrQP5RZ9n+hfNA/1xS+kqwO5D+IIR/INsHNP65jyrWbNMg/v59SPyd/5T/Gd8bznaDeP1r8HprGneA/lJ0AY7dc4T/6osh4bOviP66kk8soqtQ/led2Gdu42j/B0IeTTgHbP+oZTugLodQ/lVoSFTMK0D/+///////vPwMUWwX8PN4/CqiBpIGj0z+WJsyM/7TgPzDeGueQs9Y/LzfbQsjA5j/pHCo9AuXkP9m8xGxAdeI/4ke9LuK04j96wOh+YUrjP3/S8021rdY/2O9uODie2z+3tRtCVMLjP8MjYmUZzuA/lFn2f6F80D8DFFsF/DzePwMAAAAAAPA/WJ5G7QiD2z9k++L17GrhP2NMfLLqA9U/7lSVTkg82T/gE/gjRoPcP8PNq97yw9s/qhqldYLr1z+YBVphMRPVPw8Pk36Fltg/DMfhiGq44T9/1z+zgorWP1on9VCbW9k/1xS+kqwO5D8KqIGkgaPTP1ieRu0Ig9s/AQAAAAAA8D9MqTVZ1PnTP27wsgWEYtU/ZSb3TbnJ5D8n8/NwjyjePyh4x6GSvOA/4w3qdbKD4z9EXGnbV93hP99Whnv1UdE/SBfJntXl1z/Mf0Ge9U/XP5yHhD9IgNk/iCEfyDbBzT+WJsyM/7TgP2T74vXsauE/TKk1WdT50z/+///////vP5J/Wd5HntE/JT/FSsPh1j/XSHs3GhbUP2NMpGp3Vtw/VE4uhEuV1z9VKAYjkMvVP1LUtC4etdk/UMl6/vwV2T9tIdtBhCnSPy36eF9AqNk/rmPKtZs0yD8w3hrnkLPWP2NMfLLqA9U/bvCyBYRi1T+Sf1neR57RP/z//////+8/",
          "dtype": "f8",
          "shape": "15, 15"
         }
        }
       ],
       "layout": {
        "coloraxis": {
         "colorbar": {
          "title": {
           "text": "Similarity Score"
          }
         },
         "colorscale": [
          [
           0,
           "rgb(247,252,240)"
          ],
          [
           0.125,
           "rgb(224,243,219)"
          ],
          [
           0.25,
           "rgb(204,235,197)"
          ],
          [
           0.375,
           "rgb(168,221,181)"
          ],
          [
           0.5,
           "rgb(123,204,196)"
          ],
          [
           0.625,
           "rgb(78,179,211)"
          ],
          [
           0.75,
           "rgb(43,140,190)"
          ],
          [
           0.875,
           "rgb(8,104,172)"
          ],
          [
           1,
           "rgb(8,64,129)"
          ]
         ]
        },
        "height": 800,
        "hoverlabel": {
         "bgcolor": "white",
         "font": {
          "family": "Rockwell",
          "size": 16
         }
        },
        "legend": {
         "title": {
          "text": "Trend"
         }
        },
        "margin": {
         "t": 60
        },
        "showlegend": true,
        "template": {
         "data": {
          "bar": [
           {
            "error_x": {
             "color": "#2a3f5f"
            },
            "error_y": {
             "color": "#2a3f5f"
            },
            "marker": {
             "line": {
              "color": "#E5ECF6",
              "width": 0.5
             },
             "pattern": {
              "fillmode": "overlay",
              "size": 10,
              "solidity": 0.2
             }
            },
            "type": "bar"
           }
          ],
          "barpolar": [
           {
            "marker": {
             "line": {
              "color": "#E5ECF6",
              "width": 0.5
             },
             "pattern": {
              "fillmode": "overlay",
              "size": 10,
              "solidity": 0.2
             }
            },
            "type": "barpolar"
           }
          ],
          "carpet": [
           {
            "aaxis": {
             "endlinecolor": "#2a3f5f",
             "gridcolor": "white",
             "linecolor": "white",
             "minorgridcolor": "white",
             "startlinecolor": "#2a3f5f"
            },
            "baxis": {
             "endlinecolor": "#2a3f5f",
             "gridcolor": "white",
             "linecolor": "white",
             "minorgridcolor": "white",
             "startlinecolor": "#2a3f5f"
            },
            "type": "carpet"
           }
          ],
          "choropleth": [
           {
            "colorbar": {
             "outlinewidth": 0,
             "ticks": ""
            },
            "type": "choropleth"
           }
          ],
          "contour": [
           {
            "colorbar": {
             "outlinewidth": 0,
             "ticks": ""
            },
            "colorscale": [
             [
              0,
              "#0d0887"
             ],
             [
              0.1111111111111111,
              "#46039f"
             ],
             [
              0.2222222222222222,
              "#7201a8"
             ],
             [
              0.3333333333333333,
              "#9c179e"
             ],
             [
              0.4444444444444444,
              "#bd3786"
             ],
             [
              0.5555555555555556,
              "#d8576b"
             ],
             [
              0.6666666666666666,
              "#ed7953"
             ],
             [
              0.7777777777777778,
              "#fb9f3a"
             ],
             [
              0.8888888888888888,
              "#fdca26"
             ],
             [
              1,
              "#f0f921"
             ]
            ],
            "type": "contour"
           }
          ],
          "contourcarpet": [
           {
            "colorbar": {
             "outlinewidth": 0,
             "ticks": ""
            },
            "type": "contourcarpet"
           }
          ],
          "heatmap": [
           {
            "colorbar": {
             "outlinewidth": 0,
             "ticks": ""
            },
            "colorscale": [
             [
              0,
              "#0d0887"
             ],
             [
              0.1111111111111111,
              "#46039f"
             ],
             [
              0.2222222222222222,
              "#7201a8"
             ],
             [
              0.3333333333333333,
              "#9c179e"
             ],
             [
              0.4444444444444444,
              "#bd3786"
             ],
             [
              0.5555555555555556,
              "#d8576b"
             ],
             [
              0.6666666666666666,
              "#ed7953"
             ],
             [
              0.7777777777777778,
              "#fb9f3a"
             ],
             [
              0.8888888888888888,
              "#fdca26"
             ],
             [
              1,
              "#f0f921"
             ]
            ],
            "type": "heatmap"
           }
          ],
          "histogram": [
           {
            "marker": {
             "pattern": {
              "fillmode": "overlay",
              "size": 10,
              "solidity": 0.2
             }
            },
            "type": "histogram"
           }
          ],
          "histogram2d": [
           {
            "colorbar": {
             "outlinewidth": 0,
             "ticks": ""
            },
            "colorscale": [
             [
              0,
              "#0d0887"
             ],
             [
              0.1111111111111111,
              "#46039f"
             ],
             [
              0.2222222222222222,
              "#7201a8"
             ],
             [
              0.3333333333333333,
              "#9c179e"
             ],
             [
              0.4444444444444444,
              "#bd3786"
             ],
             [
              0.5555555555555556,
              "#d8576b"
             ],
             [
              0.6666666666666666,
              "#ed7953"
             ],
             [
              0.7777777777777778,
              "#fb9f3a"
             ],
             [
              0.8888888888888888,
              "#fdca26"
             ],
             [
              1,
              "#f0f921"
             ]
            ],
            "type": "histogram2d"
           }
          ],
          "histogram2dcontour": [
           {
            "colorbar": {
             "outlinewidth": 0,
             "ticks": ""
            },
            "colorscale": [
             [
              0,
              "#0d0887"
             ],
             [
              0.1111111111111111,
              "#46039f"
             ],
             [
              0.2222222222222222,
              "#7201a8"
             ],
             [
              0.3333333333333333,
              "#9c179e"
             ],
             [
              0.4444444444444444,
              "#bd3786"
             ],
             [
              0.5555555555555556,
              "#d8576b"
             ],
             [
              0.6666666666666666,
              "#ed7953"
             ],
             [
              0.7777777777777778,
              "#fb9f3a"
             ],
             [
              0.8888888888888888,
              "#fdca26"
             ],
             [
              1,
              "#f0f921"
             ]
            ],
            "type": "histogram2dcontour"
           }
          ],
          "mesh3d": [
           {
            "colorbar": {
             "outlinewidth": 0,
             "ticks": ""
            },
            "type": "mesh3d"
           }
          ],
          "parcoords": [
           {
            "line": {
             "colorbar": {
              "outlinewidth": 0,
              "ticks": ""
             }
            },
            "type": "parcoords"
           }
          ],
          "pie": [
           {
            "automargin": true,
            "type": "pie"
           }
          ],
          "scatter": [
           {
            "fillpattern": {
             "fillmode": "overlay",
             "size": 10,
             "solidity": 0.2
            },
            "type": "scatter"
           }
          ],
          "scatter3d": [
           {
            "line": {
             "colorbar": {
              "outlinewidth": 0,
              "ticks": ""
             }
            },
            "marker": {
             "colorbar": {
              "outlinewidth": 0,
              "ticks": ""
             }
            },
            "type": "scatter3d"
           }
          ],
          "scattercarpet": [
           {
            "marker": {
             "colorbar": {
              "outlinewidth": 0,
              "ticks": ""
             }
            },
            "type": "scattercarpet"
           }
          ],
          "scattergeo": [
           {
            "marker": {
             "colorbar": {
              "outlinewidth": 0,
              "ticks": ""
             }
            },
            "type": "scattergeo"
           }
          ],
          "scattergl": [
           {
            "marker": {
             "colorbar": {
              "outlinewidth": 0,
              "ticks": ""
             }
            },
            "type": "scattergl"
           }
          ],
          "scattermap": [
           {
            "marker": {
             "colorbar": {
              "outlinewidth": 0,
              "ticks": ""
             }
            },
            "type": "scattermap"
           }
          ],
          "scattermapbox": [
           {
            "marker": {
             "colorbar": {
              "outlinewidth": 0,
              "ticks": ""
             }
            },
            "type": "scattermapbox"
           }
          ],
          "scatterpolar": [
           {
            "marker": {
             "colorbar": {
              "outlinewidth": 0,
              "ticks": ""
             }
            },
            "type": "scatterpolar"
           }
          ],
          "scatterpolargl": [
           {
            "marker": {
             "colorbar": {
              "outlinewidth": 0,
              "ticks": ""
             }
            },
            "type": "scatterpolargl"
           }
          ],
          "scatterternary": [
           {
            "marker": {
             "colorbar": {
              "outlinewidth": 0,
              "ticks": ""
             }
            },
            "type": "scatterternary"
           }
          ],
          "surface": [
           {
            "colorbar": {
             "outlinewidth": 0,
             "ticks": ""
            },
            "colorscale": [
             [
              0,
              "#0d0887"
             ],
             [
              0.1111111111111111,
              "#46039f"
             ],
             [
              0.2222222222222222,
              "#7201a8"
             ],
             [
              0.3333333333333333,
              "#9c179e"
             ],
             [
              0.4444444444444444,
              "#bd3786"
             ],
             [
              0.5555555555555556,
              "#d8576b"
             ],
             [
              0.6666666666666666,
              "#ed7953"
             ],
             [
              0.7777777777777778,
              "#fb9f3a"
             ],
             [
              0.8888888888888888,
              "#fdca26"
             ],
             [
              1,
              "#f0f921"
             ]
            ],
            "type": "surface"
           }
          ],
          "table": [
           {
            "cells": {
             "fill": {
              "color": "#EBF0F8"
             },
             "line": {
              "color": "white"
             }
            },
            "header": {
             "fill": {
              "color": "#C8D4E3"
             },
             "line": {
              "color": "white"
             }
            },
            "type": "table"
           }
          ]
         },
         "layout": {
          "annotationdefaults": {
           "arrowcolor": "#2a3f5f",
           "arrowhead": 0,
           "arrowwidth": 1
          },
          "autotypenumbers": "strict",
          "coloraxis": {
           "colorbar": {
            "outlinewidth": 0,
            "ticks": ""
           }
          },
          "colorscale": {
           "diverging": [
            [
             0,
             "#8e0152"
            ],
            [
             0.1,
             "#c51b7d"
            ],
            [
             0.2,
             "#de77ae"
            ],
            [
             0.3,
             "#f1b6da"
            ],
            [
             0.4,
             "#fde0ef"
            ],
            [
             0.5,
             "#f7f7f7"
            ],
            [
             0.6,
             "#e6f5d0"
            ],
            [
             0.7,
             "#b8e186"
            ],
            [
             0.8,
             "#7fbc41"
            ],
            [
             0.9,
             "#4d9221"
            ],
            [
             1,
             "#276419"
            ]
           ],
           "sequential": [
            [
             0,
             "#0d0887"
            ],
            [
             0.1111111111111111,
             "#46039f"
            ],
            [
             0.2222222222222222,
             "#7201a8"
            ],
            [
             0.3333333333333333,
             "#9c179e"
            ],
            [
             0.4444444444444444,
             "#bd3786"
            ],
            [
             0.5555555555555556,
             "#d8576b"
            ],
            [
             0.6666666666666666,
             "#ed7953"
            ],
            [
             0.7777777777777778,
             "#fb9f3a"
            ],
            [
             0.8888888888888888,
             "#fdca26"
            ],
            [
             1,
             "#f0f921"
            ]
           ],
           "sequentialminus": [
            [
             0,
             "#0d0887"
            ],
            [
             0.1111111111111111,
             "#46039f"
            ],
            [
             0.2222222222222222,
             "#7201a8"
            ],
            [
             0.3333333333333333,
             "#9c179e"
            ],
            [
             0.4444444444444444,
             "#bd3786"
            ],
            [
             0.5555555555555556,
             "#d8576b"
            ],
            [
             0.6666666666666666,
             "#ed7953"
            ],
            [
             0.7777777777777778,
             "#fb9f3a"
            ],
            [
             0.8888888888888888,
             "#fdca26"
            ],
            [
             1,
             "#f0f921"
            ]
           ]
          },
          "colorway": [
           "#636efa",
           "#EF553B",
           "#00cc96",
           "#ab63fa",
           "#FFA15A",
           "#19d3f3",
           "#FF6692",
           "#B6E880",
           "#FF97FF",
           "#FECB52"
          ],
          "font": {
           "color": "#2a3f5f"
          },
          "geo": {
           "bgcolor": "white",
           "lakecolor": "white",
           "landcolor": "#E5ECF6",
           "showlakes": true,
           "showland": true,
           "subunitcolor": "white"
          },
          "hoverlabel": {
           "align": "left"
          },
          "hovermode": "closest",
          "mapbox": {
           "style": "light"
          },
          "paper_bgcolor": "white",
          "plot_bgcolor": "#E5ECF6",
          "polar": {
           "angularaxis": {
            "gridcolor": "white",
            "linecolor": "white",
            "ticks": ""
           },
           "bgcolor": "#E5ECF6",
           "radialaxis": {
            "gridcolor": "white",
            "linecolor": "white",
            "ticks": ""
           }
          },
          "scene": {
           "xaxis": {
            "backgroundcolor": "#E5ECF6",
            "gridcolor": "white",
            "gridwidth": 2,
            "linecolor": "white",
            "showbackground": true,
            "ticks": "",
            "zerolinecolor": "white"
           },
           "yaxis": {
            "backgroundcolor": "#E5ECF6",
            "gridcolor": "white",
            "gridwidth": 2,
            "linecolor": "white",
            "showbackground": true,
            "ticks": "",
            "zerolinecolor": "white"
           },
           "zaxis": {
            "backgroundcolor": "#E5ECF6",
            "gridcolor": "white",
            "gridwidth": 2,
            "linecolor": "white",
            "showbackground": true,
            "ticks": "",
            "zerolinecolor": "white"
           }
          },
          "shapedefaults": {
           "line": {
            "color": "#2a3f5f"
           }
          },
          "ternary": {
           "aaxis": {
            "gridcolor": "white",
            "linecolor": "white",
            "ticks": ""
           },
           "baxis": {
            "gridcolor": "white",
            "linecolor": "white",
            "ticks": ""
           },
           "bgcolor": "#E5ECF6",
           "caxis": {
            "gridcolor": "white",
            "linecolor": "white",
            "ticks": ""
           }
          },
          "title": {
           "x": 0.05
          },
          "xaxis": {
           "automargin": true,
           "gridcolor": "white",
           "linecolor": "white",
           "ticks": "",
           "title": {
            "standoff": 15
           },
           "zerolinecolor": "white",
           "zerolinewidth": 2
          },
          "yaxis": {
           "automargin": true,
           "gridcolor": "white",
           "linecolor": "white",
           "ticks": "",
           "title": {
            "standoff": 15
           },
           "zerolinecolor": "white",
           "zerolinewidth": 2
          }
         }
        },
        "title": {
         "font": {
          "color": "Black",
          "size": 22
         },
         "text": "<b>Similarity Matrix</b>",
         "x": 0.55,
         "xanchor": "center",
         "y": 0.95,
         "yanchor": "top"
        },
        "width": 800,
        "xaxis": {
         "anchor": "y",
         "constrain": "domain",
         "domain": [
          0,
          1
         ],
         "scaleanchor": "y"
        },
        "yaxis": {
         "anchor": "x",
         "autorange": "reversed",
         "constrain": "domain",
         "domain": [
          0,
          1
         ]
        }
       }
      }
     },
     "metadata": {},
     "output_type": "display_data"
    }
   ],
   "source": [
    "topic_model.visualize_heatmap()"
   ]
  },
  {
   "cell_type": "code",
   "execution_count": null,
   "id": "103fd534",
   "metadata": {},
   "outputs": [
    {
     "data": {
      "text/plain": [
       "[('slop', 0.12661864243087656),\n",
       " ('term', 0.0625602752775144),\n",
       " ('spam', 0.05904437639970761),\n",
       " ('ai slop', 0.03645851505399794),\n",
       " ('ai', 0.03366185665676671),\n",
       " ('internet', 0.03110414749436344),\n",
       " ('generated', 0.02649438303872978),\n",
       " ('content', 0.026210223929013735),\n",
       " ('word', 0.02555226328783056),\n",
       " ('think', 0.022382161657595923)]"
      ]
     },
     "execution_count": 20,
     "metadata": {},
     "output_type": "execute_result"
    }
   ],
   "source": [
    "similar_topics, similarity = topic_model.find_topics(\"slop\", top_n=5)\n",
    "topic_model.get_topic(similar_topics[0])"
   ]
  },
  {
   "cell_type": "code",
   "execution_count": null,
   "id": "e543af4b",
   "metadata": {},
   "outputs": [
    {
     "data": {
      "text/plain": [
       "{'Main': [('facebook', 0.04659195431291535),\n",
       "  ('ai', 0.04607431547314764),\n",
       "  ('images', 0.035854051333467724),\n",
       "  ('content', 0.03136514076542845),\n",
       "  ('generative', 0.024428769465126052),\n",
       "  ('generative ai', 0.02245685769923068),\n",
       "  ('chatgpt', 0.022343556885121487),\n",
       "  ('platforms', 0.020548202360271425),\n",
       "  ('creators', 0.020174739159686338),\n",
       "  ('engagement', 0.01999160352879291)],\n",
       " 'KeyBERT': [('generative ai', 0.4859438540065479),\n",
       "  ('ai generated', 0.47298957995907676),\n",
       "  ('social media', 0.4283856548230271),\n",
       "  ('tiktok', 0.4106319149079104),\n",
       "  ('generated images', 0.397606181202182),\n",
       "  ('use ai', 0.36645479565401134),\n",
       "  ('ai tools', 0.3610315277706539),\n",
       "  ('fake', 0.354350820060206),\n",
       "  ('ai image', 0.35112872276745866),\n",
       "  ('generated content', 0.35051996495914073)],\n",
       " 'OpenAI': [('AI-Generated Content on Social Media', 1)],\n",
       " 'MMR': [('facebook', 0.04659195431291535),\n",
       "  ('images', 0.035854051333467724),\n",
       "  ('generative ai', 0.02245685769923068),\n",
       "  ('chatgpt', 0.022343556885121487),\n",
       "  ('platforms', 0.020548202360271425),\n",
       "  ('creators', 0.020174739159686338),\n",
       "  ('generated', 0.018389689615417155),\n",
       "  ('ai generated', 0.0171319851317198),\n",
       "  ('tiktok', 0.016953957424487194),\n",
       "  ('ai slop', 0.013496410912495661)],\n",
       " 'POS': [('images', 0.035854051333467724),\n",
       "  ('content', 0.03136514076542845),\n",
       "  ('generative', 0.024428769465126052),\n",
       "  ('platforms', 0.020548202360271425),\n",
       "  ('creators', 0.020174739159686338),\n",
       "  ('engagement', 0.01999160352879291),\n",
       "  ('money', 0.019800861321232262),\n",
       "  ('tools', 0.018713015876544236),\n",
       "  ('videos', 0.01791756773706421),\n",
       "  ('pages', 0.017627373860498754)]}"
      ]
     },
     "execution_count": 21,
     "metadata": {},
     "output_type": "execute_result"
    }
   ],
   "source": [
    "topic_model.get_topic(0, full=True)"
   ]
  },
  {
   "cell_type": "code",
   "execution_count": null,
   "id": "1db7f285",
   "metadata": {},
   "outputs": [
    {
     "name": "stderr",
     "output_type": "stream",
     "text": [
      "  0%|          | 0/2 [00:00<?, ?it/s]"
     ]
    },
    {
     "name": "stderr",
     "output_type": "stream",
     "text": [
      "100%|██████████| 2/2 [00:00<00:00, 10.17it/s]\n"
     ]
    }
   ],
   "source": [
    "# `topic_distr` contains the distribution of topics in each document\n",
    "topic_distr, _ = topic_model.approximate_distribution(documents, window=8, stride=4)"
   ]
  },
  {
   "cell_type": "code",
   "execution_count": null,
   "id": "09a9869b",
   "metadata": {},
   "outputs": [
    {
     "ename": "IndexError",
     "evalue": "index 312 is out of bounds for axis 0 with size 41",
     "output_type": "error",
     "traceback": [
      "\u001b[0;31m---------------------------------------------------------------------------\u001b[0m",
      "\u001b[0;31mIndexError\u001b[0m                                Traceback (most recent call last)",
      "Cell \u001b[0;32mIn[23], line 4\u001b[0m\n\u001b[1;32m      1\u001b[0m reduced_embeddings \u001b[38;5;241m=\u001b[39m UMAP(\n\u001b[1;32m      2\u001b[0m     n_neighbors\u001b[38;5;241m=\u001b[39m\u001b[38;5;241m10\u001b[39m, n_components\u001b[38;5;241m=\u001b[39m\u001b[38;5;241m2\u001b[39m, min_dist\u001b[38;5;241m=\u001b[39m\u001b[38;5;241m0.0\u001b[39m, metric\u001b[38;5;241m=\u001b[39m\u001b[38;5;124m\"\u001b[39m\u001b[38;5;124mcosine\u001b[39m\u001b[38;5;124m\"\u001b[39m\n\u001b[1;32m      3\u001b[0m )\u001b[38;5;241m.\u001b[39mfit_transform(embeddings)\n\u001b[0;32m----> 4\u001b[0m \u001b[43mtopic_model\u001b[49m\u001b[38;5;241;43m.\u001b[39;49m\u001b[43mvisualize_documents\u001b[49m\u001b[43m(\u001b[49m\n\u001b[1;32m      5\u001b[0m \u001b[43m    \u001b[49m\u001b[43mdocuments\u001b[49m\u001b[43m,\u001b[49m\n\u001b[1;32m      6\u001b[0m \u001b[43m    \u001b[49m\u001b[43mreduced_embeddings\u001b[49m\u001b[38;5;241;43m=\u001b[39;49m\u001b[43mreduced_embeddings\u001b[49m\u001b[43m,\u001b[49m\n\u001b[1;32m      7\u001b[0m \u001b[43m    \u001b[49m\u001b[43mcustom_labels\u001b[49m\u001b[38;5;241;43m=\u001b[39;49m\u001b[38;5;28;43;01mTrue\u001b[39;49;00m\u001b[43m,\u001b[49m\n\u001b[1;32m      8\u001b[0m \u001b[43m    \u001b[49m\u001b[38;5;66;43;03m# hide_annotations=True,\u001b[39;49;00m\n\u001b[1;32m      9\u001b[0m \u001b[43m)\u001b[49m\n",
      "File \u001b[0;32m~/lis/thematic-analysis/.venv/lib/python3.10/site-packages/bertopic/_bertopic.py:2537\u001b[0m, in \u001b[0;36mBERTopic.visualize_documents\u001b[0;34m(self, docs, topics, embeddings, reduced_embeddings, sample, hide_annotations, hide_document_hover, custom_labels, title, width, height)\u001b[0m\n\u001b[1;32m   2535\u001b[0m check_is_fitted(\u001b[38;5;28mself\u001b[39m)\n\u001b[1;32m   2536\u001b[0m check_documents_type(docs)\n\u001b[0;32m-> 2537\u001b[0m \u001b[38;5;28;01mreturn\u001b[39;00m \u001b[43mplotting\u001b[49m\u001b[38;5;241;43m.\u001b[39;49m\u001b[43mvisualize_documents\u001b[49m\u001b[43m(\u001b[49m\n\u001b[1;32m   2538\u001b[0m \u001b[43m    \u001b[49m\u001b[38;5;28;43mself\u001b[39;49m\u001b[43m,\u001b[49m\n\u001b[1;32m   2539\u001b[0m \u001b[43m    \u001b[49m\u001b[43mdocs\u001b[49m\u001b[38;5;241;43m=\u001b[39;49m\u001b[43mdocs\u001b[49m\u001b[43m,\u001b[49m\n\u001b[1;32m   2540\u001b[0m \u001b[43m    \u001b[49m\u001b[43mtopics\u001b[49m\u001b[38;5;241;43m=\u001b[39;49m\u001b[43mtopics\u001b[49m\u001b[43m,\u001b[49m\n\u001b[1;32m   2541\u001b[0m \u001b[43m    \u001b[49m\u001b[43membeddings\u001b[49m\u001b[38;5;241;43m=\u001b[39;49m\u001b[43membeddings\u001b[49m\u001b[43m,\u001b[49m\n\u001b[1;32m   2542\u001b[0m \u001b[43m    \u001b[49m\u001b[43mreduced_embeddings\u001b[49m\u001b[38;5;241;43m=\u001b[39;49m\u001b[43mreduced_embeddings\u001b[49m\u001b[43m,\u001b[49m\n\u001b[1;32m   2543\u001b[0m \u001b[43m    \u001b[49m\u001b[43msample\u001b[49m\u001b[38;5;241;43m=\u001b[39;49m\u001b[43msample\u001b[49m\u001b[43m,\u001b[49m\n\u001b[1;32m   2544\u001b[0m \u001b[43m    \u001b[49m\u001b[43mhide_annotations\u001b[49m\u001b[38;5;241;43m=\u001b[39;49m\u001b[43mhide_annotations\u001b[49m\u001b[43m,\u001b[49m\n\u001b[1;32m   2545\u001b[0m \u001b[43m    \u001b[49m\u001b[43mhide_document_hover\u001b[49m\u001b[38;5;241;43m=\u001b[39;49m\u001b[43mhide_document_hover\u001b[49m\u001b[43m,\u001b[49m\n\u001b[1;32m   2546\u001b[0m \u001b[43m    \u001b[49m\u001b[43mcustom_labels\u001b[49m\u001b[38;5;241;43m=\u001b[39;49m\u001b[43mcustom_labels\u001b[49m\u001b[43m,\u001b[49m\n\u001b[1;32m   2547\u001b[0m \u001b[43m    \u001b[49m\u001b[43mtitle\u001b[49m\u001b[38;5;241;43m=\u001b[39;49m\u001b[43mtitle\u001b[49m\u001b[43m,\u001b[49m\n\u001b[1;32m   2548\u001b[0m \u001b[43m    \u001b[49m\u001b[43mwidth\u001b[49m\u001b[38;5;241;43m=\u001b[39;49m\u001b[43mwidth\u001b[49m\u001b[43m,\u001b[49m\n\u001b[1;32m   2549\u001b[0m \u001b[43m    \u001b[49m\u001b[43mheight\u001b[49m\u001b[38;5;241;43m=\u001b[39;49m\u001b[43mheight\u001b[49m\u001b[43m,\u001b[49m\n\u001b[1;32m   2550\u001b[0m \u001b[43m\u001b[49m\u001b[43m)\u001b[49m\n",
      "File \u001b[0;32m~/lis/thematic-analysis/.venv/lib/python3.10/site-packages/bertopic/plotting/_documents.py:132\u001b[0m, in \u001b[0;36mvisualize_documents\u001b[0;34m(topic_model, docs, topics, embeddings, reduced_embeddings, sample, hide_annotations, hide_document_hover, custom_labels, title, width, height)\u001b[0m\n\u001b[1;32m    128\u001b[0m         \u001b[38;5;28;01mraise\u001b[39;00m \u001b[38;5;167;01mModuleNotFoundError\u001b[39;00m(\n\u001b[1;32m    129\u001b[0m             \u001b[38;5;124m\"\u001b[39m\u001b[38;5;124mUMAP is required if the embeddings are not yet reduced in dimensionality. Please install it using `pip install umap-learn`.\u001b[39m\u001b[38;5;124m\"\u001b[39m\n\u001b[1;32m    130\u001b[0m         )\n\u001b[1;32m    131\u001b[0m \u001b[38;5;28;01melif\u001b[39;00m sample \u001b[38;5;129;01mis\u001b[39;00m \u001b[38;5;129;01mnot\u001b[39;00m \u001b[38;5;28;01mNone\u001b[39;00m \u001b[38;5;129;01mand\u001b[39;00m reduced_embeddings \u001b[38;5;129;01mis\u001b[39;00m \u001b[38;5;129;01mnot\u001b[39;00m \u001b[38;5;28;01mNone\u001b[39;00m:\n\u001b[0;32m--> 132\u001b[0m     embeddings_2d \u001b[38;5;241m=\u001b[39m \u001b[43mreduced_embeddings\u001b[49m\u001b[43m[\u001b[49m\u001b[43mindices\u001b[49m\u001b[43m]\u001b[49m\n\u001b[1;32m    133\u001b[0m \u001b[38;5;28;01melif\u001b[39;00m sample \u001b[38;5;129;01mis\u001b[39;00m \u001b[38;5;28;01mNone\u001b[39;00m \u001b[38;5;129;01mand\u001b[39;00m reduced_embeddings \u001b[38;5;129;01mis\u001b[39;00m \u001b[38;5;129;01mnot\u001b[39;00m \u001b[38;5;28;01mNone\u001b[39;00m:\n\u001b[1;32m    134\u001b[0m     embeddings_2d \u001b[38;5;241m=\u001b[39m reduced_embeddings\n",
      "\u001b[0;31mIndexError\u001b[0m: index 312 is out of bounds for axis 0 with size 41"
     ]
    }
   ],
   "source": [
    "reduced_embeddings = UMAP(\n",
    "    n_neighbors=10, n_components=2, min_dist=0.0, metric=\"cosine\"\n",
    ").fit_transform(embeddings)\n",
    "topic_model.visualize_documents(\n",
    "    documents,\n",
    "    reduced_embeddings=reduced_embeddings,\n",
    "    custom_labels=True,\n",
    "    # hide_annotations=True,\n",
    ")"
   ]
  },
  {
   "cell_type": "code",
   "execution_count": null,
   "id": "1c174d3e",
   "metadata": {},
   "outputs": [
    {
     "data": {
      "text/plain": [
       "(41, 3072)"
      ]
     },
     "execution_count": 26,
     "metadata": {},
     "output_type": "execute_result"
    }
   ],
   "source": [
    "embeddings.shape"
   ]
  },
  {
   "cell_type": "code",
   "execution_count": null,
   "id": "80649e99",
   "metadata": {},
   "outputs": [],
   "source": []
  }
 ],
 "metadata": {
  "kernelspec": {
   "display_name": ".venv",
   "language": "python",
   "name": "python3"
  },
  "language_info": {
   "codemirror_mode": {
    "name": "ipython",
    "version": 3
   },
   "file_extension": ".py",
   "mimetype": "text/x-python",
   "name": "python",
   "nbconvert_exporter": "python",
   "pygments_lexer": "ipython3",
   "version": "3.10.12"
  }
 },
 "nbformat": 4,
 "nbformat_minor": 5
}
