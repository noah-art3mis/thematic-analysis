{
 "cells": [
  {
   "cell_type": "markdown",
   "id": "dd5231be",
   "metadata": {},
   "source": [
    "as per: https://colab.research.google.com/drive/1BoQ_vakEVtojsd2x_U6-_x52OOuqruj2?usp=sharing#scrollTo=w3WRXoRP2ej8\n"
   ]
  },
  {
   "cell_type": "code",
   "execution_count": 52,
   "id": "b9f62ac4",
   "metadata": {},
   "outputs": [],
   "source": [
    "import os\n",
    "import dotenv\n",
    "import openai\n",
    "import pandas as pd\n",
    "\n",
    "from typing import Text\n",
    "from bertopic import BERTopic\n",
    "from bertopic.backend import OpenAIBackend\n",
    "from nltk.tokenize import sent_tokenize, word_tokenize"
   ]
  },
  {
   "cell_type": "code",
   "execution_count": null,
   "id": "22dcfa03",
   "metadata": {},
   "outputs": [],
   "source": [
    "MODEL_NAME = \"slop_min150_minilm_sentences\""
   ]
  },
  {
   "cell_type": "code",
   "execution_count": 53,
   "id": "697ec514",
   "metadata": {},
   "outputs": [],
   "source": [
    "df = pd.read_feather(\"analysis.feather\")\n",
    "documents = df[\"text\"].tolist()"
   ]
  },
  {
   "cell_type": "code",
   "execution_count": 54,
   "metadata": {},
   "outputs": [
    {
     "data": {
      "text/plain": [
       "1756"
      ]
     },
     "execution_count": 54,
     "metadata": {},
     "output_type": "execute_result"
    }
   ],
   "source": [
    "# comment this out for document-level, leave it in for sentence level\n",
    "sentences = [sent_tokenize(x) for x in documents]\n",
    "documents = [sentence for doc in sentences for sentence in doc]\n",
    "len(documents)"
   ]
  },
  {
   "cell_type": "code",
   "execution_count": 56,
   "id": "b60c56aa",
   "metadata": {},
   "outputs": [
    {
     "name": "stderr",
     "output_type": "stream",
     "text": [
      "Batches: 100%|██████████| 55/55 [01:47<00:00,  1.96s/it]\n"
     ]
    }
   ],
   "source": [
    "from sentence_transformers import SentenceTransformer\n",
    "\n",
    "embedding_model = SentenceTransformer(\"all-MiniLM-L6-v2\")\n",
    "embeddings = embedding_model.encode(documents, show_progress_bar=True)"
   ]
  },
  {
   "cell_type": "code",
   "execution_count": 57,
   "id": "50c0febd",
   "metadata": {},
   "outputs": [],
   "source": [
    "# use this if you want openai embeddings (better performance)\n",
    "# dotenv.load_dotenv()\n",
    "# client = openai.OpenAI(api_key=os.environ[\"OPENAI_API_KEY\"])\n",
    "# embedding_model = OpenAIBackend(client, \"text-embedding-3-large\")\n",
    "\n",
    "# # careful !\n",
    "# # df[\"embedding\"] = df[\"text\"].apply(\n",
    "# #     lambda x: client.embeddings.create(model=\"text-embedding-3-large\", input=x)\n",
    "# #     .data[0]\n",
    "# #     .embedding\n",
    "# # )\n",
    "\n",
    "# # no need to compute more than once here\n",
    "# # df.to_feather(\"analysis_with_embeddings.feather\")\n",
    "# df = pd.read_feather(\"analysis_with_embeddings.feather\")\n",
    "# embeddings = df[\"embedding\"].tonumpy()\n",
    "# embeddings"
   ]
  },
  {
   "cell_type": "code",
   "execution_count": 58,
   "id": "413dacd9",
   "metadata": {},
   "outputs": [],
   "source": [
    "from umap import UMAP\n",
    "\n",
    "umap_model = UMAP(\n",
    "    n_neighbors=15, n_components=5, min_dist=0.0, metric=\"cosine\", random_state=42\n",
    ")"
   ]
  },
  {
   "cell_type": "code",
   "execution_count": null,
   "id": "d9005d1f",
   "metadata": {},
   "outputs": [],
   "source": [
    "from hdbscan import HDBSCAN\n",
    "\n",
    "# A higher min_topic_size will generate fewer topics and a lower min_topic_size will generate more topics.\n",
    "\n",
    "hdbscan_model = HDBSCAN(\n",
    "    min_cluster_size=150,\n",
    "    metric=\"euclidean\",\n",
    "    cluster_selection_method=\"eom\",\n",
    "    prediction_data=True,\n",
    ")"
   ]
  },
  {
   "cell_type": "code",
   "execution_count": 60,
   "id": "43685c78",
   "metadata": {},
   "outputs": [],
   "source": [
    "from sklearn.feature_extraction.text import CountVectorizer\n",
    "\n",
    "vectorizer_model = CountVectorizer(stop_words=\"english\", min_df=2, ngram_range=(1, 2))"
   ]
  },
  {
   "cell_type": "code",
   "execution_count": 61,
   "id": "406202d2",
   "metadata": {},
   "outputs": [],
   "source": [
    "from bertopic.representation import (\n",
    "    KeyBERTInspired,\n",
    "    MaximalMarginalRelevance,\n",
    "    OpenAI,\n",
    "    PartOfSpeech,\n",
    ")\n",
    "\n",
    "# KeyBERT\n",
    "keybert_model = KeyBERTInspired()\n",
    "\n",
    "# Part-of-Speech\n",
    "pos_model = PartOfSpeech(\"en_core_web_sm\")\n",
    "\n",
    "# MMR\n",
    "mmr_model = MaximalMarginalRelevance(diversity=0.3)\n",
    "\n",
    "# GPT\n",
    "prompt = \"\"\"\n",
    "I have a topic that contains the following documents:\n",
    "[DOCUMENTS]\n",
    "\n",
    "The topic is described by the following keywords: [KEYWORDS]\n",
    "\n",
    "Based on the information above, extract a short but highly descriptive topic label of at most 5 words. Make sure it is in the following format:\n",
    "topic: <topic label>\n",
    "\"\"\"\n",
    "openai_model = OpenAI(\n",
    "    client=openai.OpenAI(api_key=os.environ[\"OPENAI_API_KEY\"]),\n",
    "    model=\"gpt-4.1-nano-2025-04-14\",\n",
    "    exponential_backoff=True,\n",
    "    chat=True,\n",
    "    prompt=prompt,\n",
    ")\n",
    "\n",
    "# also consider, in order of pricing (0.010 -> 2.0):\n",
    "# gpt-4.1-nano-2025-04-14\n",
    "# gpt-4o-mini-2024-07-18\n",
    "# o3-mini-2025-01-31\n",
    "# o1-mini-2024-09-12\n",
    "# gpt-4.1-2025-04-14\n",
    "# o3-2025-04-16\n",
    "\n",
    "# All representation models\n",
    "representation_model = {\n",
    "    \"KeyBERT\": keybert_model,\n",
    "    \"OpenAI\": openai_model,\n",
    "    \"MMR\": mmr_model,\n",
    "    \"POS\": pos_model,\n",
    "}"
   ]
  },
  {
   "cell_type": "code",
   "execution_count": 63,
   "id": "c7ac8113",
   "metadata": {},
   "outputs": [
    {
     "name": "stderr",
     "output_type": "stream",
     "text": [
      "2025-06-11 21:53:43,815 - BERTopic - Dimensionality - Fitting the dimensionality reduction algorithm\n",
      "2025-06-11 21:53:53,454 - BERTopic - Dimensionality - Completed ✓\n",
      "2025-06-11 21:53:53,458 - BERTopic - Cluster - Start clustering the reduced embeddings\n",
      "2025-06-11 21:53:53,571 - BERTopic - Cluster - Completed ✓\n",
      "2025-06-11 21:53:53,585 - BERTopic - Representation - Fine-tuning topics using representation models.\n",
      "100%|██████████| 85/85 [00:40<00:00,  2.10it/s]\n",
      "2025-06-11 21:58:22,409 - BERTopic - Representation - Completed ✓\n"
     ]
    }
   ],
   "source": [
    "from bertopic import BERTopic\n",
    "from huggingface_hub import DocumentQuestionAnsweringOutputElement\n",
    "from numpy import ndarray\n",
    "\n",
    "topic_model = BERTopic(\n",
    "    # Pipeline models\n",
    "    embedding_model=embedding_model,\n",
    "    umap_model=umap_model,\n",
    "    hdbscan_model=hdbscan_model,\n",
    "    vectorizer_model=vectorizer_model,\n",
    "    representation_model=representation_model,\n",
    "    # Hyperparameters\n",
    "    top_n_words=10,\n",
    "    verbose=True,\n",
    ")\n",
    "\n",
    "topics, probs = topic_model.fit_transform(documents, embeddings)"
   ]
  },
  {
   "cell_type": "code",
   "execution_count": 64,
   "id": "f32cd953",
   "metadata": {},
   "outputs": [],
   "source": [
    "topic_model.save(MODEL_NAME, serialization=\"safetensors\")"
   ]
  },
  {
   "cell_type": "code",
   "execution_count": 65,
   "id": "40d5abdb",
   "metadata": {},
   "outputs": [
    {
     "data": {
      "application/vnd.plotly.v1+json": {
       "config": {
        "plotlyServerURL": "https://plot.ly"
       },
       "data": [
        {
         "customdata": [
          [
           0,
           "cola | coca | coca cola | ad | company",
           57
          ],
          [
           1,
           "trump | donald trump | donald | posted | images",
           44
          ],
          [
           2,
           "experience | wonka | event | factory | children",
           37
          ],
          [
           3,
           "2024 | november 2024 | august 2024 | november | august",
           35
          ],
          [
           4,
           "foamstars | enix | square enix | square | midjourney",
           31
          ],
          [
           5,
           "dublin | halloween | halloween parade | parade | parade dublin",
           28
          ],
          [
           6,
           "times | york | new york | york times | atlantic",
           28
          ],
          [
           7,
           "slop | slop slop | kind slop | slop economy | sector",
           28
          ],
          [
           8,
           "generative ai | generative | issues | game | ai apps",
           27
          ],
          [
           9,
           "google | search | search engine | gemini | engine",
           26
          ],
          [
           10,
           "slop | slop term | term | artificial intelligence | artificial",
           25
          ],
          [
           11,
           "facebook | link | ad | bait | pages",
           25
          ],
          [
           12,
           "foundation | freedom | account | milton | organization",
           24
          ],
          [
           13,
           "2025 retrieved | retrieved | 2025 | 24 | march 2025",
           21
          ],
          [
           14,
           "generated content | content | platforms | creators | ai generated",
           21
          ],
          [
           15,
           "2024 | 2025 | november 2024 | november | claude",
           20
          ],
          [
           16,
           "angry | quest | rovio | title | puzzle",
           20
          ],
          [
           17,
           "analyst | warned | crucial | reaction | billion",
           19
          ],
          [
           18,
           "brand | brands | entrepreneurs | trends | interactive",
           19
          ],
          [
           19,
           "spam | email | term | unwanted | effect",
           19
          ],
          [
           20,
           "hurricane | fema | government | officials | milton",
           19
          ],
          [
           21,
           "facebook | ai slop | zombie internet | social network | facebook ai",
           18
          ],
          [
           22,
           "yes | worry | guys | listen | great",
           17
          ],
          [
           23,
           "tiktok | xiaonan | viral tiktok | platforms | instagram",
           17
          ],
          [
           24,
           "harris | kamala harris | kamala | star | far right",
           16
          ],
          [
           25,
           "enix | square enix | square | aggressive | applying ai",
           16
          ],
          [
           26,
           "said | likes | quite | getting likes | scary",
           15
          ],
          [
           27,
           "facebook | images | engagement facebook | pages | jesus",
           15
          ],
          [
           28,
           "chatgpt | chatbots | language | write | text",
           15
          ],
          [
           29,
           "brainrot | italian brainrot | italian | gen | brands",
           15
          ],
          [
           30,
           "spotify | wrapped | podcast | users | outside",
           14
          ],
          [
           31,
           "arrived | vacuum | saw | script | days",
           13
          ],
          [
           32,
           "santa | loading | zombie santa | fingers | screen",
           13
          ],
          [
           33,
           "jesus | shrimp | shrimp jesus | birthday | babies",
           13
          ],
          [
           34,
           "advertisement | ads | preview | types | model google",
           13
          ],
          [
           35,
           "related | article | guidelines | paragraph | summary",
           13
          ],
          [
           36,
           "guy | say | country | pakistan | mr",
           12
          ],
          [
           37,
           "signs | image | image generators | generators | depictions",
           12
          ],
          [
           38,
           "reality | americans | beliefs | crisis | election",
           11
          ],
          [
           39,
           "debate | academic | ai potential | involved | implications",
           11
          ],
          [
           40,
           "scammers | scam | know | pages | people turned",
           11
          ],
          [
           41,
           "2024 retrieved | retrieved | november 2024 | october 2024 | november",
           11
          ],
          [
           42,
           "activision | cosmetic | warfare | modern warfare | sold",
           11
          ],
          [
           43,
           "leverage technologies | new forms | forms content | leverage | create new",
           10
          ],
          [
           44,
           "books | book | generated books | editing | self",
           10
          ],
          [
           45,
           "voice | actors | voice actors | voice actor | actor",
           10
          ],
          [
           46,
           "event | ticket | 44 | tickets | customers",
           10
          ],
          [
           47,
           "misinformation | misinformation crisis | beliefs | primary | crisis",
           9
          ],
          [
           48,
           "parade | waited | arrived | police | quickly",
           9
          ],
          [
           49,
           "parade | gathered | street | connell street | safely",
           9
          ],
          [
           50,
           "halloween | events | ireland | website | listings",
           9
          ],
          [
           51,
           "hoopla | catalog | books | librarians | libraries",
           9
          ],
          [
           52,
           "failed | ai game | entirely ai | creative industries | game",
           9
          ],
          [
           53,
           "mistake | check | knew | double | purpose",
           9
          ],
          [
           54,
           "new year | letter | kiryu | year letter | blockchain",
           9
          ],
          [
           55,
           "film | narration | novocaine | promoting | paramount",
           9
          ],
          [
           56,
           "activision | assets | artists | employees | promoted",
           9
          ],
          [
           57,
           "september 2024 | september | 2024 retrieved | 29 | retrieved",
           9
          ],
          [
           58,
           "2025 retrieved | retrieved | 2025 | february 2025 | march 2025",
           9
          ],
          [
           59,
           "eurogamer | german | sign | games | online",
           8
          ],
          [
           60,
           "prioritize | produced ai | speed | safety | produced",
           8
          ],
          [
           61,
           "listen | app | produced | audio | narration",
           8
          ],
          [
           62,
           "imagery | photo | images | rick | images don",
           8
          ],
          [
           63,
           "brand | ai slop | entrepreneurs | slop | widely criticized",
           7
          ],
          [
           64,
           "event | minute | tried best | cancelled | push",
           7
          ],
          [
           65,
           "far right | influencers | right | far | maga",
           7
          ],
          [
           66,
           "pollution | perspective | lot | awful lot | nearly",
           7
          ],
          [
           67,
           "ign | ign com | wyp100 | wesley | reach",
           7
          ],
          [
           68,
           "guitar hero | hero | guitar | advert | exist",
           7
          ],
          [
           69,
           "album covers | album | covers | final | players",
           7
          ],
          [
           70,
           "technology | performance | drive | cost | cost cutting",
           7
          ],
          [
           71,
           "earned | accounts | dozens | post dozens | different countries",
           6
          ],
          [
           72,
           "contact | google news | updating | updated | 43",
           6
          ],
          [
           73,
           "adequate | generative ai | generative | prompt | images",
           6
          ],
          [
           74,
           "meta | content moderation | moderation | sharing | generated people",
           6
          ],
          [
           75,
           "ai art | maga | art | political | images used",
           6
          ],
          [
           76,
           "source | revenue | traffic | advertising | cost",
           6
          ],
          [
           77,
           "slang | garbage | youtube | language | internet",
           6
          ],
          [
           78,
           "pensacola | bradley boone | kenya | assistant chief | pensacola north",
           6
          ],
          [
           79,
           "wyp100 | ign | twitter | bankhurst | wesley uk",
           6
          ],
          [
           80,
           "revenue | make money | money | make | people don",
           6
          ],
          [
           81,
           "404 media | 404 | media | media jason | telling",
           5
          ],
          [
           82,
           "ops | black ops | black | duty black | loading screens",
           5
          ],
          [
           83,
           "points | 500 | bundle | sold | real world",
           5
          ]
         ],
         "hovertemplate": "<b>Topic %{customdata[0]}</b><br>%{customdata[1]}<br>Size: %{customdata[2]}",
         "legendgroup": "",
         "marker": {
          "color": "#B0BEC5",
          "line": {
           "color": "DarkSlateGrey",
           "width": 2
          },
          "size": {
           "bdata": "OSwlIx8cHBwbGhkZGBUVFBQTExMTEhEREBAPDw8PDg0NDQ0NDAwLCwsLCwoKCgoJCQkJCQkJCQkJCQkICAgIBwcHBwcHBwcGBgYGBgYGBgYGBQUF",
           "dtype": "i1"
          },
          "sizemode": "area",
          "sizeref": 0.035625,
          "symbol": "circle"
         },
         "mode": "markers",
         "name": "",
         "orientation": "v",
         "showlegend": false,
         "type": "scatter",
         "x": {
          "bdata": "2lFqwF8EPMGE76tA+q1GQZKCyUCjoXhBTm4LQY8uMUDrOk/BdnwLQErrLEAIsus/SuU9wZhDiEF3dFLBQKdGQS815EA2Im7Ar9iXvxEuWEDjHw1BttIGQCVF6UB5uFLBVHM6wSyIxEBF6KxAzZJNwXzZecCB+EjB3ZhjwIPUrEBOQsJAv/9OwZLqwT9a3q9AtCByQCaaSsEIJhBBayd7wHV/bEB97UNBOjjRQFPAjr8njaxAxfR6wPgvuEGbUBBBFWF8QabQekHRO3ZBpYesQKRngMAm5uhA4qqcv+B7f8AuTclAOuJDQYxDiEFTd+ZAsqp5wCNkeMA1zEvBaZYlQP4vuEHKFT/B5sCzv1ZNDkFrmdtA5m6FwGBtlr9kqNc/U64KQc0ETcHuh1LB1mNBwT4usj+SPE5ADbUNQZomD0GP+LU//fYJQWvbxEBWN89A",
          "dtype": "f4"
         },
         "xaxis": "x",
         "y": {
          "bdata": "mPG0wBX2qkApuYxBMwXawCp2sr98eItBfwARQFUsM0GQ59NAF0k1QbBsMkEfuDhBBTizQKTgCkA/391AEBXawGy6tr9W+JDAd4I6QMDzNUFgSQpAoj42QaQ/TUFsht1A222oQL25wb/nbIxBZiOsQGgcj8BDlbpAsdG4wPd5jEF4C0i/wTqsQJ/jTUBgzkHBtGY6QXiFvkD6bfw/zjeTwPIMOUFpiN/AXjCDv4AlP0DAd0PBekqrwIQU3ECoCfs/S1iNQQCQjEGTRYpBXXpDwYA7pMAgpk1BzRI4QK2VrcCpjKS/XaDfwLfgCkD40bu/XyeWwHAKqsDH3aVAfSEwQYUU3EAXurRAyXwsQHh2DkFzl6C/s+qzwFZXO0DYlzpBn9oKQR2CzEBVqN5AEP+1QDvDRUAJ5TRBSt0NQSBQD0EZm0dACswWQIIHTb+MqHq/",
          "dtype": "f4"
         },
         "yaxis": "y"
        }
       ],
       "layout": {
        "annotations": [
         {
          "showarrow": false,
          "text": "D1",
          "x": -15.145542860031128,
          "y": 3.13417432308197,
          "yshift": 10
         },
         {
          "showarrow": false,
          "text": "D2",
          "x": 5.665702939033508,
          "xshift": 10,
          "y": 20.31832857131958
         }
        ],
        "height": 650,
        "hoverlabel": {
         "bgcolor": "white",
         "font": {
          "family": "Rockwell",
          "size": 16
         }
        },
        "legend": {
         "itemsizing": "constant",
         "tracegroupgap": 0
        },
        "margin": {
         "t": 60
        },
        "shapes": [
         {
          "line": {
           "color": "#CFD8DC",
           "width": 2
          },
          "type": "line",
          "x0": 5.665702939033508,
          "x1": 5.665702939033508,
          "y0": -14.04997992515564,
          "y1": 20.31832857131958
         },
         {
          "line": {
           "color": "#9E9E9E",
           "width": 2
          },
          "type": "line",
          "x0": -15.145542860031128,
          "x1": 26.476948738098145,
          "y0": 3.13417432308197,
          "y1": 3.13417432308197
         }
        ],
        "sliders": [
         {
          "active": 0,
          "pad": {
           "t": 50
          },
          "steps": [
           {
            "args": [
             {
              "marker.color": [
               [
                "red",
                "#B0BEC5",
                "#B0BEC5",
                "#B0BEC5",
                "#B0BEC5",
                "#B0BEC5",
                "#B0BEC5",
                "#B0BEC5",
                "#B0BEC5",
                "#B0BEC5",
                "#B0BEC5",
                "#B0BEC5",
                "#B0BEC5",
                "#B0BEC5",
                "#B0BEC5",
                "#B0BEC5",
                "#B0BEC5",
                "#B0BEC5",
                "#B0BEC5",
                "#B0BEC5",
                "#B0BEC5",
                "#B0BEC5",
                "#B0BEC5",
                "#B0BEC5",
                "#B0BEC5",
                "#B0BEC5",
                "#B0BEC5",
                "#B0BEC5",
                "#B0BEC5",
                "#B0BEC5",
                "#B0BEC5",
                "#B0BEC5",
                "#B0BEC5",
                "#B0BEC5",
                "#B0BEC5",
                "#B0BEC5",
                "#B0BEC5",
                "#B0BEC5",
                "#B0BEC5",
                "#B0BEC5",
                "#B0BEC5",
                "#B0BEC5",
                "#B0BEC5",
                "#B0BEC5",
                "#B0BEC5",
                "#B0BEC5",
                "#B0BEC5",
                "#B0BEC5",
                "#B0BEC5",
                "#B0BEC5",
                "#B0BEC5",
                "#B0BEC5",
                "#B0BEC5",
                "#B0BEC5",
                "#B0BEC5",
                "#B0BEC5",
                "#B0BEC5",
                "#B0BEC5",
                "#B0BEC5",
                "#B0BEC5",
                "#B0BEC5",
                "#B0BEC5",
                "#B0BEC5",
                "#B0BEC5",
                "#B0BEC5",
                "#B0BEC5",
                "#B0BEC5",
                "#B0BEC5",
                "#B0BEC5",
                "#B0BEC5",
                "#B0BEC5",
                "#B0BEC5",
                "#B0BEC5",
                "#B0BEC5",
                "#B0BEC5",
                "#B0BEC5",
                "#B0BEC5",
                "#B0BEC5",
                "#B0BEC5",
                "#B0BEC5",
                "#B0BEC5",
                "#B0BEC5",
                "#B0BEC5",
                "#B0BEC5"
               ]
              ]
             }
            ],
            "label": "Topic 0",
            "method": "update"
           },
           {
            "args": [
             {
              "marker.color": [
               [
                "#B0BEC5",
                "red",
                "#B0BEC5",
                "#B0BEC5",
                "#B0BEC5",
                "#B0BEC5",
                "#B0BEC5",
                "#B0BEC5",
                "#B0BEC5",
                "#B0BEC5",
                "#B0BEC5",
                "#B0BEC5",
                "#B0BEC5",
                "#B0BEC5",
                "#B0BEC5",
                "#B0BEC5",
                "#B0BEC5",
                "#B0BEC5",
                "#B0BEC5",
                "#B0BEC5",
                "#B0BEC5",
                "#B0BEC5",
                "#B0BEC5",
                "#B0BEC5",
                "#B0BEC5",
                "#B0BEC5",
                "#B0BEC5",
                "#B0BEC5",
                "#B0BEC5",
                "#B0BEC5",
                "#B0BEC5",
                "#B0BEC5",
                "#B0BEC5",
                "#B0BEC5",
                "#B0BEC5",
                "#B0BEC5",
                "#B0BEC5",
                "#B0BEC5",
                "#B0BEC5",
                "#B0BEC5",
                "#B0BEC5",
                "#B0BEC5",
                "#B0BEC5",
                "#B0BEC5",
                "#B0BEC5",
                "#B0BEC5",
                "#B0BEC5",
                "#B0BEC5",
                "#B0BEC5",
                "#B0BEC5",
                "#B0BEC5",
                "#B0BEC5",
                "#B0BEC5",
                "#B0BEC5",
                "#B0BEC5",
                "#B0BEC5",
                "#B0BEC5",
                "#B0BEC5",
                "#B0BEC5",
                "#B0BEC5",
                "#B0BEC5",
                "#B0BEC5",
                "#B0BEC5",
                "#B0BEC5",
                "#B0BEC5",
                "#B0BEC5",
                "#B0BEC5",
                "#B0BEC5",
                "#B0BEC5",
                "#B0BEC5",
                "#B0BEC5",
                "#B0BEC5",
                "#B0BEC5",
                "#B0BEC5",
                "#B0BEC5",
                "#B0BEC5",
                "#B0BEC5",
                "#B0BEC5",
                "#B0BEC5",
                "#B0BEC5",
                "#B0BEC5",
                "#B0BEC5",
                "#B0BEC5",
                "#B0BEC5"
               ]
              ]
             }
            ],
            "label": "Topic 1",
            "method": "update"
           },
           {
            "args": [
             {
              "marker.color": [
               [
                "#B0BEC5",
                "#B0BEC5",
                "red",
                "#B0BEC5",
                "#B0BEC5",
                "#B0BEC5",
                "#B0BEC5",
                "#B0BEC5",
                "#B0BEC5",
                "#B0BEC5",
                "#B0BEC5",
                "#B0BEC5",
                "#B0BEC5",
                "#B0BEC5",
                "#B0BEC5",
                "#B0BEC5",
                "#B0BEC5",
                "#B0BEC5",
                "#B0BEC5",
                "#B0BEC5",
                "#B0BEC5",
                "#B0BEC5",
                "#B0BEC5",
                "#B0BEC5",
                "#B0BEC5",
                "#B0BEC5",
                "#B0BEC5",
                "#B0BEC5",
                "#B0BEC5",
                "#B0BEC5",
                "#B0BEC5",
                "#B0BEC5",
                "#B0BEC5",
                "#B0BEC5",
                "#B0BEC5",
                "#B0BEC5",
                "#B0BEC5",
                "#B0BEC5",
                "#B0BEC5",
                "#B0BEC5",
                "#B0BEC5",
                "#B0BEC5",
                "#B0BEC5",
                "#B0BEC5",
                "#B0BEC5",
                "#B0BEC5",
                "#B0BEC5",
                "#B0BEC5",
                "#B0BEC5",
                "#B0BEC5",
                "#B0BEC5",
                "#B0BEC5",
                "#B0BEC5",
                "#B0BEC5",
                "#B0BEC5",
                "#B0BEC5",
                "#B0BEC5",
                "#B0BEC5",
                "#B0BEC5",
                "#B0BEC5",
                "#B0BEC5",
                "#B0BEC5",
                "#B0BEC5",
                "#B0BEC5",
                "#B0BEC5",
                "#B0BEC5",
                "#B0BEC5",
                "#B0BEC5",
                "#B0BEC5",
                "#B0BEC5",
                "#B0BEC5",
                "#B0BEC5",
                "#B0BEC5",
                "#B0BEC5",
                "#B0BEC5",
                "#B0BEC5",
                "#B0BEC5",
                "#B0BEC5",
                "#B0BEC5",
                "#B0BEC5",
                "#B0BEC5",
                "#B0BEC5",
                "#B0BEC5",
                "#B0BEC5"
               ]
              ]
             }
            ],
            "label": "Topic 2",
            "method": "update"
           },
           {
            "args": [
             {
              "marker.color": [
               [
                "#B0BEC5",
                "#B0BEC5",
                "#B0BEC5",
                "red",
                "#B0BEC5",
                "#B0BEC5",
                "#B0BEC5",
                "#B0BEC5",
                "#B0BEC5",
                "#B0BEC5",
                "#B0BEC5",
                "#B0BEC5",
                "#B0BEC5",
                "#B0BEC5",
                "#B0BEC5",
                "#B0BEC5",
                "#B0BEC5",
                "#B0BEC5",
                "#B0BEC5",
                "#B0BEC5",
                "#B0BEC5",
                "#B0BEC5",
                "#B0BEC5",
                "#B0BEC5",
                "#B0BEC5",
                "#B0BEC5",
                "#B0BEC5",
                "#B0BEC5",
                "#B0BEC5",
                "#B0BEC5",
                "#B0BEC5",
                "#B0BEC5",
                "#B0BEC5",
                "#B0BEC5",
                "#B0BEC5",
                "#B0BEC5",
                "#B0BEC5",
                "#B0BEC5",
                "#B0BEC5",
                "#B0BEC5",
                "#B0BEC5",
                "#B0BEC5",
                "#B0BEC5",
                "#B0BEC5",
                "#B0BEC5",
                "#B0BEC5",
                "#B0BEC5",
                "#B0BEC5",
                "#B0BEC5",
                "#B0BEC5",
                "#B0BEC5",
                "#B0BEC5",
                "#B0BEC5",
                "#B0BEC5",
                "#B0BEC5",
                "#B0BEC5",
                "#B0BEC5",
                "#B0BEC5",
                "#B0BEC5",
                "#B0BEC5",
                "#B0BEC5",
                "#B0BEC5",
                "#B0BEC5",
                "#B0BEC5",
                "#B0BEC5",
                "#B0BEC5",
                "#B0BEC5",
                "#B0BEC5",
                "#B0BEC5",
                "#B0BEC5",
                "#B0BEC5",
                "#B0BEC5",
                "#B0BEC5",
                "#B0BEC5",
                "#B0BEC5",
                "#B0BEC5",
                "#B0BEC5",
                "#B0BEC5",
                "#B0BEC5",
                "#B0BEC5",
                "#B0BEC5",
                "#B0BEC5",
                "#B0BEC5",
                "#B0BEC5"
               ]
              ]
             }
            ],
            "label": "Topic 3",
            "method": "update"
           },
           {
            "args": [
             {
              "marker.color": [
               [
                "#B0BEC5",
                "#B0BEC5",
                "#B0BEC5",
                "#B0BEC5",
                "red",
                "#B0BEC5",
                "#B0BEC5",
                "#B0BEC5",
                "#B0BEC5",
                "#B0BEC5",
                "#B0BEC5",
                "#B0BEC5",
                "#B0BEC5",
                "#B0BEC5",
                "#B0BEC5",
                "#B0BEC5",
                "#B0BEC5",
                "#B0BEC5",
                "#B0BEC5",
                "#B0BEC5",
                "#B0BEC5",
                "#B0BEC5",
                "#B0BEC5",
                "#B0BEC5",
                "#B0BEC5",
                "#B0BEC5",
                "#B0BEC5",
                "#B0BEC5",
                "#B0BEC5",
                "#B0BEC5",
                "#B0BEC5",
                "#B0BEC5",
                "#B0BEC5",
                "#B0BEC5",
                "#B0BEC5",
                "#B0BEC5",
                "#B0BEC5",
                "#B0BEC5",
                "#B0BEC5",
                "#B0BEC5",
                "#B0BEC5",
                "#B0BEC5",
                "#B0BEC5",
                "#B0BEC5",
                "#B0BEC5",
                "#B0BEC5",
                "#B0BEC5",
                "#B0BEC5",
                "#B0BEC5",
                "#B0BEC5",
                "#B0BEC5",
                "#B0BEC5",
                "#B0BEC5",
                "#B0BEC5",
                "#B0BEC5",
                "#B0BEC5",
                "#B0BEC5",
                "#B0BEC5",
                "#B0BEC5",
                "#B0BEC5",
                "#B0BEC5",
                "#B0BEC5",
                "#B0BEC5",
                "#B0BEC5",
                "#B0BEC5",
                "#B0BEC5",
                "#B0BEC5",
                "#B0BEC5",
                "#B0BEC5",
                "#B0BEC5",
                "#B0BEC5",
                "#B0BEC5",
                "#B0BEC5",
                "#B0BEC5",
                "#B0BEC5",
                "#B0BEC5",
                "#B0BEC5",
                "#B0BEC5",
                "#B0BEC5",
                "#B0BEC5",
                "#B0BEC5",
                "#B0BEC5",
                "#B0BEC5",
                "#B0BEC5"
               ]
              ]
             }
            ],
            "label": "Topic 4",
            "method": "update"
           },
           {
            "args": [
             {
              "marker.color": [
               [
                "#B0BEC5",
                "#B0BEC5",
                "#B0BEC5",
                "#B0BEC5",
                "#B0BEC5",
                "red",
                "#B0BEC5",
                "#B0BEC5",
                "#B0BEC5",
                "#B0BEC5",
                "#B0BEC5",
                "#B0BEC5",
                "#B0BEC5",
                "#B0BEC5",
                "#B0BEC5",
                "#B0BEC5",
                "#B0BEC5",
                "#B0BEC5",
                "#B0BEC5",
                "#B0BEC5",
                "#B0BEC5",
                "#B0BEC5",
                "#B0BEC5",
                "#B0BEC5",
                "#B0BEC5",
                "#B0BEC5",
                "#B0BEC5",
                "#B0BEC5",
                "#B0BEC5",
                "#B0BEC5",
                "#B0BEC5",
                "#B0BEC5",
                "#B0BEC5",
                "#B0BEC5",
                "#B0BEC5",
                "#B0BEC5",
                "#B0BEC5",
                "#B0BEC5",
                "#B0BEC5",
                "#B0BEC5",
                "#B0BEC5",
                "#B0BEC5",
                "#B0BEC5",
                "#B0BEC5",
                "#B0BEC5",
                "#B0BEC5",
                "#B0BEC5",
                "#B0BEC5",
                "#B0BEC5",
                "#B0BEC5",
                "#B0BEC5",
                "#B0BEC5",
                "#B0BEC5",
                "#B0BEC5",
                "#B0BEC5",
                "#B0BEC5",
                "#B0BEC5",
                "#B0BEC5",
                "#B0BEC5",
                "#B0BEC5",
                "#B0BEC5",
                "#B0BEC5",
                "#B0BEC5",
                "#B0BEC5",
                "#B0BEC5",
                "#B0BEC5",
                "#B0BEC5",
                "#B0BEC5",
                "#B0BEC5",
                "#B0BEC5",
                "#B0BEC5",
                "#B0BEC5",
                "#B0BEC5",
                "#B0BEC5",
                "#B0BEC5",
                "#B0BEC5",
                "#B0BEC5",
                "#B0BEC5",
                "#B0BEC5",
                "#B0BEC5",
                "#B0BEC5",
                "#B0BEC5",
                "#B0BEC5",
                "#B0BEC5"
               ]
              ]
             }
            ],
            "label": "Topic 5",
            "method": "update"
           },
           {
            "args": [
             {
              "marker.color": [
               [
                "#B0BEC5",
                "#B0BEC5",
                "#B0BEC5",
                "#B0BEC5",
                "#B0BEC5",
                "#B0BEC5",
                "red",
                "#B0BEC5",
                "#B0BEC5",
                "#B0BEC5",
                "#B0BEC5",
                "#B0BEC5",
                "#B0BEC5",
                "#B0BEC5",
                "#B0BEC5",
                "#B0BEC5",
                "#B0BEC5",
                "#B0BEC5",
                "#B0BEC5",
                "#B0BEC5",
                "#B0BEC5",
                "#B0BEC5",
                "#B0BEC5",
                "#B0BEC5",
                "#B0BEC5",
                "#B0BEC5",
                "#B0BEC5",
                "#B0BEC5",
                "#B0BEC5",
                "#B0BEC5",
                "#B0BEC5",
                "#B0BEC5",
                "#B0BEC5",
                "#B0BEC5",
                "#B0BEC5",
                "#B0BEC5",
                "#B0BEC5",
                "#B0BEC5",
                "#B0BEC5",
                "#B0BEC5",
                "#B0BEC5",
                "#B0BEC5",
                "#B0BEC5",
                "#B0BEC5",
                "#B0BEC5",
                "#B0BEC5",
                "#B0BEC5",
                "#B0BEC5",
                "#B0BEC5",
                "#B0BEC5",
                "#B0BEC5",
                "#B0BEC5",
                "#B0BEC5",
                "#B0BEC5",
                "#B0BEC5",
                "#B0BEC5",
                "#B0BEC5",
                "#B0BEC5",
                "#B0BEC5",
                "#B0BEC5",
                "#B0BEC5",
                "#B0BEC5",
                "#B0BEC5",
                "#B0BEC5",
                "#B0BEC5",
                "#B0BEC5",
                "#B0BEC5",
                "#B0BEC5",
                "#B0BEC5",
                "#B0BEC5",
                "#B0BEC5",
                "#B0BEC5",
                "#B0BEC5",
                "#B0BEC5",
                "#B0BEC5",
                "#B0BEC5",
                "#B0BEC5",
                "#B0BEC5",
                "#B0BEC5",
                "#B0BEC5",
                "#B0BEC5",
                "#B0BEC5",
                "#B0BEC5",
                "#B0BEC5"
               ]
              ]
             }
            ],
            "label": "Topic 6",
            "method": "update"
           },
           {
            "args": [
             {
              "marker.color": [
               [
                "#B0BEC5",
                "#B0BEC5",
                "#B0BEC5",
                "#B0BEC5",
                "#B0BEC5",
                "#B0BEC5",
                "#B0BEC5",
                "red",
                "#B0BEC5",
                "#B0BEC5",
                "#B0BEC5",
                "#B0BEC5",
                "#B0BEC5",
                "#B0BEC5",
                "#B0BEC5",
                "#B0BEC5",
                "#B0BEC5",
                "#B0BEC5",
                "#B0BEC5",
                "#B0BEC5",
                "#B0BEC5",
                "#B0BEC5",
                "#B0BEC5",
                "#B0BEC5",
                "#B0BEC5",
                "#B0BEC5",
                "#B0BEC5",
                "#B0BEC5",
                "#B0BEC5",
                "#B0BEC5",
                "#B0BEC5",
                "#B0BEC5",
                "#B0BEC5",
                "#B0BEC5",
                "#B0BEC5",
                "#B0BEC5",
                "#B0BEC5",
                "#B0BEC5",
                "#B0BEC5",
                "#B0BEC5",
                "#B0BEC5",
                "#B0BEC5",
                "#B0BEC5",
                "#B0BEC5",
                "#B0BEC5",
                "#B0BEC5",
                "#B0BEC5",
                "#B0BEC5",
                "#B0BEC5",
                "#B0BEC5",
                "#B0BEC5",
                "#B0BEC5",
                "#B0BEC5",
                "#B0BEC5",
                "#B0BEC5",
                "#B0BEC5",
                "#B0BEC5",
                "#B0BEC5",
                "#B0BEC5",
                "#B0BEC5",
                "#B0BEC5",
                "#B0BEC5",
                "#B0BEC5",
                "#B0BEC5",
                "#B0BEC5",
                "#B0BEC5",
                "#B0BEC5",
                "#B0BEC5",
                "#B0BEC5",
                "#B0BEC5",
                "#B0BEC5",
                "#B0BEC5",
                "#B0BEC5",
                "#B0BEC5",
                "#B0BEC5",
                "#B0BEC5",
                "#B0BEC5",
                "#B0BEC5",
                "#B0BEC5",
                "#B0BEC5",
                "#B0BEC5",
                "#B0BEC5",
                "#B0BEC5",
                "#B0BEC5"
               ]
              ]
             }
            ],
            "label": "Topic 7",
            "method": "update"
           },
           {
            "args": [
             {
              "marker.color": [
               [
                "#B0BEC5",
                "#B0BEC5",
                "#B0BEC5",
                "#B0BEC5",
                "#B0BEC5",
                "#B0BEC5",
                "#B0BEC5",
                "#B0BEC5",
                "red",
                "#B0BEC5",
                "#B0BEC5",
                "#B0BEC5",
                "#B0BEC5",
                "#B0BEC5",
                "#B0BEC5",
                "#B0BEC5",
                "#B0BEC5",
                "#B0BEC5",
                "#B0BEC5",
                "#B0BEC5",
                "#B0BEC5",
                "#B0BEC5",
                "#B0BEC5",
                "#B0BEC5",
                "#B0BEC5",
                "#B0BEC5",
                "#B0BEC5",
                "#B0BEC5",
                "#B0BEC5",
                "#B0BEC5",
                "#B0BEC5",
                "#B0BEC5",
                "#B0BEC5",
                "#B0BEC5",
                "#B0BEC5",
                "#B0BEC5",
                "#B0BEC5",
                "#B0BEC5",
                "#B0BEC5",
                "#B0BEC5",
                "#B0BEC5",
                "#B0BEC5",
                "#B0BEC5",
                "#B0BEC5",
                "#B0BEC5",
                "#B0BEC5",
                "#B0BEC5",
                "#B0BEC5",
                "#B0BEC5",
                "#B0BEC5",
                "#B0BEC5",
                "#B0BEC5",
                "#B0BEC5",
                "#B0BEC5",
                "#B0BEC5",
                "#B0BEC5",
                "#B0BEC5",
                "#B0BEC5",
                "#B0BEC5",
                "#B0BEC5",
                "#B0BEC5",
                "#B0BEC5",
                "#B0BEC5",
                "#B0BEC5",
                "#B0BEC5",
                "#B0BEC5",
                "#B0BEC5",
                "#B0BEC5",
                "#B0BEC5",
                "#B0BEC5",
                "#B0BEC5",
                "#B0BEC5",
                "#B0BEC5",
                "#B0BEC5",
                "#B0BEC5",
                "#B0BEC5",
                "#B0BEC5",
                "#B0BEC5",
                "#B0BEC5",
                "#B0BEC5",
                "#B0BEC5",
                "#B0BEC5",
                "#B0BEC5",
                "#B0BEC5"
               ]
              ]
             }
            ],
            "label": "Topic 8",
            "method": "update"
           },
           {
            "args": [
             {
              "marker.color": [
               [
                "#B0BEC5",
                "#B0BEC5",
                "#B0BEC5",
                "#B0BEC5",
                "#B0BEC5",
                "#B0BEC5",
                "#B0BEC5",
                "#B0BEC5",
                "#B0BEC5",
                "red",
                "#B0BEC5",
                "#B0BEC5",
                "#B0BEC5",
                "#B0BEC5",
                "#B0BEC5",
                "#B0BEC5",
                "#B0BEC5",
                "#B0BEC5",
                "#B0BEC5",
                "#B0BEC5",
                "#B0BEC5",
                "#B0BEC5",
                "#B0BEC5",
                "#B0BEC5",
                "#B0BEC5",
                "#B0BEC5",
                "#B0BEC5",
                "#B0BEC5",
                "#B0BEC5",
                "#B0BEC5",
                "#B0BEC5",
                "#B0BEC5",
                "#B0BEC5",
                "#B0BEC5",
                "#B0BEC5",
                "#B0BEC5",
                "#B0BEC5",
                "#B0BEC5",
                "#B0BEC5",
                "#B0BEC5",
                "#B0BEC5",
                "#B0BEC5",
                "#B0BEC5",
                "#B0BEC5",
                "#B0BEC5",
                "#B0BEC5",
                "#B0BEC5",
                "#B0BEC5",
                "#B0BEC5",
                "#B0BEC5",
                "#B0BEC5",
                "#B0BEC5",
                "#B0BEC5",
                "#B0BEC5",
                "#B0BEC5",
                "#B0BEC5",
                "#B0BEC5",
                "#B0BEC5",
                "#B0BEC5",
                "#B0BEC5",
                "#B0BEC5",
                "#B0BEC5",
                "#B0BEC5",
                "#B0BEC5",
                "#B0BEC5",
                "#B0BEC5",
                "#B0BEC5",
                "#B0BEC5",
                "#B0BEC5",
                "#B0BEC5",
                "#B0BEC5",
                "#B0BEC5",
                "#B0BEC5",
                "#B0BEC5",
                "#B0BEC5",
                "#B0BEC5",
                "#B0BEC5",
                "#B0BEC5",
                "#B0BEC5",
                "#B0BEC5",
                "#B0BEC5",
                "#B0BEC5",
                "#B0BEC5",
                "#B0BEC5"
               ]
              ]
             }
            ],
            "label": "Topic 9",
            "method": "update"
           },
           {
            "args": [
             {
              "marker.color": [
               [
                "#B0BEC5",
                "#B0BEC5",
                "#B0BEC5",
                "#B0BEC5",
                "#B0BEC5",
                "#B0BEC5",
                "#B0BEC5",
                "#B0BEC5",
                "#B0BEC5",
                "#B0BEC5",
                "red",
                "#B0BEC5",
                "#B0BEC5",
                "#B0BEC5",
                "#B0BEC5",
                "#B0BEC5",
                "#B0BEC5",
                "#B0BEC5",
                "#B0BEC5",
                "#B0BEC5",
                "#B0BEC5",
                "#B0BEC5",
                "#B0BEC5",
                "#B0BEC5",
                "#B0BEC5",
                "#B0BEC5",
                "#B0BEC5",
                "#B0BEC5",
                "#B0BEC5",
                "#B0BEC5",
                "#B0BEC5",
                "#B0BEC5",
                "#B0BEC5",
                "#B0BEC5",
                "#B0BEC5",
                "#B0BEC5",
                "#B0BEC5",
                "#B0BEC5",
                "#B0BEC5",
                "#B0BEC5",
                "#B0BEC5",
                "#B0BEC5",
                "#B0BEC5",
                "#B0BEC5",
                "#B0BEC5",
                "#B0BEC5",
                "#B0BEC5",
                "#B0BEC5",
                "#B0BEC5",
                "#B0BEC5",
                "#B0BEC5",
                "#B0BEC5",
                "#B0BEC5",
                "#B0BEC5",
                "#B0BEC5",
                "#B0BEC5",
                "#B0BEC5",
                "#B0BEC5",
                "#B0BEC5",
                "#B0BEC5",
                "#B0BEC5",
                "#B0BEC5",
                "#B0BEC5",
                "#B0BEC5",
                "#B0BEC5",
                "#B0BEC5",
                "#B0BEC5",
                "#B0BEC5",
                "#B0BEC5",
                "#B0BEC5",
                "#B0BEC5",
                "#B0BEC5",
                "#B0BEC5",
                "#B0BEC5",
                "#B0BEC5",
                "#B0BEC5",
                "#B0BEC5",
                "#B0BEC5",
                "#B0BEC5",
                "#B0BEC5",
                "#B0BEC5",
                "#B0BEC5",
                "#B0BEC5",
                "#B0BEC5"
               ]
              ]
             }
            ],
            "label": "Topic 10",
            "method": "update"
           },
           {
            "args": [
             {
              "marker.color": [
               [
                "#B0BEC5",
                "#B0BEC5",
                "#B0BEC5",
                "#B0BEC5",
                "#B0BEC5",
                "#B0BEC5",
                "#B0BEC5",
                "#B0BEC5",
                "#B0BEC5",
                "#B0BEC5",
                "#B0BEC5",
                "red",
                "#B0BEC5",
                "#B0BEC5",
                "#B0BEC5",
                "#B0BEC5",
                "#B0BEC5",
                "#B0BEC5",
                "#B0BEC5",
                "#B0BEC5",
                "#B0BEC5",
                "#B0BEC5",
                "#B0BEC5",
                "#B0BEC5",
                "#B0BEC5",
                "#B0BEC5",
                "#B0BEC5",
                "#B0BEC5",
                "#B0BEC5",
                "#B0BEC5",
                "#B0BEC5",
                "#B0BEC5",
                "#B0BEC5",
                "#B0BEC5",
                "#B0BEC5",
                "#B0BEC5",
                "#B0BEC5",
                "#B0BEC5",
                "#B0BEC5",
                "#B0BEC5",
                "#B0BEC5",
                "#B0BEC5",
                "#B0BEC5",
                "#B0BEC5",
                "#B0BEC5",
                "#B0BEC5",
                "#B0BEC5",
                "#B0BEC5",
                "#B0BEC5",
                "#B0BEC5",
                "#B0BEC5",
                "#B0BEC5",
                "#B0BEC5",
                "#B0BEC5",
                "#B0BEC5",
                "#B0BEC5",
                "#B0BEC5",
                "#B0BEC5",
                "#B0BEC5",
                "#B0BEC5",
                "#B0BEC5",
                "#B0BEC5",
                "#B0BEC5",
                "#B0BEC5",
                "#B0BEC5",
                "#B0BEC5",
                "#B0BEC5",
                "#B0BEC5",
                "#B0BEC5",
                "#B0BEC5",
                "#B0BEC5",
                "#B0BEC5",
                "#B0BEC5",
                "#B0BEC5",
                "#B0BEC5",
                "#B0BEC5",
                "#B0BEC5",
                "#B0BEC5",
                "#B0BEC5",
                "#B0BEC5",
                "#B0BEC5",
                "#B0BEC5",
                "#B0BEC5",
                "#B0BEC5"
               ]
              ]
             }
            ],
            "label": "Topic 11",
            "method": "update"
           },
           {
            "args": [
             {
              "marker.color": [
               [
                "#B0BEC5",
                "#B0BEC5",
                "#B0BEC5",
                "#B0BEC5",
                "#B0BEC5",
                "#B0BEC5",
                "#B0BEC5",
                "#B0BEC5",
                "#B0BEC5",
                "#B0BEC5",
                "#B0BEC5",
                "#B0BEC5",
                "red",
                "#B0BEC5",
                "#B0BEC5",
                "#B0BEC5",
                "#B0BEC5",
                "#B0BEC5",
                "#B0BEC5",
                "#B0BEC5",
                "#B0BEC5",
                "#B0BEC5",
                "#B0BEC5",
                "#B0BEC5",
                "#B0BEC5",
                "#B0BEC5",
                "#B0BEC5",
                "#B0BEC5",
                "#B0BEC5",
                "#B0BEC5",
                "#B0BEC5",
                "#B0BEC5",
                "#B0BEC5",
                "#B0BEC5",
                "#B0BEC5",
                "#B0BEC5",
                "#B0BEC5",
                "#B0BEC5",
                "#B0BEC5",
                "#B0BEC5",
                "#B0BEC5",
                "#B0BEC5",
                "#B0BEC5",
                "#B0BEC5",
                "#B0BEC5",
                "#B0BEC5",
                "#B0BEC5",
                "#B0BEC5",
                "#B0BEC5",
                "#B0BEC5",
                "#B0BEC5",
                "#B0BEC5",
                "#B0BEC5",
                "#B0BEC5",
                "#B0BEC5",
                "#B0BEC5",
                "#B0BEC5",
                "#B0BEC5",
                "#B0BEC5",
                "#B0BEC5",
                "#B0BEC5",
                "#B0BEC5",
                "#B0BEC5",
                "#B0BEC5",
                "#B0BEC5",
                "#B0BEC5",
                "#B0BEC5",
                "#B0BEC5",
                "#B0BEC5",
                "#B0BEC5",
                "#B0BEC5",
                "#B0BEC5",
                "#B0BEC5",
                "#B0BEC5",
                "#B0BEC5",
                "#B0BEC5",
                "#B0BEC5",
                "#B0BEC5",
                "#B0BEC5",
                "#B0BEC5",
                "#B0BEC5",
                "#B0BEC5",
                "#B0BEC5",
                "#B0BEC5"
               ]
              ]
             }
            ],
            "label": "Topic 12",
            "method": "update"
           },
           {
            "args": [
             {
              "marker.color": [
               [
                "#B0BEC5",
                "#B0BEC5",
                "#B0BEC5",
                "#B0BEC5",
                "#B0BEC5",
                "#B0BEC5",
                "#B0BEC5",
                "#B0BEC5",
                "#B0BEC5",
                "#B0BEC5",
                "#B0BEC5",
                "#B0BEC5",
                "#B0BEC5",
                "red",
                "#B0BEC5",
                "#B0BEC5",
                "#B0BEC5",
                "#B0BEC5",
                "#B0BEC5",
                "#B0BEC5",
                "#B0BEC5",
                "#B0BEC5",
                "#B0BEC5",
                "#B0BEC5",
                "#B0BEC5",
                "#B0BEC5",
                "#B0BEC5",
                "#B0BEC5",
                "#B0BEC5",
                "#B0BEC5",
                "#B0BEC5",
                "#B0BEC5",
                "#B0BEC5",
                "#B0BEC5",
                "#B0BEC5",
                "#B0BEC5",
                "#B0BEC5",
                "#B0BEC5",
                "#B0BEC5",
                "#B0BEC5",
                "#B0BEC5",
                "#B0BEC5",
                "#B0BEC5",
                "#B0BEC5",
                "#B0BEC5",
                "#B0BEC5",
                "#B0BEC5",
                "#B0BEC5",
                "#B0BEC5",
                "#B0BEC5",
                "#B0BEC5",
                "#B0BEC5",
                "#B0BEC5",
                "#B0BEC5",
                "#B0BEC5",
                "#B0BEC5",
                "#B0BEC5",
                "#B0BEC5",
                "#B0BEC5",
                "#B0BEC5",
                "#B0BEC5",
                "#B0BEC5",
                "#B0BEC5",
                "#B0BEC5",
                "#B0BEC5",
                "#B0BEC5",
                "#B0BEC5",
                "#B0BEC5",
                "#B0BEC5",
                "#B0BEC5",
                "#B0BEC5",
                "#B0BEC5",
                "#B0BEC5",
                "#B0BEC5",
                "#B0BEC5",
                "#B0BEC5",
                "#B0BEC5",
                "#B0BEC5",
                "#B0BEC5",
                "#B0BEC5",
                "#B0BEC5",
                "#B0BEC5",
                "#B0BEC5",
                "#B0BEC5"
               ]
              ]
             }
            ],
            "label": "Topic 13",
            "method": "update"
           },
           {
            "args": [
             {
              "marker.color": [
               [
                "#B0BEC5",
                "#B0BEC5",
                "#B0BEC5",
                "#B0BEC5",
                "#B0BEC5",
                "#B0BEC5",
                "#B0BEC5",
                "#B0BEC5",
                "#B0BEC5",
                "#B0BEC5",
                "#B0BEC5",
                "#B0BEC5",
                "#B0BEC5",
                "#B0BEC5",
                "red",
                "#B0BEC5",
                "#B0BEC5",
                "#B0BEC5",
                "#B0BEC5",
                "#B0BEC5",
                "#B0BEC5",
                "#B0BEC5",
                "#B0BEC5",
                "#B0BEC5",
                "#B0BEC5",
                "#B0BEC5",
                "#B0BEC5",
                "#B0BEC5",
                "#B0BEC5",
                "#B0BEC5",
                "#B0BEC5",
                "#B0BEC5",
                "#B0BEC5",
                "#B0BEC5",
                "#B0BEC5",
                "#B0BEC5",
                "#B0BEC5",
                "#B0BEC5",
                "#B0BEC5",
                "#B0BEC5",
                "#B0BEC5",
                "#B0BEC5",
                "#B0BEC5",
                "#B0BEC5",
                "#B0BEC5",
                "#B0BEC5",
                "#B0BEC5",
                "#B0BEC5",
                "#B0BEC5",
                "#B0BEC5",
                "#B0BEC5",
                "#B0BEC5",
                "#B0BEC5",
                "#B0BEC5",
                "#B0BEC5",
                "#B0BEC5",
                "#B0BEC5",
                "#B0BEC5",
                "#B0BEC5",
                "#B0BEC5",
                "#B0BEC5",
                "#B0BEC5",
                "#B0BEC5",
                "#B0BEC5",
                "#B0BEC5",
                "#B0BEC5",
                "#B0BEC5",
                "#B0BEC5",
                "#B0BEC5",
                "#B0BEC5",
                "#B0BEC5",
                "#B0BEC5",
                "#B0BEC5",
                "#B0BEC5",
                "#B0BEC5",
                "#B0BEC5",
                "#B0BEC5",
                "#B0BEC5",
                "#B0BEC5",
                "#B0BEC5",
                "#B0BEC5",
                "#B0BEC5",
                "#B0BEC5",
                "#B0BEC5"
               ]
              ]
             }
            ],
            "label": "Topic 14",
            "method": "update"
           },
           {
            "args": [
             {
              "marker.color": [
               [
                "#B0BEC5",
                "#B0BEC5",
                "#B0BEC5",
                "#B0BEC5",
                "#B0BEC5",
                "#B0BEC5",
                "#B0BEC5",
                "#B0BEC5",
                "#B0BEC5",
                "#B0BEC5",
                "#B0BEC5",
                "#B0BEC5",
                "#B0BEC5",
                "#B0BEC5",
                "#B0BEC5",
                "red",
                "#B0BEC5",
                "#B0BEC5",
                "#B0BEC5",
                "#B0BEC5",
                "#B0BEC5",
                "#B0BEC5",
                "#B0BEC5",
                "#B0BEC5",
                "#B0BEC5",
                "#B0BEC5",
                "#B0BEC5",
                "#B0BEC5",
                "#B0BEC5",
                "#B0BEC5",
                "#B0BEC5",
                "#B0BEC5",
                "#B0BEC5",
                "#B0BEC5",
                "#B0BEC5",
                "#B0BEC5",
                "#B0BEC5",
                "#B0BEC5",
                "#B0BEC5",
                "#B0BEC5",
                "#B0BEC5",
                "#B0BEC5",
                "#B0BEC5",
                "#B0BEC5",
                "#B0BEC5",
                "#B0BEC5",
                "#B0BEC5",
                "#B0BEC5",
                "#B0BEC5",
                "#B0BEC5",
                "#B0BEC5",
                "#B0BEC5",
                "#B0BEC5",
                "#B0BEC5",
                "#B0BEC5",
                "#B0BEC5",
                "#B0BEC5",
                "#B0BEC5",
                "#B0BEC5",
                "#B0BEC5",
                "#B0BEC5",
                "#B0BEC5",
                "#B0BEC5",
                "#B0BEC5",
                "#B0BEC5",
                "#B0BEC5",
                "#B0BEC5",
                "#B0BEC5",
                "#B0BEC5",
                "#B0BEC5",
                "#B0BEC5",
                "#B0BEC5",
                "#B0BEC5",
                "#B0BEC5",
                "#B0BEC5",
                "#B0BEC5",
                "#B0BEC5",
                "#B0BEC5",
                "#B0BEC5",
                "#B0BEC5",
                "#B0BEC5",
                "#B0BEC5",
                "#B0BEC5",
                "#B0BEC5"
               ]
              ]
             }
            ],
            "label": "Topic 15",
            "method": "update"
           },
           {
            "args": [
             {
              "marker.color": [
               [
                "#B0BEC5",
                "#B0BEC5",
                "#B0BEC5",
                "#B0BEC5",
                "#B0BEC5",
                "#B0BEC5",
                "#B0BEC5",
                "#B0BEC5",
                "#B0BEC5",
                "#B0BEC5",
                "#B0BEC5",
                "#B0BEC5",
                "#B0BEC5",
                "#B0BEC5",
                "#B0BEC5",
                "#B0BEC5",
                "red",
                "#B0BEC5",
                "#B0BEC5",
                "#B0BEC5",
                "#B0BEC5",
                "#B0BEC5",
                "#B0BEC5",
                "#B0BEC5",
                "#B0BEC5",
                "#B0BEC5",
                "#B0BEC5",
                "#B0BEC5",
                "#B0BEC5",
                "#B0BEC5",
                "#B0BEC5",
                "#B0BEC5",
                "#B0BEC5",
                "#B0BEC5",
                "#B0BEC5",
                "#B0BEC5",
                "#B0BEC5",
                "#B0BEC5",
                "#B0BEC5",
                "#B0BEC5",
                "#B0BEC5",
                "#B0BEC5",
                "#B0BEC5",
                "#B0BEC5",
                "#B0BEC5",
                "#B0BEC5",
                "#B0BEC5",
                "#B0BEC5",
                "#B0BEC5",
                "#B0BEC5",
                "#B0BEC5",
                "#B0BEC5",
                "#B0BEC5",
                "#B0BEC5",
                "#B0BEC5",
                "#B0BEC5",
                "#B0BEC5",
                "#B0BEC5",
                "#B0BEC5",
                "#B0BEC5",
                "#B0BEC5",
                "#B0BEC5",
                "#B0BEC5",
                "#B0BEC5",
                "#B0BEC5",
                "#B0BEC5",
                "#B0BEC5",
                "#B0BEC5",
                "#B0BEC5",
                "#B0BEC5",
                "#B0BEC5",
                "#B0BEC5",
                "#B0BEC5",
                "#B0BEC5",
                "#B0BEC5",
                "#B0BEC5",
                "#B0BEC5",
                "#B0BEC5",
                "#B0BEC5",
                "#B0BEC5",
                "#B0BEC5",
                "#B0BEC5",
                "#B0BEC5",
                "#B0BEC5"
               ]
              ]
             }
            ],
            "label": "Topic 16",
            "method": "update"
           },
           {
            "args": [
             {
              "marker.color": [
               [
                "#B0BEC5",
                "#B0BEC5",
                "#B0BEC5",
                "#B0BEC5",
                "#B0BEC5",
                "#B0BEC5",
                "#B0BEC5",
                "#B0BEC5",
                "#B0BEC5",
                "#B0BEC5",
                "#B0BEC5",
                "#B0BEC5",
                "#B0BEC5",
                "#B0BEC5",
                "#B0BEC5",
                "#B0BEC5",
                "#B0BEC5",
                "red",
                "#B0BEC5",
                "#B0BEC5",
                "#B0BEC5",
                "#B0BEC5",
                "#B0BEC5",
                "#B0BEC5",
                "#B0BEC5",
                "#B0BEC5",
                "#B0BEC5",
                "#B0BEC5",
                "#B0BEC5",
                "#B0BEC5",
                "#B0BEC5",
                "#B0BEC5",
                "#B0BEC5",
                "#B0BEC5",
                "#B0BEC5",
                "#B0BEC5",
                "#B0BEC5",
                "#B0BEC5",
                "#B0BEC5",
                "#B0BEC5",
                "#B0BEC5",
                "#B0BEC5",
                "#B0BEC5",
                "#B0BEC5",
                "#B0BEC5",
                "#B0BEC5",
                "#B0BEC5",
                "#B0BEC5",
                "#B0BEC5",
                "#B0BEC5",
                "#B0BEC5",
                "#B0BEC5",
                "#B0BEC5",
                "#B0BEC5",
                "#B0BEC5",
                "#B0BEC5",
                "#B0BEC5",
                "#B0BEC5",
                "#B0BEC5",
                "#B0BEC5",
                "#B0BEC5",
                "#B0BEC5",
                "#B0BEC5",
                "#B0BEC5",
                "#B0BEC5",
                "#B0BEC5",
                "#B0BEC5",
                "#B0BEC5",
                "#B0BEC5",
                "#B0BEC5",
                "#B0BEC5",
                "#B0BEC5",
                "#B0BEC5",
                "#B0BEC5",
                "#B0BEC5",
                "#B0BEC5",
                "#B0BEC5",
                "#B0BEC5",
                "#B0BEC5",
                "#B0BEC5",
                "#B0BEC5",
                "#B0BEC5",
                "#B0BEC5",
                "#B0BEC5"
               ]
              ]
             }
            ],
            "label": "Topic 17",
            "method": "update"
           },
           {
            "args": [
             {
              "marker.color": [
               [
                "#B0BEC5",
                "#B0BEC5",
                "#B0BEC5",
                "#B0BEC5",
                "#B0BEC5",
                "#B0BEC5",
                "#B0BEC5",
                "#B0BEC5",
                "#B0BEC5",
                "#B0BEC5",
                "#B0BEC5",
                "#B0BEC5",
                "#B0BEC5",
                "#B0BEC5",
                "#B0BEC5",
                "#B0BEC5",
                "#B0BEC5",
                "#B0BEC5",
                "red",
                "#B0BEC5",
                "#B0BEC5",
                "#B0BEC5",
                "#B0BEC5",
                "#B0BEC5",
                "#B0BEC5",
                "#B0BEC5",
                "#B0BEC5",
                "#B0BEC5",
                "#B0BEC5",
                "#B0BEC5",
                "#B0BEC5",
                "#B0BEC5",
                "#B0BEC5",
                "#B0BEC5",
                "#B0BEC5",
                "#B0BEC5",
                "#B0BEC5",
                "#B0BEC5",
                "#B0BEC5",
                "#B0BEC5",
                "#B0BEC5",
                "#B0BEC5",
                "#B0BEC5",
                "#B0BEC5",
                "#B0BEC5",
                "#B0BEC5",
                "#B0BEC5",
                "#B0BEC5",
                "#B0BEC5",
                "#B0BEC5",
                "#B0BEC5",
                "#B0BEC5",
                "#B0BEC5",
                "#B0BEC5",
                "#B0BEC5",
                "#B0BEC5",
                "#B0BEC5",
                "#B0BEC5",
                "#B0BEC5",
                "#B0BEC5",
                "#B0BEC5",
                "#B0BEC5",
                "#B0BEC5",
                "#B0BEC5",
                "#B0BEC5",
                "#B0BEC5",
                "#B0BEC5",
                "#B0BEC5",
                "#B0BEC5",
                "#B0BEC5",
                "#B0BEC5",
                "#B0BEC5",
                "#B0BEC5",
                "#B0BEC5",
                "#B0BEC5",
                "#B0BEC5",
                "#B0BEC5",
                "#B0BEC5",
                "#B0BEC5",
                "#B0BEC5",
                "#B0BEC5",
                "#B0BEC5",
                "#B0BEC5",
                "#B0BEC5"
               ]
              ]
             }
            ],
            "label": "Topic 18",
            "method": "update"
           },
           {
            "args": [
             {
              "marker.color": [
               [
                "#B0BEC5",
                "#B0BEC5",
                "#B0BEC5",
                "#B0BEC5",
                "#B0BEC5",
                "#B0BEC5",
                "#B0BEC5",
                "#B0BEC5",
                "#B0BEC5",
                "#B0BEC5",
                "#B0BEC5",
                "#B0BEC5",
                "#B0BEC5",
                "#B0BEC5",
                "#B0BEC5",
                "#B0BEC5",
                "#B0BEC5",
                "#B0BEC5",
                "#B0BEC5",
                "red",
                "#B0BEC5",
                "#B0BEC5",
                "#B0BEC5",
                "#B0BEC5",
                "#B0BEC5",
                "#B0BEC5",
                "#B0BEC5",
                "#B0BEC5",
                "#B0BEC5",
                "#B0BEC5",
                "#B0BEC5",
                "#B0BEC5",
                "#B0BEC5",
                "#B0BEC5",
                "#B0BEC5",
                "#B0BEC5",
                "#B0BEC5",
                "#B0BEC5",
                "#B0BEC5",
                "#B0BEC5",
                "#B0BEC5",
                "#B0BEC5",
                "#B0BEC5",
                "#B0BEC5",
                "#B0BEC5",
                "#B0BEC5",
                "#B0BEC5",
                "#B0BEC5",
                "#B0BEC5",
                "#B0BEC5",
                "#B0BEC5",
                "#B0BEC5",
                "#B0BEC5",
                "#B0BEC5",
                "#B0BEC5",
                "#B0BEC5",
                "#B0BEC5",
                "#B0BEC5",
                "#B0BEC5",
                "#B0BEC5",
                "#B0BEC5",
                "#B0BEC5",
                "#B0BEC5",
                "#B0BEC5",
                "#B0BEC5",
                "#B0BEC5",
                "#B0BEC5",
                "#B0BEC5",
                "#B0BEC5",
                "#B0BEC5",
                "#B0BEC5",
                "#B0BEC5",
                "#B0BEC5",
                "#B0BEC5",
                "#B0BEC5",
                "#B0BEC5",
                "#B0BEC5",
                "#B0BEC5",
                "#B0BEC5",
                "#B0BEC5",
                "#B0BEC5",
                "#B0BEC5",
                "#B0BEC5",
                "#B0BEC5"
               ]
              ]
             }
            ],
            "label": "Topic 19",
            "method": "update"
           },
           {
            "args": [
             {
              "marker.color": [
               [
                "#B0BEC5",
                "#B0BEC5",
                "#B0BEC5",
                "#B0BEC5",
                "#B0BEC5",
                "#B0BEC5",
                "#B0BEC5",
                "#B0BEC5",
                "#B0BEC5",
                "#B0BEC5",
                "#B0BEC5",
                "#B0BEC5",
                "#B0BEC5",
                "#B0BEC5",
                "#B0BEC5",
                "#B0BEC5",
                "#B0BEC5",
                "#B0BEC5",
                "#B0BEC5",
                "#B0BEC5",
                "red",
                "#B0BEC5",
                "#B0BEC5",
                "#B0BEC5",
                "#B0BEC5",
                "#B0BEC5",
                "#B0BEC5",
                "#B0BEC5",
                "#B0BEC5",
                "#B0BEC5",
                "#B0BEC5",
                "#B0BEC5",
                "#B0BEC5",
                "#B0BEC5",
                "#B0BEC5",
                "#B0BEC5",
                "#B0BEC5",
                "#B0BEC5",
                "#B0BEC5",
                "#B0BEC5",
                "#B0BEC5",
                "#B0BEC5",
                "#B0BEC5",
                "#B0BEC5",
                "#B0BEC5",
                "#B0BEC5",
                "#B0BEC5",
                "#B0BEC5",
                "#B0BEC5",
                "#B0BEC5",
                "#B0BEC5",
                "#B0BEC5",
                "#B0BEC5",
                "#B0BEC5",
                "#B0BEC5",
                "#B0BEC5",
                "#B0BEC5",
                "#B0BEC5",
                "#B0BEC5",
                "#B0BEC5",
                "#B0BEC5",
                "#B0BEC5",
                "#B0BEC5",
                "#B0BEC5",
                "#B0BEC5",
                "#B0BEC5",
                "#B0BEC5",
                "#B0BEC5",
                "#B0BEC5",
                "#B0BEC5",
                "#B0BEC5",
                "#B0BEC5",
                "#B0BEC5",
                "#B0BEC5",
                "#B0BEC5",
                "#B0BEC5",
                "#B0BEC5",
                "#B0BEC5",
                "#B0BEC5",
                "#B0BEC5",
                "#B0BEC5",
                "#B0BEC5",
                "#B0BEC5",
                "#B0BEC5"
               ]
              ]
             }
            ],
            "label": "Topic 20",
            "method": "update"
           },
           {
            "args": [
             {
              "marker.color": [
               [
                "#B0BEC5",
                "#B0BEC5",
                "#B0BEC5",
                "#B0BEC5",
                "#B0BEC5",
                "#B0BEC5",
                "#B0BEC5",
                "#B0BEC5",
                "#B0BEC5",
                "#B0BEC5",
                "#B0BEC5",
                "#B0BEC5",
                "#B0BEC5",
                "#B0BEC5",
                "#B0BEC5",
                "#B0BEC5",
                "#B0BEC5",
                "#B0BEC5",
                "#B0BEC5",
                "#B0BEC5",
                "#B0BEC5",
                "red",
                "#B0BEC5",
                "#B0BEC5",
                "#B0BEC5",
                "#B0BEC5",
                "#B0BEC5",
                "#B0BEC5",
                "#B0BEC5",
                "#B0BEC5",
                "#B0BEC5",
                "#B0BEC5",
                "#B0BEC5",
                "#B0BEC5",
                "#B0BEC5",
                "#B0BEC5",
                "#B0BEC5",
                "#B0BEC5",
                "#B0BEC5",
                "#B0BEC5",
                "#B0BEC5",
                "#B0BEC5",
                "#B0BEC5",
                "#B0BEC5",
                "#B0BEC5",
                "#B0BEC5",
                "#B0BEC5",
                "#B0BEC5",
                "#B0BEC5",
                "#B0BEC5",
                "#B0BEC5",
                "#B0BEC5",
                "#B0BEC5",
                "#B0BEC5",
                "#B0BEC5",
                "#B0BEC5",
                "#B0BEC5",
                "#B0BEC5",
                "#B0BEC5",
                "#B0BEC5",
                "#B0BEC5",
                "#B0BEC5",
                "#B0BEC5",
                "#B0BEC5",
                "#B0BEC5",
                "#B0BEC5",
                "#B0BEC5",
                "#B0BEC5",
                "#B0BEC5",
                "#B0BEC5",
                "#B0BEC5",
                "#B0BEC5",
                "#B0BEC5",
                "#B0BEC5",
                "#B0BEC5",
                "#B0BEC5",
                "#B0BEC5",
                "#B0BEC5",
                "#B0BEC5",
                "#B0BEC5",
                "#B0BEC5",
                "#B0BEC5",
                "#B0BEC5",
                "#B0BEC5"
               ]
              ]
             }
            ],
            "label": "Topic 21",
            "method": "update"
           },
           {
            "args": [
             {
              "marker.color": [
               [
                "#B0BEC5",
                "#B0BEC5",
                "#B0BEC5",
                "#B0BEC5",
                "#B0BEC5",
                "#B0BEC5",
                "#B0BEC5",
                "#B0BEC5",
                "#B0BEC5",
                "#B0BEC5",
                "#B0BEC5",
                "#B0BEC5",
                "#B0BEC5",
                "#B0BEC5",
                "#B0BEC5",
                "#B0BEC5",
                "#B0BEC5",
                "#B0BEC5",
                "#B0BEC5",
                "#B0BEC5",
                "#B0BEC5",
                "#B0BEC5",
                "red",
                "#B0BEC5",
                "#B0BEC5",
                "#B0BEC5",
                "#B0BEC5",
                "#B0BEC5",
                "#B0BEC5",
                "#B0BEC5",
                "#B0BEC5",
                "#B0BEC5",
                "#B0BEC5",
                "#B0BEC5",
                "#B0BEC5",
                "#B0BEC5",
                "#B0BEC5",
                "#B0BEC5",
                "#B0BEC5",
                "#B0BEC5",
                "#B0BEC5",
                "#B0BEC5",
                "#B0BEC5",
                "#B0BEC5",
                "#B0BEC5",
                "#B0BEC5",
                "#B0BEC5",
                "#B0BEC5",
                "#B0BEC5",
                "#B0BEC5",
                "#B0BEC5",
                "#B0BEC5",
                "#B0BEC5",
                "#B0BEC5",
                "#B0BEC5",
                "#B0BEC5",
                "#B0BEC5",
                "#B0BEC5",
                "#B0BEC5",
                "#B0BEC5",
                "#B0BEC5",
                "#B0BEC5",
                "#B0BEC5",
                "#B0BEC5",
                "#B0BEC5",
                "#B0BEC5",
                "#B0BEC5",
                "#B0BEC5",
                "#B0BEC5",
                "#B0BEC5",
                "#B0BEC5",
                "#B0BEC5",
                "#B0BEC5",
                "#B0BEC5",
                "#B0BEC5",
                "#B0BEC5",
                "#B0BEC5",
                "#B0BEC5",
                "#B0BEC5",
                "#B0BEC5",
                "#B0BEC5",
                "#B0BEC5",
                "#B0BEC5",
                "#B0BEC5"
               ]
              ]
             }
            ],
            "label": "Topic 22",
            "method": "update"
           },
           {
            "args": [
             {
              "marker.color": [
               [
                "#B0BEC5",
                "#B0BEC5",
                "#B0BEC5",
                "#B0BEC5",
                "#B0BEC5",
                "#B0BEC5",
                "#B0BEC5",
                "#B0BEC5",
                "#B0BEC5",
                "#B0BEC5",
                "#B0BEC5",
                "#B0BEC5",
                "#B0BEC5",
                "#B0BEC5",
                "#B0BEC5",
                "#B0BEC5",
                "#B0BEC5",
                "#B0BEC5",
                "#B0BEC5",
                "#B0BEC5",
                "#B0BEC5",
                "#B0BEC5",
                "#B0BEC5",
                "red",
                "#B0BEC5",
                "#B0BEC5",
                "#B0BEC5",
                "#B0BEC5",
                "#B0BEC5",
                "#B0BEC5",
                "#B0BEC5",
                "#B0BEC5",
                "#B0BEC5",
                "#B0BEC5",
                "#B0BEC5",
                "#B0BEC5",
                "#B0BEC5",
                "#B0BEC5",
                "#B0BEC5",
                "#B0BEC5",
                "#B0BEC5",
                "#B0BEC5",
                "#B0BEC5",
                "#B0BEC5",
                "#B0BEC5",
                "#B0BEC5",
                "#B0BEC5",
                "#B0BEC5",
                "#B0BEC5",
                "#B0BEC5",
                "#B0BEC5",
                "#B0BEC5",
                "#B0BEC5",
                "#B0BEC5",
                "#B0BEC5",
                "#B0BEC5",
                "#B0BEC5",
                "#B0BEC5",
                "#B0BEC5",
                "#B0BEC5",
                "#B0BEC5",
                "#B0BEC5",
                "#B0BEC5",
                "#B0BEC5",
                "#B0BEC5",
                "#B0BEC5",
                "#B0BEC5",
                "#B0BEC5",
                "#B0BEC5",
                "#B0BEC5",
                "#B0BEC5",
                "#B0BEC5",
                "#B0BEC5",
                "#B0BEC5",
                "#B0BEC5",
                "#B0BEC5",
                "#B0BEC5",
                "#B0BEC5",
                "#B0BEC5",
                "#B0BEC5",
                "#B0BEC5",
                "#B0BEC5",
                "#B0BEC5",
                "#B0BEC5"
               ]
              ]
             }
            ],
            "label": "Topic 23",
            "method": "update"
           },
           {
            "args": [
             {
              "marker.color": [
               [
                "#B0BEC5",
                "#B0BEC5",
                "#B0BEC5",
                "#B0BEC5",
                "#B0BEC5",
                "#B0BEC5",
                "#B0BEC5",
                "#B0BEC5",
                "#B0BEC5",
                "#B0BEC5",
                "#B0BEC5",
                "#B0BEC5",
                "#B0BEC5",
                "#B0BEC5",
                "#B0BEC5",
                "#B0BEC5",
                "#B0BEC5",
                "#B0BEC5",
                "#B0BEC5",
                "#B0BEC5",
                "#B0BEC5",
                "#B0BEC5",
                "#B0BEC5",
                "#B0BEC5",
                "red",
                "#B0BEC5",
                "#B0BEC5",
                "#B0BEC5",
                "#B0BEC5",
                "#B0BEC5",
                "#B0BEC5",
                "#B0BEC5",
                "#B0BEC5",
                "#B0BEC5",
                "#B0BEC5",
                "#B0BEC5",
                "#B0BEC5",
                "#B0BEC5",
                "#B0BEC5",
                "#B0BEC5",
                "#B0BEC5",
                "#B0BEC5",
                "#B0BEC5",
                "#B0BEC5",
                "#B0BEC5",
                "#B0BEC5",
                "#B0BEC5",
                "#B0BEC5",
                "#B0BEC5",
                "#B0BEC5",
                "#B0BEC5",
                "#B0BEC5",
                "#B0BEC5",
                "#B0BEC5",
                "#B0BEC5",
                "#B0BEC5",
                "#B0BEC5",
                "#B0BEC5",
                "#B0BEC5",
                "#B0BEC5",
                "#B0BEC5",
                "#B0BEC5",
                "#B0BEC5",
                "#B0BEC5",
                "#B0BEC5",
                "#B0BEC5",
                "#B0BEC5",
                "#B0BEC5",
                "#B0BEC5",
                "#B0BEC5",
                "#B0BEC5",
                "#B0BEC5",
                "#B0BEC5",
                "#B0BEC5",
                "#B0BEC5",
                "#B0BEC5",
                "#B0BEC5",
                "#B0BEC5",
                "#B0BEC5",
                "#B0BEC5",
                "#B0BEC5",
                "#B0BEC5",
                "#B0BEC5",
                "#B0BEC5"
               ]
              ]
             }
            ],
            "label": "Topic 24",
            "method": "update"
           },
           {
            "args": [
             {
              "marker.color": [
               [
                "#B0BEC5",
                "#B0BEC5",
                "#B0BEC5",
                "#B0BEC5",
                "#B0BEC5",
                "#B0BEC5",
                "#B0BEC5",
                "#B0BEC5",
                "#B0BEC5",
                "#B0BEC5",
                "#B0BEC5",
                "#B0BEC5",
                "#B0BEC5",
                "#B0BEC5",
                "#B0BEC5",
                "#B0BEC5",
                "#B0BEC5",
                "#B0BEC5",
                "#B0BEC5",
                "#B0BEC5",
                "#B0BEC5",
                "#B0BEC5",
                "#B0BEC5",
                "#B0BEC5",
                "#B0BEC5",
                "red",
                "#B0BEC5",
                "#B0BEC5",
                "#B0BEC5",
                "#B0BEC5",
                "#B0BEC5",
                "#B0BEC5",
                "#B0BEC5",
                "#B0BEC5",
                "#B0BEC5",
                "#B0BEC5",
                "#B0BEC5",
                "#B0BEC5",
                "#B0BEC5",
                "#B0BEC5",
                "#B0BEC5",
                "#B0BEC5",
                "#B0BEC5",
                "#B0BEC5",
                "#B0BEC5",
                "#B0BEC5",
                "#B0BEC5",
                "#B0BEC5",
                "#B0BEC5",
                "#B0BEC5",
                "#B0BEC5",
                "#B0BEC5",
                "#B0BEC5",
                "#B0BEC5",
                "#B0BEC5",
                "#B0BEC5",
                "#B0BEC5",
                "#B0BEC5",
                "#B0BEC5",
                "#B0BEC5",
                "#B0BEC5",
                "#B0BEC5",
                "#B0BEC5",
                "#B0BEC5",
                "#B0BEC5",
                "#B0BEC5",
                "#B0BEC5",
                "#B0BEC5",
                "#B0BEC5",
                "#B0BEC5",
                "#B0BEC5",
                "#B0BEC5",
                "#B0BEC5",
                "#B0BEC5",
                "#B0BEC5",
                "#B0BEC5",
                "#B0BEC5",
                "#B0BEC5",
                "#B0BEC5",
                "#B0BEC5",
                "#B0BEC5",
                "#B0BEC5",
                "#B0BEC5",
                "#B0BEC5"
               ]
              ]
             }
            ],
            "label": "Topic 25",
            "method": "update"
           },
           {
            "args": [
             {
              "marker.color": [
               [
                "#B0BEC5",
                "#B0BEC5",
                "#B0BEC5",
                "#B0BEC5",
                "#B0BEC5",
                "#B0BEC5",
                "#B0BEC5",
                "#B0BEC5",
                "#B0BEC5",
                "#B0BEC5",
                "#B0BEC5",
                "#B0BEC5",
                "#B0BEC5",
                "#B0BEC5",
                "#B0BEC5",
                "#B0BEC5",
                "#B0BEC5",
                "#B0BEC5",
                "#B0BEC5",
                "#B0BEC5",
                "#B0BEC5",
                "#B0BEC5",
                "#B0BEC5",
                "#B0BEC5",
                "#B0BEC5",
                "#B0BEC5",
                "red",
                "#B0BEC5",
                "#B0BEC5",
                "#B0BEC5",
                "#B0BEC5",
                "#B0BEC5",
                "#B0BEC5",
                "#B0BEC5",
                "#B0BEC5",
                "#B0BEC5",
                "#B0BEC5",
                "#B0BEC5",
                "#B0BEC5",
                "#B0BEC5",
                "#B0BEC5",
                "#B0BEC5",
                "#B0BEC5",
                "#B0BEC5",
                "#B0BEC5",
                "#B0BEC5",
                "#B0BEC5",
                "#B0BEC5",
                "#B0BEC5",
                "#B0BEC5",
                "#B0BEC5",
                "#B0BEC5",
                "#B0BEC5",
                "#B0BEC5",
                "#B0BEC5",
                "#B0BEC5",
                "#B0BEC5",
                "#B0BEC5",
                "#B0BEC5",
                "#B0BEC5",
                "#B0BEC5",
                "#B0BEC5",
                "#B0BEC5",
                "#B0BEC5",
                "#B0BEC5",
                "#B0BEC5",
                "#B0BEC5",
                "#B0BEC5",
                "#B0BEC5",
                "#B0BEC5",
                "#B0BEC5",
                "#B0BEC5",
                "#B0BEC5",
                "#B0BEC5",
                "#B0BEC5",
                "#B0BEC5",
                "#B0BEC5",
                "#B0BEC5",
                "#B0BEC5",
                "#B0BEC5",
                "#B0BEC5",
                "#B0BEC5",
                "#B0BEC5",
                "#B0BEC5"
               ]
              ]
             }
            ],
            "label": "Topic 26",
            "method": "update"
           },
           {
            "args": [
             {
              "marker.color": [
               [
                "#B0BEC5",
                "#B0BEC5",
                "#B0BEC5",
                "#B0BEC5",
                "#B0BEC5",
                "#B0BEC5",
                "#B0BEC5",
                "#B0BEC5",
                "#B0BEC5",
                "#B0BEC5",
                "#B0BEC5",
                "#B0BEC5",
                "#B0BEC5",
                "#B0BEC5",
                "#B0BEC5",
                "#B0BEC5",
                "#B0BEC5",
                "#B0BEC5",
                "#B0BEC5",
                "#B0BEC5",
                "#B0BEC5",
                "#B0BEC5",
                "#B0BEC5",
                "#B0BEC5",
                "#B0BEC5",
                "#B0BEC5",
                "#B0BEC5",
                "red",
                "#B0BEC5",
                "#B0BEC5",
                "#B0BEC5",
                "#B0BEC5",
                "#B0BEC5",
                "#B0BEC5",
                "#B0BEC5",
                "#B0BEC5",
                "#B0BEC5",
                "#B0BEC5",
                "#B0BEC5",
                "#B0BEC5",
                "#B0BEC5",
                "#B0BEC5",
                "#B0BEC5",
                "#B0BEC5",
                "#B0BEC5",
                "#B0BEC5",
                "#B0BEC5",
                "#B0BEC5",
                "#B0BEC5",
                "#B0BEC5",
                "#B0BEC5",
                "#B0BEC5",
                "#B0BEC5",
                "#B0BEC5",
                "#B0BEC5",
                "#B0BEC5",
                "#B0BEC5",
                "#B0BEC5",
                "#B0BEC5",
                "#B0BEC5",
                "#B0BEC5",
                "#B0BEC5",
                "#B0BEC5",
                "#B0BEC5",
                "#B0BEC5",
                "#B0BEC5",
                "#B0BEC5",
                "#B0BEC5",
                "#B0BEC5",
                "#B0BEC5",
                "#B0BEC5",
                "#B0BEC5",
                "#B0BEC5",
                "#B0BEC5",
                "#B0BEC5",
                "#B0BEC5",
                "#B0BEC5",
                "#B0BEC5",
                "#B0BEC5",
                "#B0BEC5",
                "#B0BEC5",
                "#B0BEC5",
                "#B0BEC5",
                "#B0BEC5"
               ]
              ]
             }
            ],
            "label": "Topic 27",
            "method": "update"
           },
           {
            "args": [
             {
              "marker.color": [
               [
                "#B0BEC5",
                "#B0BEC5",
                "#B0BEC5",
                "#B0BEC5",
                "#B0BEC5",
                "#B0BEC5",
                "#B0BEC5",
                "#B0BEC5",
                "#B0BEC5",
                "#B0BEC5",
                "#B0BEC5",
                "#B0BEC5",
                "#B0BEC5",
                "#B0BEC5",
                "#B0BEC5",
                "#B0BEC5",
                "#B0BEC5",
                "#B0BEC5",
                "#B0BEC5",
                "#B0BEC5",
                "#B0BEC5",
                "#B0BEC5",
                "#B0BEC5",
                "#B0BEC5",
                "#B0BEC5",
                "#B0BEC5",
                "#B0BEC5",
                "#B0BEC5",
                "red",
                "#B0BEC5",
                "#B0BEC5",
                "#B0BEC5",
                "#B0BEC5",
                "#B0BEC5",
                "#B0BEC5",
                "#B0BEC5",
                "#B0BEC5",
                "#B0BEC5",
                "#B0BEC5",
                "#B0BEC5",
                "#B0BEC5",
                "#B0BEC5",
                "#B0BEC5",
                "#B0BEC5",
                "#B0BEC5",
                "#B0BEC5",
                "#B0BEC5",
                "#B0BEC5",
                "#B0BEC5",
                "#B0BEC5",
                "#B0BEC5",
                "#B0BEC5",
                "#B0BEC5",
                "#B0BEC5",
                "#B0BEC5",
                "#B0BEC5",
                "#B0BEC5",
                "#B0BEC5",
                "#B0BEC5",
                "#B0BEC5",
                "#B0BEC5",
                "#B0BEC5",
                "#B0BEC5",
                "#B0BEC5",
                "#B0BEC5",
                "#B0BEC5",
                "#B0BEC5",
                "#B0BEC5",
                "#B0BEC5",
                "#B0BEC5",
                "#B0BEC5",
                "#B0BEC5",
                "#B0BEC5",
                "#B0BEC5",
                "#B0BEC5",
                "#B0BEC5",
                "#B0BEC5",
                "#B0BEC5",
                "#B0BEC5",
                "#B0BEC5",
                "#B0BEC5",
                "#B0BEC5",
                "#B0BEC5",
                "#B0BEC5"
               ]
              ]
             }
            ],
            "label": "Topic 28",
            "method": "update"
           },
           {
            "args": [
             {
              "marker.color": [
               [
                "#B0BEC5",
                "#B0BEC5",
                "#B0BEC5",
                "#B0BEC5",
                "#B0BEC5",
                "#B0BEC5",
                "#B0BEC5",
                "#B0BEC5",
                "#B0BEC5",
                "#B0BEC5",
                "#B0BEC5",
                "#B0BEC5",
                "#B0BEC5",
                "#B0BEC5",
                "#B0BEC5",
                "#B0BEC5",
                "#B0BEC5",
                "#B0BEC5",
                "#B0BEC5",
                "#B0BEC5",
                "#B0BEC5",
                "#B0BEC5",
                "#B0BEC5",
                "#B0BEC5",
                "#B0BEC5",
                "#B0BEC5",
                "#B0BEC5",
                "#B0BEC5",
                "#B0BEC5",
                "red",
                "#B0BEC5",
                "#B0BEC5",
                "#B0BEC5",
                "#B0BEC5",
                "#B0BEC5",
                "#B0BEC5",
                "#B0BEC5",
                "#B0BEC5",
                "#B0BEC5",
                "#B0BEC5",
                "#B0BEC5",
                "#B0BEC5",
                "#B0BEC5",
                "#B0BEC5",
                "#B0BEC5",
                "#B0BEC5",
                "#B0BEC5",
                "#B0BEC5",
                "#B0BEC5",
                "#B0BEC5",
                "#B0BEC5",
                "#B0BEC5",
                "#B0BEC5",
                "#B0BEC5",
                "#B0BEC5",
                "#B0BEC5",
                "#B0BEC5",
                "#B0BEC5",
                "#B0BEC5",
                "#B0BEC5",
                "#B0BEC5",
                "#B0BEC5",
                "#B0BEC5",
                "#B0BEC5",
                "#B0BEC5",
                "#B0BEC5",
                "#B0BEC5",
                "#B0BEC5",
                "#B0BEC5",
                "#B0BEC5",
                "#B0BEC5",
                "#B0BEC5",
                "#B0BEC5",
                "#B0BEC5",
                "#B0BEC5",
                "#B0BEC5",
                "#B0BEC5",
                "#B0BEC5",
                "#B0BEC5",
                "#B0BEC5",
                "#B0BEC5",
                "#B0BEC5",
                "#B0BEC5",
                "#B0BEC5"
               ]
              ]
             }
            ],
            "label": "Topic 29",
            "method": "update"
           },
           {
            "args": [
             {
              "marker.color": [
               [
                "#B0BEC5",
                "#B0BEC5",
                "#B0BEC5",
                "#B0BEC5",
                "#B0BEC5",
                "#B0BEC5",
                "#B0BEC5",
                "#B0BEC5",
                "#B0BEC5",
                "#B0BEC5",
                "#B0BEC5",
                "#B0BEC5",
                "#B0BEC5",
                "#B0BEC5",
                "#B0BEC5",
                "#B0BEC5",
                "#B0BEC5",
                "#B0BEC5",
                "#B0BEC5",
                "#B0BEC5",
                "#B0BEC5",
                "#B0BEC5",
                "#B0BEC5",
                "#B0BEC5",
                "#B0BEC5",
                "#B0BEC5",
                "#B0BEC5",
                "#B0BEC5",
                "#B0BEC5",
                "#B0BEC5",
                "red",
                "#B0BEC5",
                "#B0BEC5",
                "#B0BEC5",
                "#B0BEC5",
                "#B0BEC5",
                "#B0BEC5",
                "#B0BEC5",
                "#B0BEC5",
                "#B0BEC5",
                "#B0BEC5",
                "#B0BEC5",
                "#B0BEC5",
                "#B0BEC5",
                "#B0BEC5",
                "#B0BEC5",
                "#B0BEC5",
                "#B0BEC5",
                "#B0BEC5",
                "#B0BEC5",
                "#B0BEC5",
                "#B0BEC5",
                "#B0BEC5",
                "#B0BEC5",
                "#B0BEC5",
                "#B0BEC5",
                "#B0BEC5",
                "#B0BEC5",
                "#B0BEC5",
                "#B0BEC5",
                "#B0BEC5",
                "#B0BEC5",
                "#B0BEC5",
                "#B0BEC5",
                "#B0BEC5",
                "#B0BEC5",
                "#B0BEC5",
                "#B0BEC5",
                "#B0BEC5",
                "#B0BEC5",
                "#B0BEC5",
                "#B0BEC5",
                "#B0BEC5",
                "#B0BEC5",
                "#B0BEC5",
                "#B0BEC5",
                "#B0BEC5",
                "#B0BEC5",
                "#B0BEC5",
                "#B0BEC5",
                "#B0BEC5",
                "#B0BEC5",
                "#B0BEC5",
                "#B0BEC5"
               ]
              ]
             }
            ],
            "label": "Topic 30",
            "method": "update"
           },
           {
            "args": [
             {
              "marker.color": [
               [
                "#B0BEC5",
                "#B0BEC5",
                "#B0BEC5",
                "#B0BEC5",
                "#B0BEC5",
                "#B0BEC5",
                "#B0BEC5",
                "#B0BEC5",
                "#B0BEC5",
                "#B0BEC5",
                "#B0BEC5",
                "#B0BEC5",
                "#B0BEC5",
                "#B0BEC5",
                "#B0BEC5",
                "#B0BEC5",
                "#B0BEC5",
                "#B0BEC5",
                "#B0BEC5",
                "#B0BEC5",
                "#B0BEC5",
                "#B0BEC5",
                "#B0BEC5",
                "#B0BEC5",
                "#B0BEC5",
                "#B0BEC5",
                "#B0BEC5",
                "#B0BEC5",
                "#B0BEC5",
                "#B0BEC5",
                "#B0BEC5",
                "red",
                "#B0BEC5",
                "#B0BEC5",
                "#B0BEC5",
                "#B0BEC5",
                "#B0BEC5",
                "#B0BEC5",
                "#B0BEC5",
                "#B0BEC5",
                "#B0BEC5",
                "#B0BEC5",
                "#B0BEC5",
                "#B0BEC5",
                "#B0BEC5",
                "#B0BEC5",
                "#B0BEC5",
                "#B0BEC5",
                "#B0BEC5",
                "#B0BEC5",
                "#B0BEC5",
                "#B0BEC5",
                "#B0BEC5",
                "#B0BEC5",
                "#B0BEC5",
                "#B0BEC5",
                "#B0BEC5",
                "#B0BEC5",
                "#B0BEC5",
                "#B0BEC5",
                "#B0BEC5",
                "#B0BEC5",
                "#B0BEC5",
                "#B0BEC5",
                "#B0BEC5",
                "#B0BEC5",
                "#B0BEC5",
                "#B0BEC5",
                "#B0BEC5",
                "#B0BEC5",
                "#B0BEC5",
                "#B0BEC5",
                "#B0BEC5",
                "#B0BEC5",
                "#B0BEC5",
                "#B0BEC5",
                "#B0BEC5",
                "#B0BEC5",
                "#B0BEC5",
                "#B0BEC5",
                "#B0BEC5",
                "#B0BEC5",
                "#B0BEC5",
                "#B0BEC5"
               ]
              ]
             }
            ],
            "label": "Topic 31",
            "method": "update"
           },
           {
            "args": [
             {
              "marker.color": [
               [
                "#B0BEC5",
                "#B0BEC5",
                "#B0BEC5",
                "#B0BEC5",
                "#B0BEC5",
                "#B0BEC5",
                "#B0BEC5",
                "#B0BEC5",
                "#B0BEC5",
                "#B0BEC5",
                "#B0BEC5",
                "#B0BEC5",
                "#B0BEC5",
                "#B0BEC5",
                "#B0BEC5",
                "#B0BEC5",
                "#B0BEC5",
                "#B0BEC5",
                "#B0BEC5",
                "#B0BEC5",
                "#B0BEC5",
                "#B0BEC5",
                "#B0BEC5",
                "#B0BEC5",
                "#B0BEC5",
                "#B0BEC5",
                "#B0BEC5",
                "#B0BEC5",
                "#B0BEC5",
                "#B0BEC5",
                "#B0BEC5",
                "#B0BEC5",
                "red",
                "#B0BEC5",
                "#B0BEC5",
                "#B0BEC5",
                "#B0BEC5",
                "#B0BEC5",
                "#B0BEC5",
                "#B0BEC5",
                "#B0BEC5",
                "#B0BEC5",
                "#B0BEC5",
                "#B0BEC5",
                "#B0BEC5",
                "#B0BEC5",
                "#B0BEC5",
                "#B0BEC5",
                "#B0BEC5",
                "#B0BEC5",
                "#B0BEC5",
                "#B0BEC5",
                "#B0BEC5",
                "#B0BEC5",
                "#B0BEC5",
                "#B0BEC5",
                "#B0BEC5",
                "#B0BEC5",
                "#B0BEC5",
                "#B0BEC5",
                "#B0BEC5",
                "#B0BEC5",
                "#B0BEC5",
                "#B0BEC5",
                "#B0BEC5",
                "#B0BEC5",
                "#B0BEC5",
                "#B0BEC5",
                "#B0BEC5",
                "#B0BEC5",
                "#B0BEC5",
                "#B0BEC5",
                "#B0BEC5",
                "#B0BEC5",
                "#B0BEC5",
                "#B0BEC5",
                "#B0BEC5",
                "#B0BEC5",
                "#B0BEC5",
                "#B0BEC5",
                "#B0BEC5",
                "#B0BEC5",
                "#B0BEC5",
                "#B0BEC5"
               ]
              ]
             }
            ],
            "label": "Topic 32",
            "method": "update"
           },
           {
            "args": [
             {
              "marker.color": [
               [
                "#B0BEC5",
                "#B0BEC5",
                "#B0BEC5",
                "#B0BEC5",
                "#B0BEC5",
                "#B0BEC5",
                "#B0BEC5",
                "#B0BEC5",
                "#B0BEC5",
                "#B0BEC5",
                "#B0BEC5",
                "#B0BEC5",
                "#B0BEC5",
                "#B0BEC5",
                "#B0BEC5",
                "#B0BEC5",
                "#B0BEC5",
                "#B0BEC5",
                "#B0BEC5",
                "#B0BEC5",
                "#B0BEC5",
                "#B0BEC5",
                "#B0BEC5",
                "#B0BEC5",
                "#B0BEC5",
                "#B0BEC5",
                "#B0BEC5",
                "#B0BEC5",
                "#B0BEC5",
                "#B0BEC5",
                "#B0BEC5",
                "#B0BEC5",
                "#B0BEC5",
                "red",
                "#B0BEC5",
                "#B0BEC5",
                "#B0BEC5",
                "#B0BEC5",
                "#B0BEC5",
                "#B0BEC5",
                "#B0BEC5",
                "#B0BEC5",
                "#B0BEC5",
                "#B0BEC5",
                "#B0BEC5",
                "#B0BEC5",
                "#B0BEC5",
                "#B0BEC5",
                "#B0BEC5",
                "#B0BEC5",
                "#B0BEC5",
                "#B0BEC5",
                "#B0BEC5",
                "#B0BEC5",
                "#B0BEC5",
                "#B0BEC5",
                "#B0BEC5",
                "#B0BEC5",
                "#B0BEC5",
                "#B0BEC5",
                "#B0BEC5",
                "#B0BEC5",
                "#B0BEC5",
                "#B0BEC5",
                "#B0BEC5",
                "#B0BEC5",
                "#B0BEC5",
                "#B0BEC5",
                "#B0BEC5",
                "#B0BEC5",
                "#B0BEC5",
                "#B0BEC5",
                "#B0BEC5",
                "#B0BEC5",
                "#B0BEC5",
                "#B0BEC5",
                "#B0BEC5",
                "#B0BEC5",
                "#B0BEC5",
                "#B0BEC5",
                "#B0BEC5",
                "#B0BEC5",
                "#B0BEC5",
                "#B0BEC5"
               ]
              ]
             }
            ],
            "label": "Topic 33",
            "method": "update"
           },
           {
            "args": [
             {
              "marker.color": [
               [
                "#B0BEC5",
                "#B0BEC5",
                "#B0BEC5",
                "#B0BEC5",
                "#B0BEC5",
                "#B0BEC5",
                "#B0BEC5",
                "#B0BEC5",
                "#B0BEC5",
                "#B0BEC5",
                "#B0BEC5",
                "#B0BEC5",
                "#B0BEC5",
                "#B0BEC5",
                "#B0BEC5",
                "#B0BEC5",
                "#B0BEC5",
                "#B0BEC5",
                "#B0BEC5",
                "#B0BEC5",
                "#B0BEC5",
                "#B0BEC5",
                "#B0BEC5",
                "#B0BEC5",
                "#B0BEC5",
                "#B0BEC5",
                "#B0BEC5",
                "#B0BEC5",
                "#B0BEC5",
                "#B0BEC5",
                "#B0BEC5",
                "#B0BEC5",
                "#B0BEC5",
                "#B0BEC5",
                "red",
                "#B0BEC5",
                "#B0BEC5",
                "#B0BEC5",
                "#B0BEC5",
                "#B0BEC5",
                "#B0BEC5",
                "#B0BEC5",
                "#B0BEC5",
                "#B0BEC5",
                "#B0BEC5",
                "#B0BEC5",
                "#B0BEC5",
                "#B0BEC5",
                "#B0BEC5",
                "#B0BEC5",
                "#B0BEC5",
                "#B0BEC5",
                "#B0BEC5",
                "#B0BEC5",
                "#B0BEC5",
                "#B0BEC5",
                "#B0BEC5",
                "#B0BEC5",
                "#B0BEC5",
                "#B0BEC5",
                "#B0BEC5",
                "#B0BEC5",
                "#B0BEC5",
                "#B0BEC5",
                "#B0BEC5",
                "#B0BEC5",
                "#B0BEC5",
                "#B0BEC5",
                "#B0BEC5",
                "#B0BEC5",
                "#B0BEC5",
                "#B0BEC5",
                "#B0BEC5",
                "#B0BEC5",
                "#B0BEC5",
                "#B0BEC5",
                "#B0BEC5",
                "#B0BEC5",
                "#B0BEC5",
                "#B0BEC5",
                "#B0BEC5",
                "#B0BEC5",
                "#B0BEC5",
                "#B0BEC5"
               ]
              ]
             }
            ],
            "label": "Topic 34",
            "method": "update"
           },
           {
            "args": [
             {
              "marker.color": [
               [
                "#B0BEC5",
                "#B0BEC5",
                "#B0BEC5",
                "#B0BEC5",
                "#B0BEC5",
                "#B0BEC5",
                "#B0BEC5",
                "#B0BEC5",
                "#B0BEC5",
                "#B0BEC5",
                "#B0BEC5",
                "#B0BEC5",
                "#B0BEC5",
                "#B0BEC5",
                "#B0BEC5",
                "#B0BEC5",
                "#B0BEC5",
                "#B0BEC5",
                "#B0BEC5",
                "#B0BEC5",
                "#B0BEC5",
                "#B0BEC5",
                "#B0BEC5",
                "#B0BEC5",
                "#B0BEC5",
                "#B0BEC5",
                "#B0BEC5",
                "#B0BEC5",
                "#B0BEC5",
                "#B0BEC5",
                "#B0BEC5",
                "#B0BEC5",
                "#B0BEC5",
                "#B0BEC5",
                "#B0BEC5",
                "red",
                "#B0BEC5",
                "#B0BEC5",
                "#B0BEC5",
                "#B0BEC5",
                "#B0BEC5",
                "#B0BEC5",
                "#B0BEC5",
                "#B0BEC5",
                "#B0BEC5",
                "#B0BEC5",
                "#B0BEC5",
                "#B0BEC5",
                "#B0BEC5",
                "#B0BEC5",
                "#B0BEC5",
                "#B0BEC5",
                "#B0BEC5",
                "#B0BEC5",
                "#B0BEC5",
                "#B0BEC5",
                "#B0BEC5",
                "#B0BEC5",
                "#B0BEC5",
                "#B0BEC5",
                "#B0BEC5",
                "#B0BEC5",
                "#B0BEC5",
                "#B0BEC5",
                "#B0BEC5",
                "#B0BEC5",
                "#B0BEC5",
                "#B0BEC5",
                "#B0BEC5",
                "#B0BEC5",
                "#B0BEC5",
                "#B0BEC5",
                "#B0BEC5",
                "#B0BEC5",
                "#B0BEC5",
                "#B0BEC5",
                "#B0BEC5",
                "#B0BEC5",
                "#B0BEC5",
                "#B0BEC5",
                "#B0BEC5",
                "#B0BEC5",
                "#B0BEC5",
                "#B0BEC5"
               ]
              ]
             }
            ],
            "label": "Topic 35",
            "method": "update"
           },
           {
            "args": [
             {
              "marker.color": [
               [
                "#B0BEC5",
                "#B0BEC5",
                "#B0BEC5",
                "#B0BEC5",
                "#B0BEC5",
                "#B0BEC5",
                "#B0BEC5",
                "#B0BEC5",
                "#B0BEC5",
                "#B0BEC5",
                "#B0BEC5",
                "#B0BEC5",
                "#B0BEC5",
                "#B0BEC5",
                "#B0BEC5",
                "#B0BEC5",
                "#B0BEC5",
                "#B0BEC5",
                "#B0BEC5",
                "#B0BEC5",
                "#B0BEC5",
                "#B0BEC5",
                "#B0BEC5",
                "#B0BEC5",
                "#B0BEC5",
                "#B0BEC5",
                "#B0BEC5",
                "#B0BEC5",
                "#B0BEC5",
                "#B0BEC5",
                "#B0BEC5",
                "#B0BEC5",
                "#B0BEC5",
                "#B0BEC5",
                "#B0BEC5",
                "#B0BEC5",
                "red",
                "#B0BEC5",
                "#B0BEC5",
                "#B0BEC5",
                "#B0BEC5",
                "#B0BEC5",
                "#B0BEC5",
                "#B0BEC5",
                "#B0BEC5",
                "#B0BEC5",
                "#B0BEC5",
                "#B0BEC5",
                "#B0BEC5",
                "#B0BEC5",
                "#B0BEC5",
                "#B0BEC5",
                "#B0BEC5",
                "#B0BEC5",
                "#B0BEC5",
                "#B0BEC5",
                "#B0BEC5",
                "#B0BEC5",
                "#B0BEC5",
                "#B0BEC5",
                "#B0BEC5",
                "#B0BEC5",
                "#B0BEC5",
                "#B0BEC5",
                "#B0BEC5",
                "#B0BEC5",
                "#B0BEC5",
                "#B0BEC5",
                "#B0BEC5",
                "#B0BEC5",
                "#B0BEC5",
                "#B0BEC5",
                "#B0BEC5",
                "#B0BEC5",
                "#B0BEC5",
                "#B0BEC5",
                "#B0BEC5",
                "#B0BEC5",
                "#B0BEC5",
                "#B0BEC5",
                "#B0BEC5",
                "#B0BEC5",
                "#B0BEC5",
                "#B0BEC5"
               ]
              ]
             }
            ],
            "label": "Topic 36",
            "method": "update"
           },
           {
            "args": [
             {
              "marker.color": [
               [
                "#B0BEC5",
                "#B0BEC5",
                "#B0BEC5",
                "#B0BEC5",
                "#B0BEC5",
                "#B0BEC5",
                "#B0BEC5",
                "#B0BEC5",
                "#B0BEC5",
                "#B0BEC5",
                "#B0BEC5",
                "#B0BEC5",
                "#B0BEC5",
                "#B0BEC5",
                "#B0BEC5",
                "#B0BEC5",
                "#B0BEC5",
                "#B0BEC5",
                "#B0BEC5",
                "#B0BEC5",
                "#B0BEC5",
                "#B0BEC5",
                "#B0BEC5",
                "#B0BEC5",
                "#B0BEC5",
                "#B0BEC5",
                "#B0BEC5",
                "#B0BEC5",
                "#B0BEC5",
                "#B0BEC5",
                "#B0BEC5",
                "#B0BEC5",
                "#B0BEC5",
                "#B0BEC5",
                "#B0BEC5",
                "#B0BEC5",
                "#B0BEC5",
                "red",
                "#B0BEC5",
                "#B0BEC5",
                "#B0BEC5",
                "#B0BEC5",
                "#B0BEC5",
                "#B0BEC5",
                "#B0BEC5",
                "#B0BEC5",
                "#B0BEC5",
                "#B0BEC5",
                "#B0BEC5",
                "#B0BEC5",
                "#B0BEC5",
                "#B0BEC5",
                "#B0BEC5",
                "#B0BEC5",
                "#B0BEC5",
                "#B0BEC5",
                "#B0BEC5",
                "#B0BEC5",
                "#B0BEC5",
                "#B0BEC5",
                "#B0BEC5",
                "#B0BEC5",
                "#B0BEC5",
                "#B0BEC5",
                "#B0BEC5",
                "#B0BEC5",
                "#B0BEC5",
                "#B0BEC5",
                "#B0BEC5",
                "#B0BEC5",
                "#B0BEC5",
                "#B0BEC5",
                "#B0BEC5",
                "#B0BEC5",
                "#B0BEC5",
                "#B0BEC5",
                "#B0BEC5",
                "#B0BEC5",
                "#B0BEC5",
                "#B0BEC5",
                "#B0BEC5",
                "#B0BEC5",
                "#B0BEC5",
                "#B0BEC5"
               ]
              ]
             }
            ],
            "label": "Topic 37",
            "method": "update"
           },
           {
            "args": [
             {
              "marker.color": [
               [
                "#B0BEC5",
                "#B0BEC5",
                "#B0BEC5",
                "#B0BEC5",
                "#B0BEC5",
                "#B0BEC5",
                "#B0BEC5",
                "#B0BEC5",
                "#B0BEC5",
                "#B0BEC5",
                "#B0BEC5",
                "#B0BEC5",
                "#B0BEC5",
                "#B0BEC5",
                "#B0BEC5",
                "#B0BEC5",
                "#B0BEC5",
                "#B0BEC5",
                "#B0BEC5",
                "#B0BEC5",
                "#B0BEC5",
                "#B0BEC5",
                "#B0BEC5",
                "#B0BEC5",
                "#B0BEC5",
                "#B0BEC5",
                "#B0BEC5",
                "#B0BEC5",
                "#B0BEC5",
                "#B0BEC5",
                "#B0BEC5",
                "#B0BEC5",
                "#B0BEC5",
                "#B0BEC5",
                "#B0BEC5",
                "#B0BEC5",
                "#B0BEC5",
                "#B0BEC5",
                "red",
                "#B0BEC5",
                "#B0BEC5",
                "#B0BEC5",
                "#B0BEC5",
                "#B0BEC5",
                "#B0BEC5",
                "#B0BEC5",
                "#B0BEC5",
                "#B0BEC5",
                "#B0BEC5",
                "#B0BEC5",
                "#B0BEC5",
                "#B0BEC5",
                "#B0BEC5",
                "#B0BEC5",
                "#B0BEC5",
                "#B0BEC5",
                "#B0BEC5",
                "#B0BEC5",
                "#B0BEC5",
                "#B0BEC5",
                "#B0BEC5",
                "#B0BEC5",
                "#B0BEC5",
                "#B0BEC5",
                "#B0BEC5",
                "#B0BEC5",
                "#B0BEC5",
                "#B0BEC5",
                "#B0BEC5",
                "#B0BEC5",
                "#B0BEC5",
                "#B0BEC5",
                "#B0BEC5",
                "#B0BEC5",
                "#B0BEC5",
                "#B0BEC5",
                "#B0BEC5",
                "#B0BEC5",
                "#B0BEC5",
                "#B0BEC5",
                "#B0BEC5",
                "#B0BEC5",
                "#B0BEC5",
                "#B0BEC5"
               ]
              ]
             }
            ],
            "label": "Topic 38",
            "method": "update"
           },
           {
            "args": [
             {
              "marker.color": [
               [
                "#B0BEC5",
                "#B0BEC5",
                "#B0BEC5",
                "#B0BEC5",
                "#B0BEC5",
                "#B0BEC5",
                "#B0BEC5",
                "#B0BEC5",
                "#B0BEC5",
                "#B0BEC5",
                "#B0BEC5",
                "#B0BEC5",
                "#B0BEC5",
                "#B0BEC5",
                "#B0BEC5",
                "#B0BEC5",
                "#B0BEC5",
                "#B0BEC5",
                "#B0BEC5",
                "#B0BEC5",
                "#B0BEC5",
                "#B0BEC5",
                "#B0BEC5",
                "#B0BEC5",
                "#B0BEC5",
                "#B0BEC5",
                "#B0BEC5",
                "#B0BEC5",
                "#B0BEC5",
                "#B0BEC5",
                "#B0BEC5",
                "#B0BEC5",
                "#B0BEC5",
                "#B0BEC5",
                "#B0BEC5",
                "#B0BEC5",
                "#B0BEC5",
                "#B0BEC5",
                "#B0BEC5",
                "red",
                "#B0BEC5",
                "#B0BEC5",
                "#B0BEC5",
                "#B0BEC5",
                "#B0BEC5",
                "#B0BEC5",
                "#B0BEC5",
                "#B0BEC5",
                "#B0BEC5",
                "#B0BEC5",
                "#B0BEC5",
                "#B0BEC5",
                "#B0BEC5",
                "#B0BEC5",
                "#B0BEC5",
                "#B0BEC5",
                "#B0BEC5",
                "#B0BEC5",
                "#B0BEC5",
                "#B0BEC5",
                "#B0BEC5",
                "#B0BEC5",
                "#B0BEC5",
                "#B0BEC5",
                "#B0BEC5",
                "#B0BEC5",
                "#B0BEC5",
                "#B0BEC5",
                "#B0BEC5",
                "#B0BEC5",
                "#B0BEC5",
                "#B0BEC5",
                "#B0BEC5",
                "#B0BEC5",
                "#B0BEC5",
                "#B0BEC5",
                "#B0BEC5",
                "#B0BEC5",
                "#B0BEC5",
                "#B0BEC5",
                "#B0BEC5",
                "#B0BEC5",
                "#B0BEC5",
                "#B0BEC5"
               ]
              ]
             }
            ],
            "label": "Topic 39",
            "method": "update"
           },
           {
            "args": [
             {
              "marker.color": [
               [
                "#B0BEC5",
                "#B0BEC5",
                "#B0BEC5",
                "#B0BEC5",
                "#B0BEC5",
                "#B0BEC5",
                "#B0BEC5",
                "#B0BEC5",
                "#B0BEC5",
                "#B0BEC5",
                "#B0BEC5",
                "#B0BEC5",
                "#B0BEC5",
                "#B0BEC5",
                "#B0BEC5",
                "#B0BEC5",
                "#B0BEC5",
                "#B0BEC5",
                "#B0BEC5",
                "#B0BEC5",
                "#B0BEC5",
                "#B0BEC5",
                "#B0BEC5",
                "#B0BEC5",
                "#B0BEC5",
                "#B0BEC5",
                "#B0BEC5",
                "#B0BEC5",
                "#B0BEC5",
                "#B0BEC5",
                "#B0BEC5",
                "#B0BEC5",
                "#B0BEC5",
                "#B0BEC5",
                "#B0BEC5",
                "#B0BEC5",
                "#B0BEC5",
                "#B0BEC5",
                "#B0BEC5",
                "#B0BEC5",
                "red",
                "#B0BEC5",
                "#B0BEC5",
                "#B0BEC5",
                "#B0BEC5",
                "#B0BEC5",
                "#B0BEC5",
                "#B0BEC5",
                "#B0BEC5",
                "#B0BEC5",
                "#B0BEC5",
                "#B0BEC5",
                "#B0BEC5",
                "#B0BEC5",
                "#B0BEC5",
                "#B0BEC5",
                "#B0BEC5",
                "#B0BEC5",
                "#B0BEC5",
                "#B0BEC5",
                "#B0BEC5",
                "#B0BEC5",
                "#B0BEC5",
                "#B0BEC5",
                "#B0BEC5",
                "#B0BEC5",
                "#B0BEC5",
                "#B0BEC5",
                "#B0BEC5",
                "#B0BEC5",
                "#B0BEC5",
                "#B0BEC5",
                "#B0BEC5",
                "#B0BEC5",
                "#B0BEC5",
                "#B0BEC5",
                "#B0BEC5",
                "#B0BEC5",
                "#B0BEC5",
                "#B0BEC5",
                "#B0BEC5",
                "#B0BEC5",
                "#B0BEC5",
                "#B0BEC5"
               ]
              ]
             }
            ],
            "label": "Topic 40",
            "method": "update"
           },
           {
            "args": [
             {
              "marker.color": [
               [
                "#B0BEC5",
                "#B0BEC5",
                "#B0BEC5",
                "#B0BEC5",
                "#B0BEC5",
                "#B0BEC5",
                "#B0BEC5",
                "#B0BEC5",
                "#B0BEC5",
                "#B0BEC5",
                "#B0BEC5",
                "#B0BEC5",
                "#B0BEC5",
                "#B0BEC5",
                "#B0BEC5",
                "#B0BEC5",
                "#B0BEC5",
                "#B0BEC5",
                "#B0BEC5",
                "#B0BEC5",
                "#B0BEC5",
                "#B0BEC5",
                "#B0BEC5",
                "#B0BEC5",
                "#B0BEC5",
                "#B0BEC5",
                "#B0BEC5",
                "#B0BEC5",
                "#B0BEC5",
                "#B0BEC5",
                "#B0BEC5",
                "#B0BEC5",
                "#B0BEC5",
                "#B0BEC5",
                "#B0BEC5",
                "#B0BEC5",
                "#B0BEC5",
                "#B0BEC5",
                "#B0BEC5",
                "#B0BEC5",
                "#B0BEC5",
                "red",
                "#B0BEC5",
                "#B0BEC5",
                "#B0BEC5",
                "#B0BEC5",
                "#B0BEC5",
                "#B0BEC5",
                "#B0BEC5",
                "#B0BEC5",
                "#B0BEC5",
                "#B0BEC5",
                "#B0BEC5",
                "#B0BEC5",
                "#B0BEC5",
                "#B0BEC5",
                "#B0BEC5",
                "#B0BEC5",
                "#B0BEC5",
                "#B0BEC5",
                "#B0BEC5",
                "#B0BEC5",
                "#B0BEC5",
                "#B0BEC5",
                "#B0BEC5",
                "#B0BEC5",
                "#B0BEC5",
                "#B0BEC5",
                "#B0BEC5",
                "#B0BEC5",
                "#B0BEC5",
                "#B0BEC5",
                "#B0BEC5",
                "#B0BEC5",
                "#B0BEC5",
                "#B0BEC5",
                "#B0BEC5",
                "#B0BEC5",
                "#B0BEC5",
                "#B0BEC5",
                "#B0BEC5",
                "#B0BEC5",
                "#B0BEC5",
                "#B0BEC5"
               ]
              ]
             }
            ],
            "label": "Topic 41",
            "method": "update"
           },
           {
            "args": [
             {
              "marker.color": [
               [
                "#B0BEC5",
                "#B0BEC5",
                "#B0BEC5",
                "#B0BEC5",
                "#B0BEC5",
                "#B0BEC5",
                "#B0BEC5",
                "#B0BEC5",
                "#B0BEC5",
                "#B0BEC5",
                "#B0BEC5",
                "#B0BEC5",
                "#B0BEC5",
                "#B0BEC5",
                "#B0BEC5",
                "#B0BEC5",
                "#B0BEC5",
                "#B0BEC5",
                "#B0BEC5",
                "#B0BEC5",
                "#B0BEC5",
                "#B0BEC5",
                "#B0BEC5",
                "#B0BEC5",
                "#B0BEC5",
                "#B0BEC5",
                "#B0BEC5",
                "#B0BEC5",
                "#B0BEC5",
                "#B0BEC5",
                "#B0BEC5",
                "#B0BEC5",
                "#B0BEC5",
                "#B0BEC5",
                "#B0BEC5",
                "#B0BEC5",
                "#B0BEC5",
                "#B0BEC5",
                "#B0BEC5",
                "#B0BEC5",
                "#B0BEC5",
                "#B0BEC5",
                "red",
                "#B0BEC5",
                "#B0BEC5",
                "#B0BEC5",
                "#B0BEC5",
                "#B0BEC5",
                "#B0BEC5",
                "#B0BEC5",
                "#B0BEC5",
                "#B0BEC5",
                "#B0BEC5",
                "#B0BEC5",
                "#B0BEC5",
                "#B0BEC5",
                "#B0BEC5",
                "#B0BEC5",
                "#B0BEC5",
                "#B0BEC5",
                "#B0BEC5",
                "#B0BEC5",
                "#B0BEC5",
                "#B0BEC5",
                "#B0BEC5",
                "#B0BEC5",
                "#B0BEC5",
                "#B0BEC5",
                "#B0BEC5",
                "#B0BEC5",
                "#B0BEC5",
                "#B0BEC5",
                "#B0BEC5",
                "#B0BEC5",
                "#B0BEC5",
                "#B0BEC5",
                "#B0BEC5",
                "#B0BEC5",
                "#B0BEC5",
                "#B0BEC5",
                "#B0BEC5",
                "#B0BEC5",
                "#B0BEC5",
                "#B0BEC5"
               ]
              ]
             }
            ],
            "label": "Topic 42",
            "method": "update"
           },
           {
            "args": [
             {
              "marker.color": [
               [
                "#B0BEC5",
                "#B0BEC5",
                "#B0BEC5",
                "#B0BEC5",
                "#B0BEC5",
                "#B0BEC5",
                "#B0BEC5",
                "#B0BEC5",
                "#B0BEC5",
                "#B0BEC5",
                "#B0BEC5",
                "#B0BEC5",
                "#B0BEC5",
                "#B0BEC5",
                "#B0BEC5",
                "#B0BEC5",
                "#B0BEC5",
                "#B0BEC5",
                "#B0BEC5",
                "#B0BEC5",
                "#B0BEC5",
                "#B0BEC5",
                "#B0BEC5",
                "#B0BEC5",
                "#B0BEC5",
                "#B0BEC5",
                "#B0BEC5",
                "#B0BEC5",
                "#B0BEC5",
                "#B0BEC5",
                "#B0BEC5",
                "#B0BEC5",
                "#B0BEC5",
                "#B0BEC5",
                "#B0BEC5",
                "#B0BEC5",
                "#B0BEC5",
                "#B0BEC5",
                "#B0BEC5",
                "#B0BEC5",
                "#B0BEC5",
                "#B0BEC5",
                "#B0BEC5",
                "red",
                "#B0BEC5",
                "#B0BEC5",
                "#B0BEC5",
                "#B0BEC5",
                "#B0BEC5",
                "#B0BEC5",
                "#B0BEC5",
                "#B0BEC5",
                "#B0BEC5",
                "#B0BEC5",
                "#B0BEC5",
                "#B0BEC5",
                "#B0BEC5",
                "#B0BEC5",
                "#B0BEC5",
                "#B0BEC5",
                "#B0BEC5",
                "#B0BEC5",
                "#B0BEC5",
                "#B0BEC5",
                "#B0BEC5",
                "#B0BEC5",
                "#B0BEC5",
                "#B0BEC5",
                "#B0BEC5",
                "#B0BEC5",
                "#B0BEC5",
                "#B0BEC5",
                "#B0BEC5",
                "#B0BEC5",
                "#B0BEC5",
                "#B0BEC5",
                "#B0BEC5",
                "#B0BEC5",
                "#B0BEC5",
                "#B0BEC5",
                "#B0BEC5",
                "#B0BEC5",
                "#B0BEC5",
                "#B0BEC5"
               ]
              ]
             }
            ],
            "label": "Topic 43",
            "method": "update"
           },
           {
            "args": [
             {
              "marker.color": [
               [
                "#B0BEC5",
                "#B0BEC5",
                "#B0BEC5",
                "#B0BEC5",
                "#B0BEC5",
                "#B0BEC5",
                "#B0BEC5",
                "#B0BEC5",
                "#B0BEC5",
                "#B0BEC5",
                "#B0BEC5",
                "#B0BEC5",
                "#B0BEC5",
                "#B0BEC5",
                "#B0BEC5",
                "#B0BEC5",
                "#B0BEC5",
                "#B0BEC5",
                "#B0BEC5",
                "#B0BEC5",
                "#B0BEC5",
                "#B0BEC5",
                "#B0BEC5",
                "#B0BEC5",
                "#B0BEC5",
                "#B0BEC5",
                "#B0BEC5",
                "#B0BEC5",
                "#B0BEC5",
                "#B0BEC5",
                "#B0BEC5",
                "#B0BEC5",
                "#B0BEC5",
                "#B0BEC5",
                "#B0BEC5",
                "#B0BEC5",
                "#B0BEC5",
                "#B0BEC5",
                "#B0BEC5",
                "#B0BEC5",
                "#B0BEC5",
                "#B0BEC5",
                "#B0BEC5",
                "#B0BEC5",
                "red",
                "#B0BEC5",
                "#B0BEC5",
                "#B0BEC5",
                "#B0BEC5",
                "#B0BEC5",
                "#B0BEC5",
                "#B0BEC5",
                "#B0BEC5",
                "#B0BEC5",
                "#B0BEC5",
                "#B0BEC5",
                "#B0BEC5",
                "#B0BEC5",
                "#B0BEC5",
                "#B0BEC5",
                "#B0BEC5",
                "#B0BEC5",
                "#B0BEC5",
                "#B0BEC5",
                "#B0BEC5",
                "#B0BEC5",
                "#B0BEC5",
                "#B0BEC5",
                "#B0BEC5",
                "#B0BEC5",
                "#B0BEC5",
                "#B0BEC5",
                "#B0BEC5",
                "#B0BEC5",
                "#B0BEC5",
                "#B0BEC5",
                "#B0BEC5",
                "#B0BEC5",
                "#B0BEC5",
                "#B0BEC5",
                "#B0BEC5",
                "#B0BEC5",
                "#B0BEC5",
                "#B0BEC5"
               ]
              ]
             }
            ],
            "label": "Topic 44",
            "method": "update"
           },
           {
            "args": [
             {
              "marker.color": [
               [
                "#B0BEC5",
                "#B0BEC5",
                "#B0BEC5",
                "#B0BEC5",
                "#B0BEC5",
                "#B0BEC5",
                "#B0BEC5",
                "#B0BEC5",
                "#B0BEC5",
                "#B0BEC5",
                "#B0BEC5",
                "#B0BEC5",
                "#B0BEC5",
                "#B0BEC5",
                "#B0BEC5",
                "#B0BEC5",
                "#B0BEC5",
                "#B0BEC5",
                "#B0BEC5",
                "#B0BEC5",
                "#B0BEC5",
                "#B0BEC5",
                "#B0BEC5",
                "#B0BEC5",
                "#B0BEC5",
                "#B0BEC5",
                "#B0BEC5",
                "#B0BEC5",
                "#B0BEC5",
                "#B0BEC5",
                "#B0BEC5",
                "#B0BEC5",
                "#B0BEC5",
                "#B0BEC5",
                "#B0BEC5",
                "#B0BEC5",
                "#B0BEC5",
                "#B0BEC5",
                "#B0BEC5",
                "#B0BEC5",
                "#B0BEC5",
                "#B0BEC5",
                "#B0BEC5",
                "#B0BEC5",
                "#B0BEC5",
                "red",
                "#B0BEC5",
                "#B0BEC5",
                "#B0BEC5",
                "#B0BEC5",
                "#B0BEC5",
                "#B0BEC5",
                "#B0BEC5",
                "#B0BEC5",
                "#B0BEC5",
                "#B0BEC5",
                "#B0BEC5",
                "#B0BEC5",
                "#B0BEC5",
                "#B0BEC5",
                "#B0BEC5",
                "#B0BEC5",
                "#B0BEC5",
                "#B0BEC5",
                "#B0BEC5",
                "#B0BEC5",
                "#B0BEC5",
                "#B0BEC5",
                "#B0BEC5",
                "#B0BEC5",
                "#B0BEC5",
                "#B0BEC5",
                "#B0BEC5",
                "#B0BEC5",
                "#B0BEC5",
                "#B0BEC5",
                "#B0BEC5",
                "#B0BEC5",
                "#B0BEC5",
                "#B0BEC5",
                "#B0BEC5",
                "#B0BEC5",
                "#B0BEC5",
                "#B0BEC5"
               ]
              ]
             }
            ],
            "label": "Topic 45",
            "method": "update"
           },
           {
            "args": [
             {
              "marker.color": [
               [
                "#B0BEC5",
                "#B0BEC5",
                "#B0BEC5",
                "#B0BEC5",
                "#B0BEC5",
                "#B0BEC5",
                "#B0BEC5",
                "#B0BEC5",
                "#B0BEC5",
                "#B0BEC5",
                "#B0BEC5",
                "#B0BEC5",
                "#B0BEC5",
                "#B0BEC5",
                "#B0BEC5",
                "#B0BEC5",
                "#B0BEC5",
                "#B0BEC5",
                "#B0BEC5",
                "#B0BEC5",
                "#B0BEC5",
                "#B0BEC5",
                "#B0BEC5",
                "#B0BEC5",
                "#B0BEC5",
                "#B0BEC5",
                "#B0BEC5",
                "#B0BEC5",
                "#B0BEC5",
                "#B0BEC5",
                "#B0BEC5",
                "#B0BEC5",
                "#B0BEC5",
                "#B0BEC5",
                "#B0BEC5",
                "#B0BEC5",
                "#B0BEC5",
                "#B0BEC5",
                "#B0BEC5",
                "#B0BEC5",
                "#B0BEC5",
                "#B0BEC5",
                "#B0BEC5",
                "#B0BEC5",
                "#B0BEC5",
                "#B0BEC5",
                "red",
                "#B0BEC5",
                "#B0BEC5",
                "#B0BEC5",
                "#B0BEC5",
                "#B0BEC5",
                "#B0BEC5",
                "#B0BEC5",
                "#B0BEC5",
                "#B0BEC5",
                "#B0BEC5",
                "#B0BEC5",
                "#B0BEC5",
                "#B0BEC5",
                "#B0BEC5",
                "#B0BEC5",
                "#B0BEC5",
                "#B0BEC5",
                "#B0BEC5",
                "#B0BEC5",
                "#B0BEC5",
                "#B0BEC5",
                "#B0BEC5",
                "#B0BEC5",
                "#B0BEC5",
                "#B0BEC5",
                "#B0BEC5",
                "#B0BEC5",
                "#B0BEC5",
                "#B0BEC5",
                "#B0BEC5",
                "#B0BEC5",
                "#B0BEC5",
                "#B0BEC5",
                "#B0BEC5",
                "#B0BEC5",
                "#B0BEC5",
                "#B0BEC5"
               ]
              ]
             }
            ],
            "label": "Topic 46",
            "method": "update"
           },
           {
            "args": [
             {
              "marker.color": [
               [
                "#B0BEC5",
                "#B0BEC5",
                "#B0BEC5",
                "#B0BEC5",
                "#B0BEC5",
                "#B0BEC5",
                "#B0BEC5",
                "#B0BEC5",
                "#B0BEC5",
                "#B0BEC5",
                "#B0BEC5",
                "#B0BEC5",
                "#B0BEC5",
                "#B0BEC5",
                "#B0BEC5",
                "#B0BEC5",
                "#B0BEC5",
                "#B0BEC5",
                "#B0BEC5",
                "#B0BEC5",
                "#B0BEC5",
                "#B0BEC5",
                "#B0BEC5",
                "#B0BEC5",
                "#B0BEC5",
                "#B0BEC5",
                "#B0BEC5",
                "#B0BEC5",
                "#B0BEC5",
                "#B0BEC5",
                "#B0BEC5",
                "#B0BEC5",
                "#B0BEC5",
                "#B0BEC5",
                "#B0BEC5",
                "#B0BEC5",
                "#B0BEC5",
                "#B0BEC5",
                "#B0BEC5",
                "#B0BEC5",
                "#B0BEC5",
                "#B0BEC5",
                "#B0BEC5",
                "#B0BEC5",
                "#B0BEC5",
                "#B0BEC5",
                "#B0BEC5",
                "red",
                "#B0BEC5",
                "#B0BEC5",
                "#B0BEC5",
                "#B0BEC5",
                "#B0BEC5",
                "#B0BEC5",
                "#B0BEC5",
                "#B0BEC5",
                "#B0BEC5",
                "#B0BEC5",
                "#B0BEC5",
                "#B0BEC5",
                "#B0BEC5",
                "#B0BEC5",
                "#B0BEC5",
                "#B0BEC5",
                "#B0BEC5",
                "#B0BEC5",
                "#B0BEC5",
                "#B0BEC5",
                "#B0BEC5",
                "#B0BEC5",
                "#B0BEC5",
                "#B0BEC5",
                "#B0BEC5",
                "#B0BEC5",
                "#B0BEC5",
                "#B0BEC5",
                "#B0BEC5",
                "#B0BEC5",
                "#B0BEC5",
                "#B0BEC5",
                "#B0BEC5",
                "#B0BEC5",
                "#B0BEC5",
                "#B0BEC5"
               ]
              ]
             }
            ],
            "label": "Topic 47",
            "method": "update"
           },
           {
            "args": [
             {
              "marker.color": [
               [
                "#B0BEC5",
                "#B0BEC5",
                "#B0BEC5",
                "#B0BEC5",
                "#B0BEC5",
                "#B0BEC5",
                "#B0BEC5",
                "#B0BEC5",
                "#B0BEC5",
                "#B0BEC5",
                "#B0BEC5",
                "#B0BEC5",
                "#B0BEC5",
                "#B0BEC5",
                "#B0BEC5",
                "#B0BEC5",
                "#B0BEC5",
                "#B0BEC5",
                "#B0BEC5",
                "#B0BEC5",
                "#B0BEC5",
                "#B0BEC5",
                "#B0BEC5",
                "#B0BEC5",
                "#B0BEC5",
                "#B0BEC5",
                "#B0BEC5",
                "#B0BEC5",
                "#B0BEC5",
                "#B0BEC5",
                "#B0BEC5",
                "#B0BEC5",
                "#B0BEC5",
                "#B0BEC5",
                "#B0BEC5",
                "#B0BEC5",
                "#B0BEC5",
                "#B0BEC5",
                "#B0BEC5",
                "#B0BEC5",
                "#B0BEC5",
                "#B0BEC5",
                "#B0BEC5",
                "#B0BEC5",
                "#B0BEC5",
                "#B0BEC5",
                "#B0BEC5",
                "#B0BEC5",
                "red",
                "#B0BEC5",
                "#B0BEC5",
                "#B0BEC5",
                "#B0BEC5",
                "#B0BEC5",
                "#B0BEC5",
                "#B0BEC5",
                "#B0BEC5",
                "#B0BEC5",
                "#B0BEC5",
                "#B0BEC5",
                "#B0BEC5",
                "#B0BEC5",
                "#B0BEC5",
                "#B0BEC5",
                "#B0BEC5",
                "#B0BEC5",
                "#B0BEC5",
                "#B0BEC5",
                "#B0BEC5",
                "#B0BEC5",
                "#B0BEC5",
                "#B0BEC5",
                "#B0BEC5",
                "#B0BEC5",
                "#B0BEC5",
                "#B0BEC5",
                "#B0BEC5",
                "#B0BEC5",
                "#B0BEC5",
                "#B0BEC5",
                "#B0BEC5",
                "#B0BEC5",
                "#B0BEC5",
                "#B0BEC5"
               ]
              ]
             }
            ],
            "label": "Topic 48",
            "method": "update"
           },
           {
            "args": [
             {
              "marker.color": [
               [
                "#B0BEC5",
                "#B0BEC5",
                "#B0BEC5",
                "#B0BEC5",
                "#B0BEC5",
                "#B0BEC5",
                "#B0BEC5",
                "#B0BEC5",
                "#B0BEC5",
                "#B0BEC5",
                "#B0BEC5",
                "#B0BEC5",
                "#B0BEC5",
                "#B0BEC5",
                "#B0BEC5",
                "#B0BEC5",
                "#B0BEC5",
                "#B0BEC5",
                "#B0BEC5",
                "#B0BEC5",
                "#B0BEC5",
                "#B0BEC5",
                "#B0BEC5",
                "#B0BEC5",
                "#B0BEC5",
                "#B0BEC5",
                "#B0BEC5",
                "#B0BEC5",
                "#B0BEC5",
                "#B0BEC5",
                "#B0BEC5",
                "#B0BEC5",
                "#B0BEC5",
                "#B0BEC5",
                "#B0BEC5",
                "#B0BEC5",
                "#B0BEC5",
                "#B0BEC5",
                "#B0BEC5",
                "#B0BEC5",
                "#B0BEC5",
                "#B0BEC5",
                "#B0BEC5",
                "#B0BEC5",
                "#B0BEC5",
                "#B0BEC5",
                "#B0BEC5",
                "#B0BEC5",
                "#B0BEC5",
                "red",
                "#B0BEC5",
                "#B0BEC5",
                "#B0BEC5",
                "#B0BEC5",
                "#B0BEC5",
                "#B0BEC5",
                "#B0BEC5",
                "#B0BEC5",
                "#B0BEC5",
                "#B0BEC5",
                "#B0BEC5",
                "#B0BEC5",
                "#B0BEC5",
                "#B0BEC5",
                "#B0BEC5",
                "#B0BEC5",
                "#B0BEC5",
                "#B0BEC5",
                "#B0BEC5",
                "#B0BEC5",
                "#B0BEC5",
                "#B0BEC5",
                "#B0BEC5",
                "#B0BEC5",
                "#B0BEC5",
                "#B0BEC5",
                "#B0BEC5",
                "#B0BEC5",
                "#B0BEC5",
                "#B0BEC5",
                "#B0BEC5",
                "#B0BEC5",
                "#B0BEC5",
                "#B0BEC5"
               ]
              ]
             }
            ],
            "label": "Topic 49",
            "method": "update"
           },
           {
            "args": [
             {
              "marker.color": [
               [
                "#B0BEC5",
                "#B0BEC5",
                "#B0BEC5",
                "#B0BEC5",
                "#B0BEC5",
                "#B0BEC5",
                "#B0BEC5",
                "#B0BEC5",
                "#B0BEC5",
                "#B0BEC5",
                "#B0BEC5",
                "#B0BEC5",
                "#B0BEC5",
                "#B0BEC5",
                "#B0BEC5",
                "#B0BEC5",
                "#B0BEC5",
                "#B0BEC5",
                "#B0BEC5",
                "#B0BEC5",
                "#B0BEC5",
                "#B0BEC5",
                "#B0BEC5",
                "#B0BEC5",
                "#B0BEC5",
                "#B0BEC5",
                "#B0BEC5",
                "#B0BEC5",
                "#B0BEC5",
                "#B0BEC5",
                "#B0BEC5",
                "#B0BEC5",
                "#B0BEC5",
                "#B0BEC5",
                "#B0BEC5",
                "#B0BEC5",
                "#B0BEC5",
                "#B0BEC5",
                "#B0BEC5",
                "#B0BEC5",
                "#B0BEC5",
                "#B0BEC5",
                "#B0BEC5",
                "#B0BEC5",
                "#B0BEC5",
                "#B0BEC5",
                "#B0BEC5",
                "#B0BEC5",
                "#B0BEC5",
                "#B0BEC5",
                "red",
                "#B0BEC5",
                "#B0BEC5",
                "#B0BEC5",
                "#B0BEC5",
                "#B0BEC5",
                "#B0BEC5",
                "#B0BEC5",
                "#B0BEC5",
                "#B0BEC5",
                "#B0BEC5",
                "#B0BEC5",
                "#B0BEC5",
                "#B0BEC5",
                "#B0BEC5",
                "#B0BEC5",
                "#B0BEC5",
                "#B0BEC5",
                "#B0BEC5",
                "#B0BEC5",
                "#B0BEC5",
                "#B0BEC5",
                "#B0BEC5",
                "#B0BEC5",
                "#B0BEC5",
                "#B0BEC5",
                "#B0BEC5",
                "#B0BEC5",
                "#B0BEC5",
                "#B0BEC5",
                "#B0BEC5",
                "#B0BEC5",
                "#B0BEC5",
                "#B0BEC5"
               ]
              ]
             }
            ],
            "label": "Topic 50",
            "method": "update"
           },
           {
            "args": [
             {
              "marker.color": [
               [
                "#B0BEC5",
                "#B0BEC5",
                "#B0BEC5",
                "#B0BEC5",
                "#B0BEC5",
                "#B0BEC5",
                "#B0BEC5",
                "#B0BEC5",
                "#B0BEC5",
                "#B0BEC5",
                "#B0BEC5",
                "#B0BEC5",
                "#B0BEC5",
                "#B0BEC5",
                "#B0BEC5",
                "#B0BEC5",
                "#B0BEC5",
                "#B0BEC5",
                "#B0BEC5",
                "#B0BEC5",
                "#B0BEC5",
                "#B0BEC5",
                "#B0BEC5",
                "#B0BEC5",
                "#B0BEC5",
                "#B0BEC5",
                "#B0BEC5",
                "#B0BEC5",
                "#B0BEC5",
                "#B0BEC5",
                "#B0BEC5",
                "#B0BEC5",
                "#B0BEC5",
                "#B0BEC5",
                "#B0BEC5",
                "#B0BEC5",
                "#B0BEC5",
                "#B0BEC5",
                "#B0BEC5",
                "#B0BEC5",
                "#B0BEC5",
                "#B0BEC5",
                "#B0BEC5",
                "#B0BEC5",
                "#B0BEC5",
                "#B0BEC5",
                "#B0BEC5",
                "#B0BEC5",
                "#B0BEC5",
                "#B0BEC5",
                "#B0BEC5",
                "red",
                "#B0BEC5",
                "#B0BEC5",
                "#B0BEC5",
                "#B0BEC5",
                "#B0BEC5",
                "#B0BEC5",
                "#B0BEC5",
                "#B0BEC5",
                "#B0BEC5",
                "#B0BEC5",
                "#B0BEC5",
                "#B0BEC5",
                "#B0BEC5",
                "#B0BEC5",
                "#B0BEC5",
                "#B0BEC5",
                "#B0BEC5",
                "#B0BEC5",
                "#B0BEC5",
                "#B0BEC5",
                "#B0BEC5",
                "#B0BEC5",
                "#B0BEC5",
                "#B0BEC5",
                "#B0BEC5",
                "#B0BEC5",
                "#B0BEC5",
                "#B0BEC5",
                "#B0BEC5",
                "#B0BEC5",
                "#B0BEC5",
                "#B0BEC5"
               ]
              ]
             }
            ],
            "label": "Topic 51",
            "method": "update"
           },
           {
            "args": [
             {
              "marker.color": [
               [
                "#B0BEC5",
                "#B0BEC5",
                "#B0BEC5",
                "#B0BEC5",
                "#B0BEC5",
                "#B0BEC5",
                "#B0BEC5",
                "#B0BEC5",
                "#B0BEC5",
                "#B0BEC5",
                "#B0BEC5",
                "#B0BEC5",
                "#B0BEC5",
                "#B0BEC5",
                "#B0BEC5",
                "#B0BEC5",
                "#B0BEC5",
                "#B0BEC5",
                "#B0BEC5",
                "#B0BEC5",
                "#B0BEC5",
                "#B0BEC5",
                "#B0BEC5",
                "#B0BEC5",
                "#B0BEC5",
                "#B0BEC5",
                "#B0BEC5",
                "#B0BEC5",
                "#B0BEC5",
                "#B0BEC5",
                "#B0BEC5",
                "#B0BEC5",
                "#B0BEC5",
                "#B0BEC5",
                "#B0BEC5",
                "#B0BEC5",
                "#B0BEC5",
                "#B0BEC5",
                "#B0BEC5",
                "#B0BEC5",
                "#B0BEC5",
                "#B0BEC5",
                "#B0BEC5",
                "#B0BEC5",
                "#B0BEC5",
                "#B0BEC5",
                "#B0BEC5",
                "#B0BEC5",
                "#B0BEC5",
                "#B0BEC5",
                "#B0BEC5",
                "#B0BEC5",
                "red",
                "#B0BEC5",
                "#B0BEC5",
                "#B0BEC5",
                "#B0BEC5",
                "#B0BEC5",
                "#B0BEC5",
                "#B0BEC5",
                "#B0BEC5",
                "#B0BEC5",
                "#B0BEC5",
                "#B0BEC5",
                "#B0BEC5",
                "#B0BEC5",
                "#B0BEC5",
                "#B0BEC5",
                "#B0BEC5",
                "#B0BEC5",
                "#B0BEC5",
                "#B0BEC5",
                "#B0BEC5",
                "#B0BEC5",
                "#B0BEC5",
                "#B0BEC5",
                "#B0BEC5",
                "#B0BEC5",
                "#B0BEC5",
                "#B0BEC5",
                "#B0BEC5",
                "#B0BEC5",
                "#B0BEC5",
                "#B0BEC5"
               ]
              ]
             }
            ],
            "label": "Topic 52",
            "method": "update"
           },
           {
            "args": [
             {
              "marker.color": [
               [
                "#B0BEC5",
                "#B0BEC5",
                "#B0BEC5",
                "#B0BEC5",
                "#B0BEC5",
                "#B0BEC5",
                "#B0BEC5",
                "#B0BEC5",
                "#B0BEC5",
                "#B0BEC5",
                "#B0BEC5",
                "#B0BEC5",
                "#B0BEC5",
                "#B0BEC5",
                "#B0BEC5",
                "#B0BEC5",
                "#B0BEC5",
                "#B0BEC5",
                "#B0BEC5",
                "#B0BEC5",
                "#B0BEC5",
                "#B0BEC5",
                "#B0BEC5",
                "#B0BEC5",
                "#B0BEC5",
                "#B0BEC5",
                "#B0BEC5",
                "#B0BEC5",
                "#B0BEC5",
                "#B0BEC5",
                "#B0BEC5",
                "#B0BEC5",
                "#B0BEC5",
                "#B0BEC5",
                "#B0BEC5",
                "#B0BEC5",
                "#B0BEC5",
                "#B0BEC5",
                "#B0BEC5",
                "#B0BEC5",
                "#B0BEC5",
                "#B0BEC5",
                "#B0BEC5",
                "#B0BEC5",
                "#B0BEC5",
                "#B0BEC5",
                "#B0BEC5",
                "#B0BEC5",
                "#B0BEC5",
                "#B0BEC5",
                "#B0BEC5",
                "#B0BEC5",
                "#B0BEC5",
                "red",
                "#B0BEC5",
                "#B0BEC5",
                "#B0BEC5",
                "#B0BEC5",
                "#B0BEC5",
                "#B0BEC5",
                "#B0BEC5",
                "#B0BEC5",
                "#B0BEC5",
                "#B0BEC5",
                "#B0BEC5",
                "#B0BEC5",
                "#B0BEC5",
                "#B0BEC5",
                "#B0BEC5",
                "#B0BEC5",
                "#B0BEC5",
                "#B0BEC5",
                "#B0BEC5",
                "#B0BEC5",
                "#B0BEC5",
                "#B0BEC5",
                "#B0BEC5",
                "#B0BEC5",
                "#B0BEC5",
                "#B0BEC5",
                "#B0BEC5",
                "#B0BEC5",
                "#B0BEC5",
                "#B0BEC5"
               ]
              ]
             }
            ],
            "label": "Topic 53",
            "method": "update"
           },
           {
            "args": [
             {
              "marker.color": [
               [
                "#B0BEC5",
                "#B0BEC5",
                "#B0BEC5",
                "#B0BEC5",
                "#B0BEC5",
                "#B0BEC5",
                "#B0BEC5",
                "#B0BEC5",
                "#B0BEC5",
                "#B0BEC5",
                "#B0BEC5",
                "#B0BEC5",
                "#B0BEC5",
                "#B0BEC5",
                "#B0BEC5",
                "#B0BEC5",
                "#B0BEC5",
                "#B0BEC5",
                "#B0BEC5",
                "#B0BEC5",
                "#B0BEC5",
                "#B0BEC5",
                "#B0BEC5",
                "#B0BEC5",
                "#B0BEC5",
                "#B0BEC5",
                "#B0BEC5",
                "#B0BEC5",
                "#B0BEC5",
                "#B0BEC5",
                "#B0BEC5",
                "#B0BEC5",
                "#B0BEC5",
                "#B0BEC5",
                "#B0BEC5",
                "#B0BEC5",
                "#B0BEC5",
                "#B0BEC5",
                "#B0BEC5",
                "#B0BEC5",
                "#B0BEC5",
                "#B0BEC5",
                "#B0BEC5",
                "#B0BEC5",
                "#B0BEC5",
                "#B0BEC5",
                "#B0BEC5",
                "#B0BEC5",
                "#B0BEC5",
                "#B0BEC5",
                "#B0BEC5",
                "#B0BEC5",
                "#B0BEC5",
                "#B0BEC5",
                "red",
                "#B0BEC5",
                "#B0BEC5",
                "#B0BEC5",
                "#B0BEC5",
                "#B0BEC5",
                "#B0BEC5",
                "#B0BEC5",
                "#B0BEC5",
                "#B0BEC5",
                "#B0BEC5",
                "#B0BEC5",
                "#B0BEC5",
                "#B0BEC5",
                "#B0BEC5",
                "#B0BEC5",
                "#B0BEC5",
                "#B0BEC5",
                "#B0BEC5",
                "#B0BEC5",
                "#B0BEC5",
                "#B0BEC5",
                "#B0BEC5",
                "#B0BEC5",
                "#B0BEC5",
                "#B0BEC5",
                "#B0BEC5",
                "#B0BEC5",
                "#B0BEC5",
                "#B0BEC5"
               ]
              ]
             }
            ],
            "label": "Topic 54",
            "method": "update"
           },
           {
            "args": [
             {
              "marker.color": [
               [
                "#B0BEC5",
                "#B0BEC5",
                "#B0BEC5",
                "#B0BEC5",
                "#B0BEC5",
                "#B0BEC5",
                "#B0BEC5",
                "#B0BEC5",
                "#B0BEC5",
                "#B0BEC5",
                "#B0BEC5",
                "#B0BEC5",
                "#B0BEC5",
                "#B0BEC5",
                "#B0BEC5",
                "#B0BEC5",
                "#B0BEC5",
                "#B0BEC5",
                "#B0BEC5",
                "#B0BEC5",
                "#B0BEC5",
                "#B0BEC5",
                "#B0BEC5",
                "#B0BEC5",
                "#B0BEC5",
                "#B0BEC5",
                "#B0BEC5",
                "#B0BEC5",
                "#B0BEC5",
                "#B0BEC5",
                "#B0BEC5",
                "#B0BEC5",
                "#B0BEC5",
                "#B0BEC5",
                "#B0BEC5",
                "#B0BEC5",
                "#B0BEC5",
                "#B0BEC5",
                "#B0BEC5",
                "#B0BEC5",
                "#B0BEC5",
                "#B0BEC5",
                "#B0BEC5",
                "#B0BEC5",
                "#B0BEC5",
                "#B0BEC5",
                "#B0BEC5",
                "#B0BEC5",
                "#B0BEC5",
                "#B0BEC5",
                "#B0BEC5",
                "#B0BEC5",
                "#B0BEC5",
                "#B0BEC5",
                "#B0BEC5",
                "red",
                "#B0BEC5",
                "#B0BEC5",
                "#B0BEC5",
                "#B0BEC5",
                "#B0BEC5",
                "#B0BEC5",
                "#B0BEC5",
                "#B0BEC5",
                "#B0BEC5",
                "#B0BEC5",
                "#B0BEC5",
                "#B0BEC5",
                "#B0BEC5",
                "#B0BEC5",
                "#B0BEC5",
                "#B0BEC5",
                "#B0BEC5",
                "#B0BEC5",
                "#B0BEC5",
                "#B0BEC5",
                "#B0BEC5",
                "#B0BEC5",
                "#B0BEC5",
                "#B0BEC5",
                "#B0BEC5",
                "#B0BEC5",
                "#B0BEC5",
                "#B0BEC5"
               ]
              ]
             }
            ],
            "label": "Topic 55",
            "method": "update"
           },
           {
            "args": [
             {
              "marker.color": [
               [
                "#B0BEC5",
                "#B0BEC5",
                "#B0BEC5",
                "#B0BEC5",
                "#B0BEC5",
                "#B0BEC5",
                "#B0BEC5",
                "#B0BEC5",
                "#B0BEC5",
                "#B0BEC5",
                "#B0BEC5",
                "#B0BEC5",
                "#B0BEC5",
                "#B0BEC5",
                "#B0BEC5",
                "#B0BEC5",
                "#B0BEC5",
                "#B0BEC5",
                "#B0BEC5",
                "#B0BEC5",
                "#B0BEC5",
                "#B0BEC5",
                "#B0BEC5",
                "#B0BEC5",
                "#B0BEC5",
                "#B0BEC5",
                "#B0BEC5",
                "#B0BEC5",
                "#B0BEC5",
                "#B0BEC5",
                "#B0BEC5",
                "#B0BEC5",
                "#B0BEC5",
                "#B0BEC5",
                "#B0BEC5",
                "#B0BEC5",
                "#B0BEC5",
                "#B0BEC5",
                "#B0BEC5",
                "#B0BEC5",
                "#B0BEC5",
                "#B0BEC5",
                "#B0BEC5",
                "#B0BEC5",
                "#B0BEC5",
                "#B0BEC5",
                "#B0BEC5",
                "#B0BEC5",
                "#B0BEC5",
                "#B0BEC5",
                "#B0BEC5",
                "#B0BEC5",
                "#B0BEC5",
                "#B0BEC5",
                "#B0BEC5",
                "#B0BEC5",
                "red",
                "#B0BEC5",
                "#B0BEC5",
                "#B0BEC5",
                "#B0BEC5",
                "#B0BEC5",
                "#B0BEC5",
                "#B0BEC5",
                "#B0BEC5",
                "#B0BEC5",
                "#B0BEC5",
                "#B0BEC5",
                "#B0BEC5",
                "#B0BEC5",
                "#B0BEC5",
                "#B0BEC5",
                "#B0BEC5",
                "#B0BEC5",
                "#B0BEC5",
                "#B0BEC5",
                "#B0BEC5",
                "#B0BEC5",
                "#B0BEC5",
                "#B0BEC5",
                "#B0BEC5",
                "#B0BEC5",
                "#B0BEC5",
                "#B0BEC5"
               ]
              ]
             }
            ],
            "label": "Topic 56",
            "method": "update"
           },
           {
            "args": [
             {
              "marker.color": [
               [
                "#B0BEC5",
                "#B0BEC5",
                "#B0BEC5",
                "#B0BEC5",
                "#B0BEC5",
                "#B0BEC5",
                "#B0BEC5",
                "#B0BEC5",
                "#B0BEC5",
                "#B0BEC5",
                "#B0BEC5",
                "#B0BEC5",
                "#B0BEC5",
                "#B0BEC5",
                "#B0BEC5",
                "#B0BEC5",
                "#B0BEC5",
                "#B0BEC5",
                "#B0BEC5",
                "#B0BEC5",
                "#B0BEC5",
                "#B0BEC5",
                "#B0BEC5",
                "#B0BEC5",
                "#B0BEC5",
                "#B0BEC5",
                "#B0BEC5",
                "#B0BEC5",
                "#B0BEC5",
                "#B0BEC5",
                "#B0BEC5",
                "#B0BEC5",
                "#B0BEC5",
                "#B0BEC5",
                "#B0BEC5",
                "#B0BEC5",
                "#B0BEC5",
                "#B0BEC5",
                "#B0BEC5",
                "#B0BEC5",
                "#B0BEC5",
                "#B0BEC5",
                "#B0BEC5",
                "#B0BEC5",
                "#B0BEC5",
                "#B0BEC5",
                "#B0BEC5",
                "#B0BEC5",
                "#B0BEC5",
                "#B0BEC5",
                "#B0BEC5",
                "#B0BEC5",
                "#B0BEC5",
                "#B0BEC5",
                "#B0BEC5",
                "#B0BEC5",
                "#B0BEC5",
                "red",
                "#B0BEC5",
                "#B0BEC5",
                "#B0BEC5",
                "#B0BEC5",
                "#B0BEC5",
                "#B0BEC5",
                "#B0BEC5",
                "#B0BEC5",
                "#B0BEC5",
                "#B0BEC5",
                "#B0BEC5",
                "#B0BEC5",
                "#B0BEC5",
                "#B0BEC5",
                "#B0BEC5",
                "#B0BEC5",
                "#B0BEC5",
                "#B0BEC5",
                "#B0BEC5",
                "#B0BEC5",
                "#B0BEC5",
                "#B0BEC5",
                "#B0BEC5",
                "#B0BEC5",
                "#B0BEC5",
                "#B0BEC5"
               ]
              ]
             }
            ],
            "label": "Topic 57",
            "method": "update"
           },
           {
            "args": [
             {
              "marker.color": [
               [
                "#B0BEC5",
                "#B0BEC5",
                "#B0BEC5",
                "#B0BEC5",
                "#B0BEC5",
                "#B0BEC5",
                "#B0BEC5",
                "#B0BEC5",
                "#B0BEC5",
                "#B0BEC5",
                "#B0BEC5",
                "#B0BEC5",
                "#B0BEC5",
                "#B0BEC5",
                "#B0BEC5",
                "#B0BEC5",
                "#B0BEC5",
                "#B0BEC5",
                "#B0BEC5",
                "#B0BEC5",
                "#B0BEC5",
                "#B0BEC5",
                "#B0BEC5",
                "#B0BEC5",
                "#B0BEC5",
                "#B0BEC5",
                "#B0BEC5",
                "#B0BEC5",
                "#B0BEC5",
                "#B0BEC5",
                "#B0BEC5",
                "#B0BEC5",
                "#B0BEC5",
                "#B0BEC5",
                "#B0BEC5",
                "#B0BEC5",
                "#B0BEC5",
                "#B0BEC5",
                "#B0BEC5",
                "#B0BEC5",
                "#B0BEC5",
                "#B0BEC5",
                "#B0BEC5",
                "#B0BEC5",
                "#B0BEC5",
                "#B0BEC5",
                "#B0BEC5",
                "#B0BEC5",
                "#B0BEC5",
                "#B0BEC5",
                "#B0BEC5",
                "#B0BEC5",
                "#B0BEC5",
                "#B0BEC5",
                "#B0BEC5",
                "#B0BEC5",
                "#B0BEC5",
                "#B0BEC5",
                "red",
                "#B0BEC5",
                "#B0BEC5",
                "#B0BEC5",
                "#B0BEC5",
                "#B0BEC5",
                "#B0BEC5",
                "#B0BEC5",
                "#B0BEC5",
                "#B0BEC5",
                "#B0BEC5",
                "#B0BEC5",
                "#B0BEC5",
                "#B0BEC5",
                "#B0BEC5",
                "#B0BEC5",
                "#B0BEC5",
                "#B0BEC5",
                "#B0BEC5",
                "#B0BEC5",
                "#B0BEC5",
                "#B0BEC5",
                "#B0BEC5",
                "#B0BEC5",
                "#B0BEC5",
                "#B0BEC5"
               ]
              ]
             }
            ],
            "label": "Topic 58",
            "method": "update"
           },
           {
            "args": [
             {
              "marker.color": [
               [
                "#B0BEC5",
                "#B0BEC5",
                "#B0BEC5",
                "#B0BEC5",
                "#B0BEC5",
                "#B0BEC5",
                "#B0BEC5",
                "#B0BEC5",
                "#B0BEC5",
                "#B0BEC5",
                "#B0BEC5",
                "#B0BEC5",
                "#B0BEC5",
                "#B0BEC5",
                "#B0BEC5",
                "#B0BEC5",
                "#B0BEC5",
                "#B0BEC5",
                "#B0BEC5",
                "#B0BEC5",
                "#B0BEC5",
                "#B0BEC5",
                "#B0BEC5",
                "#B0BEC5",
                "#B0BEC5",
                "#B0BEC5",
                "#B0BEC5",
                "#B0BEC5",
                "#B0BEC5",
                "#B0BEC5",
                "#B0BEC5",
                "#B0BEC5",
                "#B0BEC5",
                "#B0BEC5",
                "#B0BEC5",
                "#B0BEC5",
                "#B0BEC5",
                "#B0BEC5",
                "#B0BEC5",
                "#B0BEC5",
                "#B0BEC5",
                "#B0BEC5",
                "#B0BEC5",
                "#B0BEC5",
                "#B0BEC5",
                "#B0BEC5",
                "#B0BEC5",
                "#B0BEC5",
                "#B0BEC5",
                "#B0BEC5",
                "#B0BEC5",
                "#B0BEC5",
                "#B0BEC5",
                "#B0BEC5",
                "#B0BEC5",
                "#B0BEC5",
                "#B0BEC5",
                "#B0BEC5",
                "#B0BEC5",
                "red",
                "#B0BEC5",
                "#B0BEC5",
                "#B0BEC5",
                "#B0BEC5",
                "#B0BEC5",
                "#B0BEC5",
                "#B0BEC5",
                "#B0BEC5",
                "#B0BEC5",
                "#B0BEC5",
                "#B0BEC5",
                "#B0BEC5",
                "#B0BEC5",
                "#B0BEC5",
                "#B0BEC5",
                "#B0BEC5",
                "#B0BEC5",
                "#B0BEC5",
                "#B0BEC5",
                "#B0BEC5",
                "#B0BEC5",
                "#B0BEC5",
                "#B0BEC5",
                "#B0BEC5"
               ]
              ]
             }
            ],
            "label": "Topic 59",
            "method": "update"
           },
           {
            "args": [
             {
              "marker.color": [
               [
                "#B0BEC5",
                "#B0BEC5",
                "#B0BEC5",
                "#B0BEC5",
                "#B0BEC5",
                "#B0BEC5",
                "#B0BEC5",
                "#B0BEC5",
                "#B0BEC5",
                "#B0BEC5",
                "#B0BEC5",
                "#B0BEC5",
                "#B0BEC5",
                "#B0BEC5",
                "#B0BEC5",
                "#B0BEC5",
                "#B0BEC5",
                "#B0BEC5",
                "#B0BEC5",
                "#B0BEC5",
                "#B0BEC5",
                "#B0BEC5",
                "#B0BEC5",
                "#B0BEC5",
                "#B0BEC5",
                "#B0BEC5",
                "#B0BEC5",
                "#B0BEC5",
                "#B0BEC5",
                "#B0BEC5",
                "#B0BEC5",
                "#B0BEC5",
                "#B0BEC5",
                "#B0BEC5",
                "#B0BEC5",
                "#B0BEC5",
                "#B0BEC5",
                "#B0BEC5",
                "#B0BEC5",
                "#B0BEC5",
                "#B0BEC5",
                "#B0BEC5",
                "#B0BEC5",
                "#B0BEC5",
                "#B0BEC5",
                "#B0BEC5",
                "#B0BEC5",
                "#B0BEC5",
                "#B0BEC5",
                "#B0BEC5",
                "#B0BEC5",
                "#B0BEC5",
                "#B0BEC5",
                "#B0BEC5",
                "#B0BEC5",
                "#B0BEC5",
                "#B0BEC5",
                "#B0BEC5",
                "#B0BEC5",
                "#B0BEC5",
                "red",
                "#B0BEC5",
                "#B0BEC5",
                "#B0BEC5",
                "#B0BEC5",
                "#B0BEC5",
                "#B0BEC5",
                "#B0BEC5",
                "#B0BEC5",
                "#B0BEC5",
                "#B0BEC5",
                "#B0BEC5",
                "#B0BEC5",
                "#B0BEC5",
                "#B0BEC5",
                "#B0BEC5",
                "#B0BEC5",
                "#B0BEC5",
                "#B0BEC5",
                "#B0BEC5",
                "#B0BEC5",
                "#B0BEC5",
                "#B0BEC5",
                "#B0BEC5"
               ]
              ]
             }
            ],
            "label": "Topic 60",
            "method": "update"
           },
           {
            "args": [
             {
              "marker.color": [
               [
                "#B0BEC5",
                "#B0BEC5",
                "#B0BEC5",
                "#B0BEC5",
                "#B0BEC5",
                "#B0BEC5",
                "#B0BEC5",
                "#B0BEC5",
                "#B0BEC5",
                "#B0BEC5",
                "#B0BEC5",
                "#B0BEC5",
                "#B0BEC5",
                "#B0BEC5",
                "#B0BEC5",
                "#B0BEC5",
                "#B0BEC5",
                "#B0BEC5",
                "#B0BEC5",
                "#B0BEC5",
                "#B0BEC5",
                "#B0BEC5",
                "#B0BEC5",
                "#B0BEC5",
                "#B0BEC5",
                "#B0BEC5",
                "#B0BEC5",
                "#B0BEC5",
                "#B0BEC5",
                "#B0BEC5",
                "#B0BEC5",
                "#B0BEC5",
                "#B0BEC5",
                "#B0BEC5",
                "#B0BEC5",
                "#B0BEC5",
                "#B0BEC5",
                "#B0BEC5",
                "#B0BEC5",
                "#B0BEC5",
                "#B0BEC5",
                "#B0BEC5",
                "#B0BEC5",
                "#B0BEC5",
                "#B0BEC5",
                "#B0BEC5",
                "#B0BEC5",
                "#B0BEC5",
                "#B0BEC5",
                "#B0BEC5",
                "#B0BEC5",
                "#B0BEC5",
                "#B0BEC5",
                "#B0BEC5",
                "#B0BEC5",
                "#B0BEC5",
                "#B0BEC5",
                "#B0BEC5",
                "#B0BEC5",
                "#B0BEC5",
                "#B0BEC5",
                "red",
                "#B0BEC5",
                "#B0BEC5",
                "#B0BEC5",
                "#B0BEC5",
                "#B0BEC5",
                "#B0BEC5",
                "#B0BEC5",
                "#B0BEC5",
                "#B0BEC5",
                "#B0BEC5",
                "#B0BEC5",
                "#B0BEC5",
                "#B0BEC5",
                "#B0BEC5",
                "#B0BEC5",
                "#B0BEC5",
                "#B0BEC5",
                "#B0BEC5",
                "#B0BEC5",
                "#B0BEC5",
                "#B0BEC5",
                "#B0BEC5"
               ]
              ]
             }
            ],
            "label": "Topic 61",
            "method": "update"
           },
           {
            "args": [
             {
              "marker.color": [
               [
                "#B0BEC5",
                "#B0BEC5",
                "#B0BEC5",
                "#B0BEC5",
                "#B0BEC5",
                "#B0BEC5",
                "#B0BEC5",
                "#B0BEC5",
                "#B0BEC5",
                "#B0BEC5",
                "#B0BEC5",
                "#B0BEC5",
                "#B0BEC5",
                "#B0BEC5",
                "#B0BEC5",
                "#B0BEC5",
                "#B0BEC5",
                "#B0BEC5",
                "#B0BEC5",
                "#B0BEC5",
                "#B0BEC5",
                "#B0BEC5",
                "#B0BEC5",
                "#B0BEC5",
                "#B0BEC5",
                "#B0BEC5",
                "#B0BEC5",
                "#B0BEC5",
                "#B0BEC5",
                "#B0BEC5",
                "#B0BEC5",
                "#B0BEC5",
                "#B0BEC5",
                "#B0BEC5",
                "#B0BEC5",
                "#B0BEC5",
                "#B0BEC5",
                "#B0BEC5",
                "#B0BEC5",
                "#B0BEC5",
                "#B0BEC5",
                "#B0BEC5",
                "#B0BEC5",
                "#B0BEC5",
                "#B0BEC5",
                "#B0BEC5",
                "#B0BEC5",
                "#B0BEC5",
                "#B0BEC5",
                "#B0BEC5",
                "#B0BEC5",
                "#B0BEC5",
                "#B0BEC5",
                "#B0BEC5",
                "#B0BEC5",
                "#B0BEC5",
                "#B0BEC5",
                "#B0BEC5",
                "#B0BEC5",
                "#B0BEC5",
                "#B0BEC5",
                "#B0BEC5",
                "red",
                "#B0BEC5",
                "#B0BEC5",
                "#B0BEC5",
                "#B0BEC5",
                "#B0BEC5",
                "#B0BEC5",
                "#B0BEC5",
                "#B0BEC5",
                "#B0BEC5",
                "#B0BEC5",
                "#B0BEC5",
                "#B0BEC5",
                "#B0BEC5",
                "#B0BEC5",
                "#B0BEC5",
                "#B0BEC5",
                "#B0BEC5",
                "#B0BEC5",
                "#B0BEC5",
                "#B0BEC5",
                "#B0BEC5"
               ]
              ]
             }
            ],
            "label": "Topic 62",
            "method": "update"
           },
           {
            "args": [
             {
              "marker.color": [
               [
                "#B0BEC5",
                "#B0BEC5",
                "#B0BEC5",
                "#B0BEC5",
                "#B0BEC5",
                "#B0BEC5",
                "#B0BEC5",
                "#B0BEC5",
                "#B0BEC5",
                "#B0BEC5",
                "#B0BEC5",
                "#B0BEC5",
                "#B0BEC5",
                "#B0BEC5",
                "#B0BEC5",
                "#B0BEC5",
                "#B0BEC5",
                "#B0BEC5",
                "#B0BEC5",
                "#B0BEC5",
                "#B0BEC5",
                "#B0BEC5",
                "#B0BEC5",
                "#B0BEC5",
                "#B0BEC5",
                "#B0BEC5",
                "#B0BEC5",
                "#B0BEC5",
                "#B0BEC5",
                "#B0BEC5",
                "#B0BEC5",
                "#B0BEC5",
                "#B0BEC5",
                "#B0BEC5",
                "#B0BEC5",
                "#B0BEC5",
                "#B0BEC5",
                "#B0BEC5",
                "#B0BEC5",
                "#B0BEC5",
                "#B0BEC5",
                "#B0BEC5",
                "#B0BEC5",
                "#B0BEC5",
                "#B0BEC5",
                "#B0BEC5",
                "#B0BEC5",
                "#B0BEC5",
                "#B0BEC5",
                "#B0BEC5",
                "#B0BEC5",
                "#B0BEC5",
                "#B0BEC5",
                "#B0BEC5",
                "#B0BEC5",
                "#B0BEC5",
                "#B0BEC5",
                "#B0BEC5",
                "#B0BEC5",
                "#B0BEC5",
                "#B0BEC5",
                "#B0BEC5",
                "#B0BEC5",
                "red",
                "#B0BEC5",
                "#B0BEC5",
                "#B0BEC5",
                "#B0BEC5",
                "#B0BEC5",
                "#B0BEC5",
                "#B0BEC5",
                "#B0BEC5",
                "#B0BEC5",
                "#B0BEC5",
                "#B0BEC5",
                "#B0BEC5",
                "#B0BEC5",
                "#B0BEC5",
                "#B0BEC5",
                "#B0BEC5",
                "#B0BEC5",
                "#B0BEC5",
                "#B0BEC5",
                "#B0BEC5"
               ]
              ]
             }
            ],
            "label": "Topic 63",
            "method": "update"
           },
           {
            "args": [
             {
              "marker.color": [
               [
                "#B0BEC5",
                "#B0BEC5",
                "#B0BEC5",
                "#B0BEC5",
                "#B0BEC5",
                "#B0BEC5",
                "#B0BEC5",
                "#B0BEC5",
                "#B0BEC5",
                "#B0BEC5",
                "#B0BEC5",
                "#B0BEC5",
                "#B0BEC5",
                "#B0BEC5",
                "#B0BEC5",
                "#B0BEC5",
                "#B0BEC5",
                "#B0BEC5",
                "#B0BEC5",
                "#B0BEC5",
                "#B0BEC5",
                "#B0BEC5",
                "#B0BEC5",
                "#B0BEC5",
                "#B0BEC5",
                "#B0BEC5",
                "#B0BEC5",
                "#B0BEC5",
                "#B0BEC5",
                "#B0BEC5",
                "#B0BEC5",
                "#B0BEC5",
                "#B0BEC5",
                "#B0BEC5",
                "#B0BEC5",
                "#B0BEC5",
                "#B0BEC5",
                "#B0BEC5",
                "#B0BEC5",
                "#B0BEC5",
                "#B0BEC5",
                "#B0BEC5",
                "#B0BEC5",
                "#B0BEC5",
                "#B0BEC5",
                "#B0BEC5",
                "#B0BEC5",
                "#B0BEC5",
                "#B0BEC5",
                "#B0BEC5",
                "#B0BEC5",
                "#B0BEC5",
                "#B0BEC5",
                "#B0BEC5",
                "#B0BEC5",
                "#B0BEC5",
                "#B0BEC5",
                "#B0BEC5",
                "#B0BEC5",
                "#B0BEC5",
                "#B0BEC5",
                "#B0BEC5",
                "#B0BEC5",
                "#B0BEC5",
                "red",
                "#B0BEC5",
                "#B0BEC5",
                "#B0BEC5",
                "#B0BEC5",
                "#B0BEC5",
                "#B0BEC5",
                "#B0BEC5",
                "#B0BEC5",
                "#B0BEC5",
                "#B0BEC5",
                "#B0BEC5",
                "#B0BEC5",
                "#B0BEC5",
                "#B0BEC5",
                "#B0BEC5",
                "#B0BEC5",
                "#B0BEC5",
                "#B0BEC5",
                "#B0BEC5"
               ]
              ]
             }
            ],
            "label": "Topic 64",
            "method": "update"
           },
           {
            "args": [
             {
              "marker.color": [
               [
                "#B0BEC5",
                "#B0BEC5",
                "#B0BEC5",
                "#B0BEC5",
                "#B0BEC5",
                "#B0BEC5",
                "#B0BEC5",
                "#B0BEC5",
                "#B0BEC5",
                "#B0BEC5",
                "#B0BEC5",
                "#B0BEC5",
                "#B0BEC5",
                "#B0BEC5",
                "#B0BEC5",
                "#B0BEC5",
                "#B0BEC5",
                "#B0BEC5",
                "#B0BEC5",
                "#B0BEC5",
                "#B0BEC5",
                "#B0BEC5",
                "#B0BEC5",
                "#B0BEC5",
                "#B0BEC5",
                "#B0BEC5",
                "#B0BEC5",
                "#B0BEC5",
                "#B0BEC5",
                "#B0BEC5",
                "#B0BEC5",
                "#B0BEC5",
                "#B0BEC5",
                "#B0BEC5",
                "#B0BEC5",
                "#B0BEC5",
                "#B0BEC5",
                "#B0BEC5",
                "#B0BEC5",
                "#B0BEC5",
                "#B0BEC5",
                "#B0BEC5",
                "#B0BEC5",
                "#B0BEC5",
                "#B0BEC5",
                "#B0BEC5",
                "#B0BEC5",
                "#B0BEC5",
                "#B0BEC5",
                "#B0BEC5",
                "#B0BEC5",
                "#B0BEC5",
                "#B0BEC5",
                "#B0BEC5",
                "#B0BEC5",
                "#B0BEC5",
                "#B0BEC5",
                "#B0BEC5",
                "#B0BEC5",
                "#B0BEC5",
                "#B0BEC5",
                "#B0BEC5",
                "#B0BEC5",
                "#B0BEC5",
                "#B0BEC5",
                "red",
                "#B0BEC5",
                "#B0BEC5",
                "#B0BEC5",
                "#B0BEC5",
                "#B0BEC5",
                "#B0BEC5",
                "#B0BEC5",
                "#B0BEC5",
                "#B0BEC5",
                "#B0BEC5",
                "#B0BEC5",
                "#B0BEC5",
                "#B0BEC5",
                "#B0BEC5",
                "#B0BEC5",
                "#B0BEC5",
                "#B0BEC5",
                "#B0BEC5"
               ]
              ]
             }
            ],
            "label": "Topic 65",
            "method": "update"
           },
           {
            "args": [
             {
              "marker.color": [
               [
                "#B0BEC5",
                "#B0BEC5",
                "#B0BEC5",
                "#B0BEC5",
                "#B0BEC5",
                "#B0BEC5",
                "#B0BEC5",
                "#B0BEC5",
                "#B0BEC5",
                "#B0BEC5",
                "#B0BEC5",
                "#B0BEC5",
                "#B0BEC5",
                "#B0BEC5",
                "#B0BEC5",
                "#B0BEC5",
                "#B0BEC5",
                "#B0BEC5",
                "#B0BEC5",
                "#B0BEC5",
                "#B0BEC5",
                "#B0BEC5",
                "#B0BEC5",
                "#B0BEC5",
                "#B0BEC5",
                "#B0BEC5",
                "#B0BEC5",
                "#B0BEC5",
                "#B0BEC5",
                "#B0BEC5",
                "#B0BEC5",
                "#B0BEC5",
                "#B0BEC5",
                "#B0BEC5",
                "#B0BEC5",
                "#B0BEC5",
                "#B0BEC5",
                "#B0BEC5",
                "#B0BEC5",
                "#B0BEC5",
                "#B0BEC5",
                "#B0BEC5",
                "#B0BEC5",
                "#B0BEC5",
                "#B0BEC5",
                "#B0BEC5",
                "#B0BEC5",
                "#B0BEC5",
                "#B0BEC5",
                "#B0BEC5",
                "#B0BEC5",
                "#B0BEC5",
                "#B0BEC5",
                "#B0BEC5",
                "#B0BEC5",
                "#B0BEC5",
                "#B0BEC5",
                "#B0BEC5",
                "#B0BEC5",
                "#B0BEC5",
                "#B0BEC5",
                "#B0BEC5",
                "#B0BEC5",
                "#B0BEC5",
                "#B0BEC5",
                "#B0BEC5",
                "red",
                "#B0BEC5",
                "#B0BEC5",
                "#B0BEC5",
                "#B0BEC5",
                "#B0BEC5",
                "#B0BEC5",
                "#B0BEC5",
                "#B0BEC5",
                "#B0BEC5",
                "#B0BEC5",
                "#B0BEC5",
                "#B0BEC5",
                "#B0BEC5",
                "#B0BEC5",
                "#B0BEC5",
                "#B0BEC5",
                "#B0BEC5"
               ]
              ]
             }
            ],
            "label": "Topic 66",
            "method": "update"
           },
           {
            "args": [
             {
              "marker.color": [
               [
                "#B0BEC5",
                "#B0BEC5",
                "#B0BEC5",
                "#B0BEC5",
                "#B0BEC5",
                "#B0BEC5",
                "#B0BEC5",
                "#B0BEC5",
                "#B0BEC5",
                "#B0BEC5",
                "#B0BEC5",
                "#B0BEC5",
                "#B0BEC5",
                "#B0BEC5",
                "#B0BEC5",
                "#B0BEC5",
                "#B0BEC5",
                "#B0BEC5",
                "#B0BEC5",
                "#B0BEC5",
                "#B0BEC5",
                "#B0BEC5",
                "#B0BEC5",
                "#B0BEC5",
                "#B0BEC5",
                "#B0BEC5",
                "#B0BEC5",
                "#B0BEC5",
                "#B0BEC5",
                "#B0BEC5",
                "#B0BEC5",
                "#B0BEC5",
                "#B0BEC5",
                "#B0BEC5",
                "#B0BEC5",
                "#B0BEC5",
                "#B0BEC5",
                "#B0BEC5",
                "#B0BEC5",
                "#B0BEC5",
                "#B0BEC5",
                "#B0BEC5",
                "#B0BEC5",
                "#B0BEC5",
                "#B0BEC5",
                "#B0BEC5",
                "#B0BEC5",
                "#B0BEC5",
                "#B0BEC5",
                "#B0BEC5",
                "#B0BEC5",
                "#B0BEC5",
                "#B0BEC5",
                "#B0BEC5",
                "#B0BEC5",
                "#B0BEC5",
                "#B0BEC5",
                "#B0BEC5",
                "#B0BEC5",
                "#B0BEC5",
                "#B0BEC5",
                "#B0BEC5",
                "#B0BEC5",
                "#B0BEC5",
                "#B0BEC5",
                "#B0BEC5",
                "#B0BEC5",
                "red",
                "#B0BEC5",
                "#B0BEC5",
                "#B0BEC5",
                "#B0BEC5",
                "#B0BEC5",
                "#B0BEC5",
                "#B0BEC5",
                "#B0BEC5",
                "#B0BEC5",
                "#B0BEC5",
                "#B0BEC5",
                "#B0BEC5",
                "#B0BEC5",
                "#B0BEC5",
                "#B0BEC5",
                "#B0BEC5"
               ]
              ]
             }
            ],
            "label": "Topic 67",
            "method": "update"
           },
           {
            "args": [
             {
              "marker.color": [
               [
                "#B0BEC5",
                "#B0BEC5",
                "#B0BEC5",
                "#B0BEC5",
                "#B0BEC5",
                "#B0BEC5",
                "#B0BEC5",
                "#B0BEC5",
                "#B0BEC5",
                "#B0BEC5",
                "#B0BEC5",
                "#B0BEC5",
                "#B0BEC5",
                "#B0BEC5",
                "#B0BEC5",
                "#B0BEC5",
                "#B0BEC5",
                "#B0BEC5",
                "#B0BEC5",
                "#B0BEC5",
                "#B0BEC5",
                "#B0BEC5",
                "#B0BEC5",
                "#B0BEC5",
                "#B0BEC5",
                "#B0BEC5",
                "#B0BEC5",
                "#B0BEC5",
                "#B0BEC5",
                "#B0BEC5",
                "#B0BEC5",
                "#B0BEC5",
                "#B0BEC5",
                "#B0BEC5",
                "#B0BEC5",
                "#B0BEC5",
                "#B0BEC5",
                "#B0BEC5",
                "#B0BEC5",
                "#B0BEC5",
                "#B0BEC5",
                "#B0BEC5",
                "#B0BEC5",
                "#B0BEC5",
                "#B0BEC5",
                "#B0BEC5",
                "#B0BEC5",
                "#B0BEC5",
                "#B0BEC5",
                "#B0BEC5",
                "#B0BEC5",
                "#B0BEC5",
                "#B0BEC5",
                "#B0BEC5",
                "#B0BEC5",
                "#B0BEC5",
                "#B0BEC5",
                "#B0BEC5",
                "#B0BEC5",
                "#B0BEC5",
                "#B0BEC5",
                "#B0BEC5",
                "#B0BEC5",
                "#B0BEC5",
                "#B0BEC5",
                "#B0BEC5",
                "#B0BEC5",
                "#B0BEC5",
                "red",
                "#B0BEC5",
                "#B0BEC5",
                "#B0BEC5",
                "#B0BEC5",
                "#B0BEC5",
                "#B0BEC5",
                "#B0BEC5",
                "#B0BEC5",
                "#B0BEC5",
                "#B0BEC5",
                "#B0BEC5",
                "#B0BEC5",
                "#B0BEC5",
                "#B0BEC5",
                "#B0BEC5"
               ]
              ]
             }
            ],
            "label": "Topic 68",
            "method": "update"
           },
           {
            "args": [
             {
              "marker.color": [
               [
                "#B0BEC5",
                "#B0BEC5",
                "#B0BEC5",
                "#B0BEC5",
                "#B0BEC5",
                "#B0BEC5",
                "#B0BEC5",
                "#B0BEC5",
                "#B0BEC5",
                "#B0BEC5",
                "#B0BEC5",
                "#B0BEC5",
                "#B0BEC5",
                "#B0BEC5",
                "#B0BEC5",
                "#B0BEC5",
                "#B0BEC5",
                "#B0BEC5",
                "#B0BEC5",
                "#B0BEC5",
                "#B0BEC5",
                "#B0BEC5",
                "#B0BEC5",
                "#B0BEC5",
                "#B0BEC5",
                "#B0BEC5",
                "#B0BEC5",
                "#B0BEC5",
                "#B0BEC5",
                "#B0BEC5",
                "#B0BEC5",
                "#B0BEC5",
                "#B0BEC5",
                "#B0BEC5",
                "#B0BEC5",
                "#B0BEC5",
                "#B0BEC5",
                "#B0BEC5",
                "#B0BEC5",
                "#B0BEC5",
                "#B0BEC5",
                "#B0BEC5",
                "#B0BEC5",
                "#B0BEC5",
                "#B0BEC5",
                "#B0BEC5",
                "#B0BEC5",
                "#B0BEC5",
                "#B0BEC5",
                "#B0BEC5",
                "#B0BEC5",
                "#B0BEC5",
                "#B0BEC5",
                "#B0BEC5",
                "#B0BEC5",
                "#B0BEC5",
                "#B0BEC5",
                "#B0BEC5",
                "#B0BEC5",
                "#B0BEC5",
                "#B0BEC5",
                "#B0BEC5",
                "#B0BEC5",
                "#B0BEC5",
                "#B0BEC5",
                "#B0BEC5",
                "#B0BEC5",
                "#B0BEC5",
                "#B0BEC5",
                "red",
                "#B0BEC5",
                "#B0BEC5",
                "#B0BEC5",
                "#B0BEC5",
                "#B0BEC5",
                "#B0BEC5",
                "#B0BEC5",
                "#B0BEC5",
                "#B0BEC5",
                "#B0BEC5",
                "#B0BEC5",
                "#B0BEC5",
                "#B0BEC5",
                "#B0BEC5"
               ]
              ]
             }
            ],
            "label": "Topic 69",
            "method": "update"
           },
           {
            "args": [
             {
              "marker.color": [
               [
                "#B0BEC5",
                "#B0BEC5",
                "#B0BEC5",
                "#B0BEC5",
                "#B0BEC5",
                "#B0BEC5",
                "#B0BEC5",
                "#B0BEC5",
                "#B0BEC5",
                "#B0BEC5",
                "#B0BEC5",
                "#B0BEC5",
                "#B0BEC5",
                "#B0BEC5",
                "#B0BEC5",
                "#B0BEC5",
                "#B0BEC5",
                "#B0BEC5",
                "#B0BEC5",
                "#B0BEC5",
                "#B0BEC5",
                "#B0BEC5",
                "#B0BEC5",
                "#B0BEC5",
                "#B0BEC5",
                "#B0BEC5",
                "#B0BEC5",
                "#B0BEC5",
                "#B0BEC5",
                "#B0BEC5",
                "#B0BEC5",
                "#B0BEC5",
                "#B0BEC5",
                "#B0BEC5",
                "#B0BEC5",
                "#B0BEC5",
                "#B0BEC5",
                "#B0BEC5",
                "#B0BEC5",
                "#B0BEC5",
                "#B0BEC5",
                "#B0BEC5",
                "#B0BEC5",
                "#B0BEC5",
                "#B0BEC5",
                "#B0BEC5",
                "#B0BEC5",
                "#B0BEC5",
                "#B0BEC5",
                "#B0BEC5",
                "#B0BEC5",
                "#B0BEC5",
                "#B0BEC5",
                "#B0BEC5",
                "#B0BEC5",
                "#B0BEC5",
                "#B0BEC5",
                "#B0BEC5",
                "#B0BEC5",
                "#B0BEC5",
                "#B0BEC5",
                "#B0BEC5",
                "#B0BEC5",
                "#B0BEC5",
                "#B0BEC5",
                "#B0BEC5",
                "#B0BEC5",
                "#B0BEC5",
                "#B0BEC5",
                "#B0BEC5",
                "red",
                "#B0BEC5",
                "#B0BEC5",
                "#B0BEC5",
                "#B0BEC5",
                "#B0BEC5",
                "#B0BEC5",
                "#B0BEC5",
                "#B0BEC5",
                "#B0BEC5",
                "#B0BEC5",
                "#B0BEC5",
                "#B0BEC5",
                "#B0BEC5"
               ]
              ]
             }
            ],
            "label": "Topic 70",
            "method": "update"
           },
           {
            "args": [
             {
              "marker.color": [
               [
                "#B0BEC5",
                "#B0BEC5",
                "#B0BEC5",
                "#B0BEC5",
                "#B0BEC5",
                "#B0BEC5",
                "#B0BEC5",
                "#B0BEC5",
                "#B0BEC5",
                "#B0BEC5",
                "#B0BEC5",
                "#B0BEC5",
                "#B0BEC5",
                "#B0BEC5",
                "#B0BEC5",
                "#B0BEC5",
                "#B0BEC5",
                "#B0BEC5",
                "#B0BEC5",
                "#B0BEC5",
                "#B0BEC5",
                "#B0BEC5",
                "#B0BEC5",
                "#B0BEC5",
                "#B0BEC5",
                "#B0BEC5",
                "#B0BEC5",
                "#B0BEC5",
                "#B0BEC5",
                "#B0BEC5",
                "#B0BEC5",
                "#B0BEC5",
                "#B0BEC5",
                "#B0BEC5",
                "#B0BEC5",
                "#B0BEC5",
                "#B0BEC5",
                "#B0BEC5",
                "#B0BEC5",
                "#B0BEC5",
                "#B0BEC5",
                "#B0BEC5",
                "#B0BEC5",
                "#B0BEC5",
                "#B0BEC5",
                "#B0BEC5",
                "#B0BEC5",
                "#B0BEC5",
                "#B0BEC5",
                "#B0BEC5",
                "#B0BEC5",
                "#B0BEC5",
                "#B0BEC5",
                "#B0BEC5",
                "#B0BEC5",
                "#B0BEC5",
                "#B0BEC5",
                "#B0BEC5",
                "#B0BEC5",
                "#B0BEC5",
                "#B0BEC5",
                "#B0BEC5",
                "#B0BEC5",
                "#B0BEC5",
                "#B0BEC5",
                "#B0BEC5",
                "#B0BEC5",
                "#B0BEC5",
                "#B0BEC5",
                "#B0BEC5",
                "#B0BEC5",
                "red",
                "#B0BEC5",
                "#B0BEC5",
                "#B0BEC5",
                "#B0BEC5",
                "#B0BEC5",
                "#B0BEC5",
                "#B0BEC5",
                "#B0BEC5",
                "#B0BEC5",
                "#B0BEC5",
                "#B0BEC5",
                "#B0BEC5"
               ]
              ]
             }
            ],
            "label": "Topic 71",
            "method": "update"
           },
           {
            "args": [
             {
              "marker.color": [
               [
                "#B0BEC5",
                "#B0BEC5",
                "#B0BEC5",
                "#B0BEC5",
                "#B0BEC5",
                "#B0BEC5",
                "#B0BEC5",
                "#B0BEC5",
                "#B0BEC5",
                "#B0BEC5",
                "#B0BEC5",
                "#B0BEC5",
                "#B0BEC5",
                "#B0BEC5",
                "#B0BEC5",
                "#B0BEC5",
                "#B0BEC5",
                "#B0BEC5",
                "#B0BEC5",
                "#B0BEC5",
                "#B0BEC5",
                "#B0BEC5",
                "#B0BEC5",
                "#B0BEC5",
                "#B0BEC5",
                "#B0BEC5",
                "#B0BEC5",
                "#B0BEC5",
                "#B0BEC5",
                "#B0BEC5",
                "#B0BEC5",
                "#B0BEC5",
                "#B0BEC5",
                "#B0BEC5",
                "#B0BEC5",
                "#B0BEC5",
                "#B0BEC5",
                "#B0BEC5",
                "#B0BEC5",
                "#B0BEC5",
                "#B0BEC5",
                "#B0BEC5",
                "#B0BEC5",
                "#B0BEC5",
                "#B0BEC5",
                "#B0BEC5",
                "#B0BEC5",
                "#B0BEC5",
                "#B0BEC5",
                "#B0BEC5",
                "#B0BEC5",
                "#B0BEC5",
                "#B0BEC5",
                "#B0BEC5",
                "#B0BEC5",
                "#B0BEC5",
                "#B0BEC5",
                "#B0BEC5",
                "#B0BEC5",
                "#B0BEC5",
                "#B0BEC5",
                "#B0BEC5",
                "#B0BEC5",
                "#B0BEC5",
                "#B0BEC5",
                "#B0BEC5",
                "#B0BEC5",
                "#B0BEC5",
                "#B0BEC5",
                "#B0BEC5",
                "#B0BEC5",
                "#B0BEC5",
                "red",
                "#B0BEC5",
                "#B0BEC5",
                "#B0BEC5",
                "#B0BEC5",
                "#B0BEC5",
                "#B0BEC5",
                "#B0BEC5",
                "#B0BEC5",
                "#B0BEC5",
                "#B0BEC5",
                "#B0BEC5"
               ]
              ]
             }
            ],
            "label": "Topic 72",
            "method": "update"
           },
           {
            "args": [
             {
              "marker.color": [
               [
                "#B0BEC5",
                "#B0BEC5",
                "#B0BEC5",
                "#B0BEC5",
                "#B0BEC5",
                "#B0BEC5",
                "#B0BEC5",
                "#B0BEC5",
                "#B0BEC5",
                "#B0BEC5",
                "#B0BEC5",
                "#B0BEC5",
                "#B0BEC5",
                "#B0BEC5",
                "#B0BEC5",
                "#B0BEC5",
                "#B0BEC5",
                "#B0BEC5",
                "#B0BEC5",
                "#B0BEC5",
                "#B0BEC5",
                "#B0BEC5",
                "#B0BEC5",
                "#B0BEC5",
                "#B0BEC5",
                "#B0BEC5",
                "#B0BEC5",
                "#B0BEC5",
                "#B0BEC5",
                "#B0BEC5",
                "#B0BEC5",
                "#B0BEC5",
                "#B0BEC5",
                "#B0BEC5",
                "#B0BEC5",
                "#B0BEC5",
                "#B0BEC5",
                "#B0BEC5",
                "#B0BEC5",
                "#B0BEC5",
                "#B0BEC5",
                "#B0BEC5",
                "#B0BEC5",
                "#B0BEC5",
                "#B0BEC5",
                "#B0BEC5",
                "#B0BEC5",
                "#B0BEC5",
                "#B0BEC5",
                "#B0BEC5",
                "#B0BEC5",
                "#B0BEC5",
                "#B0BEC5",
                "#B0BEC5",
                "#B0BEC5",
                "#B0BEC5",
                "#B0BEC5",
                "#B0BEC5",
                "#B0BEC5",
                "#B0BEC5",
                "#B0BEC5",
                "#B0BEC5",
                "#B0BEC5",
                "#B0BEC5",
                "#B0BEC5",
                "#B0BEC5",
                "#B0BEC5",
                "#B0BEC5",
                "#B0BEC5",
                "#B0BEC5",
                "#B0BEC5",
                "#B0BEC5",
                "#B0BEC5",
                "red",
                "#B0BEC5",
                "#B0BEC5",
                "#B0BEC5",
                "#B0BEC5",
                "#B0BEC5",
                "#B0BEC5",
                "#B0BEC5",
                "#B0BEC5",
                "#B0BEC5",
                "#B0BEC5"
               ]
              ]
             }
            ],
            "label": "Topic 73",
            "method": "update"
           },
           {
            "args": [
             {
              "marker.color": [
               [
                "#B0BEC5",
                "#B0BEC5",
                "#B0BEC5",
                "#B0BEC5",
                "#B0BEC5",
                "#B0BEC5",
                "#B0BEC5",
                "#B0BEC5",
                "#B0BEC5",
                "#B0BEC5",
                "#B0BEC5",
                "#B0BEC5",
                "#B0BEC5",
                "#B0BEC5",
                "#B0BEC5",
                "#B0BEC5",
                "#B0BEC5",
                "#B0BEC5",
                "#B0BEC5",
                "#B0BEC5",
                "#B0BEC5",
                "#B0BEC5",
                "#B0BEC5",
                "#B0BEC5",
                "#B0BEC5",
                "#B0BEC5",
                "#B0BEC5",
                "#B0BEC5",
                "#B0BEC5",
                "#B0BEC5",
                "#B0BEC5",
                "#B0BEC5",
                "#B0BEC5",
                "#B0BEC5",
                "#B0BEC5",
                "#B0BEC5",
                "#B0BEC5",
                "#B0BEC5",
                "#B0BEC5",
                "#B0BEC5",
                "#B0BEC5",
                "#B0BEC5",
                "#B0BEC5",
                "#B0BEC5",
                "#B0BEC5",
                "#B0BEC5",
                "#B0BEC5",
                "#B0BEC5",
                "#B0BEC5",
                "#B0BEC5",
                "#B0BEC5",
                "#B0BEC5",
                "#B0BEC5",
                "#B0BEC5",
                "#B0BEC5",
                "#B0BEC5",
                "#B0BEC5",
                "#B0BEC5",
                "#B0BEC5",
                "#B0BEC5",
                "#B0BEC5",
                "#B0BEC5",
                "#B0BEC5",
                "#B0BEC5",
                "#B0BEC5",
                "#B0BEC5",
                "#B0BEC5",
                "#B0BEC5",
                "#B0BEC5",
                "#B0BEC5",
                "#B0BEC5",
                "#B0BEC5",
                "#B0BEC5",
                "#B0BEC5",
                "red",
                "#B0BEC5",
                "#B0BEC5",
                "#B0BEC5",
                "#B0BEC5",
                "#B0BEC5",
                "#B0BEC5",
                "#B0BEC5",
                "#B0BEC5",
                "#B0BEC5"
               ]
              ]
             }
            ],
            "label": "Topic 74",
            "method": "update"
           },
           {
            "args": [
             {
              "marker.color": [
               [
                "#B0BEC5",
                "#B0BEC5",
                "#B0BEC5",
                "#B0BEC5",
                "#B0BEC5",
                "#B0BEC5",
                "#B0BEC5",
                "#B0BEC5",
                "#B0BEC5",
                "#B0BEC5",
                "#B0BEC5",
                "#B0BEC5",
                "#B0BEC5",
                "#B0BEC5",
                "#B0BEC5",
                "#B0BEC5",
                "#B0BEC5",
                "#B0BEC5",
                "#B0BEC5",
                "#B0BEC5",
                "#B0BEC5",
                "#B0BEC5",
                "#B0BEC5",
                "#B0BEC5",
                "#B0BEC5",
                "#B0BEC5",
                "#B0BEC5",
                "#B0BEC5",
                "#B0BEC5",
                "#B0BEC5",
                "#B0BEC5",
                "#B0BEC5",
                "#B0BEC5",
                "#B0BEC5",
                "#B0BEC5",
                "#B0BEC5",
                "#B0BEC5",
                "#B0BEC5",
                "#B0BEC5",
                "#B0BEC5",
                "#B0BEC5",
                "#B0BEC5",
                "#B0BEC5",
                "#B0BEC5",
                "#B0BEC5",
                "#B0BEC5",
                "#B0BEC5",
                "#B0BEC5",
                "#B0BEC5",
                "#B0BEC5",
                "#B0BEC5",
                "#B0BEC5",
                "#B0BEC5",
                "#B0BEC5",
                "#B0BEC5",
                "#B0BEC5",
                "#B0BEC5",
                "#B0BEC5",
                "#B0BEC5",
                "#B0BEC5",
                "#B0BEC5",
                "#B0BEC5",
                "#B0BEC5",
                "#B0BEC5",
                "#B0BEC5",
                "#B0BEC5",
                "#B0BEC5",
                "#B0BEC5",
                "#B0BEC5",
                "#B0BEC5",
                "#B0BEC5",
                "#B0BEC5",
                "#B0BEC5",
                "#B0BEC5",
                "#B0BEC5",
                "red",
                "#B0BEC5",
                "#B0BEC5",
                "#B0BEC5",
                "#B0BEC5",
                "#B0BEC5",
                "#B0BEC5",
                "#B0BEC5",
                "#B0BEC5"
               ]
              ]
             }
            ],
            "label": "Topic 75",
            "method": "update"
           },
           {
            "args": [
             {
              "marker.color": [
               [
                "#B0BEC5",
                "#B0BEC5",
                "#B0BEC5",
                "#B0BEC5",
                "#B0BEC5",
                "#B0BEC5",
                "#B0BEC5",
                "#B0BEC5",
                "#B0BEC5",
                "#B0BEC5",
                "#B0BEC5",
                "#B0BEC5",
                "#B0BEC5",
                "#B0BEC5",
                "#B0BEC5",
                "#B0BEC5",
                "#B0BEC5",
                "#B0BEC5",
                "#B0BEC5",
                "#B0BEC5",
                "#B0BEC5",
                "#B0BEC5",
                "#B0BEC5",
                "#B0BEC5",
                "#B0BEC5",
                "#B0BEC5",
                "#B0BEC5",
                "#B0BEC5",
                "#B0BEC5",
                "#B0BEC5",
                "#B0BEC5",
                "#B0BEC5",
                "#B0BEC5",
                "#B0BEC5",
                "#B0BEC5",
                "#B0BEC5",
                "#B0BEC5",
                "#B0BEC5",
                "#B0BEC5",
                "#B0BEC5",
                "#B0BEC5",
                "#B0BEC5",
                "#B0BEC5",
                "#B0BEC5",
                "#B0BEC5",
                "#B0BEC5",
                "#B0BEC5",
                "#B0BEC5",
                "#B0BEC5",
                "#B0BEC5",
                "#B0BEC5",
                "#B0BEC5",
                "#B0BEC5",
                "#B0BEC5",
                "#B0BEC5",
                "#B0BEC5",
                "#B0BEC5",
                "#B0BEC5",
                "#B0BEC5",
                "#B0BEC5",
                "#B0BEC5",
                "#B0BEC5",
                "#B0BEC5",
                "#B0BEC5",
                "#B0BEC5",
                "#B0BEC5",
                "#B0BEC5",
                "#B0BEC5",
                "#B0BEC5",
                "#B0BEC5",
                "#B0BEC5",
                "#B0BEC5",
                "#B0BEC5",
                "#B0BEC5",
                "#B0BEC5",
                "#B0BEC5",
                "red",
                "#B0BEC5",
                "#B0BEC5",
                "#B0BEC5",
                "#B0BEC5",
                "#B0BEC5",
                "#B0BEC5",
                "#B0BEC5"
               ]
              ]
             }
            ],
            "label": "Topic 76",
            "method": "update"
           },
           {
            "args": [
             {
              "marker.color": [
               [
                "#B0BEC5",
                "#B0BEC5",
                "#B0BEC5",
                "#B0BEC5",
                "#B0BEC5",
                "#B0BEC5",
                "#B0BEC5",
                "#B0BEC5",
                "#B0BEC5",
                "#B0BEC5",
                "#B0BEC5",
                "#B0BEC5",
                "#B0BEC5",
                "#B0BEC5",
                "#B0BEC5",
                "#B0BEC5",
                "#B0BEC5",
                "#B0BEC5",
                "#B0BEC5",
                "#B0BEC5",
                "#B0BEC5",
                "#B0BEC5",
                "#B0BEC5",
                "#B0BEC5",
                "#B0BEC5",
                "#B0BEC5",
                "#B0BEC5",
                "#B0BEC5",
                "#B0BEC5",
                "#B0BEC5",
                "#B0BEC5",
                "#B0BEC5",
                "#B0BEC5",
                "#B0BEC5",
                "#B0BEC5",
                "#B0BEC5",
                "#B0BEC5",
                "#B0BEC5",
                "#B0BEC5",
                "#B0BEC5",
                "#B0BEC5",
                "#B0BEC5",
                "#B0BEC5",
                "#B0BEC5",
                "#B0BEC5",
                "#B0BEC5",
                "#B0BEC5",
                "#B0BEC5",
                "#B0BEC5",
                "#B0BEC5",
                "#B0BEC5",
                "#B0BEC5",
                "#B0BEC5",
                "#B0BEC5",
                "#B0BEC5",
                "#B0BEC5",
                "#B0BEC5",
                "#B0BEC5",
                "#B0BEC5",
                "#B0BEC5",
                "#B0BEC5",
                "#B0BEC5",
                "#B0BEC5",
                "#B0BEC5",
                "#B0BEC5",
                "#B0BEC5",
                "#B0BEC5",
                "#B0BEC5",
                "#B0BEC5",
                "#B0BEC5",
                "#B0BEC5",
                "#B0BEC5",
                "#B0BEC5",
                "#B0BEC5",
                "#B0BEC5",
                "#B0BEC5",
                "#B0BEC5",
                "red",
                "#B0BEC5",
                "#B0BEC5",
                "#B0BEC5",
                "#B0BEC5",
                "#B0BEC5",
                "#B0BEC5"
               ]
              ]
             }
            ],
            "label": "Topic 77",
            "method": "update"
           },
           {
            "args": [
             {
              "marker.color": [
               [
                "#B0BEC5",
                "#B0BEC5",
                "#B0BEC5",
                "#B0BEC5",
                "#B0BEC5",
                "#B0BEC5",
                "#B0BEC5",
                "#B0BEC5",
                "#B0BEC5",
                "#B0BEC5",
                "#B0BEC5",
                "#B0BEC5",
                "#B0BEC5",
                "#B0BEC5",
                "#B0BEC5",
                "#B0BEC5",
                "#B0BEC5",
                "#B0BEC5",
                "#B0BEC5",
                "#B0BEC5",
                "#B0BEC5",
                "#B0BEC5",
                "#B0BEC5",
                "#B0BEC5",
                "#B0BEC5",
                "#B0BEC5",
                "#B0BEC5",
                "#B0BEC5",
                "#B0BEC5",
                "#B0BEC5",
                "#B0BEC5",
                "#B0BEC5",
                "#B0BEC5",
                "#B0BEC5",
                "#B0BEC5",
                "#B0BEC5",
                "#B0BEC5",
                "#B0BEC5",
                "#B0BEC5",
                "#B0BEC5",
                "#B0BEC5",
                "#B0BEC5",
                "#B0BEC5",
                "#B0BEC5",
                "#B0BEC5",
                "#B0BEC5",
                "#B0BEC5",
                "#B0BEC5",
                "#B0BEC5",
                "#B0BEC5",
                "#B0BEC5",
                "#B0BEC5",
                "#B0BEC5",
                "#B0BEC5",
                "#B0BEC5",
                "#B0BEC5",
                "#B0BEC5",
                "#B0BEC5",
                "#B0BEC5",
                "#B0BEC5",
                "#B0BEC5",
                "#B0BEC5",
                "#B0BEC5",
                "#B0BEC5",
                "#B0BEC5",
                "#B0BEC5",
                "#B0BEC5",
                "#B0BEC5",
                "#B0BEC5",
                "#B0BEC5",
                "#B0BEC5",
                "#B0BEC5",
                "#B0BEC5",
                "#B0BEC5",
                "#B0BEC5",
                "#B0BEC5",
                "#B0BEC5",
                "#B0BEC5",
                "red",
                "#B0BEC5",
                "#B0BEC5",
                "#B0BEC5",
                "#B0BEC5",
                "#B0BEC5"
               ]
              ]
             }
            ],
            "label": "Topic 78",
            "method": "update"
           },
           {
            "args": [
             {
              "marker.color": [
               [
                "#B0BEC5",
                "#B0BEC5",
                "#B0BEC5",
                "#B0BEC5",
                "#B0BEC5",
                "#B0BEC5",
                "#B0BEC5",
                "#B0BEC5",
                "#B0BEC5",
                "#B0BEC5",
                "#B0BEC5",
                "#B0BEC5",
                "#B0BEC5",
                "#B0BEC5",
                "#B0BEC5",
                "#B0BEC5",
                "#B0BEC5",
                "#B0BEC5",
                "#B0BEC5",
                "#B0BEC5",
                "#B0BEC5",
                "#B0BEC5",
                "#B0BEC5",
                "#B0BEC5",
                "#B0BEC5",
                "#B0BEC5",
                "#B0BEC5",
                "#B0BEC5",
                "#B0BEC5",
                "#B0BEC5",
                "#B0BEC5",
                "#B0BEC5",
                "#B0BEC5",
                "#B0BEC5",
                "#B0BEC5",
                "#B0BEC5",
                "#B0BEC5",
                "#B0BEC5",
                "#B0BEC5",
                "#B0BEC5",
                "#B0BEC5",
                "#B0BEC5",
                "#B0BEC5",
                "#B0BEC5",
                "#B0BEC5",
                "#B0BEC5",
                "#B0BEC5",
                "#B0BEC5",
                "#B0BEC5",
                "#B0BEC5",
                "#B0BEC5",
                "#B0BEC5",
                "#B0BEC5",
                "#B0BEC5",
                "#B0BEC5",
                "#B0BEC5",
                "#B0BEC5",
                "#B0BEC5",
                "#B0BEC5",
                "#B0BEC5",
                "#B0BEC5",
                "#B0BEC5",
                "#B0BEC5",
                "#B0BEC5",
                "#B0BEC5",
                "#B0BEC5",
                "#B0BEC5",
                "#B0BEC5",
                "#B0BEC5",
                "#B0BEC5",
                "#B0BEC5",
                "#B0BEC5",
                "#B0BEC5",
                "#B0BEC5",
                "#B0BEC5",
                "#B0BEC5",
                "#B0BEC5",
                "#B0BEC5",
                "#B0BEC5",
                "red",
                "#B0BEC5",
                "#B0BEC5",
                "#B0BEC5",
                "#B0BEC5"
               ]
              ]
             }
            ],
            "label": "Topic 79",
            "method": "update"
           },
           {
            "args": [
             {
              "marker.color": [
               [
                "#B0BEC5",
                "#B0BEC5",
                "#B0BEC5",
                "#B0BEC5",
                "#B0BEC5",
                "#B0BEC5",
                "#B0BEC5",
                "#B0BEC5",
                "#B0BEC5",
                "#B0BEC5",
                "#B0BEC5",
                "#B0BEC5",
                "#B0BEC5",
                "#B0BEC5",
                "#B0BEC5",
                "#B0BEC5",
                "#B0BEC5",
                "#B0BEC5",
                "#B0BEC5",
                "#B0BEC5",
                "#B0BEC5",
                "#B0BEC5",
                "#B0BEC5",
                "#B0BEC5",
                "#B0BEC5",
                "#B0BEC5",
                "#B0BEC5",
                "#B0BEC5",
                "#B0BEC5",
                "#B0BEC5",
                "#B0BEC5",
                "#B0BEC5",
                "#B0BEC5",
                "#B0BEC5",
                "#B0BEC5",
                "#B0BEC5",
                "#B0BEC5",
                "#B0BEC5",
                "#B0BEC5",
                "#B0BEC5",
                "#B0BEC5",
                "#B0BEC5",
                "#B0BEC5",
                "#B0BEC5",
                "#B0BEC5",
                "#B0BEC5",
                "#B0BEC5",
                "#B0BEC5",
                "#B0BEC5",
                "#B0BEC5",
                "#B0BEC5",
                "#B0BEC5",
                "#B0BEC5",
                "#B0BEC5",
                "#B0BEC5",
                "#B0BEC5",
                "#B0BEC5",
                "#B0BEC5",
                "#B0BEC5",
                "#B0BEC5",
                "#B0BEC5",
                "#B0BEC5",
                "#B0BEC5",
                "#B0BEC5",
                "#B0BEC5",
                "#B0BEC5",
                "#B0BEC5",
                "#B0BEC5",
                "#B0BEC5",
                "#B0BEC5",
                "#B0BEC5",
                "#B0BEC5",
                "#B0BEC5",
                "#B0BEC5",
                "#B0BEC5",
                "#B0BEC5",
                "#B0BEC5",
                "#B0BEC5",
                "#B0BEC5",
                "#B0BEC5",
                "red",
                "#B0BEC5",
                "#B0BEC5",
                "#B0BEC5"
               ]
              ]
             }
            ],
            "label": "Topic 80",
            "method": "update"
           },
           {
            "args": [
             {
              "marker.color": [
               [
                "#B0BEC5",
                "#B0BEC5",
                "#B0BEC5",
                "#B0BEC5",
                "#B0BEC5",
                "#B0BEC5",
                "#B0BEC5",
                "#B0BEC5",
                "#B0BEC5",
                "#B0BEC5",
                "#B0BEC5",
                "#B0BEC5",
                "#B0BEC5",
                "#B0BEC5",
                "#B0BEC5",
                "#B0BEC5",
                "#B0BEC5",
                "#B0BEC5",
                "#B0BEC5",
                "#B0BEC5",
                "#B0BEC5",
                "#B0BEC5",
                "#B0BEC5",
                "#B0BEC5",
                "#B0BEC5",
                "#B0BEC5",
                "#B0BEC5",
                "#B0BEC5",
                "#B0BEC5",
                "#B0BEC5",
                "#B0BEC5",
                "#B0BEC5",
                "#B0BEC5",
                "#B0BEC5",
                "#B0BEC5",
                "#B0BEC5",
                "#B0BEC5",
                "#B0BEC5",
                "#B0BEC5",
                "#B0BEC5",
                "#B0BEC5",
                "#B0BEC5",
                "#B0BEC5",
                "#B0BEC5",
                "#B0BEC5",
                "#B0BEC5",
                "#B0BEC5",
                "#B0BEC5",
                "#B0BEC5",
                "#B0BEC5",
                "#B0BEC5",
                "#B0BEC5",
                "#B0BEC5",
                "#B0BEC5",
                "#B0BEC5",
                "#B0BEC5",
                "#B0BEC5",
                "#B0BEC5",
                "#B0BEC5",
                "#B0BEC5",
                "#B0BEC5",
                "#B0BEC5",
                "#B0BEC5",
                "#B0BEC5",
                "#B0BEC5",
                "#B0BEC5",
                "#B0BEC5",
                "#B0BEC5",
                "#B0BEC5",
                "#B0BEC5",
                "#B0BEC5",
                "#B0BEC5",
                "#B0BEC5",
                "#B0BEC5",
                "#B0BEC5",
                "#B0BEC5",
                "#B0BEC5",
                "#B0BEC5",
                "#B0BEC5",
                "#B0BEC5",
                "#B0BEC5",
                "red",
                "#B0BEC5",
                "#B0BEC5"
               ]
              ]
             }
            ],
            "label": "Topic 81",
            "method": "update"
           },
           {
            "args": [
             {
              "marker.color": [
               [
                "#B0BEC5",
                "#B0BEC5",
                "#B0BEC5",
                "#B0BEC5",
                "#B0BEC5",
                "#B0BEC5",
                "#B0BEC5",
                "#B0BEC5",
                "#B0BEC5",
                "#B0BEC5",
                "#B0BEC5",
                "#B0BEC5",
                "#B0BEC5",
                "#B0BEC5",
                "#B0BEC5",
                "#B0BEC5",
                "#B0BEC5",
                "#B0BEC5",
                "#B0BEC5",
                "#B0BEC5",
                "#B0BEC5",
                "#B0BEC5",
                "#B0BEC5",
                "#B0BEC5",
                "#B0BEC5",
                "#B0BEC5",
                "#B0BEC5",
                "#B0BEC5",
                "#B0BEC5",
                "#B0BEC5",
                "#B0BEC5",
                "#B0BEC5",
                "#B0BEC5",
                "#B0BEC5",
                "#B0BEC5",
                "#B0BEC5",
                "#B0BEC5",
                "#B0BEC5",
                "#B0BEC5",
                "#B0BEC5",
                "#B0BEC5",
                "#B0BEC5",
                "#B0BEC5",
                "#B0BEC5",
                "#B0BEC5",
                "#B0BEC5",
                "#B0BEC5",
                "#B0BEC5",
                "#B0BEC5",
                "#B0BEC5",
                "#B0BEC5",
                "#B0BEC5",
                "#B0BEC5",
                "#B0BEC5",
                "#B0BEC5",
                "#B0BEC5",
                "#B0BEC5",
                "#B0BEC5",
                "#B0BEC5",
                "#B0BEC5",
                "#B0BEC5",
                "#B0BEC5",
                "#B0BEC5",
                "#B0BEC5",
                "#B0BEC5",
                "#B0BEC5",
                "#B0BEC5",
                "#B0BEC5",
                "#B0BEC5",
                "#B0BEC5",
                "#B0BEC5",
                "#B0BEC5",
                "#B0BEC5",
                "#B0BEC5",
                "#B0BEC5",
                "#B0BEC5",
                "#B0BEC5",
                "#B0BEC5",
                "#B0BEC5",
                "#B0BEC5",
                "#B0BEC5",
                "#B0BEC5",
                "red",
                "#B0BEC5"
               ]
              ]
             }
            ],
            "label": "Topic 82",
            "method": "update"
           },
           {
            "args": [
             {
              "marker.color": [
               [
                "#B0BEC5",
                "#B0BEC5",
                "#B0BEC5",
                "#B0BEC5",
                "#B0BEC5",
                "#B0BEC5",
                "#B0BEC5",
                "#B0BEC5",
                "#B0BEC5",
                "#B0BEC5",
                "#B0BEC5",
                "#B0BEC5",
                "#B0BEC5",
                "#B0BEC5",
                "#B0BEC5",
                "#B0BEC5",
                "#B0BEC5",
                "#B0BEC5",
                "#B0BEC5",
                "#B0BEC5",
                "#B0BEC5",
                "#B0BEC5",
                "#B0BEC5",
                "#B0BEC5",
                "#B0BEC5",
                "#B0BEC5",
                "#B0BEC5",
                "#B0BEC5",
                "#B0BEC5",
                "#B0BEC5",
                "#B0BEC5",
                "#B0BEC5",
                "#B0BEC5",
                "#B0BEC5",
                "#B0BEC5",
                "#B0BEC5",
                "#B0BEC5",
                "#B0BEC5",
                "#B0BEC5",
                "#B0BEC5",
                "#B0BEC5",
                "#B0BEC5",
                "#B0BEC5",
                "#B0BEC5",
                "#B0BEC5",
                "#B0BEC5",
                "#B0BEC5",
                "#B0BEC5",
                "#B0BEC5",
                "#B0BEC5",
                "#B0BEC5",
                "#B0BEC5",
                "#B0BEC5",
                "#B0BEC5",
                "#B0BEC5",
                "#B0BEC5",
                "#B0BEC5",
                "#B0BEC5",
                "#B0BEC5",
                "#B0BEC5",
                "#B0BEC5",
                "#B0BEC5",
                "#B0BEC5",
                "#B0BEC5",
                "#B0BEC5",
                "#B0BEC5",
                "#B0BEC5",
                "#B0BEC5",
                "#B0BEC5",
                "#B0BEC5",
                "#B0BEC5",
                "#B0BEC5",
                "#B0BEC5",
                "#B0BEC5",
                "#B0BEC5",
                "#B0BEC5",
                "#B0BEC5",
                "#B0BEC5",
                "#B0BEC5",
                "#B0BEC5",
                "#B0BEC5",
                "#B0BEC5",
                "#B0BEC5",
                "red"
               ]
              ]
             }
            ],
            "label": "Topic 83",
            "method": "update"
           }
          ]
         }
        ],
        "template": {
         "data": {
          "bar": [
           {
            "error_x": {
             "color": "rgb(36,36,36)"
            },
            "error_y": {
             "color": "rgb(36,36,36)"
            },
            "marker": {
             "line": {
              "color": "white",
              "width": 0.5
             },
             "pattern": {
              "fillmode": "overlay",
              "size": 10,
              "solidity": 0.2
             }
            },
            "type": "bar"
           }
          ],
          "barpolar": [
           {
            "marker": {
             "line": {
              "color": "white",
              "width": 0.5
             },
             "pattern": {
              "fillmode": "overlay",
              "size": 10,
              "solidity": 0.2
             }
            },
            "type": "barpolar"
           }
          ],
          "carpet": [
           {
            "aaxis": {
             "endlinecolor": "rgb(36,36,36)",
             "gridcolor": "white",
             "linecolor": "white",
             "minorgridcolor": "white",
             "startlinecolor": "rgb(36,36,36)"
            },
            "baxis": {
             "endlinecolor": "rgb(36,36,36)",
             "gridcolor": "white",
             "linecolor": "white",
             "minorgridcolor": "white",
             "startlinecolor": "rgb(36,36,36)"
            },
            "type": "carpet"
           }
          ],
          "choropleth": [
           {
            "colorbar": {
             "outlinewidth": 1,
             "tickcolor": "rgb(36,36,36)",
             "ticks": "outside"
            },
            "type": "choropleth"
           }
          ],
          "contour": [
           {
            "colorbar": {
             "outlinewidth": 1,
             "tickcolor": "rgb(36,36,36)",
             "ticks": "outside"
            },
            "colorscale": [
             [
              0,
              "#440154"
             ],
             [
              0.1111111111111111,
              "#482878"
             ],
             [
              0.2222222222222222,
              "#3e4989"
             ],
             [
              0.3333333333333333,
              "#31688e"
             ],
             [
              0.4444444444444444,
              "#26828e"
             ],
             [
              0.5555555555555556,
              "#1f9e89"
             ],
             [
              0.6666666666666666,
              "#35b779"
             ],
             [
              0.7777777777777778,
              "#6ece58"
             ],
             [
              0.8888888888888888,
              "#b5de2b"
             ],
             [
              1,
              "#fde725"
             ]
            ],
            "type": "contour"
           }
          ],
          "contourcarpet": [
           {
            "colorbar": {
             "outlinewidth": 1,
             "tickcolor": "rgb(36,36,36)",
             "ticks": "outside"
            },
            "type": "contourcarpet"
           }
          ],
          "heatmap": [
           {
            "colorbar": {
             "outlinewidth": 1,
             "tickcolor": "rgb(36,36,36)",
             "ticks": "outside"
            },
            "colorscale": [
             [
              0,
              "#440154"
             ],
             [
              0.1111111111111111,
              "#482878"
             ],
             [
              0.2222222222222222,
              "#3e4989"
             ],
             [
              0.3333333333333333,
              "#31688e"
             ],
             [
              0.4444444444444444,
              "#26828e"
             ],
             [
              0.5555555555555556,
              "#1f9e89"
             ],
             [
              0.6666666666666666,
              "#35b779"
             ],
             [
              0.7777777777777778,
              "#6ece58"
             ],
             [
              0.8888888888888888,
              "#b5de2b"
             ],
             [
              1,
              "#fde725"
             ]
            ],
            "type": "heatmap"
           }
          ],
          "histogram": [
           {
            "marker": {
             "line": {
              "color": "white",
              "width": 0.6
             }
            },
            "type": "histogram"
           }
          ],
          "histogram2d": [
           {
            "colorbar": {
             "outlinewidth": 1,
             "tickcolor": "rgb(36,36,36)",
             "ticks": "outside"
            },
            "colorscale": [
             [
              0,
              "#440154"
             ],
             [
              0.1111111111111111,
              "#482878"
             ],
             [
              0.2222222222222222,
              "#3e4989"
             ],
             [
              0.3333333333333333,
              "#31688e"
             ],
             [
              0.4444444444444444,
              "#26828e"
             ],
             [
              0.5555555555555556,
              "#1f9e89"
             ],
             [
              0.6666666666666666,
              "#35b779"
             ],
             [
              0.7777777777777778,
              "#6ece58"
             ],
             [
              0.8888888888888888,
              "#b5de2b"
             ],
             [
              1,
              "#fde725"
             ]
            ],
            "type": "histogram2d"
           }
          ],
          "histogram2dcontour": [
           {
            "colorbar": {
             "outlinewidth": 1,
             "tickcolor": "rgb(36,36,36)",
             "ticks": "outside"
            },
            "colorscale": [
             [
              0,
              "#440154"
             ],
             [
              0.1111111111111111,
              "#482878"
             ],
             [
              0.2222222222222222,
              "#3e4989"
             ],
             [
              0.3333333333333333,
              "#31688e"
             ],
             [
              0.4444444444444444,
              "#26828e"
             ],
             [
              0.5555555555555556,
              "#1f9e89"
             ],
             [
              0.6666666666666666,
              "#35b779"
             ],
             [
              0.7777777777777778,
              "#6ece58"
             ],
             [
              0.8888888888888888,
              "#b5de2b"
             ],
             [
              1,
              "#fde725"
             ]
            ],
            "type": "histogram2dcontour"
           }
          ],
          "mesh3d": [
           {
            "colorbar": {
             "outlinewidth": 1,
             "tickcolor": "rgb(36,36,36)",
             "ticks": "outside"
            },
            "type": "mesh3d"
           }
          ],
          "parcoords": [
           {
            "line": {
             "colorbar": {
              "outlinewidth": 1,
              "tickcolor": "rgb(36,36,36)",
              "ticks": "outside"
             }
            },
            "type": "parcoords"
           }
          ],
          "pie": [
           {
            "automargin": true,
            "type": "pie"
           }
          ],
          "scatter": [
           {
            "fillpattern": {
             "fillmode": "overlay",
             "size": 10,
             "solidity": 0.2
            },
            "type": "scatter"
           }
          ],
          "scatter3d": [
           {
            "line": {
             "colorbar": {
              "outlinewidth": 1,
              "tickcolor": "rgb(36,36,36)",
              "ticks": "outside"
             }
            },
            "marker": {
             "colorbar": {
              "outlinewidth": 1,
              "tickcolor": "rgb(36,36,36)",
              "ticks": "outside"
             }
            },
            "type": "scatter3d"
           }
          ],
          "scattercarpet": [
           {
            "marker": {
             "colorbar": {
              "outlinewidth": 1,
              "tickcolor": "rgb(36,36,36)",
              "ticks": "outside"
             }
            },
            "type": "scattercarpet"
           }
          ],
          "scattergeo": [
           {
            "marker": {
             "colorbar": {
              "outlinewidth": 1,
              "tickcolor": "rgb(36,36,36)",
              "ticks": "outside"
             }
            },
            "type": "scattergeo"
           }
          ],
          "scattergl": [
           {
            "marker": {
             "colorbar": {
              "outlinewidth": 1,
              "tickcolor": "rgb(36,36,36)",
              "ticks": "outside"
             }
            },
            "type": "scattergl"
           }
          ],
          "scattermap": [
           {
            "marker": {
             "colorbar": {
              "outlinewidth": 1,
              "tickcolor": "rgb(36,36,36)",
              "ticks": "outside"
             }
            },
            "type": "scattermap"
           }
          ],
          "scattermapbox": [
           {
            "marker": {
             "colorbar": {
              "outlinewidth": 1,
              "tickcolor": "rgb(36,36,36)",
              "ticks": "outside"
             }
            },
            "type": "scattermapbox"
           }
          ],
          "scatterpolar": [
           {
            "marker": {
             "colorbar": {
              "outlinewidth": 1,
              "tickcolor": "rgb(36,36,36)",
              "ticks": "outside"
             }
            },
            "type": "scatterpolar"
           }
          ],
          "scatterpolargl": [
           {
            "marker": {
             "colorbar": {
              "outlinewidth": 1,
              "tickcolor": "rgb(36,36,36)",
              "ticks": "outside"
             }
            },
            "type": "scatterpolargl"
           }
          ],
          "scatterternary": [
           {
            "marker": {
             "colorbar": {
              "outlinewidth": 1,
              "tickcolor": "rgb(36,36,36)",
              "ticks": "outside"
             }
            },
            "type": "scatterternary"
           }
          ],
          "surface": [
           {
            "colorbar": {
             "outlinewidth": 1,
             "tickcolor": "rgb(36,36,36)",
             "ticks": "outside"
            },
            "colorscale": [
             [
              0,
              "#440154"
             ],
             [
              0.1111111111111111,
              "#482878"
             ],
             [
              0.2222222222222222,
              "#3e4989"
             ],
             [
              0.3333333333333333,
              "#31688e"
             ],
             [
              0.4444444444444444,
              "#26828e"
             ],
             [
              0.5555555555555556,
              "#1f9e89"
             ],
             [
              0.6666666666666666,
              "#35b779"
             ],
             [
              0.7777777777777778,
              "#6ece58"
             ],
             [
              0.8888888888888888,
              "#b5de2b"
             ],
             [
              1,
              "#fde725"
             ]
            ],
            "type": "surface"
           }
          ],
          "table": [
           {
            "cells": {
             "fill": {
              "color": "rgb(237,237,237)"
             },
             "line": {
              "color": "white"
             }
            },
            "header": {
             "fill": {
              "color": "rgb(217,217,217)"
             },
             "line": {
              "color": "white"
             }
            },
            "type": "table"
           }
          ]
         },
         "layout": {
          "annotationdefaults": {
           "arrowhead": 0,
           "arrowwidth": 1
          },
          "autotypenumbers": "strict",
          "coloraxis": {
           "colorbar": {
            "outlinewidth": 1,
            "tickcolor": "rgb(36,36,36)",
            "ticks": "outside"
           }
          },
          "colorscale": {
           "diverging": [
            [
             0,
             "rgb(103,0,31)"
            ],
            [
             0.1,
             "rgb(178,24,43)"
            ],
            [
             0.2,
             "rgb(214,96,77)"
            ],
            [
             0.3,
             "rgb(244,165,130)"
            ],
            [
             0.4,
             "rgb(253,219,199)"
            ],
            [
             0.5,
             "rgb(247,247,247)"
            ],
            [
             0.6,
             "rgb(209,229,240)"
            ],
            [
             0.7,
             "rgb(146,197,222)"
            ],
            [
             0.8,
             "rgb(67,147,195)"
            ],
            [
             0.9,
             "rgb(33,102,172)"
            ],
            [
             1,
             "rgb(5,48,97)"
            ]
           ],
           "sequential": [
            [
             0,
             "#440154"
            ],
            [
             0.1111111111111111,
             "#482878"
            ],
            [
             0.2222222222222222,
             "#3e4989"
            ],
            [
             0.3333333333333333,
             "#31688e"
            ],
            [
             0.4444444444444444,
             "#26828e"
            ],
            [
             0.5555555555555556,
             "#1f9e89"
            ],
            [
             0.6666666666666666,
             "#35b779"
            ],
            [
             0.7777777777777778,
             "#6ece58"
            ],
            [
             0.8888888888888888,
             "#b5de2b"
            ],
            [
             1,
             "#fde725"
            ]
           ],
           "sequentialminus": [
            [
             0,
             "#440154"
            ],
            [
             0.1111111111111111,
             "#482878"
            ],
            [
             0.2222222222222222,
             "#3e4989"
            ],
            [
             0.3333333333333333,
             "#31688e"
            ],
            [
             0.4444444444444444,
             "#26828e"
            ],
            [
             0.5555555555555556,
             "#1f9e89"
            ],
            [
             0.6666666666666666,
             "#35b779"
            ],
            [
             0.7777777777777778,
             "#6ece58"
            ],
            [
             0.8888888888888888,
             "#b5de2b"
            ],
            [
             1,
             "#fde725"
            ]
           ]
          },
          "colorway": [
           "#1F77B4",
           "#FF7F0E",
           "#2CA02C",
           "#D62728",
           "#9467BD",
           "#8C564B",
           "#E377C2",
           "#7F7F7F",
           "#BCBD22",
           "#17BECF"
          ],
          "font": {
           "color": "rgb(36,36,36)"
          },
          "geo": {
           "bgcolor": "white",
           "lakecolor": "white",
           "landcolor": "white",
           "showlakes": true,
           "showland": true,
           "subunitcolor": "white"
          },
          "hoverlabel": {
           "align": "left"
          },
          "hovermode": "closest",
          "mapbox": {
           "style": "light"
          },
          "paper_bgcolor": "white",
          "plot_bgcolor": "white",
          "polar": {
           "angularaxis": {
            "gridcolor": "rgb(232,232,232)",
            "linecolor": "rgb(36,36,36)",
            "showgrid": false,
            "showline": true,
            "ticks": "outside"
           },
           "bgcolor": "white",
           "radialaxis": {
            "gridcolor": "rgb(232,232,232)",
            "linecolor": "rgb(36,36,36)",
            "showgrid": false,
            "showline": true,
            "ticks": "outside"
           }
          },
          "scene": {
           "xaxis": {
            "backgroundcolor": "white",
            "gridcolor": "rgb(232,232,232)",
            "gridwidth": 2,
            "linecolor": "rgb(36,36,36)",
            "showbackground": true,
            "showgrid": false,
            "showline": true,
            "ticks": "outside",
            "zeroline": false,
            "zerolinecolor": "rgb(36,36,36)"
           },
           "yaxis": {
            "backgroundcolor": "white",
            "gridcolor": "rgb(232,232,232)",
            "gridwidth": 2,
            "linecolor": "rgb(36,36,36)",
            "showbackground": true,
            "showgrid": false,
            "showline": true,
            "ticks": "outside",
            "zeroline": false,
            "zerolinecolor": "rgb(36,36,36)"
           },
           "zaxis": {
            "backgroundcolor": "white",
            "gridcolor": "rgb(232,232,232)",
            "gridwidth": 2,
            "linecolor": "rgb(36,36,36)",
            "showbackground": true,
            "showgrid": false,
            "showline": true,
            "ticks": "outside",
            "zeroline": false,
            "zerolinecolor": "rgb(36,36,36)"
           }
          },
          "shapedefaults": {
           "fillcolor": "black",
           "line": {
            "width": 0
           },
           "opacity": 0.3
          },
          "ternary": {
           "aaxis": {
            "gridcolor": "rgb(232,232,232)",
            "linecolor": "rgb(36,36,36)",
            "showgrid": false,
            "showline": true,
            "ticks": "outside"
           },
           "baxis": {
            "gridcolor": "rgb(232,232,232)",
            "linecolor": "rgb(36,36,36)",
            "showgrid": false,
            "showline": true,
            "ticks": "outside"
           },
           "bgcolor": "white",
           "caxis": {
            "gridcolor": "rgb(232,232,232)",
            "linecolor": "rgb(36,36,36)",
            "showgrid": false,
            "showline": true,
            "ticks": "outside"
           }
          },
          "title": {
           "x": 0.05
          },
          "xaxis": {
           "automargin": true,
           "gridcolor": "rgb(232,232,232)",
           "linecolor": "rgb(36,36,36)",
           "showgrid": false,
           "showline": true,
           "ticks": "outside",
           "title": {
            "standoff": 15
           },
           "zeroline": false,
           "zerolinecolor": "rgb(36,36,36)"
          },
          "yaxis": {
           "automargin": true,
           "gridcolor": "rgb(232,232,232)",
           "linecolor": "rgb(36,36,36)",
           "showgrid": false,
           "showline": true,
           "ticks": "outside",
           "title": {
            "standoff": 15
           },
           "zeroline": false,
           "zerolinecolor": "rgb(36,36,36)"
          }
         }
        },
        "title": {
         "font": {
          "color": "Black",
          "size": 22
         },
         "text": "<b>Intertopic Distance Map</b>",
         "x": 0.5,
         "xanchor": "center",
         "y": 0.95,
         "yanchor": "top"
        },
        "width": 650,
        "xaxis": {
         "anchor": "y",
         "domain": [
          0,
          1
         ],
         "range": [
          -15.145542860031128,
          26.476948738098145
         ],
         "title": {
          "text": ""
         },
         "visible": false
        },
        "yaxis": {
         "anchor": "x",
         "domain": [
          0,
          1
         ],
         "range": [
          -14.04997992515564,
          20.31832857131958
         ],
         "title": {
          "text": ""
         },
         "visible": false
        }
       }
      }
     },
     "metadata": {},
     "output_type": "display_data"
    }
   ],
   "source": [
    "topic_model.visualize_topics(custom_labels=True)"
   ]
  },
  {
   "cell_type": "code",
   "execution_count": 66,
   "id": "e2d6856f",
   "metadata": {},
   "outputs": [
    {
     "data": {
      "text/html": [
       "<div>\n",
       "<style scoped>\n",
       "    .dataframe tbody tr th:only-of-type {\n",
       "        vertical-align: middle;\n",
       "    }\n",
       "\n",
       "    .dataframe tbody tr th {\n",
       "        vertical-align: top;\n",
       "    }\n",
       "\n",
       "    .dataframe thead th {\n",
       "        text-align: right;\n",
       "    }\n",
       "</style>\n",
       "<table border=\"1\" class=\"dataframe\">\n",
       "  <thead>\n",
       "    <tr style=\"text-align: right;\">\n",
       "      <th></th>\n",
       "      <th>Topic</th>\n",
       "      <th>Count</th>\n",
       "      <th>Name</th>\n",
       "      <th>CustomName</th>\n",
       "      <th>Representation</th>\n",
       "      <th>KeyBERT</th>\n",
       "      <th>OpenAI</th>\n",
       "      <th>MMR</th>\n",
       "      <th>POS</th>\n",
       "      <th>Representative_Docs</th>\n",
       "    </tr>\n",
       "  </thead>\n",
       "  <tbody>\n",
       "    <tr>\n",
       "      <th>0</th>\n",
       "      <td>-1</td>\n",
       "      <td>570</td>\n",
       "      <td>-1_ai_slop_content_ai slop</td>\n",
       "      <td>Outlier Topic</td>\n",
       "      <td>[ai, slop, content, ai slop, people, generated...</td>\n",
       "      <td>[social media, ai generated, facebook, ai, con...</td>\n",
       "      <td>[AI-Generated Content and Viral Trends]</td>\n",
       "      <td>[ai, content, ai slop, internet, ai generated,...</td>\n",
       "      <td>[slop, content, people, internet, use, like, i...</td>\n",
       "      <td>[Experiences like this — staring at a collecti...</td>\n",
       "    </tr>\n",
       "    <tr>\n",
       "      <th>1</th>\n",
       "      <td>0</td>\n",
       "      <td>57</td>\n",
       "      <td>0_cola_coca_coca cola_ad</td>\n",
       "      <td>Coca-Cola's AI Holiday Advertising</td>\n",
       "      <td>[cola, coca, coca cola, ad, company, holiday, ...</td>\n",
       "      <td>[coca cola, cola, coca, commercial, advertisin...</td>\n",
       "      <td>[Coca-Cola's AI Holiday Advertising]</td>\n",
       "      <td>[coca cola, company, ads, artists, ai technolo...</td>\n",
       "      <td>[cola, ad, company, holiday, commercial, backl...</td>\n",
       "      <td>[- ^ \"Coca-Cola causes controversy with AI-gen...</td>\n",
       "    </tr>\n",
       "    <tr>\n",
       "      <th>2</th>\n",
       "      <td>1</td>\n",
       "      <td>44</td>\n",
       "      <td>1_trump_donald trump_donald_posted</td>\n",
       "      <td>Trump AI-Generated Campaign Images</td>\n",
       "      <td>[trump, donald trump, donald, posted, images, ...</td>\n",
       "      <td>[trump posted, donald, donald trump, trump, de...</td>\n",
       "      <td>[Trump AI-Generated Campaign Images]</td>\n",
       "      <td>[trump, donald trump, donald, images, mcdonald...</td>\n",
       "      <td>[images, photo, women, image, young, president...</td>\n",
       "      <td>[Taylor Swift fans are not endorsing Donald Tr...</td>\n",
       "    </tr>\n",
       "    <tr>\n",
       "      <th>3</th>\n",
       "      <td>2</td>\n",
       "      <td>37</td>\n",
       "      <td>2_experience_wonka_event_factory</td>\n",
       "      <td>Controversial Wonka-themed Event</td>\n",
       "      <td>[experience, wonka, event, factory, children, ...</td>\n",
       "      <td>[wonka, charlie, pure imagination, roald dahl,...</td>\n",
       "      <td>[Controversial Wonka-themed Event]</td>\n",
       "      <td>[wonka, event, factory, children, sinclair, im...</td>\n",
       "      <td>[experience, event, factory, children, love, p...</td>\n",
       "      <td>[Held at the Box Hub, a warehouse event space ...</td>\n",
       "    </tr>\n",
       "    <tr>\n",
       "      <th>4</th>\n",
       "      <td>3</td>\n",
       "      <td>35</td>\n",
       "      <td>3_2024_november 2024_august 2024_november</td>\n",
       "      <td>November 2024 News Updates</td>\n",
       "      <td>[2024, november 2024, august 2024, november, a...</td>\n",
       "      <td>[november 2024, october 2024, july 2024, septe...</td>\n",
       "      <td>[November 2024 News Updates]</td>\n",
       "      <td>[2024, november 2024, august 2024, october 202...</td>\n",
       "      <td>[, , , , , , , , , ]</td>\n",
       "      <td>[- ^ Kalita, Parash Jyoti (1 November 2024)., ...</td>\n",
       "    </tr>\n",
       "    <tr>\n",
       "      <th>...</th>\n",
       "      <td>...</td>\n",
       "      <td>...</td>\n",
       "      <td>...</td>\n",
       "      <td>...</td>\n",
       "      <td>...</td>\n",
       "      <td>...</td>\n",
       "      <td>...</td>\n",
       "      <td>...</td>\n",
       "      <td>...</td>\n",
       "      <td>...</td>\n",
       "    </tr>\n",
       "    <tr>\n",
       "      <th>80</th>\n",
       "      <td>79</td>\n",
       "      <td>6</td>\n",
       "      <td>79_wyp100_ign_twitter_bankhurst</td>\n",
       "      <td>IGN UK News and Staff</td>\n",
       "      <td>[wyp100, ign, twitter, bankhurst, wesley uk, u...</td>\n",
       "      <td>[wesley uk, news editor, uk news, reporter, we...</td>\n",
       "      <td>[IGN UK News and Staff]</td>\n",
       "      <td>[wyp100, ign, bankhurst, wesley uk, uk news, n...</td>\n",
       "      <td>[reporter, news, writer, , , , , , , ]</td>\n",
       "      <td>[Find him on Twitter at @wyp100., Wesley is th...</td>\n",
       "    </tr>\n",
       "    <tr>\n",
       "      <th>81</th>\n",
       "      <td>80</td>\n",
       "      <td>6</td>\n",
       "      <td>80_revenue_make money_money_make</td>\n",
       "      <td>Income Generation and Revenue Strategies</td>\n",
       "      <td>[revenue, make money, money, make, people don,...</td>\n",
       "      <td>[generate revenue, make money, earn, revenue, ...</td>\n",
       "      <td>[Income Generation and Revenue Strategies]</td>\n",
       "      <td>[revenue, make money, people don, generate rev...</td>\n",
       "      <td>[revenue, money, economics, viewers, interview...</td>\n",
       "      <td>[Getachew claims viewers can “earn between $25...</td>\n",
       "    </tr>\n",
       "    <tr>\n",
       "      <th>82</th>\n",
       "      <td>81</td>\n",
       "      <td>5</td>\n",
       "      <td>81_404 media_404_media_media jason</td>\n",
       "      <td>404 Media and Jason Koebler</td>\n",
       "      <td>[404 media, 404, media, media jason, telling, ...</td>\n",
       "      <td>[404 media, 404, media, media jason, jason, st...</td>\n",
       "      <td>[404 Media and Jason Koebler]</td>\n",
       "      <td>[404 media, 404, media, media jason, middle, j...</td>\n",
       "      <td>[middle, story, , , , , , , , ]</td>\n",
       "      <td>[404 Media., 404 Media., 404 Media.]</td>\n",
       "    </tr>\n",
       "    <tr>\n",
       "      <th>83</th>\n",
       "      <td>82</td>\n",
       "      <td>5</td>\n",
       "      <td>82_ops_black ops_black_duty black</td>\n",
       "      <td>AI Use in Call of Duty</td>\n",
       "      <td>[ops, black ops, black, duty black, loading sc...</td>\n",
       "      <td>[black ops, ai slop, ai generated, ai tools, a...</td>\n",
       "      <td>[AI Use in Call of Duty]</td>\n",
       "      <td>[ops, black ops, duty black, screens, artifici...</td>\n",
       "      <td>[screens, loading, artificial intelligence, al...</td>\n",
       "      <td>[But so far, Black Ops 6 has proven generative...</td>\n",
       "    </tr>\n",
       "    <tr>\n",
       "      <th>84</th>\n",
       "      <td>83</td>\n",
       "      <td>5</td>\n",
       "      <td>83_points_500_bundle_sold</td>\n",
       "      <td>In-Game Currency and Sales</td>\n",
       "      <td>[points, 500, bundle, sold, real world, premiu...</td>\n",
       "      <td>[bundle, cost, activision, dollars, premium, p...</td>\n",
       "      <td>[In-Game Currency and Sales]</td>\n",
       "      <td>[points, 500, bundle, real world, premium, val...</td>\n",
       "      <td>[bundle, premium, dollars, millions, hundreds,...</td>\n",
       "      <td>[1,500 COD Points is approximately valued at $...</td>\n",
       "    </tr>\n",
       "  </tbody>\n",
       "</table>\n",
       "<p>85 rows × 10 columns</p>\n",
       "</div>"
      ],
      "text/plain": [
       "    Topic  Count                                       Name  \\\n",
       "0      -1    570                 -1_ai_slop_content_ai slop   \n",
       "1       0     57                   0_cola_coca_coca cola_ad   \n",
       "2       1     44         1_trump_donald trump_donald_posted   \n",
       "3       2     37           2_experience_wonka_event_factory   \n",
       "4       3     35  3_2024_november 2024_august 2024_november   \n",
       "..    ...    ...                                        ...   \n",
       "80     79      6            79_wyp100_ign_twitter_bankhurst   \n",
       "81     80      6           80_revenue_make money_money_make   \n",
       "82     81      5         81_404 media_404_media_media jason   \n",
       "83     82      5          82_ops_black ops_black_duty black   \n",
       "84     83      5                  83_points_500_bundle_sold   \n",
       "\n",
       "                                  CustomName  \\\n",
       "0                              Outlier Topic   \n",
       "1         Coca-Cola's AI Holiday Advertising   \n",
       "2         Trump AI-Generated Campaign Images   \n",
       "3           Controversial Wonka-themed Event   \n",
       "4                 November 2024 News Updates   \n",
       "..                                       ...   \n",
       "80                     IGN UK News and Staff   \n",
       "81  Income Generation and Revenue Strategies   \n",
       "82               404 Media and Jason Koebler   \n",
       "83                    AI Use in Call of Duty   \n",
       "84                In-Game Currency and Sales   \n",
       "\n",
       "                                       Representation  \\\n",
       "0   [ai, slop, content, ai slop, people, generated...   \n",
       "1   [cola, coca, coca cola, ad, company, holiday, ...   \n",
       "2   [trump, donald trump, donald, posted, images, ...   \n",
       "3   [experience, wonka, event, factory, children, ...   \n",
       "4   [2024, november 2024, august 2024, november, a...   \n",
       "..                                                ...   \n",
       "80  [wyp100, ign, twitter, bankhurst, wesley uk, u...   \n",
       "81  [revenue, make money, money, make, people don,...   \n",
       "82  [404 media, 404, media, media jason, telling, ...   \n",
       "83  [ops, black ops, black, duty black, loading sc...   \n",
       "84  [points, 500, bundle, sold, real world, premiu...   \n",
       "\n",
       "                                              KeyBERT  \\\n",
       "0   [social media, ai generated, facebook, ai, con...   \n",
       "1   [coca cola, cola, coca, commercial, advertisin...   \n",
       "2   [trump posted, donald, donald trump, trump, de...   \n",
       "3   [wonka, charlie, pure imagination, roald dahl,...   \n",
       "4   [november 2024, october 2024, july 2024, septe...   \n",
       "..                                                ...   \n",
       "80  [wesley uk, news editor, uk news, reporter, we...   \n",
       "81  [generate revenue, make money, earn, revenue, ...   \n",
       "82  [404 media, 404, media, media jason, jason, st...   \n",
       "83  [black ops, ai slop, ai generated, ai tools, a...   \n",
       "84  [bundle, cost, activision, dollars, premium, p...   \n",
       "\n",
       "                                        OpenAI  \\\n",
       "0      [AI-Generated Content and Viral Trends]   \n",
       "1         [Coca-Cola's AI Holiday Advertising]   \n",
       "2         [Trump AI-Generated Campaign Images]   \n",
       "3           [Controversial Wonka-themed Event]   \n",
       "4                 [November 2024 News Updates]   \n",
       "..                                         ...   \n",
       "80                     [IGN UK News and Staff]   \n",
       "81  [Income Generation and Revenue Strategies]   \n",
       "82               [404 Media and Jason Koebler]   \n",
       "83                    [AI Use in Call of Duty]   \n",
       "84                [In-Game Currency and Sales]   \n",
       "\n",
       "                                                  MMR  \\\n",
       "0   [ai, content, ai slop, internet, ai generated,...   \n",
       "1   [coca cola, company, ads, artists, ai technolo...   \n",
       "2   [trump, donald trump, donald, images, mcdonald...   \n",
       "3   [wonka, event, factory, children, sinclair, im...   \n",
       "4   [2024, november 2024, august 2024, october 202...   \n",
       "..                                                ...   \n",
       "80  [wyp100, ign, bankhurst, wesley uk, uk news, n...   \n",
       "81  [revenue, make money, people don, generate rev...   \n",
       "82  [404 media, 404, media, media jason, middle, j...   \n",
       "83  [ops, black ops, duty black, screens, artifici...   \n",
       "84  [points, 500, bundle, real world, premium, val...   \n",
       "\n",
       "                                                  POS  \\\n",
       "0   [slop, content, people, internet, use, like, i...   \n",
       "1   [cola, ad, company, holiday, commercial, backl...   \n",
       "2   [images, photo, women, image, young, president...   \n",
       "3   [experience, event, factory, children, love, p...   \n",
       "4                                [, , , , , , , , , ]   \n",
       "..                                                ...   \n",
       "80             [reporter, news, writer, , , , , , , ]   \n",
       "81  [revenue, money, economics, viewers, interview...   \n",
       "82                    [middle, story, , , , , , , , ]   \n",
       "83  [screens, loading, artificial intelligence, al...   \n",
       "84  [bundle, premium, dollars, millions, hundreds,...   \n",
       "\n",
       "                                  Representative_Docs  \n",
       "0   [Experiences like this — staring at a collecti...  \n",
       "1   [- ^ \"Coca-Cola causes controversy with AI-gen...  \n",
       "2   [Taylor Swift fans are not endorsing Donald Tr...  \n",
       "3   [Held at the Box Hub, a warehouse event space ...  \n",
       "4   [- ^ Kalita, Parash Jyoti (1 November 2024)., ...  \n",
       "..                                                ...  \n",
       "80  [Find him on Twitter at @wyp100., Wesley is th...  \n",
       "81  [Getachew claims viewers can “earn between $25...  \n",
       "82               [404 Media., 404 Media., 404 Media.]  \n",
       "83  [But so far, Black Ops 6 has proven generative...  \n",
       "84  [1,500 COD Points is approximately valued at $...  \n",
       "\n",
       "[85 rows x 10 columns]"
      ]
     },
     "execution_count": 66,
     "metadata": {},
     "output_type": "execute_result"
    }
   ],
   "source": [
    "chatgpt_topic_labels = {\n",
    "    topic: \" | \".join(list(zip(*values))[0])\n",
    "    for topic, values in topic_model.topic_aspects_[\"OpenAI\"].items()\n",
    "}\n",
    "chatgpt_topic_labels[-1] = \"Outlier Topic\"\n",
    "topic_model.set_topic_labels(chatgpt_topic_labels)\n",
    "\n",
    "topic_model.get_topic_info()"
   ]
  },
  {
   "cell_type": "code",
   "execution_count": 67,
   "id": "5b02925d",
   "metadata": {},
   "outputs": [
    {
     "data": {
      "text/plain": [
       "['Outlier Topic',\n",
       " \"Coca-Cola's AI Holiday Advertising\",\n",
       " 'Trump AI-Generated Campaign Images',\n",
       " 'Controversial Wonka-themed Event',\n",
       " 'November 2024 News Updates',\n",
       " \"Square Enix's Use of AI Art\",\n",
       " 'Dublin Halloween Parade Hoax',\n",
       " 'Major New York News Coverage',\n",
       " 'Examination of \"Slop\" in Economy and Culture',\n",
       " 'Ethical and Creative Impacts of Generative AI',\n",
       " 'Google Search Engine and SEO',\n",
       " 'AI-Generated Low-Quality Content',\n",
       " 'Facebook Spam and Monetization Tactics',\n",
       " 'John Milton Freedom Foundation and Social Media',\n",
       " '2025 Retrieval Records',\n",
       " 'AI-Generated Content Industry',\n",
       " 'Advances in Large Language Models',\n",
       " 'Angry Birds Block Quest Launch',\n",
       " 'AI Investment Risks and Outlook',\n",
       " 'Brand Strategy and Trends',\n",
       " 'Evolution of Spam and Unwanted Content',\n",
       " 'Misinformation and Extremism During Hurricanes',\n",
       " 'AI-Driven Zombie Internet Era',\n",
       " 'Positive Reassurance and Affirmation',\n",
       " 'Viral Social Media Strategies',\n",
       " 'Far-Right Media and Conspiracies',\n",
       " \"Square Enix's AI and Tech Strategy\",\n",
       " 'Social Media Engagement and Scams',\n",
       " 'AI-Generated Religious Engagement Content',\n",
       " 'Impact of ChatGPT on Text Generation',\n",
       " 'Italian Brainrot Trend Analysis',\n",
       " 'Spotify Wrapped AI Podcast',\n",
       " 'Amateur Performances and Low-Quality Scripts',\n",
       " 'Zombie Santa Loading Screen Backlash',\n",
       " 'Viral Internet Meme Culture',\n",
       " 'Advertising and Affiliate Marketing',\n",
       " 'Document Description and Guidelines',\n",
       " \"Website Owner's Fake Content Admission\",\n",
       " 'AI-Generated Image Quality Issues',\n",
       " 'American Cultural Reality Divide',\n",
       " 'Academic Debate on AI Potential',\n",
       " 'Evaluating Online Scam Allegations',\n",
       " 'Document Retrieval Dates 2024',\n",
       " 'Activision AI-Generated Game Cosmetics',\n",
       " 'Technological Innovation and Content Development',\n",
       " 'AI-Generated Books in Libraries',\n",
       " 'AI Impact on Voice Acting',\n",
       " 'Controversial Event Ticket Pricing',\n",
       " 'Understanding Misinformation and Beliefs',\n",
       " 'The Fake Parade Plot',\n",
       " \"Halloween Parade on O'Connell Street\",\n",
       " 'Halloween Event Listings and Advertising',\n",
       " 'Library Digital Media Licensing',\n",
       " 'AI Controversy in Creative Industries',\n",
       " 'Acknowledgment of Mistakes',\n",
       " \"Takashi Kiryu's 2024 Blockchain Outlook\",\n",
       " 'AI Usage in Film Promotion',\n",
       " 'Activision Artist Layoffs and AI Use',\n",
       " 'September 2024 Retrieval Records',\n",
       " 'Document Retrieval Dates 2025',\n",
       " 'Eurogamer Germany Gaming News',\n",
       " 'AI-Generated Low-Quality Content',\n",
       " 'AI-Generated News Narration',\n",
       " 'Bizarre AI-Generated Internet Imagery',\n",
       " 'Managing AI Slop for Brands',\n",
       " 'Event Cancellation and Public Response',\n",
       " 'Far-Right MAGA Social Media Campaign',\n",
       " 'Environmental Pollution and Progress',\n",
       " 'IGN Contact and Credentials',\n",
       " 'Activision Fake Game Market Research',\n",
       " '2024 Album Covers and Reactions',\n",
       " 'Technology Impact on Jobs',\n",
       " 'Social Media Spam Strategies',\n",
       " 'News Updates and Contact Methods',\n",
       " 'Generative AI in Content Creation',\n",
       " 'Meta Content Moderation Challenges',\n",
       " 'AI Art and Political Misinformation',\n",
       " 'Global Social Media Advertising Trends',\n",
       " 'Internet Slang and AI Misinformation',\n",
       " 'Uncertain Fire Official Identities',\n",
       " 'IGN UK News and Staff',\n",
       " 'Income Generation and Revenue Strategies',\n",
       " '404 Media and Jason Koebler',\n",
       " 'AI Use in Call of Duty',\n",
       " 'In-Game Currency and Sales']"
      ]
     },
     "execution_count": 67,
     "metadata": {},
     "output_type": "execute_result"
    }
   ],
   "source": [
    "topic_model.get_topic_info()['CustomName'].tolist()"
   ]
  },
  {
   "cell_type": "code",
   "execution_count": 68,
   "id": "82405937",
   "metadata": {},
   "outputs": [
    {
     "data": {
      "application/vnd.plotly.v1+json": {
       "config": {
        "plotlyServerURL": "https://plot.ly"
       },
       "data": [
        {
         "hoverinfo": "text",
         "marker": {
          "color": "rgb(61,153,112)"
         },
         "mode": "lines",
         "type": "scatter",
         "x": {
          "bdata": "AAAAAAAAAAAcsl5fP1nSPxyyXl8/WdI/AAAAAAAAAAA=",
          "dtype": "f8"
         },
         "xaxis": "x",
         "y": {
          "bdata": "AAAAAAAAFMAAAAAAAAAUwAAAAAAAAC7AAAAAAAAALsA=",
          "dtype": "f8"
         },
         "yaxis": "y"
        },
        {
         "hoverinfo": "text",
         "marker": {
          "color": "rgb(255,65,54)"
         },
         "mode": "lines",
         "type": "scatter",
         "x": {
          "bdata": "AAAAAAAAAABcYoCuNB7ZP1xigK40Htk/AAAAAAAAAAA=",
          "dtype": "f8"
         },
         "xaxis": "x",
         "y": {
          "bdata": "AAAAAAAAOcAAAAAAAAA5wAAAAAAAgEHAAAAAAACAQcA=",
          "dtype": "f8"
         },
         "yaxis": "y"
        },
        {
         "hoverinfo": "text",
         "marker": {
          "color": "rgb(255,65,54)"
         },
         "mode": "lines",
         "type": "scatter",
         "x": {
          "bdata": "AAAAAAAAAAC2NKHpUMnjP7Y0oelQyeM/AAAAAAAAAAA=",
          "dtype": "f8"
         },
         "xaxis": "x",
         "y": {
          "bdata": "AAAAAACARsAAAAAAAIBGwAAAAAAAgEvAAAAAAACAS8A=",
          "dtype": "f8"
         },
         "yaxis": "y"
        },
        {
         "hoverinfo": "text",
         "marker": {
          "color": "rgb(255,65,54)"
         },
         "mode": "lines",
         "type": "scatter",
         "x": {
          "bdata": "XGKArjQe2T90TazELMftP3RNrMQsx+0/tjSh6VDJ4z8=",
          "dtype": "f8"
         },
         "xaxis": "x",
         "y": {
          "bdata": "AAAAAAAAPsAAAAAAAAA+wAAAAAAAAEnAAAAAAAAAScA=",
          "dtype": "f8"
         },
         "yaxis": "y"
        },
        {
         "hoverinfo": "text",
         "marker": {
          "color": "rgb(0,116,217)"
         },
         "mode": "lines",
         "type": "scatter",
         "x": {
          "bdata": "HLJeXz9Z0j+AKmu0MhryP4Aqa7QyGvI/dE2sxCzH7T8=",
          "dtype": "f8"
         },
         "xaxis": "x",
         "y": {
          "bdata": "AAAAAAAAJMAAAAAAAAAkwAAAAAAAAETAAAAAAAAARMA=",
          "dtype": "f8"
         },
         "yaxis": "y"
        },
        {
         "hoverinfo": "text",
         "marker": {
          "color": "rgb(35,205,205)"
         },
         "mode": "lines",
         "type": "scatter",
         "x": {
          "bdata": "AAAAAAAAAABo+x3WzMrgP2j7HdbMyuA/AAAAAAAAAAA=",
          "dtype": "f8"
         },
         "xaxis": "x",
         "y": {
          "bdata": "AAAAAADAUsAAAAAAAMBSwAAAAAAAQFXAAAAAAABAVcA=",
          "dtype": "f8"
         },
         "yaxis": "y"
        },
        {
         "hoverinfo": "text",
         "marker": {
          "color": "rgb(35,205,205)"
         },
         "mode": "lines",
         "type": "scatter",
         "x": {
          "bdata": "AAAAAAAAAACtlRY0C87sP62VFjQLzuw/aPsd1szK4D8=",
          "dtype": "f8"
         },
         "xaxis": "x",
         "y": {
          "bdata": "AAAAAABAUMAAAAAAAEBQwAAAAAAAAFTAAAAAAAAAVMA=",
          "dtype": "f8"
         },
         "yaxis": "y"
        },
        {
         "hoverinfo": "text",
         "marker": {
          "color": "rgb(133,20,75)"
         },
         "mode": "lines",
         "type": "scatter",
         "x": {
          "bdata": "AAAAAAAAAAAux5FYgQ7rPy7HkViBDus/AAAAAAAAAAA=",
          "dtype": "f8"
         },
         "xaxis": "x",
         "y": {
          "bdata": "AAAAAADAV8AAAAAAAMBXwAAAAAAAQFrAAAAAAABAWsA=",
          "dtype": "f8"
         },
         "yaxis": "y"
        },
        {
         "hoverinfo": "text",
         "marker": {
          "color": "rgb(133,20,75)"
         },
         "mode": "lines",
         "type": "scatter",
         "x": {
          "bdata": "LseRWIEO6z+0JQBw1lXtP7QlAHDWVe0/AAAAAAAAAAA=",
          "dtype": "f8"
         },
         "xaxis": "x",
         "y": {
          "bdata": "AAAAAAAAWcAAAAAAAABZwAAAAAAAwFzAAAAAAADAXMA=",
          "dtype": "f8"
         },
         "yaxis": "y"
        },
        {
         "hoverinfo": "text",
         "marker": {
          "color": "rgb(255,220,0)"
         },
         "mode": "lines",
         "type": "scatter",
         "x": {
          "bdata": "AAAAAAAAAAAalqoGd+3mPxqWqgZ37eY/AAAAAAAAAAA=",
          "dtype": "f8"
         },
         "xaxis": "x",
         "y": {
          "bdata": "AAAAAABAX8AAAAAAAEBfwAAAAAAA4GDAAAAAAADgYMA=",
          "dtype": "f8"
         },
         "yaxis": "y"
        },
        {
         "hoverinfo": "text",
         "marker": {
          "color": "rgb(0,116,217)"
         },
         "mode": "lines",
         "type": "scatter",
         "x": {
          "bdata": "tCUAcNZV7T/UJF9sSpDwP9QkX2xKkPA/GpaqBnft5j8=",
          "dtype": "f8"
         },
         "xaxis": "x",
         "y": {
          "bdata": "AAAAAADgWsAAAAAAAOBawAAAAAAAQGDAAAAAAABAYMA=",
          "dtype": "f8"
         },
         "yaxis": "y"
        },
        {
         "hoverinfo": "text",
         "marker": {
          "color": "rgb(40,35,35)"
         },
         "mode": "lines",
         "type": "scatter",
         "x": {
          "bdata": "AAAAAAAAAACWzbfOHIjnP5bNt84ciOc/AAAAAAAAAAA=",
          "dtype": "f8"
         },
         "xaxis": "x",
         "y": {
          "bdata": "AAAAAAAgYsAAAAAAACBiwAAAAAAAYGPAAAAAAABgY8A=",
          "dtype": "f8"
         },
         "yaxis": "y"
        },
        {
         "hoverinfo": "text",
         "marker": {
          "color": "rgb(40,35,35)"
         },
         "mode": "lines",
         "type": "scatter",
         "x": {
          "bdata": "ls23zhyI5z99UytjhUjsP31TK2OFSOw/AAAAAAAAAAA=",
          "dtype": "f8"
         },
         "xaxis": "x",
         "y": {
          "bdata": "AAAAAADAYsAAAAAAAMBiwAAAAAAAoGTAAAAAAACgZMA=",
          "dtype": "f8"
         },
         "yaxis": "y"
        },
        {
         "hoverinfo": "text",
         "marker": {
          "color": "rgb(61,153,112)"
         },
         "mode": "lines",
         "type": "scatter",
         "x": {
          "bdata": "AAAAAAAAAACo4M/Vsm7tP6jgz9Wybu0/AAAAAAAAAAA=",
          "dtype": "f8"
         },
         "xaxis": "x",
         "y": {
          "bdata": "AAAAAADgZcAAAAAAAOBlwAAAAAAAIGfAAAAAAAAgZ8A=",
          "dtype": "f8"
         },
         "yaxis": "y"
        },
        {
         "hoverinfo": "text",
         "marker": {
          "color": "rgb(61,153,112)"
         },
         "mode": "lines",
         "type": "scatter",
         "x": {
          "bdata": "qODP1bJu7T/qjALUkMnuP+qMAtSQye4/AAAAAAAAAAA=",
          "dtype": "f8"
         },
         "xaxis": "x",
         "y": {
          "bdata": "AAAAAACAZsAAAAAAAIBmwAAAAAAAYGjAAAAAAABgaMA=",
          "dtype": "f8"
         },
         "yaxis": "y"
        },
        {
         "hoverinfo": "text",
         "marker": {
          "color": "rgb(255,65,54)"
         },
         "mode": "lines",
         "type": "scatter",
         "x": {
          "bdata": "AAAAAAAAAAAfSfrdTxPqPx9J+t1PE+o/AAAAAAAAAAA=",
          "dtype": "f8"
         },
         "xaxis": "x",
         "y": {
          "bdata": "AAAAAACgacAAAAAAAKBpwAAAAAAA4GrAAAAAAADgasA=",
          "dtype": "f8"
         },
         "yaxis": "y"
        },
        {
         "hoverinfo": "text",
         "marker": {
          "color": "rgb(0,116,217)"
         },
         "mode": "lines",
         "type": "scatter",
         "x": {
          "bdata": "6owC1JDJ7j8vKiH486/wPy8qIfjzr/A/H0n63U8T6j8=",
          "dtype": "f8"
         },
         "xaxis": "x",
         "y": {
          "bdata": "AAAAAABwZ8AAAAAAAHBnwAAAAAAAQGrAAAAAAABAasA=",
          "dtype": "f8"
         },
         "yaxis": "y"
        },
        {
         "hoverinfo": "text",
         "marker": {
          "color": "rgb(35,205,205)"
         },
         "mode": "lines",
         "type": "scatter",
         "x": {
          "bdata": "AAAAAAAAAACteGcvUoTqP614Zy9ShOo/AAAAAAAAAAA=",
          "dtype": "f8"
         },
         "xaxis": "x",
         "y": {
          "bdata": "AAAAAAAgbMAAAAAAACBswAAAAAAAYG3AAAAAAABgbcA=",
          "dtype": "f8"
         },
         "yaxis": "y"
        },
        {
         "hoverinfo": "text",
         "marker": {
          "color": "rgb(0,116,217)"
         },
         "mode": "lines",
         "type": "scatter",
         "x": {
          "bdata": "Lyoh+POv8D+EegIrPeDxP4R6Ais94PE/rXhnL1KE6j8=",
          "dtype": "f8"
         },
         "xaxis": "x",
         "y": {
          "bdata": "AAAAAADYaMAAAAAAANhowAAAAAAAwGzAAAAAAADAbMA=",
          "dtype": "f8"
         },
         "yaxis": "y"
        },
        {
         "hoverinfo": "text",
         "marker": {
          "color": "rgb(61,153,112)"
         },
         "mode": "lines",
         "type": "scatter",
         "x": {
          "bdata": "AAAAAAAAAAB0QLI9LPTuP3RAsj0s9O4/AAAAAAAAAAA=",
          "dtype": "f8"
         },
         "xaxis": "x",
         "y": {
          "bdata": "AAAAAACgbsAAAAAAAKBuwAAAAAAA4G/AAAAAAADgb8A=",
          "dtype": "f8"
         },
         "yaxis": "y"
        },
        {
         "hoverinfo": "text",
         "marker": {
          "color": "rgb(255,65,54)"
         },
         "mode": "lines",
         "type": "scatter",
         "x": {
          "bdata": "AAAAAAAAAAArOFAjpRjtPys4UCOlGO0/AAAAAAAAAAA=",
          "dtype": "f8"
         },
         "xaxis": "x",
         "y": {
          "bdata": "AAAAAAAwccAAAAAAADBxwAAAAAAA0HHAAAAAAADQccA=",
          "dtype": "f8"
         },
         "yaxis": "y"
        },
        {
         "hoverinfo": "text",
         "marker": {
          "color": "rgb(255,65,54)"
         },
         "mode": "lines",
         "type": "scatter",
         "x": {
          "bdata": "AAAAAAAAAAC9NypM12zuP703KkzXbO4/KzhQI6UY7T8=",
          "dtype": "f8"
         },
         "xaxis": "x",
         "y": {
          "bdata": "AAAAAACQcMAAAAAAAJBwwAAAAAAAgHHAAAAAAACAccA=",
          "dtype": "f8"
         },
         "yaxis": "y"
        },
        {
         "hoverinfo": "text",
         "marker": {
          "color": "rgb(0,116,217)"
         },
         "mode": "lines",
         "type": "scatter",
         "x": {
          "bdata": "dECyPSz07j9xeKXb3A7wP3F4pdvcDvA/vTcqTNds7j8=",
          "dtype": "f8"
         },
         "xaxis": "x",
         "y": {
          "bdata": "AAAAAABAb8AAAAAAAEBvwAAAAAAACHHAAAAAAAAIccA=",
          "dtype": "f8"
         },
         "yaxis": "y"
        },
        {
         "hoverinfo": "text",
         "marker": {
          "color": "rgb(35,205,205)"
         },
         "mode": "lines",
         "type": "scatter",
         "x": {
          "bdata": "AAAAAAAAAABkNSa9Ss3rP2Q1Jr1Kzes/AAAAAAAAAAA=",
          "dtype": "f8"
         },
         "xaxis": "x",
         "y": {
          "bdata": "AAAAAABwcsAAAAAAAHBywAAAAAAAEHPAAAAAAAAQc8A=",
          "dtype": "f8"
         },
         "yaxis": "y"
        },
        {
         "hoverinfo": "text",
         "marker": {
          "color": "rgb(0,116,217)"
         },
         "mode": "lines",
         "type": "scatter",
         "x": {
          "bdata": "cXil29wO8D8YIlABqpHwPxgiUAGqkfA/ZDUmvUrN6z8=",
          "dtype": "f8"
         },
         "xaxis": "x",
         "y": {
          "bdata": "AAAAAABUcMAAAAAAAFRwwAAAAAAAwHLAAAAAAADAcsA=",
          "dtype": "f8"
         },
         "yaxis": "y"
        },
        {
         "hoverinfo": "text",
         "marker": {
          "color": "rgb(133,20,75)"
         },
         "mode": "lines",
         "type": "scatter",
         "x": {
          "bdata": "AAAAAAAAAABI5ZRXRZPtP0jllFdFk+0/AAAAAAAAAAA=",
          "dtype": "f8"
         },
         "xaxis": "x",
         "y": {
          "bdata": "AAAAAABQdMAAAAAAAFB0wAAAAAAA8HTAAAAAAADwdMA=",
          "dtype": "f8"
         },
         "yaxis": "y"
        },
        {
         "hoverinfo": "text",
         "marker": {
          "color": "rgb(133,20,75)"
         },
         "mode": "lines",
         "type": "scatter",
         "x": {
          "bdata": "AAAAAAAAAABbk3WMfjrvP1uTdYx+Ou8/SOWUV0WT7T8=",
          "dtype": "f8"
         },
         "xaxis": "x",
         "y": {
          "bdata": "AAAAAACwc8AAAAAAALBzwAAAAAAAoHTAAAAAAACgdMA=",
          "dtype": "f8"
         },
         "yaxis": "y"
        },
        {
         "hoverinfo": "text",
         "marker": {
          "color": "rgb(255,220,0)"
         },
         "mode": "lines",
         "type": "scatter",
         "x": {
          "bdata": "AAAAAAAAAACAT1X9LAHtP4BPVf0sAe0/AAAAAAAAAAA=",
          "dtype": "f8"
         },
         "xaxis": "x",
         "y": {
          "bdata": "AAAAAAAwdsAAAAAAADB2wAAAAAAA0HbAAAAAAADQdsA=",
          "dtype": "f8"
         },
         "yaxis": "y"
        },
        {
         "hoverinfo": "text",
         "marker": {
          "color": "rgb(255,220,0)"
         },
         "mode": "lines",
         "type": "scatter",
         "x": {
          "bdata": "AAAAAAAAAABfB6UdgEvvP18HpR2AS+8/gE9V/SwB7T8=",
          "dtype": "f8"
         },
         "xaxis": "x",
         "y": {
          "bdata": "AAAAAACQdcAAAAAAAJB1wAAAAAAAgHbAAAAAAACAdsA=",
          "dtype": "f8"
         },
         "yaxis": "y"
        },
        {
         "hoverinfo": "text",
         "marker": {
          "color": "rgb(0,116,217)"
         },
         "mode": "lines",
         "type": "scatter",
         "x": {
          "bdata": "W5N1jH467z96L3F/l1HwP3ovcX+XUfA/XwelHYBL7z8=",
          "dtype": "f8"
         },
         "xaxis": "x",
         "y": {
          "bdata": "AAAAAAAodMAAAAAAACh0wAAAAAAACHbAAAAAAAAIdsA=",
          "dtype": "f8"
         },
         "yaxis": "y"
        },
        {
         "hoverinfo": "text",
         "marker": {
          "color": "rgb(40,35,35)"
         },
         "mode": "lines",
         "type": "scatter",
         "x": {
          "bdata": "AAAAAAAAAABWAnfWd2LtP1YCd9Z3Yu0/AAAAAAAAAAA=",
          "dtype": "f8"
         },
         "xaxis": "x",
         "y": {
          "bdata": "AAAAAABwd8AAAAAAAHB3wAAAAAAAEHjAAAAAAAAQeMA=",
          "dtype": "f8"
         },
         "yaxis": "y"
        },
        {
         "hoverinfo": "text",
         "marker": {
          "color": "rgb(61,153,112)"
         },
         "mode": "lines",
         "type": "scatter",
         "x": {
          "bdata": "AAAAAAAAAAA66ghUnoXuPzrqCFSehe4/AAAAAAAAAAA=",
          "dtype": "f8"
         },
         "xaxis": "x",
         "y": {
          "bdata": "AAAAAABQecAAAAAAAFB5wAAAAAAA8HnAAAAAAADwecA=",
          "dtype": "f8"
         },
         "yaxis": "y"
        },
        {
         "hoverinfo": "text",
         "marker": {
          "color": "rgb(61,153,112)"
         },
         "mode": "lines",
         "type": "scatter",
         "x": {
          "bdata": "AAAAAAAAAAB0m6UEPtzuP3SbpQQ+3O4/OuoIVJ6F7j8=",
          "dtype": "f8"
         },
         "xaxis": "x",
         "y": {
          "bdata": "AAAAAACweMAAAAAAALB4wAAAAAAAoHnAAAAAAACgecA=",
          "dtype": "f8"
         },
         "yaxis": "y"
        },
        {
         "hoverinfo": "text",
         "marker": {
          "color": "rgb(255,65,54)"
         },
         "mode": "lines",
         "type": "scatter",
         "x": {
          "bdata": "AAAAAAAAAABZz4gF1lbuP1nPiAXWVu4/AAAAAAAAAAA=",
          "dtype": "f8"
         },
         "xaxis": "x",
         "y": {
          "bdata": "AAAAAACQesAAAAAAAJB6wAAAAAAAMHvAAAAAAAAwe8A=",
          "dtype": "f8"
         },
         "yaxis": "y"
        },
        {
         "hoverinfo": "text",
         "marker": {
          "color": "rgb(255,65,54)"
         },
         "mode": "lines",
         "type": "scatter",
         "x": {
          "bdata": "Wc+IBdZW7j+TcL+mCqPvP5Nwv6YKo+8/AAAAAAAAAAA=",
          "dtype": "f8"
         },
         "xaxis": "x",
         "y": {
          "bdata": "AAAAAADgesAAAAAAAOB6wAAAAAAA0HvAAAAAAADQe8A=",
          "dtype": "f8"
         },
         "yaxis": "y"
        },
        {
         "hoverinfo": "text",
         "marker": {
          "color": "rgb(0,116,217)"
         },
         "mode": "lines",
         "type": "scatter",
         "x": {
          "bdata": "dJulBD7c7j/ze+7NCETwP/N77s0IRPA/k3C/pgqj7z8=",
          "dtype": "f8"
         },
         "xaxis": "x",
         "y": {
          "bdata": "AAAAAAAoecAAAAAAACh5wAAAAAAAWHvAAAAAAABYe8A=",
          "dtype": "f8"
         },
         "yaxis": "y"
        },
        {
         "hoverinfo": "text",
         "marker": {
          "color": "rgb(0,116,217)"
         },
         "mode": "lines",
         "type": "scatter",
         "x": {
          "bdata": "VgJ31ndi7T9kbpqd/sbwP2Rump3+xvA/83vuzQhE8D8=",
          "dtype": "f8"
         },
         "xaxis": "x",
         "y": {
          "bdata": "AAAAAADAd8AAAAAAAMB3wAAAAAAAQHrAAAAAAABAesA=",
          "dtype": "f8"
         },
         "yaxis": "y"
        },
        {
         "hoverinfo": "text",
         "marker": {
          "color": "rgb(35,205,205)"
         },
         "mode": "lines",
         "type": "scatter",
         "x": {
          "bdata": "AAAAAAAAAABZmTE7RQztP1mZMTtFDO0/AAAAAAAAAAA=",
          "dtype": "f8"
         },
         "xaxis": "x",
         "y": {
          "bdata": "AAAAAAAQfcAAAAAAABB9wAAAAAAAsH3AAAAAAACwfcA=",
          "dtype": "f8"
         },
         "yaxis": "y"
        },
        {
         "hoverinfo": "text",
         "marker": {
          "color": "rgb(35,205,205)"
         },
         "mode": "lines",
         "type": "scatter",
         "x": {
          "bdata": "AAAAAAAAAADqEuoRM0XuP+oS6hEzRe4/WZkxO0UM7T8=",
          "dtype": "f8"
         },
         "xaxis": "x",
         "y": {
          "bdata": "AAAAAABwfMAAAAAAAHB8wAAAAAAAYH3AAAAAAABgfcA=",
          "dtype": "f8"
         },
         "yaxis": "y"
        },
        {
         "hoverinfo": "text",
         "marker": {
          "color": "rgb(0,116,217)"
         },
         "mode": "lines",
         "type": "scatter",
         "x": {
          "bdata": "ZG6anf7G8D9eDL6pbQTxP14MvqltBPE/6hLqETNF7j8=",
          "dtype": "f8"
         },
         "xaxis": "x",
         "y": {
          "bdata": "AAAAAAAAecAAAAAAAAB5wAAAAAAA6HzAAAAAAADofMA=",
          "dtype": "f8"
         },
         "yaxis": "y"
        },
        {
         "hoverinfo": "text",
         "marker": {
          "color": "rgb(0,116,217)"
         },
         "mode": "lines",
         "type": "scatter",
         "x": {
          "bdata": "ei9xf5dR8D8ZeErlD3XxPxl4SuUPdfE/Xgy+qW0E8T8=",
          "dtype": "f8"
         },
         "xaxis": "x",
         "y": {
          "bdata": "AAAAAAAYdcAAAAAAABh1wAAAAAAA9HrAAAAAAAD0esA=",
          "dtype": "f8"
         },
         "yaxis": "y"
        },
        {
         "hoverinfo": "text",
         "marker": {
          "color": "rgb(0,116,217)"
         },
         "mode": "lines",
         "type": "scatter",
         "x": {
          "bdata": "GCJQAaqR8D+DM9GY2onxP4Mz0ZjaifE/GXhK5Q918T8=",
          "dtype": "f8"
         },
         "xaxis": "x",
         "y": {
          "bdata": "AAAAAACKccAAAAAAAIpxwAAAAAAABnjAAAAAAAAGeMA=",
          "dtype": "f8"
         },
         "yaxis": "y"
        },
        {
         "hoverinfo": "text",
         "marker": {
          "color": "rgb(0,116,217)"
         },
         "mode": "lines",
         "type": "scatter",
         "x": {
          "bdata": "hHoCKz3g8T8M5vi3MOrxPwzm+Lcw6vE/gzPRmNqJ8T8=",
          "dtype": "f8"
         },
         "xaxis": "x",
         "y": {
          "bdata": "AAAAAADMasAAAAAAAMxqwAAAAAAAyHTAAAAAAADIdMA=",
          "dtype": "f8"
         },
         "yaxis": "y"
        },
        {
         "hoverinfo": "text",
         "marker": {
          "color": "rgb(61,153,112)"
         },
         "mode": "lines",
         "type": "scatter",
         "x": {
          "bdata": "AAAAAAAAAADCZKcHe+PmP8Jkpwd74+Y/AAAAAAAAAAA=",
          "dtype": "f8"
         },
         "xaxis": "x",
         "y": {
          "bdata": "AAAAAABQfsAAAAAAAFB+wAAAAAAA8H7AAAAAAADwfsA=",
          "dtype": "f8"
         },
         "yaxis": "y"
        },
        {
         "hoverinfo": "text",
         "marker": {
          "color": "rgb(0,116,217)"
         },
         "mode": "lines",
         "type": "scatter",
         "x": {
          "bdata": "DOb4tzDq8T90fC4ShtfyP3R8LhKG1/I/wmSnB3vj5j8=",
          "dtype": "f8"
         },
         "xaxis": "x",
         "y": {
          "bdata": "AAAAAAAXccAAAAAAABdxwAAAAAAAoH7AAAAAAACgfsA=",
          "dtype": "f8"
         },
         "yaxis": "y"
        },
        {
         "hoverinfo": "text",
         "marker": {
          "color": "rgb(0,116,217)"
         },
         "mode": "lines",
         "type": "scatter",
         "x": {
          "bdata": "fVMrY4VI7D+X0xLMFJLzP5fTEswUkvM/dHwuEobX8j8=",
          "dtype": "f8"
         },
         "xaxis": "x",
         "y": {
          "bdata": "AAAAAACwY8AAAAAAALBjwAAAAACA23fAAAAAAIDbd8A=",
          "dtype": "f8"
         },
         "yaxis": "y"
        },
        {
         "hoverinfo": "text",
         "marker": {
          "color": "rgb(255,65,54)"
         },
         "mode": "lines",
         "type": "scatter",
         "x": {
          "bdata": "AAAAAAAAAADErGdT2oDkP8SsZ1PagOQ/AAAAAAAAAAA=",
          "dtype": "f8"
         },
         "xaxis": "x",
         "y": {
          "bdata": "AAAAAACQf8AAAAAAAJB/wAAAAAAAGIDAAAAAAAAYgMA=",
          "dtype": "f8"
         },
         "yaxis": "y"
        },
        {
         "hoverinfo": "text",
         "marker": {
          "color": "rgb(255,65,54)"
         },
         "mode": "lines",
         "type": "scatter",
         "x": {
          "bdata": "xKxnU9qA5D/ObfZza/rsP85t9nNr+uw/AAAAAAAAAAA=",
          "dtype": "f8"
         },
         "xaxis": "x",
         "y": {
          "bdata": "AAAAAADgf8AAAAAAAOB/wAAAAAAAaIDAAAAAAABogMA=",
          "dtype": "f8"
         },
         "yaxis": "y"
        },
        {
         "hoverinfo": "text",
         "marker": {
          "color": "rgb(0,116,217)"
         },
         "mode": "lines",
         "type": "scatter",
         "x": {
          "bdata": "l9MSzBSS8z/YOxIg8RD0P9g7EiDxEPQ/zm32c2v67D8=",
          "dtype": "f8"
         },
         "xaxis": "x",
         "y": {
          "bdata": "AAAAAMDZcMAAAAAAwNlwwAAAAAAALIDAAAAAAAAsgMA=",
          "dtype": "f8"
         },
         "yaxis": "y"
        },
        {
         "hoverinfo": "text",
         "marker": {
          "color": "rgb(0,116,217)"
         },
         "mode": "lines",
         "type": "scatter",
         "x": {
          "bdata": "1CRfbEqQ8D/4i7thkXz0P/iLu2GRfPQ/2DsSIPEQ9D8=",
          "dtype": "f8"
         },
         "xaxis": "x",
         "y": {
          "bdata": "AAAAAACwXcAAAAAAALBdwAAAAADgmHjAAAAAAOCYeMA=",
          "dtype": "f8"
         },
         "yaxis": "y"
        },
        {
         "hoverinfo": "text",
         "marker": {
          "color": "rgb(35,205,205)"
         },
         "mode": "lines",
         "type": "scatter",
         "x": {
          "bdata": "AAAAAAAAAADCtZU6j3rlP8K1lTqPeuU/AAAAAAAAAAA=",
          "dtype": "f8"
         },
         "xaxis": "x",
         "y": {
          "bdata": "AAAAAAAIgcAAAAAAAAiBwAAAAAAAWIHAAAAAAABYgcA=",
          "dtype": "f8"
         },
         "yaxis": "y"
        },
        {
         "hoverinfo": "text",
         "marker": {
          "color": "rgb(35,205,205)"
         },
         "mode": "lines",
         "type": "scatter",
         "x": {
          "bdata": "AAAAAAAAAAAh/21DM53tPyH/bUMzne0/wrWVOo965T8=",
          "dtype": "f8"
         },
         "xaxis": "x",
         "y": {
          "bdata": "AAAAAAC4gMAAAAAAALiAwAAAAAAAMIHAAAAAAAAwgcA=",
          "dtype": "f8"
         },
         "yaxis": "y"
        },
        {
         "hoverinfo": "text",
         "marker": {
          "color": "rgb(133,20,75)"
         },
         "mode": "lines",
         "type": "scatter",
         "x": {
          "bdata": "AAAAAAAAAABO+IZGUHTrP074hkZQdOs/AAAAAAAAAAA=",
          "dtype": "f8"
         },
         "xaxis": "x",
         "y": {
          "bdata": "AAAAAACogcAAAAAAAKiBwAAAAAAA+IHAAAAAAAD4gcA=",
          "dtype": "f8"
         },
         "yaxis": "y"
        },
        {
         "hoverinfo": "text",
         "marker": {
          "color": "rgb(133,20,75)"
         },
         "mode": "lines",
         "type": "scatter",
         "x": {
          "bdata": "TviGRlB06z8oYvHsLdbtPyhi8ewt1u0/AAAAAAAAAAA=",
          "dtype": "f8"
         },
         "xaxis": "x",
         "y": {
          "bdata": "AAAAAADQgcAAAAAAANCBwAAAAAAASILAAAAAAABIgsA=",
          "dtype": "f8"
         },
         "yaxis": "y"
        },
        {
         "hoverinfo": "text",
         "marker": {
          "color": "rgb(0,116,217)"
         },
         "mode": "lines",
         "type": "scatter",
         "x": {
          "bdata": "If9tQzOd7T9Mv1oF/xvxP0y/WgX/G/E/KGLx7C3W7T8=",
          "dtype": "f8"
         },
         "xaxis": "x",
         "y": {
          "bdata": "AAAAAAD0gMAAAAAAAPSAwAAAAAAADILAAAAAAAAMgsA=",
          "dtype": "f8"
         },
         "yaxis": "y"
        },
        {
         "hoverinfo": "text",
         "marker": {
          "color": "rgb(255,220,0)"
         },
         "mode": "lines",
         "type": "scatter",
         "x": {
          "bdata": "AAAAAAAAAAAvuPafM8DpPy+49p8zwOk/AAAAAAAAAAA=",
          "dtype": "f8"
         },
         "xaxis": "x",
         "y": {
          "bdata": "AAAAAACYgsAAAAAAAJiCwAAAAAAA6ILAAAAAAADogsA=",
          "dtype": "f8"
         },
         "yaxis": "y"
        },
        {
         "hoverinfo": "text",
         "marker": {
          "color": "rgb(255,220,0)"
         },
         "mode": "lines",
         "type": "scatter",
         "x": {
          "bdata": "AAAAAAAAAABG1b4yZ+HnP0bVvjJn4ec/AAAAAAAAAAA=",
          "dtype": "f8"
         },
         "xaxis": "x",
         "y": {
          "bdata": "AAAAAAA4g8AAAAAAADiDwAAAAAAAiIPAAAAAAACIg8A=",
          "dtype": "f8"
         },
         "yaxis": "y"
        },
        {
         "hoverinfo": "text",
         "marker": {
          "color": "rgb(255,220,0)"
         },
         "mode": "lines",
         "type": "scatter",
         "x": {
          "bdata": "L7j2nzPA6T/CxsPdprfvP8LGw92mt+8/RtW+Mmfh5z8=",
          "dtype": "f8"
         },
         "xaxis": "x",
         "y": {
          "bdata": "AAAAAADAgsAAAAAAAMCCwAAAAAAAYIPAAAAAAABgg8A=",
          "dtype": "f8"
         },
         "yaxis": "y"
        },
        {
         "hoverinfo": "text",
         "marker": {
          "color": "rgb(0,116,217)"
         },
         "mode": "lines",
         "type": "scatter",
         "x": {
          "bdata": "TL9aBf8b8T9GTpshBovyP0ZOmyEGi/I/wsbD3aa37z8=",
          "dtype": "f8"
         },
         "xaxis": "x",
         "y": {
          "bdata": "AAAAAACAgcAAAAAAAICBwAAAAAAAEIPAAAAAAAAQg8A=",
          "dtype": "f8"
         },
         "yaxis": "y"
        },
        {
         "hoverinfo": "text",
         "marker": {
          "color": "rgb(40,35,35)"
         },
         "mode": "lines",
         "type": "scatter",
         "x": {
          "bdata": "AAAAAAAAAACcN1Q770brP5w3VDvvRus/AAAAAAAAAAA=",
          "dtype": "f8"
         },
         "xaxis": "x",
         "y": {
          "bdata": "AAAAAADYg8AAAAAAANiDwAAAAAAAKITAAAAAAAAohMA=",
          "dtype": "f8"
         },
         "yaxis": "y"
        },
        {
         "hoverinfo": "text",
         "marker": {
          "color": "rgb(40,35,35)"
         },
         "mode": "lines",
         "type": "scatter",
         "x": {
          "bdata": "AAAAAAAAAABO8raFHonpP07ytoUeiek/AAAAAAAAAAA=",
          "dtype": "f8"
         },
         "xaxis": "x",
         "y": {
          "bdata": "AAAAAAB4hMAAAAAAAHiEwAAAAAAAyITAAAAAAADIhMA=",
          "dtype": "f8"
         },
         "yaxis": "y"
        },
        {
         "hoverinfo": "text",
         "marker": {
          "color": "rgb(40,35,35)"
         },
         "mode": "lines",
         "type": "scatter",
         "x": {
          "bdata": "TvK2hR6J6T8kF1PPWwbsPyQXU89bBuw/AAAAAAAAAAA=",
          "dtype": "f8"
         },
         "xaxis": "x",
         "y": {
          "bdata": "AAAAAACghMAAAAAAAKCEwAAAAAAAGIXAAAAAAAAYhcA=",
          "dtype": "f8"
         },
         "yaxis": "y"
        },
        {
         "hoverinfo": "text",
         "marker": {
          "color": "rgb(40,35,35)"
         },
         "mode": "lines",
         "type": "scatter",
         "x": {
          "bdata": "nDdUO+9G6z9feuErAMjvP1964SsAyO8/JBdTz1sG7D8=",
          "dtype": "f8"
         },
         "xaxis": "x",
         "y": {
          "bdata": "AAAAAAAAhMAAAAAAAACEwAAAAAAA3ITAAAAAAADchMA=",
          "dtype": "f8"
         },
         "yaxis": "y"
        },
        {
         "hoverinfo": "text",
         "marker": {
          "color": "rgb(0,116,217)"
         },
         "mode": "lines",
         "type": "scatter",
         "x": {
          "bdata": "Rk6bIQaL8j8NeCL0lyDzPw14IvSXIPM/X3rhKwDI7z8=",
          "dtype": "f8"
         },
         "xaxis": "x",
         "y": {
          "bdata": "AAAAAABIgsAAAAAAAEiCwAAAAAAAboTAAAAAAABuhMA=",
          "dtype": "f8"
         },
         "yaxis": "y"
        },
        {
         "hoverinfo": "text",
         "marker": {
          "color": "rgb(61,153,112)"
         },
         "mode": "lines",
         "type": "scatter",
         "x": {
          "bdata": "AAAAAAAAAABP32hg4NfqP0/faGDg1+o/AAAAAAAAAAA=",
          "dtype": "f8"
         },
         "xaxis": "x",
         "y": {
          "bdata": "AAAAAAAIhsAAAAAAAAiGwAAAAAAAWIbAAAAAAABYhsA=",
          "dtype": "f8"
         },
         "yaxis": "y"
        },
        {
         "hoverinfo": "text",
         "marker": {
          "color": "rgb(61,153,112)"
         },
         "mode": "lines",
         "type": "scatter",
         "x": {
          "bdata": "AAAAAAAAAADJSNunbTLtP8lI26dtMu0/T99oYODX6j8=",
          "dtype": "f8"
         },
         "xaxis": "x",
         "y": {
          "bdata": "AAAAAAC4hcAAAAAAALiFwAAAAAAAMIbAAAAAAAAwhsA=",
          "dtype": "f8"
         },
         "yaxis": "y"
        },
        {
         "hoverinfo": "text",
         "marker": {
          "color": "rgb(61,153,112)"
         },
         "mode": "lines",
         "type": "scatter",
         "x": {
          "bdata": "yUjbp20y7T+BlrrLJafuP4GWusslp+4/AAAAAAAAAAA=",
          "dtype": "f8"
         },
         "xaxis": "x",
         "y": {
          "bdata": "AAAAAAD0hcAAAAAAAPSFwAAAAAAAqIbAAAAAAACohsA=",
          "dtype": "f8"
         },
         "yaxis": "y"
        },
        {
         "hoverinfo": "text",
         "marker": {
          "color": "rgb(61,153,112)"
         },
         "mode": "lines",
         "type": "scatter",
         "x": {
          "bdata": "AAAAAAAAAABZuXEaFubvP1m5cRoW5u8/gZa6yyWn7j8=",
          "dtype": "f8"
         },
         "xaxis": "x",
         "y": {
          "bdata": "AAAAAABohcAAAAAAAGiFwAAAAAAATobAAAAAAABOhsA=",
          "dtype": "f8"
         },
         "yaxis": "y"
        },
        {
         "hoverinfo": "text",
         "marker": {
          "color": "rgb(255,65,54)"
         },
         "mode": "lines",
         "type": "scatter",
         "x": {
          "bdata": "AAAAAAAAAABcnrOJANDpP1yes4kA0Ok/AAAAAAAAAAA=",
          "dtype": "f8"
         },
         "xaxis": "x",
         "y": {
          "bdata": "AAAAAAD4hsAAAAAAAPiGwAAAAAAASIfAAAAAAABIh8A=",
          "dtype": "f8"
         },
         "yaxis": "y"
        },
        {
         "hoverinfo": "text",
         "marker": {
          "color": "rgb(0,116,217)"
         },
         "mode": "lines",
         "type": "scatter",
         "x": {
          "bdata": "WblxGhbm7z9IM3JDL8/wP0gzckMvz/A/XJ6ziQDQ6T8=",
          "dtype": "f8"
         },
         "xaxis": "x",
         "y": {
          "bdata": "AAAAAADbhcAAAAAAANuFwAAAAAAAIIfAAAAAAAAgh8A=",
          "dtype": "f8"
         },
         "yaxis": "y"
        },
        {
         "hoverinfo": "text",
         "marker": {
          "color": "rgb(35,205,205)"
         },
         "mode": "lines",
         "type": "scatter",
         "x": {
          "bdata": "AAAAAAAAAABEDdV+N3XpP0QN1X43dek/AAAAAAAAAAA=",
          "dtype": "f8"
         },
         "xaxis": "x",
         "y": {
          "bdata": "AAAAAADoh8AAAAAAAOiHwAAAAAAAOIjAAAAAAAA4iMA=",
          "dtype": "f8"
         },
         "yaxis": "y"
        },
        {
         "hoverinfo": "text",
         "marker": {
          "color": "rgb(35,205,205)"
         },
         "mode": "lines",
         "type": "scatter",
         "x": {
          "bdata": "AAAAAAAAAAAFtVVzlcHrPwW1VXOVwes/RA3Vfjd16T8=",
          "dtype": "f8"
         },
         "xaxis": "x",
         "y": {
          "bdata": "AAAAAACYh8AAAAAAAJiHwAAAAAAAEIjAAAAAAAAQiMA=",
          "dtype": "f8"
         },
         "yaxis": "y"
        },
        {
         "hoverinfo": "text",
         "marker": {
          "color": "rgb(0,116,217)"
         },
         "mode": "lines",
         "type": "scatter",
         "x": {
          "bdata": "SDNyQy/P8D8GtI9oSu/xPwa0j2hK7/E/BbVVc5XB6z8=",
          "dtype": "f8"
         },
         "xaxis": "x",
         "y": {
          "bdata": "AAAAAIB9hsAAAAAAgH2GwAAAAAAA1IfAAAAAAADUh8A=",
          "dtype": "f8"
         },
         "yaxis": "y"
        },
        {
         "hoverinfo": "text",
         "marker": {
          "color": "rgb(61,153,112)"
         },
         "mode": "lines",
         "type": "scatter",
         "x": {
          "bdata": "AAAAAAAAAAD578Kx6RbqP/nvwrHpFuo/AAAAAAAAAAA=",
          "dtype": "f8"
         },
         "xaxis": "x",
         "y": {
          "bdata": "AAAAAACIiMAAAAAAAIiIwAAAAAAA2IjAAAAAAADYiMA=",
          "dtype": "f8"
         },
         "yaxis": "y"
        },
        {
         "hoverinfo": "text",
         "marker": {
          "color": "rgb(61,153,112)"
         },
         "mode": "lines",
         "type": "scatter",
         "x": {
          "bdata": "+e/CsekW6j+FWSepZ6LrP4VZJ6lnous/AAAAAAAAAAA=",
          "dtype": "f8"
         },
         "xaxis": "x",
         "y": {
          "bdata": "AAAAAACwiMAAAAAAALCIwAAAAAAAKInAAAAAAAAoicA=",
          "dtype": "f8"
         },
         "yaxis": "y"
        },
        {
         "hoverinfo": "text",
         "marker": {
          "color": "rgb(0,116,217)"
         },
         "mode": "lines",
         "type": "scatter",
         "x": {
          "bdata": "BrSPaErv8T+hLBH3IcLyP6EsEfchwvI/hVknqWei6z8=",
          "dtype": "f8"
         },
         "xaxis": "x",
         "y": {
          "bdata": "AAAAAMAoh8AAAAAAwCiHwAAAAAAA7IjAAAAAAADsiMA=",
          "dtype": "f8"
         },
         "yaxis": "y"
        },
        {
         "hoverinfo": "text",
         "marker": {
          "color": "rgb(0,116,217)"
         },
         "mode": "lines",
         "type": "scatter",
         "x": {
          "bdata": "DXgi9Jcg8z88qs52zuDzPzyqznbO4PM/oSwR9yHC8j8=",
          "dtype": "f8"
         },
         "xaxis": "x",
         "y": {
          "bdata": "AAAAAABbg8AAAAAAAFuDwAAAAABgCojAAAAAAGAKiMA=",
          "dtype": "f8"
         },
         "yaxis": "y"
        },
        {
         "hoverinfo": "text",
         "marker": {
          "color": "rgb(0,116,217)"
         },
         "mode": "lines",
         "type": "scatter",
         "x": {
          "bdata": "+Iu7YZF89D9gvcpCXNT1P2C9ykJc1PU/PKrOds7g8z8=",
          "dtype": "f8"
         },
         "xaxis": "x",
         "y": {
          "bdata": "AAAAAHACcMAAAAAAcAJwwAAAAACwsoXAAAAAALCyhcA=",
          "dtype": "f8"
         },
         "yaxis": "y"
        },
        {
         "hoverinfo": "text",
         "marker": {
          "color": "rgb(0,116,217)"
         },
         "mode": "lines",
         "type": "scatter",
         "x": {
          "bdata": "rZUWNAvO7D8rBnSL5DX2PysGdIvkNfY/YL3KQlzU9T8=",
          "dtype": "f8"
         },
         "xaxis": "x",
         "y": {
          "bdata": "AAAAAAAgUsAAAAAAACBSwAAAAADos33AAAAAAOizfcA=",
          "dtype": "f8"
         },
         "yaxis": "y"
        },
        {
         "hoverinfo": "text",
         "marker": {
          "color": "rgb(255,65,54)"
         },
         "mode": "lines",
         "type": "scatter",
         "x": {
          "bdata": "AAAAAAAAAAAKTSZMP7vkPwpNJkw/u+Q/AAAAAAAAAAA=",
          "dtype": "f8"
         },
         "xaxis": "x",
         "y": {
          "bdata": "AAAAAAB4icAAAAAAAHiJwAAAAAAAyInAAAAAAADIicA=",
          "dtype": "f8"
         },
         "yaxis": "y"
        },
        {
         "hoverinfo": "text",
         "marker": {
          "color": "rgb(255,65,54)"
         },
         "mode": "lines",
         "type": "scatter",
         "x": {
          "bdata": "Ck0mTD+75D+HeBoh6bTnP4d4GiHptOc/AAAAAAAAAAA=",
          "dtype": "f8"
         },
         "xaxis": "x",
         "y": {
          "bdata": "AAAAAACgicAAAAAAAKCJwAAAAAAAGIrAAAAAAAAYisA=",
          "dtype": "f8"
         },
         "yaxis": "y"
        },
        {
         "hoverinfo": "text",
         "marker": {
          "color": "rgb(0,116,217)"
         },
         "mode": "lines",
         "type": "scatter",
         "x": {
          "bdata": "KwZ0i+Q19j8gsFipb2j2PyCwWKlvaPY/h3gaIem05z8=",
          "dtype": "f8"
         },
         "xaxis": "x",
         "y": {
          "bdata": "AAAAAPQdccAAAAAA9B1xwAAAAAAA3InAAAAAAADcicA=",
          "dtype": "f8"
         },
         "yaxis": "y"
        },
        {
         "hoverinfo": "text",
         "marker": {
          "color": "rgb(0,116,217)"
         },
         "mode": "lines",
         "type": "scatter",
         "x": {
          "bdata": "gCprtDIa8j8Qcrah/aj8PxBytqH9qPw/ILBYqW9o9j8=",
          "dtype": "f8"
         },
         "xaxis": "x",
         "y": {
          "bdata": "AAAAAAAAOcAAAAAAAAA5wAAAAAB9NYHAAAAAAH01gcA=",
          "dtype": "f8"
         },
         "yaxis": "y"
        }
       ],
       "layout": {
        "autosize": false,
        "height": 1460,
        "hoverlabel": {
         "bgcolor": "white",
         "font": {
          "family": "Rockwell",
          "size": 16
         }
        },
        "hovermode": "closest",
        "plot_bgcolor": "#ECEFF1",
        "showlegend": false,
        "template": {
         "data": {
          "bar": [
           {
            "error_x": {
             "color": "#2a3f5f"
            },
            "error_y": {
             "color": "#2a3f5f"
            },
            "marker": {
             "line": {
              "color": "white",
              "width": 0.5
             },
             "pattern": {
              "fillmode": "overlay",
              "size": 10,
              "solidity": 0.2
             }
            },
            "type": "bar"
           }
          ],
          "barpolar": [
           {
            "marker": {
             "line": {
              "color": "white",
              "width": 0.5
             },
             "pattern": {
              "fillmode": "overlay",
              "size": 10,
              "solidity": 0.2
             }
            },
            "type": "barpolar"
           }
          ],
          "carpet": [
           {
            "aaxis": {
             "endlinecolor": "#2a3f5f",
             "gridcolor": "#C8D4E3",
             "linecolor": "#C8D4E3",
             "minorgridcolor": "#C8D4E3",
             "startlinecolor": "#2a3f5f"
            },
            "baxis": {
             "endlinecolor": "#2a3f5f",
             "gridcolor": "#C8D4E3",
             "linecolor": "#C8D4E3",
             "minorgridcolor": "#C8D4E3",
             "startlinecolor": "#2a3f5f"
            },
            "type": "carpet"
           }
          ],
          "choropleth": [
           {
            "colorbar": {
             "outlinewidth": 0,
             "ticks": ""
            },
            "type": "choropleth"
           }
          ],
          "contour": [
           {
            "colorbar": {
             "outlinewidth": 0,
             "ticks": ""
            },
            "colorscale": [
             [
              0,
              "#0d0887"
             ],
             [
              0.1111111111111111,
              "#46039f"
             ],
             [
              0.2222222222222222,
              "#7201a8"
             ],
             [
              0.3333333333333333,
              "#9c179e"
             ],
             [
              0.4444444444444444,
              "#bd3786"
             ],
             [
              0.5555555555555556,
              "#d8576b"
             ],
             [
              0.6666666666666666,
              "#ed7953"
             ],
             [
              0.7777777777777778,
              "#fb9f3a"
             ],
             [
              0.8888888888888888,
              "#fdca26"
             ],
             [
              1,
              "#f0f921"
             ]
            ],
            "type": "contour"
           }
          ],
          "contourcarpet": [
           {
            "colorbar": {
             "outlinewidth": 0,
             "ticks": ""
            },
            "type": "contourcarpet"
           }
          ],
          "heatmap": [
           {
            "colorbar": {
             "outlinewidth": 0,
             "ticks": ""
            },
            "colorscale": [
             [
              0,
              "#0d0887"
             ],
             [
              0.1111111111111111,
              "#46039f"
             ],
             [
              0.2222222222222222,
              "#7201a8"
             ],
             [
              0.3333333333333333,
              "#9c179e"
             ],
             [
              0.4444444444444444,
              "#bd3786"
             ],
             [
              0.5555555555555556,
              "#d8576b"
             ],
             [
              0.6666666666666666,
              "#ed7953"
             ],
             [
              0.7777777777777778,
              "#fb9f3a"
             ],
             [
              0.8888888888888888,
              "#fdca26"
             ],
             [
              1,
              "#f0f921"
             ]
            ],
            "type": "heatmap"
           }
          ],
          "histogram": [
           {
            "marker": {
             "pattern": {
              "fillmode": "overlay",
              "size": 10,
              "solidity": 0.2
             }
            },
            "type": "histogram"
           }
          ],
          "histogram2d": [
           {
            "colorbar": {
             "outlinewidth": 0,
             "ticks": ""
            },
            "colorscale": [
             [
              0,
              "#0d0887"
             ],
             [
              0.1111111111111111,
              "#46039f"
             ],
             [
              0.2222222222222222,
              "#7201a8"
             ],
             [
              0.3333333333333333,
              "#9c179e"
             ],
             [
              0.4444444444444444,
              "#bd3786"
             ],
             [
              0.5555555555555556,
              "#d8576b"
             ],
             [
              0.6666666666666666,
              "#ed7953"
             ],
             [
              0.7777777777777778,
              "#fb9f3a"
             ],
             [
              0.8888888888888888,
              "#fdca26"
             ],
             [
              1,
              "#f0f921"
             ]
            ],
            "type": "histogram2d"
           }
          ],
          "histogram2dcontour": [
           {
            "colorbar": {
             "outlinewidth": 0,
             "ticks": ""
            },
            "colorscale": [
             [
              0,
              "#0d0887"
             ],
             [
              0.1111111111111111,
              "#46039f"
             ],
             [
              0.2222222222222222,
              "#7201a8"
             ],
             [
              0.3333333333333333,
              "#9c179e"
             ],
             [
              0.4444444444444444,
              "#bd3786"
             ],
             [
              0.5555555555555556,
              "#d8576b"
             ],
             [
              0.6666666666666666,
              "#ed7953"
             ],
             [
              0.7777777777777778,
              "#fb9f3a"
             ],
             [
              0.8888888888888888,
              "#fdca26"
             ],
             [
              1,
              "#f0f921"
             ]
            ],
            "type": "histogram2dcontour"
           }
          ],
          "mesh3d": [
           {
            "colorbar": {
             "outlinewidth": 0,
             "ticks": ""
            },
            "type": "mesh3d"
           }
          ],
          "parcoords": [
           {
            "line": {
             "colorbar": {
              "outlinewidth": 0,
              "ticks": ""
             }
            },
            "type": "parcoords"
           }
          ],
          "pie": [
           {
            "automargin": true,
            "type": "pie"
           }
          ],
          "scatter": [
           {
            "fillpattern": {
             "fillmode": "overlay",
             "size": 10,
             "solidity": 0.2
            },
            "type": "scatter"
           }
          ],
          "scatter3d": [
           {
            "line": {
             "colorbar": {
              "outlinewidth": 0,
              "ticks": ""
             }
            },
            "marker": {
             "colorbar": {
              "outlinewidth": 0,
              "ticks": ""
             }
            },
            "type": "scatter3d"
           }
          ],
          "scattercarpet": [
           {
            "marker": {
             "colorbar": {
              "outlinewidth": 0,
              "ticks": ""
             }
            },
            "type": "scattercarpet"
           }
          ],
          "scattergeo": [
           {
            "marker": {
             "colorbar": {
              "outlinewidth": 0,
              "ticks": ""
             }
            },
            "type": "scattergeo"
           }
          ],
          "scattergl": [
           {
            "marker": {
             "colorbar": {
              "outlinewidth": 0,
              "ticks": ""
             }
            },
            "type": "scattergl"
           }
          ],
          "scattermap": [
           {
            "marker": {
             "colorbar": {
              "outlinewidth": 0,
              "ticks": ""
             }
            },
            "type": "scattermap"
           }
          ],
          "scattermapbox": [
           {
            "marker": {
             "colorbar": {
              "outlinewidth": 0,
              "ticks": ""
             }
            },
            "type": "scattermapbox"
           }
          ],
          "scatterpolar": [
           {
            "marker": {
             "colorbar": {
              "outlinewidth": 0,
              "ticks": ""
             }
            },
            "type": "scatterpolar"
           }
          ],
          "scatterpolargl": [
           {
            "marker": {
             "colorbar": {
              "outlinewidth": 0,
              "ticks": ""
             }
            },
            "type": "scatterpolargl"
           }
          ],
          "scatterternary": [
           {
            "marker": {
             "colorbar": {
              "outlinewidth": 0,
              "ticks": ""
             }
            },
            "type": "scatterternary"
           }
          ],
          "surface": [
           {
            "colorbar": {
             "outlinewidth": 0,
             "ticks": ""
            },
            "colorscale": [
             [
              0,
              "#0d0887"
             ],
             [
              0.1111111111111111,
              "#46039f"
             ],
             [
              0.2222222222222222,
              "#7201a8"
             ],
             [
              0.3333333333333333,
              "#9c179e"
             ],
             [
              0.4444444444444444,
              "#bd3786"
             ],
             [
              0.5555555555555556,
              "#d8576b"
             ],
             [
              0.6666666666666666,
              "#ed7953"
             ],
             [
              0.7777777777777778,
              "#fb9f3a"
             ],
             [
              0.8888888888888888,
              "#fdca26"
             ],
             [
              1,
              "#f0f921"
             ]
            ],
            "type": "surface"
           }
          ],
          "table": [
           {
            "cells": {
             "fill": {
              "color": "#EBF0F8"
             },
             "line": {
              "color": "white"
             }
            },
            "header": {
             "fill": {
              "color": "#C8D4E3"
             },
             "line": {
              "color": "white"
             }
            },
            "type": "table"
           }
          ]
         },
         "layout": {
          "annotationdefaults": {
           "arrowcolor": "#2a3f5f",
           "arrowhead": 0,
           "arrowwidth": 1
          },
          "autotypenumbers": "strict",
          "coloraxis": {
           "colorbar": {
            "outlinewidth": 0,
            "ticks": ""
           }
          },
          "colorscale": {
           "diverging": [
            [
             0,
             "#8e0152"
            ],
            [
             0.1,
             "#c51b7d"
            ],
            [
             0.2,
             "#de77ae"
            ],
            [
             0.3,
             "#f1b6da"
            ],
            [
             0.4,
             "#fde0ef"
            ],
            [
             0.5,
             "#f7f7f7"
            ],
            [
             0.6,
             "#e6f5d0"
            ],
            [
             0.7,
             "#b8e186"
            ],
            [
             0.8,
             "#7fbc41"
            ],
            [
             0.9,
             "#4d9221"
            ],
            [
             1,
             "#276419"
            ]
           ],
           "sequential": [
            [
             0,
             "#0d0887"
            ],
            [
             0.1111111111111111,
             "#46039f"
            ],
            [
             0.2222222222222222,
             "#7201a8"
            ],
            [
             0.3333333333333333,
             "#9c179e"
            ],
            [
             0.4444444444444444,
             "#bd3786"
            ],
            [
             0.5555555555555556,
             "#d8576b"
            ],
            [
             0.6666666666666666,
             "#ed7953"
            ],
            [
             0.7777777777777778,
             "#fb9f3a"
            ],
            [
             0.8888888888888888,
             "#fdca26"
            ],
            [
             1,
             "#f0f921"
            ]
           ],
           "sequentialminus": [
            [
             0,
             "#0d0887"
            ],
            [
             0.1111111111111111,
             "#46039f"
            ],
            [
             0.2222222222222222,
             "#7201a8"
            ],
            [
             0.3333333333333333,
             "#9c179e"
            ],
            [
             0.4444444444444444,
             "#bd3786"
            ],
            [
             0.5555555555555556,
             "#d8576b"
            ],
            [
             0.6666666666666666,
             "#ed7953"
            ],
            [
             0.7777777777777778,
             "#fb9f3a"
            ],
            [
             0.8888888888888888,
             "#fdca26"
            ],
            [
             1,
             "#f0f921"
            ]
           ]
          },
          "colorway": [
           "#636efa",
           "#EF553B",
           "#00cc96",
           "#ab63fa",
           "#FFA15A",
           "#19d3f3",
           "#FF6692",
           "#B6E880",
           "#FF97FF",
           "#FECB52"
          ],
          "font": {
           "color": "#2a3f5f"
          },
          "geo": {
           "bgcolor": "white",
           "lakecolor": "white",
           "landcolor": "white",
           "showlakes": true,
           "showland": true,
           "subunitcolor": "#C8D4E3"
          },
          "hoverlabel": {
           "align": "left"
          },
          "hovermode": "closest",
          "mapbox": {
           "style": "light"
          },
          "paper_bgcolor": "white",
          "plot_bgcolor": "white",
          "polar": {
           "angularaxis": {
            "gridcolor": "#EBF0F8",
            "linecolor": "#EBF0F8",
            "ticks": ""
           },
           "bgcolor": "white",
           "radialaxis": {
            "gridcolor": "#EBF0F8",
            "linecolor": "#EBF0F8",
            "ticks": ""
           }
          },
          "scene": {
           "xaxis": {
            "backgroundcolor": "white",
            "gridcolor": "#DFE8F3",
            "gridwidth": 2,
            "linecolor": "#EBF0F8",
            "showbackground": true,
            "ticks": "",
            "zerolinecolor": "#EBF0F8"
           },
           "yaxis": {
            "backgroundcolor": "white",
            "gridcolor": "#DFE8F3",
            "gridwidth": 2,
            "linecolor": "#EBF0F8",
            "showbackground": true,
            "ticks": "",
            "zerolinecolor": "#EBF0F8"
           },
           "zaxis": {
            "backgroundcolor": "white",
            "gridcolor": "#DFE8F3",
            "gridwidth": 2,
            "linecolor": "#EBF0F8",
            "showbackground": true,
            "ticks": "",
            "zerolinecolor": "#EBF0F8"
           }
          },
          "shapedefaults": {
           "line": {
            "color": "#2a3f5f"
           }
          },
          "ternary": {
           "aaxis": {
            "gridcolor": "#DFE8F3",
            "linecolor": "#A2B1C6",
            "ticks": ""
           },
           "baxis": {
            "gridcolor": "#DFE8F3",
            "linecolor": "#A2B1C6",
            "ticks": ""
           },
           "bgcolor": "white",
           "caxis": {
            "gridcolor": "#DFE8F3",
            "linecolor": "#A2B1C6",
            "ticks": ""
           }
          },
          "title": {
           "x": 0.05
          },
          "xaxis": {
           "automargin": true,
           "gridcolor": "#EBF0F8",
           "linecolor": "#EBF0F8",
           "ticks": "",
           "title": {
            "standoff": 15
           },
           "zerolinecolor": "#EBF0F8",
           "zerolinewidth": 2
          },
          "yaxis": {
           "automargin": true,
           "gridcolor": "#EBF0F8",
           "linecolor": "#EBF0F8",
           "ticks": "",
           "title": {
            "standoff": 15
           },
           "zerolinecolor": "#EBF0F8",
           "zerolinewidth": 2
          }
         }
        },
        "title": {
         "font": {
          "color": "Black",
          "size": 22
         },
         "text": "<b>Hierarchical Clustering</b>",
         "x": 0.5,
         "xanchor": "center",
         "yanchor": "top"
        },
        "width": 1000,
        "xaxis": {
         "mirror": "allticks",
         "rangemode": "tozero",
         "showgrid": false,
         "showline": true,
         "showticklabels": true,
         "ticks": "outside",
         "type": "linear",
         "zeroline": false
        },
        "yaxis": {
         "mirror": "allticks",
         "range": [
          -840,
          0
         ],
         "rangemode": "tozero",
         "showgrid": false,
         "showline": true,
         "showticklabels": true,
         "tickmode": "array",
         "ticks": "outside",
         "ticktext": [
          "2025 Retrieval Records",
          "Document Retrieval Dates 2025",
          "Advances in Large Language Models",
          "November 2024 News Updates",
          "Document Retrieval Dates 2024",
          "September 2024 Retrieval Records",
          "News Updates and Contact Methods",
          "IGN Contact and Credentials",
          "IGN UK News and Staff",
          "In-Game Currency and Sales",
          "Activision AI-Generated Game Cosmetics",
          "Activision Artist Layoffs and AI Use",
          "AI Use in Call of Duty",
          "Zombie Santa Loading Screen Backlash",
          "Event Cancellation and Public Response",
          "Controversial Event Ticket Pricing",
          "Controversial Wonka-themed Event",
          "Amateur Performances and Low-Quality Scripts",
          "Social Media Engagement and Scams",
          "Acknowledgment of Mistakes",
          "Website Owner's Fake Content Admission",
          "Halloween Event Listings and Advertising",
          "American Cultural Reality Divide",
          "Understanding Misinformation and Beliefs",
          "AI Investment Risks and Outlook",
          "Major New York News Coverage",
          "Impact of ChatGPT on Text Generation",
          "Internet Slang and AI Misinformation",
          "Environmental Pollution and Progress",
          "Google Search Engine and SEO",
          "AI-Generated Low-Quality Content",
          "Technological Innovation and Content Development",
          "Advertising and Affiliate Marketing",
          "Evaluating Online Scam Allegations",
          "Positive Reassurance and Affirmation",
          "Global Social Media Advertising Trends",
          "Income Generation and Revenue Strategies",
          "Eurogamer Germany Gaming News",
          "Activision Fake Game Market Research",
          "Angry Birds Block Quest Launch",
          "AI Controversy in Creative Industries",
          "2024 Album Covers and Reactions",
          "Academic Debate on AI Potential",
          "Document Description and Guidelines",
          "Uncertain Fire Official Identities",
          "Technology Impact on Jobs",
          "Coca-Cola's AI Holiday Advertising",
          "Spotify Wrapped AI Podcast",
          "Library Digital Media Licensing",
          "AI-Generated Books in Libraries",
          "Square Enix's Use of AI Art",
          "Square Enix's AI and Tech Strategy",
          "Takashi Kiryu's 2024 Blockchain Outlook",
          "404 Media and Jason Koebler",
          "AI-Driven Zombie Internet Era",
          "Facebook Spam and Monetization Tactics",
          "Viral Internet Meme Culture",
          "AI-Generated Religious Engagement Content",
          "Bizarre AI-Generated Internet Imagery",
          "AI-Generated Image Quality Issues",
          "AI Art and Political Misinformation",
          "Generative AI in Content Creation",
          "Ethical and Creative Impacts of Generative AI",
          "Far-Right Media and Conspiracies",
          "Far-Right MAGA Social Media Campaign",
          "John Milton Freedom Foundation and Social Media",
          "Trump AI-Generated Campaign Images",
          "Misinformation and Extremism During Hurricanes",
          "Meta Content Moderation Challenges",
          "Italian Brainrot Trend Analysis",
          "Viral Social Media Strategies",
          "AI-Generated Content Industry",
          "Social Media Spam Strategies",
          "Brand Strategy and Trends",
          "Managing AI Slop for Brands",
          "Examination of \"Slop\" in Economy and Culture",
          "AI-Generated Low-Quality Content",
          "Evolution of Spam and Unwanted Content",
          "AI Impact on Voice Acting",
          "AI Usage in Film Promotion",
          "AI-Generated News Narration",
          "Dublin Halloween Parade Hoax",
          "Halloween Parade on O'Connell Street",
          "The Fake Parade Plot"
         ],
         "tickvals": [
          -5,
          -15,
          -25,
          -35,
          -45,
          -55,
          -65,
          -75,
          -85,
          -95,
          -105,
          -115,
          -125,
          -135,
          -145,
          -155,
          -165,
          -175,
          -185,
          -195,
          -205,
          -215,
          -225,
          -235,
          -245,
          -255,
          -265,
          -275,
          -285,
          -295,
          -305,
          -315,
          -325,
          -335,
          -345,
          -355,
          -365,
          -375,
          -385,
          -395,
          -405,
          -415,
          -425,
          -435,
          -445,
          -455,
          -465,
          -475,
          -485,
          -495,
          -505,
          -515,
          -525,
          -535,
          -545,
          -555,
          -565,
          -575,
          -585,
          -595,
          -605,
          -615,
          -625,
          -635,
          -645,
          -655,
          -665,
          -675,
          -685,
          -695,
          -705,
          -715,
          -725,
          -735,
          -745,
          -755,
          -765,
          -775,
          -785,
          -795,
          -805,
          -815,
          -825,
          -835
         ],
         "type": "linear",
         "zeroline": false
        }
       }
      }
     },
     "metadata": {},
     "output_type": "display_data"
    }
   ],
   "source": [
    "topic_model.visualize_hierarchy(custom_labels=True)"
   ]
  },
  {
   "cell_type": "code",
   "execution_count": 69,
   "id": "031eb2bd",
   "metadata": {},
   "outputs": [
    {
     "data": {
      "application/vnd.plotly.v1+json": {
       "config": {
        "plotlyServerURL": "https://plot.ly"
       },
       "data": [
        {
         "coloraxis": "coloraxis",
         "hovertemplate": "x: %{x}<br>y: %{y}<br>Similarity Score: %{z}<extra></extra>",
         "name": "0",
         "type": "heatmap",
         "x": [
          "0_cola_coca_coca cola",
          "1_trump_donald trump_donald",
          "2_experience_wonka_event",
          "3_2024_november 2024_august...",
          "4_foamstars_enix_square enix",
          "5_dublin_halloween_hallowee...",
          "6_times_york_new york",
          "7_slop_slop slop_kind slop",
          "8_generative ai_generative_...",
          "9_google_search_search engine",
          "10_slop_slop term_term",
          "11_facebook_link_ad",
          "12_foundation_freedom_account",
          "13_2025 retrieved_retrieved...",
          "14_generated content_conten...",
          "15_2024_2025_november 2024",
          "16_angry_quest_rovio",
          "17_analyst_warned_crucial",
          "18_brand_brands_entrepreneurs",
          "19_spam_email_term",
          "20_hurricane_fema_government",
          "21_facebook_ai slop_zombie ...",
          "22_yes_worry_guys",
          "23_tiktok_xiaonan_viral tik...",
          "24_harris_kamala harris_kam...",
          "25_enix_square enix_square",
          "26_said_likes_quite",
          "27_facebook_images_engageme...",
          "28_chatgpt_chatbots_language",
          "29_brainrot_italian brainro...",
          "30_spotify_wrapped_podcast",
          "31_arrived_vacuum_saw",
          "32_santa_loading_zombie santa",
          "33_jesus_shrimp_shrimp jesus",
          "34_advertisement_ads_preview",
          "35_related_article_guidelines",
          "36_guy_say_country",
          "37_signs_image_image genera...",
          "38_reality_americans_beliefs",
          "39_debate_academic_ai poten...",
          "40_scammers_scam_know",
          "41_2024 retrieved_retrieved...",
          "42_activision_cosmetic_warf...",
          "43_leverage technologies_ne...",
          "44_books_book_generated books",
          "45_voice_actors_voice actors",
          "46_event_ticket_44",
          "47_misinformation_misinform...",
          "48_parade_waited_arrived",
          "49_parade_gathered_street",
          "50_halloween_events_ireland",
          "51_hoopla_catalog_books",
          "52_failed_ai game_entirely ai",
          "53_mistake_check_knew",
          "54_new year_letter_kiryu",
          "55_film_narration_novocaine",
          "56_activision_assets_artists",
          "57_september 2024_september...",
          "58_2025 retrieved_retrieved...",
          "59_eurogamer_german_sign",
          "60_prioritize_produced ai_s...",
          "61_listen_app_produced",
          "62_imagery_photo_images",
          "63_brand_ai slop_entreprene...",
          "64_event_minute_tried best",
          "65_far right_influencers_ri...",
          "66_pollution_perspective_lot",
          "67_ign_ign com_wyp100",
          "68_guitar hero_hero_guitar",
          "69_album covers_album_covers",
          "70_technology_performance_d...",
          "71_earned_accounts_dozens",
          "72_contact_google news_upda...",
          "73_adequate_generative ai_g...",
          "74_meta_content moderation_...",
          "75_ai art_maga_art",
          "76_source_revenue_traffic",
          "77_slang_garbage_youtube",
          "78_pensacola_bradley boone_...",
          "79_wyp100_ign_twitter",
          "80_revenue_make money_money",
          "81_404 media_404_media",
          "82_ops_black ops_black",
          "83_points_500_bundle"
         ],
         "xaxis": "x",
         "y": [
          "0_cola_coca_coca cola",
          "1_trump_donald trump_donald",
          "2_experience_wonka_event",
          "3_2024_november 2024_august...",
          "4_foamstars_enix_square enix",
          "5_dublin_halloween_hallowee...",
          "6_times_york_new york",
          "7_slop_slop slop_kind slop",
          "8_generative ai_generative_...",
          "9_google_search_search engine",
          "10_slop_slop term_term",
          "11_facebook_link_ad",
          "12_foundation_freedom_account",
          "13_2025 retrieved_retrieved...",
          "14_generated content_conten...",
          "15_2024_2025_november 2024",
          "16_angry_quest_rovio",
          "17_analyst_warned_crucial",
          "18_brand_brands_entrepreneurs",
          "19_spam_email_term",
          "20_hurricane_fema_government",
          "21_facebook_ai slop_zombie ...",
          "22_yes_worry_guys",
          "23_tiktok_xiaonan_viral tik...",
          "24_harris_kamala harris_kam...",
          "25_enix_square enix_square",
          "26_said_likes_quite",
          "27_facebook_images_engageme...",
          "28_chatgpt_chatbots_language",
          "29_brainrot_italian brainro...",
          "30_spotify_wrapped_podcast",
          "31_arrived_vacuum_saw",
          "32_santa_loading_zombie santa",
          "33_jesus_shrimp_shrimp jesus",
          "34_advertisement_ads_preview",
          "35_related_article_guidelines",
          "36_guy_say_country",
          "37_signs_image_image genera...",
          "38_reality_americans_beliefs",
          "39_debate_academic_ai poten...",
          "40_scammers_scam_know",
          "41_2024 retrieved_retrieved...",
          "42_activision_cosmetic_warf...",
          "43_leverage technologies_ne...",
          "44_books_book_generated books",
          "45_voice_actors_voice actors",
          "46_event_ticket_44",
          "47_misinformation_misinform...",
          "48_parade_waited_arrived",
          "49_parade_gathered_street",
          "50_halloween_events_ireland",
          "51_hoopla_catalog_books",
          "52_failed_ai game_entirely ai",
          "53_mistake_check_knew",
          "54_new year_letter_kiryu",
          "55_film_narration_novocaine",
          "56_activision_assets_artists",
          "57_september 2024_september...",
          "58_2025 retrieved_retrieved...",
          "59_eurogamer_german_sign",
          "60_prioritize_produced ai_s...",
          "61_listen_app_produced",
          "62_imagery_photo_images",
          "63_brand_ai slop_entreprene...",
          "64_event_minute_tried best",
          "65_far right_influencers_ri...",
          "66_pollution_perspective_lot",
          "67_ign_ign com_wyp100",
          "68_guitar hero_hero_guitar",
          "69_album covers_album_covers",
          "70_technology_performance_d...",
          "71_earned_accounts_dozens",
          "72_contact_google news_upda...",
          "73_adequate_generative ai_g...",
          "74_meta_content moderation_...",
          "75_ai art_maga_art",
          "76_source_revenue_traffic",
          "77_slang_garbage_youtube",
          "78_pensacola_bradley boone_...",
          "79_wyp100_ign_twitter",
          "80_revenue_make money_money",
          "81_404 media_404_media",
          "82_ops_black ops_black",
          "83_points_500_bundle"
         ],
         "yaxis": "y",
         "z": {
          "bdata": "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",
          "dtype": "f4",
          "shape": "84, 84"
         }
        }
       ],
       "layout": {
        "coloraxis": {
         "colorbar": {
          "title": {
           "text": "Similarity Score"
          }
         },
         "colorscale": [
          [
           0,
           "rgb(247,252,240)"
          ],
          [
           0.125,
           "rgb(224,243,219)"
          ],
          [
           0.25,
           "rgb(204,235,197)"
          ],
          [
           0.375,
           "rgb(168,221,181)"
          ],
          [
           0.5,
           "rgb(123,204,196)"
          ],
          [
           0.625,
           "rgb(78,179,211)"
          ],
          [
           0.75,
           "rgb(43,140,190)"
          ],
          [
           0.875,
           "rgb(8,104,172)"
          ],
          [
           1,
           "rgb(8,64,129)"
          ]
         ]
        },
        "height": 800,
        "hoverlabel": {
         "bgcolor": "white",
         "font": {
          "family": "Rockwell",
          "size": 16
         }
        },
        "legend": {
         "title": {
          "text": "Trend"
         }
        },
        "margin": {
         "t": 60
        },
        "showlegend": true,
        "template": {
         "data": {
          "bar": [
           {
            "error_x": {
             "color": "#2a3f5f"
            },
            "error_y": {
             "color": "#2a3f5f"
            },
            "marker": {
             "line": {
              "color": "#E5ECF6",
              "width": 0.5
             },
             "pattern": {
              "fillmode": "overlay",
              "size": 10,
              "solidity": 0.2
             }
            },
            "type": "bar"
           }
          ],
          "barpolar": [
           {
            "marker": {
             "line": {
              "color": "#E5ECF6",
              "width": 0.5
             },
             "pattern": {
              "fillmode": "overlay",
              "size": 10,
              "solidity": 0.2
             }
            },
            "type": "barpolar"
           }
          ],
          "carpet": [
           {
            "aaxis": {
             "endlinecolor": "#2a3f5f",
             "gridcolor": "white",
             "linecolor": "white",
             "minorgridcolor": "white",
             "startlinecolor": "#2a3f5f"
            },
            "baxis": {
             "endlinecolor": "#2a3f5f",
             "gridcolor": "white",
             "linecolor": "white",
             "minorgridcolor": "white",
             "startlinecolor": "#2a3f5f"
            },
            "type": "carpet"
           }
          ],
          "choropleth": [
           {
            "colorbar": {
             "outlinewidth": 0,
             "ticks": ""
            },
            "type": "choropleth"
           }
          ],
          "contour": [
           {
            "colorbar": {
             "outlinewidth": 0,
             "ticks": ""
            },
            "colorscale": [
             [
              0,
              "#0d0887"
             ],
             [
              0.1111111111111111,
              "#46039f"
             ],
             [
              0.2222222222222222,
              "#7201a8"
             ],
             [
              0.3333333333333333,
              "#9c179e"
             ],
             [
              0.4444444444444444,
              "#bd3786"
             ],
             [
              0.5555555555555556,
              "#d8576b"
             ],
             [
              0.6666666666666666,
              "#ed7953"
             ],
             [
              0.7777777777777778,
              "#fb9f3a"
             ],
             [
              0.8888888888888888,
              "#fdca26"
             ],
             [
              1,
              "#f0f921"
             ]
            ],
            "type": "contour"
           }
          ],
          "contourcarpet": [
           {
            "colorbar": {
             "outlinewidth": 0,
             "ticks": ""
            },
            "type": "contourcarpet"
           }
          ],
          "heatmap": [
           {
            "colorbar": {
             "outlinewidth": 0,
             "ticks": ""
            },
            "colorscale": [
             [
              0,
              "#0d0887"
             ],
             [
              0.1111111111111111,
              "#46039f"
             ],
             [
              0.2222222222222222,
              "#7201a8"
             ],
             [
              0.3333333333333333,
              "#9c179e"
             ],
             [
              0.4444444444444444,
              "#bd3786"
             ],
             [
              0.5555555555555556,
              "#d8576b"
             ],
             [
              0.6666666666666666,
              "#ed7953"
             ],
             [
              0.7777777777777778,
              "#fb9f3a"
             ],
             [
              0.8888888888888888,
              "#fdca26"
             ],
             [
              1,
              "#f0f921"
             ]
            ],
            "type": "heatmap"
           }
          ],
          "histogram": [
           {
            "marker": {
             "pattern": {
              "fillmode": "overlay",
              "size": 10,
              "solidity": 0.2
             }
            },
            "type": "histogram"
           }
          ],
          "histogram2d": [
           {
            "colorbar": {
             "outlinewidth": 0,
             "ticks": ""
            },
            "colorscale": [
             [
              0,
              "#0d0887"
             ],
             [
              0.1111111111111111,
              "#46039f"
             ],
             [
              0.2222222222222222,
              "#7201a8"
             ],
             [
              0.3333333333333333,
              "#9c179e"
             ],
             [
              0.4444444444444444,
              "#bd3786"
             ],
             [
              0.5555555555555556,
              "#d8576b"
             ],
             [
              0.6666666666666666,
              "#ed7953"
             ],
             [
              0.7777777777777778,
              "#fb9f3a"
             ],
             [
              0.8888888888888888,
              "#fdca26"
             ],
             [
              1,
              "#f0f921"
             ]
            ],
            "type": "histogram2d"
           }
          ],
          "histogram2dcontour": [
           {
            "colorbar": {
             "outlinewidth": 0,
             "ticks": ""
            },
            "colorscale": [
             [
              0,
              "#0d0887"
             ],
             [
              0.1111111111111111,
              "#46039f"
             ],
             [
              0.2222222222222222,
              "#7201a8"
             ],
             [
              0.3333333333333333,
              "#9c179e"
             ],
             [
              0.4444444444444444,
              "#bd3786"
             ],
             [
              0.5555555555555556,
              "#d8576b"
             ],
             [
              0.6666666666666666,
              "#ed7953"
             ],
             [
              0.7777777777777778,
              "#fb9f3a"
             ],
             [
              0.8888888888888888,
              "#fdca26"
             ],
             [
              1,
              "#f0f921"
             ]
            ],
            "type": "histogram2dcontour"
           }
          ],
          "mesh3d": [
           {
            "colorbar": {
             "outlinewidth": 0,
             "ticks": ""
            },
            "type": "mesh3d"
           }
          ],
          "parcoords": [
           {
            "line": {
             "colorbar": {
              "outlinewidth": 0,
              "ticks": ""
             }
            },
            "type": "parcoords"
           }
          ],
          "pie": [
           {
            "automargin": true,
            "type": "pie"
           }
          ],
          "scatter": [
           {
            "fillpattern": {
             "fillmode": "overlay",
             "size": 10,
             "solidity": 0.2
            },
            "type": "scatter"
           }
          ],
          "scatter3d": [
           {
            "line": {
             "colorbar": {
              "outlinewidth": 0,
              "ticks": ""
             }
            },
            "marker": {
             "colorbar": {
              "outlinewidth": 0,
              "ticks": ""
             }
            },
            "type": "scatter3d"
           }
          ],
          "scattercarpet": [
           {
            "marker": {
             "colorbar": {
              "outlinewidth": 0,
              "ticks": ""
             }
            },
            "type": "scattercarpet"
           }
          ],
          "scattergeo": [
           {
            "marker": {
             "colorbar": {
              "outlinewidth": 0,
              "ticks": ""
             }
            },
            "type": "scattergeo"
           }
          ],
          "scattergl": [
           {
            "marker": {
             "colorbar": {
              "outlinewidth": 0,
              "ticks": ""
             }
            },
            "type": "scattergl"
           }
          ],
          "scattermap": [
           {
            "marker": {
             "colorbar": {
              "outlinewidth": 0,
              "ticks": ""
             }
            },
            "type": "scattermap"
           }
          ],
          "scattermapbox": [
           {
            "marker": {
             "colorbar": {
              "outlinewidth": 0,
              "ticks": ""
             }
            },
            "type": "scattermapbox"
           }
          ],
          "scatterpolar": [
           {
            "marker": {
             "colorbar": {
              "outlinewidth": 0,
              "ticks": ""
             }
            },
            "type": "scatterpolar"
           }
          ],
          "scatterpolargl": [
           {
            "marker": {
             "colorbar": {
              "outlinewidth": 0,
              "ticks": ""
             }
            },
            "type": "scatterpolargl"
           }
          ],
          "scatterternary": [
           {
            "marker": {
             "colorbar": {
              "outlinewidth": 0,
              "ticks": ""
             }
            },
            "type": "scatterternary"
           }
          ],
          "surface": [
           {
            "colorbar": {
             "outlinewidth": 0,
             "ticks": ""
            },
            "colorscale": [
             [
              0,
              "#0d0887"
             ],
             [
              0.1111111111111111,
              "#46039f"
             ],
             [
              0.2222222222222222,
              "#7201a8"
             ],
             [
              0.3333333333333333,
              "#9c179e"
             ],
             [
              0.4444444444444444,
              "#bd3786"
             ],
             [
              0.5555555555555556,
              "#d8576b"
             ],
             [
              0.6666666666666666,
              "#ed7953"
             ],
             [
              0.7777777777777778,
              "#fb9f3a"
             ],
             [
              0.8888888888888888,
              "#fdca26"
             ],
             [
              1,
              "#f0f921"
             ]
            ],
            "type": "surface"
           }
          ],
          "table": [
           {
            "cells": {
             "fill": {
              "color": "#EBF0F8"
             },
             "line": {
              "color": "white"
             }
            },
            "header": {
             "fill": {
              "color": "#C8D4E3"
             },
             "line": {
              "color": "white"
             }
            },
            "type": "table"
           }
          ]
         },
         "layout": {
          "annotationdefaults": {
           "arrowcolor": "#2a3f5f",
           "arrowhead": 0,
           "arrowwidth": 1
          },
          "autotypenumbers": "strict",
          "coloraxis": {
           "colorbar": {
            "outlinewidth": 0,
            "ticks": ""
           }
          },
          "colorscale": {
           "diverging": [
            [
             0,
             "#8e0152"
            ],
            [
             0.1,
             "#c51b7d"
            ],
            [
             0.2,
             "#de77ae"
            ],
            [
             0.3,
             "#f1b6da"
            ],
            [
             0.4,
             "#fde0ef"
            ],
            [
             0.5,
             "#f7f7f7"
            ],
            [
             0.6,
             "#e6f5d0"
            ],
            [
             0.7,
             "#b8e186"
            ],
            [
             0.8,
             "#7fbc41"
            ],
            [
             0.9,
             "#4d9221"
            ],
            [
             1,
             "#276419"
            ]
           ],
           "sequential": [
            [
             0,
             "#0d0887"
            ],
            [
             0.1111111111111111,
             "#46039f"
            ],
            [
             0.2222222222222222,
             "#7201a8"
            ],
            [
             0.3333333333333333,
             "#9c179e"
            ],
            [
             0.4444444444444444,
             "#bd3786"
            ],
            [
             0.5555555555555556,
             "#d8576b"
            ],
            [
             0.6666666666666666,
             "#ed7953"
            ],
            [
             0.7777777777777778,
             "#fb9f3a"
            ],
            [
             0.8888888888888888,
             "#fdca26"
            ],
            [
             1,
             "#f0f921"
            ]
           ],
           "sequentialminus": [
            [
             0,
             "#0d0887"
            ],
            [
             0.1111111111111111,
             "#46039f"
            ],
            [
             0.2222222222222222,
             "#7201a8"
            ],
            [
             0.3333333333333333,
             "#9c179e"
            ],
            [
             0.4444444444444444,
             "#bd3786"
            ],
            [
             0.5555555555555556,
             "#d8576b"
            ],
            [
             0.6666666666666666,
             "#ed7953"
            ],
            [
             0.7777777777777778,
             "#fb9f3a"
            ],
            [
             0.8888888888888888,
             "#fdca26"
            ],
            [
             1,
             "#f0f921"
            ]
           ]
          },
          "colorway": [
           "#636efa",
           "#EF553B",
           "#00cc96",
           "#ab63fa",
           "#FFA15A",
           "#19d3f3",
           "#FF6692",
           "#B6E880",
           "#FF97FF",
           "#FECB52"
          ],
          "font": {
           "color": "#2a3f5f"
          },
          "geo": {
           "bgcolor": "white",
           "lakecolor": "white",
           "landcolor": "#E5ECF6",
           "showlakes": true,
           "showland": true,
           "subunitcolor": "white"
          },
          "hoverlabel": {
           "align": "left"
          },
          "hovermode": "closest",
          "mapbox": {
           "style": "light"
          },
          "paper_bgcolor": "white",
          "plot_bgcolor": "#E5ECF6",
          "polar": {
           "angularaxis": {
            "gridcolor": "white",
            "linecolor": "white",
            "ticks": ""
           },
           "bgcolor": "#E5ECF6",
           "radialaxis": {
            "gridcolor": "white",
            "linecolor": "white",
            "ticks": ""
           }
          },
          "scene": {
           "xaxis": {
            "backgroundcolor": "#E5ECF6",
            "gridcolor": "white",
            "gridwidth": 2,
            "linecolor": "white",
            "showbackground": true,
            "ticks": "",
            "zerolinecolor": "white"
           },
           "yaxis": {
            "backgroundcolor": "#E5ECF6",
            "gridcolor": "white",
            "gridwidth": 2,
            "linecolor": "white",
            "showbackground": true,
            "ticks": "",
            "zerolinecolor": "white"
           },
           "zaxis": {
            "backgroundcolor": "#E5ECF6",
            "gridcolor": "white",
            "gridwidth": 2,
            "linecolor": "white",
            "showbackground": true,
            "ticks": "",
            "zerolinecolor": "white"
           }
          },
          "shapedefaults": {
           "line": {
            "color": "#2a3f5f"
           }
          },
          "ternary": {
           "aaxis": {
            "gridcolor": "white",
            "linecolor": "white",
            "ticks": ""
           },
           "baxis": {
            "gridcolor": "white",
            "linecolor": "white",
            "ticks": ""
           },
           "bgcolor": "#E5ECF6",
           "caxis": {
            "gridcolor": "white",
            "linecolor": "white",
            "ticks": ""
           }
          },
          "title": {
           "x": 0.05
          },
          "xaxis": {
           "automargin": true,
           "gridcolor": "white",
           "linecolor": "white",
           "ticks": "",
           "title": {
            "standoff": 15
           },
           "zerolinecolor": "white",
           "zerolinewidth": 2
          },
          "yaxis": {
           "automargin": true,
           "gridcolor": "white",
           "linecolor": "white",
           "ticks": "",
           "title": {
            "standoff": 15
           },
           "zerolinecolor": "white",
           "zerolinewidth": 2
          }
         }
        },
        "title": {
         "font": {
          "color": "Black",
          "size": 22
         },
         "text": "<b>Similarity Matrix</b>",
         "x": 0.55,
         "xanchor": "center",
         "y": 0.95,
         "yanchor": "top"
        },
        "width": 800,
        "xaxis": {
         "anchor": "y",
         "constrain": "domain",
         "domain": [
          0,
          1
         ],
         "scaleanchor": "y"
        },
        "yaxis": {
         "anchor": "x",
         "autorange": "reversed",
         "constrain": "domain",
         "domain": [
          0,
          1
         ]
        }
       }
      }
     },
     "metadata": {},
     "output_type": "display_data"
    }
   ],
   "source": [
    "topic_model.visualize_heatmap()"
   ]
  },
  {
   "cell_type": "code",
   "execution_count": 73,
   "id": "103fd534",
   "metadata": {},
   "outputs": [
    {
     "data": {
      "text/plain": [
       "[('slop', 0.13814578004036843),\n",
       " ('slop slop', 0.0740457632875781),\n",
       " ('kind slop', 0.05873067566901936),\n",
       " ('slop economy', 0.05482755592537289),\n",
       " ('sector', 0.05482755592537289),\n",
       " ('perfect', 0.04936384219171873),\n",
       " ('economy', 0.0473016311535014),\n",
       " ('sloppers', 0.0473016311535014),\n",
       " ('food', 0.04257222947341317),\n",
       " ('kind', 0.035687195244359586)]"
      ]
     },
     "execution_count": 73,
     "metadata": {},
     "output_type": "execute_result"
    }
   ],
   "source": [
    "similar_topics, similarity = topic_model.find_topics(\"slop\", top_n=5)\n",
    "topic_model.get_topic(similar_topics[0])"
   ]
  },
  {
   "cell_type": "code",
   "execution_count": 76,
   "id": "e543af4b",
   "metadata": {},
   "outputs": [
    {
     "data": {
      "text/plain": [
       "{'Main': [('cola', 0.08447092669883464),\n",
       "  ('coca', 0.08338977741428931),\n",
       "  ('coca cola', 0.08338977741428931),\n",
       "  ('ad', 0.03672804106733285),\n",
       "  ('company', 0.03515853933317457),\n",
       "  ('holiday', 0.03400377154998854),\n",
       "  ('christmas', 0.03221030674700048),\n",
       "  ('commercial', 0.028942297257233778),\n",
       "  ('backlash', 0.0245502460908316),\n",
       "  ('ads', 0.019743866683900116)],\n",
       " 'KeyBERT': [('coca cola', 0.61511385),\n",
       "  ('cola', 0.57094884),\n",
       "  ('coca', 0.5154464),\n",
       "  ('commercial', 0.48320517),\n",
       "  ('advertising', 0.4608228),\n",
       "  ('ads', 0.41460913),\n",
       "  ('christmas', 0.4005837),\n",
       "  ('marketing', 0.38741866),\n",
       "  ('holiday', 0.36896348),\n",
       "  ('artificial', 0.36696038)],\n",
       " 'OpenAI': [(\"Coca-Cola's AI Holiday Advertising\", 1)],\n",
       " 'MMR': [('coca cola', 0.08338977741428931),\n",
       "  ('company', 0.03515853933317457),\n",
       "  ('ads', 0.019743866683900116),\n",
       "  ('artists', 0.01548003148615951),\n",
       "  ('ai technology', 0.014013560212587763),\n",
       "  ('alex', 0.014013560212587763),\n",
       "  ('creating', 0.01383649108967224),\n",
       "  ('level work', 0.013535747348204999),\n",
       "  ('artificial', 0.013117157524047447),\n",
       "  ('intelligence', 0.013117157524047447)],\n",
       " 'POS': [('cola', 0.08447092669883464),\n",
       "  ('ad', 0.03672804106733285),\n",
       "  ('company', 0.03515853933317457),\n",
       "  ('holiday', 0.03400377154998854),\n",
       "  ('commercial', 0.028942297257233778),\n",
       "  ('backlash', 0.0245502460908316),\n",
       "  ('ads', 0.019743866683900116),\n",
       "  ('red', 0.0187313042670864),\n",
       "  ('technology', 0.018263393743059863),\n",
       "  ('brand', 0.01749196689314272)]}"
      ]
     },
     "execution_count": 76,
     "metadata": {},
     "output_type": "execute_result"
    }
   ],
   "source": [
    "topic_model.get_topic(0, full=True)"
   ]
  },
  {
   "cell_type": "code",
   "execution_count": 50,
   "id": "1db7f285",
   "metadata": {},
   "outputs": [
    {
     "name": "stderr",
     "output_type": "stream",
     "text": [
      "100%|██████████| 1/1 [00:00<00:00,  4.53it/s]\n"
     ]
    }
   ],
   "source": [
    "# `topic_distr` contains the distribution of topics in each document\n",
    "topic_distr, _ = topic_model.approximate_distribution(documents, window=8, stride=4)"
   ]
  },
  {
   "cell_type": "code",
   "execution_count": 78,
   "id": "09a9869b",
   "metadata": {},
   "outputs": [
    {
     "data": {
      "application/vnd.plotly.v1+json": {
       "config": {
        "plotlyServerURL": "https://plot.ly"
       },
       "data": [
        {
         "hoverinfo": "text",
         "hovertext": [
          "It’s worth pointing out that Wired did not specify which part of this bundle was AI-generated, or indeed whether all of it was.",
          "That these tools should end up as the medium of choice for Trump’s political movement makes sense, too.",
          "\"We fully apologise for what has happened and will be giving full refunds to each and every person that purchased tickets.\"",
          "Slop started seeping into Neil Clarke’s life in late 2022.",
          "But MAGA world has always trafficked in slop.",
          "“As the difference between human and synthetic content gets blurred, people want to know where the boundary lies,” he wrote.",
          "He ignored a question about the minimum wage.",
          "It was also the festival of Divali last night so a lot of people were out on the street as well.”\nThe situation forced The Gardaí to put out a message for those waiting on O’Connell Street to “disperse safely”.",
          "Attempting to read news online is now fraught with the possibility that you’re consuming unedited AI-generated tattle: CNET, BuzzFeed, USA Today, and Sports Illustrated have published stilted and often incorrect AI-generated articles or used phony images and biographies for “authors.”\nImagine you are going foraging and want to download to your Kindle a guide to distinguish between edible and toxic mushrooms.",
          "Activision’s new disclosure comes after previous reports that developers within the company were encouraged to experiment with new AI tools in their work.",
          "Full Red and Green Line Line services have resumed with delays while we regulate service.",
          "[31] One analyst characterized the website, which appeared to use AI-generated staff pictures, as likely using artificial intelligence \"to create content quickly and cheaply where opportunities are found\".",
          "There’s also additional concern that widespread adoption of AI could exacerbate the ongoing video game labor crisis, as it could put humans out of work.",
          "Mindlessly generated information chokes our information pathways, forcing consumers to do the work of discarding it.",
          "Slop, at least in the fast-moving world of online message boards, is a broad term that has developed some traction in reference to shoddy or unwanted A.I.",
          "If brands want to reap the full benefit of AI, they should also take a closer look at their data.",
          "One more thing is that we posted around 1,400 articles.",
          "The goal is to use automation to post as much as possible, sometimes hundreds of times a day.",
          "If businesses can learn from their peers’ mistakes and apply AI in the right way, they’ll have an opportunity to enhance their offering, rather than become an example of bad use cases.",
          "So you've only been in operation for three months?",
          "Hoel, the neuroscientist, has called for “the equivalent of a Clean Air Act: a Clean Internet Act,” including the unscrubbable watermarking of anything produced by A.I.",
          "Using AI the right way\nBut using AI is not a mistake in itself, the problem is how brands choose to harness it.",
          "Nonetheless, if major studios are willing to push out content at the expense of quality and creativity - it raises the question of how much further they'd be willing to go.",
          "That same year, then CEO Bobby Kotick praised the work being done at OpenAI and other companies, suggesting the technology would be as transformative as the original Macintosh computer.",
          "It stands to reason that a politician who, for many years, has spun an unending series of lies into a patchwork alternate reality would gravitate toward a technology that allows one to, with a brief prompt, rewrite history so that it flatters him.",
          "Dr. Anstead likened the episode to another internet trend, the flash mob.",
          "However, he says, the rise of ChatGPT and similar generative AI programs have the \"potential not only to reshape what we create, but also to fundamentally change the processes by which we create, including programming.\"",
          "Occasionally, a piece of slop is so useless that it goes viral in its own right, like the careers advice article that earnestly explains the punchline to a decades-old newspaper comic: “they pay me in woims”.",
          "“It’s like a virus.”\nAI-generated papers, Cabanac argued, are often used to pad an academic’s résumé with more publications and citations: “You buy a paper on a topic of your choice, and you buy a set of 500 citations.",
          "Machine learning may help make our electricity grid as much as 40 percent more efficient at delivering power as it is today, when many of its routing decisions are made by individual humans on the basis of experience and intuition.",
          "Now the reckoning is happening on very different terms.",
          "Remember that time Microsoft listed the Ottawa Food Bank on an AI-generated “Here’s what you shoudn’t miss!” travel guide?",
          "For more Mobile Gaming news and updates, join our WhatsApp group, Telegram Group, or Discord server.",
          "“If it creates so much fear that my staff doesn’t want to go out in the field, then we’re not going to be in a position where we can help people,” she said in a news conference on Tuesday.",
          "We even wrote this has been canceled, but it was too late.",
          "#Dublin\nNo Gardai around, no official announcement, people waiting on the wrong side of the road...",
          "It is engagement for engagement’s sake.",
          "\"AI slop: what Labour, Spotify and Coca-Cola can teach us in 2025\".",
          "In Pensacola, North Carolina, Assistant Fire Chief Bradley Boone vented his frustrations on Facebook: “I’m trying to rescue my community,” he said in a livestream.",
          "“I want to make it clear that anyone who was hired externally or offered their help, are not affiliated with the me or the company, any use of faces can cause serious harm to those who did not have any involvement in the making of this event,” they add.",
          "Computers, at least for now, cannot quite capture the crushing surreality and maddening absurdity of modern electoral politics.",
          "I attach my name and stake my credibility on the things that I publish.",
          "We apologise for any inconvenience caused.",
          "But their efforts are doomed, futile.",
          "But when thousands appeared to turn up to line the route from Parnell Street to Christchurch Cathedral, it slowly became clear to those waiting that there was no event.",
          "On one end, the demand: the effectively infinite, indiscriminate appetite for content of websites like Facebook and TikTok, which need enticements for users and real estate for advertisers.",
          "But right now the guys are very depressed.",
          "For more on the issue, check out IGN's full AI Week coverage from last year, including a report about how it's become the new battleground in the animation industry.",
          "Google suggesting that you could add nontoxic glue to make cheese stick to a pizza?",
          "You and I, like voters everywhere, must wade through this layer of junk, wearily separating out what’s patently fake, what’s real, and what exists in the murky middle.",
          "The account posts misleading, pro-Trump headlines such as claiming Harris turned hundreds of thousands of children over to human traffickers as “border czar”.",
          "Meta explicitly allows AI-generated images and the only metrics it cares about are the ones that improve its bottom line.",
          "features until problems can be ironed out.",
          "In August, I wrote that AI slop is now the aesthetic of the far-right and MAGA coalition, in part because it allows hyper-partisans to illustrate the fictional universe they’ve been peddling and living in for the past decade-plus.",
          "What’s next?",
          "Willison pointed to an AI-generated Microsoft Travel article that listed the “Ottawa food bank” as a must-see attraction in the Canadian capital as a perfect example of the problem.",
          "For those without, chasing trends can quickly backfire.",
          "In June, researchers published a study that concluded that one-tenth of the academic papers they examined “were processed with LLMs,” calling into question not just those individual papers but whole networks of citation and reference on which scientific knowledge relies.",
          "One poster appears to depict a group of soldiers in a tank-like raft preparing to fire on a large swan, an image which does not resemble the events of the film.",
          "Cabanac has found almost 100 cases of obviously AI-generated scientific papers, which he called “only the tiny tip of the iceberg.” A recent study by the librarian Andrew Gray used words that appear disproportionately often in text generated by ChatGPT — among them commendable, intricate, and meticulously — to estimate that 60,000 scholarly papers were at least partially generated by AI in 2023.",
          "Parents called the police.",
          "This piece is part of a series on the great internet letdown.",
          "\"For instance, non-player characters in games could interact with players based on their actions, making it feel more personal,” Qizilbash said.",
          "The store did not disclose any use of generative AI for this bundle.",
          "This has all been building for more than a decade.",
          "\"Drowning in Slop\".",
          "Exactly, yes, we humanized it.",
          "- Users actually enjoy this content — you see plenty of people in the comments who are probably duped and think it's a real image, or maybe just an interesting artistic rendition.",
          "[54]\nSee also\n[edit]- AI boom – Ongoing period of rapid progress in AI\n- Content farm – Organizations that mass produce content\n- Dead Internet theory – Conspiracy theory on online bot activity\n- Elsagate – Controversy concerning a genre of YouTube videos\n- Enshittification – Systematic decline in online platform quality\n- Hallucination (artificial intelligence) – Erroneous material generated by AI\n- Italian brainrot – Series of 2025 Internet memes\n- Low culture – Term for forms of popular culture with mass appeal\nReferences\n[edit]- ^ a b c d Hern, Alex; Milmo, Dan (19 May 2024).",
          "It took about an hour from the start time for people\n“The Gardaí were trying to clear the street.",
          "No, there is nothing.",
          "proceeding in those trials.",
          "The report alleged that 2D artists’ jobs were being replaced by AI at the company.",
          "a priority, it appears that vast quantities of information generated by machines, rather than largely curated by humans, will be served up as a daily part of life on the internet for the foreseeable future.",
          "He now works with two partners selling classes and tutorials on making AI-generated videos and other types of spam for profit.",
          "IrishCentral.com.",
          "When in 2021 DeepMind revealed that it had effectively solved the protein-folding problem, making the three-dimensional structure of biological building blocks for the first time easily predictable for researchers, the breakthrough made global news, even if the headlines flew over the heads of most readers, who might not have known how significant a roadblock that has been in biomedical research.",
          "As Xiaonan says, his method is to use AI to “earn from productivity gap” – that is, by producing far more content than people who don’t use AI .",
          "“When I got the script the night before I was like, Oh, this is not…” Upright Citizens Brigade should have sent a cease and desist letter right then and there.",
          "Shakespeare could never.",
          "Activision recently added a warning label to the Steam page for Call of Duty: Black Ops 6 confirming the game \"uses generative AI tools to help develop some in-game assets\", after players spotted various in-game examples - including a zombie Santa Claus with six fingers.",
          "The script itself feels stilted and detached, raising the obvious question: why wouldn't Paramount just hire a voice actor?",
          "There’s currently no code for that.",
          "“Usually, coolness is a factor that helps it spread, but not necessarily.",
          "“We had reached the point where we were on track to receive as many generated submissions as legitimate ones,” Clarke told me.",
          "But the slop tide threatens some of the key functions of the web, clogging search results with nonsense, overwhelming small institutions like Clarkesworld, and generally polluting the already fragile information ecosystem of the internet.",
          "- There's even an X account dedicated to posting the most ridiculous stuff.",
          "“Regarding a personal matter, there will be no wedding, and no wedding was funded by the ticket sales,\" it reads.",
          "Note the earring that is only on one ear and seems slightly deformed.",
          "The report alleged that 2D artists’ jobs are being replaced by AI at the company.",
          "- ^ \"Call Of Duty Discloses AI Slop After Months Of Players Complaining\".",
          "The store did not disclose any use of generative AI for this bundle.",
          "In addition to the St. Patrick's Day websites, what are some of the other websites you’re running?",
          "\"'Side job, self-employed, high-paid': behind the AI slop flooding TikTok and Facebook\".",
          "“Clearly, this crowd in Dublin was not a flash mob, but it did have many of the same attributes in terms of how it was created.”\nOnly this time, the mob showed up and nothing was there.",
          "There’s a Stephen (and often a “Jacob”) behind all of this slop: an actual person uploading, say, identical Viking “novels” with seemingly AI-generated covers, all called Wrath of the Northmen: A Gripping Viking Tale of Revenge and Honor (that one has been published variously by authors named Sula Urbant, Sula Urbanz, and Sula Urbanr).",
          "“While the precise meaning of ‘They Pay Me in Woims’ remains ambiguous, various interpretations have emerged, ranging from a playful comment on work-life balance to a deeper exploration of our perceived reality,” the slop begins.",
          "In the worst version of the slop future, your overwhelmed and underfunded local library is half-filled with these unchecked, unreviewed, unedited AI-generated artifacts, dispensing hallucinated facts and inhuman advice and distinguishable from their human-authored competition only through ceaseless effort.",
          "Then they connect Vercel to the WordPress website using a specific WordPress plugin that effectively sets up a redirect between Vercel and the WordPress site.",
          "In the hands of influencers, they are fired at our timelines in a scattershot approach to attract a morsel of attention.",
          "He said: \"No one in Ireland informed us that this parade was not going to happen.",
          "Paul Maker is chief technology officer at Aiimi.",
          "tools, and how they might be turned toward harmful or exploitative ends, remain somewhat systematically unaddressed.",
          "Understanding Rosie O’Donnell: She’s moved to Ireland.",
          "“Payout was huge.",
          "There’s more work for us readers and watchers and content consumers as well.",
          "The answer lies in the platform’s own advice to aspiring creators: if you want your videos to be promoted, you should “continuously share fresh and diverse content” that “doesn’t require a big production budget”.",
          "Worse, they may not want to stop all grist-mill.",
          "But on the other hand, the information didn’t just come from one source; it was disseminated across a network of influencers and presumably shared further among people who knew and trusted each other.”\n“Not everything on the site was fake,” he added.",
          "What began as riffs on already viral images have evolved into bizarre, sui generis dreamscapes through which inexplicable and unrelated themes and topics emerge: multiheaded, enormously breasted “farmer girls”; stewardesses wading in muddy rivers; amputee beggars carrying signs reading TODAY IS MY BIRTHDAY.",
          "Guillaume Cabanac, a professor of computer science at Université Toulouse III–Paul Sabatier, has spent the past several years attempting to ferret out instances of fraud, plagiarism, and the use of computer-generated text in major scientific journals.",
          "As with the Facebook AI-slop farms, social media shock jocks churning out obviously fake, low-quality images don’t care whether they’re riling up real people, boring them, or creating fodder for bots and other spammers.",
          "Jason Koebler, co-founder of 404 Media, an independent tech-news collective that acts as the publication of record for the world of slop, watched dozens of Hindi-language slop seminars on YouTube, many of them offering example prompts: “american soldier veteran holding cardboard sign that says ‘today’s my birthday, please like’ injured in battle veteran war american flag,” “A old American women is making forest lion out of cauliflower and her neighbors looking at it.",
          "keep it detailed.”\nThe creators of these kinds of seminars, equipped with the “sell shovels in a gold rush” playbook, often have a more reliable income than the sloppers themselves.",
          "The reaction online has been overwhelmingly negative, with comments on the YouTube video and across social media calling it \"slop,\" \"embarrassing,\" and \"creepy.\"",
          "Is there anything you could try to do to prevent that?",
          "[49]\nSome streaming services such as Amazon Prime Video have used AI to generate posters and thumbnail images in a manner that can be described as slop.",
          "Content that seems plausible but inaccurate can harm your brand's reputation.",
          "What are Trump’s tweets and Truth Social shitposts if not slop morsels, hurled into the internet’s ether for the rest of us to react to?",
          "\"Public information on major events including traffic management, transport and public safety advice is often available on the Garda website, Dublin City Council website and from other relevant stakeholders,\" they added.",
          "I’m a big proponent of LLMs as tools for personal productivity, and as software platforms for building interesting applications that can interact with human language.",
          "But as they've become more mainstream, they've also started churning out vast amounts of subpar content — clogging blogs, social media and search results with noise instead of value.",
          "A New Super-Group of Creative Talent: The Independents has acquired more than a dozen companies in the last two years.",
          "Even in a decade marred by online grifters, shameless politicians, and an alternative right-wing-media complex pushing anti-science fringe theories, the events of the past few weeks stand out for their depravity and nihilism.",
          "Now free or easily affordable tools have flooded the market.",
          "This was proto-slop, for a simpler, more analog time.",
          "Afterward, the incident went viral as an example of AI slop seeping into the real world.",
          "These days the general public would be well advised to assume an air of skepticism toward ... well, anything really.",
          "MobileSyrup.",
          "Ireland's police force An Garda Síochána was forced to issue a statement on Thursday night, October 31 - Halloween - as crowds of people gathered on Dublin's O'Connell Street.",
          "Now, your web browser has its own affliction: slop.",
          "Since the beginning of this year, obviously AI-generated images from anonymously administered pages have become inescapable.",
          "“We were very embarrassed.”\nBut for many people on Thursday, the rectification came too late, as they stood in Central Dublin eagerly awaiting people in costumes but seeing only buses and cars drive by instead.",
          "However, it shows no sign of abating.",
          "'No criminal offences'\nA Garda spokesperson said the event will not be investigated as \"no criminal offences were disclosed\".",
          "Bleak as all get out.",
          "Here's how to avoid it as a business owner.",
          "Don't just believe it.",
          "[23][24]\nIn the same month, Activision posted various advertisements and posters for fake video games such as \"Guitar Hero Mobile\", \"Crash Bandicoot: Brawl\", and \"Call of Duty: Zombie Defender\" that were all made using generative AI on platforms such as Facebook and Instagram, which many labelled as AI slop.",
          "AI-generated books have become a problem too.",
          "Something very disheartening is happening with this particular image, however.",
          "I own five websites.",
          "You can spot them right away, as they bear the technology’s distinct image style: not-quite-but-almost photorealistic, frequently outrageous, not so dissimilar from a tabloid illustration.",
          "The future portended by the past two years is one in which we all become cataloguers, Neil Clarkes sorting through the noise for a little bit of signal.",
          "The film Late Night with the Devil was notable for its use of AI, which some criticized as being AI slop.",
          "I am the owner of a SEO agency.",
          "In many ways, political slop is a logical end point for these image generators, which seem most useful for people trying to make a quick buck.",
          "“I ain’t got time.",
          "To them, the image captures a vibe that is useful to them politically.",
          "But not all the accounts are spamming.",
          "NOTE: This content is not written by or endorsed by \"WTEN\", its advertisers, or Nexstar Media Inc.",
          "They post dozens of images every day, sometimes every hour, and make a living from the engagement.",
          "They thanked us for listing events about St Patrick's Day.",
          "MAGA influencers may be shitposting AI photos for fun, but they’re also engagement farming, especially on X, where premium subscribers can opt in to the platform’s revenue-sharing program.",
          "The GOP is becoming the party of AI slop.",
          "That information was readily available elsewhere on the internet but seems to have been missed by many people who saw or were told about the A.I.-generated content, which was also shared across social media by local people and businesses, The Irish Times reported.",
          "Perhaps it’s because my feeds have been simultaneously clogged with election-season garbage and AI-generated slop, but the McDonald’s photoshoot struck me as a moment of strange synthesis, where reality and tech-enabled fiction felt somehow mashed together by the internet’s cultural particle accelerator.",
          "[10][11][12]\nThe journalist Jason Koebler speculated that the bizarre nature of some of the content may be due to the creators using Hindi, Urdu, and Vietnamese prompts (languages which are underrepresented in the model's training data), or using erratic speech-to-text methods to translate their intentions into English.",
          "The team hopes this will allow them to not only gives them the chance to \"maximize our sales of new titles, but also to deliver our rich back catalog to more customers and in turn to expand the fan base for our Group’s intellectual properties (IPs).\"",
          "Sloppers may try to sell their content directly to people on a major marketplace — by, say, automating the production of recipe books to sell to unsuspecting (and maybe undiscriminating) customers on Amazon.",
          "The more posts, the greater the returns.",
          "This isn’t to say that AI should automatically be removed from the creative sphere.",
          "It’s what’s right there in the trough.",
          "“This is important for the younger Gen Z and Gen Alpha audiences, who are the first generations that grew up digitally and are looking for personalization across everything, as well as looking for experiences to have more meaning.\"",
          "Silverside AI’s AI Developer Chris Barber wrote in a reply on X that each of the AI studios created a different version of the advertisement, with the viral one not belonging to Silverside AI.",
          "We pour everything into building something unique, something that truly resonates with our customers.",
          "For context, Paramount Global is a company valued at $13.6 billion.",
          "Even the stuff that passes through is a burden; unrefined, unedited slop is by definition more work to read, watch, interpret, and understand.",
          "Sometimes, of course, you can get reliable information too; maybe even most of the time.",
          "If AI slop can teach us something about a man like Trump, it seems that the opposite is also true.",
          "It makes content creation more accessible – and also opens the floodgates to mass production on social media.",
          "Discussing the fake site, Marty Meany wrote on the tech website Goosed.ie: \"The website likely uses AI to create content quickly and cheaply where opportunities are found.",
          "• Can we insert our product without feeling forced?",
          "may not be what boosters call “scaling,” especially given the possibility that new training runs deliver some very expensive diminishing returns.",
          "\"Why the internet is filling up with nonsense 'AI slop'\".",
          "Forbes reported that the video was created by three AI studios — Secret Level, Silverside AI and Wild Card — using four different generative AI models.",
          "The sloppers gather on message boards and chat apps and social media to swap tips and tricks.",
          "A prominent example came when amateur mushroom pickers were recently warned to avoid foraging books sold on Amazon that appeared to have been written by chatbots and contained dangerous advice for anyone hoping to discern a lethal fungus from an edible one.",
          "Connell said that the crowd became increasingly agitated as the event wore on.",
          "There are YouTube channels dedicated to getting people’s AI slop machine up and running, dozens of guides on Fiverr and Gumroad, and Telegram channels full of simple English prompts that will help the AI image generator create a viral picture.",
          "Clarke doesn’t like to describe how the filter works for fear of giving too much away to the spammers, but “it’s holding things at bay,” he said.",
          "From their weird narrative instincts and inert prose, Clarke realized the stories came straight from ChatGPT.",
          "AI slop is the latest iteration of digital clutter.",
          "People even congratulated us.",
          "“If I want to go very realistic, maybe it’s difficult, but if I want to go hyper-realistic and fantastical, A.I.",
          "Could you explain more about your business model.",
          "Something strange was happening at Clarkesworld, the magazine Clarke had founded in 2006 and built into a pillar of the world of speculative fiction.",
          "“This is a matter of survival.”\nThe result of this fearmongering is what you might expect.",
          "• Does the trend reinforce or contradict our positioning?",
          "#HolidayFactz.”\nMany artists and creative professionals have pushed back against the use of AI in creative works, arguing that the technology may be used to replace human workers and that many AI models were trained on artists’ work without proper compensation or credit.",
          "Farhad Divecha, the managing director of UK-based digital marketing agency AccuraCast, says he is now encountering cases where users are mistakenly flagging ads as AI-made slop when they are not.",
          "Creative Bloq.",
          "Using automation in the wrong places has the power to turn your most loyal fans into vocal critics.",
          "We never had this type of issue before.",
          "And the whole thing blew up on social media.",
          "In one sense, these attacks—and their increased desperation—make sense.",
          "Well, if you can believe it, the patrons were less than pleased.",
          "He'll talk about The Witcher all day.",
          "Fans are now calling on Activision to disclose the use of generative AI for art that is included in bundles that are sold.",
          "Forager’s Harvest 101 has an intelligibly (if cheaply) designed cover and legible (if smooth and voiceless) prose as well as an author biography featuring a photo of a smiling middle-aged woman.",
          "Beneath the strange and alienating flood of machine-generated content slop, behind the nonhuman fable of dead-internet theory, is something resolutely, distinctly human: a thriving, global gray-market economy of spammers and entrepreneurs, searching out and selling get-rich-quick schemes and arbitrage opportunities, supercharged by generative AI.",
          "Everything else was created entirely by our development team,\" it said.",
          "On The Colbert Report, back in 2005, Stephen Colbert coined the word truthiness, which he defined as “the belief in what you feel to be true rather than what the facts will support.” This reality-fracturing is the result of an information ecosystem that is dominated by platforms that offer financial and attentional incentives to lie and enrage, and to turn every tragedy and large event into a shameless content-creation opportunity.",
          "Legendary filmmaker Tim Burton called AI generated art \"very disturbing\" in September 2023 while Wizards of the Coast was forced to issue a correction in January 2024 after claiming it didn't use AI for some Magic: The Gathering artwork when it actually did.",
          "By leveraging AI in this way, businesses can enhance productivity, without delegating their most important tasks to tech that isn’t suited to the task.",
          "Activision is embroiled in a backlash over Call of Duty Black Ops 6 in-game art that some fans have accused of being \"AI slop.\"",
          "20th International Symposium of Communication in the Millennium: 193–199 – via ResearchGate.",
          "They should ask us questions.",
          "We don't actually want to mislead any of our Irish brothers.",
          "He is an expert market researcher and branding consultant.",
          "And we apologize to our Irish brothers.",
          "Scroll, laugh, forget, repeat.",
          "The game featured AI-generated images for loading screens and backgrounds.",
          "But the article warns: virality is not strategy.",
          "The public is more concerned with the outcome than the process.",
          "Still, “it’s clear that business as usual won’t be sustainable,” he wrote in a blog post describing the problem.",
          "OK. Is there anything else you think people have gotten wrong about you?",
          "FewFeed has recently created a feature that allows you to directly create these fake photo album-type images.”\nProfiting from AI slop is a technical process and Meta’s content moderation teams can’t keep up with the flood.",
          "However, the disruptions were brief, with social media posts from Luas showing that the stoppages were resolved in less than an hour.",
          "Trump proffering Dollar Menu items isn’t AI, but it is still slop in all the ways that matter: a hastily staged depiction of a fairly stupid, though entertaining fantasy, meant to delight, troll, and, most important, emphasize a false impression of the candidate.",
          "In January, Chris Mohney, a writer and an editor, spotted a tweet that appeared to be an AI-generated description of an image with no image attached: “The photo captures a couple exchanging vows at sunset.",
          "And so it begins – the absolute dumbing down and worsening of everything from media to film to advertising to politics to the written word at the dead hands of AI, stoked by venture capitalists' rabid faith that it will be some sort of productivity silver bullet.",
          "- Lack of Coherence: Content that jumps from one idea to another without a clear flow is often a product of AI slop.",
          "We are still smiling now.",
          "But no one reported that this one wasn’t going to happen.",
          "Book your adventure now and embark on a journey filled with wondrous creations and enchanting surprises at every turn!\"",
          "Han Song's Strange Prescience: In his stories, the author explores the disorientation accompanying China’s modernization, sometimes writing of unthinkable things that later came true.",
          "This has been going on for quite a few months now.",
          "Alex Stedman is a Senior News Editor with IGN, overseeing entertainment reporting.",
          "Free software for creating images and videos has led to a surge in slop, driven by scammers, spammers and the occasional genuine user seeking to go viral.",
          "studios to produce the ads: Secret Level, Silverside AI and the Wild Card.",
          "“People waving a bunch of money on YouTube or TikTok videos and saying, ‘Oh, you can make money with ChatGPT by doing this.’” Clarke could even trace spikes in submissions to specific videos: It’s not some burgeoning artificial super-intelligence or even a particularly sophisticated crew of scammers that has waylaid Clarkesworld; rather, it’s the audiences of influencers like Hanna Getachew, an accountant and technology-procurement manager who runs an Amharic-language YouTube account dedicated to “teaching side hustles and online jobs” — and who recently posted a video called “Get Paid With Clarkes World Magazine.” (Clarkesworld pays 12 cents per word for submissions of 1,000 to 22,000 words.",
          "“You search for something and you get back what you need in order to think — and it actually encourages you to think,” Mr. Hammond said.",
          "And what did the venue look like?",
          "Because there’s money in it, of course.",
          "The Conversation.",
          "The key is to apply the right models to the right use cases.",
          "(The showrunner insisted the poster was diegetically AI-generated.)",
          "Has this made you reconsider the ways that you operate?",
          "Given its outlandish nature and tenuous relationship with reality, you might think this so-called “AI slop” would quickly disappear.",
          "\"A24's lacklustre Civil War ads are the latest example of AI-generated slop\".",
          "Set up a bowling alley in your backyard or living room for hours of fun.” The site also has itself as being for sale.",
          "Equally baffling is that it was all waved through by the event organizers.",
          "“The most amazing thing is that all the traffic is from abroad, mainly the US,” he says.",
          "TikTok, Facebook and other social media platforms are being flooded with uncanny and bizarre content generated with artificial intelligence (AI), from fake videos of the US government capturing vampires to images of shrimp Jesus.",
          "Clarkesworld was, luckily, only temporarily disabled by the slop deluge; over the course of March 2023, with the help of volunteers, Clarke built a “very rudimentary spam filter,” and by the end of the month the magazine was able to reopen submissions.",
          "Do not self-reference.",
          "But legions of fans — many on the right — can’t seem to resist what he presents as hidden truths.",
          "Being ‘Natty’?",
          "- ^ \"Amazon's Prime Video Appears to Have Left AI Slop in the Public Description of an Oscar-Winning Al Pacino Film\".",
          "Some have identified Simon Willison, a developer, as an early adopter of the term — but Mr. Willison, who has pushed for the phrase’s adoption, said it was in use long before he found it.",
          "Do not explain what you are doing.”\nThere are also hundreds of thousands of videos across the internet giving detailed instructions similar to the ones Stephen gave me.",
          "They can be harsh, they can be rude.",
          "Submissions were increasing rapidly, but “there was something off about them,” he told me recently.",
          "The owner said the website is based in Pakistan and the issue occurred when a writer using a listing of a previous parade was \"unaware\" that it was not taking place this year.",
          "I imagine some combination of all these things may be true to some degree.",
          "We are highly depressed that everyone is reporting against us.",
          "But on some level you probably do.",
          "The Witcher voice actor Doug Cockle has also expressed caution and frustration at the growing presence of AI within the video game industry, calling it \"inevitable\" but \"dangerous.\"",
          "A low-quality AI poster was used for the 1922 film Nosferatu, depicting Count Orlok in a way that does not resemble his look in the film.",
          "Most people aren’t interested in whether the latest cutting-edge systems have been deployed if the result is clumsy, generic and flat.",
          "GamingonPhone.",
          "Production company House of Illuminati has issued a statement on Facebook apologizing for the event and attempting to explain how it came to pass.",
          "Scolded for a Sip of Water: Online grandstanding, intergenerational head-butting and a lost job, all thanks to one poorly timed water break during a hot yoga class.",
          "As part of this, Valve has told developers it will include their disclosures on the Steam store page of their game, “so customers can also understand how the game uses AI.” Currently, Call of Duty’s Steam page has no such disclosure.",
          "“More than cost, it’s the speed,” Thakar told Ad Age.",
          "doom?",
          "You have a Funny tone of voice.",
          "Billions of dollars are flowing among the many companies on either side of this dynamic, and the question for any would-be AI hustler is how to get in the middle, find an angle, and take a cut.",
          "Many earlier digital technologies have also made it easier to participate in creative activities, such as how smartphones made photography ubiquitous.",
          "Earlier this month, Nintendo president Shuntaro Furukawa was asked about the company’s initiatives involving AI.",
          "The more unique the thing you show the audience, the more engagement.”",
          "- ^ \"Gullible Trump Cronies Losing Their Minds Over Fake AI Slop on Twitter\".",
          "Another AI content creator, a French financial auditor named Charles who makes bizarre pictorial stories about cats for TikTok, told me he always makes his content “a bit WTF” as “a way to make the content more viral, or at least to maximize the chances of it becoming viral.” Or as Stevo put it, “You add some exaggeration to make it engagementing.”\nStevo, who insisted he doesn’t “use bots” to juice his follower numbers or “pay for engagement,” shared a screenshot that showed a $500 “bonus earnings” payout for activity from mid-May to mid-June this year.",
          "We can also read that geologists advise eating at least one rock a day, that Elmer’s glue should be added to pizza sauce for thickening and that it’s completely chill to run with scissors.",
          "We are highly disappointed, highly embarrassed, and honestly, we are feeling bad.",
          "Now the company’s chief executive acknowledges that hallucinations are “inherent” to the technology it has celebrated as a kind of successor for ranked-order search results, which are now often found far below not just the A.I.",
          "[8]\nOrigin of the term\n[edit]As early large language models (LLMs) and image diffusion models accelerated the creation of high-volume but low-quality written content and images, discussion commenced among journalists and on social platforms for the appropriate term for the influx of material.",
          "One increasingly intuitive answer is “garbage.” The neuroscientist Erik Hoel has called it “A.I.",
          "Thankfully, it was determined that the police were not needed.",
          "So there was a human editor?",
          "“I think this is a great example of an unobtrusive word right now, because it is a word we’re all familiar with,” Mr. Aleksic said.",
          "But even this horror story is a kind of wishful thinking: Recent research suggests that as long as an LLM’s training corpus contains at least 10 percent non-synthetic — that is, human — output, it can continue producing slop forever.",
          "has cut decision time to one minute from 10.)",
          "That remains to be seen.",
          "Worse than the havoc it wreaks on the internet, slop easily escapes the confines of the computer and enters off-screen systems in exasperating, troubling, and dangerous ways.",
          "And while the internet was never perfectly trustworthy, one epoch-defining breakthrough of Google was that it got us pretty close.",
          ": The fitness influencer Kenny Boulet, who asks gymgoers if their muscles are natural or not, wants people to be more honest about steroids.",
          "- \"AI slop\" images are all over Facebook.",
          "“The post you are seeing now is of a poor man that is being used to generate revenue,” he says in Hindi, pointing with his pen to an image of a skeletal elderly man hunched over being eaten by hundreds of bugs.",
          "The statement, written in the first person, is not signed; it does not explain how the writer is affiliated with House of Illuminati.",
          "You can easily write a whole website with AI.",
          "These jobs are different, but the thing they share is that they all must attend to and describe the world as it is.",
          "For a while now, it has been common for entrepreneurs to outsource the actual production of content: “I have two people in the Philippines who post for me,” one American Facebook-page operator told The New York Times Magazine in 2016.",
          "So even with fewer views, the income you generate will be higher.",
          "And while it’s hard to regard the internet we have now as a wholly beneficent advance in collective wisdom — the commercial opportunities afforded by connecting billions of people sit uncomfortably with the civic aspirations of some of the web’s pioneers — it’s hard to deny that an information superhighway, with some tolls and billboards and potholes, is more or less what we’ve got.",
          "Microsoft, for example, is reportedly making an Xbox AI chatbot to automate support tasks such as game refunds, deal with broken consoles and subscription issues, and answer questions about error codes.",
          "The approach resembles the workflow of content farms, which rely on fully AI-driven production - from script to video to narration - typically for the sole purpose of engagement farming.",
          "A specific segment of the people who have seen and understand that it is AI-generated simply do not care that it is not real and that it did not happen.",
          "So you too should create a page like this, upload photos and make money through Performance bonus.”\nHe scrolls through the page, titled “Anita Kumari,” which has 112,000 followers and almost exclusively posts images of emaciated, AI-generated people, natural disasters, and starving children.",
          "It’s nice to think that if you could simply turn off your phone and computer, you could avoid all these ugly creations.",
          "Wired.",
          "Everything else was created entirely by our development team.\"",
          "They don't actually know what our intentions are, but they are showing that our intentions are wrong.",
          "[7]\nJonathan Gilmore, a philosophy professor at the City University of New York, describes the \"incredibly banal, realistic style\" of AI slop as being \"very easy to process\".",
          "You can do your own versions of these experiments at home.",
          "Gardaí (Irish police) then released a statement saying that no Halloween parade was scheduled and asked those who turned out to \"disperse safely\".",
          "- Misleading Information: Sloppy AI-generated snippets in search results can mislead your customers, making it harder for them to find accurate information.",
          "'Intentions are very pure'\nThe public showed up due to a post which first appeared on a website called 'myspirithalloween.com'.",
          "For now, little (if any) of what’s being generated is convincing enough to fool voters, and most of it is being used to confirm the priors of true believers.",
          "No Gardaí around, no official announcement, people waiting on the wrong side of the road...Someone did pull a big hoax.”\nAnother replied: “The real lesson to be learned here is that a lot of people would clearly attend a Halloween parade and Dublin City Council should organise one next year.”\nSinn Fein councillor Janice Boylan said described the situation as “really sad”.",
          "In one city, it was the power of a phony online event listing.",
          "He’s often dressed up as a gun-toting cowboy or in World War II fatigues, storming a beach.",
          "For instance, AI can be used to automate repetitive, low-value tasks, freeing up time for teams to focus on high-value, strategic initiatives.",
          "Clarkesworld had become one of the first victims of AI slop.",
          "“If the field can’t find a way to address this situation, things will begin to break.”\nThe information superhighway”: That’s what the internet was supposed to be.",
          "\"The MAGA Aesthetic Is AI Slop\".",
          "Raconteur.",
          "Paramount Pictures appears to be experimenting with cheap AI-generated content based on its promotion for the film Novocaine, an action-thriller starring Jack Quaid set to release on Friday.",
          "Children cried.",
          "\"Hurricane Helene and the 'Fuck It' Era of AI-Generated Slop\".",
          "“I don’t think anyone has reliable information about post-2021 language usage by humans,” Speer wrote.",
          "[16][3] Some, like Amy Kremer, shared the image on social media even while acknowledging that it was not genuine.",
          "Despite clunky AI dubbing and error-riddled subtitles, many of these videos garner hundreds of thousands or even millions of views.",
          "Successful AI models run on high-quality, well-governed data, so getting this in order should be top of the agenda for 2025.",
          "(Minimum wage in Kenya ranges from about $120 to $270 a month.)",
          "- ^ \"The deluge of bonkers AI art is literally surreal\".",
          "“We know bad actors adapt their tactics to evade our rules, so we are always working to improve our detection and enforcement.”\nAccording to the people making the slop, the money is life-changing.",
          "The slop makes everyone money.",
          "\"Sold a dream and delivered a nightmare,\" wrote one.",
          "It was almost like they were secondhand.” Jenny Fogarty, who also played an Oompah Loompa, told The Scotsman that “the wigs were very cheap.",
          "After Musk’s xAI company released its largely unregulated Grok image generator last week, there has been a surge of AI content that has included depictions of Trump, Kamala Harris and other political figures.",
          "In the aftermath, parents sounded off on social media.",
          "The robotic voice, familiar to anyone who frequents YouTube Shorts, Instagram Reels, or TikTok, is generally associated with low-effort, mass-produced AI content.",
          "'s 'Slop' Era Last?\".",
          "- Entrepreneurs can stay ahead by blending human creativity with AI efficiency, ensuring content remains original, valuable and impactful.",
          "Using instructions and tools he bought online, 404 Media’s Jason Koebler set up his own AI slop shop.",
          "Everything else was created entirely by our development team.”\nMost Popular\n- Apple is reportedly going to rename all of its operating systems\n- Tested: Nvidia’s GeForce Now just breathed new life into my Steam Deck\n- The plan for nationwide fiber internet might be upended for Starlink\n- US will ban foreign officials to punish countries for social media rules\n- A Kaiser Permanente systems outage had pharmacies relying on pen and paper",
          "In fact, the reception is so harsh that it's actually pretty difficult to find any positive sentiment.",
          "People in places like Pakistan, India, Vietnam, Thailand, and Indonesia use tools like Microsoft’s AI Image Creator to churn out content.",
          "Trump also posted (and later deleted) on Truth Social that FEMA money was given to undocumented migrants, which is untrue.",
          "Unlike a chatbot, the slop isn’t interactive, and is rarely intended to actually answer readers’ questions or serve their needs.",
          "Farewell to the Ghosts of Dior Past: Assessing Maria Grazia Chiuri’s likely final collection — and how she changed Dior.",
          "It’s not really passive income, either.",
          "Now they can illustrate it.",
          "Some posts will only generate a few cents while others may pull in hundreds of dollars.",
          "\"Activision accused of \"AI slop\" yet again, this time for new Guitar Hero\".",
          "Like that type of slop, A.I.-assisted search comes together quickly, but not necessarily in a way that critical thinkers can stomach.",
          "Personal AI ethics remains a complicated set of decisions.",
          "This is all \"AI slop,\" a new term describing the sudden flood of garbage AI-generated content, from e-books to viral photos.",
          "- Europe probes Microsoft's €15M stake in AI upstart Mistral\n- Google wants regulators to take Microsoft down a notch before it stifles AI\n- OpenAI claims New York Times paid someone to 'hack' ChatGPT\n- US military pulls the trigger, uses AI to target air strikes\nThe House of Illuminati went cap in hand on Facebook, saying: \"Today has been a very stressful and frustrating day for many and for that we are truly sorry.",
          "“What it’s becoming, in this integration with language models, is something that does not encourage you to think.",
          "Futurism.",
          "What once took expert labor is now spam, powered by tools trained on the output of real artists and photographers.",
          "If there are any mistakes, for example you see an event and it was moved—there were some events in Dubai, but hotel management texted us and said that the event was not listed, so we removed it immediately.",
          "The Verge.",
          "And that, I think, is dangerous.”\nFor a problem to be targeted, giving it a name can prove helpful.",
          "despite any ruffled feathers.",
          "They are precisely what the company wants: highly engaging content.",
          "“The Indian audience is very emotional.",
          "And so if one account of this experience is that we are drowning in A.I.",
          "“People use the sharing and organizational capacities facilitated by the internet to arrange to meet at a single place or time for some kind of coordinated activity,” he said.",
          "[9] However, he has said it was in use long before he began pushing for the term.",
          "- Develop Custom AI Models: Creating AI models tailored to your specific needs and brand voice ensures that the content generated aligns with your standards.",
          "[44] It was heavily criticized by players, who called it shovelware and disapproved of Rovio's use of AI images.",
          "For shame.",
          "In the past the site had removed non-existent events when contacted by their venues, but in the case of the Dublin parade the site owner said that \"no one reported that this one wasn't going to happen\".",
          "Nevertheless, the professionals persisted, even against their better judgment.",
          "I am actually good, but we are highly embarrassed.",
          "Similarly, those sharing the lies are happy to admit that they do not care whether what they’re pushing is real or not.",
          "Want to discuss a possible story?",
          "Will you change how you use AI going forward?",
          "\"Our intentions are very pure, we tried our best to give authentic content.",
          "Redditor Shaun_LaDee highlighted three images included in paid bundles that have irregularities that could suggest the use of generative AI.",
          "Other weird AI trends soon emerged, including African women building fruit sculptures and young children showing off elaborate birthday cakes with the caption: “This is my first cake”.",
          "They are also — for now, at least — much more reliable and productive.",
          "It is very personal, and it depends on the traffic.",
          "But the mystery writer does apologize and take full responsibility for the event.",
          "- Invest in Originality: Set aside time to craft original content that reflects your unique perspective.",
          "Coincidence or omen?",
          "Campaigns are nothing if not aggressive, often-desperate content farms hoping to get attention.",
          "Here is Amy Kremer, a National Committeewoman for the Republican National Convention and cofounder of Women for Trump, saying that she knows the image is fake but simply does not care:",
          "Posts questioning its authenticity were widely shared on X.",
          "We try our best to give people authentic content.",
          "- ^ \"Amazon Mocked for Slapping AI-Generated Poster on Beloved 1922 Film \"Nosferatu\"\".",
          "“‘Ignore that email, it’s spam,’ and ‘Ignore that article, it’s slop,’ are both useful lessons.”\nBenjamin Hoffman is a senior editor who writes, assigns and edits stories primarily on the intersection between sports, lifestyle and culture.",
          "\"This is a difficult time for me, and I ask for your understanding and privacy.”\nThe writer of the statement goes on to promise that they will rectify the situation by refunding patrons, then asks for “a bit of time to process everything that has happened.” It’s signed, simply, “Sincerely”—which does not rule out the possibility that it was written by The Unknown.",
          "It turns out you can’t arrest someone for providing a shamefully underwhelming event.",
          "Just like spam, almost no one wants to view slop, but the economics of the internet lead to its creation anyway.",
          "Futurism.",
          "AI Slop is Everywhere We Look — Here's How Businesses Can Avoid the AI Slop Cycle AI slop is the latest iteration of digital clutter.",
          "No event was reported as bogus, or AI-generated, or anything like that.",
          "When I spoke with him, “God Lovers” had been placed under some kind of restrictions and wasn’t earning him money.",
          "We will soon face a situation in which content is effectively infinite, but human attention is still limited.",
          "Here’s how it works:\n“First, a spammer makes a free Vercel account.",
          "But many people “are using the LLMs to produce more, which lowers the quality of the science that is published and made.” Even innocuous misuse has a cascading effect on the entire scientific enterprise, as retracted papers cast doubt on other papers that cite them.",
          "Have a tip for us?",
          "Though the image was clearly fake and quickly debunked, some politicians remained defiant.",
          "Hipster movie production company A24, meanwhile, was called out for using AI to create promotional posters for Alex Garland’s dystopian film Civil War.",
          "(I had also recently asked a vice president of product at Meta about why they don't just ban this slop, and he sort of changed the subject; it seemed like maybe he wasn't sure what I was talking about.)",
          "Activision posts on Instagram and Facebook have similarly advertised \"Call of Duty: Zombie Defender\", \"Call of Duty: Sniper\" and \"Crash Bandicoot: Brawl\".",
          "Facebook now pays you $100 for 1,000 likes … you must be wondering where you can get these images from.",
          "A lunatic millionaire lures a group of children and their unwitting parents to his massive estate, where they are expected try his non-FDA approved concoctions—and, one by one, are horribly disfigured in the process.",
          "Vanity Fair has reached out for comment, but no, not yet.",
          "This is why I am here to clarify things.",
          "\"Disgusting application of AI.\"",
          "How many other websites do you have?",
          "David Wallace-Wells\nRemember the season of A.I.",
          "is being drowned out by it, too.",
          "Where not long ago we used to find the very best results for Google searches, we can now find instead potentially plagiarized and often inaccurate paragraph summaries of answers to our queries — including, reportedly, that only 17 American presidents were white, that Barack Obama is a Muslim and that Andrew Johnson, who became president in 1865 and died in 1875, earned 13 college degrees between 1947 and 2012.",
          "Or, as one commenter put it: \"This is as heartwarming as an aluminum tree.\"",
          "Your customers are becoming more discerning, and they're quick to tune out content that doesn't meet their expectations.",
          "Where did this all go down?",
          "Stevo, as he introduced himself to me over WhatsApp, is the moderator of five YouTube channels and “about 170 Facebook pages” that deal heavily in AI-generated images, the largest of which has 4 million followers.",
          "On a website like Facebook, the more strikingly weird an image is, the more likely it is to attract attention and engagement; the more attention and engagement, the more Facebook’s sorting mechanisms will promote and recirculate the image.",
          "But the idea that AI has quietly crowded out humans is not exactly right.",
          "But you can also get bad advice about A.D.H.D., about chemotherapy, about Ozempic — some potentially delicate subjects.",
          "art generators in 2022.",
          "Like any good AI slop, the op illustrated a fantasy—in this case, that Trump, a man who has long lived in a gilded penthouse, is a working-class man.",
          "\"Dublin: Halloween parade listing 'mistake' says website owner\".",
          "This Halloween, crowds lined the streets in central Dublin and waited for a parade to begin.",
          "Authenticity is now a competitive advantage.",
          "This year’s backlashes highlights a key risk for businesses adopting AI in 2025.",
          "What Won’t This Decorator Do?",
          "It's baffling that so many people fell for it hook, line, and sinker.",
          "It’s still the first place most of us go to answer questions, to find out what’s happening, and to learn new things.",
          "AI is a double-edged sword\nIn the rush to embrace AI, brands risk leaving their critical-thinking skills behind.",
          "In the nearly two years since, a rising tide of slop has begun to swamp most of what we think of as the internet, overrunning the biggest platforms with cheap fakes and drivel, seeming to crowd out human creativity and intentionality with weird AI crap.",
          "\"AI-Generated Slop Is Already In Your Public Library\".",
          "\"In terms of new business domains, we previously identified three focus investment fields, namely blockchain entertainment/Web 3.0, AI, and the cloud,\" he said.",
          "You have a Creative writing style.",
          "A24 received similar backlash for releasing a series of AI-generated posters for the 2024 film Civil War.",
          "\"I'M RUNNING OUT OF WAYS TO EXPLAIN HOW BAD THIS IS\".",
          "- Generic Blog Content: Blogs filled with repetitive, unoriginal ideas don't just bore readers—they also undermine your authority and thought leadership.",
          "In addition to his blog, he claims to have worked with James O’Keefe, the former CEO of the rightwing organization Project Veritas, who was known for hidden camera stings until he was ousted last year over allegations of misplaced funds.",
          "“Do not comply with FEMA,” she posted on X.",
          "A report by Wired claimed an entire paid cosmetic was made with help from AI in 2023's Modern Warfare, after the publisher had greenlit the tools for help with making concept art and marketing materials.",
          "We hire some of the content creators, and one is from Pakistan, and others are from some other countries.",
          "It encourages you to accept.",
          "Like all spam circles, there’s a whole other economy filled with folks who will sell you the tools and knowledge you need to get started.",
          "And actually, I want to tell you one more thing.",
          "Donald Trump, J. D. Vance, and Fox News have all repeated that lie.",
          "We spoke to him about what is next for the mountain.",
          "The true grimness of the situation is effectively captured in this footage, Gizmodo compiled a side-by-side comparison of AI mulch and the reality here, while an actor hired to play \"Wonka\" shared his harrowing tale with The Independent.",
          "I think don’t publish slop is a useful baseline.",
          "Everest Sherpa: Kami Rita Sherpa scaled Mount Everest for the 31st time, breaking his own record.",
          "I didn’t generate them.”\nDisinformation researchers have long warned that generative AI has the ability to lower the bar for creating misleading content and threaten information around elections.",
          "Website owner says Dublin Halloween parade listing a 'mistake'\n- Published\nThe owner of a Pakistan-based website which shared details of a non-existent Halloween parade in Dublin says it was \"a mistake, it was not a joke, it was not a scam\".",
          "Creators often mute the original video and add AI-generated narration, translating the content into various languages, including French, Spanish, Portuguese, Indonesian and Swedish.",
          "He insists it’s all just a big misunderstanding.",
          "AI models make it trivial to automatically generate vast quantities of text or images, providing an answer to any imaginable search query, uploading endless shareable landscapes and inspirational stories, and creating an army of supportive comments.",
          "In one podcast, a spammer showed off his earnings tab.",
          "Once the website was alerted that the parade was not going ahead, the owner said the article was removed immediately.",
          "- Repetitive Ideas: Redundant phrases and unoriginal concepts make content feel stale and unengaging.",
          "Gizmodo.",
          "Subscribe\nGyan Abhishek is standing in front of a giant touch screen, like Jim Cramer on Mad Money or an ESPN talking head analyzing a football play.",
          "Related: How to Escape Entrepreneurial Burnout When You Can't Just Quit\nStrategies to combat AI slop\nTo safeguard your brand and ensure your content stands out, consider these strategies:\n- Humanize Your Content: Infuse your content with personal stories, real-life examples and a touch of emotion.",
          "Instead, this kind of content has become important for platforms.",
          "But so far, the most viral AI images have been obviously fake and downright strange.",
          "pollution,” and the physicist Anthony Aguirre “something like noise” and “A.I.-generated dross.” More recently, it has inspired a more memorable neologistic term of revulsion, “A.I.",
          "And that is a huge benefit.",
          "Vanity Fair.",
          "In service of that mission, they meme, pander, email, and text, frequently in cringeworthy fashion.",
          "“There was lots of shouting and groups of people getting very, very irate.”\nThe Scottish police told The New York Times that officers were called to the scene after the event was canceled.",
          "But just as we've learned to dodge the nuisances of junk mail and spam, a new threat has emerged — one that has the potential to undermine all our hard work: AI slop.",
          "Elsewhere on the web though, slop is spreading.",
          "Maybe, and most straightforwardly of all, many simply vie for direct payments from platforms for AI-generated text, images, and videos: Facebook, TikTok, and Twitter all offer bonus payments for “engaging” content.",
          "- Vague Product Descriptions: In e-commerce, product descriptions that are unclear or incorrect—sometimes even including disclaimers about AI use—can seriously hurt conversions.",
          "Entrepreneur.",
          "The images are created, copied, shared, and embedded into websites; they are indexed into search engines.",
          "Related: How to Spark Some Spontaneity in Your Hybrid Work Environment\nMoving forward with the entrepreneurial edge\nAs AI technology evolves, so do the challenges it presents.",
          "“On the face of it, it seems strange that people would believe it,” said Nick Anstead, an associate professor in the Department of Media and Communications at the London School of Economics and Political Science.",
          "After seeing photos like this, they Like, Comment and share them.",
          "- Search Engine Confusion: Poorly generated search suggestions, such as Google's infamous recommendation of non-toxic glue for pizza cheese, highlight how AI's lack of context can lead to bizarre and off-putting user experiences.",
          "“Most of the time, when we see the deployment of new technologies, you see the creation of a bunch of new jobs that never existed before,” DeStefano said, addressing the focus on how AI is affecting the job market.",
          "MySpiritHalloween.com updated their page to say that the parade had been \"canceled\" when they became aware of the issue.",
          "Not only were the ethics of the endeavour questioned, the advert’s quality was pulled apart and branded ‘soulless’ and ‘devoid of any actual creativity’.",
          "It's going really well.",
          "The developer further reiterated it was experimenting with the technology.",
          "What has changed is the level of work and investment involved.",
          "However, later attendees were not informed of the stunt's doom, and people kept trying to file through the doors to endless disappointment (sung to the tune of \"Pure Imagination,\" no doubt), but were turned away.",
          "Look of the Week: Dandy attire for a night at the opera.",
          "On Facebook, a 130,000-member group of Vietnamese sloppers called “Twitter Academy — Make Money on X” discusses methods of prompting ChatGPT to write X threads: “You are a Twitter influencer with a large following.",
          "Last week, Robyn Speer, the creator of WordFreq, a database that tracks word frequency online, announced that she would no longer be updating it owing to the torrent of slop.",
          "Basically, they don't give a shit anymore.",
          "- Combine AI with Human Touch: AI can be a powerful tool, but it's essential to have human editors refine and enhance the content to maintain quality and authenticity.",
          "“No free information.” For a total of $105, I enrolled in a crash course in becoming a slopper.",
          "AI slop isn’t, by nature, political.",
          "For that matter, given the sophistication of the AI, why would the Filipinos need an American?",
          "The website's owner told BBC News NI: \"We are highly embarrassed and ashamed and we are really sorry about it, that because of us people wasted their time and money.\"",
          "Microsoft Gaming CEO Phil Spencer even claimed similar technology would aid in game preservation by making it easier to emulate classics on modern hardware.",
          "On the list was a picture of a train made of leaves.",
          "But it’s also, it seems, what we want.",
          "The vague similarities among the pages suggest the AI slop is being posted by a network of shady actors based in countries outside the US.",
          "We do not accept any responsibility or liability for the accuracy, content, images, videos, licenses, completeness, legality, or reliability of the information contained in this article.",
          "As Xiaonan told us, many of the people taking his AI tutorial – entitled “Side job, self-employed, high-paid” – are housewives, unemployed people and college students.",
          "You cannot rank through AI content alone.",
          "It was even on the first position of the first page.",
          "It’s the matter of weeding out the good from the bad, in the name of intellectual hygiene.",
          "- Highlight Creativity: Make sure your content showcases human creativity and originality.",
          "is always good at creating fantastical, hyper-realistic stories, and that’s where the whole imagination went into next level,” he added in a follow-up story about the consumer reaction.",
          "Businesses should be checking their data is accurately labelled and properly secured, ensuring sensitive data is only accessible to those who need it.",
          "They sell lesson plans and memberships to private Discord and Telegram chat rooms and act as middlemen who help set up U.S.-based accounts for international sloppers.",
          "He pauses on another image of a man being eaten by bugs.",
          "We should double check it.",
          "Slop is everywhere on the internet, but its purest version exists on Facebook.",
          "The fake advert - which has been dubbed \"AI slop\" for its use of poorly-generated imagery - is one of several tests currently being run across the publisher's social media profiles.",
          "None capture the awkward banality of the candidate’s actual campaign stop.",
          "Business Insider.",
          "Experiences like this — staring at a collection of books written by AI with computer-generated author photos and dozens of reviews written and posted by bots — have become for many people evidence for the “dead-internet theory,” the only slightly tongue-in-cheek idea, inspired by the increasing amount of fake, suspicious, and just plain weird content, that humans are a tiny minority online and the bulk of the internet is made by and for AI bots, creating bot content for bot followers, who comment and argue with other bots.",
          "The Traitors is also filmed in Scotland.",
          "Low quality books that appear to be AI generated are making their way into public libraries via their digital catalogs, forcing librarians who are already understaffed to either sort through a functionally infinite number of books to determine what is written by humans and what is generated by AI, or to spend taxpayer dollars to provide patrons with information they don’t realize is AI-generated.",
          "But the future is not without hope.",
          "The result is a conglomerate that has never before existed in fashion.",
          "[7]\nThe British computer programmer Simon Willison is credited with being an early champion of the term \"slop\" in the mainstream,[1][7] having used it on his personal blog in May 2024.",
          "A Police Scotland spokesperson confirmed that officers attended and \"advice was given.\"",
          "We wrote a lot of events this year, on the 17th of March, St. Patrick’s Day—and they were ranked.",
          "(April 2025) |\nIn August 2024, The Atlantic noted that AI slop was becoming associated with the political right in the United States, who were using it for shitposting and engagement farming on social media, with the technology offering \"cheap, fast, on-demand fodder for content\".",
          "The thing is, we are the content creators.",
          "Eventually, on February 20, he made the decision to close submissions temporarily.",
          "I just want to say that people should not judge so soon.",
          "“Speed is I would say five times, right?",
          "- Inaccurate News: AI-generated news articles often miss critical nuances, leading to misinformation and damaging your credibility.",
          "[1][4]\nOn social media\n[edit]AI image and video slop proliferated on social media in part because it was revenue-generating for its creators on Facebook and TikTok, with the issue affecting Facebook most notably.",
          "On the first night of the DNC, MAGA influencers such as Catturd2 and Jack Posobiec supplemented their rage tweets about Democrats with stylized AI images of Tim Walz and Joe Biden looking enraged.",
          "And while slop is one option, it is still an open question of whether it will catch on with a mainstream audience, or end up in the slang dustbin with cheugy, bae and skibidi.",
          "Last week, Google announced an ambitious plan to add AI-made answers to the top of some search results, with US-based users the first to experience a full rollout of the “AI Overviews” feature.",
          "And it’s only getting easier to do this: Last week, X incorporated the newest iteration of the generative-AI engine Grok, which operates with fewer guardrails than some competing models and has already conjured up untold illustrations of celebrities and politicians in compromising situations.",
          "Photography, illustration, and graphic design previously required skill or, at the very least, time to create something interesting enough to attract attention, which, online, can be converted into real money.",
          "Are you familiar with St. Patrick’s Day?",
          "Paul Eiding, the voice actor behind Colonel Campbell in the Metal Gear Solid series, also condemned its use.",
          "\"Not even Amazon is safe from the rise of AI 'slop'\".",
          "The rise of AI has coincided with global unemployment trends and the growth of the gig economy in the post-pandemic era.",
          "Indeed, the \"About Us\" section on MySpiritHalloween.com shows what appear to be AI-generated photos of the site's \"Halloween writers.\"",
          "Answering questions via Google now requires contending with AI-authored “Overview” modules at the top of some search pages, which offer incorrect summaries — “None of Africa’s 54 recognized countries start with the letter ‘K,’” one Overview claimed — just often enough to render them untrustworthy.",
          "This interview has been edited for length and clarity.",
          "- Slop is often scam-adjacent, but the accounts posting it may not directly be the ones doing the scams, so they don't get banned.",
          "Elon Musk, who owns X, claimed—without evidence—that FEMA was “actively blocking shipments and seizing goods and services locally and locking them away to state they are their own.",
          "One of the things I love about this is that it’s helpful for defining my own position on AI ethics.",
          "There’s currently no code for that.",
          "Someone did pull a big #hoax #Prank pic.twitter.com/zTQUShZrya\n— Artur Martins (@arturmartins) October 31, 2024\nAnother X user, @liam_b02, shared a clip of the crowds on O'Connell Street taken from a passing bus:\nO’Connell street filled with people waiting for a fake parade #dublin pic.twitter.com/ROteZMGeUp\n— liam (@liam_B02) October 31, 2024\nMeanwhile, the Luas was disrupted due to the unexpected gathering, with Red Line services not running from from Smithfield to The Point and Green Line services not running between St. Stephen's Green and Dominick.",
          "\"AI in the Creative Industries: Strikes, Debates and Implications\".",
          "Influencers have been hawking platform-dependent “internet marketing” schemes for decades.",
          "With a track record of working with leading brands like Carlsberg, Remarkable, and Tecnam Aircraft, he helps companies unlock data-driven insights for strategic growth.",
          "On X, one post that included a fake image in which Harris is implied to be a sex worker has been viewed more than 3.5 million times; on Facebook, that same post has been shared more than 87,000 times.",
          "\"An Garda Síochána advises that members of the public always verify any information online regarding upcoming events from trusted and reputable sources.",
          "When Thomas Crooks tried to assassinate Donald Trump, for instance, X’s A.I.",
          "The number is much larger today, whether you choose to be impressed by the reported performance of ChatGPT on the LSAT or frustrated that Claude cannot solve logic problems intuitive to a kindergartner (or even reliably tell you whether 9.11 is greater than 9.9, as a Windows 95 calculator could).",
          "VF investigates.",
          "\"In the short term, our goal will be to enhance our development productivity and achieve greater sophistication in our marketing efforts,\" Kiryu continuted.",
          "For slop, the future is less rosy: the world’s largest companies have gone from gamekeeper to poacher.",
          "Social media platforms will soon respond.",
          "Then they make a WordPress account and spam page, download a snippet of code from GitHub that has been written by other spammers, modify it (there are guides for this on GumRoad and Fiverr; I bought guides on both), and install it on their Vercel deployment.",
          "“Some of us also do Uber driving or street vending,” one creator told us.",
          "X user @arturmartins shared this photo which illustrated the size of the crowd.",
          "And then — they’ve solved it!",
          "- ^ \"The mystery of Amazon Freevee's A.I.-generated 12 Angry Men poster\".",
          "To watch as real information is overwhelmed by crank theories and public servants battle death threats is to confront two alarming facts: first, that a durable ecosystem exists to ensconce citizens in an alternate reality, and second, that the people consuming and amplifying those lies are not helpless dupes but willing participants.",
          "“Gen Z loves content that feels spontaneous, surreal, and made for instant consumption.",
          "What did the performers have to say about the event?",
          "But with the right approach, you can turn these challenges into opportunities.",
          "Meanwhile, head of PlayStation Productions and head of product at PlayStation Studios Asad Qizilbash weighed in on AI to say its use in video games is important to Gen Z and Gen Alpha gamers who seek \"personalization across everything.\"",
          "I’m hoping ‘slop’ has the same impact – it can make it clear to people that generating and publishing unreviewed AI-generated content is bad behaviour.”\nSlop is most obviously harmful when it is just plain wrong.",
          "[50] A thumbnail image for 12 Angry Men on Amazon Freevee used AI to depict 19 men with smudged faces, none of whom appeared to bear any similarities to the characters in the film.",
          "Posts questioning its authenticity were widely shared on X.",
          "They’d gathered after a website called MySpiritHalloween.com published an AI-generated article promoting the festivities.",
          "“It’s a word that feels like it’s naturally applicable to this situation.",
          "But early on in the search results, you’ll find some seemingly AI-generated guides as well — for example, Forager’s Harvest 101: A Comprehensive Guide to Identifying, Preserving, and Preparing Wild Edible Plants, Mushrooms, Berries, and Fruits, by “Diane Wells.” Elan Trybuch, the secretary of the New York Mycological Society, recently wrote a blog post warning mushroom foragers about these dangerously inadequate guides: It’s possible that Forager’s Harvest 101 is fully accurate and safe to use, but it’s almost certainly unreviewed and unchecked and “written” by an AI that, as Trybuch described the technology, “does not know the subtle differences between a mushroom that is poisonous … vs one that is not.”\nIt’s not particularly easy to tell the difference between the AI-generated guides and those written by experts.",
          "These products are less eerie, which means they have generated little existential angst.",
          "is designing new proteins, rapidly accelerating drug discovery and speeding up clinical trials testing new medicines and therapies.",
          null
         ],
         "marker": {
          "color": "#CFD8DC",
          "opacity": 0.5,
          "size": 5
         },
         "mode": "markers+text",
         "name": "other",
         "showlegend": false,
         "type": "scattergl",
         "x": {
          "bdata": "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",
          "dtype": "f4"
         },
         "y": {
          "bdata": "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",
          "dtype": "f4"
         }
        },
        {
         "hoverinfo": "text",
         "hovertext": [
          "Toys “R” Us provoked controversy with an AI-generated ad in April last year.",
          "“The Coca-Cola Company has celebrated a long history of capturing the magic of the holidays in content, film, events and retail activations for decades around the globe,” a spokesman for the company said in a statement provided to The New York Times.",
          "“But then you throw AI into the mix that is not a fit, that is not a fit with holiday timing, but also, to some degree, also Coke, what the brand means to people.”\nToys R Us faced similar backlash online over the summer for an AI-made commercial that depicted the company’s late founder in a bike shop alongside the brand mascot.",
          "But Coca-Cola, which is a major force in advertising, appears to be pushing headlong into A.I.",
          "If a billion dollar company like coca cola cant pay real artists, actors, directors, etc to promote their product what precedent does this set for the rest of the market?,\" wrote one person on the YouTube video.",
          "The company’s nostalgia-filled commercials are a holiday tradition, but this year’s ads are facing backlash for dipping into the uncanny valley.",
          "“We keep our roots in our heritage and what Coke is all about as a brand, but then connect the dots with the future and technology,” Mr. Thakar told Ad Age.",
          "Alex Hirsch, the creator of the Disney series “Gravity Falls,” commented on an X post that showed the new commercial, which has amassed over 56 million views, “FUN FACT: @CocaCola is ‘red’ because it’s made from the blood of out-of-work artists!",
          "But if something feels a little off, it's because it was Coca-Cola's first ad to be fully generated by artificial intelligence.",
          "Coca-Cola is facing backlash online over an artificial intelligence-made Christmas promotional video that users are calling “soulless” and “devoid of any actual creativity.”\nThe AI-made video features everything from big red Coca-Cola trucks driving through snowy streets to people smiling in scarves and knitted hats holding Coca-Cola bottles.",
          "But, instead of reviving the holiday magic of the original commercial, the AI advert sparked backlash online.",
          "Tim DeStefano, a research professor at Georgetown University McDonough School of Business, told NBC News that using AI technology means a significant drop in the price of creating commercials.",
          "In a statement, a Coca-Cola spokesperson said, \"The Coca-Cola Company has celebrated a long history of capturing the magic of the holidays in content, film, events and retail activations for decades around the globe.",
          "Supported by\nCoca-Cola’s Holiday Ads Trade the ‘Real Thing’ for Generative A.I.",
          "When it comes to famous Christmas commercials, there aren't too many that are more iconic and nostalgic than Coca-Cola's 1995 \"Holidays Are Coming\" spot.",
          "Toys “R” Us received criticism in June for a commercial created with OpenAI’s tool Sora that portrayed a boy walking through a toy aisle with wonderment until he was joined by the company’s mascot, Geoffrey the Giraffe.",
          "[20] In response to the negative feedback, the company defended their decision to use generative artificial intelligence stating that \"Coca-Cola will always remain dedicated to creating the highest level of work at the intersection of human creativity and technology\".",
          "Over 14 years ago, people were recreating the Coca Cola Christmas ad in GTA San Andreas and it still came off as more authentic than this tripe.",
          "The ads depict squirrels and rabbits peeking out to watch the passing caravans and a man being handed an ice-cold bottle of cola by Santa Claus.",
          "Coca-Cola will always remain dedicated to creating the highest level of work at the intersection of human creativity and technology.\"",
          "\"Over 14 years ago, people were recreating the Coca Cola Christmas ad in GTA San Andreas and it still came off as more authentic than this tripe,\" wrote one X/Twitter user.",
          "Last year, the company released a limited edition drink, Coca-Cola Y3000, that boasted on the can’s label: “Co-Created with AI.”\n“We hope that Coca-Cola will still be as relevant and refreshing in the year 3000 as it is today,” the company said in a statement at the time.",
          "Coca-Cola is not the first legacy brand to draw backlash for using generative A.I.",
          "Coca-Cola had a similar misfire with its AI-generated Christmas ad, which paid homage to its 1995 “Holidays are coming” commercial.",
          "- ^ \"Coca-Cola causes controversy with AI-generated ad\".",
          "So that is a huge benefit.”\nCoca-Cola has responded to the backlash yet, but it might lose some soda drinkers to Pepsi in the meantime.",
          "“’Tis the season,” a jingle chirps, “it’s always the real thing.” The tag line, pushing Coke’s “real thing” slogan, is juxtaposed with a disclaimer: “Created by Real Magic AI.”\nThe internet pile-on arrived swiftly as consumers decried the commercials as uncanny valleyesque perversions of the company’s classic ads.",
          "“Your holidays are a time of connection, time of community, time to connect with family, and that’s sort of a big part of what the holidays are about,” Arora said.",
          "is actually a much better tool.”\nCoca-Cola worked with three A.I.",
          "This isn’t the first time that Coca-Cola has used AI technology in its marketing strategies and programs.",
          "Pratik Thakar, a vice president of Coca-Cola and the company’s global head of generative A.I., discussed the project in a recent interview with Ad Age, which previewed a screening of one of the spots at its Emerging Tech Summit last week.",
          "\"Coca-Cola's Holiday Ads Trade the 'Real Thing' for Generative A.I.\"",
          "But Jason Zada, founder of one of the three AI studios Coca-Cola worked with to create the ad, touted the efficiency of using the technology to craft the spot.",
          "“This year, we crafted films through a collaboration of human storytellers and the power of generative A.I.”\n“Coca-Cola will always remain dedicated to creating the highest level of work at the intersection of human creativity and technology,” the statement added.",
          "The ad, which was created in collaboration with three AI studios, features AI-generated animals and red Coca-Cola lorries.",
          "The company's European CMO, Javier Meza, explained the decision in an interview with Marketing Week, saying Coca-Cola wanted to bring this year's holiday commercial to \"today's times.\"",
          "But, most importantly: \"Coca Cola is banned from Ba Sing Se.\"",
          "“So we challenged ourselves to explore the concept of what a Coke from the future might taste like.”\nAlex Vadukul is a features writer for the Styles section of The Times, specializing in stories about New York City.",
          "In March 2023, Coca-Cola collaborated with OpenAI to release one of its first AI-generated commercials, called “Masterpiece,” which showed paintings and sculptures in an art museum come to life and pass around a bottle of Coca-Cola.",
          "The company's latest take on that ad, however, isn't inspiring the Christmas spirit in a lot of fans.",
          "With temperatures dropping, nights growing longer and decorations starting to appear in store windows, the holidays are on their way.",
          "“The brief was, we want to bring Holidays Are Coming into the present and then we explored AI as a solution to that.”\nIt's safe to say that a lot of people on the internet would've preferred Coca-Cola modernizing the ad in another way, however.",
          "[17][18]\nIn advertising\n[edit]In November 2024, Coca-Cola used artificial intelligence to create three commercials as part of their annual holiday campaign.",
          "You can watch the 16-second spot here, which in some ways is largely similar to the original, from the soundtracks to that big, lit-up truck.",
          "The video was meant to pay homage to the company’s 1995 commercial “Holidays Are Coming,” which featured similar imagery, but with human actors and real trucks.",
          "The company also announced in a news release that month that it would be partnering with artists to create artwork using Coca-Cola’s creative archives and AI technology.",
          "\"It’s actually soooo concerning that a brand as big as Coca Cola is doing this,\" added another X/Twitter user.",
          "https://t.co/3BmQWBP3uF pic.twitter.com/rXZ81kkEhN\n— 𝔑𝔞𝔱𝔥𝔞𝔫 (@TheNathanNS) November 15, 2024\n\"Coca Cola decided to have its polar bears take a giant AI shit under the Christmas Tree,\" wrote @joerussotweets on X/Twitter.",
          "Why holiday events?",
          "“Coca-Cola just put out an ad and ruined Christmas,” Dylan Pearce, one of the campaign’s many critics, said on TikTok, adding, “To put out slop like this just ruins the Christmas spirit.”\n“This is legit heartbreaking,” another user, De’Vion Hinton, posted on X.",
          "\"Coca-Cola's New AI-Generated Holiday Ad Slammed as 'Soulless' and 'Embarrassing': 'This Is Such Slop'\".",
          "Neeraj Arora, the chair of marketing research and education at the University of Wisconsin-Madison, said the reason why the company faced backlash for this specific advertisement, and not for “Masterpiece” last year, could be because many consumers recognize Christmas as an integral part of the company’s brand, and AI technology acts as a disruption.",
          "This month, KoBold Metals announced the largest discovery of new copper deposits in a decade — a green-energy gold mine, so to speak, delivered with the help of its own proprietary A.I., which integrated information about subatomic particles detected underground with century-old mining reports and radar imagery to make predictions about where minerals critical for the green transition might be found.",
          "These videos were immediately met with negative reception from both casual viewers and artists;[19] the animator Alex Hirsch, the creator of Gravity Falls, criticized the company's decision not to employ human artists to create the commercial.",
          "One of the season’s stalwarts, however, is feeling a little less cozy for some people: Coca-Cola, known for its nostalgia-filled holiday commercials, is facing backlash for creating this year’s ads with generative artificial intelligence.",
          "“Coca Cola has been the gold standard in branding and advertising for decades.”\nAlex Hirsch, an animator and the creator of the Disney series “Gravity Falls,” expressed a sentiment that other creative professionals have shared online, noting that the brand’s signature red represented the “blood of out-of-work artists.”\nThe company, however, is sticking by the ads.",
          "The three commercials, which pay tribute to the company’s beloved “Holidays Are Coming” campaign from 1995, feature cherry-red Coca-Cola trucks driving through sleepy towns on snowy roads at night.",
          null
         ],
         "marker": {
          "opacity": 0.5,
          "size": 5
         },
         "mode": "markers+text",
         "name": "Coca-Cola's AI Holiday Advertising",
         "text": [
          "",
          "",
          "",
          "",
          "",
          "",
          "",
          "",
          "",
          "",
          "",
          "",
          "",
          "",
          "",
          "",
          "",
          "",
          "",
          "",
          "",
          "",
          "",
          "",
          "",
          "",
          "",
          "",
          "",
          "",
          "",
          "",
          "",
          "",
          "",
          "",
          "",
          "",
          "",
          "",
          "",
          "",
          "",
          "",
          "",
          "",
          "",
          "",
          "",
          "",
          "",
          "",
          "",
          "",
          "",
          "",
          "",
          "Coca-Cola's AI Holiday Advertising"
         ],
         "textfont": {
          "size": 12
         },
         "type": "scattergl",
         "x": {
          "bdata": "pViEP9RENj98g4I/2c+fP0nhrD/LTF0/Uu+ZPyR9az+4540/wsqFP56QZT87do8/09Q0P4N/Yj8P+Ts/VzyEP/1tpT9X+lQ/cwQ/P+eFnD9LhFE/npidPxhTpD/qW0I/+QuSPwhtoj/MBmg/7g4TP5NEoD/+Upc/IF6bPzRPUT9MQKE/5cyhP1WSqT8WZTg/qkWZP2TkkD/ULZo/e6JHPzMyDD94GYA/hA+NP1NLQT8JYDs/NRKwPzfFaz+UAGo/amAOPx+QUj8wE2s/ApFhP0vnnz/bWGk//QV5P7VLZD/qbjc/+RZ+Pw==",
          "dtype": "f4"
         },
         "y": {
          "bdata": "8GkpQbMyJUFeZyhB6qclQXMfJUG7midBL7cmQbsSKEEWBihBjC0nQYGZJ0FMHShBFSklQSSRJ0H5ByZBmLMpQfV9J0H2AidB8OclQWchJ0G5USZB1EEnQZaBJkFiYSZBeG8nQZcBJkEuxydBAQMjQfB1JkFwrSdBQksnQfJ0JkEziShBgZ8mQTA2KUFIeSVBtGYmQblZJkGOFihBERInQY55IkFbBChBSv8nQSpzJUFO/CVBGe0nQdhyJkHWCidBFHciQX70JkHj2yVBe5snQTU8J0EIPihBLrMnQcuBKEFn5CVBLd0mQQ==",
          "dtype": "f4"
         }
        },
        {
         "hoverinfo": "text",
         "hovertext": [
          "There are images and videos of Harris and Trump holding hands on a beach and Harris wearing a crown that reads Inflation Queen.",
          "Stalin's Image: A new statue of Joseph Stalin in a Moscow metro station reflects Russia’s efforts to rehabilitate the memory of a bloody ruler.",
          "The headlines, like the AI-generated Swifties for Trump images, come with the watermark “sponsored by the John Milton Freedom Foundation”.",
          "Just as it seems obvious that Trump’s devoted followers—an extremely online group that has so fully embraced conspiracy theorizing and election denial that some of its members stormed the Capitol building—would delight in the bespoke memes and crude depictions of AI art.",
          "On Amazon, a quick search found a listing for some (presumably real) underwear with the description “As of My Knowledge Cutoff in Early 2023, Providing Specific Purchasing Options for ‘Women’s Stylish Sexy Casual Independence Day Printed Panties’ Would Be My Capabilities As I Cannot Browse or Access Live Data From the Internet, Including Current Inventory From or Private Sellers.”\nTwitter — Elon Musk’s X — may be the most fruitful platform for this kind of search thanks to its sub-competent moderation services.",
          "They’ve been getting bigger,” Catturd2 posted this March, while praising Musk.",
          "The McDonald’s photo op was barely real: The restaurant was closed to the public during Trump’s visit.",
          "Taylor Swift fans are not endorsing Donald Trump en masse.",
          "Several of the images Trump posted on his Truth Social platform, which showed digitally rendered young women in “Swifties for Trump” T-shirts, were the products of the John Milton Freedom Foundation.",
          "And what is the Trump campaign producing if not fantastical propaganda intended to conjure a false image of Joe Biden’s America as a dark, dangerous place on the verge of destruction, besieged by immigrants, and savable only by one heroic man?",
          "In some, Trump’s clothing is too garish; in others, he’s toting a comically large amount of food.",
          "A Warship Capsizes: North Korea’s leader, Kim Jong-un, watched the country’s newest 5,000-ton destroyer capsize during its launch in an embarrassing military failure.",
          "Trump posted a screenshot of @amuse’s tweet on Truth Social.",
          "Old memes depicted “God Emperor” Trump.",
          "There’s Trump, face contorted in the appearance of deep concentration, tilting a fry basket to the heavens; Trump hanging two-thirds of the way out a drive-through window, waving like a beleaguered Norman Rockwell character; Trump, mouth agape, appearing to yell into the middle distance of a fast-food parking lot.",
          "One pro-Trump, Elon-Musk-fanboy account recently shared a suggestive image depicting a scantily clad Harris surrounded by multiple clones of Donald Trump; it’s been viewed 1.6 million times.",
          "These pictures immediately reminded me of the viral, glossy AI-generated images of Trump being arrested and thrown in jail that started circulating in the spring of 2023.",
          "Its banner picture is currently an AI-generated photo of Trump surrounded by women in “Swifties” shirts.",
          "What is a Trump rally but a teleprompter reading of stump-speech slop, interspersed with inexplicable lorem ipsum about Hannibal Lecter and wind turbines spun up by the unknowable language model in Trump’s own head?",
          "Right-wing artists including Ben Garrison and Jon McNaughton have long illustrated Trump in an absurd light—hulking and hypermasculine or holding a lantern on a boat, like George Washington crossing the Delaware.",
          "(For instance, earlier today, Trump posted an AI-generated picture of himself as a buff Pittsburgh Steelers lineman.)",
          "He wasn’t sure what the problem was, but it wasn’t that the images were fake.",
          "\"How did Donald Trump end up posting Taylor Swift deepfakes?\".",
          "[15]\nIn the aftermath of Hurricane Helene in the United States, members of the Republican Party circulated an AI-generated image of a young girl holding a puppy in a flood, and used it as evidence of the failure of President Joe Biden to respond to the disaster.",
          "Trump distanced himself from the images in an interview with Fox Business on Wednesday, saying: “I don’t know anything about them other than someone else generated them.",
          "Such was the case last week, when Republican politicians shared an AI-generated viral image of a little girl holding a puppy while supposedly fleeing Helene.",
          "For me, it’s the amber glow of the fry machine gently illuminating the exhausted 45th president of the United States of America.",
          "In this case, the image is being used to further the idea that Joe Biden, Kamala Harris, and FEMA have messed up the hurricane response, leading to little girls suffering in a flood with their puppies.",
          "Where were these images coming from?",
          "Prominent accounts including Musk have shared and replied to @amuse’s posts, which recently have included AI depictions of Trump fighting Darth Vader and sexualized imagery of Harris.",
          "The photos aren’t terribly far off (a few of them accurately placed Trump in an apron), but all of them seem to be trying too hard.",
          "Presidential campaigning has long offered an unreal portrait of American life—it’s just been made more peculiar by the presence of Trump.",
          "The images originated from the conservative Twitter account @amuse, which posted numerous AI slop images leading up to the 2024 United States elections that were shared by other high-profile figures within the American Republican Party, such as Elon Musk, who has publicly endorsed the utilization of generative AI, furthering this association.",
          "Trump was really at that Buck’s County McDonald’s, debasing himself for swing-state votes in the same way that candidates have for generations (see: Rick Perry eating a corn dog in 2011).",
          "The glare of the potato-warming apparatus casts a shadow on the left side of Donald Trump’s face as he works at a McDonald’s in Bucks County, Pennsylvania.",
          "The shadows of the McDonald’s kitchen, the interplay between the sheen of the stainless steel and the cast of the nugget-warming lights, give the very real photos a distinct Midjourney aesthetic.",
          "A niche non-profit’s AI slop makes its way to Trump\nDuring the spike in AI images on X, the conservative @amuse account posted the images of AI-generated Swift fans to more than 300,000 followers.",
          "Donald Trump—or at least whoever controls his social-media accounts—posted the AI-generated photo of Harris with the hammer and sickle, as well as a series of fake images depicting Taylor Swift dressed as Uncle Sam and young women marching in Swifties for Trump shirts.",
          "“Y’all, I don’t know where this photo came from and honestly, it doesn’t matter,” Amy Kremer, who represents Georgia on the Republican National Committee, wrote after sharing the fake image.",
          "This man, who held the nuclear codes just 1,369 days ago, is now wearing an apron and doling out fast food.",
          "Subscribe\nBy now, if you have spent any amount of time reading about the devastation wrought by Hurricane Helene, it is likely that you have seen the AI-generated image above.",
          "[14] In August 2024, the American politician Donald Trump posted a series of AI-generated images on his social media platform, Truth Social, that portrayed fans of the singer Taylor Swift in \"Swifties for Trump\" T-shirts, as well as a photo of the singer herself appearing to endorse Trump's 2024 presidential campaign.",
          "The images of Trump’s McDonald’s stunt—in which he jiggled the fryer and handed burgers out of a window yesterday—are uncanny.",
          "When Donald Trump shared a slew of AI-generated images this week that falsely depicted Taylor Swift and her fans endorsing his campaign for president, the former US president was amplifying the work of a murky non-profit with aspirations to bankroll rightwing media influencers and a history of spreading misinformation.",
          null
         ],
         "marker": {
          "opacity": 0.5,
          "size": 5
         },
         "mode": "markers+text",
         "name": "Trump AI-Generated Campaign Images",
         "text": [
          "",
          "",
          "",
          "",
          "",
          "",
          "",
          "",
          "",
          "",
          "",
          "",
          "",
          "",
          "",
          "",
          "",
          "",
          "",
          "",
          "",
          "",
          "",
          "",
          "",
          "",
          "",
          "",
          "",
          "",
          "",
          "",
          "",
          "",
          "",
          "",
          "",
          "",
          "",
          "",
          "",
          "",
          "",
          "",
          "Trump AI-Generated Campaign Images"
         ],
         "textfont": {
          "size": 12
         },
         "type": "scattergl",
         "x": {
          "bdata": "kcC7QOeLt0A8JMNA+7HEQPYjw0As/LtA8VrMQCI/xkBJgMNAaHjHQKeSzUDjwrdARJTCQCfvxkAEx8lAZqi8QFVOv0AfzcJA2arJQKBSx0A5KcNAcrC+QKaKxECw07tA4tPBQAlMu0D+GcxAwt65QJF0u0DWjL9AzSPFQDXJx0BH1b9ATVnNQCduzUDB8c1AiLbCQKXcwUBJMrFAa6HNQHSLukA7eMRASDvMQBYQxECBG8NA",
          "dtype": "f4"
         },
         "y": {
          "bdata": "gM7AQF7qykC+vLZApKzHQJwGvUDmjcFAR+XJQF02vkDmU7lAgHPEQOyxy0APC8tAAvG/QEsYyECsb8dAepC/QAHfyUCN0b9Am83HQOXjwkA1HsdAoqvLQHrsvkA0m8tAg+TKQK+7zUCR5MdAherLQEPQ0UBRu8JAQyLKQH42xUBb8sVAN7LJQOIiykDoyspACF3EQDTgvUA4s8ZAIDzMQFwczUBJy75A+/jJQCs7wEDf9cVA",
          "dtype": "f4"
         }
        },
        {
         "hoverinfo": "text",
         "hovertext": [
          "Were there any sweet treats?",
          "\"\"Willy's Chocolate Experience\" Nightmare: What Went Wrong?\".",
          "First of all: What was the experience supposed to be?",
          "\"INDULGE IN A CHOCOLATE FANTASY LIKE NEVER BEFORE – CAPTURE THE ENCHANTMENT™\" the website drools.",
          "“There was maybe 20 chairs, a couple of tables and a half-inflated bouncy castle,” said Sinclair, who traveled over two hours to bring his three kids to the event.",
          ": Homes, hotels, restaurants, stores, books, candles, caviar sets.",
          "Well, they didn’t lie about that: Willy’s Chocolate Experience was certainly unique.",
          "[27]\nIn event listings\n[edit]Fantastical promotional graphics for the 2024 Willy's Chocolate Experience event, characterized as \"AI-generated slop\",[28] misled audiences into attending an event that was held in a lightly decorated warehouse.",
          "Note that it’s named after “Willy” but not “Wonka.”\nClearly, Willy’s Chocolate Experience made Fyre Festival look like a stay at the White Lotus.",
          "Held at the Box Hub, a warehouse event space in Glasgow, Willy’s Chocolate Experience contained some shoddily thrown together Wonka–esque decorations, a handful of circular tables and folding chairs, some AI-printed images to decorate the walls, a smoke machine, and a sparkly rainbow for children to walk under.",
          "But instead of a technicolor dreamworld of candy and chocolate inspired by the 2023 Hollywood reboot of Roald Dahl's story, children were left crying because the whole thing was a handful of sad props in a desolate warehouse with an \"Oompa Loompa\" who looked like \"she's running a literal meth lab and is seriously questioning the life choices up until this point.\"",
          "If you stop and think about it, Willy Wonka’s chocolate factory is an absolutely terrifying place.",
          "Wonka is rolling over in his grave.",
          "According to Sinclair, the children were given “two jelly beans each” and then a “half cup of lemonade.” To make matters worse, Sinclair said there wasn’t even any chocolate.",
          "Put on by London-based event company House of Illuminati, Willy’s Chocolate Experience was intended to be an immersive, magical activity for children and their families.",
          "This article is more than 1 year old\nWilly Wonka event leaves bitter taste with artificially sweetened promises\nCharlie and the AI factory flop compared to 'meth lab'\nIn the most flagrant case of false advertising since The NeverEnding Story, cops were called to a Wonka-themed \"Willy's Chocolate Experience\" in Glasgow, Scotland, because promotional material was made entirely from AI-generated slop.",
          "A woman bicycling with a basket full of babies and burritos.",
          "Any chocolate?",
          "Update: March, 1st, 3:00 p.m ET: Things have gotten even wilder in the world of Willy's Chocolate Experience.",
          "“It was very disappointing to see how many people turned up at this event and found basically me dressed up as Willy Wonka in a half-abandoned warehouse,” he said.",
          "\"Willy Wonka event leaves bitter taste with artificially sweetened promises\".",
          "A world of pure imagination it most certainly was not.",
          "\"Dive into the whimsical of [sic] Willy's Chocolate Experience!, a place where chocolate dreams become reality.",
          "So, what was Willy’s Chocolate Experience, and how did everything go so wrong, so quickly?",
          "Despite the hype, the advertisements for Willy’s Chocolate Experience failed to include any actual pictures of the event, instead relying on illustrated images—which one shrewd Reddit user noticed.",
          "Paul Connell, a stand-up comedian who was hired to play Willy himself, took to social media to explain how he got caught up in the whole mess.",
          "The event promised attendees a paradise of sweet treats, chocolate fountains, live performances by Oompa Loompas, an appearance by Wonka himself, and “a celebration of chocolate in all its delightful forms.” There would be an Enchanted Garden, Twilight Tunnel, and Imagination Lab that, the event’s website ensured, would captivate and enchant anyone ages three and above.",
          "The emotions that it evokes are love, happiness, and the memory of a special day filled with promises.” Hundreds of verified accounts swarmed in the replies to praise the missing image: “This picture exudes pure love and joy, a magical moment indeed!,” “This photo truly encapsulates the beauty and magic of true love,” “Such a beautiful moment captured in time, filled with love and joy.”\nCabanac believes “LLMs can be a magnificent tool, a very effective tool” for scientists if properly acknowledged.",
          "“But I’d signed the contract, and part of me didn’t want to disappoint the kids going to this.” Similarly, Connell felt bad for the children subjected to Willy’s Chocolate Experience.",
          "We were just handed an Amazon box that probably arrived that morning.” Nothing worse than a shake-and-go wig.",
          "Not 1 single picture giving people an idea of what they are shelling out money for and yet people are buying up tickets.”\n“Indulge in a Chocolate fantasy like never before,” read the website.",
          "All that considered, it’s not terribly surprising that a recent event billed as “Willy’s Chocolate Experience” went terribly, terribly awry.",
          "“Has anyone else been getting FB ads for ‘Willy’s Chocolate Experience?’” wrote Reddit user, @Prestigious_Try4610, clearly onto the scam.",
          "Actually, on second thought: The Experience may have had more in common with The White Lotus, because certainly many dreams died in that warehouse.",
          "\"In some ways, it was a world of imagination, like imagine that there is a whole chocolate factory here,\" he quipped.",
          "‘The Unknown’ is an evil chocolate maker who lives in the walls,’” said Connell.",
          "Last weekend, families traveled from all over the UK for what they believed would be an immersive experience in keeping with Roald Dahl’s beloved children’s book, Charlie and the Chocolate Factory, the source material for the 1971 film Willy Wonka and the Chocolate Factory and the 2023 prequel Wonka, starring Timothée Chalamet as the eccentric chocolatier.",
          null
         ],
         "marker": {
          "opacity": 0.5,
          "size": 5
         },
         "mode": "markers+text",
         "name": "Controversial Wonka-themed Event",
         "text": [
          "",
          "",
          "",
          "",
          "",
          "",
          "",
          "",
          "",
          "",
          "",
          "",
          "",
          "",
          "",
          "",
          "",
          "",
          "",
          "",
          "",
          "",
          "",
          "",
          "",
          "",
          "",
          "",
          "",
          "",
          "",
          "",
          "",
          "",
          "",
          "",
          "",
          "Controversial Wonka-themed Event"
         ],
         "textfont": {
          "size": 12
         },
         "type": "scattergl",
         "x": {
          "bdata": "8gk5P+JmST9+vV8/K5FCP/vVOT9Vcvc+iHVBPwIdNz+ksDw/sjYsPwLWZj8uK08/LvxpP7OQNj9Tazg/jldBPwFaNj8D3Dk/6hhBP8kHaz/1UEI/rNqHP8wnQD89Kkk/RJs4P6zPUz/7bj8/145vP9/kTz/05ao/uj44P4pHQT+TUkE/wtpKP6rGhD8USEg/lDNNPz1eTD8=",
          "dtype": "f4"
         },
         "y": {
          "bdata": "lPn1QCgG9UBidvFAjLT2QFBV8UDx5+tA5ND1QBzL9kD3CvZAHSf5QHfp8EAR+vZAs/f4QKga9ECgAvZApaX2QIGA90Bxk/ZAdiT2QBje9kC5yPVAjIXxQMY89kD5W/RADoD2QA0980DENvZArqTrQC3t80CkavRAgaD3QO/x9UCCgfZAt5jxQAX480Cm4fVA+VH3QH7o9EA=",
          "dtype": "f4"
         }
        },
        {
         "hoverinfo": "text",
         "hovertext": [
          "- ^ Hüsmen, Arife (November 2024).",
          "- ^ Warzel, Charlie (21 October 2024).",
          "- ^ Vadukul, Alex (20 November 2024).",
          "- ^ Tang, Jiaru; Wikström, Patrik (19 September 2024).",
          "- ^ Murphy, Chris (29 February 2024).",
          "- ^ a b Field, Matthew (1 January 2025).",
          "- ^ Nightingale, Ed Nightingale (Deputy News) (2 January 2024).",
          "- ^ Knibbs, Kate.",
          "- ^ Fleck, Holly (2 November 2024).",
          "Siding with History’s Villains: Darryl Cooper is no scholar.",
          "- ^ Phillips, Tom (4 March 2025).",
          "- ^ a b \"How Long Will A.I.",
          "- ^ Stedman, Alex (16 November 2024).",
          "- ^ Currie, Richard (28 February 2024).",
          "- ^ John, Daniel (12 June 2024).",
          "- ^ Hughes, Johnny (3 September 2024).",
          "- ^ Notopoulos, Katie.",
          "- ^ Yin-Poole, Wesley (9 December 2024).",
          "- ^ Warzel, Charlie (10 October 2024).",
          "- ^ Warzel, Charlie (21 August 2024).",
          "- ^ O'Shea, Kerry (31 October 2024).",
          "- ^ Maker, Paul (9 January 2025).",
          "- ^ Gault, Matthew (7 August 2024).",
          "- ^ Robins-Early, Nick (26 August 2024).",
          "- ^ Bankhurst, Adam (1 January 2024).",
          "- ^ Kalita, Parash Jyoti (1 November 2024).",
          "- ^ Shankar, Bradly (18 April 2024).",
          "- ^ Phillips, Tom (3 March 2025).",
          "- ^ Yin-Poole, Wesley (24 July 2024).",
          "- ^ Parrish, Ash (16 January 2024).",
          "- ^ Davis, Barney (1 November 2024).",
          "- ^ \"'Murderesses': MagentaTV entfernt Serie mit KI-Synchronisation\".",
          "- ^ Koebler, Jason (8 October 2024).",
          "- ^ a b Koebler, Jason (6 August 2024).",
          "- ^ Maiberg, Emanuel (4 February 2025).",
          null
         ],
         "marker": {
          "opacity": 0.5,
          "size": 5
         },
         "mode": "markers+text",
         "name": "November 2024 News Updates",
         "text": [
          "",
          "",
          "",
          "",
          "",
          "",
          "",
          "",
          "",
          "",
          "",
          "",
          "",
          "",
          "",
          "",
          "",
          "",
          "",
          "",
          "",
          "",
          "",
          "",
          "",
          "",
          "",
          "",
          "",
          "",
          "",
          "",
          "",
          "",
          "",
          "November 2024 News Updates"
         ],
         "textfont": {
          "size": 12
         },
         "type": "scattergl",
         "x": {
          "bdata": "xRYnQLO4L0DUvydA0FclQHASK0DfGTBAWm0iQFLTLECUnixAAwolQFgQLECnsQhA1wQlQB+5JEBPzSxAXcQuQONBLED9TCJAGpsvQMlHL0ASFS1AHGApQLRTLECLvC5AADImQBhRKECjfCZAzLAqQKzwH0CVAShAk6QnQEjVJkDftDVA8WUzQPamKEAWKylA",
          "dtype": "f4"
         },
         "y": {
          "bdata": "k0kQQKVgBkBoCxBAGSYSQI0nC0AK5gRAFlsVQPNAC0AyuwlAEXYSQIkTCkB2Hz2/KJwTQFmqEkA67whAlTkHQF9wCkC+kxZAbYUGQOxiB0CQoglA6twMQAZLCUDlkAdA+nATQDA5D0DTrhBAgWkLQA0IGkAnBQ9A+rkOQGloEUCM/gBAeKoEQJSADUBnjQdA",
          "dtype": "f4"
         }
        },
        {
         "hoverinfo": "text",
         "hovertext": [
          "\"All of the core elements in Foamstars - the core gameplay, and the things that make the game enjoyable - those are all made by hand,\" Okatani said.",
          "Square Enix used controversial AI tool Midjourney, which turns text prompts into visual art, to create in-game album covers for music tracks.",
          "“All of the core elements in Foamstars — the core gameplay, and the things that make the game enjoyable — those are all made by hand,” Okatani told VGC.",
          "Speaking with VGC, Foamstars producer Kosuke Okatani said the team had \"dabbled\" with AI program Midjourney - a known AI tool that converts text into art - but the majority of the game has been crafted by hand.",
          "- ^ \"PlayStation Exclusive Foamstars Has AI-Generated Art, Square Enix Confirms\".",
          "Square Enix says it used AI art in upcoming Foamstars game\nFoamstars producer Kosuke Okatani says the AI-generated art accounts for ‘0.01 percent’ of the game’s art.",
          "Midjourney and Stable Diffusion, another popular AI generation tool, are being sued by artists claiming the tools infringe on artists’ rights because the data the tools are trained on is taken from artists without their consent.",
          "While Foamstars’ use of AI is centered on images and not voices, Square Enix’s use of Midjourney to generate the images introduces thorny questions regarding copyright infringement.",
          "- ^ \"Square Enix \"dabbled\" with AI technology for Foamstars\".",
          "Speaking to VGC, Foamstars producer Kosuke Okatani confirmed the game — which launches into PlayStation Plus on February 6 — uses AI-generated art for certain assets, but claimed most of the game is made by actual developers.",
          "The inclusion of AI in Foamstars is perhaps unsurprising given Square Enix president Takashi Kiryu said in January 2024 that the company will be \"aggressive in applying AI and other cutting-edge technologies to both our content development and our publishing functions.\"",
          "\"[38]\nFoamstars, a multiplayer third-person shooter released by Square Enix in 2024, features in-game music with cover art that was generated using Midjourney.",
          "In Foamstars, Square Enix’s forthcoming Splatoon-esque multiplayer game, some of the art you’ll see will be AI-generated.",
          "In a separate statement, Square Enix said AI was used in the \"creation of the in-game album covers for the music featured in the Foamstars soundtrack\".",
          "In an interview with VGC, Kosuke Okatani, producer on Foamstars, said that the development team used AI generation tool Midjourney to create in-game art for album covers for the game’s soundtracks but explained that the majority of the game was still made by humans.",
          "A Square Enix PR representative further elaborated on Foamstars’ use of AI to VGC: “In this instance, we experimented with Midjourney using simple prompts to produce abstract images.",
          "\"We experimented with Midjourney using simple prompts to produce abstract images,\" Square Enix said.",
          "Square Enix \"dabbled\" with AI technology for Foamstars\nAw, suds!",
          "The PlayStation exclusive, Splatoon-like shooter Foamstars uses artificial intelligence (AI) generated art, developer Square Enix has revealed.",
          "Most recently, ID@Xbox was criticised for using AI art in its Christmas message, as reported by Pure Xbox.",
          "\"Square Enix says it used AI art in upcoming Foamstars game\".",
          "Midjourney is one of several AI companies mentioned in an ongoing lawsuit that lists thousands of artists who have allegedly had their artwork scraped to train AI tools.",
          "This only makes up around 0.01% of the game, or even less, Okatani claimed.",
          "In terms of the content in the game, this makes up about 0.01% or even less, but we have dabbled in it by creating these icons in the game.\"",
          "According to the developer, the total AI generated work in Foamstars makes up \"about 0.01 percent or even less\" of the game, with Okatani stating Square Enix wanted to \"experiment\" with the technology for its upcoming release.",
          "Square Enix's upcoming team shooter Foamstars will have a small amount of AI art, the developer has said.",
          "If you can build it, Ken Fulk wants to design it.",
          "Xbox has partnered with Inworld AI to develop tools for developers to generate AI NPCs, quests, and stories.",
          "For more on Foamstars, our Ed has laid out everything you need to know about its season pass and arrival on PlayStation Plus here.",
          "\"In this instance, we experimented with Midjourney using simple prompts to produce abstract images.",
          "\"All of the core elements in Foamstars — the core gameplay, and the things that make the game enjoyable — those are all made by hand,\" he said.",
          null
         ],
         "marker": {
          "opacity": 0.5,
          "size": 5
         },
         "mode": "markers+text",
         "name": "Square Enix's Use of AI Art",
         "text": [
          "",
          "",
          "",
          "",
          "",
          "",
          "",
          "",
          "",
          "",
          "",
          "",
          "",
          "",
          "",
          "",
          "",
          "",
          "",
          "",
          "",
          "",
          "",
          "",
          "",
          "",
          "",
          "",
          "",
          "",
          "",
          "Square Enix's Use of AI Art"
         ],
         "textfont": {
          "size": 12
         },
         "type": "scattergl",
         "x": {
          "bdata": "pOa6QFebu0BMj7lAquO5QBjFukBXnrxA+DC6QCx+vEBZvbtAC/O4QHWRukDkULpAiw29QHt1u0BE27lAqj27QEhHvkDsx7tAQxG4QNHbt0AcJb1AZTi6QJqiu0AfabtAiOa7QEkVvEA7drpAKnizQEFzuUBxZb5A2+G6QMrYukA=",
          "dtype": "f4"
         },
         "y": {
          "bdata": "0ws1QSL/NUGybzRBGP0xQVxwNUEs9zVBNOYwQbBpNEEFpjZBVe0zQcDQNUG5VjVBYTw2QcZ3NUE50jBBIP0xQZj8LUGIpjZBTawzQWpAMUHaJDZBM98wQVf2NUHU5zVBoDI2QePzNUGptzVBZE0tQeHjNEE7EC1BSx81QTXoM0E=",
          "dtype": "f4"
         }
        },
        {
         "hoverinfo": "text",
         "hovertext": [
          "\"All trick no treat - \"Hoax\" Halloween parade draws big crowds to Dublin's O'Connell St\".",
          "The decked-out Dubliners had been tricked by a listing on a AI-generated website based in Pakistan that announced the spooky festival before news of it quickly spread online.",
          "That included a parade in Dublin, with a precise location and start time.",
          "A post, dated October 30, on the site said in part: \"The Dublin Halloween Parade follows a well-planned route that ensures maximum visibility and excitement.",
          "Supported by\nAll Trick, No Treat: Dublin Crowds Turn Up for Halloween Parade That Wasn’t\nThe scariest thing this Halloween?",
          "It typically starts at Parnell Square, proceeds down O’Connell Street, and concludes at Temple Bar.",
          "(Dublin has hosted Halloween parades in past years, but not in 2024.)",
          "Hundreds of Dubliners made their way to the city center on Thursday night, excited for a Halloween parade to take place on a mild October evening as they lined up along O’Connell Street, a major thoroughfare.",
          "The nonexistent parade in Dublin was said to be put on by Macnas, an Irish theater group that has previously staged parades and held one this year in Galway — but not Dublin.",
          "While there was no Halloween parade on Dublin's O'Connell Street, locals and visitors alike were spoiled for choice for Halloween happenings with several events organized by Dublin City Council.",
          "She added: “Everyone is trying to have a fun and safe Halloween.",
          "Peter Farrelly shot video from his window of the crowds gathering at O’Connell Street leaving space along the road for the fake Halloween Parade.",
          "[29]\nIn October 2024, thousands of people were reported to have assembled for a non-existent Halloween parade in Dublin as a result of a listing on an aggregation listings website, MySpiritHalloween.com, which used AI-generated content.",
          "[32] While a similar parade had been held in Galway, and Dublin had hosted parades in prior years, there was no parade in Dublin in 2024.",
          "A spokesperson said: “Please be advised that contrary to information being circulated online, no Halloween parade is scheduled to take place in Dublin city centre this evening or tonight.",
          "\"The Guy Behind the Fake AI Halloween Parade Listing Says You've Got It All Wrong\".",
          "\"Please be advised that contrary to information being circulated online, no Halloween parade is scheduled to take place in Dublin City Centre this evening or tonight,\" the Irish police force said.",
          "However, smaller text interspersed throughout the lengthy post said \"Dublin Halloween Parade is cancelled!\"",
          "Chaos in Dublin as thousands turn up for AI ‘hoax’ Halloween parade that didn’t exist\nThousands of Dubliners patiently waited for a Halloween parade that would never come\nThousands of people lined the streets of Dublin eagerly anticipating a Halloween Parade through the city centre - but it never arrived.",
          "— Luas (@Luas) October 31, 2024\nOn Thursday evening, a Google search of \"Dublin Halloween parade\" returned a top result for a website called MySpiritHalloween.com.",
          "Please be advised that contrary to information being circulated online, no Halloween parade is scheduled to take place in Dublin City Centre this evening or tonight.",
          "It did not take long for fun to be made of the hoax, including at Dublin Airport, which posted a picture on X of an empty terminal with the caption “our Halloween parade in full flow.”\nBesides listing parades, MySpiritHalloween.com offers tips for enjoying the holiday, including: “Use mini pumpkins as bowling balls and empty cans decorated with Halloween themes as pins.",
          "Award-winning performing arts group Macnas have been holding an annual Halloween Parade in Dublin since 2013, with last year’s parade seeing witches, zombie dancers and wolves shuffling down Capel Street.",
          "- ^ a b \"All Trick, No Treat: Dublin Crowds Turn Up for Halloween Parade That Wasn't\".",
          "It was the first Halloween Parade after a four year hiatus over lockdown - but there were no plans for one in 2024.",
          "Unfortunately for Dubliners, Dublin was picked this year.\"",
          "\"Chaos in Dublin as thousands turn up for AI 'hoax' Halloween parade that didn't exist\".",
          "pic.twitter.com/KmVPFKEZbP\n— An Garda Síochána (@GardaTraffic) October 31, 2024\nSeveral social media posts on Thursday evening posted about the crowds gathering on Dublin's O'Connell Street waiting for a Halloween parade that would never come.",
          null
         ],
         "marker": {
          "opacity": 0.5,
          "size": 5
         },
         "mode": "markers+text",
         "name": "Dublin Halloween Parade Hoax",
         "text": [
          "",
          "",
          "",
          "",
          "",
          "",
          "",
          "",
          "",
          "",
          "",
          "",
          "",
          "",
          "",
          "",
          "",
          "",
          "",
          "",
          "",
          "",
          "",
          "",
          "",
          "",
          "",
          "",
          "Dublin Halloween Parade Hoax"
         ],
         "textfont": {
          "size": 12
         },
         "type": "scattergl",
         "x": {
          "bdata": "gTpqvs3phb6LzOG9J79KvqhxaL7Djsm8taBVvmvsxL1U0NO9+BpYvqo4bL7Vc5y9rSSAvqTsoTxbQTa+H2ifvqYQQb6SI2K+2wqOvkPCib7EVku+vqKXvt5/YL4oo3++e2hevo3Z9L3R0oi+OQEOvX8pQL4=",
          "dtype": "f4"
         },
         "y": {
          "bdata": "OvW9QKGxv0D0trxAGpS6QDUavkCLtrlAsgi9QHcNukCKwb1AoW+8QCRmvUCcQLhAb1jCQPCCvUDumLtAMTXAQN1Eu0DE5rxASB7AQEZTwEAN07tA6PnAQMj+vUBRPr5Aa3q7QP/cv0Ca38BASmm/QBCYvUA=",
          "dtype": "f4"
         }
        },
        {
         "hoverinfo": "text",
         "hovertext": [
          "The Independent.",
          "TweakTown.",
          "The Atlantic.",
          "The Guardian.",
          "News 10 ABC.",
          "Washington Post.",
          "The New York Times.",
          "BBC News.",
          "This article was featured in One Great Story, New York’s reading recommendation newsletter.",
          "The Telegraph.",
          "The New York Times.",
          "The Guardian.",
          "In an interview with The New York Times, attendee Stuart Sinclair described the venue.",
          "Glasgow, Scotland.",
          "a place full of bad things!!!",
          "NBC News.",
          "AV Club.",
          "Claire Moses is a Times reporter in London, focused on coverage of breaking and trending news.",
          "Yahoo News.",
          "Kotaku.",
          "Victor Mather, who has been a reporter and editor at The Times for 25 years, covers sports and breaking news.",
          "The New York Times.",
          "Shadow Magazine.",
          "Around the World With The Times\nOur reporters across the globe take you into the field.",
          "The Atlantic.",
          "The Atlantic.",
          "One synopsis briefly listed on the site for the film Dog Day Afternoon read: \"A man takes hostages at a bank in Brooklyn.",
          "The New York Times.",
          null
         ],
         "marker": {
          "opacity": 0.5,
          "size": 5
         },
         "mode": "markers+text",
         "name": "Major New York News Coverage",
         "text": [
          "",
          "",
          "",
          "",
          "",
          "",
          "",
          "",
          "",
          "",
          "",
          "",
          "",
          "",
          "",
          "",
          "",
          "",
          "",
          "",
          "",
          "",
          "",
          "",
          "",
          "",
          "",
          "",
          "Major New York News Coverage"
         ],
         "textfont": {
          "size": 12
         },
         "type": "scattergl",
         "x": {
          "bdata": "QNv7PwNNsT8EM7I/FZz9P89J8z9pTvE/5y7uP6Ki/z9SF+s/68cBQHnT7j+BKv4/Y5vkPwO1rj//JbI/Sg/1P4bbrED8GvY/ft/1PxR28T+Ix/s/ZnfvP9M7+z+pMO0/WzqxP9Qrsj8BQes/KUjuPw339T8=",
          "dtype": "f4"
         },
         "y": {
          "bdata": "YsqRQK/TnECQ3JtAqNeRQMxWjUAGZI9AT12PQEHIi0C/vY9AUhCTQKtuj0DZt5FAz/+RQLujnEDnkJ1Agi+NQGwHMkF2cItALN+OQMLejkBxt4VAomiPQFzWkEDqX49A5xCcQPXkm0AV/I9A4U+PQJeMmUA=",
          "dtype": "f4"
         }
        },
        {
         "hoverinfo": "text",
         "hovertext": [
          "The other important participants in the slop economy, besides the sloppers and the influencers and the platforms, are all of us.",
          "Voilà: slop.",
          "But slop has a way of leaking out.",
          "If sloppers are the manufacturing sector of the slop economy, these gurus, vouchers, and toolmakers represent the service sector.",
          "Slop is the most appropriate word for what it produces because, as disgusting and unappetizing as it may seem, we still eat it.",
          "Slop isn’t necessarily a commentary on quality so much as on how it is meant to be consumed: fleetingly, and with little or no thought beyond the initial limbic-system response.",
          "\"The Slop Candidate\".",
          "Perfect example of slop.",
          "Actually scrubbing the slop would be even better.",
          "The threat of slop fatigue\nAs consumers and business owners alike, we're all experiencing slop fatigue.",
          "Slop requires human intervention or it wouldn’t exist.",
          "Though he first noticed the problem thanks to a recipe book by a nonexistent author that featured “a meal plan that told you to eat straight marinara sauce for lunch,” the slop books he sees often cover highly consequential subjects like living with fibromyalgia or raising children with ADHD.",
          "This kind of slop can erode trust and drive customers away.",
          "Why slop?",
          "I propose “slom”.",
          "Slop is the ideal name for this anti-pattern.",
          "Now, With A.I., We've Got 'Slop'\".",
          "This is clarifying, insofar that it demonstrates that Trump’s primary output is always a kind of slop.",
          "Hence the term slop, which conjures images of heaps of unappetizing food being shoveled into troughs for livestock.",
          "But nonsynthetic slop is everywhere too.",
          "That’s slop.",
          "They’re slop as well.",
          "I’m happy to use LLMs for all sorts of purposes, but I’m not going to use them to produce slop.",
          "The main characteristic of slop is that there is an endless supply of it.",
          "Others expressed similar concerns: \"This is such slop bro.",
          "Not unlike the fast food that Trump was hawking, slop is sometimes delicious, but it is never nutrient dense.",
          "It is, in effect, a slop subsidy.",
          "But if it’s mindlessly generated and thrust upon someone who didn’t ask for it, slop is the perfect term for it.",
          null
         ],
         "marker": {
          "opacity": 0.5,
          "size": 5
         },
         "mode": "markers+text",
         "name": "Examination of \"Slop\" in Economy and Culture",
         "text": [
          "",
          "",
          "",
          "",
          "",
          "",
          "",
          "",
          "",
          "",
          "",
          "",
          "",
          "",
          "",
          "",
          "",
          "",
          "",
          "",
          "",
          "",
          "",
          "",
          "",
          "",
          "",
          "",
          "Examination of \"Slop\" in Economy and Culture"
         ],
         "textfont": {
          "size": 12
         },
         "type": "scattergl",
         "x": {
          "bdata": "ftkCQfCSBUHP+QVBoVMBQWYcBUGqJQRBDqIFQa+4BEHEwwZBv7EEQZcoBUFnjgVB95QDQTbKBEEPQQVBDVMEQWQEBUEjKQJBt5wDQUNpBkF7FgZBWtYFQZtNBEHgFAVBbNQEQTqcBUG+oAJBgooEQQuzBEE=",
          "dtype": "f4"
         },
         "y": {
          "bdata": "gOP0QAIz+0Ae7PlAy6PzQIFA+UCWkvpArzz8QCso+kCMB/xA+Df3QDYp+kDiLvhA3F74QK8S+UDAp/1AQ+77QLfu+0AjOABBo635QHdr+kCPz/lAJ4H6QKkv+0A+j/lAljj5QO5X+EDrjvRAg+P7QLjb+UA=",
          "dtype": "f4"
         }
        },
        {
         "hoverinfo": "text",
         "hovertext": [
          "This year, we crafted films through a collaboration of human storytellers and the power of generative AI.",
          "Generative AI is one of the hottest topics within the video game and entertainment industries, which have both suffered massive layoffs in recent years.",
          "Generative AI is one of the hottest topics within the video game and entertainment industries, which have both suffered massive layoffs in recent years.",
          "\"I believe that generative AI has the potential not only to reshape what we create, but also to fundamentally change the processes by which we create, including programming.\"",
          "Generative AI thus far has drawn criticism from players and creators due to a mix of ethical issues, rights issues, and AI’s struggles to produce content audiences actually enjoy.",
          "Earlier this year, EA boss Andrew Wilson told the investment community that “more than 50% of our development processes will be positively impacted by the advances in generative AI.” Wilson, who oversees EA Sports FC, The Sims, and BioWare games, added that AI will make game development “more efficient”, revealing that the EA Sports FC developers can now make stadiums in six weeks rather than six months.",
          "Outsourcing designwork to generative-AI apps may be an effective cost-cutting and productivity measure for some businesses, but in practice it just off-loads work elsewhere.",
          "Fortunately, a new SteamDB tag lets players filters games that us generative-AI out of their store searches.",
          "Generative AI often struggles with hands, adding extra fingers where they shouldn't be.",
          "Elsewhere, Microsoft now offers generative AI tools to its studios, but the industry as a whole appears sceptical of the technology.",
          "Fifteen years ago, Wired magazine heralded the “good-enough revolution” in low-cost technology: “Cheap, fast, simple tools are suddenly everywhere … We now favor flexibility over high fidelity, convenience over features, quick and dirty over slow and polished.” Generative AI as a technology exists in this lineage.",
          "You then take the prompts to the image-generation programs Leonardo.ai and Midjourney.",
          "On the other, the supply: the astonishingly adequate, inexhaustible output of generative-AI apps like ChatGPT, Midjourney, or Microsoft’s Image Creator, heavily subsidized by investors and provided to consumers at low or no cost.",
          "For example, generative AI cannot replace genuine human creativity – it is merely a mulch of previous human ideas.",
          "This is the most widespread use yet found for generative-AI apps: creating stuff that can take up space and be counted.",
          "- Fans are alleging that the game includes a significant amount of generative AI content.",
          "In response, Furukawa said generative AI can be used “in creative ways,” but said its use “also raise issues with intellectual property rights.”\nGenerative AI thus far has drawn criticism from players and creators due to a mix of ethical issues, rights issues, and AI’s struggles to produce content audiences actually enjoy.",
          "Which all suggests that the answer to the many problems of generative A.I.",
          "\"I believe that generative AI has the potential not only to reshape what we create, but also to fundamentally change the processes by which we create, including programming.\"",
          "Much of the conversation around generative AI tools focuses on how they enable ordinary people to “create”.",
          "Activision states on the game's product page on Steam that \"Our team uses generative AI tools to help develop some in game assets.",
          "The company even has its own global head of generative AI.",
          "And there are reasons to suspect that “hallucination” may be an unsolvable problem for generative A.I.",
          "Despite the backlash, the game has a mostly positive rating on Steam and is in the top 20 of most played games on the platform.",
          "Fans are expressing dissatisfaction, claiming that the game is using a lot of generative AI content for its cover art and game assets, labeling it as another generic puzzle game.",
          "Since the arrival of widespread consumer-grade generative AI, these tasks have become progressively more difficult.",
          "The developers describe how their game uses AI generated content like this: “Our team uses generative AI tools to help develop some in game assets,” reads the disclosure on Valve’s storefront, recently spotted by CharlieIntel.",
          null
         ],
         "marker": {
          "opacity": 0.5,
          "size": 5
         },
         "mode": "markers+text",
         "name": "Ethical and Creative Impacts of Generative AI",
         "text": [
          "",
          "",
          "",
          "",
          "",
          "",
          "",
          "",
          "",
          "",
          "",
          "",
          "",
          "",
          "",
          "",
          "",
          "",
          "",
          "",
          "",
          "",
          "",
          "",
          "",
          "",
          "",
          "Ethical and Creative Impacts of Generative AI"
         ],
         "textfont": {
          "size": 12
         },
         "type": "scattergl",
         "x": {
          "bdata": "4SGpQOkpqUC9AKlAfVS4QPF3p0AzCKhAJWqqQEjtpEBl1qxA1BSqQKdZq0C3sLxAYXOqQI7wrUC9q6tA+xGmQDXiqUCMvrBA5c23QMYwsEBX16dAwPKoQH8csUC545tAxr6kQA5Yq0DskKtAtYqrQA==",
          "dtype": "f4"
         },
         "y": {
          "bdata": "K1gmQdntJkGdVydBvbciQfeFJkGFFyhB5rImQUaALUELoCZB6v0lQU3gJUFncipBdwUmQcA3JEH3tCVBWt0qQdfAJkF6sSVB9u0iQV/fJEElJyxByV4mQXukJUHJQChBn2srQYoGJkGoNClB/icnQQ==",
          "dtype": "f4"
         }
        },
        {
         "hoverinfo": "text",
         "hovertext": [
          "[7]\nThe term gained increased popularity in the second quarter of 2024 in part because of Google's use of its Gemini AI model to generate responses to search queries,[7] and was widely criticized in media headlines during the fourth quarter of 2024.",
          "You will be shocked to know that we ranked our site in three months on the Google first page.",
          "Instead, it functions mostly to create the appearance of human-made content, benefit from advertising revenue and steer search engine attention towards other sites.",
          "But it is not easy to rank on Google’s first page, and our site was ranked on the first page.",
          "We make websites and we rank them on Google.",
          "Initially, platforms like ChatGPT and Google Gemini were celebrated for their efficiency.",
          "into its search results on Bing, and it had some immediate missteps, leading Google to declare it would roll back some of its A.I.",
          "It is not easy to post 1,400 articles in three months and to make them rank in Google.",
          "Google is just a search engine, and any person can post anything on it.",
          "Another niche is about SEO, and how you can be an SEO expert, but I’m not going to reveal those.",
          "Or they may build a website filled with articles generated by an LLM, festoon them with advertisements, and try to get them highly ranked on Google News.",
          "News organizations have worried about shrinking online audiences as people rely more on A.I.-generated answers and data from Chartbeat, a company that researches internet traffic, indicates that there was an immediate drop in referrals from Google Discover to websites in the first days of A.I.",
          "But that dip has since recovered, and in the first three weeks of the overviews, overall search traffic to more than 2,000 major websites in the U.S. actually went up, according to Chartbeat.",
          "content in social media, art, books and, increasingly, in search results.",
          "We are expecting Google will derank.",
          "One more thing I want to add is that people should not consider Google as the standard.",
          "Overview” — a chunk of text at the top of a results page that uses Gemini to form its best guess at what the user is looking for.",
          "“We’ve added this after hearing from some that there are times when they’d prefer to just see links to webpages in their search results,” wrote Danny Sullivan, the company’s search liaison.",
          "The term became more prevalent last month when Google incorporated its Gemini A.I.",
          "Humans are involved in the website’s search engine optimization efforts to ensure it ranks highly on sites like Google, he said, but much of the information is produced by A.I.",
          "Are you concerned that Google will downrank you now?",
          "It will include links as well, but users who want to limit the response to just a selection of links to other websites will be able to find them – by clicking through to “web” on the search engine, demoted to sit beside “images” and “maps” on the list of options.",
          "on search engines and the internet in general may be less extreme than some would fear.",
          "model into its U.S.-based search results.",
          "Rather than pointing users toward links, the service attempts to solve a query directly with an “A.I.",
          "But with the dominant search engines having made A.I.",
          null
         ],
         "marker": {
          "opacity": 0.5,
          "size": 5
         },
         "mode": "markers+text",
         "name": "Google Search Engine and SEO",
         "text": [
          "",
          "",
          "",
          "",
          "",
          "",
          "",
          "",
          "",
          "",
          "",
          "",
          "",
          "",
          "",
          "",
          "",
          "",
          "",
          "",
          "",
          "",
          "",
          "",
          "",
          "",
          "Google Search Engine and SEO"
         ],
         "textfont": {
          "size": 12
         },
         "type": "scattergl",
         "x": {
          "bdata": "xsuTQBUcikC33Y1AeHSLQN8aikDnFJRA2jOMQNlPh0CRxopA2eiIQFKZikBT/Y5AVjaNQNVKjEClZZNAPG2OQOBxk0DnJI9AdCKTQOYGjkDHn41AdqWOQKN3kEDSz4xAwu2OQK0Ji0B24I1A",
          "dtype": "f4"
         },
         "y": {
          "bdata": "1cgCQXfa+kBW2ABB9lT6QJEd+UCb/wJB1f0BQZY79kCs9/pAVfz3QLpT+UA4TP5A1FH8QFzg/EBIw/9Aum/+QF04A0EUlwFBpL4CQWcfAUEP0PxAah4BQX0F/kD5eABBZT4CQfXnAEEJSf9A",
          "dtype": "f4"
         }
        },
        {
         "hoverinfo": "text",
         "hovertext": [
          "- ^ \"Slop is the new name for unwanted AI-generated content\".",
          "The rise of slop has, appropriately, the shape of a good science-fiction yarn: a mysterious wave of noise emerging from nowhere, an alien invasion of semi-coherent computers babbling in humanlike voices from some vast electronic beyond.",
          "Adam Aleksic, a linguist and content creator who uses the handle etymologynerd on social media, believes that slop — which he said has yet to cross over to a broader audience — shows promise.",
          "What is 'AI Slop'?",
          "[13]\nAI slop is frequently used in political campaigns in an attempt at gaining attention through content farming.",
          "Slop, as it relates to AI, is loosely defined as spammy, cheap blocks of text, video, or images, quickly generated by computer programs for mass distribution.",
          "[51][52] Additionally, some viewers have noticed that many plot descriptions appear to be generated by AI, which some people have characterized as slop.",
          "In a world saturated with AI-generated content, distinguishing valuable information from slop is not just a skill — it's a competitive edge.",
          "A representative for Meta didn't reply to questions about why they don't simply ban AI slop.",
          "You may not know exactly what “slop” means in relation to artificial intelligence.",
          "Therefore, it’s less in your face.”\n@etymologynerd More great discussion of this in Alan Metcalf's book \"Predicting New Words\" #etymology #linguistics #language #memehistory #rizz #skibidi ♬ original sound - etymologynerd\nThe use of slop as a descriptor for low-grade A.I.",
          "You know, it skips a major plot element, and the final scene is a celebration out of the ending of Star Wars.” Clarke said he had received “dozens of this story in various incarnations.”\nThese are prime examples of what is now known as slop: a term of art, akin to spam, for low-rent, scammy garbage generated by artificial intelligence and increasingly prevalent across the internet — and beyond.",
          "Reddit users accused Wrapped 2024 of being ‘AI-generated slop’ – pointing to the made-up genres, such as “Pink Pilates Princess Strut Pop”, as generative AI giveaways.",
          "Reddit users accused Wrapped 2024 of being ‘AI-generated slop’ – pointing to the made-up genres, such as “Pink Pilates Princess Strut Pop”, as generative AI giveaways.",
          "[5] Early uses of the term \"slop\" as a descriptor for low-grade AI material apparently came in reaction to the release of AI image generators in 2022.",
          "AI slop\n\"AI slop\", often simply \"slop\", is a term for low-quality media, including writing and images, made using generative artificial intelligence technology, characterized by an inherent lack of effort, logic, or purpose.",
          "“Slop” is what you get when you shove artificial intelligence-generated material up on the web for anyone to view.",
          "Slop, the OUP writes, is “art, writing, or other content generated using artificial intelligence, shared and distributed online in an indiscriminate or intrusive way, characterised as being of low quality, inauthentic, or inaccurate”.",
          "Dubbed “AI slop”, there is no hiding from the manipulated images and videos, with their prominence even leading to the Oxford University Press (OUP) naming “slop” as a contender for its word of the year.",
          "Slop is the new name for unwanted AI-generated content\n8th May 2024\nI saw this tweet yesterday from @deepfates, and I am very on board with this:\nWatching in real time as “slop” becomes a term of art.",
          "AI slop has clogged the internet with synthetic ephemera, but it has also given a name to the human-made attentional grist that’s all around us—the slop that exists in real life, in meatspace.",
          "“I think having a name for this is really important, because it gives people a concise way to talk about the problem,” says the developer Simon Willison, one of the early proponents of the term “slop”.",
          "But the most convincing examples of potential AI slop arrived in early December.",
          "when it is used correctly, thought that slop could become the go-to term for the lesser forms of machine-generated content.",
          "There’s no definitive way to tell how much slop has already been produced in the few short years generative-AI apps have been widely available, but there are ways to get a glimpse.",
          null
         ],
         "marker": {
          "opacity": 0.5,
          "size": 5
         },
         "mode": "markers+text",
         "name": "AI-Generated Low-Quality Content",
         "text": [
          "",
          "",
          "",
          "",
          "",
          "",
          "",
          "",
          "",
          "",
          "",
          "",
          "",
          "",
          "",
          "",
          "",
          "",
          "",
          "",
          "",
          "",
          "",
          "",
          "",
          "AI-Generated Low-Quality Content"
         ],
         "textfont": {
          "size": 12
         },
         "type": "scattergl",
         "x": {
          "bdata": "GO7rQBoJ8kAYSvNATE7sQOuA6EAsg/JACWLwQJWH70BKzulANyzxQJ4++EA63vBAbY/rQGWB60DsgfJANo7sQNtU9kA7XvVAU7/vQB167UAUuu5AjGQAQfi+4kDcXP1Ao7rvQHhw8EA=",
          "dtype": "f4"
         },
         "y": {
          "bdata": "TcMCQUQZAkFMOwJBPoUCQa8aAkFbRwJBEPECQVHrAUGF7vtAi10BQSORAUEQlwJB05wCQZajAkFZTgJBVEEDQcmc/0DYxAFBloUDQdLdAUHOyAFBkTr/QGwlAkEDBgFBrK8DQWHvAUE=",
          "dtype": "f4"
         }
        },
        {
         "hoverinfo": "text",
         "hovertext": [
          "This entire Vercel step exists to avoid Facebook’s automated spam detection, because it ultimately masks the link of the website that is being linked to.",
          "He said he spends about six hours a day administering his Facebook pages, but he works at the mercy of the website’s opaque moderation and decision-making processes.",
          "These pages make money through Facebook’s Performance bonus program, which, per the social network’s description, “gives creators the opportunity to earn money” based on “the amount of reach, reactions, shares and comments” on their posts.",
          "Facebook has gone through so many different flavors of spammy/scammy engagement bait, from Minions memes to videos from magicians to actually dangerous fake news and extremist groups.",
          "Matt Navara, a social media consultant, says the novelty of these posts has quickly worn thin for many of Facebook’s billions of users.",
          "Then the person logs into their Facebook page and upgrades their account to an ad account, which is an instant process.",
          "It's embarrassing to Facebook that people on X — X!!!",
          "- So why isn't Facebook cracking down?",
          "- Facebook does ban this stuff, but only at an account level when the account posting it engages in obvious spam tactics.",
          "If it were all just a slightly more efficient form of spam, distracting and deceiving Facebook-addled grandparents, that would be one thing.",
          "The best explanation is that the Facebook pages posting these are making bait for scam targets, helping scammers identify gullible people in the comments who they can extract money from.",
          "An account that’s consistently posting can get invited into Facebook’s Creator Bonus Program and start making money from viral content.",
          "Then the person goes through the process of buying and setting up an ad on Facebook that links to the Vercel mirror of the page they want to link to.",
          "Meta is penny-pinching and focusing on the newest shiny thing (AI tools, Instagram, the metaverse) and cares less and less about Facebook, this theory goes.",
          "It is most prevalent on platforms such as Facebook, where click farmers and spammers create elaborate networks to flood pages and groups with cheap, fake images of starving children and Shrimp Jesus in the hopes of going viral, getting likes, and picking up “creator bonuses” for online engagement.",
          "Jason Koebler, a technology reporter who has spent the past year investigating Facebook’s AI-slop economy, has described the deluge of artificial imagery as part of a “zombie internet” and “the end of a shared reality,” where “a mix of bots, humans, and accounts that were once humans but aren’t anymore interact to form a disastrous website where there is little social connection at all.”\nWhat’s going on across the MAGA internet isn’t exactly the same as Facebook’s spam situation, although the vibe is similar.",
          "Why is Facebook full of this stuff?",
          "I ain’t got time to chase down every Facebook rumor … We’ve been through enough.”\nIt is difficult to capture the nihilism of the current moment.",
          "This creates a preview link, which can then be pushed to their phone (it has to be a separate device), then shared to their own personal Facebook page as a ‘test.’\nFrom there, the link can be grabbed and shared to a page as a normal post, even though it is not a published ad, meaning that, to do this trick, you do not actually have to spend any money.",
          "- Facebook has stopped trying.",
          "Facebook doesn’t reveal how it calculates the value of the bonuses, and only creators in certain countries — the U.S., the U.K., and India among them — are eligible for the bonus program, which helps explain why, several times during our interview, Stephen insisted he was actually a British cybersecurity student named Jacob.",
          "Not too long ago, I speculated about why Meta hadn't cracked down, but considering nothing has seemed to change, I find myself wondering yet again …\nWhy doesn't Facebook just ban this slop?",
          "Some creators 404 Media uncovered were running multiple Facebook accounts and used automated tools to fill the feeds with spammy engagement-bait images.",
          "Within the ad manager, they upload an image that has been modified to look like a Facebook gallery post (there are tools for this), and then they delete the headline and description that is autogenerated by Facebook to make it look like the ad is just an image and not a link.",
          "And those posts in your Facebook feed that seemingly came from nowhere?",
          null
         ],
         "marker": {
          "opacity": 0.5,
          "size": 5
         },
         "mode": "markers+text",
         "name": "Facebook Spam and Monetization Tactics",
         "text": [
          "",
          "",
          "",
          "",
          "",
          "",
          "",
          "",
          "",
          "",
          "",
          "",
          "",
          "",
          "",
          "",
          "",
          "",
          "",
          "",
          "",
          "",
          "",
          "",
          "",
          "Facebook Spam and Monetization Tactics"
         ],
         "textfont": {
          "size": 12
         },
         "type": "scattergl",
         "x": {
          "bdata": "YXuqQKkdqUALo6VA4ZusQF/Zq0AcaadA3f+TQJyeqECQLatARiGsQJYLqUCABaVAebWpQMIfpECu17BArVW1QNdlqUAPD6hAXhelQLlQqUDQIKVAj5+oQK9Wr0AnQalAJdatQAgWqUA=",
          "dtype": "f4"
         },
         "y": {
          "bdata": "hZbpQJEb7UB3E+tA8cTqQCkr7EDEgOhAJujQQJ4c7kApSetAhhfrQB9s6kC7FetAiBXoQGGw7kCjYepAOsPrQNl67UA7bO5A/PPmQIBb7kCb6OtA91HuQNTG6kC4YuhA2ojqQK9T6kA=",
          "dtype": "f4"
         }
        },
        {
         "hoverinfo": "text",
         "hovertext": [
          "Muse, who is described in the prospectus as a “serial entrepreneur”, also blogs about how to make money from generative AI.",
          "The organization believes that this money would allow these already established influencers to “increase their reach by more than 10x in less than a year”, according to its investor prospectus.",
          "@deepfates\nis now @_deepfates.",
          "The X account is connected to a Substack posting the same articles that Muse publishes on his LinkedIn page, which also has the username “amuse”, reflecting his first initial and last name.",
          "The organization’s board includes its chair, Brad Merritt, who is touted as an experienced Republican organizer with claims to have raised $300m for various non-profits; its director, Shiree Sanchez, who served as assistant director of the Republican party of Texas between 1985 and 1986; and Mark Karaffa, a retired healthcare industry executive.",
          "Launched last year, the Texas-based non-profit organization frames itself as a press freedom group with the goal of “empowering independent journalists” and “fortifying the bedrock of democracy”.",
          "The most recent tax records for the Freedom Foundation place it in the category of non-profits whose gross receipts, or total funds received from all sources, range from $0 to $50,000 – far below the millions it is seeking.",
          "The Milton Freedom Foundation is one of many small groups flooding social media with so-called AI slop.",
          "Muse’s book on how to secure startup funding, which includes examples of him asking ChatGPT to pretend it’s Musk and offer business advice, lists that same Substack account as its publisher.",
          "The @amuse account has numerous connections with Muse.",
          "The company recently announced Muse, a model for visualizing gameplay built on data captured from people playing Ninja Theory’s 2020 PvP game Bleeding Edge.",
          "On the text of the post, which was labeled “satire”, was a watermark that stated it was “sponsored by the John Milton Freedom Foundation”.",
          "While only one of the fellows listed on the foundation’s site mentions the organization on their X profiles and none follow its account, the @amuse account has a prominent link to the group’s community page and the foundation often engages with its posts.",
          "The @amuse account has considerable reach itself, with about 390,000 followers on X and dozens of daily posts.",
          "The John Milton Freedom Foundation did not respond to a request for comment to a set of questions about its operations and fellowship program.",
          "Muse’s daughter, described as a 10th grade honor student on the non-profit’s site, serves as the Milton Foundation’s “fellowship chair”.",
          "The John Milton Freedom Foundation, named after the 17th-century British poet and essayist, has a small online footprint: a website, an investor prospectus and an X account with fewer than 500 followers.",
          "One Texas-based account that posts anti-vaccine content lists itself as a “JMFF” fellow in their bio, but none of the others advertise any connection.",
          "The foundation’s stated goal is to raise $2m from major donors to award $100,000 grants to a list of “fellows” made up of rightwing media influencers.",
          "The team behind it, according to its own documents, consists of five people based in the Dallas-Fort Worth area with varying degrees of experience in Republican politics.",
          "Muse’s experience in digital media appears to be far more extensive than the non-profit’s other members.",
          "Running @amuse appears to be Alexander Muse, listed as a consultant in the investor prospectus of the Milton Foundation, who also writes a rightwing commentary Substack that includes posts exploring election conspiracy theories.",
          "It is not clear that the foundation has any money to give and if all the media influencers listed as its 2024 fellowship class know about the organization.",
          "The group’s day-to-day operations appear to revolve around sharing engagement bait on X and seeking millions from donors for a “fellowship program” chaired by a high school sophomore that would award $100,000 to Twitter personalities such as Glenn Greenwald, Andy Ngo and Lara Logan, according to a review of the group’s tax records, investor documents and social media output.",
          null
         ],
         "marker": {
          "opacity": 0.5,
          "size": 5
         },
         "mode": "markers+text",
         "name": "John Milton Freedom Foundation and Social Media",
         "text": [
          "",
          "",
          "",
          "",
          "",
          "",
          "",
          "",
          "",
          "",
          "",
          "",
          "",
          "",
          "",
          "",
          "",
          "",
          "",
          "",
          "",
          "",
          "",
          "",
          "John Milton Freedom Foundation and Social Media"
         ],
         "textfont": {
          "size": 12
         },
         "type": "scattergl",
         "x": {
          "bdata": "rKTRQB+SvkAhIclAHxnRQFdTwkBWUr5AhS7EQDyYw0DRs9BAQjTRQAXO0UDXysNAGlzKQJaEzECNF8NAeKnRQAobxUAxKMpAyifBQEXXu0CZk9FAwzPQQANhwkAvK8BAQEbIQA==",
          "dtype": "f4"
         },
         "y": {
          "bdata": "4VOnQEYarkAL0LBAlkunQIVzq0B4PrFA29uqQMWgsUCpKahAZlunQJUUp0DQgbJABomrQNDCq0AMBq9AZ+SmQCT9r0C2GaxAP/6rQHxxrkBnM6dAYxOoQI9vq0DaeK1Aq9KrQA==",
          "dtype": "f4"
         }
        },
        {
         "hoverinfo": "text",
         "hovertext": [
          "Retrieved 24 March 2025.",
          "Retrieved 9 May 2025.",
          "Retrieved 5 January 2025.",
          "Retrieved 24 March 2025.",
          "Retrieved 25 April 2025.",
          "Retrieved 5 January 2025.",
          "Retrieved 24 March 2025.",
          "Retrieved 5 January 2025.",
          "Retrieved 24 April 2025.",
          "Retrieved 23 March 2025.",
          "Retrieved 24 March 2025.",
          "Retrieved 24 March 2025.",
          "Retrieved 23 March 2025.",
          "Retrieved 24 April 2025.",
          "Retrieved 24 March 2025.",
          "Retrieved 24 March 2025.",
          "Retrieved 9 May 2025.",
          "Retrieved 24 March 2025.",
          "Retrieved 3 January 2025.",
          "Retrieved 24 March 2025.",
          "Retrieved 9 May 2025.",
          null
         ],
         "marker": {
          "opacity": 0.5,
          "size": 5
         },
         "mode": "markers+text",
         "name": "2025 Retrieval Records",
         "text": [
          "",
          "",
          "",
          "",
          "",
          "",
          "",
          "",
          "",
          "",
          "",
          "",
          "",
          "",
          "",
          "",
          "",
          "",
          "",
          "",
          "",
          "2025 Retrieval Records"
         ],
         "textfont": {
          "size": 12
         },
         "type": "scattergl",
         "x": {
          "bdata": "tpp7QXl/fUGGlntBZJ97QWR/fEF5hHtBh+Z7QWOae0Ex4nxBWqR7Qbije0F7nntBtqJ7Qe/bfEHoKntBSZ97QVWWfUGumntBC0F7Qczfe0EC6X1Bxg18QQ==",
          "dtype": "f4"
         },
         "y": {
          "bdata": "xu2LQTXijEGf64tBHvCLQRJhjEGQ4otBNhSMQZPti0HmkoxBpPKLQU7yi0Gr74tB0fGLQdKPjEGTtYtBE/CLQa/tjEHC7YtBv8CLQVIQjEEvF41ByyeMQQ==",
          "dtype": "f4"
         }
        },
        {
         "hoverinfo": "text",
         "hovertext": [
          "“We encourage creators to use AI tools to produce high-quality content that meets all our Community Standards, and we take action against those who attempt to drive traffic using inauthentic engagement whether they use AI or not,” a Meta spokesperson told 404 Media.",
          "The global AI-generated content factory\nOur observations indicate many of these creators are from non-Western countries, such as India, Vietnam and China.",
          "For platforms, the challenge will be balancing the engagement these AI-driven trends bring with the need to maintain trust and authenticity.",
          "Inside the AI ‘gold rush’\nThere is also a growing industry of people teaching others how to make money using cheap AI content.",
          "Making AI-generated content is more pleasant work than driving passengers or delivering food, according to a creator who is also a stay-at-home mother.",
          "The initial excitement over AI-generated content has faded, replaced by a demand for authenticity and real value.",
          "Platforms have created incentive programs for content that goes viral, and a whole ecosystem of content creators has arisen using generative AI to exploit these programs.",
          "But before that, AI-generated content will continue to grow wildly – at least for a while.",
          "“The proliferation of low-quality or spammy AI content risks cluttering feeds and diminishing overall user satisfaction,” he says.",
          "Consumers are becoming increasingly intolerant of AI-generated missteps, even from their favourite brands.",
          "Creators posting AI content may not be the kind of people we expect.",
          "For these entrepreneurs, AI is the secret sauce not only for creating viral content but also for circulating already-viral videos across different countries and platforms.",
          "AI-generated content has become the latest trend for earning side income.",
          "Since the generative AI boom began, a class of SEO entrepreneurs has started pumping out AI-generated content on websites and across social platforms, in efforts to make money off online advertising and affiliate marketing.",
          "You may also wonder why some platforms don’t ban AI accounts for polluting the platform’s content stream.",
          "“We have seen instances where people have commented that an advert was AI-generated rubbish when it was not,” he says, adding that it could become a problem for the social media industry if consumers “start to feel they are being served rubbish all the time”.",
          "In fact, our research suggests this kind of low-quality AI-generated content is becoming a lucrative venture for the people who make it, the platforms that host it, and even a growing industry of middlemen teaching others how to get in on the AI gold rush.",
          "This is only the beginning\nWe are only at the dawn of mainstream AI-generated content culture.",
          "But when you’ve got an automated post-creating machine, who needs two people in the Philippines?",
          "The simplest, most straightforward option is to be a “slopper”: someone who generates content at scale using AI and manipulates or leverages a platform to make money from it.",
          "Demand more from your AI tools, ensure they enhance rather than detract from your brand's message, and keep your content authentic.",
          null
         ],
         "marker": {
          "opacity": 0.5,
          "size": 5
         },
         "mode": "markers+text",
         "name": "AI-Generated Content Industry",
         "text": [
          "",
          "",
          "",
          "",
          "",
          "",
          "",
          "",
          "",
          "",
          "",
          "",
          "",
          "",
          "",
          "",
          "",
          "",
          "",
          "",
          "",
          "AI-Generated Content Industry"
         ],
         "textfont": {
          "size": 12
         },
         "type": "scattergl",
         "x": {
          "bdata": "MdOoQGdjmkA2kKFAI62hQL39p0DsF6BAqFijQBN2oEDR9qpAzqWtQAnOpEBFt6BAsrCfQOWXoUDamKdASjOsQCRjoUAZvZ1AMDaVQJZnoEBkda1AyGqjQA==",
          "dtype": "f4"
         },
         "y": {
          "bdata": "Y9gLQf+YC0F5Bg1B7yQPQeNOEUE4Ew1BBZMNQWqkDUFeBw1ByF0RQWNoDUFbGw1BCmIMQfuwCkHIQglBXdgLQaYxDUHBhgxB1ysNQd7cC0EWcBBByTYNQQ==",
          "dtype": "f4"
         }
        },
        {
         "hoverinfo": "text",
         "hovertext": [
          "4 February 2025.",
          "1 November 2024.",
          "More recent articles\n- Large Language Models can run tools in your terminal with LLM 0.26 - 27th May 2025\n- Highlights from the Claude 4 system prompt - 25th May 2025\n- Live blog: Claude 4 launch at Code with Claude - 22nd May 2025",
          "30 June 2024.",
          "Sign up for The Decision, a newsletter featuring our 2024 election coverage.",
          "4 October 2024.",
          "16 January 2024.",
          "24 July 2024.",
          "10 March 2025.",
          "20 November 2024.",
          "1 November 2024.",
          "19 February 2025.",
          "25 February 2025.",
          "11 June 2024.",
          "7 January 2025.",
          "15 April 2025.",
          "19 April 2024.",
          "2 November 2024.",
          "18 November 2024.",
          "16 January 2024.",
          null
         ],
         "marker": {
          "opacity": 0.5,
          "size": 5
         },
         "mode": "markers+text",
         "name": "Advances in Large Language Models",
         "text": [
          "",
          "",
          "",
          "",
          "",
          "",
          "",
          "",
          "",
          "",
          "",
          "",
          "",
          "",
          "",
          "",
          "",
          "",
          "",
          "",
          "Advances in Large Language Models"
         ],
         "textfont": {
          "size": 12
         },
         "type": "scattergl",
         "x": {
          "bdata": "ewWBQC0de0CTPX9AuXiAQHybeUDKXX1AmBt/QLNFf0BpYYJAIlV7QMPfekBKSINAJyCCQJQ7gUDOa4FAzQCCQExDgUCA7XdADbF6QJoAgEAOjH9A",
          "dtype": "f4"
         },
         "y": {
          "bdata": "z/UOQAmGCUBRjBRAf+cOQLr/CEDQawtAmtQMQPvSDUCGJRBANgwKQNVqCUBZ+RJAxzYRQE2UD0BFYw9A7e0PQIPxDkA1MAdAYjsJQNq+DUByig1A",
          "dtype": "f4"
         }
        },
        {
         "hoverinfo": "text",
         "hovertext": [
          "\"Angry Birds Block Quest: Rovio's latest title in the franchise has soft-launched for Android in the US\".",
          "There hasn’t been much promotion regarding the game and the team has only shared a brief description without any additional information.",
          "- There is currently no information about its release in other regions or for iOS.",
          "[42][43]\nIn 2024, Rovio Entertainment released a demo of a mobile game called Angry Birds: Block Quest on Android.",
          "The game being a block puzzle title, incorporates the old-school brick game gameplay with your favorite Angry Birds.",
          "Read other related articles:\n- Girls’ Frontline to suspend service in China, servers to shut down on December 31, 2024\n- The King of Fighters ALLSTAR has shut down on October 30, 2024\n- Pokémon Masters EX is set to shutdown in Vietnam on November 27, 2024\n- Pokémon UNITE ACL 2025 India League: Teams, Format, Prize pool, and more\n- Miraibo GO Abyssal Souls Season this October 2024 brings new gameplay elements\nWhat are your thoughts as Angry Birds Block Quest has recently soft-launched in the US?",
          "- ^ \"Angry Birds Block Quest - Soft launch for Android in the US\".",
          "[45][46] It was eventually discontinued and removed from the Play Store.",
          "In this game, you will navigate your way through innovative levels while enjoying satisfying mechanics with classic Angry Birds characters.",
          "Please keep in mind that the game may not function properly if you don’t have the latest version installed.",
          "- ^ \"Angry Birds Block Quest Soft Launches on Android, Sparking Debate Over Generative AI Content -\".",
          "Rovio Entertainment Corporation has indicated that they may release periodic updates for the game to add new features, and content, and fix bugs and other technical issues.",
          "- Angry Birds Block Quest is a block puzzle game and the newest entry in the Angry Birds franchise.",
          "While they don't have dates, Dragon Quest III HD-2D Remake, Dragon Quest XII, and Kingdom Hearts 4 are also on the way in 2024 or beyond.",
          "\"Blockchain has been an object of exhilaration and a source of turmoil, but with that in the rearview mirror, we hope that blockchain games will transition to a new stage of growth in 2023,\" said Matsuda, acknowledging the \"sombre string of news stories with blockchain connections\" in 2022.",
          "If you are residing in America, you can access the game via your respective Google Play Stores.",
          "Rovio Entertainment Corporation has announced the launch of their latest casual puzzle title, Angry Birds Block Quest, which has now soft-launched for Android in the US.",
          "The game is now available for Android as a soft launch in the US for Android.",
          "Perfect your block placement skills in Angry Birds Block Quest\nAngry Birds Block Quest is a block puzzle title and the latest addition to the Angry Birds franchise.",
          "However, the devs have yet to specify any information regarding the game’s global or iOS release.",
          null
         ],
         "marker": {
          "opacity": 0.5,
          "size": 5
         },
         "mode": "markers+text",
         "name": "Angry Birds Block Quest Launch",
         "text": [
          "",
          "",
          "",
          "",
          "",
          "",
          "",
          "",
          "",
          "",
          "",
          "",
          "",
          "",
          "",
          "",
          "",
          "",
          "",
          "",
          "Angry Birds Block Quest Launch"
         ],
         "textfont": {
          "size": 12
         },
         "type": "scattergl",
         "x": {
          "bdata": "QIOAQAOkeEDIInxA24yAQK9EgEBEJYJAvF6AQNk/hkDdZn9Af0h5QA6/gECFE4FALlGAQBRFqkB+fatAQyxwQGujgEAfbHpA+2CAQBP5eUApzYNA",
          "dtype": "f4"
         },
         "y": {
          "bdata": "CZlLQYJAQEGWWURB2shLQVsaTEHtRktBMLtLQU3PQ0FSYExBSndEQQQjTEGhu0pBwQRMQelPREGEqEVByslEQXDTS0HLEkVBkxpMQeHzQ0FJUUhB",
          "dtype": "f4"
         }
        },
        {
         "hoverinfo": "text",
         "hovertext": [
          "As it happens, A.I.",
          "“And that was kind of a starting point.”\n“A.I.",
          "The same political concerns about the ownership and control of A.I.",
          "Intelligencer.",
          "expenditure, more than the United States spends annually on its military, and think: What exactly is that money going toward?",
          "were running short of projected profits by a margin of at least several hundred billion dollars annually.",
          "“The crucial question is: What $1 trillion problem will A.I.",
          "A few years later, A.I.",
          "The change was a reaction to Microsoft having incorporated A.I.",
          "Today the same millennial might read about that trillion-dollar A.I.",
          "What is A.I.",
          "(At some crucial points, A.I.",
          "“Society needs concise ways to talk about modern A.I.",
          "But as people become accustomed to A.I.’s increasing role in how the internet works, Mr. Willison, who identified himself as an optimist for A.I.",
          "material seemingly came about in reaction to the release of A.I.",
          "infrastructure build-out over the next several years would reach $1 trillion.",
          "investments might be three times as large as expected returns, while another analyst, in several assessments published by Sequoia Capital, calculated that investments in A.I.",
          "In a note from Barclays, one analyst warned that today’s A.I.",
          "(He called this “A.I.’s $600 billion question” and warned of “investment incineration.”) In a similarly bearish Goldman Sachs report, the firm’s head of global equity research estimated that the cost of A.I.",
          null
         ],
         "marker": {
          "opacity": 0.5,
          "size": 5
         },
         "mode": "markers+text",
         "name": "AI Investment Risks and Outlook",
         "text": [
          "",
          "",
          "",
          "",
          "",
          "",
          "",
          "",
          "",
          "",
          "",
          "",
          "",
          "",
          "",
          "",
          "",
          "",
          "",
          "AI Investment Risks and Outlook"
         ],
         "textfont": {
          "size": 12
         },
         "type": "scattergl",
         "x": {
          "bdata": "QdRPQDhFP0C+90hAmjZVQBzwWkD14llAaKtYQPuFUUBwzHhAZ3tXQNckU0DvBUhAU24/QF9jVkC7yVRAJ3FZQL+fW0AZ61dAhbdWQHiHVEA=",
          "dtype": "f4"
         },
         "y": {
          "bdata": "37b2QNoQ+EALNfpAZi77QMIaBUHSFwVBLf8CQdKT+UAUogVBoC0EQZ7x+UAHNvhApMT5QHbG+0B6+vtA5jUFQdL2AEFKIP5A+0sCQdTr/0A=",
          "dtype": "f4"
         }
        },
        {
         "hoverinfo": "text",
         "hovertext": [
          "We are always exploring new ways to connect with consumers and experiment with different approaches.",
          "- Use Interactive Elements: Incorporate visuals, videos and interactive media to create engaging and dynamic content that holds your audience's attention.",
          "This adds depth and makes your brand memorable.",
          "[25] The intention of the posts was later stated to act as a survey for interest in possible titles by the company.",
          "This approach not only makes your brand more relatable but also strengthens your connection with your audience.",
          "solve?”\nA decade ago, venture capital provided Americans the “millennial lifestyle subsidy”: investors keeping the price of Uber and DoorDash and dozens of other services artificially low for years.",
          "For entrepreneurs, this isn't just a nuisance; it's a potential threat to your brand's integrity and your ability to stand out in a crowded market.",
          "This is how entrepreneurs will not only survive but thrive in this new digital landscape.",
          "That’s brand distinctiveness in action.”\nThe formula is simple but powerful:\nTrend + Brand Distinctiveness = Memorable Impact\nThe article urges marketers to ask themselves:\n• Do we know our brand well enough to play with chaos?",
          "Explore Our Style Coverage\nFashion, trends, love and more.",
          "Your insights and expertise differentiate your brand from the competition.",
          "The brands that prioritize genuine, high-quality content will not only survive in this new landscape but thrive.",
          "Explore Our Style Coverage\nFashion, trends, love and more.",
          "For brands with answers, the payoff can be immense.",
          "As entrepreneurs, our brands are our lifeblood.",
          "Opinions expressed by Entrepreneur contributors are their own.",
          "Brands that only copy trends risk becoming forgettable.",
          "Smart brands recognize this not just as entertainment, but as a ritual of participation.",
          "For entrepreneurs, this shift is crucial.",
          null
         ],
         "marker": {
          "opacity": 0.5,
          "size": 5
         },
         "mode": "markers+text",
         "name": "Brand Strategy and Trends",
         "text": [
          "",
          "",
          "",
          "",
          "",
          "",
          "",
          "",
          "",
          "",
          "",
          "",
          "",
          "",
          "",
          "",
          "",
          "",
          "",
          "Brand Strategy and Trends"
         ],
         "textfont": {
          "size": 12
         },
         "type": "scattergl",
         "x": {
          "bdata": "oJQ8QDbeYEAWDDdAWbRkQHHuNEBbaE5Aja5QQCAqVUBxZDNAhS8sQFpFOkBy2TZA+8YsQAzxNkAOrEFAiP5PQJFAL0ABkzpAe1ZpQHwjQ0A=",
          "dtype": "f4"
         },
         "y": {
          "bdata": "WcUJQdkLDEHnTwlBJa0HQdsYCUGAaAdB164FQfBsCUEI1AlB0WgIQXJ2CUFlBAlBbFAIQeljCEEexghBTNMHQcBeCUEBgwlBm9EHQQLMCEE=",
          "dtype": "f4"
         }
        },
        {
         "hoverinfo": "text",
         "hovertext": [
          "It's spam-adjacent stuff — if not outright spam.",
          "- ^ a b c d e \"First Came 'Spam.'",
          "“Before the term ‘spam’ entered general use it wasn’t necessarily clear to everyone that unwanted marketing messages were a bad way to behave.",
          "Not all promotional content is spam, and not all AI-generated content is slop.",
          "Supported by\nFirst Came ‘Spam.’ Now, With A.I., We’ve Got ‘Slop’\nA new term has emerged to describe dubious A.I.-generated material.",
          "Your email inbox is full of spam.",
          "\"Spam, junk ... slop?",
          "But like spam, its overall effect is negative: the lost time and effort of users who now have to wade through slop to find the content they’re actually seeking far outweighs the profit to the slop creator.",
          "the way that “spam” became the term for unwanted emails, “slop” is going in the dictionary as the term for unwanted AI generated content\nUpdate: that account has been deleted so the Tweet is a 404 now—the tweet quote tweeted this one by @allgarbled.",
          "[1][4][5] Coined in the 2020s, the term has a pejorative connotation akin to \"spam\".",
          "Clarke compared the problem to turning off the spam filter and trying to read your email: “Okay, now multiply that by ten because that’s the ratio that we were getting.” Within weeks, the problem became unmanageable.",
          "They also apply complex, largely undocumented, AI systems to try to detect spam directly, in a constant cat-and-mouse game with the spammers themselves.",
          "Spam is annoying, but ultimately easy to ignore—that is, until it collides with the negative incentives of social-media platforms, where it’s used by political shitposters and hucksters.",
          "Big webmail providers like Gmail aggressively monitor their own platforms to crack down on spammers and are increasingly suspicious of emails arriving from untrusted email servers.",
          "Look at the word ‘spam.’ Usually, the word is created because there is a particular group with shared interests, with a shared need to invent words.”\nIn the short term, the effect of A.I.",
          "Update 9th May: Joseph Thacker asked what a good name would be for the equivalent subset of spam—spam that was generated with AI tools.",
          "Your letterbox is full of junk mail.",
          "Tackling spam in inboxes required an enormous cross-industry effort and led to a fundamental change in the nature of email.",
          "slop”: often uncanny, frequently misleading material, now flooding web browsers and social-media platforms like spam in old inboxes.",
          null
         ],
         "marker": {
          "opacity": 0.5,
          "size": 5
         },
         "mode": "markers+text",
         "name": "Evolution of Spam and Unwanted Content",
         "text": [
          "",
          "",
          "",
          "",
          "",
          "",
          "",
          "",
          "",
          "",
          "",
          "",
          "",
          "",
          "",
          "",
          "",
          "",
          "",
          "Evolution of Spam and Unwanted Content"
         ],
         "textfont": {
          "size": 12
         },
         "type": "scattergl",
         "x": {
          "bdata": "5onuQO7n8ECv8e9AlvHxQF8N8UBupOtAD3zwQLii8EBakfBAB33xQHLv6kCFQe5AOlnvQNJO7EBe+vBAEvHxQCn560CZrOxAuU7vQOU070A=",
          "dtype": "f4"
         },
         "y": {
          "bdata": "CpnaQBbn3kDVat1A0Q/kQP2W4UBZm9ZAiaTjQMZ46UApXeFAq8PfQFTK1UBpHdtAL3ncQKRP10Be0N5AigXfQPCe1kAKZNdAmEbiQEey3UA=",
          "dtype": "f4"
         }
        },
        {
         "hoverinfo": "text",
         "hovertext": [
          "Some of the lies and obfuscation are politically motivated, such as the claim that FEMA is offering only $750 in total to hurricane victims who have lost their home.",
          "The pandemic saw Americans, distrustful of authority, trying to discredit effective vaccines, spreading conspiracy theories, and attacking public-health officials.",
          "Online, first responders are pleading with residents, asking for their help to combat the flood of lies and conspiracy theories.",
          "If you are a weatherperson, you’re a target.",
          "But what feels novel in the aftermath of this month’s hurricanes is how the people doing the lying aren’t even trying to hide the provenance of their bullshit.",
          "Angry, embittered citizens have been harassing government officials in North Carolina, as well as FEMA employees.",
          "What we’re witnessing online during and in the aftermath of these hurricanes is a group of people desperate to protect the dark, fictitious world they’ve built.",
          "In the hands of Trump, they create small news cycles and narratives to be debunked.",
          "!” The clip, which was eventually removed but had been viewed 662,000 times as of yesterday evening, turned out to be from a video of a CGI tornado that was originally published months ago.",
          "According to an analysis by the Institute for Strategic Dialogue, an extremism-research group, “Falsehoods around hurricane response have spawned credible threats and incitement to violence directed at the federal government,” including “calls to send militias to face down FEMA.” The study also found that 30 percent of the X posts analyzed by ISD “contained overt antisemitic hate, including abuse directed at public officials such as the Mayor of Asheville, North Carolina; the FEMA Director of Public Affairs; and the Secretary of the Department of Homeland Security.” The posts received a collective 17.1 million views as of October 7.",
          "As two catastrophic storms upended American cities, a patchwork network of influencers and fake-news peddlers have done their best to sow distrust, stoke resentment, and interfere with relief efforts.",
          "As Hurricane Milton churned across the Gulf of Mexico last night, I saw an onslaught of outright conspiracy theorizing and utter nonsense racking up millions of views across the internet.",
          "As one dispirited meteorologist wrote on X this week, “Murdering meteorologists won’t stop hurricanes.” She followed with: “I can’t believe I just had to type that.”\nWhat is clear is that a new framework is needed to describe this fracturing.",
          "Scrolling through these platforms, watching them fill with false information, harebrained theories, and doctored images—all while panicked residents boarded up their houses, struggled to evacuate, and prayed that their worldly possessions wouldn’t be obliterated overnight—offered a portrait of American discourse almost too bleak to reckon with head-on.",
          "Rather than deal with the realities of a warming planet hurling once-in-a-generation storms at them every few weeks, they’d rather malign and threaten meteorologists, who, in their minds, are “nothing but a trained subversive liar programmed to spew stupid shit to support the global warming bullshit,” as one X user put it.",
          "(In reality, FEMA offers $750 as immediate “Serious Needs Assistance” to help people get basic supplies such as food and water.)",
          "Among them: Infowars’ Alex Jones, who claimed that Hurricanes Milton and Helene were “weather weapons” unleashed on the East Coast by the U.S. government, and “truth seeker” accounts on X that posted photos of condensation trails in the sky to baselessly allege that the government was “spraying Florida ahead of Hurricane Milton” in order to ensure maximum rainfall, “just like they did over Asheville!”\nAs Milton made landfall, causing a series of tornados, a verified account on X reposted a TikTok video of a massive funnel cloud with the caption “WHAT IS HAPPENING TO FLORIDA?",
          "Other influencers, such as the Trump sycophant Laura Loomer, have urged their followers to disrupt the disaster agency’s efforts to help hurricane victims.",
          "It’s very real and scary how much they have taken control to stop people helping.” That post has been viewed more than 40 million times.",
          null
         ],
         "marker": {
          "opacity": 0.5,
          "size": 5
         },
         "mode": "markers+text",
         "name": "Misinformation and Extremism During Hurricanes",
         "text": [
          "",
          "",
          "",
          "",
          "",
          "",
          "",
          "",
          "",
          "",
          "",
          "",
          "",
          "",
          "",
          "",
          "",
          "",
          "",
          "Misinformation and Extremism During Hurricanes"
         ],
         "textfont": {
          "size": 12
         },
         "type": "scattergl",
         "x": {
          "bdata": "hAedQB6DnEB8wptAlwOcQCdGmkAh+51AwBmbQLTFkkDf1ppAu/icQCrCnUBf1JtAuB+cQP+vnECVo5lAt0KgQN2hm0Bo3ptAezmaQHGlm0A=",
          "dtype": "f4"
         },
         "y": {
          "bdata": "sZ2oQPHapEDkNqNA3a2hQNDdpEA0gKlA4AijQJyGr0AA86NApR6mQEnKpUD02aNAZhmjQLXco0CseaJADYGrQLMGo0CCkaJAlnanQMGGpUA=",
          "dtype": "f4"
         }
        },
        {
         "hoverinfo": "text",
         "hovertext": [
          "This slop is sloppy enough that it can sometimes be very funny — and there's even an X account, Insane Facebook AI Slop, dedicated to cataloging it.",
          "\"Facebook's Twisted Incentives Created Its AI Slop Era\".",
          "Then you go to your faculty and you say, ‘Look, I’m a genius, and I deserve this position as a full professor.’” In other words, like Facebook slop, the content of the content isn’t really as important as its presence — or, more accurately, its measurability.",
          "The rise of slop, he says, has turned the social network into a space where “a mix of bots, humans and accounts that were once humans but aren’t any more mix together to form a disastrous website where there is little social connection at all.”\nNick Clegg, the president of global affairs at Facebook’s parent company, Meta, wrote in February that the social network is training its systems to identify AI-made content.",
          "- Facebook doesn't like the AI slop but has bigger things to worry about.",
          "This AI slop doesn’t just exist in a vacuum of a particular social network: It leaves an ecological footprint of sorts on the web.",
          "If you’ve spent any time on Facebook recently you’ve seen the river of AI slop.",
          "- Facebook worries that banning this kind of AI content will set a bad precedent because it wants to encourage people to make stuff with its own Llama 3 tools.",
          "- Cluttered Social Media Feeds: Social platforms should be a place for meaningful engagement, but AI slop often fills them with irrelevant, unengaging posts that fail to connect with your audience.",
          "This is the exact same type of AI-generated slop that has gone viral time and time again over the last year on Facebook and other platforms and that I have written about numerous times.",
          "When you look through the reams of slop across the internet, AI seems less like a terrifying apocalyptic machine-god, ready to drag us into a new era of tech, and more like the apotheosis of the smartphone age — the perfect internet marketer’s tool, precision-built to serve the disposable, lowest-common-denominator demands of the infinite scroll.",
          "\"Why doesn't Facebook just ban AI slop like Shrimp Jesus?\".",
          "\"Where Facebook's AI Slop Comes From\".",
          "If the AI slop isn't suggesting you get together in real life and overthrow the government, hey, Facebook has seen way worse.",
          "Jason Koebler of the tech news site 404 Media believes the trend represents what he calls the “zombie internet”.",
          "The latest wave of AI behind the 'zombie internet'\".",
          "404 Media, which has been diligently covering this, has described how these images are part of an AI-fueled \"zombie internet\" full of bots talking to bots.",
          "A new investigation from 404 Media dug into the origins of Facebook’s AI slop era and uncovered an ecosystem of YouTube videos, Telegram channels, and reel-filled Google drives.",
          null
         ],
         "marker": {
          "opacity": 0.5,
          "size": 5
         },
         "mode": "markers+text",
         "name": "AI-Driven Zombie Internet Era",
         "text": [
          "",
          "",
          "",
          "",
          "",
          "",
          "",
          "",
          "",
          "",
          "",
          "",
          "",
          "",
          "",
          "",
          "",
          "",
          "AI-Driven Zombie Internet Era"
         ],
         "textfont": {
          "size": 12
         },
         "type": "scattergl",
         "x": {
          "bdata": "mV/RQJsUy0B0P89AYVLQQEKpykDJ/9BAY53LQGgeyEA0wM9AOFvTQOfo0EBlZslAcCLOQJypy0Aqe81AZy7MQFhXvUBOXsJA7zjMQA==",
          "dtype": "f4"
         },
         "y": {
          "bdata": "8mb4QD+i9kBPp/hA1UP4QHez9UBDxflA9Q/2QKgG9kD52/hATpD6QKSCAUErZvFAxOj3QBoS9kCzNP5A8EsAQQh57kAok/NADh/4QA==",
          "dtype": "f4"
         }
        },
        {
         "hoverinfo": "text",
         "hovertext": [
          "Yes.",
          ".",
          "Is that true?",
          "That’s it.",
          "Yikes.",
          "Definitely.",
          "Ballpark?",
          "Definitely.",
          "Listen to me.",
          "Don’t worry.",
          "Great job, guys.",
          "I appreciate that.",
          "Not really, no.",
          "Thank you.",
          "Well, I’m glad you didn’t do that.",
          "even for?",
          "Yes.",
          null
         ],
         "marker": {
          "opacity": 0.5,
          "size": 5
         },
         "mode": "markers+text",
         "name": "Positive Reassurance and Affirmation",
         "text": [
          "",
          "",
          "",
          "",
          "",
          "",
          "",
          "",
          "",
          "",
          "",
          "",
          "",
          "",
          "",
          "",
          "",
          "Positive Reassurance and Affirmation"
         ],
         "textfont": {
          "size": 12
         },
         "type": "scattergl",
         "x": {
          "bdata": "GFlUQHeEVECV51dAcMtQQGSoTEBRWVVAEFZWQGP5VUDB/VJAM9hMQBiXUUD+Fk9ASahWQMb4UUAcV01AYrFTQLhKVkAe2FJA",
          "dtype": "f4"
         },
         "y": {
          "bdata": "t22oQIaqqUCbSqpAeCOtQNSEr0BXmKdAukuoQDXAqEDqHqxAtBmxQEEArUAUna1ADoqpQHQfrUCU365AKd+qQIRkqEA+bqtA",
          "dtype": "f4"
         }
        },
        {
         "hoverinfo": "text",
         "hovertext": [
          "Xiaonan also reveals tricks for standing out in the platforms’ recommendation game and avoiding platform regulations.",
          "[30][31] The listing went viral on TikTok and Instagram.",
          "An effective strategy mentioned by one creator is a kind of platform arbitrage involving popular videos from Douyin, the counterpart of TikTok in mainland China.",
          "An Armed and Legged Fish: How Steve, a French cartoon with a catchy theme song, became a TikTok star.",
          "Many of those “pet dance motorcycle” videos, for example, have been viewed tens of millions of times.",
          "To take just one example: if you search “pet dance motorcycle” on TikTok, you will find hundreds of AI-generated videos of animals doing the “motorbike dance”, all animated using the same AI template.",
          "Xiaonan also hosts an exclusive chatting group where, for a fee, he reveals his most effective AI prompts, video headlines and hashtags tailored for different platforms including YouTube and Instagram.",
          "Take Xiaonan, a social media entrepreneur we interviewed who runs six different TikTok accounts, each with more than 100,000 followers.",
          "This week, the Labour Party has faced criticism for its TikTok video featuring AI-generated animals.",
          "TikTok’s community guidelines do ban “inaccurate, misleading, or false content that may cause significant harm”, but AI-generated content – at least for now – does not qualify as causing “significant harm”.",
          "Creators and platforms are making money\nYou may wonder why such repetitive, unimaginative content can go viral on TikTok.",
          "As he revealed in a live-streaming tutorial with more than 1,000 viewers, Xiaonan earned more than US$5,500 from TikTok in July alone.",
          "Once the article was posted the owner said it went \"viral\" on TikTok and Instagram despite the website not sharing it on their own social platforms.",
          "Xiaonan says he established his “AI side job” after being laid off by an internet company.",
          "One video posted by TikTok user @amoamimandy.1a featuring the Tralalero shark has already passed 7 million views.",
          "Other platforms such as Spotify and YouTube, which police intellectual property rights more aggressively than TikTok, invest considerable resources to identify and remove AI-generated content.",
          "A creator will take one of these videos, add AI-generated translation, and post the result on TikTok.",
          null
         ],
         "marker": {
          "opacity": 0.5,
          "size": 5
         },
         "mode": "markers+text",
         "name": "Viral Social Media Strategies",
         "text": [
          "",
          "",
          "",
          "",
          "",
          "",
          "",
          "",
          "",
          "",
          "",
          "",
          "",
          "",
          "",
          "",
          "",
          "Viral Social Media Strategies"
         ],
         "textfont": {
          "size": 12
         },
         "type": "scattergl",
         "x": {
          "bdata": "mQWkQPrmpkBJHqZAdVetQKZOrEAQA7BAlyylQGc4pkDXY6tAqiaqQPRYpUBQPKVAE9mkQMHxpUBvf6lACsCnQMLOskDQxKhA",
          "dtype": "f4"
         },
         "y": {
          "bdata": "aUYGQfY2BEEp+wRBxwUFQV5TA0FgZAVB2gMGQchpBEGHcAdBBAkHQZdWBEFtzAVBxuADQTzgCkEm0wNBtGgFQb8ABkEriwVB",
          "dtype": "f4"
         }
        },
        {
         "hoverinfo": "text",
         "hovertext": [
          "Kamala Harris did not give a speech at the Democratic National Convention to a sea of communists while standing in front of the hammer and sickle.",
          "Now she’s joining the W.N.B.A.’s growing constellation of stars.",
          "Now She’s Embracing Her Mother—and Her Biological Father\nAll the Cast Members That Might Leave SNL This Fall\nThe Link Between Ted Bundy, Charles Manson, and Gary Ridgway\nSherri Papini, Accused of Faking Her Own Kidnapping, Finally Tells Her Side of the Story\nRo Khanna Really Believes “Blue MAGA” Can Save the Dems—and Steve Bannon Loves It\nThe 42 Best Romantic Comedies of All Time\nWhat Scarlett Johansson Wants\nFrom the Archive: How Trump Turned Palm Beach’s Exclusivity Against It—With a Barrage of Lawsuits",
          "(This after he falsely claimed that Harris had posted an image that had been “A.I.’d”—a tidy bit of projection.)",
          "What is clear from comments such as Kremer’s is that she is not a dupe; although she may come off as deeply incurious and shameless, she is publicly admitting to being an active participant in the far right’s world-building project, where feel is always greater than real.",
          "She’s befriended a Menendez brother, and she’s making documentaries.",
          "Giving Up Sex: The writer Melissa Febos has a taste for extremes.",
          "Hillary Clinton was not recently seen walking around Chicago in a MAGA hat.",
          "There are plenty of mocking or degrading images of Harris and other female Democratic politicians, such as Alexandria Ocasio-Cortez.",
          "sputtered out a whole string of cartoonishly false trending topics, including that it was Kamala Harris who had been shot.",
          "These include people like the former CBS journalist turned far-right star Lara Logan, who was cut from Newsmax in recent years for going on a QAnon-inspired rant that claimed world leaders drink children’s blood, as well as the author of an anti-trans children’s book.",
          "More Great Stories From Vanity Fair\nThe Unsinkable Kathy Bates\nFrom RFK Jr. to Patrick Schwarzenegger, a Brief Guide to the Kennedy Family\nWhy Is Trump Pardoning this Reality TV Couple Convicted of Fraud?",
          "The Jeweler to the Stars: Jessica McCormack, the London jeweler with a knack for injecting cool-girl energy into top-dollar pieces, has opened a shop in Manhattan.",
          "Mariska Hargitay Was “Living a Lie” for 30 Years.",
          "Kate Knibbs: Well, how are you doing?",
          "A Basketball Star Is Born: Paige Bueckers became a college sensation for her skill and her style.",
          null
         ],
         "marker": {
          "opacity": 0.5,
          "size": 5
         },
         "mode": "markers+text",
         "name": "Far-Right Media and Conspiracies",
         "text": [
          "",
          "",
          "",
          "",
          "",
          "",
          "",
          "",
          "",
          "",
          "",
          "",
          "",
          "",
          "",
          "",
          "Far-Right Media and Conspiracies"
         ],
         "textfont": {
          "size": 12
         },
         "type": "scattergl",
         "x": {
          "bdata": "grWrQBhKp0Dl4qZAQUW0QO7upECTiKZABkGiQGlPqkAEoq9A96qrQDc6mUC7OqZAqE+nQO+cnkDQHKJAwHWnQAwHp0A=",
          "dtype": "f4"
         },
         "y": {
          "bdata": "Um+5QPWPukBozbZAILO+QH6Su0AgWrZAHRa9QIlduEDnzLtAX3u5QNiht0BPEbRAZSO6QGE/sUBTRrxAtBm6QOU5uUA=",
          "dtype": "f4"
         }
        },
        {
         "hoverinfo": "text",
         "hovertext": [
          "[39][40][41] Previously, on January 1, 2024, Square Enix president Takashi Kiryu stated in a new year letter that the company will be \"aggressive in applying AI and other cutting-edge technologies to both [their] content development and [their] publishing functions\".",
          "\"Square Enix President States the Company Will Be 'Aggressive in Applying AI'\".",
          "Square Enix has a big year ahead of it, as fans will soon be able to enjoy Final Fantasy VII Rebirth, Final Fantasy XVI's second DLC, Final Fantasy 14: Dawntrail, Foamstars, SaGa: Emerald Beyond, and Visions of Mana.",
          "But while Square Enix may be keen, there are many out there that are still sceptical about AI and its implications across the industry.",
          "“However, we did want to experiment with AI as well.”\nEarlier this year, Square Enix president Takashi Kiryu said in his New Year’s Day letter that Square Enix intends to be “aggressive” in its use of AI in development and publishing.",
          "As for Blockchain, Kiryu added that Blockchain entertainment/Web 3.0, AI, and the Cloud are three of Square Enix's main \"focus investment fields,\" and that it is \"currently working to modify our organizational structure and optimize our resource allocations to support these efforts.\"",
          "The use of AI is certainly growing in the games industry, so Square Enix is not alone in its plans.",
          "Square Enix president Takashi Kiryu has penned a New Year's Letter that outlines some of his vision for the company, and it reveals it plans to \"be aggressive in applying AI and other cutting-edge technologies to both our content development and our publishing functions.\"",
          "Square Enix will be \"aggressive in applying AI\" and other \"cutting-edge technologies\" to its development and publishing functions.",
          "Square Enix confirmed the use of AI, but defended the decision, saying that they wanted to \"experiment\" with artificial intelligence technologies and claiming that the generated assets make up \"about 0.01% or even less\" of game content.",
          "Square Enix intends to be \"aggressive in applying AI\", says CEO\n\"We hope to leverage those technologies to create new forms of content for consumers.\"",
          "\"We also intend to be aggressive in applying AI and other cutting-edge technologies to both our content development and our publishing functions,\" he said.",
          "In turn, Kiryu and Square Enix plan to be, as previously mentioned, \"aggressive in applying AI and other cutting-edge technologies to both our content development and our publishing functions.\"",
          "This news comes weeks after the company's CEO Takashi Kiryu said Square Enix will be \"aggressive in applying AI\" in his annual new year letter.",
          "\"Square Enix intends to be \"aggressive in applying AI\", says CEO\".",
          "There is also a desire to put plans in place to ensure for easier and greater collaboration between the development and publishing teams at Square Enix in hopes this will make its \"customers even happier than ever before.\"",
          null
         ],
         "marker": {
          "opacity": 0.5,
          "size": 5
         },
         "mode": "markers+text",
         "name": "Square Enix's AI and Tech Strategy",
         "text": [
          "",
          "",
          "",
          "",
          "",
          "",
          "",
          "",
          "",
          "",
          "",
          "",
          "",
          "",
          "",
          "",
          "Square Enix's AI and Tech Strategy"
         ],
         "textfont": {
          "size": 12
         },
         "type": "scattergl",
         "x": {
          "bdata": "5XO6QImIu0DHb7VAJvK7QNKTu0A4y7hAw7+7QF36uUCX57pAeBS8QLf+u0ClprtAvtC5QM+Ku0A9oLtArZ66QDa7ukA=",
          "dtype": "f4"
         },
         "y": {
          "bdata": "765BQajOQEG1qkJB2LRAQSMSQUGIx0JB7iFBQU4LQkESlUFBA/E/Qcw0QUGSvUBBBh5CQTArQUF1MEFBJ8BBQWRpQUE=",
          "dtype": "f4"
         }
        },
        {
         "hoverinfo": "text",
         "hovertext": [
          "“The persons did all that copy-paste and didn’t even care to remove” the telltale phrase, Cabanac said.",
          "“They got 700 likes within 2-4 hours.",
          "\"If they told us before the evening we would have removed it.\"",
          "“I think I might actually have been quite late to the party!” he said in an email.",
          "He told The Independent: “It was funny.",
          "— both the positives and the negatives,” he said.",
          "“I’m leaving it because it is emblematic of the trauma and pain people are living through right now.”\nKremer wasn’t alone.",
          "“It did turn quite scary at one point, because people were angry,” he said.",
          "“They are getting so many likes,” he says.",
          "“Everyone is blaming us,” he said.",
          "“The error propagates, right?” he said.",
          "\"It was a genuine mistake and we're accepting it, we're not running from it,\" he added.",
          "“It was not a joke, not a scam,” he said.",
          "“If you need my information pay me,” he wrote.",
          "He agreed to show me his methods, for a price.",
          null
         ],
         "marker": {
          "opacity": 0.5,
          "size": 5
         },
         "mode": "markers+text",
         "name": "Social Media Engagement and Scams",
         "text": [
          "",
          "",
          "",
          "",
          "",
          "",
          "",
          "",
          "",
          "",
          "",
          "",
          "",
          "",
          "",
          "Social Media Engagement and Scams"
         ],
         "textfont": {
          "size": 12
         },
         "type": "scattergl",
         "x": {
          "bdata": "SuYEQCBT+z+EIgNAYXsEQK/RDEDACAdAIawKQCTTAkA9lANAzoQFQBBTCUCK4gVA0PEGQF2ZAECOaQlAH6cFQA==",
          "dtype": "f4"
         },
         "y": {
          "bdata": "iQLbQDD040CMPdxAdcvaQCk4zkAyud1A3HjeQJZ03kBz9uVAA6vbQJnZ3UB4X9pAymbQQAbk1kBKYNRAnvXaQA==",
          "dtype": "f4"
         }
        },
        {
         "hoverinfo": "text",
         "hovertext": [
          "“WRITE ME 10 PROMPT picture OF JESUS WHICH WILLING BRING HIGH ENGAGEMENT ON FACEBOOK,” read the ChatGPT prompt in one screenshot he shared with me.",
          "Although many of these influencers already have sizable followings, AI-image generators offer an inveterate poster the thing they need most: cheap, fast, on-demand fodder for content.",
          "I’ll show you how to create images with the help of AI.”\nHe taps over to a Facebook page called “Dream Home,” which has 113,000 followers and consists of AI generated homes that look like roosters, giraffes, horses, and hummingbirds, poor Black children, and wood carvings.",
          "He’s flicking through a Facebook feed of viral, AI-generated images.",
          "Tickets were marketed through Facebook advertisements showing AI-generated imagery, with no genuine photographs of the venue.",
          "Facebook’s most recent report from its Transparency Center reveals that two of the top five most widely viewed images on the network in the three months to September were AI-generated – viewed 38.6m and 35.8m times respectively.",
          "The AI images produced on Stevo’s pages — rococo pictures of Jesus; muscular police officers standing on the beach holding large Bibles; grotesquely armored gargantuan helicopters — are neither scams nor enticements nor even, as far as Facebook is concerned, junk.",
          "[10]\nSpeaking to New York magazine, a Kenyan creator of slop images described giving ChatGPT prompts such as \"WRITE ME 10 PROMPT picture OF JESUS WHICH WILLING BRING HIGH ENGAGEMENT ON FACEBOOK [sic]\", and then feeding those created prompts into a text-to-image AI service such as Midjourney.",
          "Another possibility is that posting these images is a good tactic to build up a large page audience, which can be lucrative.",
          "It exists to automate the creation and distribution of AI-generated images on Facebook.",
          "“I have other pages which have over 100,000 followers which use AI images,” he said.",
          "- Facebook did make a warning label to note that an image may have been made with AI.",
          "These tend to be posted on Facebook pages with generic-sounding names and captions that don't necessarily reflect the photo, like \"why don't photos like this ever trend,\" or \"beautiful cabin crew,\" or \"Scarlett Johansson\" for an image of Jesus built into the hood of a car.",
          "His process for creating posts, he told me, is pretty simple and AI intensive: “I use ChatGPT to ask for the best images that can generate a lot of popularity and engagement on Facebook,” focusing on topics like the Bible, God, the U.S. Army, wildlife, and Manchester United.",
          "On Facebook, enigmatic pages post disturbing images of maimed children and alien Jesuses; on Twitter, bots cluster by the thousands, chipperly and supportively tweeting incoherent banalities at one another; on Spotify, networks of eerily similar and wholly imaginary country and electronic artists glut playlists with bizarre and lifeless songs; on Kindle, shoddy books with stilted, error-ridden titles (The Spellbound Quest: Students Perilous Journey to Correct Their Mistake) are advertised on idle lock screens with blandly uncanny illustrations.",
          null
         ],
         "marker": {
          "opacity": 0.5,
          "size": 5
         },
         "mode": "markers+text",
         "name": "AI-Generated Religious Engagement Content",
         "text": [
          "",
          "",
          "",
          "",
          "",
          "",
          "",
          "",
          "",
          "",
          "",
          "",
          "",
          "",
          "",
          "AI-Generated Religious Engagement Content"
         ],
         "textfont": {
          "size": 12
         },
         "type": "scattergl",
         "x": {
          "bdata": "Nrq+QLfeukALyblAjHe7QMoLukApmrlA4li7QBBJvkC3/7BA9Jy6QOLAuEDpdL5AuxG3QJYGu0AUdrhA4zu6QA==",
          "dtype": "f4"
         },
         "y": {
          "bdata": "wur5QK1fAUG/y/9Aq0XqQOXd8ED8bPNAa/jyQDMe+kDpeOZANkj+QGE89kANWfZAt5PmQOTM/EB1H+5ALP/0QA==",
          "dtype": "f4"
         }
        },
        {
         "hoverinfo": "text",
         "hovertext": [
          "Peer away from those chatbots and you can see a very different story, with different robot protagonists: machine-learning tools trained much more narrowly and focused less on producing a conversational, natural-language interface than on processing data dumps much more efficiently than human minds ever could.",
          "So we took help from AI, we took help from ChatGPT, but we optimized that ourselves.",
          "But not all A.I.s are large language models like ChatGPT, Gemini or Claude, each of which were trained on gobsmackingly large quantities of text to better simulate interaction with humans and bring them closer to approximations of humanlike thinking, at least in theory.",
          "Here’s a taste of the AI-generated script: “I had to say, ‘There is a man who lives here.",
          "Others are “as an AI language model,” “as of my knowledge cutoff,” and “I cannot fulfill that request,” phrases that ChatGPT and other chatbots use frequently.",
          "It wasn’t that long ago, in the spring of last year, that the new chatbots were trailed by various “godfathers” of the technology, warning of existential risk; by researchers suggesting a 10 percent chance of human extinction at the hands of robots; by executives speculating about future investment rounds tabulated in the trillions.",
          "Sometimes they would arrive with the original prompt included, which was often as simple as “Write a 1,000-word science-fiction story.”\nIt was relatively easy to identify an AI-generated submission, but that required reading thousands (a “wall of noise”) and manually sorting them.",
          "[33] The site's owner said that \"We asked ChatGPT to write the article for us, but it wasn't ChatGPT by itself.\"",
          "One of his methods is to focus on what he calls “smoking guns” — phrases that show unambiguously the use of an AI text generator like ChatGPT.",
          "One of these is “regenerate response,” which appears at the end of ChatGPT’s answers.",
          "We asked ChatGPT to write the article for us, but it wasn’t ChatGPT by itself.",
          "\"However, the introduction of ChatGPT, which allows anyone to easily produce writing or translations or to engage in text-based dialogue, sparked the rapid spread of generative AIs.",
          "Some researchers, especially those for whom English is not a first language, use ChatGPT and other AI programs to help with translation and editing.",
          "A year ago, as normies were only just toying around with chatbots, there were already dozens of drugs developed in part by A.I.",
          "\"However, the introduction of ChatGPT, which allows anyone to easily produce writing or translations or to engage in text-based dialogue, sparked the rapid spread of generative AIs.",
          null
         ],
         "marker": {
          "opacity": 0.5,
          "size": 5
         },
         "mode": "markers+text",
         "name": "Impact of ChatGPT on Text Generation",
         "text": [
          "",
          "",
          "",
          "",
          "",
          "",
          "",
          "",
          "",
          "",
          "",
          "",
          "",
          "",
          "",
          "Impact of ChatGPT on Text Generation"
         ],
         "textfont": {
          "size": 12
         },
         "type": "scattergl",
         "x": {
          "bdata": "aMXCQK/qwkAXi8dAZMvAQJUIxEBdzcFA75y4QBZYxkDU+8JAN8jEQBbgxUAKbcNAWL/EQGJGw0A8JMRADTTDQA==",
          "dtype": "f4"
         },
         "y": {
          "bdata": "fXUeQdSkHkFm/BxBlkMcQXLRHkEboB1B02cTQdnHHEFpZx5BsLIdQVWoHEFkZB5Bz/0dQQHQHUGN/x5BDCEdQQ==",
          "dtype": "f4"
         }
        },
        {
         "hoverinfo": "text",
         "hovertext": [
          "They’re not just jumping on trends — they’re showing they’re in on the joke.”\nAccording to research by GWI, 76% of Gen Z uses TikTok to watch funny videos, and Lifewire reports 57% prefer short videos for product research.",
          "De Nittis notes that brands leveraging this meme-based chaos aren’t doing it for laughs — they’re using it to inject themselves into the fast-moving, low-effort humor loops Gen Z thrives on.",
          "“Ryanair succeeds not because they post Brainrot content,” De Nittis writes, “but because their version is still very Ryanair — cheap, cheeky, and chaotic.",
          "Ryanair’s version hit 150,000 views, and Samsung Belgium's remix trended hard in early April.",
          "[26] The Italian brainrot AI trend was widely adopted by advertisers to adjust well to younger audiences.",
          "Why Brands Are Embracing 'Italian Brainrot' to Go Viral on TikTok and Win Over Gen Z\nNews provided by\nApr 15, 2025, 2:30 AM ET\nHuman Centric Group decodes the viral Italian Brainrot trend and explains why it’s more than just a meme for brands chasing Gen Z.",
          "Media Enquiries\nHUMAN CENTRIC GROUP LTD\n+44 20 3693 4480\nemail us here\nVisit us on social media:\nLinkedIn\nInstagram\nTikTok\nItalian Brainrot Animals\nLegal Disclaimer:\nEIN Presswire provides this news content \"as is\" without warranty of any kind.",
          "De Nittis’ article, published today on Human Centric Group’s website, breaks down how brands like Ryanair and Samsung are jumping on the trend and seeing six-figure engagement spikes — all while barely lifting a production finger.",
          "“Italian Brainrot is ridiculous — and that’s the point,” says De Nittis.",
          "It's loud, messy, and wildly popular — exactly the kind of content that sticks with Gen Z.",
          "About The Author\nFrancesco De Nittis is manager at Human Centric Group.",
          "So, what is Italian Brainrot?",
          "About Human Centric Group\nHuman Centric Group is a boutique branding agency based in London, working with global leaders like Danone, Ikea, PepsiCo, and Carlsberg.",
          "Italian Brainrot hits the sweet spot: it’s fast, memeable, and demands zero cognitive load.",
          "- ^ \"Why Brands Are Embracing 'Italian Brainrot' to Go Viral on TikTok and Win Over Gen Z\".",
          null
         ],
         "marker": {
          "opacity": 0.5,
          "size": 5
         },
         "mode": "markers+text",
         "name": "Italian Brainrot Trend Analysis",
         "text": [
          "",
          "",
          "",
          "",
          "",
          "",
          "",
          "",
          "",
          "",
          "",
          "",
          "",
          "",
          "",
          "Italian Brainrot Trend Analysis"
         ],
         "textfont": {
          "size": 12
         },
         "type": "scattergl",
         "x": {
          "bdata": "WEpMQGR1SUDA2kBAqRxBQCV6QkCg4ERAxjREQGjrQECWU0NAP0BLQJpSQUCN+kNATBBEQIi5QkDb60VA65VEQA==",
          "dtype": "f4"
         },
         "y": {
          "bdata": "w2AWQe2XFkFJ/hhB+ckYQXlZGUHbXhhBhtAYQRBlGEGpkxlBdFYVQU9jGUExHxlBMgIZQXlgGUGhXxhBHmQYQQ==",
          "dtype": "f4"
         }
        },
        {
         "hoverinfo": "text",
         "hovertext": [
          "Of course, Spotify and Coca-Cola aren’t alone in receiving criticism for outsourcing creativity to algorithms.",
          "Wrapped 2024’s end-of-year offering may have been as entertaining as receiving a lump of coal for Christmas, but if Spotify can learn from its misstep, it may prove the greatest gift yet.",
          "Spotify Wrapped was famously created by an intern.",
          "(In a sense, so does Spotify, though we call those payments “royalties.”)\nTake, as a case study in the slop economy, Facebook.",
          "The most jarring aspect of this promotion is the voiceover.",
          "Many Spotify users eagerly await the annual review of their listening habits shown in Spotify Wrapped.",
          "These end-of-year recaps are often considered a masterclass in personalised marketing and have helped the streaming company build brand loyalty and inspired other companies outside of the music sector to launch their own data-driven roundups.",
          "What made Spotify Wrapped genius wasn’t its super-specific genres but its ability to encourage connection and reflection among users.",
          "Many Spotify users eagerly await the annual review of their listening habits shown in Spotify Wrapped.",
          "Similarly, Spotify’s new Wrapped AI podcast feature, where AI podcast ‘hosts’ outline and comment on users’ stats, left listeners cold.",
          "Everyone who idly scrolls through Facebook or TikTok or Twitter on their phone, who puts Spotify on autoplay, or who buys the cheapest recipe book on Amazon is creating the demand.",
          "These end-of-year recaps are often considered a masterclass in personalised marketing and have helped the streaming company build brand loyalty and inspired other companies outside of the music sector to launch their own data-driven roundups.",
          "Spotify wasn’t the only brand to face backlash from fans due to uses of AI.",
          "Similarly, Spotify’s new Wrapped AI podcast feature, where AI podcast ‘hosts’ outline and comment on users’ stats, left listeners cold.",
          null
         ],
         "marker": {
          "opacity": 0.5,
          "size": 5
         },
         "mode": "markers+text",
         "name": "Spotify Wrapped AI Podcast",
         "text": [
          "",
          "",
          "",
          "",
          "",
          "",
          "",
          "",
          "",
          "",
          "",
          "",
          "",
          "",
          "Spotify Wrapped AI Podcast"
         ],
         "textfont": {
          "size": 12
         },
         "type": "scattergl",
         "x": {
          "bdata": "ILECQCfKDUC3dQ5AgPgJQOXaGkAM7A1AlQ4TQMyFD0DzfA5AIGoOQHgxDUC5/hJASrUNQGZgDkCyrA5A",
          "dtype": "f4"
         },
         "y": {
          "bdata": "rBslQXuUJEHtbiRBKiUkQXBdIUFUlSRBxeEjQeA5JEEncCRBoHUkQSUgJEHc0CNBCI8kQSV7JEFCKCRB",
          "dtype": "f4"
         }
        },
        {
         "hoverinfo": "text",
         "hovertext": [
          "\"Surely they could’ve afforded to hire actors/designers/editors/etc.",
          "“It was just strange, and they were really cheaply made.",
          "But when she arrived to the dress rehearsal and saw the script, she too had misgivings.",
          "“They were so inappropriate for what it was,” said Paterson.",
          "“At the end of my monologue, I was supposed to suck up the unknown man with a vacuum cleaner.",
          "They were just as gobsmacked as everyone else.",
          "to make this?\"",
          "I asked them if they had a vacuum cleaner and they said, ‘Yeah, we haven’t really got there yet, so just improvise,’” per the Independent.",
          "What they found when they arrived was a scene straight out of the Saw franchise.",
          "The costumes were similarly subpar.",
          "Per Connell, he was hired a few days before the event, then was handed an “AI-generated gibberish” script and told he could “do whatever you want.” Kirsty Paterson, an aspiring actor/fire dancer/yoga instructor who portrayed an Oompah Loompa that went viral, told Vulture she took the job because it offered £500 for two days of work.",
          "” He points to a giant house that looks like a mushroom: “People find things like this very attractive.",
          "“I was like, I don’t know if I actually want to do this,” said Paterson, per Vulture, when she arrived for the gig the next day.",
          null
         ],
         "marker": {
          "opacity": 0.5,
          "size": 5
         },
         "mode": "markers+text",
         "name": "Amateur Performances and Low-Quality Scripts",
         "text": [
          "",
          "",
          "",
          "",
          "",
          "",
          "",
          "",
          "",
          "",
          "",
          "",
          "",
          "Amateur Performances and Low-Quality Scripts"
         ],
         "textfont": {
          "size": 12
         },
         "type": "scattergl",
         "x": {
          "bdata": "/UjaP4pG3D8WcMk/daTKPyqK3j+Se74/pfnrPxG13T9NY9A/DAa2P+rQyD+Cxec/Rz3IP6mB0j8=",
          "dtype": "f4"
         },
         "y": {
          "bdata": "sD/tQOpU7kB/De1AXB7tQJz88ED8ffZACAjwQEii8UD5AvBAJav0QBGC7kBaVetAKrDtQKCf70A=",
          "dtype": "f4"
         }
        },
        {
         "hoverinfo": "text",
         "hovertext": [
          "Another image of a gloved hand was used to show off a new Zombies community event.",
          "A particular example was a loading screen for the zombies game mode that depicted \"Necroclaus\", a zombified Santa Claus with six fingers on one hand, an image which also had other irregularities.",
          "At the centre of the backlash is a loading screen image of Zombie Santa, aka 'Necroclaus,' which some have said shows the undead Father Christmas with six fingers.",
          "One loading screen included a black glove with six fingers holding billiard balls.",
          "Loading screens depicted hands with extra digits, a tell-tale sign of work produced by algorithms built on stealing other artists’ work, but not knowing how to count.",
          "A set of sexy vampire calling cards raised red flags again in early November, with fans pointing at different parts of the art that looked oddly rendered.",
          "The release of the Zombie Santa image sparked a closer look at other images in Black Ops 6, which some in the Call of Duty community have now called into question.",
          "The second was a zombie Santa holding up hand that had six fingers.",
          "It contains what looks like six fingers with no thumb on-screen, suggesting up to seven digits on this hand.",
          "Others, however, believe the bottom left 'finger' is simply flesh falling off the little finger above it, although there are irregularities with the present boxes and ribbons in the bottom right, too.",
          "The appearance of the Zombie Santa was even worse in the context of Zombies mode’s voice actors being replaced amid a SAG-AFTRA strike for greater AI protections in game acting.",
          "\"Call of Duty Fans Give Black Ops 6's Zombie Santa Loading Screen the Finger Amid 'AI Slop' Backlash\".",
          "Following the release of the Season 1 Reloaded update, fans noticed a number of telltale signs in Black Ops 6 loading screens, calling cards, and art used to explain how Zombies community events work.",
          null
         ],
         "marker": {
          "opacity": 0.5,
          "size": 5
         },
         "mode": "markers+text",
         "name": "Zombie Santa Loading Screen Backlash",
         "text": [
          "",
          "",
          "",
          "",
          "",
          "",
          "",
          "",
          "",
          "",
          "",
          "",
          "",
          "Zombie Santa Loading Screen Backlash"
         ],
         "textfont": {
          "size": 12
         },
         "type": "scattergl",
         "x": {
          "bdata": "ci17QOzXeUB61XtAz555QBIye0AUK39AE0qAQOa4e0BvyHlAvdd4QNP3gUATd4FA4HCBQOJYfUA=",
          "dtype": "f4"
         },
         "y": {
          "bdata": "tlIzQfG5MkHxTjNBXPEyQVimMkElJjNB4tkzQdZeM0EN5jJBTeQyQTsdMkGXSjRBOJI0Qc88M0E=",
          "dtype": "f4"
         }
        },
        {
         "hoverinfo": "text",
         "hovertext": [
          "The posts would be laughable if they weren’t taken by many people as gospel.",
          "Common themes involve old people holding a birthday cake asking you to wish them a happy birthday; babies doing things babies shouldn't do; snakes eating buses, bikes, or other vehicles overloaded with hundreds of babies or some other cargo; soldiers with prosthetic legs; women with missing limbs and huge busts; and Jesus.",
          "There’s the homeless vet with the badly worded sign, cops carrying massive bibles, and—of course—Shrimp Jesus.",
          "“I’m seeing little evidence yet that users are actively demanding such content in their feeds.”\nIn March, Facebook users began to notice a flood of images featuring Jesus Christ mixed with a crustacean rising from the sea.",
          "Jesus' head on a fried chicken.",
          "Actually, there are few others about animals.",
          "Elon Musk riding a UFO, “Shrimp Jesus” and tiny children baking impossibly perfect birthday cakes.",
          "This is the Shrimp Jesus kind of slop: bizarre, obviously fake, and sometimes vaguely unsettling in a trypophobia-triggering way.",
          "These “Shrimp Jesus” posts garnered hundreds of thousands of interactions and tens of millions of views.",
          "One of the most famous of these images is “Shrimp Jesus,” a statuelike Jesus figure bobbing just underwater, his limbs and torso made entirely of the bristling chitinous bodies of shrimp.",
          "One squirrel-like character appears to be missing half a face.",
          "It’s helpful to think of these photos and illustrations not as nefarious deepfakes or even hyper-persuasive propaganda, but as digital chum—Shrimp Jesus on the campaign trail.",
          "Image-generated slop has also blossomed on Facebook, as images of Jesus Christ with prawns for limbs, children in plastic bottle-cars, fake dream homes and improbably old women claiming to have baked their 122nd birthday cake garner thousands of shares.",
          null
         ],
         "marker": {
          "opacity": 0.5,
          "size": 5
         },
         "mode": "markers+text",
         "name": "Viral Internet Meme Culture",
         "text": [
          "",
          "",
          "",
          "",
          "",
          "",
          "",
          "",
          "",
          "",
          "",
          "",
          "",
          "Viral Internet Meme Culture"
         ],
         "textfont": {
          "size": 12
         },
         "type": "scattergl",
         "x": {
          "bdata": "Wcq/QNJuxUA0K8dAEOXFQOItyECtP75A1OzGQMWbx0AoqcVArDLHQFu4wkCY3MZA2XfFQHsqxUA=",
          "dtype": "f4"
         },
         "y": {
          "bdata": "dYHoQGXW5kCywuRAw0zmQERI5EAlrt1AVQrmQGXB5EAz4ORAzMTkQGZn3kAjDOZAmD/oQDG75EA=",
          "dtype": "f4"
         }
        },
        {
         "hoverinfo": "text",
         "hovertext": [
          "ISSN 1059-1028.",
          "®",
          "Advertisement",
          "Our business model is Google Ads.",
          "Inverse.",
          "Google Ads and affiliate marketing.",
          "Then, they generate a preview for their ad.",
          "Advertisement",
          "in its ads.",
          "Advertisement",
          "“Although there’s some skepticism and acceptance, reluctance to accept these types of ads by consumers, I think that the benefits sort of outweigh that, and I believe that companies are going to continue using it over time.”",
          "The Register.",
          "Advertisement",
          null
         ],
         "marker": {
          "opacity": 0.5,
          "size": 5
         },
         "mode": "markers+text",
         "name": "Advertising and Affiliate Marketing",
         "text": [
          "",
          "",
          "",
          "",
          "",
          "",
          "",
          "",
          "",
          "",
          "",
          "",
          "",
          "Advertising and Affiliate Marketing"
         ],
         "textfont": {
          "size": 12
         },
         "type": "scattergl",
         "x": {
          "bdata": "rw5mQCgDaEBKfHRAzod2QL9JcECX2HNALUeZQCgJdEBvb3RACxJ0QKs8d0BbL3FAJXtxQOGhdkA=",
          "dtype": "f4"
         },
         "y": {
          "bdata": "BU3vQC1V8UAi1vZAJmP5QIYF9UC1MftAaSnrQLym9kCqk/ZA+pz2QINH+0A+ufRA4Ef1QNtV9UA=",
          "dtype": "f4"
         }
        },
        {
         "hoverinfo": "text",
         "hovertext": [
          "The original post continues below.",
          "summary but a whole stack of “sponsored” results as well.",
          "It’s a huge topic, but only for one day.",
          "Related topics\n- Published1 November 2024",
          "If you have any complaints or copyright issues related to this article, kindly contact the author above.",
          "Overview is being presented as a definitive answer, rather than as a place to start an internet user’s research into a given subject.",
          "We have other articles, we have other websites.",
          "overviews.",
          "Then it describes them in great detail, each one with its own paragraph.",
          "Read the rest of the series.",
          "The full article is available here.",
          "But the full story is more complex.",
          "Unfortunately I do not have enough information to summarize further within the provided guidelines.",
          null
         ],
         "marker": {
          "opacity": 0.5,
          "size": 5
         },
         "mode": "markers+text",
         "name": "Document Description and Guidelines",
         "text": [
          "",
          "",
          "",
          "",
          "",
          "",
          "",
          "",
          "",
          "",
          "",
          "",
          "",
          "Document Description and Guidelines"
         ],
         "textfont": {
          "size": 12
         },
         "type": "scattergl",
         "x": {
          "bdata": "5GpoQCQBa0CaWGtAEY5qQH0bf0DFnGhAo0F+QO0DaUDUGmVA+lBoQLZ2bUDLe2FAC6llQGDfa0A=",
          "dtype": "f4"
         },
         "y": {
          "bdata": "+qncQP/I4EC8/eVAwKDkQPwK4kC1Bt9APbLoQMid30Cjbt1A9STdQAsQ4kBRZt1APt3eQODL4EA=",
          "dtype": "f4"
         }
        },
        {
         "hoverinfo": "text",
         "hovertext": [
          "MySpiritHalloween.com owner Nazir Ali is one of them.",
          "Would you be comfortable telling me about the reports that you’re based in Pakistan?",
          "It was “not on purpose.”\nMr. Ali, who owns at least five other websites, declined to say where he was based, but said that MySpiritHalloween.com used artificial intelligence to generate its content.",
          "Bertie Brosnan is a social media content creator and filmmaker who went to livestream the event.",
          "“Some of the events cited around the world were real, and it is the conjunction of the real and fake which makes the hoax convincing.”\nWhen he realized the mistake, Mr. Ali said, he removed the event from the website.",
          "Nazir Ali: Ask anything.",
          "People will blame the country if I say I'm from Dubai, then whenever you write an article, if you say that a guy from Pakistan, a guy from India, guy from Ireland, a guy from the UAE, it actually hurts some of the citizens of that country.",
          "But I don't want to actually reveal their nationalities.",
          "\"I was duped,” Bertie told BBC News NI.",
          "So your name is Nazir Ali, but when you say “we”—\nWe are not going to give you any personal information that might be harmful for us.",
          "WIRED spoke with Ali via Google Meet to get his side of the story.",
          "The owner of the website, Nazir Ali, said on Friday morning that he had not intended to dupe anybody, claiming the whole thing was a mistake.",
          null
         ],
         "marker": {
          "opacity": 0.5,
          "size": 5
         },
         "mode": "markers+text",
         "name": "Website Owner's Fake Content Admission",
         "text": [
          "",
          "",
          "",
          "",
          "",
          "",
          "",
          "",
          "",
          "",
          "",
          "",
          "Website Owner's Fake Content Admission"
         ],
         "textfont": {
          "size": 12
         },
         "type": "scattergl",
         "x": {
          "bdata": "2g4eQMLUJECYjSFALS4GQFePHUBOiB5AM3onQGvSIUBY7xFAXhUjQFB8HUBYwxtAqzAdQA==",
          "dtype": "f4"
         },
         "y": {
          "bdata": "pwPLQOuAykAHYMtANm3KQIxzy0C428pA+P3MQNxFyUCjScpAB9XIQJ31zEB4KcpAONjKQA==",
          "dtype": "f4"
         }
        },
        {
         "hoverinfo": "text",
         "hovertext": [
          "- AI Art Mishaps: Distorted images and unnatural features in AI-generated visuals are telltale signs of low-quality output.",
          "In the most recent season of True Detective, a heavy-metal poster in the background of one scene was obviously and cheaply AI-generated.",
          "“Every image is AI generated along with all the gibberish text it try’s to create.",
          "A spokesperson for deepfake detection company Reality Defender said that according to their platform, the headshot is 85 percent likely to be AI-generated.",
          "It’s possible that, later on, AI-art tools will train on these distorted depictions, creating warped, digitally inbred representations of historical figures.",
          "[47][48] Several low-quality AI-generated images were used as interstitial title cards, with one image featuring a skeleton with inaccurate bone structure and poorly-generated fingers that appear disconnected from its hands.",
          "Indeed, I feel comfortable saying it’s AI-generated only because a watermark on Diane’s author photo credits it to the AI that powers the fake-portrait website ThisPersonDoesNotExist.com.",
          "Across Facebook, X, Instagram and TikTok, surreal AI images have been plaguing news feeds, typically accompanied by nonsensical captions in broken English.",
          "In recent weeks, far-right corners of social media have been clogged with such depictions, created with generative-AI tools.",
          "On the subway, ads for the secondhand-furniture website Kaiyo feature images with oddly levitating pedestrians and signs written in the dream glyphs typical of image generators’ attempts at text.",
          "AI image generators like OpenAI's DALL-E do not handle words well, and one picture promises \"enchering entertainment, catgacating, live performmances, cartchy tuns, exarserdray lollipops, a pasadise of sweet teats,\" whatever any of that means.",
          "Artwork for the latter game, hosted on Facebook, again shows obvious use of AI image generation.",
          null
         ],
         "marker": {
          "opacity": 0.5,
          "size": 5
         },
         "mode": "markers+text",
         "name": "AI-Generated Image Quality Issues",
         "text": [
          "",
          "",
          "",
          "",
          "",
          "",
          "",
          "",
          "",
          "",
          "",
          "",
          "AI-Generated Image Quality Issues"
         ],
         "textfont": {
          "size": 12
         },
         "type": "scattergl",
         "x": {
          "bdata": "kZa8QCb8uUDeq7xA85i4QD4MvUB8zr1AK0a3QLCiuUBNELtABte8QNlpvkBzzrlAkE+7QA==",
          "dtype": "f4"
         },
         "y": {
          "bdata": "/3oHQRTQBkEWvAdBxhcBQU4/BUHFsQdBboECQc1rA0HJMAhBROADQUPTBkHINANBMlcFQQ==",
          "dtype": "f4"
         }
        },
        {
         "hoverinfo": "text",
         "hovertext": [
          "This makes them dangerous to people who cannot abide by the agonizing constraints of reality, as well as those who have financial and political interests in keeping up the charade.",
          "The same goes for journalists, election workers, scientists, doctors, and first responders.",
          "Americans are divided not just by political beliefs but by whether they believe in a shared reality—or desire one at all.",
          "This collides with a swath of people who would rather live in an alternate reality built on distrust and grievance than change their fundamental beliefs about the world.",
          "Nor does it explain what is really happening, which is nothing less than a cultural assault on any person or institution that operates in reality.",
          "[4]\nIn politics\n[edit]The examples and perspective in this section deal primarily with the United States and do not represent a worldwide view of the subject.",
          "I’m Running Out of Ways to Explain How Bad This Is\nWhat’s happening in America today is something darker than a misinformation crisis.",
          "But in turning away, they exacerbate a crisis that has characterized the Trump era, one that will reverberate to Election Day and beyond.",
          "The world feels dark; for many people, it’s tempting to meet that with a retreat into the delusion that they’ve got everything figured out, that the powers that be have conspired against them directly.",
          "ET on October 11, 2024\nThe truth is, it’s getting harder to describe the extent to which a meaningful percentage of Americans have dissociated from reality.",
          "It is a strategy designed to silence voices of reason, because those voices threaten to expose the cracks in their current worldview.",
          null
         ],
         "marker": {
          "opacity": 0.5,
          "size": 5
         },
         "mode": "markers+text",
         "name": "American Cultural Reality Divide",
         "text": [
          "",
          "",
          "",
          "",
          "",
          "",
          "",
          "",
          "",
          "",
          "",
          "American Cultural Reality Divide"
         ],
         "textfont": {
          "size": 12
         },
         "type": "scattergl",
         "x": {
          "bdata": "VDyPQPtZjEB8wo9A51qNQAe3jEAxRI5A7BCJQPywj0BWroxAL2uOQIS7j0CJwI1A",
          "dtype": "f4"
         },
         "y": {
          "bdata": "qjiuQLCRqEA2/rNAibOzQGTlskDF/bRAeIyyQPLls0AKaLJATC+0QBmfr0DrurFA",
          "dtype": "f4"
         }
        },
        {
         "hoverinfo": "text",
         "hovertext": [
          "\"Artificial intelligence (AI) and its potential implications had for some time largely been subjects of academic debate,\" he wrote.",
          "“We didn’t start by saying: ‘OK, we need to do this with AI,’” he said.",
          "Okay, AI was involved.",
          "I want to ask about the AI of it all—\nI’ll explain it to you.",
          "In his own way, Trump has shown us all the limits of artificial intelligence.",
          "Related: These Days, Everything Is 'Powered By AI.'",
          "We were 80 percent involved.",
          "\"Artificial intelligence (AI) and its potential implications had for some time largely been subjects of academic debate,\" he said of AI development in 2023.",
          "Kiryu began by talking about how AI and its \"potential implications\" have long been the subject of \"academic debate.\"",
          "\"However, we did want to experiment with AI as well.",
          "AI was involved 10 percent or 20 percent.",
          null
         ],
         "marker": {
          "opacity": 0.5,
          "size": 5
         },
         "mode": "markers+text",
         "name": "Academic Debate on AI Potential",
         "text": [
          "",
          "",
          "",
          "",
          "",
          "",
          "",
          "",
          "",
          "",
          "",
          "Academic Debate on AI Potential"
         ],
         "textfont": {
          "size": 12
         },
         "type": "scattergl",
         "x": {
          "bdata": "sKmlQLkrp0Cm8KhAhWqrQP5MqEBgGKlA0qfVP9AapECN3KZAJ0GlQKA3qEB1IZ1A",
          "dtype": "f4"
         },
         "y": {
          "bdata": "Z9EcQTFtHEGE1hxB8UEbQUAjHEEDSRxBQzTYQI0UHEGOoh1BgY0cQQ0NHkHUMhhB",
          "dtype": "f4"
         }
        },
        {
         "hoverinfo": "text",
         "hovertext": [
          "This is not a scam.",
          "But we are not wrong, and we are not scammers.",
          "Then we would be scammers, but we don’t do it, because it is illegal and prohibited.",
          "If we wanted to scam people, we can easily do so by selling fake tickets.",
          "“I looked at the website and I thought it was legit.",
          "I know an awful lot of people turned up.",
          "And you guys should not say that we are the scammers, unless you actually know it, unless you ask us.",
          "Everyone is writing about us, and they are telling us that we are scammers.",
          "They're calling us scammers, saying that we scammed.",
          "For the majority of these pages, there is no obvious scam at play, no ads or external links — no business model at all, just eerily contextless pages publishing demented nonsense into a void.",
          "We know that the original source of these things was side-hustle scams,” Clarke told me.",
          null
         ],
         "marker": {
          "opacity": 0.5,
          "size": 5
         },
         "mode": "markers+text",
         "name": "Evaluating Online Scam Allegations",
         "text": [
          "",
          "",
          "",
          "",
          "",
          "",
          "",
          "",
          "",
          "",
          "",
          "Evaluating Online Scam Allegations"
         ],
         "textfont": {
          "size": 12
         },
         "type": "scattergl",
         "x": {
          "bdata": "2fYDQEfPA0A71wNAZCn9P5LdJ0C2hEpAaAwFQBO9A0B7aQRAwZIGQP5AhEBdiBlA",
          "dtype": "f4"
         },
         "y": {
          "bdata": "Qam3QKx4t0C0NrdAfLC4QEY4zEB6LMdA4Gy3QJSpt0BAw7dAYaG4QDyC0kAcfr1A",
          "dtype": "f4"
         }
        },
        {
         "hoverinfo": "text",
         "hovertext": [
          "Retrieved 4 October 2024.",
          "Retrieved 15 October 2024.",
          "Retrieved 1 November 2024.",
          "Retrieved 4 October 2024.",
          "Retrieved 15 October 2024.",
          "Retrieved 6 October 2024.",
          "Retrieved 4 November 2024.",
          "Retrieved 4 November 2024.",
          "Retrieved 14 November 2024.",
          "Retrieved 3 November 2024.",
          "Retrieved 1 November 2024.",
          null
         ],
         "marker": {
          "opacity": 0.5,
          "size": 5
         },
         "mode": "markers+text",
         "name": "Document Retrieval Dates 2024",
         "text": [
          "",
          "",
          "",
          "",
          "",
          "",
          "",
          "",
          "",
          "",
          "",
          "Document Retrieval Dates 2024"
         ],
         "textfont": {
          "size": 12
         },
         "type": "scattergl",
         "x": {
          "bdata": "VasjQaqvI0GSlSNBVqojQbyvI0EIySNB0JkjQaeZI0HVkSNBe48jQd0rI0EfmSNB",
          "dtype": "f4"
         },
         "y": {
          "bdata": "okY6wMFOOsCpJzrAzUQ6wItPOsCFDjrAYy46wMQtOsBmGTrArxU6wGbiOMCwEjrA",
          "dtype": "f4"
         }
        },
        {
         "hoverinfo": "text",
         "hovertext": [
          "\"Activision Reportedly Sold an AI-Generated Call of Duty: Modern Warfare 3 Cosmetic\".",
          "Wired pointed out that Microsoft, which owns Activision Blizzard after its $69 billion acquisition of the company last year, cut 1,900 staff from its gaming business just months after Activision sold this skin.",
          "In July, Wired reported that Activision sold an “AI-generated cosmetic” for Call of Duty: Modern Warfare 3 last year.",
          "Now Activision is owned by Microsoft, which touted the largest launch ever for Black Ops 6 last fall thanks in part to Game Pass, and has itself been moving full-steam ahead with trying to incorporate generative AI into game development.",
          "Wired pointed out that Microsoft, which owns Activision Blizzard after its $69 billion acquisition of the company last year, cut 1,900 staff from its gaming business just months after Activision sold this skin.",
          "Activision reportedly sold an “AI-generated cosmetic” for Call of Duty: Modern Warfare 3 in late 2023.",
          "IGN has asked Activision for comment.",
          "IGN has asked Activision for comment.",
          "The cosmetic in question was not named, but was linked to the Yokai’s Wrath bundle released in December 2023.",
          "In a report from Wired on the impact of generative AI on the video game development industry and concern among many within it about the threat to their livelihoods, it is alleged that Activision “made an AI-generated cosmetic available for purchase on the Call of Duty: Modern Warfare 3 store.”\nThe cosmetic in question is not named in the article, but it is linked to: the Yokai’s Wrath bundle released in December 2023.",
          "[36] The previous entry in the Call of Duty franchise was also accused of selling AI-generated cosmetics.",
          null
         ],
         "marker": {
          "opacity": 0.5,
          "size": 5
         },
         "mode": "markers+text",
         "name": "Activision AI-Generated Game Cosmetics",
         "text": [
          "",
          "",
          "",
          "",
          "",
          "",
          "",
          "",
          "",
          "",
          "",
          "Activision AI-Generated Game Cosmetics"
         ],
         "textfont": {
          "size": 12
         },
         "type": "scattergl",
         "x": {
          "bdata": "IZyQQPNJkEDVRZJAzg2MQMD6j0BnXJJAwT+RQNU0kUCOXJJAaKaRQHqbkUBb4JBA",
          "dtype": "f4"
         },
         "y": {
          "bdata": "kEk7QQaEO0GDfjtBKqI5QbjrO0FUqjtBKgw4QekIOEHkUzxBL+Q7QZjHO0Fd3zpB",
          "dtype": "f4"
         }
        },
        {
         "hoverinfo": "text",
         "hovertext": [
          "\"Last year we redefined our overarching mission and goals for these three fields.",
          "We are currently working to modify our organisational structure and optimise our resource allocations to support these efforts.\"",
          "In the longer term, we hope to leverage those technologies to create new forms of content for consumers, as we believe that technological innovation represents business opportunities.\"",
          "In the longer term, we hope to leverage those technologies to create new forms of content for consumers, as we believe that technological innovation represents business opportunities,” the letter read.",
          "Known for blending deep market insight with human-first storytelling, HCG helps companies create strategies that resonate across cultures and platforms.",
          "Here's How to Tell Hype From Real Innovation.",
          "There is a role for technology to play in this space.",
          "\"In the short term, our goal will be to enhance our development productivity and achieve greater sophistication in our marketing efforts.",
          "\"In the longer term, we hope to leverage those technologies to create new forms of content for consumers, as we believe that technological innovation represents business opportunities. \"",
          "“In the short term, our goal will be to enhance our development productivity and achieve greater sophistication in our marketing efforts.",
          null
         ],
         "marker": {
          "opacity": 0.5,
          "size": 5
         },
         "mode": "markers+text",
         "name": "Technological Innovation and Content Development",
         "text": [
          "",
          "",
          "",
          "",
          "",
          "",
          "",
          "",
          "",
          "",
          "Technological Innovation and Content Development"
         ],
         "textfont": {
          "size": 12
         },
         "type": "scattergl",
         "x": {
          "bdata": "9FJTQLQQWECKD11AHiVfQKcqWUCtEllAjG5fQLxSVkDwTV1Am2VXQHMHWkA=",
          "dtype": "f4"
         },
         "y": {
          "bdata": "5TUPQdvLDUFChA1B3KYNQauADkF4Hw5BvhYOQYtBDkEyig1BkSAOQc4UDkE=",
          "dtype": "f4"
         }
        },
        {
         "hoverinfo": "text",
         "hovertext": [
          "Her new book, “The Dry Season,” chronicles a bold experiment in her search for self-knowledge.",
          "Searching “as of my knowledge cutoff” or “as an AI language model” in Google Books turns up hundreds of AI-generated “books” with titles like Hollywood’s 100 Leading Actors and Summary If the Woman in Me: A Guide to Britney Spears Memoir.",
          "The digital media provider Hoopla, which supplies libraries with ebooks and downloadable content, has generative AI books with fictional authors and dubious quality, which cost libraries money when checked out by unsuspecting patrons.",
          "So is a low-price digital book that seems like the one you were looking for, but not quite.",
          "When she's not writing or editing, you can find her reading fantasy novels or playing Dungeons & Dragons.",
          "The book was authored by Magda Tangy, who has no online footprint, and who has an AI-generated profile picture on Amazon, where her books are also for sale.",
          "Derek Sullivan, a cataloguer at a public-library system in Pennsylvania, told me that AI-generated books had begun to cross his desk regularly.",
          "[34]\nIn books\n[edit]Online booksellers and library vendors now have many titles that are written by AI and are not curated into collections by librarians.",
          "Is this a completely AI-generated object, a self-published pamphlet, or a book from a publishing house that recently slashed its marketing and editing budgets?",
          "If you look on Amazon, you’ll turn up some obviously legitimate books.",
          null
         ],
         "marker": {
          "opacity": 0.5,
          "size": 5
         },
         "mode": "markers+text",
         "name": "AI-Generated Books in Libraries",
         "text": [
          "",
          "",
          "",
          "",
          "",
          "",
          "",
          "",
          "",
          "",
          "AI-Generated Books in Libraries"
         ],
         "textfont": {
          "size": 12
         },
         "type": "scattergl",
         "x": {
          "bdata": "0ZfkQEqA5EC1letAUcLlQFaI5UBzmuVAA4HiQA/65kACx+JA1NnjQEhe5UA=",
          "dtype": "f4"
         },
         "y": {
          "bdata": "2wEaQR/0GUH2CRtBFIIZQZ/eGUEIoxlBO48YQQQkGkFM0RhB7x4ZQVKqGUE=",
          "dtype": "f4"
         }
        },
        {
         "hoverinfo": "text",
         "hovertext": [
          "Think AI-generated characters with names like Tralalero Tralala (a shark in sneakers) or Špijuniro Golubiro (a spy pigeon), yelling nonsense in robotic Italian while bouncing across chaotic, low-fi visuals.",
          "Several video game voice actors have also rallied against AI, including Grand Theft Auto 5 voice actor Ned Luke who called out a chatbot which used his voice.",
          "Earlier this month, SAG-AFTRA signed a deal with Replica Studios, an AI voice software company, that would allow performers to license their voice exclusively with the company for use in video game projects.",
          "Embark told IGN that \"making games without actors isn't an end goal\" and claimed it uses a mix of both recorded audio voices and audio generated via AI text to speech tools for its games, however.",
          "Most recently, Ned Luke, the voice actor behind Michael De Santa in Grand Theft Auto 5, called out a web3 company for using his voice as the basis of an unofficial AI chatbot.",
          "Looking to counter chatbots like the Grand Theft Auto one, Cissy Jones, a voice actor known for her roles in Disney's Owl House, Destiny 2: The Witch Queen, Shin Megami Tensei 5, and more, has started a company called Morpheme.ai to let voice actors embrace AI in their own way and gain control of their own voices going forward.",
          "The Witcher voice actor Doug Cockle also told IGN that AI was \"inevitable\" but \"dangerous\", sharing in Luke's assessment that chatbots and similar uses are \"effectively robbing [voice actors] of income\".",
          "The Finals, a free-to-play multiplayer shooter, was criticized by voice actors for its use of text-to-speech programs to generate voices.",
          "Video game voice actors have also called out AI-generated explicit Skyrim mods, and Assassin's Creed Syndicate voice actress Victoria Atkin called AI-generated mods the “invisible enemy we're fighting right now” after discovering her voice was used by cloning software.",
          "Embark Studios, the developer of smash hit shooter The Finals, was criticised for using AI voiceovers by myriad actors and even other developers, for example.",
          null
         ],
         "marker": {
          "opacity": 0.5,
          "size": 5
         },
         "mode": "markers+text",
         "name": "AI Impact on Voice Acting",
         "text": [
          "",
          "",
          "",
          "",
          "",
          "",
          "",
          "",
          "",
          "",
          "AI Impact on Voice Acting"
         ],
         "textfont": {
          "size": 12
         },
         "type": "scattergl",
         "x": {
          "bdata": "aSmJQNmjjEAdqotAiYuLQDg9jEBJ2oxANUyPQGbDikBEToxAGYWMQFYZjEA=",
          "dtype": "f4"
         },
         "y": {
          "bdata": "izUrQah1J0GJaChBiAgoQWjuJ0ElxydBc0UmQV7kJ0EwvCdBuRwoQUEVKEE=",
          "dtype": "f4"
         }
        },
        {
         "hoverinfo": "text",
         "hovertext": [
          "“After all, not one official confirmed the event was happening.",
          "But we never mentioned any tickets on the website.",
          "What happened at the event?",
          "Only prescreened customers were allowed in the drive-through, and those customers were not able to place orders—they just took whatever Trump handed to them.",
          "Tickets cost up to $44 per person.",
          "That would be very simple, but we didn't even mention the ticket thing.",
          "Some reported having traveled multiple hours and want their train fares covered.",
          "What did the organizers of the event have to say for it?",
          "The stinger is that the event run by The House of Illuminati cost £35 ($44) a ticket.",
          "The event had no affiliation with Roald Dahl’s estate or Warner Bros.",
          null
         ],
         "marker": {
          "opacity": 0.5,
          "size": 5
         },
         "mode": "markers+text",
         "name": "Controversial Event Ticket Pricing",
         "text": [
          "",
          "",
          "",
          "",
          "",
          "",
          "",
          "",
          "",
          "",
          "Controversial Event Ticket Pricing"
         ],
         "textfont": {
          "size": 12
         },
         "type": "scattergl",
         "x": {
          "bdata": "3lWCP7z9rz8XMos/Rum0P7c5sz/lZ68/xiyoP+gxhz9ybbA/D16PP0ZsoD8=",
          "dtype": "f4"
         },
         "y": {
          "bdata": "YZ/OQP/twkBkLtBAW+bJQPNXw0BcccRA6CzEQD2Gz0CDjMNAIwvLQDiSyEA=",
          "dtype": "f4"
         }
        },
        {
         "hoverinfo": "text",
         "hovertext": [
          "FEMA Administrator Deanne Criswell said that the volume of misinformation could hamper relief efforts.",
          "So much of the conversation around misinformation suggests that its primary job is to persuade.",
          "- Misinformation: Fact-checking is more important than ever.",
          "But as Michael Caulfield, an information researcher at the University of Washington, has argued, “The primary use of ‘misinformation’ is not to change the beliefs of other people at all.",
          "Misinformation is too technical, too freighted, and, after almost a decade of Trump, too political.",
          "But this is more than just a misinformation crisis.",
          "But the misinformation crisis is not always what we think it is.",
          "Instead, the vast majority of misinformation is offered as a service for people to maintain their beliefs in face of overwhelming evidence to the contrary.” This distinction is important, in part because it assigns agency to those who consume and share obviously fake information.",
          "And this is because of all the misinformation provided by the journalists.",
          null
         ],
         "marker": {
          "opacity": 0.5,
          "size": 5
         },
         "mode": "markers+text",
         "name": "Understanding Misinformation and Beliefs",
         "text": [
          "",
          "",
          "",
          "",
          "",
          "",
          "",
          "",
          "",
          "Understanding Misinformation and Beliefs"
         ],
         "textfont": {
          "size": 12
         },
         "type": "scattergl",
         "x": {
          "bdata": "GwaHQKXghkBXioVAY6eFQLcJh0DpoYdAh9OGQOpihkAph4hAhdWGQA==",
          "dtype": "f4"
         },
         "y": {
          "bdata": "HP2wQEB/sEDs8bBAVheyQIl8sEBLhLBAZRKxQELcsUDrcq9A5OCwQA==",
          "dtype": "f4"
         }
        },
        {
         "hoverinfo": "text",
         "hovertext": [
          "The parade never came—but the spectacle of throngs of people milling around for nothing became an event unto itself.",
          "He said it quickly dawned on him “because parades usually have barricades, security, police and some sort of organisation” and he could see no evidence of that, just “vast amounts of people”.",
          "The parade never even existed.",
          "When Mr Brosnan arrived, he realised quickly that the parade was not happening.",
          "There was no parade.",
          "How were so many people duped into lining up for a treat they didn’t get, a parade that never was?",
          "So many people had gathered for the nonexistent spectacle that the local police announced on social media around 8 p.m., an hour after the parade was supposed to begin, that no event was planned and asked the crowds to “disperse safely.”\nIt seemed like the ultimate trick.",
          "The parade was never coming.",
          "But they waited and waited (and waited), and a realization settled in: The parade hadn’t arrived.",
          null
         ],
         "marker": {
          "opacity": 0.5,
          "size": 5
         },
         "mode": "markers+text",
         "name": "The Fake Parade Plot",
         "text": [
          "",
          "",
          "",
          "",
          "",
          "",
          "",
          "",
          "",
          "The Fake Parade Plot"
         ],
         "textfont": {
          "size": 12
         },
         "type": "scattergl",
         "x": {
          "bdata": "YTjpPsvgnT5Dn/A+D1DkPhq87T7CSKQ+3oiXPj6Z9D7XKt4+l+3QPg==",
          "dtype": "f4"
         },
         "y": {
          "bdata": "cKq7QJd/u0AslrtABwS8QPpNvEB3vLtAYpq6QAXwu0B5VLxA8727QA==",
          "dtype": "f4"
         }
        },
        {
         "hoverinfo": "text",
         "hovertext": [
          "\"All those gathered on O’Connell Street in expectation of such a parade are asked to disperse safely.\"",
          "People waiting for a halloween parade.",
          "“All those gathered on O’Connell Street in expectation of such a parade are asked to disperse safely.”\nOne attendee said on X: “People waiting for a Halloween parade.",
          "\"The parade usually begins in the late afternoon, with festivities continuing into the evening.",
          "All those gathered on O’Connell Street in expectation of such a parade are asked to disperse safely.",
          "The post promised “spectacular floats to thrilling street performances” and described the route in detail.",
          "On Thursday, hundreds of people gathered on O'Connell Street in Dublin city centre for the parade but no police or stewards were present.",
          "Having a parade to go to sounded really good.",
          "To get the most out of the experience, arriving early to secure a good viewing spot is recommended, as the parade attracts large crowds and popular sections fill up quickly.\"",
          null
         ],
         "marker": {
          "opacity": 0.5,
          "size": 5
         },
         "mode": "markers+text",
         "name": "Halloween Parade on O'Connell Street",
         "text": [
          "",
          "",
          "",
          "",
          "",
          "",
          "",
          "",
          "",
          "Halloween Parade on O'Connell Street"
         ],
         "textfont": {
          "size": 12
         },
         "type": "scattergl",
         "x": {
          "bdata": "SlaOPdSvZb3pnaQ8LrRxO5a4ljynomg96nw2PFaEQD6EFnw9HMwpPQ==",
          "dtype": "f4"
         },
         "y": {
          "bdata": "W+S4QOvHt0Cqp7hAaQi4QPeFuEAHFbhArdu4QKoxuUBNh7dA5GS4QA==",
          "dtype": "f4"
         }
        },
        {
         "hoverinfo": "text",
         "hovertext": [
          "The culprit seems to be the website MySpiritHalloween.com, which contains a glut of Halloween event listings, costume tips and game ideas.",
          "We hired some content writers online, and they helped us out on all the Halloween events throughout the world: in the USA, in UK, and most importantly, Ireland.",
          "The My Spirit Halloween website falsely advertised the Macnas Halloween Parade would take place from 7pm to 9pm, with interest in it seeing the news ranking on Google.",
          "Would you be comfortable telling me how long you’ve had this Halloween website?",
          "The website includes listings of Halloween events in Ireland and other countries.",
          "The website, he said, compiled information from about 1,400 Halloween events from all over the world.",
          "The site curates Halloween events spanning the globe.",
          "The site lists Halloween events in multiple places, including in Britain, Ireland and the United States.",
          "It’s a terrible pity.”\nThe My Spirit Halloween listing appeared to have been taken down on Friday morning.",
          null
         ],
         "marker": {
          "opacity": 0.5,
          "size": 5
         },
         "mode": "markers+text",
         "name": "Halloween Event Listings and Advertising",
         "text": [
          "",
          "",
          "",
          "",
          "",
          "",
          "",
          "",
          "",
          "Halloween Event Listings and Advertising"
         ],
         "textfont": {
          "size": 12
         },
         "type": "scattergl",
         "x": {
          "bdata": "H03Lvp3D1r6gfI6+/6rPvmOUwL5Bt9a+tcXbvmyA3b522Mq+gy7Kvg==",
          "dtype": "f4"
         },
         "y": {
          "bdata": "bvHIQESxyEAugMBAQ0PGQC9/x0BEPMhApIXIQE8tyECmxMVAlPTGQA==",
          "dtype": "f4"
         }
        },
        {
         "hoverinfo": "text",
         "hovertext": [
          "On the other hand, making librarians buy into the entire catalog means that a customer looking for a book about how to diet for a healthier liver might end up borrowing Fatty Liver Diet Cookbook: 2000 Days of Simple and Flavorful Recipes for a Revitalized Liver.",
          "A key difference is that with OverDrive, librarians can pick and choose which books in OverDrive’s catalog they want to give their customers the option of borrowing.",
          "The cost of slop to libraries is serious, Sullivan said, “not just the cost of the books” but the cost of labor: It takes cataloguers longer to do their jobs when they’re wading through “an outpouring of valueless product.” Human artists, writers, journalists, musicians, and even TikTokers have more work to do too, competing not just with other humans but with the passable products of automated systems.",
          "On one hand, Hoopla’s gigantic catalog, which includes ebooks, audio books, and movies, is a selling point because it gives librarians access to more for cheaper price.",
          "The only way librarians can limit what Hoopla books their customers can borrow is by setting a limit on the price of books.",
          "With Hoopla, librarians have to opt into Hoopla’s entire catalog, then pay for whatever their customers choose to borrow from that catalog.",
          "Both companies have a variety of payment options for libraries, but generally libraries get access to the companies’ catalog of books and pay for customers to be able to borrow that book, with different books having different licenses and prices.",
          "For example, a library can use Hoopla but make it so their customers can only borrow books that cost the library $5 per use.",
          "Public libraries primarily use two companies to manage and lend ebooks: Hoopla and OverDrive, the latter of which people may know from its borrowing app, Libby.",
          null
         ],
         "marker": {
          "opacity": 0.5,
          "size": 5
         },
         "mode": "markers+text",
         "name": "Library Digital Media Licensing",
         "text": [
          "",
          "",
          "",
          "",
          "",
          "",
          "",
          "",
          "",
          "Library Digital Media Licensing"
         ],
         "textfont": {
          "size": 12
         },
         "type": "scattergl",
         "x": {
          "bdata": "bYzyQPw88kD0ovBAhYrxQKWh8kCIRvJAupzyQP9k8kBKN/JAHh/yQA==",
          "dtype": "f4"
         },
         "y": {
          "bdata": "UeocQcO1HEHwNhtBPJMcQdrwHEERuxxBlukcQYnWHEG4tBxBrJ0cQQ==",
          "dtype": "f4"
         }
        },
        {
         "hoverinfo": "text",
         "hovertext": [
          "The game failed, with Keywords citing to investors that AI was “unable to replace talent.”\nWesley is the UK News Editor for IGN.",
          "AI remains a hot-button topic in creative industries, emerging as a major point of contention in last year's Hollywood writers' and actors' strikes and in the current video game actor strike.",
          "Both were laughably egregious at the time, but also fostered fears that other less obvious examples might also have been AI-generated.",
          "AI technology has been seeping into game development to mixed reception.",
          "For instance, Keywords Studios attempted to create an experimental game internally using entirely AI.",
          "Regardless, AI has proved a controversial topic within video games and other creative industries.",
          "This year, AI took a turn in the spotlight.",
          "The game failed, with Keywords citing to investors that AI was “unable to replace talent.”\nVideo game console makers Microsoft and Sony are all-in on AI.",
          "For instance, Keywords Studios attempted to create an experimental game internally using entirely AI.",
          null
         ],
         "marker": {
          "opacity": 0.5,
          "size": 5
         },
         "mode": "markers+text",
         "name": "AI Controversy in Creative Industries",
         "text": [
          "",
          "",
          "",
          "",
          "",
          "",
          "",
          "",
          "",
          "AI Controversy in Creative Industries"
         ],
         "textfont": {
          "size": 12
         },
         "type": "scattergl",
         "x": {
          "bdata": "YPijQNzioUCWGKhAn1ilQHwPpkBxFqNAuLSoQAoGpUDQe6dAjISlQA==",
          "dtype": "f4"
         },
         "y": {
          "bdata": "suIiQTqFH0ECaiFBWvQhQUb0IEHvtyBB4vAdQQZ4IkEBdiFBCwkhQQ==",
          "dtype": "f4"
         }
        },
        {
         "hoverinfo": "text",
         "hovertext": [
          "As soon as we knew, we changed it.",
          "Just cross check!",
          "We own this mistake.",
          "Not only double, but triple check it.",
          "as we know it.",
          "This was not on purpose!",
          "This shows that this is a mistake.",
          "This was just a mistake.",
          "It is our mistake.",
          null
         ],
         "marker": {
          "opacity": 0.5,
          "size": 5
         },
         "mode": "markers+text",
         "name": "Acknowledgment of Mistakes",
         "text": [
          "",
          "",
          "",
          "",
          "",
          "",
          "",
          "",
          "",
          "Acknowledgment of Mistakes"
         ],
         "textfont": {
          "size": 12
         },
         "type": "scattergl",
         "x": {
          "bdata": "Ulw+QKURNECzozxAOBY1QHLyQUBgVT9AhWM+QI5yPUBKUTtAyhA8QA==",
          "dtype": "f4"
         },
         "y": {
          "bdata": "VMO+QKfRuUCfXL1AArO6QO6NvEAfGb5A1eS+QCb5vUDV275Afzm9QA==",
          "dtype": "f4"
         }
        },
        {
         "hoverinfo": "text",
         "hovertext": [
          "On the publishing front, Kiryu reveals the company wants to \"enable greater global collaboration and to promote the shift to digital.\"",
          "Details of the company's Web3 experience Symbiogenesis were revealed last year and Final Fantasy 7 trading card NFTs were released, but news of both has since gone quiet.",
          "Later in the letter Kiryu outlined the company's plans for 2024.",
          "You can read the full New Year's Letter from Takashi Kiryu here.",
          "These New Year's Letters have become a staple of New Year's Day recently, and previous ones have discussed the desire to explore NFTs, blockchain games, the metaverse, and more.",
          "CEO Takashi Kiryu has shared his annual new year letter, setting the tone for the company in 2024.",
          "The outline also includes a short mention of blockchain technology.",
          "Perhaps it's telling that Kiryu only briefly mentioned blockchain technology in this year's letter.",
          "The 2023 new year letter was written by then-CEO Yosuke Matsuda, which doubled down on blockchain technology and NFTs.",
          null
         ],
         "marker": {
          "opacity": 0.5,
          "size": 5
         },
         "mode": "markers+text",
         "name": "Takashi Kiryu's 2024 Blockchain Outlook",
         "text": [
          "",
          "",
          "",
          "",
          "",
          "",
          "",
          "",
          "",
          "Takashi Kiryu's 2024 Blockchain Outlook"
         ],
         "textfont": {
          "size": 12
         },
         "type": "scattergl",
         "x": {
          "bdata": "xPe3QBMSsUD0+LFA1ZuwQB3esEAS97FAdhaxQOL7sUCq8rBAbA2yQA==",
          "dtype": "f4"
         },
         "y": {
          "bdata": "0LBDQcwKRUGUz0VBUFxGQdq+RUGTzEVBr8VFQQ3cRUEy6EVB341FQQ==",
          "dtype": "f4"
         }
        },
        {
         "hoverinfo": "text",
         "hovertext": [
          "The video drew criticism from many creatives who argued that it was distasteful for the company to use AI technology to create the video instead of the work of artists.",
          "Feedback in the comments is rightfully resistant to the content, highlighting:\n\"Imagine how many up and coming voice actors would've literally jumped at the chance to narrate this video for free.\"",
          "In film and television\n[edit]Some films have received backlash for including AI-generated content.",
          "[21]\nIn March 2025, Paramount Pictures was criticized for using AI scripting and narration in an Instagram video promoting the film Novocaine.",
          "It drains any creative spark, making the movie feel cheap and uninspired.",
          "The irony is that AI-generated marketing is a terrible strategy for a film release.",
          "In a recent Instagram post, users sighted a reel promoting the film that blatantly utilizes AI scripting and narration - a content style that's lazy enough from spam accounts and content farms, let alone a major film production company.",
          "While budgets for film and marketing campaigns are complex, it is difficult to justify a corporation of this scale opting for AI-generated narration over human talent.",
          "- ^ \"Paramount skips voice actors, opting for shockingly bad AI slop in 'Novocaine' film promo\".",
          null
         ],
         "marker": {
          "opacity": 0.5,
          "size": 5
         },
         "mode": "markers+text",
         "name": "AI Usage in Film Promotion",
         "text": [
          "",
          "",
          "",
          "",
          "",
          "",
          "",
          "",
          "",
          "AI Usage in Film Promotion"
         ],
         "textfont": {
          "size": 12
         },
         "type": "scattergl",
         "x": {
          "bdata": "5guVQCoxjUD1q5hAkxKVQKCCkkDv3JVAPFyXQDa/lUARY49ALxiUQA==",
          "dtype": "f4"
         },
         "y": {
          "bdata": "XCEiQeFaI0HYiSFBEYQiQYbiIUGXLyFBYb8hQdB7IUGgCCRBVzUiQQ==",
          "dtype": "f4"
         }
        },
        {
         "hoverinfo": "text",
         "hovertext": [
          "Now Activision has admitted to using AI-generated assets in the hit multiplayer shooter on its Steam page.",
          "And as others have pointed out, Steam operator Valve now has AI disclosure rules that call on publishers and developers to describe how they use AI in the development and execution of their games.",
          "If and when they do, however, here's hoping Activision hires some actual humans to work on their artwork.",
          "“A lot of 2D artists were laid off,” one anonymous Activision artist told the site.",
          "Since the game's initial release, many players had accused Treyarch and Raven Software of using AI to create in-game assets, including loading screens, emblems, and calling cards.",
          "While it doesn’t elaborate any further on which assets are made with AI and how, the confession has reaffirmed what some fans had been claiming for months.",
          "“Remaining concept artists were then forced to use AI to aid in their work.” Activision employees were allegedly “made” to sign up for AI training, with its use promoted throughout the business.",
          "“Remaining concept artists were then forced to use AI to aid in their work.” Activision employees were allegedly “made” to sign up for AI training, with its use promoted throughout the business.",
          "“A lot of 2D artists were laid off,” one anonymous Activision artist told the site.",
          null
         ],
         "marker": {
          "opacity": 0.5,
          "size": 5
         },
         "mode": "markers+text",
         "name": "Activision Artist Layoffs and AI Use",
         "text": [
          "",
          "",
          "",
          "",
          "",
          "",
          "",
          "",
          "",
          "Activision Artist Layoffs and AI Use"
         ],
         "textfont": {
          "size": 12
         },
         "type": "scattergl",
         "x": {
          "bdata": "Uy+eQD+ql0BclJ1AREKdQAK3okDDBZ9AJbmdQEPdnUBtxJ1A3sCdQA==",
          "dtype": "f4"
         },
         "y": {
          "bdata": "GZUyQXfyM0HhhjJBCAsyQYhlL0GMnjJBwFUyQeh0MkGM6DFBpDMyQQ==",
          "dtype": "f4"
         }
        },
        {
         "hoverinfo": "text",
         "hovertext": [
          "Retrieved 29 September 2024.",
          "Retrieved 29 September 2024.",
          "Retrieved 28 September 2024.",
          "Retrieved 28 September 2024.",
          "Retrieved 29 September 2024.",
          "- ^ a b c d e Read, Max (25 September 2024).",
          "Retrieved 28 September 2024.",
          "Retrieved 29 September 2024.",
          "Retrieved 29 September 2024.",
          null
         ],
         "marker": {
          "opacity": 0.5,
          "size": 5
         },
         "mode": "markers+text",
         "name": "September 2024 Retrieval Records",
         "text": [
          "",
          "",
          "",
          "",
          "",
          "",
          "",
          "",
          "",
          "September 2024 Retrieval Records"
         ],
         "textfont": {
          "size": 12
         },
         "type": "scattergl",
         "x": {
          "bdata": "qrwHQKe8B0DkuwdAcr0HQIm8B0BZ4AdAcb0HQCu9B0AovQdA0MAHQA==",
          "dtype": "f4"
         },
         "y": {
          "bdata": "axlZv5YdWb9bPFm/4glZv8MjWb+oBFW/1AJZv9YLWb8861i/9J9Yvw==",
          "dtype": "f4"
         }
        },
        {
         "hoverinfo": "text",
         "hovertext": [
          "Retrieved 31 March 2025.",
          "Retrieved 31 March 2025.",
          "Retrieved 31 March 2025.",
          "Retrieved 26 February 2025.",
          "Retrieved 27 March 2025.",
          "Retrieved 26 February 2025.",
          "Retrieved 6 February 2025.",
          "Retrieved 26 February 2025.",
          "Retrieved 27 March 2025.",
          null
         ],
         "marker": {
          "opacity": 0.5,
          "size": 5
         },
         "mode": "markers+text",
         "name": "Document Retrieval Dates 2025",
         "text": [
          "",
          "",
          "",
          "",
          "",
          "",
          "",
          "",
          "",
          "Document Retrieval Dates 2025"
         ],
         "textfont": {
          "size": 12
         },
         "type": "scattergl",
         "x": {
          "bdata": "qoc4QcuHOEHrhzhBVv83Qed1OEHd+zdBzPU3Qe/9N0HLdzhBxkU4QQ==",
          "dtype": "f4"
         },
         "y": {
          "bdata": "/JMIwKKUCMAKlQjA8xYGwGhECMCsEwbAiIkFwDMUBsA2TgjAElgHwA==",
          "dtype": "f4"
         }
        },
        {
         "hoverinfo": "text",
         "hovertext": [
          "Sign up here to get it nightly.",
          "Eurogamer.net.",
          "Eurogamer.net.",
          "Eurogamer.net.",
          "simonwillison.net.",
          "Eurogamer.net.",
          "mxdwn Games.",
          "Heise Online (in German).",
          null
         ],
         "marker": {
          "opacity": 0.5,
          "size": 5
         },
         "mode": "markers+text",
         "name": "Eurogamer Germany Gaming News",
         "text": [
          "",
          "",
          "",
          "",
          "",
          "",
          "",
          "",
          "Eurogamer Germany Gaming News"
         ],
         "textfont": {
          "size": 12
         },
         "type": "scattergl",
         "x": {
          "bdata": "rCllQIoWVECPHFRAgxhUQP3pVEAmGFRANjBUQLg8U0CLPFZA",
          "dtype": "f4"
         },
         "y": {
          "bdata": "9RBEQSv2Q0Gq8kNBnPtDQYcjREFQ+UNBlY9DQarlQ0Hw8ENB",
          "dtype": "f4"
         }
        },
        {
         "hoverinfo": "text",
         "hovertext": [
          "It's the filler content produced by AI tools that prioritize speed and quantity over substance and quality.",
          "Here's what to watch out for:\n- Generic Phrasing: AI often relies on repetitive, uninspired language that lacks the creativity needed to engage.",
          "Terms proposed included \"AI garbage\", \"AI pollution\", and \"AI-generated dross\".",
          "These examples aren’t anomalies and they speak to a larger issue: a fundamental misunderstanding of how to use AI.",
          "Google says the AI overviews have strong safety guardrails.",
          "[4]\nIt has been variously defined as \"digital clutter\", \"filler content produced by AI tools that prioritize speed and quantity over substance and quality\",[6] and \"shoddy or unwanted AI content in social media, art, books and, increasingly, in search results\".",
          "It's the content produced by AI tools that prioritize speed and quantity over substance and quality.",
          "Kristian Hammond, the director of Northwestern University’s Center for Advancing Safety of Machine Intelligence, noted a problem in the current model: the information from A.I.",
          null
         ],
         "marker": {
          "opacity": 0.5,
          "size": 5
         },
         "mode": "markers+text",
         "name": "AI-Generated Low-Quality Content",
         "text": [
          "",
          "",
          "",
          "",
          "",
          "",
          "",
          "",
          "AI-Generated Low-Quality Content"
         ],
         "textfont": {
          "size": 12
         },
         "type": "scattergl",
         "x": {
          "bdata": "/9GyQFO/ukCUYbVAVqi6QGfBtECfILRALhSyQCbPu0ASjLZA",
          "dtype": "f4"
         },
         "y": {
          "bdata": "9iYXQWUtF0ENAhZBUCMXQRHaF0GBmRVBhjcXQWddF0FH8BZB",
          "dtype": "f4"
         }
        },
        {
         "hoverinfo": "text",
         "hovertext": [
          "Listen to more stories on the Noa app.",
          "\"[53]\nIn one case Deutsche Telekom removed a series from their media offer after viewers complained about the bad quality and monotonous German voice dubbing (translated from original Polish) and it was found out that it was done via AI.",
          "[22] The ad uses a robotic AI voice in a style similar to low-quality AI spam videos produced by content farms.",
          "Listen to more stories on the Noa app.",
          "Produced by ElevenLabs and News Over Audio (Noa) using AI narration.",
          "Produced by ElevenLabs and News Over Audio (Noa) using AI narration.",
          "Produced by ElevenLabs and News Over Audio (Noa) using AI narration.",
          "Listen to more stories on the Noa app.",
          null
         ],
         "marker": {
          "opacity": 0.5,
          "size": 5
         },
         "mode": "markers+text",
         "name": "AI-Generated News Narration",
         "text": [
          "",
          "",
          "",
          "",
          "",
          "",
          "",
          "",
          "AI-Generated News Narration"
         ],
         "textfont": {
          "size": 12
         },
         "type": "scattergl",
         "x": {
          "bdata": "G4sCQR/FAUEHwcpAJYoCQbl1AkEBfQJBY3ICQf2IAkE+iv1A",
          "dtype": "f4"
         },
         "y": {
          "bdata": "i38qQbyrKUHkJAxBfmsqQXFcKkGqYCpBSFkqQS1rKkGnhyZB",
          "dtype": "f4"
         }
        },
        {
         "hoverinfo": "text",
         "hovertext": [
          "These are just three examples of bizarre AI-generated imagery that has taken over the internet in the past year.",
          "This process can then be repeated over and over again to effectively rick people into clicking on photo albums that are not actually photo albums.",
          "They're surreal and sometimes grotesque.",
          "But images of all these things exist.",
          "The images are often sort of eerily exploitative.",
          "Here are a few of my theories:\n- These images don't technically violate any rules — no nudity or other forbidden imagery.",
          "The very existence of so much quickly produced fake imagery adds a layer of unreality to the internet.",
          "Then the images become something else.",
          null
         ],
         "marker": {
          "opacity": 0.5,
          "size": 5
         },
         "mode": "markers+text",
         "name": "Bizarre AI-Generated Internet Imagery",
         "text": [
          "",
          "",
          "",
          "",
          "",
          "",
          "",
          "",
          "Bizarre AI-Generated Internet Imagery"
         ],
         "textfont": {
          "size": 12
         },
         "type": "scattergl",
         "x": {
          "bdata": "X5i/QNNrtEDQv7lAswm7QJdiuUC85bpAFbS4QPDEuEDi0blA",
          "dtype": "f4"
         },
         "y": {
          "bdata": "F0bsQKTi40AkTeBA93LeQE0r3UApG+NAJLreQOs33kAshOFA",
          "dtype": "f4"
         }
        },
        {
         "hoverinfo": "text",
         "hovertext": [
          "The real cost of AI slop\nAI slop comes in many forms, all of which can undermine your efforts to build a strong, authentic brand:\n- Weak Brand Communications: Imagine your customers encountering repetitive, robotic responses from your chatbot — like Air Canada's widely criticized AI mishaps.",
          "How entrepreneurs can spot AI slop\nIdentifying AI slop is the first step in protecting your brand.",
          "As adoption becomes more widespread, we’re likely to see brands churn out more AI slop.",
          "\"How Businesses Can Avoid AI Slop\".",
          "- Combatting AI slop is crucial for entrepreneurs to maintain brand authenticity, customer trust and meaningful engagement.",
          "By Johnny Hughes Edited by Micah Zimmerman\nKey Takeaways\n- Entrepreneurs face a growing challenge with AI-generated \"slop\" content that dilutes online quality and disrupts engagement.",
          "By prioritizing quality, leveraging custom AI models and staying true to your brand's voice, you can rise above the slop and continue to deliver value that resonates with your audience.",
          null
         ],
         "marker": {
          "opacity": 0.5,
          "size": 5
         },
         "mode": "markers+text",
         "name": "Managing AI Slop for Brands",
         "text": [
          "",
          "",
          "",
          "",
          "",
          "",
          "",
          "Managing AI Slop for Brands"
         ],
         "textfont": {
          "size": 12
         },
         "type": "scattergl",
         "x": {
          "bdata": "23bDQH6KxED+o8JAAx/DQOTZwEDRGcJAMde8QOXvwUA=",
          "dtype": "f4"
         },
         "y": {
          "bdata": "HXkPQT0FD0E3iw9B4B0PQWFgD0EK6gxBh3IQQaAgD0E=",
          "dtype": "f4"
         }
        },
        {
         "hoverinfo": "text",
         "hovertext": [
          "Families that turned up early immediately complained, with one parent calling it an \"absolute shambles of an event,\" which caused the company to cancel it midway through the opening day on February 24.",
          "Have Roald Dahl’s estate or Warner Bros. released a statement about the event yet?",
          "Can you explain what happened?",
          "House of Illuminati has released the following statement: “Unfortunately, last minute we were let down in many areas of our event and tried our best to continue on and push through and now realise we probably should have cancelled first thing this morning instead.” Hindsight is 20/20.",
          "It is unclear when the cancellation message was added to the post.",
          "The statement also refers, puzzlingly, to a marriage ceremony that has been either canceled or postponed as a result of the event’s failure.",
          "\"Unfortunately last minute we were let down in many areas of our event and tried our best to continue on and push through and now realise we probably should have cancelled first thing this morning instead.",
          null
         ],
         "marker": {
          "opacity": 0.5,
          "size": 5
         },
         "mode": "markers+text",
         "name": "Event Cancellation and Public Response",
         "text": [
          "",
          "",
          "",
          "",
          "",
          "",
          "",
          "Event Cancellation and Public Response"
         ],
         "textfont": {
          "size": 12
         },
         "type": "scattergl",
         "x": {
          "bdata": "CK+7P7lmnD8fkqA/r1POPw9Nwz/nQsY/cRHDP7aouT8=",
          "dtype": "f4"
         },
         "y": {
          "bdata": "16fPQO+DzUBTE9JAwKnPQJLyz0Co69BAkPjPQM72z0A=",
          "dtype": "f4"
         }
        },
        {
         "hoverinfo": "text",
         "hovertext": [
          "Rather than peck out a few sentences complaining about Biden’s age or ridiculing Harris’s economic policies, far-right posters can illustrate their attacks and garner more attention.",
          "The MAGA Aesthetic Is AI Slop\nFar-right influencers are flooding social media with a new kind of junk.",
          "Right-wing influencers have been vocal about these bonuses, which are handed out based on how many times a creator’s content is seen in a given month.",
          "The MAGA movement has spent nine years building a coalition of conspiratorial hyper-partisans dedicated to creating a fictional information universe to cocoon themselves in.",
          "Yet these are anodyne compared with much of the material created and shared by far-right influencers and shitposters.",
          "After months of retweeting conservative media influencers and echoing Elon Musk’s claims that freedom of speech is under attack from leftwing forces, one of the organization’s messages found its way to Trump and then his millions of supporters.",
          "And so it makes sense that campaigns—not just Trump’s—tend to traffic in it.",
          null
         ],
         "marker": {
          "opacity": 0.5,
          "size": 5
         },
         "mode": "markers+text",
         "name": "Far-Right MAGA Social Media Campaign",
         "text": [
          "",
          "",
          "",
          "",
          "",
          "",
          "",
          "Far-Right MAGA Social Media Campaign"
         ],
         "textfont": {
          "size": 12
         },
         "type": "scattergl",
         "x": {
          "bdata": "5mq0QGvrs0AtKLNAU3esQD30sUC307VANW2lQP+8sEA=",
          "dtype": "f4"
         },
         "y": {
          "bdata": "Hba5QEH1vECL/rhA8WC+QDDQuECPIbdAX/jPQCNsvUA=",
          "dtype": "f4"
         }
        },
        {
         "hoverinfo": "text",
         "hovertext": [
          "is generating an awful lot of genuine pollution, too — both Google and Microsoft, which each pledged in 2019 to reach zero emissions by 2030, have instead expanded their carbon footprints by nearly 50 percent in the interim.",
          "He summarized a typical example: “Usually, it begins with the phrase ‘In the year 2250-something’ and then it goes on to say the Earth’s environment is in collapse and there are only three scientists who can save us.",
          "Our models of ice-sheet melt and rainforest degradation are much sharper now, too.",
          "This ecosystem is not new.",
          "And perhaps that a more optimistic perspective can be drawn by analogy to what economists call the “environmental Kuznets curve,” which suggests that, as nations develop, they tend to first pollute a lot more and then, over time, as they grow richer, they ultimately pollute less.",
          "“pollution,” another perspective is that plenty of good news from A.I.",
          "Even in describing regular old pollution, this framework has its shortcomings, especially because it treats as automatic eventual progress that has always required tooth-and-nail fights against some very stubborn bad actors.",
          null
         ],
         "marker": {
          "opacity": 0.5,
          "size": 5
         },
         "mode": "markers+text",
         "name": "Environmental Pollution and Progress",
         "text": [
          "",
          "",
          "",
          "",
          "",
          "",
          "",
          "Environmental Pollution and Progress"
         ],
         "textfont": {
          "size": 12
         },
         "type": "scattergl",
         "x": {
          "bdata": "oUc8QP0TRkC6KjpAzO84QAXWOUBzmz1Asoc7QC+iPEA=",
          "dtype": "f4"
         },
         "y": {
          "bdata": "k4n7QIM3AEGFRPpAsA78QHxR+kDXnPdACdL5QE8m+0A=",
          "dtype": "f4"
         }
        },
        {
         "hoverinfo": "text",
         "hovertext": [
          "IGN.",
          "You can reach Wesley at wesley_yinpoole@ign.com or confidentially at wyp100@proton.me.",
          "IGN.",
          "IGN.",
          "You can reach Wesley at wesley_yinpoole@ign.com or confidentially at wyp100@proton.me.",
          "IGN.",
          "IGN.",
          null
         ],
         "marker": {
          "opacity": 0.5,
          "size": 5
         },
         "mode": "markers+text",
         "name": "IGN Contact and Credentials",
         "text": [
          "",
          "",
          "",
          "",
          "",
          "",
          "",
          "IGN Contact and Credentials"
         ],
         "textfont": {
          "size": 12
         },
         "type": "scattergl",
         "x": {
          "bdata": "QEYVQMFoFUC36BNAX2UVQF8nFkAQYhVAcF8VQG1FFUA=",
          "dtype": "f4"
         },
         "y": {
          "bdata": "b1ZVQGWaV0C8SFRAfSxWQBUCV0B7I1ZA8hVWQBMXVkA=",
          "dtype": "f4"
         }
        },
        {
         "hoverinfo": "text",
         "hovertext": [
          "\"Activision \"AI slop\" Guitar Hero advert is market research for a fake game that doesn't exist and maybe never will\".",
          "Clicking on some of the adverts will take you through to a mocked up mobile store page organised by marketing service Geeklab, and then onto a survey that reveals \"this isn't a real game, but could be some day!\"",
          "Will any of these Guitar Hero, Crash Bandicoot or Call of Duty smartphone games ever see the light of day?",
          "Activision's social media post advertising a new entry in the Guitar Hero series is market research for a game that doesn't exist, and is not meant to be an actual announcement, Eurogamer understands.",
          "Market research questions then include queries asking users what made them click on the advert and what gameplay features they expected the game to include, based on the fake advert.",
          "These adverts also include new smartphone games in other Activision franchises such as Call of Duty and Crash Bandicoot that also don't exist (yet) either.",
          "Activision \"AI slop\" Guitar Hero advert is market research for a fake game that doesn't exist and maybe never will\nCall of Duty and Crash Bandicoot titles also touted.",
          null
         ],
         "marker": {
          "opacity": 0.5,
          "size": 5
         },
         "mode": "markers+text",
         "name": "Activision Fake Game Market Research",
         "text": [
          "",
          "",
          "",
          "",
          "",
          "",
          "",
          "Activision Fake Game Market Research"
         ],
         "textfont": {
          "size": 12
         },
         "type": "scattergl",
         "x": {
          "bdata": "Hy6AQJOofkCvpX9AbpF+QGVAfkAnCIBAEWWAQB16f0A=",
          "dtype": "f4"
         },
         "y": {
          "bdata": "1xA9QeGWPUGH+zxB6+s9QfKfPUGXzj1B4xc9Qc1wPUE=",
          "dtype": "f4"
         }
        },
        {
         "hoverinfo": "text",
         "hovertext": [
          "We loved what was created and used them as the final album covers players will see in the game.",
          "We loved what was created and used them as the final album covers players will see in the game.",
          "But, in 2024, what fans unwrapped was a little underwhelming.",
          "- ^ \"Shudder Just Quietly Released the Most Controversial Thriller of the Year\".",
          "But, in 2024, what fans unwrapped was a little underwhelming.",
          "- ^ \"Late Night with the Devil: The Horror Film with Horrifying Implications\".",
          "\"We loved what was created and used them as the final album covers players will see in the game.",
          null
         ],
         "marker": {
          "opacity": 0.5,
          "size": 5
         },
         "mode": "markers+text",
         "name": "2024 Album Covers and Reactions",
         "text": [
          "",
          "",
          "",
          "",
          "",
          "",
          "",
          "2024 Album Covers and Reactions"
         ],
         "textfont": {
          "size": 12
         },
         "type": "scattergl",
         "x": {
          "bdata": "WzpHQG+SSEAwmElAgPZLQGGMSUDX801AK3lJQB8MSkA=",
          "dtype": "f4"
         },
         "y": {
          "bdata": "XqIoQY0AKUEOISlBLJMpQcQcKUFznSpBBP8oQXtLKUE=",
          "dtype": "f4"
         }
        },
        {
         "hoverinfo": "text",
         "hovertext": [
          "Despite the controversy, the company said that it was “successful” and that the technology would be an addition to its “tool kit” for the future.",
          "“Replacing low-wage jobs with tremendously costly technology is basically the polar opposite of the prior technology transitions I’ve witnessed,” he noted.",
          "He added that as the technology improves, he believes more people will become receptive to it.",
          "It has already helped drive down the cost and drive up the performance of next-gen batteries and solar photovoltaic cells, whose performance can also be improved, even after the panels have been manufactured and installed on your roof, by as much as 25 percent.",
          "As to whether this decision was driven by cost-cutting, or simple experimentation with new technology - remains to be seen.",
          "The production time would have taken, traditionally, much longer.",
          "He cited the budgetary advantages of the project along with the speed at which the work could be created.",
          null
         ],
         "marker": {
          "opacity": 0.5,
          "size": 5
         },
         "mode": "markers+text",
         "name": "Technology Impact on Jobs",
         "text": [
          "",
          "",
          "",
          "",
          "",
          "",
          "",
          "Technology Impact on Jobs"
         ],
         "textfont": {
          "size": 12
         },
         "type": "scattergl",
         "x": {
          "bdata": "e711QPdubECV42hASChxQFhteECawXVAvOV1QCVUckA=",
          "dtype": "f4"
         },
         "y": {
          "bdata": "0n0QQZz2DUGMaw1BrYUMQSbBDkFntg5BWPcOQYJnDkE=",
          "dtype": "f4"
         }
        },
        {
         "hoverinfo": "text",
         "hovertext": [
          "Pure engagement bait.",
          "Some accounts post dozens of videos like this every day.",
          "They must have earned $100 from just this one photo.",
          "The spammer had earned $431 from the image’s engagement.",
          "The goal is to get up as many posts in a day across as many accounts as possible.",
          "These creators often manage several or even dozens of accounts, targeting viewers in different countries in a strategy known as an “account matrix”.",
          null
         ],
         "marker": {
          "opacity": 0.5,
          "size": 5
         },
         "mode": "markers+text",
         "name": "Social Media Spam Strategies",
         "text": [
          "",
          "",
          "",
          "",
          "",
          "",
          "Social Media Spam Strategies"
         ],
         "textfont": {
          "size": 12
         },
         "type": "scattergl",
         "x": {
          "bdata": "xXajQOSAokB6nqBAAqmjQLZRn0Chp6FAv96hQA==",
          "dtype": "f4"
         },
         "y": {
          "bdata": "tS3dQEi150CBO+BAXE/eQPzN6EA3pupAV9DjQA==",
          "dtype": "f4"
         }
        },
        {
         "hoverinfo": "text",
         "hovertext": [
          "Updated at 9:43 a.m.",
          "They should go through some of the processes—they can contact me, contact our team.",
          "Please send an email to newstips@ign.com.",
          "No worries, as we will be updating this space as and when any new info arrives.",
          "Let us know in the comments below!",
          "Also, follow us on Google News, Instagram, and Twitter for quick updates",
          null
         ],
         "marker": {
          "opacity": 0.5,
          "size": 5
         },
         "mode": "markers+text",
         "name": "News Updates and Contact Methods",
         "text": [
          "",
          "",
          "",
          "",
          "",
          "",
          "News Updates and Contact Methods"
         ],
         "textfont": {
          "size": 12
         },
         "type": "scattergl",
         "x": {
          "bdata": "pfICQEfTIEB+xRxAn20eQLdpHkBVwQVAWdsVQA==",
          "dtype": "f4"
         },
         "y": {
          "bdata": "h9uVQD74rECRHqhAwCyqQNQBqkDcE5RAdjOjQA==",
          "dtype": "f4"
         }
        },
        {
         "hoverinfo": "text",
         "hovertext": [
          "That it can create adequate texts and images is an astonishing leap forward in machine learning, but the texts and images are still only adequate, “good enough” and cheap enough for people to thumb past on their phones.",
          "But generative AI takes this a step further, as it can generate tailored images or videos from a simple text prompt.",
          "In the lead-up to the candidate’s fast-food stop, various news outlets, fans, and even T-shirt sellers used generative-AI tools to mock up what the visit might look like.",
          "It’s easy to learn, almost zero cost, and can be done any time at home with just a phone.",
          "Not only does the copy on the website reek of generative AI, all the images have quite obviously been spurted out following a lazy prompt.",
          "When generative AI meets profiteers and platforms\nThe short explanation for the prevalence of these baffling videos and images is that savvy creators on social media platforms have worked out how to use generative AI tools to earn a quick buck.",
          null
         ],
         "marker": {
          "opacity": 0.5,
          "size": 5
         },
         "mode": "markers+text",
         "name": "Generative AI in Content Creation",
         "text": [
          "",
          "",
          "",
          "",
          "",
          "",
          "Generative AI in Content Creation"
         ],
         "textfont": {
          "size": 12
         },
         "type": "scattergl",
         "x": {
          "bdata": "SIewQG3+sUC0+q5An3SxQMP3u0DCVbFAw7WyQA==",
          "dtype": "f4"
         },
         "y": {
          "bdata": "xvMRQQvZEEEU0iJBc0USQQMwCkF6VhBBzxETQQ==",
          "dtype": "f4"
         }
        },
        {
         "hoverinfo": "text",
         "hovertext": [
          "As users pointed out, low-effort content like this shows a clear lack of respect for the audience.",
          "The more people sharing posts and engaging with them, the better off Meta is.",
          "— are laughing at Meta's poor content moderation.",
          "But I’m increasingly of the opinion that sharing unreviewed content that has been artificially generated with other people is rude.",
          "Meta's previous commitments to working with researchers and academics have fizzled away, and the scrutiny over content moderation (helped by Elon Musk lowering the bar to the basement) has shifted.",
          "Why mess with content people like?",
          null
         ],
         "marker": {
          "opacity": 0.5,
          "size": 5
         },
         "mode": "markers+text",
         "name": "Meta Content Moderation Challenges",
         "text": [
          "",
          "",
          "",
          "",
          "",
          "",
          "Meta Content Moderation Challenges"
         ],
         "textfont": {
          "size": 12
         },
         "type": "scattergl",
         "x": {
          "bdata": "bRiXQOqqmkDzQJtASs+XQCKunEB7WZVAiSSZQA==",
          "dtype": "f4"
         },
         "y": {
          "bdata": "8Y3xQPX670CUjPBAdxvwQP/P70ByofZAZXDxQA==",
          "dtype": "f4"
         }
        },
        {
         "hoverinfo": "text",
         "hovertext": [
          "Trump himself has been the subject of generative-AI art and has shared depictions of himself going back to March 2023.",
          "Still, the glut of AI-created political imagery is a pollutant in a broader online information ecosystem.",
          "There have long been fears that AI image tools could be used to create highly convincing “deepfakes” and images or videos that could help spread disinformation or influence elections.",
          "The journalist Parker Molloy compiled screenshots of people “acknowledging that this image is AI but still insisting that it’s real on some deeper level”—proof, Molloy noted, that we’re “living in the post-reality.” The technology writer Jason Koebler argued that we’ve entered the “‘Fuck It’ Era” of AI slop and political messaging, with AI-generated images being used to convey whatever partisan message suits the moment, regardless of truth.",
          "Although no one ideology has a monopoly on AI art, the high-resolution, low-budget look of generative-AI images appears to be fusing with the meme-loving aesthetic of the MAGA movement.",
          "At least in the fever swamps of social media, AI art is becoming MAGA-coded.",
          null
         ],
         "marker": {
          "opacity": 0.5,
          "size": 5
         },
         "mode": "markers+text",
         "name": "AI Art and Political Misinformation",
         "text": [
          "",
          "",
          "",
          "",
          "",
          "",
          "AI Art and Political Misinformation"
         ],
         "textfont": {
          "size": 12
         },
         "type": "scattergl",
         "x": {
          "bdata": "6o3DQFIEw0AgycBAjj/BQCe0wkC0gLxAS03BQA==",
          "dtype": "f4"
         },
         "y": {
          "bdata": "W8vSQH8H90CN7PhANbL7QN5O1EAfNwFBdDLuQA==",
          "dtype": "f4"
         }
        },
        {
         "hoverinfo": "text",
         "hovertext": [
          "“And as you know, with traffic from the USA your CPM [cost per 1,000 views, an ad-revenue metric] will be very high.",
          "As long as users are scrolling through videos, they are getting exposed to the ads that are the platforms’ primary source of income.",
          "This incentivizes individuals from developing countries to create images that appeal to audiences in the United States which attract higher advertising rates.",
          "If just a handful of users land on the site, reshare the meme or click through the adverts hosted, the cost of its creation pays off.",
          "The problem has begun to worry the social media industry’s main revenue source: the advertising agencies who pay to place ads next to content.",
          "As one Chinese social media influencer told us:\nChina’s short video market is nearing saturation, which means you need to seek data traffic [viewers] on overseas platforms.",
          null
         ],
         "marker": {
          "opacity": 0.5,
          "size": 5
         },
         "mode": "markers+text",
         "name": "Global Social Media Advertising Trends",
         "text": [
          "",
          "",
          "",
          "",
          "",
          "",
          "Global Social Media Advertising Trends"
         ],
         "textfont": {
          "size": 12
         },
         "type": "scattergl",
         "x": {
          "bdata": "7zV5QEVrg0DsCYlAeomMQBgzhkCck4lAuTqGQA==",
          "dtype": "f4"
         },
         "y": {
          "bdata": "VBT6QPzd/UB2Yf9Aca/6QPJs/UDf4QBBp4j9QA==",
          "dtype": "f4"
         }
        },
        {
         "hoverinfo": "text",
         "hovertext": [
          "“What we always see with any slang is that it starts in a niche community and then spreads from there,” Mr. Aleksic said.",
          "Years deep into national hysteria over the threat of internet misinformation pushed on us by bad actors, we’ve sleepwalked into a new internet in which meaningless, nonfactual slop is casually mass-produced and force-fed to us by A.I.",
          "There is a fear that as slop takes over, the large language models, or LLMs, that train on internet text will “collapse” into ineffectiveness — garbage in, garbage out.",
          "Its early use has been noted among 4chan, Hacker News, and YouTube commentators as a form of in-group slang.",
          "The term has sprung up in 4chan, Hacker News and YouTube comments, where anonymous posters sometimes project their proficiency in complex subject matter by using in-group language.",
          "Like, we’ve had a lot of words spread from a bunch of coding nerds, right?",
          null
         ],
         "marker": {
          "opacity": 0.5,
          "size": 5
         },
         "mode": "markers+text",
         "name": "Internet Slang and AI Misinformation",
         "text": [
          "",
          "",
          "",
          "",
          "",
          "",
          "Internet Slang and AI Misinformation"
         ],
         "textfont": {
          "size": 12
         },
         "type": "scattergl",
         "x": {
          "bdata": "uI/uQDel6UCclPFAyk7uQD+r7kBYlvRAqDnvQA==",
          "dtype": "f4"
         },
         "y": {
          "bdata": "kRsJQTFm9EBfsQRBDDoJQSn2CEEugQVBPEgFQQ==",
          "dtype": "f4"
         }
        },
        {
         "hoverinfo": "text",
         "hovertext": [
          "(At least, I think that’s his name and where he lives.)",
          "(It’s unclear who called them.)",
          "His name is not known, so we call him 'The Unknown'.",
          "The answer, at least in part, is a guy in Kenya named Stephen Mwangi.",
          "In fact, he is based in Pensacola, North Carolina.",
          "This article previously stated that Bradley Boone is the assistant fire chief in Pensacola, Florida.",
          null
         ],
         "marker": {
          "opacity": 0.5,
          "size": 5
         },
         "mode": "markers+text",
         "name": "Uncertain Fire Official Identities",
         "text": [
          "",
          "",
          "",
          "",
          "",
          "",
          "Uncertain Fire Official Identities"
         ],
         "textfont": {
          "size": 12
         },
         "type": "scattergl",
         "x": {
          "bdata": "SZwbQL7HFEAPLBpAGHAcQGCLIkDhFyhAPZsdQA==",
          "dtype": "f4"
         },
         "y": {
          "bdata": "gLd2QGzpgEAWe31A93lyQD7Hc0AjKXRAoRJ4QA==",
          "dtype": "f4"
         }
        },
        {
         "hoverinfo": "text",
         "hovertext": [
          "Find him on Twitter at @wyp100.",
          "Ryan Dinsdale is an IGN freelance reporter.",
          "You can follow him on Twitter @AdamBankhurst and on Twitch.",
          "Adam Bankhurst is a news writer for IGN.",
          "Wesley is the UK News Editor for IGN.",
          "Find him on Twitter at @wyp100.",
          null
         ],
         "marker": {
          "opacity": 0.5,
          "size": 5
         },
         "mode": "markers+text",
         "name": "IGN UK News and Staff",
         "text": [
          "",
          "",
          "",
          "",
          "",
          "",
          "IGN UK News and Staff"
         ],
         "textfont": {
          "size": 12
         },
         "type": "scattergl",
         "x": {
          "bdata": "694YQD7DD0Ak9RVAfaISQADiEUDe8BhAx6wUQA==",
          "dtype": "f4"
         },
         "y": {
          "bdata": "ex1rQATMXkBdPWlAh59eQHSEXkBbKGxA3b1kQA==",
          "dtype": "f4"
         }
        },
        {
         "hoverinfo": "text",
         "hovertext": [
          "So it is easy for us to generate revenue for that one day—then we don't have to put in effort throughout the year.",
          "Getachew claims viewers can “earn between $250 and $2,460.”)\nThe economics involved are simple.",
          "How do you make money?",
          "We just do work for three or four months, and then we'll get the revenue.",
          "How much money do you make off SEO?",
          "“People don’t even make this much money in a month,” the interview said.",
          null
         ],
         "marker": {
          "opacity": 0.5,
          "size": 5
         },
         "mode": "markers+text",
         "name": "Income Generation and Revenue Strategies",
         "text": [
          "",
          "",
          "",
          "",
          "",
          "",
          "Income Generation and Revenue Strategies"
         ],
         "textfont": {
          "size": 12
         },
         "type": "scattergl",
         "x": {
          "bdata": "bOuHQJVsjUDrbYlAoCyHQMs4iUBecotA9MSJQA==",
          "dtype": "f4"
         },
         "y": {
          "bdata": "xArqQEYS5UAdJ+1Axq7sQAH37EBvQ+VA5dzpQA==",
          "dtype": "f4"
         }
        },
        {
         "hoverinfo": "text",
         "hovertext": [
          "404 Media.",
          "404 Media.",
          "This is what Jason Koebler from 404 Media speculates.",
          "404 Media.",
          "Buried in the middle of the 404 Media story is a telling exchange.",
          null
         ],
         "marker": {
          "opacity": 0.5,
          "size": 5
         },
         "mode": "markers+text",
         "name": "404 Media and Jason Koebler",
         "text": [
          "",
          "",
          "",
          "",
          "",
          "404 Media and Jason Koebler"
         ],
         "textfont": {
          "size": 12
         },
         "type": "scattergl",
         "x": {
          "bdata": "HDMEQaMvBEFd3d1AqzAEQcM0BEG+4v9A",
          "dtype": "f4"
         },
         "y": {
          "bdata": "wQ4eQSwYHkEThAFBfxAeQazyHUEJVhhB",
          "dtype": "f4"
         }
        },
        {
         "hoverinfo": "text",
         "hovertext": [
          "The Black Ops 6 slop controversy began last October, a week before the game released, with allegations spreading on YouTube of certain prestige emblems looking AI-generated.",
          "Call of Duty: Black Ops 6 players have been accusing various loading screens and calling cards from the game of being AI-generated since it came out last fall, but it was only ever based on vibes and the occasional very convincing piece of seemingly obvious AI slop.",
          "[37]\nIn February 2025, Activision disclosed Black Ops 6's usage of generative artificial intelligence to comply with Valve's policies on AI-generated or assisted products on Steam.",
          "[35]\nIn video games\n[edit]The 2024 video game Call of Duty: Black Ops 6 includes assets generated by artificial intelligence.",
          "But so far, Black Ops 6 has proven generative-AI tools and the current level of quality control around them often can’t even get simple static images on loading screens right.",
          null
         ],
         "marker": {
          "opacity": 0.5,
          "size": 5
         },
         "mode": "markers+text",
         "name": "AI Use in Call of Duty",
         "text": [
          "",
          "",
          "",
          "",
          "",
          "AI Use in Call of Duty"
         ],
         "textfont": {
          "size": 12
         },
         "type": "scattergl",
         "x": {
          "bdata": "3qmHQHkGh0BkPopAG0CKQCE/iUDL4ohA",
          "dtype": "f4"
         },
         "y": {
          "bdata": "wXo3Qc+yNkHHyDdBsBI4Qd+9NkH7WjdB",
          "dtype": "f4"
         }
        },
        {
         "hoverinfo": "text",
         "hovertext": [
          "The bundle contained a number of virtual items, including an Operator skin, a weapon blueprint, a calling card, a weapon sticker, and a loading screen, all below.",
          "1,500 COD Points is approximately valued at $15.",
          "1,500 COD Points is approximately valued at $15.",
          "This bundle was sold for 1,500 COD Points, the premium virtual currency sold for real-world money that generates hundreds of millions of dollars for Activision each year.",
          "This bundle cost 1,500 COD Points, the premium virtual currency sold for real-world money that generates hundreds of millions of dollars for Activision each year.",
          null
         ],
         "marker": {
          "opacity": 0.5,
          "size": 5
         },
         "mode": "markers+text",
         "name": "In-Game Currency and Sales",
         "text": [
          "",
          "",
          "",
          "",
          "",
          "In-Game Currency and Sales"
         ],
         "textfont": {
          "size": 12
         },
         "type": "scattergl",
         "x": {
          "bdata": "IW+UQJqLlEBTvJRAoZKUQMUulEB+fpRA",
          "dtype": "f4"
         },
         "y": {
          "bdata": "4CA9QRzfPUHUMD5B7OI9QYzFPUEOxT1B",
          "dtype": "f4"
         }
        }
       ],
       "layout": {
        "annotations": [
         {
          "showarrow": false,
          "text": "D1",
          "x": -0.4975134670734406,
          "y": 8.466998738050462,
          "yshift": 10
         },
         {
          "showarrow": false,
          "text": "D2",
          "x": 8.876140603423119,
          "xshift": 10,
          "y": 20.281768131256104
         }
        ],
        "height": 750,
        "shapes": [
         {
          "line": {
           "color": "#CFD8DC",
           "width": 2
          },
          "type": "line",
          "x0": 8.876140603423119,
          "x1": 8.876140603423119,
          "y0": -3.347770655155182,
          "y1": 20.281768131256104
         },
         {
          "line": {
           "color": "#9E9E9E",
           "width": 2
          },
          "type": "line",
          "x0": -0.4975134670734406,
          "x1": 18.249794673919677,
          "y0": 8.466998738050462,
          "y1": 8.466998738050462
         }
        ],
        "template": {
         "data": {
          "bar": [
           {
            "error_x": {
             "color": "rgb(36,36,36)"
            },
            "error_y": {
             "color": "rgb(36,36,36)"
            },
            "marker": {
             "line": {
              "color": "white",
              "width": 0.5
             },
             "pattern": {
              "fillmode": "overlay",
              "size": 10,
              "solidity": 0.2
             }
            },
            "type": "bar"
           }
          ],
          "barpolar": [
           {
            "marker": {
             "line": {
              "color": "white",
              "width": 0.5
             },
             "pattern": {
              "fillmode": "overlay",
              "size": 10,
              "solidity": 0.2
             }
            },
            "type": "barpolar"
           }
          ],
          "carpet": [
           {
            "aaxis": {
             "endlinecolor": "rgb(36,36,36)",
             "gridcolor": "white",
             "linecolor": "white",
             "minorgridcolor": "white",
             "startlinecolor": "rgb(36,36,36)"
            },
            "baxis": {
             "endlinecolor": "rgb(36,36,36)",
             "gridcolor": "white",
             "linecolor": "white",
             "minorgridcolor": "white",
             "startlinecolor": "rgb(36,36,36)"
            },
            "type": "carpet"
           }
          ],
          "choropleth": [
           {
            "colorbar": {
             "outlinewidth": 1,
             "tickcolor": "rgb(36,36,36)",
             "ticks": "outside"
            },
            "type": "choropleth"
           }
          ],
          "contour": [
           {
            "colorbar": {
             "outlinewidth": 1,
             "tickcolor": "rgb(36,36,36)",
             "ticks": "outside"
            },
            "colorscale": [
             [
              0,
              "#440154"
             ],
             [
              0.1111111111111111,
              "#482878"
             ],
             [
              0.2222222222222222,
              "#3e4989"
             ],
             [
              0.3333333333333333,
              "#31688e"
             ],
             [
              0.4444444444444444,
              "#26828e"
             ],
             [
              0.5555555555555556,
              "#1f9e89"
             ],
             [
              0.6666666666666666,
              "#35b779"
             ],
             [
              0.7777777777777778,
              "#6ece58"
             ],
             [
              0.8888888888888888,
              "#b5de2b"
             ],
             [
              1,
              "#fde725"
             ]
            ],
            "type": "contour"
           }
          ],
          "contourcarpet": [
           {
            "colorbar": {
             "outlinewidth": 1,
             "tickcolor": "rgb(36,36,36)",
             "ticks": "outside"
            },
            "type": "contourcarpet"
           }
          ],
          "heatmap": [
           {
            "colorbar": {
             "outlinewidth": 1,
             "tickcolor": "rgb(36,36,36)",
             "ticks": "outside"
            },
            "colorscale": [
             [
              0,
              "#440154"
             ],
             [
              0.1111111111111111,
              "#482878"
             ],
             [
              0.2222222222222222,
              "#3e4989"
             ],
             [
              0.3333333333333333,
              "#31688e"
             ],
             [
              0.4444444444444444,
              "#26828e"
             ],
             [
              0.5555555555555556,
              "#1f9e89"
             ],
             [
              0.6666666666666666,
              "#35b779"
             ],
             [
              0.7777777777777778,
              "#6ece58"
             ],
             [
              0.8888888888888888,
              "#b5de2b"
             ],
             [
              1,
              "#fde725"
             ]
            ],
            "type": "heatmap"
           }
          ],
          "histogram": [
           {
            "marker": {
             "line": {
              "color": "white",
              "width": 0.6
             }
            },
            "type": "histogram"
           }
          ],
          "histogram2d": [
           {
            "colorbar": {
             "outlinewidth": 1,
             "tickcolor": "rgb(36,36,36)",
             "ticks": "outside"
            },
            "colorscale": [
             [
              0,
              "#440154"
             ],
             [
              0.1111111111111111,
              "#482878"
             ],
             [
              0.2222222222222222,
              "#3e4989"
             ],
             [
              0.3333333333333333,
              "#31688e"
             ],
             [
              0.4444444444444444,
              "#26828e"
             ],
             [
              0.5555555555555556,
              "#1f9e89"
             ],
             [
              0.6666666666666666,
              "#35b779"
             ],
             [
              0.7777777777777778,
              "#6ece58"
             ],
             [
              0.8888888888888888,
              "#b5de2b"
             ],
             [
              1,
              "#fde725"
             ]
            ],
            "type": "histogram2d"
           }
          ],
          "histogram2dcontour": [
           {
            "colorbar": {
             "outlinewidth": 1,
             "tickcolor": "rgb(36,36,36)",
             "ticks": "outside"
            },
            "colorscale": [
             [
              0,
              "#440154"
             ],
             [
              0.1111111111111111,
              "#482878"
             ],
             [
              0.2222222222222222,
              "#3e4989"
             ],
             [
              0.3333333333333333,
              "#31688e"
             ],
             [
              0.4444444444444444,
              "#26828e"
             ],
             [
              0.5555555555555556,
              "#1f9e89"
             ],
             [
              0.6666666666666666,
              "#35b779"
             ],
             [
              0.7777777777777778,
              "#6ece58"
             ],
             [
              0.8888888888888888,
              "#b5de2b"
             ],
             [
              1,
              "#fde725"
             ]
            ],
            "type": "histogram2dcontour"
           }
          ],
          "mesh3d": [
           {
            "colorbar": {
             "outlinewidth": 1,
             "tickcolor": "rgb(36,36,36)",
             "ticks": "outside"
            },
            "type": "mesh3d"
           }
          ],
          "parcoords": [
           {
            "line": {
             "colorbar": {
              "outlinewidth": 1,
              "tickcolor": "rgb(36,36,36)",
              "ticks": "outside"
             }
            },
            "type": "parcoords"
           }
          ],
          "pie": [
           {
            "automargin": true,
            "type": "pie"
           }
          ],
          "scatter": [
           {
            "fillpattern": {
             "fillmode": "overlay",
             "size": 10,
             "solidity": 0.2
            },
            "type": "scatter"
           }
          ],
          "scatter3d": [
           {
            "line": {
             "colorbar": {
              "outlinewidth": 1,
              "tickcolor": "rgb(36,36,36)",
              "ticks": "outside"
             }
            },
            "marker": {
             "colorbar": {
              "outlinewidth": 1,
              "tickcolor": "rgb(36,36,36)",
              "ticks": "outside"
             }
            },
            "type": "scatter3d"
           }
          ],
          "scattercarpet": [
           {
            "marker": {
             "colorbar": {
              "outlinewidth": 1,
              "tickcolor": "rgb(36,36,36)",
              "ticks": "outside"
             }
            },
            "type": "scattercarpet"
           }
          ],
          "scattergeo": [
           {
            "marker": {
             "colorbar": {
              "outlinewidth": 1,
              "tickcolor": "rgb(36,36,36)",
              "ticks": "outside"
             }
            },
            "type": "scattergeo"
           }
          ],
          "scattergl": [
           {
            "marker": {
             "colorbar": {
              "outlinewidth": 1,
              "tickcolor": "rgb(36,36,36)",
              "ticks": "outside"
             }
            },
            "type": "scattergl"
           }
          ],
          "scattermap": [
           {
            "marker": {
             "colorbar": {
              "outlinewidth": 1,
              "tickcolor": "rgb(36,36,36)",
              "ticks": "outside"
             }
            },
            "type": "scattermap"
           }
          ],
          "scattermapbox": [
           {
            "marker": {
             "colorbar": {
              "outlinewidth": 1,
              "tickcolor": "rgb(36,36,36)",
              "ticks": "outside"
             }
            },
            "type": "scattermapbox"
           }
          ],
          "scatterpolar": [
           {
            "marker": {
             "colorbar": {
              "outlinewidth": 1,
              "tickcolor": "rgb(36,36,36)",
              "ticks": "outside"
             }
            },
            "type": "scatterpolar"
           }
          ],
          "scatterpolargl": [
           {
            "marker": {
             "colorbar": {
              "outlinewidth": 1,
              "tickcolor": "rgb(36,36,36)",
              "ticks": "outside"
             }
            },
            "type": "scatterpolargl"
           }
          ],
          "scatterternary": [
           {
            "marker": {
             "colorbar": {
              "outlinewidth": 1,
              "tickcolor": "rgb(36,36,36)",
              "ticks": "outside"
             }
            },
            "type": "scatterternary"
           }
          ],
          "surface": [
           {
            "colorbar": {
             "outlinewidth": 1,
             "tickcolor": "rgb(36,36,36)",
             "ticks": "outside"
            },
            "colorscale": [
             [
              0,
              "#440154"
             ],
             [
              0.1111111111111111,
              "#482878"
             ],
             [
              0.2222222222222222,
              "#3e4989"
             ],
             [
              0.3333333333333333,
              "#31688e"
             ],
             [
              0.4444444444444444,
              "#26828e"
             ],
             [
              0.5555555555555556,
              "#1f9e89"
             ],
             [
              0.6666666666666666,
              "#35b779"
             ],
             [
              0.7777777777777778,
              "#6ece58"
             ],
             [
              0.8888888888888888,
              "#b5de2b"
             ],
             [
              1,
              "#fde725"
             ]
            ],
            "type": "surface"
           }
          ],
          "table": [
           {
            "cells": {
             "fill": {
              "color": "rgb(237,237,237)"
             },
             "line": {
              "color": "white"
             }
            },
            "header": {
             "fill": {
              "color": "rgb(217,217,217)"
             },
             "line": {
              "color": "white"
             }
            },
            "type": "table"
           }
          ]
         },
         "layout": {
          "annotationdefaults": {
           "arrowhead": 0,
           "arrowwidth": 1
          },
          "autotypenumbers": "strict",
          "coloraxis": {
           "colorbar": {
            "outlinewidth": 1,
            "tickcolor": "rgb(36,36,36)",
            "ticks": "outside"
           }
          },
          "colorscale": {
           "diverging": [
            [
             0,
             "rgb(103,0,31)"
            ],
            [
             0.1,
             "rgb(178,24,43)"
            ],
            [
             0.2,
             "rgb(214,96,77)"
            ],
            [
             0.3,
             "rgb(244,165,130)"
            ],
            [
             0.4,
             "rgb(253,219,199)"
            ],
            [
             0.5,
             "rgb(247,247,247)"
            ],
            [
             0.6,
             "rgb(209,229,240)"
            ],
            [
             0.7,
             "rgb(146,197,222)"
            ],
            [
             0.8,
             "rgb(67,147,195)"
            ],
            [
             0.9,
             "rgb(33,102,172)"
            ],
            [
             1,
             "rgb(5,48,97)"
            ]
           ],
           "sequential": [
            [
             0,
             "#440154"
            ],
            [
             0.1111111111111111,
             "#482878"
            ],
            [
             0.2222222222222222,
             "#3e4989"
            ],
            [
             0.3333333333333333,
             "#31688e"
            ],
            [
             0.4444444444444444,
             "#26828e"
            ],
            [
             0.5555555555555556,
             "#1f9e89"
            ],
            [
             0.6666666666666666,
             "#35b779"
            ],
            [
             0.7777777777777778,
             "#6ece58"
            ],
            [
             0.8888888888888888,
             "#b5de2b"
            ],
            [
             1,
             "#fde725"
            ]
           ],
           "sequentialminus": [
            [
             0,
             "#440154"
            ],
            [
             0.1111111111111111,
             "#482878"
            ],
            [
             0.2222222222222222,
             "#3e4989"
            ],
            [
             0.3333333333333333,
             "#31688e"
            ],
            [
             0.4444444444444444,
             "#26828e"
            ],
            [
             0.5555555555555556,
             "#1f9e89"
            ],
            [
             0.6666666666666666,
             "#35b779"
            ],
            [
             0.7777777777777778,
             "#6ece58"
            ],
            [
             0.8888888888888888,
             "#b5de2b"
            ],
            [
             1,
             "#fde725"
            ]
           ]
          },
          "colorway": [
           "#1F77B4",
           "#FF7F0E",
           "#2CA02C",
           "#D62728",
           "#9467BD",
           "#8C564B",
           "#E377C2",
           "#7F7F7F",
           "#BCBD22",
           "#17BECF"
          ],
          "font": {
           "color": "rgb(36,36,36)"
          },
          "geo": {
           "bgcolor": "white",
           "lakecolor": "white",
           "landcolor": "white",
           "showlakes": true,
           "showland": true,
           "subunitcolor": "white"
          },
          "hoverlabel": {
           "align": "left"
          },
          "hovermode": "closest",
          "mapbox": {
           "style": "light"
          },
          "paper_bgcolor": "white",
          "plot_bgcolor": "white",
          "polar": {
           "angularaxis": {
            "gridcolor": "rgb(232,232,232)",
            "linecolor": "rgb(36,36,36)",
            "showgrid": false,
            "showline": true,
            "ticks": "outside"
           },
           "bgcolor": "white",
           "radialaxis": {
            "gridcolor": "rgb(232,232,232)",
            "linecolor": "rgb(36,36,36)",
            "showgrid": false,
            "showline": true,
            "ticks": "outside"
           }
          },
          "scene": {
           "xaxis": {
            "backgroundcolor": "white",
            "gridcolor": "rgb(232,232,232)",
            "gridwidth": 2,
            "linecolor": "rgb(36,36,36)",
            "showbackground": true,
            "showgrid": false,
            "showline": true,
            "ticks": "outside",
            "zeroline": false,
            "zerolinecolor": "rgb(36,36,36)"
           },
           "yaxis": {
            "backgroundcolor": "white",
            "gridcolor": "rgb(232,232,232)",
            "gridwidth": 2,
            "linecolor": "rgb(36,36,36)",
            "showbackground": true,
            "showgrid": false,
            "showline": true,
            "ticks": "outside",
            "zeroline": false,
            "zerolinecolor": "rgb(36,36,36)"
           },
           "zaxis": {
            "backgroundcolor": "white",
            "gridcolor": "rgb(232,232,232)",
            "gridwidth": 2,
            "linecolor": "rgb(36,36,36)",
            "showbackground": true,
            "showgrid": false,
            "showline": true,
            "ticks": "outside",
            "zeroline": false,
            "zerolinecolor": "rgb(36,36,36)"
           }
          },
          "shapedefaults": {
           "fillcolor": "black",
           "line": {
            "width": 0
           },
           "opacity": 0.3
          },
          "ternary": {
           "aaxis": {
            "gridcolor": "rgb(232,232,232)",
            "linecolor": "rgb(36,36,36)",
            "showgrid": false,
            "showline": true,
            "ticks": "outside"
           },
           "baxis": {
            "gridcolor": "rgb(232,232,232)",
            "linecolor": "rgb(36,36,36)",
            "showgrid": false,
            "showline": true,
            "ticks": "outside"
           },
           "bgcolor": "white",
           "caxis": {
            "gridcolor": "rgb(232,232,232)",
            "linecolor": "rgb(36,36,36)",
            "showgrid": false,
            "showline": true,
            "ticks": "outside"
           }
          },
          "title": {
           "x": 0.05
          },
          "xaxis": {
           "automargin": true,
           "gridcolor": "rgb(232,232,232)",
           "linecolor": "rgb(36,36,36)",
           "showgrid": false,
           "showline": true,
           "ticks": "outside",
           "title": {
            "standoff": 15
           },
           "zeroline": false,
           "zerolinecolor": "rgb(36,36,36)"
          },
          "yaxis": {
           "automargin": true,
           "gridcolor": "rgb(232,232,232)",
           "linecolor": "rgb(36,36,36)",
           "showgrid": false,
           "showline": true,
           "ticks": "outside",
           "title": {
            "standoff": 15
           },
           "zeroline": false,
           "zerolinecolor": "rgb(36,36,36)"
          }
         }
        },
        "title": {
         "font": {
          "color": "Black",
          "size": 22
         },
         "text": "<b>Documents and Topics</b>",
         "x": 0.5,
         "xanchor": "center",
         "yanchor": "top"
        },
        "width": 1200,
        "xaxis": {
         "visible": false
        },
        "yaxis": {
         "visible": false
        }
       }
      }
     },
     "metadata": {},
     "output_type": "display_data"
    }
   ],
   "source": [
    "reduced_embeddings = UMAP(\n",
    "    n_neighbors=10, n_components=2, min_dist=0.0, metric=\"cosine\"\n",
    ").fit_transform(embeddings)\n",
    "topic_model.visualize_documents(\n",
    "    documents, reduced_embeddings=reduced_embeddings, custom_labels=True\n",
    ")"
   ]
  },
  {
   "cell_type": "code",
   "execution_count": null,
   "id": "95b9b2a9",
   "metadata": {},
   "outputs": [],
   "source": []
  }
 ],
 "metadata": {
  "kernelspec": {
   "display_name": ".venv",
   "language": "python",
   "name": "python3"
  },
  "language_info": {
   "codemirror_mode": {
    "name": "ipython",
    "version": 3
   },
   "file_extension": ".py",
   "mimetype": "text/x-python",
   "name": "python",
   "nbconvert_exporter": "python",
   "pygments_lexer": "ipython3",
   "version": "3.10.12"
  }
 },
 "nbformat": 4,
 "nbformat_minor": 5
}
