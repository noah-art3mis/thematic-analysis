{
 "cells": [
  {
   "cell_type": "markdown",
   "id": "dd5231be",
   "metadata": {},
   "source": [
    "as per: https://colab.research.google.com/drive/1BoQ_vakEVtojsd2x_U6-_x52OOuqruj2?usp=sharing#scrollTo=w3WRXoRP2ej8\n"
   ]
  },
  {
   "cell_type": "code",
   "execution_count": 28,
   "id": "b9f62ac4",
   "metadata": {},
   "outputs": [],
   "source": [
    "import os\n",
    "import dotenv\n",
    "import openai\n",
    "import pandas as pd\n",
    "import numpy as np\n",
    "\n",
    "from typing import Text\n",
    "from bertopic import BERTopic\n",
    "from bertopic.backend import OpenAIBackend\n",
    "from nltk.tokenize import sent_tokenize, word_tokenize"
   ]
  },
  {
   "cell_type": "code",
   "execution_count": 61,
   "id": "22dcfa03",
   "metadata": {},
   "outputs": [],
   "source": [
    "MODEL_NAME = \"subset\""
   ]
  },
  {
   "cell_type": "code",
   "execution_count": 30,
   "id": "697ec514",
   "metadata": {},
   "outputs": [],
   "source": [
    "df = pd.read_feather(\"analysis.feather\")\n",
    "documents = df[\"text\"].tolist()"
   ]
  },
  {
   "cell_type": "code",
   "execution_count": 31,
   "id": "e6b0d58e",
   "metadata": {},
   "outputs": [],
   "source": [
    "# comment this out for document-level, leave it in for sentence level\n",
    "sentences = [sent_tokenize(x) for x in documents]\n",
    "documents = [sentence for doc in sentences for sentence in doc]\n",
    "len(documents)\n",
    "\n",
    "df = pd.DataFrame({\"text\": documents})"
   ]
  },
  {
   "cell_type": "code",
   "execution_count": 32,
   "id": "b60c56aa",
   "metadata": {},
   "outputs": [],
   "source": [
    "# use this for the base embeddings\n",
    "# from sentence_transformers import SentenceTransformer\n",
    "\n",
    "# embedding_model = SentenceTransformer(\"all-MiniLM-L6-v2\")\n",
    "# embeddings = embedding_model.encode(documents, show_progress_bar=True)"
   ]
  },
  {
   "cell_type": "code",
   "execution_count": 33,
   "id": "50c0febd",
   "metadata": {},
   "outputs": [
    {
     "data": {
      "text/plain": [
       "(1756, 3072)"
      ]
     },
     "execution_count": 33,
     "metadata": {},
     "output_type": "execute_result"
    }
   ],
   "source": [
    "# use this if you want openai embeddings (better performance)\n",
    "dotenv.load_dotenv()\n",
    "client = openai.OpenAI(api_key=os.environ[\"OPENAI_API_KEY\"])\n",
    "embedding_model = OpenAIBackend(client, \"text-embedding-3-large\")\n",
    "\n",
    "# careful !\n",
    "# no need to compute more than once here\n",
    "# df[\"embedding\"] = df[\"text\"].apply(\n",
    "#     lambda x: client.embeddings.create(model=\"text-embedding-3-large\", input=x)\n",
    "#     .data[0]\n",
    "#     .embedding\n",
    "# )\n",
    "# df.to_feather(\"analysis_with_embeddings_40_sentences.feather\")\n",
    "\n",
    "df = pd.read_feather(\"analysis_with_embeddings_40_sentences.feather\")\n",
    "\n",
    "embeddings = np.array(df[\"embedding\"].tolist())\n",
    "embeddings.shape"
   ]
  },
  {
   "cell_type": "code",
   "execution_count": 34,
   "id": "1ed3418e",
   "metadata": {},
   "outputs": [],
   "source": [
    "# import asyncio\n",
    "# import pandas as pd\n",
    "# from openai import AsyncOpenAI, OpenAIError\n",
    "# from tqdm.asyncio import tqdm_asyncio\n",
    "# import nest_asyncio\n",
    "\n",
    "# # Enable nested event loop support (for Jupyter etc.)\n",
    "# nest_asyncio.apply()\n",
    "\n",
    "# client = AsyncOpenAI()\n",
    "\n",
    "# # Settings\n",
    "# BATCH_SIZE = 10\n",
    "# MAX_RETRIES = 3\n",
    "# RETRY_BACKOFF = 2\n",
    "# CONCURRENCY_LIMIT = 5  # Maximum concurrent OpenAI requests\n",
    "\n",
    "# semaphore = asyncio.Semaphore(CONCURRENCY_LIMIT)\n",
    "\n",
    "# async def embed_batch(texts, attempt=1):\n",
    "#     async with semaphore:\n",
    "#         try:\n",
    "#             response = await client.embeddings.create(\n",
    "#                 model=\"text-embedding-3-large\",\n",
    "#                 input=texts\n",
    "#             )\n",
    "#             return [item.embedding for item in response.data]\n",
    "\n",
    "#         except OpenAIError as e:\n",
    "#             if attempt <= MAX_RETRIES:\n",
    "#                 wait = RETRY_BACKOFF ** attempt\n",
    "#                 print(f\"[Retrying in {wait}s] Error: {e}\")\n",
    "#                 await asyncio.sleep(wait)\n",
    "#                 return await embed_batch(texts, attempt + 1)\n",
    "#             else:\n",
    "#                 print(f\"[Failed after {MAX_RETRIES} attempts] {e}\")\n",
    "#                 return [None] * len(texts)\n",
    "\n",
    "# async def embed_all(texts):\n",
    "#     batches = [texts[i:i + BATCH_SIZE] for i in range(0, len(texts), BATCH_SIZE)]\n",
    "\n",
    "#     tasks = [embed_batch(batch) for batch in batches]\n",
    "#     results = []\n",
    "#     for coro in tqdm_asyncio.gather(*tasks, desc=\"Embedding\", total=len(batches)):\n",
    "#         batch_result = await coro\n",
    "#         results.extend(batch_result)\n",
    "#     return results\n",
    "\n",
    "# async def run_embedding(df):\n",
    "#     texts = df[\"text\"].tolist()\n",
    "#     embeddings = await embed_all(texts)\n",
    "#     df[\"embedding\"] = embeddings\n",
    "#     return df\n",
    "\n",
    "# # Run the whole thing\n",
    "# df = asyncio.run(run_embedding(df))"
   ]
  },
  {
   "cell_type": "code",
   "execution_count": 35,
   "id": "40ed4102",
   "metadata": {},
   "outputs": [
    {
     "name": "stdout",
     "output_type": "stream",
     "text": [
      "Failed embeddings: 0\n"
     ]
    }
   ],
   "source": [
    "num_failed = df[\"embedding\"].apply(lambda x: x is None).sum()\n",
    "print(f\"Failed embeddings: {num_failed}\")"
   ]
  },
  {
   "cell_type": "code",
   "execution_count": 56,
   "id": "413dacd9",
   "metadata": {},
   "outputs": [],
   "source": [
    "from umap import UMAP\n",
    "\n",
    "umap_model = UMAP(\n",
    "    n_neighbors=15, n_components=5, min_dist=0.0, metric=\"cosine\", random_state=42\n",
    ")"
   ]
  },
  {
   "cell_type": "code",
   "execution_count": 73,
   "id": "d9005d1f",
   "metadata": {},
   "outputs": [],
   "source": [
    "from hdbscan import HDBSCAN\n",
    "\n",
    "# A higher min_topic_size will generate fewer topics and a lower min_topic_size will generate more topics.\n",
    "\n",
    "hdbscan_model = HDBSCAN(\n",
    "    min_cluster_size=18,\n",
    "    metric=\"euclidean\",\n",
    "    cluster_selection_method=\"eom\",\n",
    "    prediction_data=True,\n",
    ")"
   ]
  },
  {
   "cell_type": "code",
   "execution_count": 74,
   "id": "43685c78",
   "metadata": {},
   "outputs": [],
   "source": [
    "from sklearn.feature_extraction.text import CountVectorizer\n",
    "\n",
    "vectorizer_model = CountVectorizer(stop_words=\"english\", min_df=1, ngram_range=(1, 2))"
   ]
  },
  {
   "cell_type": "code",
   "execution_count": 75,
   "id": "406202d2",
   "metadata": {},
   "outputs": [],
   "source": [
    "from bertopic.representation import (\n",
    "    KeyBERTInspired,\n",
    "    MaximalMarginalRelevance,\n",
    "    OpenAI,\n",
    "    PartOfSpeech,\n",
    ")\n",
    "\n",
    "# KeyBERT\n",
    "keybert_model = KeyBERTInspired()\n",
    "\n",
    "# Part-of-Speech\n",
    "pos_model = PartOfSpeech(\"en_core_web_sm\")\n",
    "\n",
    "# MMR\n",
    "mmr_model = MaximalMarginalRelevance(diversity=0.3)\n",
    "\n",
    "# GPT\n",
    "prompt = \"\"\"\n",
    "I have a topic that contains the following documents:\n",
    "[DOCUMENTS]\n",
    "\n",
    "The topic is described by the following keywords: [KEYWORDS]\n",
    "\n",
    "Based on the information above, extract a short but highly descriptive topic label of at most 5 words. Make sure it is in the following format:\n",
    "topic: <topic label>\n",
    "\"\"\"\n",
    "openai_model = OpenAI(\n",
    "    client=openai.OpenAI(api_key=os.environ[\"OPENAI_API_KEY\"]),\n",
    "    model=\"gpt-4.1-nano-2025-04-14\",\n",
    "    exponential_backoff=True,\n",
    "    chat=True,\n",
    "    prompt=prompt,\n",
    ")\n",
    "\n",
    "# also consider, in order of pricing (0.010 -> 2.0):\n",
    "# gpt-4.1-nano-2025-04-14\n",
    "# gpt-4o-mini-2024-07-18\n",
    "# o3-mini-2025-01-31\n",
    "# o1-mini-2024-09-12\n",
    "# gpt-4.1-2025-04-14\n",
    "# o3-2025-04-16\n",
    "\n",
    "# All representation models\n",
    "representation_model = {\n",
    "    \"KeyBERT\": keybert_model,\n",
    "    \"OpenAI\": openai_model,\n",
    "    \"MMR\": mmr_model,\n",
    "    \"POS\": pos_model,\n",
    "}"
   ]
  },
  {
   "cell_type": "code",
   "execution_count": 76,
   "id": "c7ac8113",
   "metadata": {},
   "outputs": [
    {
     "name": "stderr",
     "output_type": "stream",
     "text": [
      "2025-06-11 23:20:01,286 - BERTopic - Embedding - Transforming documents to embeddings.\n"
     ]
    },
    {
     "name": "stderr",
     "output_type": "stream",
     "text": [
      "2025-06-11 23:20:05,271 - BERTopic - Embedding - Completed ✓\n",
      "2025-06-11 23:20:05,273 - BERTopic - Dimensionality - Fitting the dimensionality reduction algorithm\n",
      "2025-06-11 23:20:12,549 - BERTopic - Dimensionality - Completed ✓\n",
      "2025-06-11 23:20:12,553 - BERTopic - Cluster - Start clustering the reduced embeddings\n",
      "2025-06-11 23:20:12,614 - BERTopic - Cluster - Completed ✓\n",
      "2025-06-11 23:20:12,622 - BERTopic - Representation - Fine-tuning topics using representation models.\n",
      "100%|██████████| 12/12 [00:06<00:00,  1.95it/s]\n",
      "2025-06-11 23:20:40,104 - BERTopic - Representation - Completed ✓\n"
     ]
    }
   ],
   "source": [
    "from bertopic import BERTopic\n",
    "from huggingface_hub import DocumentQuestionAnsweringOutputElement\n",
    "from numpy import ndarray\n",
    "\n",
    "topic_model = BERTopic(\n",
    "    # Pipeline models\n",
    "    embedding_model=embedding_model,\n",
    "    umap_model=umap_model,\n",
    "    hdbscan_model=hdbscan_model,\n",
    "    vectorizer_model=vectorizer_model,\n",
    "    representation_model=representation_model,  # type: ignore\n",
    "    # Hyperparameters\n",
    "    top_n_words=10,\n",
    "    verbose=True,\n",
    ")\n",
    "\n",
    "topics, probs = topic_model.fit_transform(documents)\n",
    "# topics, probs = topic_model.fit_transform(documents)"
   ]
  },
  {
   "cell_type": "code",
   "execution_count": 77,
   "id": "f32cd953",
   "metadata": {},
   "outputs": [],
   "source": [
    "topic_model.save(MODEL_NAME, serialization=\"safetensors\")"
   ]
  },
  {
   "cell_type": "code",
   "execution_count": 78,
   "id": "40d5abdb",
   "metadata": {},
   "outputs": [
    {
     "data": {
      "application/vnd.plotly.v1+json": {
       "config": {
        "plotlyServerURL": "https://plot.ly"
       },
       "data": [
        {
         "customdata": [
          [
           0,
           "slop | term | spam | ai | ai slop",
           133
          ],
          [
           1,
           "ai | content | brands | brand | ai slop",
           104
          ],
          [
           2,
           "content | ai | money | make | creators",
           72
          ],
          [
           3,
           "facebook | ai | images | meta | slop",
           69
          ],
          [
           4,
           "ai | generative | generative ai | technology | creative",
           69
          ],
          [
           5,
           "fema | misinformation | people | reality | public",
           57
          ],
          [
           6,
           "books | ai generated | generated | librarians | libraries",
           32
          ],
          [
           7,
           "trump | harris | donald | donald trump | posted",
           28
          ],
          [
           8,
           "search | google | results | search results | overview",
           26
          ],
          [
           9,
           "trump | mcdonald | man | food | slop",
           21
          ],
          [
           10,
           "foundation | organization | muse | freedom | non",
           19
          ]
         ],
         "hovertemplate": "<b>Topic %{customdata[0]}</b><br>%{customdata[1]}<br>Size: %{customdata[2]}",
         "legendgroup": "",
         "marker": {
          "color": "#B0BEC5",
          "line": {
           "color": "DarkSlateGrey",
           "width": 2
          },
          "size": {
           "bdata": "hQBoAEgARQBFADkAIAAcABoAFQATAA==",
           "dtype": "i2"
          },
          "sizemode": "area",
          "sizeref": 0.083125,
          "symbol": "circle"
         },
         "mode": "markers",
         "name": "",
         "orientation": "v",
         "showlegend": false,
         "type": "scatter",
         "x": {
          "bdata": "V5fpPw3uHEBbWTJA1LUcQGPpGkDu97RAtKy4PxNtvkD4TTZAUIS0QET3t0A=",
          "dtype": "f4"
         },
         "xaxis": "x",
         "y": {
          "bdata": "SEIQQR8tJEH6VBBB/B8aQSGoKkGEeNBBlAUQQXLXyEHExxlBLmzMQRS4xUE=",
          "dtype": "f4"
         },
         "yaxis": "y"
        }
       ],
       "layout": {
        "annotations": [
         {
          "showarrow": false,
          "text": "D1",
          "x": 1.2263549089431762,
          "y": 18.80941495895386,
          "yshift": 10
         },
         {
          "showarrow": false,
          "text": "D2",
          "x": 4.0348959207534785,
          "xshift": 10,
          "y": 29.96767234802246
         }
        ],
        "height": 650,
        "hoverlabel": {
         "bgcolor": "white",
         "font": {
          "family": "Rockwell",
          "size": 16
         }
        },
        "legend": {
         "itemsizing": "constant",
         "tracegroupgap": 0
        },
        "margin": {
         "t": 60
        },
        "shapes": [
         {
          "line": {
           "color": "#CFD8DC",
           "width": 2
          },
          "type": "line",
          "x0": 4.0348959207534785,
          "x1": 4.0348959207534785,
          "y0": 7.651157569885254,
          "y1": 29.96767234802246
         },
         {
          "line": {
           "color": "#9E9E9E",
           "width": 2
          },
          "type": "line",
          "x0": 1.2263549089431762,
          "x1": 6.843436932563781,
          "y0": 18.80941495895386,
          "y1": 18.80941495895386
         }
        ],
        "sliders": [
         {
          "active": 0,
          "pad": {
           "t": 50
          },
          "steps": [
           {
            "args": [
             {
              "marker.color": [
               [
                "red",
                "#B0BEC5",
                "#B0BEC5",
                "#B0BEC5",
                "#B0BEC5",
                "#B0BEC5",
                "#B0BEC5",
                "#B0BEC5",
                "#B0BEC5",
                "#B0BEC5",
                "#B0BEC5"
               ]
              ]
             }
            ],
            "label": "Topic 0",
            "method": "update"
           },
           {
            "args": [
             {
              "marker.color": [
               [
                "#B0BEC5",
                "red",
                "#B0BEC5",
                "#B0BEC5",
                "#B0BEC5",
                "#B0BEC5",
                "#B0BEC5",
                "#B0BEC5",
                "#B0BEC5",
                "#B0BEC5",
                "#B0BEC5"
               ]
              ]
             }
            ],
            "label": "Topic 1",
            "method": "update"
           },
           {
            "args": [
             {
              "marker.color": [
               [
                "#B0BEC5",
                "#B0BEC5",
                "red",
                "#B0BEC5",
                "#B0BEC5",
                "#B0BEC5",
                "#B0BEC5",
                "#B0BEC5",
                "#B0BEC5",
                "#B0BEC5",
                "#B0BEC5"
               ]
              ]
             }
            ],
            "label": "Topic 2",
            "method": "update"
           },
           {
            "args": [
             {
              "marker.color": [
               [
                "#B0BEC5",
                "#B0BEC5",
                "#B0BEC5",
                "red",
                "#B0BEC5",
                "#B0BEC5",
                "#B0BEC5",
                "#B0BEC5",
                "#B0BEC5",
                "#B0BEC5",
                "#B0BEC5"
               ]
              ]
             }
            ],
            "label": "Topic 3",
            "method": "update"
           },
           {
            "args": [
             {
              "marker.color": [
               [
                "#B0BEC5",
                "#B0BEC5",
                "#B0BEC5",
                "#B0BEC5",
                "red",
                "#B0BEC5",
                "#B0BEC5",
                "#B0BEC5",
                "#B0BEC5",
                "#B0BEC5",
                "#B0BEC5"
               ]
              ]
             }
            ],
            "label": "Topic 4",
            "method": "update"
           },
           {
            "args": [
             {
              "marker.color": [
               [
                "#B0BEC5",
                "#B0BEC5",
                "#B0BEC5",
                "#B0BEC5",
                "#B0BEC5",
                "red",
                "#B0BEC5",
                "#B0BEC5",
                "#B0BEC5",
                "#B0BEC5",
                "#B0BEC5"
               ]
              ]
             }
            ],
            "label": "Topic 5",
            "method": "update"
           },
           {
            "args": [
             {
              "marker.color": [
               [
                "#B0BEC5",
                "#B0BEC5",
                "#B0BEC5",
                "#B0BEC5",
                "#B0BEC5",
                "#B0BEC5",
                "red",
                "#B0BEC5",
                "#B0BEC5",
                "#B0BEC5",
                "#B0BEC5"
               ]
              ]
             }
            ],
            "label": "Topic 6",
            "method": "update"
           },
           {
            "args": [
             {
              "marker.color": [
               [
                "#B0BEC5",
                "#B0BEC5",
                "#B0BEC5",
                "#B0BEC5",
                "#B0BEC5",
                "#B0BEC5",
                "#B0BEC5",
                "red",
                "#B0BEC5",
                "#B0BEC5",
                "#B0BEC5"
               ]
              ]
             }
            ],
            "label": "Topic 7",
            "method": "update"
           },
           {
            "args": [
             {
              "marker.color": [
               [
                "#B0BEC5",
                "#B0BEC5",
                "#B0BEC5",
                "#B0BEC5",
                "#B0BEC5",
                "#B0BEC5",
                "#B0BEC5",
                "#B0BEC5",
                "red",
                "#B0BEC5",
                "#B0BEC5"
               ]
              ]
             }
            ],
            "label": "Topic 8",
            "method": "update"
           },
           {
            "args": [
             {
              "marker.color": [
               [
                "#B0BEC5",
                "#B0BEC5",
                "#B0BEC5",
                "#B0BEC5",
                "#B0BEC5",
                "#B0BEC5",
                "#B0BEC5",
                "#B0BEC5",
                "#B0BEC5",
                "red",
                "#B0BEC5"
               ]
              ]
             }
            ],
            "label": "Topic 9",
            "method": "update"
           },
           {
            "args": [
             {
              "marker.color": [
               [
                "#B0BEC5",
                "#B0BEC5",
                "#B0BEC5",
                "#B0BEC5",
                "#B0BEC5",
                "#B0BEC5",
                "#B0BEC5",
                "#B0BEC5",
                "#B0BEC5",
                "#B0BEC5",
                "red"
               ]
              ]
             }
            ],
            "label": "Topic 10",
            "method": "update"
           }
          ]
         }
        ],
        "template": {
         "data": {
          "bar": [
           {
            "error_x": {
             "color": "rgb(36,36,36)"
            },
            "error_y": {
             "color": "rgb(36,36,36)"
            },
            "marker": {
             "line": {
              "color": "white",
              "width": 0.5
             },
             "pattern": {
              "fillmode": "overlay",
              "size": 10,
              "solidity": 0.2
             }
            },
            "type": "bar"
           }
          ],
          "barpolar": [
           {
            "marker": {
             "line": {
              "color": "white",
              "width": 0.5
             },
             "pattern": {
              "fillmode": "overlay",
              "size": 10,
              "solidity": 0.2
             }
            },
            "type": "barpolar"
           }
          ],
          "carpet": [
           {
            "aaxis": {
             "endlinecolor": "rgb(36,36,36)",
             "gridcolor": "white",
             "linecolor": "white",
             "minorgridcolor": "white",
             "startlinecolor": "rgb(36,36,36)"
            },
            "baxis": {
             "endlinecolor": "rgb(36,36,36)",
             "gridcolor": "white",
             "linecolor": "white",
             "minorgridcolor": "white",
             "startlinecolor": "rgb(36,36,36)"
            },
            "type": "carpet"
           }
          ],
          "choropleth": [
           {
            "colorbar": {
             "outlinewidth": 1,
             "tickcolor": "rgb(36,36,36)",
             "ticks": "outside"
            },
            "type": "choropleth"
           }
          ],
          "contour": [
           {
            "colorbar": {
             "outlinewidth": 1,
             "tickcolor": "rgb(36,36,36)",
             "ticks": "outside"
            },
            "colorscale": [
             [
              0,
              "#440154"
             ],
             [
              0.1111111111111111,
              "#482878"
             ],
             [
              0.2222222222222222,
              "#3e4989"
             ],
             [
              0.3333333333333333,
              "#31688e"
             ],
             [
              0.4444444444444444,
              "#26828e"
             ],
             [
              0.5555555555555556,
              "#1f9e89"
             ],
             [
              0.6666666666666666,
              "#35b779"
             ],
             [
              0.7777777777777778,
              "#6ece58"
             ],
             [
              0.8888888888888888,
              "#b5de2b"
             ],
             [
              1,
              "#fde725"
             ]
            ],
            "type": "contour"
           }
          ],
          "contourcarpet": [
           {
            "colorbar": {
             "outlinewidth": 1,
             "tickcolor": "rgb(36,36,36)",
             "ticks": "outside"
            },
            "type": "contourcarpet"
           }
          ],
          "heatmap": [
           {
            "colorbar": {
             "outlinewidth": 1,
             "tickcolor": "rgb(36,36,36)",
             "ticks": "outside"
            },
            "colorscale": [
             [
              0,
              "#440154"
             ],
             [
              0.1111111111111111,
              "#482878"
             ],
             [
              0.2222222222222222,
              "#3e4989"
             ],
             [
              0.3333333333333333,
              "#31688e"
             ],
             [
              0.4444444444444444,
              "#26828e"
             ],
             [
              0.5555555555555556,
              "#1f9e89"
             ],
             [
              0.6666666666666666,
              "#35b779"
             ],
             [
              0.7777777777777778,
              "#6ece58"
             ],
             [
              0.8888888888888888,
              "#b5de2b"
             ],
             [
              1,
              "#fde725"
             ]
            ],
            "type": "heatmap"
           }
          ],
          "histogram": [
           {
            "marker": {
             "line": {
              "color": "white",
              "width": 0.6
             }
            },
            "type": "histogram"
           }
          ],
          "histogram2d": [
           {
            "colorbar": {
             "outlinewidth": 1,
             "tickcolor": "rgb(36,36,36)",
             "ticks": "outside"
            },
            "colorscale": [
             [
              0,
              "#440154"
             ],
             [
              0.1111111111111111,
              "#482878"
             ],
             [
              0.2222222222222222,
              "#3e4989"
             ],
             [
              0.3333333333333333,
              "#31688e"
             ],
             [
              0.4444444444444444,
              "#26828e"
             ],
             [
              0.5555555555555556,
              "#1f9e89"
             ],
             [
              0.6666666666666666,
              "#35b779"
             ],
             [
              0.7777777777777778,
              "#6ece58"
             ],
             [
              0.8888888888888888,
              "#b5de2b"
             ],
             [
              1,
              "#fde725"
             ]
            ],
            "type": "histogram2d"
           }
          ],
          "histogram2dcontour": [
           {
            "colorbar": {
             "outlinewidth": 1,
             "tickcolor": "rgb(36,36,36)",
             "ticks": "outside"
            },
            "colorscale": [
             [
              0,
              "#440154"
             ],
             [
              0.1111111111111111,
              "#482878"
             ],
             [
              0.2222222222222222,
              "#3e4989"
             ],
             [
              0.3333333333333333,
              "#31688e"
             ],
             [
              0.4444444444444444,
              "#26828e"
             ],
             [
              0.5555555555555556,
              "#1f9e89"
             ],
             [
              0.6666666666666666,
              "#35b779"
             ],
             [
              0.7777777777777778,
              "#6ece58"
             ],
             [
              0.8888888888888888,
              "#b5de2b"
             ],
             [
              1,
              "#fde725"
             ]
            ],
            "type": "histogram2dcontour"
           }
          ],
          "mesh3d": [
           {
            "colorbar": {
             "outlinewidth": 1,
             "tickcolor": "rgb(36,36,36)",
             "ticks": "outside"
            },
            "type": "mesh3d"
           }
          ],
          "parcoords": [
           {
            "line": {
             "colorbar": {
              "outlinewidth": 1,
              "tickcolor": "rgb(36,36,36)",
              "ticks": "outside"
             }
            },
            "type": "parcoords"
           }
          ],
          "pie": [
           {
            "automargin": true,
            "type": "pie"
           }
          ],
          "scatter": [
           {
            "fillpattern": {
             "fillmode": "overlay",
             "size": 10,
             "solidity": 0.2
            },
            "type": "scatter"
           }
          ],
          "scatter3d": [
           {
            "line": {
             "colorbar": {
              "outlinewidth": 1,
              "tickcolor": "rgb(36,36,36)",
              "ticks": "outside"
             }
            },
            "marker": {
             "colorbar": {
              "outlinewidth": 1,
              "tickcolor": "rgb(36,36,36)",
              "ticks": "outside"
             }
            },
            "type": "scatter3d"
           }
          ],
          "scattercarpet": [
           {
            "marker": {
             "colorbar": {
              "outlinewidth": 1,
              "tickcolor": "rgb(36,36,36)",
              "ticks": "outside"
             }
            },
            "type": "scattercarpet"
           }
          ],
          "scattergeo": [
           {
            "marker": {
             "colorbar": {
              "outlinewidth": 1,
              "tickcolor": "rgb(36,36,36)",
              "ticks": "outside"
             }
            },
            "type": "scattergeo"
           }
          ],
          "scattergl": [
           {
            "marker": {
             "colorbar": {
              "outlinewidth": 1,
              "tickcolor": "rgb(36,36,36)",
              "ticks": "outside"
             }
            },
            "type": "scattergl"
           }
          ],
          "scattermap": [
           {
            "marker": {
             "colorbar": {
              "outlinewidth": 1,
              "tickcolor": "rgb(36,36,36)",
              "ticks": "outside"
             }
            },
            "type": "scattermap"
           }
          ],
          "scattermapbox": [
           {
            "marker": {
             "colorbar": {
              "outlinewidth": 1,
              "tickcolor": "rgb(36,36,36)",
              "ticks": "outside"
             }
            },
            "type": "scattermapbox"
           }
          ],
          "scatterpolar": [
           {
            "marker": {
             "colorbar": {
              "outlinewidth": 1,
              "tickcolor": "rgb(36,36,36)",
              "ticks": "outside"
             }
            },
            "type": "scatterpolar"
           }
          ],
          "scatterpolargl": [
           {
            "marker": {
             "colorbar": {
              "outlinewidth": 1,
              "tickcolor": "rgb(36,36,36)",
              "ticks": "outside"
             }
            },
            "type": "scatterpolargl"
           }
          ],
          "scatterternary": [
           {
            "marker": {
             "colorbar": {
              "outlinewidth": 1,
              "tickcolor": "rgb(36,36,36)",
              "ticks": "outside"
             }
            },
            "type": "scatterternary"
           }
          ],
          "surface": [
           {
            "colorbar": {
             "outlinewidth": 1,
             "tickcolor": "rgb(36,36,36)",
             "ticks": "outside"
            },
            "colorscale": [
             [
              0,
              "#440154"
             ],
             [
              0.1111111111111111,
              "#482878"
             ],
             [
              0.2222222222222222,
              "#3e4989"
             ],
             [
              0.3333333333333333,
              "#31688e"
             ],
             [
              0.4444444444444444,
              "#26828e"
             ],
             [
              0.5555555555555556,
              "#1f9e89"
             ],
             [
              0.6666666666666666,
              "#35b779"
             ],
             [
              0.7777777777777778,
              "#6ece58"
             ],
             [
              0.8888888888888888,
              "#b5de2b"
             ],
             [
              1,
              "#fde725"
             ]
            ],
            "type": "surface"
           }
          ],
          "table": [
           {
            "cells": {
             "fill": {
              "color": "rgb(237,237,237)"
             },
             "line": {
              "color": "white"
             }
            },
            "header": {
             "fill": {
              "color": "rgb(217,217,217)"
             },
             "line": {
              "color": "white"
             }
            },
            "type": "table"
           }
          ]
         },
         "layout": {
          "annotationdefaults": {
           "arrowhead": 0,
           "arrowwidth": 1
          },
          "autotypenumbers": "strict",
          "coloraxis": {
           "colorbar": {
            "outlinewidth": 1,
            "tickcolor": "rgb(36,36,36)",
            "ticks": "outside"
           }
          },
          "colorscale": {
           "diverging": [
            [
             0,
             "rgb(103,0,31)"
            ],
            [
             0.1,
             "rgb(178,24,43)"
            ],
            [
             0.2,
             "rgb(214,96,77)"
            ],
            [
             0.3,
             "rgb(244,165,130)"
            ],
            [
             0.4,
             "rgb(253,219,199)"
            ],
            [
             0.5,
             "rgb(247,247,247)"
            ],
            [
             0.6,
             "rgb(209,229,240)"
            ],
            [
             0.7,
             "rgb(146,197,222)"
            ],
            [
             0.8,
             "rgb(67,147,195)"
            ],
            [
             0.9,
             "rgb(33,102,172)"
            ],
            [
             1,
             "rgb(5,48,97)"
            ]
           ],
           "sequential": [
            [
             0,
             "#440154"
            ],
            [
             0.1111111111111111,
             "#482878"
            ],
            [
             0.2222222222222222,
             "#3e4989"
            ],
            [
             0.3333333333333333,
             "#31688e"
            ],
            [
             0.4444444444444444,
             "#26828e"
            ],
            [
             0.5555555555555556,
             "#1f9e89"
            ],
            [
             0.6666666666666666,
             "#35b779"
            ],
            [
             0.7777777777777778,
             "#6ece58"
            ],
            [
             0.8888888888888888,
             "#b5de2b"
            ],
            [
             1,
             "#fde725"
            ]
           ],
           "sequentialminus": [
            [
             0,
             "#440154"
            ],
            [
             0.1111111111111111,
             "#482878"
            ],
            [
             0.2222222222222222,
             "#3e4989"
            ],
            [
             0.3333333333333333,
             "#31688e"
            ],
            [
             0.4444444444444444,
             "#26828e"
            ],
            [
             0.5555555555555556,
             "#1f9e89"
            ],
            [
             0.6666666666666666,
             "#35b779"
            ],
            [
             0.7777777777777778,
             "#6ece58"
            ],
            [
             0.8888888888888888,
             "#b5de2b"
            ],
            [
             1,
             "#fde725"
            ]
           ]
          },
          "colorway": [
           "#1F77B4",
           "#FF7F0E",
           "#2CA02C",
           "#D62728",
           "#9467BD",
           "#8C564B",
           "#E377C2",
           "#7F7F7F",
           "#BCBD22",
           "#17BECF"
          ],
          "font": {
           "color": "rgb(36,36,36)"
          },
          "geo": {
           "bgcolor": "white",
           "lakecolor": "white",
           "landcolor": "white",
           "showlakes": true,
           "showland": true,
           "subunitcolor": "white"
          },
          "hoverlabel": {
           "align": "left"
          },
          "hovermode": "closest",
          "mapbox": {
           "style": "light"
          },
          "paper_bgcolor": "white",
          "plot_bgcolor": "white",
          "polar": {
           "angularaxis": {
            "gridcolor": "rgb(232,232,232)",
            "linecolor": "rgb(36,36,36)",
            "showgrid": false,
            "showline": true,
            "ticks": "outside"
           },
           "bgcolor": "white",
           "radialaxis": {
            "gridcolor": "rgb(232,232,232)",
            "linecolor": "rgb(36,36,36)",
            "showgrid": false,
            "showline": true,
            "ticks": "outside"
           }
          },
          "scene": {
           "xaxis": {
            "backgroundcolor": "white",
            "gridcolor": "rgb(232,232,232)",
            "gridwidth": 2,
            "linecolor": "rgb(36,36,36)",
            "showbackground": true,
            "showgrid": false,
            "showline": true,
            "ticks": "outside",
            "zeroline": false,
            "zerolinecolor": "rgb(36,36,36)"
           },
           "yaxis": {
            "backgroundcolor": "white",
            "gridcolor": "rgb(232,232,232)",
            "gridwidth": 2,
            "linecolor": "rgb(36,36,36)",
            "showbackground": true,
            "showgrid": false,
            "showline": true,
            "ticks": "outside",
            "zeroline": false,
            "zerolinecolor": "rgb(36,36,36)"
           },
           "zaxis": {
            "backgroundcolor": "white",
            "gridcolor": "rgb(232,232,232)",
            "gridwidth": 2,
            "linecolor": "rgb(36,36,36)",
            "showbackground": true,
            "showgrid": false,
            "showline": true,
            "ticks": "outside",
            "zeroline": false,
            "zerolinecolor": "rgb(36,36,36)"
           }
          },
          "shapedefaults": {
           "fillcolor": "black",
           "line": {
            "width": 0
           },
           "opacity": 0.3
          },
          "ternary": {
           "aaxis": {
            "gridcolor": "rgb(232,232,232)",
            "linecolor": "rgb(36,36,36)",
            "showgrid": false,
            "showline": true,
            "ticks": "outside"
           },
           "baxis": {
            "gridcolor": "rgb(232,232,232)",
            "linecolor": "rgb(36,36,36)",
            "showgrid": false,
            "showline": true,
            "ticks": "outside"
           },
           "bgcolor": "white",
           "caxis": {
            "gridcolor": "rgb(232,232,232)",
            "linecolor": "rgb(36,36,36)",
            "showgrid": false,
            "showline": true,
            "ticks": "outside"
           }
          },
          "title": {
           "x": 0.05
          },
          "xaxis": {
           "automargin": true,
           "gridcolor": "rgb(232,232,232)",
           "linecolor": "rgb(36,36,36)",
           "showgrid": false,
           "showline": true,
           "ticks": "outside",
           "title": {
            "standoff": 15
           },
           "zeroline": false,
           "zerolinecolor": "rgb(36,36,36)"
          },
          "yaxis": {
           "automargin": true,
           "gridcolor": "rgb(232,232,232)",
           "linecolor": "rgb(36,36,36)",
           "showgrid": false,
           "showline": true,
           "ticks": "outside",
           "title": {
            "standoff": 15
           },
           "zeroline": false,
           "zerolinecolor": "rgb(36,36,36)"
          }
         }
        },
        "title": {
         "font": {
          "color": "Black",
          "size": 22
         },
         "text": "<b>Intertopic Distance Map</b>",
         "x": 0.5,
         "xanchor": "center",
         "y": 0.95,
         "yanchor": "top"
        },
        "width": 650,
        "xaxis": {
         "anchor": "y",
         "domain": [
          0,
          1
         ],
         "range": [
          1.2263549089431762,
          6.843436932563781
         ],
         "title": {
          "text": ""
         },
         "visible": false
        },
        "yaxis": {
         "anchor": "x",
         "domain": [
          0,
          1
         ],
         "range": [
          7.651157569885254,
          29.96767234802246
         ],
         "title": {
          "text": ""
         },
         "visible": false
        }
       }
      }
     },
     "metadata": {},
     "output_type": "display_data"
    }
   ],
   "source": [
    "topic_model.visualize_topics(custom_labels=True)"
   ]
  },
  {
   "cell_type": "code",
   "execution_count": 79,
   "id": "e2d6856f",
   "metadata": {},
   "outputs": [
    {
     "data": {
      "text/html": [
       "<div>\n",
       "<style scoped>\n",
       "    .dataframe tbody tr th:only-of-type {\n",
       "        vertical-align: middle;\n",
       "    }\n",
       "\n",
       "    .dataframe tbody tr th {\n",
       "        vertical-align: top;\n",
       "    }\n",
       "\n",
       "    .dataframe thead th {\n",
       "        text-align: right;\n",
       "    }\n",
       "</style>\n",
       "<table border=\"1\" class=\"dataframe\">\n",
       "  <thead>\n",
       "    <tr style=\"text-align: right;\">\n",
       "      <th></th>\n",
       "      <th>Topic</th>\n",
       "      <th>Count</th>\n",
       "      <th>Name</th>\n",
       "      <th>CustomName</th>\n",
       "      <th>Representation</th>\n",
       "      <th>KeyBERT</th>\n",
       "      <th>OpenAI</th>\n",
       "      <th>MMR</th>\n",
       "      <th>POS</th>\n",
       "      <th>Representative_Docs</th>\n",
       "    </tr>\n",
       "  </thead>\n",
       "  <tbody>\n",
       "    <tr>\n",
       "      <th>0</th>\n",
       "      <td>-1</td>\n",
       "      <td>293</td>\n",
       "      <td>-1_ai_image_generated_content</td>\n",
       "      <td>Outlier Topic</td>\n",
       "      <td>[ai, image, generated, content, like, internet...</td>\n",
       "      <td>[ai generated, generative ai, bots, fake, soci...</td>\n",
       "      <td>[AI-Generated Content and Misinformation]</td>\n",
       "      <td>[generated, content, chatgpt, ai generated, tr...</td>\n",
       "      <td>[image, content, internet, people, images, med...</td>\n",
       "      <td>[[4]\\nIt has been variously defined as \"digita...</td>\n",
       "    </tr>\n",
       "    <tr>\n",
       "      <th>1</th>\n",
       "      <td>0</td>\n",
       "      <td>133</td>\n",
       "      <td>0_slop_term_spam_ai</td>\n",
       "      <td>Artificial Intelligence Spam Content</td>\n",
       "      <td>[slop, term, spam, ai, ai slop, generated, thi...</td>\n",
       "      <td>[term slop, slop isn, slop term, slop ai, slop...</td>\n",
       "      <td>[Artificial Intelligence Spam Content]</td>\n",
       "      <td>[slop, spam, ai slop, word, slop term, generat...</td>\n",
       "      <td>[slop, term, spam, internet, word, early, cont...</td>\n",
       "      <td>[That’s slop., They’re slop as well., Why slop?]</td>\n",
       "    </tr>\n",
       "    <tr>\n",
       "      <th>2</th>\n",
       "      <td>1</td>\n",
       "      <td>104</td>\n",
       "      <td>1_ai_content_brands_brand</td>\n",
       "      <td>Viral Italian Brainrot and Brands</td>\n",
       "      <td>[ai, content, brands, brand, ai slop, human, g...</td>\n",
       "      <td>[italian brainrot, authentic content, makes br...</td>\n",
       "      <td>[Viral Italian Brainrot and Brands]</td>\n",
       "      <td>[content, brands, ai slop, italian brainrot, e...</td>\n",
       "      <td>[content, brands, brand, human, brainrot, slop...</td>\n",
       "      <td>[- ^ \"Why Brands Are Embracing 'Italian Brainr...</td>\n",
       "    </tr>\n",
       "    <tr>\n",
       "      <th>3</th>\n",
       "      <td>2</td>\n",
       "      <td>72</td>\n",
       "      <td>2_content_ai_money_make</td>\n",
       "      <td>AI-Driven Content Monetization</td>\n",
       "      <td>[content, ai, money, make, creators, videos, m...</td>\n",
       "      <td>[generative ai, ai generated, viral content, m...</td>\n",
       "      <td>[AI-Driven Content Monetization]</td>\n",
       "      <td>[content, creators, videos, make money, platfo...</td>\n",
       "      <td>[content, money, creators, videos, platforms, ...</td>\n",
       "      <td>[Since the generative AI boom began, a class o...</td>\n",
       "    </tr>\n",
       "    <tr>\n",
       "      <th>4</th>\n",
       "      <td>3</td>\n",
       "      <td>69</td>\n",
       "      <td>3_facebook_ai_images_meta</td>\n",
       "      <td>AI-Generated Bizarre Social Media Content</td>\n",
       "      <td>[facebook, ai, images, meta, slop, jesus, ai s...</td>\n",
       "      <td>[slop facebook, facebook ai, facebook just, im...</td>\n",
       "      <td>[AI-Generated Bizarre Social Media Content]</td>\n",
       "      <td>[facebook, meta, ai slop, ai generated, fake, ...</td>\n",
       "      <td>[images, slop, pages, children, fake, birthday...</td>\n",
       "      <td>[Image-generated slop has also blossomed on Fa...</td>\n",
       "    </tr>\n",
       "    <tr>\n",
       "      <th>5</th>\n",
       "      <td>4</td>\n",
       "      <td>69</td>\n",
       "      <td>4_ai_generative_generative ai_technology</td>\n",
       "      <td>Challenges and Potential of Generative AI</td>\n",
       "      <td>[ai, generative, generative ai, technology, cr...</td>\n",
       "      <td>[generative ai, generative, believe generative...</td>\n",
       "      <td>[Challenges and Potential of Generative AI]</td>\n",
       "      <td>[generative, generative ai, creative, ai poten...</td>\n",
       "      <td>[generative, technology, creative, potential, ...</td>\n",
       "      <td>[\"I believe that generative AI has the potenti...</td>\n",
       "    </tr>\n",
       "    <tr>\n",
       "      <th>6</th>\n",
       "      <td>5</td>\n",
       "      <td>57</td>\n",
       "      <td>5_fema_misinformation_people_reality</td>\n",
       "      <td>Misinformation and Conspiracy Theories</td>\n",
       "      <td>[fema, misinformation, people, reality, public...</td>\n",
       "      <td>[misinformation crisis, conspiracy theories, m...</td>\n",
       "      <td>[Misinformation and Conspiracy Theories]</td>\n",
       "      <td>[fema, misinformation, north carolina, hurrica...</td>\n",
       "      <td>[misinformation, people, reality, public, theo...</td>\n",
       "      <td>[To watch as real information is overwhelmed b...</td>\n",
       "    </tr>\n",
       "    <tr>\n",
       "      <th>7</th>\n",
       "      <td>6</td>\n",
       "      <td>32</td>\n",
       "      <td>6_books_ai generated_generated_librarians</td>\n",
       "      <td>AI-Generated Books in Libraries</td>\n",
       "      <td>[books, ai generated, generated, librarians, l...</td>\n",
       "      <td>[librarians, public libraries, books cost, ebo...</td>\n",
       "      <td>[AI-Generated Books in Libraries]</td>\n",
       "      <td>[books, librarians, hoopla, edible, sula, eboo...</td>\n",
       "      <td>[books, librarians, libraries, library, catalo...</td>\n",
       "      <td>[Both companies have a variety of payment opti...</td>\n",
       "    </tr>\n",
       "    <tr>\n",
       "      <th>8</th>\n",
       "      <td>7</td>\n",
       "      <td>28</td>\n",
       "      <td>7_trump_harris_donald_donald trump</td>\n",
       "      <td>AI-Generated Political Misinformation</td>\n",
       "      <td>[trump, harris, donald, donald trump, posted, ...</td>\n",
       "      <td>[swifties trump, trump posted, depictions trum...</td>\n",
       "      <td>[AI-Generated Political Misinformation]</td>\n",
       "      <td>[trump, donald trump, taylor swift, images, tr...</td>\n",
       "      <td>[images, shirts, women, social, depictions, fa...</td>\n",
       "      <td>[One pro-Trump, Elon-Musk-fanboy account recen...</td>\n",
       "    </tr>\n",
       "    <tr>\n",
       "      <th>9</th>\n",
       "      <td>8</td>\n",
       "      <td>26</td>\n",
       "      <td>8_search_google_results_search results</td>\n",
       "      <td>AI-Driven Search Result Reliability</td>\n",
       "      <td>[search, google, results, search results, over...</td>\n",
       "      <td>[leading google, search engines, like google, ...</td>\n",
       "      <td>[AI-Driven Search Result Reliability]</td>\n",
       "      <td>[google, search results, search engine, answer...</td>\n",
       "      <td>[search, results, overviews, engine, links, an...</td>\n",
       "      <td>[Last week, Google announced an ambitious plan...</td>\n",
       "    </tr>\n",
       "    <tr>\n",
       "      <th>10</th>\n",
       "      <td>9</td>\n",
       "      <td>21</td>\n",
       "      <td>9_trump_mcdonald_man_food</td>\n",
       "      <td>Trump, AI, and Food Culture</td>\n",
       "      <td>[trump, mcdonald, man, food, slop, candidate, ...</td>\n",
       "      <td>[model trump, obvious trump, like trump, publi...</td>\n",
       "      <td>[Trump, AI, and Food Culture]</td>\n",
       "      <td>[trump, mcdonald, food, slop, candidate, fast ...</td>\n",
       "      <td>[man, food, slop, fast food, candidate, fast, ...</td>\n",
       "      <td>[Perhaps it’s because my feeds have been simul...</td>\n",
       "    </tr>\n",
       "    <tr>\n",
       "      <th>11</th>\n",
       "      <td>10</td>\n",
       "      <td>19</td>\n",
       "      <td>10_foundation_organization_muse_freedom</td>\n",
       "      <td>Milton Foundation's Political Advocacy</td>\n",
       "      <td>[foundation, organization, muse, freedom, non,...</td>\n",
       "      <td>[milton foundation, freedom foundation, muse a...</td>\n",
       "      <td>[Milton Foundation's Political Advocacy]</td>\n",
       "      <td>[muse, fellowship, freedom foundation, investo...</td>\n",
       "      <td>[foundation, organization, freedom, non, accou...</td>\n",
       "      <td>[The organization’s board includes its chair, ...</td>\n",
       "    </tr>\n",
       "  </tbody>\n",
       "</table>\n",
       "</div>"
      ],
      "text/plain": [
       "    Topic  Count                                       Name  \\\n",
       "0      -1    293              -1_ai_image_generated_content   \n",
       "1       0    133                        0_slop_term_spam_ai   \n",
       "2       1    104                  1_ai_content_brands_brand   \n",
       "3       2     72                    2_content_ai_money_make   \n",
       "4       3     69                  3_facebook_ai_images_meta   \n",
       "5       4     69   4_ai_generative_generative ai_technology   \n",
       "6       5     57       5_fema_misinformation_people_reality   \n",
       "7       6     32  6_books_ai generated_generated_librarians   \n",
       "8       7     28         7_trump_harris_donald_donald trump   \n",
       "9       8     26     8_search_google_results_search results   \n",
       "10      9     21                  9_trump_mcdonald_man_food   \n",
       "11     10     19    10_foundation_organization_muse_freedom   \n",
       "\n",
       "                                   CustomName  \\\n",
       "0                               Outlier Topic   \n",
       "1        Artificial Intelligence Spam Content   \n",
       "2           Viral Italian Brainrot and Brands   \n",
       "3              AI-Driven Content Monetization   \n",
       "4   AI-Generated Bizarre Social Media Content   \n",
       "5   Challenges and Potential of Generative AI   \n",
       "6      Misinformation and Conspiracy Theories   \n",
       "7             AI-Generated Books in Libraries   \n",
       "8       AI-Generated Political Misinformation   \n",
       "9         AI-Driven Search Result Reliability   \n",
       "10                Trump, AI, and Food Culture   \n",
       "11     Milton Foundation's Political Advocacy   \n",
       "\n",
       "                                       Representation  \\\n",
       "0   [ai, image, generated, content, like, internet...   \n",
       "1   [slop, term, spam, ai, ai slop, generated, thi...   \n",
       "2   [ai, content, brands, brand, ai slop, human, g...   \n",
       "3   [content, ai, money, make, creators, videos, m...   \n",
       "4   [facebook, ai, images, meta, slop, jesus, ai s...   \n",
       "5   [ai, generative, generative ai, technology, cr...   \n",
       "6   [fema, misinformation, people, reality, public...   \n",
       "7   [books, ai generated, generated, librarians, l...   \n",
       "8   [trump, harris, donald, donald trump, posted, ...   \n",
       "9   [search, google, results, search results, over...   \n",
       "10  [trump, mcdonald, man, food, slop, candidate, ...   \n",
       "11  [foundation, organization, muse, freedom, non,...   \n",
       "\n",
       "                                              KeyBERT  \\\n",
       "0   [ai generated, generative ai, bots, fake, soci...   \n",
       "1   [term slop, slop isn, slop term, slop ai, slop...   \n",
       "2   [italian brainrot, authentic content, makes br...   \n",
       "3   [generative ai, ai generated, viral content, m...   \n",
       "4   [slop facebook, facebook ai, facebook just, im...   \n",
       "5   [generative ai, generative, believe generative...   \n",
       "6   [misinformation crisis, conspiracy theories, m...   \n",
       "7   [librarians, public libraries, books cost, ebo...   \n",
       "8   [swifties trump, trump posted, depictions trum...   \n",
       "9   [leading google, search engines, like google, ...   \n",
       "10  [model trump, obvious trump, like trump, publi...   \n",
       "11  [milton foundation, freedom foundation, muse a...   \n",
       "\n",
       "                                         OpenAI  \\\n",
       "0     [AI-Generated Content and Misinformation]   \n",
       "1        [Artificial Intelligence Spam Content]   \n",
       "2           [Viral Italian Brainrot and Brands]   \n",
       "3              [AI-Driven Content Monetization]   \n",
       "4   [AI-Generated Bizarre Social Media Content]   \n",
       "5   [Challenges and Potential of Generative AI]   \n",
       "6      [Misinformation and Conspiracy Theories]   \n",
       "7             [AI-Generated Books in Libraries]   \n",
       "8       [AI-Generated Political Misinformation]   \n",
       "9         [AI-Driven Search Result Reliability]   \n",
       "10                [Trump, AI, and Food Culture]   \n",
       "11     [Milton Foundation's Political Advocacy]   \n",
       "\n",
       "                                                  MMR  \\\n",
       "0   [generated, content, chatgpt, ai generated, tr...   \n",
       "1   [slop, spam, ai slop, word, slop term, generat...   \n",
       "2   [content, brands, ai slop, italian brainrot, e...   \n",
       "3   [content, creators, videos, make money, platfo...   \n",
       "4   [facebook, meta, ai slop, ai generated, fake, ...   \n",
       "5   [generative, generative ai, creative, ai poten...   \n",
       "6   [fema, misinformation, north carolina, hurrica...   \n",
       "7   [books, librarians, hoopla, edible, sula, eboo...   \n",
       "8   [trump, donald trump, taylor swift, images, tr...   \n",
       "9   [google, search results, search engine, answer...   \n",
       "10  [trump, mcdonald, food, slop, candidate, fast ...   \n",
       "11  [muse, fellowship, freedom foundation, investo...   \n",
       "\n",
       "                                                  POS  \\\n",
       "0   [image, content, internet, people, images, med...   \n",
       "1   [slop, term, spam, internet, word, early, cont...   \n",
       "2   [content, brands, brand, human, brainrot, slop...   \n",
       "3   [content, money, creators, videos, platforms, ...   \n",
       "4   [images, slop, pages, children, fake, birthday...   \n",
       "5   [generative, technology, creative, potential, ...   \n",
       "6   [misinformation, people, reality, public, theo...   \n",
       "7   [books, librarians, libraries, library, catalo...   \n",
       "8   [images, shirts, women, social, depictions, fa...   \n",
       "9   [search, results, overviews, engine, links, an...   \n",
       "10  [man, food, slop, fast food, candidate, fast, ...   \n",
       "11  [foundation, organization, freedom, non, accou...   \n",
       "\n",
       "                                  Representative_Docs  \n",
       "0   [[4]\\nIt has been variously defined as \"digita...  \n",
       "1    [That’s slop., They’re slop as well., Why slop?]  \n",
       "2   [- ^ \"Why Brands Are Embracing 'Italian Brainr...  \n",
       "3   [Since the generative AI boom began, a class o...  \n",
       "4   [Image-generated slop has also blossomed on Fa...  \n",
       "5   [\"I believe that generative AI has the potenti...  \n",
       "6   [To watch as real information is overwhelmed b...  \n",
       "7   [Both companies have a variety of payment opti...  \n",
       "8   [One pro-Trump, Elon-Musk-fanboy account recen...  \n",
       "9   [Last week, Google announced an ambitious plan...  \n",
       "10  [Perhaps it’s because my feeds have been simul...  \n",
       "11  [The organization’s board includes its chair, ...  "
      ]
     },
     "execution_count": 79,
     "metadata": {},
     "output_type": "execute_result"
    }
   ],
   "source": [
    "chatgpt_topic_labels = {\n",
    "    topic: \" | \".join(list(zip(*values))[0])\n",
    "    for topic, values in topic_model.topic_aspects_[\"OpenAI\"].items()\n",
    "}\n",
    "chatgpt_topic_labels[-1] = \"Outlier Topic\"\n",
    "topic_model.set_topic_labels(chatgpt_topic_labels)\n",
    "\n",
    "topic_model.get_topic_info()"
   ]
  },
  {
   "cell_type": "code",
   "execution_count": 80,
   "id": "5b02925d",
   "metadata": {},
   "outputs": [
    {
     "data": {
      "text/plain": [
       "['Outlier Topic',\n",
       " 'Artificial Intelligence Spam Content',\n",
       " 'Viral Italian Brainrot and Brands',\n",
       " 'AI-Driven Content Monetization',\n",
       " 'AI-Generated Bizarre Social Media Content',\n",
       " 'Challenges and Potential of Generative AI',\n",
       " 'Misinformation and Conspiracy Theories',\n",
       " 'AI-Generated Books in Libraries',\n",
       " 'AI-Generated Political Misinformation',\n",
       " 'AI-Driven Search Result Reliability',\n",
       " 'Trump, AI, and Food Culture',\n",
       " \"Milton Foundation's Political Advocacy\"]"
      ]
     },
     "execution_count": 80,
     "metadata": {},
     "output_type": "execute_result"
    }
   ],
   "source": [
    "topic_model.get_topic_info()[\"CustomName\"].tolist()"
   ]
  },
  {
   "cell_type": "code",
   "execution_count": 82,
   "id": "82405937",
   "metadata": {},
   "outputs": [
    {
     "data": {
      "application/vnd.plotly.v1+json": {
       "config": {
        "plotlyServerURL": "https://plot.ly"
       },
       "data": [
        {
         "hoverinfo": "text",
         "marker": {
          "color": "rgb(61,153,112)"
         },
         "mode": "lines",
         "type": "scatter",
         "x": {
          "bdata": "AAAAAAAAAADVq49w0FPoP9Wrj3DQU+g/AAAAAAAAAAA=",
          "dtype": "f8"
         },
         "xaxis": "x",
         "y": {
          "bdata": "AAAAAAAALsAAAAAAAAAuwAAAAAAAADnAAAAAAAAAOcA=",
          "dtype": "f8"
         },
         "yaxis": "y"
        },
        {
         "hoverinfo": "text",
         "marker": {
          "color": "rgb(61,153,112)"
         },
         "mode": "lines",
         "type": "scatter",
         "x": {
          "bdata": "AAAAAAAAAACxN4n3cH7pP7E3ifdwfuk/AAAAAAAAAAA=",
          "dtype": "f8"
         },
         "xaxis": "x",
         "y": {
          "bdata": "AAAAAACAQcAAAAAAAIBBwAAAAAAAgEbAAAAAAACARsA=",
          "dtype": "f8"
         },
         "yaxis": "y"
        },
        {
         "hoverinfo": "text",
         "marker": {
          "color": "rgb(61,153,112)"
         },
         "mode": "lines",
         "type": "scatter",
         "x": {
          "bdata": "1auPcNBT6D+Wu4D2WEXrP5a7gPZYRes/sTeJ93B+6T8=",
          "dtype": "f8"
         },
         "xaxis": "x",
         "y": {
          "bdata": "AAAAAAAANMAAAAAAAAA0wAAAAAAAAETAAAAAAAAARMA=",
          "dtype": "f8"
         },
         "yaxis": "y"
        },
        {
         "hoverinfo": "text",
         "marker": {
          "color": "rgb(61,153,112)"
         },
         "mode": "lines",
         "type": "scatter",
         "x": {
          "bdata": "AAAAAAAAAABvIoWqSSntP28ihapJKe0/lruA9lhF6z8=",
          "dtype": "f8"
         },
         "xaxis": "x",
         "y": {
          "bdata": "AAAAAAAAFMAAAAAAAAAUwAAAAAAAAD7AAAAAAAAAPsA=",
          "dtype": "f8"
         },
         "yaxis": "y"
        },
        {
         "hoverinfo": "text",
         "marker": {
          "color": "rgb(61,153,112)"
         },
         "mode": "lines",
         "type": "scatter",
         "x": {
          "bdata": "byKFqkkp7T+GegxIzfLtP4Z6DEjN8u0/AAAAAAAAAAA=",
          "dtype": "f8"
         },
         "xaxis": "x",
         "y": {
          "bdata": "AAAAAACAMcAAAAAAAIAxwAAAAAAAgEvAAAAAAACAS8A=",
          "dtype": "f8"
         },
         "yaxis": "y"
        },
        {
         "hoverinfo": "text",
         "marker": {
          "color": "rgb(255,65,54)"
         },
         "mode": "lines",
         "type": "scatter",
         "x": {
          "bdata": "AAAAAAAAAAD1aytQao/uP/VrK1Bqj+4/AAAAAAAAAAA=",
          "dtype": "f8"
         },
         "xaxis": "x",
         "y": {
          "bdata": "AAAAAADAUsAAAAAAAMBSwAAAAAAAQFXAAAAAAABAVcA=",
          "dtype": "f8"
         },
         "yaxis": "y"
        },
        {
         "hoverinfo": "text",
         "marker": {
          "color": "rgb(255,65,54)"
         },
         "mode": "lines",
         "type": "scatter",
         "x": {
          "bdata": "AAAAAAAAAACpBjp2bxTvP6kGOnZvFO8/9WsrUGqP7j8=",
          "dtype": "f8"
         },
         "xaxis": "x",
         "y": {
          "bdata": "AAAAAABAUMAAAAAAAEBQwAAAAAAAAFTAAAAAAAAAVMA=",
          "dtype": "f8"
         },
         "yaxis": "y"
        },
        {
         "hoverinfo": "text",
         "marker": {
          "color": "rgb(255,65,54)"
         },
         "mode": "lines",
         "type": "scatter",
         "x": {
          "bdata": "AAAAAAAAAACm1NXqo0HsP6bU1eqjQew/AAAAAAAAAAA=",
          "dtype": "f8"
         },
         "xaxis": "x",
         "y": {
          "bdata": "AAAAAADAV8AAAAAAAMBXwAAAAAAAQFrAAAAAAABAWsA=",
          "dtype": "f8"
         },
         "yaxis": "y"
        },
        {
         "hoverinfo": "text",
         "marker": {
          "color": "rgb(255,65,54)"
         },
         "mode": "lines",
         "type": "scatter",
         "x": {
          "bdata": "qQY6dm8U7z/j+avCldHvP+P5q8KV0e8/ptTV6qNB7D8=",
          "dtype": "f8"
         },
         "xaxis": "x",
         "y": {
          "bdata": "AAAAAAAgUsAAAAAAACBSwAAAAAAAAFnAAAAAAAAAWcA=",
          "dtype": "f8"
         },
         "yaxis": "y"
        },
        {
         "hoverinfo": "text",
         "marker": {
          "color": "rgb(0,116,217)"
         },
         "mode": "lines",
         "type": "scatter",
         "x": {
          "bdata": "hnoMSM3y7T9rOMju3MfxP2s4yO7cx/E/4/mrwpXR7z8=",
          "dtype": "f8"
         },
         "xaxis": "x",
         "y": {
          "bdata": "AAAAAAAgQsAAAAAAACBCwAAAAAAAkFXAAAAAAACQVcA=",
          "dtype": "f8"
         },
         "yaxis": "y"
        }
       ],
       "layout": {
        "autosize": false,
        "height": 365,
        "hoverlabel": {
         "bgcolor": "white",
         "font": {
          "family": "Rockwell",
          "size": 16
         }
        },
        "hovermode": "closest",
        "plot_bgcolor": "#ECEFF1",
        "showlegend": false,
        "template": {
         "data": {
          "bar": [
           {
            "error_x": {
             "color": "#2a3f5f"
            },
            "error_y": {
             "color": "#2a3f5f"
            },
            "marker": {
             "line": {
              "color": "white",
              "width": 0.5
             },
             "pattern": {
              "fillmode": "overlay",
              "size": 10,
              "solidity": 0.2
             }
            },
            "type": "bar"
           }
          ],
          "barpolar": [
           {
            "marker": {
             "line": {
              "color": "white",
              "width": 0.5
             },
             "pattern": {
              "fillmode": "overlay",
              "size": 10,
              "solidity": 0.2
             }
            },
            "type": "barpolar"
           }
          ],
          "carpet": [
           {
            "aaxis": {
             "endlinecolor": "#2a3f5f",
             "gridcolor": "#C8D4E3",
             "linecolor": "#C8D4E3",
             "minorgridcolor": "#C8D4E3",
             "startlinecolor": "#2a3f5f"
            },
            "baxis": {
             "endlinecolor": "#2a3f5f",
             "gridcolor": "#C8D4E3",
             "linecolor": "#C8D4E3",
             "minorgridcolor": "#C8D4E3",
             "startlinecolor": "#2a3f5f"
            },
            "type": "carpet"
           }
          ],
          "choropleth": [
           {
            "colorbar": {
             "outlinewidth": 0,
             "ticks": ""
            },
            "type": "choropleth"
           }
          ],
          "contour": [
           {
            "colorbar": {
             "outlinewidth": 0,
             "ticks": ""
            },
            "colorscale": [
             [
              0,
              "#0d0887"
             ],
             [
              0.1111111111111111,
              "#46039f"
             ],
             [
              0.2222222222222222,
              "#7201a8"
             ],
             [
              0.3333333333333333,
              "#9c179e"
             ],
             [
              0.4444444444444444,
              "#bd3786"
             ],
             [
              0.5555555555555556,
              "#d8576b"
             ],
             [
              0.6666666666666666,
              "#ed7953"
             ],
             [
              0.7777777777777778,
              "#fb9f3a"
             ],
             [
              0.8888888888888888,
              "#fdca26"
             ],
             [
              1,
              "#f0f921"
             ]
            ],
            "type": "contour"
           }
          ],
          "contourcarpet": [
           {
            "colorbar": {
             "outlinewidth": 0,
             "ticks": ""
            },
            "type": "contourcarpet"
           }
          ],
          "heatmap": [
           {
            "colorbar": {
             "outlinewidth": 0,
             "ticks": ""
            },
            "colorscale": [
             [
              0,
              "#0d0887"
             ],
             [
              0.1111111111111111,
              "#46039f"
             ],
             [
              0.2222222222222222,
              "#7201a8"
             ],
             [
              0.3333333333333333,
              "#9c179e"
             ],
             [
              0.4444444444444444,
              "#bd3786"
             ],
             [
              0.5555555555555556,
              "#d8576b"
             ],
             [
              0.6666666666666666,
              "#ed7953"
             ],
             [
              0.7777777777777778,
              "#fb9f3a"
             ],
             [
              0.8888888888888888,
              "#fdca26"
             ],
             [
              1,
              "#f0f921"
             ]
            ],
            "type": "heatmap"
           }
          ],
          "histogram": [
           {
            "marker": {
             "pattern": {
              "fillmode": "overlay",
              "size": 10,
              "solidity": 0.2
             }
            },
            "type": "histogram"
           }
          ],
          "histogram2d": [
           {
            "colorbar": {
             "outlinewidth": 0,
             "ticks": ""
            },
            "colorscale": [
             [
              0,
              "#0d0887"
             ],
             [
              0.1111111111111111,
              "#46039f"
             ],
             [
              0.2222222222222222,
              "#7201a8"
             ],
             [
              0.3333333333333333,
              "#9c179e"
             ],
             [
              0.4444444444444444,
              "#bd3786"
             ],
             [
              0.5555555555555556,
              "#d8576b"
             ],
             [
              0.6666666666666666,
              "#ed7953"
             ],
             [
              0.7777777777777778,
              "#fb9f3a"
             ],
             [
              0.8888888888888888,
              "#fdca26"
             ],
             [
              1,
              "#f0f921"
             ]
            ],
            "type": "histogram2d"
           }
          ],
          "histogram2dcontour": [
           {
            "colorbar": {
             "outlinewidth": 0,
             "ticks": ""
            },
            "colorscale": [
             [
              0,
              "#0d0887"
             ],
             [
              0.1111111111111111,
              "#46039f"
             ],
             [
              0.2222222222222222,
              "#7201a8"
             ],
             [
              0.3333333333333333,
              "#9c179e"
             ],
             [
              0.4444444444444444,
              "#bd3786"
             ],
             [
              0.5555555555555556,
              "#d8576b"
             ],
             [
              0.6666666666666666,
              "#ed7953"
             ],
             [
              0.7777777777777778,
              "#fb9f3a"
             ],
             [
              0.8888888888888888,
              "#fdca26"
             ],
             [
              1,
              "#f0f921"
             ]
            ],
            "type": "histogram2dcontour"
           }
          ],
          "mesh3d": [
           {
            "colorbar": {
             "outlinewidth": 0,
             "ticks": ""
            },
            "type": "mesh3d"
           }
          ],
          "parcoords": [
           {
            "line": {
             "colorbar": {
              "outlinewidth": 0,
              "ticks": ""
             }
            },
            "type": "parcoords"
           }
          ],
          "pie": [
           {
            "automargin": true,
            "type": "pie"
           }
          ],
          "scatter": [
           {
            "fillpattern": {
             "fillmode": "overlay",
             "size": 10,
             "solidity": 0.2
            },
            "type": "scatter"
           }
          ],
          "scatter3d": [
           {
            "line": {
             "colorbar": {
              "outlinewidth": 0,
              "ticks": ""
             }
            },
            "marker": {
             "colorbar": {
              "outlinewidth": 0,
              "ticks": ""
             }
            },
            "type": "scatter3d"
           }
          ],
          "scattercarpet": [
           {
            "marker": {
             "colorbar": {
              "outlinewidth": 0,
              "ticks": ""
             }
            },
            "type": "scattercarpet"
           }
          ],
          "scattergeo": [
           {
            "marker": {
             "colorbar": {
              "outlinewidth": 0,
              "ticks": ""
             }
            },
            "type": "scattergeo"
           }
          ],
          "scattergl": [
           {
            "marker": {
             "colorbar": {
              "outlinewidth": 0,
              "ticks": ""
             }
            },
            "type": "scattergl"
           }
          ],
          "scattermap": [
           {
            "marker": {
             "colorbar": {
              "outlinewidth": 0,
              "ticks": ""
             }
            },
            "type": "scattermap"
           }
          ],
          "scattermapbox": [
           {
            "marker": {
             "colorbar": {
              "outlinewidth": 0,
              "ticks": ""
             }
            },
            "type": "scattermapbox"
           }
          ],
          "scatterpolar": [
           {
            "marker": {
             "colorbar": {
              "outlinewidth": 0,
              "ticks": ""
             }
            },
            "type": "scatterpolar"
           }
          ],
          "scatterpolargl": [
           {
            "marker": {
             "colorbar": {
              "outlinewidth": 0,
              "ticks": ""
             }
            },
            "type": "scatterpolargl"
           }
          ],
          "scatterternary": [
           {
            "marker": {
             "colorbar": {
              "outlinewidth": 0,
              "ticks": ""
             }
            },
            "type": "scatterternary"
           }
          ],
          "surface": [
           {
            "colorbar": {
             "outlinewidth": 0,
             "ticks": ""
            },
            "colorscale": [
             [
              0,
              "#0d0887"
             ],
             [
              0.1111111111111111,
              "#46039f"
             ],
             [
              0.2222222222222222,
              "#7201a8"
             ],
             [
              0.3333333333333333,
              "#9c179e"
             ],
             [
              0.4444444444444444,
              "#bd3786"
             ],
             [
              0.5555555555555556,
              "#d8576b"
             ],
             [
              0.6666666666666666,
              "#ed7953"
             ],
             [
              0.7777777777777778,
              "#fb9f3a"
             ],
             [
              0.8888888888888888,
              "#fdca26"
             ],
             [
              1,
              "#f0f921"
             ]
            ],
            "type": "surface"
           }
          ],
          "table": [
           {
            "cells": {
             "fill": {
              "color": "#EBF0F8"
             },
             "line": {
              "color": "white"
             }
            },
            "header": {
             "fill": {
              "color": "#C8D4E3"
             },
             "line": {
              "color": "white"
             }
            },
            "type": "table"
           }
          ]
         },
         "layout": {
          "annotationdefaults": {
           "arrowcolor": "#2a3f5f",
           "arrowhead": 0,
           "arrowwidth": 1
          },
          "autotypenumbers": "strict",
          "coloraxis": {
           "colorbar": {
            "outlinewidth": 0,
            "ticks": ""
           }
          },
          "colorscale": {
           "diverging": [
            [
             0,
             "#8e0152"
            ],
            [
             0.1,
             "#c51b7d"
            ],
            [
             0.2,
             "#de77ae"
            ],
            [
             0.3,
             "#f1b6da"
            ],
            [
             0.4,
             "#fde0ef"
            ],
            [
             0.5,
             "#f7f7f7"
            ],
            [
             0.6,
             "#e6f5d0"
            ],
            [
             0.7,
             "#b8e186"
            ],
            [
             0.8,
             "#7fbc41"
            ],
            [
             0.9,
             "#4d9221"
            ],
            [
             1,
             "#276419"
            ]
           ],
           "sequential": [
            [
             0,
             "#0d0887"
            ],
            [
             0.1111111111111111,
             "#46039f"
            ],
            [
             0.2222222222222222,
             "#7201a8"
            ],
            [
             0.3333333333333333,
             "#9c179e"
            ],
            [
             0.4444444444444444,
             "#bd3786"
            ],
            [
             0.5555555555555556,
             "#d8576b"
            ],
            [
             0.6666666666666666,
             "#ed7953"
            ],
            [
             0.7777777777777778,
             "#fb9f3a"
            ],
            [
             0.8888888888888888,
             "#fdca26"
            ],
            [
             1,
             "#f0f921"
            ]
           ],
           "sequentialminus": [
            [
             0,
             "#0d0887"
            ],
            [
             0.1111111111111111,
             "#46039f"
            ],
            [
             0.2222222222222222,
             "#7201a8"
            ],
            [
             0.3333333333333333,
             "#9c179e"
            ],
            [
             0.4444444444444444,
             "#bd3786"
            ],
            [
             0.5555555555555556,
             "#d8576b"
            ],
            [
             0.6666666666666666,
             "#ed7953"
            ],
            [
             0.7777777777777778,
             "#fb9f3a"
            ],
            [
             0.8888888888888888,
             "#fdca26"
            ],
            [
             1,
             "#f0f921"
            ]
           ]
          },
          "colorway": [
           "#636efa",
           "#EF553B",
           "#00cc96",
           "#ab63fa",
           "#FFA15A",
           "#19d3f3",
           "#FF6692",
           "#B6E880",
           "#FF97FF",
           "#FECB52"
          ],
          "font": {
           "color": "#2a3f5f"
          },
          "geo": {
           "bgcolor": "white",
           "lakecolor": "white",
           "landcolor": "white",
           "showlakes": true,
           "showland": true,
           "subunitcolor": "#C8D4E3"
          },
          "hoverlabel": {
           "align": "left"
          },
          "hovermode": "closest",
          "mapbox": {
           "style": "light"
          },
          "paper_bgcolor": "white",
          "plot_bgcolor": "white",
          "polar": {
           "angularaxis": {
            "gridcolor": "#EBF0F8",
            "linecolor": "#EBF0F8",
            "ticks": ""
           },
           "bgcolor": "white",
           "radialaxis": {
            "gridcolor": "#EBF0F8",
            "linecolor": "#EBF0F8",
            "ticks": ""
           }
          },
          "scene": {
           "xaxis": {
            "backgroundcolor": "white",
            "gridcolor": "#DFE8F3",
            "gridwidth": 2,
            "linecolor": "#EBF0F8",
            "showbackground": true,
            "ticks": "",
            "zerolinecolor": "#EBF0F8"
           },
           "yaxis": {
            "backgroundcolor": "white",
            "gridcolor": "#DFE8F3",
            "gridwidth": 2,
            "linecolor": "#EBF0F8",
            "showbackground": true,
            "ticks": "",
            "zerolinecolor": "#EBF0F8"
           },
           "zaxis": {
            "backgroundcolor": "white",
            "gridcolor": "#DFE8F3",
            "gridwidth": 2,
            "linecolor": "#EBF0F8",
            "showbackground": true,
            "ticks": "",
            "zerolinecolor": "#EBF0F8"
           }
          },
          "shapedefaults": {
           "line": {
            "color": "#2a3f5f"
           }
          },
          "ternary": {
           "aaxis": {
            "gridcolor": "#DFE8F3",
            "linecolor": "#A2B1C6",
            "ticks": ""
           },
           "baxis": {
            "gridcolor": "#DFE8F3",
            "linecolor": "#A2B1C6",
            "ticks": ""
           },
           "bgcolor": "white",
           "caxis": {
            "gridcolor": "#DFE8F3",
            "linecolor": "#A2B1C6",
            "ticks": ""
           }
          },
          "title": {
           "x": 0.05
          },
          "xaxis": {
           "automargin": true,
           "gridcolor": "#EBF0F8",
           "linecolor": "#EBF0F8",
           "ticks": "",
           "title": {
            "standoff": 15
           },
           "zerolinecolor": "#EBF0F8",
           "zerolinewidth": 2
          },
          "yaxis": {
           "automargin": true,
           "gridcolor": "#EBF0F8",
           "linecolor": "#EBF0F8",
           "ticks": "",
           "title": {
            "standoff": 15
           },
           "zerolinecolor": "#EBF0F8",
           "zerolinewidth": 2
          }
         }
        },
        "title": {
         "font": {
          "color": "Black",
          "size": 22
         },
         "text": "<b>Hierarchical Clustering</b>",
         "x": 0.5,
         "xanchor": "center",
         "yanchor": "top"
        },
        "width": 1000,
        "xaxis": {
         "mirror": "allticks",
         "rangemode": "tozero",
         "showgrid": false,
         "showline": true,
         "showticklabels": true,
         "ticks": "outside",
         "type": "linear",
         "zeroline": false
        },
        "yaxis": {
         "mirror": "allticks",
         "range": [
          -110,
          0
         ],
         "rangemode": "tozero",
         "showgrid": false,
         "showline": true,
         "showticklabels": true,
         "tickmode": "array",
         "ticks": "outside",
         "ticktext": [
          "Challenges and Potential of Generative AI",
          "AI-Driven Content Monetization",
          "AI-Generated Bizarre Social Media Content",
          "Artificial Intelligence Spam Content",
          "Viral Italian Brainrot and Brands",
          "AI-Generated Books in Libraries",
          "AI-Driven Search Result Reliability",
          "Misinformation and Conspiracy Theories",
          "Milton Foundation's Political Advocacy",
          "AI-Generated Political Misinformation",
          "Trump, AI, and Food Culture"
         ],
         "tickvals": [
          -5,
          -15,
          -25,
          -35,
          -45,
          -55,
          -65,
          -75,
          -85,
          -95,
          -105
         ],
         "type": "linear",
         "zeroline": false
        }
       }
      }
     },
     "metadata": {},
     "output_type": "display_data"
    }
   ],
   "source": [
    "topic_model.visualize_hierarchy(custom_labels=True)"
   ]
  },
  {
   "cell_type": "code",
   "execution_count": 83,
   "id": "031eb2bd",
   "metadata": {},
   "outputs": [
    {
     "data": {
      "application/vnd.plotly.v1+json": {
       "config": {
        "plotlyServerURL": "https://plot.ly"
       },
       "data": [
        {
         "coloraxis": "coloraxis",
         "hovertemplate": "x: %{x}<br>y: %{y}<br>Similarity Score: %{z}<extra></extra>",
         "name": "0",
         "type": "heatmap",
         "x": [
          "0_slop_term_spam",
          "1_ai_content_brands",
          "2_content_ai_money",
          "3_facebook_ai_images",
          "4_ai_generative_generative ai",
          "5_fema_misinformation_people",
          "6_books_ai generated_genera...",
          "7_trump_harris_donald",
          "8_search_google_results",
          "9_trump_mcdonald_man",
          "10_foundation_organization_..."
         ],
         "xaxis": "x",
         "y": [
          "0_slop_term_spam",
          "1_ai_content_brands",
          "2_content_ai_money",
          "3_facebook_ai_images",
          "4_ai_generative_generative ai",
          "5_fema_misinformation_people",
          "6_books_ai generated_genera...",
          "7_trump_harris_donald",
          "8_search_google_results",
          "9_trump_mcdonald_man",
          "10_foundation_organization_..."
         ],
         "yaxis": "y",
         "z": {
          "bdata": "BAAAAAAA8D/aiCM0zhDlP/Cx8diUBeM/NBIMymLq5j+vrzYMTZ3iP5UPoaSFsOA/rgnUd+jB4z915hXTmXPdPw3LQtOqeOE/+g19P41M4z8Sd1qcIOPVP9qIIzTOEOU/9f//////7z+7JSWEp2jmPwomEbnsgeY/M/3iUTfp5T+Q8B824wvgP1EnkfkZnOI/bSu88NRk3T+/xJnPMwDjPzEiqmuWGeA/fLjNVPXR1z/wsfHYlAXjP7slJYSnaOY//P//////7z8BEP4ZJH3oP5LHjDm2n+M/Fk1KC0Ig3z//kK46OrDiP9jPrB4GpeE/qDyCc3Z/4T8a6H3Om2HfP55UVoeoH+A/NBIMymLq5j8KJhG57IHmPwEQ/hkkfeg/+f//////7z/fwau9bj3lP8LHEe4H8OE/pD1ZhEiW4z+ri5dfjqnlP/KbH/azqeM/++qHDRw54z/91/FbdhzdP6+vNgxNneI/M/3iUTfp5T+Sx4w5tp/jP9/Bq71uPeU//f//////7z8lSQCAv9jYPznYOsA+keE/YuyN7dB13T+SwZdOpV7jP146RJa7/Ns/TGclz4+G0z+VD6GkhbDgP5DwHzbjC+A/Fk1KC0Ig3z/CxxHuB/DhPyVJAIC/2Ng/+P//////7z+BRNHY9YXcP4VknPiI/+E/ii3sr5OP3D+WdzZwwTXiP/IlwvxFUd8/rgnUd+jB4z9RJ5H5GZziP/+Qrjo6sOI/pD1ZhEiW4z852DrAPpHhP4FE0dj1hdw/AQAAAAAA8D8qC6s6GPrZP/4Wfu7couE/kAFjlrhk2z8B4LS4c8/XP3XmFdOZc90/bSu88NRk3T/Yz6weBqXhP6uLl1+OqeU/YuyN7dB13T+FZJz4iP/hPyoLqzoY+tk/AQAAAAAA8D9gQAxb1wncP3prg3Jrb+Y/m5ARf4bJ4D8Ny0LTqnjhP7/Emc8zAOM/qDyCc3Z/4T/ymx/2s6njP5LBl06lXuM/ii3sr5OP3D/+Fn7u3KLhP2BADFvXCdw/AgAAAAAA8D9q7K++AHvZP+UIOCd3a9Y/+g19P41M4z8xIqprlhngPxrofc6bYd8/++qHDRw54z9eOkSWu/zbP5Z3NnDBNeI/kAFjlrhk2z96a4Nya2/mP2rsr74Ae9k/AAAAAAAA8D9wPz3QhITXPxJ3Wpwg49U/fLjNVPXR1z+eVFaHqB/gP/3X8Vt2HN0/TGclz4+G0z/yJcL8RVHfPwHgtLhzz9c/m5ARf4bJ4D/lCDgnd2vWP3A/PdCEhNc/+v//////7z8=",
          "dtype": "f8",
          "shape": "11, 11"
         }
        }
       ],
       "layout": {
        "coloraxis": {
         "colorbar": {
          "title": {
           "text": "Similarity Score"
          }
         },
         "colorscale": [
          [
           0,
           "rgb(247,252,240)"
          ],
          [
           0.125,
           "rgb(224,243,219)"
          ],
          [
           0.25,
           "rgb(204,235,197)"
          ],
          [
           0.375,
           "rgb(168,221,181)"
          ],
          [
           0.5,
           "rgb(123,204,196)"
          ],
          [
           0.625,
           "rgb(78,179,211)"
          ],
          [
           0.75,
           "rgb(43,140,190)"
          ],
          [
           0.875,
           "rgb(8,104,172)"
          ],
          [
           1,
           "rgb(8,64,129)"
          ]
         ]
        },
        "height": 800,
        "hoverlabel": {
         "bgcolor": "white",
         "font": {
          "family": "Rockwell",
          "size": 16
         }
        },
        "legend": {
         "title": {
          "text": "Trend"
         }
        },
        "margin": {
         "t": 60
        },
        "showlegend": true,
        "template": {
         "data": {
          "bar": [
           {
            "error_x": {
             "color": "#2a3f5f"
            },
            "error_y": {
             "color": "#2a3f5f"
            },
            "marker": {
             "line": {
              "color": "#E5ECF6",
              "width": 0.5
             },
             "pattern": {
              "fillmode": "overlay",
              "size": 10,
              "solidity": 0.2
             }
            },
            "type": "bar"
           }
          ],
          "barpolar": [
           {
            "marker": {
             "line": {
              "color": "#E5ECF6",
              "width": 0.5
             },
             "pattern": {
              "fillmode": "overlay",
              "size": 10,
              "solidity": 0.2
             }
            },
            "type": "barpolar"
           }
          ],
          "carpet": [
           {
            "aaxis": {
             "endlinecolor": "#2a3f5f",
             "gridcolor": "white",
             "linecolor": "white",
             "minorgridcolor": "white",
             "startlinecolor": "#2a3f5f"
            },
            "baxis": {
             "endlinecolor": "#2a3f5f",
             "gridcolor": "white",
             "linecolor": "white",
             "minorgridcolor": "white",
             "startlinecolor": "#2a3f5f"
            },
            "type": "carpet"
           }
          ],
          "choropleth": [
           {
            "colorbar": {
             "outlinewidth": 0,
             "ticks": ""
            },
            "type": "choropleth"
           }
          ],
          "contour": [
           {
            "colorbar": {
             "outlinewidth": 0,
             "ticks": ""
            },
            "colorscale": [
             [
              0,
              "#0d0887"
             ],
             [
              0.1111111111111111,
              "#46039f"
             ],
             [
              0.2222222222222222,
              "#7201a8"
             ],
             [
              0.3333333333333333,
              "#9c179e"
             ],
             [
              0.4444444444444444,
              "#bd3786"
             ],
             [
              0.5555555555555556,
              "#d8576b"
             ],
             [
              0.6666666666666666,
              "#ed7953"
             ],
             [
              0.7777777777777778,
              "#fb9f3a"
             ],
             [
              0.8888888888888888,
              "#fdca26"
             ],
             [
              1,
              "#f0f921"
             ]
            ],
            "type": "contour"
           }
          ],
          "contourcarpet": [
           {
            "colorbar": {
             "outlinewidth": 0,
             "ticks": ""
            },
            "type": "contourcarpet"
           }
          ],
          "heatmap": [
           {
            "colorbar": {
             "outlinewidth": 0,
             "ticks": ""
            },
            "colorscale": [
             [
              0,
              "#0d0887"
             ],
             [
              0.1111111111111111,
              "#46039f"
             ],
             [
              0.2222222222222222,
              "#7201a8"
             ],
             [
              0.3333333333333333,
              "#9c179e"
             ],
             [
              0.4444444444444444,
              "#bd3786"
             ],
             [
              0.5555555555555556,
              "#d8576b"
             ],
             [
              0.6666666666666666,
              "#ed7953"
             ],
             [
              0.7777777777777778,
              "#fb9f3a"
             ],
             [
              0.8888888888888888,
              "#fdca26"
             ],
             [
              1,
              "#f0f921"
             ]
            ],
            "type": "heatmap"
           }
          ],
          "histogram": [
           {
            "marker": {
             "pattern": {
              "fillmode": "overlay",
              "size": 10,
              "solidity": 0.2
             }
            },
            "type": "histogram"
           }
          ],
          "histogram2d": [
           {
            "colorbar": {
             "outlinewidth": 0,
             "ticks": ""
            },
            "colorscale": [
             [
              0,
              "#0d0887"
             ],
             [
              0.1111111111111111,
              "#46039f"
             ],
             [
              0.2222222222222222,
              "#7201a8"
             ],
             [
              0.3333333333333333,
              "#9c179e"
             ],
             [
              0.4444444444444444,
              "#bd3786"
             ],
             [
              0.5555555555555556,
              "#d8576b"
             ],
             [
              0.6666666666666666,
              "#ed7953"
             ],
             [
              0.7777777777777778,
              "#fb9f3a"
             ],
             [
              0.8888888888888888,
              "#fdca26"
             ],
             [
              1,
              "#f0f921"
             ]
            ],
            "type": "histogram2d"
           }
          ],
          "histogram2dcontour": [
           {
            "colorbar": {
             "outlinewidth": 0,
             "ticks": ""
            },
            "colorscale": [
             [
              0,
              "#0d0887"
             ],
             [
              0.1111111111111111,
              "#46039f"
             ],
             [
              0.2222222222222222,
              "#7201a8"
             ],
             [
              0.3333333333333333,
              "#9c179e"
             ],
             [
              0.4444444444444444,
              "#bd3786"
             ],
             [
              0.5555555555555556,
              "#d8576b"
             ],
             [
              0.6666666666666666,
              "#ed7953"
             ],
             [
              0.7777777777777778,
              "#fb9f3a"
             ],
             [
              0.8888888888888888,
              "#fdca26"
             ],
             [
              1,
              "#f0f921"
             ]
            ],
            "type": "histogram2dcontour"
           }
          ],
          "mesh3d": [
           {
            "colorbar": {
             "outlinewidth": 0,
             "ticks": ""
            },
            "type": "mesh3d"
           }
          ],
          "parcoords": [
           {
            "line": {
             "colorbar": {
              "outlinewidth": 0,
              "ticks": ""
             }
            },
            "type": "parcoords"
           }
          ],
          "pie": [
           {
            "automargin": true,
            "type": "pie"
           }
          ],
          "scatter": [
           {
            "fillpattern": {
             "fillmode": "overlay",
             "size": 10,
             "solidity": 0.2
            },
            "type": "scatter"
           }
          ],
          "scatter3d": [
           {
            "line": {
             "colorbar": {
              "outlinewidth": 0,
              "ticks": ""
             }
            },
            "marker": {
             "colorbar": {
              "outlinewidth": 0,
              "ticks": ""
             }
            },
            "type": "scatter3d"
           }
          ],
          "scattercarpet": [
           {
            "marker": {
             "colorbar": {
              "outlinewidth": 0,
              "ticks": ""
             }
            },
            "type": "scattercarpet"
           }
          ],
          "scattergeo": [
           {
            "marker": {
             "colorbar": {
              "outlinewidth": 0,
              "ticks": ""
             }
            },
            "type": "scattergeo"
           }
          ],
          "scattergl": [
           {
            "marker": {
             "colorbar": {
              "outlinewidth": 0,
              "ticks": ""
             }
            },
            "type": "scattergl"
           }
          ],
          "scattermap": [
           {
            "marker": {
             "colorbar": {
              "outlinewidth": 0,
              "ticks": ""
             }
            },
            "type": "scattermap"
           }
          ],
          "scattermapbox": [
           {
            "marker": {
             "colorbar": {
              "outlinewidth": 0,
              "ticks": ""
             }
            },
            "type": "scattermapbox"
           }
          ],
          "scatterpolar": [
           {
            "marker": {
             "colorbar": {
              "outlinewidth": 0,
              "ticks": ""
             }
            },
            "type": "scatterpolar"
           }
          ],
          "scatterpolargl": [
           {
            "marker": {
             "colorbar": {
              "outlinewidth": 0,
              "ticks": ""
             }
            },
            "type": "scatterpolargl"
           }
          ],
          "scatterternary": [
           {
            "marker": {
             "colorbar": {
              "outlinewidth": 0,
              "ticks": ""
             }
            },
            "type": "scatterternary"
           }
          ],
          "surface": [
           {
            "colorbar": {
             "outlinewidth": 0,
             "ticks": ""
            },
            "colorscale": [
             [
              0,
              "#0d0887"
             ],
             [
              0.1111111111111111,
              "#46039f"
             ],
             [
              0.2222222222222222,
              "#7201a8"
             ],
             [
              0.3333333333333333,
              "#9c179e"
             ],
             [
              0.4444444444444444,
              "#bd3786"
             ],
             [
              0.5555555555555556,
              "#d8576b"
             ],
             [
              0.6666666666666666,
              "#ed7953"
             ],
             [
              0.7777777777777778,
              "#fb9f3a"
             ],
             [
              0.8888888888888888,
              "#fdca26"
             ],
             [
              1,
              "#f0f921"
             ]
            ],
            "type": "surface"
           }
          ],
          "table": [
           {
            "cells": {
             "fill": {
              "color": "#EBF0F8"
             },
             "line": {
              "color": "white"
             }
            },
            "header": {
             "fill": {
              "color": "#C8D4E3"
             },
             "line": {
              "color": "white"
             }
            },
            "type": "table"
           }
          ]
         },
         "layout": {
          "annotationdefaults": {
           "arrowcolor": "#2a3f5f",
           "arrowhead": 0,
           "arrowwidth": 1
          },
          "autotypenumbers": "strict",
          "coloraxis": {
           "colorbar": {
            "outlinewidth": 0,
            "ticks": ""
           }
          },
          "colorscale": {
           "diverging": [
            [
             0,
             "#8e0152"
            ],
            [
             0.1,
             "#c51b7d"
            ],
            [
             0.2,
             "#de77ae"
            ],
            [
             0.3,
             "#f1b6da"
            ],
            [
             0.4,
             "#fde0ef"
            ],
            [
             0.5,
             "#f7f7f7"
            ],
            [
             0.6,
             "#e6f5d0"
            ],
            [
             0.7,
             "#b8e186"
            ],
            [
             0.8,
             "#7fbc41"
            ],
            [
             0.9,
             "#4d9221"
            ],
            [
             1,
             "#276419"
            ]
           ],
           "sequential": [
            [
             0,
             "#0d0887"
            ],
            [
             0.1111111111111111,
             "#46039f"
            ],
            [
             0.2222222222222222,
             "#7201a8"
            ],
            [
             0.3333333333333333,
             "#9c179e"
            ],
            [
             0.4444444444444444,
             "#bd3786"
            ],
            [
             0.5555555555555556,
             "#d8576b"
            ],
            [
             0.6666666666666666,
             "#ed7953"
            ],
            [
             0.7777777777777778,
             "#fb9f3a"
            ],
            [
             0.8888888888888888,
             "#fdca26"
            ],
            [
             1,
             "#f0f921"
            ]
           ],
           "sequentialminus": [
            [
             0,
             "#0d0887"
            ],
            [
             0.1111111111111111,
             "#46039f"
            ],
            [
             0.2222222222222222,
             "#7201a8"
            ],
            [
             0.3333333333333333,
             "#9c179e"
            ],
            [
             0.4444444444444444,
             "#bd3786"
            ],
            [
             0.5555555555555556,
             "#d8576b"
            ],
            [
             0.6666666666666666,
             "#ed7953"
            ],
            [
             0.7777777777777778,
             "#fb9f3a"
            ],
            [
             0.8888888888888888,
             "#fdca26"
            ],
            [
             1,
             "#f0f921"
            ]
           ]
          },
          "colorway": [
           "#636efa",
           "#EF553B",
           "#00cc96",
           "#ab63fa",
           "#FFA15A",
           "#19d3f3",
           "#FF6692",
           "#B6E880",
           "#FF97FF",
           "#FECB52"
          ],
          "font": {
           "color": "#2a3f5f"
          },
          "geo": {
           "bgcolor": "white",
           "lakecolor": "white",
           "landcolor": "#E5ECF6",
           "showlakes": true,
           "showland": true,
           "subunitcolor": "white"
          },
          "hoverlabel": {
           "align": "left"
          },
          "hovermode": "closest",
          "mapbox": {
           "style": "light"
          },
          "paper_bgcolor": "white",
          "plot_bgcolor": "#E5ECF6",
          "polar": {
           "angularaxis": {
            "gridcolor": "white",
            "linecolor": "white",
            "ticks": ""
           },
           "bgcolor": "#E5ECF6",
           "radialaxis": {
            "gridcolor": "white",
            "linecolor": "white",
            "ticks": ""
           }
          },
          "scene": {
           "xaxis": {
            "backgroundcolor": "#E5ECF6",
            "gridcolor": "white",
            "gridwidth": 2,
            "linecolor": "white",
            "showbackground": true,
            "ticks": "",
            "zerolinecolor": "white"
           },
           "yaxis": {
            "backgroundcolor": "#E5ECF6",
            "gridcolor": "white",
            "gridwidth": 2,
            "linecolor": "white",
            "showbackground": true,
            "ticks": "",
            "zerolinecolor": "white"
           },
           "zaxis": {
            "backgroundcolor": "#E5ECF6",
            "gridcolor": "white",
            "gridwidth": 2,
            "linecolor": "white",
            "showbackground": true,
            "ticks": "",
            "zerolinecolor": "white"
           }
          },
          "shapedefaults": {
           "line": {
            "color": "#2a3f5f"
           }
          },
          "ternary": {
           "aaxis": {
            "gridcolor": "white",
            "linecolor": "white",
            "ticks": ""
           },
           "baxis": {
            "gridcolor": "white",
            "linecolor": "white",
            "ticks": ""
           },
           "bgcolor": "#E5ECF6",
           "caxis": {
            "gridcolor": "white",
            "linecolor": "white",
            "ticks": ""
           }
          },
          "title": {
           "x": 0.05
          },
          "xaxis": {
           "automargin": true,
           "gridcolor": "white",
           "linecolor": "white",
           "ticks": "",
           "title": {
            "standoff": 15
           },
           "zerolinecolor": "white",
           "zerolinewidth": 2
          },
          "yaxis": {
           "automargin": true,
           "gridcolor": "white",
           "linecolor": "white",
           "ticks": "",
           "title": {
            "standoff": 15
           },
           "zerolinecolor": "white",
           "zerolinewidth": 2
          }
         }
        },
        "title": {
         "font": {
          "color": "Black",
          "size": 22
         },
         "text": "<b>Similarity Matrix</b>",
         "x": 0.55,
         "xanchor": "center",
         "y": 0.95,
         "yanchor": "top"
        },
        "width": 800,
        "xaxis": {
         "anchor": "y",
         "constrain": "domain",
         "domain": [
          0,
          1
         ],
         "scaleanchor": "y"
        },
        "yaxis": {
         "anchor": "x",
         "autorange": "reversed",
         "constrain": "domain",
         "domain": [
          0,
          1
         ]
        }
       }
      }
     },
     "metadata": {},
     "output_type": "display_data"
    }
   ],
   "source": [
    "topic_model.visualize_heatmap()"
   ]
  },
  {
   "cell_type": "code",
   "execution_count": 84,
   "id": "103fd534",
   "metadata": {},
   "outputs": [
    {
     "data": {
      "text/plain": [
       "[('slop', 0.08273776813338832),\n",
       " ('term', 0.03536383671684438),\n",
       " ('spam', 0.0322262100589285),\n",
       " ('ai', 0.02597509483867211),\n",
       " ('ai slop', 0.023258743972206463),\n",
       " ('generated', 0.016537981581385204),\n",
       " ('think', 0.015182720070688561),\n",
       " ('internet', 0.014979480124834724),\n",
       " ('word', 0.014479035025482007),\n",
       " ('early', 0.013120300833840953)]"
      ]
     },
     "execution_count": 84,
     "metadata": {},
     "output_type": "execute_result"
    }
   ],
   "source": [
    "similar_topics, similarity = topic_model.find_topics(\"slop\", top_n=5)\n",
    "topic_model.get_topic(similar_topics[0])"
   ]
  },
  {
   "cell_type": "code",
   "execution_count": 85,
   "id": "ad541a3b",
   "metadata": {},
   "outputs": [
    {
     "data": {
      "text/plain": [
       "[('slop', 0.08273776813338832),\n",
       " ('term', 0.03536383671684438),\n",
       " ('spam', 0.0322262100589285),\n",
       " ('ai', 0.02597509483867211),\n",
       " ('ai slop', 0.023258743972206463),\n",
       " ('generated', 0.016537981581385204),\n",
       " ('think', 0.015182720070688561),\n",
       " ('internet', 0.014979480124834724),\n",
       " ('word', 0.014479035025482007),\n",
       " ('early', 0.013120300833840953)]"
      ]
     },
     "execution_count": 85,
     "metadata": {},
     "output_type": "execute_result"
    }
   ],
   "source": [
    "topic_model.get_topic(0)\n"
   ]
  },
  {
   "cell_type": "code",
   "execution_count": 86,
   "id": "1db7f285",
   "metadata": {},
   "outputs": [
    {
     "name": "stderr",
     "output_type": "stream",
     "text": [
      "100%|██████████| 1/1 [00:00<00:00,  8.03it/s]\n"
     ]
    }
   ],
   "source": [
    "# `topic_distr` contains the distribution of topics in each document\n",
    "topic_distr, _ = topic_model.approximate_distribution(documents, window=8, stride=4)"
   ]
  },
  {
   "cell_type": "code",
   "execution_count": 87,
   "id": "09a9869b",
   "metadata": {},
   "outputs": [
    {
     "data": {
      "application/vnd.plotly.v1+json": {
       "config": {
        "plotlyServerURL": "https://plot.ly"
       },
       "data": [
        {
         "hoverinfo": "text",
         "hovertext": [
          "Both were laughably egregious at the time, but also fostered fears that other less obvious examples might also have been AI-generated.",
          "Other platforms such as Spotify and YouTube, which police intellectual property rights more aggressively than TikTok, invest considerable resources to identify and remove AI-generated content.",
          "This month, KoBold Metals announced the largest discovery of new copper deposits in a decade — a green-energy gold mine, so to speak, delivered with the help of its own proprietary A.I., which integrated information about subatomic particles detected underground with century-old mining reports and radar imagery to make predictions about where minerals critical for the green transition might be found.",
          "[15]\nIn the aftermath of Hurricane Helene in the United States, members of the Republican Party circulated an AI-generated image of a young girl holding a puppy in a flood, and used it as evidence of the failure of President Joe Biden to respond to the disaster.",
          "You will be shocked to know that we ranked our site in three months on the Google first page.",
          "It’s helpful to think of these photos and illustrations not as nefarious deepfakes or even hyper-persuasive propaganda, but as digital chum—Shrimp Jesus on the campaign trail.",
          "The more people sharing posts and engaging with them, the better off Meta is.",
          "Then the person goes through the process of buying and setting up an ad on Facebook that links to the Vercel mirror of the page they want to link to.",
          "Many of those “pet dance motorcycle” videos, for example, have been viewed tens of millions of times.",
          "404 Media, which has been diligently covering this, has described how these images are part of an AI-fueled \"zombie internet\" full of bots talking to bots.",
          "Indeed, I feel comfortable saying it’s AI-generated only because a watermark on Diane’s author photo credits it to the AI that powers the fake-portrait website ThisPersonDoesNotExist.com.",
          "“No free information.” For a total of $105, I enrolled in a crash course in becoming a slopper.",
          "[4]\nIt has been variously defined as \"digital clutter\", \"filler content produced by AI tools that prioritize speed and quantity over substance and quality\",[6] and \"shoddy or unwanted AI content in social media, art, books and, increasingly, in search results\".",
          "Would you be comfortable telling me how long you’ve had this Halloween website?",
          "This process can then be repeated over and over again to effectively rick people into clicking on photo albums that are not actually photo albums.",
          "Mindlessly generated information chokes our information pathways, forcing consumers to do the work of discarding it.",
          "This is what Jason Koebler from 404 Media speculates.",
          "It’s possible that, later on, AI-art tools will train on these distorted depictions, creating warped, digitally inbred representations of historical figures.",
          "Xiaonan also hosts an exclusive chatting group where, for a fee, he reveals his most effective AI prompts, video headlines and hashtags tailored for different platforms including YouTube and Instagram.",
          "Now free or easily affordable tools have flooded the market.",
          "Xiaonan says he established his “AI side job” after being laid off by an internet company.",
          "So we took help from AI, we took help from ChatGPT, but we optimized that ourselves.",
          "And so it makes sense that campaigns—not just Trump’s—tend to traffic in it.",
          "These products are less eerie, which means they have generated little existential angst.",
          "That these tools should end up as the medium of choice for Trump’s political movement makes sense, too.",
          "a priority, it appears that vast quantities of information generated by machines, rather than largely curated by humans, will be served up as a daily part of life on the internet for the foreseeable future.",
          "This has all been building for more than a decade.",
          "I’m a big proponent of LLMs as tools for personal productivity, and as software platforms for building interesting applications that can interact with human language.",
          "[30][31] The listing went viral on TikTok and Instagram.",
          "Ryanair’s version hit 150,000 views, and Samsung Belgium's remix trended hard in early April.",
          "“It’s like a virus.”\nAI-generated papers, Cabanac argued, are often used to pad an academic’s résumé with more publications and citations: “You buy a paper on a topic of your choice, and you buy a set of 500 citations.",
          "Jason Koebler of the tech news site 404 Media believes the trend represents what he calls the “zombie internet”.",
          "Submissions were increasing rapidly, but “there was something off about them,” he told me recently.",
          "“What it’s becoming, in this integration with language models, is something that does not encourage you to think.",
          "Slop started seeping into Neil Clarke’s life in late 2022.",
          "Are you concerned that Google will downrank you now?",
          "And so if one account of this experience is that we are drowning in A.I.",
          "Will you change how you use AI going forward?",
          "The number is much larger today, whether you choose to be impressed by the reported performance of ChatGPT on the LSAT or frustrated that Claude cannot solve logic problems intuitive to a kindergartner (or even reliably tell you whether 9.11 is greater than 9.9, as a Windows 95 calculator could).",
          "may not be what boosters call “scaling,” especially given the possibility that new training runs deliver some very expensive diminishing returns.",
          "It’s easy to learn, almost zero cost, and can be done any time at home with just a phone.",
          "\"The MAGA Aesthetic Is AI Slop\".",
          "“You search for something and you get back what you need in order to think — and it actually encourages you to think,” Mr. Hammond said.",
          "In service of that mission, they meme, pander, email, and text, frequently in cringeworthy fashion.",
          "Actually, there are few others about animals.",
          "[10][11][12]\nThe journalist Jason Koebler speculated that the bizarre nature of some of the content may be due to the creators using Hindi, Urdu, and Vietnamese prompts (languages which are underrepresented in the model's training data), or using erratic speech-to-text methods to translate their intentions into English.",
          "At least in the fever swamps of social media, AI art is becoming MAGA-coded.",
          "Our models of ice-sheet melt and rainforest degradation are much sharper now, too.",
          "\"However, the introduction of ChatGPT, which allows anyone to easily produce writing or translations or to engage in text-based dialogue, sparked the rapid spread of generative AIs.",
          "One more thing is that we posted around 1,400 articles.",
          "One of his methods is to focus on what he calls “smoking guns” — phrases that show unambiguously the use of an AI text generator like ChatGPT.",
          "But not all the accounts are spamming.",
          "Here are a few of my theories:\n- These images don't technically violate any rules — no nudity or other forbidden imagery.",
          "One of the most famous of these images is “Shrimp Jesus,” a statuelike Jesus figure bobbing just underwater, his limbs and torso made entirely of the bristling chitinous bodies of shrimp.",
          "Using instructions and tools he bought online, 404 Media’s Jason Koebler set up his own AI slop shop.",
          "Where were these images coming from?",
          "Here’s how it works:\n“First, a spammer makes a free Vercel account.",
          "How many other websites do you have?",
          "Initially, platforms like ChatGPT and Google Gemini were celebrated for their efficiency.",
          "Then you go to your faculty and you say, ‘Look, I’m a genius, and I deserve this position as a full professor.’” In other words, like Facebook slop, the content of the content isn’t really as important as its presence — or, more accurately, its measurability.",
          "as we know it.",
          "Could you explain more about your business model.",
          "Now they can illustrate it.",
          "You and I, like voters everywhere, must wade through this layer of junk, wearily separating out what’s patently fake, what’s real, and what exists in the murky middle.",
          "They sell lesson plans and memberships to private Discord and Telegram chat rooms and act as middlemen who help set up U.S.-based accounts for international sloppers.",
          "Han Song's Strange Prescience: In his stories, the author explores the disorientation accompanying China’s modernization, sometimes writing of unthinkable things that later came true.",
          "Guillaume Cabanac, a professor of computer science at Université Toulouse III–Paul Sabatier, has spent the past several years attempting to ferret out instances of fraud, plagiarism, and the use of computer-generated text in major scientific journals.",
          "A specific segment of the people who have seen and understand that it is AI-generated simply do not care that it is not real and that it did not happen.",
          "Then it describes them in great detail, each one with its own paragraph.",
          "The best explanation is that the Facebook pages posting these are making bait for scam targets, helping scammers identify gullible people in the comments who they can extract money from.",
          "This ecosystem is not new.",
          "Experiences like this — staring at a collection of books written by AI with computer-generated author photos and dozens of reviews written and posted by bots — have become for many people evidence for the “dead-internet theory,” the only slightly tongue-in-cheek idea, inspired by the increasing amount of fake, suspicious, and just plain weird content, that humans are a tiny minority online and the bulk of the internet is made by and for AI bots, creating bot content for bot followers, who comment and argue with other bots.",
          "But as they've become more mainstream, they've also started churning out vast amounts of subpar content — clogging blogs, social media and search results with noise instead of value.",
          "He ignored a question about the minimum wage.",
          "This entire Vercel step exists to avoid Facebook’s automated spam detection, because it ultimately masks the link of the website that is being linked to.",
          "This creates a preview link, which can then be pushed to their phone (it has to be a separate device), then shared to their own personal Facebook page as a ‘test.’\nFrom there, the link can be grabbed and shared to a page as a normal post, even though it is not a published ad, meaning that, to do this trick, you do not actually have to spend any money.",
          "content in social media, art, books and, increasingly, in search results.",
          "Campaigns are nothing if not aggressive, often-desperate content farms hoping to get attention.",
          "From their weird narrative instincts and inert prose, Clarke realized the stories came straight from ChatGPT.",
          "Sometimes, of course, you can get reliable information too; maybe even most of the time.",
          "When you look through the reams of slop across the internet, AI seems less like a terrifying apocalyptic machine-god, ready to drag us into a new era of tech, and more like the apotheosis of the smartphone age — the perfect internet marketer’s tool, precision-built to serve the disposable, lowest-common-denominator demands of the infinite scroll.",
          "There’s more work for us readers and watchers and content consumers as well.",
          "Sloppers may try to sell their content directly to people on a major marketplace — by, say, automating the production of recipe books to sell to unsuspecting (and maybe undiscriminating) customers on Amazon.",
          "Although no one ideology has a monopoly on AI art, the high-resolution, low-budget look of generative-AI images appears to be fusing with the meme-loving aesthetic of the MAGA movement.",
          "(In a sense, so does Spotify, though we call those payments “royalties.”)\nTake, as a case study in the slop economy, Facebook.",
          "What once took expert labor is now spam, powered by tools trained on the output of real artists and photographers.",
          "But it’s also, it seems, what we want.",
          "And this is because of all the misinformation provided by the journalists.",
          "Willison pointed to an AI-generated Microsoft Travel article that listed the “Ottawa food bank” as a must-see attraction in the Canadian capital as a perfect example of the problem.",
          "Jason Koebler, co-founder of 404 Media, an independent tech-news collective that acts as the publication of record for the world of slop, watched dozens of Hindi-language slop seminars on YouTube, many of them offering example prompts: “american soldier veteran holding cardboard sign that says ‘today’s my birthday, please like’ injured in battle veteran war american flag,” “A old American women is making forest lion out of cauliflower and her neighbors looking at it.",
          "In his own way, Trump has shown us all the limits of artificial intelligence.",
          "David Wallace-Wells\nRemember the season of A.I.",
          "Clarkesworld was, luckily, only temporarily disabled by the slop deluge; over the course of March 2023, with the help of volunteers, Clarke built a “very rudimentary spam filter,” and by the end of the month the magazine was able to reopen submissions.",
          "“The post you are seeing now is of a poor man that is being used to generate revenue,” he says in Hindi, pointing with his pen to an image of a skeletal elderly man hunched over being eaten by hundreds of bugs.",
          "On a website like Facebook, the more strikingly weird an image is, the more likely it is to attract attention and engagement; the more attention and engagement, the more Facebook’s sorting mechanisms will promote and recirculate the image.",
          "To take just one example: if you search “pet dance motorcycle” on TikTok, you will find hundreds of AI-generated videos of animals doing the “motorbike dance”, all animated using the same AI template.",
          "Remember that time Microsoft listed the Ottawa Food Bank on an AI-generated “Here’s what you shoudn’t miss!” travel guide?",
          "[16][3] Some, like Amy Kremer, shared the image on social media even while acknowledging that it was not genuine.",
          "Social media platforms will soon respond.",
          "That information was readily available elsewhere on the internet but seems to have been missed by many people who saw or were told about the A.I.-generated content, which was also shared across social media by local people and businesses, The Irish Times reported.",
          "[33] The site's owner said that \"We asked ChatGPT to write the article for us, but it wasn't ChatGPT by itself.\"",
          "So you've only been in operation for three months?",
          "“I have other pages which have over 100,000 followers which use AI images,” he said.",
          "Since the arrival of widespread consumer-grade generative AI, these tasks have become progressively more difficult.",
          "It is not easy to post 1,400 articles in three months and to make them rank in Google.",
          "The production time would have taken, traditionally, much longer.",
          "One video posted by TikTok user @amoamimandy.1a featuring the Tralalero shark has already passed 7 million views.",
          "“If you need my information pay me,” he wrote.",
          "Not all promotional content is spam, and not all AI-generated content is slop.",
          "Something strange was happening at Clarkesworld, the magazine Clarke had founded in 2006 and built into a pillar of the world of speculative fiction.",
          "And that is a huge benefit.",
          "Donald Trump, J. D. Vance, and Fox News have all repeated that lie.",
          "Cabanac has found almost 100 cases of obviously AI-generated scientific papers, which he called “only the tiny tip of the iceberg.” A recent study by the librarian Andrew Gray used words that appear disproportionately often in text generated by ChatGPT — among them commendable, intricate, and meticulously — to estimate that 60,000 scholarly papers were at least partially generated by AI in 2023.",
          "AI image generators like OpenAI's DALL-E do not handle words well, and one picture promises \"enchering entertainment, catgacating, live performmances, cartchy tuns, exarserdray lollipops, a pasadise of sweet teats,\" whatever any of that means.",
          "In the hands of Trump, they create small news cycles and narratives to be debunked.",
          "It has already helped drive down the cost and drive up the performance of next-gen batteries and solar photovoltaic cells, whose performance can also be improved, even after the panels have been manufactured and installed on your roof, by as much as 25 percent.",
          "And so it begins – the absolute dumbing down and worsening of everything from media to film to advertising to politics to the written word at the dead hands of AI, stoked by venture capitalists' rabid faith that it will be some sort of productivity silver bullet.",
          "Only prescreened customers were allowed in the drive-through, and those customers were not able to place orders—they just took whatever Trump handed to them.",
          "has cut decision time to one minute from 10.)",
          "So it is easy for us to generate revenue for that one day—then we don't have to put in effort throughout the year.",
          "The latest wave of AI behind the 'zombie internet'\".",
          "How do you make money?",
          "But on the other hand, the information didn’t just come from one source; it was disseminated across a network of influencers and presumably shared further among people who knew and trusted each other.”\n“Not everything on the site was fake,” he added.",
          "And what is the Trump campaign producing if not fantastical propaganda intended to conjure a false image of Joe Biden’s America as a dark, dangerous place on the verge of destruction, besieged by immigrants, and savable only by one heroic man?",
          "I didn’t generate them.”\nDisinformation researchers have long warned that generative AI has the ability to lower the bar for creating misleading content and threaten information around elections.",
          "One of these is “regenerate response,” which appears at the end of ChatGPT’s answers.",
          "Stalin's Image: A new statue of Joseph Stalin in a Moscow metro station reflects Russia’s efforts to rehabilitate the memory of a bloody ruler.",
          "As long as users are scrolling through videos, they are getting exposed to the ads that are the platforms’ primary source of income.",
          "For now, little (if any) of what’s being generated is convincing enough to fool voters, and most of it is being used to confirm the priors of true believers.",
          "It's embarrassing to Facebook that people on X — X!!!",
          "Clarke compared the problem to turning off the spam filter and trying to read your email: “Okay, now multiply that by ten because that’s the ratio that we were getting.” Within weeks, the problem became unmanageable.",
          "Futurism.",
          "But many people “are using the LLMs to produce more, which lowers the quality of the science that is published and made.” Even innocuous misuse has a cascading effect on the entire scientific enterprise, as retracted papers cast doubt on other papers that cite them.",
          "An Armed and Legged Fish: How Steve, a French cartoon with a catchy theme song, became a TikTok star.",
          "Eventually, on February 20, he made the decision to close submissions temporarily.",
          "Once the article was posted the owner said it went \"viral\" on TikTok and Instagram despite the website not sharing it on their own social platforms.",
          "Jesus' head on a fried chicken.",
          "Clarkesworld had become one of the first victims of AI slop.",
          "He cited the budgetary advantages of the project along with the speed at which the work could be created.",
          "I own five websites.",
          "To them, the image captures a vibe that is useful to them politically.",
          "This has been going on for quite a few months now.",
          "It's the content produced by AI tools that prioritize speed and quantity over substance and quality.",
          "This is the most widespread use yet found for generative-AI apps: creating stuff that can take up space and be counted.",
          "Influencers have been hawking platform-dependent “internet marketing” schemes for decades.",
          "- ^ \"Gullible Trump Cronies Losing Their Minds Over Fake AI Slop on Twitter\".",
          "We asked ChatGPT to write the article for us, but it wasn’t ChatGPT by itself.",
          "The @amuse account has considerable reach itself, with about 390,000 followers on X and dozens of daily posts.",
          "In August, I wrote that AI slop is now the aesthetic of the far-right and MAGA coalition, in part because it allows hyper-partisans to illustrate the fictional universe they’ve been peddling and living in for the past decade-plus.",
          "These “Shrimp Jesus” posts garnered hundreds of thousands of interactions and tens of millions of views.",
          "Then the person logs into their Facebook page and upgrades their account to an ad account, which is an instant process.",
          "Despite clunky AI dubbing and error-riddled subtitles, many of these videos garner hundreds of thousands or even millions of views.",
          "Some researchers, especially those for whom English is not a first language, use ChatGPT and other AI programs to help with translation and editing.",
          "Posts questioning its authenticity were widely shared on X.",
          "Yet these are anodyne compared with much of the material created and shared by far-right influencers and shitposters.",
          "“Usually, coolness is a factor that helps it spread, but not necessarily.",
          "Then they connect Vercel to the WordPress website using a specific WordPress plugin that effectively sets up a redirect between Vercel and the WordPress site.",
          "Old memes depicted “God Emperor” Trump.",
          "It was even on the first position of the first page.",
          "“We had reached the point where we were on track to receive as many generated submissions as legitimate ones,” Clarke told me.",
          "The photos aren’t terribly far off (a few of them accurately placed Trump in an apron), but all of them seem to be trying too hard.",
          "It’s very real and scary how much they have taken control to stop people helping.” That post has been viewed more than 40 million times.",
          "The problem has begun to worry the social media industry’s main revenue source: the advertising agencies who pay to place ads next to content.",
          "There is a fear that as slop takes over, the large language models, or LLMs, that train on internet text will “collapse” into ineffectiveness — garbage in, garbage out.",
          "We just do work for three or four months, and then we'll get the revenue.",
          "The GOP is becoming the party of AI slop.",
          "“Y’all, I don’t know where this photo came from and honestly, it doesn’t matter,” Amy Kremer, who represents Georgia on the Republican National Committee, wrote after sharing the fake image.",
          "We make websites and we rank them on Google.",
          "“The persons did all that copy-paste and didn’t even care to remove” the telltale phrase, Cabanac said.",
          "But on some level you probably do.",
          "Jason Koebler, a technology reporter who has spent the past year investigating Facebook’s AI-slop economy, has described the deluge of artificial imagery as part of a “zombie internet” and “the end of a shared reality,” where “a mix of bots, humans, and accounts that were once humans but aren’t anymore interact to form a disastrous website where there is little social connection at all.”\nWhat’s going on across the MAGA internet isn’t exactly the same as Facebook’s spam situation, although the vibe is similar.",
          "Or they may build a website filled with articles generated by an LLM, festoon them with advertisements, and try to get them highly ranked on Google News.",
          "I imagine some combination of all these things may be true to some degree.",
          "20th International Symposium of Communication in the Millennium: 193–199 – via ResearchGate.",
          "It’s the matter of weeding out the good from the bad, in the name of intellectual hygiene.",
          "Scroll, laugh, forget, repeat.",
          "You can do your own versions of these experiments at home.",
          "[54]\nSee also\n[edit]- AI boom – Ongoing period of rapid progress in AI\n- Content farm – Organizations that mass produce content\n- Dead Internet theory – Conspiracy theory on online bot activity\n- Elsagate – Controversy concerning a genre of YouTube videos\n- Enshittification – Systematic decline in online platform quality\n- Hallucination (artificial intelligence) – Erroneous material generated by AI\n- Italian brainrot – Series of 2025 Internet memes\n- Low culture – Term for forms of popular culture with mass appeal\nReferences\n[edit]- ^ a b c d Hern, Alex; Milmo, Dan (19 May 2024).",
          "Within the ad manager, they upload an image that has been modified to look like a Facebook gallery post (there are tools for this), and then they delete the headline and description that is autogenerated by Facebook to make it look like the ad is just an image and not a link.",
          "I am the owner of a SEO agency.",
          "In June, researchers published a study that concluded that one-tenth of the academic papers they examined “were processed with LLMs,” calling into question not just those individual papers but whole networks of citation and reference on which scientific knowledge relies.",
          "But images of all these things exist.",
          "It's baffling that so many people fell for it hook, line, and sinker.",
          "“I ain’t got time.",
          "These include people like the former CBS journalist turned far-right star Lara Logan, who was cut from Newsmax in recent years for going on a QAnon-inspired rant that claimed world leaders drink children’s blood, as well as the author of an anti-trans children’s book.",
          "Many earlier digital technologies have also made it easier to participate in creative activities, such as how smartphones made photography ubiquitous.",
          "They are also — for now, at least — much more reliable and productive.",
          "These pictures immediately reminded me of the viral, glossy AI-generated images of Trump being arrested and thrown in jail that started circulating in the spring of 2023.",
          "We will soon face a situation in which content is effectively infinite, but human attention is still limited.",
          "Here is Amy Kremer, a National Committeewoman for the Republican National Convention and cofounder of Women for Trump, saying that she knows the image is fake but simply does not care:",
          "Years deep into national hysteria over the threat of internet misinformation pushed on us by bad actors, we’ve sleepwalked into a new internet in which meaningless, nonfactual slop is casually mass-produced and force-fed to us by A.I.",
          "Muse, who is described in the prospectus as a “serial entrepreneur”, also blogs about how to make money from generative AI.",
          "As Xiaonan says, his method is to use AI to “earn from productivity gap” – that is, by producing far more content than people who don’t use AI .",
          "That it can create adequate texts and images is an astonishing leap forward in machine learning, but the texts and images are still only adequate, “good enough” and cheap enough for people to thumb past on their phones.",
          "Although many of these influencers already have sizable followings, AI-image generators offer an inveterate poster the thing they need most: cheap, fast, on-demand fodder for content.",
          "And it’s only getting easier to do this: Last week, X incorporated the newest iteration of the generative-AI engine Grok, which operates with fewer guardrails than some competing models and has already conjured up untold illustrations of celebrities and politicians in compromising situations.",
          "He wasn’t sure what the problem was, but it wasn’t that the images were fake.",
          "The images are created, copied, shared, and embedded into websites; they are indexed into search engines.",
          "The emotions that it evokes are love, happiness, and the memory of a special day filled with promises.” Hundreds of verified accounts swarmed in the replies to praise the missing image: “This picture exudes pure love and joy, a magical moment indeed!,” “This photo truly encapsulates the beauty and magic of true love,” “Such a beautiful moment captured in time, filled with love and joy.”\nCabanac believes “LLMs can be a magnificent tool, a very effective tool” for scientists if properly acknowledged.",
          "There’s no definitive way to tell how much slop has already been produced in the few short years generative-AI apps have been widely available, but there are ways to get a glimpse.",
          "Instead, this kind of content has become important for platforms.",
          "Google Ads and affiliate marketing.",
          "In January, Chris Mohney, a writer and an editor, spotted a tweet that appeared to be an AI-generated description of an image with no image attached: “The photo captures a couple exchanging vows at sunset.",
          "Now the reckoning is happening on very different terms.",
          "On the first night of the DNC, MAGA influencers such as Catturd2 and Jack Posobiec supplemented their rage tweets about Democrats with stylized AI images of Tim Walz and Joe Biden looking enraged.",
          "The journalist Parker Molloy compiled screenshots of people “acknowledging that this image is AI but still insisting that it’s real on some deeper level”—proof, Molloy noted, that we’re “living in the post-reality.” The technology writer Jason Koebler argued that we’ve entered the “‘Fuck It’ Era” of AI slop and political messaging, with AI-generated images being used to convey whatever partisan message suits the moment, regardless of truth.",
          "What has changed is the level of work and investment involved.",
          "Creators often mute the original video and add AI-generated narration, translating the content into various languages, including French, Spanish, Portuguese, Indonesian and Swedish.",
          "In this case, the image is being used to further the idea that Joe Biden, Kamala Harris, and FEMA have messed up the hurricane response, leading to little girls suffering in a flood with their puppies.",
          "A creator will take one of these videos, add AI-generated translation, and post the result on TikTok.",
          "“More than cost, it’s the speed,” Thakar told Ad Age.",
          "Then, they generate a preview for their ad.",
          "His process for creating posts, he told me, is pretty simple and AI intensive: “I use ChatGPT to ask for the best images that can generate a lot of popularity and engagement on Facebook,” focusing on topics like the Bible, God, the U.S. Army, wildlife, and Manchester United.",
          "The answer lies in the platform’s own advice to aspiring creators: if you want your videos to be promoted, you should “continuously share fresh and diverse content” that “doesn’t require a big production budget”.",
          "Right-wing artists including Ben Garrison and Jon McNaughton have long illustrated Trump in an absurd light—hulking and hypermasculine or holding a lantern on a boat, like George Washington crossing the Delaware.",
          "Pure engagement bait.",
          "More recent articles\n- Large Language Models can run tools in your terminal with LLM 0.26 - 27th May 2025\n- Highlights from the Claude 4 system prompt - 25th May 2025\n- Live blog: Claude 4 launch at Code with Claude - 22nd May 2025",
          "Then the images become something else.",
          "The MAGA Aesthetic Is AI Slop\nFar-right influencers are flooding social media with a new kind of junk.",
          "We have other articles, we have other websites.",
          "It makes content creation more accessible – and also opens the floodgates to mass production on social media.",
          "It stands to reason that a politician who, for many years, has spun an unending series of lies into a patchwork alternate reality would gravitate toward a technology that allows one to, with a brief prompt, rewrite history so that it flatters him.",
          "It's the filler content produced by AI tools that prioritize speed and quantity over substance and quality.",
          "In recent weeks, far-right corners of social media have been clogged with such depictions, created with generative-AI tools.",
          "Such was the case last week, when Republican politicians shared an AI-generated viral image of a little girl holding a puppy while supposedly fleeing Helene.",
          "The headlines, like the AI-generated Swifties for Trump images, come with the watermark “sponsored by the John Milton Freedom Foundation”.",
          "There’s the homeless vet with the badly worded sign, cops carrying massive bibles, and—of course—Shrimp Jesus.",
          "keep it detailed.”\nThe creators of these kinds of seminars, equipped with the “sell shovels in a gold rush” playbook, often have a more reliable income than the sloppers themselves.",
          "Not only does the copy on the website reek of generative AI, all the images have quite obviously been spurted out following a lazy prompt.",
          "Instead, it functions mostly to create the appearance of human-made content, benefit from advertising revenue and steer search engine attention towards other sites.",
          "Free software for creating images and videos has led to a surge in slop, driven by scammers, spammers and the occasional genuine user seeking to go viral.",
          "\"I'M RUNNING OUT OF WAYS TO EXPLAIN HOW BAD THIS IS\".",
          "Subscribe\nBy now, if you have spent any amount of time reading about the devastation wrought by Hurricane Helene, it is likely that you have seen the AI-generated image above.",
          "The very existence of so much quickly produced fake imagery adds a layer of unreality to the internet.",
          "The MAGA movement has spent nine years building a coalition of conspiratorial hyper-partisans dedicated to creating a fictional information universe to cocoon themselves in.",
          "Like that type of slop, A.I.-assisted search comes together quickly, but not necessarily in a way that critical thinkers can stomach.",
          "- Users actually enjoy this content — you see plenty of people in the comments who are probably duped and think it's a real image, or maybe just an interesting artistic rendition.",
          "Take Xiaonan, a social media entrepreneur we interviewed who runs six different TikTok accounts, each with more than 100,000 followers.",
          "Presidential campaigning has long offered an unreal portrait of American life—it’s just been made more peculiar by the presence of Trump.",
          "A niche non-profit’s AI slop makes its way to Trump\nDuring the spike in AI images on X, the conservative @amuse account posted the images of AI-generated Swift fans to more than 300,000 followers.",
          "We are expecting Google will derank.",
          "These jobs are different, but the thing they share is that they all must attend to and describe the world as it is.",
          "[7]\nThe term gained increased popularity in the second quarter of 2024 in part because of Google's use of its Gemini AI model to generate responses to search queries,[7] and was widely criticized in media headlines during the fourth quarter of 2024.",
          "The images are often sort of eerily exploitative.",
          "- There's even an X account dedicated to posting the most ridiculous stuff.",
          "But as people become accustomed to A.I.’s increasing role in how the internet works, Mr. Willison, who identified himself as an optimist for A.I.",
          "“Every image is AI generated along with all the gibberish text it try’s to create.",
          "Muse’s book on how to secure startup funding, which includes examples of him asking ChatGPT to pretend it’s Musk and offer business advice, lists that same Substack account as its publisher.",
          "Then they make a WordPress account and spam page, download a snippet of code from GitHub that has been written by other spammers, modify it (there are guides for this on GumRoad and Fiverr; I bought guides on both), and install it on their Vercel deployment.",
          "The thing is, we are the content creators.",
          "There’s Trump, face contorted in the appearance of deep concentration, tilting a fry basket to the heavens; Trump hanging two-thirds of the way out a drive-through window, waving like a beleaguered Norman Rockwell character; Trump, mouth agape, appearing to yell into the middle distance of a fast-food parking lot.",
          "AI models make it trivial to automatically generate vast quantities of text or images, providing an answer to any imaginable search query, uploading endless shareable landscapes and inspirational stories, and creating an army of supportive comments.",
          "“They got 700 likes within 2-4 hours.",
          "How much money do you make off SEO?",
          "On one end, the demand: the effectively infinite, indiscriminate appetite for content of websites like Facebook and TikTok, which need enticements for users and real estate for advertisers.",
          "Machine learning may help make our electricity grid as much as 40 percent more efficient at delivering power as it is today, when many of its routing decisions are made by individual humans on the basis of experience and intuition.",
          "This is the Shrimp Jesus kind of slop: bizarre, obviously fake, and sometimes vaguely unsettling in a trypophobia-triggering way.",
          "Futurism.",
          "It is engagement for engagement’s sake.",
          "The posts would be laughable if they weren’t taken by many people as gospel.",
          "As Xiaonan told us, many of the people taking his AI tutorial – entitled “Side job, self-employed, high-paid” – are housewives, unemployed people and college students.",
          "Another niche is about SEO, and how you can be an SEO expert, but I’m not going to reveal those.",
          "Though the image was clearly fake and quickly debunked, some politicians remained defiant.",
          "Discussing the fake site, Marty Meany wrote on the tech website Goosed.ie: \"The website likely uses AI to create content quickly and cheaply where opportunities are found.",
          "So there was a human editor?",
          "Tim DeStefano, a research professor at Georgetown University McDonough School of Business, told NBC News that using AI technology means a significant drop in the price of creating commercials.",
          "A spokesperson for deepfake detection company Reality Defender said that according to their platform, the headshot is 85 percent likely to be AI-generated.",
          "They can be harsh, they can be rude.",
          "It’s a huge topic, but only for one day.",
          "The Milton Freedom Foundation is one of many small groups flooding social media with so-called AI slop.",
          "Something very disheartening is happening with this particular image, however.",
          "“Speed is I would say five times, right?",
          "Our business model is Google Ads.",
          "Clarke doesn’t like to describe how the filter works for fear of giving too much away to the spammers, but “it’s holding things at bay,” he said.",
          "But even this horror story is a kind of wishful thinking: Recent research suggests that as long as an LLM’s training corpus contains at least 10 percent non-synthetic — that is, human — output, it can continue producing slop forever.",
          "But not all A.I.s are large language models like ChatGPT, Gemini or Claude, each of which were trained on gobsmackingly large quantities of text to better simulate interaction with humans and bring them closer to approximations of humanlike thinking, at least in theory.",
          "What are Trump’s tweets and Truth Social shitposts if not slop morsels, hurled into the internet’s ether for the rest of us to react to?",
          "There have long been fears that AI image tools could be used to create highly convincing “deepfakes” and images or videos that could help spread disinformation or influence elections.",
          "The future portended by the past two years is one in which we all become cataloguers, Neil Clarkes sorting through the noise for a little bit of signal.",
          "After seeing photos like this, they Like, Comment and share them.",
          "In many ways, political slop is a logical end point for these image generators, which seem most useful for people trying to make a quick buck.",
          "Others are “as an AI language model,” “as of my knowledge cutoff,” and “I cannot fulfill that request,” phrases that ChatGPT and other chatbots use frequently.",
          "But it is not easy to rank on Google’s first page, and our site was ranked on the first page.",
          "[10]\nSpeaking to New York magazine, a Kenyan creator of slop images described giving ChatGPT prompts such as \"WRITE ME 10 PROMPT picture OF JESUS WHICH WILLING BRING HIGH ENGAGEMENT ON FACEBOOK [sic]\", and then feeding those created prompts into a text-to-image AI service such as Midjourney.",
          "Worse, they may not want to stop all grist-mill.",
          "Everyone who idly scrolls through Facebook or TikTok or Twitter on their phone, who puts Spotify on autoplay, or who buys the cheapest recipe book on Amazon is creating the demand.",
          "Xiaonan also reveals tricks for standing out in the platforms’ recommendation game and avoiding platform regulations.",
          "Even in describing regular old pollution, this framework has its shortcomings, especially because it treats as automatic eventual progress that has always required tooth-and-nail fights against some very stubborn bad actors.",
          "In the hands of influencers, they are fired at our timelines in a scattershot approach to attract a morsel of attention.",
          "“They are getting so many likes,” he says.",
          "And then — they’ve solved it!",
          "Posts questioning its authenticity were widely shared on X.",
          "And while it’s hard to regard the internet we have now as a wholly beneficent advance in collective wisdom — the commercial opportunities afforded by connecting billions of people sit uncomfortably with the civic aspirations of some of the web’s pioneers — it’s hard to deny that an information superhighway, with some tolls and billboards and potholes, is more or less what we’ve got.",
          null
         ],
         "marker": {
          "color": "#CFD8DC",
          "opacity": 0.5,
          "size": 5
         },
         "mode": "markers+text",
         "name": "other",
         "showlegend": false,
         "type": "scattergl",
         "x": {
          "bdata": "J4cCwaUNvsCBtvDAi3v8wACv8sD4evfAxwMEwKsYk8BleuDA6rHFQNwsOEEv4B7A6HnEwAuY+cAA4aLAp1ScwEZVOEF8V5vAQvitwGN8g8D96LbAqhS7wFUVlsCT76jARhWSwOpD1MD057nAsmkAwfUUGcAFzv7AwPr7QG+UAMHxpzNAQyn+wBSZ/EB1JgHBCPnTwBRUBsE2ZtLAaGQuwGfI/cCwJwbANEeSwDlNusB09v3AJo2wwCCugcD4qtnAXSkBwTbt+cA6NM+/P4revoObAME5yQTAmBOxwAyjXEHfurHAjRTAwFim08BJumBBgbZiP1cBBsAEeoDA2zL3wJLYgL5Io7fA1II1wPuK4sAvBeG+NLDFQD4GLL/oXzBA/6fYwOWbAMEy7YXAKyHBwG7j2cBJ2aTAgnA8wI+toMCDcc/AHV45wK+QXEHPIYPAAx/Pv/K9isDQ9WBBHysDwd9EOEG26CtAMW7twH5578DXYYE/4oo6wJdHMUCZqunAU1exwLL5/MDG5rDAW8riwHO6PcAgH/3Avt7Ov2xuOEEK4QHB/iyqwLAIrcCnU1xBoQTFwMzXYEF7yKrAMa6/wAqBJ7+l4P3APA2VwPLT7sD8f/fAx2TUwNh3o8CBp7vAq/uAwL7qbb8Kz9DAwEntwF+B7sACRvZAD5q7wBCi/8Bg9pnAWoYpQHfOYEFI8jrABA31wL9mzsAyU9a/iHYEwQHy8sCnR0m+vw+xwHBbz8D6v/DAqUMbvzQW5sBoAzRA/MozvkV6HcCjmrjAxoimwAXLAMFNfzzA+UWZwOy0mMBbyTjA7HStwDIh1cCso93AmcevwNMJqMCAtOTAKHIyQBtuG8B9n7vAEGWGwEZGJr+e8gbAMZGBwFZXJcCrodTAIe1gQVHlwsC5BN3Aw8wnQKugOEHa5jvAzQXNwKIfscCTCPZAKqzMv8cZecD3rtXAeImDP0xQg8ChqALBAXLJwKfaTL8lAtDA6SWhwPyWhsBKbJbA3+0AwWn9ysBaK6+/9LYAwfxzXkHjPM7Al9+VwJuITMBO5JLAgkeUwPedWUFIrr3AUMMGwdGrlcC85O/AQy+LwK2LpsA1gvZA9vqawL236cCqopfAx5m7wEW7kcCLNs6/k6Y0v5LupsBMCfZAKbG4wCePj8B/2svAEboBwYLZ5sAKuo7A9EHmwASSocDH/K/AAVafwLsfhsAEFCi/WTwEwf8AyMCUB1lBtDUzv4Zav8AZ3pvAyDCKwMcWx8CXCGFBDm07wI4tp8BSet/A7CX+wOrvqsC3ld3AjwcoQAuyxUAtJ7jA7ef5wKkT2sDtza7AXZnmwAaZgMA9HMzAcRH+wE8jAcHuRThBLoDUwMIFI8BzST3Az/aYwGpTk8B//KHAj1UEwfqVscD0eQHBAsu3wBVXoMAHH/rA56IGwcJw+MAXwOzAobD/wEfMqsBRxAbBvbdev1QV/EAohqbAPC7UwOgYHL+0bvTAniqkwJwHk8CQhTXA30bjwGwtzsDskqPA6qWGvqWJ1MCkYMbAy26cwMVo8MCQL2FBaJeywBPLYT8lBFrA",
          "dtype": "f4"
         },
         "y": {
          "bdata": "MavJQMkWt0BI95RAn7jrQHwx1EC9n45Atm+/QDPHkEAnrZxAho4Jv4tujUAuPz5BFjqfQBXQ0UBf2HhAU+GkQIjljUBAhKBAzEyUQB1Rs0ArhatAYjetQM0FkUBrhI9AuF6pQApiXkDbfqxAUz2OQInQIUCabY9AuVeJQGMJjEBGtSVBK7SNQJ3miUDPpNZApcrTQFknyED3CNJARQC1QPA6j0C6VypBkKFoQIeknUA3lc9AhxG0QFqCtkAKA7pAydfOQGwxkkDbXgNBnBT7QBE3i0BpbStBTDFmQLAVeEE0gnBANPS8QMIK30AsRHxBz4iAQGrhz0BjjMBAZhmPQNYsBkGoMMtA03VyQGN3l0AJHP1Ai4IJv2w3J0Gr2CRBwD+5QPyajEBw3ntA1rOXQDs8b0B0+YtA6jJqQOXBo0B9BJhA+xlzQNQCeEF2qrNAW1kDQcwIskCygHxBqenGQIW+jUDMvCNBiDKKQKankkB9xYJASNiWQB8WJUH6adBAZezNQBM150DP6Z5AWPebQGU3aEBoDNFAw18DQc3/jUDwuMRAcrHEQLrK0ECXxHdBCt3JQK9jfEFdrrRA1+XNQOch+kCFytJASROmQOyV2kDbdcdAyTdaQGD4x0DNG+pA0jTYQFz39UCag7xAFpGUQHaviUBRTYRAqBvHQIUtjkD0jKRAFzMjQVhZfEGKVXBAzX7BQOEaxkBuviJB+4riQEXIg0Ca4AVB802nQL1rvkBw35FAAWv5QFvozkCNviVBMxoGQaj3O0G52bFAbW6NQC02jEC0y2dAdP+QQGo+g0DhF3FA8CC8QLL8mUCxqchAbr2cQF2Ej0AM6NVAylslQT3A4UAubNRAbzt7QHjE+EDukc9ART+8QE9qyEAEraVAVXh8QW4qbEDfQppAZIYjQcKFjkCyim5AwVu9QNMFzkCBFYRAcNohQQV2iED5OaVAVoOEQHiBekAIQeRAyYqhQGtr60CyPl9AZuOLQF5+oUDU7G5ABJ+MQJvftEBufwZBoaONQPjseUH0gpZA3HikQLVSQEF6lKlA28RnQOPWdEGZM5lANrnHQHkwZ0BBpZRALR6rQNlSZ0ASeoRAAB6EQETnskBeH4RABxOxQI5pjkDkYANBQpirQE5DjUBqEYRA7+C6QObAp0Di9ZZAtSbDQB65zkAziapAncfYQBDlaECJXq5AsdrRQPgre0Bw8CZBWhfiQEV+okDxN3RBx+EmQWSocEDNEaJAdxWxQMvMskAalHxBOsJ0QLHHjUDfVZBAeA/HQKx/wkAzQY1A4cgiQeqPCb9ue8dAYX7LQCeJkEASlJtAGzTVQKXLwECaUqlAy2OQQO74w0AlpY1Aa9O9QErU5UAUa3pAyXWhQNanf0DcAqNAJmbdQMWRr0Aqj95AeOeqQAtPx0B8VdFAw+bHQEq+yEBBoohAuSqMQF1qwEBRasdACBj6QJpuiUBSio1AgAjgQOWt+UADCMJAwDnJQBDHp0DaQXFA7N/PQK7OxUBMSm1A5OQDQQjmXEB4p8hAZuCfQEnKmkBwrnxBpXHsQJVvu0CsJ8RA",
          "dtype": "f4"
         }
        },
        {
         "hoverinfo": "text",
         "hovertext": [
          "Unlike a chatbot, the slop isn’t interactive, and is rarely intended to actually answer readers’ questions or serve their needs.",
          "Adam Aleksic, a linguist and content creator who uses the handle etymologynerd on social media, believes that slop — which he said has yet to cross over to a broader audience — shows promise.",
          "Tackling spam in inboxes required an enormous cross-industry effort and led to a fundamental change in the nature of email.",
          "But like spam, its overall effect is negative: the lost time and effort of users who now have to wade through slop to find the content they’re actually seeking far outweighs the profit to the slop creator.",
          "“If the field can’t find a way to address this situation, things will begin to break.”\nThe information superhighway”: That’s what the internet was supposed to be.",
          "[7]\nJonathan Gilmore, a philosophy professor at the City University of New York, describes the \"incredibly banal, realistic style\" of AI slop as being \"very easy to process\".",
          "Occasionally, a piece of slop is so useless that it goes viral in its own right, like the careers advice article that earnestly explains the punchline to a decades-old newspaper comic: “they pay me in woims”.",
          "Like, we’ve had a lot of words spread from a bunch of coding nerds, right?",
          "Slop is the new name for unwanted AI-generated content\n8th May 2024\nI saw this tweet yesterday from @deepfates, and I am very on board with this:\nWatching in real time as “slop” becomes a term of art.",
          "What is 'AI Slop'?",
          "They’re slop as well.",
          "But if it’s mindlessly generated and thrust upon someone who didn’t ask for it, slop is the perfect term for it.",
          "Elsewhere on the web though, slop is spreading.",
          "The threat of slop fatigue\nAs consumers and business owners alike, we're all experiencing slop fatigue.",
          "“Slop” is what you get when you shove artificial intelligence-generated material up on the web for anyone to view.",
          "The rise of slop has, appropriately, the shape of a good science-fiction yarn: a mysterious wave of noise emerging from nowhere, an alien invasion of semi-coherent computers babbling in humanlike voices from some vast electronic beyond.",
          "[9] However, he has said it was in use long before he began pushing for the term.",
          "“While the precise meaning of ‘They Pay Me in Woims’ remains ambiguous, various interpretations have emerged, ranging from a playful comment on work-life balance to a deeper exploration of our perceived reality,” the slop begins.",
          "\"Why the internet is filling up with nonsense 'AI slop'\".",
          "'s 'Slop' Era Last?\".",
          "“I think having a name for this is really important, because it gives people a concise way to talk about the problem,” says the developer Simon Willison, one of the early proponents of the term “slop”.",
          "[7]\nThe British computer programmer Simon Willison is credited with being an early champion of the term \"slop\" in the mainstream,[1][7] having used it on his personal blog in May 2024.",
          "slop”: often uncanny, frequently misleading material, now flooding web browsers and social-media platforms like spam in old inboxes.",
          "For slop, the future is less rosy: the world’s largest companies have gone from gamekeeper to poacher.",
          "\"The Slop Candidate\".",
          "pollution,” and the physicist Anthony Aguirre “something like noise” and “A.I.-generated dross.” More recently, it has inspired a more memorable neologistic term of revulsion, “A.I.",
          "(April 2025) |\nIn August 2024, The Atlantic noted that AI slop was becoming associated with the political right in the United States, who were using it for shitposting and engagement farming on social media, with the technology offering \"cheap, fast, on-demand fodder for content\".",
          "\"Spam, junk ... slop?",
          "I propose “slom”.",
          "Supported by\nFirst Came ‘Spam.’ Now, With A.I., We’ve Got ‘Slop’\nA new term has emerged to describe dubious A.I.-generated material.",
          "[4]\nIn politics\n[edit]The examples and perspective in this section deal primarily with the United States and do not represent a worldwide view of the subject.",
          "Voilà: slop.",
          "- ^ \"Slop is the new name for unwanted AI-generated content\".",
          "This piece is part of a series on the great internet letdown.",
          "AI slop is the latest iteration of digital clutter.",
          "“I think I might actually have been quite late to the party!” he said in an email.",
          "This slop is sloppy enough that it can sometimes be very funny — and there's even an X account, Insane Facebook AI Slop, dedicated to cataloging it.",
          "- Slop is often scam-adjacent, but the accounts posting it may not directly be the ones doing the scams, so they don't get banned.",
          "I’m hoping ‘slop’ has the same impact – it can make it clear to people that generating and publishing unreviewed AI-generated content is bad behaviour.”\nSlop is most obviously harmful when it is just plain wrong.",
          "\"Not even Amazon is safe from the rise of AI 'slop'\".",
          "Update 9th May: Joseph Thacker asked what a good name would be for the equivalent subset of spam—spam that was generated with AI tools.",
          "Worse than the havoc it wreaks on the internet, slop easily escapes the confines of the computer and enters off-screen systems in exasperating, troubling, and dangerous ways.",
          "They also apply complex, largely undocumented, AI systems to try to detect spam directly, in a constant cat-and-mouse game with the spammers themselves.",
          "“‘Ignore that email, it’s spam,’ and ‘Ignore that article, it’s slop,’ are both useful lessons.”\nBenjamin Hoffman is a senior editor who writes, assigns and edits stories primarily on the intersection between sports, lifestyle and culture.",
          "Slop, at least in the fast-moving world of online message boards, is a broad term that has developed some traction in reference to shoddy or unwanted A.I.",
          "Your letterbox is full of junk mail.",
          "Last week, Robyn Speer, the creator of WordFreq, a database that tracks word frequency online, announced that she would no longer be updating it owing to the torrent of slop.",
          "is being drowned out by it, too.",
          "Your email inbox is full of spam.",
          "AI slop has clogged the internet with synthetic ephemera, but it has also given a name to the human-made attentional grist that’s all around us—the slop that exists in real life, in meatspace.",
          "AI slop isn’t, by nature, political.",
          "[1][4][5] Coined in the 2020s, the term has a pejorative connotation akin to \"spam\".",
          "Slop is the most appropriate word for what it produces because, as disgusting and unappetizing as it may seem, we still eat it.",
          "But just as we've learned to dodge the nuisances of junk mail and spam, a new threat has emerged — one that has the potential to undermine all our hard work: AI slop.",
          "Now, With A.I., We've Got 'Slop'\".",
          "The term has sprung up in 4chan, Hacker News and YouTube comments, where anonymous posters sometimes project their proficiency in complex subject matter by using in-group language.",
          "It’s nice to think that if you could simply turn off your phone and computer, you could avoid all these ugly creations.",
          "This is all \"AI slop,\" a new term describing the sudden flood of garbage AI-generated content, from e-books to viral photos.",
          "You know, it skips a major plot element, and the final scene is a celebration out of the ending of Star Wars.” Clarke said he had received “dozens of this story in various incarnations.”\nThese are prime examples of what is now known as slop: a term of art, akin to spam, for low-rent, scammy garbage generated by artificial intelligence and increasingly prevalent across the internet — and beyond.",
          "Therefore, it’s less in your face.”\n@etymologynerd More great discussion of this in Alan Metcalf's book \"Predicting New Words\" #etymology #linguistics #language #memehistory #rizz #skibidi ♬ original sound - etymologynerd\nThe use of slop as a descriptor for low-grade A.I.",
          "Slop isn’t necessarily a commentary on quality so much as on how it is meant to be consumed: fleetingly, and with little or no thought beyond the initial limbic-system response.",
          "Perfect example of slop.",
          "Slop is the ideal name for this anti-pattern.",
          "But the most convincing examples of potential AI slop arrived in early December.",
          "Look at the word ‘spam.’ Usually, the word is created because there is a particular group with shared interests, with a shared need to invent words.”\nIn the short term, the effect of A.I.",
          "Some have identified Simon Willison, a developer, as an early adopter of the term — but Mr. Willison, who has pushed for the phrase’s adoption, said it was in use long before he found it.",
          "It is, in effect, a slop subsidy.",
          "If it were all just a slightly more efficient form of spam, distracting and deceiving Facebook-addled grandparents, that would be one thing.",
          "Spam is annoying, but ultimately easy to ignore—that is, until it collides with the negative incentives of social-media platforms, where it’s used by political shitposters and hucksters.",
          "- ^ a b c d e \"First Came 'Spam.'",
          "Actually scrubbing the slop would be even better.",
          "Related: These Days, Everything Is 'Powered By AI.'",
          "The slop makes everyone money.",
          "But nonsynthetic slop is everywhere too.",
          "The main characteristic of slop is that there is an endless supply of it.",
          "He summarized a typical example: “Usually, it begins with the phrase ‘In the year 2250-something’ and then it goes on to say the Earth’s environment is in collapse and there are only three scientists who can save us.",
          "“pollution,” another perspective is that plenty of good news from A.I.",
          "- ^ \"The deluge of bonkers AI art is literally surreal\".",
          "“I think this is a great example of an unobtrusive word right now, because it is a word we’re all familiar with,” Mr. Aleksic said.",
          "Given its outlandish nature and tenuous relationship with reality, you might think this so-called “AI slop” would quickly disappear.",
          "I’m happy to use LLMs for all sorts of purposes, but I’m not going to use them to produce slop.",
          "I think don’t publish slop is a useful baseline.",
          "It's spam-adjacent stuff — if not outright spam.",
          "But slop has a way of leaking out.",
          "\"Disgusting application of AI.\"",
          "Still, the glut of AI-created political imagery is a pollutant in a broader online information ecosystem.",
          "[8]\nOrigin of the term\n[edit]As early large language models (LLMs) and image diffusion models accelerated the creation of high-volume but low-quality written content and images, discussion commenced among journalists and on social platforms for the appropriate term for the influx of material.",
          "[5] Early uses of the term \"slop\" as a descriptor for low-grade AI material apparently came in reaction to the release of AI image generators in 2022.",
          "Slop, the OUP writes, is “art, writing, or other content generated using artificial intelligence, shared and distributed online in an indiscriminate or intrusive way, characterised as being of low quality, inauthentic, or inaccurate”.",
          "And that, I think, is dangerous.”\nFor a problem to be targeted, giving it a name can prove helpful.",
          "Now, your web browser has its own affliction: slop.",
          "\"Drowning in Slop\".",
          "Dubbed “AI slop”, there is no hiding from the manipulated images and videos, with their prominence even leading to the Oxford University Press (OUP) naming “slop” as a contender for its word of the year.",
          "Hoel, the neuroscientist, has called for “the equivalent of a Clean Air Act: a Clean Internet Act,” including the unscrubbable watermarking of anything produced by A.I.",
          "[13]\nAI slop is frequently used in political campaigns in an attempt at gaining attention through content farming.",
          "You may not know exactly what “slop” means in relation to artificial intelligence.",
          "One increasingly intuitive answer is “garbage.” The neuroscientist Erik Hoel has called it “A.I.",
          "Slop is everywhere on the internet, but its purest version exists on Facebook.",
          "This AI slop doesn’t just exist in a vacuum of a particular social network: It leaves an ecological footprint of sorts on the web.",
          "Afterward, the incident went viral as an example of AI slop seeping into the real world.",
          "“I don’t think anyone has reliable information about post-2021 language usage by humans,” Speer wrote.",
          "simonwillison.net.",
          "If sloppers are the manufacturing sector of the slop economy, these gurus, vouchers, and toolmakers represent the service sector.",
          "AI slop\n\"AI slop\", often simply \"slop\", is a term for low-quality media, including writing and images, made using generative artificial intelligence technology, characterized by an inherent lack of effort, logic, or purpose.",
          "This was proto-slop, for a simpler, more analog time.",
          "the way that “spam” became the term for unwanted emails, “slop” is going in the dictionary as the term for unwanted AI generated content\nUpdate: that account has been deleted so the Tweet is a 404 now—the tweet quote tweeted this one by @allgarbled.",
          "when it is used correctly, thought that slop could become the go-to term for the lesser forms of machine-generated content.",
          "Even the stuff that passes through is a burden; unrefined, unedited slop is by definition more work to read, watch, interpret, and understand.",
          "This kind of slop can erode trust and drive customers away.",
          "“Before the term ‘spam’ entered general use it wasn’t necessarily clear to everyone that unwanted marketing messages were a bad way to behave.",
          "That’s slop.",
          "Its early use has been noted among 4chan, Hacker News, and YouTube commentators as a form of in-group slang.",
          "But the slop tide threatens some of the key functions of the web, clogging search results with nonsense, overwhelming small institutions like Clarkesworld, and generally polluting the already fragile information ecosystem of the internet.",
          "is generating an awful lot of genuine pollution, too — both Google and Microsoft, which each pledged in 2019 to reach zero emissions by 2030, have instead expanded their carbon footprints by nearly 50 percent in the interim.",
          "Hence the term slop, which conjures images of heaps of unappetizing food being shoveled into troughs for livestock.",
          "“It’s a word that feels like it’s naturally applicable to this situation.",
          "The other important participants in the slop economy, besides the sloppers and the influencers and the platforms, are all of us.",
          "Terms proposed included \"AI garbage\", \"AI pollution\", and \"AI-generated dross\".",
          "Big webmail providers like Gmail aggressively monitor their own platforms to crack down on spammers and are increasingly suspicious of emails arriving from untrusted email servers.",
          "Slop, as it relates to AI, is loosely defined as spammy, cheap blocks of text, video, or images, quickly generated by computer programs for mass distribution.",
          "Slop requires human intervention or it wouldn’t exist.",
          "The sloppers gather on message boards and chat apps and social media to swap tips and tricks.",
          "It’s what’s right there in the trough.",
          "And while slop is one option, it is still an open question of whether it will catch on with a mainstream audience, or end up in the slang dustbin with cheugy, bae and skibidi.",
          "“Society needs concise ways to talk about modern A.I.",
          "Others expressed similar concerns: \"This is such slop bro.",
          "Why slop?",
          "In the nearly two years since, a rising tide of slop has begun to swamp most of what we think of as the internet, overrunning the biggest platforms with cheap fakes and drivel, seeming to crowd out human creativity and intentionality with weird AI crap.",
          "Just like spam, almost no one wants to view slop, but the economics of the internet lead to its creation anyway.",
          "“What we always see with any slang is that it starts in a niche community and then spreads from there,” Mr. Aleksic said.",
          "\"Hurricane Helene and the 'Fuck It' Era of AI-Generated Slop\".",
          "Still, “it’s clear that business as usual won’t be sustainable,” he wrote in a blog post describing the problem.",
          "And perhaps that a more optimistic perspective can be drawn by analogy to what economists call the “environmental Kuznets curve,” which suggests that, as nations develop, they tend to first pollute a lot more and then, over time, as they grow richer, they ultimately pollute less."
         ],
         "marker": {
          "opacity": 0.5,
          "size": 5
         },
         "mode": "markers+text",
         "name": "Artificial Intelligence Spam Content",
         "text": [
          "",
          "",
          "",
          "",
          "",
          "",
          "",
          "",
          "",
          "",
          "",
          "",
          "",
          "",
          "",
          "",
          "",
          "",
          "",
          "",
          "",
          "",
          "",
          "",
          "",
          "",
          "",
          "",
          "",
          "",
          "",
          "",
          "",
          "",
          "",
          "",
          "",
          "",
          "",
          "",
          "",
          "",
          "",
          "",
          "",
          "",
          "",
          "",
          "",
          "",
          "",
          "",
          "",
          "",
          "",
          "",
          "",
          "",
          "",
          "",
          "",
          "",
          "",
          "",
          "",
          "",
          "",
          "",
          "",
          "",
          "",
          "",
          "",
          "",
          "",
          "",
          "",
          "",
          "",
          "",
          "",
          "",
          "",
          "",
          "",
          "",
          "",
          "",
          "",
          "",
          "",
          "",
          "",
          "",
          "",
          "",
          "",
          "",
          "",
          "",
          "",
          "",
          "",
          "",
          "",
          "",
          "",
          "",
          "",
          "",
          "",
          "",
          "",
          "",
          "",
          "",
          "",
          "",
          "",
          "",
          "",
          "",
          "",
          "",
          "",
          "",
          "",
          "",
          "",
          "",
          "",
          "",
          ""
         ],
         "textfont": {
          "size": 12
         },
         "type": "scattergl",
         "x": {
          "bdata": "DyA+wGkgssDIVPVAaLDFQPj2MUClsNzAwC0xQPax08DU9gDBVlrXwB1dvcB4kbHAPTz2QI+zzsA1v6TAcRx5P3fm78D4idXApgcZPM4ycz+cjihA7W3zwMv+0MD/iIHA2b0JwFBq1MC2pOHADODHv0Uh78DkucTAG4njwMO3YEFxT9bAtgjDwNzO1cCqpKvAQLXFQHQkYUFmEMu+jxs9wCiA1MClfDFAWvyVwET8vMAnltPAJqM8wEFoYEH/uc3AgMc5wNIZtsD1deHAyWriwA+t5MAESsjALRnIPkBGtcDXHJm+bUorQGl3LkDCa7LApH2RwNSaur/XUpvAF78AwTkX0cCZMPDANc5HvvPxxr+Os4jA8NGTPoKL0sAlmcnAQoGywJ7X4cD9LafANZPCwAPH0sBeMNTAiYivwL3kssBHubbA1/e1wB0tkL7DQWFB9/bQwAC6rMBhFuDATBrgwO50E8AFkrrAtFc5wCHlET+XK1lBZpnYwCow4MDg/ODAs4fTwN2p1MAtOZ3A44m8wMkegcBUigbA955ZQR7W38DchqbAbAG5wLpgusBqQPxAPNbawC7Z18CsTdnAek3twE8pQr5x48zA0ZTTwKA6tcDNdDrABEXTwN3eMUD/poXANBw4QVvxTcARhuPAlLLXwIrQusDJyqzArcfcvmmnYEGMY+nAmpzPwLWEUMCaEzhBijUAwQ==",
          "dtype": "f4"
         },
         "y": {
          "bdata": "LuN4QLcCxkDijINAxoQJv0w/JUEg1JtAEjolQdyJ00A8HoxA0jK5QEc1lEDCVsZAMDmEQNvVw0CDuIxAsUu/QNiShUAnd5pAdZ6WQKohwkBV8CJBpBuHQO82z0DLKLVAi1ouQYr8YkC0/6ZANiEhQb58mkDki3dArEKkQNM6fEF8DVRAe4VqQPlvt0AdG6tAIaQJv/uvfEE30v9Aril2QNQvXECEHiVBjxejQCKaw0ApN15Aysx3QOPxe0GMZc1ALLRyQJDyjkA1Z5VA2eePQNVFlEC7hLVAi4++QND7wkD5DgNBG6MjQUpgJEHBNphAWGuBQBJPsUATPMRA8KLKQAnu0UA4jJlAo9cFQRNHIUF1abJADia3QKGO3EBcoMZAEvNkQG0wk0C0RI1AZSWTQFhG2kAtvltAjLPNQIPLZUDjEM5AHUfJQEAQBEFFzHxBP5bQQCCrjUBGTI9AN6qZQDY3+z/3Hq5ADyByQJZjvkBHXnRBibq5QF88p0C0FZpAgjFcQJKXskBcEJ5AnRGcQFAM10BYnCpBxdd0QWnsmUBVOI1AzsDKQExXx0DflIlA8ijLQEGpuUBQFYFAnwaHQG8DBkGuIblACQZeQFPQtUAyInpA9fWXQNs3JUEk7bBARVmNQN5NQEHpNpVALpCFQHSFyUCRZbJAyPb6QPExfEGm45JAMLewQCD7QUFtRY1A4WeMQA==",
          "dtype": "f4"
         }
        },
        {
         "hoverinfo": "text",
         "hovertext": [
          "- Lack of Coherence: Content that jumps from one idea to another without a clear flow is often a product of AI slop.",
          "Why mess with content people like?",
          "This approach not only makes your brand more relatable but also strengthens your connection with your audience.",
          "AI Slop is Everywhere We Look — Here's How Businesses Can Avoid the AI Slop Cycle AI slop is the latest iteration of digital clutter.",
          "But with the right approach, you can turn these challenges into opportunities.",
          "Demand more from your AI tools, ensure they enhance rather than detract from your brand's message, and keep your content authentic.",
          "“Ryanair succeeds not because they post Brainrot content,” De Nittis writes, “but because their version is still very Ryanair — cheap, cheeky, and chaotic.",
          "He is an expert market researcher and branding consultant.",
          "Businesses should be checking their data is accurately labelled and properly secured, ensuring sensitive data is only accessible to those who need it.",
          "- Combine AI with Human Touch: AI can be a powerful tool, but it's essential to have human editors refine and enhance the content to maintain quality and authenticity.",
          "Smart brands recognize this not just as entertainment, but as a ritual of participation.",
          "About Human Centric Group\nHuman Centric Group is a boutique branding agency based in London, working with global leaders like Danone, Ikea, PepsiCo, and Carlsberg.",
          "This is how entrepreneurs will not only survive but thrive in this new digital landscape.",
          "De Nittis notes that brands leveraging this meme-based chaos aren’t doing it for laughs — they’re using it to inject themselves into the fast-moving, low-effort humor loops Gen Z thrives on.",
          "For instance, AI can be used to automate repetitive, low-value tasks, freeing up time for teams to focus on high-value, strategic initiatives.",
          "For those without, chasing trends can quickly backfire.",
          "“The proliferation of low-quality or spammy AI content risks cluttering feeds and diminishing overall user satisfaction,” he says.",
          "- Generic Blog Content: Blogs filled with repetitive, unoriginal ideas don't just bore readers—they also undermine your authority and thought leadership.",
          "The result is a conglomerate that has never before existed in fashion.",
          "This adds depth and makes your brand memorable.",
          "But I’m increasingly of the opinion that sharing unreviewed content that has been artificially generated with other people is rude.",
          "For brands with answers, the payoff can be immense.",
          "- Develop Custom AI Models: Creating AI models tailored to your specific needs and brand voice ensures that the content generated aligns with your standards.",
          "Opinions expressed by Entrepreneur contributors are their own.",
          "By leveraging AI in this way, businesses can enhance productivity, without delegating their most important tasks to tech that isn’t suited to the task.",
          "In a world saturated with AI-generated content, distinguishing valuable information from slop is not just a skill — it's a competitive edge.",
          "Here's what to watch out for:\n- Generic Phrasing: AI often relies on repetitive, uninspired language that lacks the creativity needed to engage.",
          "That’s brand distinctiveness in action.”\nThe formula is simple but powerful:\nTrend + Brand Distinctiveness = Memorable Impact\nThe article urges marketers to ask themselves:\n• Do we know our brand well enough to play with chaos?",
          "“As the difference between human and synthetic content gets blurred, people want to know where the boundary lies,” he wrote.",
          "We pour everything into building something unique, something that truly resonates with our customers.",
          "Media Enquiries\nHUMAN CENTRIC GROUP LTD\n+44 20 3693 4480\nemail us here\nVisit us on social media:\nLinkedIn\nInstagram\nTikTok\nItalian Brainrot Animals\nLegal Disclaimer:\nEIN Presswire provides this news content \"as is\" without warranty of any kind.",
          "Here's how to avoid it as a business owner.",
          "For platforms, the challenge will be balancing the engagement these AI-driven trends bring with the need to maintain trust and authenticity.",
          "But the article warns: virality is not strategy.",
          "You cannot rank through AI content alone.",
          "If brands want to reap the full benefit of AI, they should also take a closer look at their data.",
          "If businesses can learn from their peers’ mistakes and apply AI in the right way, they’ll have an opportunity to enhance their offering, rather than become an example of bad use cases.",
          "“This is important for the younger Gen Z and Gen Alpha audiences, who are the first generations that grew up digitally and are looking for personalization across everything, as well as looking for experiences to have more meaning.\"",
          "How entrepreneurs can spot AI slop\nIdentifying AI slop is the first step in protecting your brand.",
          "- Inaccurate News: AI-generated news articles often miss critical nuances, leading to misinformation and damaging your credibility.",
          "Content that seems plausible but inaccurate can harm your brand's reputation.",
          "Known for blending deep market insight with human-first storytelling, HCG helps companies create strategies that resonate across cultures and platforms.",
          "“The Indian audience is very emotional.",
          "As entrepreneurs, our brands are our lifeblood.",
          "Italian Brainrot hits the sweet spot: it’s fast, memeable, and demands zero cognitive load.",
          "Here's How to Tell Hype From Real Innovation.",
          "\"Our intentions are very pure, we tried our best to give authentic content.",
          "Your customers are becoming more discerning, and they're quick to tune out content that doesn't meet their expectations.",
          "“Gen Z loves content that feels spontaneous, surreal, and made for instant consumption.",
          "Why Brands Are Embracing 'Italian Brainrot' to Go Viral on TikTok and Win Over Gen Z\nNews provided by\nApr 15, 2025, 2:30 AM ET\nHuman Centric Group decodes the viral Italian Brainrot trend and explains why it’s more than just a meme for brands chasing Gen Z.",
          "- Misleading Information: Sloppy AI-generated snippets in search results can mislead your customers, making it harder for them to find accurate information.",
          "The real cost of AI slop\nAI slop comes in many forms, all of which can undermine your efforts to build a strong, authentic brand:\n- Weak Brand Communications: Imagine your customers encountering repetitive, robotic responses from your chatbot — like Air Canada's widely criticized AI mishaps.",
          "This year’s backlashes highlights a key risk for businesses adopting AI in 2025.",
          "Has this made you reconsider the ways that you operate?",
          "As adoption becomes more widespread, we’re likely to see brands churn out more AI slop.",
          "- Invest in Originality: Set aside time to craft original content that reflects your unique perspective.",
          "- Entrepreneurs can stay ahead by blending human creativity with AI efficiency, ensuring content remains original, valuable and impactful.",
          "They are precisely what the company wants: highly engaging content.",
          "- Combatting AI slop is crucial for entrepreneurs to maintain brand authenticity, customer trust and meaningful engagement.",
          "About The Author\nFrancesco De Nittis is manager at Human Centric Group.",
          "- Cluttered Social Media Feeds: Social platforms should be a place for meaningful engagement, but AI slop often fills them with irrelevant, unengaging posts that fail to connect with your audience.",
          "The brands that prioritize genuine, high-quality content will not only survive in this new landscape but thrive.",
          "The initial excitement over AI-generated content has faded, replaced by a demand for authenticity and real value.",
          "So, what is Italian Brainrot?",
          "With a track record of working with leading brands like Carlsberg, Remarkable, and Tecnam Aircraft, he helps companies unlock data-driven insights for strategic growth.",
          "• Can we insert our product without feeling forced?",
          "“We have seen instances where people have commented that an advert was AI-generated rubbish when it was not,” he says, adding that it could become a problem for the social media industry if consumers “start to feel they are being served rubbish all the time”.",
          "Consumers are becoming increasingly intolerant of AI-generated missteps, even from their favourite brands.",
          "We try our best to give people authentic content.",
          "For entrepreneurs, this isn't just a nuisance; it's a potential threat to your brand's integrity and your ability to stand out in a crowded market.",
          "By Johnny Hughes Edited by Micah Zimmerman\nKey Takeaways\n- Entrepreneurs face a growing challenge with AI-generated \"slop\" content that dilutes online quality and disrupts engagement.",
          "Think AI-generated characters with names like Tralalero Tralala (a shark in sneakers) or Špijuniro Golubiro (a spy pigeon), yelling nonsense in robotic Italian while bouncing across chaotic, low-fi visuals.",
          "The more unique the thing you show the audience, the more engagement.”",
          "Entrepreneur.",
          "- ^ \"Why Brands Are Embracing 'Italian Brainrot' to Go Viral on TikTok and Win Over Gen Z\".",
          "Using AI the right way\nBut using AI is not a mistake in itself, the problem is how brands choose to harness it.",
          "- Vague Product Descriptions: In e-commerce, product descriptions that are unclear or incorrect—sometimes even including disclaimers about AI use—can seriously hurt conversions.",
          "The key is to apply the right models to the right use cases.",
          "• Does the trend reinforce or contradict our positioning?",
          "They’re not just jumping on trends — they’re showing they’re in on the joke.”\nAccording to research by GWI, 76% of Gen Z uses TikTok to watch funny videos, and Lifewire reports 57% prefer short videos for product research.",
          "A New Super-Group of Creative Talent: The Independents has acquired more than a dozen companies in the last two years.",
          "Farhad Divecha, the managing director of UK-based digital marketing agency AccuraCast, says he is now encountering cases where users are mistakenly flagging ads as AI-made slop when they are not.",
          "Most people aren’t interested in whether the latest cutting-edge systems have been deployed if the result is clumsy, generic and flat.",
          "- Highlight Creativity: Make sure your content showcases human creativity and originality.",
          "I attach my name and stake my credibility on the things that I publish.",
          "By prioritizing quality, leveraging custom AI models and staying true to your brand's voice, you can rise above the slop and continue to deliver value that resonates with your audience.",
          "[26] The Italian brainrot AI trend was widely adopted by advertisers to adjust well to younger audiences.",
          "Successful AI models run on high-quality, well-governed data, so getting this in order should be top of the agenda for 2025.",
          "- Use Interactive Elements: Incorporate visuals, videos and interactive media to create engaging and dynamic content that holds your audience's attention.",
          "- Repetitive Ideas: Redundant phrases and unoriginal concepts make content feel stale and unengaging.",
          "Using automation in the wrong places has the power to turn your most loyal fans into vocal critics.",
          "“Italian Brainrot is ridiculous — and that’s the point,” says De Nittis.",
          "These examples aren’t anomalies and they speak to a larger issue: a fundamental misunderstanding of how to use AI.",
          "Related: How to Spark Some Spontaneity in Your Hybrid Work Environment\nMoving forward with the entrepreneurial edge\nAs AI technology evolves, so do the challenges it presents.",
          "Authenticity is now a competitive advantage.",
          "\"AI slop: what Labour, Spotify and Coca-Cola can teach us in 2025\".",
          "AI is a double-edged sword\nIn the rush to embrace AI, brands risk leaving their critical-thinking skills behind.",
          "It's loud, messy, and wildly popular — exactly the kind of content that sticks with Gen Z.",
          "Your insights and expertise differentiate your brand from the competition.",
          "\"How Businesses Can Avoid AI Slop\".",
          "Brands that only copy trends risk becoming forgettable.",
          "Related: How to Escape Entrepreneurial Burnout When You Can't Just Quit\nStrategies to combat AI slop\nTo safeguard your brand and ensure your content stands out, consider these strategies:\n- Humanize Your Content: Infuse your content with personal stories, real-life examples and a touch of emotion.",
          "De Nittis’ article, published today on Human Centric Group’s website, breaks down how brands like Ryanair and Samsung are jumping on the trend and seeing six-figure engagement spikes — all while barely lifting a production finger.",
          "For entrepreneurs, this shift is crucial."
         ],
         "marker": {
          "opacity": 0.5,
          "size": 5
         },
         "mode": "markers+text",
         "name": "Viral Italian Brainrot and Brands",
         "text": [
          "",
          "",
          "",
          "",
          "",
          "",
          "",
          "",
          "",
          "",
          "",
          "",
          "",
          "",
          "",
          "",
          "",
          "",
          "",
          "",
          "",
          "",
          "",
          "",
          "",
          "",
          "",
          "",
          "",
          "",
          "",
          "",
          "",
          "",
          "",
          "",
          "",
          "",
          "",
          "",
          "",
          "",
          "",
          "",
          "",
          "",
          "",
          "",
          "",
          "",
          "",
          "",
          "",
          "",
          "",
          "",
          "",
          "",
          "",
          "",
          "",
          "",
          "",
          "",
          "",
          "",
          "",
          "",
          "",
          "",
          "",
          "",
          "",
          "",
          "",
          "",
          "",
          "",
          "",
          "",
          "",
          "",
          "",
          "",
          "",
          "",
          "",
          "",
          "",
          "",
          "",
          "",
          "",
          "",
          "",
          "",
          "",
          "",
          "",
          "",
          "",
          "",
          "",
          ""
         ],
         "textfont": {
          "size": 12
         },
         "type": "scattergl",
         "x": {
          "bdata": "G0rUwCjoL0AGoeLABY/QwA7h4MAAiejADnEFwJsfAsEcibDAhFfZwK8ttMALqdTAtXzFwFC50cCc2c3AzRbywKNJKb/hdeHAM7CvwDuTz8DPAtDAVZ3RwHLE2cAWatbAZyLAwF/x6cDer22/rfAGwdKwxUAnCt7ADejtwNOhi8D+hZrAa8f4wLnz48CyJrHA4XCxwFG//8Drlli/sBbewOd92cD0KAbBetkDwGKK2MBPaLjA94DYwKDuucBN76TA+swkwJxBssDCLuzAlhnTwG9atMBGjAbB7aSxwKS80sB68evA/DlhQUIr5MBFqQPBAcfQwBDb1MDwodHAcqHPwJ30AsEotgXBm8wov6KlrMCNo6DAtMXZwNKT2cC3SM7AxGTDwEzgr8DSVMq/eNutwLzpy8Cla7rAHAkFwfD/lcDrgp7Avkv/wPc/tMAu5NjAUkD5wJpI3sB6NRPAjIiwwM4b2MBQPrvAdx6wwKny0sBqctHAJjbMwCipz8CaqAfALhDOwIaF0sBqtdPAEzGtwLwIB8BQ/LrAwdrFwJlbz8A=",
          "dtype": "f4"
         },
         "y": {
          "bdata": "GtqQQOm9JEEKvI9Asqa8QEHPnEC/1opAtzTQQO0s2ECW0O1AySOCQNO3zEBA2dpA10Z/QILkuEBwr79A+M3LQK1c+EDSrsZAALOmQIm3nkA9rsdAs7fcQIV5gkD+UbdAVvK2QH02jUC9xPZArrnjQIaHCb/posBAKDDNQHXxu0DW74FAJXvHQEEmmUCn/uxA8njtQH8KzkC+lvRAMEnJQIKdgUCjsuNAaQaxQDo2uEAaKNBAgSe3QBxZukDp9qJAe/DlQHwA7kDhOZRAZMrRQECryEBhXMdA0R/tQOWigUCH/ZVAk8p8QUNpmUDas+RArG7FQCwBy0B7Mb1Atja8QAUL0EAzmORAAKL4QLq3zkB3rcdAWpe5QMNHt0BdGYZAjD2YQPI8ZEBqdCtB94DQQJ6ksUAeTrdAw5PkQL322UDc4q1AN/KKQBIL0EDiR4FAnTLnQGdYlECmZfc/c+rsQNhHgECM6+pAEsTOQJXgsUAhFrVAiay+QIKM0UCe/zJBnwfFQOfmuUBF6X9AAcutQC2Zz0BhlOpApGjMQLHazEA=",
          "dtype": "f4"
         }
        },
        {
         "hoverinfo": "text",
         "hovertext": [
          "Getachew claims viewers can “earn between $250 and $2,460.”)\nThe economics involved are simple.",
          "He agreed to show me his methods, for a price.",
          "(Minimum wage in Kenya ranges from about $120 to $270 a month.)",
          "The more posts, the greater the returns.",
          "He said he spends about six hours a day administering his Facebook pages, but he works at the mercy of the website’s opaque moderation and decision-making processes.",
          "An account that’s consistently posting can get invited into Facebook’s Creator Bonus Program and start making money from viral content.",
          "For a while now, it has been common for entrepreneurs to outsource the actual production of content: “I have two people in the Philippines who post for me,” one American Facebook-page operator told The New York Times Magazine in 2016.",
          "On Facebook, a 130,000-member group of Vietnamese sloppers called “Twitter Academy — Make Money on X” discusses methods of prompting ChatGPT to write X threads: “You are a Twitter influencer with a large following.",
          "Facebook now pays you $100 for 1,000 likes … you must be wondering where you can get these images from.",
          "Creators and platforms are making money\nYou may wonder why such repetitive, unimaginative content can go viral on TikTok.",
          "“Payout was huge.",
          "The approach resembles the workflow of content farms, which rely on fully AI-driven production - from script to video to narration - typically for the sole purpose of engagement farming.",
          "MAGA influencers may be shitposting AI photos for fun, but they’re also engagement farming, especially on X, where premium subscribers can opt in to the platform’s revenue-sharing program.",
          "Facebook doesn’t reveal how it calculates the value of the bonuses, and only creators in certain countries — the U.S., the U.K., and India among them — are eligible for the bonus program, which helps explain why, several times during our interview, Stephen insisted he was actually a British cybersecurity student named Jacob.",
          "The goal is to use automation to post as much as possible, sometimes hundreds of times a day.",
          "Billions of dollars are flowing among the many companies on either side of this dynamic, and the question for any would-be AI hustler is how to get in the middle, find an angle, and take a cut.",
          "Like all spam circles, there’s a whole other economy filled with folks who will sell you the tools and knowledge you need to get started.",
          "We hire some of the content creators, and one is from Pakistan, and others are from some other countries.",
          "Creators posting AI content may not be the kind of people we expect.",
          "Some posts will only generate a few cents while others may pull in hundreds of dollars.",
          "Do not explain what you are doing.”\nThere are also hundreds of thousands of videos across the internet giving detailed instructions similar to the ones Stephen gave me.",
          "As he revealed in a live-streaming tutorial with more than 1,000 viewers, Xiaonan earned more than US$5,500 from TikTok in July alone.",
          "Another possibility is that posting these images is a good tactic to build up a large page audience, which can be lucrative.",
          "The simplest, most straightforward option is to be a “slopper”: someone who generates content at scale using AI and manipulates or leverages a platform to make money from it.",
          "It is very personal, and it depends on the traffic.",
          "Another AI content creator, a French financial auditor named Charles who makes bizarre pictorial stories about cats for TikTok, told me he always makes his content “a bit WTF” as “a way to make the content more viral, or at least to maximize the chances of it becoming viral.” Or as Stevo put it, “You add some exaggeration to make it engagementing.”\nStevo, who insisted he doesn’t “use bots” to juice his follower numbers or “pay for engagement,” shared a screenshot that showed a $500 “bonus earnings” payout for activity from mid-May to mid-June this year.",
          "These creators often manage several or even dozens of accounts, targeting viewers in different countries in a strategy known as an “account matrix”.",
          "He now works with two partners selling classes and tutorials on making AI-generated videos and other types of spam for profit.",
          "AI-generated content has become the latest trend for earning side income.",
          "As one Chinese social media influencer told us:\nChina’s short video market is nearing saturation, which means you need to seek data traffic [viewers] on overseas platforms.",
          "The robotic voice, familiar to anyone who frequents YouTube Shorts, Instagram Reels, or TikTok, is generally associated with low-effort, mass-produced AI content.",
          "\"'Side job, self-employed, high-paid': behind the AI slop flooding TikTok and Facebook\".",
          "Inside the AI ‘gold rush’\nThere is also a growing industry of people teaching others how to make money using cheap AI content.",
          "Some accounts post dozens of videos like this every day.",
          "Making AI-generated content is more pleasant work than driving passengers or delivering food, according to a creator who is also a stay-at-home mother.",
          "solve?”\nA decade ago, venture capital provided Americans the “millennial lifestyle subsidy”: investors keeping the price of Uber and DoorDash and dozens of other services artificially low for years.",
          "The global AI-generated content factory\nOur observations indicate many of these creators are from non-Western countries, such as India, Vietnam and China.",
          "“People waving a bunch of money on YouTube or TikTok videos and saying, ‘Oh, you can make money with ChatGPT by doing this.’” Clarke could even trace spikes in submissions to specific videos: It’s not some burgeoning artificial super-intelligence or even a particularly sophisticated crew of scammers that has waylaid Clarkesworld; rather, it’s the audiences of influencers like Hanna Getachew, an accountant and technology-procurement manager who runs an Amharic-language YouTube account dedicated to “teaching side hustles and online jobs” — and who recently posted a video called “Get Paid With Clarkes World Magazine.” (Clarkesworld pays 12 cents per word for submissions of 1,000 to 22,000 words.",
          "So even with fewer views, the income you generate will be higher.",
          "If just a handful of users land on the site, reshare the meme or click through the adverts hosted, the cost of its creation pays off.",
          "In fact, our research suggests this kind of low-quality AI-generated content is becoming a lucrative venture for the people who make it, the platforms that host it, and even a growing industry of middlemen teaching others how to get in on the AI gold rush.",
          "Right-wing influencers have been vocal about these bonuses, which are handed out based on how many times a creator’s content is seen in a given month.",
          "Since the generative AI boom began, a class of SEO entrepreneurs has started pumping out AI-generated content on websites and across social platforms, in efforts to make money off online advertising and affiliate marketing.",
          "The spammer had earned $431 from the image’s engagement.",
          "Beneath the strange and alienating flood of machine-generated content slop, behind the nonhuman fable of dead-internet theory, is something resolutely, distinctly human: a thriving, global gray-market economy of spammers and entrepreneurs, searching out and selling get-rich-quick schemes and arbitrage opportunities, supercharged by generative AI.",
          "Stevo, as he introduced himself to me over WhatsApp, is the moderator of five YouTube channels and “about 170 Facebook pages” that deal heavily in AI-generated images, the largest of which has 4 million followers.",
          "They post dozens of images every day, sometimes every hour, and make a living from the engagement.",
          "But before that, AI-generated content will continue to grow wildly – at least for a while.",
          "Maybe, and most straightforwardly of all, many simply vie for direct payments from platforms for AI-generated text, images, and videos: Facebook, TikTok, and Twitter all offer bonus payments for “engaging” content.",
          "The answer, at least in part, is a guy in Kenya named Stephen Mwangi.",
          "“The most amazing thing is that all the traffic is from abroad, mainly the US,” he says.",
          "This is only the beginning\nWe are only at the dawn of mainstream AI-generated content culture.",
          "Because there’s money in it, of course.",
          "“People don’t even make this much money in a month,” the interview said.",
          "An effective strategy mentioned by one creator is a kind of platform arbitrage involving popular videos from Douyin, the counterpart of TikTok in mainland China.",
          "In one podcast, a spammer showed off his earnings tab.",
          "The goal is to get up as many posts in a day across as many accounts as possible.",
          "People in places like Pakistan, India, Vietnam, Thailand, and Indonesia use tools like Microsoft’s AI Image Creator to churn out content.",
          "But when you’ve got an automated post-creating machine, who needs two people in the Philippines?",
          "For these entrepreneurs, AI is the secret sauce not only for creating viral content but also for circulating already-viral videos across different countries and platforms.",
          "This incentivizes individuals from developing countries to create images that appeal to audiences in the United States which attract higher advertising rates.",
          "There are YouTube channels dedicated to getting people’s AI slop machine up and running, dozens of guides on Fiverr and Gumroad, and Telegram channels full of simple English prompts that will help the AI image generator create a viral picture.",
          "[31] One analyst characterized the website, which appeared to use AI-generated staff pictures, as likely using artificial intelligence \"to create content quickly and cheaply where opportunities are found\".",
          "“Some of us also do Uber driving or street vending,” one creator told us.",
          "When generative AI meets profiteers and platforms\nThe short explanation for the prevalence of these baffling videos and images is that savvy creators on social media platforms have worked out how to use generative AI tools to earn a quick buck.",
          "“And as you know, with traffic from the USA your CPM [cost per 1,000 views, an ad-revenue metric] will be very high.",
          "When I spoke with him, “God Lovers” had been placed under some kind of restrictions and wasn’t earning him money.",
          "These pages make money through Facebook’s Performance bonus program, which, per the social network’s description, “gives creators the opportunity to earn money” based on “the amount of reach, reactions, shares and comments” on their posts.",
          "Photography, illustration, and graphic design previously required skill or, at the very least, time to create something interesting enough to attract attention, which, online, can be converted into real money.",
          "Platforms have created incentive programs for content that goes viral, and a whole ecosystem of content creators has arisen using generative AI to exploit these programs.",
          "They must have earned $100 from just this one photo.",
          "You can easily write a whole website with AI."
         ],
         "marker": {
          "opacity": 0.5,
          "size": 5
         },
         "mode": "markers+text",
         "name": "AI-Driven Content Monetization",
         "text": [
          "",
          "",
          "",
          "",
          "",
          "",
          "",
          "",
          "",
          "",
          "",
          "",
          "",
          "",
          "",
          "",
          "",
          "",
          "",
          "",
          "",
          "",
          "",
          "",
          "",
          "",
          "",
          "",
          "",
          "",
          "",
          "",
          "",
          "",
          "",
          "",
          "",
          "",
          "",
          "",
          "",
          "",
          "",
          "",
          "",
          "",
          "",
          "",
          "",
          "",
          "",
          "",
          "",
          "",
          "",
          "",
          "",
          "",
          "",
          "",
          "",
          "",
          "",
          "",
          "",
          "",
          "",
          "",
          "",
          "",
          "",
          ""
         ],
         "textfont": {
          "size": 12
         },
         "type": "scattergl",
         "x": {
          "bdata": "mpcpv5gG/EA3UZS+b8jewKIZYUFQOKbAnp5ZQdDLQ77WH7rAKHrEwAvswMAvs9bA+lG2wEjAXkE0fdXAxT3TwIxVrcByeM/ASUzUwOZez8B59V5Bf97OwFP8L0AjJCPABO7pwK99IcAQi5nAiznZwPAsucAs/8W/SarVwGS3D8Dp6jvAoY+wwIapssB/Su/A9o7JwFwTm76Q/YvAwxnhvlZCw8C8yrDA0lPUwPWeyMBmkSpAP2BTvhUmA8HlW5vAsRAHwAW8AcCvWKvAUf+bwJLB08AQU4XAVN23wCv8zMCRXgTBph7iwNByLr+4aaDAyRivwAKnpcC88hXAlYn8wN3Ls8DwxqnAAHYxQHa1IcBWJpLAoojDwNyKxcBCG+fA",
          "dtype": "f4"
         },
         "y": {
          "bdata": "SX/4QKBiiUD5jgNBTijsQKKnfEHwCo1AZ9d0QafqBUGGVLtAUr9tQC6GnkAC9rxANFKkQH87ekHHQmtAUlBgQAiGkEDUA6JApXihQOhHeECcc3pBl6jDQFy+JEHC3eVAZ8+UQJpGPUECf4NAQOOAQF2LuEB+oMxAXlq4QEeMIEHW0XJAiaxiQJHcmUBf3ZBA9/eUQCZYBEG934BAOfD6QIH5aUDtkGhAQufPQKCzlUAcaiNBkNsFQYWr2UDiuYJAPWMjQfkEJkFrFLZAME+CQLyNmUBUlnpA/hKmQC4bl0DLLeVAhu7RQNzZJkGQUXxAqWm9QBWPiEALnfg/+geTQNoaZUDvYrVAnSslQbaKPUHqDKZAgr5qQDe5p0DqtshA",
          "dtype": "f4"
         }
        },
        {
         "hoverinfo": "text",
         "hovertext": [
          "The vague similarities among the pages suggest the AI slop is being posted by a network of shady actors based in countries outside the US.",
          "On Facebook, enigmatic pages post disturbing images of maimed children and alien Jesuses; on Twitter, bots cluster by the thousands, chipperly and supportively tweeting incoherent banalities at one another; on Spotify, networks of eerily similar and wholly imaginary country and electronic artists glut playlists with bizarre and lifeless songs; on Kindle, shoddy books with stilted, error-ridden titles (The Spellbound Quest: Students Perilous Journey to Correct Their Mistake) are advertised on idle lock screens with blandly uncanny illustrations.",
          "- So why isn't Facebook cracking down?",
          "You can spot them right away, as they bear the technology’s distinct image style: not-quite-but-almost photorealistic, frequently outrageous, not so dissimilar from a tabloid illustration.",
          "Other weird AI trends soon emerged, including African women building fruit sculptures and young children showing off elaborate birthday cakes with the caption: “This is my first cake”.",
          "But so far, the most viral AI images have been obviously fake and downright strange.",
          "You may also wonder why some platforms don’t ban AI accounts for polluting the platform’s content stream.",
          "This is the exact same type of AI-generated slop that has gone viral time and time again over the last year on Facebook and other platforms and that I have written about numerous times.",
          "A representative for Meta didn't reply to questions about why they don't simply ban AI slop.",
          "Matt Navara, a social media consultant, says the novelty of these posts has quickly worn thin for many of Facebook’s billions of users.",
          "If the AI slop isn't suggesting you get together in real life and overthrow the government, hey, Facebook has seen way worse.",
          "- Facebook does ban this stuff, but only at an account level when the account posting it engages in obvious spam tactics.",
          "- Facebook did make a warning label to note that an image may have been made with AI.",
          "Some creators 404 Media uncovered were running multiple Facebook accounts and used automated tools to fill the feeds with spammy engagement-bait images.",
          "\"Why doesn't Facebook just ban AI slop like Shrimp Jesus?\".",
          "TikTok, Facebook and other social media platforms are being flooded with uncanny and bizarre content generated with artificial intelligence (AI), from fake videos of the US government capturing vampires to images of shrimp Jesus.",
          "art generators in 2022.",
          "— are laughing at Meta's poor content moderation.",
          "For the majority of these pages, there is no obvious scam at play, no ads or external links — no business model at all, just eerily contextless pages publishing demented nonsense into a void.",
          "“We know bad actors adapt their tactics to evade our rules, so we are always working to improve our detection and enforcement.”\nAccording to the people making the slop, the money is life-changing.",
          "On the subway, ads for the secondhand-furniture website Kaiyo feature images with oddly levitating pedestrians and signs written in the dream glyphs typical of image generators’ attempts at text.",
          "They're surreal and sometimes grotesque.",
          "Facebook has gone through so many different flavors of spammy/scammy engagement bait, from Minions memes to videos from magicians to actually dangerous fake news and extremist groups.",
          "TikTok’s community guidelines do ban “inaccurate, misleading, or false content that may cause significant harm”, but AI-generated content – at least for now – does not qualify as causing “significant harm”.",
          "- AI Art Mishaps: Distorted images and unnatural features in AI-generated visuals are telltale signs of low-quality output.",
          "(I had also recently asked a vice president of product at Meta about why they don't just ban this slop, and he sort of changed the subject; it seemed like maybe he wasn't sure what I was talking about.)",
          "Image-generated slop has also blossomed on Facebook, as images of Jesus Christ with prawns for limbs, children in plastic bottle-cars, fake dream homes and improbably old women claiming to have baked their 122nd birthday cake garner thousands of shares.",
          "Not too long ago, I speculated about why Meta hadn't cracked down, but considering nothing has seemed to change, I find myself wondering yet again …\nWhy doesn't Facebook just ban this slop?",
          "\"Facebook's Twisted Incentives Created Its AI Slop Era\".",
          "Meta's previous commitments to working with researchers and academics have fizzled away, and the scrutiny over content moderation (helped by Elon Musk lowering the bar to the basement) has shifted.",
          "Basically, they don't give a shit anymore.",
          "Meta explicitly allows AI-generated images and the only metrics it cares about are the ones that improve its bottom line.",
          "These tend to be posted on Facebook pages with generic-sounding names and captions that don't necessarily reflect the photo, like \"why don't photos like this ever trend,\" or \"beautiful cabin crew,\" or \"Scarlett Johansson\" for an image of Jesus built into the hood of a car.",
          "“WRITE ME 10 PROMPT picture OF JESUS WHICH WILLING BRING HIGH ENGAGEMENT ON FACEBOOK,” read the ChatGPT prompt in one screenshot he shared with me.",
          "“I’m seeing little evidence yet that users are actively demanding such content in their feeds.”\nIn March, Facebook users began to notice a flood of images featuring Jesus Christ mixed with a crustacean rising from the sea.",
          "Elon Musk riding a UFO, “Shrimp Jesus” and tiny children baking impossibly perfect birthday cakes.",
          "- Facebook worries that banning this kind of AI content will set a bad precedent because it wants to encourage people to make stuff with its own Llama 3 tools.",
          "- Facebook doesn't like the AI slop but has bigger things to worry about.",
          "A new investigation from 404 Media dug into the origins of Facebook’s AI slop era and uncovered an ecosystem of YouTube videos, Telegram channels, and reel-filled Google drives.",
          "On the list was a picture of a train made of leaves.",
          "Common themes involve old people holding a birthday cake asking you to wish them a happy birthday; babies doing things babies shouldn't do; snakes eating buses, bikes, or other vehicles overloaded with hundreds of babies or some other cargo; soldiers with prosthetic legs; women with missing limbs and huge busts; and Jesus.",
          "A woman bicycling with a basket full of babies and burritos.",
          "What began as riffs on already viral images have evolved into bizarre, sui generis dreamscapes through which inexplicable and unrelated themes and topics emerge: multiheaded, enormously breasted “farmer girls”; stewardesses wading in muddy rivers; amputee beggars carrying signs reading TODAY IS MY BIRTHDAY.",
          "These are just three examples of bizarre AI-generated imagery that has taken over the internet in the past year.",
          "I’ll show you how to create images with the help of AI.”\nHe taps over to a Facebook page called “Dream Home,” which has 113,000 followers and consists of AI generated homes that look like roosters, giraffes, horses, and hummingbirds, poor Black children, and wood carvings.",
          "Meta is penny-pinching and focusing on the newest shiny thing (AI tools, Instagram, the metaverse) and cares less and less about Facebook, this theory goes.",
          "- Europe probes Microsoft's €15M stake in AI upstart Mistral\n- Google wants regulators to take Microsoft down a notch before it stifles AI\n- OpenAI claims New York Times paid someone to 'hack' ChatGPT\n- US military pulls the trigger, uses AI to target air strikes\nThe House of Illuminati went cap in hand on Facebook, saying: \"Today has been a very stressful and frustrating day for many and for that we are truly sorry.",
          "“We encourage creators to use AI tools to produce high-quality content that meets all our Community Standards, and we take action against those who attempt to drive traffic using inauthentic engagement whether they use AI or not,” a Meta spokesperson told 404 Media.",
          "Why is Facebook full of this stuff?",
          "Redditor Shaun_LaDee highlighted three images included in paid bundles that have irregularities that could suggest the use of generative AI.",
          "The fake advert - which has been dubbed \"AI slop\" for its use of poorly-generated imagery - is one of several tests currently being run across the publisher's social media profiles.",
          "He pauses on another image of a man being eaten by bugs.",
          "And those posts in your Facebook feed that seemingly came from nowhere?",
          "It exists to automate the creation and distribution of AI-generated images on Facebook.",
          "The AI images produced on Stevo’s pages — rococo pictures of Jesus; muscular police officers standing on the beach holding large Bibles; grotesquely armored gargantuan helicopters — are neither scams nor enticements nor even, as far as Facebook is concerned, junk.",
          "Since the beginning of this year, obviously AI-generated images from anonymously administered pages have become inescapable.",
          "He’s flicking through a Facebook feed of viral, AI-generated images.",
          "The rise of slop, he says, has turned the social network into a space where “a mix of bots, humans and accounts that were once humans but aren’t any more mix together to form a disastrous website where there is little social connection at all.”\nNick Clegg, the president of global affairs at Facebook’s parent company, Meta, wrote in February that the social network is training its systems to identify AI-made content.",
          "As with the Facebook AI-slop farms, social media shock jocks churning out obviously fake, low-quality images don’t care whether they’re riling up real people, boring them, or creating fodder for bots and other spammers.",
          "- \"AI slop\" images are all over Facebook.",
          "Across Facebook, X, Instagram and TikTok, surreal AI images have been plaguing news feeds, typically accompanied by nonsensical captions in broken English.",
          "Facebook’s most recent report from its Transparency Center reveals that two of the top five most widely viewed images on the network in the three months to September were AI-generated – viewed 38.6m and 35.8m times respectively.",
          "\"Where Facebook's AI Slop Comes From\".",
          "If you’ve spent any time on Facebook recently you’ve seen the river of AI slop.",
          "- Facebook has stopped trying.",
          "[1][4]\nOn social media\n[edit]AI image and video slop proliferated on social media in part because it was revenue-generating for its creators on Facebook and TikTok, with the issue affecting Facebook most notably.",
          "It is most prevalent on platforms such as Facebook, where click farmers and spammers create elaborate networks to flood pages and groups with cheap, fake images of starving children and Shrimp Jesus in the hopes of going viral, getting likes, and picking up “creator bonuses” for online engagement.",
          "So you too should create a page like this, upload photos and make money through Performance bonus.”\nHe scrolls through the page, titled “Anita Kumari,” which has 112,000 followers and almost exclusively posts images of emaciated, AI-generated people, natural disasters, and starving children.",
          "FewFeed has recently created a feature that allows you to directly create these fake photo album-type images.”\nProfiting from AI slop is a technical process and Meta’s content moderation teams can’t keep up with the flood."
         ],
         "marker": {
          "opacity": 0.5,
          "size": 5
         },
         "mode": "markers+text",
         "name": "AI-Generated Bizarre Social Media Content",
         "text": [
          "",
          "",
          "",
          "",
          "",
          "",
          "",
          "",
          "",
          "",
          "",
          "",
          "",
          "",
          "",
          "",
          "",
          "",
          "",
          "",
          "",
          "",
          "",
          "",
          "",
          "",
          "",
          "",
          "",
          "",
          "",
          "",
          "",
          "",
          "",
          "",
          "",
          "",
          "",
          "",
          "",
          "",
          "",
          "",
          "",
          "",
          "",
          "",
          "",
          "",
          "",
          "",
          "",
          "",
          "",
          "",
          "",
          "",
          "",
          "",
          "",
          "",
          "",
          "",
          "",
          "",
          "",
          "",
          ""
         ],
         "textfont": {
          "size": 12
         },
         "type": "scattergl",
         "x": {
          "bdata": "PG3VwA7jMEAreujA9J3CwEf7dL43DPZA7qXDwAEapcD4zSpALjAQwP+gOEHxEwfB5UcWv54xp8BWfIY/hpi4wEeCs8Bg3/jAnTLPv10qy8C5kTjACmQov02aHb/GpLfAWwbewMKe5sBXyi9AlbcpQN8GAsCLCSlAkBojwHTBpcB07sPApFP2QPMeWUGKzC9AnDf8wP+ZGb+RQ9HArhrIwO+vxUBRfThBJrgjQI1vD8B9FLbAAmjawLL5A8F0mcjAnsfZv8oQycBtAbPA9Z7xwC46xcAqGefAHT72QDq0XEFOKjrA7uPMvt7q3sBVut3ATffNv9sVLEBd/ATAK9ibwIJT9kC9OdDAiL/lwJLtx8APV4bA",
          "dtype": "f4"
         },
         "y": {
          "bdata": "Gd+yQLb6JEEUHJJAzPN7QBzgBEEjDoRAdJRqQBOQo0CdjCNBT0sCQFOGjkDQ1OJArVP5QOMTjkBuUIJAbwFnQHU/t0De7MVAyUUDQUu5lkBuTnRAkfj4QNID+UCfGJxAexWFQC2qoUCLtiRB+jojQR9mKkEqLCNBNOflQOwjdUCZKbNAqoCEQApRdEGCvyRByBTPQPe4+UBsKZdA5N2VQLyACb+uMY5AfhYiQZKdDkAyQqVALJKbQCYO40BDUJZAiba4QHe2vUC56OxABh+bQPOOkkBh4JZAf0uEQFkneEHz85RADSr9QKKi8kBmlqdAkWADQaDHI0H+fSdBcHOCQIZ+hEA/obtA7YGYQFuBtECXonpA",
          "dtype": "f4"
         }
        },
        {
         "hoverinfo": "text",
         "hovertext": [
          "And there are reasons to suspect that “hallucination” may be an unsolvable problem for generative A.I.",
          "\"Artificial intelligence (AI) and its potential implications had for some time largely been subjects of academic debate,\" he wrote.",
          "“If I want to go very realistic, maybe it’s difficult, but if I want to go hyper-realistic and fantastical, A.I.",
          "One of the things I love about this is that it’s helpful for defining my own position on AI ethics.",
          "As it happens, A.I.",
          "But the idea that AI has quietly crowded out humans is not exactly right.",
          "Which all suggests that the answer to the many problems of generative A.I.",
          "Peer away from those chatbots and you can see a very different story, with different robot protagonists: machine-learning tools trained much more narrowly and focused less on producing a conversational, natural-language interface than on processing data dumps much more efficiently than human minds ever could.",
          "Paul Maker is chief technology officer at Aiimi.",
          "“The crucial question is: What $1 trillion problem will A.I.",
          "Fifteen years ago, Wired magazine heralded the “good-enough revolution” in low-cost technology: “Cheap, fast, simple tools are suddenly everywhere … We now favor flexibility over high fidelity, convenience over features, quick and dirty over slow and polished.” Generative AI as a technology exists in this lineage.",
          "\"Artificial intelligence (AI) and its potential implications had for some time largely been subjects of academic debate,\" he said of AI development in 2023.",
          "Much of the conversation around generative AI tools focuses on how they enable ordinary people to “create”.",
          "A few years later, A.I.",
          "Generative AI is one of the hottest topics within the video game and entertainment industries, which have both suffered massive layoffs in recent years.",
          "infrastructure build-out over the next several years would reach $1 trillion.",
          "“Most of the time, when we see the deployment of new technologies, you see the creation of a bunch of new jobs that never existed before,” DeStefano said, addressing the focus on how AI is affecting the job market.",
          "I want to ask about the AI of it all—\nI’ll explain it to you.",
          "(He called this “A.I.’s $600 billion question” and warned of “investment incineration.”) In a similarly bearish Goldman Sachs report, the firm’s head of global equity research estimated that the cost of A.I.",
          "“And that was kind of a starting point.”\n“A.I.",
          "(At some crucial points, A.I.",
          "AI was involved 10 percent or 20 percent.",
          "Outsourcing designwork to generative-AI apps may be an effective cost-cutting and productivity measure for some businesses, but in practice it just off-loads work elsewhere.",
          "A year ago, as normies were only just toying around with chatbots, there were already dozens of drugs developed in part by A.I.",
          "tools, and how they might be turned toward harmful or exploitative ends, remain somewhat systematically unaddressed.",
          "material seemingly came about in reaction to the release of A.I.",
          "were running short of projected profits by a margin of at least several hundred billion dollars annually.",
          "Generative AI is one of the hottest topics within the video game and entertainment industries, which have both suffered massive layoffs in recent years.",
          "Generative AI thus far has drawn criticism from players and creators due to a mix of ethical issues, rights issues, and AI’s struggles to produce content audiences actually enjoy.",
          "investments might be three times as large as expected returns, while another analyst, in several assessments published by Sequoia Capital, calculated that investments in A.I.",
          "But generative AI takes this a step further, as it can generate tailored images or videos from a simple text prompt.",
          "The rise of AI has coincided with global unemployment trends and the growth of the gig economy in the post-pandemic era.",
          "\"However, the introduction of ChatGPT, which allows anyone to easily produce writing or translations or to engage in text-based dialogue, sparked the rapid spread of generative AIs.",
          "The change was a reaction to Microsoft having incorporated A.I.",
          "What is A.I.",
          "\"I believe that generative AI has the potential not only to reshape what we create, but also to fundamentally change the processes by which we create, including programming.\"",
          "Legendary filmmaker Tim Burton called AI generated art \"very disturbing\" in September 2023 while Wizards of the Coast was forced to issue a correction in January 2024 after claiming it didn't use AI for some Magic: The Gathering artwork when it actually did.",
          "The same political concerns about the ownership and control of A.I.",
          "When in 2021 DeepMind revealed that it had effectively solved the protein-folding problem, making the three-dimensional structure of biological building blocks for the first time easily predictable for researchers, the breakthrough made global news, even if the headlines flew over the heads of most readers, who might not have known how significant a roadblock that has been in biomedical research.",
          "We were 80 percent involved.",
          "Today the same millennial might read about that trillion-dollar A.I.",
          "“We didn’t start by saying: ‘OK, we need to do this with AI,’” he said.",
          "On the other, the supply: the astonishingly adequate, inexhaustible output of generative-AI apps like ChatGPT, Midjourney, or Microsoft’s Image Creator, heavily subsidized by investors and provided to consumers at low or no cost.",
          "\"I believe that generative AI has the potential not only to reshape what we create, but also to fundamentally change the processes by which we create, including programming.\"",
          "#HolidayFactz.”\nMany artists and creative professionals have pushed back against the use of AI in creative works, arguing that the technology may be used to replace human workers and that many AI models were trained on artists’ work without proper compensation or credit.",
          "AI remains a hot-button topic in creative industries, emerging as a major point of contention in last year's Hollywood writers' and actors' strikes and in the current video game actor strike.",
          "Kristian Hammond, the director of Northwestern University’s Center for Advancing Safety of Machine Intelligence, noted a problem in the current model: the information from A.I.",
          "Regardless, AI has proved a controversial topic within video games and other creative industries.",
          "It wasn’t that long ago, in the spring of last year, that the new chatbots were trailed by various “godfathers” of the technology, warning of existential risk; by researchers suggesting a 10 percent chance of human extinction at the hands of robots; by executives speculating about future investment rounds tabulated in the trillions.",
          "Elsewhere, Microsoft now offers generative AI tools to its studios, but the industry as a whole appears sceptical of the technology.",
          "For more on the issue, check out IGN's full AI Week coverage from last year, including a report about how it's become the new battleground in the animation industry.",
          "is designing new proteins, rapidly accelerating drug discovery and speeding up clinical trials testing new medicines and therapies.",
          "“Replacing low-wage jobs with tremendously costly technology is basically the polar opposite of the prior technology transitions I’ve witnessed,” he noted.",
          "\"AI in the Creative Industries: Strikes, Debates and Implications\".",
          "For that matter, given the sophistication of the AI, why would the Filipinos need an American?",
          "AI technology has been seeping into game development to mixed reception.",
          "Kiryu began by talking about how AI and its \"potential implications\" have long been the subject of \"academic debate.\"",
          "In response, Furukawa said generative AI can be used “in creative ways,” but said its use “also raise issues with intellectual property rights.”\nGenerative AI thus far has drawn criticism from players and creators due to a mix of ethical issues, rights issues, and AI’s struggles to produce content audiences actually enjoy.",
          "- ^ a b \"How Long Will A.I.",
          "This isn’t to say that AI should automatically be removed from the creative sphere.",
          "The company even has its own global head of generative AI.",
          "For example, generative AI cannot replace genuine human creativity – it is merely a mulch of previous human ideas.",
          "This year, AI took a turn in the spotlight.",
          "There’s also additional concern that widespread adoption of AI could exacerbate the ongoing video game labor crisis, as it could put humans out of work.",
          "However, he says, the rise of ChatGPT and similar generative AI programs have the \"potential not only to reshape what we create, but also to fundamentally change the processes by which we create, including programming.\"",
          "Okay, AI was involved.",
          "Personal AI ethics remains a complicated set of decisions.",
          "In a note from Barclays, one analyst warned that today’s A.I.",
          "expenditure, more than the United States spends annually on its military, and think: What exactly is that money going toward?"
         ],
         "marker": {
          "opacity": 0.5,
          "size": 5
         },
         "mode": "markers+text",
         "name": "Challenges and Potential of Generative AI",
         "text": [
          "",
          "",
          "",
          "",
          "",
          "",
          "",
          "",
          "",
          "",
          "",
          "",
          "",
          "",
          "",
          "",
          "",
          "",
          "",
          "",
          "",
          "",
          "",
          "",
          "",
          "",
          "",
          "",
          "",
          "",
          "",
          "",
          "",
          "",
          "",
          "",
          "",
          "",
          "",
          "",
          "",
          "",
          "",
          "",
          "",
          "",
          "",
          "",
          "",
          "",
          "",
          "",
          "",
          "",
          "",
          "",
          "",
          "",
          "",
          "",
          "",
          "",
          "",
          "",
          "",
          "",
          "",
          "",
          ""
         ],
         "textfont": {
          "size": 12
         },
         "type": "scattergl",
         "x": {
          "bdata": "nhDqwGRGAsGTYpDAp6i6wEU8vMA9JAy/N5DXwF6QqcAnBrHA0EXjwNBB/EBjLQfBWx+/wJ/X0sAdNcXAOqHjwK6zqsDrcc/AnZ+ywNz9tsCo5dPApsTQwAtMrr48/ezA1BzpwAg9rMDcarXAsnfYwPS/AcEcJ+jAqk8DwQWjssDlnwbBMx3SwLW86cCOb/7AL3QGwY9k5cAqHNHApfn2wBqA6sBup5fASrEsQM1+pcBk4aHA0nCtwCCcy8A/0ATBV3vnwO6qAsGmYKnAqdbXwHGb9MBIV0DAuKT2QFRZB8Fr1A3BP8IGwdFRlcCzqbnAnPGhwG2ErsC83Q3BwQEIwc07DcGVYOPA7rq9wD3WrMBZFunA",
          "dtype": "f4"
         },
         "y": {
          "bdata": "ZjzVQN+gy0DwAqtAb4nGQJSWzEDoQfNABV+6QBJOkEBTxe1AdciRQBWWiUBD9OZAUmW0QLYs00CDIcJAVU+YQIRbyEDHBtZALg/MQGXEqUDgGtdANITbQFGIAkH4gptA+e6eQPPDqUBqxKVAjyecQDOJwkD7O5dAl2ffQCaNmUCyEeVAscNlQIMNnECVbsxAUNfHQNcylkAeLtFAzv3SQCcfs0BlJWdAKvsjQZF1oUBQU8hA+/y3QMMZskCLv8hAxc6VQHjb2UAwvcVAQ5ucQPvUhkAzJXBAwJGEQCH64kDlAfFAK+XHQIR/2UClcLFAO3XJQPc+zUAT8vBARV/mQK9o70CIHa1ABzXKQOtvqECUAppA",
          "dtype": "f4"
         }
        },
        {
         "hoverinfo": "text",
         "hovertext": [
          "In one sense, these attacks—and their increased desperation—make sense.",
          "“I’m leaving it because it is emblematic of the trauma and pain people are living through right now.”\nKremer wasn’t alone.",
          "Even in a decade marred by online grifters, shameless politicians, and an alternative right-wing-media complex pushing anti-science fringe theories, the events of the past few weeks stand out for their depravity and nihilism.",
          "Nor does it explain what is really happening, which is nothing less than a cultural assault on any person or institution that operates in reality.",
          "A Warship Capsizes: North Korea’s leader, Kim Jong-un, watched the country’s newest 5,000-ton destroyer capsize during its launch in an embarrassing military failure.",
          "ET on October 11, 2024\nThe truth is, it’s getting harder to describe the extent to which a meaningful percentage of Americans have dissociated from reality.",
          "“If it creates so much fear that my staff doesn’t want to go out in the field, then we’re not going to be in a position where we can help people,” she said in a news conference on Tuesday.",
          "But the misinformation crisis is not always what we think it is.",
          "Americans are divided not just by political beliefs but by whether they believe in a shared reality—or desire one at all.",
          "But this is more than just a misinformation crisis.",
          "Instead, the vast majority of misinformation is offered as a service for people to maintain their beliefs in face of overwhelming evidence to the contrary.” This distinction is important, in part because it assigns agency to those who consume and share obviously fake information.",
          "Other influencers, such as the Trump sycophant Laura Loomer, have urged their followers to disrupt the disaster agency’s efforts to help hurricane victims.",
          "FEMA Administrator Deanne Criswell said that the volume of misinformation could hamper relief efforts.",
          "!” The clip, which was eventually removed but had been viewed 662,000 times as of yesterday evening, turned out to be from a video of a CGI tornado that was originally published months ago.",
          "To watch as real information is overwhelmed by crank theories and public servants battle death threats is to confront two alarming facts: first, that a durable ecosystem exists to ensconce citizens in an alternate reality, and second, that the people consuming and amplifying those lies are not helpless dupes but willing participants.",
          "This makes them dangerous to people who cannot abide by the agonizing constraints of reality, as well as those who have financial and political interests in keeping up the charade.",
          "If you are a weatherperson, you’re a target.",
          "As one dispirited meteorologist wrote on X this week, “Murdering meteorologists won’t stop hurricanes.” She followed with: “I can’t believe I just had to type that.”\nWhat is clear is that a new framework is needed to describe this fracturing.",
          "The same goes for journalists, election workers, scientists, doctors, and first responders.",
          "But what feels novel in the aftermath of this month’s hurricanes is how the people doing the lying aren’t even trying to hide the provenance of their bullshit.",
          "I ain’t got time to chase down every Facebook rumor … We’ve been through enough.”\nIt is difficult to capture the nihilism of the current moment.",
          "It is a strategy designed to silence voices of reason, because those voices threaten to expose the cracks in their current worldview.",
          "So much of the conversation around misinformation suggests that its primary job is to persuade.",
          "What is clear from comments such as Kremer’s is that she is not a dupe; although she may come off as deeply incurious and shameless, she is publicly admitting to being an active participant in the far right’s world-building project, where feel is always greater than real.",
          "In Pensacola, North Carolina, Assistant Fire Chief Bradley Boone vented his frustrations on Facebook: “I’m trying to rescue my community,” he said in a livestream.",
          "Trump also posted (and later deleted) on Truth Social that FEMA money was given to undocumented migrants, which is untrue.",
          "Angry, embittered citizens have been harassing government officials in North Carolina, as well as FEMA employees.",
          "(In reality, FEMA offers $750 as immediate “Serious Needs Assistance” to help people get basic supplies such as food and water.)",
          "I’m Running Out of Ways to Explain How Bad This Is\nWhat’s happening in America today is something darker than a misinformation crisis.",
          "- Misinformation: Fact-checking is more important than ever.",
          "But as Michael Caulfield, an information researcher at the University of Washington, has argued, “The primary use of ‘misinformation’ is not to change the beliefs of other people at all.",
          "What we’re witnessing online during and in the aftermath of these hurricanes is a group of people desperate to protect the dark, fictitious world they’ve built.",
          "Siding with History’s Villains: Darryl Cooper is no scholar.",
          "The pandemic saw Americans, distrustful of authority, trying to discredit effective vaccines, spreading conspiracy theories, and attacking public-health officials.",
          "Scrolling through these platforms, watching them fill with false information, harebrained theories, and doctored images—all while panicked residents boarded up their houses, struggled to evacuate, and prayed that their worldly possessions wouldn’t be obliterated overnight—offered a portrait of American discourse almost too bleak to reckon with head-on.",
          "Online, first responders are pleading with residents, asking for their help to combat the flood of lies and conspiracy theories.",
          "As Hurricane Milton churned across the Gulf of Mexico last night, I saw an onslaught of outright conspiracy theorizing and utter nonsense racking up millions of views across the internet.",
          "“On the face of it, it seems strange that people would believe it,” said Nick Anstead, an associate professor in the Department of Media and Communications at the London School of Economics and Political Science.",
          "This article previously stated that Bradley Boone is the assistant fire chief in Pensacola, Florida.",
          "Rather than deal with the realities of a warming planet hurling once-in-a-generation storms at them every few weeks, they’d rather malign and threaten meteorologists, who, in their minds, are “nothing but a trained subversive liar programmed to spew stupid shit to support the global warming bullshit,” as one X user put it.",
          "These days the general public would be well advised to assume an air of skepticism toward ... well, anything really.",
          "But legions of fans — many on the right — can’t seem to resist what he presents as hidden truths.",
          "Misinformation is too technical, too freighted, and, after almost a decade of Trump, too political.",
          "“Do not comply with FEMA,” she posted on X.",
          "In fact, he is based in Pensacola, North Carolina.",
          "This collides with a swath of people who would rather live in an alternate reality built on distrust and grievance than change their fundamental beliefs about the world.",
          "The public is more concerned with the outcome than the process.",
          "As two catastrophic storms upended American cities, a patchwork network of influencers and fake-news peddlers have done their best to sow distrust, stoke resentment, and interfere with relief efforts.",
          "Among them: Infowars’ Alex Jones, who claimed that Hurricanes Milton and Helene were “weather weapons” unleashed on the East Coast by the U.S. government, and “truth seeker” accounts on X that posted photos of condensation trails in the sky to baselessly allege that the government was “spraying Florida ahead of Hurricane Milton” in order to ensure maximum rainfall, “just like they did over Asheville!”\nAs Milton made landfall, causing a series of tornados, a verified account on X reposted a TikTok video of a massive funnel cloud with the caption “WHAT IS HAPPENING TO FLORIDA?",
          "Some of the lies and obfuscation are politically motivated, such as the claim that FEMA is offering only $750 in total to hurricane victims who have lost their home.",
          "“This is a matter of survival.”\nThe result of this fearmongering is what you might expect.",
          "According to an analysis by the Institute for Strategic Dialogue, an extremism-research group, “Falsehoods around hurricane response have spawned credible threats and incitement to violence directed at the federal government,” including “calls to send militias to face down FEMA.” The study also found that 30 percent of the X posts analyzed by ISD “contained overt antisemitic hate, including abuse directed at public officials such as the Mayor of Asheville, North Carolina; the FEMA Director of Public Affairs; and the Secretary of the Department of Homeland Security.” The posts received a collective 17.1 million views as of October 7.",
          "Similarly, those sharing the lies are happy to admit that they do not care whether what they’re pushing is real or not.",
          "On The Colbert Report, back in 2005, Stephen Colbert coined the word truthiness, which he defined as “the belief in what you feel to be true rather than what the facts will support.” This reality-fracturing is the result of an information ecosystem that is dominated by platforms that offer financial and attentional incentives to lie and enrage, and to turn every tragedy and large event into a shameless content-creation opportunity.",
          "Elon Musk, who owns X, claimed—without evidence—that FEMA was “actively blocking shipments and seizing goods and services locally and locking them away to state they are their own.",
          "But in turning away, they exacerbate a crisis that has characterized the Trump era, one that will reverberate to Election Day and beyond.",
          "The world feels dark; for many people, it’s tempting to meet that with a retreat into the delusion that they’ve got everything figured out, that the powers that be have conspired against them directly."
         ],
         "marker": {
          "opacity": 0.5,
          "size": 5
         },
         "mode": "markers+text",
         "name": "Misinformation and Conspiracy Theories",
         "text": [
          "",
          "",
          "",
          "",
          "",
          "",
          "",
          "",
          "",
          "",
          "",
          "",
          "",
          "",
          "",
          "",
          "",
          "",
          "",
          "",
          "",
          "",
          "",
          "",
          "",
          "",
          "",
          "",
          "",
          "",
          "",
          "",
          "",
          "",
          "",
          "",
          "",
          "",
          "",
          "",
          "",
          "",
          "",
          "",
          "",
          "",
          "",
          "",
          "",
          "",
          "",
          "",
          "",
          "",
          "",
          "",
          ""
         ],
         "textfont": {
          "size": 12
         },
         "type": "scattergl",
         "x": {
          "bdata": "WcOqwOeTssC0urjAQNyvwPJutMCz78XAZlytvx8Ln8CkcqrADWjNwBEyqsC87LfAV0+twFZz48CQRcXASniowC5HqsAokp/AXCOrwGtp2cAMaAjAPMWzwFcbq8ANEtjA6yWQwPe1ycC6j8vAPfa+wMODk8C+M9nAnh+vwBcRuMAxEs/AVRfPwCQ8+sB62qzA6eyAwAtKysBrGKnAXY3PwHHZBMGG8CfAjUStwAMCusBsyK3AG8m5wFC9rcA5D4i/Vb7xwIAmicDGAK2/k5qswEm9GsATuqXAYLO7wGstqsA39bHA",
          "dtype": "f4"
         },
         "y": {
          "bdata": "tRzBQJRRuUDsoWtA8FywQJafzkCK4HJA4bfXQFyozkAVncBAjVLFQFxwxEBraNFAhCTNQOFSkkBG1M5AMvjDQMwmxEB9tdBAqD3EQAZ8mkDYF9BAF/OwQHqSz0BkVLhAVpfGQKIo10ApUsZAsIDUQFBOgEB4VYFABLbBQOW2u0BqVMlAcH/FQF3hh0C+O81APfK2QNtgy0ASDrhA+S+6QK0J40DZNTpBh57CQClMz0D5B69AV0asQCIutkCu7fRAajuRQBT0x0DWXLlARjTNQF0NtUCnB2pACyDUQIf9rUAa1bFA",
          "dtype": "f4"
         }
        },
        {
         "hoverinfo": "text",
         "hovertext": [
          "\"AI-Generated Slop Is Already In Your Public Library\".",
          "Low quality books that appear to be AI generated are making their way into public libraries via their digital catalogs, forcing librarians who are already understaffed to either sort through a functionally infinite number of books to determine what is written by humans and what is generated by AI, or to spend taxpayer dollars to provide patrons with information they don’t realize is AI-generated.",
          "Forager’s Harvest 101 has an intelligibly (if cheaply) designed cover and legible (if smooth and voiceless) prose as well as an author biography featuring a photo of a smiling middle-aged woman.",
          "Derek Sullivan, a cataloguer at a public-library system in Pennsylvania, told me that AI-generated books had begun to cross his desk regularly.",
          "Searching “as of my knowledge cutoff” or “as an AI language model” in Google Books turns up hundreds of AI-generated “books” with titles like Hollywood’s 100 Leading Actors and Summary If the Woman in Me: A Guide to Britney Spears Memoir.",
          "But early on in the search results, you’ll find some seemingly AI-generated guides as well — for example, Forager’s Harvest 101: A Comprehensive Guide to Identifying, Preserving, and Preparing Wild Edible Plants, Mushrooms, Berries, and Fruits, by “Diane Wells.” Elan Trybuch, the secretary of the New York Mycological Society, recently wrote a blog post warning mushroom foragers about these dangerously inadequate guides: It’s possible that Forager’s Harvest 101 is fully accurate and safe to use, but it’s almost certainly unreviewed and unchecked and “written” by an AI that, as Trybuch described the technology, “does not know the subtle differences between a mushroom that is poisonous … vs one that is not.”\nIt’s not particularly easy to tell the difference between the AI-generated guides and those written by experts.",
          "On the other hand, making librarians buy into the entire catalog means that a customer looking for a book about how to diet for a healthier liver might end up borrowing Fatty Liver Diet Cookbook: 2000 Days of Simple and Flavorful Recipes for a Revitalized Liver.",
          "So is a low-price digital book that seems like the one you were looking for, but not quite.",
          "For example, a library can use Hoopla but make it so their customers can only borrow books that cost the library $5 per use.",
          "Though he first noticed the problem thanks to a recipe book by a nonexistent author that featured “a meal plan that told you to eat straight marinara sauce for lunch,” the slop books he sees often cover highly consequential subjects like living with fibromyalgia or raising children with ADHD.",
          "The book was authored by Magda Tangy, who has no online footprint, and who has an AI-generated profile picture on Amazon, where her books are also for sale.",
          "Both companies have a variety of payment options for libraries, but generally libraries get access to the companies’ catalog of books and pay for customers to be able to borrow that book, with different books having different licenses and prices.",
          "[34]\nIn books\n[edit]Online booksellers and library vendors now have many titles that are written by AI and are not curated into collections by librarians.",
          "We know that the original source of these things was side-hustle scams,” Clarke told me.",
          "In the worst version of the slop future, your overwhelmed and underfunded local library is half-filled with these unchecked, unreviewed, unedited AI-generated artifacts, dispensing hallucinated facts and inhuman advice and distinguishable from their human-authored competition only through ceaseless effort.",
          "With Hoopla, librarians have to opt into Hoopla’s entire catalog, then pay for whatever their customers choose to borrow from that catalog.",
          "Google suggesting that you could add nontoxic glue to make cheese stick to a pizza?",
          "But you can also get bad advice about A.D.H.D., about chemotherapy, about Ozempic — some potentially delicate subjects.",
          "AI-generated books have become a problem too.",
          "Sometimes they would arrive with the original prompt included, which was often as simple as “Write a 1,000-word science-fiction story.”\nIt was relatively easy to identify an AI-generated submission, but that required reading thousands (a “wall of noise”) and manually sorting them.",
          "The only way librarians can limit what Hoopla books their customers can borrow is by setting a limit on the price of books.",
          "The digital media provider Hoopla, which supplies libraries with ebooks and downloadable content, has generative AI books with fictional authors and dubious quality, which cost libraries money when checked out by unsuspecting patrons.",
          "Is this a completely AI-generated object, a self-published pamphlet, or a book from a publishing house that recently slashed its marketing and editing budgets?",
          "If you look on Amazon, you’ll turn up some obviously legitimate books.",
          "There’s a Stephen (and often a “Jacob”) behind all of this slop: an actual person uploading, say, identical Viking “novels” with seemingly AI-generated covers, all called Wrath of the Northmen: A Gripping Viking Tale of Revenge and Honor (that one has been published variously by authors named Sula Urbant, Sula Urbanz, and Sula Urbanr).",
          "On one hand, Hoopla’s gigantic catalog, which includes ebooks, audio books, and movies, is a selling point because it gives librarians access to more for cheaper price.",
          "Attempting to read news online is now fraught with the possibility that you’re consuming unedited AI-generated tattle: CNET, BuzzFeed, USA Today, and Sports Illustrated have published stilted and often incorrect AI-generated articles or used phony images and biographies for “authors.”\nImagine you are going foraging and want to download to your Kindle a guide to distinguish between edible and toxic mushrooms.",
          "A key difference is that with OverDrive, librarians can pick and choose which books in OverDrive’s catalog they want to give their customers the option of borrowing.",
          "We can also read that geologists advise eating at least one rock a day, that Elmer’s glue should be added to pizza sauce for thickening and that it’s completely chill to run with scissors.",
          "A prominent example came when amateur mushroom pickers were recently warned to avoid foraging books sold on Amazon that appeared to have been written by chatbots and contained dangerous advice for anyone hoping to discern a lethal fungus from an edible one.",
          "Public libraries primarily use two companies to manage and lend ebooks: Hoopla and OverDrive, the latter of which people may know from its borrowing app, Libby.",
          "The cost of slop to libraries is serious, Sullivan said, “not just the cost of the books” but the cost of labor: It takes cataloguers longer to do their jobs when they’re wading through “an outpouring of valueless product.” Human artists, writers, journalists, musicians, and even TikTokers have more work to do too, competing not just with other humans but with the passable products of automated systems."
         ],
         "marker": {
          "opacity": 0.5,
          "size": 5
         },
         "mode": "markers+text",
         "name": "AI-Generated Books in Libraries",
         "text": [
          "",
          "",
          "",
          "",
          "",
          "",
          "",
          "",
          "",
          "",
          "",
          "",
          "",
          "",
          "",
          "",
          "",
          "",
          "",
          "",
          "",
          "",
          "",
          "",
          "",
          "",
          "",
          "",
          "",
          "",
          "",
          ""
         ],
         "textfont": {
          "size": 12
         },
         "type": "scattergl",
         "x": {
          "bdata": "BFigvyOoCcGykgk/aUzJvuepYEHKfStAPNv2wJFz2sCuMwHBmW44QaykAMGFRQHBqA5EwJ3z8j4NsTBAhff6wMlz08CERuLAVgzsvmPXhb4digLBzDg9wPutD78TxfZAYyIvQF5jAMEYDCW/JDr5wLf3ncCKM1lBq70GwV7vYEE=",
          "dtype": "f4"
         },
         "y": {
          "bdata": "z7EoQffT6kBZAL9Avxn9QKc0fEEbpCNBECOTQJezgkB8i9FAFP6NQFQ7jkAIVslA8lF1QFKLvkBh7CRBzf7GQF+TYEBbw5JAOLj6QCzKBEHsWthAK7FrQD3p+0BwqoRA8IokQbaZi0A7t/hAIgvIQKNypkB3Z3RBrFLHQLB5fEE=",
          "dtype": "f4"
         }
        },
        {
         "hoverinfo": "text",
         "hovertext": [
          "(For instance, earlier today, Trump posted an AI-generated picture of himself as a buff Pittsburgh Steelers lineman.)",
          "Prominent accounts including Musk have shared and replied to @amuse’s posts, which recently have included AI depictions of Trump fighting Darth Vader and sexualized imagery of Harris.",
          "The account posts misleading, pro-Trump headlines such as claiming Harris turned hundreds of thousands of children over to human traffickers as “border czar”.",
          "Hillary Clinton was not recently seen walking around Chicago in a MAGA hat.",
          "When Thomas Crooks tried to assassinate Donald Trump, for instance, X’s A.I.",
          "When Donald Trump shared a slew of AI-generated images this week that falsely depicted Taylor Swift and her fans endorsing his campaign for president, the former US president was amplifying the work of a murky non-profit with aspirations to bankroll rightwing media influencers and a history of spreading misinformation.",
          "\"How did Donald Trump end up posting Taylor Swift deepfakes?\".",
          "(This after he falsely claimed that Harris had posted an image that had been “A.I.’d”—a tidy bit of projection.)",
          "Taylor Swift fans are not endorsing Donald Trump en masse.",
          "There are plenty of mocking or degrading images of Harris and other female Democratic politicians, such as Alexandria Ocasio-Cortez.",
          "On Amazon, a quick search found a listing for some (presumably real) underwear with the description “As of My Knowledge Cutoff in Early 2023, Providing Specific Purchasing Options for ‘Women’s Stylish Sexy Casual Independence Day Printed Panties’ Would Be My Capabilities As I Cannot Browse or Access Live Data From the Internet, Including Current Inventory From or Private Sellers.”\nTwitter — Elon Musk’s X — may be the most fruitful platform for this kind of search thanks to its sub-competent moderation services.",
          "One pro-Trump, Elon-Musk-fanboy account recently shared a suggestive image depicting a scantily clad Harris surrounded by multiple clones of Donald Trump; it’s been viewed 1.6 million times.",
          "Kamala Harris did not give a speech at the Democratic National Convention to a sea of communists while standing in front of the hammer and sickle.",
          "Several of the images Trump posted on his Truth Social platform, which showed digitally rendered young women in “Swifties for Trump” T-shirts, were the products of the John Milton Freedom Foundation.",
          "Rather than peck out a few sentences complaining about Biden’s age or ridiculing Harris’s economic policies, far-right posters can illustrate their attacks and garner more attention.",
          "Donald Trump—or at least whoever controls his social-media accounts—posted the AI-generated photo of Harris with the hammer and sickle, as well as a series of fake images depicting Taylor Swift dressed as Uncle Sam and young women marching in Swifties for Trump shirts.",
          "There are images and videos of Harris and Trump holding hands on a beach and Harris wearing a crown that reads Inflation Queen.",
          "The images originated from the conservative Twitter account @amuse, which posted numerous AI slop images leading up to the 2024 United States elections that were shared by other high-profile figures within the American Republican Party, such as Elon Musk, who has publicly endorsed the utilization of generative AI, furthering this association.",
          "After Musk’s xAI company released its largely unregulated Grok image generator last week, there has been a surge of AI content that has included depictions of Trump, Kamala Harris and other political figures.",
          "They’ve been getting bigger,” Catturd2 posted this March, while praising Musk.",
          "After months of retweeting conservative media influencers and echoing Elon Musk’s claims that freedom of speech is under attack from leftwing forces, one of the organization’s messages found its way to Trump and then his millions of supporters.",
          "[14] In August 2024, the American politician Donald Trump posted a series of AI-generated images on his social media platform, Truth Social, that portrayed fans of the singer Taylor Swift in \"Swifties for Trump\" T-shirts, as well as a photo of the singer herself appearing to endorse Trump's 2024 presidential campaign.",
          "Trump himself has been the subject of generative-AI art and has shared depictions of himself going back to March 2023.",
          "Trump distanced himself from the images in an interview with Fox Business on Wednesday, saying: “I don’t know anything about them other than someone else generated them.",
          "sputtered out a whole string of cartoonishly false trending topics, including that it was Kamala Harris who had been shot.",
          "Trump posted a screenshot of @amuse’s tweet on Truth Social.",
          "On X, one post that included a fake image in which Harris is implied to be a sex worker has been viewed more than 3.5 million times; on Facebook, that same post has been shared more than 87,000 times.",
          "Its banner picture is currently an AI-generated photo of Trump surrounded by women in “Swifties” shirts."
         ],
         "marker": {
          "opacity": 0.5,
          "size": 5
         },
         "mode": "markers+text",
         "name": "AI-Generated Political Misinformation",
         "text": [
          "",
          "",
          "",
          "",
          "",
          "",
          "",
          "",
          "",
          "",
          "",
          "",
          "",
          "",
          "",
          "",
          "",
          "",
          "",
          "",
          "",
          "",
          "",
          "",
          "",
          "",
          "",
          ""
         ],
         "textfont": {
          "size": 12
         },
         "type": "scattergl",
         "x": {
          "bdata": "uZK+wLFSQL+uq4m/VvugwMGd1MCjNu3A1hUgwGja0sBw95TAAWu4wG6iK0Cb1I3ABZaVwNgx7cBSbI/AYITVwJo8kcD0hwLB8CzuwOhhhMC8Lu7A5LsGwXOfAMHPlezA3FylwLEdqcChgYrA3RrlwA==",
          "dtype": "f4"
         },
         "y": {
          "bdata": "JnufQLZKq0A88+pAPaNrQHzMt0AkM4hA0M89QdRqnkAY64BA4+WkQE2tI0HRY6pAwOaDQMixjECiD6lArJqkQIzaqEAJMdpAGieLQGtFs0BvooJAGPziQAsxjEDHt4dAb+iiQKexkkD96KhAymmQQA==",
          "dtype": "f4"
         }
        },
        {
         "hoverinfo": "text",
         "hovertext": [
          "overviews.",
          "Where not long ago we used to find the very best results for Google searches, we can now find instead potentially plagiarized and often inaccurate paragraph summaries of answers to our queries — including, reportedly, that only 17 American presidents were white, that Barack Obama is a Muslim and that Andrew Johnson, who became president in 1865 and died in 1875, earned 13 college degrees between 1947 and 2012.",
          "- Search Engine Confusion: Poorly generated search suggestions, such as Google's infamous recommendation of non-toxic glue for pizza cheese, highlight how AI's lack of context can lead to bizarre and off-putting user experiences.",
          "Overview” — a chunk of text at the top of a results page that uses Gemini to form its best guess at what the user is looking for.",
          "Now the company’s chief executive acknowledges that hallucinations are “inherent” to the technology it has celebrated as a kind of successor for ranked-order search results, which are now often found far below not just the A.I.",
          "summary but a whole stack of “sponsored” results as well.",
          "And while the internet was never perfectly trustworthy, one epoch-defining breakthrough of Google was that it got us pretty close.",
          "The term became more prevalent last month when Google incorporated its Gemini A.I.",
          "on search engines and the internet in general may be less extreme than some would fear.",
          "into its search results on Bing, and it had some immediate missteps, leading Google to declare it would roll back some of its A.I.",
          "Google is just a search engine, and any person can post anything on it.",
          "But that dip has since recovered, and in the first three weeks of the overviews, overall search traffic to more than 2,000 major websites in the U.S. actually went up, according to Chartbeat.",
          "But with the dominant search engines having made A.I.",
          "model into its U.S.-based search results.",
          "One more thing I want to add is that people should not consider Google as the standard.",
          "Unfortunately I do not have enough information to summarize further within the provided guidelines.",
          "Answering questions via Google now requires contending with AI-authored “Overview” modules at the top of some search pages, which offer incorrect summaries — “None of Africa’s 54 recognized countries start with the letter ‘K,’” one Overview claimed — just often enough to render them untrustworthy.",
          "News organizations have worried about shrinking online audiences as people rely more on A.I.-generated answers and data from Chartbeat, a company that researches internet traffic, indicates that there was an immediate drop in referrals from Google Discover to websites in the first days of A.I.",
          "It’s still the first place most of us go to answer questions, to find out what’s happening, and to learn new things.",
          "Overview is being presented as a definitive answer, rather than as a place to start an internet user’s research into a given subject.",
          "Last week, Google announced an ambitious plan to add AI-made answers to the top of some search results, with US-based users the first to experience a full rollout of the “AI Overviews” feature.",
          "Humans are involved in the website’s search engine optimization efforts to ensure it ranks highly on sites like Google, he said, but much of the information is produced by A.I.",
          "Google says the AI overviews have strong safety guardrails.",
          "Rather than pointing users toward links, the service attempts to solve a query directly with an “A.I.",
          "It will include links as well, but users who want to limit the response to just a selection of links to other websites will be able to find them – by clicking through to “web” on the search engine, demoted to sit beside “images” and “maps” on the list of options.",
          "“We’ve added this after hearing from some that there are times when they’d prefer to just see links to webpages in their search results,” wrote Danny Sullivan, the company’s search liaison."
         ],
         "marker": {
          "opacity": 0.5,
          "size": 5
         },
         "mode": "markers+text",
         "name": "AI-Driven Search Result Reliability",
         "text": [
          "",
          "",
          "",
          "",
          "",
          "",
          "",
          "",
          "",
          "",
          "",
          "",
          "",
          "",
          "",
          "",
          "",
          "",
          "",
          "",
          "",
          "",
          "",
          "",
          "",
          ""
         ],
         "textfont": {
          "size": 12
         },
         "type": "scattergl",
         "x": {
          "bdata": "rdW2wL2dosAg8tvA/emmwDdL4MAM783AgPLgwIHmtcBbKsvAGwzUwC+TBcGFNXQ+/mzTwFovq8DGqQbByEA8wPsScT8svNPAIMDkvvc04cAnssVAfAn2wGb6JL//6bXAnDDjwGd61cA=",
          "dtype": "f4"
         },
         "y": {
          "bdata": "b2PIQKYmqkBaCpxAA0ONQL5ylUDDPJJAcouVQHvQkUDaE79AKi5cQP1WyEAg0JpA7J1iQPXVkkB0d8dAP7BtQCeLwEBbXtpAWgH5QJTBkkCXkAm/3r29QImO+EBKwp1A8TeSQFqqlUA=",
          "dtype": "f4"
         }
        },
        {
         "hoverinfo": "text",
         "hovertext": [
          "None capture the awkward banality of the candidate’s actual campaign stop.",
          "For me, it’s the amber glow of the fry machine gently illuminating the exhausted 45th president of the United States of America.",
          "He’s often dressed up as a gun-toting cowboy or in World War II fatigues, storming a beach.",
          "The glare of the potato-warming apparatus casts a shadow on the left side of Donald Trump’s face as he works at a McDonald’s in Bucks County, Pennsylvania.",
          "This is clarifying, insofar that it demonstrates that Trump’s primary output is always a kind of slop.",
          "The McDonald’s photo op was barely real: The restaurant was closed to the public during Trump’s visit.",
          "In the lead-up to the candidate’s fast-food stop, various news outlets, fans, and even T-shirt sellers used generative-AI tools to mock up what the visit might look like.",
          "The shadows of the McDonald’s kitchen, the interplay between the sheen of the stainless steel and the cast of the nugget-warming lights, give the very real photos a distinct Midjourney aesthetic.",
          "The images of Trump’s McDonald’s stunt—in which he jiggled the fryer and handed burgers out of a window yesterday—are uncanny.",
          "Trump proffering Dollar Menu items isn’t AI, but it is still slop in all the ways that matter: a hastily staged depiction of a fairly stupid, though entertaining fantasy, meant to delight, troll, and, most important, emphasize a false impression of the candidate.",
          "Like any good AI slop, the op illustrated a fantasy—in this case, that Trump, a man who has long lived in a gilded penthouse, is a working-class man.",
          "Trump was really at that Buck’s County McDonald’s, debasing himself for swing-state votes in the same way that candidates have for generations (see: Rick Perry eating a corn dog in 2011).",
          "Not unlike the fast food that Trump was hawking, slop is sometimes delicious, but it is never nutrient dense.",
          "What is a Trump rally but a teleprompter reading of stump-speech slop, interspersed with inexplicable lorem ipsum about Hannibal Lecter and wind turbines spun up by the unknowable language model in Trump’s own head?",
          "Perhaps it’s because my feeds have been simultaneously clogged with election-season garbage and AI-generated slop, but the McDonald’s photoshoot struck me as a moment of strange synthesis, where reality and tech-enabled fiction felt somehow mashed together by the internet’s cultural particle accelerator.",
          "In some, Trump’s clothing is too garish; in others, he’s toting a comically large amount of food.",
          "If AI slop can teach us something about a man like Trump, it seems that the opposite is also true.",
          "This man, who held the nuclear codes just 1,369 days ago, is now wearing an apron and doling out fast food.",
          "But MAGA world has always trafficked in slop.",
          "Computers, at least for now, cannot quite capture the crushing surreality and maddening absurdity of modern electoral politics.",
          "Just as it seems obvious that Trump’s devoted followers—an extremely online group that has so fully embraced conspiracy theorizing and election denial that some of its members stormed the Capitol building—would delight in the bespoke memes and crude depictions of AI art."
         ],
         "marker": {
          "opacity": 0.5,
          "size": 5
         },
         "mode": "markers+text",
         "name": "Trump, AI, and Food Culture",
         "text": [
          "",
          "",
          "",
          "",
          "",
          "",
          "",
          "",
          "",
          "",
          "",
          "",
          "",
          "",
          "",
          "",
          "",
          "",
          "",
          "",
          ""
         ],
         "textfont": {
          "size": 12
         },
         "type": "scattergl",
         "x": {
          "bdata": "5oXuwJiNjMDmvxjA2oiLwPnujMBi6cDA8Ta2wCheh8CqsYvAVdKOwOF30MB9XpfAO6gAwRHd58DMYIzAKILvwAL8rcBGRYvAOzmuwDr87cC/woPA",
          "dtype": "f4"
         },
         "y": {
          "bdata": "7zqOQI/eqUBmhONAaL2oQL/RqkAV8YNAZwmTQO78oUDgEa9AD7qoQCzWw0CysoVAFBOOQDrHl0Af96pA/B6KQFc6jUAGg69A4X+FQLqeiEAF5r9A",
          "dtype": "f4"
         }
        },
        {
         "hoverinfo": "text",
         "hovertext": [
          "The team behind it, according to its own documents, consists of five people based in the Dallas-Fort Worth area with varying degrees of experience in Republican politics.",
          "The John Milton Freedom Foundation, named after the 17th-century British poet and essayist, has a small online footprint: a website, an investor prospectus and an X account with fewer than 500 followers.",
          "It is not clear that the foundation has any money to give and if all the media influencers listed as its 2024 fellowship class know about the organization.",
          "The most recent tax records for the Freedom Foundation place it in the category of non-profits whose gross receipts, or total funds received from all sources, range from $0 to $50,000 – far below the millions it is seeking.",
          "The organization believes that this money would allow these already established influencers to “increase their reach by more than 10x in less than a year”, according to its investor prospectus.",
          "In addition to his blog, he claims to have worked with James O’Keefe, the former CEO of the rightwing organization Project Veritas, who was known for hidden camera stings until he was ousted last year over allegations of misplaced funds.",
          "Running @amuse appears to be Alexander Muse, listed as a consultant in the investor prospectus of the Milton Foundation, who also writes a rightwing commentary Substack that includes posts exploring election conspiracy theories.",
          "The X account is connected to a Substack posting the same articles that Muse publishes on his LinkedIn page, which also has the username “amuse”, reflecting his first initial and last name.",
          "One Texas-based account that posts anti-vaccine content lists itself as a “JMFF” fellow in their bio, but none of the others advertise any connection.",
          "Launched last year, the Texas-based non-profit organization frames itself as a press freedom group with the goal of “empowering independent journalists” and “fortifying the bedrock of democracy”.",
          "The @amuse account has numerous connections with Muse.",
          "Muse’s experience in digital media appears to be far more extensive than the non-profit’s other members.",
          "The organization’s board includes its chair, Brad Merritt, who is touted as an experienced Republican organizer with claims to have raised $300m for various non-profits; its director, Shiree Sanchez, who served as assistant director of the Republican party of Texas between 1985 and 1986; and Mark Karaffa, a retired healthcare industry executive.",
          "The group’s day-to-day operations appear to revolve around sharing engagement bait on X and seeking millions from donors for a “fellowship program” chaired by a high school sophomore that would award $100,000 to Twitter personalities such as Glenn Greenwald, Andy Ngo and Lara Logan, according to a review of the group’s tax records, investor documents and social media output.",
          "The John Milton Freedom Foundation did not respond to a request for comment to a set of questions about its operations and fellowship program.",
          "The foundation’s stated goal is to raise $2m from major donors to award $100,000 grants to a list of “fellows” made up of rightwing media influencers.",
          "On the text of the post, which was labeled “satire”, was a watermark that stated it was “sponsored by the John Milton Freedom Foundation”.",
          "Muse’s daughter, described as a 10th grade honor student on the non-profit’s site, serves as the Milton Foundation’s “fellowship chair”.",
          "While only one of the fellows listed on the foundation’s site mentions the organization on their X profiles and none follow its account, the @amuse account has a prominent link to the group’s community page and the foundation often engages with its posts."
         ],
         "marker": {
          "opacity": 0.5,
          "size": 5
         },
         "mode": "markers+text",
         "name": "Milton Foundation's Political Advocacy",
         "text": [
          "",
          "",
          "",
          "",
          "",
          "",
          "",
          "",
          "",
          "",
          "",
          "",
          "",
          "",
          "",
          "",
          "",
          "",
          ""
         ],
         "textfont": {
          "size": 12
         },
         "type": "scattergl",
         "x": {
          "bdata": "QS2QvwMDkr+qaJ4+AIWdwArteb/7LufA2oSqwMkD7cAZXJvAHdGGwNN/l8D70+vAX+0YwE1p3MCRyfHAK+3uwFRFrMDwHe7AshjPvw==",
          "dtype": "f4"
         },
         "y": {
          "bdata": "yevpQNXQ6EAtPZNADFi9QOg86UABSI9Aw/mRQHC1k0C04b1AqJ56QJbSjEDwgo9AFsfjQJJhxUBhu4RAAcjrQBhZkUBsI+xAz5rKQA==",
          "dtype": "f4"
         }
        }
       ],
       "layout": {
        "annotations": [
         {
          "showarrow": false,
          "text": "D1",
          "x": -10.196629524230957,
          "y": 8.775770653784274,
          "yshift": 10
         },
         {
          "showarrow": false,
          "text": "D2",
          "x": 2.9968544244766235,
          "xshift": 10,
          "y": 18.169851064682007
         }
        ],
        "height": 750,
        "shapes": [
         {
          "line": {
           "color": "#CFD8DC",
           "width": 2
          },
          "type": "line",
          "x0": 2.9968544244766235,
          "x1": 2.9968544244766235,
          "y0": -0.6183097571134567,
          "y1": 18.169851064682007
         },
         {
          "line": {
           "color": "#9E9E9E",
           "width": 2
          },
          "type": "line",
          "x0": -10.196629524230957,
          "x1": 16.190338373184204,
          "y0": 8.775770653784274,
          "y1": 8.775770653784274
         }
        ],
        "template": {
         "data": {
          "bar": [
           {
            "error_x": {
             "color": "rgb(36,36,36)"
            },
            "error_y": {
             "color": "rgb(36,36,36)"
            },
            "marker": {
             "line": {
              "color": "white",
              "width": 0.5
             },
             "pattern": {
              "fillmode": "overlay",
              "size": 10,
              "solidity": 0.2
             }
            },
            "type": "bar"
           }
          ],
          "barpolar": [
           {
            "marker": {
             "line": {
              "color": "white",
              "width": 0.5
             },
             "pattern": {
              "fillmode": "overlay",
              "size": 10,
              "solidity": 0.2
             }
            },
            "type": "barpolar"
           }
          ],
          "carpet": [
           {
            "aaxis": {
             "endlinecolor": "rgb(36,36,36)",
             "gridcolor": "white",
             "linecolor": "white",
             "minorgridcolor": "white",
             "startlinecolor": "rgb(36,36,36)"
            },
            "baxis": {
             "endlinecolor": "rgb(36,36,36)",
             "gridcolor": "white",
             "linecolor": "white",
             "minorgridcolor": "white",
             "startlinecolor": "rgb(36,36,36)"
            },
            "type": "carpet"
           }
          ],
          "choropleth": [
           {
            "colorbar": {
             "outlinewidth": 1,
             "tickcolor": "rgb(36,36,36)",
             "ticks": "outside"
            },
            "type": "choropleth"
           }
          ],
          "contour": [
           {
            "colorbar": {
             "outlinewidth": 1,
             "tickcolor": "rgb(36,36,36)",
             "ticks": "outside"
            },
            "colorscale": [
             [
              0,
              "#440154"
             ],
             [
              0.1111111111111111,
              "#482878"
             ],
             [
              0.2222222222222222,
              "#3e4989"
             ],
             [
              0.3333333333333333,
              "#31688e"
             ],
             [
              0.4444444444444444,
              "#26828e"
             ],
             [
              0.5555555555555556,
              "#1f9e89"
             ],
             [
              0.6666666666666666,
              "#35b779"
             ],
             [
              0.7777777777777778,
              "#6ece58"
             ],
             [
              0.8888888888888888,
              "#b5de2b"
             ],
             [
              1,
              "#fde725"
             ]
            ],
            "type": "contour"
           }
          ],
          "contourcarpet": [
           {
            "colorbar": {
             "outlinewidth": 1,
             "tickcolor": "rgb(36,36,36)",
             "ticks": "outside"
            },
            "type": "contourcarpet"
           }
          ],
          "heatmap": [
           {
            "colorbar": {
             "outlinewidth": 1,
             "tickcolor": "rgb(36,36,36)",
             "ticks": "outside"
            },
            "colorscale": [
             [
              0,
              "#440154"
             ],
             [
              0.1111111111111111,
              "#482878"
             ],
             [
              0.2222222222222222,
              "#3e4989"
             ],
             [
              0.3333333333333333,
              "#31688e"
             ],
             [
              0.4444444444444444,
              "#26828e"
             ],
             [
              0.5555555555555556,
              "#1f9e89"
             ],
             [
              0.6666666666666666,
              "#35b779"
             ],
             [
              0.7777777777777778,
              "#6ece58"
             ],
             [
              0.8888888888888888,
              "#b5de2b"
             ],
             [
              1,
              "#fde725"
             ]
            ],
            "type": "heatmap"
           }
          ],
          "histogram": [
           {
            "marker": {
             "line": {
              "color": "white",
              "width": 0.6
             }
            },
            "type": "histogram"
           }
          ],
          "histogram2d": [
           {
            "colorbar": {
             "outlinewidth": 1,
             "tickcolor": "rgb(36,36,36)",
             "ticks": "outside"
            },
            "colorscale": [
             [
              0,
              "#440154"
             ],
             [
              0.1111111111111111,
              "#482878"
             ],
             [
              0.2222222222222222,
              "#3e4989"
             ],
             [
              0.3333333333333333,
              "#31688e"
             ],
             [
              0.4444444444444444,
              "#26828e"
             ],
             [
              0.5555555555555556,
              "#1f9e89"
             ],
             [
              0.6666666666666666,
              "#35b779"
             ],
             [
              0.7777777777777778,
              "#6ece58"
             ],
             [
              0.8888888888888888,
              "#b5de2b"
             ],
             [
              1,
              "#fde725"
             ]
            ],
            "type": "histogram2d"
           }
          ],
          "histogram2dcontour": [
           {
            "colorbar": {
             "outlinewidth": 1,
             "tickcolor": "rgb(36,36,36)",
             "ticks": "outside"
            },
            "colorscale": [
             [
              0,
              "#440154"
             ],
             [
              0.1111111111111111,
              "#482878"
             ],
             [
              0.2222222222222222,
              "#3e4989"
             ],
             [
              0.3333333333333333,
              "#31688e"
             ],
             [
              0.4444444444444444,
              "#26828e"
             ],
             [
              0.5555555555555556,
              "#1f9e89"
             ],
             [
              0.6666666666666666,
              "#35b779"
             ],
             [
              0.7777777777777778,
              "#6ece58"
             ],
             [
              0.8888888888888888,
              "#b5de2b"
             ],
             [
              1,
              "#fde725"
             ]
            ],
            "type": "histogram2dcontour"
           }
          ],
          "mesh3d": [
           {
            "colorbar": {
             "outlinewidth": 1,
             "tickcolor": "rgb(36,36,36)",
             "ticks": "outside"
            },
            "type": "mesh3d"
           }
          ],
          "parcoords": [
           {
            "line": {
             "colorbar": {
              "outlinewidth": 1,
              "tickcolor": "rgb(36,36,36)",
              "ticks": "outside"
             }
            },
            "type": "parcoords"
           }
          ],
          "pie": [
           {
            "automargin": true,
            "type": "pie"
           }
          ],
          "scatter": [
           {
            "fillpattern": {
             "fillmode": "overlay",
             "size": 10,
             "solidity": 0.2
            },
            "type": "scatter"
           }
          ],
          "scatter3d": [
           {
            "line": {
             "colorbar": {
              "outlinewidth": 1,
              "tickcolor": "rgb(36,36,36)",
              "ticks": "outside"
             }
            },
            "marker": {
             "colorbar": {
              "outlinewidth": 1,
              "tickcolor": "rgb(36,36,36)",
              "ticks": "outside"
             }
            },
            "type": "scatter3d"
           }
          ],
          "scattercarpet": [
           {
            "marker": {
             "colorbar": {
              "outlinewidth": 1,
              "tickcolor": "rgb(36,36,36)",
              "ticks": "outside"
             }
            },
            "type": "scattercarpet"
           }
          ],
          "scattergeo": [
           {
            "marker": {
             "colorbar": {
              "outlinewidth": 1,
              "tickcolor": "rgb(36,36,36)",
              "ticks": "outside"
             }
            },
            "type": "scattergeo"
           }
          ],
          "scattergl": [
           {
            "marker": {
             "colorbar": {
              "outlinewidth": 1,
              "tickcolor": "rgb(36,36,36)",
              "ticks": "outside"
             }
            },
            "type": "scattergl"
           }
          ],
          "scattermap": [
           {
            "marker": {
             "colorbar": {
              "outlinewidth": 1,
              "tickcolor": "rgb(36,36,36)",
              "ticks": "outside"
             }
            },
            "type": "scattermap"
           }
          ],
          "scattermapbox": [
           {
            "marker": {
             "colorbar": {
              "outlinewidth": 1,
              "tickcolor": "rgb(36,36,36)",
              "ticks": "outside"
             }
            },
            "type": "scattermapbox"
           }
          ],
          "scatterpolar": [
           {
            "marker": {
             "colorbar": {
              "outlinewidth": 1,
              "tickcolor": "rgb(36,36,36)",
              "ticks": "outside"
             }
            },
            "type": "scatterpolar"
           }
          ],
          "scatterpolargl": [
           {
            "marker": {
             "colorbar": {
              "outlinewidth": 1,
              "tickcolor": "rgb(36,36,36)",
              "ticks": "outside"
             }
            },
            "type": "scatterpolargl"
           }
          ],
          "scatterternary": [
           {
            "marker": {
             "colorbar": {
              "outlinewidth": 1,
              "tickcolor": "rgb(36,36,36)",
              "ticks": "outside"
             }
            },
            "type": "scatterternary"
           }
          ],
          "surface": [
           {
            "colorbar": {
             "outlinewidth": 1,
             "tickcolor": "rgb(36,36,36)",
             "ticks": "outside"
            },
            "colorscale": [
             [
              0,
              "#440154"
             ],
             [
              0.1111111111111111,
              "#482878"
             ],
             [
              0.2222222222222222,
              "#3e4989"
             ],
             [
              0.3333333333333333,
              "#31688e"
             ],
             [
              0.4444444444444444,
              "#26828e"
             ],
             [
              0.5555555555555556,
              "#1f9e89"
             ],
             [
              0.6666666666666666,
              "#35b779"
             ],
             [
              0.7777777777777778,
              "#6ece58"
             ],
             [
              0.8888888888888888,
              "#b5de2b"
             ],
             [
              1,
              "#fde725"
             ]
            ],
            "type": "surface"
           }
          ],
          "table": [
           {
            "cells": {
             "fill": {
              "color": "rgb(237,237,237)"
             },
             "line": {
              "color": "white"
             }
            },
            "header": {
             "fill": {
              "color": "rgb(217,217,217)"
             },
             "line": {
              "color": "white"
             }
            },
            "type": "table"
           }
          ]
         },
         "layout": {
          "annotationdefaults": {
           "arrowhead": 0,
           "arrowwidth": 1
          },
          "autotypenumbers": "strict",
          "coloraxis": {
           "colorbar": {
            "outlinewidth": 1,
            "tickcolor": "rgb(36,36,36)",
            "ticks": "outside"
           }
          },
          "colorscale": {
           "diverging": [
            [
             0,
             "rgb(103,0,31)"
            ],
            [
             0.1,
             "rgb(178,24,43)"
            ],
            [
             0.2,
             "rgb(214,96,77)"
            ],
            [
             0.3,
             "rgb(244,165,130)"
            ],
            [
             0.4,
             "rgb(253,219,199)"
            ],
            [
             0.5,
             "rgb(247,247,247)"
            ],
            [
             0.6,
             "rgb(209,229,240)"
            ],
            [
             0.7,
             "rgb(146,197,222)"
            ],
            [
             0.8,
             "rgb(67,147,195)"
            ],
            [
             0.9,
             "rgb(33,102,172)"
            ],
            [
             1,
             "rgb(5,48,97)"
            ]
           ],
           "sequential": [
            [
             0,
             "#440154"
            ],
            [
             0.1111111111111111,
             "#482878"
            ],
            [
             0.2222222222222222,
             "#3e4989"
            ],
            [
             0.3333333333333333,
             "#31688e"
            ],
            [
             0.4444444444444444,
             "#26828e"
            ],
            [
             0.5555555555555556,
             "#1f9e89"
            ],
            [
             0.6666666666666666,
             "#35b779"
            ],
            [
             0.7777777777777778,
             "#6ece58"
            ],
            [
             0.8888888888888888,
             "#b5de2b"
            ],
            [
             1,
             "#fde725"
            ]
           ],
           "sequentialminus": [
            [
             0,
             "#440154"
            ],
            [
             0.1111111111111111,
             "#482878"
            ],
            [
             0.2222222222222222,
             "#3e4989"
            ],
            [
             0.3333333333333333,
             "#31688e"
            ],
            [
             0.4444444444444444,
             "#26828e"
            ],
            [
             0.5555555555555556,
             "#1f9e89"
            ],
            [
             0.6666666666666666,
             "#35b779"
            ],
            [
             0.7777777777777778,
             "#6ece58"
            ],
            [
             0.8888888888888888,
             "#b5de2b"
            ],
            [
             1,
             "#fde725"
            ]
           ]
          },
          "colorway": [
           "#1F77B4",
           "#FF7F0E",
           "#2CA02C",
           "#D62728",
           "#9467BD",
           "#8C564B",
           "#E377C2",
           "#7F7F7F",
           "#BCBD22",
           "#17BECF"
          ],
          "font": {
           "color": "rgb(36,36,36)"
          },
          "geo": {
           "bgcolor": "white",
           "lakecolor": "white",
           "landcolor": "white",
           "showlakes": true,
           "showland": true,
           "subunitcolor": "white"
          },
          "hoverlabel": {
           "align": "left"
          },
          "hovermode": "closest",
          "mapbox": {
           "style": "light"
          },
          "paper_bgcolor": "white",
          "plot_bgcolor": "white",
          "polar": {
           "angularaxis": {
            "gridcolor": "rgb(232,232,232)",
            "linecolor": "rgb(36,36,36)",
            "showgrid": false,
            "showline": true,
            "ticks": "outside"
           },
           "bgcolor": "white",
           "radialaxis": {
            "gridcolor": "rgb(232,232,232)",
            "linecolor": "rgb(36,36,36)",
            "showgrid": false,
            "showline": true,
            "ticks": "outside"
           }
          },
          "scene": {
           "xaxis": {
            "backgroundcolor": "white",
            "gridcolor": "rgb(232,232,232)",
            "gridwidth": 2,
            "linecolor": "rgb(36,36,36)",
            "showbackground": true,
            "showgrid": false,
            "showline": true,
            "ticks": "outside",
            "zeroline": false,
            "zerolinecolor": "rgb(36,36,36)"
           },
           "yaxis": {
            "backgroundcolor": "white",
            "gridcolor": "rgb(232,232,232)",
            "gridwidth": 2,
            "linecolor": "rgb(36,36,36)",
            "showbackground": true,
            "showgrid": false,
            "showline": true,
            "ticks": "outside",
            "zeroline": false,
            "zerolinecolor": "rgb(36,36,36)"
           },
           "zaxis": {
            "backgroundcolor": "white",
            "gridcolor": "rgb(232,232,232)",
            "gridwidth": 2,
            "linecolor": "rgb(36,36,36)",
            "showbackground": true,
            "showgrid": false,
            "showline": true,
            "ticks": "outside",
            "zeroline": false,
            "zerolinecolor": "rgb(36,36,36)"
           }
          },
          "shapedefaults": {
           "fillcolor": "black",
           "line": {
            "width": 0
           },
           "opacity": 0.3
          },
          "ternary": {
           "aaxis": {
            "gridcolor": "rgb(232,232,232)",
            "linecolor": "rgb(36,36,36)",
            "showgrid": false,
            "showline": true,
            "ticks": "outside"
           },
           "baxis": {
            "gridcolor": "rgb(232,232,232)",
            "linecolor": "rgb(36,36,36)",
            "showgrid": false,
            "showline": true,
            "ticks": "outside"
           },
           "bgcolor": "white",
           "caxis": {
            "gridcolor": "rgb(232,232,232)",
            "linecolor": "rgb(36,36,36)",
            "showgrid": false,
            "showline": true,
            "ticks": "outside"
           }
          },
          "title": {
           "x": 0.05
          },
          "xaxis": {
           "automargin": true,
           "gridcolor": "rgb(232,232,232)",
           "linecolor": "rgb(36,36,36)",
           "showgrid": false,
           "showline": true,
           "ticks": "outside",
           "title": {
            "standoff": 15
           },
           "zeroline": false,
           "zerolinecolor": "rgb(36,36,36)"
          },
          "yaxis": {
           "automargin": true,
           "gridcolor": "rgb(232,232,232)",
           "linecolor": "rgb(36,36,36)",
           "showgrid": false,
           "showline": true,
           "ticks": "outside",
           "title": {
            "standoff": 15
           },
           "zeroline": false,
           "zerolinecolor": "rgb(36,36,36)"
          }
         }
        },
        "title": {
         "font": {
          "color": "Black",
          "size": 22
         },
         "text": "<b>Documents and Topics</b>",
         "x": 0.5,
         "xanchor": "center",
         "yanchor": "top"
        },
        "width": 1200,
        "xaxis": {
         "visible": false
        },
        "yaxis": {
         "visible": false
        }
       }
      }
     },
     "metadata": {},
     "output_type": "display_data"
    }
   ],
   "source": [
    "reduced_embeddings = UMAP(\n",
    "    n_neighbors=10, n_components=2, min_dist=0.0, metric=\"cosine\"\n",
    ").fit_transform(embeddings)\n",
    "topic_model.visualize_documents(\n",
    "    documents,\n",
    "    reduced_embeddings=reduced_embeddings,\n",
    "    custom_labels=True,\n",
    "    hide_annotations=True,\n",
    ")"
   ]
  },
  {
   "cell_type": "code",
   "execution_count": 72,
   "id": "1c174d3e",
   "metadata": {},
   "outputs": [
    {
     "data": {
      "text/plain": [
       "(1756, 3072)"
      ]
     },
     "execution_count": 72,
     "metadata": {},
     "output_type": "execute_result"
    }
   ],
   "source": [
    "embeddings.shape"
   ]
  },
  {
   "cell_type": "code",
   "execution_count": null,
   "id": "80649e99",
   "metadata": {},
   "outputs": [],
   "source": [
    "# TODO\n",
    "# run it through only the ones from the genai and slop category"
   ]
  },
  {
   "cell_type": "code",
   "execution_count": 53,
   "id": "611416fd",
   "metadata": {},
   "outputs": [
    {
     "data": {
      "text/html": [
       "<div>\n",
       "<style scoped>\n",
       "    .dataframe tbody tr th:only-of-type {\n",
       "        vertical-align: middle;\n",
       "    }\n",
       "\n",
       "    .dataframe tbody tr th {\n",
       "        vertical-align: top;\n",
       "    }\n",
       "\n",
       "    .dataframe thead th {\n",
       "        text-align: right;\n",
       "    }\n",
       "</style>\n",
       "<table border=\"1\" class=\"dataframe\">\n",
       "  <thead>\n",
       "    <tr style=\"text-align: right;\">\n",
       "      <th></th>\n",
       "      <th>Document</th>\n",
       "      <th>Topic</th>\n",
       "      <th>Name</th>\n",
       "      <th>CustomName</th>\n",
       "      <th>Representation</th>\n",
       "      <th>KeyBERT</th>\n",
       "      <th>OpenAI</th>\n",
       "      <th>MMR</th>\n",
       "      <th>POS</th>\n",
       "      <th>Representative_Docs</th>\n",
       "      <th>Top_n_words</th>\n",
       "      <th>Probability</th>\n",
       "      <th>Representative_document</th>\n",
       "    </tr>\n",
       "  </thead>\n",
       "  <tbody>\n",
       "    <tr>\n",
       "      <th>0</th>\n",
       "      <td>AI slop\\n\"AI slop\", often simply \"slop\", is a ...</td>\n",
       "      <td>0</td>\n",
       "      <td>0_ai_slop_content_generated</td>\n",
       "      <td>AI-Generated Content and Slop</td>\n",
       "      <td>[ai, slop, content, generated, facebook, image...</td>\n",
       "      <td>[slop, ai slop, ai generated, generative ai, s...</td>\n",
       "      <td>[AI-Generated Content and Slop]</td>\n",
       "      <td>[generated, facebook, ai generated, ai slop, t...</td>\n",
       "      <td>[slop, content, images, people, media, social,...</td>\n",
       "      <td>[- \"AI slop\" images are all over Facebook., Wh...</td>\n",
       "      <td>ai - slop - content - generated - facebook - i...</td>\n",
       "      <td>1.0</td>\n",
       "      <td>False</td>\n",
       "    </tr>\n",
       "    <tr>\n",
       "      <th>1</th>\n",
       "      <td>[1][4][5] Coined in the 2020s, the term has a ...</td>\n",
       "      <td>0</td>\n",
       "      <td>0_ai_slop_content_generated</td>\n",
       "      <td>AI-Generated Content and Slop</td>\n",
       "      <td>[ai, slop, content, generated, facebook, image...</td>\n",
       "      <td>[slop, ai slop, ai generated, generative ai, s...</td>\n",
       "      <td>[AI-Generated Content and Slop]</td>\n",
       "      <td>[generated, facebook, ai generated, ai slop, t...</td>\n",
       "      <td>[slop, content, images, people, media, social,...</td>\n",
       "      <td>[- \"AI slop\" images are all over Facebook., Wh...</td>\n",
       "      <td>ai - slop - content - generated - facebook - i...</td>\n",
       "      <td>1.0</td>\n",
       "      <td>False</td>\n",
       "    </tr>\n",
       "    <tr>\n",
       "      <th>2</th>\n",
       "      <td>[4]\\nIt has been variously defined as \"digital...</td>\n",
       "      <td>0</td>\n",
       "      <td>0_ai_slop_content_generated</td>\n",
       "      <td>AI-Generated Content and Slop</td>\n",
       "      <td>[ai, slop, content, generated, facebook, image...</td>\n",
       "      <td>[slop, ai slop, ai generated, generative ai, s...</td>\n",
       "      <td>[AI-Generated Content and Slop]</td>\n",
       "      <td>[generated, facebook, ai generated, ai slop, t...</td>\n",
       "      <td>[slop, content, images, people, media, social,...</td>\n",
       "      <td>[- \"AI slop\" images are all over Facebook., Wh...</td>\n",
       "      <td>ai - slop - content - generated - facebook - i...</td>\n",
       "      <td>1.0</td>\n",
       "      <td>False</td>\n",
       "    </tr>\n",
       "    <tr>\n",
       "      <th>3</th>\n",
       "      <td>[7]\\nJonathan Gilmore, a philosophy professor ...</td>\n",
       "      <td>0</td>\n",
       "      <td>0_ai_slop_content_generated</td>\n",
       "      <td>AI-Generated Content and Slop</td>\n",
       "      <td>[ai, slop, content, generated, facebook, image...</td>\n",
       "      <td>[slop, ai slop, ai generated, generative ai, s...</td>\n",
       "      <td>[AI-Generated Content and Slop]</td>\n",
       "      <td>[generated, facebook, ai generated, ai slop, t...</td>\n",
       "      <td>[slop, content, images, people, media, social,...</td>\n",
       "      <td>[- \"AI slop\" images are all over Facebook., Wh...</td>\n",
       "      <td>ai - slop - content - generated - facebook - i...</td>\n",
       "      <td>1.0</td>\n",
       "      <td>False</td>\n",
       "    </tr>\n",
       "    <tr>\n",
       "      <th>4</th>\n",
       "      <td>[8]\\nOrigin of the term\\n[edit]As early large ...</td>\n",
       "      <td>0</td>\n",
       "      <td>0_ai_slop_content_generated</td>\n",
       "      <td>AI-Generated Content and Slop</td>\n",
       "      <td>[ai, slop, content, generated, facebook, image...</td>\n",
       "      <td>[slop, ai slop, ai generated, generative ai, s...</td>\n",
       "      <td>[AI-Generated Content and Slop]</td>\n",
       "      <td>[generated, facebook, ai generated, ai slop, t...</td>\n",
       "      <td>[slop, content, images, people, media, social,...</td>\n",
       "      <td>[- \"AI slop\" images are all over Facebook., Wh...</td>\n",
       "      <td>ai - slop - content - generated - facebook - i...</td>\n",
       "      <td>1.0</td>\n",
       "      <td>False</td>\n",
       "    </tr>\n",
       "  </tbody>\n",
       "</table>\n",
       "</div>"
      ],
      "text/plain": [
       "                                            Document  Topic  \\\n",
       "0  AI slop\\n\"AI slop\", often simply \"slop\", is a ...      0   \n",
       "1  [1][4][5] Coined in the 2020s, the term has a ...      0   \n",
       "2  [4]\\nIt has been variously defined as \"digital...      0   \n",
       "3  [7]\\nJonathan Gilmore, a philosophy professor ...      0   \n",
       "4  [8]\\nOrigin of the term\\n[edit]As early large ...      0   \n",
       "\n",
       "                          Name                     CustomName  \\\n",
       "0  0_ai_slop_content_generated  AI-Generated Content and Slop   \n",
       "1  0_ai_slop_content_generated  AI-Generated Content and Slop   \n",
       "2  0_ai_slop_content_generated  AI-Generated Content and Slop   \n",
       "3  0_ai_slop_content_generated  AI-Generated Content and Slop   \n",
       "4  0_ai_slop_content_generated  AI-Generated Content and Slop   \n",
       "\n",
       "                                      Representation  \\\n",
       "0  [ai, slop, content, generated, facebook, image...   \n",
       "1  [ai, slop, content, generated, facebook, image...   \n",
       "2  [ai, slop, content, generated, facebook, image...   \n",
       "3  [ai, slop, content, generated, facebook, image...   \n",
       "4  [ai, slop, content, generated, facebook, image...   \n",
       "\n",
       "                                             KeyBERT  \\\n",
       "0  [slop, ai slop, ai generated, generative ai, s...   \n",
       "1  [slop, ai slop, ai generated, generative ai, s...   \n",
       "2  [slop, ai slop, ai generated, generative ai, s...   \n",
       "3  [slop, ai slop, ai generated, generative ai, s...   \n",
       "4  [slop, ai slop, ai generated, generative ai, s...   \n",
       "\n",
       "                            OpenAI  \\\n",
       "0  [AI-Generated Content and Slop]   \n",
       "1  [AI-Generated Content and Slop]   \n",
       "2  [AI-Generated Content and Slop]   \n",
       "3  [AI-Generated Content and Slop]   \n",
       "4  [AI-Generated Content and Slop]   \n",
       "\n",
       "                                                 MMR  \\\n",
       "0  [generated, facebook, ai generated, ai slop, t...   \n",
       "1  [generated, facebook, ai generated, ai slop, t...   \n",
       "2  [generated, facebook, ai generated, ai slop, t...   \n",
       "3  [generated, facebook, ai generated, ai slop, t...   \n",
       "4  [generated, facebook, ai generated, ai slop, t...   \n",
       "\n",
       "                                                 POS  \\\n",
       "0  [slop, content, images, people, media, social,...   \n",
       "1  [slop, content, images, people, media, social,...   \n",
       "2  [slop, content, images, people, media, social,...   \n",
       "3  [slop, content, images, people, media, social,...   \n",
       "4  [slop, content, images, people, media, social,...   \n",
       "\n",
       "                                 Representative_Docs  \\\n",
       "0  [- \"AI slop\" images are all over Facebook., Wh...   \n",
       "1  [- \"AI slop\" images are all over Facebook., Wh...   \n",
       "2  [- \"AI slop\" images are all over Facebook., Wh...   \n",
       "3  [- \"AI slop\" images are all over Facebook., Wh...   \n",
       "4  [- \"AI slop\" images are all over Facebook., Wh...   \n",
       "\n",
       "                                         Top_n_words  Probability  \\\n",
       "0  ai - slop - content - generated - facebook - i...          1.0   \n",
       "1  ai - slop - content - generated - facebook - i...          1.0   \n",
       "2  ai - slop - content - generated - facebook - i...          1.0   \n",
       "3  ai - slop - content - generated - facebook - i...          1.0   \n",
       "4  ai - slop - content - generated - facebook - i...          1.0   \n",
       "\n",
       "   Representative_document  \n",
       "0                    False  \n",
       "1                    False  \n",
       "2                    False  \n",
       "3                    False  \n",
       "4                    False  "
      ]
     },
     "execution_count": 53,
     "metadata": {},
     "output_type": "execute_result"
    }
   ],
   "source": [
    "# Get metadata about each document\n",
    "doc_info = topic_model.get_document_info(documents)\n",
    "doc_info.head()"
   ]
  },
  {
   "cell_type": "code",
   "execution_count": 88,
   "id": "6d4eda5b",
   "metadata": {},
   "outputs": [],
   "source": [
    "doc_info.to_feather('subset_documents_classified.feather')"
   ]
  },
  {
   "cell_type": "code",
   "execution_count": 54,
   "id": "1d0bd0c1",
   "metadata": {},
   "outputs": [
    {
     "data": {
      "text/html": [
       "<div>\n",
       "<style scoped>\n",
       "    .dataframe tbody tr th:only-of-type {\n",
       "        vertical-align: middle;\n",
       "    }\n",
       "\n",
       "    .dataframe tbody tr th {\n",
       "        vertical-align: top;\n",
       "    }\n",
       "\n",
       "    .dataframe thead th {\n",
       "        text-align: right;\n",
       "    }\n",
       "</style>\n",
       "<table border=\"1\" class=\"dataframe\">\n",
       "  <thead>\n",
       "    <tr style=\"text-align: right;\">\n",
       "      <th></th>\n",
       "      <th>Document</th>\n",
       "      <th>Topic</th>\n",
       "      <th>Name</th>\n",
       "      <th>CustomName</th>\n",
       "      <th>Representation</th>\n",
       "      <th>KeyBERT</th>\n",
       "      <th>OpenAI</th>\n",
       "      <th>MMR</th>\n",
       "      <th>POS</th>\n",
       "      <th>Representative_Docs</th>\n",
       "      <th>Top_n_words</th>\n",
       "      <th>Probability</th>\n",
       "      <th>Representative_document</th>\n",
       "    </tr>\n",
       "  </thead>\n",
       "  <tbody>\n",
       "    <tr>\n",
       "      <th>0</th>\n",
       "      <td>AI slop\\n\"AI slop\", often simply \"slop\", is a ...</td>\n",
       "      <td>0</td>\n",
       "      <td>0_ai_slop_content_generated</td>\n",
       "      <td>AI-Generated Content and Slop</td>\n",
       "      <td>[ai, slop, content, generated, facebook, image...</td>\n",
       "      <td>[slop, ai slop, ai generated, generative ai, s...</td>\n",
       "      <td>[AI-Generated Content and Slop]</td>\n",
       "      <td>[generated, facebook, ai generated, ai slop, t...</td>\n",
       "      <td>[slop, content, images, people, media, social,...</td>\n",
       "      <td>[- \"AI slop\" images are all over Facebook., Wh...</td>\n",
       "      <td>ai - slop - content - generated - facebook - i...</td>\n",
       "      <td>1.0</td>\n",
       "      <td>False</td>\n",
       "    </tr>\n",
       "    <tr>\n",
       "      <th>1</th>\n",
       "      <td>[1][4][5] Coined in the 2020s, the term has a ...</td>\n",
       "      <td>0</td>\n",
       "      <td>0_ai_slop_content_generated</td>\n",
       "      <td>AI-Generated Content and Slop</td>\n",
       "      <td>[ai, slop, content, generated, facebook, image...</td>\n",
       "      <td>[slop, ai slop, ai generated, generative ai, s...</td>\n",
       "      <td>[AI-Generated Content and Slop]</td>\n",
       "      <td>[generated, facebook, ai generated, ai slop, t...</td>\n",
       "      <td>[slop, content, images, people, media, social,...</td>\n",
       "      <td>[- \"AI slop\" images are all over Facebook., Wh...</td>\n",
       "      <td>ai - slop - content - generated - facebook - i...</td>\n",
       "      <td>1.0</td>\n",
       "      <td>False</td>\n",
       "    </tr>\n",
       "    <tr>\n",
       "      <th>2</th>\n",
       "      <td>[4]\\nIt has been variously defined as \"digital...</td>\n",
       "      <td>0</td>\n",
       "      <td>0_ai_slop_content_generated</td>\n",
       "      <td>AI-Generated Content and Slop</td>\n",
       "      <td>[ai, slop, content, generated, facebook, image...</td>\n",
       "      <td>[slop, ai slop, ai generated, generative ai, s...</td>\n",
       "      <td>[AI-Generated Content and Slop]</td>\n",
       "      <td>[generated, facebook, ai generated, ai slop, t...</td>\n",
       "      <td>[slop, content, images, people, media, social,...</td>\n",
       "      <td>[- \"AI slop\" images are all over Facebook., Wh...</td>\n",
       "      <td>ai - slop - content - generated - facebook - i...</td>\n",
       "      <td>1.0</td>\n",
       "      <td>False</td>\n",
       "    </tr>\n",
       "    <tr>\n",
       "      <th>3</th>\n",
       "      <td>[7]\\nJonathan Gilmore, a philosophy professor ...</td>\n",
       "      <td>0</td>\n",
       "      <td>0_ai_slop_content_generated</td>\n",
       "      <td>AI-Generated Content and Slop</td>\n",
       "      <td>[ai, slop, content, generated, facebook, image...</td>\n",
       "      <td>[slop, ai slop, ai generated, generative ai, s...</td>\n",
       "      <td>[AI-Generated Content and Slop]</td>\n",
       "      <td>[generated, facebook, ai generated, ai slop, t...</td>\n",
       "      <td>[slop, content, images, people, media, social,...</td>\n",
       "      <td>[- \"AI slop\" images are all over Facebook., Wh...</td>\n",
       "      <td>ai - slop - content - generated - facebook - i...</td>\n",
       "      <td>1.0</td>\n",
       "      <td>False</td>\n",
       "    </tr>\n",
       "    <tr>\n",
       "      <th>4</th>\n",
       "      <td>[8]\\nOrigin of the term\\n[edit]As early large ...</td>\n",
       "      <td>0</td>\n",
       "      <td>0_ai_slop_content_generated</td>\n",
       "      <td>AI-Generated Content and Slop</td>\n",
       "      <td>[ai, slop, content, generated, facebook, image...</td>\n",
       "      <td>[slop, ai slop, ai generated, generative ai, s...</td>\n",
       "      <td>[AI-Generated Content and Slop]</td>\n",
       "      <td>[generated, facebook, ai generated, ai slop, t...</td>\n",
       "      <td>[slop, content, images, people, media, social,...</td>\n",
       "      <td>[- \"AI slop\" images are all over Facebook., Wh...</td>\n",
       "      <td>ai - slop - content - generated - facebook - i...</td>\n",
       "      <td>1.0</td>\n",
       "      <td>False</td>\n",
       "    </tr>\n",
       "    <tr>\n",
       "      <th>...</th>\n",
       "      <td>...</td>\n",
       "      <td>...</td>\n",
       "      <td>...</td>\n",
       "      <td>...</td>\n",
       "      <td>...</td>\n",
       "      <td>...</td>\n",
       "      <td>...</td>\n",
       "      <td>...</td>\n",
       "      <td>...</td>\n",
       "      <td>...</td>\n",
       "      <td>...</td>\n",
       "      <td>...</td>\n",
       "      <td>...</td>\n",
       "    </tr>\n",
       "    <tr>\n",
       "      <th>1700</th>\n",
       "      <td>However, he says, the rise of ChatGPT and simi...</td>\n",
       "      <td>0</td>\n",
       "      <td>0_ai_slop_content_generated</td>\n",
       "      <td>AI-Generated Content and Slop</td>\n",
       "      <td>[ai, slop, content, generated, facebook, image...</td>\n",
       "      <td>[slop, ai slop, ai generated, generative ai, s...</td>\n",
       "      <td>[AI-Generated Content and Slop]</td>\n",
       "      <td>[generated, facebook, ai generated, ai slop, t...</td>\n",
       "      <td>[slop, content, images, people, media, social,...</td>\n",
       "      <td>[- \"AI slop\" images are all over Facebook., Wh...</td>\n",
       "      <td>ai - slop - content - generated - facebook - i...</td>\n",
       "      <td>1.0</td>\n",
       "      <td>False</td>\n",
       "    </tr>\n",
       "    <tr>\n",
       "      <th>1719</th>\n",
       "      <td>\"Artificial intelligence (AI) and its potentia...</td>\n",
       "      <td>0</td>\n",
       "      <td>0_ai_slop_content_generated</td>\n",
       "      <td>AI-Generated Content and Slop</td>\n",
       "      <td>[ai, slop, content, generated, facebook, image...</td>\n",
       "      <td>[slop, ai slop, ai generated, generative ai, s...</td>\n",
       "      <td>[AI-Generated Content and Slop]</td>\n",
       "      <td>[generated, facebook, ai generated, ai slop, t...</td>\n",
       "      <td>[slop, content, images, people, media, social,...</td>\n",
       "      <td>[- \"AI slop\" images are all over Facebook., Wh...</td>\n",
       "      <td>ai - slop - content - generated - facebook - i...</td>\n",
       "      <td>1.0</td>\n",
       "      <td>False</td>\n",
       "    </tr>\n",
       "    <tr>\n",
       "      <th>1720</th>\n",
       "      <td>\"However, the introduction of ChatGPT, which a...</td>\n",
       "      <td>0</td>\n",
       "      <td>0_ai_slop_content_generated</td>\n",
       "      <td>AI-Generated Content and Slop</td>\n",
       "      <td>[ai, slop, content, generated, facebook, image...</td>\n",
       "      <td>[slop, ai slop, ai generated, generative ai, s...</td>\n",
       "      <td>[AI-Generated Content and Slop]</td>\n",
       "      <td>[generated, facebook, ai generated, ai slop, t...</td>\n",
       "      <td>[slop, content, images, people, media, social,...</td>\n",
       "      <td>[- \"AI slop\" images are all over Facebook., Wh...</td>\n",
       "      <td>ai - slop - content - generated - facebook - i...</td>\n",
       "      <td>1.0</td>\n",
       "      <td>False</td>\n",
       "    </tr>\n",
       "    <tr>\n",
       "      <th>1721</th>\n",
       "      <td>\"I believe that generative AI has the potentia...</td>\n",
       "      <td>0</td>\n",
       "      <td>0_ai_slop_content_generated</td>\n",
       "      <td>AI-Generated Content and Slop</td>\n",
       "      <td>[ai, slop, content, generated, facebook, image...</td>\n",
       "      <td>[slop, ai slop, ai generated, generative ai, s...</td>\n",
       "      <td>[AI-Generated Content and Slop]</td>\n",
       "      <td>[generated, facebook, ai generated, ai slop, t...</td>\n",
       "      <td>[slop, content, images, people, media, social,...</td>\n",
       "      <td>[- \"AI slop\" images are all over Facebook., Wh...</td>\n",
       "      <td>ai - slop - content - generated - facebook - i...</td>\n",
       "      <td>1.0</td>\n",
       "      <td>False</td>\n",
       "    </tr>\n",
       "    <tr>\n",
       "      <th>1736</th>\n",
       "      <td>Elsewhere, Microsoft now offers generative AI ...</td>\n",
       "      <td>0</td>\n",
       "      <td>0_ai_slop_content_generated</td>\n",
       "      <td>AI-Generated Content and Slop</td>\n",
       "      <td>[ai, slop, content, generated, facebook, image...</td>\n",
       "      <td>[slop, ai slop, ai generated, generative ai, s...</td>\n",
       "      <td>[AI-Generated Content and Slop]</td>\n",
       "      <td>[generated, facebook, ai generated, ai slop, t...</td>\n",
       "      <td>[slop, content, images, people, media, social,...</td>\n",
       "      <td>[- \"AI slop\" images are all over Facebook., Wh...</td>\n",
       "      <td>ai - slop - content - generated - facebook - i...</td>\n",
       "      <td>1.0</td>\n",
       "      <td>False</td>\n",
       "    </tr>\n",
       "  </tbody>\n",
       "</table>\n",
       "<p>923 rows × 13 columns</p>\n",
       "</div>"
      ],
      "text/plain": [
       "                                               Document  Topic  \\\n",
       "0     AI slop\\n\"AI slop\", often simply \"slop\", is a ...      0   \n",
       "1     [1][4][5] Coined in the 2020s, the term has a ...      0   \n",
       "2     [4]\\nIt has been variously defined as \"digital...      0   \n",
       "3     [7]\\nJonathan Gilmore, a philosophy professor ...      0   \n",
       "4     [8]\\nOrigin of the term\\n[edit]As early large ...      0   \n",
       "...                                                 ...    ...   \n",
       "1700  However, he says, the rise of ChatGPT and simi...      0   \n",
       "1719  \"Artificial intelligence (AI) and its potentia...      0   \n",
       "1720  \"However, the introduction of ChatGPT, which a...      0   \n",
       "1721  \"I believe that generative AI has the potentia...      0   \n",
       "1736  Elsewhere, Microsoft now offers generative AI ...      0   \n",
       "\n",
       "                             Name                     CustomName  \\\n",
       "0     0_ai_slop_content_generated  AI-Generated Content and Slop   \n",
       "1     0_ai_slop_content_generated  AI-Generated Content and Slop   \n",
       "2     0_ai_slop_content_generated  AI-Generated Content and Slop   \n",
       "3     0_ai_slop_content_generated  AI-Generated Content and Slop   \n",
       "4     0_ai_slop_content_generated  AI-Generated Content and Slop   \n",
       "...                           ...                            ...   \n",
       "1700  0_ai_slop_content_generated  AI-Generated Content and Slop   \n",
       "1719  0_ai_slop_content_generated  AI-Generated Content and Slop   \n",
       "1720  0_ai_slop_content_generated  AI-Generated Content and Slop   \n",
       "1721  0_ai_slop_content_generated  AI-Generated Content and Slop   \n",
       "1736  0_ai_slop_content_generated  AI-Generated Content and Slop   \n",
       "\n",
       "                                         Representation  \\\n",
       "0     [ai, slop, content, generated, facebook, image...   \n",
       "1     [ai, slop, content, generated, facebook, image...   \n",
       "2     [ai, slop, content, generated, facebook, image...   \n",
       "3     [ai, slop, content, generated, facebook, image...   \n",
       "4     [ai, slop, content, generated, facebook, image...   \n",
       "...                                                 ...   \n",
       "1700  [ai, slop, content, generated, facebook, image...   \n",
       "1719  [ai, slop, content, generated, facebook, image...   \n",
       "1720  [ai, slop, content, generated, facebook, image...   \n",
       "1721  [ai, slop, content, generated, facebook, image...   \n",
       "1736  [ai, slop, content, generated, facebook, image...   \n",
       "\n",
       "                                                KeyBERT  \\\n",
       "0     [slop, ai slop, ai generated, generative ai, s...   \n",
       "1     [slop, ai slop, ai generated, generative ai, s...   \n",
       "2     [slop, ai slop, ai generated, generative ai, s...   \n",
       "3     [slop, ai slop, ai generated, generative ai, s...   \n",
       "4     [slop, ai slop, ai generated, generative ai, s...   \n",
       "...                                                 ...   \n",
       "1700  [slop, ai slop, ai generated, generative ai, s...   \n",
       "1719  [slop, ai slop, ai generated, generative ai, s...   \n",
       "1720  [slop, ai slop, ai generated, generative ai, s...   \n",
       "1721  [slop, ai slop, ai generated, generative ai, s...   \n",
       "1736  [slop, ai slop, ai generated, generative ai, s...   \n",
       "\n",
       "                               OpenAI  \\\n",
       "0     [AI-Generated Content and Slop]   \n",
       "1     [AI-Generated Content and Slop]   \n",
       "2     [AI-Generated Content and Slop]   \n",
       "3     [AI-Generated Content and Slop]   \n",
       "4     [AI-Generated Content and Slop]   \n",
       "...                               ...   \n",
       "1700  [AI-Generated Content and Slop]   \n",
       "1719  [AI-Generated Content and Slop]   \n",
       "1720  [AI-Generated Content and Slop]   \n",
       "1721  [AI-Generated Content and Slop]   \n",
       "1736  [AI-Generated Content and Slop]   \n",
       "\n",
       "                                                    MMR  \\\n",
       "0     [generated, facebook, ai generated, ai slop, t...   \n",
       "1     [generated, facebook, ai generated, ai slop, t...   \n",
       "2     [generated, facebook, ai generated, ai slop, t...   \n",
       "3     [generated, facebook, ai generated, ai slop, t...   \n",
       "4     [generated, facebook, ai generated, ai slop, t...   \n",
       "...                                                 ...   \n",
       "1700  [generated, facebook, ai generated, ai slop, t...   \n",
       "1719  [generated, facebook, ai generated, ai slop, t...   \n",
       "1720  [generated, facebook, ai generated, ai slop, t...   \n",
       "1721  [generated, facebook, ai generated, ai slop, t...   \n",
       "1736  [generated, facebook, ai generated, ai slop, t...   \n",
       "\n",
       "                                                    POS  \\\n",
       "0     [slop, content, images, people, media, social,...   \n",
       "1     [slop, content, images, people, media, social,...   \n",
       "2     [slop, content, images, people, media, social,...   \n",
       "3     [slop, content, images, people, media, social,...   \n",
       "4     [slop, content, images, people, media, social,...   \n",
       "...                                                 ...   \n",
       "1700  [slop, content, images, people, media, social,...   \n",
       "1719  [slop, content, images, people, media, social,...   \n",
       "1720  [slop, content, images, people, media, social,...   \n",
       "1721  [slop, content, images, people, media, social,...   \n",
       "1736  [slop, content, images, people, media, social,...   \n",
       "\n",
       "                                    Representative_Docs  \\\n",
       "0     [- \"AI slop\" images are all over Facebook., Wh...   \n",
       "1     [- \"AI slop\" images are all over Facebook., Wh...   \n",
       "2     [- \"AI slop\" images are all over Facebook., Wh...   \n",
       "3     [- \"AI slop\" images are all over Facebook., Wh...   \n",
       "4     [- \"AI slop\" images are all over Facebook., Wh...   \n",
       "...                                                 ...   \n",
       "1700  [- \"AI slop\" images are all over Facebook., Wh...   \n",
       "1719  [- \"AI slop\" images are all over Facebook., Wh...   \n",
       "1720  [- \"AI slop\" images are all over Facebook., Wh...   \n",
       "1721  [- \"AI slop\" images are all over Facebook., Wh...   \n",
       "1736  [- \"AI slop\" images are all over Facebook., Wh...   \n",
       "\n",
       "                                            Top_n_words  Probability  \\\n",
       "0     ai - slop - content - generated - facebook - i...          1.0   \n",
       "1     ai - slop - content - generated - facebook - i...          1.0   \n",
       "2     ai - slop - content - generated - facebook - i...          1.0   \n",
       "3     ai - slop - content - generated - facebook - i...          1.0   \n",
       "4     ai - slop - content - generated - facebook - i...          1.0   \n",
       "...                                                 ...          ...   \n",
       "1700  ai - slop - content - generated - facebook - i...          1.0   \n",
       "1719  ai - slop - content - generated - facebook - i...          1.0   \n",
       "1720  ai - slop - content - generated - facebook - i...          1.0   \n",
       "1721  ai - slop - content - generated - facebook - i...          1.0   \n",
       "1736  ai - slop - content - generated - facebook - i...          1.0   \n",
       "\n",
       "      Representative_document  \n",
       "0                       False  \n",
       "1                       False  \n",
       "2                       False  \n",
       "3                       False  \n",
       "4                       False  \n",
       "...                       ...  \n",
       "1700                    False  \n",
       "1719                    False  \n",
       "1720                    False  \n",
       "1721                    False  \n",
       "1736                    False  \n",
       "\n",
       "[923 rows x 13 columns]"
      ]
     },
     "execution_count": 54,
     "metadata": {},
     "output_type": "execute_result"
    }
   ],
   "source": [
    "topic_number = 0\n",
    "filtered_docs = doc_info[doc_info[\"Topic\"] == topic_number]\n",
    "filtered_docs"
   ]
  },
  {
   "cell_type": "code",
   "execution_count": 55,
   "id": "f2772fe1",
   "metadata": {},
   "outputs": [
    {
     "data": {
      "text/plain": [
       "['AI slop\\n\"AI slop\", often simply \"slop\", is a term for low-quality media, including writing and images, made using generative artificial intelligence technology, characterized by an inherent lack of effort, logic, or purpose.',\n",
       " '[1][4][5] Coined in the 2020s, the term has a pejorative connotation akin to \"spam\".',\n",
       " '[4]\\nIt has been variously defined as \"digital clutter\", \"filler content produced by AI tools that prioritize speed and quantity over substance and quality\",[6] and \"shoddy or unwanted AI content in social media, art, books and, increasingly, in search results\".',\n",
       " '[7]\\nJonathan Gilmore, a philosophy professor at the City University of New York, describes the \"incredibly banal, realistic style\" of AI slop as being \"very easy to process\".',\n",
       " '[8]\\nOrigin of the term\\n[edit]As early large language models (LLMs) and image diffusion models accelerated the creation of high-volume but low-quality written content and images, discussion commenced among journalists and on social platforms for the appropriate term for the influx of material.',\n",
       " 'Terms proposed included \"AI garbage\", \"AI pollution\", and \"AI-generated dross\".',\n",
       " '[5] Early uses of the term \"slop\" as a descriptor for low-grade AI material apparently came in reaction to the release of AI image generators in 2022.',\n",
       " 'Its early use has been noted among 4chan, Hacker News, and YouTube commentators as a form of in-group slang.',\n",
       " '[7]\\nThe British computer programmer Simon Willison is credited with being an early champion of the term \"slop\" in the mainstream,[1][7] having used it on his personal blog in May 2024.',\n",
       " '[9] However, he has said it was in use long before he began pushing for the term.',\n",
       " \"[7]\\nThe term gained increased popularity in the second quarter of 2024 in part because of Google's use of its Gemini AI model to generate responses to search queries,[7] and was widely criticized in media headlines during the fourth quarter of 2024.\",\n",
       " '[1][4]\\nOn social media\\n[edit]AI image and video slop proliferated on social media in part because it was revenue-generating for its creators on Facebook and TikTok, with the issue affecting Facebook most notably.',\n",
       " 'This incentivizes individuals from developing countries to create images that appeal to audiences in the United States which attract higher advertising rates.',\n",
       " \"[10][11][12]\\nThe journalist Jason Koebler speculated that the bizarre nature of some of the content may be due to the creators using Hindi, Urdu, and Vietnamese prompts (languages which are underrepresented in the model's training data), or using erratic speech-to-text methods to translate their intentions into English.\",\n",
       " '[10]\\nSpeaking to New York magazine, a Kenyan creator of slop images described giving ChatGPT prompts such as \"WRITE ME 10 PROMPT picture OF JESUS WHICH WILLING BRING HIGH ENGAGEMENT ON FACEBOOK [sic]\", and then feeding those created prompts into a text-to-image AI service such as Midjourney.',\n",
       " '[4]\\nIn politics\\n[edit]The examples and perspective in this section deal primarily with the United States and do not represent a worldwide view of the subject.',\n",
       " '(April 2025) |\\nIn August 2024, The Atlantic noted that AI slop was becoming associated with the political right in the United States, who were using it for shitposting and engagement farming on social media, with the technology offering \"cheap, fast, on-demand fodder for content\".',\n",
       " '[13]\\nAI slop is frequently used in political campaigns in an attempt at gaining attention through content farming.',\n",
       " '[14] In August 2024, the American politician Donald Trump posted a series of AI-generated images on his social media platform, Truth Social, that portrayed fans of the singer Taylor Swift in \"Swifties for Trump\" T-shirts, as well as a photo of the singer herself appearing to endorse Trump\\'s 2024 presidential campaign.',\n",
       " 'The images originated from the conservative Twitter account @amuse, which posted numerous AI slop images leading up to the 2024 United States elections that were shared by other high-profile figures within the American Republican Party, such as Elon Musk, who has publicly endorsed the utilization of generative AI, furthering this association.',\n",
       " '[15]\\nIn the aftermath of Hurricane Helene in the United States, members of the Republican Party circulated an AI-generated image of a young girl holding a puppy in a flood, and used it as evidence of the failure of President Joe Biden to respond to the disaster.',\n",
       " '[16][3] Some, like Amy Kremer, shared the image on social media even while acknowledging that it was not genuine.',\n",
       " '[26] The Italian brainrot AI trend was widely adopted by advertisers to adjust well to younger audiences.',\n",
       " '[30][31] The listing went viral on TikTok and Instagram.',\n",
       " '[31] One analyst characterized the website, which appeared to use AI-generated staff pictures, as likely using artificial intelligence \"to create content quickly and cheaply where opportunities are found\".',\n",
       " '[33] The site\\'s owner said that \"We asked ChatGPT to write the article for us, but it wasn\\'t ChatGPT by itself.\"',\n",
       " '[34]\\nIn books\\n[edit]Online booksellers and library vendors now have many titles that are written by AI and are not curated into collections by librarians.',\n",
       " 'The digital media provider Hoopla, which supplies libraries with ebooks and downloadable content, has generative AI books with fictional authors and dubious quality, which cost libraries money when checked out by unsuspecting patrons.',\n",
       " 'Unfortunately I do not have enough information to summarize further within the provided guidelines.',\n",
       " '[54]\\nSee also\\n[edit]- AI boom – Ongoing period of rapid progress in AI\\n- Content farm – Organizations that mass produce content\\n- Dead Internet theory – Conspiracy theory on online bot activity\\n- Elsagate – Controversy concerning a genre of YouTube videos\\n- Enshittification – Systematic decline in online platform quality\\n- Hallucination (artificial intelligence) – Erroneous material generated by AI\\n- Italian brainrot – Series of 2025 Internet memes\\n- Low culture – Term for forms of popular culture with mass appeal\\nReferences\\n[edit]- ^ a b c d Hern, Alex; Milmo, Dan (19 May 2024).',\n",
       " '\"Spam, junk ... slop?',\n",
       " 'The latest wave of AI behind the \\'zombie internet\\'\".',\n",
       " '\"Why doesn\\'t Facebook just ban AI slop like Shrimp Jesus?\".',\n",
       " '\"Why the internet is filling up with nonsense \\'AI slop\\'\".',\n",
       " '\"Drowning in Slop\".',\n",
       " '- ^ a b \"How Long Will A.I.',\n",
       " '\\'s \\'Slop\\' Era Last?\".',\n",
       " '\"How Businesses Can Avoid AI Slop\".',\n",
       " 'Entrepreneur.',\n",
       " '- ^ a b c d e \"First Came \\'Spam.\\'',\n",
       " 'Now, With A.I., We\\'ve Got \\'Slop\\'\".',\n",
       " '- ^ \"The deluge of bonkers AI art is literally surreal\".',\n",
       " '- ^ \"Slop is the new name for unwanted AI-generated content\".',\n",
       " 'simonwillison.net.',\n",
       " '\"Where Facebook\\'s AI Slop Comes From\".',\n",
       " '\"\\'Side job, self-employed, high-paid\\': behind the AI slop flooding TikTok and Facebook\".',\n",
       " '\"Facebook\\'s Twisted Incentives Created Its AI Slop Era\".',\n",
       " '\"The MAGA Aesthetic Is AI Slop\".',\n",
       " '\"The Slop Candidate\".',\n",
       " '\"How did Donald Trump end up posting Taylor Swift deepfakes?\".',\n",
       " '- ^ \"Gullible Trump Cronies Losing Their Minds Over Fake AI Slop on Twitter\".',\n",
       " '\"Hurricane Helene and the \\'Fuck It\\' Era of AI-Generated Slop\".',\n",
       " '\"I\\'M RUNNING OUT OF WAYS TO EXPLAIN HOW BAD THIS IS\".',\n",
       " '\"AI slop: what Labour, Spotify and Coca-Cola can teach us in 2025\".',\n",
       " '- ^ \"Why Brands Are Embracing \\'Italian Brainrot\\' to Go Viral on TikTok and Win Over Gen Z\".',\n",
       " '\"AI-Generated Slop Is Already In Your Public Library\".',\n",
       " '\"AI in the Creative Industries: Strikes, Debates and Implications\".',\n",
       " '20th International Symposium of Communication in the Millennium: 193–199 – via ResearchGate.',\n",
       " 'Futurism.',\n",
       " '\"Not even Amazon is safe from the rise of AI \\'slop\\'\".',\n",
       " 'Futurism.',\n",
       " 'Your email inbox is full of spam.',\n",
       " 'Your letterbox is full of junk mail.',\n",
       " 'Now, your web browser has its own affliction: slop.',\n",
       " '“Slop” is what you get when you shove artificial intelligence-generated material up on the web for anyone to view.',\n",
       " 'Unlike a chatbot, the slop isn’t interactive, and is rarely intended to actually answer readers’ questions or serve their needs.',\n",
       " 'Instead, it functions mostly to create the appearance of human-made content, benefit from advertising revenue and steer search engine attention towards other sites.',\n",
       " 'Just like spam, almost no one wants to view slop, but the economics of the internet lead to its creation anyway.',\n",
       " 'AI models make it trivial to automatically generate vast quantities of text or images, providing an answer to any imaginable search query, uploading endless shareable landscapes and inspirational stories, and creating an army of supportive comments.',\n",
       " 'If just a handful of users land on the site, reshare the meme or click through the adverts hosted, the cost of its creation pays off.',\n",
       " 'But like spam, its overall effect is negative: the lost time and effort of users who now have to wade through slop to find the content they’re actually seeking far outweighs the profit to the slop creator.',\n",
       " '“I think having a name for this is really important, because it gives people a concise way to talk about the problem,” says the developer Simon Willison, one of the early proponents of the term “slop”.',\n",
       " '“Before the term ‘spam’ entered general use it wasn’t necessarily clear to everyone that unwanted marketing messages were a bad way to behave.',\n",
       " 'I’m hoping ‘slop’ has the same impact – it can make it clear to people that generating and publishing unreviewed AI-generated content is bad behaviour.”\\nSlop is most obviously harmful when it is just plain wrong.',\n",
       " 'Willison pointed to an AI-generated Microsoft Travel article that listed the “Ottawa food bank” as a must-see attraction in the Canadian capital as a perfect example of the problem.',\n",
       " 'Occasionally, a piece of slop is so useless that it goes viral in its own right, like the careers advice article that earnestly explains the punchline to a decades-old newspaper comic: “they pay me in woims”.',\n",
       " '“While the precise meaning of ‘They Pay Me in Woims’ remains ambiguous, various interpretations have emerged, ranging from a playful comment on work-life balance to a deeper exploration of our perceived reality,” the slop begins.',\n",
       " 'AI-generated books have become a problem too.',\n",
       " 'A prominent example came when amateur mushroom pickers were recently warned to avoid foraging books sold on Amazon that appeared to have been written by chatbots and contained dangerous advice for anyone hoping to discern a lethal fungus from an edible one.',\n",
       " 'Image-generated slop has also blossomed on Facebook, as images of Jesus Christ with prawns for limbs, children in plastic bottle-cars, fake dream homes and improbably old women claiming to have baked their 122nd birthday cake garner thousands of shares.',\n",
       " 'Jason Koebler of the tech news site 404 Media believes the trend represents what he calls the “zombie internet”.',\n",
       " 'The rise of slop, he says, has turned the social network into a space where “a mix of bots, humans and accounts that were once humans but aren’t any more mix together to form a disastrous website where there is little social connection at all.”\\nNick Clegg, the president of global affairs at Facebook’s parent company, Meta, wrote in February that the social network is training its systems to identify AI-made content.',\n",
       " '“As the difference between human and synthetic content gets blurred, people want to know where the boundary lies,” he wrote.',\n",
       " 'The problem has begun to worry the social media industry’s main revenue source: the advertising agencies who pay to place ads next to content.',\n",
       " 'Farhad Divecha, the managing director of UK-based digital marketing agency AccuraCast, says he is now encountering cases where users are mistakenly flagging ads as AI-made slop when they are not.',\n",
       " '“We have seen instances where people have commented that an advert was AI-generated rubbish when it was not,” he says, adding that it could become a problem for the social media industry if consumers “start to feel they are being served rubbish all the time”.',\n",
       " 'Tackling spam in inboxes required an enormous cross-industry effort and led to a fundamental change in the nature of email.',\n",
       " 'Big webmail providers like Gmail aggressively monitor their own platforms to crack down on spammers and are increasingly suspicious of emails arriving from untrusted email servers.',\n",
       " 'They also apply complex, largely undocumented, AI systems to try to detect spam directly, in a constant cat-and-mouse game with the spammers themselves.',\n",
       " 'For slop, the future is less rosy: the world’s largest companies have gone from gamekeeper to poacher.',\n",
       " 'Last week, Google announced an ambitious plan to add AI-made answers to the top of some search results, with US-based users the first to experience a full rollout of the “AI Overviews” feature.',\n",
       " 'It will include links as well, but users who want to limit the response to just a selection of links to other websites will be able to find them – by clicking through to “web” on the search engine, demoted to sit beside “images” and “maps” on the list of options.',\n",
       " '“We’ve added this after hearing from some that there are times when they’d prefer to just see links to webpages in their search results,” wrote Danny Sullivan, the company’s search liaison.',\n",
       " 'Google says the AI overviews have strong safety guardrails.',\n",
       " 'Elsewhere on the web though, slop is spreading.',\n",
       " '- \"AI slop\" images are all over Facebook.',\n",
       " \"They're surreal and sometimes grotesque.\",\n",
       " 'Pure engagement bait.',\n",
       " \"- There's even an X account dedicated to posting the most ridiculous stuff.\",\n",
       " \"- So why isn't Facebook cracking down?\",\n",
       " \"Jesus' head on a fried chicken.\",\n",
       " 'A woman bicycling with a basket full of babies and burritos.',\n",
       " 'This is all \"AI slop,\" a new term describing the sudden flood of garbage AI-generated content, from e-books to viral photos.',\n",
       " 'Slop is everywhere on the internet, but its purest version exists on Facebook.',\n",
       " 'This is the Shrimp Jesus kind of slop: bizarre, obviously fake, and sometimes vaguely unsettling in a trypophobia-triggering way.',\n",
       " \"Common themes involve old people holding a birthday cake asking you to wish them a happy birthday; babies doing things babies shouldn't do; snakes eating buses, bikes, or other vehicles overloaded with hundreds of babies or some other cargo; soldiers with prosthetic legs; women with missing limbs and huge busts; and Jesus.\",\n",
       " 'The images are often sort of eerily exploitative.',\n",
       " 'These tend to be posted on Facebook pages with generic-sounding names and captions that don\\'t necessarily reflect the photo, like \"why don\\'t photos like this ever trend,\" or \"beautiful cabin crew,\" or \"Scarlett Johansson\" for an image of Jesus built into the hood of a car.',\n",
       " 'Why slop?',\n",
       " 'The best explanation is that the Facebook pages posting these are making bait for scam targets, helping scammers identify gullible people in the comments who they can extract money from.',\n",
       " 'Another possibility is that posting these images is a good tactic to build up a large page audience, which can be lucrative.',\n",
       " 'The vague similarities among the pages suggest the AI slop is being posted by a network of shady actors based in countries outside the US.',\n",
       " \"It's spam-adjacent stuff — if not outright spam.\",\n",
       " \"This slop is sloppy enough that it can sometimes be very funny — and there's even an X account, Insane Facebook AI Slop, dedicated to cataloging it.\",\n",
       " \"It's embarrassing to Facebook that people on X — X!!!\",\n",
       " \"— are laughing at Meta's poor content moderation.\",\n",
       " 'This has been going on for quite a few months now.',\n",
       " '404 Media, which has been diligently covering this, has described how these images are part of an AI-fueled \"zombie internet\" full of bots talking to bots.',\n",
       " \"Not too long ago, I speculated about why Meta hadn't cracked down, but considering nothing has seemed to change, I find myself wondering yet again …\\nWhy doesn't Facebook just ban this slop?\",\n",
       " \"Here are a few of my theories:\\n- These images don't technically violate any rules — no nudity or other forbidden imagery.\",\n",
       " '- Facebook did make a warning label to note that an image may have been made with AI.',\n",
       " \"- Users actually enjoy this content — you see plenty of people in the comments who are probably duped and think it's a real image, or maybe just an interesting artistic rendition.\",\n",
       " 'Why mess with content people like?',\n",
       " '- Facebook does ban this stuff, but only at an account level when the account posting it engages in obvious spam tactics.',\n",
       " 'But not all the accounts are spamming.',\n",
       " \"- Slop is often scam-adjacent, but the accounts posting it may not directly be the ones doing the scams, so they don't get banned.\",\n",
       " '- Facebook worries that banning this kind of AI content will set a bad precedent because it wants to encourage people to make stuff with its own Llama 3 tools.',\n",
       " \"- Facebook doesn't like the AI slop but has bigger things to worry about.\",\n",
       " '- Facebook has stopped trying.',\n",
       " 'This is what Jason Koebler from 404 Media speculates.',\n",
       " \"Meta's previous commitments to working with researchers and academics have fizzled away, and the scrutiny over content moderation (helped by Elon Musk lowering the bar to the basement) has shifted.\",\n",
       " 'Meta is penny-pinching and focusing on the newest shiny thing (AI tools, Instagram, the metaverse) and cares less and less about Facebook, this theory goes.',\n",
       " \"Basically, they don't give a shit anymore.\",\n",
       " 'I imagine some combination of all these things may be true to some degree.',\n",
       " \"A representative for Meta didn't reply to questions about why they don't simply ban AI slop.\",\n",
       " \"(I had also recently asked a vice president of product at Meta about why they don't just ban this slop, and he sort of changed the subject; it seemed like maybe he wasn't sure what I was talking about.)\",\n",
       " 'Facebook has gone through so many different flavors of spammy/scammy engagement bait, from Minions memes to videos from magicians to actually dangerous fake news and extremist groups.',\n",
       " \"If the AI slop isn't suggesting you get together in real life and overthrow the government, hey, Facebook has seen way worse.\",\n",
       " 'Elon Musk riding a UFO, “Shrimp Jesus” and tiny children baking impossibly perfect birthday cakes.',\n",
       " 'These are just three examples of bizarre AI-generated imagery that has taken over the internet in the past year.',\n",
       " 'Across Facebook, X, Instagram and TikTok, surreal AI images have been plaguing news feeds, typically accompanied by nonsensical captions in broken English.',\n",
       " 'Dubbed “AI slop”, there is no hiding from the manipulated images and videos, with their prominence even leading to the Oxford University Press (OUP) naming “slop” as a contender for its word of the year.',\n",
       " 'Slop, the OUP writes, is “art, writing, or other content generated using artificial intelligence, shared and distributed online in an indiscriminate or intrusive way, characterised as being of low quality, inauthentic, or inaccurate”.',\n",
       " 'There have long been fears that AI image tools could be used to create highly convincing “deepfakes” and images or videos that could help spread disinformation or influence elections.',\n",
       " 'But so far, the most viral AI images have been obviously fake and downright strange.',\n",
       " 'Free software for creating images and videos has led to a surge in slop, driven by scammers, spammers and the occasional genuine user seeking to go viral.',\n",
       " 'Facebook’s most recent report from its Transparency Center reveals that two of the top five most widely viewed images on the network in the three months to September were AI-generated – viewed 38.6m and 35.8m times respectively.',\n",
       " 'Matt Navara, a social media consultant, says the novelty of these posts has quickly worn thin for many of Facebook’s billions of users.',\n",
       " '“The proliferation of low-quality or spammy AI content risks cluttering feeds and diminishing overall user satisfaction,” he says.',\n",
       " '“I’m seeing little evidence yet that users are actively demanding such content in their feeds.”\\nIn March, Facebook users began to notice a flood of images featuring Jesus Christ mixed with a crustacean rising from the sea.',\n",
       " 'These “Shrimp Jesus” posts garnered hundreds of thousands of interactions and tens of millions of views.',\n",
       " 'Other weird AI trends soon emerged, including African women building fruit sculptures and young children showing off elaborate birthday cakes with the caption: “This is my first cake”.',\n",
       " 'Slop started seeping into Neil Clarke’s life in late 2022.',\n",
       " 'Something strange was happening at Clarkesworld, the magazine Clarke had founded in 2006 and built into a pillar of the world of speculative fiction.',\n",
       " 'Submissions were increasing rapidly, but “there was something off about them,” he told me recently.',\n",
       " 'He summarized a typical example: “Usually, it begins with the phrase ‘In the year 2250-something’ and then it goes on to say the Earth’s environment is in collapse and there are only three scientists who can save us.',\n",
       " 'Then it describes them in great detail, each one with its own paragraph.',\n",
       " 'And then — they’ve solved it!',\n",
       " 'You know, it skips a major plot element, and the final scene is a celebration out of the ending of Star Wars.” Clarke said he had received “dozens of this story in various incarnations.”\\nThese are prime examples of what is now known as slop: a term of art, akin to spam, for low-rent, scammy garbage generated by artificial intelligence and increasingly prevalent across the internet — and beyond.',\n",
       " 'From their weird narrative instincts and inert prose, Clarke realized the stories came straight from ChatGPT.',\n",
       " 'Sometimes they would arrive with the original prompt included, which was often as simple as “Write a 1,000-word science-fiction story.”\\nIt was relatively easy to identify an AI-generated submission, but that required reading thousands (a “wall of noise”) and manually sorting them.',\n",
       " 'Clarke compared the problem to turning off the spam filter and trying to read your email: “Okay, now multiply that by ten because that’s the ratio that we were getting.” Within weeks, the problem became unmanageable.',\n",
       " '“We had reached the point where we were on track to receive as many generated submissions as legitimate ones,” Clarke told me.',\n",
       " 'Eventually, on February 20, he made the decision to close submissions temporarily.',\n",
       " 'Clarkesworld had become one of the first victims of AI slop.',\n",
       " 'In the nearly two years since, a rising tide of slop has begun to swamp most of what we think of as the internet, overrunning the biggest platforms with cheap fakes and drivel, seeming to crowd out human creativity and intentionality with weird AI crap.',\n",
       " 'On Facebook, enigmatic pages post disturbing images of maimed children and alien Jesuses; on Twitter, bots cluster by the thousands, chipperly and supportively tweeting incoherent banalities at one another; on Spotify, networks of eerily similar and wholly imaginary country and electronic artists glut playlists with bizarre and lifeless songs; on Kindle, shoddy books with stilted, error-ridden titles (The Spellbound Quest: Students Perilous Journey to Correct Their Mistake) are advertised on idle lock screens with blandly uncanny illustrations.',\n",
       " 'If it were all just a slightly more efficient form of spam, distracting and deceiving Facebook-addled grandparents, that would be one thing.',\n",
       " 'But the slop tide threatens some of the key functions of the web, clogging search results with nonsense, overwhelming small institutions like Clarkesworld, and generally polluting the already fragile information ecosystem of the internet.',\n",
       " 'Last week, Robyn Speer, the creator of WordFreq, a database that tracks word frequency online, announced that she would no longer be updating it owing to the torrent of slop.',\n",
       " '“I don’t think anyone has reliable information about post-2021 language usage by humans,” Speer wrote.',\n",
       " 'There is a fear that as slop takes over, the large language models, or LLMs, that train on internet text will “collapse” into ineffectiveness — garbage in, garbage out.',\n",
       " 'But even this horror story is a kind of wishful thinking: Recent research suggests that as long as an LLM’s training corpus contains at least 10 percent non-synthetic — that is, human — output, it can continue producing slop forever.',\n",
       " 'Worse than the havoc it wreaks on the internet, slop easily escapes the confines of the computer and enters off-screen systems in exasperating, troubling, and dangerous ways.',\n",
       " 'In June, researchers published a study that concluded that one-tenth of the academic papers they examined “were processed with LLMs,” calling into question not just those individual papers but whole networks of citation and reference on which scientific knowledge relies.',\n",
       " 'Derek Sullivan, a cataloguer at a public-library system in Pennsylvania, told me that AI-generated books had begun to cross his desk regularly.',\n",
       " 'Though he first noticed the problem thanks to a recipe book by a nonexistent author that featured “a meal plan that told you to eat straight marinara sauce for lunch,” the slop books he sees often cover highly consequential subjects like living with fibromyalgia or raising children with ADHD.',\n",
       " 'In the worst version of the slop future, your overwhelmed and underfunded local library is half-filled with these unchecked, unreviewed, unedited AI-generated artifacts, dispensing hallucinated facts and inhuman advice and distinguishable from their human-authored competition only through ceaseless effort.',\n",
       " 'Clarkesworld was, luckily, only temporarily disabled by the slop deluge; over the course of March 2023, with the help of volunteers, Clarke built a “very rudimentary spam filter,” and by the end of the month the magazine was able to reopen submissions.',\n",
       " 'Clarke doesn’t like to describe how the filter works for fear of giving too much away to the spammers, but “it’s holding things at bay,” he said.',\n",
       " 'Still, “it’s clear that business as usual won’t be sustainable,” he wrote in a blog post describing the problem.',\n",
       " '“If the field can’t find a way to address this situation, things will begin to break.”\\nThe information superhighway”: That’s what the internet was supposed to be.',\n",
       " 'And while it’s hard to regard the internet we have now as a wholly beneficent advance in collective wisdom — the commercial opportunities afforded by connecting billions of people sit uncomfortably with the civic aspirations of some of the web’s pioneers — it’s hard to deny that an information superhighway, with some tolls and billboards and potholes, is more or less what we’ve got.',\n",
       " 'It’s still the first place most of us go to answer questions, to find out what’s happening, and to learn new things.',\n",
       " 'Since the arrival of widespread consumer-grade generative AI, these tasks have become progressively more difficult.',\n",
       " 'Answering questions via Google now requires contending with AI-authored “Overview” modules at the top of some search pages, which offer incorrect summaries — “None of Africa’s 54 recognized countries start with the letter ‘K,’” one Overview claimed — just often enough to render them untrustworthy.',\n",
       " 'Attempting to read news online is now fraught with the possibility that you’re consuming unedited AI-generated tattle: CNET, BuzzFeed, USA Today, and Sports Illustrated have published stilted and often incorrect AI-generated articles or used phony images and biographies for “authors.”\\nImagine you are going foraging and want to download to your Kindle a guide to distinguish between edible and toxic mushrooms.',\n",
       " 'If you look on Amazon, you’ll turn up some obviously legitimate books.',\n",
       " 'But early on in the search results, you’ll find some seemingly AI-generated guides as well — for example, Forager’s Harvest 101: A Comprehensive Guide to Identifying, Preserving, and Preparing Wild Edible Plants, Mushrooms, Berries, and Fruits, by “Diane Wells.” Elan Trybuch, the secretary of the New York Mycological Society, recently wrote a blog post warning mushroom foragers about these dangerously inadequate guides: It’s possible that Forager’s Harvest 101 is fully accurate and safe to use, but it’s almost certainly unreviewed and unchecked and “written” by an AI that, as Trybuch described the technology, “does not know the subtle differences between a mushroom that is poisonous … vs one that is not.”\\nIt’s not particularly easy to tell the difference between the AI-generated guides and those written by experts.',\n",
       " 'Forager’s Harvest 101 has an intelligibly (if cheaply) designed cover and legible (if smooth and voiceless) prose as well as an author biography featuring a photo of a smiling middle-aged woman.',\n",
       " 'Is this a completely AI-generated object, a self-published pamphlet, or a book from a publishing house that recently slashed its marketing and editing budgets?',\n",
       " 'Indeed, I feel comfortable saying it’s AI-generated only because a watermark on Diane’s author photo credits it to the AI that powers the fake-portrait website ThisPersonDoesNotExist.com.',\n",
       " 'Experiences like this — staring at a collection of books written by AI with computer-generated author photos and dozens of reviews written and posted by bots — have become for many people evidence for the “dead-internet theory,” the only slightly tongue-in-cheek idea, inspired by the increasing amount of fake, suspicious, and just plain weird content, that humans are a tiny minority online and the bulk of the internet is made by and for AI bots, creating bot content for bot followers, who comment and argue with other bots.',\n",
       " 'The rise of slop has, appropriately, the shape of a good science-fiction yarn: a mysterious wave of noise emerging from nowhere, an alien invasion of semi-coherent computers babbling in humanlike voices from some vast electronic beyond.',\n",
       " 'But the idea that AI has quietly crowded out humans is not exactly right.',\n",
       " 'Slop requires human intervention or it wouldn’t exist.',\n",
       " 'Beneath the strange and alienating flood of machine-generated content slop, behind the nonhuman fable of dead-internet theory, is something resolutely, distinctly human: a thriving, global gray-market economy of spammers and entrepreneurs, searching out and selling get-rich-quick schemes and arbitrage opportunities, supercharged by generative AI.',\n",
       " 'We know that the original source of these things was side-hustle scams,” Clarke told me.',\n",
       " '“People waving a bunch of money on YouTube or TikTok videos and saying, ‘Oh, you can make money with ChatGPT by doing this.’” Clarke could even trace spikes in submissions to specific videos: It’s not some burgeoning artificial super-intelligence or even a particularly sophisticated crew of scammers that has waylaid Clarkesworld; rather, it’s the audiences of influencers like Hanna Getachew, an accountant and technology-procurement manager who runs an Amharic-language YouTube account dedicated to “teaching side hustles and online jobs” — and who recently posted a video called “Get Paid With Clarkes World Magazine.” (Clarkesworld pays 12 cents per word for submissions of 1,000 to 22,000 words.',\n",
       " 'Getachew claims viewers can “earn between $250 and $2,460.”)\\nThe economics involved are simple.',\n",
       " 'On one end, the demand: the effectively infinite, indiscriminate appetite for content of websites like Facebook and TikTok, which need enticements for users and real estate for advertisers.',\n",
       " 'On the other, the supply: the astonishingly adequate, inexhaustible output of generative-AI apps like ChatGPT, Midjourney, or Microsoft’s Image Creator, heavily subsidized by investors and provided to consumers at low or no cost.',\n",
       " 'Billions of dollars are flowing among the many companies on either side of this dynamic, and the question for any would-be AI hustler is how to get in the middle, find an angle, and take a cut.',\n",
       " 'The simplest, most straightforward option is to be a “slopper”: someone who generates content at scale using AI and manipulates or leverages a platform to make money from it.',\n",
       " 'Sloppers may try to sell their content directly to people on a major marketplace — by, say, automating the production of recipe books to sell to unsuspecting (and maybe undiscriminating) customers on Amazon.',\n",
       " 'Or they may build a website filled with articles generated by an LLM, festoon them with advertisements, and try to get them highly ranked on Google News.',\n",
       " 'Maybe, and most straightforwardly of all, many simply vie for direct payments from platforms for AI-generated text, images, and videos: Facebook, TikTok, and Twitter all offer bonus payments for “engaging” content.',\n",
       " '(In a sense, so does Spotify, though we call those payments “royalties.”)\\nTake, as a case study in the slop economy, Facebook.',\n",
       " 'Since the beginning of this year, obviously AI-generated images from anonymously administered pages have become inescapable.',\n",
       " 'What began as riffs on already viral images have evolved into bizarre, sui generis dreamscapes through which inexplicable and unrelated themes and topics emerge: multiheaded, enormously breasted “farmer girls”; stewardesses wading in muddy rivers; amputee beggars carrying signs reading TODAY IS MY BIRTHDAY.',\n",
       " 'One of the most famous of these images is “Shrimp Jesus,” a statuelike Jesus figure bobbing just underwater, his limbs and torso made entirely of the bristling chitinous bodies of shrimp.',\n",
       " 'For the majority of these pages, there is no obvious scam at play, no ads or external links — no business model at all, just eerily contextless pages publishing demented nonsense into a void.',\n",
       " 'Where were these images coming from?',\n",
       " 'The answer, at least in part, is a guy in Kenya named Stephen Mwangi.',\n",
       " 'Stevo, as he introduced himself to me over WhatsApp, is the moderator of five YouTube channels and “about 170 Facebook pages” that deal heavily in AI-generated images, the largest of which has 4 million followers.',\n",
       " 'He agreed to show me his methods, for a price.',\n",
       " '“If you need my information pay me,” he wrote.',\n",
       " '“No free information.” For a total of $105, I enrolled in a crash course in becoming a slopper.',\n",
       " 'His process for creating posts, he told me, is pretty simple and AI intensive: “I use ChatGPT to ask for the best images that can generate a lot of popularity and engagement on Facebook,” focusing on topics like the Bible, God, the U.S. Army, wildlife, and Manchester United.',\n",
       " '“WRITE ME 10 PROMPT picture OF JESUS WHICH WILLING BRING HIGH ENGAGEMENT ON FACEBOOK,” read the ChatGPT prompt in one screenshot he shared with me.',\n",
       " 'Voilà: slop.',\n",
       " 'These pages make money through Facebook’s Performance bonus program, which, per the social network’s description, “gives creators the opportunity to earn money” based on “the amount of reach, reactions, shares and comments” on their posts.',\n",
       " 'It is, in effect, a slop subsidy.',\n",
       " 'The AI images produced on Stevo’s pages — rococo pictures of Jesus; muscular police officers standing on the beach holding large Bibles; grotesquely armored gargantuan helicopters — are neither scams nor enticements nor even, as far as Facebook is concerned, junk.',\n",
       " 'They are precisely what the company wants: highly engaging content.',\n",
       " 'On a website like Facebook, the more strikingly weird an image is, the more likely it is to attract attention and engagement; the more attention and engagement, the more Facebook’s sorting mechanisms will promote and recirculate the image.',\n",
       " 'Another AI content creator, a French financial auditor named Charles who makes bizarre pictorial stories about cats for TikTok, told me he always makes his content “a bit WTF” as “a way to make the content more viral, or at least to maximize the chances of it becoming viral.” Or as Stevo put it, “You add some exaggeration to make it engagementing.”\\nStevo, who insisted he doesn’t “use bots” to juice his follower numbers or “pay for engagement,” shared a screenshot that showed a $500 “bonus earnings” payout for activity from mid-May to mid-June this year.',\n",
       " '(Minimum wage in Kenya ranges from about $120 to $270 a month.)',\n",
       " 'He said he spends about six hours a day administering his Facebook pages, but he works at the mercy of the website’s opaque moderation and decision-making processes.',\n",
       " 'When I spoke with him, “God Lovers” had been placed under some kind of restrictions and wasn’t earning him money.',\n",
       " 'He wasn’t sure what the problem was, but it wasn’t that the images were fake.',\n",
       " '“I have other pages which have over 100,000 followers which use AI images,” he said.',\n",
       " 'Facebook doesn’t reveal how it calculates the value of the bonuses, and only creators in certain countries — the U.S., the U.K., and India among them — are eligible for the bonus program, which helps explain why, several times during our interview, Stephen insisted he was actually a British cybersecurity student named Jacob.',\n",
       " 'There’s a Stephen (and often a “Jacob”) behind all of this slop: an actual person uploading, say, identical Viking “novels” with seemingly AI-generated covers, all called Wrath of the Northmen: A Gripping Viking Tale of Revenge and Honor (that one has been published variously by authors named Sula Urbant, Sula Urbanz, and Sula Urbanr).',\n",
       " 'The sloppers gather on message boards and chat apps and social media to swap tips and tricks.',\n",
       " 'On Facebook, a 130,000-member group of Vietnamese sloppers called “Twitter Academy — Make Money on X” discusses methods of prompting ChatGPT to write X threads: “You are a Twitter influencer with a large following.',\n",
       " 'Do not explain what you are doing.”\\nThere are also hundreds of thousands of videos across the internet giving detailed instructions similar to the ones Stephen gave me.',\n",
       " 'Jason Koebler, co-founder of 404 Media, an independent tech-news collective that acts as the publication of record for the world of slop, watched dozens of Hindi-language slop seminars on YouTube, many of them offering example prompts: “american soldier veteran holding cardboard sign that says ‘today’s my birthday, please like’ injured in battle veteran war american flag,” “A old American women is making forest lion out of cauliflower and her neighbors looking at it.',\n",
       " 'keep it detailed.”\\nThe creators of these kinds of seminars, equipped with the “sell shovels in a gold rush” playbook, often have a more reliable income than the sloppers themselves.',\n",
       " 'They sell lesson plans and memberships to private Discord and Telegram chat rooms and act as middlemen who help set up U.S.-based accounts for international sloppers.',\n",
       " 'If sloppers are the manufacturing sector of the slop economy, these gurus, vouchers, and toolmakers represent the service sector.',\n",
       " 'This ecosystem is not new.',\n",
       " 'Influencers have been hawking platform-dependent “internet marketing” schemes for decades.',\n",
       " 'What has changed is the level of work and investment involved.',\n",
       " 'For a while now, it has been common for entrepreneurs to outsource the actual production of content: “I have two people in the Philippines who post for me,” one American Facebook-page operator told The New York Times Magazine in 2016.',\n",
       " 'But when you’ve got an automated post-creating machine, who needs two people in the Philippines?',\n",
       " 'For that matter, given the sophistication of the AI, why would the Filipinos need an American?',\n",
       " 'There’s no definitive way to tell how much slop has already been produced in the few short years generative-AI apps have been widely available, but there are ways to get a glimpse.',\n",
       " 'Guillaume Cabanac, a professor of computer science at Université Toulouse III–Paul Sabatier, has spent the past several years attempting to ferret out instances of fraud, plagiarism, and the use of computer-generated text in major scientific journals.',\n",
       " 'One of his methods is to focus on what he calls “smoking guns” — phrases that show unambiguously the use of an AI text generator like ChatGPT.',\n",
       " 'One of these is “regenerate response,” which appears at the end of ChatGPT’s answers.',\n",
       " '“The persons did all that copy-paste and didn’t even care to remove” the telltale phrase, Cabanac said.',\n",
       " 'Others are “as an AI language model,” “as of my knowledge cutoff,” and “I cannot fulfill that request,” phrases that ChatGPT and other chatbots use frequently.',\n",
       " 'Cabanac has found almost 100 cases of obviously AI-generated scientific papers, which he called “only the tiny tip of the iceberg.” A recent study by the librarian Andrew Gray used words that appear disproportionately often in text generated by ChatGPT — among them commendable, intricate, and meticulously — to estimate that 60,000 scholarly papers were at least partially generated by AI in 2023.',\n",
       " 'You can do your own versions of these experiments at home.',\n",
       " 'Searching “as of my knowledge cutoff” or “as an AI language model” in Google Books turns up hundreds of AI-generated “books” with titles like Hollywood’s 100 Leading Actors and Summary If the Woman in Me: A Guide to Britney Spears Memoir.',\n",
       " 'On Amazon, a quick search found a listing for some (presumably real) underwear with the description “As of My Knowledge Cutoff in Early 2023, Providing Specific Purchasing Options for ‘Women’s Stylish Sexy Casual Independence Day Printed Panties’ Would Be My Capabilities As I Cannot Browse or Access Live Data From the Internet, Including Current Inventory From or Private Sellers.”\\nTwitter — Elon Musk’s X — may be the most fruitful platform for this kind of search thanks to its sub-competent moderation services.',\n",
       " 'In January, Chris Mohney, a writer and an editor, spotted a tweet that appeared to be an AI-generated description of an image with no image attached: “The photo captures a couple exchanging vows at sunset.',\n",
       " 'The emotions that it evokes are love, happiness, and the memory of a special day filled with promises.” Hundreds of verified accounts swarmed in the replies to praise the missing image: “This picture exudes pure love and joy, a magical moment indeed!,” “This photo truly encapsulates the beauty and magic of true love,” “Such a beautiful moment captured in time, filled with love and joy.”\\nCabanac believes “LLMs can be a magnificent tool, a very effective tool” for scientists if properly acknowledged.',\n",
       " 'Some researchers, especially those for whom English is not a first language, use ChatGPT and other AI programs to help with translation and editing.',\n",
       " 'But many people “are using the LLMs to produce more, which lowers the quality of the science that is published and made.” Even innocuous misuse has a cascading effect on the entire scientific enterprise, as retracted papers cast doubt on other papers that cite them.',\n",
       " '“It’s like a virus.”\\nAI-generated papers, Cabanac argued, are often used to pad an academic’s résumé with more publications and citations: “You buy a paper on a topic of your choice, and you buy a set of 500 citations.',\n",
       " 'Then you go to your faculty and you say, ‘Look, I’m a genius, and I deserve this position as a full professor.’” In other words, like Facebook slop, the content of the content isn’t really as important as its presence — or, more accurately, its measurability.',\n",
       " 'This is the most widespread use yet found for generative-AI apps: creating stuff that can take up space and be counted.',\n",
       " 'When you look through the reams of slop across the internet, AI seems less like a terrifying apocalyptic machine-god, ready to drag us into a new era of tech, and more like the apotheosis of the smartphone age — the perfect internet marketer’s tool, precision-built to serve the disposable, lowest-common-denominator demands of the infinite scroll.',\n",
       " 'It’s nice to think that if you could simply turn off your phone and computer, you could avoid all these ugly creations.',\n",
       " 'But slop has a way of leaking out.',\n",
       " 'On the subway, ads for the secondhand-furniture website Kaiyo feature images with oddly levitating pedestrians and signs written in the dream glyphs typical of image generators’ attempts at text.',\n",
       " 'Outsourcing designwork to generative-AI apps may be an effective cost-cutting and productivity measure for some businesses, but in practice it just off-loads work elsewhere.',\n",
       " 'The cost of slop to libraries is serious, Sullivan said, “not just the cost of the books” but the cost of labor: It takes cataloguers longer to do their jobs when they’re wading through “an outpouring of valueless product.” Human artists, writers, journalists, musicians, and even TikTokers have more work to do too, competing not just with other humans but with the passable products of automated systems.',\n",
       " 'There’s more work for us readers and watchers and content consumers as well.',\n",
       " 'The future portended by the past two years is one in which we all become cataloguers, Neil Clarkes sorting through the noise for a little bit of signal.',\n",
       " 'Even the stuff that passes through is a burden; unrefined, unedited slop is by definition more work to read, watch, interpret, and understand.',\n",
       " 'But it’s also, it seems, what we want.',\n",
       " 'The other important participants in the slop economy, besides the sloppers and the influencers and the platforms, are all of us.',\n",
       " 'Everyone who idly scrolls through Facebook or TikTok or Twitter on their phone, who puts Spotify on autoplay, or who buys the cheapest recipe book on Amazon is creating the demand.',\n",
       " 'Fifteen years ago, Wired magazine heralded the “good-enough revolution” in low-cost technology: “Cheap, fast, simple tools are suddenly everywhere … We now favor flexibility over high fidelity, convenience over features, quick and dirty over slow and polished.” Generative AI as a technology exists in this lineage.',\n",
       " 'That it can create adequate texts and images is an astonishing leap forward in machine learning, but the texts and images are still only adequate, “good enough” and cheap enough for people to thumb past on their phones.',\n",
       " 'Slop is the most appropriate word for what it produces because, as disgusting and unappetizing as it may seem, we still eat it.',\n",
       " 'It’s what’s right there in the trough.',\n",
       " 'David Wallace-Wells\\nRemember the season of A.I.',\n",
       " 'It wasn’t that long ago, in the spring of last year, that the new chatbots were trailed by various “godfathers” of the technology, warning of existential risk; by researchers suggesting a 10 percent chance of human extinction at the hands of robots; by executives speculating about future investment rounds tabulated in the trillions.',\n",
       " 'Now the reckoning is happening on very different terms.',\n",
       " 'In a note from Barclays, one analyst warned that today’s A.I.',\n",
       " 'investments might be three times as large as expected returns, while another analyst, in several assessments published by Sequoia Capital, calculated that investments in A.I.',\n",
       " 'were running short of projected profits by a margin of at least several hundred billion dollars annually.',\n",
       " '(He called this “A.I.’s $600 billion question” and warned of “investment incineration.”) In a similarly bearish Goldman Sachs report, the firm’s head of global equity research estimated that the cost of A.I.',\n",
       " 'infrastructure build-out over the next several years would reach $1 trillion.',\n",
       " '“Replacing low-wage jobs with tremendously costly technology is basically the polar opposite of the prior technology transitions I’ve witnessed,” he noted.',\n",
       " '“The crucial question is: What $1 trillion problem will A.I.',\n",
       " 'solve?”\\nA decade ago, venture capital provided Americans the “millennial lifestyle subsidy”: investors keeping the price of Uber and DoorDash and dozens of other services artificially low for years.',\n",
       " 'Today the same millennial might read about that trillion-dollar A.I.',\n",
       " 'expenditure, more than the United States spends annually on its military, and think: What exactly is that money going toward?',\n",
       " 'What is A.I.',\n",
       " 'One increasingly intuitive answer is “garbage.” The neuroscientist Erik Hoel has called it “A.I.',\n",
       " 'pollution,” and the physicist Anthony Aguirre “something like noise” and “A.I.-generated dross.” More recently, it has inspired a more memorable neologistic term of revulsion, “A.I.',\n",
       " 'slop”: often uncanny, frequently misleading material, now flooding web browsers and social-media platforms like spam in old inboxes.',\n",
       " 'Years deep into national hysteria over the threat of internet misinformation pushed on us by bad actors, we’ve sleepwalked into a new internet in which meaningless, nonfactual slop is casually mass-produced and force-fed to us by A.I.',\n",
       " 'When Thomas Crooks tried to assassinate Donald Trump, for instance, X’s A.I.',\n",
       " 'sputtered out a whole string of cartoonishly false trending topics, including that it was Kamala Harris who had been shot.',\n",
       " 'Where not long ago we used to find the very best results for Google searches, we can now find instead potentially plagiarized and often inaccurate paragraph summaries of answers to our queries — including, reportedly, that only 17 American presidents were white, that Barack Obama is a Muslim and that Andrew Johnson, who became president in 1865 and died in 1875, earned 13 college degrees between 1947 and 2012.',\n",
       " 'We can also read that geologists advise eating at least one rock a day, that Elmer’s glue should be added to pizza sauce for thickening and that it’s completely chill to run with scissors.',\n",
       " 'Sometimes, of course, you can get reliable information too; maybe even most of the time.',\n",
       " 'But you can also get bad advice about A.D.H.D., about chemotherapy, about Ozempic — some potentially delicate subjects.',\n",
       " 'And while the internet was never perfectly trustworthy, one epoch-defining breakthrough of Google was that it got us pretty close.',\n",
       " 'Now the company’s chief executive acknowledges that hallucinations are “inherent” to the technology it has celebrated as a kind of successor for ranked-order search results, which are now often found far below not just the A.I.',\n",
       " 'summary but a whole stack of “sponsored” results as well.',\n",
       " 'But not all A.I.s are large language models like ChatGPT, Gemini or Claude, each of which were trained on gobsmackingly large quantities of text to better simulate interaction with humans and bring them closer to approximations of humanlike thinking, at least in theory.',\n",
       " 'Peer away from those chatbots and you can see a very different story, with different robot protagonists: machine-learning tools trained much more narrowly and focused less on producing a conversational, natural-language interface than on processing data dumps much more efficiently than human minds ever could.',\n",
       " 'These products are less eerie, which means they have generated little existential angst.',\n",
       " 'They are also — for now, at least — much more reliable and productive.',\n",
       " 'This month, KoBold Metals announced the largest discovery of new copper deposits in a decade — a green-energy gold mine, so to speak, delivered with the help of its own proprietary A.I., which integrated information about subatomic particles detected underground with century-old mining reports and radar imagery to make predictions about where minerals critical for the green transition might be found.',\n",
       " 'Machine learning may help make our electricity grid as much as 40 percent more efficient at delivering power as it is today, when many of its routing decisions are made by individual humans on the basis of experience and intuition.',\n",
       " '(At some crucial points, A.I.',\n",
       " 'has cut decision time to one minute from 10.)',\n",
       " 'It has already helped drive down the cost and drive up the performance of next-gen batteries and solar photovoltaic cells, whose performance can also be improved, even after the panels have been manufactured and installed on your roof, by as much as 25 percent.',\n",
       " 'Our models of ice-sheet melt and rainforest degradation are much sharper now, too.',\n",
       " 'When in 2021 DeepMind revealed that it had effectively solved the protein-folding problem, making the three-dimensional structure of biological building blocks for the first time easily predictable for researchers, the breakthrough made global news, even if the headlines flew over the heads of most readers, who might not have known how significant a roadblock that has been in biomedical research.',\n",
       " 'A few years later, A.I.',\n",
       " 'is designing new proteins, rapidly accelerating drug discovery and speeding up clinical trials testing new medicines and therapies.',\n",
       " 'A year ago, as normies were only just toying around with chatbots, there were already dozens of drugs developed in part by A.I.',\n",
       " 'The number is much larger today, whether you choose to be impressed by the reported performance of ChatGPT on the LSAT or frustrated that Claude cannot solve logic problems intuitive to a kindergartner (or even reliably tell you whether 9.11 is greater than 9.9, as a Windows 95 calculator could).',\n",
       " 'And so if one account of this experience is that we are drowning in A.I.',\n",
       " '“pollution,” another perspective is that plenty of good news from A.I.',\n",
       " 'is being drowned out by it, too.',\n",
       " 'And perhaps that a more optimistic perspective can be drawn by analogy to what economists call the “environmental Kuznets curve,” which suggests that, as nations develop, they tend to first pollute a lot more and then, over time, as they grow richer, they ultimately pollute less.',\n",
       " 'Even in describing regular old pollution, this framework has its shortcomings, especially because it treats as automatic eventual progress that has always required tooth-and-nail fights against some very stubborn bad actors.',\n",
       " 'As it happens, A.I.',\n",
       " 'is generating an awful lot of genuine pollution, too — both Google and Microsoft, which each pledged in 2019 to reach zero emissions by 2030, have instead expanded their carbon footprints by nearly 50 percent in the interim.',\n",
       " 'The same political concerns about the ownership and control of A.I.',\n",
       " 'tools, and how they might be turned toward harmful or exploitative ends, remain somewhat systematically unaddressed.',\n",
       " 'And there are reasons to suspect that “hallucination” may be an unsolvable problem for generative A.I.',\n",
       " 'as we know it.',\n",
       " 'Which all suggests that the answer to the many problems of generative A.I.',\n",
       " 'may not be what boosters call “scaling,” especially given the possibility that new training runs deliver some very expensive diminishing returns.',\n",
       " 'It’s the matter of weeding out the good from the bad, in the name of intellectual hygiene.',\n",
       " 'Hoel, the neuroscientist, has called for “the equivalent of a Clean Air Act: a Clean Internet Act,” including the unscrubbable watermarking of anything produced by A.I.',\n",
       " 'Actually scrubbing the slop would be even better.',\n",
       " \"AI Slop is Everywhere We Look — Here's How Businesses Can Avoid the AI Slop Cycle AI slop is the latest iteration of digital clutter.\",\n",
       " \"It's the filler content produced by AI tools that prioritize speed and quantity over substance and quality.\",\n",
       " \"Here's how to avoid it as a business owner.\",\n",
       " 'By Johnny Hughes Edited by Micah Zimmerman\\nKey Takeaways\\n- Entrepreneurs face a growing challenge with AI-generated \"slop\" content that dilutes online quality and disrupts engagement.',\n",
       " '- Combatting AI slop is crucial for entrepreneurs to maintain brand authenticity, customer trust and meaningful engagement.',\n",
       " '- Entrepreneurs can stay ahead by blending human creativity with AI efficiency, ensuring content remains original, valuable and impactful.',\n",
       " 'Opinions expressed by Entrepreneur contributors are their own.',\n",
       " 'As entrepreneurs, our brands are our lifeblood.',\n",
       " 'We pour everything into building something unique, something that truly resonates with our customers.',\n",
       " \"But just as we've learned to dodge the nuisances of junk mail and spam, a new threat has emerged — one that has the potential to undermine all our hard work: AI slop.\",\n",
       " \"What is 'AI Slop'?\",\n",
       " 'AI slop is the latest iteration of digital clutter.',\n",
       " \"It's the content produced by AI tools that prioritize speed and quantity over substance and quality.\",\n",
       " 'Initially, platforms like ChatGPT and Google Gemini were celebrated for their efficiency.',\n",
       " \"But as they've become more mainstream, they've also started churning out vast amounts of subpar content — clogging blogs, social media and search results with noise instead of value.\",\n",
       " \"For entrepreneurs, this isn't just a nuisance; it's a potential threat to your brand's integrity and your ability to stand out in a crowded market.\",\n",
       " \"Related: These Days, Everything Is 'Powered By AI.'\",\n",
       " \"Here's How to Tell Hype From Real Innovation.\",\n",
       " \"The real cost of AI slop\\nAI slop comes in many forms, all of which can undermine your efforts to build a strong, authentic brand:\\n- Weak Brand Communications: Imagine your customers encountering repetitive, robotic responses from your chatbot — like Air Canada's widely criticized AI mishaps.\",\n",
       " 'This kind of slop can erode trust and drive customers away.',\n",
       " '- Cluttered Social Media Feeds: Social platforms should be a place for meaningful engagement, but AI slop often fills them with irrelevant, unengaging posts that fail to connect with your audience.',\n",
       " \"- Search Engine Confusion: Poorly generated search suggestions, such as Google's infamous recommendation of non-toxic glue for pizza cheese, highlight how AI's lack of context can lead to bizarre and off-putting user experiences.\",\n",
       " '- Misleading Information: Sloppy AI-generated snippets in search results can mislead your customers, making it harder for them to find accurate information.',\n",
       " \"- Generic Blog Content: Blogs filled with repetitive, unoriginal ideas don't just bore readers—they also undermine your authority and thought leadership.\",\n",
       " '- Inaccurate News: AI-generated news articles often miss critical nuances, leading to misinformation and damaging your credibility.',\n",
       " '- Vague Product Descriptions: In e-commerce, product descriptions that are unclear or incorrect—sometimes even including disclaimers about AI use—can seriously hurt conversions.',\n",
       " \"The threat of slop fatigue\\nAs consumers and business owners alike, we're all experiencing slop fatigue.\",\n",
       " 'The initial excitement over AI-generated content has faded, replaced by a demand for authenticity and real value.',\n",
       " \"Your customers are becoming more discerning, and they're quick to tune out content that doesn't meet their expectations.\",\n",
       " 'For entrepreneurs, this shift is crucial.',\n",
       " 'Authenticity is now a competitive advantage.',\n",
       " 'The brands that prioritize genuine, high-quality content will not only survive in this new landscape but thrive.',\n",
       " 'How entrepreneurs can spot AI slop\\nIdentifying AI slop is the first step in protecting your brand.',\n",
       " \"Here's what to watch out for:\\n- Generic Phrasing: AI often relies on repetitive, uninspired language that lacks the creativity needed to engage.\",\n",
       " '- AI Art Mishaps: Distorted images and unnatural features in AI-generated visuals are telltale signs of low-quality output.',\n",
       " '- Misinformation: Fact-checking is more important than ever.',\n",
       " \"Content that seems plausible but inaccurate can harm your brand's reputation.\",\n",
       " '- Lack of Coherence: Content that jumps from one idea to another without a clear flow is often a product of AI slop.',\n",
       " '- Repetitive Ideas: Redundant phrases and unoriginal concepts make content feel stale and unengaging.',\n",
       " \"Related: How to Escape Entrepreneurial Burnout When You Can't Just Quit\\nStrategies to combat AI slop\\nTo safeguard your brand and ensure your content stands out, consider these strategies:\\n- Humanize Your Content: Infuse your content with personal stories, real-life examples and a touch of emotion.\",\n",
       " 'This approach not only makes your brand more relatable but also strengthens your connection with your audience.',\n",
       " '- Invest in Originality: Set aside time to craft original content that reflects your unique perspective.',\n",
       " 'Your insights and expertise differentiate your brand from the competition.',\n",
       " '- Develop Custom AI Models: Creating AI models tailored to your specific needs and brand voice ensures that the content generated aligns with your standards.',\n",
       " \"- Combine AI with Human Touch: AI can be a powerful tool, but it's essential to have human editors refine and enhance the content to maintain quality and authenticity.\",\n",
       " \"- Use Interactive Elements: Incorporate visuals, videos and interactive media to create engaging and dynamic content that holds your audience's attention.\",\n",
       " '- Highlight Creativity: Make sure your content showcases human creativity and originality.',\n",
       " 'This adds depth and makes your brand memorable.',\n",
       " 'Related: How to Spark Some Spontaneity in Your Hybrid Work Environment\\nMoving forward with the entrepreneurial edge\\nAs AI technology evolves, so do the challenges it presents.',\n",
       " 'But with the right approach, you can turn these challenges into opportunities.',\n",
       " \"By prioritizing quality, leveraging custom AI models and staying true to your brand's voice, you can rise above the slop and continue to deliver value that resonates with your audience.\",\n",
       " \"In a world saturated with AI-generated content, distinguishing valuable information from slop is not just a skill — it's a competitive edge.\",\n",
       " \"Demand more from your AI tools, ensure they enhance rather than detract from your brand's message, and keep your content authentic.\",\n",
       " 'This is how entrepreneurs will not only survive but thrive in this new digital landscape.',\n",
       " 'Supported by\\nFirst Came ‘Spam.’ Now, With A.I., We’ve Got ‘Slop’\\nA new term has emerged to describe dubious A.I.-generated material.',\n",
       " 'You may not know exactly what “slop” means in relation to artificial intelligence.',\n",
       " 'But on some level you probably do.',\n",
       " 'Slop, at least in the fast-moving world of online message boards, is a broad term that has developed some traction in reference to shoddy or unwanted A.I.',\n",
       " 'content in social media, art, books and, increasingly, in search results.',\n",
       " 'Google suggesting that you could add nontoxic glue to make cheese stick to a pizza?',\n",
       " 'That’s slop.',\n",
       " 'So is a low-price digital book that seems like the one you were looking for, but not quite.',\n",
       " 'And those posts in your Facebook feed that seemingly came from nowhere?',\n",
       " 'They’re slop as well.',\n",
       " 'The term became more prevalent last month when Google incorporated its Gemini A.I.',\n",
       " 'model into its U.S.-based search results.',\n",
       " 'Rather than pointing users toward links, the service attempts to solve a query directly with an “A.I.',\n",
       " 'Overview” — a chunk of text at the top of a results page that uses Gemini to form its best guess at what the user is looking for.',\n",
       " 'The change was a reaction to Microsoft having incorporated A.I.',\n",
       " 'into its search results on Bing, and it had some immediate missteps, leading Google to declare it would roll back some of its A.I.',\n",
       " 'But with the dominant search engines having made A.I.',\n",
       " 'a priority, it appears that vast quantities of information generated by machines, rather than largely curated by humans, will be served up as a daily part of life on the internet for the foreseeable future.',\n",
       " 'Hence the term slop, which conjures images of heaps of unappetizing food being shoveled into troughs for livestock.',\n",
       " 'Like that type of slop, A.I.-assisted search comes together quickly, but not necessarily in a way that critical thinkers can stomach.',\n",
       " 'Kristian Hammond, the director of Northwestern University’s Center for Advancing Safety of Machine Intelligence, noted a problem in the current model: the information from A.I.',\n",
       " 'Overview is being presented as a definitive answer, rather than as a place to start an internet user’s research into a given subject.',\n",
       " '“You search for something and you get back what you need in order to think — and it actually encourages you to think,” Mr. Hammond said.',\n",
       " '“What it’s becoming, in this integration with language models, is something that does not encourage you to think.',\n",
       " 'And that, I think, is dangerous.”\\nFor a problem to be targeted, giving it a name can prove helpful.',\n",
       " 'And while slop is one option, it is still an open question of whether it will catch on with a mainstream audience, or end up in the slang dustbin with cheugy, bae and skibidi.',\n",
       " 'Adam Aleksic, a linguist and content creator who uses the handle etymologynerd on social media, believes that slop — which he said has yet to cross over to a broader audience — shows promise.',\n",
       " '“I think this is a great example of an unobtrusive word right now, because it is a word we’re all familiar with,” Mr. Aleksic said.',\n",
       " '“It’s a word that feels like it’s naturally applicable to this situation.',\n",
       " 'Therefore, it’s less in your face.”\\n@etymologynerd More great discussion of this in Alan Metcalf\\'s book \"Predicting New Words\" #etymology #linguistics #language #memehistory #rizz #skibidi ♬ original sound - etymologynerd\\nThe use of slop as a descriptor for low-grade A.I.',\n",
       " 'material seemingly came about in reaction to the release of A.I.',\n",
       " 'art generators in 2022.',\n",
       " 'Some have identified Simon Willison, a developer, as an early adopter of the term — but Mr. Willison, who has pushed for the phrase’s adoption, said it was in use long before he found it.',\n",
       " '“I think I might actually have been quite late to the party!” he said in an email.',\n",
       " 'The term has sprung up in 4chan, Hacker News and YouTube comments, where anonymous posters sometimes project their proficiency in complex subject matter by using in-group language.',\n",
       " '“What we always see with any slang is that it starts in a niche community and then spreads from there,” Mr. Aleksic said.',\n",
       " '“Usually, coolness is a factor that helps it spread, but not necessarily.',\n",
       " 'Like, we’ve had a lot of words spread from a bunch of coding nerds, right?',\n",
       " 'Look at the word ‘spam.’ Usually, the word is created because there is a particular group with shared interests, with a shared need to invent words.”\\nIn the short term, the effect of A.I.',\n",
       " 'on search engines and the internet in general may be less extreme than some would fear.',\n",
       " 'News organizations have worried about shrinking online audiences as people rely more on A.I.-generated answers and data from Chartbeat, a company that researches internet traffic, indicates that there was an immediate drop in referrals from Google Discover to websites in the first days of A.I.',\n",
       " 'overviews.',\n",
       " 'But that dip has since recovered, and in the first three weeks of the overviews, overall search traffic to more than 2,000 major websites in the U.S. actually went up, according to Chartbeat.',\n",
       " 'But as people become accustomed to A.I.’s increasing role in how the internet works, Mr. Willison, who identified himself as an optimist for A.I.',\n",
       " 'when it is used correctly, thought that slop could become the go-to term for the lesser forms of machine-generated content.',\n",
       " '“Society needs concise ways to talk about modern A.I.',\n",
       " '“‘Ignore that email, it’s spam,’ and ‘Ignore that article, it’s slop,’ are both useful lessons.”\\nBenjamin Hoffman is a senior editor who writes, assigns and edits stories primarily on the intersection between sports, lifestyle and culture.',\n",
       " 'An Armed and Legged Fish: How Steve, a French cartoon with a catchy theme song, became a TikTok star.',\n",
       " 'Siding with History’s Villains: Darryl Cooper is no scholar.',\n",
       " 'But legions of fans — many on the right — can’t seem to resist what he presents as hidden truths.',\n",
       " 'Slop is the new name for unwanted AI-generated content\\n8th May 2024\\nI saw this tweet yesterday from @deepfates, and I am very on board with this:\\nWatching in real time as “slop” becomes a term of art.',\n",
       " 'the way that “spam” became the term for unwanted emails, “slop” is going in the dictionary as the term for unwanted AI generated content\\nUpdate: that account has been deleted so the Tweet is a 404 now—the tweet quote tweeted this one by @allgarbled.',\n",
       " 'I’m a big proponent of LLMs as tools for personal productivity, and as software platforms for building interesting applications that can interact with human language.',\n",
       " 'But I’m increasingly of the opinion that sharing unreviewed content that has been artificially generated with other people is rude.',\n",
       " 'Slop is the ideal name for this anti-pattern.',\n",
       " 'Not all promotional content is spam, and not all AI-generated content is slop.',\n",
       " 'But if it’s mindlessly generated and thrust upon someone who didn’t ask for it, slop is the perfect term for it.',\n",
       " 'Remember that time Microsoft listed the Ottawa Food Bank on an AI-generated “Here’s what you shoudn’t miss!” travel guide?',\n",
       " 'Perfect example of slop.',\n",
       " 'One of the things I love about this is that it’s helpful for defining my own position on AI ethics.',\n",
       " 'I’m happy to use LLMs for all sorts of purposes, but I’m not going to use them to produce slop.',\n",
       " 'I attach my name and stake my credibility on the things that I publish.',\n",
       " 'Personal AI ethics remains a complicated set of decisions.',\n",
       " 'I think don’t publish slop is a useful baseline.',\n",
       " 'Update 9th May: Joseph Thacker asked what a good name would be for the equivalent subset of spam—spam that was generated with AI tools.',\n",
       " 'I propose “slom”.',\n",
       " 'More recent articles\\n- Large Language Models can run tools in your terminal with LLM 0.26 - 27th May 2025\\n- Highlights from the Claude 4 system prompt - 25th May 2025\\n- Live blog: Claude 4 launch at Code with Claude - 22nd May 2025',\n",
       " 'He’s flicking through a Facebook feed of viral, AI-generated images.',\n",
       " '“The post you are seeing now is of a poor man that is being used to generate revenue,” he says in Hindi, pointing with his pen to an image of a skeletal elderly man hunched over being eaten by hundreds of bugs.',\n",
       " '“The Indian audience is very emotional.',\n",
       " 'After seeing photos like this, they Like, Comment and share them.',\n",
       " 'So you too should create a page like this, upload photos and make money through Performance bonus.”\\nHe scrolls through the page, titled “Anita Kumari,” which has 112,000 followers and almost exclusively posts images of emaciated, AI-generated people, natural disasters, and starving children.',\n",
       " 'He pauses on another image of a man being eaten by bugs.',\n",
       " '“They are getting so many likes,” he says.',\n",
       " '“They got 700 likes within 2-4 hours.',\n",
       " 'They must have earned $100 from just this one photo.',\n",
       " 'Facebook now pays you $100 for 1,000 likes … you must be wondering where you can get these images from.',\n",
       " 'I’ll show you how to create images with the help of AI.”\\nHe taps over to a Facebook page called “Dream Home,” which has 113,000 followers and consists of AI generated homes that look like roosters, giraffes, horses, and hummingbirds, poor Black children, and wood carvings.',\n",
       " '“The most amazing thing is that all the traffic is from abroad, mainly the US,” he says.',\n",
       " '“And as you know, with traffic from the USA your CPM [cost per 1,000 views, an ad-revenue metric] will be very high.',\n",
       " 'So even with fewer views, the income you generate will be higher.',\n",
       " 'The more unique the thing you show the audience, the more engagement.”',\n",
       " 'This piece is part of a series on the great internet letdown.',\n",
       " 'TikTok, Facebook and other social media platforms are being flooded with uncanny and bizarre content generated with artificial intelligence (AI), from fake videos of the US government capturing vampires to images of shrimp Jesus.',\n",
       " 'Given its outlandish nature and tenuous relationship with reality, you might think this so-called “AI slop” would quickly disappear.',\n",
       " 'In fact, our research suggests this kind of low-quality AI-generated content is becoming a lucrative venture for the people who make it, the platforms that host it, and even a growing industry of middlemen teaching others how to get in on the AI gold rush.',\n",
       " 'When generative AI meets profiteers and platforms\\nThe short explanation for the prevalence of these baffling videos and images is that savvy creators on social media platforms have worked out how to use generative AI tools to earn a quick buck.',\n",
       " 'Platforms have created incentive programs for content that goes viral, and a whole ecosystem of content creators has arisen using generative AI to exploit these programs.',\n",
       " 'Much of the conversation around generative AI tools focuses on how they enable ordinary people to “create”.',\n",
       " 'Many earlier digital technologies have also made it easier to participate in creative activities, such as how smartphones made photography ubiquitous.',\n",
       " 'But generative AI takes this a step further, as it can generate tailored images or videos from a simple text prompt.',\n",
       " 'It makes content creation more accessible – and also opens the floodgates to mass production on social media.',\n",
       " 'To take just one example: if you search “pet dance motorcycle” on TikTok, you will find hundreds of AI-generated videos of animals doing the “motorbike dance”, all animated using the same AI template.',\n",
       " 'Some accounts post dozens of videos like this every day.',\n",
       " 'Creators and platforms are making money\\nYou may wonder why such repetitive, unimaginative content can go viral on TikTok.',\n",
       " 'The answer lies in the platform’s own advice to aspiring creators: if you want your videos to be promoted, you should “continuously share fresh and diverse content” that “doesn’t require a big production budget”.',\n",
       " 'You may also wonder why some platforms don’t ban AI accounts for polluting the platform’s content stream.',\n",
       " 'Other platforms such as Spotify and YouTube, which police intellectual property rights more aggressively than TikTok, invest considerable resources to identify and remove AI-generated content.',\n",
       " 'TikTok’s community guidelines do ban “inaccurate, misleading, or false content that may cause significant harm”, but AI-generated content – at least for now – does not qualify as causing “significant harm”.',\n",
       " 'Instead, this kind of content has become important for platforms.',\n",
       " 'Many of those “pet dance motorcycle” videos, for example, have been viewed tens of millions of times.',\n",
       " 'As long as users are scrolling through videos, they are getting exposed to the ads that are the platforms’ primary source of income.',\n",
       " 'Inside the AI ‘gold rush’\\nThere is also a growing industry of people teaching others how to make money using cheap AI content.',\n",
       " 'Take Xiaonan, a social media entrepreneur we interviewed who runs six different TikTok accounts, each with more than 100,000 followers.',\n",
       " 'As he revealed in a live-streaming tutorial with more than 1,000 viewers, Xiaonan earned more than US$5,500 from TikTok in July alone.',\n",
       " 'Xiaonan also hosts an exclusive chatting group where, for a fee, he reveals his most effective AI prompts, video headlines and hashtags tailored for different platforms including YouTube and Instagram.',\n",
       " 'Xiaonan also reveals tricks for standing out in the platforms’ recommendation game and avoiding platform regulations.',\n",
       " 'Xiaonan says he established his “AI side job” after being laid off by an internet company.',\n",
       " 'He now works with two partners selling classes and tutorials on making AI-generated videos and other types of spam for profit.',\n",
       " 'Creators posting AI content may not be the kind of people we expect.',\n",
       " 'As Xiaonan told us, many of the people taking his AI tutorial – entitled “Side job, self-employed, high-paid” – are housewives, unemployed people and college students.',\n",
       " '“Some of us also do Uber driving or street vending,” one creator told us.',\n",
       " 'AI-generated content has become the latest trend for earning side income.',\n",
       " 'The rise of AI has coincided with global unemployment trends and the growth of the gig economy in the post-pandemic era.',\n",
       " 'Making AI-generated content is more pleasant work than driving passengers or delivering food, according to a creator who is also a stay-at-home mother.',\n",
       " 'It’s easy to learn, almost zero cost, and can be done any time at home with just a phone.',\n",
       " 'As Xiaonan says, his method is to use AI to “earn from productivity gap” – that is, by producing far more content than people who don’t use AI .',\n",
       " 'The global AI-generated content factory\\nOur observations indicate many of these creators are from non-Western countries, such as India, Vietnam and China.',\n",
       " 'As one Chinese social media influencer told us:\\nChina’s short video market is nearing saturation, which means you need to seek data traffic [viewers] on overseas platforms.',\n",
       " 'For these entrepreneurs, AI is the secret sauce not only for creating viral content but also for circulating already-viral videos across different countries and platforms.',\n",
       " 'An effective strategy mentioned by one creator is a kind of platform arbitrage involving popular videos from Douyin, the counterpart of TikTok in mainland China.',\n",
       " 'A creator will take one of these videos, add AI-generated translation, and post the result on TikTok.',\n",
       " 'Despite clunky AI dubbing and error-riddled subtitles, many of these videos garner hundreds of thousands or even millions of views.',\n",
       " 'Creators often mute the original video and add AI-generated narration, translating the content into various languages, including French, Spanish, Portuguese, Indonesian and Swedish.',\n",
       " 'These creators often manage several or even dozens of accounts, targeting viewers in different countries in a strategy known as an “account matrix”.',\n",
       " 'This is only the beginning\\nWe are only at the dawn of mainstream AI-generated content culture.',\n",
       " 'We will soon face a situation in which content is effectively infinite, but human attention is still limited.',\n",
       " 'For platforms, the challenge will be balancing the engagement these AI-driven trends bring with the need to maintain trust and authenticity.',\n",
       " 'Social media platforms will soon respond.',\n",
       " 'But before that, AI-generated content will continue to grow wildly – at least for a while.',\n",
       " 'If you’ve spent any time on Facebook recently you’ve seen the river of AI slop.',\n",
       " 'There’s the homeless vet with the badly worded sign, cops carrying massive bibles, and—of course—Shrimp Jesus.',\n",
       " 'Why is Facebook full of this stuff?',\n",
       " 'Because there’s money in it, of course.',\n",
       " 'A new investigation from 404 Media dug into the origins of Facebook’s AI slop era and uncovered an ecosystem of YouTube videos, Telegram channels, and reel-filled Google drives.',\n",
       " 'It exists to automate the creation and distribution of AI-generated images on Facebook.',\n",
       " 'People in places like Pakistan, India, Vietnam, Thailand, and Indonesia use tools like Microsoft’s AI Image Creator to churn out content.',\n",
       " 'They post dozens of images every day, sometimes every hour, and make a living from the engagement.',\n",
       " 'The goal is to get up as many posts in a day across as many accounts as possible.',\n",
       " 'An account that’s consistently posting can get invited into Facebook’s Creator Bonus Program and start making money from viral content.',\n",
       " 'Some posts will only generate a few cents while others may pull in hundreds of dollars.',\n",
       " 'The more posts, the greater the returns.',\n",
       " 'The goal is to use automation to post as much as possible, sometimes hundreds of times a day.',\n",
       " 'Like all spam circles, there’s a whole other economy filled with folks who will sell you the tools and knowledge you need to get started.',\n",
       " 'There are YouTube channels dedicated to getting people’s AI slop machine up and running, dozens of guides on Fiverr and Gumroad, and Telegram channels full of simple English prompts that will help the AI image generator create a viral picture.',\n",
       " 'Some creators 404 Media uncovered were running multiple Facebook accounts and used automated tools to fill the feeds with spammy engagement-bait images.',\n",
       " 'Using instructions and tools he bought online, 404 Media’s Jason Koebler set up his own AI slop shop.',\n",
       " 'Here’s how it works:\\n“First, a spammer makes a free Vercel account.',\n",
       " 'Then they make a WordPress account and spam page, download a snippet of code from GitHub that has been written by other spammers, modify it (there are guides for this on GumRoad and Fiverr; I bought guides on both), and install it on their Vercel deployment.',\n",
       " 'Then they connect Vercel to the WordPress website using a specific WordPress plugin that effectively sets up a redirect between Vercel and the WordPress site.',\n",
       " 'Then the person logs into their Facebook page and upgrades their account to an ad account, which is an instant process.',\n",
       " 'Then the person goes through the process of buying and setting up an ad on Facebook that links to the Vercel mirror of the page they want to link to.',\n",
       " 'This entire Vercel step exists to avoid Facebook’s automated spam detection, because it ultimately masks the link of the website that is being linked to.',\n",
       " 'Within the ad manager, they upload an image that has been modified to look like a Facebook gallery post (there are tools for this), and then they delete the headline and description that is autogenerated by Facebook to make it look like the ad is just an image and not a link.',\n",
       " 'Then, they generate a preview for their ad.',\n",
       " 'This creates a preview link, which can then be pushed to their phone (it has to be a separate device), then shared to their own personal Facebook page as a ‘test.’\\nFrom there, the link can be grabbed and shared to a page as a normal post, even though it is not a published ad, meaning that, to do this trick, you do not actually have to spend any money.',\n",
       " 'This process can then be repeated over and over again to effectively rick people into clicking on photo albums that are not actually photo albums.',\n",
       " 'FewFeed has recently created a feature that allows you to directly create these fake photo album-type images.”\\nProfiting from AI slop is a technical process and Meta’s content moderation teams can’t keep up with the flood.',\n",
       " 'Worse, they may not want to stop all grist-mill.',\n",
       " 'Meta explicitly allows AI-generated images and the only metrics it cares about are the ones that improve its bottom line.',\n",
       " 'The more people sharing posts and engaging with them, the better off Meta is.',\n",
       " 'The slop makes everyone money.',\n",
       " '“We encourage creators to use AI tools to produce high-quality content that meets all our Community Standards, and we take action against those who attempt to drive traffic using inauthentic engagement whether they use AI or not,” a Meta spokesperson told 404 Media.',\n",
       " '“We know bad actors adapt their tactics to evade our rules, so we are always working to improve our detection and enforcement.”\\nAccording to the people making the slop, the money is life-changing.',\n",
       " 'In one podcast, a spammer showed off his earnings tab.',\n",
       " 'On the list was a picture of a train made of leaves.',\n",
       " 'The spammer had earned $431 from the image’s engagement.',\n",
       " '“People don’t even make this much money in a month,” the interview said.',\n",
       " 'The MAGA Aesthetic Is AI Slop\\nFar-right influencers are flooding social media with a new kind of junk.',\n",
       " 'Taylor Swift fans are not endorsing Donald Trump en masse.',\n",
       " 'Kamala Harris did not give a speech at the Democratic National Convention to a sea of communists while standing in front of the hammer and sickle.',\n",
       " 'Hillary Clinton was not recently seen walking around Chicago in a MAGA hat.',\n",
       " 'But images of all these things exist.',\n",
       " 'In recent weeks, far-right corners of social media have been clogged with such depictions, created with generative-AI tools.',\n",
       " 'You can spot them right away, as they bear the technology’s distinct image style: not-quite-but-almost photorealistic, frequently outrageous, not so dissimilar from a tabloid illustration.',\n",
       " 'Donald Trump—or at least whoever controls his social-media accounts—posted the AI-generated photo of Harris with the hammer and sickle, as well as a series of fake images depicting Taylor Swift dressed as Uncle Sam and young women marching in Swifties for Trump shirts.',\n",
       " '(This after he falsely claimed that Harris had posted an image that had been “A.I.’d”—a tidy bit of projection.)',\n",
       " 'Trump himself has been the subject of generative-AI art and has shared depictions of himself going back to March 2023.',\n",
       " 'He’s often dressed up as a gun-toting cowboy or in World War II fatigues, storming a beach.',\n",
       " 'Yet these are anodyne compared with much of the material created and shared by far-right influencers and shitposters.',\n",
       " 'There are plenty of mocking or degrading images of Harris and other female Democratic politicians, such as Alexandria Ocasio-Cortez.',\n",
       " 'On X, one post that included a fake image in which Harris is implied to be a sex worker has been viewed more than 3.5 million times; on Facebook, that same post has been shared more than 87,000 times.',\n",
       " 'One pro-Trump, Elon-Musk-fanboy account recently shared a suggestive image depicting a scantily clad Harris surrounded by multiple clones of Donald Trump; it’s been viewed 1.6 million times.',\n",
       " 'There are images and videos of Harris and Trump holding hands on a beach and Harris wearing a crown that reads Inflation Queen.',\n",
       " 'On the first night of the DNC, MAGA influencers such as Catturd2 and Jack Posobiec supplemented their rage tweets about Democrats with stylized AI images of Tim Walz and Joe Biden looking enraged.',\n",
       " 'Although no one ideology has a monopoly on AI art, the high-resolution, low-budget look of generative-AI images appears to be fusing with the meme-loving aesthetic of the MAGA movement.',\n",
       " 'At least in the fever swamps of social media, AI art is becoming MAGA-coded.',\n",
       " 'The GOP is becoming the party of AI slop.',\n",
       " 'AI slop isn’t, by nature, political.',\n",
       " 'It is most prevalent on platforms such as Facebook, where click farmers and spammers create elaborate networks to flood pages and groups with cheap, fake images of starving children and Shrimp Jesus in the hopes of going viral, getting likes, and picking up “creator bonuses” for online engagement.',\n",
       " 'Jason Koebler, a technology reporter who has spent the past year investigating Facebook’s AI-slop economy, has described the deluge of artificial imagery as part of a “zombie internet” and “the end of a shared reality,” where “a mix of bots, humans, and accounts that were once humans but aren’t anymore interact to form a disastrous website where there is little social connection at all.”\\nWhat’s going on across the MAGA internet isn’t exactly the same as Facebook’s spam situation, although the vibe is similar.',\n",
       " 'MAGA influencers may be shitposting AI photos for fun, but they’re also engagement farming, especially on X, where premium subscribers can opt in to the platform’s revenue-sharing program.',\n",
       " 'Right-wing influencers have been vocal about these bonuses, which are handed out based on how many times a creator’s content is seen in a given month.',\n",
       " '“Payout was huge.',\n",
       " 'They’ve been getting bigger,” Catturd2 posted this March, while praising Musk.',\n",
       " 'Although many of these influencers already have sizable followings, AI-image generators offer an inveterate poster the thing they need most: cheap, fast, on-demand fodder for content.',\n",
       " 'Rather than peck out a few sentences complaining about Biden’s age or ridiculing Harris’s economic policies, far-right posters can illustrate their attacks and garner more attention.',\n",
       " 'And it’s only getting easier to do this: Last week, X incorporated the newest iteration of the generative-AI engine Grok, which operates with fewer guardrails than some competing models and has already conjured up untold illustrations of celebrities and politicians in compromising situations.',\n",
       " 'It’s helpful to think of these photos and illustrations not as nefarious deepfakes or even hyper-persuasive propaganda, but as digital chum—Shrimp Jesus on the campaign trail.',\n",
       " 'For now, little (if any) of what’s being generated is convincing enough to fool voters, and most of it is being used to confirm the priors of true believers.',\n",
       " 'Still, the glut of AI-created political imagery is a pollutant in a broader online information ecosystem.',\n",
       " 'This AI slop doesn’t just exist in a vacuum of a particular social network: It leaves an ecological footprint of sorts on the web.',\n",
       " 'The images are created, copied, shared, and embedded into websites; they are indexed into search engines.',\n",
       " 'It’s possible that, later on, AI-art tools will train on these distorted depictions, creating warped, digitally inbred representations of historical figures.',\n",
       " 'The very existence of so much quickly produced fake imagery adds a layer of unreality to the internet.',\n",
       " 'You and I, like voters everywhere, must wade through this layer of junk, wearily separating out what’s patently fake, what’s real, and what exists in the murky middle.',\n",
       " 'In many ways, political slop is a logical end point for these image generators, which seem most useful for people trying to make a quick buck.',\n",
       " 'Photography, illustration, and graphic design previously required skill or, at the very least, time to create something interesting enough to attract attention, which, online, can be converted into real money.',\n",
       " 'Now free or easily affordable tools have flooded the market.',\n",
       " 'What once took expert labor is now spam, powered by tools trained on the output of real artists and photographers.',\n",
       " 'Spam is annoying, but ultimately easy to ignore—that is, until it collides with the negative incentives of social-media platforms, where it’s used by political shitposters and hucksters.',\n",
       " 'Then the images become something else.',\n",
       " 'In the hands of Trump, they create small news cycles and narratives to be debunked.',\n",
       " 'In the hands of influencers, they are fired at our timelines in a scattershot approach to attract a morsel of attention.',\n",
       " 'As with the Facebook AI-slop farms, social media shock jocks churning out obviously fake, low-quality images don’t care whether they’re riling up real people, boring them, or creating fodder for bots and other spammers.',\n",
       " 'It is engagement for engagement’s sake.',\n",
       " 'Mindlessly generated information chokes our information pathways, forcing consumers to do the work of discarding it.',\n",
       " 'That these tools should end up as the medium of choice for Trump’s political movement makes sense, too.',\n",
       " 'It stands to reason that a politician who, for many years, has spun an unending series of lies into a patchwork alternate reality would gravitate toward a technology that allows one to, with a brief prompt, rewrite history so that it flatters him.',\n",
       " 'Just as it seems obvious that Trump’s devoted followers—an extremely online group that has so fully embraced conspiracy theorizing and election denial that some of its members stormed the Capitol building—would delight in the bespoke memes and crude depictions of AI art.',\n",
       " 'The MAGA movement has spent nine years building a coalition of conspiratorial hyper-partisans dedicated to creating a fictional information universe to cocoon themselves in.',\n",
       " 'Now they can illustrate it.',\n",
       " 'For me, it’s the amber glow of the fry machine gently illuminating the exhausted 45th president of the United States of America.',\n",
       " 'The glare of the potato-warming apparatus casts a shadow on the left side of Donald Trump’s face as he works at a McDonald’s in Bucks County, Pennsylvania.',\n",
       " 'This man, who held the nuclear codes just 1,369 days ago, is now wearing an apron and doling out fast food.',\n",
       " 'The images of Trump’s McDonald’s stunt—in which he jiggled the fryer and handed burgers out of a window yesterday—are uncanny.',\n",
       " 'There’s Trump, face contorted in the appearance of deep concentration, tilting a fry basket to the heavens; Trump hanging two-thirds of the way out a drive-through window, waving like a beleaguered Norman Rockwell character; Trump, mouth agape, appearing to yell into the middle distance of a fast-food parking lot.',\n",
       " 'The shadows of the McDonald’s kitchen, the interplay between the sheen of the stainless steel and the cast of the nugget-warming lights, give the very real photos a distinct Midjourney aesthetic.',\n",
       " 'These pictures immediately reminded me of the viral, glossy AI-generated images of Trump being arrested and thrown in jail that started circulating in the spring of 2023.',\n",
       " 'Perhaps it’s because my feeds have been simultaneously clogged with election-season garbage and AI-generated slop, but the McDonald’s photoshoot struck me as a moment of strange synthesis, where reality and tech-enabled fiction felt somehow mashed together by the internet’s cultural particle accelerator.',\n",
       " 'Trump proffering Dollar Menu items isn’t AI, but it is still slop in all the ways that matter: a hastily staged depiction of a fairly stupid, though entertaining fantasy, meant to delight, troll, and, most important, emphasize a false impression of the candidate.',\n",
       " 'This is clarifying, insofar that it demonstrates that Trump’s primary output is always a kind of slop.',\n",
       " 'Slop, as it relates to AI, is loosely defined as spammy, cheap blocks of text, video, or images, quickly generated by computer programs for mass distribution.',\n",
       " 'But nonsynthetic slop is everywhere too.',\n",
       " 'What is a Trump rally but a teleprompter reading of stump-speech slop, interspersed with inexplicable lorem ipsum about Hannibal Lecter and wind turbines spun up by the unknowable language model in Trump’s own head?',\n",
       " 'What are Trump’s tweets and Truth Social shitposts if not slop morsels, hurled into the internet’s ether for the rest of us to react to?',\n",
       " 'And what is the Trump campaign producing if not fantastical propaganda intended to conjure a false image of Joe Biden’s America as a dark, dangerous place on the verge of destruction, besieged by immigrants, and savable only by one heroic man?',\n",
       " '(For instance, earlier today, Trump posted an AI-generated picture of himself as a buff Pittsburgh Steelers lineman.)',\n",
       " 'The McDonald’s photo op was barely real: The restaurant was closed to the public during Trump’s visit.',\n",
       " 'He ignored a question about the minimum wage.',\n",
       " 'Only prescreened customers were allowed in the drive-through, and those customers were not able to place orders—they just took whatever Trump handed to them.',\n",
       " 'Like any good AI slop, the op illustrated a fantasy—in this case, that Trump, a man who has long lived in a gilded penthouse, is a working-class man.',\n",
       " 'In August, I wrote that AI slop is now the aesthetic of the far-right and MAGA coalition, in part because it allows hyper-partisans to illustrate the fictional universe they’ve been peddling and living in for the past decade-plus.',\n",
       " 'But MAGA world has always trafficked in slop.',\n",
       " 'Old memes depicted “God Emperor” Trump.',\n",
       " 'Right-wing artists including Ben Garrison and Jon McNaughton have long illustrated Trump in an absurd light—hulking and hypermasculine or holding a lantern on a boat, like George Washington crossing the Delaware.',\n",
       " 'This was proto-slop, for a simpler, more analog time.',\n",
       " 'Slop isn’t necessarily a commentary on quality so much as on how it is meant to be consumed: fleetingly, and with little or no thought beyond the initial limbic-system response.',\n",
       " 'The main characteristic of slop is that there is an endless supply of it.',\n",
       " 'And so it makes sense that campaigns—not just Trump’s—tend to traffic in it.',\n",
       " 'Campaigns are nothing if not aggressive, often-desperate content farms hoping to get attention.',\n",
       " 'In service of that mission, they meme, pander, email, and text, frequently in cringeworthy fashion.',\n",
       " 'Not unlike the fast food that Trump was hawking, slop is sometimes delicious, but it is never nutrient dense.',\n",
       " 'AI slop has clogged the internet with synthetic ephemera, but it has also given a name to the human-made attentional grist that’s all around us—the slop that exists in real life, in meatspace.',\n",
       " 'Trump was really at that Buck’s County McDonald’s, debasing himself for swing-state votes in the same way that candidates have for generations (see: Rick Perry eating a corn dog in 2011).',\n",
       " 'Presidential campaigning has long offered an unreal portrait of American life—it’s just been made more peculiar by the presence of Trump.',\n",
       " 'If AI slop can teach us something about a man like Trump, it seems that the opposite is also true.',\n",
       " 'In the lead-up to the candidate’s fast-food stop, various news outlets, fans, and even T-shirt sellers used generative-AI tools to mock up what the visit might look like.',\n",
       " 'The photos aren’t terribly far off (a few of them accurately placed Trump in an apron), but all of them seem to be trying too hard.',\n",
       " 'In some, Trump’s clothing is too garish; in others, he’s toting a comically large amount of food.',\n",
       " 'None capture the awkward banality of the candidate’s actual campaign stop.',\n",
       " 'In his own way, Trump has shown us all the limits of artificial intelligence.',\n",
       " 'Computers, at least for now, cannot quite capture the crushing surreality and maddening absurdity of modern electoral politics.',\n",
       " 'When Donald Trump shared a slew of AI-generated images this week that falsely depicted Taylor Swift and her fans endorsing his campaign for president, the former US president was amplifying the work of a murky non-profit with aspirations to bankroll rightwing media influencers and a history of spreading misinformation.',\n",
       " 'Several of the images Trump posted on his Truth Social platform, which showed digitally rendered young women in “Swifties for Trump” T-shirts, were the products of the John Milton Freedom Foundation.',\n",
       " 'Launched last year, the Texas-based non-profit organization frames itself as a press freedom group with the goal of “empowering independent journalists” and “fortifying the bedrock of democracy”.',\n",
       " 'The group’s day-to-day operations appear to revolve around sharing engagement bait on X and seeking millions from donors for a “fellowship program” chaired by a high school sophomore that would award $100,000 to Twitter personalities such as Glenn Greenwald, Andy Ngo and Lara Logan, according to a review of the group’s tax records, investor documents and social media output.',\n",
       " 'The John Milton Freedom Foundation did not respond to a request for comment to a set of questions about its operations and fellowship program.',\n",
       " 'After months of retweeting conservative media influencers and echoing Elon Musk’s claims that freedom of speech is under attack from leftwing forces, one of the organization’s messages found its way to Trump and then his millions of supporters.',\n",
       " 'Trump distanced himself from the images in an interview with Fox Business on Wednesday, saying: “I don’t know anything about them other than someone else generated them.',\n",
       " 'I didn’t generate them.”\\nDisinformation researchers have long warned that generative AI has the ability to lower the bar for creating misleading content and threaten information around elections.',\n",
       " 'After Musk’s xAI company released its largely unregulated Grok image generator last week, there has been a surge of AI content that has included depictions of Trump, Kamala Harris and other political figures.',\n",
       " 'The Milton Freedom Foundation is one of many small groups flooding social media with so-called AI slop.',\n",
       " 'A niche non-profit’s AI slop makes its way to Trump\\nDuring the spike in AI images on X, the conservative @amuse account posted the images of AI-generated Swift fans to more than 300,000 followers.',\n",
       " 'On the text of the post, which was labeled “satire”, was a watermark that stated it was “sponsored by the John Milton Freedom Foundation”.',\n",
       " 'Trump posted a screenshot of @amuse’s tweet on Truth Social.',\n",
       " 'The @amuse account has considerable reach itself, with about 390,000 followers on X and dozens of daily posts.',\n",
       " 'Running @amuse appears to be Alexander Muse, listed as a consultant in the investor prospectus of the Milton Foundation, who also writes a rightwing commentary Substack that includes posts exploring election conspiracy theories.',\n",
       " 'The @amuse account has numerous connections with Muse.',\n",
       " 'The X account is connected to a Substack posting the same articles that Muse publishes on his LinkedIn page, which also has the username “amuse”, reflecting his first initial and last name.',\n",
       " 'Muse’s book on how to secure startup funding, which includes examples of him asking ChatGPT to pretend it’s Musk and offer business advice, lists that same Substack account as its publisher.',\n",
       " 'Prominent accounts including Musk have shared and replied to @amuse’s posts, which recently have included AI depictions of Trump fighting Darth Vader and sexualized imagery of Harris.',\n",
       " 'Its banner picture is currently an AI-generated photo of Trump surrounded by women in “Swifties” shirts.',\n",
       " 'The account posts misleading, pro-Trump headlines such as claiming Harris turned hundreds of thousands of children over to human traffickers as “border czar”.',\n",
       " 'The headlines, like the AI-generated Swifties for Trump images, come with the watermark “sponsored by the John Milton Freedom Foundation”.',\n",
       " 'The John Milton Freedom Foundation, named after the 17th-century British poet and essayist, has a small online footprint: a website, an investor prospectus and an X account with fewer than 500 followers.',\n",
       " 'The team behind it, according to its own documents, consists of five people based in the Dallas-Fort Worth area with varying degrees of experience in Republican politics.',\n",
       " 'Muse’s daughter, described as a 10th grade honor student on the non-profit’s site, serves as the Milton Foundation’s “fellowship chair”.',\n",
       " 'The foundation’s stated goal is to raise $2m from major donors to award $100,000 grants to a list of “fellows” made up of rightwing media influencers.',\n",
       " 'These include people like the former CBS journalist turned far-right star Lara Logan, who was cut from Newsmax in recent years for going on a QAnon-inspired rant that claimed world leaders drink children’s blood, as well as the author of an anti-trans children’s book.',\n",
       " 'The organization believes that this money would allow these already established influencers to “increase their reach by more than 10x in less than a year”, according to its investor prospectus.',\n",
       " 'While only one of the fellows listed on the foundation’s site mentions the organization on their X profiles and none follow its account, the @amuse account has a prominent link to the group’s community page and the foundation often engages with its posts.',\n",
       " 'It is not clear that the foundation has any money to give and if all the media influencers listed as its 2024 fellowship class know about the organization.',\n",
       " 'One Texas-based account that posts anti-vaccine content lists itself as a “JMFF” fellow in their bio, but none of the others advertise any connection.',\n",
       " 'The most recent tax records for the Freedom Foundation place it in the category of non-profits whose gross receipts, or total funds received from all sources, range from $0 to $50,000 – far below the millions it is seeking.',\n",
       " 'The organization’s board includes its chair, Brad Merritt, who is touted as an experienced Republican organizer with claims to have raised $300m for various non-profits; its director, Shiree Sanchez, who served as assistant director of the Republican party of Texas between 1985 and 1986; and Mark Karaffa, a retired healthcare industry executive.',\n",
       " 'Muse’s experience in digital media appears to be far more extensive than the non-profit’s other members.',\n",
       " 'In addition to his blog, he claims to have worked with James O’Keefe, the former CEO of the rightwing organization Project Veritas, who was known for hidden camera stings until he was ousted last year over allegations of misplaced funds.',\n",
       " 'Muse, who is described in the prospectus as a “serial entrepreneur”, also blogs about how to make money from generative AI.',\n",
       " 'Subscribe\\nBy now, if you have spent any amount of time reading about the devastation wrought by Hurricane Helene, it is likely that you have seen the AI-generated image above.',\n",
       " 'This is the exact same type of AI-generated slop that has gone viral time and time again over the last year on Facebook and other platforms and that I have written about numerous times.',\n",
       " 'Something very disheartening is happening with this particular image, however.',\n",
       " 'A specific segment of the people who have seen and understand that it is AI-generated simply do not care that it is not real and that it did not happen.',\n",
       " 'To them, the image captures a vibe that is useful to them politically.',\n",
       " 'In this case, the image is being used to further the idea that Joe Biden, Kamala Harris, and FEMA have messed up the hurricane response, leading to little girls suffering in a flood with their puppies.',\n",
       " 'Here is Amy Kremer, a National Committeewoman for the Republican National Convention and cofounder of Women for Trump, saying that she knows the image is fake but simply does not care:',\n",
       " 'I’m Running Out of Ways to Explain How Bad This Is\\nWhat’s happening in America today is something darker than a misinformation crisis.',\n",
       " 'ET on October 11, 2024\\nThe truth is, it’s getting harder to describe the extent to which a meaningful percentage of Americans have dissociated from reality.',\n",
       " 'As Hurricane Milton churned across the Gulf of Mexico last night, I saw an onslaught of outright conspiracy theorizing and utter nonsense racking up millions of views across the internet.',\n",
       " 'The posts would be laughable if they weren’t taken by many people as gospel.',\n",
       " 'Among them: Infowars’ Alex Jones, who claimed that Hurricanes Milton and Helene were “weather weapons” unleashed on the East Coast by the U.S. government, and “truth seeker” accounts on X that posted photos of condensation trails in the sky to baselessly allege that the government was “spraying Florida ahead of Hurricane Milton” in order to ensure maximum rainfall, “just like they did over Asheville!”\\nAs Milton made landfall, causing a series of tornados, a verified account on X reposted a TikTok video of a massive funnel cloud with the caption “WHAT IS HAPPENING TO FLORIDA?',\n",
       " '!” The clip, which was eventually removed but had been viewed 662,000 times as of yesterday evening, turned out to be from a video of a CGI tornado that was originally published months ago.',\n",
       " 'Scrolling through these platforms, watching them fill with false information, harebrained theories, and doctored images—all while panicked residents boarded up their houses, struggled to evacuate, and prayed that their worldly possessions wouldn’t be obliterated overnight—offered a portrait of American discourse almost too bleak to reckon with head-on.',\n",
       " 'Even in a decade marred by online grifters, shameless politicians, and an alternative right-wing-media complex pushing anti-science fringe theories, the events of the past few weeks stand out for their depravity and nihilism.',\n",
       " 'As two catastrophic storms upended American cities, a patchwork network of influencers and fake-news peddlers have done their best to sow distrust, stoke resentment, and interfere with relief efforts.',\n",
       " 'But this is more than just a misinformation crisis.',\n",
       " 'To watch as real information is overwhelmed by crank theories and public servants battle death threats is to confront two alarming facts: first, that a durable ecosystem exists to ensconce citizens in an alternate reality, and second, that the people consuming and amplifying those lies are not helpless dupes but willing participants.',\n",
       " 'Some of the lies and obfuscation are politically motivated, such as the claim that FEMA is offering only $750 in total to hurricane victims who have lost their home.',\n",
       " '(In reality, FEMA offers $750 as immediate “Serious Needs Assistance” to help people get basic supplies such as food and water.)',\n",
       " 'Donald Trump, J. D. Vance, and Fox News have all repeated that lie.',\n",
       " 'Trump also posted (and later deleted) on Truth Social that FEMA money was given to undocumented migrants, which is untrue.',\n",
       " 'Elon Musk, who owns X, claimed—without evidence—that FEMA was “actively blocking shipments and seizing goods and services locally and locking them away to state they are their own.',\n",
       " 'It’s very real and scary how much they have taken control to stop people helping.” That post has been viewed more than 40 million times.',\n",
       " 'Other influencers, such as the Trump sycophant Laura Loomer, have urged their followers to disrupt the disaster agency’s efforts to help hurricane victims.',\n",
       " '“Do not comply with FEMA,” she posted on X.',\n",
       " '“This is a matter of survival.”\\nThe result of this fearmongering is what you might expect.',\n",
       " 'Angry, embittered citizens have been harassing government officials in North Carolina, as well as FEMA employees.',\n",
       " 'According to an analysis by the Institute for Strategic Dialogue, an extremism-research group, “Falsehoods around hurricane response have spawned credible threats and incitement to violence directed at the federal government,” including “calls to send militias to face down FEMA.” The study also found that 30 percent of the X posts analyzed by ISD “contained overt antisemitic hate, including abuse directed at public officials such as the Mayor of Asheville, North Carolina; the FEMA Director of Public Affairs; and the Secretary of the Department of Homeland Security.” The posts received a collective 17.1 million views as of October 7.',\n",
       " 'Online, first responders are pleading with residents, asking for their help to combat the flood of lies and conspiracy theories.',\n",
       " 'FEMA Administrator Deanne Criswell said that the volume of misinformation could hamper relief efforts.',\n",
       " '“If it creates so much fear that my staff doesn’t want to go out in the field, then we’re not going to be in a position where we can help people,” she said in a news conference on Tuesday.',\n",
       " 'In Pensacola, North Carolina, Assistant Fire Chief Bradley Boone vented his frustrations on Facebook: “I’m trying to rescue my community,” he said in a livestream.',\n",
       " '“I ain’t got time.',\n",
       " 'I ain’t got time to chase down every Facebook rumor … We’ve been through enough.”\\nIt is difficult to capture the nihilism of the current moment.',\n",
       " 'The pandemic saw Americans, distrustful of authority, trying to discredit effective vaccines, spreading conspiracy theories, and attacking public-health officials.',\n",
       " 'But what feels novel in the aftermath of this month’s hurricanes is how the people doing the lying aren’t even trying to hide the provenance of their bullshit.',\n",
       " 'Similarly, those sharing the lies are happy to admit that they do not care whether what they’re pushing is real or not.',\n",
       " 'Such was the case last week, when Republican politicians shared an AI-generated viral image of a little girl holding a puppy while supposedly fleeing Helene.',\n",
       " 'Though the image was clearly fake and quickly debunked, some politicians remained defiant.',\n",
       " '“Y’all, I don’t know where this photo came from and honestly, it doesn’t matter,” Amy Kremer, who represents Georgia on the Republican National Committee, wrote after sharing the fake image.',\n",
       " '“I’m leaving it because it is emblematic of the trauma and pain people are living through right now.”\\nKremer wasn’t alone.',\n",
       " 'The journalist Parker Molloy compiled screenshots of people “acknowledging that this image is AI but still insisting that it’s real on some deeper level”—proof, Molloy noted, that we’re “living in the post-reality.” The technology writer Jason Koebler argued that we’ve entered the “‘Fuck It’ Era” of AI slop and political messaging, with AI-generated images being used to convey whatever partisan message suits the moment, regardless of truth.',\n",
       " 'This has all been building for more than a decade.',\n",
       " 'On The Colbert Report, back in 2005, Stephen Colbert coined the word truthiness, which he defined as “the belief in what you feel to be true rather than what the facts will support.” This reality-fracturing is the result of an information ecosystem that is dominated by platforms that offer financial and attentional incentives to lie and enrage, and to turn every tragedy and large event into a shameless content-creation opportunity.',\n",
       " 'This collides with a swath of people who would rather live in an alternate reality built on distrust and grievance than change their fundamental beliefs about the world.',\n",
       " 'But the misinformation crisis is not always what we think it is.',\n",
       " 'So much of the conversation around misinformation suggests that its primary job is to persuade.',\n",
       " 'But as Michael Caulfield, an information researcher at the University of Washington, has argued, “The primary use of ‘misinformation’ is not to change the beliefs of other people at all.',\n",
       " 'Instead, the vast majority of misinformation is offered as a service for people to maintain their beliefs in face of overwhelming evidence to the contrary.” This distinction is important, in part because it assigns agency to those who consume and share obviously fake information.',\n",
       " 'What is clear from comments such as Kremer’s is that she is not a dupe; although she may come off as deeply incurious and shameless, she is publicly admitting to being an active participant in the far right’s world-building project, where feel is always greater than real.',\n",
       " 'What we’re witnessing online during and in the aftermath of these hurricanes is a group of people desperate to protect the dark, fictitious world they’ve built.',\n",
       " 'Rather than deal with the realities of a warming planet hurling once-in-a-generation storms at them every few weeks, they’d rather malign and threaten meteorologists, who, in their minds, are “nothing but a trained subversive liar programmed to spew stupid shit to support the global warming bullshit,” as one X user put it.',\n",
       " 'It is a strategy designed to silence voices of reason, because those voices threaten to expose the cracks in their current worldview.',\n",
       " 'As one dispirited meteorologist wrote on X this week, “Murdering meteorologists won’t stop hurricanes.” She followed with: “I can’t believe I just had to type that.”\\nWhat is clear is that a new framework is needed to describe this fracturing.',\n",
       " 'Misinformation is too technical, too freighted, and, after almost a decade of Trump, too political.',\n",
       " 'Nor does it explain what is really happening, which is nothing less than a cultural assault on any person or institution that operates in reality.',\n",
       " 'If you are a weatherperson, you’re a target.',\n",
       " 'The same goes for journalists, election workers, scientists, doctors, and first responders.',\n",
       " 'These jobs are different, but the thing they share is that they all must attend to and describe the world as it is.',\n",
       " 'This makes them dangerous to people who cannot abide by the agonizing constraints of reality, as well as those who have financial and political interests in keeping up the charade.',\n",
       " 'In one sense, these attacks—and their increased desperation—make sense.',\n",
       " 'The world feels dark; for many people, it’s tempting to meet that with a retreat into the delusion that they’ve got everything figured out, that the powers that be have conspired against them directly.',\n",
       " 'But in turning away, they exacerbate a crisis that has characterized the Trump era, one that will reverberate to Election Day and beyond.',\n",
       " 'Americans are divided not just by political beliefs but by whether they believe in a shared reality—or desire one at all.',\n",
       " 'This article previously stated that Bradley Boone is the assistant fire chief in Pensacola, Florida.',\n",
       " 'In fact, he is based in Pensacola, North Carolina.',\n",
       " '“We didn’t start by saying: ‘OK, we need to do this with AI,’” he said.',\n",
       " 'Others expressed similar concerns: \"This is such slop bro.',\n",
       " '“More than cost, it’s the speed,” Thakar told Ad Age.',\n",
       " '“Speed is I would say five times, right?',\n",
       " 'And that is a huge benefit.',\n",
       " 'The production time would have taken, traditionally, much longer.',\n",
       " \"AI remains a hot-button topic in creative industries, emerging as a major point of contention in last year's Hollywood writers' and actors' strikes and in the current video game actor strike.\",\n",
       " \"For more on the issue, check out IGN's full AI Week coverage from last year, including a report about how it's become the new battleground in the animation industry.\",\n",
       " '#HolidayFactz.”\\nMany artists and creative professionals have pushed back against the use of AI in creative works, arguing that the technology may be used to replace human workers and that many AI models were trained on artists’ work without proper compensation or credit.',\n",
       " 'The company even has its own global head of generative AI.',\n",
       " 'Tim DeStefano, a research professor at Georgetown University McDonough School of Business, told NBC News that using AI technology means a significant drop in the price of creating commercials.',\n",
       " '“Most of the time, when we see the deployment of new technologies, you see the creation of a bunch of new jobs that never existed before,” DeStefano said, addressing the focus on how AI is affecting the job market.',\n",
       " 'He cited the budgetary advantages of the project along with the speed at which the work could be created.',\n",
       " '“And that was kind of a starting point.”\\n“A.I.',\n",
       " '“If I want to go very realistic, maybe it’s difficult, but if I want to go hyper-realistic and fantastical, A.I.',\n",
       " 'A New Super-Group of Creative Talent: The Independents has acquired more than a dozen companies in the last two years.',\n",
       " 'The result is a conglomerate that has never before existed in fashion.',\n",
       " 'The robotic voice, familiar to anyone who frequents YouTube Shorts, Instagram Reels, or TikTok, is generally associated with low-effort, mass-produced AI content.',\n",
       " '\"Disgusting application of AI.\"',\n",
       " 'The approach resembles the workflow of content farms, which rely on fully AI-driven production - from script to video to narration - typically for the sole purpose of engagement farming.',\n",
       " 'Posts questioning its authenticity were widely shared on X.',\n",
       " 'These examples aren’t anomalies and they speak to a larger issue: a fundamental misunderstanding of how to use AI.',\n",
       " 'AI is a double-edged sword\\nIn the rush to embrace AI, brands risk leaving their critical-thinking skills behind.',\n",
       " 'The public is more concerned with the outcome than the process.',\n",
       " 'Most people aren’t interested in whether the latest cutting-edge systems have been deployed if the result is clumsy, generic and flat.',\n",
       " 'Consumers are becoming increasingly intolerant of AI-generated missteps, even from their favourite brands.',\n",
       " 'This year’s backlashes highlights a key risk for businesses adopting AI in 2025.',\n",
       " 'Using automation in the wrong places has the power to turn your most loyal fans into vocal critics.',\n",
       " 'Using AI the right way\\nBut using AI is not a mistake in itself, the problem is how brands choose to harness it.',\n",
       " 'For example, generative AI cannot replace genuine human creativity – it is merely a mulch of previous human ideas.',\n",
       " 'This isn’t to say that AI should automatically be removed from the creative sphere.',\n",
       " 'The key is to apply the right models to the right use cases.',\n",
       " 'For instance, AI can be used to automate repetitive, low-value tasks, freeing up time for teams to focus on high-value, strategic initiatives.',\n",
       " 'By leveraging AI in this way, businesses can enhance productivity, without delegating their most important tasks to tech that isn’t suited to the task.',\n",
       " 'If brands want to reap the full benefit of AI, they should also take a closer look at their data.',\n",
       " 'Successful AI models run on high-quality, well-governed data, so getting this in order should be top of the agenda for 2025.',\n",
       " 'Businesses should be checking their data is accurately labelled and properly secured, ensuring sensitive data is only accessible to those who need it.',\n",
       " 'As adoption becomes more widespread, we’re likely to see brands churn out more AI slop.',\n",
       " 'If businesses can learn from their peers’ mistakes and apply AI in the right way, they’ll have an opportunity to enhance their offering, rather than become an example of bad use cases.',\n",
       " 'Paul Maker is chief technology officer at Aiimi.',\n",
       " 'Posts questioning its authenticity were widely shared on X.',\n",
       " 'The fake advert - which has been dubbed \"AI slop\" for its use of poorly-generated imagery - is one of several tests currently being run across the publisher\\'s social media profiles.',\n",
       " \"Why Brands Are Embracing 'Italian Brainrot' to Go Viral on TikTok and Win Over Gen Z\\nNews provided by\\nApr 15, 2025, 2:30 AM ET\\nHuman Centric Group decodes the viral Italian Brainrot trend and explains why it’s more than just a meme for brands chasing Gen Z.\",\n",
       " 'De Nittis’ article, published today on Human Centric Group’s website, breaks down how brands like Ryanair and Samsung are jumping on the trend and seeing six-figure engagement spikes — all while barely lifting a production finger.',\n",
       " 'So, what is Italian Brainrot?',\n",
       " 'Think AI-generated characters with names like Tralalero Tralala (a shark in sneakers) or Špijuniro Golubiro (a spy pigeon), yelling nonsense in robotic Italian while bouncing across chaotic, low-fi visuals.',\n",
       " \"It's loud, messy, and wildly popular — exactly the kind of content that sticks with Gen Z.\",\n",
       " 'One video posted by TikTok user @amoamimandy.1a featuring the Tralalero shark has already passed 7 million views.',\n",
       " \"Ryanair’s version hit 150,000 views, and Samsung Belgium's remix trended hard in early April.\",\n",
       " 'De Nittis notes that brands leveraging this meme-based chaos aren’t doing it for laughs — they’re using it to inject themselves into the fast-moving, low-effort humor loops Gen Z thrives on.',\n",
       " '“Italian Brainrot is ridiculous — and that’s the point,” says De Nittis.',\n",
       " '“Gen Z loves content that feels spontaneous, surreal, and made for instant consumption.',\n",
       " 'Smart brands recognize this not just as entertainment, but as a ritual of participation.',\n",
       " 'They’re not just jumping on trends — they’re showing they’re in on the joke.”\\nAccording to research by GWI, 76% of Gen Z uses TikTok to watch funny videos, and Lifewire reports 57% prefer short videos for product research.',\n",
       " 'Italian Brainrot hits the sweet spot: it’s fast, memeable, and demands zero cognitive load.',\n",
       " 'Scroll, laugh, forget, repeat.',\n",
       " 'But the article warns: virality is not strategy.',\n",
       " 'Brands that only copy trends risk becoming forgettable.',\n",
       " '“Ryanair succeeds not because they post Brainrot content,” De Nittis writes, “but because their version is still very Ryanair — cheap, cheeky, and chaotic.',\n",
       " 'That’s brand distinctiveness in action.”\\nThe formula is simple but powerful:\\nTrend + Brand Distinctiveness = Memorable Impact\\nThe article urges marketers to ask themselves:\\n• Do we know our brand well enough to play with chaos?',\n",
       " '• Does the trend reinforce or contradict our positioning?',\n",
       " '• Can we insert our product without feeling forced?',\n",
       " 'For brands with answers, the payoff can be immense.',\n",
       " 'For those without, chasing trends can quickly backfire.',\n",
       " 'About Human Centric Group\\nHuman Centric Group is a boutique branding agency based in London, working with global leaders like Danone, Ikea, PepsiCo, and Carlsberg.',\n",
       " 'Known for blending deep market insight with human-first storytelling, HCG helps companies create strategies that resonate across cultures and platforms.',\n",
       " 'About The Author\\nFrancesco De Nittis is manager at Human Centric Group.',\n",
       " 'He is an expert market researcher and branding consultant.',\n",
       " 'With a track record of working with leading brands like Carlsberg, Remarkable, and Tecnam Aircraft, he helps companies unlock data-driven insights for strategic growth.',\n",
       " 'Media Enquiries\\nHUMAN CENTRIC GROUP LTD\\n+44 20 3693 4480\\nemail us here\\nVisit us on social media:\\nLinkedIn\\nInstagram\\nTikTok\\nItalian Brainrot Animals\\nLegal Disclaimer:\\nEIN Presswire provides this news content \"as is\" without warranty of any kind.',\n",
       " '- Europe probes Microsoft\\'s €15M stake in AI upstart Mistral\\n- Google wants regulators to take Microsoft down a notch before it stifles AI\\n- OpenAI claims New York Times paid someone to \\'hack\\' ChatGPT\\n- US military pulls the trigger, uses AI to target air strikes\\nThe House of Illuminati went cap in hand on Facebook, saying: \"Today has been a very stressful and frustrating day for many and for that we are truly sorry.',\n",
       " \"It's baffling that so many people fell for it hook, line, and sinker.\",\n",
       " 'Not only does the copy on the website reek of generative AI, all the images have quite obviously been spurted out following a lazy prompt.',\n",
       " 'These days the general public would be well advised to assume an air of skepticism toward ... well, anything really.',\n",
       " 'AI image generators like OpenAI\\'s DALL-E do not handle words well, and one picture promises \"enchering entertainment, catgacating, live performmances, cartchy tuns, exarserdray lollipops, a pasadise of sweet teats,\" whatever any of that means.',\n",
       " \"And so it begins – the absolute dumbing down and worsening of everything from media to film to advertising to politics to the written word at the dead hands of AI, stoked by venture capitalists' rabid faith that it will be some sort of productivity silver bullet.\",\n",
       " '“Every image is AI generated along with all the gibberish text it try’s to create.',\n",
       " 'Humans are involved in the website’s search engine optimization efforts to ensure it ranks highly on sites like Google, he said, but much of the information is produced by A.I.',\n",
       " 'That information was readily available elsewhere on the internet but seems to have been missed by many people who saw or were told about the A.I.-generated content, which was also shared across social media by local people and businesses, The Irish Times reported.',\n",
       " '“On the face of it, it seems strange that people would believe it,” said Nick Anstead, an associate professor in the Department of Media and Communications at the London School of Economics and Political Science.',\n",
       " 'But on the other hand, the information didn’t just come from one source; it was disseminated across a network of influencers and presumably shared further among people who knew and trusted each other.”\\n“Not everything on the site was fake,” he added.',\n",
       " \"Stalin's Image: A new statue of Joseph Stalin in a Moscow metro station reflects Russia’s efforts to rehabilitate the memory of a bloody ruler.\",\n",
       " \"Han Song's Strange Prescience: In his stories, the author explores the disorientation accompanying China’s modernization, sometimes writing of unthinkable things that later came true.\",\n",
       " 'A Warship Capsizes: North Korea’s leader, Kim Jong-un, watched the country’s newest 5,000-ton destroyer capsize during its launch in an embarrassing military failure.',\n",
       " 'Once the article was posted the owner said it went \"viral\" on TikTok and Instagram despite the website not sharing it on their own social platforms.',\n",
       " '\"Our intentions are very pure, we tried our best to give authentic content.',\n",
       " 'Discussing the fake site, Marty Meany wrote on the tech website Goosed.ie: \"The website likely uses AI to create content quickly and cheaply where opportunities are found.',\n",
       " 'Afterward, the incident went viral as an example of AI slop seeping into the real world.',\n",
       " 'Since the generative AI boom began, a class of SEO entrepreneurs has started pumping out AI-generated content on websites and across social platforms, in efforts to make money off online advertising and affiliate marketing.',\n",
       " 'The thing is, we are the content creators.',\n",
       " 'I am the owner of a SEO agency.',\n",
       " 'We make websites and we rank them on Google.',\n",
       " 'I want to ask about the AI of it all—\\nI’ll explain it to you.',\n",
       " 'You can easily write a whole website with AI.',\n",
       " 'But it is not easy to rank on Google’s first page, and our site was ranked on the first page.',\n",
       " 'It was even on the first position of the first page.',\n",
       " 'Okay, AI was involved.',\n",
       " 'We asked ChatGPT to write the article for us, but it wasn’t ChatGPT by itself.',\n",
       " 'So we took help from AI, we took help from ChatGPT, but we optimized that ourselves.',\n",
       " 'So there was a human editor?',\n",
       " 'You cannot rank through AI content alone.',\n",
       " 'AI was involved 10 percent or 20 percent.',\n",
       " 'We were 80 percent involved.',\n",
       " 'How many other websites do you have?',\n",
       " 'I own five websites.',\n",
       " 'We try our best to give people authentic content.',\n",
       " 'We hire some of the content creators, and one is from Pakistan, and others are from some other countries.',\n",
       " 'Would you be comfortable telling me how long you’ve had this Halloween website?',\n",
       " 'You will be shocked to know that we ranked our site in three months on the Google first page.',\n",
       " \"So you've only been in operation for three months?\",\n",
       " 'It’s a huge topic, but only for one day.',\n",
       " \"So it is easy for us to generate revenue for that one day—then we don't have to put in effort throughout the year.\",\n",
       " \"We just do work for three or four months, and then we'll get the revenue.\",\n",
       " 'Could you explain more about your business model.',\n",
       " 'How do you make money?',\n",
       " 'Our business model is Google Ads.',\n",
       " 'Google Ads and affiliate marketing.',\n",
       " 'Has this made you reconsider the ways that you operate?',\n",
       " 'Will you change how you use AI going forward?',\n",
       " 'One more thing I want to add is that people should not consider Google as the standard.',\n",
       " 'Google is just a search engine, and any person can post anything on it.',\n",
       " 'Are you concerned that Google will downrank you now?',\n",
       " 'We are expecting Google will derank.',\n",
       " 'And this is because of all the misinformation provided by the journalists.',\n",
       " 'How much money do you make off SEO?',\n",
       " 'It is very personal, and it depends on the traffic.',\n",
       " 'One more thing is that we posted around 1,400 articles.',\n",
       " 'It is not easy to post 1,400 articles in three months and to make them rank in Google.',\n",
       " 'We have other articles, we have other websites.',\n",
       " 'Actually, there are few others about animals.',\n",
       " 'Another niche is about SEO, and how you can be an SEO expert, but I’m not going to reveal those.',\n",
       " 'They can be harsh, they can be rude.',\n",
       " 'Low quality books that appear to be AI generated are making their way into public libraries via their digital catalogs, forcing librarians who are already understaffed to either sort through a functionally infinite number of books to determine what is written by humans and what is generated by AI, or to spend taxpayer dollars to provide patrons with information they don’t realize is AI-generated.',\n",
       " 'Public libraries primarily use two companies to manage and lend ebooks: Hoopla and OverDrive, the latter of which people may know from its borrowing app, Libby.',\n",
       " 'Both companies have a variety of payment options for libraries, but generally libraries get access to the companies’ catalog of books and pay for customers to be able to borrow that book, with different books having different licenses and prices.',\n",
       " 'A key difference is that with OverDrive, librarians can pick and choose which books in OverDrive’s catalog they want to give their customers the option of borrowing.',\n",
       " 'With Hoopla, librarians have to opt into Hoopla’s entire catalog, then pay for whatever their customers choose to borrow from that catalog.',\n",
       " 'The only way librarians can limit what Hoopla books their customers can borrow is by setting a limit on the price of books.',\n",
       " 'For example, a library can use Hoopla but make it so their customers can only borrow books that cost the library $5 per use.',\n",
       " 'On one hand, Hoopla’s gigantic catalog, which includes ebooks, audio books, and movies, is a selling point because it gives librarians access to more for cheaper price.',\n",
       " 'On the other hand, making librarians buy into the entire catalog means that a customer looking for a book about how to diet for a healthier liver might end up borrowing Fatty Liver Diet Cookbook: 2000 Days of Simple and Flavorful Recipes for a Revitalized Liver.',\n",
       " 'The book was authored by Magda Tangy, who has no online footprint, and who has an AI-generated profile picture on Amazon, where her books are also for sale.',\n",
       " 'A spokesperson for deepfake detection company Reality Defender said that according to their platform, the headshot is 85 percent likely to be AI-generated.',\n",
       " 'Redditor Shaun_LaDee highlighted three images included in paid bundles that have irregularities that could suggest the use of generative AI.',\n",
       " 'Generative AI is one of the hottest topics within the video game and entertainment industries, which have both suffered massive layoffs in recent years.',\n",
       " 'Generative AI thus far has drawn criticism from players and creators due to a mix of ethical issues, rights issues, and AI’s struggles to produce content audiences actually enjoy.',\n",
       " 'Generative AI is one of the hottest topics within the video game and entertainment industries, which have both suffered massive layoffs in recent years.',\n",
       " 'In response, Furukawa said generative AI can be used “in creative ways,” but said its use “also raise issues with intellectual property rights.”\\nGenerative AI thus far has drawn criticism from players and creators due to a mix of ethical issues, rights issues, and AI’s struggles to produce content audiences actually enjoy.',\n",
       " '“This is important for the younger Gen Z and Gen Alpha audiences, who are the first generations that grew up digitally and are looking for personalization across everything, as well as looking for experiences to have more meaning.\"',\n",
       " 'But the most convincing examples of potential AI slop arrived in early December.',\n",
       " 'Both were laughably egregious at the time, but also fostered fears that other less obvious examples might also have been AI-generated.',\n",
       " 'Regardless, AI has proved a controversial topic within video games and other creative industries.',\n",
       " 'Legendary filmmaker Tim Burton called AI generated art \"very disturbing\" in September 2023 while Wizards of the Coast was forced to issue a correction in January 2024 after claiming it didn\\'t use AI for some Magic: The Gathering artwork when it actually did.',\n",
       " '\"Artificial intelligence (AI) and its potential implications had for some time largely been subjects of academic debate,\" he wrote.',\n",
       " '\"However, the introduction of ChatGPT, which allows anyone to easily produce writing or translations or to engage in text-based dialogue, sparked the rapid spread of generative AIs.',\n",
       " '\"I believe that generative AI has the potential not only to reshape what we create, but also to fundamentally change the processes by which we create, including programming.\"',\n",
       " 'AI technology has been seeping into game development to mixed reception.',\n",
       " 'There’s also additional concern that widespread adoption of AI could exacerbate the ongoing video game labor crisis, as it could put humans out of work.',\n",
       " 'This year, AI took a turn in the spotlight.',\n",
       " 'Kiryu began by talking about how AI and its \"potential implications\" have long been the subject of \"academic debate.\"',\n",
       " 'However, he says, the rise of ChatGPT and similar generative AI programs have the \"potential not only to reshape what we create, but also to fundamentally change the processes by which we create, including programming.\"',\n",
       " '\"Artificial intelligence (AI) and its potential implications had for some time largely been subjects of academic debate,\" he said of AI development in 2023.',\n",
       " '\"However, the introduction of ChatGPT, which allows anyone to easily produce writing or translations or to engage in text-based dialogue, sparked the rapid spread of generative AIs.',\n",
       " '\"I believe that generative AI has the potential not only to reshape what we create, but also to fundamentally change the processes by which we create, including programming.\"',\n",
       " 'Elsewhere, Microsoft now offers generative AI tools to its studios, but the industry as a whole appears sceptical of the technology.']"
      ]
     },
     "execution_count": 55,
     "metadata": {},
     "output_type": "execute_result"
    }
   ],
   "source": [
    "documents = filtered_docs[\"Document\"].tolist()\n",
    "documents"
   ]
  },
  {
   "cell_type": "code",
   "execution_count": null,
   "id": "cc1f43f5",
   "metadata": {},
   "outputs": [],
   "source": []
  }
 ],
 "metadata": {
  "kernelspec": {
   "display_name": ".venv",
   "language": "python",
   "name": "python3"
  },
  "language_info": {
   "codemirror_mode": {
    "name": "ipython",
    "version": 3
   },
   "file_extension": ".py",
   "mimetype": "text/x-python",
   "name": "python",
   "nbconvert_exporter": "python",
   "pygments_lexer": "ipython3",
   "version": "3.10.12"
  }
 },
 "nbformat": 4,
 "nbformat_minor": 5
}
