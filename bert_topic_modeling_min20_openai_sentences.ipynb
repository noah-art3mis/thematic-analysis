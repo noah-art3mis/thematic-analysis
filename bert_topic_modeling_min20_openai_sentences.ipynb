{
 "cells": [
  {
   "cell_type": "markdown",
   "id": "dd5231be",
   "metadata": {},
   "source": [
    "as per: https://colab.research.google.com/drive/1BoQ_vakEVtojsd2x_U6-_x52OOuqruj2?usp=sharing#scrollTo=w3WRXoRP2ej8\n"
   ]
  },
  {
   "cell_type": "code",
   "execution_count": 28,
   "id": "b9f62ac4",
   "metadata": {},
   "outputs": [],
   "source": [
    "import os\n",
    "import dotenv\n",
    "import openai\n",
    "import pandas as pd\n",
    "import numpy as np\n",
    "\n",
    "from typing import Text\n",
    "from bertopic import BERTopic\n",
    "from bertopic.backend import OpenAIBackend\n",
    "from nltk.tokenize import sent_tokenize, word_tokenize"
   ]
  },
  {
   "cell_type": "code",
   "execution_count": 29,
   "id": "22dcfa03",
   "metadata": {},
   "outputs": [],
   "source": [
    "MODEL_NAME = \"slop_min40_openai_sentences.ipynb\""
   ]
  },
  {
   "cell_type": "code",
   "execution_count": 30,
   "id": "697ec514",
   "metadata": {},
   "outputs": [],
   "source": [
    "df = pd.read_feather(\"analysis.feather\")\n",
    "documents = df[\"text\"].tolist()"
   ]
  },
  {
   "cell_type": "code",
   "execution_count": 31,
   "id": "e6b0d58e",
   "metadata": {},
   "outputs": [],
   "source": [
    "# comment this out for document-level, leave it in for sentence level\n",
    "sentences = [sent_tokenize(x) for x in documents]\n",
    "documents = [sentence for doc in sentences for sentence in doc]\n",
    "len(documents)\n",
    "\n",
    "df = pd.DataFrame({\"text\": documents})"
   ]
  },
  {
   "cell_type": "code",
   "execution_count": 32,
   "id": "b60c56aa",
   "metadata": {},
   "outputs": [],
   "source": [
    "# use this for the base embeddings\n",
    "# from sentence_transformers import SentenceTransformer\n",
    "\n",
    "# embedding_model = SentenceTransformer(\"all-MiniLM-L6-v2\")\n",
    "# embeddings = embedding_model.encode(documents, show_progress_bar=True)"
   ]
  },
  {
   "cell_type": "code",
   "execution_count": 33,
   "id": "50c0febd",
   "metadata": {},
   "outputs": [
    {
     "data": {
      "text/plain": [
       "(1756, 3072)"
      ]
     },
     "execution_count": 33,
     "metadata": {},
     "output_type": "execute_result"
    }
   ],
   "source": [
    "# use this if you want openai embeddings (better performance)\n",
    "dotenv.load_dotenv()\n",
    "client = openai.OpenAI(api_key=os.environ[\"OPENAI_API_KEY\"])\n",
    "embedding_model = OpenAIBackend(client, \"text-embedding-3-large\")\n",
    "\n",
    "# careful !\n",
    "# no need to compute more than once here\n",
    "# df[\"embedding\"] = df[\"text\"].apply(\n",
    "#     lambda x: client.embeddings.create(model=\"text-embedding-3-large\", input=x)\n",
    "#     .data[0]\n",
    "#     .embedding\n",
    "# )\n",
    "# df.to_feather(\"analysis_with_embeddings_40_sentences.feather\")\n",
    "\n",
    "df = pd.read_feather(\"analysis_with_embeddings_40_sentences.feather\")\n",
    "\n",
    "embeddings = np.array(df[\"embedding\"].tolist())\n",
    "embeddings.shape"
   ]
  },
  {
   "cell_type": "code",
   "execution_count": 34,
   "id": "1ed3418e",
   "metadata": {},
   "outputs": [],
   "source": [
    "# import asyncio\n",
    "# import pandas as pd\n",
    "# from openai import AsyncOpenAI, OpenAIError\n",
    "# from tqdm.asyncio import tqdm_asyncio\n",
    "# import nest_asyncio\n",
    "\n",
    "# # Enable nested event loop support (for Jupyter etc.)\n",
    "# nest_asyncio.apply()\n",
    "\n",
    "# client = AsyncOpenAI()\n",
    "\n",
    "# # Settings\n",
    "# BATCH_SIZE = 10\n",
    "# MAX_RETRIES = 3\n",
    "# RETRY_BACKOFF = 2\n",
    "# CONCURRENCY_LIMIT = 5  # Maximum concurrent OpenAI requests\n",
    "\n",
    "# semaphore = asyncio.Semaphore(CONCURRENCY_LIMIT)\n",
    "\n",
    "# async def embed_batch(texts, attempt=1):\n",
    "#     async with semaphore:\n",
    "#         try:\n",
    "#             response = await client.embeddings.create(\n",
    "#                 model=\"text-embedding-3-large\",\n",
    "#                 input=texts\n",
    "#             )\n",
    "#             return [item.embedding for item in response.data]\n",
    "\n",
    "#         except OpenAIError as e:\n",
    "#             if attempt <= MAX_RETRIES:\n",
    "#                 wait = RETRY_BACKOFF ** attempt\n",
    "#                 print(f\"[Retrying in {wait}s] Error: {e}\")\n",
    "#                 await asyncio.sleep(wait)\n",
    "#                 return await embed_batch(texts, attempt + 1)\n",
    "#             else:\n",
    "#                 print(f\"[Failed after {MAX_RETRIES} attempts] {e}\")\n",
    "#                 return [None] * len(texts)\n",
    "\n",
    "# async def embed_all(texts):\n",
    "#     batches = [texts[i:i + BATCH_SIZE] for i in range(0, len(texts), BATCH_SIZE)]\n",
    "\n",
    "#     tasks = [embed_batch(batch) for batch in batches]\n",
    "#     results = []\n",
    "#     for coro in tqdm_asyncio.gather(*tasks, desc=\"Embedding\", total=len(batches)):\n",
    "#         batch_result = await coro\n",
    "#         results.extend(batch_result)\n",
    "#     return results\n",
    "\n",
    "# async def run_embedding(df):\n",
    "#     texts = df[\"text\"].tolist()\n",
    "#     embeddings = await embed_all(texts)\n",
    "#     df[\"embedding\"] = embeddings\n",
    "#     return df\n",
    "\n",
    "# # Run the whole thing\n",
    "# df = asyncio.run(run_embedding(df))"
   ]
  },
  {
   "cell_type": "code",
   "execution_count": 35,
   "id": "40ed4102",
   "metadata": {},
   "outputs": [
    {
     "name": "stdout",
     "output_type": "stream",
     "text": [
      "Failed embeddings: 0\n"
     ]
    }
   ],
   "source": [
    "num_failed = df[\"embedding\"].apply(lambda x: x is None).sum()\n",
    "print(f\"Failed embeddings: {num_failed}\")"
   ]
  },
  {
   "cell_type": "code",
   "execution_count": 36,
   "id": "413dacd9",
   "metadata": {},
   "outputs": [],
   "source": [
    "from umap import UMAP\n",
    "\n",
    "umap_model = UMAP(\n",
    "    n_neighbors=15, n_components=5, min_dist=0.0, metric=\"cosine\", random_state=42\n",
    ")"
   ]
  },
  {
   "cell_type": "code",
   "execution_count": 37,
   "id": "d9005d1f",
   "metadata": {},
   "outputs": [],
   "source": [
    "from hdbscan import HDBSCAN\n",
    "\n",
    "# A higher min_topic_size will generate fewer topics and a lower min_topic_size will generate more topics.\n",
    "\n",
    "hdbscan_model = HDBSCAN(\n",
    "    min_cluster_size=20,\n",
    "    metric=\"euclidean\",\n",
    "    cluster_selection_method=\"eom\",\n",
    "    prediction_data=True,\n",
    ")"
   ]
  },
  {
   "cell_type": "code",
   "execution_count": 38,
   "id": "43685c78",
   "metadata": {},
   "outputs": [],
   "source": [
    "from sklearn.feature_extraction.text import CountVectorizer\n",
    "\n",
    "vectorizer_model = CountVectorizer(stop_words=\"english\", min_df=2, ngram_range=(1, 2))"
   ]
  },
  {
   "cell_type": "code",
   "execution_count": 39,
   "id": "406202d2",
   "metadata": {},
   "outputs": [],
   "source": [
    "from bertopic.representation import (\n",
    "    KeyBERTInspired,\n",
    "    MaximalMarginalRelevance,\n",
    "    OpenAI,\n",
    "    PartOfSpeech,\n",
    ")\n",
    "\n",
    "# KeyBERT\n",
    "keybert_model = KeyBERTInspired()\n",
    "\n",
    "# Part-of-Speech\n",
    "pos_model = PartOfSpeech(\"en_core_web_sm\")\n",
    "\n",
    "# MMR\n",
    "mmr_model = MaximalMarginalRelevance(diversity=0.3)\n",
    "\n",
    "# GPT\n",
    "prompt = \"\"\"\n",
    "I have a topic that contains the following documents:\n",
    "[DOCUMENTS]\n",
    "\n",
    "The topic is described by the following keywords: [KEYWORDS]\n",
    "\n",
    "Based on the information above, extract a short but highly descriptive topic label of at most 5 words. Make sure it is in the following format:\n",
    "topic: <topic label>\n",
    "\"\"\"\n",
    "openai_model = OpenAI(\n",
    "    client=openai.OpenAI(api_key=os.environ[\"OPENAI_API_KEY\"]),\n",
    "    model=\"gpt-4.1-nano-2025-04-14\",\n",
    "    exponential_backoff=True,\n",
    "    chat=True,\n",
    "    prompt=prompt,\n",
    ")\n",
    "\n",
    "# also consider, in order of pricing (0.010 -> 2.0):\n",
    "# gpt-4.1-nano-2025-04-14\n",
    "# gpt-4o-mini-2024-07-18\n",
    "# o3-mini-2025-01-31\n",
    "# o1-mini-2024-09-12\n",
    "# gpt-4.1-2025-04-14\n",
    "# o3-2025-04-16\n",
    "\n",
    "# All representation models\n",
    "representation_model = {\n",
    "    \"KeyBERT\": keybert_model,\n",
    "    \"OpenAI\": openai_model,\n",
    "    \"MMR\": mmr_model,\n",
    "    \"POS\": pos_model,\n",
    "}"
   ]
  },
  {
   "cell_type": "code",
   "execution_count": 41,
   "id": "c7ac8113",
   "metadata": {},
   "outputs": [
    {
     "name": "stderr",
     "output_type": "stream",
     "text": [
      "2025-06-11 22:50:55,125 - BERTopic - Dimensionality - Fitting the dimensionality reduction algorithm\n",
      "2025-06-11 22:51:17,891 - BERTopic - Dimensionality - Completed ✓\n",
      "2025-06-11 22:51:17,894 - BERTopic - Cluster - Start clustering the reduced embeddings\n",
      "2025-06-11 22:51:18,029 - BERTopic - Cluster - Completed ✓\n",
      "2025-06-11 22:51:18,041 - BERTopic - Representation - Fine-tuning topics using representation models.\n",
      "100%|██████████| 10/10 [00:05<00:00,  1.87it/s]\n",
      "2025-06-11 22:51:44,157 - BERTopic - Representation - Completed ✓\n"
     ]
    }
   ],
   "source": [
    "from bertopic import BERTopic\n",
    "from huggingface_hub import DocumentQuestionAnsweringOutputElement\n",
    "from numpy import ndarray\n",
    "\n",
    "topic_model = BERTopic(\n",
    "    # Pipeline models\n",
    "    embedding_model=embedding_model,\n",
    "    umap_model=umap_model,\n",
    "    hdbscan_model=hdbscan_model,\n",
    "    vectorizer_model=vectorizer_model,\n",
    "    representation_model=representation_model,  # type: ignore\n",
    "    # Hyperparameters\n",
    "    top_n_words=10,\n",
    "    verbose=True,\n",
    ")\n",
    "\n",
    "topics, probs = topic_model.fit_transform(documents, embeddings)\n",
    "# topics, probs = topic_model.fit_transform(documents)"
   ]
  },
  {
   "cell_type": "code",
   "execution_count": 42,
   "id": "f32cd953",
   "metadata": {},
   "outputs": [],
   "source": [
    "topic_model.save(MODEL_NAME, serialization=\"safetensors\")"
   ]
  },
  {
   "cell_type": "code",
   "execution_count": 43,
   "id": "40d5abdb",
   "metadata": {},
   "outputs": [
    {
     "data": {
      "application/vnd.plotly.v1+json": {
       "config": {
        "plotlyServerURL": "https://plot.ly"
       },
       "data": [
        {
         "customdata": [
          [
           0,
           "ai | slop | content | generated | facebook",
           924
          ],
          [
           1,
           "halloween | event | said | people | website",
           296
          ],
          [
           2,
           "game | ai | square | activision | development",
           186
          ],
          [
           3,
           "cola | coca cola | coca | company | ad",
           61
          ],
          [
           4,
           "2025 | march 2025 | march | 2024 | 24",
           50
          ],
          [
           5,
           "times | york | new york | eurogamer | net",
           43
          ],
          [
           6,
           "film | poster | ai | generated | ai generated",
           34
          ],
          [
           7,
           "2024 | november 2024 | november | january | august 2024",
           33
          ],
          [
           8,
           "ign | wesley | com | twitter | news editor",
           21
          ]
         ],
         "hovertemplate": "<b>Topic %{customdata[0]}</b><br>%{customdata[1]}<br>Size: %{customdata[2]}",
         "legendgroup": "",
         "marker": {
          "color": "#B0BEC5",
          "line": {
           "color": "DarkSlateGrey",
           "width": 2
          },
          "size": {
           "bdata": "nAMoAboAPQAyACsAIgAhABUA",
           "dtype": "i2"
          },
          "sizemode": "area",
          "sizeref": 0.5775,
          "symbol": "circle"
         },
         "mode": "markers",
         "name": "",
         "orientation": "v",
         "showlegend": false,
         "type": "scatter",
         "x": {
          "bdata": "IkTLQcrQxkFtN81BU4CpwFtVwUAl0QNBUXifwGrruUAFm/9A",
          "dtype": "f4"
         },
         "xaxis": "x",
         "y": {
          "bdata": "H/oXQVA1HUG6lh9B46t0wbTbsEECflJBjdBvwei1skGrek5B",
          "dtype": "f4"
         },
         "yaxis": "y"
        }
       ],
       "layout": {
        "annotations": [
         {
          "showarrow": false,
          "text": "D1",
          "x": -6.0914517641067505,
          "y": 4.051942706108093,
          "yshift": 10
         },
         {
          "showarrow": false,
          "text": "D2",
          "x": 11.704210555553436,
          "xshift": 10,
          "y": 25.689644622802735
         }
        ],
        "height": 650,
        "hoverlabel": {
         "bgcolor": "white",
         "font": {
          "family": "Rockwell",
          "size": 16
         }
        },
        "legend": {
         "itemsizing": "constant",
         "tracegroupgap": 0
        },
        "margin": {
         "t": 60
        },
        "shapes": [
         {
          "line": {
           "color": "#CFD8DC",
           "width": 2
          },
          "type": "line",
          "x0": 11.704210555553436,
          "x1": 11.704210555553436,
          "y0": -17.58575921058655,
          "y1": 25.689644622802735
         },
         {
          "line": {
           "color": "#9E9E9E",
           "width": 2
          },
          "type": "line",
          "x0": -6.0914517641067505,
          "x1": 29.499872875213622,
          "y0": 4.051942706108093,
          "y1": 4.051942706108093
         }
        ],
        "sliders": [
         {
          "active": 0,
          "pad": {
           "t": 50
          },
          "steps": [
           {
            "args": [
             {
              "marker.color": [
               [
                "red",
                "#B0BEC5",
                "#B0BEC5",
                "#B0BEC5",
                "#B0BEC5",
                "#B0BEC5",
                "#B0BEC5",
                "#B0BEC5",
                "#B0BEC5"
               ]
              ]
             }
            ],
            "label": "Topic 0",
            "method": "update"
           },
           {
            "args": [
             {
              "marker.color": [
               [
                "#B0BEC5",
                "red",
                "#B0BEC5",
                "#B0BEC5",
                "#B0BEC5",
                "#B0BEC5",
                "#B0BEC5",
                "#B0BEC5",
                "#B0BEC5"
               ]
              ]
             }
            ],
            "label": "Topic 1",
            "method": "update"
           },
           {
            "args": [
             {
              "marker.color": [
               [
                "#B0BEC5",
                "#B0BEC5",
                "red",
                "#B0BEC5",
                "#B0BEC5",
                "#B0BEC5",
                "#B0BEC5",
                "#B0BEC5",
                "#B0BEC5"
               ]
              ]
             }
            ],
            "label": "Topic 2",
            "method": "update"
           },
           {
            "args": [
             {
              "marker.color": [
               [
                "#B0BEC5",
                "#B0BEC5",
                "#B0BEC5",
                "red",
                "#B0BEC5",
                "#B0BEC5",
                "#B0BEC5",
                "#B0BEC5",
                "#B0BEC5"
               ]
              ]
             }
            ],
            "label": "Topic 3",
            "method": "update"
           },
           {
            "args": [
             {
              "marker.color": [
               [
                "#B0BEC5",
                "#B0BEC5",
                "#B0BEC5",
                "#B0BEC5",
                "red",
                "#B0BEC5",
                "#B0BEC5",
                "#B0BEC5",
                "#B0BEC5"
               ]
              ]
             }
            ],
            "label": "Topic 4",
            "method": "update"
           },
           {
            "args": [
             {
              "marker.color": [
               [
                "#B0BEC5",
                "#B0BEC5",
                "#B0BEC5",
                "#B0BEC5",
                "#B0BEC5",
                "red",
                "#B0BEC5",
                "#B0BEC5",
                "#B0BEC5"
               ]
              ]
             }
            ],
            "label": "Topic 5",
            "method": "update"
           },
           {
            "args": [
             {
              "marker.color": [
               [
                "#B0BEC5",
                "#B0BEC5",
                "#B0BEC5",
                "#B0BEC5",
                "#B0BEC5",
                "#B0BEC5",
                "red",
                "#B0BEC5",
                "#B0BEC5"
               ]
              ]
             }
            ],
            "label": "Topic 6",
            "method": "update"
           },
           {
            "args": [
             {
              "marker.color": [
               [
                "#B0BEC5",
                "#B0BEC5",
                "#B0BEC5",
                "#B0BEC5",
                "#B0BEC5",
                "#B0BEC5",
                "#B0BEC5",
                "red",
                "#B0BEC5"
               ]
              ]
             }
            ],
            "label": "Topic 7",
            "method": "update"
           },
           {
            "args": [
             {
              "marker.color": [
               [
                "#B0BEC5",
                "#B0BEC5",
                "#B0BEC5",
                "#B0BEC5",
                "#B0BEC5",
                "#B0BEC5",
                "#B0BEC5",
                "#B0BEC5",
                "red"
               ]
              ]
             }
            ],
            "label": "Topic 8",
            "method": "update"
           }
          ]
         }
        ],
        "template": {
         "data": {
          "bar": [
           {
            "error_x": {
             "color": "rgb(36,36,36)"
            },
            "error_y": {
             "color": "rgb(36,36,36)"
            },
            "marker": {
             "line": {
              "color": "white",
              "width": 0.5
             },
             "pattern": {
              "fillmode": "overlay",
              "size": 10,
              "solidity": 0.2
             }
            },
            "type": "bar"
           }
          ],
          "barpolar": [
           {
            "marker": {
             "line": {
              "color": "white",
              "width": 0.5
             },
             "pattern": {
              "fillmode": "overlay",
              "size": 10,
              "solidity": 0.2
             }
            },
            "type": "barpolar"
           }
          ],
          "carpet": [
           {
            "aaxis": {
             "endlinecolor": "rgb(36,36,36)",
             "gridcolor": "white",
             "linecolor": "white",
             "minorgridcolor": "white",
             "startlinecolor": "rgb(36,36,36)"
            },
            "baxis": {
             "endlinecolor": "rgb(36,36,36)",
             "gridcolor": "white",
             "linecolor": "white",
             "minorgridcolor": "white",
             "startlinecolor": "rgb(36,36,36)"
            },
            "type": "carpet"
           }
          ],
          "choropleth": [
           {
            "colorbar": {
             "outlinewidth": 1,
             "tickcolor": "rgb(36,36,36)",
             "ticks": "outside"
            },
            "type": "choropleth"
           }
          ],
          "contour": [
           {
            "colorbar": {
             "outlinewidth": 1,
             "tickcolor": "rgb(36,36,36)",
             "ticks": "outside"
            },
            "colorscale": [
             [
              0,
              "#440154"
             ],
             [
              0.1111111111111111,
              "#482878"
             ],
             [
              0.2222222222222222,
              "#3e4989"
             ],
             [
              0.3333333333333333,
              "#31688e"
             ],
             [
              0.4444444444444444,
              "#26828e"
             ],
             [
              0.5555555555555556,
              "#1f9e89"
             ],
             [
              0.6666666666666666,
              "#35b779"
             ],
             [
              0.7777777777777778,
              "#6ece58"
             ],
             [
              0.8888888888888888,
              "#b5de2b"
             ],
             [
              1,
              "#fde725"
             ]
            ],
            "type": "contour"
           }
          ],
          "contourcarpet": [
           {
            "colorbar": {
             "outlinewidth": 1,
             "tickcolor": "rgb(36,36,36)",
             "ticks": "outside"
            },
            "type": "contourcarpet"
           }
          ],
          "heatmap": [
           {
            "colorbar": {
             "outlinewidth": 1,
             "tickcolor": "rgb(36,36,36)",
             "ticks": "outside"
            },
            "colorscale": [
             [
              0,
              "#440154"
             ],
             [
              0.1111111111111111,
              "#482878"
             ],
             [
              0.2222222222222222,
              "#3e4989"
             ],
             [
              0.3333333333333333,
              "#31688e"
             ],
             [
              0.4444444444444444,
              "#26828e"
             ],
             [
              0.5555555555555556,
              "#1f9e89"
             ],
             [
              0.6666666666666666,
              "#35b779"
             ],
             [
              0.7777777777777778,
              "#6ece58"
             ],
             [
              0.8888888888888888,
              "#b5de2b"
             ],
             [
              1,
              "#fde725"
             ]
            ],
            "type": "heatmap"
           }
          ],
          "histogram": [
           {
            "marker": {
             "line": {
              "color": "white",
              "width": 0.6
             }
            },
            "type": "histogram"
           }
          ],
          "histogram2d": [
           {
            "colorbar": {
             "outlinewidth": 1,
             "tickcolor": "rgb(36,36,36)",
             "ticks": "outside"
            },
            "colorscale": [
             [
              0,
              "#440154"
             ],
             [
              0.1111111111111111,
              "#482878"
             ],
             [
              0.2222222222222222,
              "#3e4989"
             ],
             [
              0.3333333333333333,
              "#31688e"
             ],
             [
              0.4444444444444444,
              "#26828e"
             ],
             [
              0.5555555555555556,
              "#1f9e89"
             ],
             [
              0.6666666666666666,
              "#35b779"
             ],
             [
              0.7777777777777778,
              "#6ece58"
             ],
             [
              0.8888888888888888,
              "#b5de2b"
             ],
             [
              1,
              "#fde725"
             ]
            ],
            "type": "histogram2d"
           }
          ],
          "histogram2dcontour": [
           {
            "colorbar": {
             "outlinewidth": 1,
             "tickcolor": "rgb(36,36,36)",
             "ticks": "outside"
            },
            "colorscale": [
             [
              0,
              "#440154"
             ],
             [
              0.1111111111111111,
              "#482878"
             ],
             [
              0.2222222222222222,
              "#3e4989"
             ],
             [
              0.3333333333333333,
              "#31688e"
             ],
             [
              0.4444444444444444,
              "#26828e"
             ],
             [
              0.5555555555555556,
              "#1f9e89"
             ],
             [
              0.6666666666666666,
              "#35b779"
             ],
             [
              0.7777777777777778,
              "#6ece58"
             ],
             [
              0.8888888888888888,
              "#b5de2b"
             ],
             [
              1,
              "#fde725"
             ]
            ],
            "type": "histogram2dcontour"
           }
          ],
          "mesh3d": [
           {
            "colorbar": {
             "outlinewidth": 1,
             "tickcolor": "rgb(36,36,36)",
             "ticks": "outside"
            },
            "type": "mesh3d"
           }
          ],
          "parcoords": [
           {
            "line": {
             "colorbar": {
              "outlinewidth": 1,
              "tickcolor": "rgb(36,36,36)",
              "ticks": "outside"
             }
            },
            "type": "parcoords"
           }
          ],
          "pie": [
           {
            "automargin": true,
            "type": "pie"
           }
          ],
          "scatter": [
           {
            "fillpattern": {
             "fillmode": "overlay",
             "size": 10,
             "solidity": 0.2
            },
            "type": "scatter"
           }
          ],
          "scatter3d": [
           {
            "line": {
             "colorbar": {
              "outlinewidth": 1,
              "tickcolor": "rgb(36,36,36)",
              "ticks": "outside"
             }
            },
            "marker": {
             "colorbar": {
              "outlinewidth": 1,
              "tickcolor": "rgb(36,36,36)",
              "ticks": "outside"
             }
            },
            "type": "scatter3d"
           }
          ],
          "scattercarpet": [
           {
            "marker": {
             "colorbar": {
              "outlinewidth": 1,
              "tickcolor": "rgb(36,36,36)",
              "ticks": "outside"
             }
            },
            "type": "scattercarpet"
           }
          ],
          "scattergeo": [
           {
            "marker": {
             "colorbar": {
              "outlinewidth": 1,
              "tickcolor": "rgb(36,36,36)",
              "ticks": "outside"
             }
            },
            "type": "scattergeo"
           }
          ],
          "scattergl": [
           {
            "marker": {
             "colorbar": {
              "outlinewidth": 1,
              "tickcolor": "rgb(36,36,36)",
              "ticks": "outside"
             }
            },
            "type": "scattergl"
           }
          ],
          "scattermap": [
           {
            "marker": {
             "colorbar": {
              "outlinewidth": 1,
              "tickcolor": "rgb(36,36,36)",
              "ticks": "outside"
             }
            },
            "type": "scattermap"
           }
          ],
          "scattermapbox": [
           {
            "marker": {
             "colorbar": {
              "outlinewidth": 1,
              "tickcolor": "rgb(36,36,36)",
              "ticks": "outside"
             }
            },
            "type": "scattermapbox"
           }
          ],
          "scatterpolar": [
           {
            "marker": {
             "colorbar": {
              "outlinewidth": 1,
              "tickcolor": "rgb(36,36,36)",
              "ticks": "outside"
             }
            },
            "type": "scatterpolar"
           }
          ],
          "scatterpolargl": [
           {
            "marker": {
             "colorbar": {
              "outlinewidth": 1,
              "tickcolor": "rgb(36,36,36)",
              "ticks": "outside"
             }
            },
            "type": "scatterpolargl"
           }
          ],
          "scatterternary": [
           {
            "marker": {
             "colorbar": {
              "outlinewidth": 1,
              "tickcolor": "rgb(36,36,36)",
              "ticks": "outside"
             }
            },
            "type": "scatterternary"
           }
          ],
          "surface": [
           {
            "colorbar": {
             "outlinewidth": 1,
             "tickcolor": "rgb(36,36,36)",
             "ticks": "outside"
            },
            "colorscale": [
             [
              0,
              "#440154"
             ],
             [
              0.1111111111111111,
              "#482878"
             ],
             [
              0.2222222222222222,
              "#3e4989"
             ],
             [
              0.3333333333333333,
              "#31688e"
             ],
             [
              0.4444444444444444,
              "#26828e"
             ],
             [
              0.5555555555555556,
              "#1f9e89"
             ],
             [
              0.6666666666666666,
              "#35b779"
             ],
             [
              0.7777777777777778,
              "#6ece58"
             ],
             [
              0.8888888888888888,
              "#b5de2b"
             ],
             [
              1,
              "#fde725"
             ]
            ],
            "type": "surface"
           }
          ],
          "table": [
           {
            "cells": {
             "fill": {
              "color": "rgb(237,237,237)"
             },
             "line": {
              "color": "white"
             }
            },
            "header": {
             "fill": {
              "color": "rgb(217,217,217)"
             },
             "line": {
              "color": "white"
             }
            },
            "type": "table"
           }
          ]
         },
         "layout": {
          "annotationdefaults": {
           "arrowhead": 0,
           "arrowwidth": 1
          },
          "autotypenumbers": "strict",
          "coloraxis": {
           "colorbar": {
            "outlinewidth": 1,
            "tickcolor": "rgb(36,36,36)",
            "ticks": "outside"
           }
          },
          "colorscale": {
           "diverging": [
            [
             0,
             "rgb(103,0,31)"
            ],
            [
             0.1,
             "rgb(178,24,43)"
            ],
            [
             0.2,
             "rgb(214,96,77)"
            ],
            [
             0.3,
             "rgb(244,165,130)"
            ],
            [
             0.4,
             "rgb(253,219,199)"
            ],
            [
             0.5,
             "rgb(247,247,247)"
            ],
            [
             0.6,
             "rgb(209,229,240)"
            ],
            [
             0.7,
             "rgb(146,197,222)"
            ],
            [
             0.8,
             "rgb(67,147,195)"
            ],
            [
             0.9,
             "rgb(33,102,172)"
            ],
            [
             1,
             "rgb(5,48,97)"
            ]
           ],
           "sequential": [
            [
             0,
             "#440154"
            ],
            [
             0.1111111111111111,
             "#482878"
            ],
            [
             0.2222222222222222,
             "#3e4989"
            ],
            [
             0.3333333333333333,
             "#31688e"
            ],
            [
             0.4444444444444444,
             "#26828e"
            ],
            [
             0.5555555555555556,
             "#1f9e89"
            ],
            [
             0.6666666666666666,
             "#35b779"
            ],
            [
             0.7777777777777778,
             "#6ece58"
            ],
            [
             0.8888888888888888,
             "#b5de2b"
            ],
            [
             1,
             "#fde725"
            ]
           ],
           "sequentialminus": [
            [
             0,
             "#440154"
            ],
            [
             0.1111111111111111,
             "#482878"
            ],
            [
             0.2222222222222222,
             "#3e4989"
            ],
            [
             0.3333333333333333,
             "#31688e"
            ],
            [
             0.4444444444444444,
             "#26828e"
            ],
            [
             0.5555555555555556,
             "#1f9e89"
            ],
            [
             0.6666666666666666,
             "#35b779"
            ],
            [
             0.7777777777777778,
             "#6ece58"
            ],
            [
             0.8888888888888888,
             "#b5de2b"
            ],
            [
             1,
             "#fde725"
            ]
           ]
          },
          "colorway": [
           "#1F77B4",
           "#FF7F0E",
           "#2CA02C",
           "#D62728",
           "#9467BD",
           "#8C564B",
           "#E377C2",
           "#7F7F7F",
           "#BCBD22",
           "#17BECF"
          ],
          "font": {
           "color": "rgb(36,36,36)"
          },
          "geo": {
           "bgcolor": "white",
           "lakecolor": "white",
           "landcolor": "white",
           "showlakes": true,
           "showland": true,
           "subunitcolor": "white"
          },
          "hoverlabel": {
           "align": "left"
          },
          "hovermode": "closest",
          "mapbox": {
           "style": "light"
          },
          "paper_bgcolor": "white",
          "plot_bgcolor": "white",
          "polar": {
           "angularaxis": {
            "gridcolor": "rgb(232,232,232)",
            "linecolor": "rgb(36,36,36)",
            "showgrid": false,
            "showline": true,
            "ticks": "outside"
           },
           "bgcolor": "white",
           "radialaxis": {
            "gridcolor": "rgb(232,232,232)",
            "linecolor": "rgb(36,36,36)",
            "showgrid": false,
            "showline": true,
            "ticks": "outside"
           }
          },
          "scene": {
           "xaxis": {
            "backgroundcolor": "white",
            "gridcolor": "rgb(232,232,232)",
            "gridwidth": 2,
            "linecolor": "rgb(36,36,36)",
            "showbackground": true,
            "showgrid": false,
            "showline": true,
            "ticks": "outside",
            "zeroline": false,
            "zerolinecolor": "rgb(36,36,36)"
           },
           "yaxis": {
            "backgroundcolor": "white",
            "gridcolor": "rgb(232,232,232)",
            "gridwidth": 2,
            "linecolor": "rgb(36,36,36)",
            "showbackground": true,
            "showgrid": false,
            "showline": true,
            "ticks": "outside",
            "zeroline": false,
            "zerolinecolor": "rgb(36,36,36)"
           },
           "zaxis": {
            "backgroundcolor": "white",
            "gridcolor": "rgb(232,232,232)",
            "gridwidth": 2,
            "linecolor": "rgb(36,36,36)",
            "showbackground": true,
            "showgrid": false,
            "showline": true,
            "ticks": "outside",
            "zeroline": false,
            "zerolinecolor": "rgb(36,36,36)"
           }
          },
          "shapedefaults": {
           "fillcolor": "black",
           "line": {
            "width": 0
           },
           "opacity": 0.3
          },
          "ternary": {
           "aaxis": {
            "gridcolor": "rgb(232,232,232)",
            "linecolor": "rgb(36,36,36)",
            "showgrid": false,
            "showline": true,
            "ticks": "outside"
           },
           "baxis": {
            "gridcolor": "rgb(232,232,232)",
            "linecolor": "rgb(36,36,36)",
            "showgrid": false,
            "showline": true,
            "ticks": "outside"
           },
           "bgcolor": "white",
           "caxis": {
            "gridcolor": "rgb(232,232,232)",
            "linecolor": "rgb(36,36,36)",
            "showgrid": false,
            "showline": true,
            "ticks": "outside"
           }
          },
          "title": {
           "x": 0.05
          },
          "xaxis": {
           "automargin": true,
           "gridcolor": "rgb(232,232,232)",
           "linecolor": "rgb(36,36,36)",
           "showgrid": false,
           "showline": true,
           "ticks": "outside",
           "title": {
            "standoff": 15
           },
           "zeroline": false,
           "zerolinecolor": "rgb(36,36,36)"
          },
          "yaxis": {
           "automargin": true,
           "gridcolor": "rgb(232,232,232)",
           "linecolor": "rgb(36,36,36)",
           "showgrid": false,
           "showline": true,
           "ticks": "outside",
           "title": {
            "standoff": 15
           },
           "zeroline": false,
           "zerolinecolor": "rgb(36,36,36)"
          }
         }
        },
        "title": {
         "font": {
          "color": "Black",
          "size": 22
         },
         "text": "<b>Intertopic Distance Map</b>",
         "x": 0.5,
         "xanchor": "center",
         "y": 0.95,
         "yanchor": "top"
        },
        "width": 650,
        "xaxis": {
         "anchor": "y",
         "domain": [
          0,
          1
         ],
         "range": [
          -6.0914517641067505,
          29.499872875213622
         ],
         "title": {
          "text": ""
         },
         "visible": false
        },
        "yaxis": {
         "anchor": "x",
         "domain": [
          0,
          1
         ],
         "range": [
          -17.58575921058655,
          25.689644622802735
         ],
         "title": {
          "text": ""
         },
         "visible": false
        }
       }
      }
     },
     "metadata": {},
     "output_type": "display_data"
    }
   ],
   "source": [
    "topic_model.visualize_topics(custom_labels=True)"
   ]
  },
  {
   "cell_type": "code",
   "execution_count": 44,
   "id": "e2d6856f",
   "metadata": {},
   "outputs": [
    {
     "data": {
      "text/html": [
       "<div>\n",
       "<style scoped>\n",
       "    .dataframe tbody tr th:only-of-type {\n",
       "        vertical-align: middle;\n",
       "    }\n",
       "\n",
       "    .dataframe tbody tr th {\n",
       "        vertical-align: top;\n",
       "    }\n",
       "\n",
       "    .dataframe thead th {\n",
       "        text-align: right;\n",
       "    }\n",
       "</style>\n",
       "<table border=\"1\" class=\"dataframe\">\n",
       "  <thead>\n",
       "    <tr style=\"text-align: right;\">\n",
       "      <th></th>\n",
       "      <th>Topic</th>\n",
       "      <th>Count</th>\n",
       "      <th>Name</th>\n",
       "      <th>CustomName</th>\n",
       "      <th>Representation</th>\n",
       "      <th>KeyBERT</th>\n",
       "      <th>OpenAI</th>\n",
       "      <th>MMR</th>\n",
       "      <th>POS</th>\n",
       "      <th>Representative_Docs</th>\n",
       "    </tr>\n",
       "  </thead>\n",
       "  <tbody>\n",
       "    <tr>\n",
       "      <th>0</th>\n",
       "      <td>-1</td>\n",
       "      <td>108</td>\n",
       "      <td>-1_2024_block_birds_angry birds</td>\n",
       "      <td>Outlier Topic</td>\n",
       "      <td>[2024, block, birds, angry birds, angry, spoti...</td>\n",
       "      <td>[angry birds, rovio, birds block, block quest,...</td>\n",
       "      <td>[Angry Birds Block Puzzle Game]</td>\n",
       "      <td>[angry birds, spotify, block quest, birds bloc...</td>\n",
       "      <td>[block, users, soft, launch, stories, title, p...</td>\n",
       "      <td>[- Angry Birds Block Quest is a block puzzle g...</td>\n",
       "    </tr>\n",
       "    <tr>\n",
       "      <th>1</th>\n",
       "      <td>0</td>\n",
       "      <td>924</td>\n",
       "      <td>0_ai_slop_content_generated</td>\n",
       "      <td>AI-Generated Content and Slop</td>\n",
       "      <td>[ai, slop, content, generated, facebook, image...</td>\n",
       "      <td>[slop, ai generated, ai slop, generative ai, a...</td>\n",
       "      <td>[AI-Generated Content and Slop]</td>\n",
       "      <td>[generated, ai generated, ai slop, trump, plat...</td>\n",
       "      <td>[slop, content, images, people, media, social,...</td>\n",
       "      <td>[- ^ \"Slop is the new name for unwanted AI-gen...</td>\n",
       "    </tr>\n",
       "    <tr>\n",
       "      <th>2</th>\n",
       "      <td>1</td>\n",
       "      <td>296</td>\n",
       "      <td>1_halloween_event_said_people</td>\n",
       "      <td>Dublin Halloween Parade False Listing</td>\n",
       "      <td>[halloween, event, said, people, website, stre...</td>\n",
       "      <td>[halloween, events, event, ireland, irish, adv...</td>\n",
       "      <td>[Dublin Halloween Parade False Listing]</td>\n",
       "      <td>[halloween, people, website, street, events, p...</td>\n",
       "      <td>[halloween, event, people, website, street, ex...</td>\n",
       "      <td>[What happened at the event?, \"Dublin: Hallowe...</td>\n",
       "    </tr>\n",
       "    <tr>\n",
       "      <th>3</th>\n",
       "      <td>2</td>\n",
       "      <td>186</td>\n",
       "      <td>2_game_ai_square_activision</td>\n",
       "      <td>AI Integration in Gaming Development</td>\n",
       "      <td>[game, ai, square, activision, development, ne...</td>\n",
       "      <td>[generative ai, ai generated, activision, use ...</td>\n",
       "      <td>[AI Integration in Gaming Development]</td>\n",
       "      <td>[game, activision, company, kiryu, generated, ...</td>\n",
       "      <td>[game, development, new, art, voice, company, ...</td>\n",
       "      <td>[Activision recently added a warning label to ...</td>\n",
       "    </tr>\n",
       "    <tr>\n",
       "      <th>4</th>\n",
       "      <td>3</td>\n",
       "      <td>61</td>\n",
       "      <td>3_cola_coca cola_coca_company</td>\n",
       "      <td>Coca-Cola AI Holiday Campaign Backlash</td>\n",
       "      <td>[cola, coca cola, coca, company, ad, holiday, ...</td>\n",
       "      <td>[coca cola, coca, commercials, company said, a...</td>\n",
       "      <td>[Coca-Cola AI Holiday Campaign Backlash]</td>\n",
       "      <td>[coca cola, company, christmas, backlash, comm...</td>\n",
       "      <td>[cola, company, ad, holiday, commercial, backl...</td>\n",
       "      <td>[\"Coca-Cola's Holiday Ads Trade the 'Real Thin...</td>\n",
       "    </tr>\n",
       "    <tr>\n",
       "      <th>5</th>\n",
       "      <td>4</td>\n",
       "      <td>50</td>\n",
       "      <td>4_2025_march 2025_march_2024</td>\n",
       "      <td>2024-2025 Monthly Dates</td>\n",
       "      <td>[2025, march 2025, march, 2024, 24, september ...</td>\n",
       "      <td>[march 2025, april 2025, february 2025, januar...</td>\n",
       "      <td>[2024-2025 Monthly Dates]</td>\n",
       "      <td>[2025, march 2025, 2024, september 2024, novem...</td>\n",
       "      <td>[topics, , , , , , , , , ]</td>\n",
       "      <td>[Retrieved 24 March 2025., Retrieved 24 March ...</td>\n",
       "    </tr>\n",
       "    <tr>\n",
       "      <th>6</th>\n",
       "      <td>5</td>\n",
       "      <td>43</td>\n",
       "      <td>5_times_york_new york_eurogamer</td>\n",
       "      <td>Major News and Media Outlets</td>\n",
       "      <td>[times, york, new york, eurogamer, net, news, ...</td>\n",
       "      <td>[york times, new york, nbc news, eurogamer, ne...</td>\n",
       "      <td>[Major News and Media Outlets]</td>\n",
       "      <td>[eurogamer, news, york times, reporter, gizmod...</td>\n",
       "      <td>[news, reporter, newsletter, recommendation, g...</td>\n",
       "      <td>[The New York Times., The New York Times., The...</td>\n",
       "    </tr>\n",
       "    <tr>\n",
       "      <th>7</th>\n",
       "      <td>6</td>\n",
       "      <td>34</td>\n",
       "      <td>6_film_poster_ai_generated</td>\n",
       "      <td>AI-Generated Film Promotion Controversy</td>\n",
       "      <td>[film, poster, ai, generated, ai generated, am...</td>\n",
       "      <td>[criticized ai, used ai, ai generated, using a...</td>\n",
       "      <td>[AI-Generated Film Promotion Controversy]</td>\n",
       "      <td>[film, ai generated, amazon, posters, voice, n...</td>\n",
       "      <td>[film, poster, posters, voice, quality, narrat...</td>\n",
       "      <td>[In a recent Instagram post, users sighted a r...</td>\n",
       "    </tr>\n",
       "    <tr>\n",
       "      <th>8</th>\n",
       "      <td>7</td>\n",
       "      <td>33</td>\n",
       "      <td>7_2024_november 2024_november_january</td>\n",
       "      <td>2024 Monthly Timeline and Personalities</td>\n",
       "      <td>[2024, november 2024, november, january, augus...</td>\n",
       "      <td>[november 2024, october 2024, august 2024, sep...</td>\n",
       "      <td>[2024 Monthly Timeline and Personalities]</td>\n",
       "      <td>[november 2024, august 2024, october 2024, cha...</td>\n",
       "      <td>[, , , , , , , , , ]</td>\n",
       "      <td>[- ^ Kalita, Parash Jyoti (1 November 2024)., ...</td>\n",
       "    </tr>\n",
       "    <tr>\n",
       "      <th>9</th>\n",
       "      <td>8</td>\n",
       "      <td>21</td>\n",
       "      <td>8_ign_wesley_com_twitter</td>\n",
       "      <td>IGN News and Editorial Reporting</td>\n",
       "      <td>[ign, wesley, com, twitter, news editor, edito...</td>\n",
       "      <td>[ign, activision, editor ign, news, twitter, c...</td>\n",
       "      <td>[IGN News and Editorial Reporting]</td>\n",
       "      <td>[ign, news editor, asked, activision, wesley u...</td>\n",
       "      <td>[news, comment, reporting, novels, reporter, w...</td>\n",
       "      <td>[IGN., IGN., IGN.]</td>\n",
       "    </tr>\n",
       "  </tbody>\n",
       "</table>\n",
       "</div>"
      ],
      "text/plain": [
       "   Topic  Count                                   Name  \\\n",
       "0     -1    108        -1_2024_block_birds_angry birds   \n",
       "1      0    924            0_ai_slop_content_generated   \n",
       "2      1    296          1_halloween_event_said_people   \n",
       "3      2    186            2_game_ai_square_activision   \n",
       "4      3     61          3_cola_coca cola_coca_company   \n",
       "5      4     50           4_2025_march 2025_march_2024   \n",
       "6      5     43        5_times_york_new york_eurogamer   \n",
       "7      6     34             6_film_poster_ai_generated   \n",
       "8      7     33  7_2024_november 2024_november_january   \n",
       "9      8     21               8_ign_wesley_com_twitter   \n",
       "\n",
       "                                CustomName  \\\n",
       "0                            Outlier Topic   \n",
       "1            AI-Generated Content and Slop   \n",
       "2    Dublin Halloween Parade False Listing   \n",
       "3     AI Integration in Gaming Development   \n",
       "4   Coca-Cola AI Holiday Campaign Backlash   \n",
       "5                  2024-2025 Monthly Dates   \n",
       "6             Major News and Media Outlets   \n",
       "7  AI-Generated Film Promotion Controversy   \n",
       "8  2024 Monthly Timeline and Personalities   \n",
       "9         IGN News and Editorial Reporting   \n",
       "\n",
       "                                      Representation  \\\n",
       "0  [2024, block, birds, angry birds, angry, spoti...   \n",
       "1  [ai, slop, content, generated, facebook, image...   \n",
       "2  [halloween, event, said, people, website, stre...   \n",
       "3  [game, ai, square, activision, development, ne...   \n",
       "4  [cola, coca cola, coca, company, ad, holiday, ...   \n",
       "5  [2025, march 2025, march, 2024, 24, september ...   \n",
       "6  [times, york, new york, eurogamer, net, news, ...   \n",
       "7  [film, poster, ai, generated, ai generated, am...   \n",
       "8  [2024, november 2024, november, january, augus...   \n",
       "9  [ign, wesley, com, twitter, news editor, edito...   \n",
       "\n",
       "                                             KeyBERT  \\\n",
       "0  [angry birds, rovio, birds block, block quest,...   \n",
       "1  [slop, ai generated, ai slop, generative ai, a...   \n",
       "2  [halloween, events, event, ireland, irish, adv...   \n",
       "3  [generative ai, ai generated, activision, use ...   \n",
       "4  [coca cola, coca, commercials, company said, a...   \n",
       "5  [march 2025, april 2025, february 2025, januar...   \n",
       "6  [york times, new york, nbc news, eurogamer, ne...   \n",
       "7  [criticized ai, used ai, ai generated, using a...   \n",
       "8  [november 2024, october 2024, august 2024, sep...   \n",
       "9  [ign, activision, editor ign, news, twitter, c...   \n",
       "\n",
       "                                      OpenAI  \\\n",
       "0            [Angry Birds Block Puzzle Game]   \n",
       "1            [AI-Generated Content and Slop]   \n",
       "2    [Dublin Halloween Parade False Listing]   \n",
       "3     [AI Integration in Gaming Development]   \n",
       "4   [Coca-Cola AI Holiday Campaign Backlash]   \n",
       "5                  [2024-2025 Monthly Dates]   \n",
       "6             [Major News and Media Outlets]   \n",
       "7  [AI-Generated Film Promotion Controversy]   \n",
       "8  [2024 Monthly Timeline and Personalities]   \n",
       "9         [IGN News and Editorial Reporting]   \n",
       "\n",
       "                                                 MMR  \\\n",
       "0  [angry birds, spotify, block quest, birds bloc...   \n",
       "1  [generated, ai generated, ai slop, trump, plat...   \n",
       "2  [halloween, people, website, street, events, p...   \n",
       "3  [game, activision, company, kiryu, generated, ...   \n",
       "4  [coca cola, company, christmas, backlash, comm...   \n",
       "5  [2025, march 2025, 2024, september 2024, novem...   \n",
       "6  [eurogamer, news, york times, reporter, gizmod...   \n",
       "7  [film, ai generated, amazon, posters, voice, n...   \n",
       "8  [november 2024, august 2024, october 2024, cha...   \n",
       "9  [ign, news editor, asked, activision, wesley u...   \n",
       "\n",
       "                                                 POS  \\\n",
       "0  [block, users, soft, launch, stories, title, p...   \n",
       "1  [slop, content, images, people, media, social,...   \n",
       "2  [halloween, event, people, website, street, ex...   \n",
       "3  [game, development, new, art, voice, company, ...   \n",
       "4  [cola, company, ad, holiday, commercial, backl...   \n",
       "5                         [topics, , , , , , , , , ]   \n",
       "6  [news, reporter, newsletter, recommendation, g...   \n",
       "7  [film, poster, posters, voice, quality, narrat...   \n",
       "8                               [, , , , , , , , , ]   \n",
       "9  [news, comment, reporting, novels, reporter, w...   \n",
       "\n",
       "                                 Representative_Docs  \n",
       "0  [- Angry Birds Block Quest is a block puzzle g...  \n",
       "1  [- ^ \"Slop is the new name for unwanted AI-gen...  \n",
       "2  [What happened at the event?, \"Dublin: Hallowe...  \n",
       "3  [Activision recently added a warning label to ...  \n",
       "4  [\"Coca-Cola's Holiday Ads Trade the 'Real Thin...  \n",
       "5  [Retrieved 24 March 2025., Retrieved 24 March ...  \n",
       "6  [The New York Times., The New York Times., The...  \n",
       "7  [In a recent Instagram post, users sighted a r...  \n",
       "8  [- ^ Kalita, Parash Jyoti (1 November 2024)., ...  \n",
       "9                                 [IGN., IGN., IGN.]  "
      ]
     },
     "execution_count": 44,
     "metadata": {},
     "output_type": "execute_result"
    }
   ],
   "source": [
    "chatgpt_topic_labels = {\n",
    "    topic: \" | \".join(list(zip(*values))[0])\n",
    "    for topic, values in topic_model.topic_aspects_[\"OpenAI\"].items()\n",
    "}\n",
    "chatgpt_topic_labels[-1] = \"Outlier Topic\"\n",
    "topic_model.set_topic_labels(chatgpt_topic_labels)\n",
    "\n",
    "topic_model.get_topic_info()"
   ]
  },
  {
   "cell_type": "code",
   "execution_count": 45,
   "id": "5b02925d",
   "metadata": {},
   "outputs": [
    {
     "data": {
      "text/plain": [
       "['Outlier Topic',\n",
       " 'AI-Generated Content and Slop',\n",
       " 'Dublin Halloween Parade False Listing',\n",
       " 'AI Integration in Gaming Development',\n",
       " 'Coca-Cola AI Holiday Campaign Backlash',\n",
       " '2024-2025 Monthly Dates',\n",
       " 'Major News and Media Outlets',\n",
       " 'AI-Generated Film Promotion Controversy',\n",
       " '2024 Monthly Timeline and Personalities',\n",
       " 'IGN News and Editorial Reporting']"
      ]
     },
     "execution_count": 45,
     "metadata": {},
     "output_type": "execute_result"
    }
   ],
   "source": [
    "topic_model.get_topic_info()[\"CustomName\"].tolist()"
   ]
  },
  {
   "cell_type": "code",
   "execution_count": 46,
   "id": "82405937",
   "metadata": {},
   "outputs": [
    {
     "data": {
      "application/vnd.plotly.v1+json": {
       "config": {
        "plotlyServerURL": "https://plot.ly"
       },
       "data": [
        {
         "hoverinfo": "text",
         "marker": {
          "color": "rgb(61,153,112)"
         },
         "mode": "lines",
         "type": "scatter",
         "x": {
          "bdata": "AAAAAAAAAABWEd68mvfaP1YR3rya99o/AAAAAAAAAAA=",
          "dtype": "f8"
         },
         "xaxis": "x",
         "y": {
          "bdata": "AAAAAAAAFMAAAAAAAAAUwAAAAAAAAC7AAAAAAAAALsA=",
          "dtype": "f8"
         },
         "yaxis": "y"
        },
        {
         "hoverinfo": "text",
         "marker": {
          "color": "rgb(255,65,54)"
         },
         "mode": "lines",
         "type": "scatter",
         "x": {
          "bdata": "AAAAAAAAAABhY47HSbDtP2FjjsdJsO0/AAAAAAAAAAA=",
          "dtype": "f8"
         },
         "xaxis": "x",
         "y": {
          "bdata": "AAAAAAAAOcAAAAAAAAA5wAAAAAAAgEHAAAAAAACAQcA=",
          "dtype": "f8"
         },
         "yaxis": "y"
        },
        {
         "hoverinfo": "text",
         "marker": {
          "color": "rgb(35,205,205)"
         },
         "mode": "lines",
         "type": "scatter",
         "x": {
          "bdata": "AAAAAAAAAAD4rKOSM/HhP/iso5Iz8eE/AAAAAAAAAAA=",
          "dtype": "f8"
         },
         "xaxis": "x",
         "y": {
          "bdata": "AAAAAACAS8AAAAAAAIBLwAAAAAAAQFDAAAAAAABAUMA=",
          "dtype": "f8"
         },
         "yaxis": "y"
        },
        {
         "hoverinfo": "text",
         "marker": {
          "color": "rgb(35,205,205)"
         },
         "mode": "lines",
         "type": "scatter",
         "x": {
          "bdata": "+KyjkjPx4T/LoAPodNPoP8ugA+h00+g/AAAAAAAAAAA=",
          "dtype": "f8"
         },
         "xaxis": "x",
         "y": {
          "bdata": "AAAAAAAATsAAAAAAAABOwAAAAAAAwFLAAAAAAADAUsA=",
          "dtype": "f8"
         },
         "yaxis": "y"
        },
        {
         "hoverinfo": "text",
         "marker": {
          "color": "rgb(35,205,205)"
         },
         "mode": "lines",
         "type": "scatter",
         "x": {
          "bdata": "AAAAAAAAAADNANgfPQbrP80A2B89Bus/y6AD6HTT6D8=",
          "dtype": "f8"
         },
         "xaxis": "x",
         "y": {
          "bdata": "AAAAAACARsAAAAAAAIBGwAAAAAAA4FDAAAAAAADgUMA=",
          "dtype": "f8"
         },
         "yaxis": "y"
        },
        {
         "hoverinfo": "text",
         "marker": {
          "color": "rgb(35,205,205)"
         },
         "mode": "lines",
         "type": "scatter",
         "x": {
          "bdata": "zQDYHz0G6z+lnbkHxjTsP6WduQfGNOw/AAAAAAAAAAA=",
          "dtype": "f8"
         },
         "xaxis": "x",
         "y": {
          "bdata": "AAAAAAAgTMAAAAAAACBMwAAAAAAAQFXAAAAAAABAVcA=",
          "dtype": "f8"
         },
         "yaxis": "y"
        },
        {
         "hoverinfo": "text",
         "marker": {
          "color": "rgb(0,116,217)"
         },
         "mode": "lines",
         "type": "scatter",
         "x": {
          "bdata": "YWOOx0mw7T9PJ8x2jVjyP08nzHaNWPI/pZ25B8Y07D8=",
          "dtype": "f8"
         },
         "xaxis": "x",
         "y": {
          "bdata": "AAAAAAAAPsAAAAAAAAA+wAAAAAAAqFHAAAAAAACoUcA=",
          "dtype": "f8"
         },
         "yaxis": "y"
        },
        {
         "hoverinfo": "text",
         "marker": {
          "color": "rgb(0,116,217)"
         },
         "mode": "lines",
         "type": "scatter",
         "x": {
          "bdata": "VhHevJr32j8qjG9dgD/1PyqMb12AP/U/TyfMdo1Y8j8=",
          "dtype": "f8"
         },
         "xaxis": "x",
         "y": {
          "bdata": "AAAAAAAAJMAAAAAAAAAkwAAAAAAAKEnAAAAAAAAoScA=",
          "dtype": "f8"
         },
         "yaxis": "y"
        }
       ],
       "layout": {
        "autosize": false,
        "height": 335,
        "hoverlabel": {
         "bgcolor": "white",
         "font": {
          "family": "Rockwell",
          "size": 16
         }
        },
        "hovermode": "closest",
        "plot_bgcolor": "#ECEFF1",
        "showlegend": false,
        "template": {
         "data": {
          "bar": [
           {
            "error_x": {
             "color": "#2a3f5f"
            },
            "error_y": {
             "color": "#2a3f5f"
            },
            "marker": {
             "line": {
              "color": "white",
              "width": 0.5
             },
             "pattern": {
              "fillmode": "overlay",
              "size": 10,
              "solidity": 0.2
             }
            },
            "type": "bar"
           }
          ],
          "barpolar": [
           {
            "marker": {
             "line": {
              "color": "white",
              "width": 0.5
             },
             "pattern": {
              "fillmode": "overlay",
              "size": 10,
              "solidity": 0.2
             }
            },
            "type": "barpolar"
           }
          ],
          "carpet": [
           {
            "aaxis": {
             "endlinecolor": "#2a3f5f",
             "gridcolor": "#C8D4E3",
             "linecolor": "#C8D4E3",
             "minorgridcolor": "#C8D4E3",
             "startlinecolor": "#2a3f5f"
            },
            "baxis": {
             "endlinecolor": "#2a3f5f",
             "gridcolor": "#C8D4E3",
             "linecolor": "#C8D4E3",
             "minorgridcolor": "#C8D4E3",
             "startlinecolor": "#2a3f5f"
            },
            "type": "carpet"
           }
          ],
          "choropleth": [
           {
            "colorbar": {
             "outlinewidth": 0,
             "ticks": ""
            },
            "type": "choropleth"
           }
          ],
          "contour": [
           {
            "colorbar": {
             "outlinewidth": 0,
             "ticks": ""
            },
            "colorscale": [
             [
              0,
              "#0d0887"
             ],
             [
              0.1111111111111111,
              "#46039f"
             ],
             [
              0.2222222222222222,
              "#7201a8"
             ],
             [
              0.3333333333333333,
              "#9c179e"
             ],
             [
              0.4444444444444444,
              "#bd3786"
             ],
             [
              0.5555555555555556,
              "#d8576b"
             ],
             [
              0.6666666666666666,
              "#ed7953"
             ],
             [
              0.7777777777777778,
              "#fb9f3a"
             ],
             [
              0.8888888888888888,
              "#fdca26"
             ],
             [
              1,
              "#f0f921"
             ]
            ],
            "type": "contour"
           }
          ],
          "contourcarpet": [
           {
            "colorbar": {
             "outlinewidth": 0,
             "ticks": ""
            },
            "type": "contourcarpet"
           }
          ],
          "heatmap": [
           {
            "colorbar": {
             "outlinewidth": 0,
             "ticks": ""
            },
            "colorscale": [
             [
              0,
              "#0d0887"
             ],
             [
              0.1111111111111111,
              "#46039f"
             ],
             [
              0.2222222222222222,
              "#7201a8"
             ],
             [
              0.3333333333333333,
              "#9c179e"
             ],
             [
              0.4444444444444444,
              "#bd3786"
             ],
             [
              0.5555555555555556,
              "#d8576b"
             ],
             [
              0.6666666666666666,
              "#ed7953"
             ],
             [
              0.7777777777777778,
              "#fb9f3a"
             ],
             [
              0.8888888888888888,
              "#fdca26"
             ],
             [
              1,
              "#f0f921"
             ]
            ],
            "type": "heatmap"
           }
          ],
          "histogram": [
           {
            "marker": {
             "pattern": {
              "fillmode": "overlay",
              "size": 10,
              "solidity": 0.2
             }
            },
            "type": "histogram"
           }
          ],
          "histogram2d": [
           {
            "colorbar": {
             "outlinewidth": 0,
             "ticks": ""
            },
            "colorscale": [
             [
              0,
              "#0d0887"
             ],
             [
              0.1111111111111111,
              "#46039f"
             ],
             [
              0.2222222222222222,
              "#7201a8"
             ],
             [
              0.3333333333333333,
              "#9c179e"
             ],
             [
              0.4444444444444444,
              "#bd3786"
             ],
             [
              0.5555555555555556,
              "#d8576b"
             ],
             [
              0.6666666666666666,
              "#ed7953"
             ],
             [
              0.7777777777777778,
              "#fb9f3a"
             ],
             [
              0.8888888888888888,
              "#fdca26"
             ],
             [
              1,
              "#f0f921"
             ]
            ],
            "type": "histogram2d"
           }
          ],
          "histogram2dcontour": [
           {
            "colorbar": {
             "outlinewidth": 0,
             "ticks": ""
            },
            "colorscale": [
             [
              0,
              "#0d0887"
             ],
             [
              0.1111111111111111,
              "#46039f"
             ],
             [
              0.2222222222222222,
              "#7201a8"
             ],
             [
              0.3333333333333333,
              "#9c179e"
             ],
             [
              0.4444444444444444,
              "#bd3786"
             ],
             [
              0.5555555555555556,
              "#d8576b"
             ],
             [
              0.6666666666666666,
              "#ed7953"
             ],
             [
              0.7777777777777778,
              "#fb9f3a"
             ],
             [
              0.8888888888888888,
              "#fdca26"
             ],
             [
              1,
              "#f0f921"
             ]
            ],
            "type": "histogram2dcontour"
           }
          ],
          "mesh3d": [
           {
            "colorbar": {
             "outlinewidth": 0,
             "ticks": ""
            },
            "type": "mesh3d"
           }
          ],
          "parcoords": [
           {
            "line": {
             "colorbar": {
              "outlinewidth": 0,
              "ticks": ""
             }
            },
            "type": "parcoords"
           }
          ],
          "pie": [
           {
            "automargin": true,
            "type": "pie"
           }
          ],
          "scatter": [
           {
            "fillpattern": {
             "fillmode": "overlay",
             "size": 10,
             "solidity": 0.2
            },
            "type": "scatter"
           }
          ],
          "scatter3d": [
           {
            "line": {
             "colorbar": {
              "outlinewidth": 0,
              "ticks": ""
             }
            },
            "marker": {
             "colorbar": {
              "outlinewidth": 0,
              "ticks": ""
             }
            },
            "type": "scatter3d"
           }
          ],
          "scattercarpet": [
           {
            "marker": {
             "colorbar": {
              "outlinewidth": 0,
              "ticks": ""
             }
            },
            "type": "scattercarpet"
           }
          ],
          "scattergeo": [
           {
            "marker": {
             "colorbar": {
              "outlinewidth": 0,
              "ticks": ""
             }
            },
            "type": "scattergeo"
           }
          ],
          "scattergl": [
           {
            "marker": {
             "colorbar": {
              "outlinewidth": 0,
              "ticks": ""
             }
            },
            "type": "scattergl"
           }
          ],
          "scattermap": [
           {
            "marker": {
             "colorbar": {
              "outlinewidth": 0,
              "ticks": ""
             }
            },
            "type": "scattermap"
           }
          ],
          "scattermapbox": [
           {
            "marker": {
             "colorbar": {
              "outlinewidth": 0,
              "ticks": ""
             }
            },
            "type": "scattermapbox"
           }
          ],
          "scatterpolar": [
           {
            "marker": {
             "colorbar": {
              "outlinewidth": 0,
              "ticks": ""
             }
            },
            "type": "scatterpolar"
           }
          ],
          "scatterpolargl": [
           {
            "marker": {
             "colorbar": {
              "outlinewidth": 0,
              "ticks": ""
             }
            },
            "type": "scatterpolargl"
           }
          ],
          "scatterternary": [
           {
            "marker": {
             "colorbar": {
              "outlinewidth": 0,
              "ticks": ""
             }
            },
            "type": "scatterternary"
           }
          ],
          "surface": [
           {
            "colorbar": {
             "outlinewidth": 0,
             "ticks": ""
            },
            "colorscale": [
             [
              0,
              "#0d0887"
             ],
             [
              0.1111111111111111,
              "#46039f"
             ],
             [
              0.2222222222222222,
              "#7201a8"
             ],
             [
              0.3333333333333333,
              "#9c179e"
             ],
             [
              0.4444444444444444,
              "#bd3786"
             ],
             [
              0.5555555555555556,
              "#d8576b"
             ],
             [
              0.6666666666666666,
              "#ed7953"
             ],
             [
              0.7777777777777778,
              "#fb9f3a"
             ],
             [
              0.8888888888888888,
              "#fdca26"
             ],
             [
              1,
              "#f0f921"
             ]
            ],
            "type": "surface"
           }
          ],
          "table": [
           {
            "cells": {
             "fill": {
              "color": "#EBF0F8"
             },
             "line": {
              "color": "white"
             }
            },
            "header": {
             "fill": {
              "color": "#C8D4E3"
             },
             "line": {
              "color": "white"
             }
            },
            "type": "table"
           }
          ]
         },
         "layout": {
          "annotationdefaults": {
           "arrowcolor": "#2a3f5f",
           "arrowhead": 0,
           "arrowwidth": 1
          },
          "autotypenumbers": "strict",
          "coloraxis": {
           "colorbar": {
            "outlinewidth": 0,
            "ticks": ""
           }
          },
          "colorscale": {
           "diverging": [
            [
             0,
             "#8e0152"
            ],
            [
             0.1,
             "#c51b7d"
            ],
            [
             0.2,
             "#de77ae"
            ],
            [
             0.3,
             "#f1b6da"
            ],
            [
             0.4,
             "#fde0ef"
            ],
            [
             0.5,
             "#f7f7f7"
            ],
            [
             0.6,
             "#e6f5d0"
            ],
            [
             0.7,
             "#b8e186"
            ],
            [
             0.8,
             "#7fbc41"
            ],
            [
             0.9,
             "#4d9221"
            ],
            [
             1,
             "#276419"
            ]
           ],
           "sequential": [
            [
             0,
             "#0d0887"
            ],
            [
             0.1111111111111111,
             "#46039f"
            ],
            [
             0.2222222222222222,
             "#7201a8"
            ],
            [
             0.3333333333333333,
             "#9c179e"
            ],
            [
             0.4444444444444444,
             "#bd3786"
            ],
            [
             0.5555555555555556,
             "#d8576b"
            ],
            [
             0.6666666666666666,
             "#ed7953"
            ],
            [
             0.7777777777777778,
             "#fb9f3a"
            ],
            [
             0.8888888888888888,
             "#fdca26"
            ],
            [
             1,
             "#f0f921"
            ]
           ],
           "sequentialminus": [
            [
             0,
             "#0d0887"
            ],
            [
             0.1111111111111111,
             "#46039f"
            ],
            [
             0.2222222222222222,
             "#7201a8"
            ],
            [
             0.3333333333333333,
             "#9c179e"
            ],
            [
             0.4444444444444444,
             "#bd3786"
            ],
            [
             0.5555555555555556,
             "#d8576b"
            ],
            [
             0.6666666666666666,
             "#ed7953"
            ],
            [
             0.7777777777777778,
             "#fb9f3a"
            ],
            [
             0.8888888888888888,
             "#fdca26"
            ],
            [
             1,
             "#f0f921"
            ]
           ]
          },
          "colorway": [
           "#636efa",
           "#EF553B",
           "#00cc96",
           "#ab63fa",
           "#FFA15A",
           "#19d3f3",
           "#FF6692",
           "#B6E880",
           "#FF97FF",
           "#FECB52"
          ],
          "font": {
           "color": "#2a3f5f"
          },
          "geo": {
           "bgcolor": "white",
           "lakecolor": "white",
           "landcolor": "white",
           "showlakes": true,
           "showland": true,
           "subunitcolor": "#C8D4E3"
          },
          "hoverlabel": {
           "align": "left"
          },
          "hovermode": "closest",
          "mapbox": {
           "style": "light"
          },
          "paper_bgcolor": "white",
          "plot_bgcolor": "white",
          "polar": {
           "angularaxis": {
            "gridcolor": "#EBF0F8",
            "linecolor": "#EBF0F8",
            "ticks": ""
           },
           "bgcolor": "white",
           "radialaxis": {
            "gridcolor": "#EBF0F8",
            "linecolor": "#EBF0F8",
            "ticks": ""
           }
          },
          "scene": {
           "xaxis": {
            "backgroundcolor": "white",
            "gridcolor": "#DFE8F3",
            "gridwidth": 2,
            "linecolor": "#EBF0F8",
            "showbackground": true,
            "ticks": "",
            "zerolinecolor": "#EBF0F8"
           },
           "yaxis": {
            "backgroundcolor": "white",
            "gridcolor": "#DFE8F3",
            "gridwidth": 2,
            "linecolor": "#EBF0F8",
            "showbackground": true,
            "ticks": "",
            "zerolinecolor": "#EBF0F8"
           },
           "zaxis": {
            "backgroundcolor": "white",
            "gridcolor": "#DFE8F3",
            "gridwidth": 2,
            "linecolor": "#EBF0F8",
            "showbackground": true,
            "ticks": "",
            "zerolinecolor": "#EBF0F8"
           }
          },
          "shapedefaults": {
           "line": {
            "color": "#2a3f5f"
           }
          },
          "ternary": {
           "aaxis": {
            "gridcolor": "#DFE8F3",
            "linecolor": "#A2B1C6",
            "ticks": ""
           },
           "baxis": {
            "gridcolor": "#DFE8F3",
            "linecolor": "#A2B1C6",
            "ticks": ""
           },
           "bgcolor": "white",
           "caxis": {
            "gridcolor": "#DFE8F3",
            "linecolor": "#A2B1C6",
            "ticks": ""
           }
          },
          "title": {
           "x": 0.05
          },
          "xaxis": {
           "automargin": true,
           "gridcolor": "#EBF0F8",
           "linecolor": "#EBF0F8",
           "ticks": "",
           "title": {
            "standoff": 15
           },
           "zerolinecolor": "#EBF0F8",
           "zerolinewidth": 2
          },
          "yaxis": {
           "automargin": true,
           "gridcolor": "#EBF0F8",
           "linecolor": "#EBF0F8",
           "ticks": "",
           "title": {
            "standoff": 15
           },
           "zerolinecolor": "#EBF0F8",
           "zerolinewidth": 2
          }
         }
        },
        "title": {
         "font": {
          "color": "Black",
          "size": 22
         },
         "text": "<b>Hierarchical Clustering</b>",
         "x": 0.5,
         "xanchor": "center",
         "yanchor": "top"
        },
        "width": 1000,
        "xaxis": {
         "mirror": "allticks",
         "rangemode": "tozero",
         "showgrid": false,
         "showline": true,
         "showticklabels": true,
         "ticks": "outside",
         "type": "linear",
         "zeroline": false
        },
        "yaxis": {
         "mirror": "allticks",
         "range": [
          -90,
          0
         ],
         "rangemode": "tozero",
         "showgrid": false,
         "showline": true,
         "showticklabels": true,
         "tickmode": "array",
         "ticks": "outside",
         "ticktext": [
          "2024-2025 Monthly Dates",
          "2024 Monthly Timeline and Personalities",
          "IGN News and Editorial Reporting",
          "Major News and Media Outlets",
          "Dublin Halloween Parade False Listing",
          "AI Integration in Gaming Development",
          "AI-Generated Content and Slop",
          "AI-Generated Film Promotion Controversy",
          "Coca-Cola AI Holiday Campaign Backlash"
         ],
         "tickvals": [
          -5,
          -15,
          -25,
          -35,
          -45,
          -55,
          -65,
          -75,
          -85
         ],
         "type": "linear",
         "zeroline": false
        }
       }
      }
     },
     "metadata": {},
     "output_type": "display_data"
    }
   ],
   "source": [
    "topic_model.visualize_hierarchy(custom_labels=True)"
   ]
  },
  {
   "cell_type": "code",
   "execution_count": 47,
   "id": "031eb2bd",
   "metadata": {},
   "outputs": [
    {
     "data": {
      "application/vnd.plotly.v1+json": {
       "config": {
        "plotlyServerURL": "https://plot.ly"
       },
       "data": [
        {
         "coloraxis": "coloraxis",
         "hovertemplate": "x: %{x}<br>y: %{y}<br>Similarity Score: %{z}<extra></extra>",
         "name": "0",
         "type": "heatmap",
         "x": [
          "0_ai_slop_content",
          "1_halloween_event_said",
          "2_game_ai_square",
          "3_cola_coca cola_coca",
          "4_2025_march 2025_march",
          "5_times_york_new york",
          "6_film_poster_ai",
          "7_2024_november 2024_november",
          "8_ign_wesley_com"
         ],
         "xaxis": "x",
         "y": [
          "0_ai_slop_content",
          "1_halloween_event_said",
          "2_game_ai_square",
          "3_cola_coca cola_coca",
          "4_2025_march 2025_march",
          "5_times_york_new york",
          "6_film_poster_ai",
          "7_2024_november 2024_november",
          "8_ign_wesley_com"
         ],
         "yaxis": "y",
         "z": {
          "bdata": "+///////7z9bb3wnS0zjP76beCxLqeU/3RLEHzaO4z8uEp4sGfDRP7olhN/y2N8/UNvyFZT55j86gH/0P5TcP+Rdj8WkeNs/W298J0tM4z/4///////vP2QlsPvECd4/2tXvqBjt3z/dY3PfDdrUP1pW+Mzjnd8/fTcwlg3H4D9CuK4XaMvfPwkj5p7vbto/vpt4LEup5T9kJbD7xAneP////////+8/eCmjH2Xx4j8Yascu96fRPzRwpKMwL9o/vsUITMrO5D8XSank4QrcP9V4T5oYSeA/3RLEHzaO4z/a1e+oGO3fP3gpox9l8eI/AQAAAAAA8D98xfN1L0XKP8zC/WTRVtU/h1NnD5m74z+LnwxfwJrWP6Fy/1d9iNI/LhKeLBnw0T/dY3PfDdrUPxhqxy73p9E/fMXzdS9Fyj/+///////vP+4tZuPkn9Y/6RjzvyN70D9P92h2iA3kPzQZso/pGdE/uiWE3/LY3z9aVvjM453fPzRwpKMwL9o/zML9ZNFW1T/uLWbj5J/WPwMAAAAAAPA/wW7mS7bp2T9RS3SG8yLhP3RNOppk6OM/UNvyFZT55j99NzCWDcfgP77FCEzKzuQ/h1NnD5m74z/pGPO/I3vQP8Fu5ku26dk/5P//////7z/1xTL5yojbP9kzx2+VM9c/OoB/9D+U3D9CuK4XaMvfPxdJqeThCtw/i58MX8Ca1j9P92h2iA3kP1FLdIbzIuE/9cUy+cqI2z/8///////vP6L7PXELJNw/5F2PxaR42z8JI+ae727aP9V4T5oYSeA/oXL/V32I0j80GbKP6RnRP3RNOppk6OM/2TPHb5Uz1z+i+z1xCyTcPwQAAAAAAPA/",
          "dtype": "f8",
          "shape": "9, 9"
         }
        }
       ],
       "layout": {
        "coloraxis": {
         "colorbar": {
          "title": {
           "text": "Similarity Score"
          }
         },
         "colorscale": [
          [
           0,
           "rgb(247,252,240)"
          ],
          [
           0.125,
           "rgb(224,243,219)"
          ],
          [
           0.25,
           "rgb(204,235,197)"
          ],
          [
           0.375,
           "rgb(168,221,181)"
          ],
          [
           0.5,
           "rgb(123,204,196)"
          ],
          [
           0.625,
           "rgb(78,179,211)"
          ],
          [
           0.75,
           "rgb(43,140,190)"
          ],
          [
           0.875,
           "rgb(8,104,172)"
          ],
          [
           1,
           "rgb(8,64,129)"
          ]
         ]
        },
        "height": 800,
        "hoverlabel": {
         "bgcolor": "white",
         "font": {
          "family": "Rockwell",
          "size": 16
         }
        },
        "legend": {
         "title": {
          "text": "Trend"
         }
        },
        "margin": {
         "t": 60
        },
        "showlegend": true,
        "template": {
         "data": {
          "bar": [
           {
            "error_x": {
             "color": "#2a3f5f"
            },
            "error_y": {
             "color": "#2a3f5f"
            },
            "marker": {
             "line": {
              "color": "#E5ECF6",
              "width": 0.5
             },
             "pattern": {
              "fillmode": "overlay",
              "size": 10,
              "solidity": 0.2
             }
            },
            "type": "bar"
           }
          ],
          "barpolar": [
           {
            "marker": {
             "line": {
              "color": "#E5ECF6",
              "width": 0.5
             },
             "pattern": {
              "fillmode": "overlay",
              "size": 10,
              "solidity": 0.2
             }
            },
            "type": "barpolar"
           }
          ],
          "carpet": [
           {
            "aaxis": {
             "endlinecolor": "#2a3f5f",
             "gridcolor": "white",
             "linecolor": "white",
             "minorgridcolor": "white",
             "startlinecolor": "#2a3f5f"
            },
            "baxis": {
             "endlinecolor": "#2a3f5f",
             "gridcolor": "white",
             "linecolor": "white",
             "minorgridcolor": "white",
             "startlinecolor": "#2a3f5f"
            },
            "type": "carpet"
           }
          ],
          "choropleth": [
           {
            "colorbar": {
             "outlinewidth": 0,
             "ticks": ""
            },
            "type": "choropleth"
           }
          ],
          "contour": [
           {
            "colorbar": {
             "outlinewidth": 0,
             "ticks": ""
            },
            "colorscale": [
             [
              0,
              "#0d0887"
             ],
             [
              0.1111111111111111,
              "#46039f"
             ],
             [
              0.2222222222222222,
              "#7201a8"
             ],
             [
              0.3333333333333333,
              "#9c179e"
             ],
             [
              0.4444444444444444,
              "#bd3786"
             ],
             [
              0.5555555555555556,
              "#d8576b"
             ],
             [
              0.6666666666666666,
              "#ed7953"
             ],
             [
              0.7777777777777778,
              "#fb9f3a"
             ],
             [
              0.8888888888888888,
              "#fdca26"
             ],
             [
              1,
              "#f0f921"
             ]
            ],
            "type": "contour"
           }
          ],
          "contourcarpet": [
           {
            "colorbar": {
             "outlinewidth": 0,
             "ticks": ""
            },
            "type": "contourcarpet"
           }
          ],
          "heatmap": [
           {
            "colorbar": {
             "outlinewidth": 0,
             "ticks": ""
            },
            "colorscale": [
             [
              0,
              "#0d0887"
             ],
             [
              0.1111111111111111,
              "#46039f"
             ],
             [
              0.2222222222222222,
              "#7201a8"
             ],
             [
              0.3333333333333333,
              "#9c179e"
             ],
             [
              0.4444444444444444,
              "#bd3786"
             ],
             [
              0.5555555555555556,
              "#d8576b"
             ],
             [
              0.6666666666666666,
              "#ed7953"
             ],
             [
              0.7777777777777778,
              "#fb9f3a"
             ],
             [
              0.8888888888888888,
              "#fdca26"
             ],
             [
              1,
              "#f0f921"
             ]
            ],
            "type": "heatmap"
           }
          ],
          "histogram": [
           {
            "marker": {
             "pattern": {
              "fillmode": "overlay",
              "size": 10,
              "solidity": 0.2
             }
            },
            "type": "histogram"
           }
          ],
          "histogram2d": [
           {
            "colorbar": {
             "outlinewidth": 0,
             "ticks": ""
            },
            "colorscale": [
             [
              0,
              "#0d0887"
             ],
             [
              0.1111111111111111,
              "#46039f"
             ],
             [
              0.2222222222222222,
              "#7201a8"
             ],
             [
              0.3333333333333333,
              "#9c179e"
             ],
             [
              0.4444444444444444,
              "#bd3786"
             ],
             [
              0.5555555555555556,
              "#d8576b"
             ],
             [
              0.6666666666666666,
              "#ed7953"
             ],
             [
              0.7777777777777778,
              "#fb9f3a"
             ],
             [
              0.8888888888888888,
              "#fdca26"
             ],
             [
              1,
              "#f0f921"
             ]
            ],
            "type": "histogram2d"
           }
          ],
          "histogram2dcontour": [
           {
            "colorbar": {
             "outlinewidth": 0,
             "ticks": ""
            },
            "colorscale": [
             [
              0,
              "#0d0887"
             ],
             [
              0.1111111111111111,
              "#46039f"
             ],
             [
              0.2222222222222222,
              "#7201a8"
             ],
             [
              0.3333333333333333,
              "#9c179e"
             ],
             [
              0.4444444444444444,
              "#bd3786"
             ],
             [
              0.5555555555555556,
              "#d8576b"
             ],
             [
              0.6666666666666666,
              "#ed7953"
             ],
             [
              0.7777777777777778,
              "#fb9f3a"
             ],
             [
              0.8888888888888888,
              "#fdca26"
             ],
             [
              1,
              "#f0f921"
             ]
            ],
            "type": "histogram2dcontour"
           }
          ],
          "mesh3d": [
           {
            "colorbar": {
             "outlinewidth": 0,
             "ticks": ""
            },
            "type": "mesh3d"
           }
          ],
          "parcoords": [
           {
            "line": {
             "colorbar": {
              "outlinewidth": 0,
              "ticks": ""
             }
            },
            "type": "parcoords"
           }
          ],
          "pie": [
           {
            "automargin": true,
            "type": "pie"
           }
          ],
          "scatter": [
           {
            "fillpattern": {
             "fillmode": "overlay",
             "size": 10,
             "solidity": 0.2
            },
            "type": "scatter"
           }
          ],
          "scatter3d": [
           {
            "line": {
             "colorbar": {
              "outlinewidth": 0,
              "ticks": ""
             }
            },
            "marker": {
             "colorbar": {
              "outlinewidth": 0,
              "ticks": ""
             }
            },
            "type": "scatter3d"
           }
          ],
          "scattercarpet": [
           {
            "marker": {
             "colorbar": {
              "outlinewidth": 0,
              "ticks": ""
             }
            },
            "type": "scattercarpet"
           }
          ],
          "scattergeo": [
           {
            "marker": {
             "colorbar": {
              "outlinewidth": 0,
              "ticks": ""
             }
            },
            "type": "scattergeo"
           }
          ],
          "scattergl": [
           {
            "marker": {
             "colorbar": {
              "outlinewidth": 0,
              "ticks": ""
             }
            },
            "type": "scattergl"
           }
          ],
          "scattermap": [
           {
            "marker": {
             "colorbar": {
              "outlinewidth": 0,
              "ticks": ""
             }
            },
            "type": "scattermap"
           }
          ],
          "scattermapbox": [
           {
            "marker": {
             "colorbar": {
              "outlinewidth": 0,
              "ticks": ""
             }
            },
            "type": "scattermapbox"
           }
          ],
          "scatterpolar": [
           {
            "marker": {
             "colorbar": {
              "outlinewidth": 0,
              "ticks": ""
             }
            },
            "type": "scatterpolar"
           }
          ],
          "scatterpolargl": [
           {
            "marker": {
             "colorbar": {
              "outlinewidth": 0,
              "ticks": ""
             }
            },
            "type": "scatterpolargl"
           }
          ],
          "scatterternary": [
           {
            "marker": {
             "colorbar": {
              "outlinewidth": 0,
              "ticks": ""
             }
            },
            "type": "scatterternary"
           }
          ],
          "surface": [
           {
            "colorbar": {
             "outlinewidth": 0,
             "ticks": ""
            },
            "colorscale": [
             [
              0,
              "#0d0887"
             ],
             [
              0.1111111111111111,
              "#46039f"
             ],
             [
              0.2222222222222222,
              "#7201a8"
             ],
             [
              0.3333333333333333,
              "#9c179e"
             ],
             [
              0.4444444444444444,
              "#bd3786"
             ],
             [
              0.5555555555555556,
              "#d8576b"
             ],
             [
              0.6666666666666666,
              "#ed7953"
             ],
             [
              0.7777777777777778,
              "#fb9f3a"
             ],
             [
              0.8888888888888888,
              "#fdca26"
             ],
             [
              1,
              "#f0f921"
             ]
            ],
            "type": "surface"
           }
          ],
          "table": [
           {
            "cells": {
             "fill": {
              "color": "#EBF0F8"
             },
             "line": {
              "color": "white"
             }
            },
            "header": {
             "fill": {
              "color": "#C8D4E3"
             },
             "line": {
              "color": "white"
             }
            },
            "type": "table"
           }
          ]
         },
         "layout": {
          "annotationdefaults": {
           "arrowcolor": "#2a3f5f",
           "arrowhead": 0,
           "arrowwidth": 1
          },
          "autotypenumbers": "strict",
          "coloraxis": {
           "colorbar": {
            "outlinewidth": 0,
            "ticks": ""
           }
          },
          "colorscale": {
           "diverging": [
            [
             0,
             "#8e0152"
            ],
            [
             0.1,
             "#c51b7d"
            ],
            [
             0.2,
             "#de77ae"
            ],
            [
             0.3,
             "#f1b6da"
            ],
            [
             0.4,
             "#fde0ef"
            ],
            [
             0.5,
             "#f7f7f7"
            ],
            [
             0.6,
             "#e6f5d0"
            ],
            [
             0.7,
             "#b8e186"
            ],
            [
             0.8,
             "#7fbc41"
            ],
            [
             0.9,
             "#4d9221"
            ],
            [
             1,
             "#276419"
            ]
           ],
           "sequential": [
            [
             0,
             "#0d0887"
            ],
            [
             0.1111111111111111,
             "#46039f"
            ],
            [
             0.2222222222222222,
             "#7201a8"
            ],
            [
             0.3333333333333333,
             "#9c179e"
            ],
            [
             0.4444444444444444,
             "#bd3786"
            ],
            [
             0.5555555555555556,
             "#d8576b"
            ],
            [
             0.6666666666666666,
             "#ed7953"
            ],
            [
             0.7777777777777778,
             "#fb9f3a"
            ],
            [
             0.8888888888888888,
             "#fdca26"
            ],
            [
             1,
             "#f0f921"
            ]
           ],
           "sequentialminus": [
            [
             0,
             "#0d0887"
            ],
            [
             0.1111111111111111,
             "#46039f"
            ],
            [
             0.2222222222222222,
             "#7201a8"
            ],
            [
             0.3333333333333333,
             "#9c179e"
            ],
            [
             0.4444444444444444,
             "#bd3786"
            ],
            [
             0.5555555555555556,
             "#d8576b"
            ],
            [
             0.6666666666666666,
             "#ed7953"
            ],
            [
             0.7777777777777778,
             "#fb9f3a"
            ],
            [
             0.8888888888888888,
             "#fdca26"
            ],
            [
             1,
             "#f0f921"
            ]
           ]
          },
          "colorway": [
           "#636efa",
           "#EF553B",
           "#00cc96",
           "#ab63fa",
           "#FFA15A",
           "#19d3f3",
           "#FF6692",
           "#B6E880",
           "#FF97FF",
           "#FECB52"
          ],
          "font": {
           "color": "#2a3f5f"
          },
          "geo": {
           "bgcolor": "white",
           "lakecolor": "white",
           "landcolor": "#E5ECF6",
           "showlakes": true,
           "showland": true,
           "subunitcolor": "white"
          },
          "hoverlabel": {
           "align": "left"
          },
          "hovermode": "closest",
          "mapbox": {
           "style": "light"
          },
          "paper_bgcolor": "white",
          "plot_bgcolor": "#E5ECF6",
          "polar": {
           "angularaxis": {
            "gridcolor": "white",
            "linecolor": "white",
            "ticks": ""
           },
           "bgcolor": "#E5ECF6",
           "radialaxis": {
            "gridcolor": "white",
            "linecolor": "white",
            "ticks": ""
           }
          },
          "scene": {
           "xaxis": {
            "backgroundcolor": "#E5ECF6",
            "gridcolor": "white",
            "gridwidth": 2,
            "linecolor": "white",
            "showbackground": true,
            "ticks": "",
            "zerolinecolor": "white"
           },
           "yaxis": {
            "backgroundcolor": "#E5ECF6",
            "gridcolor": "white",
            "gridwidth": 2,
            "linecolor": "white",
            "showbackground": true,
            "ticks": "",
            "zerolinecolor": "white"
           },
           "zaxis": {
            "backgroundcolor": "#E5ECF6",
            "gridcolor": "white",
            "gridwidth": 2,
            "linecolor": "white",
            "showbackground": true,
            "ticks": "",
            "zerolinecolor": "white"
           }
          },
          "shapedefaults": {
           "line": {
            "color": "#2a3f5f"
           }
          },
          "ternary": {
           "aaxis": {
            "gridcolor": "white",
            "linecolor": "white",
            "ticks": ""
           },
           "baxis": {
            "gridcolor": "white",
            "linecolor": "white",
            "ticks": ""
           },
           "bgcolor": "#E5ECF6",
           "caxis": {
            "gridcolor": "white",
            "linecolor": "white",
            "ticks": ""
           }
          },
          "title": {
           "x": 0.05
          },
          "xaxis": {
           "automargin": true,
           "gridcolor": "white",
           "linecolor": "white",
           "ticks": "",
           "title": {
            "standoff": 15
           },
           "zerolinecolor": "white",
           "zerolinewidth": 2
          },
          "yaxis": {
           "automargin": true,
           "gridcolor": "white",
           "linecolor": "white",
           "ticks": "",
           "title": {
            "standoff": 15
           },
           "zerolinecolor": "white",
           "zerolinewidth": 2
          }
         }
        },
        "title": {
         "font": {
          "color": "Black",
          "size": 22
         },
         "text": "<b>Similarity Matrix</b>",
         "x": 0.55,
         "xanchor": "center",
         "y": 0.95,
         "yanchor": "top"
        },
        "width": 800,
        "xaxis": {
         "anchor": "y",
         "constrain": "domain",
         "domain": [
          0,
          1
         ],
         "scaleanchor": "y"
        },
        "yaxis": {
         "anchor": "x",
         "autorange": "reversed",
         "constrain": "domain",
         "domain": [
          0,
          1
         ]
        }
       }
      }
     },
     "metadata": {},
     "output_type": "display_data"
    }
   ],
   "source": [
    "topic_model.visualize_heatmap()"
   ]
  },
  {
   "cell_type": "code",
   "execution_count": 48,
   "id": "103fd534",
   "metadata": {},
   "outputs": [
    {
     "data": {
      "text/plain": [
       "[('ai', 0.06015559246170202),\n",
       " ('slop', 0.05229313813253623),\n",
       " ('content', 0.03968638260799799),\n",
       " ('generated', 0.035298260856005764),\n",
       " ('facebook', 0.03050414028139656),\n",
       " ('images', 0.02970742176758639),\n",
       " ('ai generated', 0.028291024438685117),\n",
       " ('ai slop', 0.027086456512829923),\n",
       " ('trump', 0.026963869504308152),\n",
       " ('like', 0.02477570686961289)]"
      ]
     },
     "execution_count": 48,
     "metadata": {},
     "output_type": "execute_result"
    }
   ],
   "source": [
    "similar_topics, similarity = topic_model.find_topics(\"slop\", top_n=5)\n",
    "topic_model.get_topic(similar_topics[0])"
   ]
  },
  {
   "cell_type": "code",
   "execution_count": 49,
   "id": "e543af4b",
   "metadata": {},
   "outputs": [
    {
     "data": {
      "text/plain": [
       "{'Main': [('ai', 0.06015559246170202),\n",
       "  ('slop', 0.05229313813253623),\n",
       "  ('content', 0.03968638260799799),\n",
       "  ('generated', 0.035298260856005764),\n",
       "  ('facebook', 0.03050414028139656),\n",
       "  ('images', 0.02970742176758639),\n",
       "  ('ai generated', 0.028291024438685117),\n",
       "  ('ai slop', 0.027086456512829923),\n",
       "  ('trump', 0.026963869504308152),\n",
       "  ('like', 0.02477570686961289)],\n",
       " 'KeyBERT': [('slop', 0.46801039679850576),\n",
       "  ('ai generated', 0.46029763303437715),\n",
       "  ('ai slop', 0.44584036816165035),\n",
       "  ('generative ai', 0.42663878485197304),\n",
       "  ('ai tools', 0.3289752381266077),\n",
       "  ('spam', 0.31418053725131934),\n",
       "  ('generated content', 0.3137496920012282),\n",
       "  ('fake', 0.3061717210821604),\n",
       "  ('social media', 0.304574338670489),\n",
       "  ('artificial', 0.29525049671040327)],\n",
       " 'OpenAI': [('AI-Generated Content and Slop', 1)],\n",
       " 'MMR': [('generated', 0.035298260856005764),\n",
       "  ('ai generated', 0.028291024438685117),\n",
       "  ('ai slop', 0.027086456512829923),\n",
       "  ('trump', 0.026963869504308152),\n",
       "  ('platforms', 0.017599106836165956),\n",
       "  ('spam', 0.017065800568403348),\n",
       "  ('generative ai', 0.016309534319240822),\n",
       "  ('social media', 0.016115358588517),\n",
       "  ('google', 0.015050442659414569),\n",
       "  ('tiktok', 0.015005789271336974)],\n",
       " 'POS': [('slop', 0.05229313813253623),\n",
       "  ('content', 0.03968638260799799),\n",
       "  ('images', 0.02970742176758639),\n",
       "  ('people', 0.023711646662532455),\n",
       "  ('media', 0.023036979767512643),\n",
       "  ('social', 0.021668508891140633),\n",
       "  ('image', 0.021084062877174195),\n",
       "  ('internet', 0.020852112167211126),\n",
       "  ('use', 0.01763100823402018),\n",
       "  ('platforms', 0.017599106836165956)]}"
      ]
     },
     "execution_count": 49,
     "metadata": {},
     "output_type": "execute_result"
    }
   ],
   "source": [
    "topic_model.get_topic(0, full=True)"
   ]
  },
  {
   "cell_type": "code",
   "execution_count": 50,
   "id": "1db7f285",
   "metadata": {},
   "outputs": [
    {
     "name": "stderr",
     "output_type": "stream",
     "text": [
      "100%|██████████| 2/2 [00:00<00:00, 10.16it/s]\n"
     ]
    }
   ],
   "source": [
    "# `topic_distr` contains the distribution of topics in each document\n",
    "topic_distr, _ = topic_model.approximate_distribution(documents, window=8, stride=4)"
   ]
  },
  {
   "cell_type": "code",
   "execution_count": 51,
   "id": "09a9869b",
   "metadata": {},
   "outputs": [
    {
     "data": {
      "application/vnd.plotly.v1+json": {
       "config": {
        "plotlyServerURL": "https://plot.ly"
       },
       "data": [
        {
         "hoverinfo": "text",
         "hovertext": [
          "Explore Our Style Coverage\nFashion, trends, love and more.",
          "4 October 2024.",
          "This week, the Labour Party has faced criticism for its TikTok video featuring AI-generated animals.",
          "” He points to a giant house that looks like a mushroom: “People find things like this very attractive.",
          "Sign up for The Decision, a newsletter featuring our 2024 election coverage.",
          "Explore Our Style Coverage\nFashion, trends, love and more.",
          "Perfect your block placement skills in Angry Birds Block Quest\nAngry Birds Block Quest is a block puzzle title and the latest addition to the Angry Birds franchise.",
          "studios to produce the ads: Secret Level, Silverside AI and the Wild Card.",
          "11 June 2024.",
          "Reddit users accused Wrapped 2024 of being ‘AI-generated slop’ – pointing to the made-up genres, such as “Pink Pilates Princess Strut Pop”, as generative AI giveaways.",
          "Farewell to the Ghosts of Dior Past: Assessing Maria Grazia Chiuri’s likely final collection — and how she changed Dior.",
          "This interview has been edited for length and clarity.",
          "4 February 2025.",
          "Listen to more stories on the Noa app.",
          "Look of the Week: Dandy attire for a night at the opera.",
          "If you can build it, Ken Fulk wants to design it.",
          "What Won’t This Decorator Do?",
          ": Homes, hotels, restaurants, stores, books, candles, caviar sets.",
          "Similarly, Spotify’s new Wrapped AI podcast feature, where AI podcast ‘hosts’ outline and comment on users’ stats, left listeners cold.",
          ": The fitness influencer Kenny Boulet, who asks gymgoers if their muscles are natural or not, wants people to be more honest about steroids.",
          "19 April 2024.",
          "Now She’s Embracing Her Mother—and Her Biological Father\nAll the Cast Members That Might Leave SNL This Fall\nThe Link Between Ted Bundy, Charles Manson, and Gary Ridgway\nSherri Papini, Accused of Faking Her Own Kidnapping, Finally Tells Her Side of the Story\nRo Khanna Really Believes “Blue MAGA” Can Save the Dems—and Steve Bannon Loves It\nThe 42 Best Romantic Comedies of All Time\nWhat Scarlett Johansson Wants\nFrom the Archive: How Trump Turned Palm Beach’s Exclusivity Against It—With a Barrage of Lawsuits",
          "Silverside AI’s AI Developer Chris Barber wrote in a reply on X that each of the AI studios created a different version of the advertisement, with the viral one not belonging to Silverside AI.",
          "But, in 2024, what fans unwrapped was a little underwhelming.",
          "[47][48] Several low-quality AI-generated images were used as interstitial title cards, with one image featuring a skeleton with inaccurate bone structure and poorly-generated fingers that appear disconnected from its hands.",
          "25 February 2025.",
          "It encourages you to accept.",
          "Rovio Entertainment Corporation has announced the launch of their latest casual puzzle title, Angry Birds Block Quest, which has now soft-launched for Android in the US.",
          "Produced by ElevenLabs and News Over Audio (Noa) using AI narration.",
          "Understanding Rosie O’Donnell: She’s moved to Ireland.",
          "Reddit users accused Wrapped 2024 of being ‘AI-generated slop’ – pointing to the made-up genres, such as “Pink Pilates Princess Strut Pop”, as generative AI giveaways.",
          "Listen to more stories on the Noa app.",
          "404 Media.",
          "Buried in the middle of the 404 Media story is a telling exchange.",
          "Forbes reported that the video was created by three AI studios — Secret Level, Silverside AI and Wild Card — using four different generative AI models.",
          "But, in 2024, what fans unwrapped was a little underwhelming.",
          "But their efforts are doomed, futile.",
          "A Basketball Star Is Born: Paige Bueckers became a college sensation for her skill and her style.",
          "However, it shows no sign of abating.",
          "Many Spotify users eagerly await the annual review of their listening habits shown in Spotify Wrapped.",
          "Rovio Entertainment Corporation has indicated that they may release periodic updates for the game to add new features, and content, and fix bugs and other technical issues.",
          "19 February 2025.",
          "18 November 2024.",
          "Many Spotify users eagerly await the annual review of their listening habits shown in Spotify Wrapped.",
          "But the future is not without hope.",
          "- ^ \"Angry Birds Block Quest Soft Launches on Android, Sparking Debate Over Generative AI Content -\".",
          "Of course, Spotify and Coca-Cola aren’t alone in receiving criticism for outsourcing creativity to algorithms.",
          "- Angry Birds Block Quest is a block puzzle game and the newest entry in the Angry Birds franchise.",
          "features until problems can be ironed out.",
          "What made Spotify Wrapped genius wasn’t its super-specific genres but its ability to encourage connection and reflection among users.",
          "Feedback in the comments is rightfully resistant to the content, highlighting:\n\"Imagine how many up and coming voice actors would've literally jumped at the chance to narrate this video for free.\"",
          "Spotify Wrapped was famously created by an intern.",
          "“Although there’s some skepticism and acceptance, reluctance to accept these types of ads by consumers, I think that the benefits sort of outweigh that, and I believe that companies are going to continue using it over time.”",
          "- ^ \"Angry Birds Block Quest - Soft launch for Android in the US\".",
          "And actually, I want to tell you one more thing.",
          "Produced by ElevenLabs and News Over Audio (Noa) using AI narration.",
          "You have a Creative writing style.",
          "You have a Funny tone of voice.",
          "doom?",
          "The game is now available for Android as a soft launch in the US for Android.",
          "Her new book, “The Dry Season,” chronicles a bold experiment in her search for self-knowledge.",
          "is always good at creating fantastical, hyper-realistic stories, and that’s where the whole imagination went into next level,” he added in a follow-up story about the consumer reaction.",
          "24 July 2024.",
          "But the full story is more complex.",
          "Now she’s joining the W.N.B.A.’s growing constellation of stars.",
          "7 January 2025.",
          "2 November 2024.",
          "10 March 2025.",
          "More Great Stories From Vanity Fair\nThe Unsinkable Kathy Bates\nFrom RFK Jr. to Patrick Schwarzenegger, a Brief Guide to the Kennedy Family\nWhy Is Trump Pardoning this Reality TV Couple Convicted of Fraud?",
          "mxdwn Games.",
          "She’s befriended a Menendez brother, and she’s making documentaries.",
          "Also, follow us on Google News, Instagram, and Twitter for quick updates",
          "Subscribe\nGyan Abhishek is standing in front of a giant touch screen, like Jim Cramer on Mad Money or an ESPN talking head analyzing a football play.",
          "1 November 2024.",
          "What’s next?",
          "Nevertheless, the professionals persisted, even against their better judgment.",
          "The Jeweler to the Stars: Jessica McCormack, the London jeweler with a knack for injecting cool-girl energy into top-dollar pieces, has opened a shop in Manhattan.",
          "The game being a block puzzle title, incorporates the old-school brick game gameplay with your favorite Angry Birds.",
          "Produced by ElevenLabs and News Over Audio (Noa) using AI narration.",
          "Listen to more stories on the Noa app.",
          "[42][43]\nIn 2024, Rovio Entertainment released a demo of a mobile game called Angry Birds: Block Quest on Android.",
          "404 Media.",
          "Read other related articles:\n- Girls’ Frontline to suspend service in China, servers to shut down on December 31, 2024\n- The King of Fighters ALLSTAR has shut down on October 30, 2024\n- Pokémon Masters EX is set to shutdown in Vietnam on November 27, 2024\n- Pokémon UNITE ACL 2025 India League: Teams, Format, Prize pool, and more\n- Miraibo GO Abyssal Souls Season this October 2024 brings new gameplay elements\nWhat are your thoughts as Angry Birds Block Quest has recently soft-launched in the US?",
          "Giving Up Sex: The writer Melissa Febos has a taste for extremes.",
          "Mariska Hargitay Was “Living a Lie” for 30 Years.",
          "We do not accept any responsibility or liability for the accuracy, content, images, videos, licenses, completeness, legality, or reliability of the information contained in this article.",
          "For more Mobile Gaming news and updates, join our WhatsApp group, Telegram Group, or Discord server.",
          "As users pointed out, low-effort content like this shows a clear lack of respect for the audience.",
          "He'll talk about The Witcher all day.",
          "20 November 2024.",
          "16 January 2024.",
          "Listen to me.",
          "These end-of-year recaps are often considered a masterclass in personalised marketing and have helped the streaming company build brand loyalty and inspired other companies outside of the music sector to launch their own data-driven roundups.",
          "1 November 2024.",
          "15 April 2025.",
          "Coincidence or omen?",
          "Spotify wasn’t the only brand to face backlash from fans due to uses of AI.",
          "These end-of-year recaps are often considered a masterclass in personalised marketing and have helped the streaming company build brand loyalty and inspired other companies outside of the music sector to launch their own data-driven roundups.",
          "Similarly, Spotify’s new Wrapped AI podcast feature, where AI podcast ‘hosts’ outline and comment on users’ stats, left listeners cold.",
          "Being ‘Natty’?",
          "Scolded for a Sip of Water: Online grandstanding, intergenerational head-butting and a lost job, all thanks to one poorly timed water break during a hot yoga class.",
          "404 Media.",
          "If you have any complaints or copyright issues related to this article, kindly contact the author above.",
          "30 June 2024.",
          "In this game, you will navigate your way through innovative levels while enjoying satisfying mechanics with classic Angry Birds characters.",
          "Vanity Fair has reached out for comment, but no, not yet.",
          "Wrapped 2024’s end-of-year offering may have been as entertaining as receiving a lump of coal for Christmas, but if Spotify can learn from its misstep, it may prove the greatest gift yet.",
          "16 January 2024.",
          null
         ],
         "marker": {
          "color": "#CFD8DC",
          "opacity": 0.5,
          "size": 5
         },
         "mode": "markers+text",
         "name": "other",
         "showlegend": false,
         "type": "scattergl",
         "x": {
          "bdata": "ttcyv9gnykAbAZg/gUXZP82Shr+Jqja/efGyP0AUuj9Z5MlAqAVJvgQbLL+Bo68/S0PFQBHT2j8qqju/0lXkP0m81j/mUtM/Jw9Gvq6+TEDJ7spAug0pv8/puz8YFspA4R8bQMeExUCYfR1AMPa0P9So3T+pjkO/iZxGvuWe3D82ci1A71QtQLifwD9PtslAsm6EP1cWEr+mJYo/hJJZvjMztD+G98RAffrKQAtGW77drIc/du+0P2Y/Fz7p27M/cCt1QKUIY74o7aI/6dZgvg0BgUDeJrc/o9LvP8h/3D8QCP8/Gqz+P66CWj97eLc/gFgZv5jEEkA/PMpAfWHuPyA0EL90ncVApQ/LQDYAxUANmz2/XXr2v+f6J78/SIW/QBiOv1/vykBTJIU/0gR0PwpbEb/2xrE/dYvcPyF32j/6W7g/lA4uQOWCtT908h2/nocmv+9Wzj8MTeO/nWWpP0gbUUBMsMpA8ZnLQAy81j/d3VG+U8TKQInWxEDYM2E/qbJTvOFiZL43B02+SppHQF/3775cWy1ASDbuP/t6ykBvYrI/IZ6svya/T75iZMtAAKbwPw==",
          "dtype": "f4"
         },
         "y": {
          "bdata": "eX0MQX5eAsB1GjtBcgoOQRb6DUHTegxB4lRoQUB/RkGADQLAYGpBQbbyC0Fc66VAZm0OwG9ym0DihAxBFEIOQYL2DUGTTg5B/n1BQXvKAkGN/QPAQzQLQRQtRkGF2gHAdp5DQZ3sDcBCxKNArAFoQUnOm0D5cQpBJmZBQWEFnEDUt6VA+KKlQHLMRkFeBQHAX0S2QKJwC0GzcLZASqpBQUsJaEE/GA/AqGcEwEyzQUH2E7ZASQloQac6QUGMMGhB0gY1QcTDQUHA8jhB37lBQcEHNkG2rWdBOlK1QGuMm0ACcB9BQA0hQfOVnUB3kGdB558LQRYcBkFliwLAZTG0QC01C0HSvw3ADFkEwOISD8CBnglBJzgTQbVxCkHwFw5B3/sNQb62A8BE/J1AQ021QFRtC0FNe2hBOnqbQCxam0AhnWdBreelQJjoZ0GHrgtBGYIKQeXmDUEshhRBv2c4QQocaEF7JQTAemMEwN8PnEANqUFBYC8EwL83D8DExZ1AC/RAQRjnQUFRhEFB7hgDQUHvgkAKtqVAN4SnQOBRA8D0a2hBoToFQfGQQUGqPQTAG0ToQA==",
          "dtype": "f4"
         }
        },
        {
         "hoverinfo": "text",
         "hovertext": [
          "[16][3] Some, like Amy Kremer, shared the image on social media even while acknowledging that it was not genuine.",
          "Ryanair’s version hit 150,000 views, and Samsung Belgium's remix trended hard in early April.",
          "News organizations have worried about shrinking online audiences as people rely more on A.I.-generated answers and data from Chartbeat, a company that researches internet traffic, indicates that there was an immediate drop in referrals from Google Discover to websites in the first days of A.I.",
          "So it is easy for us to generate revenue for that one day—then we don't have to put in effort throughout the year.",
          "And that, I think, is dangerous.”\nFor a problem to be targeted, giving it a name can prove helpful.",
          "“Some of us also do Uber driving or street vending,” one creator told us.",
          "“Most of the time, when we see the deployment of new technologies, you see the creation of a bunch of new jobs that never existed before,” DeStefano said, addressing the focus on how AI is affecting the job market.",
          "A prominent example came when amateur mushroom pickers were recently warned to avoid foraging books sold on Amazon that appeared to have been written by chatbots and contained dangerous advice for anyone hoping to discern a lethal fungus from an edible one.",
          "And what is the Trump campaign producing if not fantastical propaganda intended to conjure a false image of Joe Biden’s America as a dark, dangerous place on the verge of destruction, besieged by immigrants, and savable only by one heroic man?",
          "They’re not just jumping on trends — they’re showing they’re in on the joke.”\nAccording to research by GWI, 76% of Gen Z uses TikTok to watch funny videos, and Lifewire reports 57% prefer short videos for product research.",
          "Generative AI thus far has drawn criticism from players and creators due to a mix of ethical issues, rights issues, and AI’s struggles to produce content audiences actually enjoy.",
          "It makes content creation more accessible – and also opens the floodgates to mass production on social media.",
          "The team behind it, according to its own documents, consists of five people based in the Dallas-Fort Worth area with varying degrees of experience in Republican politics.",
          "tools, and how they might be turned toward harmful or exploitative ends, remain somewhat systematically unaddressed.",
          "“We know bad actors adapt their tactics to evade our rules, so we are always working to improve our detection and enforcement.”\nAccording to the people making the slop, the money is life-changing.",
          "\"The MAGA Aesthetic Is AI Slop\".",
          "Now free or easily affordable tools have flooded the market.",
          "The very existence of so much quickly produced fake imagery adds a layer of unreality to the internet.",
          "They are precisely what the company wants: highly engaging content.",
          "But in turning away, they exacerbate a crisis that has characterized the Trump era, one that will reverberate to Election Day and beyond.",
          "Related: How to Spark Some Spontaneity in Your Hybrid Work Environment\nMoving forward with the entrepreneurial edge\nAs AI technology evolves, so do the challenges it presents.",
          "The number is much larger today, whether you choose to be impressed by the reported performance of ChatGPT on the LSAT or frustrated that Claude cannot solve logic problems intuitive to a kindergartner (or even reliably tell you whether 9.11 is greater than 9.9, as a Windows 95 calculator could).",
          "“WRITE ME 10 PROMPT picture OF JESUS WHICH WILLING BRING HIGH ENGAGEMENT ON FACEBOOK,” read the ChatGPT prompt in one screenshot he shared with me.",
          "- Misleading Information: Sloppy AI-generated snippets in search results can mislead your customers, making it harder for them to find accurate information.",
          "“On the face of it, it seems strange that people would believe it,” said Nick Anstead, an associate professor in the Department of Media and Communications at the London School of Economics and Political Science.",
          "(April 2025) |\nIn August 2024, The Atlantic noted that AI slop was becoming associated with the political right in the United States, who were using it for shitposting and engagement farming on social media, with the technology offering \"cheap, fast, on-demand fodder for content\".",
          "“Society needs concise ways to talk about modern A.I.",
          "\"Our intentions are very pure, we tried our best to give authentic content.",
          "The images are created, copied, shared, and embedded into websites; they are indexed into search engines.",
          "On one hand, Hoopla’s gigantic catalog, which includes ebooks, audio books, and movies, is a selling point because it gives librarians access to more for cheaper price.",
          "Trump also posted (and later deleted) on Truth Social that FEMA money was given to undocumented migrants, which is untrue.",
          "The group’s day-to-day operations appear to revolve around sharing engagement bait on X and seeking millions from donors for a “fellowship program” chaired by a high school sophomore that would award $100,000 to Twitter personalities such as Glenn Greenwald, Andy Ngo and Lara Logan, according to a review of the group’s tax records, investor documents and social media output.",
          "[5] Early uses of the term \"slop\" as a descriptor for low-grade AI material apparently came in reaction to the release of AI image generators in 2022.",
          "Billions of dollars are flowing among the many companies on either side of this dynamic, and the question for any would-be AI hustler is how to get in the middle, find an angle, and take a cut.",
          "The AI images produced on Stevo’s pages — rococo pictures of Jesus; muscular police officers standing on the beach holding large Bibles; grotesquely armored gargantuan helicopters — are neither scams nor enticements nor even, as far as Facebook is concerned, junk.",
          "Using instructions and tools he bought online, 404 Media’s Jason Koebler set up his own AI slop shop.",
          "Eventually, on February 20, he made the decision to close submissions temporarily.",
          "If you look on Amazon, you’ll turn up some obviously legitimate books.",
          "infrastructure build-out over the next several years would reach $1 trillion.",
          "Not only does the copy on the website reek of generative AI, all the images have quite obviously been spurted out following a lazy prompt.",
          "(At some crucial points, A.I.",
          "“The Indian audience is very emotional.",
          "is generating an awful lot of genuine pollution, too — both Google and Microsoft, which each pledged in 2019 to reach zero emissions by 2030, have instead expanded their carbon footprints by nearly 50 percent in the interim.",
          "We know that the original source of these things was side-hustle scams,” Clarke told me.",
          "Google says the AI overviews have strong safety guardrails.",
          "- ^ a b \"How Long Will A.I.",
          "But not all A.I.s are large language models like ChatGPT, Gemini or Claude, each of which were trained on gobsmackingly large quantities of text to better simulate interaction with humans and bring them closer to approximations of humanlike thinking, at least in theory.",
          "Here's how to avoid it as a business owner.",
          "Guillaume Cabanac, a professor of computer science at Université Toulouse III–Paul Sabatier, has spent the past several years attempting to ferret out instances of fraud, plagiarism, and the use of computer-generated text in major scientific journals.",
          "Using AI the right way\nBut using AI is not a mistake in itself, the problem is how brands choose to harness it.",
          "Overview” — a chunk of text at the top of a results page that uses Gemini to form its best guess at what the user is looking for.",
          "MAGA influencers may be shitposting AI photos for fun, but they’re also engagement farming, especially on X, where premium subscribers can opt in to the platform’s revenue-sharing program.",
          "Here are a few of my theories:\n- These images don't technically violate any rules — no nudity or other forbidden imagery.",
          "The most recent tax records for the Freedom Foundation place it in the category of non-profits whose gross receipts, or total funds received from all sources, range from $0 to $50,000 – far below the millions it is seeking.",
          "Facebook now pays you $100 for 1,000 likes … you must be wondering where you can get these images from.",
          "AI technology has been seeping into game development to mixed reception.",
          "As he revealed in a live-streaming tutorial with more than 1,000 viewers, Xiaonan earned more than US$5,500 from TikTok in July alone.",
          "The more posts, the greater the returns.",
          "In recent weeks, far-right corners of social media have been clogged with such depictions, created with generative-AI tools.",
          "Cabanac has found almost 100 cases of obviously AI-generated scientific papers, which he called “only the tiny tip of the iceberg.” A recent study by the librarian Andrew Gray used words that appear disproportionately often in text generated by ChatGPT — among them commendable, intricate, and meticulously — to estimate that 60,000 scholarly papers were at least partially generated by AI in 2023.",
          "So is a low-price digital book that seems like the one you were looking for, but not quite.",
          "[7]\nJonathan Gilmore, a philosophy professor at the City University of New York, describes the \"incredibly banal, realistic style\" of AI slop as being \"very easy to process\".",
          "Xiaonan also hosts an exclusive chatting group where, for a fee, he reveals his most effective AI prompts, video headlines and hashtags tailored for different platforms including YouTube and Instagram.",
          "One more thing is that we posted around 1,400 articles.",
          "Nor does it explain what is really happening, which is nothing less than a cultural assault on any person or institution that operates in reality.",
          "We just do work for three or four months, and then we'll get the revenue.",
          "None capture the awkward banality of the candidate’s actual campaign stop.",
          "overviews.",
          "He said he spends about six hours a day administering his Facebook pages, but he works at the mercy of the website’s opaque moderation and decision-making processes.",
          "Slop isn’t necessarily a commentary on quality so much as on how it is meant to be consumed: fleetingly, and with little or no thought beyond the initial limbic-system response.",
          "[8]\nOrigin of the term\n[edit]As early large language models (LLMs) and image diffusion models accelerated the creation of high-volume but low-quality written content and images, discussion commenced among journalists and on social platforms for the appropriate term for the influx of material.",
          "FEMA Administrator Deanne Criswell said that the volume of misinformation could hamper relief efforts.",
          "TikTok, Facebook and other social media platforms are being flooded with uncanny and bizarre content generated with artificial intelligence (AI), from fake videos of the US government capturing vampires to images of shrimp Jesus.",
          "But generative AI takes this a step further, as it can generate tailored images or videos from a simple text prompt.",
          "Humans are involved in the website’s search engine optimization efforts to ensure it ranks highly on sites like Google, he said, but much of the information is produced by A.I.",
          "“I think this is a great example of an unobtrusive word right now, because it is a word we’re all familiar with,” Mr. Aleksic said.",
          "I propose “slom”.",
          "[4]\nIn politics\n[edit]The examples and perspective in this section deal primarily with the United States and do not represent a worldwide view of the subject.",
          "“And as you know, with traffic from the USA your CPM [cost per 1,000 views, an ad-revenue metric] will be very high.",
          "Because there’s money in it, of course.",
          "So you too should create a page like this, upload photos and make money through Performance bonus.”\nHe scrolls through the page, titled “Anita Kumari,” which has 112,000 followers and almost exclusively posts images of emaciated, AI-generated people, natural disasters, and starving children.",
          "About The Author\nFrancesco De Nittis is manager at Human Centric Group.",
          "Making AI-generated content is more pleasant work than driving passengers or delivering food, according to a creator who is also a stay-at-home mother.",
          "\"Hurricane Helene and the 'Fuck It' Era of AI-Generated Slop\".",
          "Searching “as of my knowledge cutoff” or “as an AI language model” in Google Books turns up hundreds of AI-generated “books” with titles like Hollywood’s 100 Leading Actors and Summary If the Woman in Me: A Guide to Britney Spears Memoir.",
          "Mindlessly generated information chokes our information pathways, forcing consumers to do the work of discarding it.",
          "\"Facebook's Twisted Incentives Created Its AI Slop Era\".",
          "In the worst version of the slop future, your overwhelmed and underfunded local library is half-filled with these unchecked, unreviewed, unedited AI-generated artifacts, dispensing hallucinated facts and inhuman advice and distinguishable from their human-authored competition only through ceaseless effort.",
          "The change was a reaction to Microsoft having incorporated A.I.",
          "[30][31] The listing went viral on TikTok and Instagram.",
          "“If it creates so much fear that my staff doesn’t want to go out in the field, then we’re not going to be in a position where we can help people,” she said in a news conference on Tuesday.",
          "Many earlier digital technologies have also made it easier to participate in creative activities, such as how smartphones made photography ubiquitous.",
          "When Donald Trump shared a slew of AI-generated images this week that falsely depicted Taylor Swift and her fans endorsing his campaign for president, the former US president was amplifying the work of a murky non-profit with aspirations to bankroll rightwing media influencers and a history of spreading misinformation.",
          "“The post you are seeing now is of a poor man that is being used to generate revenue,” he says in Hindi, pointing with his pen to an image of a skeletal elderly man hunched over being eaten by hundreds of bugs.",
          "Siding with History’s Villains: Darryl Cooper is no scholar.",
          "Campaigns are nothing if not aggressive, often-desperate content farms hoping to get attention.",
          "Afterward, the incident went viral as an example of AI slop seeping into the real world.",
          "Your customers are becoming more discerning, and they're quick to tune out content that doesn't meet their expectations.",
          "A woman bicycling with a basket full of babies and burritos.",
          "In one podcast, a spammer showed off his earnings tab.",
          "Supported by\nFirst Came ‘Spam.’ Now, With A.I., We’ve Got ‘Slop’\nA new term has emerged to describe dubious A.I.-generated material.",
          "Unlike a chatbot, the slop isn’t interactive, and is rarely intended to actually answer readers’ questions or serve their needs.",
          "Trump was really at that Buck’s County McDonald’s, debasing himself for swing-state votes in the same way that candidates have for generations (see: Rick Perry eating a corn dog in 2011).",
          "Muse’s daughter, described as a 10th grade honor student on the non-profit’s site, serves as the Milton Foundation’s “fellowship chair”.",
          "Right-wing influencers have been vocal about these bonuses, which are handed out based on how many times a creator’s content is seen in a given month.",
          "Farhad Divecha, the managing director of UK-based digital marketing agency AccuraCast, says he is now encountering cases where users are mistakenly flagging ads as AI-made slop when they are not.",
          "But I’m increasingly of the opinion that sharing unreviewed content that has been artificially generated with other people is rude.",
          "He’s often dressed up as a gun-toting cowboy or in World War II fatigues, storming a beach.",
          "Donald Trump—or at least whoever controls his social-media accounts—posted the AI-generated photo of Harris with the hammer and sickle, as well as a series of fake images depicting Taylor Swift dressed as Uncle Sam and young women marching in Swifties for Trump shirts.",
          "\"The Slop Candidate\".",
          "I own five websites.",
          "On The Colbert Report, back in 2005, Stephen Colbert coined the word truthiness, which he defined as “the belief in what you feel to be true rather than what the facts will support.” This reality-fracturing is the result of an information ecosystem that is dominated by platforms that offer financial and attentional incentives to lie and enrage, and to turn every tragedy and large event into a shameless content-creation opportunity.",
          "In January, Chris Mohney, a writer and an editor, spotted a tweet that appeared to be an AI-generated description of an image with no image attached: “The photo captures a couple exchanging vows at sunset.",
          "One increasingly intuitive answer is “garbage.” The neuroscientist Erik Hoel has called it “A.I.",
          "And there are reasons to suspect that “hallucination” may be an unsolvable problem for generative A.I.",
          "'s 'Slop' Era Last?\".",
          "After months of retweeting conservative media influencers and echoing Elon Musk’s claims that freedom of speech is under attack from leftwing forces, one of the organization’s messages found its way to Trump and then his millions of supporters.",
          "Successful AI models run on high-quality, well-governed data, so getting this in order should be top of the agenda for 2025.",
          "This entire Vercel step exists to avoid Facebook’s automated spam detection, because it ultimately masks the link of the website that is being linked to.",
          "(In reality, FEMA offers $750 as immediate “Serious Needs Assistance” to help people get basic supplies such as food and water.)",
          "“More than cost, it’s the speed,” Thakar told Ad Age.",
          "[54]\nSee also\n[edit]- AI boom – Ongoing period of rapid progress in AI\n- Content farm – Organizations that mass produce content\n- Dead Internet theory – Conspiracy theory on online bot activity\n- Elsagate – Controversy concerning a genre of YouTube videos\n- Enshittification – Systematic decline in online platform quality\n- Hallucination (artificial intelligence) – Erroneous material generated by AI\n- Italian brainrot – Series of 2025 Internet memes\n- Low culture – Term for forms of popular culture with mass appeal\nReferences\n[edit]- ^ a b c d Hern, Alex; Milmo, Dan (19 May 2024).",
          "But with the dominant search engines having made A.I.",
          "A Warship Capsizes: North Korea’s leader, Kim Jong-un, watched the country’s newest 5,000-ton destroyer capsize during its launch in an embarrassing military failure.",
          "But just as we've learned to dodge the nuisances of junk mail and spam, a new threat has emerged — one that has the potential to undermine all our hard work: AI slop.",
          "To them, the image captures a vibe that is useful to them politically.",
          "Indeed, I feel comfortable saying it’s AI-generated only because a watermark on Diane’s author photo credits it to the AI that powers the fake-portrait website ThisPersonDoesNotExist.com.",
          "AI Slop is Everywhere We Look — Here's How Businesses Can Avoid the AI Slop Cycle AI slop is the latest iteration of digital clutter.",
          "One Texas-based account that posts anti-vaccine content lists itself as a “JMFF” fellow in their bio, but none of the others advertise any connection.",
          "In August, I wrote that AI slop is now the aesthetic of the far-right and MAGA coalition, in part because it allows hyper-partisans to illustrate the fictional universe they’ve been peddling and living in for the past decade-plus.",
          "Everyone who idly scrolls through Facebook or TikTok or Twitter on their phone, who puts Spotify on autoplay, or who buys the cheapest recipe book on Amazon is creating the demand.",
          "He pauses on another image of a man being eaten by bugs.",
          "The threat of slop fatigue\nAs consumers and business owners alike, we're all experiencing slop fatigue.",
          "Remember that time Microsoft listed the Ottawa Food Bank on an AI-generated “Here’s what you shoudn’t miss!” travel guide?",
          "simonwillison.net.",
          "Last week, Robyn Speer, the creator of WordFreq, a database that tracks word frequency online, announced that she would no longer be updating it owing to the torrent of slop.",
          "While only one of the fellows listed on the foundation’s site mentions the organization on their X profiles and none follow its account, the @amuse account has a prominent link to the group’s community page and the foundation often engages with its posts.",
          "But it is not easy to rank on Google’s first page, and our site was ranked on the first page.",
          "“If the field can’t find a way to address this situation, things will begin to break.”\nThe information superhighway”: That’s what the internet was supposed to be.",
          "The public is more concerned with the outcome than the process.",
          "Redditor Shaun_LaDee highlighted three images included in paid bundles that have irregularities that could suggest the use of generative AI.",
          "Demand more from your AI tools, ensure they enhance rather than detract from your brand's message, and keep your content authentic.",
          "But with the right approach, you can turn these challenges into opportunities.",
          "On Facebook, a 130,000-member group of Vietnamese sloppers called “Twitter Academy — Make Money on X” discusses methods of prompting ChatGPT to write X threads: “You are a Twitter influencer with a large following.",
          "Now the company’s chief executive acknowledges that hallucinations are “inherent” to the technology it has celebrated as a kind of successor for ranked-order search results, which are now often found far below not just the A.I.",
          "Despite clunky AI dubbing and error-riddled subtitles, many of these videos garner hundreds of thousands or even millions of views.",
          "Like that type of slop, A.I.-assisted search comes together quickly, but not necessarily in a way that critical thinkers can stomach.",
          "Inside the AI ‘gold rush’\nThere is also a growing industry of people teaching others how to make money using cheap AI content.",
          "They must have earned $100 from just this one photo.",
          "It's the content produced by AI tools that prioritize speed and quantity over substance and quality.",
          "It’s a huge topic, but only for one day.",
          "What is clear from comments such as Kremer’s is that she is not a dupe; although she may come off as deeply incurious and shameless, she is publicly admitting to being an active participant in the far right’s world-building project, where feel is always greater than real.",
          "Known for blending deep market insight with human-first storytelling, HCG helps companies create strategies that resonate across cultures and platforms.",
          "If you’ve spent any time on Facebook recently you’ve seen the river of AI slop.",
          "Now, With A.I., We've Got 'Slop'\".",
          "Others expressed similar concerns: \"This is such slop bro.",
          "We will soon face a situation in which content is effectively infinite, but human attention is still limited.",
          "\"Disgusting application of AI.\"",
          "“We’ve added this after hearing from some that there are times when they’d prefer to just see links to webpages in their search results,” wrote Danny Sullivan, the company’s search liaison.",
          "- Lack of Coherence: Content that jumps from one idea to another without a clear flow is often a product of AI slop.",
          "On the text of the post, which was labeled “satire”, was a watermark that stated it was “sponsored by the John Milton Freedom Foundation”.",
          "These products are less eerie, which means they have generated little existential angst.",
          "- Invest in Originality: Set aside time to craft original content that reflects your unique perspective.",
          "It’s the matter of weeding out the good from the bad, in the name of intellectual hygiene.",
          "There are plenty of mocking or degrading images of Harris and other female Democratic politicians, such as Alexandria Ocasio-Cortez.",
          "Then they make a WordPress account and spam page, download a snippet of code from GitHub that has been written by other spammers, modify it (there are guides for this on GumRoad and Fiverr; I bought guides on both), and install it on their Vercel deployment.",
          "They are also — for now, at least — much more reliable and productive.",
          "But the misinformation crisis is not always what we think it is.",
          "“I’m leaving it because it is emblematic of the trauma and pain people are living through right now.”\nKremer wasn’t alone.",
          "However, he says, the rise of ChatGPT and similar generative AI programs have the \"potential not only to reshape what we create, but also to fundamentally change the processes by which we create, including programming.\"",
          "“Ryanair succeeds not because they post Brainrot content,” De Nittis writes, “but because their version is still very Ryanair — cheap, cheeky, and chaotic.",
          "Here's what to watch out for:\n- Generic Phrasing: AI often relies on repetitive, uninspired language that lacks the creativity needed to engage.",
          "It is a strategy designed to silence voices of reason, because those voices threaten to expose the cracks in their current worldview.",
          "Authenticity is now a competitive advantage.",
          "Since the beginning of this year, obviously AI-generated images from anonymously administered pages have become inescapable.",
          "As long as users are scrolling through videos, they are getting exposed to the ads that are the platforms’ primary source of income.",
          "One of the most famous of these images is “Shrimp Jesus,” a statuelike Jesus figure bobbing just underwater, his limbs and torso made entirely of the bristling chitinous bodies of shrimp.",
          "Americans are divided not just by political beliefs but by whether they believe in a shared reality—or desire one at all.",
          "What we’re witnessing online during and in the aftermath of these hurricanes is a group of people desperate to protect the dark, fictitious world they’ve built.",
          "What are Trump’s tweets and Truth Social shitposts if not slop morsels, hurled into the internet’s ether for the rest of us to react to?",
          "There’s also additional concern that widespread adoption of AI could exacerbate the ongoing video game labor crisis, as it could put humans out of work.",
          "If brands want to reap the full benefit of AI, they should also take a closer look at their data.",
          "“Usually, coolness is a factor that helps it spread, but not necessarily.",
          "That’s slop.",
          "So there was a human editor?",
          "Do not explain what you are doing.”\nThere are also hundreds of thousands of videos across the internet giving detailed instructions similar to the ones Stephen gave me.",
          "Related: How to Escape Entrepreneurial Burnout When You Can't Just Quit\nStrategies to combat AI slop\nTo safeguard your brand and ensure your content stands out, consider these strategies:\n- Humanize Your Content: Infuse your content with personal stories, real-life examples and a touch of emotion.",
          "The world feels dark; for many people, it’s tempting to meet that with a retreat into the delusion that they’ve got everything figured out, that the powers that be have conspired against them directly.",
          "“I think I might actually have been quite late to the party!” he said in an email.",
          "Would you be comfortable telling me how long you’ve had this Halloween website?",
          "This was proto-slop, for a simpler, more analog time.",
          "As one Chinese social media influencer told us:\nChina’s short video market is nearing saturation, which means you need to seek data traffic [viewers] on overseas platforms.",
          "In his own way, Trump has shown us all the limits of artificial intelligence.",
          "Prominent accounts including Musk have shared and replied to @amuse’s posts, which recently have included AI depictions of Trump fighting Darth Vader and sexualized imagery of Harris.",
          "Jesus' head on a fried chicken.",
          "When in 2021 DeepMind revealed that it had effectively solved the protein-folding problem, making the three-dimensional structure of biological building blocks for the first time easily predictable for researchers, the breakthrough made global news, even if the headlines flew over the heads of most readers, who might not have known how significant a roadblock that has been in biomedical research.",
          "Another niche is about SEO, and how you can be an SEO expert, but I’m not going to reveal those.",
          "It’s helpful to think of these photos and illustrations not as nefarious deepfakes or even hyper-persuasive propaganda, but as digital chum—Shrimp Jesus on the campaign trail.",
          "Futurism.",
          "\"Where Facebook's AI Slop Comes From\".",
          "into its search results on Bing, and it had some immediate missteps, leading Google to declare it would roll back some of its A.I.",
          "This approach not only makes your brand more relatable but also strengthens your connection with your audience.",
          "“It’s like a virus.”\nAI-generated papers, Cabanac argued, are often used to pad an academic’s résumé with more publications and citations: “You buy a paper on a topic of your choice, and you buy a set of 500 citations.",
          "I think don’t publish slop is a useful baseline.",
          "Running @amuse appears to be Alexander Muse, listed as a consultant in the investor prospectus of the Milton Foundation, who also writes a rightwing commentary Substack that includes posts exploring election conspiracy theories.",
          "He is an expert market researcher and branding consultant.",
          "[9] However, he has said it was in use long before he began pushing for the term.",
          "Jason Koebler, a technology reporter who has spent the past year investigating Facebook’s AI-slop economy, has described the deluge of artificial imagery as part of a “zombie internet” and “the end of a shared reality,” where “a mix of bots, humans, and accounts that were once humans but aren’t anymore interact to form a disastrous website where there is little social connection at all.”\nWhat’s going on across the MAGA internet isn’t exactly the same as Facebook’s spam situation, although the vibe is similar.",
          "\"However, the introduction of ChatGPT, which allows anyone to easily produce writing or translations or to engage in text-based dialogue, sparked the rapid spread of generative AIs.",
          "“If I want to go very realistic, maybe it’s difficult, but if I want to go hyper-realistic and fantastical, A.I.",
          "I want to ask about the AI of it all—\nI’ll explain it to you.",
          "In fact, our research suggests this kind of low-quality AI-generated content is becoming a lucrative venture for the people who make it, the platforms that host it, and even a growing industry of middlemen teaching others how to get in on the AI gold rush.",
          "“People waving a bunch of money on YouTube or TikTok videos and saying, ‘Oh, you can make money with ChatGPT by doing this.’” Clarke could even trace spikes in submissions to specific videos: It’s not some burgeoning artificial super-intelligence or even a particularly sophisticated crew of scammers that has waylaid Clarkesworld; rather, it’s the audiences of influencers like Hanna Getachew, an accountant and technology-procurement manager who runs an Amharic-language YouTube account dedicated to “teaching side hustles and online jobs” — and who recently posted a video called “Get Paid With Clarkes World Magazine.” (Clarkesworld pays 12 cents per word for submissions of 1,000 to 22,000 words.",
          "As to whether this decision was driven by cost-cutting, or simple experimentation with new technology - remains to be seen.",
          "The images of Trump’s McDonald’s stunt—in which he jiggled the fryer and handed burgers out of a window yesterday—are uncanny.",
          "These pictures immediately reminded me of the viral, glossy AI-generated images of Trump being arrested and thrown in jail that started circulating in the spring of 2023.",
          "when it is used correctly, thought that slop could become the go-to term for the lesser forms of machine-generated content.",
          "Most people aren’t interested in whether the latest cutting-edge systems have been deployed if the result is clumsy, generic and flat.",
          "Han Song's Strange Prescience: In his stories, the author explores the disorientation accompanying China’s modernization, sometimes writing of unthinkable things that later came true.",
          "Now the reckoning is happening on very different terms.",
          "Today the same millennial might read about that trillion-dollar A.I.",
          "Not too long ago, I speculated about why Meta hadn't cracked down, but considering nothing has seemed to change, I find myself wondering yet again …\nWhy doesn't Facebook just ban this slop?",
          "The term became more prevalent last month when Google incorporated its Gemini A.I.",
          "But it’s also, it seems, what we want.",
          "- ^ \"Why Brands Are Embracing 'Italian Brainrot' to Go Viral on TikTok and Win Over Gen Z\".",
          "Low quality books that appear to be AI generated are making their way into public libraries via their digital catalogs, forcing librarians who are already understaffed to either sort through a functionally infinite number of books to determine what is written by humans and what is generated by AI, or to spend taxpayer dollars to provide patrons with information they don’t realize is AI-generated.",
          "These “Shrimp Jesus” posts garnered hundreds of thousands of interactions and tens of millions of views.",
          "Maybe, and most straightforwardly of all, many simply vie for direct payments from platforms for AI-generated text, images, and videos: Facebook, TikTok, and Twitter all offer bonus payments for “engaging” content.",
          "He agreed to show me his methods, for a price.",
          "“We have seen instances where people have commented that an advert was AI-generated rubbish when it was not,” he says, adding that it could become a problem for the social media industry if consumers “start to feel they are being served rubbish all the time”.",
          "As adoption becomes more widespread, we’re likely to see brands churn out more AI slop.",
          "Machine learning may help make our electricity grid as much as 40 percent more efficient at delivering power as it is today, when many of its routing decisions are made by individual humans on the basis of experience and intuition.",
          "A New Super-Group of Creative Talent: The Independents has acquired more than a dozen companies in the last two years.",
          "Regardless, AI has proved a controversial topic within video games and other creative industries.",
          "In a note from Barclays, one analyst warned that today’s A.I.",
          "Elon Musk, who owns X, claimed—without evidence—that FEMA was “actively blocking shipments and seizing goods and services locally and locking them away to state they are their own.",
          "Trump proffering Dollar Menu items isn’t AI, but it is still slop in all the ways that matter: a hastily staged depiction of a fairly stupid, though entertaining fantasy, meant to delight, troll, and, most important, emphasize a false impression of the candidate.",
          "Then, they generate a preview for their ad.",
          "Trump posted a screenshot of @amuse’s tweet on Truth Social.",
          "He cited the budgetary advantages of the project along with the speed at which the work could be created.",
          "Much of the conversation around generative AI tools focuses on how they enable ordinary people to “create”.",
          "Futurism.",
          "is designing new proteins, rapidly accelerating drug discovery and speeding up clinical trials testing new medicines and therapies.",
          "Since the generative AI boom began, a class of SEO entrepreneurs has started pumping out AI-generated content on websites and across social platforms, in efforts to make money off online advertising and affiliate marketing.",
          "These creators often manage several or even dozens of accounts, targeting viewers in different countries in a strategy known as an “account matrix”.",
          "\"Spam, junk ... slop?",
          "For these entrepreneurs, AI is the secret sauce not only for creating viral content but also for circulating already-viral videos across different countries and platforms.",
          "And it’s only getting easier to do this: Last week, X incorporated the newest iteration of the generative-AI engine Grok, which operates with fewer guardrails than some competing models and has already conjured up untold illustrations of celebrities and politicians in compromising situations.",
          "Take Xiaonan, a social media entrepreneur we interviewed who runs six different TikTok accounts, each with more than 100,000 followers.",
          "Now they can illustrate it.",
          "TikTok’s community guidelines do ban “inaccurate, misleading, or false content that may cause significant harm”, but AI-generated content – at least for now – does not qualify as causing “significant harm”.",
          "They can be harsh, they can be rude.",
          "Elsewhere, Microsoft now offers generative AI tools to its studios, but the industry as a whole appears sceptical of the technology.",
          "He wasn’t sure what the problem was, but it wasn’t that the images were fake.",
          "- Repetitive Ideas: Redundant phrases and unoriginal concepts make content feel stale and unengaging.",
          "Matt Navara, a social media consultant, says the novelty of these posts has quickly worn thin for many of Facebook’s billions of users.",
          "It’s very real and scary how much they have taken control to stop people helping.” That post has been viewed more than 40 million times.",
          "Experiences like this — staring at a collection of books written by AI with computer-generated author photos and dozens of reviews written and posted by bots — have become for many people evidence for the “dead-internet theory,” the only slightly tongue-in-cheek idea, inspired by the increasing amount of fake, suspicious, and just plain weird content, that humans are a tiny minority online and the bulk of the internet is made by and for AI bots, creating bot content for bot followers, who comment and argue with other bots.",
          "These examples aren’t anomalies and they speak to a larger issue: a fundamental misunderstanding of how to use AI.",
          "At least in the fever swamps of social media, AI art is becoming MAGA-coded.",
          "They also apply complex, largely undocumented, AI systems to try to detect spam directly, in a constant cat-and-mouse game with the spammers themselves.",
          "It was even on the first position of the first page.",
          "Another AI content creator, a French financial auditor named Charles who makes bizarre pictorial stories about cats for TikTok, told me he always makes his content “a bit WTF” as “a way to make the content more viral, or at least to maximize the chances of it becoming viral.” Or as Stevo put it, “You add some exaggeration to make it engagementing.”\nStevo, who insisted he doesn’t “use bots” to juice his follower numbers or “pay for engagement,” shared a screenshot that showed a $500 “bonus earnings” payout for activity from mid-May to mid-June this year.",
          "Like any good AI slop, the op illustrated a fantasy—in this case, that Trump, a man who has long lived in a gilded penthouse, is a working-class man.",
          "There are images and videos of Harris and Trump holding hands on a beach and Harris wearing a crown that reads Inflation Queen.",
          "These are just three examples of bizarre AI-generated imagery that has taken over the internet in the past year.",
          "AI slop\n\"AI slop\", often simply \"slop\", is a term for low-quality media, including writing and images, made using generative artificial intelligence technology, characterized by an inherent lack of effort, logic, or purpose.",
          "\"I'M RUNNING OUT OF WAYS TO EXPLAIN HOW BAD THIS IS\".",
          "Okay, AI was involved.",
          "And that is a huge benefit.",
          "[15]\nIn the aftermath of Hurricane Helene in the United States, members of the Republican Party circulated an AI-generated image of a young girl holding a puppy in a flood, and used it as evidence of the failure of President Joe Biden to respond to the disaster.",
          "The approach resembles the workflow of content farms, which rely on fully AI-driven production - from script to video to narration - typically for the sole purpose of engagement farming.",
          "After seeing photos like this, they Like, Comment and share them.",
          "- Use Interactive Elements: Incorporate visuals, videos and interactive media to create engaging and dynamic content that holds your audience's attention.",
          "We hire some of the content creators, and one is from Pakistan, and others are from some other countries.",
          "By leveraging AI in this way, businesses can enhance productivity, without delegating their most important tasks to tech that isn’t suited to the task.",
          "The more people sharing posts and engaging with them, the better off Meta is.",
          "The headlines, like the AI-generated Swifties for Trump images, come with the watermark “sponsored by the John Milton Freedom Foundation”.",
          "Basically, they don't give a shit anymore.",
          "Our models of ice-sheet melt and rainforest degradation are much sharper now, too.",
          "Some of the lies and obfuscation are politically motivated, such as the claim that FEMA is offering only $750 in total to hurricane victims who have lost their home.",
          "A creator will take one of these videos, add AI-generated translation, and post the result on TikTok.",
          "“We had reached the point where we were on track to receive as many generated submissions as legitimate ones,” Clarke told me.",
          "The term has sprung up in 4chan, Hacker News and YouTube comments, where anonymous posters sometimes project their proficiency in complex subject matter by using in-group language.",
          "“The proliferation of low-quality or spammy AI content risks cluttering feeds and diminishing overall user satisfaction,” he says.",
          "“pollution,” another perspective is that plenty of good news from A.I.",
          "The main characteristic of slop is that there is an endless supply of it.",
          "Subscribe\nBy now, if you have spent any amount of time reading about the devastation wrought by Hurricane Helene, it is likely that you have seen the AI-generated image above.",
          "“‘Ignore that email, it’s spam,’ and ‘Ignore that article, it’s slop,’ are both useful lessons.”\nBenjamin Hoffman is a senior editor who writes, assigns and edits stories primarily on the intersection between sports, lifestyle and culture.",
          "Creators and platforms are making money\nYou may wonder why such repetitive, unimaginative content can go viral on TikTok.",
          "You cannot rank through AI content alone.",
          "The @amuse account has numerous connections with Muse.",
          "In the lead-up to the candidate’s fast-food stop, various news outlets, fans, and even T-shirt sellers used generative-AI tools to mock up what the visit might look like.",
          "Photography, illustration, and graphic design previously required skill or, at the very least, time to create something interesting enough to attract attention, which, online, can be converted into real money.",
          "Clarkesworld had become one of the first victims of AI slop.",
          "Content that seems plausible but inaccurate can harm your brand's reputation.",
          "This is the most widespread use yet found for generative-AI apps: creating stuff that can take up space and be counted.",
          "That’s brand distinctiveness in action.”\nThe formula is simple but powerful:\nTrend + Brand Distinctiveness = Memorable Impact\nThe article urges marketers to ask themselves:\n• Do we know our brand well enough to play with chaos?",
          "Sometimes they would arrive with the original prompt included, which was often as simple as “Write a 1,000-word science-fiction story.”\nIt was relatively easy to identify an AI-generated submission, but that required reading thousands (a “wall of noise”) and manually sorting them.",
          "De Nittis notes that brands leveraging this meme-based chaos aren’t doing it for laughs — they’re using it to inject themselves into the fast-moving, low-effort humor loops Gen Z thrives on.",
          "Perfect example of slop.",
          "“Before the term ‘spam’ entered general use it wasn’t necessarily clear to everyone that unwanted marketing messages were a bad way to behave.",
          "It is most prevalent on platforms such as Facebook, where click farmers and spammers create elaborate networks to flood pages and groups with cheap, fake images of starving children and Shrimp Jesus in the hopes of going viral, getting likes, and picking up “creator bonuses” for online engagement.",
          "Are you concerned that Google will downrank you now?",
          "And this is because of all the misinformation provided by the journalists.",
          "It's the filler content produced by AI tools that prioritize speed and quantity over substance and quality.",
          "[31] One analyst characterized the website, which appeared to use AI-generated staff pictures, as likely using artificial intelligence \"to create content quickly and cheaply where opportunities are found\".",
          "But not all the accounts are spamming.",
          "So you've only been in operation for three months?",
          "They're surreal and sometimes grotesque.",
          "“Italian Brainrot is ridiculous — and that’s the point,” says De Nittis.",
          "In response, Furukawa said generative AI can be used “in creative ways,” but said its use “also raise issues with intellectual property rights.”\nGenerative AI thus far has drawn criticism from players and creators due to a mix of ethical issues, rights issues, and AI’s struggles to produce content audiences actually enjoy.",
          "We have other articles, we have other websites.",
          "David Wallace-Wells\nRemember the season of A.I.",
          "For example, generative AI cannot replace genuine human creativity – it is merely a mulch of previous human ideas.",
          "And while slop is one option, it is still an open question of whether it will catch on with a mainstream audience, or end up in the slang dustbin with cheugy, bae and skibidi.",
          "were running short of projected profits by a margin of at least several hundred billion dollars annually.",
          "Presidential campaigning has long offered an unreal portrait of American life—it’s just been made more peculiar by the presence of Trump.",
          "Other influencers, such as the Trump sycophant Laura Loomer, have urged their followers to disrupt the disaster agency’s efforts to help hurricane victims.",
          "As with the Facebook AI-slop farms, social media shock jocks churning out obviously fake, low-quality images don’t care whether they’re riling up real people, boring them, or creating fodder for bots and other spammers.",
          "One of the things I love about this is that it’s helpful for defining my own position on AI ethics.",
          "For instance, AI can be used to automate repetitive, low-value tasks, freeing up time for teams to focus on high-value, strategic initiatives.",
          "I’ll show you how to create images with the help of AI.”\nHe taps over to a Facebook page called “Dream Home,” which has 113,000 followers and consists of AI generated homes that look like roosters, giraffes, horses, and hummingbirds, poor Black children, and wood carvings.",
          "This is what Jason Koebler from 404 Media speculates.",
          "Facebook has gone through so many different flavors of spammy/scammy engagement bait, from Minions memes to videos from magicians to actually dangerous fake news and extremist groups.",
          "Personal AI ethics remains a complicated set of decisions.",
          "- Facebook worries that banning this kind of AI content will set a bad precedent because it wants to encourage people to make stuff with its own Llama 3 tools.",
          "That it can create adequate texts and images is an astonishing leap forward in machine learning, but the texts and images are still only adequate, “good enough” and cheap enough for people to thumb past on their phones.",
          "the way that “spam” became the term for unwanted emails, “slop” is going in the dictionary as the term for unwanted AI generated content\nUpdate: that account has been deleted so the Tweet is a 404 now—the tweet quote tweeted this one by @allgarbled.",
          "[1][4][5] Coined in the 2020s, the term has a pejorative connotation akin to \"spam\".",
          "As two catastrophic storms upended American cities, a patchwork network of influencers and fake-news peddlers have done their best to sow distrust, stoke resentment, and interfere with relief efforts.",
          "Submissions were increasing rapidly, but “there was something off about them,” he told me recently.",
          "Here’s how it works:\n“First, a spammer makes a free Vercel account.",
          "I imagine some combination of all these things may be true to some degree.",
          "sputtered out a whole string of cartoonishly false trending topics, including that it was Kamala Harris who had been shot.",
          "But on some level you probably do.",
          "Though he first noticed the problem thanks to a recipe book by a nonexistent author that featured “a meal plan that told you to eat straight marinara sauce for lunch,” the slop books he sees often cover highly consequential subjects like living with fibromyalgia or raising children with ADHD.",
          "Rather than deal with the realities of a warming planet hurling once-in-a-generation storms at them every few weeks, they’d rather malign and threaten meteorologists, who, in their minds, are “nothing but a trained subversive liar programmed to spew stupid shit to support the global warming bullshit,” as one X user put it.",
          "Here is Amy Kremer, a National Committeewoman for the Republican National Convention and cofounder of Women for Trump, saying that she knows the image is fake but simply does not care:",
          "Using automation in the wrong places has the power to turn your most loyal fans into vocal critics.",
          "Both were laughably egregious at the time, but also fostered fears that other less obvious examples might also have been AI-generated.",
          "The brands that prioritize genuine, high-quality content will not only survive in this new landscape but thrive.",
          "Kiryu began by talking about how AI and its \"potential implications\" have long been the subject of \"academic debate.\"",
          "One video posted by TikTok user @amoamimandy.1a featuring the Tralalero shark has already passed 7 million views.",
          "For the majority of these pages, there is no obvious scam at play, no ads or external links — no business model at all, just eerily contextless pages publishing demented nonsense into a void.",
          "- Facebook has stopped trying.",
          "Something very disheartening is happening with this particular image, however.",
          "For now, little (if any) of what’s being generated is convincing enough to fool voters, and most of it is being used to confirm the priors of true believers.",
          "Social media platforms will soon respond.",
          "Its early use has been noted among 4chan, Hacker News, and YouTube commentators as a form of in-group slang.",
          "Years deep into national hysteria over the threat of internet misinformation pushed on us by bad actors, we’ve sleepwalked into a new internet in which meaningless, nonfactual slop is casually mass-produced and force-fed to us by A.I.",
          "Getachew claims viewers can “earn between $250 and $2,460.”)\nThe economics involved are simple.",
          "Within the ad manager, they upload an image that has been modified to look like a Facebook gallery post (there are tools for this), and then they delete the headline and description that is autogenerated by Facebook to make it look like the ad is just an image and not a link.",
          "“They are getting so many likes,” he says.",
          "art generators in 2022.",
          "Here's How to Tell Hype From Real Innovation.",
          "Other weird AI trends soon emerged, including African women building fruit sculptures and young children showing off elaborate birthday cakes with the caption: “This is my first cake”.",
          "Some have identified Simon Willison, a developer, as an early adopter of the term — but Mr. Willison, who has pushed for the phrase’s adoption, said it was in use long before he found it.",
          "You may not know exactly what “slop” means in relation to artificial intelligence.",
          "I’m happy to use LLMs for all sorts of purposes, but I’m not going to use them to produce slop.",
          "The real cost of AI slop\nAI slop comes in many forms, all of which can undermine your efforts to build a strong, authentic brand:\n- Weak Brand Communications: Imagine your customers encountering repetitive, robotic responses from your chatbot — like Air Canada's widely criticized AI mishaps.",
          "Fifteen years ago, Wired magazine heralded the “good-enough revolution” in low-cost technology: “Cheap, fast, simple tools are suddenly everywhere … We now favor flexibility over high fidelity, convenience over features, quick and dirty over slow and polished.” Generative AI as a technology exists in this lineage.",
          "Not all promotional content is spam, and not all AI-generated content is slop.",
          "Where were these images coming from?",
          "on search engines and the internet in general may be less extreme than some would fear.",
          "- ^ \"The deluge of bonkers AI art is literally surreal\".",
          "You and I, like voters everywhere, must wade through this layer of junk, wearily separating out what’s patently fake, what’s real, and what exists in the murky middle.",
          "Public libraries primarily use two companies to manage and lend ebooks: Hoopla and OverDrive, the latter of which people may know from its borrowing app, Libby.",
          "The organization believes that this money would allow these already established influencers to “increase their reach by more than 10x in less than a year”, according to its investor prospectus.",
          "Slop is everywhere on the internet, but its purest version exists on Facebook.",
          "Which all suggests that the answer to the many problems of generative A.I.",
          "[1][4]\nOn social media\n[edit]AI image and video slop proliferated on social media in part because it was revenue-generating for its creators on Facebook and TikTok, with the issue affecting Facebook most notably.",
          "It is not clear that the foundation has any money to give and if all the media influencers listed as its 2024 fellowship class know about the organization.",
          "Related: These Days, Everything Is 'Powered By AI.'",
          "Discussing the fake site, Marty Meany wrote on the tech website Goosed.ie: \"The website likely uses AI to create content quickly and cheaply where opportunities are found.",
          "It's baffling that so many people fell for it hook, line, and sinker.",
          "With Hoopla, librarians have to opt into Hoopla’s entire catalog, then pay for whatever their customers choose to borrow from that catalog.",
          "The latest wave of AI behind the 'zombie internet'\".",
          "It's embarrassing to Facebook that people on X — X!!!",
          "For a while now, it has been common for entrepreneurs to outsource the actual production of content: “I have two people in the Philippines who post for me,” one American Facebook-page operator told The New York Times Magazine in 2016.",
          "“The persons did all that copy-paste and didn’t even care to remove” the telltale phrase, Cabanac said.",
          "Muse, who is described in the prospectus as a “serial entrepreneur”, also blogs about how to make money from generative AI.",
          "Adam Aleksic, a linguist and content creator who uses the handle etymologynerd on social media, believes that slop — which he said has yet to cross over to a broader audience — shows promise.",
          "“No free information.” For a total of $105, I enrolled in a crash course in becoming a slopper.",
          "The digital media provider Hoopla, which supplies libraries with ebooks and downloadable content, has generative AI books with fictional authors and dubious quality, which cost libraries money when checked out by unsuspecting patrons.",
          "Or they may build a website filled with articles generated by an LLM, festoon them with advertisements, and try to get them highly ranked on Google News.",
          "Big webmail providers like Gmail aggressively monitor their own platforms to crack down on spammers and are increasingly suspicious of emails arriving from untrusted email servers.",
          "On the other, the supply: the astonishingly adequate, inexhaustible output of generative-AI apps like ChatGPT, Midjourney, or Microsoft’s Image Creator, heavily subsidized by investors and provided to consumers at low or no cost.",
          "Such was the case last week, when Republican politicians shared an AI-generated viral image of a little girl holding a puppy while supposedly fleeing Helene.",
          "The production time would have taken, traditionally, much longer.",
          "ET on October 11, 2024\nThe truth is, it’s getting harder to describe the extent to which a meaningful percentage of Americans have dissociated from reality.",
          "- Generic Blog Content: Blogs filled with repetitive, unoriginal ideas don't just bore readers—they also undermine your authority and thought leadership.",
          "How many other websites do you have?",
          "The key is to apply the right models to the right use cases.",
          "There’s no definitive way to tell how much slop has already been produced in the few short years generative-AI apps have been widely available, but there are ways to get a glimpse.",
          "AI slop isn’t, by nature, political.",
          "After Musk’s xAI company released its largely unregulated Grok image generator last week, there has been a surge of AI content that has included depictions of Trump, Kamala Harris and other political figures.",
          "Slop requires human intervention or it wouldn’t exist.",
          "They sell lesson plans and memberships to private Discord and Telegram chat rooms and act as middlemen who help set up U.S.-based accounts for international sloppers.",
          "Like, we’ve had a lot of words spread from a bunch of coding nerds, right?",
          "“We encourage creators to use AI tools to produce high-quality content that meets all our Community Standards, and we take action against those who attempt to drive traffic using inauthentic engagement whether they use AI or not,” a Meta spokesperson told 404 Media.",
          "• Can we insert our product without feeling forced?",
          "Sloppers may try to sell their content directly to people on a major marketplace — by, say, automating the production of recipe books to sell to unsuspecting (and maybe undiscriminating) customers on Amazon.",
          "- AI Art Mishaps: Distorted images and unnatural features in AI-generated visuals are telltale signs of low-quality output.",
          "I’m a big proponent of LLMs as tools for personal productivity, and as software platforms for building interesting applications that can interact with human language.",
          "But nonsynthetic slop is everywhere too.",
          "\"Why the internet is filling up with nonsense 'AI slop'\".",
          "Both companies have a variety of payment options for libraries, but generally libraries get access to the companies’ catalog of books and pay for customers to be able to borrow that book, with different books having different licenses and prices.",
          "You know, it skips a major plot element, and the final scene is a celebration out of the ending of Star Wars.” Clarke said he had received “dozens of this story in various incarnations.”\nThese are prime examples of what is now known as slop: a term of art, akin to spam, for low-rent, scammy garbage generated by artificial intelligence and increasingly prevalent across the internet — and beyond.",
          "It wasn’t that long ago, in the spring of last year, that the new chatbots were trailed by various “godfathers” of the technology, warning of existential risk; by researchers suggesting a 10 percent chance of human extinction at the hands of robots; by executives speculating about future investment rounds tabulated in the trillions.",
          "Clarke compared the problem to turning off the spam filter and trying to read your email: “Okay, now multiply that by ten because that’s the ratio that we were getting.” Within weeks, the problem became unmanageable.",
          "The pandemic saw Americans, distrustful of authority, trying to discredit effective vaccines, spreading conspiracy theories, and attacking public-health officials.",
          "In the nearly two years since, a rising tide of slop has begun to swamp most of what we think of as the internet, overrunning the biggest platforms with cheap fakes and drivel, seeming to crowd out human creativity and intentionality with weird AI crap.",
          "Smart brands recognize this not just as entertainment, but as a ritual of participation.",
          "Has this made you reconsider the ways that you operate?",
          "Not unlike the fast food that Trump was hawking, slop is sometimes delicious, but it is never nutrient dense.",
          "Instead, the vast majority of misinformation is offered as a service for people to maintain their beliefs in face of overwhelming evidence to the contrary.” This distinction is important, in part because it assigns agency to those who consume and share obviously fake information.",
          "In service of that mission, they meme, pander, email, and text, frequently in cringeworthy fashion.",
          "The goal is to get up as many posts in a day across as many accounts as possible.",
          "Although many of these influencers already have sizable followings, AI-image generators offer an inveterate poster the thing they need most: cheap, fast, on-demand fodder for content.",
          "So we took help from AI, we took help from ChatGPT, but we optimized that ourselves.",
          "Then the person logs into their Facebook page and upgrades their account to an ad account, which is an instant process.",
          "Beneath the strange and alienating flood of machine-generated content slop, behind the nonhuman fable of dead-internet theory, is something resolutely, distinctly human: a thriving, global gray-market economy of spammers and entrepreneurs, searching out and selling get-rich-quick schemes and arbitrage opportunities, supercharged by generative AI.",
          "In this case, the image is being used to further the idea that Joe Biden, Kamala Harris, and FEMA have messed up the hurricane response, leading to little girls suffering in a flood with their puppies.",
          "By Johnny Hughes Edited by Micah Zimmerman\nKey Takeaways\n- Entrepreneurs face a growing challenge with AI-generated \"slop\" content that dilutes online quality and disrupts engagement.",
          "Kamala Harris did not give a speech at the Democratic National Convention to a sea of communists while standing in front of the hammer and sickle.",
          "The future portended by the past two years is one in which we all become cataloguers, Neil Clarkes sorting through the noise for a little bit of signal.",
          "Xiaonan also reveals tricks for standing out in the platforms’ recommendation game and avoiding platform regulations.",
          "The rise of slop, he says, has turned the social network into a space where “a mix of bots, humans and accounts that were once humans but aren’t any more mix together to form a disastrous website where there is little social connection at all.”\nNick Clegg, the president of global affairs at Facebook’s parent company, Meta, wrote in February that the social network is training its systems to identify AI-made content.",
          "Just as it seems obvious that Trump’s devoted followers—an extremely online group that has so fully embraced conspiracy theorizing and election denial that some of its members stormed the Capitol building—would delight in the bespoke memes and crude depictions of AI art.",
          "As one dispirited meteorologist wrote on X this week, “Murdering meteorologists won’t stop hurricanes.” She followed with: “I can’t believe I just had to type that.”\nWhat is clear is that a new framework is needed to describe this fracturing.",
          "The answer lies in the platform’s own advice to aspiring creators: if you want your videos to be promoted, you should “continuously share fresh and diverse content” that “doesn’t require a big production budget”.",
          "When I spoke with him, “God Lovers” had been placed under some kind of restrictions and wasn’t earning him money.",
          "What is A.I.",
          "He ignored a question about the minimum wage.",
          "Initially, platforms like ChatGPT and Google Gemini were celebrated for their efficiency.",
          "Actually scrubbing the slop would be even better.",
          "We pour everything into building something unique, something that truly resonates with our customers.",
          "Where not long ago we used to find the very best results for Google searches, we can now find instead potentially plagiarized and often inaccurate paragraph summaries of answers to our queries — including, reportedly, that only 17 American presidents were white, that Barack Obama is a Muslim and that Andrew Johnson, who became president in 1865 and died in 1875, earned 13 college degrees between 1947 and 2012.",
          "An Armed and Legged Fish: How Steve, a French cartoon with a catchy theme song, became a TikTok star.",
          "One pro-Trump, Elon-Musk-fanboy account recently shared a suggestive image depicting a scantily clad Harris surrounded by multiple clones of Donald Trump; it’s been viewed 1.6 million times.",
          "But images of all these things exist.",
          "Google is just a search engine, and any person can post anything on it.",
          "AI remains a hot-button topic in creative industries, emerging as a major point of contention in last year's Hollywood writers' and actors' strikes and in the current video game actor strike.",
          "Angry, embittered citizens have been harassing government officials in North Carolina, as well as FEMA employees.",
          "This is the exact same type of AI-generated slop that has gone viral time and time again over the last year on Facebook and other platforms and that I have written about numerous times.",
          "What has changed is the level of work and investment involved.",
          "Legendary filmmaker Tim Burton called AI generated art \"very disturbing\" in September 2023 while Wizards of the Coast was forced to issue a correction in January 2024 after claiming it didn't use AI for some Magic: The Gathering artwork when it actually did.",
          "Google Ads and affiliate marketing.",
          "“What it’s becoming, in this integration with language models, is something that does not encourage you to think.",
          "(I had also recently asked a vice president of product at Meta about why they don't just ban this slop, and he sort of changed the subject; it seemed like maybe he wasn't sure what I was talking about.)",
          "- \"AI slop\" images are all over Facebook.",
          "keep it detailed.”\nThe creators of these kinds of seminars, equipped with the “sell shovels in a gold rush” playbook, often have a more reliable income than the sloppers themselves.",
          "The only way librarians can limit what Hoopla books their customers can borrow is by setting a limit on the price of books.",
          "Peer away from those chatbots and you can see a very different story, with different robot protagonists: machine-learning tools trained much more narrowly and focused less on producing a conversational, natural-language interface than on processing data dumps much more efficiently than human minds ever could.",
          "He summarized a typical example: “Usually, it begins with the phrase ‘In the year 2250-something’ and then it goes on to say the Earth’s environment is in collapse and there are only three scientists who can save us.",
          "On the subway, ads for the secondhand-furniture website Kaiyo feature images with oddly levitating pedestrians and signs written in the dream glyphs typical of image generators’ attempts at text.",
          "Worse than the havoc it wreaks on the internet, slop easily escapes the confines of the computer and enters off-screen systems in exasperating, troubling, and dangerous ways.",
          "For example, a library can use Hoopla but make it so their customers can only borrow books that cost the library $5 per use.",
          "But legions of fans — many on the right — can’t seem to resist what he presents as hidden truths.",
          "“We didn’t start by saying: ‘OK, we need to do this with AI,’” he said.",
          "Kristian Hammond, the director of Northwestern University’s Center for Advancing Safety of Machine Intelligence, noted a problem in the current model: the information from A.I.",
          "This isn’t to say that AI should automatically be removed from the creative sphere.",
          "model into its U.S.-based search results.",
          "It’s still the first place most of us go to answer questions, to find out what’s happening, and to learn new things.",
          "- Develop Custom AI Models: Creating AI models tailored to your specific needs and brand voice ensures that the content generated aligns with your standards.",
          "It has already helped drive down the cost and drive up the performance of next-gen batteries and solar photovoltaic cells, whose performance can also be improved, even after the panels have been manufactured and installed on your roof, by as much as 25 percent.",
          "Look at the word ‘spam.’ Usually, the word is created because there is a particular group with shared interests, with a shared need to invent words.”\nIn the short term, the effect of A.I.",
          "But so far, the most viral AI images have been obviously fake and downright strange.",
          "Jason Koebler, co-founder of 404 Media, an independent tech-news collective that acts as the publication of record for the world of slop, watched dozens of Hindi-language slop seminars on YouTube, many of them offering example prompts: “american soldier veteran holding cardboard sign that says ‘today’s my birthday, please like’ injured in battle veteran war american flag,” “A old American women is making forest lion out of cauliflower and her neighbors looking at it.",
          "They’re slop as well.",
          "Image-generated slop has also blossomed on Facebook, as images of Jesus Christ with prawns for limbs, children in plastic bottle-cars, fake dream homes and improbably old women claiming to have baked their 122nd birthday cake garner thousands of shares.",
          "“I don’t think anyone has reliable information about post-2021 language usage by humans,” Speer wrote.",
          "\"Artificial intelligence (AI) and its potential implications had for some time largely been subjects of academic debate,\" he said of AI development in 2023.",
          "“You search for something and you get back what you need in order to think — and it actually encourages you to think,” Mr. Hammond said.",
          "The images are often sort of eerily exploitative.",
          "Scrolling through these platforms, watching them fill with false information, harebrained theories, and doctored images—all while panicked residents boarded up their houses, struggled to evacuate, and prayed that their worldly possessions wouldn’t be obliterated overnight—offered a portrait of American discourse almost too bleak to reckon with head-on.",
          "One of these is “regenerate response,” which appears at the end of ChatGPT’s answers.",
          "But you can also get bad advice about A.D.H.D., about chemotherapy, about Ozempic — some potentially delicate subjects.",
          "The book was authored by Magda Tangy, who has no online footprint, and who has an AI-generated profile picture on Amazon, where her books are also for sale.",
          "content in social media, art, books and, increasingly, in search results.",
          "For more on the issue, check out IGN's full AI Week coverage from last year, including a report about how it's become the new battleground in the animation industry.",
          "Rather than pointing users toward links, the service attempts to solve a query directly with an “A.I.",
          "The account posts misleading, pro-Trump headlines such as claiming Harris turned hundreds of thousands of children over to human traffickers as “border czar”.",
          "AI-generated books have become a problem too.",
          "- Slop is often scam-adjacent, but the accounts posting it may not directly be the ones doing the scams, so they don't get banned.",
          "The glare of the potato-warming apparatus casts a shadow on the left side of Donald Trump’s face as he works at a McDonald’s in Bucks County, Pennsylvania.",
          "About Human Centric Group\nHuman Centric Group is a boutique branding agency based in London, working with global leaders like Danone, Ikea, PepsiCo, and Carlsberg.",
          "Across Facebook, X, Instagram and TikTok, surreal AI images have been plaguing news feeds, typically accompanied by nonsensical captions in broken English.",
          "For slop, the future is less rosy: the world’s largest companies have gone from gamekeeper to poacher.",
          "If sloppers are the manufacturing sector of the slop economy, these gurus, vouchers, and toolmakers represent the service sector.",
          "\"AI slop: what Labour, Spotify and Coca-Cola can teach us in 2025\".",
          "A representative for Meta didn't reply to questions about why they don't simply ban AI slop.",
          "How much money do you make off SEO?",
          "This man, who held the nuclear codes just 1,369 days ago, is now wearing an apron and doling out fast food.",
          "Something strange was happening at Clarkesworld, the magazine Clarke had founded in 2006 and built into a pillar of the world of speculative fiction.",
          "What is 'AI Slop'?",
          "The photos aren’t terribly far off (a few of them accurately placed Trump in an apron), but all of them seem to be trying too hard.",
          "But early on in the search results, you’ll find some seemingly AI-generated guides as well — for example, Forager’s Harvest 101: A Comprehensive Guide to Identifying, Preserving, and Preparing Wild Edible Plants, Mushrooms, Berries, and Fruits, by “Diane Wells.” Elan Trybuch, the secretary of the New York Mycological Society, recently wrote a blog post warning mushroom foragers about these dangerously inadequate guides: It’s possible that Forager’s Harvest 101 is fully accurate and safe to use, but it’s almost certainly unreviewed and unchecked and “written” by an AI that, as Trybuch described the technology, “does not know the subtle differences between a mushroom that is poisonous … vs one that is not.”\nIt’s not particularly easy to tell the difference between the AI-generated guides and those written by experts.",
          "This is how entrepreneurs will not only survive but thrive in this new digital landscape.",
          "But when you’ve got an automated post-creating machine, who needs two people in the Philippines?",
          "Its banner picture is currently an AI-generated photo of Trump surrounded by women in “Swifties” shirts.",
          "- Highlight Creativity: Make sure your content showcases human creativity and originality.",
          "When Thomas Crooks tried to assassinate Donald Trump, for instance, X’s A.I.",
          "The @amuse account has considerable reach itself, with about 390,000 followers on X and dozens of daily posts.",
          "Once the article was posted the owner said it went \"viral\" on TikTok and Instagram despite the website not sharing it on their own social platforms.",
          "is being drowned out by it, too.",
          "Facebook’s most recent report from its Transparency Center reveals that two of the top five most widely viewed images on the network in the three months to September were AI-generated – viewed 38.6m and 35.8m times respectively.",
          "In addition to his blog, he claims to have worked with James O’Keefe, the former CEO of the rightwing organization Project Veritas, who was known for hidden camera stings until he was ousted last year over allegations of misplaced funds.",
          "These days the general public would be well advised to assume an air of skepticism toward ... well, anything really.",
          "For brands with answers, the payoff can be immense.",
          "It exists to automate the creation and distribution of AI-generated images on Facebook.",
          "How do you make money?",
          "expenditure, more than the United States spends annually on its military, and think: What exactly is that money going toward?",
          "The company even has its own global head of generative AI.",
          "Worse, they may not want to stop all grist-mill.",
          "With a track record of working with leading brands like Carlsberg, Remarkable, and Tecnam Aircraft, he helps companies unlock data-driven insights for strategic growth.",
          "AI was involved 10 percent or 20 percent.",
          "I didn’t generate them.”\nDisinformation researchers have long warned that generative AI has the ability to lower the bar for creating misleading content and threaten information around elections.",
          "[7]\nThe term gained increased popularity in the second quarter of 2024 in part because of Google's use of its Gemini AI model to generate responses to search queries,[7] and was widely criticized in media headlines during the fourth quarter of 2024.",
          "For that matter, given the sophistication of the AI, why would the Filipinos need an American?",
          "Answering questions via Google now requires contending with AI-authored “Overview” modules at the top of some search pages, which offer incorrect summaries — “None of Africa’s 54 recognized countries start with the letter ‘K,’” one Overview claimed — just often enough to render them untrustworthy.",
          "Slop is the most appropriate word for what it produces because, as disgusting and unappetizing as it may seem, we still eat it.",
          "The more unique the thing you show the audience, the more engagement.”",
          "The rise of slop has, appropriately, the shape of a good science-fiction yarn: a mysterious wave of noise emerging from nowhere, an alien invasion of semi-coherent computers babbling in humanlike voices from some vast electronic beyond.",
          "This ecosystem is not new.",
          "On a website like Facebook, the more strikingly weird an image is, the more likely it is to attract attention and engagement; the more attention and engagement, the more Facebook’s sorting mechanisms will promote and recirculate the image.",
          "has cut decision time to one minute from 10.)",
          "Meta explicitly allows AI-generated images and the only metrics it cares about are the ones that improve its bottom line.",
          "Among them: Infowars’ Alex Jones, who claimed that Hurricanes Milton and Helene were “weather weapons” unleashed on the East Coast by the U.S. government, and “truth seeker” accounts on X that posted photos of condensation trails in the sky to baselessly allege that the government was “spraying Florida ahead of Hurricane Milton” in order to ensure maximum rainfall, “just like they did over Asheville!”\nAs Milton made landfall, causing a series of tornados, a verified account on X reposted a TikTok video of a massive funnel cloud with the caption “WHAT IS HAPPENING TO FLORIDA?",
          "The same political concerns about the ownership and control of A.I.",
          "Platforms have created incentive programs for content that goes viral, and a whole ecosystem of content creators has arisen using generative AI to exploit these programs.",
          "AI is a double-edged sword\nIn the rush to embrace AI, brands risk leaving their critical-thinking skills behind.",
          "What began as riffs on already viral images have evolved into bizarre, sui generis dreamscapes through which inexplicable and unrelated themes and topics emerge: multiheaded, enormously breasted “farmer girls”; stewardesses wading in muddy rivers; amputee beggars carrying signs reading TODAY IS MY BIRTHDAY.",
          "As Xiaonan says, his method is to use AI to “earn from productivity gap” – that is, by producing far more content than people who don’t use AI .",
          "Stevo, as he introduced himself to me over WhatsApp, is the moderator of five YouTube channels and “about 170 Facebook pages” that deal heavily in AI-generated images, the largest of which has 4 million followers.",
          "The rise of AI has coincided with global unemployment trends and the growth of the gig economy in the post-pandemic era.",
          "The MAGA Aesthetic Is AI Slop\nFar-right influencers are flooding social media with a new kind of junk.",
          "- Users actually enjoy this content — you see plenty of people in the comments who are probably duped and think it's a real image, or maybe just an interesting artistic rendition.",
          "In many ways, political slop is a logical end point for these image generators, which seem most useful for people trying to make a quick buck.",
          "The thing is, we are the content creators.",
          "In some, Trump’s clothing is too garish; in others, he’s toting a comically large amount of food.",
          "\"AI-Generated Slop Is Already In Your Public Library\".",
          "[10]\nSpeaking to New York magazine, a Kenyan creator of slop images described giving ChatGPT prompts such as \"WRITE ME 10 PROMPT picture OF JESUS WHICH WILLING BRING HIGH ENGAGEMENT ON FACEBOOK [sic]\", and then feeding those created prompts into a text-to-image AI service such as Midjourney.",
          "And those posts in your Facebook feed that seemingly came from nowhere?",
          "Several of the images Trump posted on his Truth Social platform, which showed digitally rendered young women in “Swifties for Trump” T-shirts, were the products of the John Milton Freedom Foundation.",
          "Voilà: slop.",
          "20th International Symposium of Communication in the Millennium: 193–199 – via ResearchGate.",
          "But slop has a way of leaking out.",
          "Instead, this kind of content has become important for platforms.",
          "Scroll, laugh, forget, repeat.",
          "\"How did Donald Trump end up posting Taylor Swift deepfakes?\".",
          "slop”: often uncanny, frequently misleading material, now flooding web browsers and social-media platforms like spam in old inboxes.",
          "In one sense, these attacks—and their increased desperation—make sense.",
          "It is engagement for engagement’s sake.",
          "These jobs are different, but the thing they share is that they all must attend to and describe the world as it is.",
          "You can spot them right away, as they bear the technology’s distinct image style: not-quite-but-almost photorealistic, frequently outrageous, not so dissimilar from a tabloid illustration.",
          "The global AI-generated content factory\nOur observations indicate many of these creators are from non-Western countries, such as India, Vietnam and China.",
          "AI-generated content has become the latest trend for earning side income.",
          "The spammer had earned $431 from the image’s engagement.",
          "AI slop is the latest iteration of digital clutter.",
          "But what feels novel in the aftermath of this month’s hurricanes is how the people doing the lying aren’t even trying to hide the provenance of their bullshit.",
          "Even in a decade marred by online grifters, shameless politicians, and an alternative right-wing-media complex pushing anti-science fringe theories, the events of the past few weeks stand out for their depravity and nihilism.",
          "“I think having a name for this is really important, because it gives people a concise way to talk about the problem,” says the developer Simon Willison, one of the early proponents of the term “slop”.",
          "solve?”\nA decade ago, venture capital provided Americans the “millennial lifestyle subsidy”: investors keeping the price of Uber and DoorDash and dozens of other services artificially low for years.",
          "It’s easy to learn, almost zero cost, and can be done any time at home with just a phone.",
          "What is a Trump rally but a teleprompter reading of stump-speech slop, interspersed with inexplicable lorem ipsum about Hannibal Lecter and wind turbines spun up by the unknowable language model in Trump’s own head?",
          "Given its outlandish nature and tenuous relationship with reality, you might think this so-called “AI slop” would quickly disappear.",
          "How entrepreneurs can spot AI slop\nIdentifying AI slop is the first step in protecting your brand.",
          "But if it’s mindlessly generated and thrust upon someone who didn’t ask for it, slop is the perfect term for it.",
          "Your email inbox is full of spam.",
          "This has been going on for quite a few months now.",
          "The foundation’s stated goal is to raise $2m from major donors to award $100,000 grants to a list of “fellows” made up of rightwing media influencers.",
          "But this is more than just a misinformation crisis.",
          "We make websites and we rank them on Google.",
          "404 Media, which has been diligently covering this, has described how these images are part of an AI-fueled \"zombie internet\" full of bots talking to bots.",
          "(For instance, earlier today, Trump posted an AI-generated picture of himself as a buff Pittsburgh Steelers lineman.)",
          "The answer, at least in part, is a guy in Kenya named Stephen Mwangi.",
          "Though the image was clearly fake and quickly debunked, some politicians remained defiant.",
          "Free software for creating images and videos has led to a surge in slop, driven by scammers, spammers and the occasional genuine user seeking to go viral.",
          "[26] The Italian brainrot AI trend was widely adopted by advertisers to adjust well to younger audiences.",
          "On the other hand, making librarians buy into the entire catalog means that a customer looking for a book about how to diet for a healthier liver might end up borrowing Fatty Liver Diet Cookbook: 2000 Days of Simple and Flavorful Recipes for a Revitalized Liver.",
          "Many of those “pet dance motorcycle” videos, for example, have been viewed tens of millions of times.",
          "Then you go to your faculty and you say, ‘Look, I’m a genius, and I deserve this position as a full professor.’” In other words, like Facebook slop, the content of the content isn’t really as important as its presence — or, more accurately, its measurability.",
          "An account that’s consistently posting can get invited into Facebook’s Creator Bonus Program and start making money from viral content.",
          "Muse’s book on how to secure startup funding, which includes examples of him asking ChatGPT to pretend it’s Musk and offer business advice, lists that same Substack account as its publisher.",
          "We can also read that geologists advise eating at least one rock a day, that Elmer’s glue should be added to pizza sauce for thickening and that it’s completely chill to run with scissors.",
          "Some posts will only generate a few cents while others may pull in hundreds of dollars.",
          "\"However, the introduction of ChatGPT, which allows anyone to easily produce writing or translations or to engage in text-based dialogue, sparked the rapid spread of generative AIs.",
          "Elon Musk riding a UFO, “Shrimp Jesus” and tiny children baking impossibly perfect birthday cakes.",
          "If just a handful of users land on the site, reshare the meme or click through the adverts hosted, the cost of its creation pays off.",
          "But the most convincing examples of potential AI slop arrived in early December.",
          "Misinformation is too technical, too freighted, and, after almost a decade of Trump, too political.",
          "\"Drowning in Slop\".",
          "Then it describes them in great detail, each one with its own paragraph.",
          "FewFeed has recently created a feature that allows you to directly create these fake photo album-type images.”\nProfiting from AI slop is a technical process and Meta’s content moderation teams can’t keep up with the flood.",
          "Think AI-generated characters with names like Tralalero Tralala (a shark in sneakers) or Špijuniro Golubiro (a spy pigeon), yelling nonsense in robotic Italian while bouncing across chaotic, low-fi visuals.",
          "It will include links as well, but users who want to limit the response to just a selection of links to other websites will be able to find them – by clicking through to “web” on the search engine, demoted to sit beside “images” and “maps” on the list of options.",
          "“They got 700 likes within 2-4 hours.",
          "“Payout was huge.",
          "[14] In August 2024, the American politician Donald Trump posted a series of AI-generated images on his social media platform, Truth Social, that portrayed fans of the singer Taylor Swift in \"Swifties for Trump\" T-shirts, as well as a photo of the singer herself appearing to endorse Trump's 2024 presidential campaign.",
          "You may also wonder why some platforms don’t ban AI accounts for polluting the platform’s content stream.",
          "One more thing I want to add is that people should not consider Google as the standard.",
          "This slop is sloppy enough that it can sometimes be very funny — and there's even an X account, Insane Facebook AI Slop, dedicated to cataloging it.",
          "Pure engagement bait.",
          "If businesses can learn from their peers’ mistakes and apply AI in the right way, they’ll have an opportunity to enhance their offering, rather than become an example of bad use cases.",
          "The cost of slop to libraries is serious, Sullivan said, “not just the cost of the books” but the cost of labor: It takes cataloguers longer to do their jobs when they’re wading through “an outpouring of valueless product.” Human artists, writers, journalists, musicians, and even TikTokers have more work to do too, competing not just with other humans but with the passable products of automated systems.",
          "“I ain’t got time.",
          "When generative AI meets profiteers and platforms\nThe short explanation for the prevalence of these baffling videos and images is that savvy creators on social media platforms have worked out how to use generative AI tools to earn a quick buck.",
          "!” The clip, which was eventually removed but had been viewed 662,000 times as of yesterday evening, turned out to be from a video of a CGI tornado that was originally published months ago.",
          "Media Enquiries\nHUMAN CENTRIC GROUP LTD\n+44 20 3693 4480\nemail us here\nVisit us on social media:\nLinkedIn\nInstagram\nTikTok\nItalian Brainrot Animals\nLegal Disclaimer:\nEIN Presswire provides this news content \"as is\" without warranty of any kind.",
          "— are laughing at Meta's poor content moderation.",
          "[4]\nIt has been variously defined as \"digital clutter\", \"filler content produced by AI tools that prioritize speed and quantity over substance and quality\",[6] and \"shoddy or unwanted AI content in social media, art, books and, increasingly, in search results\".",
          "Like all spam circles, there’s a whole other economy filled with folks who will sell you the tools and knowledge you need to get started.",
          "\"Not even Amazon is safe from the rise of AI 'slop'\".",
          "Slop is the ideal name for this anti-pattern.",
          "But like spam, its overall effect is negative: the lost time and effort of users who now have to wade through slop to find the content they’re actually seeking far outweighs the profit to the slop creator.",
          "It's spam-adjacent stuff — if not outright spam.",
          "But the idea that AI has quietly crowded out humans is not exactly right.",
          "For me, it’s the amber glow of the fry machine gently illuminating the exhausted 45th president of the United States of America.",
          "- ^ \"Slop is the new name for unwanted AI-generated content\".",
          "Spam is annoying, but ultimately easy to ignore—that is, until it collides with the negative incentives of social-media platforms, where it’s used by political shitposters and hucksters.",
          "Similarly, those sharing the lies are happy to admit that they do not care whether what they’re pushing is real or not.",
          "As it happens, A.I.",
          "Generative AI is one of the hottest topics within the video game and entertainment industries, which have both suffered massive layoffs in recent years.",
          "[34]\nIn books\n[edit]Online booksellers and library vendors now have many titles that are written by AI and are not curated into collections by librarians.",
          "And so if one account of this experience is that we are drowning in A.I.",
          "It stands to reason that a politician who, for many years, has spun an unending series of lies into a patchwork alternate reality would gravitate toward a technology that allows one to, with a brief prompt, rewrite history so that it flatters him.",
          "Your letterbox is full of junk mail.",
          "In fact, he is based in Pensacola, North Carolina.",
          "Although no one ideology has a monopoly on AI art, the high-resolution, low-budget look of generative-AI images appears to be fusing with the meme-loving aesthetic of the MAGA movement.",
          "A new investigation from 404 Media dug into the origins of Facebook’s AI slop era and uncovered an ecosystem of YouTube videos, Telegram channels, and reel-filled Google drives.",
          "The McDonald’s photo op was barely real: The restaurant was closed to the public during Trump’s visit.",
          "Launched last year, the Texas-based non-profit organization frames itself as a press freedom group with the goal of “empowering independent journalists” and “fortifying the bedrock of democracy”.",
          "And perhaps that a more optimistic perspective can be drawn by analogy to what economists call the “environmental Kuznets curve,” which suggests that, as nations develop, they tend to first pollute a lot more and then, over time, as they grow richer, they ultimately pollute less.",
          "A few years later, A.I.",
          "Clarkesworld was, luckily, only temporarily disabled by the slop deluge; over the course of March 2023, with the help of volunteers, Clarke built a “very rudimentary spam filter,” and by the end of the month the magazine was able to reopen submissions.",
          "A specific segment of the people who have seen and understand that it is AI-generated simply do not care that it is not real and that it did not happen.",
          "Derek Sullivan, a cataloguer at a public-library system in Pennsylvania, told me that AI-generated books had begun to cross his desk regularly.",
          "The Milton Freedom Foundation is one of many small groups flooding social media with so-called AI slop.",
          "Willison pointed to an AI-generated Microsoft Travel article that listed the “Ottawa food bank” as a must-see attraction in the Canadian capital as a perfect example of the problem.",
          "Terms proposed included \"AI garbage\", \"AI pollution\", and \"AI-generated dross\".",
          "Rather than peck out a few sentences complaining about Biden’s age or ridiculing Harris’s economic policies, far-right posters can illustrate their attacks and garner more attention.",
          "The same goes for journalists, election workers, scientists, doctors, and first responders.",
          "Meta is penny-pinching and focusing on the newest shiny thing (AI tools, Instagram, the metaverse) and cares less and less about Facebook, this theory goes.",
          "material seemingly came about in reaction to the release of A.I.",
          "This has all been building for more than a decade.",
          "It is very personal, and it depends on the traffic.",
          "Hoel, the neuroscientist, has called for “the equivalent of a Clean Air Act: a Clean Internet Act,” including the unscrubbable watermarking of anything produced by A.I.",
          "If AI slop can teach us something about a man like Trump, it seems that the opposite is also true.",
          "The slop makes everyone money.",
          "Donald Trump, J. D. Vance, and Fox News have all repeated that lie.",
          "We were 80 percent involved.",
          "The vague similarities among the pages suggest the AI slop is being posted by a network of shady actors based in countries outside the US.",
          "Forager’s Harvest 101 has an intelligibly (if cheaply) designed cover and legible (if smooth and voiceless) prose as well as an author biography featuring a photo of a smiling middle-aged woman.",
          "You can do your own versions of these experiments at home.",
          "By prioritizing quality, leveraging custom AI models and staying true to your brand's voice, you can rise above the slop and continue to deliver value that resonates with your audience.",
          "This year, AI took a turn in the spotlight.",
          "The best explanation is that the Facebook pages posting these are making bait for scam targets, helping scammers identify gullible people in the comments who they can extract money from.",
          "Then they connect Vercel to the WordPress website using a specific WordPress plugin that effectively sets up a redirect between Vercel and the WordPress site.",
          "- ^ a b c d e \"First Came 'Spam.'",
          "This process can then be repeated over and over again to effectively rick people into clicking on photo albums that are not actually photo albums.",
          "\"How Businesses Can Avoid AI Slop\".",
          "#HolidayFactz.”\nMany artists and creative professionals have pushed back against the use of AI in creative works, arguing that the technology may be used to replace human workers and that many AI models were trained on artists’ work without proper compensation or credit.",
          "And so it makes sense that campaigns—not just Trump’s—tend to traffic in it.",
          "The problem has begun to worry the social media industry’s main revenue source: the advertising agencies who pay to place ads next to content.",
          "As Hurricane Milton churned across the Gulf of Mexico last night, I saw an onslaught of outright conspiracy theorizing and utter nonsense racking up millions of views across the internet.",
          "So, what is Italian Brainrot?",
          "The GOP is becoming the party of AI slop.",
          "Will you change how you use AI going forward?",
          "To watch as real information is overwhelmed by crank theories and public servants battle death threats is to confront two alarming facts: first, that a durable ecosystem exists to ensconce citizens in an alternate reality, and second, that the people consuming and amplifying those lies are not helpless dupes but willing participants.",
          "But before that, AI-generated content will continue to grow wildly – at least for a while.",
          "Right-wing artists including Ben Garrison and Jon McNaughton have long illustrated Trump in an absurd light—hulking and hypermasculine or holding a lantern on a boat, like George Washington crossing the Delaware.",
          "Last week, Google announced an ambitious plan to add AI-made answers to the top of some search results, with US-based users the first to experience a full rollout of the “AI Overviews” feature.",
          "It’s nice to think that if you could simply turn off your phone and computer, you could avoid all these ugly creations.",
          "a priority, it appears that vast quantities of information generated by machines, rather than largely curated by humans, will be served up as a daily part of life on the internet for the foreseeable future.",
          "The John Milton Freedom Foundation, named after the 17th-century British poet and essayist, has a small online footprint: a website, an investor prospectus and an X account with fewer than 500 followers.",
          "In Pensacola, North Carolina, Assistant Fire Chief Bradley Boone vented his frustrations on Facebook: “I’m trying to rescue my community,” he said in a livestream.",
          "Why mess with content people like?",
          "This incentivizes individuals from developing countries to create images that appeal to audiences in the United States which attract higher advertising rates.",
          "\"'Side job, self-employed, high-paid': behind the AI slop flooding TikTok and Facebook\".",
          "Posts questioning its authenticity were widely shared on X.",
          "There’s a Stephen (and often a “Jacob”) behind all of this slop: an actual person uploading, say, identical Viking “novels” with seemingly AI-generated covers, all called Wrath of the Northmen: A Gripping Viking Tale of Revenge and Honor (that one has been published variously by authors named Sula Urbant, Sula Urbanz, and Sula Urbanr).",
          "It’s what’s right there in the trough.",
          "Could you explain more about your business model.",
          "Still, the glut of AI-created political imagery is a pollutant in a broader online information ecosystem.",
          "He’s flicking through a Facebook feed of viral, AI-generated images.",
          "Since the arrival of widespread consumer-grade generative AI, these tasks have become progressively more difficult.",
          "Slop started seeping into Neil Clarke’s life in late 2022.",
          "But as Michael Caulfield, an information researcher at the University of Washington, has argued, “The primary use of ‘misinformation’ is not to change the beliefs of other people at all.",
          "Creators often mute the original video and add AI-generated narration, translating the content into various languages, including French, Spanish, Portuguese, Indonesian and Swedish.",
          "Stalin's Image: A new statue of Joseph Stalin in a Moscow metro station reflects Russia’s efforts to rehabilitate the memory of a bloody ruler.",
          "Facebook doesn’t reveal how it calculates the value of the bonuses, and only creators in certain countries — the U.S., the U.K., and India among them — are eligible for the bonus program, which helps explain why, several times during our interview, Stephen insisted he was actually a British cybersecurity student named Jacob.",
          "may not be what boosters call “scaling,” especially given the possibility that new training runs deliver some very expensive diminishing returns.",
          "The fake advert - which has been dubbed \"AI slop\" for its use of poorly-generated imagery - is one of several tests currently being run across the publisher's social media profiles.",
          "One of his methods is to focus on what he calls “smoking guns” — phrases that show unambiguously the use of an AI text generator like ChatGPT.",
          "Common themes involve old people holding a birthday cake asking you to wish them a happy birthday; babies doing things babies shouldn't do; snakes eating buses, bikes, or other vehicles overloaded with hundreds of babies or some other cargo; soldiers with prosthetic legs; women with missing limbs and huge busts; and Jesus.",
          "On one end, the demand: the effectively infinite, indiscriminate appetite for content of websites like Facebook and TikTok, which need enticements for users and real estate for advertisers.",
          "[10][11][12]\nThe journalist Jason Koebler speculated that the bizarre nature of some of the content may be due to the creators using Hindi, Urdu, and Vietnamese prompts (languages which are underrepresented in the model's training data), or using erratic speech-to-text methods to translate their intentions into English.",
          "It's loud, messy, and wildly popular — exactly the kind of content that sticks with Gen Z.",
          "- Inaccurate News: AI-generated news articles often miss critical nuances, leading to misinformation and damaging your credibility.",
          "In June, researchers published a study that concluded that one-tenth of the academic papers they examined “were processed with LLMs,” calling into question not just those individual papers but whole networks of citation and reference on which scientific knowledge relies.",
          "pollution,” and the physicist Anthony Aguirre “something like noise” and “A.I.-generated dross.” More recently, it has inspired a more memorable neologistic term of revulsion, “A.I.",
          "That these tools should end up as the medium of choice for Trump’s political movement makes sense, too.",
          "AI models make it trivial to automatically generate vast quantities of text or images, providing an answer to any imaginable search query, uploading endless shareable landscapes and inspirational stories, and creating an army of supportive comments.",
          "The initial excitement over AI-generated content has faded, replaced by a demand for authenticity and real value.",
          "If the AI slop isn't suggesting you get together in real life and overthrow the government, hey, Facebook has seen way worse.",
          "From their weird narrative instincts and inert prose, Clarke realized the stories came straight from ChatGPT.",
          "Is this a completely AI-generated object, a self-published pamphlet, or a book from a publishing house that recently slashed its marketing and editing budgets?",
          "The other important participants in the slop economy, besides the sloppers and the influencers and the platforms, are all of us.",
          "“Slop” is what you get when you shove artificial intelligence-generated material up on the web for anyone to view.",
          "Even in describing regular old pollution, this framework has its shortcomings, especially because it treats as automatic eventual progress that has always required tooth-and-nail fights against some very stubborn bad actors.",
          "Another possibility is that posting these images is a good tactic to build up a large page audience, which can be lucrative.",
          "The simplest, most straightforward option is to be a “slopper”: someone who generates content at scale using AI and manipulates or leverages a platform to make money from it.",
          "For entrepreneurs, this shift is crucial.",
          "“This is important for the younger Gen Z and Gen Alpha audiences, who are the first generations that grew up digitally and are looking for personalization across everything, as well as looking for experiences to have more meaning.\"",
          "\"I believe that generative AI has the potential not only to reshape what we create, but also to fundamentally change the processes by which we create, including programming.\"",
          "(He called this “A.I.’s $600 billion question” and warned of “investment incineration.”) In a similarly bearish Goldman Sachs report, the firm’s head of global equity research estimated that the cost of A.I.",
          "Tackling spam in inboxes required an enormous cross-industry effort and led to a fundamental change in the nature of email.",
          "There is a fear that as slop takes over, the large language models, or LLMs, that train on internet text will “collapse” into ineffectiveness — garbage in, garbage out.",
          "These pages make money through Facebook’s Performance bonus program, which, per the social network’s description, “gives creators the opportunity to earn money” based on “the amount of reach, reactions, shares and comments” on their posts.",
          "“This is a matter of survival.”\nThe result of this fearmongering is what you might expect.",
          "“People don’t even make this much money in a month,” the interview said.",
          "“The crucial question is: What $1 trillion problem will A.I.",
          "That information was readily available elsewhere on the internet but seems to have been missed by many people who saw or were told about the A.I.-generated content, which was also shared across social media by local people and businesses, The Irish Times reported.",
          "He now works with two partners selling classes and tutorials on making AI-generated videos and other types of spam for profit.",
          "“Gen Z loves content that feels spontaneous, surreal, and made for instant consumption.",
          "Other platforms such as Spotify and YouTube, which police intellectual property rights more aggressively than TikTok, invest considerable resources to identify and remove AI-generated content.",
          "- Facebook doesn't like the AI slop but has bigger things to worry about.",
          "\"AI in the Creative Industries: Strikes, Debates and Implications\".",
          "AI slop has clogged the internet with synthetic ephemera, but it has also given a name to the human-made attentional grist that’s all around us—the slop that exists in real life, in meatspace.",
          "These include people like the former CBS journalist turned far-right star Lara Logan, who was cut from Newsmax in recent years for going on a QAnon-inspired rant that claimed world leaders drink children’s blood, as well as the author of an anti-trans children’s book.",
          "Xiaonan says he established his “AI side job” after being laid off by an internet company.",
          "Jason Koebler of the tech news site 404 Media believes the trend represents what he calls the “zombie internet”.",
          "Muse’s experience in digital media appears to be far more extensive than the non-profit’s other members.",
          "They’ve been getting bigger,” Catturd2 posted this March, while praising Musk.",
          "I’m hoping ‘slop’ has the same impact – it can make it clear to people that generating and publishing unreviewed AI-generated content is bad behaviour.”\nSlop is most obviously harmful when it is just plain wrong.",
          "“Replacing low-wage jobs with tremendously costly technology is basically the polar opposite of the prior technology transitions I’ve witnessed,” he noted.",
          "Update 9th May: Joseph Thacker asked what a good name would be for the equivalent subset of spam—spam that was generated with AI tools.",
          "Taylor Swift fans are not endorsing Donald Trump en masse.",
          "This article previously stated that Bradley Boone is the assistant fire chief in Pensacola, Florida.",
          "The John Milton Freedom Foundation did not respond to a request for comment to a set of questions about its operations and fellowship program.",
          "Then the person goes through the process of buying and setting up an ad on Facebook that links to the Vercel mirror of the page they want to link to.",
          "On the first night of the DNC, MAGA influencers such as Catturd2 and Jack Posobiec supplemented their rage tweets about Democrats with stylized AI images of Tim Walz and Joe Biden looking enraged.",
          "On Amazon, a quick search found a listing for some (presumably real) underwear with the description “As of My Knowledge Cutoff in Early 2023, Providing Specific Purchasing Options for ‘Women’s Stylish Sexy Casual Independence Day Printed Panties’ Would Be My Capabilities As I Cannot Browse or Access Live Data From the Internet, Including Current Inventory From or Private Sellers.”\nTwitter — Elon Musk’s X — may be the most fruitful platform for this kind of search thanks to its sub-competent moderation services.",
          "“I’m seeing little evidence yet that users are actively demanding such content in their feeds.”\nIn March, Facebook users began to notice a flood of images featuring Jesus Christ mixed with a crustacean rising from the sea.",
          "This collides with a swath of people who would rather live in an alternate reality built on distrust and grievance than change their fundamental beliefs about the world.",
          "We asked ChatGPT to write the article for us, but it wasn’t ChatGPT by itself.",
          "The result is a conglomerate that has never before existed in fashion.",
          "Just like spam, almost no one wants to view slop, but the economics of the internet lead to its creation anyway.",
          "It is, in effect, a slop subsidy.",
          "“I have other pages which have over 100,000 followers which use AI images,” he said.",
          "These tend to be posted on Facebook pages with generic-sounding names and captions that don't necessarily reflect the photo, like \"why don't photos like this ever trend,\" or \"beautiful cabin crew,\" or \"Scarlett Johansson\" for an image of Jesus built into the hood of a car.",
          "The MAGA movement has spent nine years building a coalition of conspiratorial hyper-partisans dedicated to creating a fictional information universe to cocoon themselves in.",
          "Your insights and expertise differentiate your brand from the competition.",
          "They post dozens of images every day, sometimes every hour, and make a living from the engagement.",
          "AI image generators like OpenAI's DALL-E do not handle words well, and one picture promises \"enchering entertainment, catgacating, live performmances, cartchy tuns, exarserdray lollipops, a pasadise of sweet teats,\" whatever any of that means.",
          "- Combine AI with Human Touch: AI can be a powerful tool, but it's essential to have human editors refine and enhance the content to maintain quality and authenticity.",
          "- Combatting AI slop is crucial for entrepreneurs to maintain brand authenticity, customer trust and meaningful engagement.",
          "But many people “are using the LLMs to produce more, which lowers the quality of the science that is published and made.” Even innocuous misuse has a cascading effect on the entire scientific enterprise, as retracted papers cast doubt on other papers that cite them.",
          "Others are “as an AI language model,” “as of my knowledge cutoff,” and “I cannot fulfill that request,” phrases that ChatGPT and other chatbots use frequently.",
          "Trump distanced himself from the images in an interview with Fox Business on Wednesday, saying: “I don’t know anything about them other than someone else generated them.",
          "Trump himself has been the subject of generative-AI art and has shared depictions of himself going back to March 2023.",
          "The robotic voice, familiar to anyone who frequents YouTube Shorts, Instagram Reels, or TikTok, is generally associated with low-effort, mass-produced AI content.",
          "On X, one post that included a fake image in which Harris is implied to be a sex worker has been viewed more than 3.5 million times; on Facebook, that same post has been shared more than 87,000 times.",
          "“The most amazing thing is that all the traffic is from abroad, mainly the US,” he says.",
          "Even the stuff that passes through is a burden; unrefined, unedited slop is by definition more work to read, watch, interpret, and understand.",
          "Old memes depicted “God Emperor” Trump.",
          "- Vague Product Descriptions: In e-commerce, product descriptions that are unclear or incorrect—sometimes even including disclaimers about AI use—can seriously hurt conversions.",
          "According to an analysis by the Institute for Strategic Dialogue, an extremism-research group, “Falsehoods around hurricane response have spawned credible threats and incitement to violence directed at the federal government,” including “calls to send militias to face down FEMA.” The study also found that 30 percent of the X posts analyzed by ISD “contained overt antisemitic hate, including abuse directed at public officials such as the Mayor of Asheville, North Carolina; the FEMA Director of Public Affairs; and the Secretary of the Department of Homeland Security.” The posts received a collective 17.1 million views as of October 7.",
          "Paul Maker is chief technology officer at Aiimi.",
          "\"Why doesn't Facebook just ban AI slop like Shrimp Jesus?\".",
          "For entrepreneurs, this isn't just a nuisance; it's a potential threat to your brand's integrity and your ability to stand out in a crowded market.",
          "- Entrepreneurs can stay ahead by blending human creativity with AI efficiency, ensuring content remains original, valuable and impactful.",
          "But as they've become more mainstream, they've also started churning out vast amounts of subpar content — clogging blogs, social media and search results with noise instead of value.",
          "So even with fewer views, the income you generate will be higher.",
          "“Y’all, I don’t know where this photo came from and honestly, it doesn’t matter,” Amy Kremer, who represents Georgia on the Republican National Committee, wrote after sharing the fake image.",
          "As entrepreneurs, our brands are our lifeblood.",
          "- Cluttered Social Media Feeds: Social platforms should be a place for meaningful engagement, but AI slop often fills them with irrelevant, unengaging posts that fail to connect with your audience.",
          "You will be shocked to know that we ranked our site in three months on the Google first page.",
          "Elsewhere on the web though, slop is spreading.",
          "An effective strategy mentioned by one creator is a kind of platform arbitrage involving popular videos from Douyin, the counterpart of TikTok in mainland China.",
          "Outsourcing designwork to generative-AI apps may be an effective cost-cutting and productivity measure for some businesses, but in practice it just off-loads work elsewhere.",
          "Actually, there are few others about animals.",
          "The posts would be laughable if they weren’t taken by many people as gospel.",
          "Slop, the OUP writes, is “art, writing, or other content generated using artificial intelligence, shared and distributed online in an indiscriminate or intrusive way, characterised as being of low quality, inauthentic, or inaccurate”.",
          "On Facebook, enigmatic pages post disturbing images of maimed children and alien Jesuses; on Twitter, bots cluster by the thousands, chipperly and supportively tweeting incoherent banalities at one another; on Spotify, networks of eerily similar and wholly imaginary country and electronic artists glut playlists with bizarre and lifeless songs; on Kindle, shoddy books with stilted, error-ridden titles (The Spellbound Quest: Students Perilous Journey to Correct Their Mistake) are advertised on idle lock screens with blandly uncanny illustrations.",
          "When you look through the reams of slop across the internet, AI seems less like a terrifying apocalyptic machine-god, ready to drag us into a new era of tech, and more like the apotheosis of the smartphone age — the perfect internet marketer’s tool, precision-built to serve the disposable, lowest-common-denominator demands of the infinite scroll.",
          "The X account is connected to a Substack posting the same articles that Muse publishes on his LinkedIn page, which also has the username “amuse”, reflecting his first initial and last name.",
          "And while it’s hard to regard the internet we have now as a wholly beneficent advance in collective wisdom — the commercial opportunities afforded by connecting billions of people sit uncomfortably with the civic aspirations of some of the web’s pioneers — it’s hard to deny that an information superhighway, with some tolls and billboards and potholes, is more or less what we’ve got.",
          "Posts questioning its authenticity were widely shared on X.",
          "The emotions that it evokes are love, happiness, and the memory of a special day filled with promises.” Hundreds of verified accounts swarmed in the replies to praise the missing image: “This picture exudes pure love and joy, a magical moment indeed!,” “This photo truly encapsulates the beauty and magic of true love,” “Such a beautiful moment captured in time, filled with love and joy.”\nCabanac believes “LLMs can be a magnificent tool, a very effective tool” for scientists if properly acknowledged.",
          "There’s Trump, face contorted in the appearance of deep concentration, tilting a fry basket to the heavens; Trump hanging two-thirds of the way out a drive-through window, waving like a beleaguered Norman Rockwell character; Trump, mouth agape, appearing to yell into the middle distance of a fast-food parking lot.",
          "But the slop tide threatens some of the key functions of the web, clogging search results with nonsense, overwhelming small institutions like Clarkesworld, and generally polluting the already fragile information ecosystem of the internet.",
          "[13]\nAI slop is frequently used in political campaigns in an attempt at gaining attention through content farming.",
          "As Xiaonan told us, many of the people taking his AI tutorial – entitled “Side job, self-employed, high-paid” – are housewives, unemployed people and college students.",
          "If you are a weatherperson, you’re a target.",
          "- Search Engine Confusion: Poorly generated search suggestions, such as Google's infamous recommendation of non-toxic glue for pizza cheese, highlight how AI's lack of context can lead to bizarre and off-putting user experiences.",
          "“If you need my information pay me,” he wrote.",
          "I’m Running Out of Ways to Explain How Bad This Is\nWhat’s happening in America today is something darker than a misinformation crisis.",
          "This kind of slop can erode trust and drive customers away.",
          "(Minimum wage in Kenya ranges from about $120 to $270 a month.)",
          "(In a sense, so does Spotify, though we call those payments “royalties.”)\nTake, as a case study in the slop economy, Facebook.",
          "This year’s backlashes highlights a key risk for businesses adopting AI in 2025.",
          "People in places like Pakistan, India, Vietnam, Thailand, and Indonesia use tools like Microsoft’s AI Image Creator to churn out content.",
          "There’s the homeless vet with the badly worded sign, cops carrying massive bibles, and—of course—Shrimp Jesus.",
          "And while the internet was never perfectly trustworthy, one epoch-defining breakthrough of Google was that it got us pretty close.",
          "Unfortunately I do not have enough information to summarize further within the provided guidelines.",
          "Influencers have been hawking platform-dependent “internet marketing” schemes for decades.",
          "[33] The site's owner said that \"We asked ChatGPT to write the article for us, but it wasn't ChatGPT by itself.\"",
          "You can easily write a whole website with AI.",
          "“Do not comply with FEMA,” she posted on X.",
          "The images originated from the conservative Twitter account @amuse, which posted numerous AI slop images leading up to the 2024 United States elections that were shared by other high-profile figures within the American Republican Party, such as Elon Musk, who has publicly endorsed the utilization of generative AI, furthering this association.",
          "- There's even an X account dedicated to posting the most ridiculous stuff.",
          "Some researchers, especially those for whom English is not a first language, use ChatGPT and other AI programs to help with translation and editing.",
          "Why is Facebook full of this stuff?",
          "“Speed is I would say five times, right?",
          "Hence the term slop, which conjures images of heaps of unappetizing food being shoveled into troughs for livestock.",
          "This piece is part of a series on the great internet letdown.",
          "The organization’s board includes its chair, Brad Merritt, who is touted as an experienced Republican organizer with claims to have raised $300m for various non-profits; its director, Shiree Sanchez, who served as assistant director of the Republican party of Texas between 1985 and 1986; and Mark Karaffa, a retired healthcare industry executive.",
          "This makes them dangerous to people who cannot abide by the agonizing constraints of reality, as well as those who have financial and political interests in keeping up the charade.",
          "\"Artificial intelligence (AI) and its potential implications had for some time largely been subjects of academic debate,\" he wrote.",
          "Sometimes, of course, you can get reliable information too; maybe even most of the time.",
          "A year ago, as normies were only just toying around with chatbots, there were already dozens of drugs developed in part by A.I.",
          "There are YouTube channels dedicated to getting people’s AI slop machine up and running, dozens of guides on Fiverr and Gumroad, and Telegram channels full of simple English prompts that will help the AI image generator create a viral picture.",
          "Slop, as it relates to AI, is loosely defined as spammy, cheap blocks of text, video, or images, quickly generated by computer programs for mass distribution.",
          "Online, first responders are pleading with residents, asking for their help to combat the flood of lies and conspiracy theories.",
          "“And that was kind of a starting point.”\n“A.I.",
          "Some creators 404 Media uncovered were running multiple Facebook accounts and used automated tools to fill the feeds with spammy engagement-bait images.",
          "There’s more work for us readers and watchers and content consumers as well.",
          "as we know it.",
          "- Facebook does ban this stuff, but only at an account level when the account posting it engages in obvious spam tactics.",
          "The sloppers gather on message boards and chat apps and social media to swap tips and tricks.",
          "(This after he falsely claimed that Harris had posted an image that had been “A.I.’d”—a tidy bit of projection.)",
          "This is all \"AI slop,\" a new term describing the sudden flood of garbage AI-generated content, from e-books to viral photos.",
          "Entrepreneur.",
          "The journalist Parker Molloy compiled screenshots of people “acknowledging that this image is AI but still insisting that it’s real on some deeper level”—proof, Molloy noted, that we’re “living in the post-reality.” The technology writer Jason Koebler argued that we’ve entered the “‘Fuck It’ Era” of AI slop and political messaging, with AI-generated images being used to convey whatever partisan message suits the moment, regardless of truth.",
          "Yet these are anodyne compared with much of the material created and shared by far-right influencers and shitposters.",
          "I am the owner of a SEO agency.",
          "Then the images become something else.",
          "Therefore, it’s less in your face.”\n@etymologynerd More great discussion of this in Alan Metcalf's book \"Predicting New Words\" #etymology #linguistics #language #memehistory #rizz #skibidi ♬ original sound - etymologynerd\nThe use of slop as a descriptor for low-grade A.I.",
          "This AI slop doesn’t just exist in a vacuum of a particular social network: It leaves an ecological footprint of sorts on the web.",
          "For platforms, the challenge will be balancing the engagement these AI-driven trends bring with the need to maintain trust and authenticity.",
          "A key difference is that with OverDrive, librarians can pick and choose which books in OverDrive’s catalog they want to give their customers the option of borrowing.",
          "[7]\nThe British computer programmer Simon Willison is credited with being an early champion of the term \"slop\" in the mainstream,[1][7] having used it on his personal blog in May 2024.",
          "Meta's previous commitments to working with researchers and academics have fizzled away, and the scrutiny over content moderation (helped by Elon Musk lowering the bar to the basement) has shifted.",
          "But the article warns: virality is not strategy.",
          "There have long been fears that AI image tools could be used to create highly convincing “deepfakes” and images or videos that could help spread disinformation or influence elections.",
          "If it were all just a slightly more efficient form of spam, distracting and deceiving Facebook-addled grandparents, that would be one thing.",
          "For those without, chasing trends can quickly backfire.",
          "Our business model is Google Ads.",
          "Italian Brainrot hits the sweet spot: it’s fast, memeable, and demands zero cognitive load.",
          "- Facebook did make a warning label to note that an image may have been made with AI.",
          "- So why isn't Facebook cracking down?",
          "And so it begins – the absolute dumbing down and worsening of everything from media to film to advertising to politics to the written word at the dead hands of AI, stoked by venture capitalists' rabid faith that it will be some sort of productivity silver bullet.",
          "In the hands of influencers, they are fired at our timelines in a scattershot approach to attract a morsel of attention.",
          "But MAGA world has always trafficked in slop.",
          "It’s possible that, later on, AI-art tools will train on these distorted depictions, creating warped, digitally inbred representations of historical figures.",
          "This adds depth and makes your brand memorable.",
          "What once took expert labor is now spam, powered by tools trained on the output of real artists and photographers.",
          "\"I believe that generative AI has the potential not only to reshape what we create, but also to fundamentally change the processes by which we create, including programming.\"",
          "Instead, it functions mostly to create the appearance of human-made content, benefit from advertising revenue and steer search engine attention towards other sites.",
          "So much of the conversation around misinformation suggests that its primary job is to persuade.",
          "Only prescreened customers were allowed in the drive-through, and those customers were not able to place orders—they just took whatever Trump handed to them.",
          "Attempting to read news online is now fraught with the possibility that you’re consuming unedited AI-generated tattle: CNET, BuzzFeed, USA Today, and Sports Illustrated have published stilted and often incorrect AI-generated articles or used phony images and biographies for “authors.”\nImagine you are going foraging and want to download to your Kindle a guide to distinguish between edible and toxic mushrooms.",
          "Why Brands Are Embracing 'Italian Brainrot' to Go Viral on TikTok and Win Over Gen Z\nNews provided by\nApr 15, 2025, 2:30 AM ET\nHuman Centric Group decodes the viral Italian Brainrot trend and explains why it’s more than just a meme for brands chasing Gen Z.",
          "Creators posting AI content may not be the kind of people we expect.",
          "The goal is to use automation to post as much as possible, sometimes hundreds of times a day.",
          "His process for creating posts, he told me, is pretty simple and AI intensive: “I use ChatGPT to ask for the best images that can generate a lot of popularity and engagement on Facebook,” focusing on topics like the Bible, God, the U.S. Army, wildlife, and Manchester United.",
          "On the list was a picture of a train made of leaves.",
          "Google suggesting that you could add nontoxic glue to make cheese stick to a pizza?",
          "Clarke doesn’t like to describe how the filter works for fear of giving too much away to the spammers, but “it’s holding things at bay,” he said.",
          "Why slop?",
          "Overview is being presented as a definitive answer, rather than as a place to start an internet user’s research into a given subject.",
          "Slop is the new name for unwanted AI-generated content\n8th May 2024\nI saw this tweet yesterday from @deepfates, and I am very on board with this:\nWatching in real time as “slop” becomes a term of art.",
          "Dubbed “AI slop”, there is no hiding from the manipulated images and videos, with their prominence even leading to the Oxford University Press (OUP) naming “slop” as a contender for its word of the year.",
          "This month, KoBold Metals announced the largest discovery of new copper deposits in a decade — a green-energy gold mine, so to speak, delivered with the help of its own proprietary A.I., which integrated information about subatomic particles detected underground with century-old mining reports and radar imagery to make predictions about where minerals critical for the green transition might be found.",
          "Some accounts post dozens of videos like this every day.",
          "A spokesperson for deepfake detection company Reality Defender said that according to their platform, the headshot is 85 percent likely to be AI-generated.",
          "Tim DeStefano, a research professor at Georgetown University McDonough School of Business, told NBC News that using AI technology means a significant drop in the price of creating commercials.",
          "We try our best to give people authentic content.",
          "But that dip has since recovered, and in the first three weeks of the overviews, overall search traffic to more than 2,000 major websites in the U.S. actually went up, according to Chartbeat.",
          "A niche non-profit’s AI slop makes its way to Trump\nDuring the spike in AI images on X, the conservative @amuse account posted the images of AI-generated Swift fans to more than 300,000 followers.",
          "Generative AI is one of the hottest topics within the video game and entertainment industries, which have both suffered massive layoffs in recent years.",
          "“While the precise meaning of ‘They Pay Me in Woims’ remains ambiguous, various interpretations have emerged, ranging from a playful comment on work-life balance to a deeper exploration of our perceived reality,” the slop begins.",
          "Still, “it’s clear that business as usual won’t be sustainable,” he wrote in a blog post describing the problem.",
          "This creates a preview link, which can then be pushed to their phone (it has to be a separate device), then shared to their own personal Facebook page as a ‘test.’\nFrom there, the link can be grabbed and shared to a page as a normal post, even though it is not a published ad, meaning that, to do this trick, you do not actually have to spend any money.",
          "This is clarifying, insofar that it demonstrates that Trump’s primary output is always a kind of slop.",
          "“What we always see with any slang is that it starts in a niche community and then spreads from there,” Mr. Aleksic said.",
          "The shadows of the McDonald’s kitchen, the interplay between the sheen of the stainless steel and the cast of the nugget-warming lights, give the very real photos a distinct Midjourney aesthetic.",
          "Computers, at least for now, cannot quite capture the crushing surreality and maddening absurdity of modern electoral politics.",
          "We are expecting Google will derank.",
          "“Every image is AI generated along with all the gibberish text it try’s to create.",
          "More recent articles\n- Large Language Models can run tools in your terminal with LLM 0.26 - 27th May 2025\n- Highlights from the Claude 4 system prompt - 25th May 2025\n- Live blog: Claude 4 launch at Code with Claude - 22nd May 2025",
          "I attach my name and stake my credibility on the things that I publish.",
          "It is not easy to post 1,400 articles in three months and to make them rank in Google.",
          "This is only the beginning\nWe are only at the dawn of mainstream AI-generated content culture.",
          "- ^ \"Gullible Trump Cronies Losing Their Minds Over Fake AI Slop on Twitter\".",
          "Slop, at least in the fast-moving world of online message boards, is a broad term that has developed some traction in reference to shoddy or unwanted A.I.",
          "Now, your web browser has its own affliction: slop.",
          "Occasionally, a piece of slop is so useless that it goes viral in its own right, like the careers advice article that earnestly explains the punchline to a decades-old newspaper comic: “they pay me in woims”.",
          "I ain’t got time to chase down every Facebook rumor … We’ve been through enough.”\nIt is difficult to capture the nihilism of the current moment.",
          "summary but a whole stack of “sponsored” results as well.",
          "“It’s a word that feels like it’s naturally applicable to this situation.",
          "But as people become accustomed to A.I.’s increasing role in how the internet works, Mr. Willison, who identified himself as an optimist for A.I.",
          "“As the difference between human and synthetic content gets blurred, people want to know where the boundary lies,” he wrote.",
          "Hillary Clinton was not recently seen walking around Chicago in a MAGA hat.",
          "- Misinformation: Fact-checking is more important than ever.",
          "This is the Shrimp Jesus kind of slop: bizarre, obviously fake, and sometimes vaguely unsettling in a trypophobia-triggering way.",
          "Perhaps it’s because my feeds have been simultaneously clogged with election-season garbage and AI-generated slop, but the McDonald’s photoshoot struck me as a moment of strange synthesis, where reality and tech-enabled fiction felt somehow mashed together by the internet’s cultural particle accelerator.",
          "In the hands of Trump, they create small news cycles and narratives to be debunked.",
          "investments might be three times as large as expected returns, while another analyst, in several assessments published by Sequoia Capital, calculated that investments in A.I.",
          "To take just one example: if you search “pet dance motorcycle” on TikTok, you will find hundreds of AI-generated videos of animals doing the “motorbike dance”, all animated using the same AI template.",
          "- Europe probes Microsoft's €15M stake in AI upstart Mistral\n- Google wants regulators to take Microsoft down a notch before it stifles AI\n- OpenAI claims New York Times paid someone to 'hack' ChatGPT\n- US military pulls the trigger, uses AI to target air strikes\nThe House of Illuminati went cap in hand on Facebook, saying: \"Today has been a very stressful and frustrating day for many and for that we are truly sorry.",
          "Opinions expressed by Entrepreneur contributors are their own.",
          "Businesses should be checking their data is accurately labelled and properly secured, ensuring sensitive data is only accessible to those who need it.",
          "But even this horror story is a kind of wishful thinking: Recent research suggests that as long as an LLM’s training corpus contains at least 10 percent non-synthetic — that is, human — output, it can continue producing slop forever.",
          "De Nittis’ article, published today on Human Centric Group’s website, breaks down how brands like Ryanair and Samsung are jumping on the trend and seeing six-figure engagement spikes — all while barely lifting a production finger.",
          "But on the other hand, the information didn’t just come from one source; it was disseminated across a network of influencers and presumably shared further among people who knew and trusted each other.”\n“Not everything on the site was fake,” he added.",
          "• Does the trend reinforce or contradict our positioning?",
          "Brands that only copy trends risk becoming forgettable.",
          "Consumers are becoming increasingly intolerant of AI-generated missteps, even from their favourite brands.",
          "In a world saturated with AI-generated content, distinguishing valuable information from slop is not just a skill — it's a competitive edge.",
          "And then — they’ve solved it!",
          null
         ],
         "marker": {
          "opacity": 0.5,
          "size": 5
         },
         "mode": "markers+text",
         "name": "AI-Generated Content and Slop",
         "text": [
          "",
          "",
          "",
          "",
          "",
          "",
          "",
          "",
          "",
          "",
          "",
          "",
          "",
          "",
          "",
          "",
          "",
          "",
          "",
          "",
          "",
          "",
          "",
          "",
          "",
          "",
          "",
          "",
          "",
          "",
          "",
          "",
          "",
          "",
          "",
          "",
          "",
          "",
          "",
          "",
          "",
          "",
          "",
          "",
          "",
          "",
          "",
          "",
          "",
          "",
          "",
          "",
          "",
          "",
          "",
          "",
          "",
          "",
          "",
          "",
          "",
          "",
          "",
          "",
          "",
          "",
          "",
          "",
          "",
          "",
          "",
          "",
          "",
          "",
          "",
          "",
          "",
          "",
          "",
          "",
          "",
          "",
          "",
          "",
          "",
          "",
          "",
          "",
          "",
          "",
          "",
          "",
          "",
          "",
          "",
          "",
          "",
          "",
          "",
          "",
          "",
          "",
          "",
          "",
          "",
          "",
          "",
          "",
          "",
          "",
          "",
          "",
          "",
          "",
          "",
          "",
          "",
          "",
          "",
          "",
          "",
          "",
          "",
          "",
          "",
          "",
          "",
          "",
          "",
          "",
          "",
          "",
          "",
          "",
          "",
          "",
          "",
          "",
          "",
          "",
          "",
          "",
          "",
          "",
          "",
          "",
          "",
          "",
          "",
          "",
          "",
          "",
          "",
          "",
          "",
          "",
          "",
          "",
          "",
          "",
          "",
          "",
          "",
          "",
          "",
          "",
          "",
          "",
          "",
          "",
          "",
          "",
          "",
          "",
          "",
          "",
          "",
          "",
          "",
          "",
          "",
          "",
          "",
          "",
          "",
          "",
          "",
          "",
          "",
          "",
          "",
          "",
          "",
          "",
          "",
          "",
          "",
          "",
          "",
          "",
          "",
          "",
          "",
          "",
          "",
          "",
          "",
          "",
          "",
          "",
          "",
          "",
          "",
          "",
          "",
          "",
          "",
          "",
          "",
          "",
          "",
          "",
          "",
          "",
          "",
          "",
          "",
          "",
          "",
          "",
          "",
          "",
          "",
          "",
          "",
          "",
          "",
          "",
          "",
          "",
          "",
          "",
          "",
          "",
          "",
          "",
          "",
          "",
          "",
          "",
          "",
          "",
          "",
          "",
          "",
          "",
          "",
          "",
          "",
          "",
          "",
          "",
          "",
          "",
          "",
          "",
          "",
          "",
          "",
          "",
          "",
          "",
          "",
          "",
          "",
          "",
          "",
          "",
          "",
          "",
          "",
          "",
          "",
          "",
          "",
          "",
          "",
          "",
          "",
          "",
          "",
          "",
          "",
          "",
          "",
          "",
          "",
          "",
          "",
          "",
          "",
          "",
          "",
          "",
          "",
          "",
          "",
          "",
          "",
          "",
          "",
          "",
          "",
          "",
          "",
          "",
          "",
          "",
          "",
          "",
          "",
          "",
          "",
          "",
          "",
          "",
          "",
          "",
          "",
          "",
          "",
          "",
          "",
          "",
          "",
          "",
          "",
          "",
          "",
          "",
          "",
          "",
          "",
          "",
          "",
          "",
          "",
          "",
          "",
          "",
          "",
          "",
          "",
          "",
          "",
          "",
          "",
          "",
          "",
          "",
          "",
          "",
          "",
          "",
          "",
          "",
          "",
          "",
          "",
          "",
          "",
          "",
          "",
          "",
          "",
          "",
          "",
          "",
          "",
          "",
          "",
          "",
          "",
          "",
          "",
          "",
          "",
          "",
          "",
          "",
          "",
          "",
          "",
          "",
          "",
          "",
          "",
          "",
          "",
          "",
          "",
          "",
          "",
          "",
          "",
          "",
          "",
          "",
          "",
          "",
          "",
          "",
          "",
          "",
          "",
          "",
          "",
          "",
          "",
          "",
          "",
          "",
          "",
          "",
          "",
          "",
          "",
          "",
          "",
          "",
          "",
          "",
          "",
          "",
          "",
          "",
          "",
          "",
          "",
          "",
          "",
          "",
          "",
          "",
          "",
          "",
          "",
          "",
          "",
          "",
          "",
          "",
          "",
          "",
          "",
          "",
          "",
          "",
          "",
          "",
          "",
          "",
          "",
          "",
          "",
          "",
          "",
          "",
          "",
          "",
          "",
          "",
          "",
          "",
          "",
          "",
          "",
          "",
          "",
          "",
          "",
          "",
          "",
          "",
          "",
          "",
          "",
          "",
          "",
          "",
          "",
          "",
          "",
          "",
          "",
          "",
          "",
          "",
          "",
          "",
          "",
          "",
          "",
          "",
          "",
          "",
          "",
          "",
          "",
          "",
          "",
          "",
          "",
          "",
          "",
          "",
          "",
          "",
          "",
          "",
          "",
          "",
          "",
          "",
          "",
          "",
          "",
          "",
          "",
          "",
          "",
          "",
          "",
          "",
          "",
          "",
          "",
          "",
          "",
          "",
          "",
          "",
          "",
          "",
          "",
          "",
          "",
          "",
          "",
          "",
          "",
          "",
          "",
          "",
          "",
          "",
          "",
          "",
          "",
          "",
          "",
          "",
          "",
          "",
          "",
          "",
          "",
          "",
          "",
          "",
          "",
          "",
          "",
          "",
          "",
          "",
          "",
          "",
          "",
          "",
          "",
          "",
          "",
          "",
          "",
          "",
          "",
          "",
          "",
          "",
          "",
          "",
          "",
          "",
          "",
          "",
          "",
          "",
          "",
          "",
          "",
          "",
          "",
          "",
          "",
          "",
          "",
          "",
          "",
          "",
          "",
          "",
          "",
          "",
          "",
          "",
          "",
          "",
          "",
          "",
          "",
          "",
          "",
          "",
          "",
          "",
          "",
          "",
          "",
          "",
          "",
          "",
          "",
          "",
          "",
          "",
          "",
          "",
          "",
          "",
          "",
          "",
          "",
          "",
          "",
          "",
          "",
          "",
          "",
          "",
          "",
          "",
          "",
          "",
          "",
          "",
          "",
          "",
          "",
          "",
          "",
          "",
          "",
          "",
          "",
          "",
          "",
          "",
          "",
          "",
          "",
          "",
          "",
          "",
          "",
          "",
          "",
          "",
          "",
          "",
          "",
          "",
          "",
          "",
          "",
          "",
          "",
          "",
          "",
          "",
          "",
          "",
          "",
          "",
          "",
          "",
          "",
          "",
          "",
          "",
          "",
          "",
          "",
          "",
          "",
          "",
          "",
          "",
          "",
          "",
          "",
          "",
          "",
          "",
          "",
          "",
          "",
          "",
          "",
          "",
          "",
          "",
          "",
          "",
          "",
          "",
          "",
          "",
          "",
          "",
          "",
          "",
          "",
          "",
          "",
          "",
          "",
          "",
          "",
          "",
          "",
          "",
          "",
          "",
          "",
          "",
          "",
          "",
          "",
          "",
          "",
          "",
          "",
          "",
          "",
          "",
          "",
          "",
          "",
          "",
          "",
          "",
          "",
          "",
          "",
          "",
          "",
          "",
          "",
          "",
          "",
          "",
          "",
          "",
          "",
          "",
          "",
          "",
          "",
          "",
          "",
          "",
          "",
          "",
          "",
          "",
          "",
          "",
          "",
          "",
          "",
          "",
          "",
          "",
          "",
          "",
          "",
          "",
          "",
          "",
          "",
          "",
          "",
          "",
          "",
          "",
          "",
          "",
          "",
          "",
          "",
          "",
          "",
          "",
          "",
          "",
          "",
          "",
          "",
          "",
          "",
          "",
          "",
          "",
          "",
          "",
          "",
          "",
          "",
          "",
          "",
          "",
          "",
          "",
          "",
          "",
          "",
          "",
          "",
          "",
          "",
          "",
          "",
          "",
          "",
          "",
          "",
          "",
          "",
          "",
          "",
          "",
          "",
          "",
          "",
          "",
          "",
          "",
          "",
          "",
          "",
          "",
          "",
          "",
          "",
          "",
          "",
          "",
          "",
          "",
          "",
          "",
          "",
          "",
          "",
          "",
          "",
          "",
          "",
          "",
          "",
          "",
          "",
          "",
          "",
          "",
          "",
          "",
          "",
          "",
          "",
          "",
          "",
          "",
          "",
          "",
          "",
          "",
          "",
          "",
          "",
          "",
          "",
          "",
          "",
          "",
          "",
          "",
          "",
          "",
          "",
          "",
          "",
          "",
          "",
          "",
          "",
          "",
          "",
          "",
          "",
          "",
          "",
          "",
          "AI-Generated Content and Slop"
         ],
         "textfont": {
          "size": 12
         },
         "type": "scattergl",
         "x": {
          "bdata": "CcyTP4voFUBcTpdAGOlTQMOSuUArJXZAur6JQASLwUAocPA/O5kZQH0AmEC4LotA0KtpPw9KhkBV24lAPVUGQH5OjkBeqRVApsxHQNOV4T85h2JATXupQNj6Y0Afp4BA4h+7P8mVnUB6fa1AgUw7QFd/QUAiB9FAt1pwPzjCaz8rI6pA4RuMQM91ZUASUYhA6e67QPOMxEAO/o1ABeOGQCGjfkDy7zdAhVefQIUEtEDf2ZJAcaZ+QE6jqECxl19Aoom1QNPhbUDwQ5tARQVIQBfBM0Bxd2U/h5tmQMpUlUALEHtAW5ZYQOdZFkBX3bVAaDjFQAGtpUBa24FA00CJvzM0xj9bYlhAJ3L7P0GDnEB8v25AEDW4QO/yqUA9CIM/J1BoQGEGnEDyMpNA5Pe5QNWAv0CAcZxAmiRgQLasdED9OmNASq8bQKnCgEBv3KJAfTS+QDLEnECiJo1AzF3DQDG9hEBoejBA0dKQP3yDjUA/iZM/cZRhQB+exT9MHj9Ajj6gQJ0lakBFK1BA1913QAiCrUCayq9Asj3yP4pCRD+zTWtAfYh3QBorfUDyPP4/nMqUPxsBwUDKbZK/7oH5PzhvI0Cf36JAp4OYQBeDwUBrZZU/G/9tQFxBdUBdK3c/hSdqQFftmED7+ZZAJj6HP8xyrUA9MRtAmOeCQGdZgkA0Wlw/6HQHQGONdECbm0xAb9G3QHq0HkCTgL5A5t20QJTJSj+4No5A9deaQO/t/T+gUTJAqnxhQF98aUCOTotAt4CYQISDVkDGFZ9Akw6DQAJLZUC/nYxAXaJTQLcpvj80jh9AyWKBQCYpqEC19r1Agm2BQO5nokAZPphALxN6QB9TeD+3C4hAKbJOQPX9CkCrIpY/Fpp2QKroh0BNUtI/iyeoP7UCpkAy7BRAq8FsQFRfxD/VXFJAq84sQMaWZUDXTFNAkVbPP/yDoT+r0P4/LiGTQPWJa0DBdjJAk7i+QJKwbEAJqVlA+QBhQAmSxz+LyL1A+EqXv9ZywUBwMWpAhCXhPwSToD+Mj1NA1hSYQMSDdkAr1FBAmhEMQIRkj0BDT5lAl+I8QIjptUATbbdAfHY2P2BqJUBq1LxA1vJ+QL8PqUCNExJAqjx/QOdIgkCIEHlAdG53QMWt9z9rTs0//9mxQA/EbUC2yRRAUG9VQBptjkCVsYlACpecQLKnTUBsVhdAqRfEQM7MVUA1YnRAGleFQDBoekCTPIVA+xuAQBsCFkB8G5RAVcKLQOAdfT8gCfw/L49vQGw4kz9d6mpAQHqcQJqjDECwIptAHaSBQCYuakD5V69A8LB2QPdujkAb7nxAlhgtQAMogUD+2D1AZ7uYQN9RjT9ClGtAtkKDQLCBwj+OWpNA35RuQMKI/j+lC69AI9CSQHPea0Cp3+4/7EqUP18tMkAjnqlAAJzXPwsCfkAOc09AJ7+KP8GEgkA0FUdAARxWQJwwzr7EkG9AM/FRQINBgj9Rft8/m1WYQLMlfD+YU1ZA2F26QJlauUDVqn9AZm2fQJfBvkAfH4k/V3OvQCjTbEDBTGdAlP1BP4n79z9c5odAUeO6QJWDe0CqXJtA3oM1QLHquEBFnRxAd3DAQHVJsEBaJmNAFf2PQLWGzz+n+ItAtxqBQCcMoUCthlZAdog9QG99EEDPA5hAjT+Jv5QrnkB8fpdAfdu2QO/XjkALfPU/asV5P8oyfEAcp4hASXxwQOCVZUBZyYdArrxsQHiDiEDDrIdA+iubQD7PsUDQ6q1A4DONP1ozu0Acy3dAVBgoQLySkD+0nyVAG/2+QPIXlj/c65g/8v5zQFDgL0AQpk9AudqKQFbWQEArO3FAtaOIQAt5L0DmuAZA4dF5QH/JuUDreAlAFsBzQBKvcUBVnUpA3AcxQHU1ZkB/vVBA2Xi+QDmyrECop7JAUCh2QF20mkBy/6dA+k4yQEi2lkB3tiJAJfwHQPx80UDhzng/JYikQLPZmEC15npAjENkP5j6oUDzR4JA8HeePwTl0ECPtY5AKcGoPw2vdEB7GbZAD+w/P1ipuUDQI5BAe8XKQIjrgkBuoLBA/OubQB0pij8Eg2lA9Q/WP0MEaEC/1ZG/U15tQP9EpkB9LqdA8DbAP5hSukCVo5hAK/K3QJdogkC3YDlAJ8WdQDrFeED/x65ArTWzQHc1o0D8TdFAfymuQFFRkkCSwrlAimfFP8EEnkBGMDJArkBVQNEWAUCnxNE/T8I+QKMwWUAVq2xAZMGoQB0Fc0ASQIlAYzSHP+V5ZkCfVZI/F0y7QFL8fEBTs4hADb7wP18qmD9PyWVAQI54QErEfUBm+ltA6xapQDS+vkCU5zZAbICdQODHT0Cc0pU/ikkwQIbLl0As1ZNADMh3P55PfkCb41xAjweUQOLOc0DpJJxATlSJQMPkd0Dwz5hAwOrQQJoIo0A8VKhA6tJqQFJ4pkDACtFAckPLP58XiUCsV4lAh+6QQPyBmEDaI5VAj8lgQHrHfkD/GrBAWjgxQEC3ikB3IL9Ak1NaQKHvtEAN/IpASAOcQPFzM0BMkZ0/4KupQB45vkABMsRA/sCSQPJ4kUCxl5lAqfyMP04IxEDECqhA0yL3P2b9HEAtg2xAh5KjQNVYuUCXHYRArHqJQB9xc0CDLPc/lV66QISPqECdZP0/MKnBQC8FVkCzFnZA6/SRP67/VEAlnMQ/LRlLP1F8MkDPFqBAa8BuQLPdeD+exc8/R31DQAn8b0CjbG5As82NQDsJmUD31z5AV+skQEh4fkBxAXtAU76mQHkbgkBjR5xAnmu9QFbEPkBp36xAxP2LQHgraUA+hmxAeIp/QMGqiD95JYlAssh5QB9idEAB90hA+EOCQNJ2akCRUZBAyqoLQLzlDEB+tJZAWQxQQC5d+z9ceMJAwO1rQLvvb0AScI8//rK/QFvgkkCAab5ARJGEQBWqdUAOqZM/rCepQPFt6D/j40xAgWMhQOkVMECRhXhANuSBQK0hZkCIX6ZAzYWYP+Dlzj8fxLxAcO2OQJ5JjECsrvs/grSjQEZOZkAdF7ZAUvGwQGAAE0DfEmg/5ODSP77KikA1a3pALf+qP8lXcUDy/JA/xE+SQAUiFUB7MtBAD9RFQMmNjEBzpGlAo8Q/Px+dtUDBAWFAEhGpQCdOUUDacGFAHGalQJ0/1D/KmMBAm1IsQN6KgED7VxNAXWKXQOuRSUCOBG9A5WKZPwCViUBW/JRAPzWjQDQ0S0B7vm5AuQLEQPnQ2T9EQoFAKtyoP55TF0BOH4ZA70KYQE3khkCjGaRApSzAQN09pkAII6xAfumQQFG59z+ZRKxAE2SmQEbiyj9/8HxA9kaZQLxrxEA5r55A1VD7P2Xgr0DQh1I/T+EDQA3Ai0Dkofc/+lhoPypGn0DSlX1Aw+e6QE2JA0BLfsRAkL97P3DRHEA1zqNAHh2bPwCpwj+vvodAlM99QDnsFEDJ/11A4GyfQNgD5j8i37tAFFKNP6xHfkCCGYtAtLXDQDIXi0BQnV9A2TOKQJIraEC12XVA+smwQLiqc0CPK3RA3fWUQJ869j+7OXtAyxKXP+yYEkCiLBNAP4diQFujxD+u44RAJ87tP5/LmUAM8KJASCeSQAwtZj/ZOGk/Qu1AQK1Oc0BJKohAN8erPyZnxkAu+L5AvUplQJULm0CDwmtAgH2MQF1OukCuYs4/5d9VQCQmF0Aoa2tApLyrQIpNeUB0+atAjiFNQCyCcEA0lHtAb0AdQN5IfECMB7VAgx6jQIqd9T9hxYNAZQBmQArRikA1pLVAXJPDQKpPuECyh6tAx4GdQMEvWUCmh4dAf1pLQNSjHUA3OJxAzhaNQLPAskAiRaxA6YFsQLY1uD9SH3NAfsGNQFEbZkD/4YJAl58cQDgNekCnXYpAFl2RQNjboUB904M/ClyBQGFLiEATcT8/LBKZP9Ers0AZk4tAr3qvQDn5lT+GQFY/lc5oP6iJc0B/ieI/AIyqP0tGXUBQWMM/xBKpQJu7J0DKW6hA9yC/QKwDZUC1fmRArsMHQCh9O0DFnVlA8emHQPt+Y0Bb2mVAl2W0QPh2qkDSVZM/9DLNP1+we0CH35U/C01eQD8zo0BJVM0/bgN/QOqwgT+QWClARo6JQLYlT0AyEl1A0/WPQIuRX0Ab2Iw/f55HQOkfeUABe45A7GepQJv9aUCD5ZhAF1Q8QBMtsD+gTq5AMQNwQHZ+lkDojUA/azaZQI9prj/ewyRAT9L2P2/DpkAU+JdAtz2AQOIjmT+l5Z5AVLmCQEZs1T+K+LdAprxvQJC4jkB9SHhAxXB4QC+IUkDpkZdA8eicQOMwVEBPW6lAhAOCQM7LgT+Oebk/Y/KqP48rqUA5d4NAhH9qQKDev0D0qZlA9nNhP8kHwz8r4YpAZ0XYP/vxmUD3ioVAo5qtQFBTmT/mK4BAaSZ8QIHBYUBHF0O/xcmKQDyzpEBnv5c/E7OhQPYLRkDI9AlAzmMYQCyIdUAANTNASfKzQITkk0Ckq2ZAKT/RQKyNvUDDYYhA6jUyQG/jM0CIYKVAmEg8QOBqcUBiKxFAywyBQHUCikC4/JRAkd1EQDzOBUA+GSVAzHA7QAx2iUALiJtAKr6EQCmM0T/Rs/c/PPq+QGLmF0BbNnxAuSdeQAX+a0AKQThA0zGxQAs6ukDUZr9AbEKcQEt4sUAOiKdAZKaIQHo3V0CGaYFAwFJpQPdQQEARM5dADVLFPzctmEBGSKdAt6idQDMOcECIYP0/EOu5QHDx+T8MQQJAKmKPQB9yhUDihKpAobxGP8tmi0BdHYRAqhLuP72brkCG6qpAed2pQGtT0D+LSptA34a5QMMkj0BkNX5Az/qSP4Ip0D83gVNA5/wEQGSd8z+k84xAji5LQEMRi0DnF0tAi1lqQJ0cr0CrcxlAtbnMP8CyOEB97zVAgclzQCt6a0A+cCtANvlqQA==",
          "dtype": "f4"
         },
         "y": {
          "bdata": "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",
          "dtype": "f4"
         }
        },
        {
         "hoverinfo": "text",
         "hovertext": [
          "— Luas (@Luas) October 31, 2024\nOn Thursday evening, a Google search of \"Dublin Halloween parade\" returned a top result for a website called MySpiritHalloween.com.",
          "\"All trick no treat - \"Hoax\" Halloween parade draws big crowds to Dublin's O'Connell St\".",
          "Someone did pull a big #hoax #Prank pic.twitter.com/zTQUShZrya\n— Artur Martins (@arturmartins) October 31, 2024\nAnother X user, @liam_b02, shared a clip of the crowds on O'Connell Street taken from a passing bus:\nO’Connell street filled with people waiting for a fake parade #dublin pic.twitter.com/ROteZMGeUp\n— liam (@liam_B02) October 31, 2024\nMeanwhile, the Luas was disrupted due to the unexpected gathering, with Red Line services not running from from Smithfield to The Point and Green Line services not running between St. Stephen's Green and Dominick.",
          "While there was no Halloween parade on Dublin's O'Connell Street, locals and visitors alike were spoiled for choice for Halloween happenings with several events organized by Dublin City Council.",
          "That’s it.",
          "A spokesperson said: “Please be advised that contrary to information being circulated online, no Halloween parade is scheduled to take place in Dublin city centre this evening or tonight.",
          "“But I’d signed the contract, and part of me didn’t want to disappoint the kids going to this.” Similarly, Connell felt bad for the children subjected to Willy’s Chocolate Experience.",
          "That would be very simple, but we didn't even mention the ticket thing.",
          "In the past the site had removed non-existent events when contacted by their venues, but in the case of the Dublin parade the site owner said that \"no one reported that this one wasn't going to happen\".",
          "Paul Connell, a stand-up comedian who was hired to play Willy himself, took to social media to explain how he got caught up in the whole mess.",
          "It turns out you can’t arrest someone for providing a shamefully underwhelming event.",
          "He said it quickly dawned on him “because parades usually have barricades, security, police and some sort of organisation” and he could see no evidence of that, just “vast amounts of people”.",
          "In one city, it was the power of a phony online event listing.",
          "It's going really well.",
          "What did the organizers of the event have to say for it?",
          "It was almost like they were secondhand.” Jenny Fogarty, who also played an Oompah Loompa, told The Scotsman that “the wigs were very cheap.",
          "What happened at the event?",
          "'No criminal offences'\nA Garda spokesperson said the event will not be investigated as \"no criminal offences were disclosed\".",
          "Some reported having traveled multiple hours and want their train fares covered.",
          "Don’t worry.",
          "Glasgow, Scotland.",
          "“Clearly, this crowd in Dublin was not a flash mob, but it did have many of the same attributes in terms of how it was created.”\nOnly this time, the mob showed up and nothing was there.",
          "However, smaller text interspersed throughout the lengthy post said \"Dublin Halloween Parade is cancelled!\"",
          "\"Willy Wonka event leaves bitter taste with artificially sweetened promises\".",
          "Well, I’m glad you didn’t do that.",
          "Not 1 single picture giving people an idea of what they are shelling out money for and yet people are buying up tickets.”\n“Indulge in a Chocolate fantasy like never before,” read the website.",
          "Supported by\nAll Trick, No Treat: Dublin Crowds Turn Up for Halloween Parade That Wasn’t\nThe scariest thing this Halloween?",
          "Per Connell, he was hired a few days before the event, then was handed an “AI-generated gibberish” script and told he could “do whatever you want.” Kirsty Paterson, an aspiring actor/fire dancer/yoga instructor who portrayed an Oompah Loompa that went viral, told Vulture she took the job because it offered £500 for two days of work.",
          "despite any ruffled feathers.",
          "I am actually good, but we are highly embarrassed.",
          "a place full of bad things!!!",
          "Were there any sweet treats?",
          "Update: March, 1st, 3:00 p.m ET: Things have gotten even wilder in the world of Willy's Chocolate Experience.",
          "“I looked at the website and I thought it was legit.",
          "The nonexistent parade in Dublin was said to be put on by Macnas, an Irish theater group that has previously staged parades and held one this year in Galway — but not Dublin.",
          "\"All those gathered on O’Connell Street in expectation of such a parade are asked to disperse safely.\"",
          "“Some of the events cited around the world were real, and it is the conjunction of the real and fake which makes the hoax convincing.”\nWhen he realized the mistake, Mr. Ali said, he removed the event from the website.",
          "I asked them if they had a vacuum cleaner and they said, ‘Yeah, we haven’t really got there yet, so just improvise,’” per the Independent.",
          "Yes.",
          "Bertie Brosnan is a social media content creator and filmmaker who went to livestream the event.",
          "(It’s unclear who called them.)",
          "But I don't want to actually reveal their nationalities.",
          "It took about an hour from the start time for people\n“The Gardaí were trying to clear the street.",
          "This was not on purpose!",
          "“People use the sharing and organizational capacities facilitated by the internet to arrange to meet at a single place or time for some kind of coordinated activity,” he said.",
          "Advertisement",
          "Indeed, the \"About Us\" section on MySpiritHalloween.com shows what appear to be AI-generated photos of the site's \"Halloween writers.\"",
          "If we wanted to scam people, we can easily do so by selling fake tickets.",
          "The parade was never coming.",
          "Yikes.",
          "Actually, on second thought: The Experience may have had more in common with The White Lotus, because certainly many dreams died in that warehouse.",
          "In an interview with The New York Times, attendee Stuart Sinclair described the venue.",
          "Definitely.",
          "But when thousands appeared to turn up to line the route from Parnell Street to Christchurch Cathedral, it slowly became clear to those waiting that there was no event.",
          "But they waited and waited (and waited), and a realization settled in: The parade hadn’t arrived.",
          "pic.twitter.com/KmVPFKEZbP\n— An Garda Síochána (@GardaTraffic) October 31, 2024\nSeveral social media posts on Thursday evening posted about the crowds gathering on Dublin's O'Connell Street waiting for a Halloween parade that would never come.",
          "The parade never even existed.",
          "“We were very embarrassed.”\nBut for many people on Thursday, the rectification came too late, as they stood in Central Dublin eagerly awaiting people in costumes but seeing only buses and cars drive by instead.",
          "Is there anything you could try to do to prevent that?",
          "\"An Garda Síochána advises that members of the public always verify any information online regarding upcoming events from trusted and reputable sources.",
          "“They were so inappropriate for what it was,” said Paterson.",
          "'Intentions are very pure'\nThe public showed up due to a post which first appeared on a website called 'myspirithalloween.com'.",
          "\"\"Willy's Chocolate Experience\" Nightmare: What Went Wrong?\".",
          "This article is more than 1 year old\nWilly Wonka event leaves bitter taste with artificially sweetened promises\nCharlie and the AI factory flop compared to 'meth lab'\nIn the most flagrant case of false advertising since The NeverEnding Story, cops were called to a Wonka-themed \"Willy's Chocolate Experience\" in Glasgow, Scotland, because promotional material was made entirely from AI-generated slop.",
          "No, there is nothing.",
          "MySpiritHalloween.com owner Nazir Ali is one of them.",
          "\"Dive into the whimsical of [sic] Willy's Chocolate Experience!, a place where chocolate dreams become reality.",
          "Definitely.",
          "Having a parade to go to sounded really good.",
          "Award-winning performing arts group Macnas have been holding an annual Halloween Parade in Dublin since 2013, with last year’s parade seeing witches, zombie dancers and wolves shuffling down Capel Street.",
          "“There was lots of shouting and groups of people getting very, very irate.”\nThe Scottish police told The New York Times that officers were called to the scene after the event was canceled.",
          "proceeding in those trials.",
          "There’s currently no code for that.",
          "Connell said that the crowd became increasingly agitated as the event wore on.",
          "It was “not on purpose.”\nMr. Ali, who owns at least five other websites, declined to say where he was based, but said that MySpiritHalloween.com used artificial intelligence to generate its content.",
          "Thank you.",
          "Can you explain what happened?",
          "A world of pure imagination it most certainly was not.",
          "Updated at 9:43 a.m.",
          "And you guys should not say that we are the scammers, unless you actually know it, unless you ask us.",
          "People waiting for a halloween parade.",
          "We even wrote this has been canceled, but it was too late.",
          "\"INDULGE IN A CHOCOLATE FANTASY LIKE NEVER BEFORE – CAPTURE THE ENCHANTMENT™\" the website drools.",
          "\"In some ways, it was a world of imagination, like imagine that there is a whole chocolate factory here,\" he quipped.",
          "If you stop and think about it, Willy Wonka’s chocolate factory is an absolutely terrifying place.",
          "Well, if you can believe it, the patrons were less than pleased.",
          "But when she arrived to the dress rehearsal and saw the script, she too had misgivings.",
          "For shame.",
          "We hired some content writers online, and they helped us out on all the Halloween events throughout the world: in the USA, in UK, and most importantly, Ireland.",
          "X user @arturmartins shared this photo which illustrated the size of the crowd.",
          "Bleak as all get out.",
          "The parade never came—but the spectacle of throngs of people milling around for nothing became an event unto itself.",
          "This is not a scam.",
          "What they found when they arrived was a scene straight out of the Saw franchise.",
          "\"If they told us before the evening we would have removed it.\"",
          "Let us know in the comments below!",
          "[27]\nIn event listings\n[edit]Fantastical promotional graphics for the 2024 Willy's Chocolate Experience event, characterized as \"AI-generated slop\",[28] misled audiences into attending an event that was held in a lightly decorated warehouse.",
          "\"Chaos in Dublin as thousands turn up for AI 'hoax' Halloween parade that didn't exist\".",
          "Have Roald Dahl’s estate or Warner Bros. released a statement about the event yet?",
          "The post promised “spectacular floats to thrilling street performances” and described the route in detail.",
          "We wrote a lot of events this year, on the 17th of March, St. Patrick’s Day—and they were ranked.",
          "It’s a terrible pity.”\nThe My Spirit Halloween listing appeared to have been taken down on Friday morning.",
          "Nazir Ali: Ask anything.",
          "But the mystery writer does apologize and take full responsibility for the event.",
          "Wonka is rolling over in his grave.",
          "We never had this type of issue before.",
          "Where did this all go down?",
          "They should go through some of the processes—they can contact me, contact our team.",
          "We were just handed an Amazon box that probably arrived that morning.” Nothing worse than a shake-and-go wig.",
          "Yes.",
          "Tickets cost up to $44 per person.",
          "Not really, no.",
          "I know an awful lot of people turned up.",
          "We own this mistake.",
          "But no one reported that this one wasn’t going to happen.",
          "That remains to be seen.",
          "They don't actually know what our intentions are, but they are showing that our intentions are wrong.",
          "Gardaí (Irish police) then released a statement saying that no Halloween parade was scheduled and asked those who turned out to \"disperse safely\".",
          "\"The Guy Behind the Fake AI Halloween Parade Listing Says You've Got It All Wrong\".",
          "“There was maybe 20 chairs, a couple of tables and a half-inflated bouncy castle,” said Sinclair, who traveled over two hours to bring his three kids to the event.",
          "So your name is Nazir Ali, but when you say “we”—\nWe are not going to give you any personal information that might be harmful for us.",
          "The website, he said, compiled information from about 1,400 Halloween events from all over the world.",
          "Families that turned up early immediately complained, with one parent calling it an \"absolute shambles of an event,\" which caused the company to cancel it midway through the opening day on February 24.",
          "The site lists Halloween events in multiple places, including in Britain, Ireland and the United States.",
          "“Regarding a personal matter, there will be no wedding, and no wedding was funded by the ticket sales,\" it reads.",
          "And what did the venue look like?",
          "But we never mentioned any tickets on the website.",
          "Dr. Anstead likened the episode to another internet trend, the flash mob.",
          "Everest Sherpa: Kami Rita Sherpa scaled Mount Everest for the 31st time, breaking his own record.",
          "As soon as we knew, we changed it.",
          "Are you familiar with St. Patrick’s Day?",
          "No Gardaí around, no official announcement, people waiting on the wrong side of the road...Someone did pull a big hoax.”\nAnother replied: “The real lesson to be learned here is that a lot of people would clearly attend a Halloween parade and Dublin City Council should organise one next year.”\nSinn Fein councillor Janice Boylan said described the situation as “really sad”.",
          "How were so many people duped into lining up for a treat they didn’t get, a parade that never was?",
          "The culprit seems to be the website MySpiritHalloween.com, which contains a glut of Halloween event listings, costume tips and game ideas.",
          "We don't actually want to mislead any of our Irish brothers.",
          "The statement also refers, puzzlingly, to a marriage ceremony that has been either canceled or postponed as a result of the event’s failure.",
          "People will blame the country if I say I'm from Dubai, then whenever you write an article, if you say that a guy from Pakistan, a guy from India, guy from Ireland, a guy from the UAE, it actually hurts some of the citizens of that country.",
          "This was just a mistake.",
          "Don't just believe it.",
          "First of all: What was the experience supposed to be?",
          "He insists it’s all just a big misunderstanding.",
          "Do not self-reference.",
          "Website owner says Dublin Halloween parade listing a 'mistake'\n- Published\nThe owner of a Pakistan-based website which shared details of a non-existent Halloween parade in Dublin says it was \"a mistake, it was not a joke, it was not a scam\".",
          "— both the positives and the negatives,” he said.",
          "This Halloween, crowds lined the streets in central Dublin and waited for a parade to begin.",
          "I appreciate that.",
          "“The error propagates, right?” he said.",
          "Would you be comfortable telling me about the reports that you’re based in Pakistan?",
          "Advertisement",
          "“At the end of my monologue, I was supposed to suck up the unknown man with a vacuum cleaner.",
          "[32] While a similar parade had been held in Galway, and Dublin had hosted parades in prior years, there was no parade in Dublin in 2024.",
          "The statement, written in the first person, is not signed; it does not explain how the writer is affiliated with House of Illuminati.",
          "MySpiritHalloween.com updated their page to say that the parade had been \"canceled\" when they became aware of the issue.",
          "The event had no affiliation with Roald Dahl’s estate or Warner Bros.",
          "But right now the guys are very depressed.",
          "We apologise for any inconvenience caused.",
          "even for?",
          "A lunatic millionaire lures a group of children and their unwitting parents to his massive estate, where they are expected try his non-FDA approved concoctions—and, one by one, are horribly disfigured in the process.",
          "They're calling us scammers, saying that we scammed.",
          "On Thursday, hundreds of people gathered on O'Connell Street in Dublin city centre for the parade but no police or stewards were present.",
          "\"Dublin: Halloween parade listing 'mistake' says website owner\".",
          ".",
          "But instead of a technicolor dreamworld of candy and chocolate inspired by the 2023 Hollywood reboot of Roald Dahl's story, children were left crying because the whole thing was a handful of sad props in a desolate warehouse with an \"Oompa Loompa\" who looked like \"she's running a literal meth lab and is seriously questioning the life choices up until this point.\"",
          "Have a tip for us?",
          "The My Spirit Halloween website falsely advertised the Macnas Halloween Parade would take place from 7pm to 9pm, with interest in it seeing the news ranking on Google.",
          "There was no parade.",
          "Then we would be scammers, but we don’t do it, because it is illegal and prohibited.",
          "When Mr Brosnan arrived, he realised quickly that the parade was not happening.",
          "All those gathered on O’Connell Street in expectation of such a parade are asked to disperse safely.",
          "So many people had gathered for the nonexistent spectacle that the local police announced on social media around 8 p.m., an hour after the parade was supposed to begin, that no event was planned and asked the crowds to “disperse safely.”\nIt seemed like the ultimate trick.",
          "®",
          "Last weekend, families traveled from all over the UK for what they believed would be an immersive experience in keeping with Roald Dahl’s beloved children’s book, Charlie and the Chocolate Factory, the source material for the 1971 film Willy Wonka and the Chocolate Factory and the 2023 prequel Wonka, starring Timothée Chalamet as the eccentric chocolatier.",
          "\"Unfortunately last minute we were let down in many areas of our event and tried our best to continue on and push through and now realise we probably should have cancelled first thing this morning instead.",
          "Once the website was alerted that the parade was not going ahead, the owner said the article was removed immediately.",
          "\"This is a difficult time for me, and I ask for your understanding and privacy.”\nThe writer of the statement goes on to promise that they will rectify the situation by refunding patrons, then asks for “a bit of time to process everything that has happened.” It’s signed, simply, “Sincerely”—which does not rule out the possibility that it was written by The Unknown.",
          "Despite the hype, the advertisements for Willy’s Chocolate Experience failed to include any actual pictures of the event, instead relying on illustrated images—which one shrewd Reddit user noticed.",
          "“It was just strange, and they were really cheaply made.",
          "He told The Independent: “It was funny.",
          "This shows that this is a mistake.",
          "to make this?\"",
          "The true grimness of the situation is effectively captured in this footage, Gizmodo compiled a side-by-side comparison of AI mulch and the reality here, while an actor hired to play \"Wonka\" shared his harrowing tale with The Independent.",
          "Want to discuss a possible story?",
          "\"The parade usually begins in the late afternoon, with festivities continuing into the evening.",
          "I just want to say that people should not judge so soon.",
          "\"It was a genuine mistake and we're accepting it, we're not running from it,\" he added.",
          "And the whole thing blew up on social media.",
          "(At least, I think that’s his name and where he lives.)",
          "Parents called the police.",
          "“It was not a joke, not a scam,” he said.",
          "Great job, guys.",
          "Put on by London-based event company House of Illuminati, Willy’s Chocolate Experience was intended to be an immersive, magical activity for children and their families.",
          "The website includes listings of Halloween events in Ireland and other countries.",
          "Well, they didn’t lie about that: Willy’s Chocolate Experience was certainly unique.",
          "In the aftermath, parents sounded off on social media.",
          "“I was like, I don’t know if I actually want to do this,” said Paterson, per Vulture, when she arrived for the gig the next day.",
          "Note that it’s named after “Willy” but not “Wonka.”\nClearly, Willy’s Chocolate Experience made Fyre Festival look like a stay at the White Lotus.",
          "It is our mistake.",
          "It was also the festival of Divali last night so a lot of people were out on the street as well.”\nThe situation forced The Gardaí to put out a message for those waiting on O’Connell Street to “disperse safely”.",
          "The original post continues below.",
          "“When I got the script the night before I was like, Oh, this is not…” Upright Citizens Brigade should have sent a cease and desist letter right then and there.",
          "\"Public information on major events including traffic management, transport and public safety advice is often available on the Garda website, Dublin City Council website and from other relevant stakeholders,\" they added.",
          "Read the rest of the series.",
          "A Police Scotland spokesperson confirmed that officers attended and \"advice was given.\"",
          "\"We fully apologise for what has happened and will be giving full refunds to each and every person that purchased tickets.\"",
          "Ireland's police force An Garda Síochána was forced to issue a statement on Thursday night, October 31 - Halloween - as crowds of people gathered on Dublin's O'Connell Street.",
          "Book your adventure now and embark on a journey filled with wondrous creations and enchanting surprises at every turn!\"",
          "\"Sold a dream and delivered a nightmare,\" wrote one.",
          "“After all, not one official confirmed the event was happening.",
          "She added: “Everyone is trying to have a fun and safe Halloween.",
          "We should double check it.",
          "To get the most out of the experience, arriving early to secure a good viewing spot is recommended, as the parade attracts large crowds and popular sections fill up quickly.\"",
          "(Dublin has hosted Halloween parades in past years, but not in 2024.)",
          "It did not take long for fun to be made of the hoax, including at Dublin Airport, which posted a picture on X of an empty terminal with the caption “our Halloween parade in full flow.”\nBesides listing parades, MySpiritHalloween.com offers tips for enjoying the holiday, including: “Use mini pumpkins as bowling balls and empty cans decorated with Halloween themes as pins.",
          "[29]\nIn October 2024, thousands of people were reported to have assembled for a non-existent Halloween parade in Dublin as a result of a listing on an aggregation listings website, MySpiritHalloween.com, which used AI-generated content.",
          "The event promised attendees a paradise of sweet treats, chocolate fountains, live performances by Oompa Loompas, an appearance by Wonka himself, and “a celebration of chocolate in all its delightful forms.” There would be an Enchanted Garden, Twilight Tunnel, and Imagination Lab that, the event’s website ensured, would captivate and enchant anyone ages three and above.",
          "Shakespeare could never.",
          "\"I was duped,” Bertie told BBC News NI.",
          "The site curates Halloween events spanning the globe.",
          "All that considered, it’s not terribly surprising that a recent event billed as “Willy’s Chocolate Experience” went terribly, terribly awry.",
          "Production company House of Illuminati has issued a statement on Facebook apologizing for the event and attempting to explain how it came to pass.",
          "The website's owner told BBC News NI: \"We are highly embarrassed and ashamed and we are really sorry about it, that because of us people wasted their time and money.\"",
          "What did the performers have to say about the event?",
          "Not only double, but triple check it.",
          "No event was reported as bogus, or AI-generated, or anything like that.",
          "There’s currently no code for that.",
          "Chaos in Dublin as thousands turn up for AI ‘hoax’ Halloween parade that didn’t exist\nThousands of Dubliners patiently waited for a Halloween parade that would never come\nThousands of people lined the streets of Dublin eagerly anticipating a Halloween Parade through the city centre - but it never arrived.",
          "The owner of the website, Nazir Ali, said on Friday morning that he had not intended to dupe anybody, claiming the whole thing was a mistake.",
          "Any chocolate?",
          "Peter Farrelly shot video from his window of the crowds gathering at O’Connell Street leaving space along the road for the fake Halloween Parade.",
          "#Dublin\nNo Gardai around, no official announcement, people waiting on the wrong side of the road...",
          "This is why I am here to clarify things.",
          "They were just as gobsmacked as everyone else.",
          "But we are not wrong, and we are not scammers.",
          "However, later attendees were not informed of the stunt's doom, and people kept trying to file through the doors to endless disappointment (sung to the tune of \"Pure Imagination,\" no doubt), but were turned away.",
          "People even congratulated us.",
          "Held at the Box Hub, a warehouse event space in Glasgow, Willy’s Chocolate Experience contained some shoddily thrown together Wonka–esque decorations, a handful of circular tables and folding chairs, some AI-printed images to decorate the walls, a smoke machine, and a sparkly rainbow for children to walk under.",
          "According to Sinclair, the children were given “two jelly beans each” and then a “half cup of lemonade.” To make matters worse, Sinclair said there wasn’t even any chocolate.",
          "Hundreds of Dubliners made their way to the city center on Thursday night, excited for a Halloween parade to take place on a mild October evening as they lined up along O’Connell Street, a major thoroughfare.",
          "Ballpark?",
          "NOTE: This content is not written by or endorsed by \"WTEN\", its advertisers, or Nexstar Media Inc.",
          "Everyone is writing about us, and they are telling us that we are scammers.",
          "‘The Unknown’ is an evil chocolate maker who lives in the walls,’” said Connell.",
          "It typically starts at Parnell Square, proceeds down O’Connell Street, and concludes at Temple Bar.",
          "He said: \"No one in Ireland informed us that this parade was not going to happen.",
          "The Traitors is also filmed in Scotland.",
          "It is unclear when the cancellation message was added to the post.",
          "It was the first Halloween Parade after a four year hiatus over lockdown - but there were no plans for one in 2024.",
          "\"Please be advised that contrary to information being circulated online, no Halloween parade is scheduled to take place in Dublin City Centre this evening or tonight,\" the Irish police force said.",
          "We spoke to him about what is next for the mountain.",
          "- ^ a b \"All Trick, No Treat: Dublin Crowds Turn Up for Halloween Parade That Wasn't\".",
          "Sign up here to get it nightly.",
          "However, the disruptions were brief, with social media posts from Luas showing that the stoppages were resolved in less than an hour.",
          "If there are any mistakes, for example you see an event and it was moved—there were some events in Dubai, but hotel management texted us and said that the event was not listed, so we removed it immediately.",
          "Unfortunately for Dubliners, Dublin was picked this year.\"",
          "The costumes were similarly subpar.",
          "We are still smiling now.",
          "OK. Is there anything else you think people have gotten wrong about you?",
          "The decked-out Dubliners had been tricked by a listing on a AI-generated website based in Pakistan that announced the spooky festival before news of it quickly spread online.",
          "Children cried.",
          "Equally baffling is that it was all waved through by the event organizers.",
          "We are highly depressed that everyone is reporting against us.",
          "Just cross check!",
          "They thanked us for listing events about St Patrick's Day.",
          "Thankfully, it was determined that the police were not needed.",
          "In addition to the St. Patrick's Day websites, what are some of the other websites you’re running?",
          "It’s not really passive income, either.",
          "Advertisement",
          "Full Red and Green Line Line services have resumed with delays while we regulate service.",
          "The stinger is that the event run by The House of Illuminati cost £35 ($44) a ticket.",
          "They should ask us questions.",
          "We are highly disappointed, highly embarrassed, and honestly, we are feeling bad.",
          "Kate Knibbs: Well, how are you doing?",
          "in its ads.",
          "“Has anyone else been getting FB ads for ‘Willy’s Chocolate Experience?’” wrote Reddit user, @Prestigious_Try4610, clearly onto the scam.",
          "The full article is available here.",
          "“I want to make it clear that anyone who was hired externally or offered their help, are not affiliated with the me or the company, any use of faces can cause serious harm to those who did not have any involvement in the making of this event,” they add.",
          "WIRED spoke with Ali via Google Meet to get his side of the story.",
          "Tickets were marketed through Facebook advertisements showing AI-generated imagery, with no genuine photographs of the venue.",
          "“It was very disappointing to see how many people turned up at this event and found basically me dressed up as Willy Wonka in a half-abandoned warehouse,” he said.",
          "And we apologize to our Irish brothers.",
          "“Everyone is blaming us,” he said.",
          "Exactly, yes, we humanized it.",
          "That included a parade in Dublin, with a precise location and start time.",
          "Please be advised that contrary to information being circulated online, no Halloween parade is scheduled to take place in Dublin City Centre this evening or tonight.",
          "His name is not known, so we call him 'The Unknown'.",
          "The owner said the website is based in Pakistan and the issue occurred when a writer using a listing of a previous parade was \"unaware\" that it was not taking place this year.",
          "So, what was Willy’s Chocolate Experience, and how did everything go so wrong, so quickly?",
          "Advertisement",
          "Is that true?",
          "“All those gathered on O’Connell Street in expectation of such a parade are asked to disperse safely.”\nOne attendee said on X: “People waiting for a Halloween parade.",
          "House of Illuminati has released the following statement: “Unfortunately, last minute we were let down in many areas of our event and tried our best to continue on and push through and now realise we probably should have cancelled first thing this morning instead.” Hindsight is 20/20.",
          "No worries, as we will be updating this space as and when any new info arrives.",
          "“It did turn quite scary at one point, because people were angry,” he said.",
          "Set up a bowling alley in your backyard or living room for hours of fun.” The site also has itself as being for sale.",
          "They’d gathered after a website called MySpiritHalloween.com published an AI-generated article promoting the festivities.",
          "A post, dated October 30, on the site said in part: \"The Dublin Halloween Parade follows a well-planned route that ensures maximum visibility and excitement.",
          null
         ],
         "marker": {
          "opacity": 0.5,
          "size": 5
         },
         "mode": "markers+text",
         "name": "Dublin Halloween Parade False Listing",
         "text": [
          "",
          "",
          "",
          "",
          "",
          "",
          "",
          "",
          "",
          "",
          "",
          "",
          "",
          "",
          "",
          "",
          "",
          "",
          "",
          "",
          "",
          "",
          "",
          "",
          "",
          "",
          "",
          "",
          "",
          "",
          "",
          "",
          "",
          "",
          "",
          "",
          "",
          "",
          "",
          "",
          "",
          "",
          "",
          "",
          "",
          "",
          "",
          "",
          "",
          "",
          "",
          "",
          "",
          "",
          "",
          "",
          "",
          "",
          "",
          "",
          "",
          "",
          "",
          "",
          "",
          "",
          "",
          "",
          "",
          "",
          "",
          "",
          "",
          "",
          "",
          "",
          "",
          "",
          "",
          "",
          "",
          "",
          "",
          "",
          "",
          "",
          "",
          "",
          "",
          "",
          "",
          "",
          "",
          "",
          "",
          "",
          "",
          "",
          "",
          "",
          "",
          "",
          "",
          "",
          "",
          "",
          "",
          "",
          "",
          "",
          "",
          "",
          "",
          "",
          "",
          "",
          "",
          "",
          "",
          "",
          "",
          "",
          "",
          "",
          "",
          "",
          "",
          "",
          "",
          "",
          "",
          "",
          "",
          "",
          "",
          "",
          "",
          "",
          "",
          "",
          "",
          "",
          "",
          "",
          "",
          "",
          "",
          "",
          "",
          "",
          "",
          "",
          "",
          "",
          "",
          "",
          "",
          "",
          "",
          "",
          "",
          "",
          "",
          "",
          "",
          "",
          "",
          "",
          "",
          "",
          "",
          "",
          "",
          "",
          "",
          "",
          "",
          "",
          "",
          "",
          "",
          "",
          "",
          "",
          "",
          "",
          "",
          "",
          "",
          "",
          "",
          "",
          "",
          "",
          "",
          "",
          "",
          "",
          "",
          "",
          "",
          "",
          "",
          "",
          "",
          "",
          "",
          "",
          "",
          "",
          "",
          "",
          "",
          "",
          "",
          "",
          "",
          "",
          "",
          "",
          "",
          "",
          "",
          "",
          "",
          "",
          "",
          "",
          "",
          "",
          "",
          "",
          "",
          "",
          "",
          "",
          "",
          "",
          "",
          "",
          "",
          "",
          "",
          "",
          "",
          "",
          "",
          "",
          "",
          "",
          "",
          "",
          "",
          "",
          "",
          "",
          "",
          "",
          "",
          "",
          "",
          "",
          "",
          "",
          "",
          "",
          "",
          "",
          "",
          "",
          "",
          "",
          "",
          "",
          "",
          "",
          "",
          "",
          "",
          "",
          "",
          "",
          "",
          "",
          "",
          "",
          "",
          "",
          "",
          "",
          "",
          "",
          "",
          "",
          "",
          "",
          "Dublin Halloween Parade False Listing"
         ],
         "textfont": {
          "size": 12
         },
         "type": "scattergl",
         "x": {
          "bdata": "KKzuv3Kf9r9FT+6/RHkFwA+MUD+OLQXAnTeIv9DmTL/YZ6C/ZmN6v8Rn0L/gqea/61zJvz19gz6evpO/HgtSv/Lpk7/bDde/SP7Hv1URCj9slra/JBndv7Tl/L+fbZW/TeaVPvz6oL9++/i/WitXv6sFTT9bmze+cWWEv1C+nL909Zq/C5B/vxfP9L8UaAPAtfeLv6p7Vb+oNNA+syq9v6CLP7/hFKa+1QgAwBsQxr7Q38e/AloZQPIosL8LcGa+Kv/xvyNKrz62O5C/nKORvy630T7et+2/LKnsvxQAAcBRv/G/I3Tav10eOT/BfwPA7CdDv4v3sr+N65e/lCaUvzQ1Rz+qdqy/Saaev8zE1z57wQPAzLcEwK5eq7/nqVU/k9hMP7MhnL/3Bqq/nezGPjH/jb8JqpG/7eyTQb2Bpb1E9wLA/m6Pvw8Yo7/4EZK/ggmSv9Loi7+Pi0S/v6pPPiLosr+YJfC/ZCKJP0ZQ6L+XX+29uLiPv5FleL9vKc0/pGybv0nQ4b9hO5K/UD8HwEP7pr9P57O/nNLFvv0wYr8IVJa/yPI9v/dYkL87COc+d7k/v0/y0z5XI2m/Dzv9Pjbr7b8mos2+8irGv7cpYT9cA1W+qBUCwLsKsr+izJm/nJrKvuExt7/UZ4a/7by3v/k8d78qkI6/Y95MvzLNyb+YWpw/D2thv7vlpb8gpOa/4q7ev3w6s7/0P5m+WcCJv9ZvyL53HL++9xncPqS3l7+L8Mm+O0PrPmisoL80E0W+UlgCwJe51T4ykIC+d7DZvmMfGUC4sFS/E5T+v298db+34LK/RbmRv9QQrL3ySD6/u4A2PxVkkL9FNvK9OTP2v7kRvr+3hBhAlXOMv6UezD/Lrry/MMPxv1Ie9r1EBuq/T0kFwLZ7378BLxlAWaORv8Lqhb+YpZC/mU5zv5NwoL/E70G/VL1vv60mpL5SBDg/bkCMv2qGyD/dXgnAxcKFPrdByr6lrdC+zvUyvw+cWr8Nslm+vk6ePgIsnb89NLW/ei2cvwLZFr8fnUC/wL+Yv4uoxr4GiAPAAMf3P8VAPr+d5gHAZYjdP1YwzL993HC/s6gBwPuFpL9DSIq/rozIvyT47b+k1dE+UpoIwCUIBMB1Veq/YujJvyw4lr+BFnI+u2KYvxh/tr8v2Jq/9191v4Mobr/QK5G/iWfdPqOzxL+5H0w/OLTlv0N7ib8cBKC/WuTwv6eg9L8h870/vzrCvovvEL79AZW/0C7MvRXhmr8h0Ji/cLIEwJSNhr9BA7o/9z8KvrKbi7/2Bw/ANevLv5dAtL9afI6/HKgEwOSVBMBjLJk/QmD4v15FjL//9/G/w36Rv3h//b/c9FG/WZAxvpWyDD/kqsy/zQxSvwFopb/ueye+KFHfPjBtpb/VWMe/KC2dv+Hr2T41YxlA79Xqv2wyer+jJok+qeiCvpbNaj7kRRlARM6iv9hf7D9Hr3G/FRqGv52ULb9OQI+/Ve3mvsKCUL6Sop0+0F0HwAwVBsDTFT6/n2iXvwv2pL9ASxlAMl0pP/ekBcBZ5IO/XoxLv2pFnL/SNdG/CMC1v14HBcDkr0K/",
          "dtype": "f4"
         },
         "y": {
          "bdata": "ZH6eQCcBmkDaC5dABt6ZQLnzmkDzs5pAJbtHQLhJjkBpUZxA/L1OQCghh0DJI4lAiRybQAIRk0B0/nZA7elIQEhqcUB2DohAnb6JQLJQnEBfPIBA9Y6PQANKnECbnTxAzcmUQAv1NEAkLJxAnXhMQPfOrEC4C5VAavA/QFQoOUD6HzhA6+ejQIhWlkDLz49AinugQDd6VEC7e5hAjESRQLobgEBRm6dAoMmOQEq2mkC+N5hAU72gQMGrpkCye5dA0SaKQCC3l0DrKEBAxmlnQBTAmEC1tY1An4KKQEntl0AB4IpAMpGQQO5nmkDeR5NAMjJRQDxipEBM/TlAztc7QLPMmEBqUaZAH6g0QPnEmEAaq45ASG+aQObgfEAsgLJAZROZQDxGckCuBqVAQSuXQHetb0AhhTxA9oXwQFUtnEAATphA7viKQFu8MkDKAjxAxWU7QDmkZUA9LFFAlUyYQGZusECRCJVAQGM3QY8aikDE+JpAEpU+QH2ylkBtM5BAteU4QCNLl0BmHkFApj2WQLXTtkAIQ6RArCmnQCKGjkAQvThAfjiUQG+dcEA5naZAm8NKQP9AmEBwu4RA73iYQLwJi0AfuZlArUKNQAb7qUAoSaBATG+PQCE3oUCwJ11AJhCnQJu1rkA9dH1AnESwQFBNi0DQ821AQxmPQJMGlkDCv59AlzqZQP64tkDm/5FANAyLQGFKqUAXCKBAfESKQEdVq0Bbx5pASneoQKj6S0BjQZpAOB+qQNmhnUD17JhAJDWYQFSjl0ABF5hAMc+sQJC8oEDeq1NAKf6ZQNLnikDOxaFATnhBQIH2lkDYLJdAmJShQEtmPEDUkZlA8zSPQEugoEBMv6BAQZ4/QK5YjUAg1qNAtWSKQCg+mkA8golA8UGPQCFojECgsqBA7Dw8QOIuiUD/JpxAdQOMQAtkNUAlmElADJhpQFt2nEA3H6JAXlY/QG58j0CCXpNAAk6lQBSsmUDsmoZAI5J/QLjCekAq7ptAoBKVQOHAN0D0ibFA+t03QNcJf0DPzlFAZYA3QMPkmUClro9A1hilQL3wUkDhT5FAetedQIAxhkA8bI1AiEGRQOfSMkChx0FAnPuMQF2KnkC5ZKhAlvSTQKpQmkAzSaBAQkGdQDMLO0Dm2ZdAiveUQP7dr0DlxThAtnyKQC0yl0A+G3BAOnqoQKoEjUCMFplAJIeSQCsNnkB2XjVALRWWQB6Ij0C/Mb5A1tyIQCmFmkBYH05A9j+SQPKGOUCvlT5AhrWZQFSLb0AAIQ1B1DiZQGljP0CulJZAiCWQQEVhgECvNotABxSaQLGjmUAWwZ9AlC2bQMQtDkE27pFAosSaQJNwm0CuyUhAWQyVQNJon0CKEJ5ARdpzQEKAfkA2bZdAUDupQMm2tUDut4ZA2cS4QGXTl0CVxKBAhqiPQMTHhUCY0KNA0COWQB6akUAJzaBAXhU0QBLgp0D5uYtAkW+kQFOZhEAe31FA4Y2bQJf6mEA5qppANSGXQEoQmUB3XntA6+ydQJ3SNkB+wKBA3EWeQCdUkEC3lIlAfj+ZQLG7dUCLzKVAu5WlQIb4mUCjv45A",
          "dtype": "f4"
         }
        },
        {
         "hoverinfo": "text",
         "hovertext": [
          "That same year, then CEO Bobby Kotick praised the work being done at OpenAI and other companies, suggesting the technology would be as transformative as the original Macintosh computer.",
          "The Black Ops 6 slop controversy began last October, a week before the game released, with allegations spreading on YouTube of certain prestige emblems looking AI-generated.",
          "\"In the short term, our goal will be to enhance our development productivity and achieve greater sophistication in our marketing efforts.",
          "“Remaining concept artists were then forced to use AI to aid in their work.” Activision employees were allegedly “made” to sign up for AI training, with its use promoted throughout the business.",
          "This only makes up around 0.01% of the game, or even less, Okatani claimed.",
          "[44] It was heavily criticized by players, who called it shovelware and disapproved of Rovio's use of AI images.",
          "Speaking to VGC, Foamstars producer Kosuke Okatani confirmed the game — which launches into PlayStation Plus on February 6 — uses AI-generated art for certain assets, but claimed most of the game is made by actual developers.",
          "A Square Enix PR representative further elaborated on Foamstars’ use of AI to VGC: “In this instance, we experimented with Midjourney using simple prompts to produce abstract images.",
          "The developers describe how their game uses AI generated content like this: “Our team uses generative AI tools to help develop some in game assets,” reads the disclosure on Valve’s storefront, recently spotted by CharlieIntel.",
          "Most recently, Ned Luke, the voice actor behind Michael De Santa in Grand Theft Auto 5, called out a web3 company for using his voice as the basis of an unofficial AI chatbot.",
          "“A lot of 2D artists were laid off,” one anonymous Activision artist told the site.",
          "As for Blockchain, Kiryu added that Blockchain entertainment/Web 3.0, AI, and the Cloud are three of Square Enix's main \"focus investment fields,\" and that it is \"currently working to modify our organizational structure and optimize our resource allocations to support these efforts.\"",
          "Despite the backlash, the game has a mostly positive rating on Steam and is in the top 20 of most played games on the platform.",
          "If and when they do, however, here's hoping Activision hires some actual humans to work on their artwork.",
          "It contains what looks like six fingers with no thumb on-screen, suggesting up to seven digits on this hand.",
          "Activision's social media post advertising a new entry in the Guitar Hero series is market research for a game that doesn't exist, and is not meant to be an actual announcement, Eurogamer understands.",
          "\"Activision \"AI slop\" Guitar Hero advert is market research for a fake game that doesn't exist and maybe never will\".",
          "Now Activision is owned by Microsoft, which touted the largest launch ever for Black Ops 6 last fall thanks in part to Game Pass, and has itself been moving full-steam ahead with trying to incorporate generative AI into game development.",
          "According to the developer, the total AI generated work in Foamstars makes up \"about 0.01 percent or even less\" of the game, with Okatani stating Square Enix wanted to \"experiment\" with the technology for its upcoming release.",
          "\"Call of Duty Fans Give Black Ops 6's Zombie Santa Loading Screen the Finger Amid 'AI Slop' Backlash\".",
          "However, the devs have yet to specify any information regarding the game’s global or iOS release.",
          "\"Angry Birds Block Quest: Rovio's latest title in the franchise has soft-launched for Android in the US\".",
          "Activision posts on Instagram and Facebook have similarly advertised \"Call of Duty: Zombie Defender\", \"Call of Duty: Sniper\" and \"Crash Bandicoot: Brawl\".",
          "The store did not disclose any use of generative AI for this bundle.",
          "The Witcher voice actor Doug Cockle also told IGN that AI was \"inevitable\" but \"dangerous\", sharing in Luke's assessment that chatbots and similar uses are \"effectively robbing [voice actors] of income\".",
          "\"In this instance, we experimented with Midjourney using simple prompts to produce abstract images.",
          "[25] The intention of the posts was later stated to act as a survey for interest in possible titles by the company.",
          "Fortunately, a new SteamDB tag lets players filters games that us generative-AI out of their store searches.",
          "Now Activision has admitted to using AI-generated assets in the hit multiplayer shooter on its Steam page.",
          "The game featured AI-generated images for loading screens and backgrounds.",
          "The store did not disclose any use of generative AI for this bundle.",
          "Another image of a gloved hand was used to show off a new Zombies community event.",
          "\"Activision accused of \"AI slop\" yet again, this time for new Guitar Hero\".",
          "In terms of the content in the game, this makes up about 0.01% or even less, but we have dabbled in it by creating these icons in the game.\"",
          "Meanwhile, head of PlayStation Productions and head of product at PlayStation Studios Asad Qizilbash weighed in on AI to say its use in video games is important to Gen Z and Gen Alpha gamers who seek \"personalization across everything.\"",
          "He added that as the technology improves, he believes more people will become receptive to it.",
          "“All of the core elements in Foamstars — the core gameplay, and the things that make the game enjoyable — those are all made by hand,” Okatani told VGC.",
          "We are always exploring new ways to connect with consumers and experiment with different approaches.",
          "In the longer term, we hope to leverage those technologies to create new forms of content for consumers, as we believe that technological innovation represents business opportunities.\"",
          "This bundle was sold for 1,500 COD Points, the premium virtual currency sold for real-world money that generates hundreds of millions of dollars for Activision each year.",
          "Market research questions then include queries asking users what made them click on the advert and what gameplay features they expected the game to include, based on the fake advert.",
          "Looking to counter chatbots like the Grand Theft Auto one, Cissy Jones, a voice actor known for her roles in Disney's Owl House, Destiny 2: The Witch Queen, Shin Megami Tensei 5, and more, has started a company called Morpheme.ai to let voice actors embrace AI in their own way and gain control of their own voices going forward.",
          "The bundle contained a number of virtual items, including an Operator skin, a weapon blueprint, a calling card, a weapon sticker, and a loading screen, all below.",
          "[35]\nIn video games\n[edit]The 2024 video game Call of Duty: Black Ops 6 includes assets generated by artificial intelligence.",
          "In turn, Kiryu and Square Enix plan to be, as previously mentioned, \"aggressive in applying AI and other cutting-edge technologies to both our content development and our publishing functions.\"",
          "But while Square Enix may be keen, there are many out there that are still sceptical about AI and its implications across the industry.",
          "“A lot of 2D artists were laid off,” one anonymous Activision artist told the site.",
          "Midjourney and Stable Diffusion, another popular AI generation tool, are being sued by artists claiming the tools infringe on artists’ rights because the data the tools are trained on is taken from artists without their consent.",
          "Activision recently added a warning label to the Steam page for Call of Duty: Black Ops 6 confirming the game \"uses generative AI tools to help develop some in-game assets\", after players spotted various in-game examples - including a zombie Santa Claus with six fingers.",
          "\"Square Enix President States the Company Will Be 'Aggressive in Applying AI'\".",
          "Others, however, believe the bottom left 'finger' is simply flesh falling off the little finger above it, although there are irregularities with the present boxes and ribbons in the bottom right, too.",
          "\"Activision Reportedly Sold an AI-Generated Call of Duty: Modern Warfare 3 Cosmetic\".",
          "\"We also intend to be aggressive in applying AI and other cutting-edge technologies to both our content development and our publishing functions,\" he said.",
          "In an interview with VGC, Kosuke Okatani, producer on Foamstars, said that the development team used AI generation tool Midjourney to create in-game art for album covers for the game’s soundtracks but explained that the majority of the game was still made by humans.",
          "Video game voice actors have also called out AI-generated explicit Skyrim mods, and Assassin's Creed Syndicate voice actress Victoria Atkin called AI-generated mods the “invisible enemy we're fighting right now” after discovering her voice was used by cloning software.",
          "\"Square Enix says it used AI art in upcoming Foamstars game\".",
          "“However, we did want to experiment with AI as well.”\nEarlier this year, Square Enix president Takashi Kiryu said in his New Year’s Day letter that Square Enix intends to be “aggressive” in its use of AI in development and publishing.",
          "While Foamstars’ use of AI is centered on images and not voices, Square Enix’s use of Midjourney to generate the images introduces thorny questions regarding copyright infringement.",
          "Clicking on some of the adverts will take you through to a mocked up mobile store page organised by marketing service Geeklab, and then onto a survey that reveals \"this isn't a real game, but could be some day!\"",
          "Square Enix will be \"aggressive in applying AI\" and other \"cutting-edge technologies\" to its development and publishing functions.",
          "The Finals, a free-to-play multiplayer shooter, was criticized by voice actors for its use of text-to-speech programs to generate voices.",
          "Wired pointed out that Microsoft, which owns Activision Blizzard after its $69 billion acquisition of the company last year, cut 1,900 staff from its gaming business just months after Activision sold this skin.",
          "Speaking with VGC, Foamstars producer Kosuke Okatani said the team had \"dabbled\" with AI program Midjourney - a known AI tool that converts text into art - but the majority of the game has been crafted by hand.",
          "For instance, Keywords Studios attempted to create an experimental game internally using entirely AI.",
          "Square Enix has a big year ahead of it, as fans will soon be able to enjoy Final Fantasy VII Rebirth, Final Fantasy XVI's second DLC, Final Fantasy 14: Dawntrail, Foamstars, SaGa: Emerald Beyond, and Visions of Mana.",
          "Everything else was created entirely by our development team.\"",
          "In July, Wired reported that Activision sold an “AI-generated cosmetic” for Call of Duty: Modern Warfare 3 last year.",
          "Square Enix says it used AI art in upcoming Foamstars game\nFoamstars producer Kosuke Okatani says the AI-generated art accounts for ‘0.01 percent’ of the game’s art.",
          "\"We experimented with Midjourney using simple prompts to produce abstract images,\" Square Enix said.",
          "The developer further reiterated it was experimenting with the technology.",
          "Perhaps it's telling that Kiryu only briefly mentioned blockchain technology in this year's letter.",
          "Several video game voice actors have also rallied against AI, including Grand Theft Auto 5 voice actor Ned Luke who called out a chatbot which used his voice.",
          "A set of sexy vampire calling cards raised red flags again in early November, with fans pointing at different parts of the art that looked oddly rendered.",
          "“Remaining concept artists were then forced to use AI to aid in their work.” Activision employees were allegedly “made” to sign up for AI training, with its use promoted throughout the business.",
          "We loved what was created and used them as the final album covers players will see in the game.",
          "The Witcher voice actor Doug Cockle has also expressed caution and frustration at the growing presence of AI within the video game industry, calling it \"inevitable\" but \"dangerous.\"",
          "Paul Eiding, the voice actor behind Colonel Campbell in the Metal Gear Solid series, also condemned its use.",
          "The outline also includes a short mention of blockchain technology.",
          "Midjourney is one of several AI companies mentioned in an ongoing lawsuit that lists thousands of artists who have allegedly had their artwork scraped to train AI tools.",
          "If you are residing in America, you can access the game via your respective Google Play Stores.",
          "The second was a zombie Santa holding up hand that had six fingers.",
          "Note the earring that is only on one ear and seems slightly deformed.",
          "Everything else was created entirely by our development team.”\nMost Popular\n- Apple is reportedly going to rename all of its operating systems\n- Tested: Nvidia’s GeForce Now just breathed new life into my Steam Deck\n- The plan for nationwide fiber internet might be upended for Starlink\n- US will ban foreign officials to punish countries for social media rules\n- A Kaiser Permanente systems outage had pharmacies relying on pen and paper",
          "But so far, Black Ops 6 has proven generative-AI tools and the current level of quality control around them often can’t even get simple static images on loading screens right.",
          "Everything else was created entirely by our development team,\" it said.",
          "\"Square Enix intends to be \"aggressive in applying AI\", says CEO\".",
          "The release of the Zombie Santa image sparked a closer look at other images in Black Ops 6, which some in the Call of Duty community have now called into question.",
          "Embark Studios, the developer of smash hit shooter The Finals, was criticised for using AI voiceovers by myriad actors and even other developers, for example.",
          "You then take the prompts to the image-generation programs Leonardo.ai and Midjourney.",
          "Generative AI often struggles with hands, adding extra fingers where they shouldn't be.",
          "On the publishing front, Kiryu reveals the company wants to \"enable greater global collaboration and to promote the shift to digital.\"",
          "Details of the company's Web3 experience Symbiogenesis were revealed last year and Final Fantasy 7 trading card NFTs were released, but news of both has since gone quiet.",
          "\"For instance, non-player characters in games could interact with players based on their actions, making it feel more personal,” Qizilbash said.",
          "The appearance of the Zombie Santa was even worse in the context of Zombies mode’s voice actors being replaced amid a SAG-AFTRA strike for greater AI protections in game acting.",
          "[39][40][41] Previously, on January 1, 2024, Square Enix president Takashi Kiryu stated in a new year letter that the company will be \"aggressive in applying AI and other cutting-edge technologies to both [their] content development and [their] publishing functions\".",
          "[23][24]\nIn the same month, Activision posted various advertisements and posters for fake video games such as \"Guitar Hero Mobile\", \"Crash Bandicoot: Brawl\", and \"Call of Duty: Zombie Defender\" that were all made using generative AI on platforms such as Facebook and Instagram, which many labelled as AI slop.",
          "As part of this, Valve has told developers it will include their disclosures on the Steam store page of their game, “so customers can also understand how the game uses AI.” Currently, Call of Duty’s Steam page has no such disclosure.",
          "The cosmetic in question was not named, but was linked to the Yokai’s Wrath bundle released in December 2023.",
          "Microsoft Gaming CEO Phil Spencer even claimed similar technology would aid in game preservation by making it easier to emulate classics on modern hardware.",
          "In a separate statement, Square Enix said AI was used in the \"creation of the in-game album covers for the music featured in the Foamstars soundtrack\".",
          "In the longer term, we hope to leverage those technologies to create new forms of content for consumers, as we believe that technological innovation represents business opportunities,” the letter read.",
          "Following the release of the Season 1 Reloaded update, fans noticed a number of telltale signs in Black Ops 6 loading screens, calling cards, and art used to explain how Zombies community events work.",
          "Fans are expressing dissatisfaction, claiming that the game is using a lot of generative AI content for its cover art and game assets, labeling it as another generic puzzle game.",
          "The company recently announced Muse, a model for visualizing gameplay built on data captured from people playing Ninja Theory’s 2020 PvP game Bleeding Edge.",
          "[36] The previous entry in the Call of Duty franchise was also accused of selling AI-generated cosmetics.",
          "- There is currently no information about its release in other regions or for iOS.",
          "\"In the short term, our goal will be to enhance our development productivity and achieve greater sophistication in our marketing efforts,\" Kiryu continuted.",
          "We loved what was created and used them as the final album covers players will see in the game.",
          "- ^ \"Call Of Duty Discloses AI Slop After Months Of Players Complaining\".",
          "\"[38]\nFoamstars, a multiplayer third-person shooter released by Square Enix in 2024, features in-game music with cover art that was generated using Midjourney.",
          "\"All of the core elements in Foamstars - the core gameplay, and the things that make the game enjoyable - those are all made by hand,\" Okatani said.",
          "Activision is embroiled in a backlash over Call of Duty Black Ops 6 in-game art that some fans have accused of being \"AI slop.\"",
          "These adverts also include new smartphone games in other Activision franchises such as Call of Duty and Crash Bandicoot that also don't exist (yet) either.",
          "- ^ \"Square Enix \"dabbled\" with AI technology for Foamstars\".",
          "Square Enix president Takashi Kiryu has penned a New Year's Letter that outlines some of his vision for the company, and it reveals it plans to \"be aggressive in applying AI and other cutting-edge technologies to both our content development and our publishing functions.\"",
          "One loading screen included a black glove with six fingers holding billiard balls.",
          "Embark told IGN that \"making games without actors isn't an end goal\" and claimed it uses a mix of both recorded audio voices and audio generated via AI text to speech tools for its games, however.",
          "It’s worth pointing out that Wired did not specify which part of this bundle was AI-generated, or indeed whether all of it was.",
          "CEO Takashi Kiryu has shared his annual new year letter, setting the tone for the company in 2024.",
          "Square Enix intends to be \"aggressive in applying AI\", says CEO\n\"We hope to leverage those technologies to create new forms of content for consumers.\"",
          "A report by Wired claimed an entire paid cosmetic was made with help from AI in 2023's Modern Warfare, after the publisher had greenlit the tools for help with making concept art and marketing materials.",
          "In Foamstars, Square Enix’s forthcoming Splatoon-esque multiplayer game, some of the art you’ll see will be AI-generated.",
          "Square Enix \"dabbled\" with AI technology for Foamstars\nAw, suds!",
          "Microsoft, for example, is reportedly making an Xbox AI chatbot to automate support tasks such as game refunds, deal with broken consoles and subscription issues, and answer questions about error codes.",
          "The team hopes this will allow them to not only gives them the chance to \"maximize our sales of new titles, but also to deliver our rich back catalog to more customers and in turn to expand the fan base for our Group’s intellectual properties (IPs).\"",
          "Wired pointed out that Microsoft, which owns Activision Blizzard after its $69 billion acquisition of the company last year, cut 1,900 staff from its gaming business just months after Activision sold this skin.",
          "Activision states on the game's product page on Steam that \"Our team uses generative AI tools to help develop some in game assets.",
          "The report alleged that 2D artists’ jobs were being replaced by AI at the company.",
          "Earlier this month, SAG-AFTRA signed a deal with Replica Studios, an AI voice software company, that would allow performers to license their voice exclusively with the company for use in video game projects.",
          "The 2023 new year letter was written by then-CEO Yosuke Matsuda, which doubled down on blockchain technology and NFTs.",
          "While it doesn’t elaborate any further on which assets are made with AI and how, the confession has reaffirmed what some fans had been claiming for months.",
          "[45][46] It was eventually discontinued and removed from the Play Store.",
          "Loading screens depicted hands with extra digits, a tell-tale sign of work produced by algorithms built on stealing other artists’ work, but not knowing how to count.",
          "Please keep in mind that the game may not function properly if you don’t have the latest version installed.",
          "1,500 COD Points is approximately valued at $15.",
          "Earlier this year, EA boss Andrew Wilson told the investment community that “more than 50% of our development processes will be positively impacted by the advances in generative AI.” Wilson, who oversees EA Sports FC, The Sims, and BioWare games, added that AI will make game development “more efficient”, revealing that the EA Sports FC developers can now make stadiums in six weeks rather than six months.",
          "The PlayStation exclusive, Splatoon-like shooter Foamstars uses artificial intelligence (AI) generated art, developer Square Enix has revealed.",
          "You can read the full New Year's Letter from Takashi Kiryu here.",
          "Activision \"AI slop\" Guitar Hero advert is market research for a fake game that doesn't exist and maybe never will\nCall of Duty and Crash Bandicoot titles also touted.",
          "Call of Duty: Black Ops 6 players have been accusing various loading screens and calling cards from the game of being AI-generated since it came out last fall, but it was only ever based on vibes and the occasional very convincing piece of seemingly obvious AI slop.",
          "One squirrel-like character appears to be missing half a face.",
          "Will any of these Guitar Hero, Crash Bandicoot or Call of Duty smartphone games ever see the light of day?",
          "For instance, Keywords Studios attempted to create an experimental game internally using entirely AI.",
          "\"In the longer term, we hope to leverage those technologies to create new forms of content for consumers, as we believe that technological innovation represents business opportunities. \"",
          "While they don't have dates, Dragon Quest III HD-2D Remake, Dragon Quest XII, and Kingdom Hearts 4 are also on the way in 2024 or beyond.",
          "Earlier this month, Nintendo president Shuntaro Furukawa was asked about the company’s initiatives involving AI.",
          "\"Blockchain has been an object of exhilaration and a source of turmoil, but with that in the rearview mirror, we hope that blockchain games will transition to a new stage of growth in 2023,\" said Matsuda, acknowledging the \"sombre string of news stories with blockchain connections\" in 2022.",
          "Square Enix used controversial AI tool Midjourney, which turns text prompts into visual art, to create in-game album covers for music tracks.",
          "This news comes weeks after the company's CEO Takashi Kiryu said Square Enix will be \"aggressive in applying AI\" in his annual new year letter.",
          "The inclusion of AI in Foamstars is perhaps unsurprising given Square Enix president Takashi Kiryu said in January 2024 that the company will be \"aggressive in applying AI and other cutting-edge technologies to both our content development and our publishing functions.\"",
          "\"Last year we redefined our overarching mission and goals for these three fields.",
          "Despite the controversy, the company said that it was “successful” and that the technology would be an addition to its “tool kit” for the future.",
          "Xbox has partnered with Inworld AI to develop tools for developers to generate AI NPCs, quests, and stories.",
          "Square Enix confirmed the use of AI, but defended the decision, saying that they wanted to \"experiment\" with artificial intelligence technologies and claiming that the generated assets make up \"about 0.01% or even less\" of game content.",
          "Square Enix's upcoming team shooter Foamstars will have a small amount of AI art, the developer has said.",
          "\"All of the core elements in Foamstars — the core gameplay, and the things that make the game enjoyable — those are all made by hand,\" he said.",
          "For more on Foamstars, our Ed has laid out everything you need to know about its season pass and arrival on PlayStation Plus here.",
          "Most recently, ID@Xbox was criticised for using AI art in its Christmas message, as reported by Pure Xbox.",
          "Fans are now calling on Activision to disclose the use of generative AI for art that is included in bundles that are sold.",
          "Activision’s new disclosure comes after previous reports that developers within the company were encouraged to experiment with new AI tools in their work.",
          "- ^ \"PlayStation Exclusive Foamstars Has AI-Generated Art, Square Enix Confirms\".",
          "At the centre of the backlash is a loading screen image of Zombie Santa, aka 'Necroclaus,' which some have said shows the undead Father Christmas with six fingers.",
          "A particular example was a loading screen for the zombies game mode that depicted \"Necroclaus\", a zombified Santa Claus with six fingers on one hand, an image which also had other irregularities.",
          "Activision reportedly sold an “AI-generated cosmetic” for Call of Duty: Modern Warfare 3 in late 2023.",
          "[37]\nIn February 2025, Activision disclosed Black Ops 6's usage of generative artificial intelligence to comply with Valve's policies on AI-generated or assisted products on Steam.",
          "These New Year's Letters have become a staple of New Year's Day recently, and previous ones have discussed the desire to explore NFTs, blockchain games, the metaverse, and more.",
          "- Fans are alleging that the game includes a significant amount of generative AI content.",
          "\"However, we did want to experiment with AI as well.",
          "We are currently working to modify our organisational structure and optimise our resource allocations to support these efforts.\"",
          "The report alleged that 2D artists’ jobs are being replaced by AI at the company.",
          "The game failed, with Keywords citing to investors that AI was “unable to replace talent.”\nWesley is the UK News Editor for IGN.",
          "Later in the letter Kiryu outlined the company's plans for 2024.",
          "\"In terms of new business domains, we previously identified three focus investment fields, namely blockchain entertainment/Web 3.0, AI, and the cloud,\" he said.",
          "The use of AI is certainly growing in the games industry, so Square Enix is not alone in its plans.",
          "There is also a desire to put plans in place to ensure for easier and greater collaboration between the development and publishing teams at Square Enix in hopes this will make its \"customers even happier than ever before.\"",
          "1,500 COD Points is approximately valued at $15.",
          "This bundle cost 1,500 COD Points, the premium virtual currency sold for real-world money that generates hundreds of millions of dollars for Activision each year.",
          "There is a role for technology to play in this space.",
          "And as others have pointed out, Steam operator Valve now has AI disclosure rules that call on publishers and developers to describe how they use AI in the development and execution of their games.",
          "In a report from Wired on the impact of generative AI on the video game development industry and concern among many within it about the threat to their livelihoods, it is alleged that Activision “made an AI-generated cosmetic available for purchase on the Call of Duty: Modern Warfare 3 store.”\nThe cosmetic in question is not named in the article, but it is linked to: the Yokai’s Wrath bundle released in December 2023.",
          "The game failed, with Keywords citing to investors that AI was “unable to replace talent.”\nVideo game console makers Microsoft and Sony are all-in on AI.",
          "“In the short term, our goal will be to enhance our development productivity and achieve greater sophistication in our marketing efforts.",
          "\"We loved what was created and used them as the final album covers players will see in the game.",
          "There hasn’t been much promotion regarding the game and the team has only shared a brief description without any additional information.",
          "Since the game's initial release, many players had accused Treyarch and Raven Software of using AI to create in-game assets, including loading screens, emblems, and calling cards.",
          "Artwork for the latter game, hosted on Facebook, again shows obvious use of AI image generation.",
          null
         ],
         "marker": {
          "opacity": 0.5,
          "size": 5
         },
         "mode": "markers+text",
         "name": "AI Integration in Gaming Development",
         "text": [
          "",
          "",
          "",
          "",
          "",
          "",
          "",
          "",
          "",
          "",
          "",
          "",
          "",
          "",
          "",
          "",
          "",
          "",
          "",
          "",
          "",
          "",
          "",
          "",
          "",
          "",
          "",
          "",
          "",
          "",
          "",
          "",
          "",
          "",
          "",
          "",
          "",
          "",
          "",
          "",
          "",
          "",
          "",
          "",
          "",
          "",
          "",
          "",
          "",
          "",
          "",
          "",
          "",
          "",
          "",
          "",
          "",
          "",
          "",
          "",
          "",
          "",
          "",
          "",
          "",
          "",
          "",
          "",
          "",
          "",
          "",
          "",
          "",
          "",
          "",
          "",
          "",
          "",
          "",
          "",
          "",
          "",
          "",
          "",
          "",
          "",
          "",
          "",
          "",
          "",
          "",
          "",
          "",
          "",
          "",
          "",
          "",
          "",
          "",
          "",
          "",
          "",
          "",
          "",
          "",
          "",
          "",
          "",
          "",
          "",
          "",
          "",
          "",
          "",
          "",
          "",
          "",
          "",
          "",
          "",
          "",
          "",
          "",
          "",
          "",
          "",
          "",
          "",
          "",
          "",
          "",
          "",
          "",
          "",
          "",
          "",
          "",
          "",
          "",
          "",
          "",
          "",
          "",
          "",
          "",
          "",
          "",
          "",
          "",
          "",
          "",
          "",
          "",
          "",
          "",
          "",
          "",
          "",
          "",
          "",
          "",
          "",
          "",
          "",
          "",
          "",
          "",
          "",
          "",
          "",
          "",
          "",
          "",
          "",
          "",
          "",
          "",
          "",
          "",
          "",
          "",
          "",
          "",
          "",
          "",
          "",
          "AI Integration in Gaming Development"
         ],
         "textfont": {
          "size": 12
         },
         "type": "scattergl",
         "x": {
          "bdata": "VLA/QIYkJECiAphAlAFIQLBgf0DdMRlARgWBQGIxfkCFhjpAqnFRQHIuSUB1jZlAgUkeQES4SEDZbx1AJgDsP8lH7T+aMjNA46uCQFNtIEAY6sQ/E5C2PxHR7T/fVi5AGn1RQPl6eEAHbuw/C5k5QCyBNED+HENABzcvQG4YHUB8gPk/EA5/QLkZjEDQYoJA206BQPl9lECCDJVAD50nQL+n6j9vcVFAJFonQF79LkA/hZVAqbmRQChNSUBjMWVAvcskQOAxkkBljBxAe+UrQBwalUB7MIBAQktRQGiUgECuFpJAzSl/QIfA6z+CTJNAc+VQQMu3M0CyKYBAdop0QO59lkA+S3xAQ48uQD1JgEAtx3xAnrB7QLq8m0D/WVFAdVYdQLqWR0CgKHFAWIZRQDJmUUC1c5tA9HtlQBUFtz9k+BtAyFQbQEC8e0BW5ChAvW56QI7vkUCWhx5AsR1RQKzneUBwFR9AIRKYQJfxmEAb/otAxBAeQCoil0DPhe0/0fU1QI2dKkCeWI1Agzh+QK4olUAnmCFA5r0yQPiwdECmHCpAnbXIP2aJmECllnFA4xcgQD0VgkCORoBAVRckQB4I6j/q1YFAJF2WQCEKHUAodlJArzssQBlAm0BG0pFAqiUxQM2Wg0Ahh4JABjheQEDzlUD2kzRAbF45QCKZTECiFlJA2/uaQE0vN0C2uwBA17MdQHbMtj/U7ydALT6GQGsAg0D1MJtAt/LsP4PjI0D2RBpAh0DqP4ADdUDzBZVAokOWQJ0+kkACD5tAklx+QGc3lEAGaYtAvB+YQEIfe0Dsn11AnR5+QLDKgkBAVX9Av6CBQMQCR0BSgjJAzeo7QNTxgUA7zRxA7EIdQJ1dK0D3pDBAx1ebQBAzOEBDqYNAAZeYQK78TEBI+XlAQMabQLyTl0B0rZFARAiVQOCjKEC1HihA7paHQMRbOUAcqy9A9cp5QEbPl0C4AXVA2eTeP0xZJ0CPtEhAE75aQA==",
          "dtype": "f4"
         },
         "y": {
          "bdata": "fdVXQRHVUkER+UhBfStYQU5eWEHx81lB5ZNXQbOcVkFPtlVBkiZoQZxIWEEikE9B9yhXQT01WEHPoEhBksVbQQKpW0FtDVhBli5WQdUNUUFoyWVB6M1nQSeyW0EEuVVBKR1oQYPzVEGiJVtBFstVQQoxVkHX3lNBr9tVQS95TEEarVpBNEBYQUY6T0E3tjZBtL9YQb8wR0EHaEdBFC5bQbstW0HAImhBiudaQcrAVkFsuk1BLrBNQdNIWEG4TFVBmIBSQQB5TkHJ6EdB/W5ZQcxHTEE6cVdB3xdoQUfXVkHDXU5BSIFWQTOfW0GnA05BL95nQemqWUFs+lZBIlJPQeHrUEH7H1pBqb5YQdEdV0GZpVZBdM81QejrTkF5+2dB2IFHQZhDWEGR7lhBH/hnQafgZ0HqoE5BJ/NVQayPZ0HOVEtB6IZHQfouWkEwXVNBI4paQSM9TkFCJU5BaL9nQbPjVEHHcEZBh+BLQXPmT0GpQE9Bft1NQWEuUEGXoVtBx9FVQfdJWUGAK09BYrVWQelZSEHCE1FBbb1WQU8oUEHsGFlBayZlQYr0SUE+AllBL+lTQe0KV0Ht/FhB+xlTQU0SXEFLklZBr+1OQXKESUGXimdB+elUQXfYTkFzsU1Bqf1YQS7OV0ERsFZBfwtRQZ8DS0G/v1lBE49VQRkIWEG4XGhBqH1PQdkgVkF0Z11BytBHQXyPZ0GcO1tBCoVRQXllV0HVvk5B1bRbQT67UkGqLEdBEEtcQcVOT0FQo0dBH8RQQTcpTkEyPU9BuRBXQWCkTkGalFJBAEtJQXdeNUHXFlFB7qxWQS7lVkF8LVlBrAxYQRn8UUHjSldBTY9WQYZ1V0Fa/UtByNZLQTKdWUEYO1ZBpRJPQZT7VUHNTTBBt5xIQavdV0En+01BXnlOQc02TUGnF05BVwpOQcaCW0EU8FpBx4Q6QaKLVUGcqVhBLGFOQYI0SUE891hBjlFjQbd4U0F9NFNBYHVUQQ==",
          "dtype": "f4"
         }
        },
        {
         "hoverinfo": "text",
         "hovertext": [
          "Coca-Cola had a similar misfire with its AI-generated Christmas ad, which paid homage to its 1995 “Holidays are coming” commercial.",
          "Not only were the ethics of the endeavour questioned, the advert’s quality was pulled apart and branded ‘soulless’ and ‘devoid of any actual creativity’.",
          "The company's European CMO, Javier Meza, explained the decision in an interview with Marketing Week, saying Coca-Cola wanted to bring this year's holiday commercial to \"today's times.\"",
          "The ads depict squirrels and rabbits peeking out to watch the passing caravans and a man being handed an ice-cold bottle of cola by Santa Claus.",
          "With temperatures dropping, nights growing longer and decorations starting to appear in store windows, the holidays are on their way.",
          "The reaction online has been overwhelmingly negative, with comments on the YouTube video and across social media calling it \"slop,\" \"embarrassing,\" and \"creepy.\"",
          "[17][18]\nIn advertising\n[edit]In November 2024, Coca-Cola used artificial intelligence to create three commercials as part of their annual holiday campaign.",
          "Toys “R” Us received criticism in June for a commercial created with OpenAI’s tool Sora that portrayed a boy walking through a toy aisle with wonderment until he was joined by the company’s mascot, Geoffrey the Giraffe.",
          "In a statement, a Coca-Cola spokesperson said, \"The Coca-Cola Company has celebrated a long history of capturing the magic of the holidays in content, film, events and retail activations for decades around the globe.",
          "The company’s nostalgia-filled commercials are a holiday tradition, but this year’s ads are facing backlash for dipping into the uncanny valley.",
          "In fact, the reception is so harsh that it's actually pretty difficult to find any positive sentiment.",
          "\"It’s actually soooo concerning that a brand as big as Coca Cola is doing this,\" added another X/Twitter user.",
          "Coca-Cola will always remain dedicated to creating the highest level of work at the intersection of human creativity and technology.\"",
          "is actually a much better tool.”\nCoca-Cola worked with three A.I.",
          "Last year, the company released a limited edition drink, Coca-Cola Y3000, that boasted on the can’s label: “Co-Created with AI.”\n“We hope that Coca-Cola will still be as relevant and refreshing in the year 3000 as it is today,” the company said in a statement at the time.",
          "The company's latest take on that ad, however, isn't inspiring the Christmas spirit in a lot of fans.",
          "“Coca Cola has been the gold standard in branding and advertising for decades.”\nAlex Hirsch, an animator and the creator of the Disney series “Gravity Falls,” expressed a sentiment that other creative professionals have shared online, noting that the brand’s signature red represented the “blood of out-of-work artists.”\nThe company, however, is sticking by the ads.",
          "The video drew criticism from many creatives who argued that it was distasteful for the company to use AI technology to create the video instead of the work of artists.",
          "“Your holidays are a time of connection, time of community, time to connect with family, and that’s sort of a big part of what the holidays are about,” Arora said.",
          "You can watch the 16-second spot here, which in some ways is largely similar to the original, from the soundtracks to that big, lit-up truck.",
          "Or, as one commenter put it: \"This is as heartwarming as an aluminum tree.\"",
          "Over 14 years ago, people were recreating the Coca Cola Christmas ad in GTA San Andreas and it still came off as more authentic than this tripe.",
          "But Jason Zada, founder of one of the three AI studios Coca-Cola worked with to create the ad, touted the efficiency of using the technology to craft the spot.",
          "Alex Hirsch, the creator of the Disney series “Gravity Falls,” commented on an X post that showed the new commercial, which has amassed over 56 million views, “FUN FACT: @CocaCola is ‘red’ because it’s made from the blood of out-of-work artists!",
          "The company also announced in a news release that month that it would be partnering with artists to create artwork using Coca-Cola’s creative archives and AI technology.",
          "In March 2023, Coca-Cola collaborated with OpenAI to release one of its first AI-generated commercials, called “Masterpiece,” which showed paintings and sculptures in an art museum come to life and pass around a bottle of Coca-Cola.",
          "The three commercials, which pay tribute to the company’s beloved “Holidays Are Coming” campaign from 1995, feature cherry-red Coca-Cola trucks driving through sleepy towns on snowy roads at night.",
          "“But then you throw AI into the mix that is not a fit, that is not a fit with holiday timing, but also, to some degree, also Coke, what the brand means to people.”\nToys R Us faced similar backlash online over the summer for an AI-made commercial that depicted the company’s late founder in a bike shop alongside the brand mascot.",
          "These videos were immediately met with negative reception from both casual viewers and artists;[19] the animator Alex Hirsch, the creator of Gravity Falls, criticized the company's decision not to employ human artists to create the commercial.",
          "\"Over 14 years ago, people were recreating the Coca Cola Christmas ad in GTA San Andreas and it still came off as more authentic than this tripe,\" wrote one X/Twitter user.",
          "So that is a huge benefit.”\nCoca-Cola has responded to the backlash yet, but it might lose some soda drinkers to Pepsi in the meantime.",
          "The video was meant to pay homage to the company’s 1995 commercial “Holidays Are Coming,” which featured similar imagery, but with human actors and real trucks.",
          "If a billion dollar company like coca cola cant pay real artists, actors, directors, etc to promote their product what precedent does this set for the rest of the market?,\" wrote one person on the YouTube video.",
          "- ^ \"Coca-Cola causes controversy with AI-generated ad\".",
          "But, instead of reviving the holiday magic of the original commercial, the AI advert sparked backlash online.",
          "\"Coca-Cola's Holiday Ads Trade the 'Real Thing' for Generative A.I.\"",
          "The ad, which was created in collaboration with three AI studios, features AI-generated animals and red Coca-Cola lorries.",
          "https://t.co/3BmQWBP3uF pic.twitter.com/rXZ81kkEhN\n— 𝔑𝔞𝔱𝔥𝔞𝔫 (@TheNathanNS) November 15, 2024\n\"Coca Cola decided to have its polar bears take a giant AI shit under the Christmas Tree,\" wrote @joerussotweets on X/Twitter.",
          "Supported by\nCoca-Cola’s Holiday Ads Trade the ‘Real Thing’ for Generative A.I.",
          "“This year, we crafted films through a collaboration of human storytellers and the power of generative A.I.”\n“Coca-Cola will always remain dedicated to creating the highest level of work at the intersection of human creativity and technology,” the statement added.",
          "“’Tis the season,” a jingle chirps, “it’s always the real thing.” The tag line, pushing Coke’s “real thing” slogan, is juxtaposed with a disclaimer: “Created by Real Magic AI.”\nThe internet pile-on arrived swiftly as consumers decried the commercials as uncanny valleyesque perversions of the company’s classic ads.",
          "Why holiday events?",
          "“The Coca-Cola Company has celebrated a long history of capturing the magic of the holidays in content, film, events and retail activations for decades around the globe,” a spokesman for the company said in a statement provided to The New York Times.",
          "But, most importantly: \"Coca Cola is banned from Ba Sing Se.\"",
          "\"Coca-Cola's New AI-Generated Holiday Ad Slammed as 'Soulless' and 'Embarrassing': 'This Is Such Slop'\".",
          "“The brief was, we want to bring Holidays Are Coming into the present and then we explored AI as a solution to that.”\nIt's safe to say that a lot of people on the internet would've preferred Coca-Cola modernizing the ad in another way, however.",
          "“We keep our roots in our heritage and what Coke is all about as a brand, but then connect the dots with the future and technology,” Mr. Thakar told Ad Age.",
          "“So we challenged ourselves to explore the concept of what a Coke from the future might taste like.”\nAlex Vadukul is a features writer for the Styles section of The Times, specializing in stories about New York City.",
          "This year, we crafted films through a collaboration of human storytellers and the power of generative AI.",
          "Toys “R” Us provoked controversy with an AI-generated ad in April last year.",
          "But Coca-Cola, which is a major force in advertising, appears to be pushing headlong into A.I.",
          "Coca-Cola is not the first legacy brand to draw backlash for using generative A.I.",
          "One of the season’s stalwarts, however, is feeling a little less cozy for some people: Coca-Cola, known for its nostalgia-filled holiday commercials, is facing backlash for creating this year’s ads with generative artificial intelligence.",
          "But if something feels a little off, it's because it was Coca-Cola's first ad to be fully generated by artificial intelligence.",
          "Coca-Cola is facing backlash online over an artificial intelligence-made Christmas promotional video that users are calling “soulless” and “devoid of any actual creativity.”\nThe AI-made video features everything from big red Coca-Cola trucks driving through snowy streets to people smiling in scarves and knitted hats holding Coca-Cola bottles.",
          "[20] In response to the negative feedback, the company defended their decision to use generative artificial intelligence stating that \"Coca-Cola will always remain dedicated to creating the highest level of work at the intersection of human creativity and technology\".",
          "When it comes to famous Christmas commercials, there aren't too many that are more iconic and nostalgic than Coca-Cola's 1995 \"Holidays Are Coming\" spot.",
          "Pratik Thakar, a vice president of Coca-Cola and the company’s global head of generative A.I., discussed the project in a recent interview with Ad Age, which previewed a screening of one of the spots at its Emerging Tech Summit last week.",
          "“Coca-Cola just put out an ad and ruined Christmas,” Dylan Pearce, one of the campaign’s many critics, said on TikTok, adding, “To put out slop like this just ruins the Christmas spirit.”\n“This is legit heartbreaking,” another user, De’Vion Hinton, posted on X.",
          "This isn’t the first time that Coca-Cola has used AI technology in its marketing strategies and programs.",
          "Neeraj Arora, the chair of marketing research and education at the University of Wisconsin-Madison, said the reason why the company faced backlash for this specific advertisement, and not for “Masterpiece” last year, could be because many consumers recognize Christmas as an integral part of the company’s brand, and AI technology acts as a disruption.",
          null
         ],
         "marker": {
          "opacity": 0.5,
          "size": 5
         },
         "mode": "markers+text",
         "name": "Coca-Cola AI Holiday Campaign Backlash",
         "text": [
          "",
          "",
          "",
          "",
          "",
          "",
          "",
          "",
          "",
          "",
          "",
          "",
          "",
          "",
          "",
          "",
          "",
          "",
          "",
          "",
          "",
          "",
          "",
          "",
          "",
          "",
          "",
          "",
          "",
          "",
          "",
          "",
          "",
          "",
          "",
          "",
          "",
          "",
          "",
          "",
          "",
          "",
          "",
          "",
          "",
          "",
          "",
          "",
          "",
          "",
          "",
          "",
          "",
          "",
          "",
          "",
          "",
          "",
          "",
          "",
          "",
          "Coca-Cola AI Holiday Campaign Backlash"
         ],
         "textfont": {
          "size": 12
         },
         "type": "scattergl",
         "x": {
          "bdata": "GDsrPxe0ij/YMxM/kvccP/7w+j4Zc5U/gzNNPyEkPT92bCM/jHw4P278lT9gmkE/62xaP6hWUj+11FI/tLQ0P+UHVj92WJ8//xkHPzyvGD8In0g/1sMsP969ZT/Gwk0/9nJSPwLJTz/RcBY/WSI1PwlPkD/41jE/BLhRP2sdGD9Ro1I/orpCPwaoIT+gVD4/7ExZP6p7TD879j4/xn5ZP7IUOz+5LK6/IrwcP2QlQz892z4/UNspP/cfTz8UW1M/7shmP2KJPz/nMlI/zlMtP31gMT8Q9Uc/dYU9P74vWj9s7hY/mrdTPxxLST/SY00/piMrP10CPT8=",
          "dtype": "f4"
         },
         "y": {
          "bdata": "E/49QW9CO0FeGkBBcTZBQXBgQEECdjpBXRVDQZQjPUGIrEBBozA9QbVVOkGPZj5BRpNCQfe/REGjjkNBXR49QZFIQEHe3zpBoq1AQenbPkH4cjxB/0A+Qc8sQ0E/uD5BdWVDQTqTQ0HiqkBBOJk9QWkxO0G5ND5BvGM/QTzEP0HbtT5BmFFBQcmXPEHQ9UBBefJCQZsyQkGOTEFBfX9DQYv3PUE727VAO4pAQcWgP0H4Sj5B9Fk/QQMCQ0H+RENBTUFCQSTzPEHZMkRB50pBQQCTPkGfpEFBsfU9QbzBQUHPOkBB2e5DQQEDPkG/pkNBP389QTNCPkE=",
          "dtype": "f4"
         }
        },
        {
         "hoverinfo": "text",
         "hovertext": [
          "Retrieved 24 March 2025.",
          "Retrieved 24 March 2025.",
          "Retrieved 24 April 2025.",
          "Retrieved 24 April 2025.",
          "Retrieved 3 January 2025.",
          "Retrieved 4 November 2024.",
          "Retrieved 31 March 2025.",
          "Retrieved 26 February 2025.",
          "Retrieved 24 March 2025.",
          "Retrieved 31 March 2025.",
          "Retrieved 24 March 2025.",
          "Retrieved 29 September 2024.",
          "Retrieved 4 November 2024.",
          "Retrieved 5 January 2025.",
          "Retrieved 23 March 2025.",
          "Retrieved 23 March 2025.",
          "Retrieved 29 September 2024.",
          "Retrieved 29 September 2024.",
          "Retrieved 6 October 2024.",
          "Retrieved 1 November 2024.",
          "Retrieved 6 February 2025.",
          "Retrieved 29 September 2024.",
          "Retrieved 31 March 2025.",
          "Retrieved 9 May 2025.",
          "Retrieved 5 January 2025.",
          "Retrieved 1 November 2024.",
          "Retrieved 3 November 2024.",
          "Retrieved 29 September 2024.",
          "Retrieved 27 March 2025.",
          "Retrieved 25 April 2025.",
          "Retrieved 28 September 2024.",
          "Retrieved 9 May 2025.",
          "Retrieved 5 January 2025.",
          "Retrieved 26 February 2025.",
          "Retrieved 4 October 2024.",
          "Retrieved 4 October 2024.",
          "Retrieved 26 February 2025.",
          "Related topics\n- Published1 November 2024",
          "Retrieved 24 March 2025.",
          "Retrieved 28 September 2024.",
          "Retrieved 14 November 2024.",
          "Retrieved 15 October 2024.",
          "Retrieved 24 March 2025.",
          "Retrieved 27 March 2025.",
          "Retrieved 24 March 2025.",
          "Retrieved 28 September 2024.",
          "Retrieved 24 March 2025.",
          "Retrieved 9 May 2025.",
          "Retrieved 15 October 2024.",
          "Retrieved 24 March 2025.",
          null
         ],
         "marker": {
          "opacity": 0.5,
          "size": 5
         },
         "mode": "markers+text",
         "name": "2024-2025 Monthly Dates",
         "text": [
          "",
          "",
          "",
          "",
          "",
          "",
          "",
          "",
          "",
          "",
          "",
          "",
          "",
          "",
          "",
          "",
          "",
          "",
          "",
          "",
          "",
          "",
          "",
          "",
          "",
          "",
          "",
          "",
          "",
          "",
          "",
          "",
          "",
          "",
          "",
          "",
          "",
          "",
          "",
          "",
          "",
          "",
          "",
          "",
          "",
          "",
          "",
          "",
          "",
          "",
          "2024-2025 Monthly Dates"
         ],
         "textfont": {
          "size": 12
         },
         "type": "scattergl",
         "x": {
          "bdata": "VLKWQcLAlkEX9ZVBPfCVQSwrlEHCyFdB4LyWQVJakUH0x5ZBhbuWQS+7lkEURZBBEuNXQbsflEGGzJZB6ceWQRpFkEEgRZBBljVYQSPRV0ELWJFBGEWQQbu7lkEAMpRBqR+UQdXdV0Enw1dBGUWQQV2clkHi9pVBDUWQQfQxlEGkH5RB0VyRQWRbWEF4RFhB71uRQZO7V0GuppZB+USQQbvVV0F3gFhB4MGWQSOIlkG7yJZBCEWQQa6ZlkExK5RBq5NYQbCmlkFzmopB",
          "dtype": "f4"
         },
         "y": {
          "bdata": "cXoBQbpfAUF7xf5A6ML+QDSP8kDN8yI/9pUBQQv06kD2XgFBjpkBQQVYAUGTSKtACWwkPzBA8kBIWwFBXnkBQZxIq0BqSatA9GgpP9ZxIz+y6OpAaEmrQHGcAUGOnvJA+D/yQOgwJD+ndiI/fkmrQJkzAUGNtf5AT0mrQEme8kBXQPJA6/7qQA+8Kz+hTio/IfvqQALUIj98nQFBhUarQAuxIz9V/y0/Q4gBQaBQAUHmWgFB2kerQBfkAUEGbfJAyjYvP1ObAUF9TrdA",
          "dtype": "f4"
         }
        },
        {
         "hoverinfo": "text",
         "hovertext": [
          "Eurogamer.net.",
          "BBC News.",
          "The Atlantic.",
          "Eurogamer.net.",
          "Eurogamer.net.",
          "IrishCentral.com.",
          "Kotaku.",
          "The Atlantic.",
          "Washington Post.",
          "Vanity Fair.",
          "Victor Mather, who has been a reporter and editor at The Times for 25 years, covers sports and breaking news.",
          "AV Club.",
          "Yahoo News.",
          "Gizmodo.",
          "Claire Moses is a Times reporter in London, focused on coverage of breaking and trending news.",
          "The Verge.",
          "News 10 ABC.",
          "Around the World With The Times\nOur reporters across the globe take you into the field.",
          "The Guardian.",
          "The Guardian.",
          "Eurogamer.net.",
          "MobileSyrup.",
          "The Conversation.",
          "Raconteur.",
          "The Register.",
          "NBC News.",
          "Shadow Magazine.",
          "The New York Times.",
          "The New York Times.",
          "The New York Times.",
          "The New York Times.",
          "Heise Online (in German).",
          "Creative Bloq.",
          "This article was featured in One Great Story, New York’s reading recommendation newsletter.",
          "TweakTown.",
          "The Telegraph.",
          "Business Insider.",
          "The Independent.",
          "ISSN 1059-1028.",
          "Intelligencer.",
          "GamingonPhone.",
          "The Atlantic.",
          "Wired.",
          null
         ],
         "marker": {
          "opacity": 0.5,
          "size": 5
         },
         "mode": "markers+text",
         "name": "Major News and Media Outlets",
         "text": [
          "",
          "",
          "",
          "",
          "",
          "",
          "",
          "",
          "",
          "",
          "",
          "",
          "",
          "",
          "",
          "",
          "",
          "",
          "",
          "",
          "",
          "",
          "",
          "",
          "",
          "",
          "",
          "",
          "",
          "",
          "",
          "",
          "",
          "",
          "",
          "",
          "",
          "",
          "",
          "",
          "",
          "",
          "",
          "Major News and Media Outlets"
         ],
         "textfont": {
          "size": 12
         },
         "type": "scattergl",
         "x": {
          "bdata": "Jtv1v59eyb/tL7W/tyT4vzpd9r9AB6q/LN72v7vTtb/GUbC/LtWovxlPrb8lgdy/7bS7v7DL6L/M76y/JV3jvxRMsb9el6y/AQ7Hv0W2xL+wZ/a/HProv0zqw7/T8bm/u+fKv1X3ub+4U62/ib2uv/w/sr/acqy/F1ezv/4/6r+lwt2/DT2Ov2hj6b9MH8W/ZdzDvxGrur9Is6y/CljFvy028b+THbS//dDmvxm9x78=",
          "dtype": "f4"
         },
         "y": {
          "bdata": "K1UTQaUyEEEeuwxBFaATQfVrE0GK4QtBzGwTQaGwDEEcNw1BYVsKQT85DUHbaBBBE20OQRP5EUGHOQ1BokcRQTFYDUE0Dg1BOWcPQX0vD0HhaRNBCycSQbSRDkFPfQ9BEbUPQXkzDkGX/wtBpOYMQfORDUEuvQxBtJsNQbQ2EkE18BBB1XUNQUPDEUH2Vw9BkE0PQSRGDkFKgQxB2HkPQbWTE0FIcQxBSLoQQTM6D0E=",
          "dtype": "f4"
         }
        },
        {
         "hoverinfo": "text",
         "hovertext": [
          "A low-quality AI poster was used for the 1922 film Nosferatu, depicting Count Orlok in a way that does not resemble his look in the film.",
          "- ^ \"Shudder Just Quietly Released the Most Controversial Thriller of the Year\".",
          "Nonetheless, if major studios are willing to push out content at the expense of quality and creativity - it raises the question of how much further they'd be willing to go.",
          "It drains any creative spark, making the movie feel cheap and uninspired.",
          "Hipster movie production company A24, meanwhile, was called out for using AI to create promotional posters for Alex Garland’s dystopian film Civil War.",
          "\"[53]\nIn one case Deutsche Telekom removed a series from their media offer after viewers complained about the bad quality and monotonous German voice dubbing (translated from original Polish) and it was found out that it was done via AI.",
          "A24 received similar backlash for releasing a series of AI-generated posters for the 2024 film Civil War.",
          "While budgets for film and marketing campaigns are complex, it is difficult to justify a corporation of this scale opting for AI-generated narration over human talent.",
          "- ^ \"Late Night with the Devil: The Horror Film with Horrifying Implications\".",
          "In the most recent season of True Detective, a heavy-metal poster in the background of one scene was obviously and cheaply AI-generated.",
          "\"Surely they could’ve afforded to hire actors/designers/editors/etc.",
          "- ^ \"Amazon's Prime Video Appears to Have Left AI Slop in the Public Description of an Oscar-Winning Al Pacino Film\".",
          "The film Late Night with the Devil was notable for its use of AI, which some criticized as being AI slop.",
          "In film and television\n[edit]Some films have received backlash for including AI-generated content.",
          "One synopsis briefly listed on the site for the film Dog Day Afternoon read: \"A man takes hostages at a bank in Brooklyn.",
          "\"A24's lacklustre Civil War ads are the latest example of AI-generated slop\".",
          "[49]\nSome streaming services such as Amazon Prime Video have used AI to generate posters and thumbnail images in a manner that can be described as slop.",
          "In a recent Instagram post, users sighted a reel promoting the film that blatantly utilizes AI scripting and narration - a content style that's lazy enough from spam accounts and content farms, let alone a major film production company.",
          "[50] A thumbnail image for 12 Angry Men on Amazon Freevee used AI to depict 19 men with smudged faces, none of whom appeared to bear any similarities to the characters in the film.",
          "For context, Paramount Global is a company valued at $13.6 billion.",
          "[51][52] Additionally, some viewers have noticed that many plot descriptions appear to be generated by AI, which some people have characterized as slop.",
          "[21]\nIn March 2025, Paramount Pictures was criticized for using AI scripting and narration in an Instagram video promoting the film Novocaine.",
          "Paramount Pictures appears to be experimenting with cheap AI-generated content based on its promotion for the film Novocaine, an action-thriller starring Jack Quaid set to release on Friday.",
          "Here’s a taste of the AI-generated script: “I had to say, ‘There is a man who lives here.",
          "One poster appears to depict a group of soldiers in a tank-like raft preparing to fire on a large swan, an image which does not resemble the events of the film.",
          "- ^ \"Paramount skips voice actors, opting for shockingly bad AI slop in 'Novocaine' film promo\".",
          "The most jarring aspect of this promotion is the voiceover.",
          "The script itself feels stilted and detached, raising the obvious question: why wouldn't Paramount just hire a voice actor?",
          "- ^ \"Amazon Mocked for Slapping AI-Generated Poster on Beloved 1922 Film \"Nosferatu\"\".",
          "- ^ \"The mystery of Amazon Freevee's A.I.-generated 12 Angry Men poster\".",
          "- ^ \"'Murderesses': MagentaTV entfernt Serie mit KI-Synchronisation\".",
          "(The showrunner insisted the poster was diegetically AI-generated.)",
          "[22] The ad uses a robotic AI voice in a style similar to low-quality AI spam videos produced by content farms.",
          "The irony is that AI-generated marketing is a terrible strategy for a film release.",
          null
         ],
         "marker": {
          "opacity": 0.5,
          "size": 5
         },
         "mode": "markers+text",
         "name": "AI-Generated Film Promotion Controversy",
         "text": [
          "",
          "",
          "",
          "",
          "",
          "",
          "",
          "",
          "",
          "",
          "",
          "",
          "",
          "",
          "",
          "",
          "",
          "",
          "",
          "",
          "",
          "",
          "",
          "",
          "",
          "",
          "",
          "",
          "",
          "",
          "",
          "",
          "",
          "",
          "AI-Generated Film Promotion Controversy"
         ],
         "textfont": {
          "size": 12
         },
         "type": "scattergl",
         "x": {
          "bdata": "8xkIQIAwBkD6GwJA8g/7P9o4AkBR1QhAKBcDQKqs+z9m6wVAebsGQDbm7z+n7wVA42oGQEPoB0CjUARAfwT/P4xjCEDvQf0/M28IQBQX/D/glwhAYKUAQNbv/D/LaANA5ncEQKAB+z/p7fQ/f4v1Px85B0BgTgdAW/QGQNSHB0DljQFAA9j6P//kAkA=",
          "dtype": "f4"
         },
         "y": {
          "bdata": "94ExQZ6RMEFrkyxBuJotQfjDL0ENyS9BaecvQV3GLEGZTjBB2mUxQYIkLUG6XDBB9FIwQbtPMEH9DDBBBZ4uQYwBMUF9OS1BcOsxQeDBLEHxzTBBbKMtQf43LUFy7CZBeyYwQY8hLUEdRStBzjUtQbrzMEEBADFB/SIwQfUqMUH8vShBuUktQU/ALkE=",
          "dtype": "f4"
         }
        },
        {
         "hoverinfo": "text",
         "hovertext": [
          "- ^ Tang, Jiaru; Wikström, Patrik (19 September 2024).",
          "- ^ Nightingale, Ed Nightingale (Deputy News) (2 January 2024).",
          "- ^ Vadukul, Alex (20 November 2024).",
          "- ^ Parrish, Ash (16 January 2024).",
          "- ^ Stedman, Alex (16 November 2024).",
          "- ^ Kalita, Parash Jyoti (1 November 2024).",
          "- ^ Phillips, Tom (4 March 2025).",
          "- ^ Gault, Matthew (7 August 2024).",
          "- ^ Yin-Poole, Wesley (24 July 2024).",
          "- ^ Warzel, Charlie (10 October 2024).",
          "- ^ Warzel, Charlie (21 August 2024).",
          "- ^ O'Shea, Kerry (31 October 2024).",
          "- ^ Warzel, Charlie (21 October 2024).",
          "- ^ Currie, Richard (28 February 2024).",
          "- ^ Notopoulos, Katie.",
          "- ^ Hüsmen, Arife (November 2024).",
          "- ^ Maker, Paul (9 January 2025).",
          "- ^ Fleck, Holly (2 November 2024).",
          "- ^ Yin-Poole, Wesley (9 December 2024).",
          "- ^ Robins-Early, Nick (26 August 2024).",
          "- ^ Knibbs, Kate.",
          "- ^ Bankhurst, Adam (1 January 2024).",
          "- ^ Maiberg, Emanuel (4 February 2025).",
          "- ^ Hughes, Johnny (3 September 2024).",
          "- ^ Davis, Barney (1 November 2024).",
          "- ^ John, Daniel (12 June 2024).",
          "- ^ a b c d e Read, Max (25 September 2024).",
          "- ^ a b Koebler, Jason (6 August 2024).",
          "- ^ a b Field, Matthew (1 January 2025).",
          "- ^ Shankar, Bradly (18 April 2024).",
          "- ^ Koebler, Jason (8 October 2024).",
          "- ^ Phillips, Tom (3 March 2025).",
          "- ^ Murphy, Chris (29 February 2024).",
          null
         ],
         "marker": {
          "opacity": 0.5,
          "size": 5
         },
         "mode": "markers+text",
         "name": "2024 Monthly Timeline and Personalities",
         "text": [
          "",
          "",
          "",
          "",
          "",
          "",
          "",
          "",
          "",
          "",
          "",
          "",
          "",
          "",
          "",
          "",
          "",
          "",
          "",
          "",
          "",
          "",
          "",
          "",
          "",
          "",
          "",
          "",
          "",
          "",
          "",
          "",
          "",
          "2024 Monthly Timeline and Personalities"
         ],
         "textfont": {
          "size": 12
         },
         "type": "scattergl",
         "x": {
          "bdata": "9WsOQH4KEkCblA5AFMIQQLmWEEALuw1AXFARQO5yEUBZFBZAW6ETQB55FEDiQQ9AGZkTQE0UEEAK/BNAZFcPQFcOFEB6VxFA3AAUQFQMEkAaDxNA84sSQEdiFECRvA9A1FgPQCDtD0BxABFApVAUQAEIE0A0FA9A/7QVQDULEUCtjQ9AmK4RQA==",
          "dtype": "f4"
         },
         "y": {
          "bdata": "s4HUPwtQ3D+FpNQ/0mzYP6jg2D+mb9M/D5HZP9Gs2T9Dm+c/iLrhP3M94j+819Y/uingP6hB1z/c+OM/mGDWPyVD2z+wL9o/4MziPwD/3T/dY+Q/QUfaP30h4D/6Itk/JazVPx0r1z8Oedg/6AriP+ym2j/7qtU/BvvkP90u2T92NdY/yYLbPw==",
          "dtype": "f4"
         }
        },
        {
         "hoverinfo": "text",
         "hovertext": [
          "Please send an email to newstips@ign.com.",
          "When she's not writing or editing, you can find her reading fantasy novels or playing Dungeons & Dragons.",
          "IGN has asked Activision for comment.",
          "You can follow him on Twitter @AdamBankhurst and on Twitch.",
          "Adam Bankhurst is a news writer for IGN.",
          "IGN.",
          "Ryan Dinsdale is an IGN freelance reporter.",
          "Wesley is the UK News Editor for IGN.",
          "Find him on Twitter at @wyp100.",
          "IGN has asked Activision for comment.",
          "IGN.",
          "Alex Stedman is a Senior News Editor with IGN, overseeing entertainment reporting.",
          "You can reach Wesley at wesley_yinpoole@ign.com or confidentially at wyp100@proton.me.",
          "IGN.",
          "IGN.",
          "Inverse.",
          "IGN.",
          "@deepfates\nis now @_deepfates.",
          "You can reach Wesley at wesley_yinpoole@ign.com or confidentially at wyp100@proton.me.",
          "VF investigates.",
          "Find him on Twitter at @wyp100.",
          null
         ],
         "marker": {
          "opacity": 0.5,
          "size": 5
         },
         "mode": "markers+text",
         "name": "IGN News and Editorial Reporting",
         "text": [
          "",
          "",
          "",
          "",
          "",
          "",
          "",
          "",
          "",
          "",
          "",
          "",
          "",
          "",
          "",
          "",
          "",
          "",
          "",
          "",
          "",
          "IGN News and Editorial Reporting"
         ],
         "textfont": {
          "size": 12
         },
         "type": "scattergl",
         "x": {
          "bdata": "CuLcP/jC4D8F+8u/+M/fPwlx4T8uL8y/m+rgPztC5D9zH+U/wPbLvyqaz79IjuE/9I7hP/KHyr80Mcy/sVXNv6K5y78lnOQ/MK7kP8/Oub+em+I/WLGpPg==",
          "dtype": "f4"
         },
         "y": {
          "bdata": "afd/QMSud0Cgiv9AS4J5QAHNd0C/fv9Aat53QGmed0C90HtAm5X/QJ6u/kBT4ndAOcR6QNL4/0CUl/9Anqj/QPiv/0AyrHlAyWh8QPkRA0FBU3pAHj21QA==",
          "dtype": "f4"
         }
        }
       ],
       "layout": {
        "annotations": [
         {
          "showarrow": false,
          "text": "D1",
          "x": -2.5700900316238404,
          "y": 7.068087023496628,
          "yshift": 10
         },
         {
          "showarrow": false,
          "text": "D2",
          "x": 9.553627336025237,
          "xshift": 10,
          "y": 16.70961813926697
         }
        ],
        "height": 750,
        "shapes": [
         {
          "line": {
           "color": "#CFD8DC",
           "width": 2
          },
          "type": "line",
          "x0": 9.553627336025237,
          "x1": 9.553627336025237,
          "y0": -2.573444092273712,
          "y1": 16.70961813926697
         },
         {
          "line": {
           "color": "#9E9E9E",
           "width": 2
          },
          "type": "line",
          "x0": -2.5700900316238404,
          "x1": 21.677344703674315,
          "y0": 7.068087023496628,
          "y1": 7.068087023496628
         }
        ],
        "template": {
         "data": {
          "bar": [
           {
            "error_x": {
             "color": "rgb(36,36,36)"
            },
            "error_y": {
             "color": "rgb(36,36,36)"
            },
            "marker": {
             "line": {
              "color": "white",
              "width": 0.5
             },
             "pattern": {
              "fillmode": "overlay",
              "size": 10,
              "solidity": 0.2
             }
            },
            "type": "bar"
           }
          ],
          "barpolar": [
           {
            "marker": {
             "line": {
              "color": "white",
              "width": 0.5
             },
             "pattern": {
              "fillmode": "overlay",
              "size": 10,
              "solidity": 0.2
             }
            },
            "type": "barpolar"
           }
          ],
          "carpet": [
           {
            "aaxis": {
             "endlinecolor": "rgb(36,36,36)",
             "gridcolor": "white",
             "linecolor": "white",
             "minorgridcolor": "white",
             "startlinecolor": "rgb(36,36,36)"
            },
            "baxis": {
             "endlinecolor": "rgb(36,36,36)",
             "gridcolor": "white",
             "linecolor": "white",
             "minorgridcolor": "white",
             "startlinecolor": "rgb(36,36,36)"
            },
            "type": "carpet"
           }
          ],
          "choropleth": [
           {
            "colorbar": {
             "outlinewidth": 1,
             "tickcolor": "rgb(36,36,36)",
             "ticks": "outside"
            },
            "type": "choropleth"
           }
          ],
          "contour": [
           {
            "colorbar": {
             "outlinewidth": 1,
             "tickcolor": "rgb(36,36,36)",
             "ticks": "outside"
            },
            "colorscale": [
             [
              0,
              "#440154"
             ],
             [
              0.1111111111111111,
              "#482878"
             ],
             [
              0.2222222222222222,
              "#3e4989"
             ],
             [
              0.3333333333333333,
              "#31688e"
             ],
             [
              0.4444444444444444,
              "#26828e"
             ],
             [
              0.5555555555555556,
              "#1f9e89"
             ],
             [
              0.6666666666666666,
              "#35b779"
             ],
             [
              0.7777777777777778,
              "#6ece58"
             ],
             [
              0.8888888888888888,
              "#b5de2b"
             ],
             [
              1,
              "#fde725"
             ]
            ],
            "type": "contour"
           }
          ],
          "contourcarpet": [
           {
            "colorbar": {
             "outlinewidth": 1,
             "tickcolor": "rgb(36,36,36)",
             "ticks": "outside"
            },
            "type": "contourcarpet"
           }
          ],
          "heatmap": [
           {
            "colorbar": {
             "outlinewidth": 1,
             "tickcolor": "rgb(36,36,36)",
             "ticks": "outside"
            },
            "colorscale": [
             [
              0,
              "#440154"
             ],
             [
              0.1111111111111111,
              "#482878"
             ],
             [
              0.2222222222222222,
              "#3e4989"
             ],
             [
              0.3333333333333333,
              "#31688e"
             ],
             [
              0.4444444444444444,
              "#26828e"
             ],
             [
              0.5555555555555556,
              "#1f9e89"
             ],
             [
              0.6666666666666666,
              "#35b779"
             ],
             [
              0.7777777777777778,
              "#6ece58"
             ],
             [
              0.8888888888888888,
              "#b5de2b"
             ],
             [
              1,
              "#fde725"
             ]
            ],
            "type": "heatmap"
           }
          ],
          "histogram": [
           {
            "marker": {
             "line": {
              "color": "white",
              "width": 0.6
             }
            },
            "type": "histogram"
           }
          ],
          "histogram2d": [
           {
            "colorbar": {
             "outlinewidth": 1,
             "tickcolor": "rgb(36,36,36)",
             "ticks": "outside"
            },
            "colorscale": [
             [
              0,
              "#440154"
             ],
             [
              0.1111111111111111,
              "#482878"
             ],
             [
              0.2222222222222222,
              "#3e4989"
             ],
             [
              0.3333333333333333,
              "#31688e"
             ],
             [
              0.4444444444444444,
              "#26828e"
             ],
             [
              0.5555555555555556,
              "#1f9e89"
             ],
             [
              0.6666666666666666,
              "#35b779"
             ],
             [
              0.7777777777777778,
              "#6ece58"
             ],
             [
              0.8888888888888888,
              "#b5de2b"
             ],
             [
              1,
              "#fde725"
             ]
            ],
            "type": "histogram2d"
           }
          ],
          "histogram2dcontour": [
           {
            "colorbar": {
             "outlinewidth": 1,
             "tickcolor": "rgb(36,36,36)",
             "ticks": "outside"
            },
            "colorscale": [
             [
              0,
              "#440154"
             ],
             [
              0.1111111111111111,
              "#482878"
             ],
             [
              0.2222222222222222,
              "#3e4989"
             ],
             [
              0.3333333333333333,
              "#31688e"
             ],
             [
              0.4444444444444444,
              "#26828e"
             ],
             [
              0.5555555555555556,
              "#1f9e89"
             ],
             [
              0.6666666666666666,
              "#35b779"
             ],
             [
              0.7777777777777778,
              "#6ece58"
             ],
             [
              0.8888888888888888,
              "#b5de2b"
             ],
             [
              1,
              "#fde725"
             ]
            ],
            "type": "histogram2dcontour"
           }
          ],
          "mesh3d": [
           {
            "colorbar": {
             "outlinewidth": 1,
             "tickcolor": "rgb(36,36,36)",
             "ticks": "outside"
            },
            "type": "mesh3d"
           }
          ],
          "parcoords": [
           {
            "line": {
             "colorbar": {
              "outlinewidth": 1,
              "tickcolor": "rgb(36,36,36)",
              "ticks": "outside"
             }
            },
            "type": "parcoords"
           }
          ],
          "pie": [
           {
            "automargin": true,
            "type": "pie"
           }
          ],
          "scatter": [
           {
            "fillpattern": {
             "fillmode": "overlay",
             "size": 10,
             "solidity": 0.2
            },
            "type": "scatter"
           }
          ],
          "scatter3d": [
           {
            "line": {
             "colorbar": {
              "outlinewidth": 1,
              "tickcolor": "rgb(36,36,36)",
              "ticks": "outside"
             }
            },
            "marker": {
             "colorbar": {
              "outlinewidth": 1,
              "tickcolor": "rgb(36,36,36)",
              "ticks": "outside"
             }
            },
            "type": "scatter3d"
           }
          ],
          "scattercarpet": [
           {
            "marker": {
             "colorbar": {
              "outlinewidth": 1,
              "tickcolor": "rgb(36,36,36)",
              "ticks": "outside"
             }
            },
            "type": "scattercarpet"
           }
          ],
          "scattergeo": [
           {
            "marker": {
             "colorbar": {
              "outlinewidth": 1,
              "tickcolor": "rgb(36,36,36)",
              "ticks": "outside"
             }
            },
            "type": "scattergeo"
           }
          ],
          "scattergl": [
           {
            "marker": {
             "colorbar": {
              "outlinewidth": 1,
              "tickcolor": "rgb(36,36,36)",
              "ticks": "outside"
             }
            },
            "type": "scattergl"
           }
          ],
          "scattermap": [
           {
            "marker": {
             "colorbar": {
              "outlinewidth": 1,
              "tickcolor": "rgb(36,36,36)",
              "ticks": "outside"
             }
            },
            "type": "scattermap"
           }
          ],
          "scattermapbox": [
           {
            "marker": {
             "colorbar": {
              "outlinewidth": 1,
              "tickcolor": "rgb(36,36,36)",
              "ticks": "outside"
             }
            },
            "type": "scattermapbox"
           }
          ],
          "scatterpolar": [
           {
            "marker": {
             "colorbar": {
              "outlinewidth": 1,
              "tickcolor": "rgb(36,36,36)",
              "ticks": "outside"
             }
            },
            "type": "scatterpolar"
           }
          ],
          "scatterpolargl": [
           {
            "marker": {
             "colorbar": {
              "outlinewidth": 1,
              "tickcolor": "rgb(36,36,36)",
              "ticks": "outside"
             }
            },
            "type": "scatterpolargl"
           }
          ],
          "scatterternary": [
           {
            "marker": {
             "colorbar": {
              "outlinewidth": 1,
              "tickcolor": "rgb(36,36,36)",
              "ticks": "outside"
             }
            },
            "type": "scatterternary"
           }
          ],
          "surface": [
           {
            "colorbar": {
             "outlinewidth": 1,
             "tickcolor": "rgb(36,36,36)",
             "ticks": "outside"
            },
            "colorscale": [
             [
              0,
              "#440154"
             ],
             [
              0.1111111111111111,
              "#482878"
             ],
             [
              0.2222222222222222,
              "#3e4989"
             ],
             [
              0.3333333333333333,
              "#31688e"
             ],
             [
              0.4444444444444444,
              "#26828e"
             ],
             [
              0.5555555555555556,
              "#1f9e89"
             ],
             [
              0.6666666666666666,
              "#35b779"
             ],
             [
              0.7777777777777778,
              "#6ece58"
             ],
             [
              0.8888888888888888,
              "#b5de2b"
             ],
             [
              1,
              "#fde725"
             ]
            ],
            "type": "surface"
           }
          ],
          "table": [
           {
            "cells": {
             "fill": {
              "color": "rgb(237,237,237)"
             },
             "line": {
              "color": "white"
             }
            },
            "header": {
             "fill": {
              "color": "rgb(217,217,217)"
             },
             "line": {
              "color": "white"
             }
            },
            "type": "table"
           }
          ]
         },
         "layout": {
          "annotationdefaults": {
           "arrowhead": 0,
           "arrowwidth": 1
          },
          "autotypenumbers": "strict",
          "coloraxis": {
           "colorbar": {
            "outlinewidth": 1,
            "tickcolor": "rgb(36,36,36)",
            "ticks": "outside"
           }
          },
          "colorscale": {
           "diverging": [
            [
             0,
             "rgb(103,0,31)"
            ],
            [
             0.1,
             "rgb(178,24,43)"
            ],
            [
             0.2,
             "rgb(214,96,77)"
            ],
            [
             0.3,
             "rgb(244,165,130)"
            ],
            [
             0.4,
             "rgb(253,219,199)"
            ],
            [
             0.5,
             "rgb(247,247,247)"
            ],
            [
             0.6,
             "rgb(209,229,240)"
            ],
            [
             0.7,
             "rgb(146,197,222)"
            ],
            [
             0.8,
             "rgb(67,147,195)"
            ],
            [
             0.9,
             "rgb(33,102,172)"
            ],
            [
             1,
             "rgb(5,48,97)"
            ]
           ],
           "sequential": [
            [
             0,
             "#440154"
            ],
            [
             0.1111111111111111,
             "#482878"
            ],
            [
             0.2222222222222222,
             "#3e4989"
            ],
            [
             0.3333333333333333,
             "#31688e"
            ],
            [
             0.4444444444444444,
             "#26828e"
            ],
            [
             0.5555555555555556,
             "#1f9e89"
            ],
            [
             0.6666666666666666,
             "#35b779"
            ],
            [
             0.7777777777777778,
             "#6ece58"
            ],
            [
             0.8888888888888888,
             "#b5de2b"
            ],
            [
             1,
             "#fde725"
            ]
           ],
           "sequentialminus": [
            [
             0,
             "#440154"
            ],
            [
             0.1111111111111111,
             "#482878"
            ],
            [
             0.2222222222222222,
             "#3e4989"
            ],
            [
             0.3333333333333333,
             "#31688e"
            ],
            [
             0.4444444444444444,
             "#26828e"
            ],
            [
             0.5555555555555556,
             "#1f9e89"
            ],
            [
             0.6666666666666666,
             "#35b779"
            ],
            [
             0.7777777777777778,
             "#6ece58"
            ],
            [
             0.8888888888888888,
             "#b5de2b"
            ],
            [
             1,
             "#fde725"
            ]
           ]
          },
          "colorway": [
           "#1F77B4",
           "#FF7F0E",
           "#2CA02C",
           "#D62728",
           "#9467BD",
           "#8C564B",
           "#E377C2",
           "#7F7F7F",
           "#BCBD22",
           "#17BECF"
          ],
          "font": {
           "color": "rgb(36,36,36)"
          },
          "geo": {
           "bgcolor": "white",
           "lakecolor": "white",
           "landcolor": "white",
           "showlakes": true,
           "showland": true,
           "subunitcolor": "white"
          },
          "hoverlabel": {
           "align": "left"
          },
          "hovermode": "closest",
          "mapbox": {
           "style": "light"
          },
          "paper_bgcolor": "white",
          "plot_bgcolor": "white",
          "polar": {
           "angularaxis": {
            "gridcolor": "rgb(232,232,232)",
            "linecolor": "rgb(36,36,36)",
            "showgrid": false,
            "showline": true,
            "ticks": "outside"
           },
           "bgcolor": "white",
           "radialaxis": {
            "gridcolor": "rgb(232,232,232)",
            "linecolor": "rgb(36,36,36)",
            "showgrid": false,
            "showline": true,
            "ticks": "outside"
           }
          },
          "scene": {
           "xaxis": {
            "backgroundcolor": "white",
            "gridcolor": "rgb(232,232,232)",
            "gridwidth": 2,
            "linecolor": "rgb(36,36,36)",
            "showbackground": true,
            "showgrid": false,
            "showline": true,
            "ticks": "outside",
            "zeroline": false,
            "zerolinecolor": "rgb(36,36,36)"
           },
           "yaxis": {
            "backgroundcolor": "white",
            "gridcolor": "rgb(232,232,232)",
            "gridwidth": 2,
            "linecolor": "rgb(36,36,36)",
            "showbackground": true,
            "showgrid": false,
            "showline": true,
            "ticks": "outside",
            "zeroline": false,
            "zerolinecolor": "rgb(36,36,36)"
           },
           "zaxis": {
            "backgroundcolor": "white",
            "gridcolor": "rgb(232,232,232)",
            "gridwidth": 2,
            "linecolor": "rgb(36,36,36)",
            "showbackground": true,
            "showgrid": false,
            "showline": true,
            "ticks": "outside",
            "zeroline": false,
            "zerolinecolor": "rgb(36,36,36)"
           }
          },
          "shapedefaults": {
           "fillcolor": "black",
           "line": {
            "width": 0
           },
           "opacity": 0.3
          },
          "ternary": {
           "aaxis": {
            "gridcolor": "rgb(232,232,232)",
            "linecolor": "rgb(36,36,36)",
            "showgrid": false,
            "showline": true,
            "ticks": "outside"
           },
           "baxis": {
            "gridcolor": "rgb(232,232,232)",
            "linecolor": "rgb(36,36,36)",
            "showgrid": false,
            "showline": true,
            "ticks": "outside"
           },
           "bgcolor": "white",
           "caxis": {
            "gridcolor": "rgb(232,232,232)",
            "linecolor": "rgb(36,36,36)",
            "showgrid": false,
            "showline": true,
            "ticks": "outside"
           }
          },
          "title": {
           "x": 0.05
          },
          "xaxis": {
           "automargin": true,
           "gridcolor": "rgb(232,232,232)",
           "linecolor": "rgb(36,36,36)",
           "showgrid": false,
           "showline": true,
           "ticks": "outside",
           "title": {
            "standoff": 15
           },
           "zeroline": false,
           "zerolinecolor": "rgb(36,36,36)"
          },
          "yaxis": {
           "automargin": true,
           "gridcolor": "rgb(232,232,232)",
           "linecolor": "rgb(36,36,36)",
           "showgrid": false,
           "showline": true,
           "ticks": "outside",
           "title": {
            "standoff": 15
           },
           "zeroline": false,
           "zerolinecolor": "rgb(36,36,36)"
          }
         }
        },
        "title": {
         "font": {
          "color": "Black",
          "size": 22
         },
         "text": "<b>Documents and Topics</b>",
         "x": 0.5,
         "xanchor": "center",
         "yanchor": "top"
        },
        "width": 1200,
        "xaxis": {
         "visible": false
        },
        "yaxis": {
         "visible": false
        }
       }
      }
     },
     "metadata": {},
     "output_type": "display_data"
    }
   ],
   "source": [
    "reduced_embeddings = UMAP(\n",
    "    n_neighbors=10, n_components=2, min_dist=0.0, metric=\"cosine\"\n",
    ").fit_transform(embeddings)\n",
    "topic_model.visualize_documents(\n",
    "    documents,\n",
    "    reduced_embeddings=reduced_embeddings,\n",
    "    custom_labels=True,\n",
    "    # hide_annotations=True,\n",
    ")"
   ]
  },
  {
   "cell_type": "code",
   "execution_count": 52,
   "id": "1c174d3e",
   "metadata": {},
   "outputs": [
    {
     "data": {
      "text/plain": [
       "(1756, 3072)"
      ]
     },
     "execution_count": 52,
     "metadata": {},
     "output_type": "execute_result"
    }
   ],
   "source": [
    "embeddings.shape"
   ]
  },
  {
   "cell_type": "code",
   "execution_count": null,
   "id": "80649e99",
   "metadata": {},
   "outputs": [],
   "source": []
  },
  {
   "cell_type": "code",
   "execution_count": null,
   "id": "05e888a7",
   "metadata": {},
   "outputs": [],
   "source": []
  }
 ],
 "metadata": {
  "kernelspec": {
   "display_name": ".venv",
   "language": "python",
   "name": "python3"
  },
  "language_info": {
   "codemirror_mode": {
    "name": "ipython",
    "version": 3
   },
   "file_extension": ".py",
   "mimetype": "text/x-python",
   "name": "python",
   "nbconvert_exporter": "python",
   "pygments_lexer": "ipython3",
   "version": "3.10.12"
  }
 },
 "nbformat": 4,
 "nbformat_minor": 5
}
